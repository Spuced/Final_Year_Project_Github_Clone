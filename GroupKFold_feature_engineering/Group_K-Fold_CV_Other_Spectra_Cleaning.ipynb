{
 "cells": [
  {
   "cell_type": "markdown",
   "metadata": {},
   "source": [
    "### **This Notebook Evaluates Group KFold Cross-Validation to Better Measure how the model generalises**"
   ]
  },
  {
   "cell_type": "markdown",
   "metadata": {},
   "source": [
    "Group KFold Cross-Validation prevents spectra from the same Surface appearing within both the training and test folds.\n",
    "\n",
    "This gives a better indication of the model's ability to generalise, as it stops leakage between samples from the same fold."
   ]
  },
  {
   "cell_type": "markdown",
   "metadata": {},
   "source": [
    "Import Libraries"
   ]
  },
  {
   "cell_type": "code",
   "execution_count": 2,
   "metadata": {},
   "outputs": [],
   "source": [
    "import pandas as pd\n",
    "import seaborn as sns\n",
    "import numpy as np\n",
    "from scipy.signal import savgol_filter\n",
    "from scipy import sparse\n",
    "from sklearn.ensemble import ExtraTreesClassifier\n",
    "from sklearn.metrics import accuracy_score\n",
    "from sklearn.model_selection import StratifiedKFold, KFold, GroupKFold\n",
    "from sklearn.model_selection import LeavePGroupsOut"
   ]
  },
  {
   "cell_type": "markdown",
   "metadata": {},
   "source": [
    "Read the spectral data"
   ]
  },
  {
   "cell_type": "code",
   "execution_count": 3,
   "metadata": {},
   "outputs": [],
   "source": [
    "df = pd.read_csv(\"../../data/exosomes.raw_spectrum_1.csv\")"
   ]
  },
  {
   "cell_type": "markdown",
   "metadata": {},
   "source": [
    "Filter the effective range from 380/400 to 1800 cm-1"
   ]
  },
  {
   "cell_type": "code",
   "execution_count": 4,
   "metadata": {},
   "outputs": [
    {
     "data": {
      "text/html": [
       "<div>\n",
       "<style scoped>\n",
       "    .dataframe tbody tr th:only-of-type {\n",
       "        vertical-align: middle;\n",
       "    }\n",
       "\n",
       "    .dataframe tbody tr th {\n",
       "        vertical-align: top;\n",
       "    }\n",
       "\n",
       "    .dataframe thead th {\n",
       "        text-align: right;\n",
       "    }\n",
       "</style>\n",
       "<table border=\"1\" class=\"dataframe\">\n",
       "  <thead>\n",
       "    <tr style=\"text-align: right;\">\n",
       "      <th></th>\n",
       "      <th>SpecID</th>\n",
       "      <th>Seq</th>\n",
       "      <th>WaveNumber</th>\n",
       "      <th>Absorbance</th>\n",
       "      <th>SurID</th>\n",
       "      <th>Status</th>\n",
       "    </tr>\n",
       "  </thead>\n",
       "  <tbody>\n",
       "    <tr>\n",
       "      <th>293</th>\n",
       "      <td>201210-1-00</td>\n",
       "      <td>293</td>\n",
       "      <td>400.22778</td>\n",
       "      <td>1765.6628</td>\n",
       "      <td>201210-1</td>\n",
       "      <td>Normal</td>\n",
       "    </tr>\n",
       "    <tr>\n",
       "      <th>294</th>\n",
       "      <td>201210-1-00</td>\n",
       "      <td>294</td>\n",
       "      <td>400.91116</td>\n",
       "      <td>1774.7809</td>\n",
       "      <td>201210-1</td>\n",
       "      <td>Normal</td>\n",
       "    </tr>\n",
       "    <tr>\n",
       "      <th>295</th>\n",
       "      <td>201210-1-00</td>\n",
       "      <td>295</td>\n",
       "      <td>401.59454</td>\n",
       "      <td>1769.0302</td>\n",
       "      <td>201210-1</td>\n",
       "      <td>Normal</td>\n",
       "    </tr>\n",
       "    <tr>\n",
       "      <th>296</th>\n",
       "      <td>201210-1-00</td>\n",
       "      <td>296</td>\n",
       "      <td>402.27789</td>\n",
       "      <td>1756.4220</td>\n",
       "      <td>201210-1</td>\n",
       "      <td>Normal</td>\n",
       "    </tr>\n",
       "    <tr>\n",
       "      <th>297</th>\n",
       "      <td>201210-1-00</td>\n",
       "      <td>297</td>\n",
       "      <td>402.96127</td>\n",
       "      <td>1758.8690</td>\n",
       "      <td>201210-1</td>\n",
       "      <td>Normal</td>\n",
       "    </tr>\n",
       "    <tr>\n",
       "      <th>...</th>\n",
       "      <td>...</td>\n",
       "      <td>...</td>\n",
       "      <td>...</td>\n",
       "      <td>...</td>\n",
       "      <td>...</td>\n",
       "      <td>...</td>\n",
       "    </tr>\n",
       "    <tr>\n",
       "      <th>8023277</th>\n",
       "      <td>210526-3-09</td>\n",
       "      <td>2337</td>\n",
       "      <td>1797.03870</td>\n",
       "      <td>1617.3926</td>\n",
       "      <td>210526-3</td>\n",
       "      <td>Hyperglycemia</td>\n",
       "    </tr>\n",
       "    <tr>\n",
       "      <th>8023278</th>\n",
       "      <td>210526-3-09</td>\n",
       "      <td>2338</td>\n",
       "      <td>1797.72200</td>\n",
       "      <td>1633.0911</td>\n",
       "      <td>210526-3</td>\n",
       "      <td>Hyperglycemia</td>\n",
       "    </tr>\n",
       "    <tr>\n",
       "      <th>8023279</th>\n",
       "      <td>210526-3-09</td>\n",
       "      <td>2339</td>\n",
       "      <td>1798.40550</td>\n",
       "      <td>1633.3076</td>\n",
       "      <td>210526-3</td>\n",
       "      <td>Hyperglycemia</td>\n",
       "    </tr>\n",
       "    <tr>\n",
       "      <th>8023280</th>\n",
       "      <td>210526-3-09</td>\n",
       "      <td>2340</td>\n",
       "      <td>1799.08890</td>\n",
       "      <td>1641.8665</td>\n",
       "      <td>210526-3</td>\n",
       "      <td>Hyperglycemia</td>\n",
       "    </tr>\n",
       "    <tr>\n",
       "      <th>8023281</th>\n",
       "      <td>210526-3-09</td>\n",
       "      <td>2341</td>\n",
       "      <td>1799.77220</td>\n",
       "      <td>1618.2405</td>\n",
       "      <td>210526-3</td>\n",
       "      <td>Hyperglycemia</td>\n",
       "    </tr>\n",
       "  </tbody>\n",
       "</table>\n",
       "<p>6239205 rows × 6 columns</p>\n",
       "</div>"
      ],
      "text/plain": [
       "              SpecID   Seq  WaveNumber  Absorbance     SurID         Status\n",
       "293      201210-1-00   293   400.22778   1765.6628  201210-1         Normal\n",
       "294      201210-1-00   294   400.91116   1774.7809  201210-1         Normal\n",
       "295      201210-1-00   295   401.59454   1769.0302  201210-1         Normal\n",
       "296      201210-1-00   296   402.27789   1756.4220  201210-1         Normal\n",
       "297      201210-1-00   297   402.96127   1758.8690  201210-1         Normal\n",
       "...              ...   ...         ...         ...       ...            ...\n",
       "8023277  210526-3-09  2337  1797.03870   1617.3926  210526-3  Hyperglycemia\n",
       "8023278  210526-3-09  2338  1797.72200   1633.0911  210526-3  Hyperglycemia\n",
       "8023279  210526-3-09  2339  1798.40550   1633.3076  210526-3  Hyperglycemia\n",
       "8023280  210526-3-09  2340  1799.08890   1641.8665  210526-3  Hyperglycemia\n",
       "8023281  210526-3-09  2341  1799.77220   1618.2405  210526-3  Hyperglycemia\n",
       "\n",
       "[6239205 rows x 6 columns]"
      ]
     },
     "execution_count": 4,
     "metadata": {},
     "output_type": "execute_result"
    }
   ],
   "source": [
    "#df = df[(df['WaveNumber'] >= 320) & (df['WaveNumber'] <= 1800)]\n",
    "#df = df[(df['WaveNumber'] >= 380) & (df['WaveNumber'] <= 1800)]\n",
    "#df = df[(df['WaveNumber'] >= 400) & (df['WaveNumber'] <= 1800)]\n",
    "df = df[(df['WaveNumber'] >= 400) & (df['WaveNumber'] <= 1800)]\n",
    "\n",
    "df"
   ]
  },
  {
   "cell_type": "code",
   "execution_count": 5,
   "metadata": {},
   "outputs": [],
   "source": [
    "#df.to_csv(\"../../data/exosomes.raw_spectrum_400-1800.csv\", index=False)"
   ]
  },
  {
   "cell_type": "code",
   "execution_count": 6,
   "metadata": {},
   "outputs": [
    {
     "data": {
      "text/html": [
       "<div>\n",
       "<style scoped>\n",
       "    .dataframe tbody tr th:only-of-type {\n",
       "        vertical-align: middle;\n",
       "    }\n",
       "\n",
       "    .dataframe tbody tr th {\n",
       "        vertical-align: top;\n",
       "    }\n",
       "\n",
       "    .dataframe thead th {\n",
       "        text-align: right;\n",
       "    }\n",
       "</style>\n",
       "<table border=\"1\" class=\"dataframe\">\n",
       "  <thead>\n",
       "    <tr style=\"text-align: right;\">\n",
       "      <th></th>\n",
       "      <th>SpecID</th>\n",
       "      <th>Seq</th>\n",
       "      <th>WaveNumber</th>\n",
       "      <th>Absorbance</th>\n",
       "      <th>SurID</th>\n",
       "      <th>Status</th>\n",
       "    </tr>\n",
       "  </thead>\n",
       "  <tbody>\n",
       "    <tr>\n",
       "      <th>293</th>\n",
       "      <td>201210-1-00</td>\n",
       "      <td>293</td>\n",
       "      <td>400.22778</td>\n",
       "      <td>1765.6628</td>\n",
       "      <td>201210-1</td>\n",
       "      <td>Normal</td>\n",
       "    </tr>\n",
       "    <tr>\n",
       "      <th>294</th>\n",
       "      <td>201210-1-00</td>\n",
       "      <td>294</td>\n",
       "      <td>400.91116</td>\n",
       "      <td>1774.7809</td>\n",
       "      <td>201210-1</td>\n",
       "      <td>Normal</td>\n",
       "    </tr>\n",
       "    <tr>\n",
       "      <th>295</th>\n",
       "      <td>201210-1-00</td>\n",
       "      <td>295</td>\n",
       "      <td>401.59454</td>\n",
       "      <td>1769.0302</td>\n",
       "      <td>201210-1</td>\n",
       "      <td>Normal</td>\n",
       "    </tr>\n",
       "    <tr>\n",
       "      <th>296</th>\n",
       "      <td>201210-1-00</td>\n",
       "      <td>296</td>\n",
       "      <td>402.27789</td>\n",
       "      <td>1756.4220</td>\n",
       "      <td>201210-1</td>\n",
       "      <td>Normal</td>\n",
       "    </tr>\n",
       "    <tr>\n",
       "      <th>297</th>\n",
       "      <td>201210-1-00</td>\n",
       "      <td>297</td>\n",
       "      <td>402.96127</td>\n",
       "      <td>1758.8690</td>\n",
       "      <td>201210-1</td>\n",
       "      <td>Normal</td>\n",
       "    </tr>\n",
       "    <tr>\n",
       "      <th>...</th>\n",
       "      <td>...</td>\n",
       "      <td>...</td>\n",
       "      <td>...</td>\n",
       "      <td>...</td>\n",
       "      <td>...</td>\n",
       "      <td>...</td>\n",
       "    </tr>\n",
       "    <tr>\n",
       "      <th>8023277</th>\n",
       "      <td>210526-3-09</td>\n",
       "      <td>2337</td>\n",
       "      <td>1797.03870</td>\n",
       "      <td>1617.3926</td>\n",
       "      <td>210526-3</td>\n",
       "      <td>Hyperglycemia</td>\n",
       "    </tr>\n",
       "    <tr>\n",
       "      <th>8023278</th>\n",
       "      <td>210526-3-09</td>\n",
       "      <td>2338</td>\n",
       "      <td>1797.72200</td>\n",
       "      <td>1633.0911</td>\n",
       "      <td>210526-3</td>\n",
       "      <td>Hyperglycemia</td>\n",
       "    </tr>\n",
       "    <tr>\n",
       "      <th>8023279</th>\n",
       "      <td>210526-3-09</td>\n",
       "      <td>2339</td>\n",
       "      <td>1798.40550</td>\n",
       "      <td>1633.3076</td>\n",
       "      <td>210526-3</td>\n",
       "      <td>Hyperglycemia</td>\n",
       "    </tr>\n",
       "    <tr>\n",
       "      <th>8023280</th>\n",
       "      <td>210526-3-09</td>\n",
       "      <td>2340</td>\n",
       "      <td>1799.08890</td>\n",
       "      <td>1641.8665</td>\n",
       "      <td>210526-3</td>\n",
       "      <td>Hyperglycemia</td>\n",
       "    </tr>\n",
       "    <tr>\n",
       "      <th>8023281</th>\n",
       "      <td>210526-3-09</td>\n",
       "      <td>2341</td>\n",
       "      <td>1799.77220</td>\n",
       "      <td>1618.2405</td>\n",
       "      <td>210526-3</td>\n",
       "      <td>Hyperglycemia</td>\n",
       "    </tr>\n",
       "  </tbody>\n",
       "</table>\n",
       "<p>6239205 rows × 6 columns</p>\n",
       "</div>"
      ],
      "text/plain": [
       "              SpecID   Seq  WaveNumber  Absorbance     SurID         Status\n",
       "293      201210-1-00   293   400.22778   1765.6628  201210-1         Normal\n",
       "294      201210-1-00   294   400.91116   1774.7809  201210-1         Normal\n",
       "295      201210-1-00   295   401.59454   1769.0302  201210-1         Normal\n",
       "296      201210-1-00   296   402.27789   1756.4220  201210-1         Normal\n",
       "297      201210-1-00   297   402.96127   1758.8690  201210-1         Normal\n",
       "...              ...   ...         ...         ...       ...            ...\n",
       "8023277  210526-3-09  2337  1797.03870   1617.3926  210526-3  Hyperglycemia\n",
       "8023278  210526-3-09  2338  1797.72200   1633.0911  210526-3  Hyperglycemia\n",
       "8023279  210526-3-09  2339  1798.40550   1633.3076  210526-3  Hyperglycemia\n",
       "8023280  210526-3-09  2340  1799.08890   1641.8665  210526-3  Hyperglycemia\n",
       "8023281  210526-3-09  2341  1799.77220   1618.2405  210526-3  Hyperglycemia\n",
       "\n",
       "[6239205 rows x 6 columns]"
      ]
     },
     "execution_count": 6,
     "metadata": {},
     "output_type": "execute_result"
    }
   ],
   "source": [
    "df"
   ]
  },
  {
   "cell_type": "code",
   "execution_count": 7,
   "metadata": {},
   "outputs": [
    {
     "name": "stdout",
     "output_type": "stream",
     "text": [
      "<class 'pandas.core.frame.DataFrame'>\n",
      "Index: 6239205 entries, 293 to 8023281\n",
      "Data columns (total 6 columns):\n",
      " #   Column      Dtype  \n",
      "---  ------      -----  \n",
      " 0   SpecID      object \n",
      " 1   Seq         int64  \n",
      " 2   WaveNumber  float64\n",
      " 3   Absorbance  float64\n",
      " 4   SurID       object \n",
      " 5   Status      object \n",
      "dtypes: float64(2), int64(1), object(3)\n",
      "memory usage: 333.2+ MB\n"
     ]
    }
   ],
   "source": [
    "df.info()"
   ]
  },
  {
   "cell_type": "markdown",
   "metadata": {},
   "source": [
    "#### Train an Extra Trees Classifier on the full spectrum."
   ]
  },
  {
   "cell_type": "code",
   "execution_count": 8,
   "metadata": {},
   "outputs": [],
   "source": [
    "def prepare_wavelength_df(df, absorbance_col, status_col='Status'):\n",
    "\n",
    "    # Pivot the DataFrame to get wavelengths as columns and absorbance values\n",
    "    wavelength_df = df.pivot(index='SpecID', columns='WaveNumber', values=absorbance_col).reset_index()\n",
    "    wavelength_df.columns.name = None\n",
    "\n",
    "    # Merge with the statuses based on SpecID\n",
    "    # Include the SurID to perform GroupKFold CV\n",
    "    statuses_and_surface = df[['SpecID', 'SurID', status_col]].drop_duplicates()\n",
    "    wavelength_df = pd.merge(wavelength_df, statuses_and_surface, on='SpecID')\n",
    "\n",
    "    # Set SpecID as the index\n",
    "    wavelength_df = wavelength_df.set_index('SpecID')\n",
    "\n",
    "    return wavelength_df"
   ]
  },
  {
   "cell_type": "code",
   "execution_count": 9,
   "metadata": {},
   "outputs": [],
   "source": [
    "wavelength_df = prepare_wavelength_df(df, 'Absorbance')"
   ]
  },
  {
   "cell_type": "code",
   "execution_count": 10,
   "metadata": {},
   "outputs": [
    {
     "data": {
      "text/html": [
       "<div>\n",
       "<style scoped>\n",
       "    .dataframe tbody tr th:only-of-type {\n",
       "        vertical-align: middle;\n",
       "    }\n",
       "\n",
       "    .dataframe tbody tr th {\n",
       "        vertical-align: top;\n",
       "    }\n",
       "\n",
       "    .dataframe thead th {\n",
       "        text-align: right;\n",
       "    }\n",
       "</style>\n",
       "<table border=\"1\" class=\"dataframe\">\n",
       "  <thead>\n",
       "    <tr style=\"text-align: right;\">\n",
       "      <th></th>\n",
       "      <th>400.22778</th>\n",
       "      <th>400.91116</th>\n",
       "      <th>401.59454</th>\n",
       "      <th>402.27789</th>\n",
       "      <th>402.96127</th>\n",
       "      <th>403.64465</th>\n",
       "      <th>404.32803</th>\n",
       "      <th>405.01138</th>\n",
       "      <th>405.69476</th>\n",
       "      <th>406.37814</th>\n",
       "      <th>...</th>\n",
       "      <th>1794.9886</th>\n",
       "      <th>1795.672</th>\n",
       "      <th>1796.3553</th>\n",
       "      <th>1797.0387</th>\n",
       "      <th>1797.722</th>\n",
       "      <th>1798.4055</th>\n",
       "      <th>1799.0889</th>\n",
       "      <th>1799.7722</th>\n",
       "      <th>SurID</th>\n",
       "      <th>Status</th>\n",
       "    </tr>\n",
       "    <tr>\n",
       "      <th>SpecID</th>\n",
       "      <th></th>\n",
       "      <th></th>\n",
       "      <th></th>\n",
       "      <th></th>\n",
       "      <th></th>\n",
       "      <th></th>\n",
       "      <th></th>\n",
       "      <th></th>\n",
       "      <th></th>\n",
       "      <th></th>\n",
       "      <th></th>\n",
       "      <th></th>\n",
       "      <th></th>\n",
       "      <th></th>\n",
       "      <th></th>\n",
       "      <th></th>\n",
       "      <th></th>\n",
       "      <th></th>\n",
       "      <th></th>\n",
       "      <th></th>\n",
       "      <th></th>\n",
       "    </tr>\n",
       "  </thead>\n",
       "  <tbody>\n",
       "    <tr>\n",
       "      <th>201210-1-00</th>\n",
       "      <td>1765.6628</td>\n",
       "      <td>1774.7809</td>\n",
       "      <td>1769.0302</td>\n",
       "      <td>1756.4220</td>\n",
       "      <td>1758.8690</td>\n",
       "      <td>1763.2300</td>\n",
       "      <td>1745.2285</td>\n",
       "      <td>1773.3534</td>\n",
       "      <td>1774.7166</td>\n",
       "      <td>1753.3281</td>\n",
       "      <td>...</td>\n",
       "      <td>1210.4993</td>\n",
       "      <td>1213.9619</td>\n",
       "      <td>1225.2153</td>\n",
       "      <td>1210.0010</td>\n",
       "      <td>1210.6858</td>\n",
       "      <td>1194.4679</td>\n",
       "      <td>1195.1451</td>\n",
       "      <td>1189.8683</td>\n",
       "      <td>201210-1</td>\n",
       "      <td>Normal</td>\n",
       "    </tr>\n",
       "    <tr>\n",
       "      <th>201210-1-01</th>\n",
       "      <td>1966.9930</td>\n",
       "      <td>1962.4237</td>\n",
       "      <td>1954.5616</td>\n",
       "      <td>1954.3228</td>\n",
       "      <td>1963.0917</td>\n",
       "      <td>1975.0807</td>\n",
       "      <td>1979.3162</td>\n",
       "      <td>1963.4561</td>\n",
       "      <td>1968.4587</td>\n",
       "      <td>1964.0000</td>\n",
       "      <td>...</td>\n",
       "      <td>1382.6973</td>\n",
       "      <td>1363.7004</td>\n",
       "      <td>1360.6210</td>\n",
       "      <td>1354.0477</td>\n",
       "      <td>1353.0381</td>\n",
       "      <td>1353.9978</td>\n",
       "      <td>1361.2426</td>\n",
       "      <td>1370.2874</td>\n",
       "      <td>201210-1</td>\n",
       "      <td>Normal</td>\n",
       "    </tr>\n",
       "    <tr>\n",
       "      <th>201210-1-02</th>\n",
       "      <td>2182.6694</td>\n",
       "      <td>2149.6565</td>\n",
       "      <td>2146.0227</td>\n",
       "      <td>2159.3459</td>\n",
       "      <td>2167.2910</td>\n",
       "      <td>2160.9861</td>\n",
       "      <td>2145.6575</td>\n",
       "      <td>2134.2004</td>\n",
       "      <td>2142.8303</td>\n",
       "      <td>2138.6309</td>\n",
       "      <td>...</td>\n",
       "      <td>1976.2070</td>\n",
       "      <td>1989.0183</td>\n",
       "      <td>1996.2838</td>\n",
       "      <td>1979.3507</td>\n",
       "      <td>1976.2002</td>\n",
       "      <td>1994.9839</td>\n",
       "      <td>1974.2030</td>\n",
       "      <td>1971.1880</td>\n",
       "      <td>201210-1</td>\n",
       "      <td>Normal</td>\n",
       "    </tr>\n",
       "    <tr>\n",
       "      <th>201210-1-03</th>\n",
       "      <td>2445.0837</td>\n",
       "      <td>2430.4973</td>\n",
       "      <td>2422.7927</td>\n",
       "      <td>2434.3433</td>\n",
       "      <td>2454.9700</td>\n",
       "      <td>2462.8245</td>\n",
       "      <td>2454.7007</td>\n",
       "      <td>2467.7329</td>\n",
       "      <td>2449.5161</td>\n",
       "      <td>2421.3474</td>\n",
       "      <td>...</td>\n",
       "      <td>1992.3817</td>\n",
       "      <td>2022.6331</td>\n",
       "      <td>2001.8311</td>\n",
       "      <td>2010.0946</td>\n",
       "      <td>2006.4933</td>\n",
       "      <td>2017.2891</td>\n",
       "      <td>2038.1699</td>\n",
       "      <td>2000.6475</td>\n",
       "      <td>201210-1</td>\n",
       "      <td>Normal</td>\n",
       "    </tr>\n",
       "    <tr>\n",
       "      <th>201210-1-04</th>\n",
       "      <td>2250.4536</td>\n",
       "      <td>2248.6235</td>\n",
       "      <td>2245.0984</td>\n",
       "      <td>2242.7173</td>\n",
       "      <td>2235.2803</td>\n",
       "      <td>2228.9585</td>\n",
       "      <td>2236.0095</td>\n",
       "      <td>2229.6091</td>\n",
       "      <td>2225.9231</td>\n",
       "      <td>2211.0359</td>\n",
       "      <td>...</td>\n",
       "      <td>2009.0385</td>\n",
       "      <td>1953.3303</td>\n",
       "      <td>1963.5698</td>\n",
       "      <td>1964.5299</td>\n",
       "      <td>1969.5634</td>\n",
       "      <td>1986.6266</td>\n",
       "      <td>1970.1484</td>\n",
       "      <td>2007.0848</td>\n",
       "      <td>201210-1</td>\n",
       "      <td>Normal</td>\n",
       "    </tr>\n",
       "  </tbody>\n",
       "</table>\n",
       "<p>5 rows × 2051 columns</p>\n",
       "</div>"
      ],
      "text/plain": [
       "             400.22778  400.91116  401.59454  402.27789  402.96127  403.64465  \\\n",
       "SpecID                                                                          \n",
       "201210-1-00  1765.6628  1774.7809  1769.0302  1756.4220  1758.8690  1763.2300   \n",
       "201210-1-01  1966.9930  1962.4237  1954.5616  1954.3228  1963.0917  1975.0807   \n",
       "201210-1-02  2182.6694  2149.6565  2146.0227  2159.3459  2167.2910  2160.9861   \n",
       "201210-1-03  2445.0837  2430.4973  2422.7927  2434.3433  2454.9700  2462.8245   \n",
       "201210-1-04  2250.4536  2248.6235  2245.0984  2242.7173  2235.2803  2228.9585   \n",
       "\n",
       "             404.32803  405.01138  405.69476  406.37814  ...  1794.9886  \\\n",
       "SpecID                                                   ...              \n",
       "201210-1-00  1745.2285  1773.3534  1774.7166  1753.3281  ...  1210.4993   \n",
       "201210-1-01  1979.3162  1963.4561  1968.4587  1964.0000  ...  1382.6973   \n",
       "201210-1-02  2145.6575  2134.2004  2142.8303  2138.6309  ...  1976.2070   \n",
       "201210-1-03  2454.7007  2467.7329  2449.5161  2421.3474  ...  1992.3817   \n",
       "201210-1-04  2236.0095  2229.6091  2225.9231  2211.0359  ...  2009.0385   \n",
       "\n",
       "              1795.672  1796.3553  1797.0387   1797.722  1798.4055  1799.0889  \\\n",
       "SpecID                                                                          \n",
       "201210-1-00  1213.9619  1225.2153  1210.0010  1210.6858  1194.4679  1195.1451   \n",
       "201210-1-01  1363.7004  1360.6210  1354.0477  1353.0381  1353.9978  1361.2426   \n",
       "201210-1-02  1989.0183  1996.2838  1979.3507  1976.2002  1994.9839  1974.2030   \n",
       "201210-1-03  2022.6331  2001.8311  2010.0946  2006.4933  2017.2891  2038.1699   \n",
       "201210-1-04  1953.3303  1963.5698  1964.5299  1969.5634  1986.6266  1970.1484   \n",
       "\n",
       "             1799.7722     SurID  Status  \n",
       "SpecID                                    \n",
       "201210-1-00  1189.8683  201210-1  Normal  \n",
       "201210-1-01  1370.2874  201210-1  Normal  \n",
       "201210-1-02  1971.1880  201210-1  Normal  \n",
       "201210-1-03  2000.6475  201210-1  Normal  \n",
       "201210-1-04  2007.0848  201210-1  Normal  \n",
       "\n",
       "[5 rows x 2051 columns]"
      ]
     },
     "execution_count": 10,
     "metadata": {},
     "output_type": "execute_result"
    }
   ],
   "source": [
    "wavelength_df.head()"
   ]
  },
  {
   "cell_type": "markdown",
   "metadata": {},
   "source": [
    ">**The Count of Surface IDs and the number of associated samples**"
   ]
  },
  {
   "cell_type": "code",
   "execution_count": 11,
   "metadata": {},
   "outputs": [
    {
     "data": {
      "text/plain": [
       "63"
      ]
     },
     "execution_count": 11,
     "metadata": {},
     "output_type": "execute_result"
    }
   ],
   "source": [
    "len(wavelength_df.groupby(['SurID']))"
   ]
  },
  {
   "cell_type": "code",
   "execution_count": 12,
   "metadata": {},
   "outputs": [
    {
     "data": {
      "text/html": [
       "<div>\n",
       "<style scoped>\n",
       "    .dataframe tbody tr th:only-of-type {\n",
       "        vertical-align: middle;\n",
       "    }\n",
       "\n",
       "    .dataframe tbody tr th {\n",
       "        vertical-align: top;\n",
       "    }\n",
       "\n",
       "    .dataframe thead th {\n",
       "        text-align: right;\n",
       "    }\n",
       "</style>\n",
       "<table border=\"1\" class=\"dataframe\">\n",
       "  <thead>\n",
       "    <tr style=\"text-align: right;\">\n",
       "      <th></th>\n",
       "      <th>SurID</th>\n",
       "      <th>Status</th>\n",
       "      <th>Count of Spectra per Surface</th>\n",
       "    </tr>\n",
       "  </thead>\n",
       "  <tbody>\n",
       "    <tr>\n",
       "      <th>0</th>\n",
       "      <td>201210-1</td>\n",
       "      <td>Normal</td>\n",
       "      <td>49</td>\n",
       "    </tr>\n",
       "    <tr>\n",
       "      <th>1</th>\n",
       "      <td>201210-2</td>\n",
       "      <td>Normal</td>\n",
       "      <td>50</td>\n",
       "    </tr>\n",
       "    <tr>\n",
       "      <th>2</th>\n",
       "      <td>210114-1</td>\n",
       "      <td>Normal</td>\n",
       "      <td>50</td>\n",
       "    </tr>\n",
       "    <tr>\n",
       "      <th>3</th>\n",
       "      <td>210114-2</td>\n",
       "      <td>Normal</td>\n",
       "      <td>50</td>\n",
       "    </tr>\n",
       "    <tr>\n",
       "      <th>4</th>\n",
       "      <td>210120-1</td>\n",
       "      <td>Hyperglycemia</td>\n",
       "      <td>50</td>\n",
       "    </tr>\n",
       "    <tr>\n",
       "      <th>...</th>\n",
       "      <td>...</td>\n",
       "      <td>...</td>\n",
       "      <td>...</td>\n",
       "    </tr>\n",
       "    <tr>\n",
       "      <th>58</th>\n",
       "      <td>210519-3</td>\n",
       "      <td>Hyperglycemia</td>\n",
       "      <td>50</td>\n",
       "    </tr>\n",
       "    <tr>\n",
       "      <th>59</th>\n",
       "      <td>210524-1</td>\n",
       "      <td>Hypoglycemia</td>\n",
       "      <td>15</td>\n",
       "    </tr>\n",
       "    <tr>\n",
       "      <th>60</th>\n",
       "      <td>210526-1</td>\n",
       "      <td>Hyperglycemia</td>\n",
       "      <td>50</td>\n",
       "    </tr>\n",
       "    <tr>\n",
       "      <th>61</th>\n",
       "      <td>210526-2</td>\n",
       "      <td>Hyperglycemia</td>\n",
       "      <td>15</td>\n",
       "    </tr>\n",
       "    <tr>\n",
       "      <th>62</th>\n",
       "      <td>210526-3</td>\n",
       "      <td>Hyperglycemia</td>\n",
       "      <td>50</td>\n",
       "    </tr>\n",
       "  </tbody>\n",
       "</table>\n",
       "<p>63 rows × 3 columns</p>\n",
       "</div>"
      ],
      "text/plain": [
       "       SurID         Status  Count of Spectra per Surface\n",
       "0   201210-1         Normal                            49\n",
       "1   201210-2         Normal                            50\n",
       "2   210114-1         Normal                            50\n",
       "3   210114-2         Normal                            50\n",
       "4   210120-1  Hyperglycemia                            50\n",
       "..       ...            ...                           ...\n",
       "58  210519-3  Hyperglycemia                            50\n",
       "59  210524-1   Hypoglycemia                            15\n",
       "60  210526-1  Hyperglycemia                            50\n",
       "61  210526-2  Hyperglycemia                            15\n",
       "62  210526-3  Hyperglycemia                            50\n",
       "\n",
       "[63 rows x 3 columns]"
      ]
     },
     "execution_count": 12,
     "metadata": {},
     "output_type": "execute_result"
    }
   ],
   "source": [
    "wavelength_df.groupby(['SurID', 'Status']).size().reset_index(name='Count of Spectra per Surface')"
   ]
  },
  {
   "cell_type": "markdown",
   "metadata": {},
   "source": [
    "It looks like each Surface is associated with 1 Status"
   ]
  },
  {
   "cell_type": "markdown",
   "metadata": {},
   "source": [
    ">**The Count of Spectra with each Status**"
   ]
  },
  {
   "cell_type": "code",
   "execution_count": 13,
   "metadata": {},
   "outputs": [
    {
     "data": {
      "text/html": [
       "<div>\n",
       "<style scoped>\n",
       "    .dataframe tbody tr th:only-of-type {\n",
       "        vertical-align: middle;\n",
       "    }\n",
       "\n",
       "    .dataframe tbody tr th {\n",
       "        vertical-align: top;\n",
       "    }\n",
       "\n",
       "    .dataframe thead th {\n",
       "        text-align: right;\n",
       "    }\n",
       "</style>\n",
       "<table border=\"1\" class=\"dataframe\">\n",
       "  <thead>\n",
       "    <tr style=\"text-align: right;\">\n",
       "      <th></th>\n",
       "      <th>Status</th>\n",
       "      <th>Spectra Count</th>\n",
       "    </tr>\n",
       "  </thead>\n",
       "  <tbody>\n",
       "    <tr>\n",
       "      <th>0</th>\n",
       "      <td>Hyperglycemia</td>\n",
       "      <td>915</td>\n",
       "    </tr>\n",
       "    <tr>\n",
       "      <th>1</th>\n",
       "      <td>Hypoglycemia</td>\n",
       "      <td>1065</td>\n",
       "    </tr>\n",
       "    <tr>\n",
       "      <th>2</th>\n",
       "      <td>Normal</td>\n",
       "      <td>1065</td>\n",
       "    </tr>\n",
       "  </tbody>\n",
       "</table>\n",
       "</div>"
      ],
      "text/plain": [
       "          Status  Spectra Count\n",
       "0  Hyperglycemia            915\n",
       "1   Hypoglycemia           1065\n",
       "2         Normal           1065"
      ]
     },
     "execution_count": 13,
     "metadata": {},
     "output_type": "execute_result"
    }
   ],
   "source": [
    "df.groupby('Status')['SpecID'].nunique().reset_index(name='Spectra Count')"
   ]
  },
  {
   "cell_type": "markdown",
   "metadata": {},
   "source": [
    ">**The Count of Surfaces with each Status**"
   ]
  },
  {
   "cell_type": "code",
   "execution_count": 14,
   "metadata": {},
   "outputs": [
    {
     "data": {
      "text/html": [
       "<div>\n",
       "<style scoped>\n",
       "    .dataframe tbody tr th:only-of-type {\n",
       "        vertical-align: middle;\n",
       "    }\n",
       "\n",
       "    .dataframe tbody tr th {\n",
       "        vertical-align: top;\n",
       "    }\n",
       "\n",
       "    .dataframe thead th {\n",
       "        text-align: right;\n",
       "    }\n",
       "</style>\n",
       "<table border=\"1\" class=\"dataframe\">\n",
       "  <thead>\n",
       "    <tr style=\"text-align: right;\">\n",
       "      <th></th>\n",
       "      <th>Status</th>\n",
       "      <th>Surface Count</th>\n",
       "    </tr>\n",
       "  </thead>\n",
       "  <tbody>\n",
       "    <tr>\n",
       "      <th>0</th>\n",
       "      <td>Hyperglycemia</td>\n",
       "      <td>19</td>\n",
       "    </tr>\n",
       "    <tr>\n",
       "      <th>1</th>\n",
       "      <td>Hypoglycemia</td>\n",
       "      <td>22</td>\n",
       "    </tr>\n",
       "    <tr>\n",
       "      <th>2</th>\n",
       "      <td>Normal</td>\n",
       "      <td>22</td>\n",
       "    </tr>\n",
       "  </tbody>\n",
       "</table>\n",
       "</div>"
      ],
      "text/plain": [
       "          Status  Surface Count\n",
       "0  Hyperglycemia             19\n",
       "1   Hypoglycemia             22\n",
       "2         Normal             22"
      ]
     },
     "execution_count": 14,
     "metadata": {},
     "output_type": "execute_result"
    }
   ],
   "source": [
    "df.groupby('Status')['SurID'].nunique().reset_index(name='Surface Count')"
   ]
  },
  {
   "cell_type": "markdown",
   "metadata": {},
   "source": [
    ">#### **Train an Extra Trees Classifier on the Raw Spectrum and evaluate it with GroupKFold cross-validation.**"
   ]
  },
  {
   "cell_type": "markdown",
   "metadata": {},
   "source": [
    "Ensures that spectra from the same surface are not contained within the same CV folds out to evaluate the models ability to generalise on independent samples."
   ]
  },
  {
   "cell_type": "code",
   "execution_count": 15,
   "metadata": {},
   "outputs": [],
   "source": [
    "def evaluate_extra_trees(df):\n",
    "\n",
    "    # Set the Surfaces as groups\n",
    "    groups = df['SurID']\n",
    "    X = df.drop(['Status', 'SurID'], axis=1)\n",
    "    y = df['Status']\n",
    "\n",
    "    # Creating the Extra Trees classifier\n",
    "    et = ExtraTreesClassifier(random_state=1234)\n",
    "    \n",
    "    # Using GroupKFold for classification tasks\n",
    "    cv = GroupKFold(n_splits=10)\n",
    "\n",
    "    scores = []\n",
    "    for train_index, test_index in cv.split(X, y, groups):\n",
    "\n",
    "        X_train, X_test = X.iloc[train_index], X.iloc[test_index]\n",
    "        y_train, y_test = y.iloc[train_index], y.iloc[test_index]\n",
    "        \n",
    "        # Train the Extra Trees classifier\n",
    "        et.fit(X_train, y_train)\n",
    "        predictions = et.predict(X_test)\n",
    "        \n",
    "        # Evaluate the model\n",
    "        score = accuracy_score(y_test, predictions)\n",
    "        scores.append(score)\n",
    "    \n",
    "    # Displaying the results\n",
    "    print(f'{et.__class__.__name__} Cross-Validation Accuracy: {np.mean(scores):.4f} +/- {np.std(scores):.4f}')"
   ]
  },
  {
   "cell_type": "code",
   "execution_count": 16,
   "metadata": {},
   "outputs": [
    {
     "name": "stdout",
     "output_type": "stream",
     "text": [
      "ExtraTreesClassifier Cross-Validation Accuracy: 0.5350 +/- 0.1277\n"
     ]
    }
   ],
   "source": [
    "evaluate_extra_trees(wavelength_df)"
   ]
  },
  {
   "cell_type": "markdown",
   "metadata": {},
   "source": [
    ">Scale the absorbances to the highest peak in each spectrum."
   ]
  },
  {
   "cell_type": "code",
   "execution_count": 17,
   "metadata": {},
   "outputs": [],
   "source": [
    "def normalise(absorbances):\n",
    "    max_value = np.max(absorbances)\n",
    "    normalised_absorbances = absorbances / max_value\n",
    "    return normalised_absorbances"
   ]
  },
  {
   "cell_type": "code",
   "execution_count": 18,
   "metadata": {},
   "outputs": [],
   "source": [
    "def vector_normalise(absorbances):\n",
    "    l2_norm = np.sqrt(np.sum(absorbances**2))  # Calculate the euclidean norm\n",
    "    normalised_absorbances = absorbances / l2_norm\n",
    "    return normalised_absorbances"
   ]
  },
  {
   "cell_type": "code",
   "execution_count": 19,
   "metadata": {},
   "outputs": [],
   "source": [
    "def svn_normalise(absorbances):\n",
    "    mean = absorbances.mean()\n",
    "    std = absorbances.std()\n",
    "    return (absorbances - mean) / std"
   ]
  },
  {
   "cell_type": "markdown",
   "metadata": {},
   "source": [
    "> Now see the effect of removing spikes caused by cosmic rays"
   ]
  },
  {
   "cell_type": "markdown",
   "metadata": {},
   "source": [
    "Locate and correct the spikes"
   ]
  },
  {
   "cell_type": "code",
   "execution_count": 20,
   "metadata": {},
   "outputs": [],
   "source": [
    "# # https://towardsdatascience.com/data-science-for-raman-spectroscopy-a-practical-example-e81c56cf25f\n",
    "\n",
    "# def modified_z_score(ys):\n",
    "#     ysb = np.diff(ys) # Differentiated intensity values\n",
    "#     median_y = np.median(ysb) # Median of the intensity values\n",
    "#     median_absolute_deviation_y = np.median([np.abs(y - median_y) for y in ysb]) # median_absolute_deviation of the differentiated intensity values\n",
    "#     modified_z_scores = [0.6745 * (y - median_y) / median_absolute_deviation_y for y in ysb] # median_absolute_deviationmodified z scores\n",
    "#     return modified_z_scores\n",
    "    \n",
    "# # The next function calculates the average values around the point to be replaced.\n",
    "# def fixer(y,ma):\n",
    "#     threshold = 7 # binarisation threshold\n",
    "    \n",
    "#     spikes = abs(np.array(modified_z_score(y))) > threshold\n",
    "#     y_out = y.copy()\n",
    "#     for i in np.arange(len(spikes)):\n",
    "#         if spikes[i] != 0:\n",
    "#             w = np.arange(i-ma,i+1+ma)\n",
    "#             we = w[spikes[w] == 0]\n",
    "#             if len(we) > 0:  # Check if it has at least one valid value\n",
    "#                 y_out[i] = np.mean(y[we])\n",
    "#     return y_out\n",
    "\n",
    "# def despike_group(absorbances):\n",
    "#     absorbance_data = absorbances.to_numpy()\n",
    "#     despiked_absorbance = fixer(absorbance_data, ma=20) # Tuned based on ml performance\n",
    "#     return(despiked_absorbance)\n",
    "\n",
    "# df['Despiked_Absorbance'] = df.groupby('SpecID')['Absorbance'].transform(lambda x: despike_group(x))"
   ]
  },
  {
   "cell_type": "code",
   "execution_count": 21,
   "metadata": {},
   "outputs": [],
   "source": [
    "# # https://towardsdatascience.com/removing-spikes-from-raman-spectra-8a9fdda0ac22\n",
    "\n",
    "# def modified_z_score(intensity):\n",
    "#     median_int = np.median(intensity)\n",
    "#     mad_int = np.median([np.abs(intensity - median_int)])\n",
    "#     modified_z_scores = 0.6745 * (intensity - median_int) / mad_int\n",
    "#     return modified_z_scores\n",
    "    \n",
    "# # The next function calculates the average values around the point to be replaced.\n",
    "# def fixer(y,m):\n",
    "#     threshold = 7 # binarization threshold.\n",
    "#     threshold = 3.5 # binarization threshold. \n",
    "\n",
    "#     spikes = abs(np.array(modified_z_score(np.diff(y)))) > threshold\n",
    "#     y_out = y.copy() # So we don’t overwrite y \n",
    "\n",
    "#     for i in np.arange(len(spikes)):\n",
    "#         if spikes[i] != 0: # If we have an spike in position i\n",
    "#             w = np.arange(i-m,i+1+m) # we select 2 m + 1 points around our spike\n",
    "#             w2 = w[spikes[w] == 0] # From such interval, we choose the ones which are not spikes\n",
    "#             y_out[i] = np.mean(y[w2]) # and we average their values\n",
    "\n",
    "# def despike_group(absorbances):\n",
    "#     absorbance_data = absorbances.to_numpy()\n",
    "#     despiked_absorbance = fixer(absorbance_data, m=20) # Tuned based on ml performance\n",
    "#     return(despiked_absorbance)\n",
    "\n",
    "# df['Despiked_Absorbance'] = df.groupby('SpecID')['Absorbance'].transform(lambda x: despike_group(x))"
   ]
  },
  {
   "cell_type": "code",
   "execution_count": 22,
   "metadata": {},
   "outputs": [],
   "source": [
    "# # Doing this to check the combination\n",
    "# df['Absorbance'] = df.groupby('SpecID')['Absorbance'].transform(lambda x: despike_group(x))"
   ]
  },
  {
   "cell_type": "code",
   "execution_count": 23,
   "metadata": {},
   "outputs": [],
   "source": [
    "#despiked_df = prepare_wavelength_df(df, 'Despiked_Absorbance')"
   ]
  },
  {
   "cell_type": "markdown",
   "metadata": {},
   "source": [
    "This seems to cause a small degradation to performance."
   ]
  },
  {
   "cell_type": "markdown",
   "metadata": {},
   "source": [
    ">Calculate the baseline using Asymmetric Least Squares, then subtract it from the spectrum."
   ]
  },
  {
   "cell_type": "code",
   "execution_count": 24,
   "metadata": {},
   "outputs": [],
   "source": [
    "from pybaselines.whittaker import asls\n",
    "from pybaselines.whittaker import airpls\n",
    "from pybaselines.polynomial import imodpoly\n",
    "\n",
    "def asls_baseline_correction(x, lam, p):\n",
    "        corrected, _ = asls(x, lam=lam, p=p)\n",
    "        #corrected, _ = airpls(x, lam=lam)\n",
    "        return corrected\n",
    "\n",
    "def polyfit_baseline(x):\n",
    "        corrected, _ = imodpoly(x, poly_order=5)\n",
    "        return corrected"
   ]
  },
  {
   "cell_type": "code",
   "execution_count": 25,
   "metadata": {},
   "outputs": [
    {
     "name": "stdout",
     "output_type": "stream",
     "text": [
      "Help on function imodpoly in module pybaselines.polynomial:\n",
      "\n",
      "imodpoly(data, x_data=None, poly_order=2, tol=0.001, max_iter=250, weights=None, use_original=False, mask_initial_peaks=True, return_coef=False, num_std=1)\n",
      "    The improved modofied polynomial (IModPoly) baseline algorithm.\n",
      "    \n",
      "    Parameters\n",
      "    ----------\n",
      "    data : array-like, shape (N,)\n",
      "        The y-values of the measured data, with N data points.\n",
      "    x_data : array-like, shape (N,), optional\n",
      "        The x-values of the measured data. Default is None, which will create an\n",
      "        array from -1 to 1 with N points.\n",
      "    poly_order : int, optional\n",
      "        The polynomial order for fitting the baseline. Default is 2.\n",
      "    tol : float, optional\n",
      "        The exit criteria. Default is 1e-3.\n",
      "    max_iter : int, optional\n",
      "        The maximum number of iterations. Default is 250.\n",
      "    weights : array-like, shape (N,), optional\n",
      "        The weighting array. If None (default), then will be an array with\n",
      "        size equal to N and all values set to 1.\n",
      "    use_original : bool, optional\n",
      "        If False (default), will compare the baseline of each iteration with\n",
      "        the y-values of that iteration [4]_ when choosing minimum values. If True,\n",
      "        will compare the baseline with the original y-values given by `data` [5]_.\n",
      "    mask_initial_peaks : bool, optional\n",
      "        If True (default), will mask any data where the initial baseline fit +\n",
      "        the standard deviation of the residual is less than measured data [6]_.\n",
      "    return_coef : bool, optional\n",
      "        If True, will convert the polynomial coefficients for the fit baseline to\n",
      "        a form that fits the input x_data and return them in the params dictionary.\n",
      "        Default is False, since the conversion takes time.\n",
      "    num_std : float, optional\n",
      "        The number of standard deviations to include when thresholding. Default\n",
      "        is 1.\n",
      "    \n",
      "    Returns\n",
      "    -------\n",
      "    baseline : numpy.ndarray, shape (N,)\n",
      "        The calculated baseline.\n",
      "    params : dict\n",
      "        A dictionary with the following items:\n",
      "    \n",
      "        * 'weights': numpy.ndarray, shape (N,)\n",
      "            The weight array used for fitting the data.\n",
      "        * 'tol_history': numpy.ndarray\n",
      "            An array containing the calculated tolerance values for\n",
      "            each iteration. The length of the array is the number of iterations\n",
      "            completed. If the last value in the array is greater than the input\n",
      "            `tol` value, then the function did not converge.\n",
      "        * 'coef': numpy.ndarray, shape (poly_order + 1,)\n",
      "            Only if `return_coef` is True. The array of polynomial parameters\n",
      "            for the baseline, in increasing order. Can be used to create a\n",
      "            polynomial using :class:`numpy.polynomial.polynomial.Polynomial`.\n",
      "    \n",
      "    Notes\n",
      "    -----\n",
      "    Algorithm originally developed in [6]_.\n",
      "    \n",
      "    References\n",
      "    ----------\n",
      "    .. [4] Gan, F., et al. Baseline correction by improved iterative polynomial\n",
      "           fitting with automatic threshold. Chemometrics and Intelligent\n",
      "           Laboratory Systems, 2006, 82, 59-65.\n",
      "    .. [5] Lieber, C., et al. Automated method for subtraction of fluorescence\n",
      "           from biological raman spectra. Applied Spectroscopy, 2003, 57(11),\n",
      "           1363-1367.\n",
      "    .. [6] Zhao, J., et al. Automated Autofluorescence Background Subtraction\n",
      "           Algorithm for Biomedical Raman Spectroscopy, Applied Spectroscopy,\n",
      "           2007, 61(11), 1225-1232.\n",
      "\n"
     ]
    }
   ],
   "source": [
    "help(imodpoly)"
   ]
  },
  {
   "cell_type": "markdown",
   "metadata": {},
   "source": [
    "The PyBaselines Library Performs this much faster."
   ]
  },
  {
   "cell_type": "markdown",
   "metadata": {},
   "source": [
    "Here is an example on 1 spectrum"
   ]
  },
  {
   "cell_type": "code",
   "execution_count": 26,
   "metadata": {},
   "outputs": [
    {
     "data": {
      "text/html": [
       "<div>\n",
       "<style scoped>\n",
       "    .dataframe tbody tr th:only-of-type {\n",
       "        vertical-align: middle;\n",
       "    }\n",
       "\n",
       "    .dataframe tbody tr th {\n",
       "        vertical-align: top;\n",
       "    }\n",
       "\n",
       "    .dataframe thead th {\n",
       "        text-align: right;\n",
       "    }\n",
       "</style>\n",
       "<table border=\"1\" class=\"dataframe\">\n",
       "  <thead>\n",
       "    <tr style=\"text-align: right;\">\n",
       "      <th></th>\n",
       "      <th>SpecID</th>\n",
       "      <th>Seq</th>\n",
       "      <th>WaveNumber</th>\n",
       "      <th>Absorbance</th>\n",
       "      <th>SurID</th>\n",
       "      <th>Status</th>\n",
       "    </tr>\n",
       "  </thead>\n",
       "  <tbody>\n",
       "    <tr>\n",
       "      <th>8013328</th>\n",
       "      <td>210526-3-06</td>\n",
       "      <td>293</td>\n",
       "      <td>400.22778</td>\n",
       "      <td>2367.7305</td>\n",
       "      <td>210526-3</td>\n",
       "      <td>Hyperglycemia</td>\n",
       "    </tr>\n",
       "    <tr>\n",
       "      <th>8013329</th>\n",
       "      <td>210526-3-06</td>\n",
       "      <td>294</td>\n",
       "      <td>400.91116</td>\n",
       "      <td>2352.8223</td>\n",
       "      <td>210526-3</td>\n",
       "      <td>Hyperglycemia</td>\n",
       "    </tr>\n",
       "    <tr>\n",
       "      <th>8013330</th>\n",
       "      <td>210526-3-06</td>\n",
       "      <td>295</td>\n",
       "      <td>401.59454</td>\n",
       "      <td>2377.9473</td>\n",
       "      <td>210526-3</td>\n",
       "      <td>Hyperglycemia</td>\n",
       "    </tr>\n",
       "    <tr>\n",
       "      <th>8013331</th>\n",
       "      <td>210526-3-06</td>\n",
       "      <td>296</td>\n",
       "      <td>402.27789</td>\n",
       "      <td>2394.0313</td>\n",
       "      <td>210526-3</td>\n",
       "      <td>Hyperglycemia</td>\n",
       "    </tr>\n",
       "    <tr>\n",
       "      <th>8013332</th>\n",
       "      <td>210526-3-06</td>\n",
       "      <td>297</td>\n",
       "      <td>402.96127</td>\n",
       "      <td>2376.4995</td>\n",
       "      <td>210526-3</td>\n",
       "      <td>Hyperglycemia</td>\n",
       "    </tr>\n",
       "    <tr>\n",
       "      <th>...</th>\n",
       "      <td>...</td>\n",
       "      <td>...</td>\n",
       "      <td>...</td>\n",
       "      <td>...</td>\n",
       "      <td>...</td>\n",
       "      <td>...</td>\n",
       "    </tr>\n",
       "    <tr>\n",
       "      <th>8015372</th>\n",
       "      <td>210526-3-06</td>\n",
       "      <td>2337</td>\n",
       "      <td>1797.03870</td>\n",
       "      <td>1967.4805</td>\n",
       "      <td>210526-3</td>\n",
       "      <td>Hyperglycemia</td>\n",
       "    </tr>\n",
       "    <tr>\n",
       "      <th>8015373</th>\n",
       "      <td>210526-3-06</td>\n",
       "      <td>2338</td>\n",
       "      <td>1797.72200</td>\n",
       "      <td>1965.0815</td>\n",
       "      <td>210526-3</td>\n",
       "      <td>Hyperglycemia</td>\n",
       "    </tr>\n",
       "    <tr>\n",
       "      <th>8015374</th>\n",
       "      <td>210526-3-06</td>\n",
       "      <td>2339</td>\n",
       "      <td>1798.40550</td>\n",
       "      <td>1947.5498</td>\n",
       "      <td>210526-3</td>\n",
       "      <td>Hyperglycemia</td>\n",
       "    </tr>\n",
       "    <tr>\n",
       "      <th>8015375</th>\n",
       "      <td>210526-3-06</td>\n",
       "      <td>2340</td>\n",
       "      <td>1799.08890</td>\n",
       "      <td>1951.8849</td>\n",
       "      <td>210526-3</td>\n",
       "      <td>Hyperglycemia</td>\n",
       "    </tr>\n",
       "    <tr>\n",
       "      <th>8015376</th>\n",
       "      <td>210526-3-06</td>\n",
       "      <td>2341</td>\n",
       "      <td>1799.77220</td>\n",
       "      <td>1953.0166</td>\n",
       "      <td>210526-3</td>\n",
       "      <td>Hyperglycemia</td>\n",
       "    </tr>\n",
       "  </tbody>\n",
       "</table>\n",
       "<p>2049 rows × 6 columns</p>\n",
       "</div>"
      ],
      "text/plain": [
       "              SpecID   Seq  WaveNumber  Absorbance     SurID         Status\n",
       "8013328  210526-3-06   293   400.22778   2367.7305  210526-3  Hyperglycemia\n",
       "8013329  210526-3-06   294   400.91116   2352.8223  210526-3  Hyperglycemia\n",
       "8013330  210526-3-06   295   401.59454   2377.9473  210526-3  Hyperglycemia\n",
       "8013331  210526-3-06   296   402.27789   2394.0313  210526-3  Hyperglycemia\n",
       "8013332  210526-3-06   297   402.96127   2376.4995  210526-3  Hyperglycemia\n",
       "...              ...   ...         ...         ...       ...            ...\n",
       "8015372  210526-3-06  2337  1797.03870   1967.4805  210526-3  Hyperglycemia\n",
       "8015373  210526-3-06  2338  1797.72200   1965.0815  210526-3  Hyperglycemia\n",
       "8015374  210526-3-06  2339  1798.40550   1947.5498  210526-3  Hyperglycemia\n",
       "8015375  210526-3-06  2340  1799.08890   1951.8849  210526-3  Hyperglycemia\n",
       "8015376  210526-3-06  2341  1799.77220   1953.0166  210526-3  Hyperglycemia\n",
       "\n",
       "[2049 rows x 6 columns]"
      ]
     },
     "execution_count": 26,
     "metadata": {},
     "output_type": "execute_result"
    }
   ],
   "source": [
    "sample = df[df['SpecID'] == \"210526-3-06\"]\n",
    "sample"
   ]
  },
  {
   "cell_type": "code",
   "execution_count": 50,
   "metadata": {},
   "outputs": [
    {
     "name": "stderr",
     "output_type": "stream",
     "text": [
      "/tmp/ipykernel_369811/3869353767.py:6: SettingWithCopyWarning: \n",
      "A value is trying to be set on a copy of a slice from a DataFrame.\n",
      "Try using .loc[row_indexer,col_indexer] = value instead\n",
      "\n",
      "See the caveats in the documentation: https://pandas.pydata.org/pandas-docs/stable/user_guide/indexing.html#returning-a-view-versus-a-copy\n",
      "  sample['Baseline'] = sample.groupby('SpecID')['Absorbance'].transform(lambda x: asls_baseline_correction(x, lam=lam, p=p))\n"
     ]
    },
    {
     "data": {
      "text/plain": [
       "<Axes: xlabel='WaveNumber', ylabel='Absorbance'>"
      ]
     },
     "execution_count": 50,
     "metadata": {},
     "output_type": "execute_result"
    },
    {
     "data": {
      "image/png": "[encoded data removed]",
      "text/plain": [
       "<Figure size 640x480 with 1 Axes>"
      ]
     },
     "metadata": {},
     "output_type": "display_data"
    }
   ],
   "source": [
    "lam = 10**7\n",
    "p = 0.3\n",
    "\n",
    "\n",
    "# sample['Baseline'] = sample.groupby('SpecID')['Absorbance'].transform(lambda x: polyfit_baseline(x))\n",
    "sample['Baseline'] = sample.groupby('SpecID')['Absorbance'].transform(lambda x: asls_baseline_correction(x, lam=lam, p=p))\n",
    "sns.lineplot(x=\"WaveNumber\", y=\"Absorbance\", data=sample)\n",
    "sns.lineplot(x=\"WaveNumber\", y=\"Baseline\", data=sample)"
   ]
  },
  {
   "cell_type": "markdown",
   "metadata": {},
   "source": [
    "Subtract the baseline."
   ]
  },
  {
   "cell_type": "code",
   "execution_count": 51,
   "metadata": {},
   "outputs": [
    {
     "name": "stderr",
     "output_type": "stream",
     "text": [
      "/tmp/ipykernel_369811/1303904700.py:1: SettingWithCopyWarning: \n",
      "A value is trying to be set on a copy of a slice from a DataFrame.\n",
      "Try using .loc[row_indexer,col_indexer] = value instead\n",
      "\n",
      "See the caveats in the documentation: https://pandas.pydata.org/pandas-docs/stable/user_guide/indexing.html#returning-a-view-versus-a-copy\n",
      "  sample['Baseline_Corrected_Absorbance'] = sample['Absorbance'] - sample['Baseline']\n"
     ]
    },
    {
     "data": {
      "text/plain": [
       "<Axes: xlabel='WaveNumber', ylabel='Baseline_Corrected_Absorbance'>"
      ]
     },
     "execution_count": 51,
     "metadata": {},
     "output_type": "execute_result"
    },
    {
     "data": {
      "image/png": "[encoded data removed]",
      "text/plain": [
       "<Figure size 640x480 with 1 Axes>"
      ]
     },
     "metadata": {},
     "output_type": "display_data"
    }
   ],
   "source": [
    "sample['Baseline_Corrected_Absorbance'] = sample['Absorbance'] - sample['Baseline']\n",
    "sns.lineplot(x=\"WaveNumber\", y=\"Baseline_Corrected_Absorbance\", data=sample)"
   ]
  },
  {
   "cell_type": "markdown",
   "metadata": {},
   "source": [
    "Remove the noise from the spectra using Savitzky–Golay-filtering on the raw spectrum."
   ]
  },
  {
   "cell_type": "code",
   "execution_count": 52,
   "metadata": {},
   "outputs": [
    {
     "name": "stderr",
     "output_type": "stream",
     "text": [
      "/tmp/ipykernel_369811/2581658110.py:6: SettingWithCopyWarning: \n",
      "A value is trying to be set on a copy of a slice from a DataFrame.\n",
      "Try using .loc[row_indexer,col_indexer] = value instead\n",
      "\n",
      "See the caveats in the documentation: https://pandas.pydata.org/pandas-docs/stable/user_guide/indexing.html#returning-a-view-versus-a-copy\n",
      "  sample['Smoothed_Absorbance'] = sample.groupby('SpecID')['Absorbance'].transform(lambda x: savgol_filter(x, window_size, poly_order, deriv=0))\n"
     ]
    },
    {
     "data": {
      "text/plain": [
       "<Axes: xlabel='WaveNumber', ylabel='Smoothed_Absorbance'>"
      ]
     },
     "execution_count": 52,
     "metadata": {},
     "output_type": "execute_result"
    },
    {
     "data": {
      "image/png": "[encoded data removed]",
      "text/plain": [
       "<Figure size 640x480 with 1 Axes>"
      ]
     },
     "metadata": {},
     "output_type": "display_data"
    }
   ],
   "source": [
    "# Set the window size and polynomial order for the Savitzky-Golay filter\n",
    "window_size = 21\n",
    "poly_order = 2\n",
    "\n",
    "# Apply Savitzky-Golay filter to smooth the Absorbance values\n",
    "sample['Smoothed_Absorbance'] = sample.groupby('SpecID')['Absorbance'].transform(lambda x: savgol_filter(x, window_size, poly_order, deriv=0))\n",
    "sns.lineplot(x=\"WaveNumber\", y=\"Smoothed_Absorbance\", data=sample)"
   ]
  },
  {
   "cell_type": "markdown",
   "metadata": {},
   "source": [
    "Try it on the Baseline_Corrected_Spectrum"
   ]
  },
  {
   "cell_type": "code",
   "execution_count": 53,
   "metadata": {},
   "outputs": [
    {
     "name": "stderr",
     "output_type": "stream",
     "text": [
      "/tmp/ipykernel_369811/1425479424.py:2: SettingWithCopyWarning: \n",
      "A value is trying to be set on a copy of a slice from a DataFrame.\n",
      "Try using .loc[row_indexer,col_indexer] = value instead\n",
      "\n",
      "See the caveats in the documentation: https://pandas.pydata.org/pandas-docs/stable/user_guide/indexing.html#returning-a-view-versus-a-copy\n",
      "  sample['Smoothed_Absorbance'] = sample.groupby('SpecID')['Baseline_Corrected_Absorbance'].transform(lambda x: savgol_filter(x, window_size, poly_order, deriv=0))\n"
     ]
    },
    {
     "data": {
      "text/plain": [
       "<Axes: xlabel='WaveNumber', ylabel='Smoothed_Absorbance'>"
      ]
     },
     "execution_count": 53,
     "metadata": {},
     "output_type": "execute_result"
    },
    {
     "data": {
      "image/png": "[encoded data removed]",
      "text/plain": [
       "<Figure size 640x480 with 1 Axes>"
      ]
     },
     "metadata": {},
     "output_type": "display_data"
    }
   ],
   "source": [
    "# Apply Savitzky-Golay filter to smooth the Absorbance values\n",
    "sample['Smoothed_Absorbance'] = sample.groupby('SpecID')['Baseline_Corrected_Absorbance'].transform(lambda x: savgol_filter(x, window_size, poly_order, deriv=0))\n",
    "sns.lineplot(x=\"WaveNumber\", y=\"Smoothed_Absorbance\", data=sample)"
   ]
  },
  {
   "cell_type": "markdown",
   "metadata": {},
   "source": [
    ">Based on hand tuned parameters lets see how they affect the Machine Learning Classification."
   ]
  },
  {
   "cell_type": "code",
   "execution_count": 54,
   "metadata": {},
   "outputs": [],
   "source": [
    "#df['Baseline_Corrected_Absorbance'] = df['Absorbance'] - df.groupby('SpecID')['Absorbance'].transform(lambda x: polyfit_baseline(x))\n",
    "df['Baseline_Corrected_Absorbance'] = df['Absorbance'] - df.groupby('SpecID')['Absorbance'].transform(lambda x: asls_baseline_correction(x, lam=lam, p=p))"
   ]
  },
  {
   "cell_type": "code",
   "execution_count": 55,
   "metadata": {},
   "outputs": [
    {
     "data": {
      "text/html": [
       "<div>\n",
       "<style scoped>\n",
       "    .dataframe tbody tr th:only-of-type {\n",
       "        vertical-align: middle;\n",
       "    }\n",
       "\n",
       "    .dataframe tbody tr th {\n",
       "        vertical-align: top;\n",
       "    }\n",
       "\n",
       "    .dataframe thead th {\n",
       "        text-align: right;\n",
       "    }\n",
       "</style>\n",
       "<table border=\"1\" class=\"dataframe\">\n",
       "  <thead>\n",
       "    <tr style=\"text-align: right;\">\n",
       "      <th></th>\n",
       "      <th>SpecID</th>\n",
       "      <th>Seq</th>\n",
       "      <th>WaveNumber</th>\n",
       "      <th>Absorbance</th>\n",
       "      <th>SurID</th>\n",
       "      <th>Status</th>\n",
       "      <th>Baseline_Corrected_Absorbance</th>\n",
       "      <th>Scaled_Baseline_Corrected</th>\n",
       "      <th>Smoothed_Baseline</th>\n",
       "      <th>Scaled_Smooth_Baseline</th>\n",
       "    </tr>\n",
       "  </thead>\n",
       "  <tbody>\n",
       "    <tr>\n",
       "      <th>293</th>\n",
       "      <td>201210-1-00</td>\n",
       "      <td>293</td>\n",
       "      <td>400.22778</td>\n",
       "      <td>1765.6628</td>\n",
       "      <td>201210-1</td>\n",
       "      <td>Normal</td>\n",
       "      <td>7.525075</td>\n",
       "      <td>0.072587</td>\n",
       "      <td>12.073072</td>\n",
       "      <td>-0.087176</td>\n",
       "    </tr>\n",
       "    <tr>\n",
       "      <th>294</th>\n",
       "      <td>201210-1-00</td>\n",
       "      <td>294</td>\n",
       "      <td>400.91116</td>\n",
       "      <td>1774.7809</td>\n",
       "      <td>201210-1</td>\n",
       "      <td>Normal</td>\n",
       "      <td>16.941166</td>\n",
       "      <td>0.132386</td>\n",
       "      <td>11.963197</td>\n",
       "      <td>-0.091662</td>\n",
       "    </tr>\n",
       "    <tr>\n",
       "      <th>295</th>\n",
       "      <td>201210-1-00</td>\n",
       "      <td>295</td>\n",
       "      <td>401.59454</td>\n",
       "      <td>1769.0302</td>\n",
       "      <td>201210-1</td>\n",
       "      <td>Normal</td>\n",
       "      <td>11.488456</td>\n",
       "      <td>0.097692</td>\n",
       "      <td>11.859525</td>\n",
       "      <td>-0.095895</td>\n",
       "    </tr>\n",
       "    <tr>\n",
       "      <th>296</th>\n",
       "      <td>201210-1-00</td>\n",
       "      <td>296</td>\n",
       "      <td>402.27789</td>\n",
       "      <td>1756.4220</td>\n",
       "      <td>201210-1</td>\n",
       "      <td>Normal</td>\n",
       "      <td>-0.821755</td>\n",
       "      <td>0.019417</td>\n",
       "      <td>11.762056</td>\n",
       "      <td>-0.099874</td>\n",
       "    </tr>\n",
       "    <tr>\n",
       "      <th>297</th>\n",
       "      <td>201210-1-00</td>\n",
       "      <td>297</td>\n",
       "      <td>402.96127</td>\n",
       "      <td>1758.8690</td>\n",
       "      <td>201210-1</td>\n",
       "      <td>Normal</td>\n",
       "      <td>1.923231</td>\n",
       "      <td>0.036821</td>\n",
       "      <td>11.670788</td>\n",
       "      <td>-0.103601</td>\n",
       "    </tr>\n",
       "  </tbody>\n",
       "</table>\n",
       "</div>"
      ],
      "text/plain": [
       "          SpecID  Seq  WaveNumber  Absorbance     SurID  Status  \\\n",
       "293  201210-1-00  293   400.22778   1765.6628  201210-1  Normal   \n",
       "294  201210-1-00  294   400.91116   1774.7809  201210-1  Normal   \n",
       "295  201210-1-00  295   401.59454   1769.0302  201210-1  Normal   \n",
       "296  201210-1-00  296   402.27789   1756.4220  201210-1  Normal   \n",
       "297  201210-1-00  297   402.96127   1758.8690  201210-1  Normal   \n",
       "\n",
       "     Baseline_Corrected_Absorbance  Scaled_Baseline_Corrected  \\\n",
       "293                       7.525075                   0.072587   \n",
       "294                      16.941166                   0.132386   \n",
       "295                      11.488456                   0.097692   \n",
       "296                      -0.821755                   0.019417   \n",
       "297                       1.923231                   0.036821   \n",
       "\n",
       "     Smoothed_Baseline  Scaled_Smooth_Baseline  \n",
       "293          12.073072               -0.087176  \n",
       "294          11.963197               -0.091662  \n",
       "295          11.859525               -0.095895  \n",
       "296          11.762056               -0.099874  \n",
       "297          11.670788               -0.103601  "
      ]
     },
     "execution_count": 55,
     "metadata": {},
     "output_type": "execute_result"
    }
   ],
   "source": [
    "df.head()"
   ]
  },
  {
   "cell_type": "code",
   "execution_count": 56,
   "metadata": {},
   "outputs": [],
   "source": [
    "baseline_corrected_df = prepare_wavelength_df(df, 'Baseline_Corrected_Absorbance')"
   ]
  },
  {
   "cell_type": "code",
   "execution_count": 57,
   "metadata": {},
   "outputs": [
    {
     "data": {
      "text/html": [
       "<div>\n",
       "<style scoped>\n",
       "    .dataframe tbody tr th:only-of-type {\n",
       "        vertical-align: middle;\n",
       "    }\n",
       "\n",
       "    .dataframe tbody tr th {\n",
       "        vertical-align: top;\n",
       "    }\n",
       "\n",
       "    .dataframe thead th {\n",
       "        text-align: right;\n",
       "    }\n",
       "</style>\n",
       "<table border=\"1\" class=\"dataframe\">\n",
       "  <thead>\n",
       "    <tr style=\"text-align: right;\">\n",
       "      <th></th>\n",
       "      <th>400.22778</th>\n",
       "      <th>400.91116</th>\n",
       "      <th>401.59454</th>\n",
       "      <th>402.27789</th>\n",
       "      <th>402.96127</th>\n",
       "      <th>403.64465</th>\n",
       "      <th>404.32803</th>\n",
       "      <th>405.01138</th>\n",
       "      <th>405.69476</th>\n",
       "      <th>406.37814</th>\n",
       "      <th>...</th>\n",
       "      <th>1794.9886</th>\n",
       "      <th>1795.672</th>\n",
       "      <th>1796.3553</th>\n",
       "      <th>1797.0387</th>\n",
       "      <th>1797.722</th>\n",
       "      <th>1798.4055</th>\n",
       "      <th>1799.0889</th>\n",
       "      <th>1799.7722</th>\n",
       "      <th>SurID</th>\n",
       "      <th>Status</th>\n",
       "    </tr>\n",
       "    <tr>\n",
       "      <th>SpecID</th>\n",
       "      <th></th>\n",
       "      <th></th>\n",
       "      <th></th>\n",
       "      <th></th>\n",
       "      <th></th>\n",
       "      <th></th>\n",
       "      <th></th>\n",
       "      <th></th>\n",
       "      <th></th>\n",
       "      <th></th>\n",
       "      <th></th>\n",
       "      <th></th>\n",
       "      <th></th>\n",
       "      <th></th>\n",
       "      <th></th>\n",
       "      <th></th>\n",
       "      <th></th>\n",
       "      <th></th>\n",
       "      <th></th>\n",
       "      <th></th>\n",
       "      <th></th>\n",
       "    </tr>\n",
       "  </thead>\n",
       "  <tbody>\n",
       "    <tr>\n",
       "      <th>201210-1-00</th>\n",
       "      <td>7.525075</td>\n",
       "      <td>16.941166</td>\n",
       "      <td>11.488456</td>\n",
       "      <td>-0.821755</td>\n",
       "      <td>1.923231</td>\n",
       "      <td>6.582215</td>\n",
       "      <td>-11.121305</td>\n",
       "      <td>17.301569</td>\n",
       "      <td>18.962738</td>\n",
       "      <td>-2.127801</td>\n",
       "      <td>...</td>\n",
       "      <td>12.095768</td>\n",
       "      <td>16.228948</td>\n",
       "      <td>28.152926</td>\n",
       "      <td>13.609205</td>\n",
       "      <td>14.964584</td>\n",
       "      <td>-0.582736</td>\n",
       "      <td>0.765044</td>\n",
       "      <td>-3.841175</td>\n",
       "      <td>201210-1</td>\n",
       "      <td>Normal</td>\n",
       "    </tr>\n",
       "    <tr>\n",
       "      <th>201210-1-01</th>\n",
       "      <td>-7.785115</td>\n",
       "      <td>-11.953514</td>\n",
       "      <td>-19.414712</td>\n",
       "      <td>-19.252608</td>\n",
       "      <td>-10.082800</td>\n",
       "      <td>2.307117</td>\n",
       "      <td>6.943547</td>\n",
       "      <td>-8.515604</td>\n",
       "      <td>-3.112032</td>\n",
       "      <td>-7.169733</td>\n",
       "      <td>...</td>\n",
       "      <td>43.113231</td>\n",
       "      <td>24.907155</td>\n",
       "      <td>22.618564</td>\n",
       "      <td>16.836061</td>\n",
       "      <td>16.617250</td>\n",
       "      <td>18.367733</td>\n",
       "      <td>26.403313</td>\n",
       "      <td>36.238892</td>\n",
       "      <td>201210-1</td>\n",
       "      <td>Normal</td>\n",
       "    </tr>\n",
       "    <tr>\n",
       "      <th>201210-1-02</th>\n",
       "      <td>30.640243</td>\n",
       "      <td>-1.955767</td>\n",
       "      <td>-5.172677</td>\n",
       "      <td>8.567411</td>\n",
       "      <td>16.929397</td>\n",
       "      <td>11.041380</td>\n",
       "      <td>-3.870341</td>\n",
       "      <td>-14.910567</td>\n",
       "      <td>-5.863801</td>\n",
       "      <td>-9.646341</td>\n",
       "      <td>...</td>\n",
       "      <td>13.113115</td>\n",
       "      <td>26.818277</td>\n",
       "      <td>34.977627</td>\n",
       "      <td>18.938367</td>\n",
       "      <td>16.681702</td>\n",
       "      <td>36.359233</td>\n",
       "      <td>16.472163</td>\n",
       "      <td>14.350993</td>\n",
       "      <td>201210-1</td>\n",
       "      <td>Normal</td>\n",
       "    </tr>\n",
       "    <tr>\n",
       "      <th>201210-1-03</th>\n",
       "      <td>-3.821892</td>\n",
       "      <td>-17.985016</td>\n",
       "      <td>-25.266340</td>\n",
       "      <td>-13.292463</td>\n",
       "      <td>7.757520</td>\n",
       "      <td>16.035312</td>\n",
       "      <td>8.334817</td>\n",
       "      <td>21.790340</td>\n",
       "      <td>3.996882</td>\n",
       "      <td>-23.748453</td>\n",
       "      <td>...</td>\n",
       "      <td>-5.633534</td>\n",
       "      <td>26.029166</td>\n",
       "      <td>6.638451</td>\n",
       "      <td>16.313225</td>\n",
       "      <td>14.123191</td>\n",
       "      <td>26.330251</td>\n",
       "      <td>48.622310</td>\n",
       "      <td>12.511168</td>\n",
       "      <td>201210-1</td>\n",
       "      <td>Normal</td>\n",
       "    </tr>\n",
       "    <tr>\n",
       "      <th>201210-1-04</th>\n",
       "      <td>19.071352</td>\n",
       "      <td>17.592241</td>\n",
       "      <td>14.418129</td>\n",
       "      <td>12.388016</td>\n",
       "      <td>5.301999</td>\n",
       "      <td>-0.668823</td>\n",
       "      <td>6.733148</td>\n",
       "      <td>0.683709</td>\n",
       "      <td>-2.651340</td>\n",
       "      <td>-17.187604</td>\n",
       "      <td>...</td>\n",
       "      <td>44.038316</td>\n",
       "      <td>-10.393604</td>\n",
       "      <td>1.122161</td>\n",
       "      <td>3.358514</td>\n",
       "      <td>9.668257</td>\n",
       "      <td>28.007694</td>\n",
       "      <td>12.805728</td>\n",
       "      <td>51.018360</td>\n",
       "      <td>201210-1</td>\n",
       "      <td>Normal</td>\n",
       "    </tr>\n",
       "  </tbody>\n",
       "</table>\n",
       "<p>5 rows × 2051 columns</p>\n",
       "</div>"
      ],
      "text/plain": [
       "             400.22778  400.91116  401.59454  402.27789  402.96127  403.64465  \\\n",
       "SpecID                                                                          \n",
       "201210-1-00   7.525075  16.941166  11.488456  -0.821755   1.923231   6.582215   \n",
       "201210-1-01  -7.785115 -11.953514 -19.414712 -19.252608 -10.082800   2.307117   \n",
       "201210-1-02  30.640243  -1.955767  -5.172677   8.567411  16.929397  11.041380   \n",
       "201210-1-03  -3.821892 -17.985016 -25.266340 -13.292463   7.757520  16.035312   \n",
       "201210-1-04  19.071352  17.592241  14.418129  12.388016   5.301999  -0.668823   \n",
       "\n",
       "             404.32803  405.01138  405.69476  406.37814  ...  1794.9886  \\\n",
       "SpecID                                                   ...              \n",
       "201210-1-00 -11.121305  17.301569  18.962738  -2.127801  ...  12.095768   \n",
       "201210-1-01   6.943547  -8.515604  -3.112032  -7.169733  ...  43.113231   \n",
       "201210-1-02  -3.870341 -14.910567  -5.863801  -9.646341  ...  13.113115   \n",
       "201210-1-03   8.334817  21.790340   3.996882 -23.748453  ...  -5.633534   \n",
       "201210-1-04   6.733148   0.683709  -2.651340 -17.187604  ...  44.038316   \n",
       "\n",
       "              1795.672  1796.3553  1797.0387   1797.722  1798.4055  1799.0889  \\\n",
       "SpecID                                                                          \n",
       "201210-1-00  16.228948  28.152926  13.609205  14.964584  -0.582736   0.765044   \n",
       "201210-1-01  24.907155  22.618564  16.836061  16.617250  18.367733  26.403313   \n",
       "201210-1-02  26.818277  34.977627  18.938367  16.681702  36.359233  16.472163   \n",
       "201210-1-03  26.029166   6.638451  16.313225  14.123191  26.330251  48.622310   \n",
       "201210-1-04 -10.393604   1.122161   3.358514   9.668257  28.007694  12.805728   \n",
       "\n",
       "             1799.7722     SurID  Status  \n",
       "SpecID                                    \n",
       "201210-1-00  -3.841175  201210-1  Normal  \n",
       "201210-1-01  36.238892  201210-1  Normal  \n",
       "201210-1-02  14.350993  201210-1  Normal  \n",
       "201210-1-03  12.511168  201210-1  Normal  \n",
       "201210-1-04  51.018360  201210-1  Normal  \n",
       "\n",
       "[5 rows x 2051 columns]"
      ]
     },
     "execution_count": 57,
     "metadata": {},
     "output_type": "execute_result"
    }
   ],
   "source": [
    "baseline_corrected_df.head()"
   ]
  },
  {
   "cell_type": "code",
   "execution_count": 58,
   "metadata": {},
   "outputs": [
    {
     "name": "stdout",
     "output_type": "stream",
     "text": [
      "ExtraTreesClassifier Cross-Validation Accuracy: 0.5511 +/- 0.1339\n"
     ]
    }
   ],
   "source": [
    "evaluate_extra_trees(baseline_corrected_df)"
   ]
  },
  {
   "cell_type": "markdown",
   "metadata": {},
   "source": [
    "Scale the Baseline Corrected Absorbances to the highest peak."
   ]
  },
  {
   "cell_type": "code",
   "execution_count": 59,
   "metadata": {},
   "outputs": [],
   "source": [
    "df['Scaled_Baseline_Corrected'] = df.groupby('SpecID')['Baseline_Corrected_Absorbance'].transform(lambda x: normalise(x))"
   ]
  },
  {
   "cell_type": "code",
   "execution_count": 60,
   "metadata": {},
   "outputs": [],
   "source": [
    "scaled_baseline_df = prepare_wavelength_df(df, 'Scaled_Baseline_Corrected')"
   ]
  },
  {
   "cell_type": "markdown",
   "metadata": {},
   "source": [
    "> Lets try 2 different Savitsky Golay Approaches on the Raw and Baseline Corrected Spectra with and without scaling"
   ]
  },
  {
   "cell_type": "markdown",
   "metadata": {},
   "source": [
    "Try this on the baseline corrected spectra."
   ]
  },
  {
   "cell_type": "code",
   "execution_count": 61,
   "metadata": {},
   "outputs": [],
   "source": [
    "# Set the window size and polynomial order for the Savitzky-Golay filter\n",
    "window_size = 21\n",
    "poly_order = 2\n",
    "\n",
    "# Apply Savitzky-Golay filter to smooth the Absorbance values\n",
    "df['Smoothed_Baseline'] = df.groupby('SpecID')['Baseline_Corrected_Absorbance'].transform(lambda x: savgol_filter(x, window_size, poly_order, deriv=0))"
   ]
  },
  {
   "cell_type": "code",
   "execution_count": 62,
   "metadata": {},
   "outputs": [],
   "source": [
    "smooth_baseline = prepare_wavelength_df(df, 'Smoothed_Baseline')"
   ]
  },
  {
   "cell_type": "code",
   "execution_count": 63,
   "metadata": {},
   "outputs": [
    {
     "name": "stdout",
     "output_type": "stream",
     "text": [
      "ExtraTreesClassifier Cross-Validation Accuracy: 0.5735 +/- 0.1292\n"
     ]
    }
   ],
   "source": [
    "evaluate_extra_trees(smooth_baseline)"
   ]
  },
  {
   "cell_type": "code",
   "execution_count": 64,
   "metadata": {},
   "outputs": [],
   "source": [
    "df['Scaled_Smooth_Baseline'] = df.groupby('SpecID')['Smoothed_Baseline'].transform(lambda x: normalise(x))"
   ]
  },
  {
   "cell_type": "code",
   "execution_count": 65,
   "metadata": {},
   "outputs": [],
   "source": [
    "scaled_smooth_baseline = prepare_wavelength_df(df, 'Scaled_Smooth_Baseline')"
   ]
  },
  {
   "cell_type": "code",
   "execution_count": 66,
   "metadata": {},
   "outputs": [
    {
     "name": "stdout",
     "output_type": "stream",
     "text": [
      "ExtraTreesClassifier Cross-Validation Accuracy: 0.5558 +/- 0.1105\n"
     ]
    }
   ],
   "source": [
    "evaluate_extra_trees(scaled_smooth_baseline)"
   ]
  },
  {
   "cell_type": "code",
   "execution_count": 67,
   "metadata": {},
   "outputs": [],
   "source": [
    "df['Scaled_Smooth_Baseline'] = df.groupby('SpecID')['Smoothed_Baseline'].transform(lambda x: vector_normalise(x))"
   ]
  },
  {
   "cell_type": "code",
   "execution_count": 68,
   "metadata": {},
   "outputs": [],
   "source": [
    "scaled_smooth_baseline = prepare_wavelength_df(df, 'Scaled_Smooth_Baseline')"
   ]
  },
  {
   "cell_type": "code",
   "execution_count": 69,
   "metadata": {},
   "outputs": [],
   "source": [
    "evaluate_extra_trees(scaled_smooth_baseline)"
   ]
  },
  {
   "cell_type": "code",
   "execution_count": null,
   "metadata": {},
   "outputs": [],
   "source": [
    "df['Scaled_Smooth_Baseline'] = df.groupby('SpecID')['Smoothed_Baseline'].transform(lambda x: svn_normalise(x))"
   ]
  },
  {
   "cell_type": "code",
   "execution_count": null,
   "metadata": {},
   "outputs": [],
   "source": [
    "scaled_smooth_baseline = prepare_wavelength_df(df, 'Scaled_Smooth_Baseline')"
   ]
  },
  {
   "cell_type": "code",
   "execution_count": null,
   "metadata": {},
   "outputs": [
    {
     "name": "stdout",
     "output_type": "stream",
     "text": [
      "ExtraTreesClassifier Cross-Validation Accuracy: 0.5641 +/- 0.0818\n"
     ]
    }
   ],
   "source": [
    "evaluate_extra_trees(scaled_smooth_baseline)"
   ]
  }
 ],
 "metadata": {
  "kernelspec": {
   "display_name": "Python 3",
   "language": "python",
   "name": "python3"
  },
  "language_info": {
   "codemirror_mode": {
    "name": "ipython",
    "version": 3
   },
   "file_extension": ".py",
   "mimetype": "text/x-python",
   "name": "python",
   "nbconvert_exporter": "python",
   "pygments_lexer": "ipython3",
   "version": "3.10.12"
  }
 },
 "nbformat": 4,
 "nbformat_minor": 2
}
