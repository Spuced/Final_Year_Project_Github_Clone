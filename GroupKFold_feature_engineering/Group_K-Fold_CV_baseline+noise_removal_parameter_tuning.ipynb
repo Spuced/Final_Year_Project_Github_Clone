{
 "cells": [
  {
   "cell_type": "markdown",
   "metadata": {},
   "source": [
    "### **This Notebook Evaluates Group KFold Cross-Validation to Better Measure how the model generalises**"
   ]
  },
  {
   "cell_type": "markdown",
   "metadata": {},
   "source": [
    "Group KFold Cross-Validation prevents spectra from the same Surface appearing within both the training and test folds.\n",
    "\n",
    "This gives a better indication of the model's ability to generalise, as it stops leakage between samples from the same fold."
   ]
  },
  {
   "cell_type": "markdown",
   "metadata": {},
   "source": [
    "Import Libraries"
   ]
  },
  {
   "cell_type": "code",
   "execution_count": 129,
   "metadata": {},
   "outputs": [],
   "source": [
    "import pandas as pd\n",
    "import seaborn as sns\n",
    "import numpy as np\n",
    "from scipy.signal import savgol_filter\n",
    "from scipy import sparse\n",
    "from scipy.sparse.linalg import spsolve\n",
    "from sklearn.ensemble import RandomForestClassifier\n",
    "from sklearn.ensemble import ExtraTreesClassifier\n",
    "from sklearn.metrics import accuracy_score, classification_report, confusion_matrix\n",
    "from sklearn.model_selection import cross_val_score\n",
    "from sklearn.model_selection import StratifiedKFold, KFold, GroupKFold\n",
    "from sklearn.model_selection import LeavePGroupsOut"
   ]
  },
  {
   "cell_type": "markdown",
   "metadata": {},
   "source": [
    "Read the spectral data"
   ]
  },
  {
   "cell_type": "code",
   "execution_count": 130,
   "metadata": {},
   "outputs": [],
   "source": [
    "df = pd.read_csv(\"../../data/exosomes.raw_spectrum_1.csv\")"
   ]
  },
  {
   "cell_type": "markdown",
   "metadata": {},
   "source": [
    "Filter the effective range from 380/400 to 1800 cm-1"
   ]
  },
  {
   "cell_type": "code",
   "execution_count": 131,
   "metadata": {},
   "outputs": [
    {
     "data": {
      "text/html": [
       "<div>\n",
       "<style scoped>\n",
       "    .dataframe tbody tr th:only-of-type {\n",
       "        vertical-align: middle;\n",
       "    }\n",
       "\n",
       "    .dataframe tbody tr th {\n",
       "        vertical-align: top;\n",
       "    }\n",
       "\n",
       "    .dataframe thead th {\n",
       "        text-align: right;\n",
       "    }\n",
       "</style>\n",
       "<table border=\"1\" class=\"dataframe\">\n",
       "  <thead>\n",
       "    <tr style=\"text-align: right;\">\n",
       "      <th></th>\n",
       "      <th>SpecID</th>\n",
       "      <th>Seq</th>\n",
       "      <th>WaveNumber</th>\n",
       "      <th>Absorbance</th>\n",
       "      <th>SurID</th>\n",
       "      <th>Status</th>\n",
       "    </tr>\n",
       "  </thead>\n",
       "  <tbody>\n",
       "    <tr>\n",
       "      <th>293</th>\n",
       "      <td>201210-1-00</td>\n",
       "      <td>293</td>\n",
       "      <td>400.22778</td>\n",
       "      <td>1765.6628</td>\n",
       "      <td>201210-1</td>\n",
       "      <td>Normal</td>\n",
       "    </tr>\n",
       "    <tr>\n",
       "      <th>294</th>\n",
       "      <td>201210-1-00</td>\n",
       "      <td>294</td>\n",
       "      <td>400.91116</td>\n",
       "      <td>1774.7809</td>\n",
       "      <td>201210-1</td>\n",
       "      <td>Normal</td>\n",
       "    </tr>\n",
       "    <tr>\n",
       "      <th>295</th>\n",
       "      <td>201210-1-00</td>\n",
       "      <td>295</td>\n",
       "      <td>401.59454</td>\n",
       "      <td>1769.0302</td>\n",
       "      <td>201210-1</td>\n",
       "      <td>Normal</td>\n",
       "    </tr>\n",
       "    <tr>\n",
       "      <th>296</th>\n",
       "      <td>201210-1-00</td>\n",
       "      <td>296</td>\n",
       "      <td>402.27789</td>\n",
       "      <td>1756.4220</td>\n",
       "      <td>201210-1</td>\n",
       "      <td>Normal</td>\n",
       "    </tr>\n",
       "    <tr>\n",
       "      <th>297</th>\n",
       "      <td>201210-1-00</td>\n",
       "      <td>297</td>\n",
       "      <td>402.96127</td>\n",
       "      <td>1758.8690</td>\n",
       "      <td>201210-1</td>\n",
       "      <td>Normal</td>\n",
       "    </tr>\n",
       "    <tr>\n",
       "      <th>...</th>\n",
       "      <td>...</td>\n",
       "      <td>...</td>\n",
       "      <td>...</td>\n",
       "      <td>...</td>\n",
       "      <td>...</td>\n",
       "      <td>...</td>\n",
       "    </tr>\n",
       "    <tr>\n",
       "      <th>8023277</th>\n",
       "      <td>210526-3-09</td>\n",
       "      <td>2337</td>\n",
       "      <td>1797.03870</td>\n",
       "      <td>1617.3926</td>\n",
       "      <td>210526-3</td>\n",
       "      <td>Hyperglycemia</td>\n",
       "    </tr>\n",
       "    <tr>\n",
       "      <th>8023278</th>\n",
       "      <td>210526-3-09</td>\n",
       "      <td>2338</td>\n",
       "      <td>1797.72200</td>\n",
       "      <td>1633.0911</td>\n",
       "      <td>210526-3</td>\n",
       "      <td>Hyperglycemia</td>\n",
       "    </tr>\n",
       "    <tr>\n",
       "      <th>8023279</th>\n",
       "      <td>210526-3-09</td>\n",
       "      <td>2339</td>\n",
       "      <td>1798.40550</td>\n",
       "      <td>1633.3076</td>\n",
       "      <td>210526-3</td>\n",
       "      <td>Hyperglycemia</td>\n",
       "    </tr>\n",
       "    <tr>\n",
       "      <th>8023280</th>\n",
       "      <td>210526-3-09</td>\n",
       "      <td>2340</td>\n",
       "      <td>1799.08890</td>\n",
       "      <td>1641.8665</td>\n",
       "      <td>210526-3</td>\n",
       "      <td>Hyperglycemia</td>\n",
       "    </tr>\n",
       "    <tr>\n",
       "      <th>8023281</th>\n",
       "      <td>210526-3-09</td>\n",
       "      <td>2341</td>\n",
       "      <td>1799.77220</td>\n",
       "      <td>1618.2405</td>\n",
       "      <td>210526-3</td>\n",
       "      <td>Hyperglycemia</td>\n",
       "    </tr>\n",
       "  </tbody>\n",
       "</table>\n",
       "<p>6239205 rows × 6 columns</p>\n",
       "</div>"
      ],
      "text/plain": [
       "              SpecID   Seq  WaveNumber  Absorbance     SurID         Status\n",
       "293      201210-1-00   293   400.22778   1765.6628  201210-1         Normal\n",
       "294      201210-1-00   294   400.91116   1774.7809  201210-1         Normal\n",
       "295      201210-1-00   295   401.59454   1769.0302  201210-1         Normal\n",
       "296      201210-1-00   296   402.27789   1756.4220  201210-1         Normal\n",
       "297      201210-1-00   297   402.96127   1758.8690  201210-1         Normal\n",
       "...              ...   ...         ...         ...       ...            ...\n",
       "8023277  210526-3-09  2337  1797.03870   1617.3926  210526-3  Hyperglycemia\n",
       "8023278  210526-3-09  2338  1797.72200   1633.0911  210526-3  Hyperglycemia\n",
       "8023279  210526-3-09  2339  1798.40550   1633.3076  210526-3  Hyperglycemia\n",
       "8023280  210526-3-09  2340  1799.08890   1641.8665  210526-3  Hyperglycemia\n",
       "8023281  210526-3-09  2341  1799.77220   1618.2405  210526-3  Hyperglycemia\n",
       "\n",
       "[6239205 rows x 6 columns]"
      ]
     },
     "execution_count": 131,
     "metadata": {},
     "output_type": "execute_result"
    }
   ],
   "source": [
    "#df = df[(df['WaveNumber'] >= 320) & (df['WaveNumber'] <= 1800)]\n",
    "#df = df[(df['WaveNumber'] >= 380) & (df['WaveNumber'] <= 1800)]\n",
    "df = df[(df['WaveNumber'] >= 400) & (df['WaveNumber'] <= 1800)]\n",
    "\n",
    "df"
   ]
  },
  {
   "cell_type": "code",
   "execution_count": 132,
   "metadata": {},
   "outputs": [],
   "source": [
    "#df.to_csv(\"../../data/exosomes.raw_spectrum_400-1800.csv\", index=False)"
   ]
  },
  {
   "cell_type": "code",
   "execution_count": 133,
   "metadata": {},
   "outputs": [
    {
     "data": {
      "text/html": [
       "<div>\n",
       "<style scoped>\n",
       "    .dataframe tbody tr th:only-of-type {\n",
       "        vertical-align: middle;\n",
       "    }\n",
       "\n",
       "    .dataframe tbody tr th {\n",
       "        vertical-align: top;\n",
       "    }\n",
       "\n",
       "    .dataframe thead th {\n",
       "        text-align: right;\n",
       "    }\n",
       "</style>\n",
       "<table border=\"1\" class=\"dataframe\">\n",
       "  <thead>\n",
       "    <tr style=\"text-align: right;\">\n",
       "      <th></th>\n",
       "      <th>SpecID</th>\n",
       "      <th>Seq</th>\n",
       "      <th>WaveNumber</th>\n",
       "      <th>Absorbance</th>\n",
       "      <th>SurID</th>\n",
       "      <th>Status</th>\n",
       "    </tr>\n",
       "  </thead>\n",
       "  <tbody>\n",
       "    <tr>\n",
       "      <th>293</th>\n",
       "      <td>201210-1-00</td>\n",
       "      <td>293</td>\n",
       "      <td>400.22778</td>\n",
       "      <td>1765.6628</td>\n",
       "      <td>201210-1</td>\n",
       "      <td>Normal</td>\n",
       "    </tr>\n",
       "    <tr>\n",
       "      <th>294</th>\n",
       "      <td>201210-1-00</td>\n",
       "      <td>294</td>\n",
       "      <td>400.91116</td>\n",
       "      <td>1774.7809</td>\n",
       "      <td>201210-1</td>\n",
       "      <td>Normal</td>\n",
       "    </tr>\n",
       "    <tr>\n",
       "      <th>295</th>\n",
       "      <td>201210-1-00</td>\n",
       "      <td>295</td>\n",
       "      <td>401.59454</td>\n",
       "      <td>1769.0302</td>\n",
       "      <td>201210-1</td>\n",
       "      <td>Normal</td>\n",
       "    </tr>\n",
       "    <tr>\n",
       "      <th>296</th>\n",
       "      <td>201210-1-00</td>\n",
       "      <td>296</td>\n",
       "      <td>402.27789</td>\n",
       "      <td>1756.4220</td>\n",
       "      <td>201210-1</td>\n",
       "      <td>Normal</td>\n",
       "    </tr>\n",
       "    <tr>\n",
       "      <th>297</th>\n",
       "      <td>201210-1-00</td>\n",
       "      <td>297</td>\n",
       "      <td>402.96127</td>\n",
       "      <td>1758.8690</td>\n",
       "      <td>201210-1</td>\n",
       "      <td>Normal</td>\n",
       "    </tr>\n",
       "    <tr>\n",
       "      <th>...</th>\n",
       "      <td>...</td>\n",
       "      <td>...</td>\n",
       "      <td>...</td>\n",
       "      <td>...</td>\n",
       "      <td>...</td>\n",
       "      <td>...</td>\n",
       "    </tr>\n",
       "    <tr>\n",
       "      <th>8023277</th>\n",
       "      <td>210526-3-09</td>\n",
       "      <td>2337</td>\n",
       "      <td>1797.03870</td>\n",
       "      <td>1617.3926</td>\n",
       "      <td>210526-3</td>\n",
       "      <td>Hyperglycemia</td>\n",
       "    </tr>\n",
       "    <tr>\n",
       "      <th>8023278</th>\n",
       "      <td>210526-3-09</td>\n",
       "      <td>2338</td>\n",
       "      <td>1797.72200</td>\n",
       "      <td>1633.0911</td>\n",
       "      <td>210526-3</td>\n",
       "      <td>Hyperglycemia</td>\n",
       "    </tr>\n",
       "    <tr>\n",
       "      <th>8023279</th>\n",
       "      <td>210526-3-09</td>\n",
       "      <td>2339</td>\n",
       "      <td>1798.40550</td>\n",
       "      <td>1633.3076</td>\n",
       "      <td>210526-3</td>\n",
       "      <td>Hyperglycemia</td>\n",
       "    </tr>\n",
       "    <tr>\n",
       "      <th>8023280</th>\n",
       "      <td>210526-3-09</td>\n",
       "      <td>2340</td>\n",
       "      <td>1799.08890</td>\n",
       "      <td>1641.8665</td>\n",
       "      <td>210526-3</td>\n",
       "      <td>Hyperglycemia</td>\n",
       "    </tr>\n",
       "    <tr>\n",
       "      <th>8023281</th>\n",
       "      <td>210526-3-09</td>\n",
       "      <td>2341</td>\n",
       "      <td>1799.77220</td>\n",
       "      <td>1618.2405</td>\n",
       "      <td>210526-3</td>\n",
       "      <td>Hyperglycemia</td>\n",
       "    </tr>\n",
       "  </tbody>\n",
       "</table>\n",
       "<p>6239205 rows × 6 columns</p>\n",
       "</div>"
      ],
      "text/plain": [
       "              SpecID   Seq  WaveNumber  Absorbance     SurID         Status\n",
       "293      201210-1-00   293   400.22778   1765.6628  201210-1         Normal\n",
       "294      201210-1-00   294   400.91116   1774.7809  201210-1         Normal\n",
       "295      201210-1-00   295   401.59454   1769.0302  201210-1         Normal\n",
       "296      201210-1-00   296   402.27789   1756.4220  201210-1         Normal\n",
       "297      201210-1-00   297   402.96127   1758.8690  201210-1         Normal\n",
       "...              ...   ...         ...         ...       ...            ...\n",
       "8023277  210526-3-09  2337  1797.03870   1617.3926  210526-3  Hyperglycemia\n",
       "8023278  210526-3-09  2338  1797.72200   1633.0911  210526-3  Hyperglycemia\n",
       "8023279  210526-3-09  2339  1798.40550   1633.3076  210526-3  Hyperglycemia\n",
       "8023280  210526-3-09  2340  1799.08890   1641.8665  210526-3  Hyperglycemia\n",
       "8023281  210526-3-09  2341  1799.77220   1618.2405  210526-3  Hyperglycemia\n",
       "\n",
       "[6239205 rows x 6 columns]"
      ]
     },
     "execution_count": 133,
     "metadata": {},
     "output_type": "execute_result"
    }
   ],
   "source": [
    "df"
   ]
  },
  {
   "cell_type": "code",
   "execution_count": 134,
   "metadata": {},
   "outputs": [
    {
     "data": {
      "text/plain": [
       "array(['201210-1-00', '201210-1-01', '201210-1-02', ..., '210526-3-07',\n",
       "       '210526-3-08', '210526-3-09'], dtype=object)"
      ]
     },
     "execution_count": 134,
     "metadata": {},
     "output_type": "execute_result"
    }
   ],
   "source": [
    "df['SpecID'].unique()"
   ]
  },
  {
   "cell_type": "code",
   "execution_count": 135,
   "metadata": {},
   "outputs": [
    {
     "name": "stdout",
     "output_type": "stream",
     "text": [
      "<class 'pandas.core.frame.DataFrame'>\n",
      "Index: 6239205 entries, 293 to 8023281\n",
      "Data columns (total 6 columns):\n",
      " #   Column      Dtype  \n",
      "---  ------      -----  \n",
      " 0   SpecID      object \n",
      " 1   Seq         int64  \n",
      " 2   WaveNumber  float64\n",
      " 3   Absorbance  float64\n",
      " 4   SurID       object \n",
      " 5   Status      object \n",
      "dtypes: float64(2), int64(1), object(3)\n",
      "memory usage: 333.2+ MB\n"
     ]
    }
   ],
   "source": [
    "df.info()"
   ]
  },
  {
   "cell_type": "markdown",
   "metadata": {},
   "source": [
    "#### Train an Extra Trees Classifier on the full spectrum."
   ]
  },
  {
   "cell_type": "code",
   "execution_count": 136,
   "metadata": {},
   "outputs": [],
   "source": [
    "def prepare_wavelength_df(df, absorbance_col, status_col='Status'):\n",
    "\n",
    "    # Pivot the DataFrame to get wavelengths as columns and absorbance values\n",
    "    wavelength_df = df.pivot(index='SpecID', columns='WaveNumber', values=absorbance_col).reset_index()\n",
    "    wavelength_df.columns.name = None\n",
    "\n",
    "    # Merge with the statuses based on SpecID\n",
    "    # Include the SurID to perform GroupKFold CV\n",
    "    statuses_and_surface = df[['SpecID', 'SurID', status_col]].drop_duplicates()\n",
    "    wavelength_df = pd.merge(wavelength_df, statuses_and_surface, on='SpecID')\n",
    "\n",
    "    # Set SpecID as the index\n",
    "    wavelength_df = wavelength_df.set_index('SpecID')\n",
    "\n",
    "    return wavelength_df"
   ]
  },
  {
   "cell_type": "code",
   "execution_count": 137,
   "metadata": {},
   "outputs": [],
   "source": [
    "wavelength_df = prepare_wavelength_df(df, 'Absorbance')"
   ]
  },
  {
   "cell_type": "code",
   "execution_count": 138,
   "metadata": {},
   "outputs": [
    {
     "data": {
      "text/html": [
       "<div>\n",
       "<style scoped>\n",
       "    .dataframe tbody tr th:only-of-type {\n",
       "        vertical-align: middle;\n",
       "    }\n",
       "\n",
       "    .dataframe tbody tr th {\n",
       "        vertical-align: top;\n",
       "    }\n",
       "\n",
       "    .dataframe thead th {\n",
       "        text-align: right;\n",
       "    }\n",
       "</style>\n",
       "<table border=\"1\" class=\"dataframe\">\n",
       "  <thead>\n",
       "    <tr style=\"text-align: right;\">\n",
       "      <th></th>\n",
       "      <th>400.22778</th>\n",
       "      <th>400.91116</th>\n",
       "      <th>401.59454</th>\n",
       "      <th>402.27789</th>\n",
       "      <th>402.96127</th>\n",
       "      <th>403.64465</th>\n",
       "      <th>404.32803</th>\n",
       "      <th>405.01138</th>\n",
       "      <th>405.69476</th>\n",
       "      <th>406.37814</th>\n",
       "      <th>...</th>\n",
       "      <th>1794.9886</th>\n",
       "      <th>1795.672</th>\n",
       "      <th>1796.3553</th>\n",
       "      <th>1797.0387</th>\n",
       "      <th>1797.722</th>\n",
       "      <th>1798.4055</th>\n",
       "      <th>1799.0889</th>\n",
       "      <th>1799.7722</th>\n",
       "      <th>SurID</th>\n",
       "      <th>Status</th>\n",
       "    </tr>\n",
       "    <tr>\n",
       "      <th>SpecID</th>\n",
       "      <th></th>\n",
       "      <th></th>\n",
       "      <th></th>\n",
       "      <th></th>\n",
       "      <th></th>\n",
       "      <th></th>\n",
       "      <th></th>\n",
       "      <th></th>\n",
       "      <th></th>\n",
       "      <th></th>\n",
       "      <th></th>\n",
       "      <th></th>\n",
       "      <th></th>\n",
       "      <th></th>\n",
       "      <th></th>\n",
       "      <th></th>\n",
       "      <th></th>\n",
       "      <th></th>\n",
       "      <th></th>\n",
       "      <th></th>\n",
       "      <th></th>\n",
       "    </tr>\n",
       "  </thead>\n",
       "  <tbody>\n",
       "    <tr>\n",
       "      <th>201210-1-00</th>\n",
       "      <td>1765.6628</td>\n",
       "      <td>1774.7809</td>\n",
       "      <td>1769.0302</td>\n",
       "      <td>1756.4220</td>\n",
       "      <td>1758.8690</td>\n",
       "      <td>1763.2300</td>\n",
       "      <td>1745.2285</td>\n",
       "      <td>1773.3534</td>\n",
       "      <td>1774.7166</td>\n",
       "      <td>1753.3281</td>\n",
       "      <td>...</td>\n",
       "      <td>1210.4993</td>\n",
       "      <td>1213.9619</td>\n",
       "      <td>1225.2153</td>\n",
       "      <td>1210.0010</td>\n",
       "      <td>1210.6858</td>\n",
       "      <td>1194.4679</td>\n",
       "      <td>1195.1451</td>\n",
       "      <td>1189.8683</td>\n",
       "      <td>201210-1</td>\n",
       "      <td>Normal</td>\n",
       "    </tr>\n",
       "    <tr>\n",
       "      <th>201210-1-01</th>\n",
       "      <td>1966.9930</td>\n",
       "      <td>1962.4237</td>\n",
       "      <td>1954.5616</td>\n",
       "      <td>1954.3228</td>\n",
       "      <td>1963.0917</td>\n",
       "      <td>1975.0807</td>\n",
       "      <td>1979.3162</td>\n",
       "      <td>1963.4561</td>\n",
       "      <td>1968.4587</td>\n",
       "      <td>1964.0000</td>\n",
       "      <td>...</td>\n",
       "      <td>1382.6973</td>\n",
       "      <td>1363.7004</td>\n",
       "      <td>1360.6210</td>\n",
       "      <td>1354.0477</td>\n",
       "      <td>1353.0381</td>\n",
       "      <td>1353.9978</td>\n",
       "      <td>1361.2426</td>\n",
       "      <td>1370.2874</td>\n",
       "      <td>201210-1</td>\n",
       "      <td>Normal</td>\n",
       "    </tr>\n",
       "    <tr>\n",
       "      <th>201210-1-02</th>\n",
       "      <td>2182.6694</td>\n",
       "      <td>2149.6565</td>\n",
       "      <td>2146.0227</td>\n",
       "      <td>2159.3459</td>\n",
       "      <td>2167.2910</td>\n",
       "      <td>2160.9861</td>\n",
       "      <td>2145.6575</td>\n",
       "      <td>2134.2004</td>\n",
       "      <td>2142.8303</td>\n",
       "      <td>2138.6309</td>\n",
       "      <td>...</td>\n",
       "      <td>1976.2070</td>\n",
       "      <td>1989.0183</td>\n",
       "      <td>1996.2838</td>\n",
       "      <td>1979.3507</td>\n",
       "      <td>1976.2002</td>\n",
       "      <td>1994.9839</td>\n",
       "      <td>1974.2030</td>\n",
       "      <td>1971.1880</td>\n",
       "      <td>201210-1</td>\n",
       "      <td>Normal</td>\n",
       "    </tr>\n",
       "    <tr>\n",
       "      <th>201210-1-03</th>\n",
       "      <td>2445.0837</td>\n",
       "      <td>2430.4973</td>\n",
       "      <td>2422.7927</td>\n",
       "      <td>2434.3433</td>\n",
       "      <td>2454.9700</td>\n",
       "      <td>2462.8245</td>\n",
       "      <td>2454.7007</td>\n",
       "      <td>2467.7329</td>\n",
       "      <td>2449.5161</td>\n",
       "      <td>2421.3474</td>\n",
       "      <td>...</td>\n",
       "      <td>1992.3817</td>\n",
       "      <td>2022.6331</td>\n",
       "      <td>2001.8311</td>\n",
       "      <td>2010.0946</td>\n",
       "      <td>2006.4933</td>\n",
       "      <td>2017.2891</td>\n",
       "      <td>2038.1699</td>\n",
       "      <td>2000.6475</td>\n",
       "      <td>201210-1</td>\n",
       "      <td>Normal</td>\n",
       "    </tr>\n",
       "    <tr>\n",
       "      <th>201210-1-04</th>\n",
       "      <td>2250.4536</td>\n",
       "      <td>2248.6235</td>\n",
       "      <td>2245.0984</td>\n",
       "      <td>2242.7173</td>\n",
       "      <td>2235.2803</td>\n",
       "      <td>2228.9585</td>\n",
       "      <td>2236.0095</td>\n",
       "      <td>2229.6091</td>\n",
       "      <td>2225.9231</td>\n",
       "      <td>2211.0359</td>\n",
       "      <td>...</td>\n",
       "      <td>2009.0385</td>\n",
       "      <td>1953.3303</td>\n",
       "      <td>1963.5698</td>\n",
       "      <td>1964.5299</td>\n",
       "      <td>1969.5634</td>\n",
       "      <td>1986.6266</td>\n",
       "      <td>1970.1484</td>\n",
       "      <td>2007.0848</td>\n",
       "      <td>201210-1</td>\n",
       "      <td>Normal</td>\n",
       "    </tr>\n",
       "  </tbody>\n",
       "</table>\n",
       "<p>5 rows × 2051 columns</p>\n",
       "</div>"
      ],
      "text/plain": [
       "             400.22778  400.91116  401.59454  402.27789  402.96127  403.64465  \\\n",
       "SpecID                                                                          \n",
       "201210-1-00  1765.6628  1774.7809  1769.0302  1756.4220  1758.8690  1763.2300   \n",
       "201210-1-01  1966.9930  1962.4237  1954.5616  1954.3228  1963.0917  1975.0807   \n",
       "201210-1-02  2182.6694  2149.6565  2146.0227  2159.3459  2167.2910  2160.9861   \n",
       "201210-1-03  2445.0837  2430.4973  2422.7927  2434.3433  2454.9700  2462.8245   \n",
       "201210-1-04  2250.4536  2248.6235  2245.0984  2242.7173  2235.2803  2228.9585   \n",
       "\n",
       "             404.32803  405.01138  405.69476  406.37814  ...  1794.9886  \\\n",
       "SpecID                                                   ...              \n",
       "201210-1-00  1745.2285  1773.3534  1774.7166  1753.3281  ...  1210.4993   \n",
       "201210-1-01  1979.3162  1963.4561  1968.4587  1964.0000  ...  1382.6973   \n",
       "201210-1-02  2145.6575  2134.2004  2142.8303  2138.6309  ...  1976.2070   \n",
       "201210-1-03  2454.7007  2467.7329  2449.5161  2421.3474  ...  1992.3817   \n",
       "201210-1-04  2236.0095  2229.6091  2225.9231  2211.0359  ...  2009.0385   \n",
       "\n",
       "              1795.672  1796.3553  1797.0387   1797.722  1798.4055  1799.0889  \\\n",
       "SpecID                                                                          \n",
       "201210-1-00  1213.9619  1225.2153  1210.0010  1210.6858  1194.4679  1195.1451   \n",
       "201210-1-01  1363.7004  1360.6210  1354.0477  1353.0381  1353.9978  1361.2426   \n",
       "201210-1-02  1989.0183  1996.2838  1979.3507  1976.2002  1994.9839  1974.2030   \n",
       "201210-1-03  2022.6331  2001.8311  2010.0946  2006.4933  2017.2891  2038.1699   \n",
       "201210-1-04  1953.3303  1963.5698  1964.5299  1969.5634  1986.6266  1970.1484   \n",
       "\n",
       "             1799.7722     SurID  Status  \n",
       "SpecID                                    \n",
       "201210-1-00  1189.8683  201210-1  Normal  \n",
       "201210-1-01  1370.2874  201210-1  Normal  \n",
       "201210-1-02  1971.1880  201210-1  Normal  \n",
       "201210-1-03  2000.6475  201210-1  Normal  \n",
       "201210-1-04  2007.0848  201210-1  Normal  \n",
       "\n",
       "[5 rows x 2051 columns]"
      ]
     },
     "execution_count": 138,
     "metadata": {},
     "output_type": "execute_result"
    }
   ],
   "source": [
    "wavelength_df.head()"
   ]
  },
  {
   "cell_type": "markdown",
   "metadata": {},
   "source": [
    ">**The Count of Surface IDs and the number of associated samples**"
   ]
  },
  {
   "cell_type": "code",
   "execution_count": 139,
   "metadata": {},
   "outputs": [
    {
     "data": {
      "text/plain": [
       "63"
      ]
     },
     "execution_count": 139,
     "metadata": {},
     "output_type": "execute_result"
    }
   ],
   "source": [
    "len(wavelength_df.groupby(['SurID']))"
   ]
  },
  {
   "cell_type": "code",
   "execution_count": 140,
   "metadata": {},
   "outputs": [
    {
     "data": {
      "text/html": [
       "<div>\n",
       "<style scoped>\n",
       "    .dataframe tbody tr th:only-of-type {\n",
       "        vertical-align: middle;\n",
       "    }\n",
       "\n",
       "    .dataframe tbody tr th {\n",
       "        vertical-align: top;\n",
       "    }\n",
       "\n",
       "    .dataframe thead th {\n",
       "        text-align: right;\n",
       "    }\n",
       "</style>\n",
       "<table border=\"1\" class=\"dataframe\">\n",
       "  <thead>\n",
       "    <tr style=\"text-align: right;\">\n",
       "      <th></th>\n",
       "      <th>SurID</th>\n",
       "      <th>Status</th>\n",
       "      <th>Count of Spectra per Surface</th>\n",
       "    </tr>\n",
       "  </thead>\n",
       "  <tbody>\n",
       "    <tr>\n",
       "      <th>0</th>\n",
       "      <td>201210-1</td>\n",
       "      <td>Normal</td>\n",
       "      <td>49</td>\n",
       "    </tr>\n",
       "    <tr>\n",
       "      <th>1</th>\n",
       "      <td>201210-2</td>\n",
       "      <td>Normal</td>\n",
       "      <td>50</td>\n",
       "    </tr>\n",
       "    <tr>\n",
       "      <th>2</th>\n",
       "      <td>210114-1</td>\n",
       "      <td>Normal</td>\n",
       "      <td>50</td>\n",
       "    </tr>\n",
       "    <tr>\n",
       "      <th>3</th>\n",
       "      <td>210114-2</td>\n",
       "      <td>Normal</td>\n",
       "      <td>50</td>\n",
       "    </tr>\n",
       "    <tr>\n",
       "      <th>4</th>\n",
       "      <td>210120-1</td>\n",
       "      <td>Hyperglycemia</td>\n",
       "      <td>50</td>\n",
       "    </tr>\n",
       "    <tr>\n",
       "      <th>...</th>\n",
       "      <td>...</td>\n",
       "      <td>...</td>\n",
       "      <td>...</td>\n",
       "    </tr>\n",
       "    <tr>\n",
       "      <th>58</th>\n",
       "      <td>210519-3</td>\n",
       "      <td>Hyperglycemia</td>\n",
       "      <td>50</td>\n",
       "    </tr>\n",
       "    <tr>\n",
       "      <th>59</th>\n",
       "      <td>210524-1</td>\n",
       "      <td>Hypoglycemia</td>\n",
       "      <td>15</td>\n",
       "    </tr>\n",
       "    <tr>\n",
       "      <th>60</th>\n",
       "      <td>210526-1</td>\n",
       "      <td>Hyperglycemia</td>\n",
       "      <td>50</td>\n",
       "    </tr>\n",
       "    <tr>\n",
       "      <th>61</th>\n",
       "      <td>210526-2</td>\n",
       "      <td>Hyperglycemia</td>\n",
       "      <td>15</td>\n",
       "    </tr>\n",
       "    <tr>\n",
       "      <th>62</th>\n",
       "      <td>210526-3</td>\n",
       "      <td>Hyperglycemia</td>\n",
       "      <td>50</td>\n",
       "    </tr>\n",
       "  </tbody>\n",
       "</table>\n",
       "<p>63 rows × 3 columns</p>\n",
       "</div>"
      ],
      "text/plain": [
       "       SurID         Status  Count of Spectra per Surface\n",
       "0   201210-1         Normal                            49\n",
       "1   201210-2         Normal                            50\n",
       "2   210114-1         Normal                            50\n",
       "3   210114-2         Normal                            50\n",
       "4   210120-1  Hyperglycemia                            50\n",
       "..       ...            ...                           ...\n",
       "58  210519-3  Hyperglycemia                            50\n",
       "59  210524-1   Hypoglycemia                            15\n",
       "60  210526-1  Hyperglycemia                            50\n",
       "61  210526-2  Hyperglycemia                            15\n",
       "62  210526-3  Hyperglycemia                            50\n",
       "\n",
       "[63 rows x 3 columns]"
      ]
     },
     "execution_count": 140,
     "metadata": {},
     "output_type": "execute_result"
    }
   ],
   "source": [
    "wavelength_df.groupby(['SurID', 'Status']).size().reset_index(name='Count of Spectra per Surface')"
   ]
  },
  {
   "cell_type": "markdown",
   "metadata": {},
   "source": [
    "It looks like each Surface is associated with 1 Status"
   ]
  },
  {
   "cell_type": "markdown",
   "metadata": {},
   "source": [
    ">**The Count of Spectra with each Status**"
   ]
  },
  {
   "cell_type": "code",
   "execution_count": 141,
   "metadata": {},
   "outputs": [
    {
     "data": {
      "text/html": [
       "<div>\n",
       "<style scoped>\n",
       "    .dataframe tbody tr th:only-of-type {\n",
       "        vertical-align: middle;\n",
       "    }\n",
       "\n",
       "    .dataframe tbody tr th {\n",
       "        vertical-align: top;\n",
       "    }\n",
       "\n",
       "    .dataframe thead th {\n",
       "        text-align: right;\n",
       "    }\n",
       "</style>\n",
       "<table border=\"1\" class=\"dataframe\">\n",
       "  <thead>\n",
       "    <tr style=\"text-align: right;\">\n",
       "      <th></th>\n",
       "      <th>Status</th>\n",
       "      <th>Spectra Count</th>\n",
       "    </tr>\n",
       "  </thead>\n",
       "  <tbody>\n",
       "    <tr>\n",
       "      <th>0</th>\n",
       "      <td>Hyperglycemia</td>\n",
       "      <td>915</td>\n",
       "    </tr>\n",
       "    <tr>\n",
       "      <th>1</th>\n",
       "      <td>Hypoglycemia</td>\n",
       "      <td>1065</td>\n",
       "    </tr>\n",
       "    <tr>\n",
       "      <th>2</th>\n",
       "      <td>Normal</td>\n",
       "      <td>1065</td>\n",
       "    </tr>\n",
       "  </tbody>\n",
       "</table>\n",
       "</div>"
      ],
      "text/plain": [
       "          Status  Spectra Count\n",
       "0  Hyperglycemia            915\n",
       "1   Hypoglycemia           1065\n",
       "2         Normal           1065"
      ]
     },
     "execution_count": 141,
     "metadata": {},
     "output_type": "execute_result"
    }
   ],
   "source": [
    "df.groupby('Status')['SpecID'].nunique().reset_index(name='Spectra Count')"
   ]
  },
  {
   "cell_type": "markdown",
   "metadata": {},
   "source": [
    ">**The Count of Surfaces with each Status**"
   ]
  },
  {
   "cell_type": "code",
   "execution_count": 142,
   "metadata": {},
   "outputs": [
    {
     "data": {
      "text/html": [
       "<div>\n",
       "<style scoped>\n",
       "    .dataframe tbody tr th:only-of-type {\n",
       "        vertical-align: middle;\n",
       "    }\n",
       "\n",
       "    .dataframe tbody tr th {\n",
       "        vertical-align: top;\n",
       "    }\n",
       "\n",
       "    .dataframe thead th {\n",
       "        text-align: right;\n",
       "    }\n",
       "</style>\n",
       "<table border=\"1\" class=\"dataframe\">\n",
       "  <thead>\n",
       "    <tr style=\"text-align: right;\">\n",
       "      <th></th>\n",
       "      <th>Status</th>\n",
       "      <th>Surface Count</th>\n",
       "    </tr>\n",
       "  </thead>\n",
       "  <tbody>\n",
       "    <tr>\n",
       "      <th>0</th>\n",
       "      <td>Hyperglycemia</td>\n",
       "      <td>19</td>\n",
       "    </tr>\n",
       "    <tr>\n",
       "      <th>1</th>\n",
       "      <td>Hypoglycemia</td>\n",
       "      <td>22</td>\n",
       "    </tr>\n",
       "    <tr>\n",
       "      <th>2</th>\n",
       "      <td>Normal</td>\n",
       "      <td>22</td>\n",
       "    </tr>\n",
       "  </tbody>\n",
       "</table>\n",
       "</div>"
      ],
      "text/plain": [
       "          Status  Surface Count\n",
       "0  Hyperglycemia             19\n",
       "1   Hypoglycemia             22\n",
       "2         Normal             22"
      ]
     },
     "execution_count": 142,
     "metadata": {},
     "output_type": "execute_result"
    }
   ],
   "source": [
    "df.groupby('Status')['SurID'].nunique().reset_index(name='Surface Count')"
   ]
  },
  {
   "cell_type": "markdown",
   "metadata": {},
   "source": [
    ">#### **Train an Extra Trees Classifier on the Raw Spectrum and evaluate it with GroupKFold cross-validation.**"
   ]
  },
  {
   "cell_type": "markdown",
   "metadata": {},
   "source": [
    "Ensures that spectra from the same surface are not contained within the same CV folds out to evaluate the models ability to generalise on independent samples."
   ]
  },
  {
   "cell_type": "code",
   "execution_count": 143,
   "metadata": {},
   "outputs": [],
   "source": [
    "def evaluate_extra_trees(df):\n",
    "\n",
    "    # Set the Surfaces as groups\n",
    "    groups = df['SurID']\n",
    "    X = df.drop(['Status', 'SurID'], axis=1)\n",
    "    y = df['Status']\n",
    "\n",
    "    # Creating the Extra Trees classifier\n",
    "    et = ExtraTreesClassifier(random_state=1234)\n",
    "    \n",
    "    # Using GroupKFold for classification tasks\n",
    "    cv = GroupKFold(n_splits=10)\n",
    "\n",
    "    scores = []\n",
    "    for train_index, test_index in cv.split(X, y, groups):\n",
    "\n",
    "        X_train, X_test = X.iloc[train_index], X.iloc[test_index]\n",
    "        y_train, y_test = y.iloc[train_index], y.iloc[test_index]\n",
    "        \n",
    "        # Train the Extra Trees classifier\n",
    "        et.fit(X_train, y_train)\n",
    "        predictions = et.predict(X_test)\n",
    "        \n",
    "        # Evaluate the model\n",
    "        score = accuracy_score(y_test, predictions)\n",
    "        scores.append(score)\n",
    "    \n",
    "    # Displaying the results\n",
    "    print(f'{et.__class__.__name__} Cross-Validation Accuracy: {np.mean(scores):.4f} +/- {np.std(scores):.4f}')"
   ]
  },
  {
   "cell_type": "code",
   "execution_count": 144,
   "metadata": {},
   "outputs": [
    {
     "name": "stdout",
     "output_type": "stream",
     "text": [
      "ExtraTreesClassifier Cross-Validation Accuracy: 0.5350 +/- 0.1277\n"
     ]
    }
   ],
   "source": [
    "evaluate_extra_trees(wavelength_df)"
   ]
  },
  {
   "cell_type": "markdown",
   "metadata": {},
   "source": [
    ">Scale the absorbances to the highest peak in each spectrum."
   ]
  },
  {
   "cell_type": "code",
   "execution_count": 145,
   "metadata": {},
   "outputs": [],
   "source": [
    "def normalise(absorbances):\n",
    "    max_value = np.max(absorbances)\n",
    "    normalized_absorbances = absorbances / max_value\n",
    "    return normalized_absorbances\n",
    "\n",
    "df['Scaled_Absorbance'] = df.groupby('SpecID')['Absorbance'].transform(lambda x: normalise(x))"
   ]
  },
  {
   "cell_type": "code",
   "execution_count": 146,
   "metadata": {},
   "outputs": [
    {
     "data": {
      "text/html": [
       "<div>\n",
       "<style scoped>\n",
       "    .dataframe tbody tr th:only-of-type {\n",
       "        vertical-align: middle;\n",
       "    }\n",
       "\n",
       "    .dataframe tbody tr th {\n",
       "        vertical-align: top;\n",
       "    }\n",
       "\n",
       "    .dataframe thead th {\n",
       "        text-align: right;\n",
       "    }\n",
       "</style>\n",
       "<table border=\"1\" class=\"dataframe\">\n",
       "  <thead>\n",
       "    <tr style=\"text-align: right;\">\n",
       "      <th></th>\n",
       "      <th>SpecID</th>\n",
       "      <th>Seq</th>\n",
       "      <th>WaveNumber</th>\n",
       "      <th>Absorbance</th>\n",
       "      <th>SurID</th>\n",
       "      <th>Status</th>\n",
       "      <th>Scaled_Absorbance</th>\n",
       "    </tr>\n",
       "  </thead>\n",
       "  <tbody>\n",
       "    <tr>\n",
       "      <th>293</th>\n",
       "      <td>201210-1-00</td>\n",
       "      <td>293</td>\n",
       "      <td>400.22778</td>\n",
       "      <td>1765.6628</td>\n",
       "      <td>201210-1</td>\n",
       "      <td>Normal</td>\n",
       "      <td>0.953424</td>\n",
       "    </tr>\n",
       "    <tr>\n",
       "      <th>294</th>\n",
       "      <td>201210-1-00</td>\n",
       "      <td>294</td>\n",
       "      <td>400.91116</td>\n",
       "      <td>1774.7809</td>\n",
       "      <td>201210-1</td>\n",
       "      <td>Normal</td>\n",
       "      <td>0.958347</td>\n",
       "    </tr>\n",
       "    <tr>\n",
       "      <th>295</th>\n",
       "      <td>201210-1-00</td>\n",
       "      <td>295</td>\n",
       "      <td>401.59454</td>\n",
       "      <td>1769.0302</td>\n",
       "      <td>201210-1</td>\n",
       "      <td>Normal</td>\n",
       "      <td>0.955242</td>\n",
       "    </tr>\n",
       "    <tr>\n",
       "      <th>296</th>\n",
       "      <td>201210-1-00</td>\n",
       "      <td>296</td>\n",
       "      <td>402.27789</td>\n",
       "      <td>1756.4220</td>\n",
       "      <td>201210-1</td>\n",
       "      <td>Normal</td>\n",
       "      <td>0.948434</td>\n",
       "    </tr>\n",
       "    <tr>\n",
       "      <th>297</th>\n",
       "      <td>201210-1-00</td>\n",
       "      <td>297</td>\n",
       "      <td>402.96127</td>\n",
       "      <td>1758.8690</td>\n",
       "      <td>201210-1</td>\n",
       "      <td>Normal</td>\n",
       "      <td>0.949755</td>\n",
       "    </tr>\n",
       "  </tbody>\n",
       "</table>\n",
       "</div>"
      ],
      "text/plain": [
       "          SpecID  Seq  WaveNumber  Absorbance     SurID  Status  \\\n",
       "293  201210-1-00  293   400.22778   1765.6628  201210-1  Normal   \n",
       "294  201210-1-00  294   400.91116   1774.7809  201210-1  Normal   \n",
       "295  201210-1-00  295   401.59454   1769.0302  201210-1  Normal   \n",
       "296  201210-1-00  296   402.27789   1756.4220  201210-1  Normal   \n",
       "297  201210-1-00  297   402.96127   1758.8690  201210-1  Normal   \n",
       "\n",
       "     Scaled_Absorbance  \n",
       "293           0.953424  \n",
       "294           0.958347  \n",
       "295           0.955242  \n",
       "296           0.948434  \n",
       "297           0.949755  "
      ]
     },
     "execution_count": 146,
     "metadata": {},
     "output_type": "execute_result"
    }
   ],
   "source": [
    "df.head()"
   ]
  },
  {
   "cell_type": "code",
   "execution_count": 147,
   "metadata": {},
   "outputs": [],
   "source": [
    "scaled_raw_df = prepare_wavelength_df(df, 'Scaled_Absorbance')"
   ]
  },
  {
   "cell_type": "code",
   "execution_count": 148,
   "metadata": {},
   "outputs": [
    {
     "data": {
      "text/html": [
       "<div>\n",
       "<style scoped>\n",
       "    .dataframe tbody tr th:only-of-type {\n",
       "        vertical-align: middle;\n",
       "    }\n",
       "\n",
       "    .dataframe tbody tr th {\n",
       "        vertical-align: top;\n",
       "    }\n",
       "\n",
       "    .dataframe thead th {\n",
       "        text-align: right;\n",
       "    }\n",
       "</style>\n",
       "<table border=\"1\" class=\"dataframe\">\n",
       "  <thead>\n",
       "    <tr style=\"text-align: right;\">\n",
       "      <th></th>\n",
       "      <th>400.22778</th>\n",
       "      <th>400.91116</th>\n",
       "      <th>401.59454</th>\n",
       "      <th>402.27789</th>\n",
       "      <th>402.96127</th>\n",
       "      <th>403.64465</th>\n",
       "      <th>404.32803</th>\n",
       "      <th>405.01138</th>\n",
       "      <th>405.69476</th>\n",
       "      <th>406.37814</th>\n",
       "      <th>...</th>\n",
       "      <th>1794.9886</th>\n",
       "      <th>1795.672</th>\n",
       "      <th>1796.3553</th>\n",
       "      <th>1797.0387</th>\n",
       "      <th>1797.722</th>\n",
       "      <th>1798.4055</th>\n",
       "      <th>1799.0889</th>\n",
       "      <th>1799.7722</th>\n",
       "      <th>SurID</th>\n",
       "      <th>Status</th>\n",
       "    </tr>\n",
       "    <tr>\n",
       "      <th>SpecID</th>\n",
       "      <th></th>\n",
       "      <th></th>\n",
       "      <th></th>\n",
       "      <th></th>\n",
       "      <th></th>\n",
       "      <th></th>\n",
       "      <th></th>\n",
       "      <th></th>\n",
       "      <th></th>\n",
       "      <th></th>\n",
       "      <th></th>\n",
       "      <th></th>\n",
       "      <th></th>\n",
       "      <th></th>\n",
       "      <th></th>\n",
       "      <th></th>\n",
       "      <th></th>\n",
       "      <th></th>\n",
       "      <th></th>\n",
       "      <th></th>\n",
       "      <th></th>\n",
       "    </tr>\n",
       "  </thead>\n",
       "  <tbody>\n",
       "    <tr>\n",
       "      <th>201210-1-00</th>\n",
       "      <td>0.953424</td>\n",
       "      <td>0.958347</td>\n",
       "      <td>0.955242</td>\n",
       "      <td>0.948434</td>\n",
       "      <td>0.949755</td>\n",
       "      <td>0.952110</td>\n",
       "      <td>0.942389</td>\n",
       "      <td>0.957576</td>\n",
       "      <td>0.958312</td>\n",
       "      <td>0.946763</td>\n",
       "      <td>...</td>\n",
       "      <td>0.653646</td>\n",
       "      <td>0.655516</td>\n",
       "      <td>0.661592</td>\n",
       "      <td>0.653377</td>\n",
       "      <td>0.653747</td>\n",
       "      <td>0.644989</td>\n",
       "      <td>0.645355</td>\n",
       "      <td>0.642506</td>\n",
       "      <td>201210-1</td>\n",
       "      <td>Normal</td>\n",
       "    </tr>\n",
       "    <tr>\n",
       "      <th>201210-1-01</th>\n",
       "      <td>0.966924</td>\n",
       "      <td>0.964678</td>\n",
       "      <td>0.960813</td>\n",
       "      <td>0.960696</td>\n",
       "      <td>0.965006</td>\n",
       "      <td>0.970900</td>\n",
       "      <td>0.972982</td>\n",
       "      <td>0.965186</td>\n",
       "      <td>0.967645</td>\n",
       "      <td>0.965453</td>\n",
       "      <td>...</td>\n",
       "      <td>0.679699</td>\n",
       "      <td>0.670361</td>\n",
       "      <td>0.668847</td>\n",
       "      <td>0.665616</td>\n",
       "      <td>0.665119</td>\n",
       "      <td>0.665591</td>\n",
       "      <td>0.669153</td>\n",
       "      <td>0.673599</td>\n",
       "      <td>201210-1</td>\n",
       "      <td>Normal</td>\n",
       "    </tr>\n",
       "    <tr>\n",
       "      <th>201210-1-02</th>\n",
       "      <td>0.590483</td>\n",
       "      <td>0.581552</td>\n",
       "      <td>0.580569</td>\n",
       "      <td>0.584174</td>\n",
       "      <td>0.586323</td>\n",
       "      <td>0.584617</td>\n",
       "      <td>0.580471</td>\n",
       "      <td>0.577371</td>\n",
       "      <td>0.579706</td>\n",
       "      <td>0.578570</td>\n",
       "      <td>...</td>\n",
       "      <td>0.534629</td>\n",
       "      <td>0.538094</td>\n",
       "      <td>0.540060</td>\n",
       "      <td>0.535479</td>\n",
       "      <td>0.534627</td>\n",
       "      <td>0.539708</td>\n",
       "      <td>0.534086</td>\n",
       "      <td>0.533271</td>\n",
       "      <td>201210-1</td>\n",
       "      <td>Normal</td>\n",
       "    </tr>\n",
       "    <tr>\n",
       "      <th>201210-1-03</th>\n",
       "      <td>0.708234</td>\n",
       "      <td>0.704009</td>\n",
       "      <td>0.701777</td>\n",
       "      <td>0.705123</td>\n",
       "      <td>0.711097</td>\n",
       "      <td>0.713373</td>\n",
       "      <td>0.711019</td>\n",
       "      <td>0.714794</td>\n",
       "      <td>0.709518</td>\n",
       "      <td>0.701358</td>\n",
       "      <td>...</td>\n",
       "      <td>0.577106</td>\n",
       "      <td>0.585868</td>\n",
       "      <td>0.579843</td>\n",
       "      <td>0.582236</td>\n",
       "      <td>0.581193</td>\n",
       "      <td>0.584320</td>\n",
       "      <td>0.590369</td>\n",
       "      <td>0.579500</td>\n",
       "      <td>201210-1</td>\n",
       "      <td>Normal</td>\n",
       "    </tr>\n",
       "    <tr>\n",
       "      <th>201210-1-04</th>\n",
       "      <td>0.915371</td>\n",
       "      <td>0.914627</td>\n",
       "      <td>0.913193</td>\n",
       "      <td>0.912225</td>\n",
       "      <td>0.909200</td>\n",
       "      <td>0.906628</td>\n",
       "      <td>0.909496</td>\n",
       "      <td>0.906893</td>\n",
       "      <td>0.905394</td>\n",
       "      <td>0.899338</td>\n",
       "      <td>...</td>\n",
       "      <td>0.817176</td>\n",
       "      <td>0.794517</td>\n",
       "      <td>0.798681</td>\n",
       "      <td>0.799072</td>\n",
       "      <td>0.801119</td>\n",
       "      <td>0.808060</td>\n",
       "      <td>0.801357</td>\n",
       "      <td>0.816381</td>\n",
       "      <td>201210-1</td>\n",
       "      <td>Normal</td>\n",
       "    </tr>\n",
       "  </tbody>\n",
       "</table>\n",
       "<p>5 rows × 2051 columns</p>\n",
       "</div>"
      ],
      "text/plain": [
       "             400.22778  400.91116  401.59454  402.27789  402.96127  403.64465  \\\n",
       "SpecID                                                                          \n",
       "201210-1-00   0.953424   0.958347   0.955242   0.948434   0.949755   0.952110   \n",
       "201210-1-01   0.966924   0.964678   0.960813   0.960696   0.965006   0.970900   \n",
       "201210-1-02   0.590483   0.581552   0.580569   0.584174   0.586323   0.584617   \n",
       "201210-1-03   0.708234   0.704009   0.701777   0.705123   0.711097   0.713373   \n",
       "201210-1-04   0.915371   0.914627   0.913193   0.912225   0.909200   0.906628   \n",
       "\n",
       "             404.32803  405.01138  405.69476  406.37814  ...  1794.9886  \\\n",
       "SpecID                                                   ...              \n",
       "201210-1-00   0.942389   0.957576   0.958312   0.946763  ...   0.653646   \n",
       "201210-1-01   0.972982   0.965186   0.967645   0.965453  ...   0.679699   \n",
       "201210-1-02   0.580471   0.577371   0.579706   0.578570  ...   0.534629   \n",
       "201210-1-03   0.711019   0.714794   0.709518   0.701358  ...   0.577106   \n",
       "201210-1-04   0.909496   0.906893   0.905394   0.899338  ...   0.817176   \n",
       "\n",
       "             1795.672  1796.3553  1797.0387  1797.722  1798.4055  1799.0889  \\\n",
       "SpecID                                                                        \n",
       "201210-1-00  0.655516   0.661592   0.653377  0.653747   0.644989   0.645355   \n",
       "201210-1-01  0.670361   0.668847   0.665616  0.665119   0.665591   0.669153   \n",
       "201210-1-02  0.538094   0.540060   0.535479  0.534627   0.539708   0.534086   \n",
       "201210-1-03  0.585868   0.579843   0.582236  0.581193   0.584320   0.590369   \n",
       "201210-1-04  0.794517   0.798681   0.799072  0.801119   0.808060   0.801357   \n",
       "\n",
       "             1799.7722     SurID  Status  \n",
       "SpecID                                    \n",
       "201210-1-00   0.642506  201210-1  Normal  \n",
       "201210-1-01   0.673599  201210-1  Normal  \n",
       "201210-1-02   0.533271  201210-1  Normal  \n",
       "201210-1-03   0.579500  201210-1  Normal  \n",
       "201210-1-04   0.816381  201210-1  Normal  \n",
       "\n",
       "[5 rows x 2051 columns]"
      ]
     },
     "execution_count": 148,
     "metadata": {},
     "output_type": "execute_result"
    }
   ],
   "source": [
    "scaled_raw_df.head()"
   ]
  },
  {
   "cell_type": "code",
   "execution_count": 149,
   "metadata": {},
   "outputs": [],
   "source": [
    "#scaled_raw_df.to_csv(\"../../data/scaled_raw_spectra.csv\")"
   ]
  },
  {
   "cell_type": "code",
   "execution_count": 150,
   "metadata": {},
   "outputs": [
    {
     "name": "stdout",
     "output_type": "stream",
     "text": [
      "ExtraTreesClassifier Cross-Validation Accuracy: 0.4987 +/- 0.0945\n"
     ]
    }
   ],
   "source": [
    "evaluate_extra_trees(scaled_raw_df)"
   ]
  },
  {
   "cell_type": "markdown",
   "metadata": {},
   "source": [
    "> Now see the effect of removing spikes caused by cosmic rays"
   ]
  },
  {
   "cell_type": "markdown",
   "metadata": {},
   "source": [
    "Locate and correct the spikes"
   ]
  },
  {
   "cell_type": "code",
   "execution_count": 151,
   "metadata": {},
   "outputs": [],
   "source": [
    "# https://towardsdatascience.com/data-science-for-raman-spectroscopy-a-practical-example-e81c56cf25f\n",
    "\n",
    "def modified_z_score(ys):\n",
    "    ysb = np.diff(ys) # Differentiated intensity values\n",
    "    median_y = np.median(ysb) # Median of the intensity values\n",
    "    median_absolute_deviation_y = np.median([np.abs(y - median_y) for y in ysb]) # median_absolute_deviation of the differentiated intensity values\n",
    "    modified_z_scores = [0.6745 * (y - median_y) / median_absolute_deviation_y for y in ysb] # median_absolute_deviationmodified z scores\n",
    "    return modified_z_scores\n",
    "    \n",
    "# The next function calculates the average values around the point to be replaced.\n",
    "def fixer(y,ma):\n",
    "    threshold = 7 # binarisation threshold\n",
    "    spikes = abs(np.array(modified_z_score(y))) > threshold\n",
    "    y_out = y.copy()\n",
    "    for i in np.arange(len(spikes)):\n",
    "        if spikes[i] != 0:\n",
    "            w = np.arange(i-ma,i+1+ma)\n",
    "            we = w[spikes[w] == 0]\n",
    "            if len(we) > 0:  # Check if it has at least one valid value\n",
    "                y_out[i] = np.mean(y[we])\n",
    "    return y_out\n",
    "\n",
    "def despike_group(absorbances):\n",
    "    absorbance_data = absorbances.to_numpy()\n",
    "    despiked_absorbance = fixer(absorbance_data, ma=20) # Tuned based on ml performance\n",
    "    return(despiked_absorbance)\n",
    "\n",
    "df['Despiked_Absorbance'] = df.groupby('SpecID')['Absorbance'].transform(lambda x: despike_group(x))"
   ]
  },
  {
   "cell_type": "code",
   "execution_count": 152,
   "metadata": {},
   "outputs": [],
   "source": [
    "# # Doing this to check the combination\n",
    "# df['Absorbance'] = df.groupby('SpecID')['Absorbance'].transform(lambda x: despike_group(x))"
   ]
  },
  {
   "cell_type": "code",
   "execution_count": 153,
   "metadata": {},
   "outputs": [],
   "source": [
    "despiked_df = prepare_wavelength_df(df, 'Despiked_Absorbance')"
   ]
  },
  {
   "cell_type": "code",
   "execution_count": 154,
   "metadata": {},
   "outputs": [
    {
     "name": "stdout",
     "output_type": "stream",
     "text": [
      "ExtraTreesClassifier Cross-Validation Accuracy: 0.5432 +/- 0.1365\n"
     ]
    }
   ],
   "source": [
    "evaluate_extra_trees(despiked_df)"
   ]
  },
  {
   "cell_type": "markdown",
   "metadata": {},
   "source": [
    "Despike with scaling."
   ]
  },
  {
   "cell_type": "code",
   "execution_count": 155,
   "metadata": {},
   "outputs": [],
   "source": [
    "df['Scaled_Despiked_Absorbance'] = df.groupby('SpecID')['Despiked_Absorbance'].transform(lambda x: normalise(x))"
   ]
  },
  {
   "cell_type": "code",
   "execution_count": 156,
   "metadata": {},
   "outputs": [],
   "source": [
    "scaled_despiked_df = prepare_wavelength_df(df, 'Scaled_Despiked_Absorbance')"
   ]
  },
  {
   "cell_type": "code",
   "execution_count": 157,
   "metadata": {},
   "outputs": [
    {
     "name": "stdout",
     "output_type": "stream",
     "text": [
      "ExtraTreesClassifier Cross-Validation Accuracy: 0.4926 +/- 0.1003\n"
     ]
    }
   ],
   "source": [
    "evaluate_extra_trees(scaled_despiked_df)"
   ]
  },
  {
   "cell_type": "markdown",
   "metadata": {},
   "source": [
    "This seems to cause a small degradation to performance."
   ]
  },
  {
   "cell_type": "markdown",
   "metadata": {},
   "source": [
    ">Calculate the baseline using Asymmetric Least Squares, then subtract it from the spectrum."
   ]
  },
  {
   "cell_type": "code",
   "execution_count": 158,
   "metadata": {},
   "outputs": [],
   "source": [
    "# def baseline_als_optimized(y, lam, p, niter=10):\n",
    "#     L = len(y)\n",
    "#     D = sparse.diags([1,-2,1],[0,-1,-2], shape=(L,L-2))\n",
    "#     D = lam * D.dot(D.transpose()) # Precompute this term since it does not depend on `w`\n",
    "#     w = np.ones(L)\n",
    "#     W = sparse.spdiags(w, 0, L, L)\n",
    "#     for i in range(niter):\n",
    "#         W.setdiag(w) # Do not create a new matrix, just update diagonal values\n",
    "#         Z = W + D\n",
    "#         z = spsolve(Z, w*y)\n",
    "#         w = p * (y > z) + (1-p) * (y < z)\n",
    "#     return z\n",
    "\n",
    "# lam = 10 ** 8\n",
    "# p = 0.05\n",
    "# df['Baseline_Corrected_Absorbance'] = df.groupby('SpecID')['Despiked_Absorbance'].transform(lambda x: baseline_als_optimized(x, lam=lam, p=p))"
   ]
  },
  {
   "cell_type": "code",
   "execution_count": 159,
   "metadata": {},
   "outputs": [],
   "source": [
    "from pybaselines.whittaker import asls\n",
    "\n",
    "def asls_baseline_correction(x, lam, p):\n",
    "        corrected, _ = asls(x, lam=lam, p=p)\n",
    "        return corrected"
   ]
  },
  {
   "cell_type": "markdown",
   "metadata": {},
   "source": [
    "The PyBaselines Library Performs this much faster."
   ]
  },
  {
   "cell_type": "markdown",
   "metadata": {},
   "source": [
    "Here is an example on 1 spectrum"
   ]
  },
  {
   "cell_type": "code",
   "execution_count": 160,
   "metadata": {},
   "outputs": [
    {
     "data": {
      "text/html": [
       "<div>\n",
       "<style scoped>\n",
       "    .dataframe tbody tr th:only-of-type {\n",
       "        vertical-align: middle;\n",
       "    }\n",
       "\n",
       "    .dataframe tbody tr th {\n",
       "        vertical-align: top;\n",
       "    }\n",
       "\n",
       "    .dataframe thead th {\n",
       "        text-align: right;\n",
       "    }\n",
       "</style>\n",
       "<table border=\"1\" class=\"dataframe\">\n",
       "  <thead>\n",
       "    <tr style=\"text-align: right;\">\n",
       "      <th></th>\n",
       "      <th>SpecID</th>\n",
       "      <th>Seq</th>\n",
       "      <th>WaveNumber</th>\n",
       "      <th>Absorbance</th>\n",
       "      <th>SurID</th>\n",
       "      <th>Status</th>\n",
       "      <th>Scaled_Absorbance</th>\n",
       "      <th>Despiked_Absorbance</th>\n",
       "      <th>Scaled_Despiked_Absorbance</th>\n",
       "    </tr>\n",
       "  </thead>\n",
       "  <tbody>\n",
       "    <tr>\n",
       "      <th>8013328</th>\n",
       "      <td>210526-3-06</td>\n",
       "      <td>293</td>\n",
       "      <td>400.22778</td>\n",
       "      <td>2367.7305</td>\n",
       "      <td>210526-3</td>\n",
       "      <td>Hyperglycemia</td>\n",
       "      <td>0.832666</td>\n",
       "      <td>2367.7305</td>\n",
       "      <td>0.832666</td>\n",
       "    </tr>\n",
       "    <tr>\n",
       "      <th>8013329</th>\n",
       "      <td>210526-3-06</td>\n",
       "      <td>294</td>\n",
       "      <td>400.91116</td>\n",
       "      <td>2352.8223</td>\n",
       "      <td>210526-3</td>\n",
       "      <td>Hyperglycemia</td>\n",
       "      <td>0.827424</td>\n",
       "      <td>2352.8223</td>\n",
       "      <td>0.827424</td>\n",
       "    </tr>\n",
       "    <tr>\n",
       "      <th>8013330</th>\n",
       "      <td>210526-3-06</td>\n",
       "      <td>295</td>\n",
       "      <td>401.59454</td>\n",
       "      <td>2377.9473</td>\n",
       "      <td>210526-3</td>\n",
       "      <td>Hyperglycemia</td>\n",
       "      <td>0.836259</td>\n",
       "      <td>2377.9473</td>\n",
       "      <td>0.836259</td>\n",
       "    </tr>\n",
       "    <tr>\n",
       "      <th>8013331</th>\n",
       "      <td>210526-3-06</td>\n",
       "      <td>296</td>\n",
       "      <td>402.27789</td>\n",
       "      <td>2394.0313</td>\n",
       "      <td>210526-3</td>\n",
       "      <td>Hyperglycemia</td>\n",
       "      <td>0.841916</td>\n",
       "      <td>2394.0313</td>\n",
       "      <td>0.841916</td>\n",
       "    </tr>\n",
       "    <tr>\n",
       "      <th>8013332</th>\n",
       "      <td>210526-3-06</td>\n",
       "      <td>297</td>\n",
       "      <td>402.96127</td>\n",
       "      <td>2376.4995</td>\n",
       "      <td>210526-3</td>\n",
       "      <td>Hyperglycemia</td>\n",
       "      <td>0.835750</td>\n",
       "      <td>2376.4995</td>\n",
       "      <td>0.835750</td>\n",
       "    </tr>\n",
       "    <tr>\n",
       "      <th>...</th>\n",
       "      <td>...</td>\n",
       "      <td>...</td>\n",
       "      <td>...</td>\n",
       "      <td>...</td>\n",
       "      <td>...</td>\n",
       "      <td>...</td>\n",
       "      <td>...</td>\n",
       "      <td>...</td>\n",
       "      <td>...</td>\n",
       "    </tr>\n",
       "    <tr>\n",
       "      <th>8015372</th>\n",
       "      <td>210526-3-06</td>\n",
       "      <td>2337</td>\n",
       "      <td>1797.03870</td>\n",
       "      <td>1967.4805</td>\n",
       "      <td>210526-3</td>\n",
       "      <td>Hyperglycemia</td>\n",
       "      <td>0.691909</td>\n",
       "      <td>1967.4805</td>\n",
       "      <td>0.691909</td>\n",
       "    </tr>\n",
       "    <tr>\n",
       "      <th>8015373</th>\n",
       "      <td>210526-3-06</td>\n",
       "      <td>2338</td>\n",
       "      <td>1797.72200</td>\n",
       "      <td>1965.0815</td>\n",
       "      <td>210526-3</td>\n",
       "      <td>Hyperglycemia</td>\n",
       "      <td>0.691066</td>\n",
       "      <td>1965.0815</td>\n",
       "      <td>0.691066</td>\n",
       "    </tr>\n",
       "    <tr>\n",
       "      <th>8015374</th>\n",
       "      <td>210526-3-06</td>\n",
       "      <td>2339</td>\n",
       "      <td>1798.40550</td>\n",
       "      <td>1947.5498</td>\n",
       "      <td>210526-3</td>\n",
       "      <td>Hyperglycemia</td>\n",
       "      <td>0.684900</td>\n",
       "      <td>1947.5498</td>\n",
       "      <td>0.684900</td>\n",
       "    </tr>\n",
       "    <tr>\n",
       "      <th>8015375</th>\n",
       "      <td>210526-3-06</td>\n",
       "      <td>2340</td>\n",
       "      <td>1799.08890</td>\n",
       "      <td>1951.8849</td>\n",
       "      <td>210526-3</td>\n",
       "      <td>Hyperglycemia</td>\n",
       "      <td>0.686425</td>\n",
       "      <td>1951.8849</td>\n",
       "      <td>0.686425</td>\n",
       "    </tr>\n",
       "    <tr>\n",
       "      <th>8015376</th>\n",
       "      <td>210526-3-06</td>\n",
       "      <td>2341</td>\n",
       "      <td>1799.77220</td>\n",
       "      <td>1953.0166</td>\n",
       "      <td>210526-3</td>\n",
       "      <td>Hyperglycemia</td>\n",
       "      <td>0.686823</td>\n",
       "      <td>1953.0166</td>\n",
       "      <td>0.686823</td>\n",
       "    </tr>\n",
       "  </tbody>\n",
       "</table>\n",
       "<p>2049 rows × 9 columns</p>\n",
       "</div>"
      ],
      "text/plain": [
       "              SpecID   Seq  WaveNumber  Absorbance     SurID         Status  \\\n",
       "8013328  210526-3-06   293   400.22778   2367.7305  210526-3  Hyperglycemia   \n",
       "8013329  210526-3-06   294   400.91116   2352.8223  210526-3  Hyperglycemia   \n",
       "8013330  210526-3-06   295   401.59454   2377.9473  210526-3  Hyperglycemia   \n",
       "8013331  210526-3-06   296   402.27789   2394.0313  210526-3  Hyperglycemia   \n",
       "8013332  210526-3-06   297   402.96127   2376.4995  210526-3  Hyperglycemia   \n",
       "...              ...   ...         ...         ...       ...            ...   \n",
       "8015372  210526-3-06  2337  1797.03870   1967.4805  210526-3  Hyperglycemia   \n",
       "8015373  210526-3-06  2338  1797.72200   1965.0815  210526-3  Hyperglycemia   \n",
       "8015374  210526-3-06  2339  1798.40550   1947.5498  210526-3  Hyperglycemia   \n",
       "8015375  210526-3-06  2340  1799.08890   1951.8849  210526-3  Hyperglycemia   \n",
       "8015376  210526-3-06  2341  1799.77220   1953.0166  210526-3  Hyperglycemia   \n",
       "\n",
       "         Scaled_Absorbance  Despiked_Absorbance  Scaled_Despiked_Absorbance  \n",
       "8013328           0.832666            2367.7305                    0.832666  \n",
       "8013329           0.827424            2352.8223                    0.827424  \n",
       "8013330           0.836259            2377.9473                    0.836259  \n",
       "8013331           0.841916            2394.0313                    0.841916  \n",
       "8013332           0.835750            2376.4995                    0.835750  \n",
       "...                    ...                  ...                         ...  \n",
       "8015372           0.691909            1967.4805                    0.691909  \n",
       "8015373           0.691066            1965.0815                    0.691066  \n",
       "8015374           0.684900            1947.5498                    0.684900  \n",
       "8015375           0.686425            1951.8849                    0.686425  \n",
       "8015376           0.686823            1953.0166                    0.686823  \n",
       "\n",
       "[2049 rows x 9 columns]"
      ]
     },
     "execution_count": 160,
     "metadata": {},
     "output_type": "execute_result"
    }
   ],
   "source": [
    "sample = df[df['SpecID'] == \"210526-3-06\"]\n",
    "sample"
   ]
  },
  {
   "cell_type": "code",
   "execution_count": 221,
   "metadata": {},
   "outputs": [
    {
     "name": "stderr",
     "output_type": "stream",
     "text": [
      "/tmp/ipykernel_14817/378197026.py:9: SettingWithCopyWarning: \n",
      "A value is trying to be set on a copy of a slice from a DataFrame.\n",
      "Try using .loc[row_indexer,col_indexer] = value instead\n",
      "\n",
      "See the caveats in the documentation: https://pandas.pydata.org/pandas-docs/stable/user_guide/indexing.html#returning-a-view-versus-a-copy\n",
      "  sample['Baseline'] = sample.groupby('SpecID')['Absorbance'].transform(lambda x: asls_baseline_correction(x, lam=lam, p=p))\n"
     ]
    },
    {
     "data": {
      "text/plain": [
       "<Axes: xlabel='WaveNumber', ylabel='Absorbance'>"
      ]
     },
     "execution_count": 221,
     "metadata": {},
     "output_type": "execute_result"
    },
    {
     "data": {
      "image/png": "[encoded data removed]",
      "text/plain": [
       "<Figure size 640x480 with 1 Axes>"
      ]
     },
     "metadata": {},
     "output_type": "display_data"
    }
   ],
   "source": [
    "# lam = 10 ** 6\n",
    "# p = 0.01\n",
    "\n",
    "# lam = 10 ** 7\n",
    "# p = 0.05\n",
    "\n",
    "lam = 10 ** 9\n",
    "p = 0.1\n",
    "sample['Baseline'] = sample.groupby('SpecID')['Absorbance'].transform(lambda x: asls_baseline_correction(x, lam=lam, p=p))\n",
    "sns.lineplot(x=\"WaveNumber\", y=\"Absorbance\", data=sample)\n",
    "sns.lineplot(x=\"WaveNumber\", y=\"Baseline\", data=sample)"
   ]
  },
  {
   "cell_type": "markdown",
   "metadata": {},
   "source": [
    "Subtract the baseline."
   ]
  },
  {
   "cell_type": "code",
   "execution_count": 222,
   "metadata": {},
   "outputs": [
    {
     "name": "stderr",
     "output_type": "stream",
     "text": [
      "/tmp/ipykernel_14817/1303904700.py:1: SettingWithCopyWarning: \n",
      "A value is trying to be set on a copy of a slice from a DataFrame.\n",
      "Try using .loc[row_indexer,col_indexer] = value instead\n",
      "\n",
      "See the caveats in the documentation: https://pandas.pydata.org/pandas-docs/stable/user_guide/indexing.html#returning-a-view-versus-a-copy\n",
      "  sample['Baseline_Corrected_Absorbance'] = sample['Absorbance'] - sample['Baseline']\n"
     ]
    },
    {
     "data": {
      "text/plain": [
       "<Axes: xlabel='WaveNumber', ylabel='Baseline_Corrected_Absorbance'>"
      ]
     },
     "execution_count": 222,
     "metadata": {},
     "output_type": "execute_result"
    },
    {
     "data": {
      "image/png": "[encoded data removed]",
      "text/plain": [
       "<Figure size 640x480 with 1 Axes>"
      ]
     },
     "metadata": {},
     "output_type": "display_data"
    }
   ],
   "source": [
    "sample['Baseline_Corrected_Absorbance'] = sample['Absorbance'] - sample['Baseline']\n",
    "sns.lineplot(x=\"WaveNumber\", y=\"Baseline_Corrected_Absorbance\", data=sample)"
   ]
  },
  {
   "cell_type": "markdown",
   "metadata": {},
   "source": [
    "Remove the noise from the spectra using Savitzky–Golay-filtering on the raw spectrum."
   ]
  },
  {
   "cell_type": "code",
   "execution_count": 223,
   "metadata": {},
   "outputs": [
    {
     "name": "stderr",
     "output_type": "stream",
     "text": [
      "/tmp/ipykernel_14817/2008908675.py:6: SettingWithCopyWarning: \n",
      "A value is trying to be set on a copy of a slice from a DataFrame.\n",
      "Try using .loc[row_indexer,col_indexer] = value instead\n",
      "\n",
      "See the caveats in the documentation: https://pandas.pydata.org/pandas-docs/stable/user_guide/indexing.html#returning-a-view-versus-a-copy\n",
      "  sample['Smoothed_Absorbance'] = sample.groupby('SpecID')['Absorbance'].transform(lambda x: savgol_filter(x, window_size, poly_order, deriv=0))\n"
     ]
    },
    {
     "data": {
      "text/plain": [
       "<Axes: xlabel='WaveNumber', ylabel='Smoothed_Absorbance'>"
      ]
     },
     "execution_count": 223,
     "metadata": {},
     "output_type": "execute_result"
    },
    {
     "data": {
      "image/png": "[encoded data removed]",
      "text/plain": [
       "<Figure size 640x480 with 1 Axes>"
      ]
     },
     "metadata": {},
     "output_type": "display_data"
    }
   ],
   "source": [
    "# Set the window size and polynomial order for the Savitzky-Golay filter\n",
    "window_size = 101\n",
    "poly_order = 2\n",
    "\n",
    "# Apply Savitzky-Golay filter to smooth the Absorbance values\n",
    "sample['Smoothed_Absorbance'] = sample.groupby('SpecID')['Absorbance'].transform(lambda x: savgol_filter(x, window_size, poly_order, deriv=0))\n",
    "sns.lineplot(x=\"WaveNumber\", y=\"Smoothed_Absorbance\", data=sample)"
   ]
  },
  {
   "cell_type": "markdown",
   "metadata": {},
   "source": [
    "Try it on the Baseline_Corrected_Spectrum"
   ]
  },
  {
   "cell_type": "code",
   "execution_count": 224,
   "metadata": {},
   "outputs": [
    {
     "name": "stderr",
     "output_type": "stream",
     "text": [
      "/tmp/ipykernel_14817/1425479424.py:2: SettingWithCopyWarning: \n",
      "A value is trying to be set on a copy of a slice from a DataFrame.\n",
      "Try using .loc[row_indexer,col_indexer] = value instead\n",
      "\n",
      "See the caveats in the documentation: https://pandas.pydata.org/pandas-docs/stable/user_guide/indexing.html#returning-a-view-versus-a-copy\n",
      "  sample['Smoothed_Absorbance'] = sample.groupby('SpecID')['Baseline_Corrected_Absorbance'].transform(lambda x: savgol_filter(x, window_size, poly_order, deriv=0))\n"
     ]
    },
    {
     "data": {
      "text/plain": [
       "<Axes: xlabel='WaveNumber', ylabel='Smoothed_Absorbance'>"
      ]
     },
     "execution_count": 224,
     "metadata": {},
     "output_type": "execute_result"
    },
    {
     "data": {
      "image/png": "[encoded data removed]",
      "text/plain": [
       "<Figure size 640x480 with 1 Axes>"
      ]
     },
     "metadata": {},
     "output_type": "display_data"
    }
   ],
   "source": [
    "# Apply Savitzky-Golay filter to smooth the Absorbance values\n",
    "sample['Smoothed_Absorbance'] = sample.groupby('SpecID')['Baseline_Corrected_Absorbance'].transform(lambda x: savgol_filter(x, window_size, poly_order, deriv=0))\n",
    "sns.lineplot(x=\"WaveNumber\", y=\"Smoothed_Absorbance\", data=sample)"
   ]
  },
  {
   "cell_type": "code",
   "execution_count": 225,
   "metadata": {},
   "outputs": [
    {
     "name": "stderr",
     "output_type": "stream",
     "text": [
      "/tmp/ipykernel_14817/1280720429.py:2: SettingWithCopyWarning: \n",
      "A value is trying to be set on a copy of a slice from a DataFrame.\n",
      "Try using .loc[row_indexer,col_indexer] = value instead\n",
      "\n",
      "See the caveats in the documentation: https://pandas.pydata.org/pandas-docs/stable/user_guide/indexing.html#returning-a-view-versus-a-copy\n",
      "  sample['Smoothed_Absorbance'] = sample.groupby('SpecID')['Baseline_Corrected_Absorbance'].transform(lambda x: savgol_filter(x, 9, 2, deriv=0))\n"
     ]
    },
    {
     "data": {
      "text/plain": [
       "<Axes: xlabel='WaveNumber', ylabel='Smoothed_Absorbance'>"
      ]
     },
     "execution_count": 225,
     "metadata": {},
     "output_type": "execute_result"
    },
    {
     "data": {
      "image/png": "[encoded data removed]",
      "text/plain": [
       "<Figure size 640x480 with 1 Axes>"
      ]
     },
     "metadata": {},
     "output_type": "display_data"
    }
   ],
   "source": [
    "# Apply Savitzky-Golay filter to smooth the Absorbance values\n",
    "sample['Smoothed_Absorbance'] = sample.groupby('SpecID')['Baseline_Corrected_Absorbance'].transform(lambda x: savgol_filter(x, 9, 2, deriv=0))\n",
    "sns.lineplot(x=\"WaveNumber\", y=\"Smoothed_Absorbance\", data=sample)"
   ]
  },
  {
   "cell_type": "markdown",
   "metadata": {},
   "source": [
    ">Based on hand tuned parameters lets see how they affect the Machine Learning Classification."
   ]
  },
  {
   "cell_type": "code",
   "execution_count": 226,
   "metadata": {},
   "outputs": [],
   "source": [
    "df['Baseline_Corrected_Absorbance'] = df['Absorbance'] - df.groupby('SpecID')['Absorbance'].transform(lambda x: asls_baseline_correction(x, lam=lam, p=p))"
   ]
  },
  {
   "cell_type": "code",
   "execution_count": 227,
   "metadata": {},
   "outputs": [
    {
     "data": {
      "text/html": [
       "<div>\n",
       "<style scoped>\n",
       "    .dataframe tbody tr th:only-of-type {\n",
       "        vertical-align: middle;\n",
       "    }\n",
       "\n",
       "    .dataframe tbody tr th {\n",
       "        vertical-align: top;\n",
       "    }\n",
       "\n",
       "    .dataframe thead th {\n",
       "        text-align: right;\n",
       "    }\n",
       "</style>\n",
       "<table border=\"1\" class=\"dataframe\">\n",
       "  <thead>\n",
       "    <tr style=\"text-align: right;\">\n",
       "      <th></th>\n",
       "      <th>SpecID</th>\n",
       "      <th>Seq</th>\n",
       "      <th>WaveNumber</th>\n",
       "      <th>Absorbance</th>\n",
       "      <th>SurID</th>\n",
       "      <th>Status</th>\n",
       "      <th>Scaled_Absorbance</th>\n",
       "      <th>Despiked_Absorbance</th>\n",
       "      <th>Scaled_Despiked_Absorbance</th>\n",
       "      <th>Baseline_Corrected_Absorbance</th>\n",
       "      <th>...</th>\n",
       "      <th>Smoothed_Absorbance</th>\n",
       "      <th>Scaled_Smooth</th>\n",
       "      <th>Smoothed_Baseline</th>\n",
       "      <th>Scaled_Smooth_Baseline</th>\n",
       "      <th>Vector_Scaled_Absorbance</th>\n",
       "      <th>No_Below_Baseline</th>\n",
       "      <th>Scaled_No_Below_Baseline</th>\n",
       "      <th>MinMax_Absorbance</th>\n",
       "      <th>MinMax_Baseline</th>\n",
       "      <th>Vector_Scaled_Baseline</th>\n",
       "    </tr>\n",
       "  </thead>\n",
       "  <tbody>\n",
       "    <tr>\n",
       "      <th>293</th>\n",
       "      <td>201210-1-00</td>\n",
       "      <td>293</td>\n",
       "      <td>400.22778</td>\n",
       "      <td>1765.6628</td>\n",
       "      <td>201210-1</td>\n",
       "      <td>Normal</td>\n",
       "      <td>0.953424</td>\n",
       "      <td>1765.6628</td>\n",
       "      <td>0.953424</td>\n",
       "      <td>28.724268</td>\n",
       "      <td>...</td>\n",
       "      <td>1766.369021</td>\n",
       "      <td>0.980552</td>\n",
       "      <td>25.471999</td>\n",
       "      <td>0.012257</td>\n",
       "      <td>0.024759</td>\n",
       "      <td>24.824567</td>\n",
       "      <td>0.128976</td>\n",
       "      <td>0.869714</td>\n",
       "      <td>0.262185</td>\n",
       "      <td>0.011220</td>\n",
       "    </tr>\n",
       "    <tr>\n",
       "      <th>294</th>\n",
       "      <td>201210-1-00</td>\n",
       "      <td>294</td>\n",
       "      <td>400.91116</td>\n",
       "      <td>1774.7809</td>\n",
       "      <td>201210-1</td>\n",
       "      <td>Normal</td>\n",
       "      <td>0.958347</td>\n",
       "      <td>1774.7809</td>\n",
       "      <td>0.958347</td>\n",
       "      <td>37.986485</td>\n",
       "      <td>...</td>\n",
       "      <td>1765.961912</td>\n",
       "      <td>0.980326</td>\n",
       "      <td>25.407718</td>\n",
       "      <td>0.012226</td>\n",
       "      <td>0.024886</td>\n",
       "      <td>34.279384</td>\n",
       "      <td>0.178098</td>\n",
       "      <td>0.883487</td>\n",
       "      <td>0.303795</td>\n",
       "      <td>0.015494</td>\n",
       "    </tr>\n",
       "    <tr>\n",
       "      <th>295</th>\n",
       "      <td>201210-1-00</td>\n",
       "      <td>295</td>\n",
       "      <td>401.59454</td>\n",
       "      <td>1769.0302</td>\n",
       "      <td>201210-1</td>\n",
       "      <td>Normal</td>\n",
       "      <td>0.955242</td>\n",
       "      <td>1769.0302</td>\n",
       "      <td>0.955242</td>\n",
       "      <td>32.379903</td>\n",
       "      <td>...</td>\n",
       "      <td>1765.561221</td>\n",
       "      <td>0.980103</td>\n",
       "      <td>25.349628</td>\n",
       "      <td>0.012198</td>\n",
       "      <td>0.024806</td>\n",
       "      <td>28.865400</td>\n",
       "      <td>0.149970</td>\n",
       "      <td>0.874801</td>\n",
       "      <td>0.279969</td>\n",
       "      <td>0.013047</td>\n",
       "    </tr>\n",
       "    <tr>\n",
       "      <th>296</th>\n",
       "      <td>201210-1-00</td>\n",
       "      <td>296</td>\n",
       "      <td>402.27789</td>\n",
       "      <td>1756.4220</td>\n",
       "      <td>201210-1</td>\n",
       "      <td>Normal</td>\n",
       "      <td>0.948434</td>\n",
       "      <td>1756.4220</td>\n",
       "      <td>0.948434</td>\n",
       "      <td>19.915820</td>\n",
       "      <td>...</td>\n",
       "      <td>1765.166948</td>\n",
       "      <td>0.979885</td>\n",
       "      <td>25.297728</td>\n",
       "      <td>0.012173</td>\n",
       "      <td>0.024629</td>\n",
       "      <td>16.593916</td>\n",
       "      <td>0.086213</td>\n",
       "      <td>0.855756</td>\n",
       "      <td>0.225963</td>\n",
       "      <td>0.007500</td>\n",
       "    </tr>\n",
       "    <tr>\n",
       "      <th>297</th>\n",
       "      <td>201210-1-00</td>\n",
       "      <td>297</td>\n",
       "      <td>402.96127</td>\n",
       "      <td>1758.8690</td>\n",
       "      <td>201210-1</td>\n",
       "      <td>Normal</td>\n",
       "      <td>0.949755</td>\n",
       "      <td>1758.8690</td>\n",
       "      <td>0.949755</td>\n",
       "      <td>22.506938</td>\n",
       "      <td>...</td>\n",
       "      <td>1764.779094</td>\n",
       "      <td>0.979669</td>\n",
       "      <td>25.252020</td>\n",
       "      <td>0.012151</td>\n",
       "      <td>0.024663</td>\n",
       "      <td>19.377630</td>\n",
       "      <td>0.100676</td>\n",
       "      <td>0.859453</td>\n",
       "      <td>0.238214</td>\n",
       "      <td>0.008759</td>\n",
       "    </tr>\n",
       "  </tbody>\n",
       "</table>\n",
       "<p>5 rows × 21 columns</p>\n",
       "</div>"
      ],
      "text/plain": [
       "          SpecID  Seq  WaveNumber  Absorbance     SurID  Status  \\\n",
       "293  201210-1-00  293   400.22778   1765.6628  201210-1  Normal   \n",
       "294  201210-1-00  294   400.91116   1774.7809  201210-1  Normal   \n",
       "295  201210-1-00  295   401.59454   1769.0302  201210-1  Normal   \n",
       "296  201210-1-00  296   402.27789   1756.4220  201210-1  Normal   \n",
       "297  201210-1-00  297   402.96127   1758.8690  201210-1  Normal   \n",
       "\n",
       "     Scaled_Absorbance  Despiked_Absorbance  Scaled_Despiked_Absorbance  \\\n",
       "293           0.953424            1765.6628                    0.953424   \n",
       "294           0.958347            1774.7809                    0.958347   \n",
       "295           0.955242            1769.0302                    0.955242   \n",
       "296           0.948434            1756.4220                    0.948434   \n",
       "297           0.949755            1758.8690                    0.949755   \n",
       "\n",
       "     Baseline_Corrected_Absorbance  ...  Smoothed_Absorbance  Scaled_Smooth  \\\n",
       "293                      28.724268  ...          1766.369021       0.980552   \n",
       "294                      37.986485  ...          1765.961912       0.980326   \n",
       "295                      32.379903  ...          1765.561221       0.980103   \n",
       "296                      19.915820  ...          1765.166948       0.979885   \n",
       "297                      22.506938  ...          1764.779094       0.979669   \n",
       "\n",
       "     Smoothed_Baseline  Scaled_Smooth_Baseline  Vector_Scaled_Absorbance  \\\n",
       "293          25.471999                0.012257                  0.024759   \n",
       "294          25.407718                0.012226                  0.024886   \n",
       "295          25.349628                0.012198                  0.024806   \n",
       "296          25.297728                0.012173                  0.024629   \n",
       "297          25.252020                0.012151                  0.024663   \n",
       "\n",
       "     No_Below_Baseline  Scaled_No_Below_Baseline  MinMax_Absorbance  \\\n",
       "293          24.824567                  0.128976           0.869714   \n",
       "294          34.279384                  0.178098           0.883487   \n",
       "295          28.865400                  0.149970           0.874801   \n",
       "296          16.593916                  0.086213           0.855756   \n",
       "297          19.377630                  0.100676           0.859453   \n",
       "\n",
       "     MinMax_Baseline  Vector_Scaled_Baseline  \n",
       "293         0.262185                0.011220  \n",
       "294         0.303795                0.015494  \n",
       "295         0.279969                0.013047  \n",
       "296         0.225963                0.007500  \n",
       "297         0.238214                0.008759  \n",
       "\n",
       "[5 rows x 21 columns]"
      ]
     },
     "execution_count": 227,
     "metadata": {},
     "output_type": "execute_result"
    }
   ],
   "source": [
    "df.head()"
   ]
  },
  {
   "cell_type": "code",
   "execution_count": 228,
   "metadata": {},
   "outputs": [],
   "source": [
    "baseline_corrected_df = prepare_wavelength_df(df, 'Baseline_Corrected_Absorbance')"
   ]
  },
  {
   "cell_type": "code",
   "execution_count": 229,
   "metadata": {},
   "outputs": [
    {
     "data": {
      "text/html": [
       "<div>\n",
       "<style scoped>\n",
       "    .dataframe tbody tr th:only-of-type {\n",
       "        vertical-align: middle;\n",
       "    }\n",
       "\n",
       "    .dataframe tbody tr th {\n",
       "        vertical-align: top;\n",
       "    }\n",
       "\n",
       "    .dataframe thead th {\n",
       "        text-align: right;\n",
       "    }\n",
       "</style>\n",
       "<table border=\"1\" class=\"dataframe\">\n",
       "  <thead>\n",
       "    <tr style=\"text-align: right;\">\n",
       "      <th></th>\n",
       "      <th>400.22778</th>\n",
       "      <th>400.91116</th>\n",
       "      <th>401.59454</th>\n",
       "      <th>402.27789</th>\n",
       "      <th>402.96127</th>\n",
       "      <th>403.64465</th>\n",
       "      <th>404.32803</th>\n",
       "      <th>405.01138</th>\n",
       "      <th>405.69476</th>\n",
       "      <th>406.37814</th>\n",
       "      <th>...</th>\n",
       "      <th>1794.9886</th>\n",
       "      <th>1795.672</th>\n",
       "      <th>1796.3553</th>\n",
       "      <th>1797.0387</th>\n",
       "      <th>1797.722</th>\n",
       "      <th>1798.4055</th>\n",
       "      <th>1799.0889</th>\n",
       "      <th>1799.7722</th>\n",
       "      <th>SurID</th>\n",
       "      <th>Status</th>\n",
       "    </tr>\n",
       "    <tr>\n",
       "      <th>SpecID</th>\n",
       "      <th></th>\n",
       "      <th></th>\n",
       "      <th></th>\n",
       "      <th></th>\n",
       "      <th></th>\n",
       "      <th></th>\n",
       "      <th></th>\n",
       "      <th></th>\n",
       "      <th></th>\n",
       "      <th></th>\n",
       "      <th></th>\n",
       "      <th></th>\n",
       "      <th></th>\n",
       "      <th></th>\n",
       "      <th></th>\n",
       "      <th></th>\n",
       "      <th></th>\n",
       "      <th></th>\n",
       "      <th></th>\n",
       "      <th></th>\n",
       "      <th></th>\n",
       "    </tr>\n",
       "  </thead>\n",
       "  <tbody>\n",
       "    <tr>\n",
       "      <th>201210-1-00</th>\n",
       "      <td>28.724268</td>\n",
       "      <td>37.986485</td>\n",
       "      <td>32.379903</td>\n",
       "      <td>19.915820</td>\n",
       "      <td>22.506938</td>\n",
       "      <td>27.012055</td>\n",
       "      <td>9.154672</td>\n",
       "      <td>37.423690</td>\n",
       "      <td>38.931007</td>\n",
       "      <td>17.686624</td>\n",
       "      <td>...</td>\n",
       "      <td>-14.901671</td>\n",
       "      <td>-10.984931</td>\n",
       "      <td>0.722611</td>\n",
       "      <td>-14.037547</td>\n",
       "      <td>-12.898606</td>\n",
       "      <td>-28.662363</td>\n",
       "      <td>-27.531021</td>\n",
       "      <td>-32.353679</td>\n",
       "      <td>201210-1</td>\n",
       "      <td>Normal</td>\n",
       "    </tr>\n",
       "    <tr>\n",
       "      <th>201210-1-01</th>\n",
       "      <td>37.325252</td>\n",
       "      <td>32.947002</td>\n",
       "      <td>25.275953</td>\n",
       "      <td>25.228203</td>\n",
       "      <td>34.188153</td>\n",
       "      <td>46.368203</td>\n",
       "      <td>50.794754</td>\n",
       "      <td>35.125704</td>\n",
       "      <td>40.319354</td>\n",
       "      <td>36.051704</td>\n",
       "      <td>...</td>\n",
       "      <td>3.862698</td>\n",
       "      <td>-14.633327</td>\n",
       "      <td>-17.211851</td>\n",
       "      <td>-23.284276</td>\n",
       "      <td>-23.793000</td>\n",
       "      <td>-22.332424</td>\n",
       "      <td>-14.586748</td>\n",
       "      <td>-5.041072</td>\n",
       "      <td>201210-1</td>\n",
       "      <td>Normal</td>\n",
       "    </tr>\n",
       "    <tr>\n",
       "      <th>201210-1-02</th>\n",
       "      <td>129.723421</td>\n",
       "      <td>96.757098</td>\n",
       "      <td>93.169875</td>\n",
       "      <td>106.539653</td>\n",
       "      <td>114.531330</td>\n",
       "      <td>108.273007</td>\n",
       "      <td>92.990984</td>\n",
       "      <td>81.580460</td>\n",
       "      <td>90.256937</td>\n",
       "      <td>86.104112</td>\n",
       "      <td>...</td>\n",
       "      <td>-46.003900</td>\n",
       "      <td>-32.901519</td>\n",
       "      <td>-25.344937</td>\n",
       "      <td>-41.986955</td>\n",
       "      <td>-44.846373</td>\n",
       "      <td>-25.771590</td>\n",
       "      <td>-46.261407</td>\n",
       "      <td>-48.985324</td>\n",
       "      <td>201210-1</td>\n",
       "      <td>Normal</td>\n",
       "    </tr>\n",
       "    <tr>\n",
       "      <th>201210-1-03</th>\n",
       "      <td>172.235000</td>\n",
       "      <td>157.699680</td>\n",
       "      <td>150.046159</td>\n",
       "      <td>161.647839</td>\n",
       "      <td>182.325619</td>\n",
       "      <td>190.231199</td>\n",
       "      <td>182.158478</td>\n",
       "      <td>195.241757</td>\n",
       "      <td>177.076035</td>\n",
       "      <td>148.958413</td>\n",
       "      <td>...</td>\n",
       "      <td>-82.875963</td>\n",
       "      <td>-51.731568</td>\n",
       "      <td>-71.640571</td>\n",
       "      <td>-62.484074</td>\n",
       "      <td>-65.192376</td>\n",
       "      <td>-53.503578</td>\n",
       "      <td>-31.729780</td>\n",
       "      <td>-68.359182</td>\n",
       "      <td>201210-1</td>\n",
       "      <td>Normal</td>\n",
       "    </tr>\n",
       "    <tr>\n",
       "      <th>201210-1-04</th>\n",
       "      <td>98.459476</td>\n",
       "      <td>96.786008</td>\n",
       "      <td>93.417540</td>\n",
       "      <td>91.193073</td>\n",
       "      <td>83.912705</td>\n",
       "      <td>77.747537</td>\n",
       "      <td>84.955169</td>\n",
       "      <td>78.711401</td>\n",
       "      <td>75.182032</td>\n",
       "      <td>60.451463</td>\n",
       "      <td>...</td>\n",
       "      <td>-41.791709</td>\n",
       "      <td>-97.055339</td>\n",
       "      <td>-86.371268</td>\n",
       "      <td>-84.966596</td>\n",
       "      <td>-79.488524</td>\n",
       "      <td>-61.980751</td>\n",
       "      <td>-78.014378</td>\n",
       "      <td>-40.633405</td>\n",
       "      <td>201210-1</td>\n",
       "      <td>Normal</td>\n",
       "    </tr>\n",
       "  </tbody>\n",
       "</table>\n",
       "<p>5 rows × 2051 columns</p>\n",
       "</div>"
      ],
      "text/plain": [
       "              400.22778   400.91116   401.59454   402.27789   402.96127  \\\n",
       "SpecID                                                                    \n",
       "201210-1-00   28.724268   37.986485   32.379903   19.915820   22.506938   \n",
       "201210-1-01   37.325252   32.947002   25.275953   25.228203   34.188153   \n",
       "201210-1-02  129.723421   96.757098   93.169875  106.539653  114.531330   \n",
       "201210-1-03  172.235000  157.699680  150.046159  161.647839  182.325619   \n",
       "201210-1-04   98.459476   96.786008   93.417540   91.193073   83.912705   \n",
       "\n",
       "              403.64465   404.32803   405.01138   405.69476   406.37814  ...  \\\n",
       "SpecID                                                                   ...   \n",
       "201210-1-00   27.012055    9.154672   37.423690   38.931007   17.686624  ...   \n",
       "201210-1-01   46.368203   50.794754   35.125704   40.319354   36.051704  ...   \n",
       "201210-1-02  108.273007   92.990984   81.580460   90.256937   86.104112  ...   \n",
       "201210-1-03  190.231199  182.158478  195.241757  177.076035  148.958413  ...   \n",
       "201210-1-04   77.747537   84.955169   78.711401   75.182032   60.451463  ...   \n",
       "\n",
       "             1794.9886   1795.672  1796.3553  1797.0387   1797.722  1798.4055  \\\n",
       "SpecID                                                                          \n",
       "201210-1-00 -14.901671 -10.984931   0.722611 -14.037547 -12.898606 -28.662363   \n",
       "201210-1-01   3.862698 -14.633327 -17.211851 -23.284276 -23.793000 -22.332424   \n",
       "201210-1-02 -46.003900 -32.901519 -25.344937 -41.986955 -44.846373 -25.771590   \n",
       "201210-1-03 -82.875963 -51.731568 -71.640571 -62.484074 -65.192376 -53.503578   \n",
       "201210-1-04 -41.791709 -97.055339 -86.371268 -84.966596 -79.488524 -61.980751   \n",
       "\n",
       "             1799.0889  1799.7722     SurID  Status  \n",
       "SpecID                                               \n",
       "201210-1-00 -27.531021 -32.353679  201210-1  Normal  \n",
       "201210-1-01 -14.586748  -5.041072  201210-1  Normal  \n",
       "201210-1-02 -46.261407 -48.985324  201210-1  Normal  \n",
       "201210-1-03 -31.729780 -68.359182  201210-1  Normal  \n",
       "201210-1-04 -78.014378 -40.633405  201210-1  Normal  \n",
       "\n",
       "[5 rows x 2051 columns]"
      ]
     },
     "execution_count": 229,
     "metadata": {},
     "output_type": "execute_result"
    }
   ],
   "source": [
    "baseline_corrected_df.head()"
   ]
  },
  {
   "cell_type": "code",
   "execution_count": 230,
   "metadata": {},
   "outputs": [
    {
     "name": "stdout",
     "output_type": "stream",
     "text": [
      "ExtraTreesClassifier Cross-Validation Accuracy: 0.5774 +/- 0.1149\n"
     ]
    }
   ],
   "source": [
    "evaluate_extra_trees(baseline_corrected_df)"
   ]
  },
  {
   "cell_type": "markdown",
   "metadata": {},
   "source": [
    "Scale the Baseline Corrected Absorbances to the highest peak."
   ]
  },
  {
   "cell_type": "code",
   "execution_count": 231,
   "metadata": {},
   "outputs": [],
   "source": [
    "df['Scaled_Baseline_Corrected'] = df.groupby('SpecID')['Baseline_Corrected_Absorbance'].transform(lambda x: normalise(x))"
   ]
  },
  {
   "cell_type": "code",
   "execution_count": 232,
   "metadata": {},
   "outputs": [],
   "source": [
    "scaled_baseline_df = prepare_wavelength_df(df, 'Scaled_Baseline_Corrected')"
   ]
  },
  {
   "cell_type": "code",
   "execution_count": 233,
   "metadata": {},
   "outputs": [
    {
     "name": "stdout",
     "output_type": "stream",
     "text": [
      "ExtraTreesClassifier Cross-Validation Accuracy: 0.5683 +/- 0.1104\n"
     ]
    }
   ],
   "source": [
    "evaluate_extra_trees(scaled_baseline_df)"
   ]
  },
  {
   "cell_type": "markdown",
   "metadata": {},
   "source": [
    "> Lets try 2 different Savitsky Golay Approaches on the Raw and Baseline Corrected Spectra with and without scaling"
   ]
  },
  {
   "cell_type": "code",
   "execution_count": 234,
   "metadata": {},
   "outputs": [],
   "source": [
    "# Set the window size and polynomial order for the Savitzky-Golay filter\n",
    "window_size = 9\n",
    "poly_order = 2\n",
    "\n",
    "# Apply Savitzky-Golay filter to smooth the Absorbance values\n",
    "df['Smoothed_Absorbance'] = df.groupby('SpecID')['Absorbance'].transform(lambda x: savgol_filter(x, window_size, poly_order, deriv=0))"
   ]
  },
  {
   "cell_type": "code",
   "execution_count": 235,
   "metadata": {},
   "outputs": [],
   "source": [
    "smooth_df = prepare_wavelength_df(df, 'Smoothed_Absorbance')"
   ]
  },
  {
   "cell_type": "code",
   "execution_count": 236,
   "metadata": {},
   "outputs": [
    {
     "name": "stdout",
     "output_type": "stream",
     "text": [
      "ExtraTreesClassifier Cross-Validation Accuracy: 0.5353 +/- 0.1264\n"
     ]
    }
   ],
   "source": [
    "evaluate_extra_trees(smooth_df)"
   ]
  },
  {
   "cell_type": "code",
   "execution_count": 237,
   "metadata": {},
   "outputs": [],
   "source": [
    "df['Scaled_Smooth'] = df.groupby('SpecID')['Smoothed_Absorbance'].transform(lambda x: normalise(x))"
   ]
  },
  {
   "cell_type": "code",
   "execution_count": 238,
   "metadata": {},
   "outputs": [],
   "source": [
    "scaled_smooth_df = prepare_wavelength_df(df, 'Scaled_Smooth')"
   ]
  },
  {
   "cell_type": "code",
   "execution_count": 239,
   "metadata": {},
   "outputs": [
    {
     "name": "stdout",
     "output_type": "stream",
     "text": [
      "ExtraTreesClassifier Cross-Validation Accuracy: 0.4944 +/- 0.0942\n"
     ]
    }
   ],
   "source": [
    "evaluate_extra_trees(scaled_smooth_df)"
   ]
  },
  {
   "cell_type": "code",
   "execution_count": 240,
   "metadata": {},
   "outputs": [],
   "source": [
    "# Set the window size and polynomial order for the Savitzky-Golay filter\n",
    "window_size = 101\n",
    "poly_order = 2\n",
    "\n",
    "# Apply Savitzky-Golay filter to smooth the Absorbance values\n",
    "df['Smoothed_Absorbance'] = df.groupby('SpecID')['Absorbance'].transform(lambda x: savgol_filter(x, window_size, poly_order, deriv=0))"
   ]
  },
  {
   "cell_type": "code",
   "execution_count": 241,
   "metadata": {},
   "outputs": [],
   "source": [
    "smooth_df = prepare_wavelength_df(df, 'Smoothed_Absorbance')"
   ]
  },
  {
   "cell_type": "code",
   "execution_count": 242,
   "metadata": {},
   "outputs": [
    {
     "name": "stdout",
     "output_type": "stream",
     "text": [
      "ExtraTreesClassifier Cross-Validation Accuracy: 0.5296 +/- 0.1278\n"
     ]
    }
   ],
   "source": [
    "evaluate_extra_trees(smooth_df)"
   ]
  },
  {
   "cell_type": "code",
   "execution_count": 243,
   "metadata": {},
   "outputs": [],
   "source": [
    "df['Scaled_Smooth'] = df.groupby('SpecID')['Smoothed_Absorbance'].transform(lambda x: normalise(x))"
   ]
  },
  {
   "cell_type": "code",
   "execution_count": 244,
   "metadata": {},
   "outputs": [],
   "source": [
    "scaled_smooth_df = prepare_wavelength_df(df, 'Scaled_Smooth')"
   ]
  },
  {
   "cell_type": "code",
   "execution_count": 245,
   "metadata": {},
   "outputs": [
    {
     "name": "stdout",
     "output_type": "stream",
     "text": [
      "ExtraTreesClassifier Cross-Validation Accuracy: 0.4890 +/- 0.0876\n"
     ]
    }
   ],
   "source": [
    "evaluate_extra_trees(scaled_smooth_df)"
   ]
  },
  {
   "cell_type": "markdown",
   "metadata": {},
   "source": [
    "Try this on the baseline corrected spectra."
   ]
  },
  {
   "cell_type": "code",
   "execution_count": 246,
   "metadata": {},
   "outputs": [],
   "source": [
    "# Set the window size and polynomial order for the Savitzky-Golay filter\n",
    "window_size = 9\n",
    "poly_order = 2\n",
    "\n",
    "# Apply Savitzky-Golay filter to smooth the Absorbance values\n",
    "df['Smoothed_Baseline'] = df.groupby('SpecID')['Baseline_Corrected_Absorbance'].transform(lambda x: savgol_filter(x, window_size, poly_order, deriv=0))"
   ]
  },
  {
   "cell_type": "code",
   "execution_count": 247,
   "metadata": {},
   "outputs": [],
   "source": [
    "smooth_baseline = prepare_wavelength_df(df, 'Smoothed_Baseline')"
   ]
  },
  {
   "cell_type": "code",
   "execution_count": 248,
   "metadata": {},
   "outputs": [
    {
     "name": "stdout",
     "output_type": "stream",
     "text": [
      "ExtraTreesClassifier Cross-Validation Accuracy: 0.5807 +/- 0.1159\n"
     ]
    }
   ],
   "source": [
    "evaluate_extra_trees(smooth_baseline)"
   ]
  },
  {
   "cell_type": "code",
   "execution_count": 249,
   "metadata": {},
   "outputs": [],
   "source": [
    "df['Scaled_Smooth_Baseline'] = df.groupby('SpecID')['Smoothed_Baseline'].transform(lambda x: normalise(x))"
   ]
  },
  {
   "cell_type": "code",
   "execution_count": 250,
   "metadata": {},
   "outputs": [],
   "source": [
    "scaled_smooth_baseline = prepare_wavelength_df(df, 'Scaled_Smooth_Baseline')"
   ]
  },
  {
   "cell_type": "code",
   "execution_count": 251,
   "metadata": {},
   "outputs": [
    {
     "name": "stdout",
     "output_type": "stream",
     "text": [
      "ExtraTreesClassifier Cross-Validation Accuracy: 0.5802 +/- 0.1107\n"
     ]
    }
   ],
   "source": [
    "evaluate_extra_trees(scaled_smooth_baseline)"
   ]
  },
  {
   "cell_type": "code",
   "execution_count": 252,
   "metadata": {},
   "outputs": [],
   "source": [
    "# Set the window size and polynomial order for the Savitzky-Golay filter\n",
    "window_size = 101\n",
    "poly_order = 2\n",
    "\n",
    "# Apply Savitzky-Golay filter to smooth the Absorbance values\n",
    "df['Smoothed_Baseline'] = df.groupby('SpecID')['Baseline_Corrected_Absorbance'].transform(lambda x: savgol_filter(x, window_size, poly_order, deriv=0))"
   ]
  },
  {
   "cell_type": "code",
   "execution_count": 253,
   "metadata": {},
   "outputs": [],
   "source": [
    "smooth_baseline = prepare_wavelength_df(df, 'Smoothed_Baseline')"
   ]
  },
  {
   "cell_type": "code",
   "execution_count": 254,
   "metadata": {},
   "outputs": [
    {
     "name": "stdout",
     "output_type": "stream",
     "text": [
      "ExtraTreesClassifier Cross-Validation Accuracy: 0.5800 +/- 0.1003\n"
     ]
    }
   ],
   "source": [
    "evaluate_extra_trees(smooth_baseline)"
   ]
  },
  {
   "cell_type": "code",
   "execution_count": 255,
   "metadata": {},
   "outputs": [],
   "source": [
    "df['Scaled_Smooth_Baseline'] = df.groupby('SpecID')['Smoothed_Baseline'].transform(lambda x: normalise(x))"
   ]
  },
  {
   "cell_type": "code",
   "execution_count": 256,
   "metadata": {},
   "outputs": [],
   "source": [
    "scaled_smooth_baseline = prepare_wavelength_df(df, 'Scaled_Smooth_Baseline')"
   ]
  },
  {
   "cell_type": "code",
   "execution_count": 257,
   "metadata": {},
   "outputs": [
    {
     "name": "stdout",
     "output_type": "stream",
     "text": [
      "ExtraTreesClassifier Cross-Validation Accuracy: 0.5663 +/- 0.1097\n"
     ]
    }
   ],
   "source": [
    "evaluate_extra_trees(scaled_smooth_baseline)"
   ]
  },
  {
   "cell_type": "markdown",
   "metadata": {},
   "source": [
    "This is worse, lets try vector normalisation, where the spectra are scaled by their euclidean norm."
   ]
  },
  {
   "cell_type": "code",
   "execution_count": 258,
   "metadata": {},
   "outputs": [],
   "source": [
    "def vector_normalise(absorbances):\n",
    "    l2_norm = np.sqrt(np.sum(absorbances**2))  # Calculate the euclidean norm\n",
    "    normalized_absorbances = absorbances / l2_norm\n",
    "    return normalized_absorbances\n",
    "\n",
    "df['Vector_Scaled_Absorbance'] = df.groupby('SpecID')['Absorbance'].transform(lambda x: vector_normalise(x))"
   ]
  },
  {
   "cell_type": "code",
   "execution_count": 259,
   "metadata": {},
   "outputs": [],
   "source": [
    "df['Scaled_Smooth_Baseline'] = df.groupby('SpecID')['Smoothed_Baseline'].transform(lambda x: vector_normalise(x))"
   ]
  },
  {
   "cell_type": "code",
   "execution_count": 260,
   "metadata": {},
   "outputs": [],
   "source": [
    "scaled_smooth_baseline = prepare_wavelength_df(df, 'Scaled_Smooth_Baseline')"
   ]
  },
  {
   "cell_type": "code",
   "execution_count": 261,
   "metadata": {},
   "outputs": [
    {
     "name": "stdout",
     "output_type": "stream",
     "text": [
      "ExtraTreesClassifier Cross-Validation Accuracy: 0.5751 +/- 0.1114\n"
     ]
    }
   ],
   "source": [
    "evaluate_extra_trees(scaled_smooth_baseline)"
   ]
  },
  {
   "cell_type": "markdown",
   "metadata": {},
   "source": [
    "----"
   ]
  },
  {
   "cell_type": "code",
   "execution_count": 262,
   "metadata": {},
   "outputs": [],
   "source": [
    "df['No_Below_Baseline'] = np.where(df['Baseline_Corrected_Absorbance'] < 0, 0, df['Baseline_Corrected_Absorbance'])"
   ]
  },
  {
   "cell_type": "code",
   "execution_count": 263,
   "metadata": {},
   "outputs": [],
   "source": [
    "no_negative = prepare_wavelength_df(df, 'No_Below_Baseline')"
   ]
  },
  {
   "cell_type": "code",
   "execution_count": 264,
   "metadata": {},
   "outputs": [
    {
     "name": "stdout",
     "output_type": "stream",
     "text": [
      "ExtraTreesClassifier Cross-Validation Accuracy: 0.5866 +/- 0.1161\n"
     ]
    }
   ],
   "source": [
    "evaluate_extra_trees(no_negative)"
   ]
  },
  {
   "cell_type": "markdown",
   "metadata": {},
   "source": [
    "Then with scaling."
   ]
  },
  {
   "cell_type": "code",
   "execution_count": 265,
   "metadata": {},
   "outputs": [],
   "source": [
    "df['Scaled_No_Below_Baseline'] = np.where(df['Scaled_Baseline_Corrected'] < 0, 0, df['Scaled_Baseline_Corrected'])"
   ]
  },
  {
   "cell_type": "code",
   "execution_count": 266,
   "metadata": {},
   "outputs": [],
   "source": [
    "scaled_no_negative = prepare_wavelength_df(df, 'Scaled_No_Below_Baseline')"
   ]
  },
  {
   "cell_type": "code",
   "execution_count": 267,
   "metadata": {},
   "outputs": [
    {
     "data": {
      "text/html": [
       "<div>\n",
       "<style scoped>\n",
       "    .dataframe tbody tr th:only-of-type {\n",
       "        vertical-align: middle;\n",
       "    }\n",
       "\n",
       "    .dataframe tbody tr th {\n",
       "        vertical-align: top;\n",
       "    }\n",
       "\n",
       "    .dataframe thead th {\n",
       "        text-align: right;\n",
       "    }\n",
       "</style>\n",
       "<table border=\"1\" class=\"dataframe\">\n",
       "  <thead>\n",
       "    <tr style=\"text-align: right;\">\n",
       "      <th></th>\n",
       "      <th>400.22778</th>\n",
       "      <th>400.91116</th>\n",
       "      <th>401.59454</th>\n",
       "      <th>402.27789</th>\n",
       "      <th>402.96127</th>\n",
       "      <th>403.64465</th>\n",
       "      <th>404.32803</th>\n",
       "      <th>405.01138</th>\n",
       "      <th>405.69476</th>\n",
       "      <th>406.37814</th>\n",
       "      <th>...</th>\n",
       "      <th>1794.9886</th>\n",
       "      <th>1795.672</th>\n",
       "      <th>1796.3553</th>\n",
       "      <th>1797.0387</th>\n",
       "      <th>1797.722</th>\n",
       "      <th>1798.4055</th>\n",
       "      <th>1799.0889</th>\n",
       "      <th>1799.7722</th>\n",
       "      <th>SurID</th>\n",
       "      <th>Status</th>\n",
       "    </tr>\n",
       "    <tr>\n",
       "      <th>SpecID</th>\n",
       "      <th></th>\n",
       "      <th></th>\n",
       "      <th></th>\n",
       "      <th></th>\n",
       "      <th></th>\n",
       "      <th></th>\n",
       "      <th></th>\n",
       "      <th></th>\n",
       "      <th></th>\n",
       "      <th></th>\n",
       "      <th></th>\n",
       "      <th></th>\n",
       "      <th></th>\n",
       "      <th></th>\n",
       "      <th></th>\n",
       "      <th></th>\n",
       "      <th></th>\n",
       "      <th></th>\n",
       "      <th></th>\n",
       "      <th></th>\n",
       "      <th></th>\n",
       "    </tr>\n",
       "  </thead>\n",
       "  <tbody>\n",
       "    <tr>\n",
       "      <th>201210-1-00</th>\n",
       "      <td>0.162081</td>\n",
       "      <td>0.214345</td>\n",
       "      <td>0.182709</td>\n",
       "      <td>0.112378</td>\n",
       "      <td>0.126999</td>\n",
       "      <td>0.152420</td>\n",
       "      <td>0.051657</td>\n",
       "      <td>0.211169</td>\n",
       "      <td>0.219674</td>\n",
       "      <td>0.099800</td>\n",
       "      <td>...</td>\n",
       "      <td>0.000000</td>\n",
       "      <td>0.0</td>\n",
       "      <td>0.004077</td>\n",
       "      <td>0.0</td>\n",
       "      <td>0.0</td>\n",
       "      <td>0.0</td>\n",
       "      <td>0.0</td>\n",
       "      <td>0.0</td>\n",
       "      <td>201210-1</td>\n",
       "      <td>Normal</td>\n",
       "    </tr>\n",
       "    <tr>\n",
       "      <th>201210-1-01</th>\n",
       "      <td>0.164229</td>\n",
       "      <td>0.144965</td>\n",
       "      <td>0.111213</td>\n",
       "      <td>0.111003</td>\n",
       "      <td>0.150426</td>\n",
       "      <td>0.204018</td>\n",
       "      <td>0.223494</td>\n",
       "      <td>0.154551</td>\n",
       "      <td>0.177403</td>\n",
       "      <td>0.158626</td>\n",
       "      <td>...</td>\n",
       "      <td>0.016996</td>\n",
       "      <td>0.0</td>\n",
       "      <td>0.000000</td>\n",
       "      <td>0.0</td>\n",
       "      <td>0.0</td>\n",
       "      <td>0.0</td>\n",
       "      <td>0.0</td>\n",
       "      <td>0.0</td>\n",
       "      <td>201210-1</td>\n",
       "      <td>Normal</td>\n",
       "    </tr>\n",
       "    <tr>\n",
       "      <th>201210-1-02</th>\n",
       "      <td>0.080517</td>\n",
       "      <td>0.060055</td>\n",
       "      <td>0.057829</td>\n",
       "      <td>0.066127</td>\n",
       "      <td>0.071087</td>\n",
       "      <td>0.067203</td>\n",
       "      <td>0.057718</td>\n",
       "      <td>0.050635</td>\n",
       "      <td>0.056021</td>\n",
       "      <td>0.053443</td>\n",
       "      <td>...</td>\n",
       "      <td>0.000000</td>\n",
       "      <td>0.0</td>\n",
       "      <td>0.000000</td>\n",
       "      <td>0.0</td>\n",
       "      <td>0.0</td>\n",
       "      <td>0.0</td>\n",
       "      <td>0.0</td>\n",
       "      <td>0.0</td>\n",
       "      <td>201210-1</td>\n",
       "      <td>Normal</td>\n",
       "    </tr>\n",
       "    <tr>\n",
       "      <th>201210-1-03</th>\n",
       "      <td>0.159549</td>\n",
       "      <td>0.146084</td>\n",
       "      <td>0.138994</td>\n",
       "      <td>0.149742</td>\n",
       "      <td>0.168896</td>\n",
       "      <td>0.176220</td>\n",
       "      <td>0.168741</td>\n",
       "      <td>0.180861</td>\n",
       "      <td>0.164033</td>\n",
       "      <td>0.137987</td>\n",
       "      <td>...</td>\n",
       "      <td>0.000000</td>\n",
       "      <td>0.0</td>\n",
       "      <td>0.000000</td>\n",
       "      <td>0.0</td>\n",
       "      <td>0.0</td>\n",
       "      <td>0.0</td>\n",
       "      <td>0.0</td>\n",
       "      <td>0.0</td>\n",
       "      <td>201210-1</td>\n",
       "      <td>Normal</td>\n",
       "    </tr>\n",
       "    <tr>\n",
       "      <th>201210-1-04</th>\n",
       "      <td>0.322052</td>\n",
       "      <td>0.316578</td>\n",
       "      <td>0.305560</td>\n",
       "      <td>0.298284</td>\n",
       "      <td>0.274471</td>\n",
       "      <td>0.254305</td>\n",
       "      <td>0.277881</td>\n",
       "      <td>0.257458</td>\n",
       "      <td>0.245914</td>\n",
       "      <td>0.197731</td>\n",
       "      <td>...</td>\n",
       "      <td>0.000000</td>\n",
       "      <td>0.0</td>\n",
       "      <td>0.000000</td>\n",
       "      <td>0.0</td>\n",
       "      <td>0.0</td>\n",
       "      <td>0.0</td>\n",
       "      <td>0.0</td>\n",
       "      <td>0.0</td>\n",
       "      <td>201210-1</td>\n",
       "      <td>Normal</td>\n",
       "    </tr>\n",
       "  </tbody>\n",
       "</table>\n",
       "<p>5 rows × 2051 columns</p>\n",
       "</div>"
      ],
      "text/plain": [
       "             400.22778  400.91116  401.59454  402.27789  402.96127  403.64465  \\\n",
       "SpecID                                                                          \n",
       "201210-1-00   0.162081   0.214345   0.182709   0.112378   0.126999   0.152420   \n",
       "201210-1-01   0.164229   0.144965   0.111213   0.111003   0.150426   0.204018   \n",
       "201210-1-02   0.080517   0.060055   0.057829   0.066127   0.071087   0.067203   \n",
       "201210-1-03   0.159549   0.146084   0.138994   0.149742   0.168896   0.176220   \n",
       "201210-1-04   0.322052   0.316578   0.305560   0.298284   0.274471   0.254305   \n",
       "\n",
       "             404.32803  405.01138  405.69476  406.37814  ...  1794.9886  \\\n",
       "SpecID                                                   ...              \n",
       "201210-1-00   0.051657   0.211169   0.219674   0.099800  ...   0.000000   \n",
       "201210-1-01   0.223494   0.154551   0.177403   0.158626  ...   0.016996   \n",
       "201210-1-02   0.057718   0.050635   0.056021   0.053443  ...   0.000000   \n",
       "201210-1-03   0.168741   0.180861   0.164033   0.137987  ...   0.000000   \n",
       "201210-1-04   0.277881   0.257458   0.245914   0.197731  ...   0.000000   \n",
       "\n",
       "             1795.672  1796.3553  1797.0387  1797.722  1798.4055  1799.0889  \\\n",
       "SpecID                                                                        \n",
       "201210-1-00       0.0   0.004077        0.0       0.0        0.0        0.0   \n",
       "201210-1-01       0.0   0.000000        0.0       0.0        0.0        0.0   \n",
       "201210-1-02       0.0   0.000000        0.0       0.0        0.0        0.0   \n",
       "201210-1-03       0.0   0.000000        0.0       0.0        0.0        0.0   \n",
       "201210-1-04       0.0   0.000000        0.0       0.0        0.0        0.0   \n",
       "\n",
       "             1799.7722     SurID  Status  \n",
       "SpecID                                    \n",
       "201210-1-00        0.0  201210-1  Normal  \n",
       "201210-1-01        0.0  201210-1  Normal  \n",
       "201210-1-02        0.0  201210-1  Normal  \n",
       "201210-1-03        0.0  201210-1  Normal  \n",
       "201210-1-04        0.0  201210-1  Normal  \n",
       "\n",
       "[5 rows x 2051 columns]"
      ]
     },
     "execution_count": 267,
     "metadata": {},
     "output_type": "execute_result"
    }
   ],
   "source": [
    "scaled_no_negative.head()"
   ]
  },
  {
   "cell_type": "code",
   "execution_count": 268,
   "metadata": {},
   "outputs": [
    {
     "name": "stdout",
     "output_type": "stream",
     "text": [
      "ExtraTreesClassifier Cross-Validation Accuracy: 0.5686 +/- 0.1286\n"
     ]
    }
   ],
   "source": [
    "evaluate_extra_trees(scaled_no_negative)"
   ]
  },
  {
   "cell_type": "markdown",
   "metadata": {},
   "source": [
    "Try Min-Max Scaling Instead"
   ]
  },
  {
   "cell_type": "code",
   "execution_count": 269,
   "metadata": {},
   "outputs": [],
   "source": [
    "def min_max_scale(absorbances):\n",
    "    min_value = np.min(absorbances)\n",
    "    max_value = np.max(absorbances)\n",
    "    return (absorbances - min_value) / (max_value - min_value)\n",
    "\n",
    "df['MinMax_Absorbance'] = df.groupby('SpecID')['Absorbance'].transform(lambda x: min_max_scale(x))"
   ]
  },
  {
   "cell_type": "code",
   "execution_count": 270,
   "metadata": {},
   "outputs": [],
   "source": [
    "min_max_raw_df = prepare_wavelength_df(df, 'MinMax_Absorbance')"
   ]
  },
  {
   "cell_type": "code",
   "execution_count": 271,
   "metadata": {},
   "outputs": [
    {
     "name": "stdout",
     "output_type": "stream",
     "text": [
      "ExtraTreesClassifier Cross-Validation Accuracy: 0.5180 +/- 0.0930\n"
     ]
    }
   ],
   "source": [
    "evaluate_extra_trees(min_max_raw_df)"
   ]
  },
  {
   "cell_type": "code",
   "execution_count": 272,
   "metadata": {},
   "outputs": [],
   "source": [
    "df['MinMax_Baseline'] = df.groupby('SpecID')['Baseline_Corrected_Absorbance'].transform(lambda x: min_max_scale(x))"
   ]
  },
  {
   "cell_type": "code",
   "execution_count": 273,
   "metadata": {},
   "outputs": [],
   "source": [
    "min_max_baseline_df = prepare_wavelength_df(df, 'MinMax_Baseline')"
   ]
  },
  {
   "cell_type": "code",
   "execution_count": 274,
   "metadata": {},
   "outputs": [
    {
     "data": {
      "text/html": [
       "<div>\n",
       "<style scoped>\n",
       "    .dataframe tbody tr th:only-of-type {\n",
       "        vertical-align: middle;\n",
       "    }\n",
       "\n",
       "    .dataframe tbody tr th {\n",
       "        vertical-align: top;\n",
       "    }\n",
       "\n",
       "    .dataframe thead th {\n",
       "        text-align: right;\n",
       "    }\n",
       "</style>\n",
       "<table border=\"1\" class=\"dataframe\">\n",
       "  <thead>\n",
       "    <tr style=\"text-align: right;\">\n",
       "      <th></th>\n",
       "      <th>400.22778</th>\n",
       "      <th>400.91116</th>\n",
       "      <th>401.59454</th>\n",
       "      <th>402.27789</th>\n",
       "      <th>402.96127</th>\n",
       "      <th>403.64465</th>\n",
       "      <th>404.32803</th>\n",
       "      <th>405.01138</th>\n",
       "      <th>405.69476</th>\n",
       "      <th>406.37814</th>\n",
       "      <th>...</th>\n",
       "      <th>1794.9886</th>\n",
       "      <th>1795.672</th>\n",
       "      <th>1796.3553</th>\n",
       "      <th>1797.0387</th>\n",
       "      <th>1797.722</th>\n",
       "      <th>1798.4055</th>\n",
       "      <th>1799.0889</th>\n",
       "      <th>1799.7722</th>\n",
       "      <th>SurID</th>\n",
       "      <th>Status</th>\n",
       "    </tr>\n",
       "    <tr>\n",
       "      <th>SpecID</th>\n",
       "      <th></th>\n",
       "      <th></th>\n",
       "      <th></th>\n",
       "      <th></th>\n",
       "      <th></th>\n",
       "      <th></th>\n",
       "      <th></th>\n",
       "      <th></th>\n",
       "      <th></th>\n",
       "      <th></th>\n",
       "      <th></th>\n",
       "      <th></th>\n",
       "      <th></th>\n",
       "      <th></th>\n",
       "      <th></th>\n",
       "      <th></th>\n",
       "      <th></th>\n",
       "      <th></th>\n",
       "      <th></th>\n",
       "      <th></th>\n",
       "      <th></th>\n",
       "    </tr>\n",
       "  </thead>\n",
       "  <tbody>\n",
       "    <tr>\n",
       "      <th>201210-1-00</th>\n",
       "      <td>0.395134</td>\n",
       "      <td>0.432861</td>\n",
       "      <td>0.410024</td>\n",
       "      <td>0.359255</td>\n",
       "      <td>0.369809</td>\n",
       "      <td>0.388160</td>\n",
       "      <td>0.315422</td>\n",
       "      <td>0.430569</td>\n",
       "      <td>0.436708</td>\n",
       "      <td>0.350175</td>\n",
       "      <td>...</td>\n",
       "      <td>0.217434</td>\n",
       "      <td>0.233388</td>\n",
       "      <td>0.281076</td>\n",
       "      <td>0.220954</td>\n",
       "      <td>0.225593</td>\n",
       "      <td>0.161383</td>\n",
       "      <td>0.165992</td>\n",
       "      <td>0.146348</td>\n",
       "      <td>201210-1</td>\n",
       "      <td>Normal</td>\n",
       "    </tr>\n",
       "    <tr>\n",
       "      <th>201210-1-01</th>\n",
       "      <td>0.357685</td>\n",
       "      <td>0.342880</td>\n",
       "      <td>0.316941</td>\n",
       "      <td>0.316779</td>\n",
       "      <td>0.347077</td>\n",
       "      <td>0.388264</td>\n",
       "      <td>0.403232</td>\n",
       "      <td>0.350248</td>\n",
       "      <td>0.367810</td>\n",
       "      <td>0.353379</td>\n",
       "      <td>...</td>\n",
       "      <td>0.244532</td>\n",
       "      <td>0.181988</td>\n",
       "      <td>0.173269</td>\n",
       "      <td>0.152735</td>\n",
       "      <td>0.151015</td>\n",
       "      <td>0.155954</td>\n",
       "      <td>0.182146</td>\n",
       "      <td>0.214424</td>\n",
       "      <td>201210-1</td>\n",
       "      <td>Normal</td>\n",
       "    </tr>\n",
       "    <tr>\n",
       "      <th>201210-1-02</th>\n",
       "      <td>0.144548</td>\n",
       "      <td>0.125512</td>\n",
       "      <td>0.123440</td>\n",
       "      <td>0.131161</td>\n",
       "      <td>0.135776</td>\n",
       "      <td>0.132162</td>\n",
       "      <td>0.123337</td>\n",
       "      <td>0.116748</td>\n",
       "      <td>0.121758</td>\n",
       "      <td>0.119360</td>\n",
       "      <td>...</td>\n",
       "      <td>0.043073</td>\n",
       "      <td>0.050639</td>\n",
       "      <td>0.055003</td>\n",
       "      <td>0.045393</td>\n",
       "      <td>0.043742</td>\n",
       "      <td>0.054757</td>\n",
       "      <td>0.042925</td>\n",
       "      <td>0.041352</td>\n",
       "      <td>201210-1</td>\n",
       "      <td>Normal</td>\n",
       "    </tr>\n",
       "    <tr>\n",
       "      <th>201210-1-03</th>\n",
       "      <td>0.286581</td>\n",
       "      <td>0.275152</td>\n",
       "      <td>0.269134</td>\n",
       "      <td>0.278256</td>\n",
       "      <td>0.294516</td>\n",
       "      <td>0.300732</td>\n",
       "      <td>0.294384</td>\n",
       "      <td>0.304672</td>\n",
       "      <td>0.290388</td>\n",
       "      <td>0.268278</td>\n",
       "      <td>...</td>\n",
       "      <td>0.085980</td>\n",
       "      <td>0.110470</td>\n",
       "      <td>0.094815</td>\n",
       "      <td>0.102015</td>\n",
       "      <td>0.099885</td>\n",
       "      <td>0.109076</td>\n",
       "      <td>0.126198</td>\n",
       "      <td>0.097395</td>\n",
       "      <td>201210-1</td>\n",
       "      <td>Normal</td>\n",
       "    </tr>\n",
       "    <tr>\n",
       "      <th>201210-1-04</th>\n",
       "      <td>0.496369</td>\n",
       "      <td>0.492302</td>\n",
       "      <td>0.484117</td>\n",
       "      <td>0.478712</td>\n",
       "      <td>0.461022</td>\n",
       "      <td>0.446041</td>\n",
       "      <td>0.463555</td>\n",
       "      <td>0.448383</td>\n",
       "      <td>0.439807</td>\n",
       "      <td>0.404014</td>\n",
       "      <td>...</td>\n",
       "      <td>0.155575</td>\n",
       "      <td>0.021291</td>\n",
       "      <td>0.047252</td>\n",
       "      <td>0.050665</td>\n",
       "      <td>0.063976</td>\n",
       "      <td>0.106518</td>\n",
       "      <td>0.067558</td>\n",
       "      <td>0.158389</td>\n",
       "      <td>201210-1</td>\n",
       "      <td>Normal</td>\n",
       "    </tr>\n",
       "  </tbody>\n",
       "</table>\n",
       "<p>5 rows × 2051 columns</p>\n",
       "</div>"
      ],
      "text/plain": [
       "             400.22778  400.91116  401.59454  402.27789  402.96127  403.64465  \\\n",
       "SpecID                                                                          \n",
       "201210-1-00   0.395134   0.432861   0.410024   0.359255   0.369809   0.388160   \n",
       "201210-1-01   0.357685   0.342880   0.316941   0.316779   0.347077   0.388264   \n",
       "201210-1-02   0.144548   0.125512   0.123440   0.131161   0.135776   0.132162   \n",
       "201210-1-03   0.286581   0.275152   0.269134   0.278256   0.294516   0.300732   \n",
       "201210-1-04   0.496369   0.492302   0.484117   0.478712   0.461022   0.446041   \n",
       "\n",
       "             404.32803  405.01138  405.69476  406.37814  ...  1794.9886  \\\n",
       "SpecID                                                   ...              \n",
       "201210-1-00   0.315422   0.430569   0.436708   0.350175  ...   0.217434   \n",
       "201210-1-01   0.403232   0.350248   0.367810   0.353379  ...   0.244532   \n",
       "201210-1-02   0.123337   0.116748   0.121758   0.119360  ...   0.043073   \n",
       "201210-1-03   0.294384   0.304672   0.290388   0.268278  ...   0.085980   \n",
       "201210-1-04   0.463555   0.448383   0.439807   0.404014  ...   0.155575   \n",
       "\n",
       "             1795.672  1796.3553  1797.0387  1797.722  1798.4055  1799.0889  \\\n",
       "SpecID                                                                        \n",
       "201210-1-00  0.233388   0.281076   0.220954  0.225593   0.161383   0.165992   \n",
       "201210-1-01  0.181988   0.173269   0.152735  0.151015   0.155954   0.182146   \n",
       "201210-1-02  0.050639   0.055003   0.045393  0.043742   0.054757   0.042925   \n",
       "201210-1-03  0.110470   0.094815   0.102015  0.099885   0.109076   0.126198   \n",
       "201210-1-04  0.021291   0.047252   0.050665  0.063976   0.106518   0.067558   \n",
       "\n",
       "             1799.7722     SurID  Status  \n",
       "SpecID                                    \n",
       "201210-1-00   0.146348  201210-1  Normal  \n",
       "201210-1-01   0.214424  201210-1  Normal  \n",
       "201210-1-02   0.041352  201210-1  Normal  \n",
       "201210-1-03   0.097395  201210-1  Normal  \n",
       "201210-1-04   0.158389  201210-1  Normal  \n",
       "\n",
       "[5 rows x 2051 columns]"
      ]
     },
     "execution_count": 274,
     "metadata": {},
     "output_type": "execute_result"
    }
   ],
   "source": [
    "min_max_baseline_df.head()"
   ]
  },
  {
   "cell_type": "code",
   "execution_count": 275,
   "metadata": {},
   "outputs": [
    {
     "name": "stdout",
     "output_type": "stream",
     "text": [
      "ExtraTreesClassifier Cross-Validation Accuracy: 0.5300 +/- 0.1225\n"
     ]
    }
   ],
   "source": [
    "evaluate_extra_trees(min_max_baseline_df)"
   ]
  },
  {
   "cell_type": "code",
   "execution_count": 276,
   "metadata": {},
   "outputs": [],
   "source": [
    "vector_scale_raw = prepare_wavelength_df(df, \"Vector_Scaled_Absorbance\")"
   ]
  },
  {
   "cell_type": "code",
   "execution_count": 277,
   "metadata": {},
   "outputs": [
    {
     "name": "stdout",
     "output_type": "stream",
     "text": [
      "ExtraTreesClassifier Cross-Validation Accuracy: 0.5387 +/- 0.0954\n"
     ]
    }
   ],
   "source": [
    "evaluate_extra_trees(vector_scale_raw)"
   ]
  },
  {
   "cell_type": "markdown",
   "metadata": {},
   "source": [
    "Try on the baseline corrected spectra."
   ]
  },
  {
   "cell_type": "code",
   "execution_count": 278,
   "metadata": {},
   "outputs": [],
   "source": [
    "df['Vector_Scaled_Baseline'] = df.groupby('SpecID')['Baseline_Corrected_Absorbance'].transform(lambda x: vector_normalise(x))"
   ]
  },
  {
   "cell_type": "code",
   "execution_count": 279,
   "metadata": {},
   "outputs": [],
   "source": [
    "vector_scale_baseline = prepare_wavelength_df(df, 'Vector_Scaled_Baseline')"
   ]
  },
  {
   "cell_type": "code",
   "execution_count": 280,
   "metadata": {},
   "outputs": [
    {
     "name": "stdout",
     "output_type": "stream",
     "text": [
      "ExtraTreesClassifier Cross-Validation Accuracy: 0.5620 +/- 0.1205\n"
     ]
    }
   ],
   "source": [
    "evaluate_extra_trees(vector_scale_baseline)"
   ]
  }
 ],
 "metadata": {
  "kernelspec": {
   "display_name": "Python 3",
   "language": "python",
   "name": "python3"
  },
  "language_info": {
   "codemirror_mode": {
    "name": "ipython",
    "version": 3
   },
   "file_extension": ".py",
   "mimetype": "text/x-python",
   "name": "python",
   "nbconvert_exporter": "python",
   "pygments_lexer": "ipython3",
   "version": "3.10.12"
  }
 },
 "nbformat": 4,
 "nbformat_minor": 2
}
