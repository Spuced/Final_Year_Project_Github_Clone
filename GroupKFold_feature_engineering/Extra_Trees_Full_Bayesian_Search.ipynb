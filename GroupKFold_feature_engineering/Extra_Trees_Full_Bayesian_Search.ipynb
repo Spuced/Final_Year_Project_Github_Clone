{
 "cells": [
  {
   "cell_type": "markdown",
   "metadata": {},
   "source": [
    "### **This Notebook Performs a Parameters Search on Every Possible Cleaning and Model Parameter.**"
   ]
  },
  {
   "cell_type": "markdown",
   "metadata": {},
   "source": [
    "Lets test different spectral cleaning parameters by building a model pipeline."
   ]
  },
  {
   "cell_type": "markdown",
   "metadata": {},
   "source": [
    "Import Libraries"
   ]
  },
  {
   "cell_type": "code",
   "execution_count": 5,
   "metadata": {},
   "outputs": [],
   "source": [
    "import pandas as pd\n",
    "import numpy as np\n",
    "from scipy.signal import savgol_filter\n",
    "from sklearn.ensemble import RandomForestClassifier\n",
    "from sklearn.ensemble import ExtraTreesClassifier\n",
    "from sklearn.model_selection import cross_validate, GroupKFold, cross_val_score\n",
    "from Spectra_Preparation_Functions import *\n",
    "from sklearn.base import BaseEstimator, TransformerMixin\n",
    "from sklearn.pipeline import Pipeline\n",
    "import optuna\n",
    "from joblib import Parallel, delayed\n",
    "import csv"
   ]
  },
  {
   "cell_type": "markdown",
   "metadata": {},
   "source": [
    "Read the spectral data"
   ]
  },
  {
   "cell_type": "code",
   "execution_count": 2,
   "metadata": {},
   "outputs": [],
   "source": [
    "#df = pd.read_csv(\"../../data/exosomes.raw_spectrum_1.csv\")\n",
    "df = pd.read_csv(\"../../data/exosomes.raw_spectrum_400-1800.csv\")\n",
    "#df = pd.read_csv(\"../../data/400-1800_spike_removed.csv\")"
   ]
  },
  {
   "cell_type": "code",
   "execution_count": 3,
   "metadata": {},
   "outputs": [
    {
     "data": {
      "text/html": [
       "<div>\n",
       "<style scoped>\n",
       "    .dataframe tbody tr th:only-of-type {\n",
       "        vertical-align: middle;\n",
       "    }\n",
       "\n",
       "    .dataframe tbody tr th {\n",
       "        vertical-align: top;\n",
       "    }\n",
       "\n",
       "    .dataframe thead th {\n",
       "        text-align: right;\n",
       "    }\n",
       "</style>\n",
       "<table border=\"1\" class=\"dataframe\">\n",
       "  <thead>\n",
       "    <tr style=\"text-align: right;\">\n",
       "      <th></th>\n",
       "      <th>SpecID</th>\n",
       "      <th>Seq</th>\n",
       "      <th>WaveNumber</th>\n",
       "      <th>Absorbance</th>\n",
       "      <th>SurID</th>\n",
       "      <th>Status</th>\n",
       "    </tr>\n",
       "  </thead>\n",
       "  <tbody>\n",
       "    <tr>\n",
       "      <th>0</th>\n",
       "      <td>201210-1-00</td>\n",
       "      <td>293</td>\n",
       "      <td>400.22778</td>\n",
       "      <td>1765.6628</td>\n",
       "      <td>201210-1</td>\n",
       "      <td>Normal</td>\n",
       "    </tr>\n",
       "    <tr>\n",
       "      <th>1</th>\n",
       "      <td>201210-1-00</td>\n",
       "      <td>294</td>\n",
       "      <td>400.91116</td>\n",
       "      <td>1774.7809</td>\n",
       "      <td>201210-1</td>\n",
       "      <td>Normal</td>\n",
       "    </tr>\n",
       "    <tr>\n",
       "      <th>2</th>\n",
       "      <td>201210-1-00</td>\n",
       "      <td>295</td>\n",
       "      <td>401.59454</td>\n",
       "      <td>1769.0302</td>\n",
       "      <td>201210-1</td>\n",
       "      <td>Normal</td>\n",
       "    </tr>\n",
       "    <tr>\n",
       "      <th>3</th>\n",
       "      <td>201210-1-00</td>\n",
       "      <td>296</td>\n",
       "      <td>402.27789</td>\n",
       "      <td>1756.4220</td>\n",
       "      <td>201210-1</td>\n",
       "      <td>Normal</td>\n",
       "    </tr>\n",
       "    <tr>\n",
       "      <th>4</th>\n",
       "      <td>201210-1-00</td>\n",
       "      <td>297</td>\n",
       "      <td>402.96127</td>\n",
       "      <td>1758.8690</td>\n",
       "      <td>201210-1</td>\n",
       "      <td>Normal</td>\n",
       "    </tr>\n",
       "    <tr>\n",
       "      <th>...</th>\n",
       "      <td>...</td>\n",
       "      <td>...</td>\n",
       "      <td>...</td>\n",
       "      <td>...</td>\n",
       "      <td>...</td>\n",
       "      <td>...</td>\n",
       "    </tr>\n",
       "    <tr>\n",
       "      <th>6239200</th>\n",
       "      <td>210526-3-09</td>\n",
       "      <td>2337</td>\n",
       "      <td>1797.03870</td>\n",
       "      <td>1617.3926</td>\n",
       "      <td>210526-3</td>\n",
       "      <td>Hyperglycemia</td>\n",
       "    </tr>\n",
       "    <tr>\n",
       "      <th>6239201</th>\n",
       "      <td>210526-3-09</td>\n",
       "      <td>2338</td>\n",
       "      <td>1797.72200</td>\n",
       "      <td>1633.0911</td>\n",
       "      <td>210526-3</td>\n",
       "      <td>Hyperglycemia</td>\n",
       "    </tr>\n",
       "    <tr>\n",
       "      <th>6239202</th>\n",
       "      <td>210526-3-09</td>\n",
       "      <td>2339</td>\n",
       "      <td>1798.40550</td>\n",
       "      <td>1633.3076</td>\n",
       "      <td>210526-3</td>\n",
       "      <td>Hyperglycemia</td>\n",
       "    </tr>\n",
       "    <tr>\n",
       "      <th>6239203</th>\n",
       "      <td>210526-3-09</td>\n",
       "      <td>2340</td>\n",
       "      <td>1799.08890</td>\n",
       "      <td>1641.8665</td>\n",
       "      <td>210526-3</td>\n",
       "      <td>Hyperglycemia</td>\n",
       "    </tr>\n",
       "    <tr>\n",
       "      <th>6239204</th>\n",
       "      <td>210526-3-09</td>\n",
       "      <td>2341</td>\n",
       "      <td>1799.77220</td>\n",
       "      <td>1618.2405</td>\n",
       "      <td>210526-3</td>\n",
       "      <td>Hyperglycemia</td>\n",
       "    </tr>\n",
       "  </tbody>\n",
       "</table>\n",
       "<p>6239205 rows × 6 columns</p>\n",
       "</div>"
      ],
      "text/plain": [
       "              SpecID   Seq  WaveNumber  Absorbance     SurID         Status\n",
       "0        201210-1-00   293   400.22778   1765.6628  201210-1         Normal\n",
       "1        201210-1-00   294   400.91116   1774.7809  201210-1         Normal\n",
       "2        201210-1-00   295   401.59454   1769.0302  201210-1         Normal\n",
       "3        201210-1-00   296   402.27789   1756.4220  201210-1         Normal\n",
       "4        201210-1-00   297   402.96127   1758.8690  201210-1         Normal\n",
       "...              ...   ...         ...         ...       ...            ...\n",
       "6239200  210526-3-09  2337  1797.03870   1617.3926  210526-3  Hyperglycemia\n",
       "6239201  210526-3-09  2338  1797.72200   1633.0911  210526-3  Hyperglycemia\n",
       "6239202  210526-3-09  2339  1798.40550   1633.3076  210526-3  Hyperglycemia\n",
       "6239203  210526-3-09  2340  1799.08890   1641.8665  210526-3  Hyperglycemia\n",
       "6239204  210526-3-09  2341  1799.77220   1618.2405  210526-3  Hyperglycemia\n",
       "\n",
       "[6239205 rows x 6 columns]"
      ]
     },
     "execution_count": 3,
     "metadata": {},
     "output_type": "execute_result"
    }
   ],
   "source": [
    "df"
   ]
  },
  {
   "cell_type": "code",
   "execution_count": 4,
   "metadata": {},
   "outputs": [
    {
     "data": {
      "text/html": [
       "<div>\n",
       "<style scoped>\n",
       "    .dataframe tbody tr th:only-of-type {\n",
       "        vertical-align: middle;\n",
       "    }\n",
       "\n",
       "    .dataframe tbody tr th {\n",
       "        vertical-align: top;\n",
       "    }\n",
       "\n",
       "    .dataframe thead th {\n",
       "        text-align: right;\n",
       "    }\n",
       "</style>\n",
       "<table border=\"1\" class=\"dataframe\">\n",
       "  <thead>\n",
       "    <tr style=\"text-align: right;\">\n",
       "      <th></th>\n",
       "      <th>400.22778</th>\n",
       "      <th>400.91116</th>\n",
       "      <th>401.59454</th>\n",
       "      <th>402.27789</th>\n",
       "      <th>402.96127</th>\n",
       "      <th>403.64465</th>\n",
       "      <th>404.32803</th>\n",
       "      <th>405.01138</th>\n",
       "      <th>405.69476</th>\n",
       "      <th>406.37814</th>\n",
       "      <th>...</th>\n",
       "      <th>1794.9886</th>\n",
       "      <th>1795.672</th>\n",
       "      <th>1796.3553</th>\n",
       "      <th>1797.0387</th>\n",
       "      <th>1797.722</th>\n",
       "      <th>1798.4055</th>\n",
       "      <th>1799.0889</th>\n",
       "      <th>1799.7722</th>\n",
       "      <th>SurID</th>\n",
       "      <th>Status</th>\n",
       "    </tr>\n",
       "    <tr>\n",
       "      <th>SpecID</th>\n",
       "      <th></th>\n",
       "      <th></th>\n",
       "      <th></th>\n",
       "      <th></th>\n",
       "      <th></th>\n",
       "      <th></th>\n",
       "      <th></th>\n",
       "      <th></th>\n",
       "      <th></th>\n",
       "      <th></th>\n",
       "      <th></th>\n",
       "      <th></th>\n",
       "      <th></th>\n",
       "      <th></th>\n",
       "      <th></th>\n",
       "      <th></th>\n",
       "      <th></th>\n",
       "      <th></th>\n",
       "      <th></th>\n",
       "      <th></th>\n",
       "      <th></th>\n",
       "    </tr>\n",
       "  </thead>\n",
       "  <tbody>\n",
       "    <tr>\n",
       "      <th>201210-1-00</th>\n",
       "      <td>1765.6628</td>\n",
       "      <td>1774.7809</td>\n",
       "      <td>1769.0302</td>\n",
       "      <td>1756.4220</td>\n",
       "      <td>1758.8690</td>\n",
       "      <td>1763.2300</td>\n",
       "      <td>1745.2285</td>\n",
       "      <td>1773.3534</td>\n",
       "      <td>1774.7166</td>\n",
       "      <td>1753.3281</td>\n",
       "      <td>...</td>\n",
       "      <td>1210.4993</td>\n",
       "      <td>1213.9619</td>\n",
       "      <td>1225.2153</td>\n",
       "      <td>1210.0010</td>\n",
       "      <td>1210.6858</td>\n",
       "      <td>1194.4679</td>\n",
       "      <td>1195.1451</td>\n",
       "      <td>1189.8683</td>\n",
       "      <td>201210-1</td>\n",
       "      <td>Normal</td>\n",
       "    </tr>\n",
       "    <tr>\n",
       "      <th>201210-1-01</th>\n",
       "      <td>1966.9930</td>\n",
       "      <td>1962.4237</td>\n",
       "      <td>1954.5616</td>\n",
       "      <td>1954.3228</td>\n",
       "      <td>1963.0917</td>\n",
       "      <td>1975.0807</td>\n",
       "      <td>1979.3162</td>\n",
       "      <td>1963.4561</td>\n",
       "      <td>1968.4587</td>\n",
       "      <td>1964.0000</td>\n",
       "      <td>...</td>\n",
       "      <td>1382.6973</td>\n",
       "      <td>1363.7004</td>\n",
       "      <td>1360.6210</td>\n",
       "      <td>1354.0477</td>\n",
       "      <td>1353.0381</td>\n",
       "      <td>1353.9978</td>\n",
       "      <td>1361.2426</td>\n",
       "      <td>1370.2874</td>\n",
       "      <td>201210-1</td>\n",
       "      <td>Normal</td>\n",
       "    </tr>\n",
       "    <tr>\n",
       "      <th>201210-1-02</th>\n",
       "      <td>2182.6694</td>\n",
       "      <td>2149.6565</td>\n",
       "      <td>2146.0227</td>\n",
       "      <td>2159.3459</td>\n",
       "      <td>2167.2910</td>\n",
       "      <td>2160.9861</td>\n",
       "      <td>2145.6575</td>\n",
       "      <td>2134.2004</td>\n",
       "      <td>2142.8303</td>\n",
       "      <td>2138.6309</td>\n",
       "      <td>...</td>\n",
       "      <td>1976.2070</td>\n",
       "      <td>1989.0183</td>\n",
       "      <td>1996.2838</td>\n",
       "      <td>1979.3507</td>\n",
       "      <td>1976.2002</td>\n",
       "      <td>1994.9839</td>\n",
       "      <td>1974.2030</td>\n",
       "      <td>1971.1880</td>\n",
       "      <td>201210-1</td>\n",
       "      <td>Normal</td>\n",
       "    </tr>\n",
       "    <tr>\n",
       "      <th>201210-1-03</th>\n",
       "      <td>2445.0837</td>\n",
       "      <td>2430.4973</td>\n",
       "      <td>2422.7927</td>\n",
       "      <td>2434.3433</td>\n",
       "      <td>2454.9700</td>\n",
       "      <td>2462.8245</td>\n",
       "      <td>2454.7007</td>\n",
       "      <td>2467.7329</td>\n",
       "      <td>2449.5161</td>\n",
       "      <td>2421.3474</td>\n",
       "      <td>...</td>\n",
       "      <td>1992.3817</td>\n",
       "      <td>2022.6331</td>\n",
       "      <td>2001.8311</td>\n",
       "      <td>2010.0946</td>\n",
       "      <td>2006.4933</td>\n",
       "      <td>2017.2891</td>\n",
       "      <td>2038.1699</td>\n",
       "      <td>2000.6475</td>\n",
       "      <td>201210-1</td>\n",
       "      <td>Normal</td>\n",
       "    </tr>\n",
       "    <tr>\n",
       "      <th>201210-1-04</th>\n",
       "      <td>2250.4536</td>\n",
       "      <td>2248.6235</td>\n",
       "      <td>2245.0984</td>\n",
       "      <td>2242.7173</td>\n",
       "      <td>2235.2803</td>\n",
       "      <td>2228.9585</td>\n",
       "      <td>2236.0095</td>\n",
       "      <td>2229.6091</td>\n",
       "      <td>2225.9231</td>\n",
       "      <td>2211.0359</td>\n",
       "      <td>...</td>\n",
       "      <td>2009.0385</td>\n",
       "      <td>1953.3303</td>\n",
       "      <td>1963.5698</td>\n",
       "      <td>1964.5299</td>\n",
       "      <td>1969.5634</td>\n",
       "      <td>1986.6266</td>\n",
       "      <td>1970.1484</td>\n",
       "      <td>2007.0848</td>\n",
       "      <td>201210-1</td>\n",
       "      <td>Normal</td>\n",
       "    </tr>\n",
       "  </tbody>\n",
       "</table>\n",
       "<p>5 rows × 2051 columns</p>\n",
       "</div>"
      ],
      "text/plain": [
       "             400.22778  400.91116  401.59454  402.27789  402.96127  403.64465  \\\n",
       "SpecID                                                                          \n",
       "201210-1-00  1765.6628  1774.7809  1769.0302  1756.4220  1758.8690  1763.2300   \n",
       "201210-1-01  1966.9930  1962.4237  1954.5616  1954.3228  1963.0917  1975.0807   \n",
       "201210-1-02  2182.6694  2149.6565  2146.0227  2159.3459  2167.2910  2160.9861   \n",
       "201210-1-03  2445.0837  2430.4973  2422.7927  2434.3433  2454.9700  2462.8245   \n",
       "201210-1-04  2250.4536  2248.6235  2245.0984  2242.7173  2235.2803  2228.9585   \n",
       "\n",
       "             404.32803  405.01138  405.69476  406.37814  ...  1794.9886  \\\n",
       "SpecID                                                   ...              \n",
       "201210-1-00  1745.2285  1773.3534  1774.7166  1753.3281  ...  1210.4993   \n",
       "201210-1-01  1979.3162  1963.4561  1968.4587  1964.0000  ...  1382.6973   \n",
       "201210-1-02  2145.6575  2134.2004  2142.8303  2138.6309  ...  1976.2070   \n",
       "201210-1-03  2454.7007  2467.7329  2449.5161  2421.3474  ...  1992.3817   \n",
       "201210-1-04  2236.0095  2229.6091  2225.9231  2211.0359  ...  2009.0385   \n",
       "\n",
       "              1795.672  1796.3553  1797.0387   1797.722  1798.4055  1799.0889  \\\n",
       "SpecID                                                                          \n",
       "201210-1-00  1213.9619  1225.2153  1210.0010  1210.6858  1194.4679  1195.1451   \n",
       "201210-1-01  1363.7004  1360.6210  1354.0477  1353.0381  1353.9978  1361.2426   \n",
       "201210-1-02  1989.0183  1996.2838  1979.3507  1976.2002  1994.9839  1974.2030   \n",
       "201210-1-03  2022.6331  2001.8311  2010.0946  2006.4933  2017.2891  2038.1699   \n",
       "201210-1-04  1953.3303  1963.5698  1964.5299  1969.5634  1986.6266  1970.1484   \n",
       "\n",
       "             1799.7722     SurID  Status  \n",
       "SpecID                                    \n",
       "201210-1-00  1189.8683  201210-1  Normal  \n",
       "201210-1-01  1370.2874  201210-1  Normal  \n",
       "201210-1-02  1971.1880  201210-1  Normal  \n",
       "201210-1-03  2000.6475  201210-1  Normal  \n",
       "201210-1-04  2007.0848  201210-1  Normal  \n",
       "\n",
       "[5 rows x 2051 columns]"
      ]
     },
     "execution_count": 4,
     "metadata": {},
     "output_type": "execute_result"
    }
   ],
   "source": [
    "wavelength_df = prepare_wavelength_df(df, 'Absorbance')\n",
    "wavelength_df.head()"
   ]
  },
  {
   "cell_type": "markdown",
   "metadata": {},
   "source": [
    ">#### **Use Optuna to Find the Best Cleaning Parameter**"
   ]
  },
  {
   "cell_type": "code",
   "execution_count": 5,
   "metadata": {},
   "outputs": [
    {
     "data": {
      "text/html": [
       "<div>\n",
       "<style scoped>\n",
       "    .dataframe tbody tr th:only-of-type {\n",
       "        vertical-align: middle;\n",
       "    }\n",
       "\n",
       "    .dataframe tbody tr th {\n",
       "        vertical-align: top;\n",
       "    }\n",
       "\n",
       "    .dataframe thead th {\n",
       "        text-align: right;\n",
       "    }\n",
       "</style>\n",
       "<table border=\"1\" class=\"dataframe\">\n",
       "  <thead>\n",
       "    <tr style=\"text-align: right;\">\n",
       "      <th></th>\n",
       "      <th>SpecID</th>\n",
       "      <th>Seq</th>\n",
       "      <th>WaveNumber</th>\n",
       "      <th>Absorbance</th>\n",
       "      <th>SurID</th>\n",
       "      <th>Status</th>\n",
       "    </tr>\n",
       "  </thead>\n",
       "  <tbody>\n",
       "    <tr>\n",
       "      <th>0</th>\n",
       "      <td>201210-1-00</td>\n",
       "      <td>293</td>\n",
       "      <td>400.22778</td>\n",
       "      <td>1765.6628</td>\n",
       "      <td>201210-1</td>\n",
       "      <td>Normal</td>\n",
       "    </tr>\n",
       "    <tr>\n",
       "      <th>1</th>\n",
       "      <td>201210-1-00</td>\n",
       "      <td>294</td>\n",
       "      <td>400.91116</td>\n",
       "      <td>1774.7809</td>\n",
       "      <td>201210-1</td>\n",
       "      <td>Normal</td>\n",
       "    </tr>\n",
       "    <tr>\n",
       "      <th>2</th>\n",
       "      <td>201210-1-00</td>\n",
       "      <td>295</td>\n",
       "      <td>401.59454</td>\n",
       "      <td>1769.0302</td>\n",
       "      <td>201210-1</td>\n",
       "      <td>Normal</td>\n",
       "    </tr>\n",
       "    <tr>\n",
       "      <th>3</th>\n",
       "      <td>201210-1-00</td>\n",
       "      <td>296</td>\n",
       "      <td>402.27789</td>\n",
       "      <td>1756.4220</td>\n",
       "      <td>201210-1</td>\n",
       "      <td>Normal</td>\n",
       "    </tr>\n",
       "    <tr>\n",
       "      <th>4</th>\n",
       "      <td>201210-1-00</td>\n",
       "      <td>297</td>\n",
       "      <td>402.96127</td>\n",
       "      <td>1758.8690</td>\n",
       "      <td>201210-1</td>\n",
       "      <td>Normal</td>\n",
       "    </tr>\n",
       "    <tr>\n",
       "      <th>...</th>\n",
       "      <td>...</td>\n",
       "      <td>...</td>\n",
       "      <td>...</td>\n",
       "      <td>...</td>\n",
       "      <td>...</td>\n",
       "      <td>...</td>\n",
       "    </tr>\n",
       "    <tr>\n",
       "      <th>6239200</th>\n",
       "      <td>210526-3-09</td>\n",
       "      <td>2337</td>\n",
       "      <td>1797.03870</td>\n",
       "      <td>1617.3926</td>\n",
       "      <td>210526-3</td>\n",
       "      <td>Hyperglycemia</td>\n",
       "    </tr>\n",
       "    <tr>\n",
       "      <th>6239201</th>\n",
       "      <td>210526-3-09</td>\n",
       "      <td>2338</td>\n",
       "      <td>1797.72200</td>\n",
       "      <td>1633.0911</td>\n",
       "      <td>210526-3</td>\n",
       "      <td>Hyperglycemia</td>\n",
       "    </tr>\n",
       "    <tr>\n",
       "      <th>6239202</th>\n",
       "      <td>210526-3-09</td>\n",
       "      <td>2339</td>\n",
       "      <td>1798.40550</td>\n",
       "      <td>1633.3076</td>\n",
       "      <td>210526-3</td>\n",
       "      <td>Hyperglycemia</td>\n",
       "    </tr>\n",
       "    <tr>\n",
       "      <th>6239203</th>\n",
       "      <td>210526-3-09</td>\n",
       "      <td>2340</td>\n",
       "      <td>1799.08890</td>\n",
       "      <td>1641.8665</td>\n",
       "      <td>210526-3</td>\n",
       "      <td>Hyperglycemia</td>\n",
       "    </tr>\n",
       "    <tr>\n",
       "      <th>6239204</th>\n",
       "      <td>210526-3-09</td>\n",
       "      <td>2341</td>\n",
       "      <td>1799.77220</td>\n",
       "      <td>1618.2405</td>\n",
       "      <td>210526-3</td>\n",
       "      <td>Hyperglycemia</td>\n",
       "    </tr>\n",
       "  </tbody>\n",
       "</table>\n",
       "<p>6239205 rows × 6 columns</p>\n",
       "</div>"
      ],
      "text/plain": [
       "              SpecID   Seq  WaveNumber  Absorbance     SurID         Status\n",
       "0        201210-1-00   293   400.22778   1765.6628  201210-1         Normal\n",
       "1        201210-1-00   294   400.91116   1774.7809  201210-1         Normal\n",
       "2        201210-1-00   295   401.59454   1769.0302  201210-1         Normal\n",
       "3        201210-1-00   296   402.27789   1756.4220  201210-1         Normal\n",
       "4        201210-1-00   297   402.96127   1758.8690  201210-1         Normal\n",
       "...              ...   ...         ...         ...       ...            ...\n",
       "6239200  210526-3-09  2337  1797.03870   1617.3926  210526-3  Hyperglycemia\n",
       "6239201  210526-3-09  2338  1797.72200   1633.0911  210526-3  Hyperglycemia\n",
       "6239202  210526-3-09  2339  1798.40550   1633.3076  210526-3  Hyperglycemia\n",
       "6239203  210526-3-09  2340  1799.08890   1641.8665  210526-3  Hyperglycemia\n",
       "6239204  210526-3-09  2341  1799.77220   1618.2405  210526-3  Hyperglycemia\n",
       "\n",
       "[6239205 rows x 6 columns]"
      ]
     },
     "execution_count": 5,
     "metadata": {},
     "output_type": "execute_result"
    }
   ],
   "source": [
    "df"
   ]
  },
  {
   "cell_type": "code",
   "execution_count": 6,
   "metadata": {},
   "outputs": [
    {
     "name": "stderr",
     "output_type": "stream",
     "text": [
      "[I 2024-03-27 20:53:02,152] A new study created in memory with name: no-name-29574763-d1c4-42c6-ab81-4cc261f83b1e\n",
      "[I 2024-03-27 21:00:44,390] Trial 5 finished with value: 0.5603809523809524 and parameters: {'despike': False, 'despike_ma': 28, 'lam': 1000000, 'p': 0.08599441828273476, 'window_size': 93, 'poly_order': 4, 'scaling': 'vector'}. Best is trial 5 with value: 0.5603809523809524.\n",
      "[I 2024-03-27 21:00:49,017] Trial 11 finished with value: 0.5373809523809524 and parameters: {'despike': False, 'despike_ma': 19, 'lam': 1000000, 'p': 0.0851412547376365, 'window_size': 109, 'poly_order': 2, 'scaling': 'svn'}. Best is trial 5 with value: 0.5603809523809524.\n",
      "[I 2024-03-27 21:00:50,637] Trial 10 finished with value: 0.5438412698412699 and parameters: {'despike': False, 'despike_ma': 78, 'lam': 1000000, 'p': 0.049849439005656, 'window_size': 148, 'poly_order': 1, 'scaling': 'svn'}. Best is trial 5 with value: 0.5603809523809524.\n",
      "[I 2024-03-27 21:00:51,036] Trial 9 finished with value: 0.4803809523809524 and parameters: {'despike': False, 'despike_ma': 39, 'lam': 1000, 'p': 0.06664820092807051, 'window_size': 94, 'poly_order': 2, 'scaling': 'vector'}. Best is trial 5 with value: 0.5603809523809524.\n",
      "[I 2024-03-27 21:00:53,634] Trial 3 finished with value: 0.4586349206349206 and parameters: {'despike': False, 'despike_ma': 68, 'lam': 1000, 'p': 0.03937175671613598, 'window_size': 177, 'poly_order': 1, 'scaling': 'vector'}. Best is trial 5 with value: 0.5603809523809524.\n",
      "[I 2024-03-27 21:00:54,141] Trial 0 finished with value: 0.5771428571428571 and parameters: {'despike': True, 'despike_ma': 42, 'lam': 1000000000, 'p': 0.04526545350540601, 'window_size': 70, 'poly_order': 2, 'scaling': 'normal'}. Best is trial 0 with value: 0.5771428571428571.\n",
      "[I 2024-03-27 21:00:54,697] Trial 7 finished with value: 0.6065714285714287 and parameters: {'despike': True, 'despike_ma': 18, 'lam': 1000000000, 'p': 0.07223687767286299, 'window_size': 42, 'poly_order': 3, 'scaling': 'svn'}. Best is trial 7 with value: 0.6065714285714287.\n",
      "[I 2024-03-27 21:00:58,724] Trial 6 finished with value: 0.5863492063492063 and parameters: {'despike': True, 'despike_ma': 74, 'lam': 1000000000, 'p': 0.049185855920255074, 'window_size': 108, 'poly_order': 4, 'scaling': 'vector'}. Best is trial 7 with value: 0.6065714285714287.\n",
      "[I 2024-03-27 21:01:02,538] Trial 4 finished with value: 0.5414761904761904 and parameters: {'despike': True, 'despike_ma': 20, 'lam': 1000000, 'p': 0.04227181586014285, 'window_size': 50, 'poly_order': 3, 'scaling': 'normal'}. Best is trial 7 with value: 0.6065714285714287.\n",
      "[I 2024-03-27 21:01:04,032] Trial 2 finished with value: 0.5354603174603174 and parameters: {'despike': True, 'despike_ma': 74, 'lam': 100000, 'p': 0.03322332260669021, 'window_size': 32, 'poly_order': 1, 'scaling': 'vector'}. Best is trial 7 with value: 0.6065714285714287.\n",
      "[I 2024-03-27 21:01:07,569] Trial 8 finished with value: 0.5405873015873015 and parameters: {'despike': False, 'despike_ma': 52, 'lam': 1000000, 'p': 0.010703176254544196, 'window_size': 185, 'poly_order': 4, 'scaling': 'vector'}. Best is trial 7 with value: 0.6065714285714287.\n",
      "[I 2024-03-27 21:01:26,154] Trial 1 finished with value: 0.468968253968254 and parameters: {'despike': True, 'despike_ma': 17, 'lam': 10000, 'p': 0.06311092041061306, 'window_size': 133, 'poly_order': 1, 'scaling': 'svn'}. Best is trial 7 with value: 0.6065714285714287.\n",
      "[I 2024-03-27 21:06:23,361] Trial 12 finished with value: 0.4565714285714286 and parameters: {'despike': False, 'despike_ma': 72, 'lam': 10000, 'p': 0.0534814662384396, 'window_size': 105, 'poly_order': 1, 'scaling': 'svn'}. Best is trial 7 with value: 0.6065714285714287.\n",
      "[I 2024-03-27 21:06:48,945] Trial 17 finished with value: 0.5598412698412698 and parameters: {'despike': False, 'despike_ma': 25, 'lam': 100000, 'p': 0.022622968962790136, 'window_size': 20, 'poly_order': 2, 'scaling': False}. Best is trial 7 with value: 0.6065714285714287.\n",
      "[I 2024-03-27 21:06:50,566] Trial 15 finished with value: 0.4873492063492063 and parameters: {'despike': False, 'despike_ma': 61, 'lam': 10000, 'p': 0.08965459246026682, 'window_size': 22, 'poly_order': 1, 'scaling': 'normal'}. Best is trial 7 with value: 0.6065714285714287.\n",
      "[I 2024-03-27 21:07:02,205] Trial 16 finished with value: 0.5796666666666667 and parameters: {'despike': False, 'despike_ma': 14, 'lam': 10000000, 'p': 0.04247230157330026, 'window_size': 198, 'poly_order': 4, 'scaling': False}. Best is trial 7 with value: 0.6065714285714287.\n",
      "[I 2024-03-27 21:07:03,312] Trial 22 finished with value: 0.5951587301587302 and parameters: {'despike': True, 'despike_ma': 97, 'lam': 1000000000, 'p': 0.06617773916205975, 'window_size': 12, 'poly_order': 3, 'scaling': False}. Best is trial 7 with value: 0.6065714285714287.\n",
      "[I 2024-03-27 21:07:05,615] Trial 23 finished with value: 0.58915873015873 and parameters: {'despike': True, 'despike_ma': 99, 'lam': 1000000000, 'p': 0.07222012889583951, 'window_size': 12, 'poly_order': 3, 'scaling': False}. Best is trial 7 with value: 0.6065714285714287.\n",
      "[I 2024-03-27 21:07:09,952] Trial 13 finished with value: 0.530984126984127 and parameters: {'despike': False, 'despike_ma': 99, 'lam': 1000000, 'p': 0.00857548139233832, 'window_size': 39, 'poly_order': 1, 'scaling': 'normal'}. Best is trial 7 with value: 0.6065714285714287.\n",
      "[I 2024-03-27 21:07:58,361] Trial 21 finished with value: 0.5327777777777778 and parameters: {'despike': True, 'despike_ma': 5, 'lam': 10000, 'p': 0.002845573625845553, 'window_size': 16, 'poly_order': 3, 'scaling': False}. Best is trial 7 with value: 0.6065714285714287.\n",
      "[I 2024-03-27 21:07:59,395] Trial 19 finished with value: 0.5352857142857143 and parameters: {'despike': True, 'despike_ma': 80, 'lam': 100000000, 'p': 0.06117573402443782, 'window_size': 5, 'poly_order': 4, 'scaling': 'svn'}. Best is trial 7 with value: 0.6065714285714287.\n",
      "[I 2024-03-27 21:08:05,089] Trial 18 finished with value: 0.4727301587301588 and parameters: {'despike': False, 'despike_ma': 89, 'lam': 100, 'p': 0.05666988331405404, 'window_size': 172, 'poly_order': 3, 'scaling': 'normal'}. Best is trial 7 with value: 0.6065714285714287.\n",
      "[I 2024-03-27 21:08:14,268] Trial 20 finished with value: 0.504063492063492 and parameters: {'despike': True, 'despike_ma': 75, 'lam': 100000, 'p': 0.08427472479111164, 'window_size': 31, 'poly_order': 4, 'scaling': 'svn'}. Best is trial 7 with value: 0.6065714285714287.\n",
      "[I 2024-03-27 21:08:17,776] Trial 14 finished with value: 0.48995238095238103 and parameters: {'despike': True, 'despike_ma': 38, 'lam': 10000, 'p': 0.05015789865045643, 'window_size': 45, 'poly_order': 4, 'scaling': 'svn'}. Best is trial 7 with value: 0.6065714285714287.\n",
      "[I 2024-03-27 21:13:52,883] Trial 24 finished with value: 0.6033333333333333 and parameters: {'despike': True, 'despike_ma': 100, 'lam': 1000000000, 'p': 0.0742844953456912, 'window_size': 15, 'poly_order': 3, 'scaling': False}. Best is trial 7 with value: 0.6065714285714287.\n",
      "[I 2024-03-27 21:14:17,448] Trial 25 finished with value: 0.5897936507936509 and parameters: {'despike': True, 'despike_ma': 92, 'lam': 1000000000, 'p': 0.0978797288852622, 'window_size': 57, 'poly_order': 3, 'scaling': False}. Best is trial 7 with value: 0.6065714285714287.\n",
      "[I 2024-03-27 21:14:21,107] Trial 30 finished with value: 0.5843333333333334 and parameters: {'despike': True, 'despike_ma': 5, 'lam': 100000000, 'p': 0.09971060648878674, 'window_size': 57, 'poly_order': 3, 'scaling': False}. Best is trial 7 with value: 0.6065714285714287.\n",
      "[I 2024-03-27 21:14:21,765] Trial 32 finished with value: 0.5947936507936508 and parameters: {'despike': True, 'despike_ma': 100, 'lam': 1000000000, 'p': 0.07494435490455818, 'window_size': 60, 'poly_order': 3, 'scaling': False}. Best is trial 7 with value: 0.6065714285714287.\n",
      "[I 2024-03-27 21:14:21,900] Trial 26 finished with value: 0.6058571428571429 and parameters: {'despike': True, 'despike_ma': 93, 'lam': 1000000000, 'p': 0.06829320163088759, 'window_size': 64, 'poly_order': 3, 'scaling': False}. Best is trial 7 with value: 0.6065714285714287.\n",
      "[I 2024-03-27 21:14:22,760] Trial 33 finished with value: 0.5968095238095238 and parameters: {'despike': True, 'despike_ma': 99, 'lam': 1000000000, 'p': 0.07597341321144639, 'window_size': 59, 'poly_order': 3, 'scaling': False}. Best is trial 7 with value: 0.6065714285714287.\n",
      "[I 2024-03-27 21:14:23,854] Trial 34 finished with value: 0.5958253968253968 and parameters: {'despike': True, 'despike_ma': 100, 'lam': 1000000000, 'p': 0.07355311360158356, 'window_size': 62, 'poly_order': 3, 'scaling': False}. Best is trial 7 with value: 0.6065714285714287.\n",
      "[I 2024-03-27 21:14:25,655] Trial 35 finished with value: 0.5990000000000001 and parameters: {'despike': True, 'despike_ma': 98, 'lam': 1000000000, 'p': 0.07444329731677515, 'window_size': 60, 'poly_order': 3, 'scaling': False}. Best is trial 7 with value: 0.6065714285714287.\n",
      "[I 2024-03-27 21:14:29,697] Trial 28 finished with value: 0.5714603174603174 and parameters: {'despike': True, 'despike_ma': 100, 'lam': 100000000, 'p': 0.07567180267383973, 'window_size': 7, 'poly_order': 3, 'scaling': False}. Best is trial 7 with value: 0.6065714285714287.\n",
      "[I 2024-03-27 21:15:09,066] Trial 29 finished with value: 0.5127142857142857 and parameters: {'despike': True, 'despike_ma': 95, 'lam': 100, 'p': 0.0996434883849081, 'window_size': 52, 'poly_order': 3, 'scaling': False}. Best is trial 7 with value: 0.6065714285714287.\n",
      "[I 2024-03-27 21:15:35,353] Trial 27 finished with value: 0.5902063492063492 and parameters: {'despike': True, 'despike_ma': 99, 'lam': 1000000000, 'p': 0.07285742834203394, 'window_size': 64, 'poly_order': 3, 'scaling': 'svn'}. Best is trial 7 with value: 0.6065714285714287.\n",
      "[I 2024-03-27 21:16:31,622] Trial 31 finished with value: 0.47680952380952385 and parameters: {'despike': True, 'despike_ma': 86, 'lam': 100, 'p': 0.0979897415187045, 'window_size': 61, 'poly_order': 3, 'scaling': 'svn'}. Best is trial 7 with value: 0.6065714285714287.\n",
      "[I 2024-03-27 21:21:46,517] Trial 36 finished with value: 0.6005714285714286 and parameters: {'despike': True, 'despike_ma': 89, 'lam': 1000000000, 'p': 0.07584333456304591, 'window_size': 65, 'poly_order': 3, 'scaling': False}. Best is trial 7 with value: 0.6065714285714287.\n",
      "[I 2024-03-27 21:22:14,324] Trial 38 finished with value: 0.5965714285714285 and parameters: {'despike': True, 'despike_ma': 85, 'lam': 1000000000, 'p': 0.07636834667981912, 'window_size': 68, 'poly_order': 3, 'scaling': False}. Best is trial 7 with value: 0.6065714285714287.\n",
      "[I 2024-03-27 21:22:14,646] Trial 41 finished with value: 0.5931111111111111 and parameters: {'despike': True, 'despike_ma': 46, 'lam': 1000000000, 'p': 0.07823375109990281, 'window_size': 74, 'poly_order': 3, 'scaling': False}. Best is trial 7 with value: 0.6065714285714287.\n",
      "[I 2024-03-27 21:22:14,931] Trial 40 finished with value: 0.6008730158730159 and parameters: {'despike': True, 'despike_ma': 48, 'lam': 1000000000, 'p': 0.07377312571652311, 'window_size': 72, 'poly_order': 3, 'scaling': False}. Best is trial 7 with value: 0.6065714285714287.\n",
      "[I 2024-03-27 21:22:15,860] Trial 43 finished with value: 0.5888095238095239 and parameters: {'despike': True, 'despike_ma': 83, 'lam': 1000000000, 'p': 0.08165266920491093, 'window_size': 78, 'poly_order': 3, 'scaling': False}. Best is trial 7 with value: 0.6065714285714287.\n",
      "[I 2024-03-27 21:22:16,069] Trial 39 finished with value: 0.5954285714285714 and parameters: {'despike': True, 'despike_ma': 88, 'lam': 1000000000, 'p': 0.07271459503993669, 'window_size': 76, 'poly_order': 3, 'scaling': False}. Best is trial 7 with value: 0.6065714285714287.\n",
      "[I 2024-03-27 21:22:16,605] Trial 44 finished with value: 0.600936507936508 and parameters: {'despike': True, 'despike_ma': 85, 'lam': 1000000000, 'p': 0.08011390689222835, 'window_size': 78, 'poly_order': 3, 'scaling': False}. Best is trial 7 with value: 0.6065714285714287.\n",
      "[I 2024-03-27 21:22:16,941] Trial 37 finished with value: 0.5935079365079364 and parameters: {'despike': True, 'despike_ma': 87, 'lam': 1000000000, 'p': 0.07847657388193191, 'window_size': 74, 'poly_order': 3, 'scaling': False}. Best is trial 7 with value: 0.6065714285714287.\n",
      "[I 2024-03-27 21:22:17,112] Trial 42 finished with value: 0.5994285714285714 and parameters: {'despike': True, 'despike_ma': 85, 'lam': 1000000000, 'p': 0.07935108239438186, 'window_size': 77, 'poly_order': 3, 'scaling': False}. Best is trial 7 with value: 0.6065714285714287.\n",
      "[I 2024-03-27 21:22:17,934] Trial 46 finished with value: 0.6048253968253967 and parameters: {'despike': True, 'despike_ma': 86, 'lam': 1000000000, 'p': 0.062124162887664515, 'window_size': 86, 'poly_order': 3, 'scaling': False}. Best is trial 7 with value: 0.6065714285714287.\n",
      "[I 2024-03-27 21:22:20,804] Trial 45 finished with value: 0.5946031746031746 and parameters: {'despike': True, 'despike_ma': 87, 'lam': 1000000000, 'p': 0.08102584561780829, 'window_size': 78, 'poly_order': 3, 'scaling': False}. Best is trial 7 with value: 0.6065714285714287.\n",
      "[I 2024-03-27 21:22:21,602] Trial 47 finished with value: 0.5858412698412698 and parameters: {'despike': True, 'despike_ma': 84, 'lam': 1000000000, 'p': 0.06137203154282009, 'window_size': 79, 'poly_order': 3, 'scaling': False}. Best is trial 7 with value: 0.6065714285714287.\n",
      "[I 2024-03-27 21:29:40,511] Trial 48 finished with value: 0.5771904761904763 and parameters: {'despike': True, 'despike_ma': 84, 'lam': 10000000, 'p': 0.08102397127859927, 'window_size': 76, 'poly_order': 3, 'scaling': False}. Best is trial 7 with value: 0.6065714285714287.\n",
      "[I 2024-03-27 21:30:23,765] Trial 49 finished with value: 0.5762539682539684 and parameters: {'despike': True, 'despike_ma': 59, 'lam': 10000000, 'p': 0.06045733468508786, 'window_size': 79, 'poly_order': 3, 'scaling': False}. Best is trial 7 with value: 0.6065714285714287.\n",
      "[I 2024-03-27 21:30:26,041] Trial 52 finished with value: 0.5745714285714285 and parameters: {'despike': True, 'despike_ma': 64, 'lam': 10000000, 'p': 0.0909595643644093, 'window_size': 80, 'poly_order': 3, 'scaling': False}. Best is trial 7 with value: 0.6065714285714287.\n",
      "[I 2024-03-27 21:30:44,009] Trial 51 finished with value: 0.5482222222222222 and parameters: {'despike': True, 'despike_ma': 55, 'lam': 10000000, 'p': 0.05980236206586335, 'window_size': 84, 'poly_order': 2, 'scaling': 'vector'}. Best is trial 7 with value: 0.6065714285714287.\n",
      "[I 2024-03-27 21:30:45,115] Trial 50 finished with value: 0.5451269841269841 and parameters: {'despike': True, 'despike_ma': 61, 'lam': 10000000, 'p': 0.06132705742347947, 'window_size': 84, 'poly_order': 2, 'scaling': 'normal'}. Best is trial 7 with value: 0.6065714285714287.\n",
      "[I 2024-03-27 21:30:49,107] Trial 53 finished with value: 0.5550476190476191 and parameters: {'despike': True, 'despike_ma': 63, 'lam': 10000000, 'p': 0.09005061641369227, 'window_size': 30, 'poly_order': 3, 'scaling': 'vector'}. Best is trial 7 with value: 0.6065714285714287.\n",
      "[I 2024-03-27 21:31:07,222] Trial 55 finished with value: 0.4904761904761905 and parameters: {'despike': True, 'despike_ma': 63, 'lam': 1000, 'p': 0.06629593347272249, 'window_size': 88, 'poly_order': 2, 'scaling': 'vector'}. Best is trial 7 with value: 0.6065714285714287.\n",
      "[I 2024-03-27 21:31:08,705] Trial 59 finished with value: 0.49085714285714294 and parameters: {'despike': True, 'despike_ma': 93, 'lam': 1000, 'p': 0.09194700472252143, 'window_size': 92, 'poly_order': 2, 'scaling': 'vector'}. Best is trial 7 with value: 0.6065714285714287.\n",
      "[I 2024-03-27 21:31:09,934] Trial 54 finished with value: 0.488920634920635 and parameters: {'despike': True, 'despike_ma': 64, 'lam': 1000, 'p': 0.06320909582523178, 'window_size': 85, 'poly_order': 2, 'scaling': 'vector'}. Best is trial 7 with value: 0.6065714285714287.\n",
      "[I 2024-03-27 21:31:10,078] Trial 58 finished with value: 0.49052380952380953 and parameters: {'despike': True, 'despike_ma': 93, 'lam': 1000, 'p': 0.09115587915774521, 'window_size': 122, 'poly_order': 2, 'scaling': 'vector'}. Best is trial 7 with value: 0.6065714285714287.\n",
      "[I 2024-03-27 21:31:10,734] Trial 57 finished with value: 0.49190476190476184 and parameters: {'despike': True, 'despike_ma': 93, 'lam': 1000, 'p': 0.060760920643309554, 'window_size': 87, 'poly_order': 2, 'scaling': 'vector'}. Best is trial 7 with value: 0.6065714285714287.\n",
      "[I 2024-03-27 21:31:11,621] Trial 56 finished with value: 0.4953333333333333 and parameters: {'despike': True, 'despike_ma': 67, 'lam': 1000, 'p': 0.08903652438177838, 'window_size': 90, 'poly_order': 2, 'scaling': 'vector'}. Best is trial 7 with value: 0.6065714285714287.\n",
      "[I 2024-03-27 21:32:26,855] Trial 60 finished with value: 0.48706349206349203 and parameters: {'despike': True, 'despike_ma': 62, 'lam': 1000, 'p': 0.09024277418006173, 'window_size': 117, 'poly_order': 2, 'scaling': 'vector'}. Best is trial 7 with value: 0.6065714285714287.\n",
      "[I 2024-03-27 21:37:06,794] Trial 61 finished with value: 0.518888888888889 and parameters: {'despike': True, 'despike_ma': 68, 'lam': 100000, 'p': 0.06768982922356899, 'window_size': 119, 'poly_order': 2, 'scaling': 'vector'}. Best is trial 7 with value: 0.6065714285714287.\n",
      "[I 2024-03-27 21:37:09,741] Trial 69 finished with value: 0.5173015873015874 and parameters: {'despike': False, 'despike_ma': 31, 'lam': 100000, 'p': 0.06982956451487878, 'window_size': 42, 'poly_order': 1, 'scaling': 'svn'}. Best is trial 7 with value: 0.6065714285714287.\n",
      "[I 2024-03-27 21:37:10,316] Trial 70 finished with value: 0.5157142857142858 and parameters: {'despike': False, 'despike_ma': 32, 'lam': 100000, 'p': 0.06901373565761883, 'window_size': 44, 'poly_order': 1, 'scaling': 'svn'}. Best is trial 7 with value: 0.6065714285714287.\n",
      "[I 2024-03-27 21:37:12,150] Trial 67 finished with value: 0.502 and parameters: {'despike': False, 'despike_ma': 29, 'lam': 100000, 'p': 0.06957780460335218, 'window_size': 117, 'poly_order': 1, 'scaling': 'svn'}. Best is trial 7 with value: 0.6065714285714287.\n",
      "[I 2024-03-27 21:37:14,595] Trial 62 finished with value: 0.48120634920634925 and parameters: {'despike': True, 'despike_ma': 30, 'lam': 1000, 'p': 0.06762530922567431, 'window_size': 91, 'poly_order': 2, 'scaling': 'vector'}. Best is trial 7 with value: 0.6065714285714287.\n",
      "[I 2024-03-27 21:37:18,712] Trial 64 finished with value: 0.483015873015873 and parameters: {'despike': True, 'despike_ma': 33, 'lam': 1000, 'p': 0.06726692383486313, 'window_size': 100, 'poly_order': 1, 'scaling': 'vector'}. Best is trial 7 with value: 0.6065714285714287.\n",
      "[I 2024-03-27 21:37:19,618] Trial 71 finished with value: 0.505968253968254 and parameters: {'despike': False, 'despike_ma': 79, 'lam': 100000, 'p': 0.06938882760801174, 'window_size': 41, 'poly_order': 4, 'scaling': 'svn'}. Best is trial 7 with value: 0.6065714285714287.\n",
      "[I 2024-03-27 21:37:23,734] Trial 63 finished with value: 0.47011111111111104 and parameters: {'despike': True, 'despike_ma': 30, 'lam': 1000, 'p': 0.06619749503179966, 'window_size': 117, 'poly_order': 1, 'scaling': 'normal'}. Best is trial 7 with value: 0.6065714285714287.\n",
      "[I 2024-03-27 21:37:32,440] Trial 65 finished with value: 0.49466666666666664 and parameters: {'despike': True, 'despike_ma': 70, 'lam': 100000, 'p': 0.06748126070731825, 'window_size': 124, 'poly_order': 1, 'scaling': 'svn'}. Best is trial 7 with value: 0.6065714285714287.\n",
      "[I 2024-03-27 21:37:43,153] Trial 68 finished with value: 0.5097301587301588 and parameters: {'despike': False, 'despike_ma': 33, 'lam': 100000, 'p': 0.06844356196358818, 'window_size': 125, 'poly_order': 4, 'scaling': 'svn'}. Best is trial 7 with value: 0.6065714285714287.\n",
      "[I 2024-03-27 21:37:58,615] Trial 66 finished with value: 0.4524285714285714 and parameters: {'despike': True, 'despike_ma': 92, 'lam': 1000, 'p': 0.06850054303118089, 'window_size': 123, 'poly_order': 1, 'scaling': 'svn'}. Best is trial 7 with value: 0.6065714285714287.\n",
      "[I 2024-03-27 21:37:59,349] Trial 72 finished with value: 0.5137142857142858 and parameters: {'despike': False, 'despike_ma': 29, 'lam': 100000, 'p': 0.06919715128570147, 'window_size': 42, 'poly_order': 1, 'scaling': 'svn'}. Best is trial 7 with value: 0.6065714285714287.\n",
      "[I 2024-03-27 21:46:03,011] Trial 82 finished with value: 0.5946031746031747 and parameters: {'despike': True, 'despike_ma': 76, 'lam': 1000000000, 'p': 0.08534592083392514, 'window_size': 51, 'poly_order': 3, 'scaling': False}. Best is trial 7 with value: 0.6065714285714287.\n",
      "[I 2024-03-27 21:46:03,151] Trial 83 finished with value: 0.6047936507936508 and parameters: {'despike': True, 'despike_ma': 75, 'lam': 1000000000, 'p': 0.05597328492427011, 'window_size': 50, 'poly_order': 3, 'scaling': False}. Best is trial 7 with value: 0.6065714285714287.\n",
      "[I 2024-03-27 21:46:04,292] Trial 81 finished with value: 0.5946984126984126 and parameters: {'despike': True, 'despike_ma': 48, 'lam': 1000000000, 'p': 0.08510565002762153, 'window_size': 68, 'poly_order': 3, 'scaling': False}. Best is trial 7 with value: 0.6065714285714287.\n",
      "[I 2024-03-27 21:46:04,436] Trial 84 finished with value: 0.6026190476190477 and parameters: {'despike': True, 'despike_ma': 14, 'lam': 1000000000, 'p': 0.08516355427405631, 'window_size': 51, 'poly_order': 3, 'scaling': False}. Best is trial 7 with value: 0.6065714285714287.\n",
      "[I 2024-03-27 21:46:06,617] Trial 80 finished with value: 0.6055079365079364 and parameters: {'despike': True, 'despike_ma': 14, 'lam': 1000000000, 'p': 0.05285245090939518, 'window_size': 26, 'poly_order': 3, 'scaling': False}. Best is trial 7 with value: 0.6065714285714287.\n",
      "[I 2024-03-27 21:46:35,980] Trial 73 finished with value: 0.5884761904761906 and parameters: {'despike': False, 'despike_ma': 80, 'lam': 1000000000, 'p': 0.06890444012750914, 'window_size': 43, 'poly_order': 1, 'scaling': 'svn'}. Best is trial 7 with value: 0.6065714285714287.\n",
      "[I 2024-03-27 21:47:03,046] Trial 79 finished with value: 0.5723809523809523 and parameters: {'despike': True, 'despike_ma': 91, 'lam': 1000000000, 'p': 0.056041736369851894, 'window_size': 50, 'poly_order': 3, 'scaling': 'normal'}. Best is trial 7 with value: 0.6065714285714287.\n",
      "[I 2024-03-27 21:47:08,262] Trial 78 finished with value: 0.5711746031746032 and parameters: {'despike': True, 'despike_ma': 79, 'lam': 1000000000, 'p': 0.0553994643206552, 'window_size': 50, 'poly_order': 4, 'scaling': 'normal'}. Best is trial 7 with value: 0.6065714285714287.\n",
      "[I 2024-03-27 21:47:09,984] Trial 75 finished with value: 0.5806031746031746 and parameters: {'despike': True, 'despike_ma': 13, 'lam': 1000000000, 'p': 0.05296730087342944, 'window_size': 36, 'poly_order': 3, 'scaling': 'normal'}. Best is trial 7 with value: 0.6065714285714287.\n",
      "[I 2024-03-27 21:47:14,243] Trial 74 finished with value: 0.611920634920635 and parameters: {'despike': True, 'despike_ma': 78, 'lam': 1000000000, 'p': 0.06898929794655184, 'window_size': 50, 'poly_order': 3, 'scaling': 'svn'}. Best is trial 74 with value: 0.611920634920635.\n",
      "[I 2024-03-27 21:47:44,831] Trial 76 finished with value: 0.5746825396825397 and parameters: {'despike': True, 'despike_ma': 77, 'lam': 1000000000, 'p': 0.08522344630202326, 'window_size': 101, 'poly_order': 4, 'scaling': 'normal'}. Best is trial 74 with value: 0.611920634920635.\n",
      "[I 2024-03-27 21:47:45,911] Trial 77 finished with value: 0.5810634920634921 and parameters: {'despike': True, 'despike_ma': 81, 'lam': 1000000000, 'p': 0.05476995349917384, 'window_size': 102, 'poly_order': 4, 'scaling': 'normal'}. Best is trial 74 with value: 0.611920634920635.\n",
      "[I 2024-03-27 21:55:37,017] Trial 85 finished with value: 0.6019841269841268 and parameters: {'despike': True, 'despike_ma': 81, 'lam': 1000000000, 'p': 0.05559067914886569, 'window_size': 98, 'poly_order': 3, 'scaling': False}. Best is trial 74 with value: 0.611920634920635.\n",
      "[I 2024-03-27 21:55:37,489] Trial 87 finished with value: 0.6033968253968254 and parameters: {'despike': True, 'despike_ma': 10, 'lam': 1000000000, 'p': 0.05367508607569252, 'window_size': 36, 'poly_order': 3, 'scaling': False}. Best is trial 74 with value: 0.611920634920635.\n",
      "[I 2024-03-27 21:55:37,635] Trial 88 finished with value: 0.601 and parameters: {'despike': True, 'despike_ma': 13, 'lam': 1000000000, 'p': 0.03299300858120226, 'window_size': 26, 'poly_order': 3, 'scaling': False}. Best is trial 74 with value: 0.611920634920635.\n",
      "[I 2024-03-27 21:55:38,828] Trial 86 finished with value: 0.6062539682539683 and parameters: {'despike': True, 'despike_ma': 47, 'lam': 1000000000, 'p': 0.05229958433005801, 'window_size': 34, 'poly_order': 3, 'scaling': False}. Best is trial 74 with value: 0.611920634920635.\n",
      "[I 2024-03-27 21:55:40,657] Trial 94 finished with value: 0.5971428571428571 and parameters: {'despike': True, 'despike_ma': 11, 'lam': 1000000000, 'p': 0.04876503916505966, 'window_size': 26, 'poly_order': 3, 'scaling': False}. Best is trial 74 with value: 0.611920634920635.\n",
      "[I 2024-03-27 21:55:41,468] Trial 89 finished with value: 0.6060952380952381 and parameters: {'despike': True, 'despike_ma': 12, 'lam': 1000000000, 'p': 0.04600457638013971, 'window_size': 28, 'poly_order': 3, 'scaling': False}. Best is trial 74 with value: 0.611920634920635.\n",
      "[I 2024-03-27 21:55:57,031] Trial 92 finished with value: 0.592984126984127 and parameters: {'despike': True, 'despike_ma': 16, 'lam': 1000000, 'p': 0.03336909159029738, 'window_size': 26, 'poly_order': 3, 'scaling': False}. Best is trial 74 with value: 0.611920634920635.\n",
      "[I 2024-03-27 21:55:58,692] Trial 95 finished with value: 0.5889047619047619 and parameters: {'despike': True, 'despike_ma': 10, 'lam': 1000000, 'p': 0.04789023579293292, 'window_size': 25, 'poly_order': 3, 'scaling': False}. Best is trial 74 with value: 0.611920634920635.\n",
      "[I 2024-03-27 21:55:58,765] Trial 96 finished with value: 0.5948730158730159 and parameters: {'despike': True, 'despike_ma': 9, 'lam': 1000000, 'p': 0.04603355045856082, 'window_size': 26, 'poly_order': 3, 'scaling': False}. Best is trial 74 with value: 0.611920634920635.\n",
      "[I 2024-03-27 21:55:59,218] Trial 93 finished with value: 0.5911746031746032 and parameters: {'despike': True, 'despike_ma': 9, 'lam': 1000000, 'p': 0.04612808718809766, 'window_size': 27, 'poly_order': 3, 'scaling': False}. Best is trial 74 with value: 0.611920634920635.\n",
      "[I 2024-03-27 21:55:59,253] Trial 91 finished with value: 0.586968253968254 and parameters: {'despike': True, 'despike_ma': 14, 'lam': 1000000, 'p': 0.04674917259794181, 'window_size': 24, 'poly_order': 3, 'scaling': False}. Best is trial 74 with value: 0.611920634920635.\n",
      "[I 2024-03-27 21:55:59,411] Trial 90 finished with value: 0.5798730158730159 and parameters: {'despike': True, 'despike_ma': 10, 'lam': 1000000, 'p': 0.05365916592878798, 'window_size': 25, 'poly_order': 3, 'scaling': False}. Best is trial 74 with value: 0.611920634920635.\n",
      "[I 2024-03-27 21:57:05,636] Trial 97 finished with value: 0.5918253968253968 and parameters: {'despike': True, 'despike_ma': 11, 'lam': 1000000, 'p': 0.0462415127405197, 'window_size': 25, 'poly_order': 3, 'scaling': False}. Best is trial 74 with value: 0.611920634920635.\n",
      "[I 2024-03-27 21:57:05,734] Trial 98 finished with value: 0.5806031746031747 and parameters: {'despike': True, 'despike_ma': 9, 'lam': 1000000, 'p': 0.04526544356014098, 'window_size': 30, 'poly_order': 3, 'scaling': False}. Best is trial 74 with value: 0.611920634920635.\n",
      "[I 2024-03-27 21:57:07,661] Trial 99 finished with value: 0.5385079365079365 and parameters: {'despike': True, 'despike_ma': 23, 'lam': 10000, 'p': 0.044570952100791206, 'window_size': 19, 'poly_order': 3, 'scaling': False}. Best is trial 74 with value: 0.611920634920635.\n"
     ]
    },
    {
     "name": "stdout",
     "output_type": "stream",
     "text": [
      "FrozenTrial(number=74, state=1, values=[0.611920634920635], datetime_start=datetime.datetime(2024, 3, 27, 21, 37, 9, 752882), datetime_complete=datetime.datetime(2024, 3, 27, 21, 47, 14, 243888), params={'despike': True, 'despike_ma': 78, 'lam': 1000000000, 'p': 0.06898929794655184, 'window_size': 50, 'poly_order': 3, 'scaling': 'svn'}, user_attrs={}, system_attrs={}, intermediate_values={}, distributions={'despike': CategoricalDistribution(choices=(True, False)), 'despike_ma': IntDistribution(high=100, log=False, low=5, step=1), 'lam': CategoricalDistribution(choices=(100, 1000, 10000, 100000, 1000000, 10000000, 100000000, 1000000000)), 'p': FloatDistribution(high=0.1, log=False, low=0.001, step=None), 'window_size': IntDistribution(high=201, log=False, low=5, step=1), 'poly_order': CategoricalDistribution(choices=(1, 2, 3, 4)), 'scaling': CategoricalDistribution(choices=(False, 'normal', 'vector', 'svn'))}, trial_id=74, value=None)\n"
     ]
    }
   ],
   "source": [
    "def objective(trial):\n",
    "\n",
    "    # Values for each hyperparameter\n",
    "    despike = trial.suggest_categorical('despike', [True, False])\n",
    "    despike_ma = trial.suggest_int('despike_ma', 5, 100)\n",
    "    despike_threshold = trial.suggest_float('despike_threshold', 3, 10, step=0.25)\n",
    "    lam = trial.suggest_categorical('lam', [10**2, 10**3, 10**4, 10**5, 10**6, 10**7, 10**8, 10**9])\n",
    "    p = trial.suggest_float('p', 0.001, 0.1, step=0.001)\n",
    "    window_size = trial.suggest_int('window_size', 5, 201)\n",
    "    poly_order = trial.suggest_int('poly_order', 1, 4)\n",
    "    scaling = trial.suggest_categorical('scaling', [False, 'normal', 'vector', 'svn'])\n",
    "\n",
    "    df_copy = df.copy()\n",
    "\n",
    "    # Apply preprocessing based on suggested parameters\n",
    "    if despike:\n",
    "        df_copy['Absorbance'] = df_copy.groupby('SpecID')['Absorbance'].transform(lambda x: despike_group(x, ma=despike_ma, threshold = despike_threshold))\n",
    "    df_copy['Baseline'] = df_copy.groupby('SpecID')['Absorbance'].transform(lambda x: asls_baseline_correction(x, lam=lam, p=p))\n",
    "    df_copy['Baseline_Corrected_Absorbance'] = df_copy['Absorbance'] - df_copy['Baseline']\n",
    "    df_copy['Smooth_Baseline_Corrected'] = df_copy.groupby('SpecID')['Baseline_Corrected_Absorbance'].transform(lambda x: savgol_filter(x, window_size, poly_order, deriv=0))\n",
    "    if scaling:\n",
    "        if scaling == 'normal':\n",
    "            df_copy['Smooth_Baseline_Corrected'] = df_copy.groupby('SpecID')['Smooth_Baseline_Corrected'].transform(lambda x: normalise(x))\n",
    "        elif scaling == 'vector':\n",
    "            df_copy['Smooth_Baseline_Corrected'] = df_copy.groupby('SpecID')['Smooth_Baseline_Corrected'].transform(lambda x: vector_normalise(x))\n",
    "        else:\n",
    "            df_copy['Smooth_Baseline_Corrected'] = df_copy.groupby('SpecID')['Smooth_Baseline_Corrected'].transform(lambda x: svn_normalise(x))\n",
    "\n",
    "    # Prepare data for ML\n",
    "    wavelength_df = prepare_wavelength_df(df_copy, 'Smooth_Baseline_Corrected')\n",
    "    X = wavelength_df.drop(['Status', 'SurID'], axis=1)\n",
    "    y = wavelength_df['Status']\n",
    "    groups = wavelength_df['SurID']\n",
    "\n",
    "    # Classifier and cross-validation setup\n",
    "    et = ExtraTreesClassifier(random_state=1234)\n",
    "    cv = GroupKFold(n_splits=10)\n",
    "\n",
    "    # Perform cross-validation\n",
    "    scores = cross_validate(et, X, y, groups=groups, cv=cv, scoring='accuracy')\n",
    "    #scores = cross_val_score(et, X, y, groups=groups, cv=cv, scoring='accuracy')\n",
    "\n",
    "    # Return the average accuracy across all folds\n",
    "    return np.mean(scores['test_score'])\n",
    "\n",
    "\n",
    "# sampler = TPESampler(seed=10)  # Make the sampler behave in a deterministic way.\n",
    "# study = optuna.create_study(direction='maximise', sampler=sampler)\n",
    "\n",
    "study = optuna.create_study(direction=\"maximize\")\n",
    "# study.optimize(objective, n_trials=100, n_jobs=-1)\n",
    "study.optimize(objective, n_trials=200, n_jobs=-1)\n",
    "\n",
    "print(study.best_trial)"
   ]
  },
  {
   "cell_type": "code",
   "execution_count": null,
   "metadata": {},
   "outputs": [],
   "source": [
    "results_df = study.trials_dataframe(attrs=(\"number\", \"value\", \"params\", \"state\"))\n",
    "results_df.to_csv(\"../../data/et_optuna.csv\")"
   ]
  },
  {
   "cell_type": "code",
   "execution_count": 7,
   "metadata": {},
   "outputs": [
    {
     "name": "stderr",
     "output_type": "stream",
     "text": [
      "[I 2024-03-27 22:02:22,635] A new study created in memory with name: no-name-e984eeb6-360a-419a-bd8b-00a190f8e916\n"
     ]
    }
   ],
   "source": [
    "import joblib\n",
    "\n",
    "study = optuna.create_study(direction=\"maximize\")\n",
    "\n",
    "joblib.dump(study, \"../../data/studies/cleaning_study2.pkl\")\n",
    "\n",
    "# loaded_study = joblib.load(\"../../data/studies/cleaning_study.pkl\")\n",
    "# print(\"Best trial until now:\")\n",
    "# print(\" Value: \", loaded_study.best_trial.value)\n",
    "# print(\" Params: \")\n",
    "# for key, value in loaded_study.best_trial.params.items():\n",
    "#     print(f\"    {key}: {value}\")"
   ]
  },
  {
   "cell_type": "code",
   "execution_count": 13,
   "metadata": {},
   "outputs": [
    {
     "ename": "ValueError",
     "evalue": "No trials are completed yet.",
     "output_type": "error",
     "traceback": [
      "\u001b[1;31m---------------------------------------------------------------------------\u001b[0m",
      "\u001b[1;31mValueError\u001b[0m                                Traceback (most recent call last)",
      "Cell \u001b[1;32mIn[13], line 1\u001b[0m\n\u001b[1;32m----> 1\u001b[0m \u001b[38;5;28mprint\u001b[39m(\u001b[43mstudy\u001b[49m\u001b[38;5;241;43m.\u001b[39;49m\u001b[43mbest_trial\u001b[49m)\n",
      "File \u001b[1;32mc:\\Users\\FX 8320\\AppData\\Local\\Programs\\Python\\Python311\\Lib\\site-packages\\optuna\\study\\study.py:157\u001b[0m, in \u001b[0;36mStudy.best_trial\u001b[1;34m(self)\u001b[0m\n\u001b[0;32m    151\u001b[0m \u001b[38;5;28;01mif\u001b[39;00m \u001b[38;5;28mself\u001b[39m\u001b[38;5;241m.\u001b[39m_is_multi_objective():\n\u001b[0;32m    152\u001b[0m     \u001b[38;5;28;01mraise\u001b[39;00m \u001b[38;5;167;01mRuntimeError\u001b[39;00m(\n\u001b[0;32m    153\u001b[0m         \u001b[38;5;124m\"\u001b[39m\u001b[38;5;124mA single best trial cannot be retrieved from a multi-objective study. Consider \u001b[39m\u001b[38;5;124m\"\u001b[39m\n\u001b[0;32m    154\u001b[0m         \u001b[38;5;124m\"\u001b[39m\u001b[38;5;124musing Study.best_trials to retrieve a list containing the best trials.\u001b[39m\u001b[38;5;124m\"\u001b[39m\n\u001b[0;32m    155\u001b[0m     )\n\u001b[1;32m--> 157\u001b[0m \u001b[38;5;28;01mreturn\u001b[39;00m copy\u001b[38;5;241m.\u001b[39mdeepcopy(\u001b[38;5;28;43mself\u001b[39;49m\u001b[38;5;241;43m.\u001b[39;49m\u001b[43m_storage\u001b[49m\u001b[38;5;241;43m.\u001b[39;49m\u001b[43mget_best_trial\u001b[49m\u001b[43m(\u001b[49m\u001b[38;5;28;43mself\u001b[39;49m\u001b[38;5;241;43m.\u001b[39;49m\u001b[43m_study_id\u001b[49m\u001b[43m)\u001b[49m)\n",
      "File \u001b[1;32mc:\\Users\\FX 8320\\AppData\\Local\\Programs\\Python\\Python311\\Lib\\site-packages\\optuna\\storages\\_in_memory.py:234\u001b[0m, in \u001b[0;36mInMemoryStorage.get_best_trial\u001b[1;34m(self, study_id)\u001b[0m\n\u001b[0;32m    231\u001b[0m best_trial_id \u001b[38;5;241m=\u001b[39m \u001b[38;5;28mself\u001b[39m\u001b[38;5;241m.\u001b[39m_studies[study_id]\u001b[38;5;241m.\u001b[39mbest_trial_id\n\u001b[0;32m    233\u001b[0m \u001b[38;5;28;01mif\u001b[39;00m best_trial_id \u001b[38;5;129;01mis\u001b[39;00m \u001b[38;5;28;01mNone\u001b[39;00m:\n\u001b[1;32m--> 234\u001b[0m     \u001b[38;5;28;01mraise\u001b[39;00m \u001b[38;5;167;01mValueError\u001b[39;00m(\u001b[38;5;124m\"\u001b[39m\u001b[38;5;124mNo trials are completed yet.\u001b[39m\u001b[38;5;124m\"\u001b[39m)\n\u001b[0;32m    235\u001b[0m \u001b[38;5;28;01melif\u001b[39;00m \u001b[38;5;28mlen\u001b[39m(\u001b[38;5;28mself\u001b[39m\u001b[38;5;241m.\u001b[39m_studies[study_id]\u001b[38;5;241m.\u001b[39mdirections) \u001b[38;5;241m>\u001b[39m \u001b[38;5;241m1\u001b[39m:\n\u001b[0;32m    236\u001b[0m     \u001b[38;5;28;01mraise\u001b[39;00m \u001b[38;5;167;01mRuntimeError\u001b[39;00m(\n\u001b[0;32m    237\u001b[0m         \u001b[38;5;124m\"\u001b[39m\u001b[38;5;124mBest trial can be obtained only for single-objective optimization.\u001b[39m\u001b[38;5;124m\"\u001b[39m\n\u001b[0;32m    238\u001b[0m     )\n",
      "\u001b[1;31mValueError\u001b[0m: No trials are completed yet."
     ]
    }
   ],
   "source": [
    "print(study.best_trial)"
   ]
  },
  {
   "cell_type": "code",
   "execution_count": null,
   "metadata": {},
   "outputs": [
    {
     "data": {
      "application/vnd.plotly.v1+json": {
       "config": {
        "plotlyServerURL": "https://plot.ly"
       },
       "data": [
        {
         "mode": "markers",
         "name": "Objective Value",
         "type": "scatter",
         "x": [
          0,
          1,
          2,
          3,
          4,
          5,
          6,
          7,
          8,
          9,
          10,
          11,
          12,
          13,
          14,
          15,
          16,
          17,
          18,
          19,
          20,
          21,
          22,
          23,
          24,
          25,
          26,
          27,
          28,
          29,
          30,
          31,
          32,
          33,
          34,
          35,
          36,
          37,
          38,
          39,
          40,
          41,
          42,
          43,
          44,
          45,
          46,
          47,
          48,
          49,
          50,
          51,
          52,
          53,
          54,
          55,
          56,
          57,
          58,
          59,
          60,
          61,
          62,
          63,
          64,
          65,
          66,
          67,
          68,
          69,
          70,
          71,
          72,
          73,
          74,
          75,
          76,
          77,
          78,
          79,
          80,
          81,
          82,
          83,
          84,
          85,
          86,
          87,
          88,
          89,
          90,
          91,
          92,
          93,
          94,
          95,
          96,
          97,
          98,
          99
         ],
         "y": [
          0.5771428571428571,
          0.468968253968254,
          0.5354603174603174,
          0.4586349206349206,
          0.5414761904761904,
          0.5603809523809524,
          0.5863492063492063,
          0.6065714285714287,
          0.5405873015873015,
          0.4803809523809524,
          0.5438412698412699,
          0.5373809523809524,
          0.4565714285714286,
          0.530984126984127,
          0.48995238095238103,
          0.4873492063492063,
          0.5796666666666667,
          0.5598412698412698,
          0.4727301587301588,
          0.5352857142857143,
          0.504063492063492,
          0.5327777777777778,
          0.5951587301587302,
          0.58915873015873,
          0.6033333333333333,
          0.5897936507936509,
          0.6058571428571429,
          0.5902063492063492,
          0.5714603174603174,
          0.5127142857142857,
          0.5843333333333334,
          0.47680952380952385,
          0.5947936507936508,
          0.5968095238095238,
          0.5958253968253968,
          0.5990000000000001,
          0.6005714285714286,
          0.5935079365079364,
          0.5965714285714285,
          0.5954285714285714,
          0.6008730158730159,
          0.5931111111111111,
          0.5994285714285714,
          0.5888095238095239,
          0.600936507936508,
          0.5946031746031746,
          0.6048253968253967,
          0.5858412698412698,
          0.5771904761904763,
          0.5762539682539684,
          0.5451269841269841,
          0.5482222222222222,
          0.5745714285714285,
          0.5550476190476191,
          0.488920634920635,
          0.4904761904761905,
          0.4953333333333333,
          0.49190476190476184,
          0.49052380952380953,
          0.49085714285714294,
          0.48706349206349203,
          0.518888888888889,
          0.48120634920634925,
          0.47011111111111104,
          0.483015873015873,
          0.49466666666666664,
          0.4524285714285714,
          0.502,
          0.5097301587301588,
          0.5173015873015874,
          0.5157142857142858,
          0.505968253968254,
          0.5137142857142858,
          0.5884761904761906,
          0.611920634920635,
          0.5806031746031746,
          0.5746825396825397,
          0.5810634920634921,
          0.5711746031746032,
          0.5723809523809523,
          0.6055079365079364,
          0.5946984126984126,
          0.5946031746031747,
          0.6047936507936508,
          0.6026190476190477,
          0.6019841269841268,
          0.6062539682539683,
          0.6033968253968254,
          0.601,
          0.6060952380952381,
          0.5798730158730159,
          0.586968253968254,
          0.592984126984127,
          0.5911746031746032,
          0.5971428571428571,
          0.5889047619047619,
          0.5948730158730159,
          0.5918253968253968,
          0.5806031746031747,
          0.5385079365079365
         ]
        },
        {
         "mode": "lines",
         "name": "Best Value",
         "type": "scatter",
         "x": [
          0,
          1,
          2,
          3,
          4,
          5,
          6,
          7,
          8,
          9,
          10,
          11,
          12,
          13,
          14,
          15,
          16,
          17,
          18,
          19,
          20,
          21,
          22,
          23,
          24,
          25,
          26,
          27,
          28,
          29,
          30,
          31,
          32,
          33,
          34,
          35,
          36,
          37,
          38,
          39,
          40,
          41,
          42,
          43,
          44,
          45,
          46,
          47,
          48,
          49,
          50,
          51,
          52,
          53,
          54,
          55,
          56,
          57,
          58,
          59,
          60,
          61,
          62,
          63,
          64,
          65,
          66,
          67,
          68,
          69,
          70,
          71,
          72,
          73,
          74,
          75,
          76,
          77,
          78,
          79,
          80,
          81,
          82,
          83,
          84,
          85,
          86,
          87,
          88,
          89,
          90,
          91,
          92,
          93,
          94,
          95,
          96,
          97,
          98,
          99
         ],
         "y": [
          0.5771428571428571,
          0.5771428571428571,
          0.5771428571428571,
          0.5771428571428571,
          0.5771428571428571,
          0.5771428571428571,
          0.5863492063492063,
          0.6065714285714287,
          0.6065714285714287,
          0.6065714285714287,
          0.6065714285714287,
          0.6065714285714287,
          0.6065714285714287,
          0.6065714285714287,
          0.6065714285714287,
          0.6065714285714287,
          0.6065714285714287,
          0.6065714285714287,
          0.6065714285714287,
          0.6065714285714287,
          0.6065714285714287,
          0.6065714285714287,
          0.6065714285714287,
          0.6065714285714287,
          0.6065714285714287,
          0.6065714285714287,
          0.6065714285714287,
          0.6065714285714287,
          0.6065714285714287,
          0.6065714285714287,
          0.6065714285714287,
          0.6065714285714287,
          0.6065714285714287,
          0.6065714285714287,
          0.6065714285714287,
          0.6065714285714287,
          0.6065714285714287,
          0.6065714285714287,
          0.6065714285714287,
          0.6065714285714287,
          0.6065714285714287,
          0.6065714285714287,
          0.6065714285714287,
          0.6065714285714287,
          0.6065714285714287,
          0.6065714285714287,
          0.6065714285714287,
          0.6065714285714287,
          0.6065714285714287,
          0.6065714285714287,
          0.6065714285714287,
          0.6065714285714287,
          0.6065714285714287,
          0.6065714285714287,
          0.6065714285714287,
          0.6065714285714287,
          0.6065714285714287,
          0.6065714285714287,
          0.6065714285714287,
          0.6065714285714287,
          0.6065714285714287,
          0.6065714285714287,
          0.6065714285714287,
          0.6065714285714287,
          0.6065714285714287,
          0.6065714285714287,
          0.6065714285714287,
          0.6065714285714287,
          0.6065714285714287,
          0.6065714285714287,
          0.6065714285714287,
          0.6065714285714287,
          0.6065714285714287,
          0.6065714285714287,
          0.611920634920635,
          0.611920634920635,
          0.611920634920635,
          0.611920634920635,
          0.611920634920635,
          0.611920634920635,
          0.611920634920635,
          0.611920634920635,
          0.611920634920635,
          0.611920634920635,
          0.611920634920635,
          0.611920634920635,
          0.611920634920635,
          0.611920634920635,
          0.611920634920635,
          0.611920634920635,
          0.611920634920635,
          0.611920634920635,
          0.611920634920635,
          0.611920634920635,
          0.611920634920635,
          0.611920634920635,
          0.611920634920635,
          0.611920634920635,
          0.611920634920635,
          0.611920634920635
         ]
        },
        {
         "marker": {
          "color": "#cccccc"
         },
         "mode": "markers",
         "name": "Infeasible Trial",
         "showlegend": false,
         "type": "scatter",
         "x": [],
         "y": []
        }
       ],
       "layout": {
        "template": {
         "data": {
          "bar": [
           {
            "error_x": {
             "color": "#2a3f5f"
            },
            "error_y": {
             "color": "#2a3f5f"
            },
            "marker": {
             "line": {
              "color": "#E5ECF6",
              "width": 0.5
             },
             "pattern": {
              "fillmode": "overlay",
              "size": 10,
              "solidity": 0.2
             }
            },
            "type": "bar"
           }
          ],
          "barpolar": [
           {
            "marker": {
             "line": {
              "color": "#E5ECF6",
              "width": 0.5
             },
             "pattern": {
              "fillmode": "overlay",
              "size": 10,
              "solidity": 0.2
             }
            },
            "type": "barpolar"
           }
          ],
          "carpet": [
           {
            "aaxis": {
             "endlinecolor": "#2a3f5f",
             "gridcolor": "white",
             "linecolor": "white",
             "minorgridcolor": "white",
             "startlinecolor": "#2a3f5f"
            },
            "baxis": {
             "endlinecolor": "#2a3f5f",
             "gridcolor": "white",
             "linecolor": "white",
             "minorgridcolor": "white",
             "startlinecolor": "#2a3f5f"
            },
            "type": "carpet"
           }
          ],
          "choropleth": [
           {
            "colorbar": {
             "outlinewidth": 0,
             "ticks": ""
            },
            "type": "choropleth"
           }
          ],
          "contour": [
           {
            "colorbar": {
             "outlinewidth": 0,
             "ticks": ""
            },
            "colorscale": [
             [
              0,
              "#0d0887"
             ],
             [
              0.1111111111111111,
              "#46039f"
             ],
             [
              0.2222222222222222,
              "#7201a8"
             ],
             [
              0.3333333333333333,
              "#9c179e"
             ],
             [
              0.4444444444444444,
              "#bd3786"
             ],
             [
              0.5555555555555556,
              "#d8576b"
             ],
             [
              0.6666666666666666,
              "#ed7953"
             ],
             [
              0.7777777777777778,
              "#fb9f3a"
             ],
             [
              0.8888888888888888,
              "#fdca26"
             ],
             [
              1,
              "#f0f921"
             ]
            ],
            "type": "contour"
           }
          ],
          "contourcarpet": [
           {
            "colorbar": {
             "outlinewidth": 0,
             "ticks": ""
            },
            "type": "contourcarpet"
           }
          ],
          "heatmap": [
           {
            "colorbar": {
             "outlinewidth": 0,
             "ticks": ""
            },
            "colorscale": [
             [
              0,
              "#0d0887"
             ],
             [
              0.1111111111111111,
              "#46039f"
             ],
             [
              0.2222222222222222,
              "#7201a8"
             ],
             [
              0.3333333333333333,
              "#9c179e"
             ],
             [
              0.4444444444444444,
              "#bd3786"
             ],
             [
              0.5555555555555556,
              "#d8576b"
             ],
             [
              0.6666666666666666,
              "#ed7953"
             ],
             [
              0.7777777777777778,
              "#fb9f3a"
             ],
             [
              0.8888888888888888,
              "#fdca26"
             ],
             [
              1,
              "#f0f921"
             ]
            ],
            "type": "heatmap"
           }
          ],
          "heatmapgl": [
           {
            "colorbar": {
             "outlinewidth": 0,
             "ticks": ""
            },
            "colorscale": [
             [
              0,
              "#0d0887"
             ],
             [
              0.1111111111111111,
              "#46039f"
             ],
             [
              0.2222222222222222,
              "#7201a8"
             ],
             [
              0.3333333333333333,
              "#9c179e"
             ],
             [
              0.4444444444444444,
              "#bd3786"
             ],
             [
              0.5555555555555556,
              "#d8576b"
             ],
             [
              0.6666666666666666,
              "#ed7953"
             ],
             [
              0.7777777777777778,
              "#fb9f3a"
             ],
             [
              0.8888888888888888,
              "#fdca26"
             ],
             [
              1,
              "#f0f921"
             ]
            ],
            "type": "heatmapgl"
           }
          ],
          "histogram": [
           {
            "marker": {
             "pattern": {
              "fillmode": "overlay",
              "size": 10,
              "solidity": 0.2
             }
            },
            "type": "histogram"
           }
          ],
          "histogram2d": [
           {
            "colorbar": {
             "outlinewidth": 0,
             "ticks": ""
            },
            "colorscale": [
             [
              0,
              "#0d0887"
             ],
             [
              0.1111111111111111,
              "#46039f"
             ],
             [
              0.2222222222222222,
              "#7201a8"
             ],
             [
              0.3333333333333333,
              "#9c179e"
             ],
             [
              0.4444444444444444,
              "#bd3786"
             ],
             [
              0.5555555555555556,
              "#d8576b"
             ],
             [
              0.6666666666666666,
              "#ed7953"
             ],
             [
              0.7777777777777778,
              "#fb9f3a"
             ],
             [
              0.8888888888888888,
              "#fdca26"
             ],
             [
              1,
              "#f0f921"
             ]
            ],
            "type": "histogram2d"
           }
          ],
          "histogram2dcontour": [
           {
            "colorbar": {
             "outlinewidth": 0,
             "ticks": ""
            },
            "colorscale": [
             [
              0,
              "#0d0887"
             ],
             [
              0.1111111111111111,
              "#46039f"
             ],
             [
              0.2222222222222222,
              "#7201a8"
             ],
             [
              0.3333333333333333,
              "#9c179e"
             ],
             [
              0.4444444444444444,
              "#bd3786"
             ],
             [
              0.5555555555555556,
              "#d8576b"
             ],
             [
              0.6666666666666666,
              "#ed7953"
             ],
             [
              0.7777777777777778,
              "#fb9f3a"
             ],
             [
              0.8888888888888888,
              "#fdca26"
             ],
             [
              1,
              "#f0f921"
             ]
            ],
            "type": "histogram2dcontour"
           }
          ],
          "mesh3d": [
           {
            "colorbar": {
             "outlinewidth": 0,
             "ticks": ""
            },
            "type": "mesh3d"
           }
          ],
          "parcoords": [
           {
            "line": {
             "colorbar": {
              "outlinewidth": 0,
              "ticks": ""
             }
            },
            "type": "parcoords"
           }
          ],
          "pie": [
           {
            "automargin": true,
            "type": "pie"
           }
          ],
          "scatter": [
           {
            "fillpattern": {
             "fillmode": "overlay",
             "size": 10,
             "solidity": 0.2
            },
            "type": "scatter"
           }
          ],
          "scatter3d": [
           {
            "line": {
             "colorbar": {
              "outlinewidth": 0,
              "ticks": ""
             }
            },
            "marker": {
             "colorbar": {
              "outlinewidth": 0,
              "ticks": ""
             }
            },
            "type": "scatter3d"
           }
          ],
          "scattercarpet": [
           {
            "marker": {
             "colorbar": {
              "outlinewidth": 0,
              "ticks": ""
             }
            },
            "type": "scattercarpet"
           }
          ],
          "scattergeo": [
           {
            "marker": {
             "colorbar": {
              "outlinewidth": 0,
              "ticks": ""
             }
            },
            "type": "scattergeo"
           }
          ],
          "scattergl": [
           {
            "marker": {
             "colorbar": {
              "outlinewidth": 0,
              "ticks": ""
             }
            },
            "type": "scattergl"
           }
          ],
          "scattermapbox": [
           {
            "marker": {
             "colorbar": {
              "outlinewidth": 0,
              "ticks": ""
             }
            },
            "type": "scattermapbox"
           }
          ],
          "scatterpolar": [
           {
            "marker": {
             "colorbar": {
              "outlinewidth": 0,
              "ticks": ""
             }
            },
            "type": "scatterpolar"
           }
          ],
          "scatterpolargl": [
           {
            "marker": {
             "colorbar": {
              "outlinewidth": 0,
              "ticks": ""
             }
            },
            "type": "scatterpolargl"
           }
          ],
          "scatterternary": [
           {
            "marker": {
             "colorbar": {
              "outlinewidth": 0,
              "ticks": ""
             }
            },
            "type": "scatterternary"
           }
          ],
          "surface": [
           {
            "colorbar": {
             "outlinewidth": 0,
             "ticks": ""
            },
            "colorscale": [
             [
              0,
              "#0d0887"
             ],
             [
              0.1111111111111111,
              "#46039f"
             ],
             [
              0.2222222222222222,
              "#7201a8"
             ],
             [
              0.3333333333333333,
              "#9c179e"
             ],
             [
              0.4444444444444444,
              "#bd3786"
             ],
             [
              0.5555555555555556,
              "#d8576b"
             ],
             [
              0.6666666666666666,
              "#ed7953"
             ],
             [
              0.7777777777777778,
              "#fb9f3a"
             ],
             [
              0.8888888888888888,
              "#fdca26"
             ],
             [
              1,
              "#f0f921"
             ]
            ],
            "type": "surface"
           }
          ],
          "table": [
           {
            "cells": {
             "fill": {
              "color": "#EBF0F8"
             },
             "line": {
              "color": "white"
             }
            },
            "header": {
             "fill": {
              "color": "#C8D4E3"
             },
             "line": {
              "color": "white"
             }
            },
            "type": "table"
           }
          ]
         },
         "layout": {
          "annotationdefaults": {
           "arrowcolor": "#2a3f5f",
           "arrowhead": 0,
           "arrowwidth": 1
          },
          "autotypenumbers": "strict",
          "coloraxis": {
           "colorbar": {
            "outlinewidth": 0,
            "ticks": ""
           }
          },
          "colorscale": {
           "diverging": [
            [
             0,
             "#8e0152"
            ],
            [
             0.1,
             "#c51b7d"
            ],
            [
             0.2,
             "#de77ae"
            ],
            [
             0.3,
             "#f1b6da"
            ],
            [
             0.4,
             "#fde0ef"
            ],
            [
             0.5,
             "#f7f7f7"
            ],
            [
             0.6,
             "#e6f5d0"
            ],
            [
             0.7,
             "#b8e186"
            ],
            [
             0.8,
             "#7fbc41"
            ],
            [
             0.9,
             "#4d9221"
            ],
            [
             1,
             "#276419"
            ]
           ],
           "sequential": [
            [
             0,
             "#0d0887"
            ],
            [
             0.1111111111111111,
             "#46039f"
            ],
            [
             0.2222222222222222,
             "#7201a8"
            ],
            [
             0.3333333333333333,
             "#9c179e"
            ],
            [
             0.4444444444444444,
             "#bd3786"
            ],
            [
             0.5555555555555556,
             "#d8576b"
            ],
            [
             0.6666666666666666,
             "#ed7953"
            ],
            [
             0.7777777777777778,
             "#fb9f3a"
            ],
            [
             0.8888888888888888,
             "#fdca26"
            ],
            [
             1,
             "#f0f921"
            ]
           ],
           "sequentialminus": [
            [
             0,
             "#0d0887"
            ],
            [
             0.1111111111111111,
             "#46039f"
            ],
            [
             0.2222222222222222,
             "#7201a8"
            ],
            [
             0.3333333333333333,
             "#9c179e"
            ],
            [
             0.4444444444444444,
             "#bd3786"
            ],
            [
             0.5555555555555556,
             "#d8576b"
            ],
            [
             0.6666666666666666,
             "#ed7953"
            ],
            [
             0.7777777777777778,
             "#fb9f3a"
            ],
            [
             0.8888888888888888,
             "#fdca26"
            ],
            [
             1,
             "#f0f921"
            ]
           ]
          },
          "colorway": [
           "#636efa",
           "#EF553B",
           "#00cc96",
           "#ab63fa",
           "#FFA15A",
           "#19d3f3",
           "#FF6692",
           "#B6E880",
           "#FF97FF",
           "#FECB52"
          ],
          "font": {
           "color": "#2a3f5f"
          },
          "geo": {
           "bgcolor": "white",
           "lakecolor": "white",
           "landcolor": "#E5ECF6",
           "showlakes": true,
           "showland": true,
           "subunitcolor": "white"
          },
          "hoverlabel": {
           "align": "left"
          },
          "hovermode": "closest",
          "mapbox": {
           "style": "light"
          },
          "paper_bgcolor": "white",
          "plot_bgcolor": "#E5ECF6",
          "polar": {
           "angularaxis": {
            "gridcolor": "white",
            "linecolor": "white",
            "ticks": ""
           },
           "bgcolor": "#E5ECF6",
           "radialaxis": {
            "gridcolor": "white",
            "linecolor": "white",
            "ticks": ""
           }
          },
          "scene": {
           "xaxis": {
            "backgroundcolor": "#E5ECF6",
            "gridcolor": "white",
            "gridwidth": 2,
            "linecolor": "white",
            "showbackground": true,
            "ticks": "",
            "zerolinecolor": "white"
           },
           "yaxis": {
            "backgroundcolor": "#E5ECF6",
            "gridcolor": "white",
            "gridwidth": 2,
            "linecolor": "white",
            "showbackground": true,
            "ticks": "",
            "zerolinecolor": "white"
           },
           "zaxis": {
            "backgroundcolor": "#E5ECF6",
            "gridcolor": "white",
            "gridwidth": 2,
            "linecolor": "white",
            "showbackground": true,
            "ticks": "",
            "zerolinecolor": "white"
           }
          },
          "shapedefaults": {
           "line": {
            "color": "#2a3f5f"
           }
          },
          "ternary": {
           "aaxis": {
            "gridcolor": "white",
            "linecolor": "white",
            "ticks": ""
           },
           "baxis": {
            "gridcolor": "white",
            "linecolor": "white",
            "ticks": ""
           },
           "bgcolor": "#E5ECF6",
           "caxis": {
            "gridcolor": "white",
            "linecolor": "white",
            "ticks": ""
           }
          },
          "title": {
           "x": 0.05
          },
          "xaxis": {
           "automargin": true,
           "gridcolor": "white",
           "linecolor": "white",
           "ticks": "",
           "title": {
            "standoff": 15
           },
           "zerolinecolor": "white",
           "zerolinewidth": 2
          },
          "yaxis": {
           "automargin": true,
           "gridcolor": "white",
           "linecolor": "white",
           "ticks": "",
           "title": {
            "standoff": 15
           },
           "zerolinecolor": "white",
           "zerolinewidth": 2
          }
         }
        },
        "title": {
         "text": "Optimization History Plot"
        },
        "xaxis": {
         "title": {
          "text": "Trial"
         }
        },
        "yaxis": {
         "title": {
          "text": "Objective Value"
         }
        }
       }
      }
     },
     "metadata": {},
     "output_type": "display_data"
    }
   ],
   "source": [
    "from optuna.visualization import plot_optimization_history, plot_slice\n",
    "\n",
    "plot_optimization_history(study)"
   ]
  },
  {
   "cell_type": "code",
   "execution_count": null,
   "metadata": {},
   "outputs": [
    {
     "data": {
      "application/vnd.plotly.v1+json": {
       "config": {
        "plotlyServerURL": "https://plot.ly"
       },
       "data": [
        {
         "marker": {
          "color": [
           0,
           1,
           2,
           3,
           4,
           5,
           6,
           7,
           8,
           9,
           10,
           11,
           12,
           13,
           14,
           15,
           16,
           17,
           18,
           19,
           20,
           21,
           22,
           23,
           24,
           25,
           26,
           27,
           28,
           29,
           30,
           31,
           32,
           33,
           34,
           35,
           36,
           37,
           38,
           39,
           40,
           41,
           42,
           43,
           44,
           45,
           46,
           47,
           48,
           49,
           50,
           51,
           52,
           53,
           54,
           55,
           56,
           57,
           58,
           59,
           60,
           61,
           62,
           63,
           64,
           65,
           66,
           67,
           68,
           69,
           70,
           71,
           72,
           73,
           74,
           75,
           76,
           77,
           78,
           79,
           80,
           81,
           82,
           83,
           84,
           85,
           86,
           87,
           88,
           89,
           90,
           91,
           92,
           93,
           94,
           95,
           96,
           97,
           98,
           99
          ],
          "colorbar": {
           "title": {
            "text": "Trial"
           },
           "x": 1,
           "xpad": 40
          },
          "colorscale": [
           [
            0,
            "rgb(247,251,255)"
           ],
           [
            0.125,
            "rgb(222,235,247)"
           ],
           [
            0.25,
            "rgb(198,219,239)"
           ],
           [
            0.375,
            "rgb(158,202,225)"
           ],
           [
            0.5,
            "rgb(107,174,214)"
           ],
           [
            0.625,
            "rgb(66,146,198)"
           ],
           [
            0.75,
            "rgb(33,113,181)"
           ],
           [
            0.875,
            "rgb(8,81,156)"
           ],
           [
            1,
            "rgb(8,48,107)"
           ]
          ],
          "line": {
           "color": "Grey",
           "width": 0.5
          },
          "showscale": true
         },
         "mode": "markers",
         "name": "Feasible Trial",
         "showlegend": false,
         "type": "scatter",
         "x": [
          true,
          true,
          true,
          false,
          true,
          false,
          true,
          true,
          false,
          false,
          false,
          false,
          false,
          false,
          true,
          false,
          false,
          false,
          false,
          true,
          true,
          true,
          true,
          true,
          true,
          true,
          true,
          true,
          true,
          true,
          true,
          true,
          true,
          true,
          true,
          true,
          true,
          true,
          true,
          true,
          true,
          true,
          true,
          true,
          true,
          true,
          true,
          true,
          true,
          true,
          true,
          true,
          true,
          true,
          true,
          true,
          true,
          true,
          true,
          true,
          true,
          true,
          true,
          true,
          true,
          true,
          true,
          false,
          false,
          false,
          false,
          false,
          false,
          false,
          true,
          true,
          true,
          true,
          true,
          true,
          true,
          true,
          true,
          true,
          true,
          true,
          true,
          true,
          true,
          true,
          true,
          true,
          true,
          true,
          true,
          true,
          true,
          true,
          true,
          true
         ],
         "xaxis": "x",
         "y": [
          0.5771428571428571,
          0.468968253968254,
          0.5354603174603174,
          0.4586349206349206,
          0.5414761904761904,
          0.5603809523809524,
          0.5863492063492063,
          0.6065714285714287,
          0.5405873015873015,
          0.4803809523809524,
          0.5438412698412699,
          0.5373809523809524,
          0.4565714285714286,
          0.530984126984127,
          0.48995238095238103,
          0.4873492063492063,
          0.5796666666666667,
          0.5598412698412698,
          0.4727301587301588,
          0.5352857142857143,
          0.504063492063492,
          0.5327777777777778,
          0.5951587301587302,
          0.58915873015873,
          0.6033333333333333,
          0.5897936507936509,
          0.6058571428571429,
          0.5902063492063492,
          0.5714603174603174,
          0.5127142857142857,
          0.5843333333333334,
          0.47680952380952385,
          0.5947936507936508,
          0.5968095238095238,
          0.5958253968253968,
          0.5990000000000001,
          0.6005714285714286,
          0.5935079365079364,
          0.5965714285714285,
          0.5954285714285714,
          0.6008730158730159,
          0.5931111111111111,
          0.5994285714285714,
          0.5888095238095239,
          0.600936507936508,
          0.5946031746031746,
          0.6048253968253967,
          0.5858412698412698,
          0.5771904761904763,
          0.5762539682539684,
          0.5451269841269841,
          0.5482222222222222,
          0.5745714285714285,
          0.5550476190476191,
          0.488920634920635,
          0.4904761904761905,
          0.4953333333333333,
          0.49190476190476184,
          0.49052380952380953,
          0.49085714285714294,
          0.48706349206349203,
          0.518888888888889,
          0.48120634920634925,
          0.47011111111111104,
          0.483015873015873,
          0.49466666666666664,
          0.4524285714285714,
          0.502,
          0.5097301587301588,
          0.5173015873015874,
          0.5157142857142858,
          0.505968253968254,
          0.5137142857142858,
          0.5884761904761906,
          0.611920634920635,
          0.5806031746031746,
          0.5746825396825397,
          0.5810634920634921,
          0.5711746031746032,
          0.5723809523809523,
          0.6055079365079364,
          0.5946984126984126,
          0.5946031746031747,
          0.6047936507936508,
          0.6026190476190477,
          0.6019841269841268,
          0.6062539682539683,
          0.6033968253968254,
          0.601,
          0.6060952380952381,
          0.5798730158730159,
          0.586968253968254,
          0.592984126984127,
          0.5911746031746032,
          0.5971428571428571,
          0.5889047619047619,
          0.5948730158730159,
          0.5918253968253968,
          0.5806031746031747,
          0.5385079365079365
         ],
         "yaxis": "y"
        },
        {
         "marker": {
          "color": [
           0,
           1,
           2,
           3,
           4,
           5,
           6,
           7,
           8,
           9,
           10,
           11,
           12,
           13,
           14,
           15,
           16,
           17,
           18,
           19,
           20,
           21,
           22,
           23,
           24,
           25,
           26,
           27,
           28,
           29,
           30,
           31,
           32,
           33,
           34,
           35,
           36,
           37,
           38,
           39,
           40,
           41,
           42,
           43,
           44,
           45,
           46,
           47,
           48,
           49,
           50,
           51,
           52,
           53,
           54,
           55,
           56,
           57,
           58,
           59,
           60,
           61,
           62,
           63,
           64,
           65,
           66,
           67,
           68,
           69,
           70,
           71,
           72,
           73,
           74,
           75,
           76,
           77,
           78,
           79,
           80,
           81,
           82,
           83,
           84,
           85,
           86,
           87,
           88,
           89,
           90,
           91,
           92,
           93,
           94,
           95,
           96,
           97,
           98,
           99
          ],
          "colorbar": {
           "title": {
            "text": "Trial"
           },
           "x": 1,
           "xpad": 40
          },
          "colorscale": [
           [
            0,
            "rgb(247,251,255)"
           ],
           [
            0.125,
            "rgb(222,235,247)"
           ],
           [
            0.25,
            "rgb(198,219,239)"
           ],
           [
            0.375,
            "rgb(158,202,225)"
           ],
           [
            0.5,
            "rgb(107,174,214)"
           ],
           [
            0.625,
            "rgb(66,146,198)"
           ],
           [
            0.75,
            "rgb(33,113,181)"
           ],
           [
            0.875,
            "rgb(8,81,156)"
           ],
           [
            1,
            "rgb(8,48,107)"
           ]
          ],
          "line": {
           "color": "Grey",
           "width": 0.5
          },
          "showscale": false
         },
         "mode": "markers",
         "name": "Feasible Trial",
         "showlegend": false,
         "type": "scatter",
         "x": [
          42,
          17,
          74,
          68,
          20,
          28,
          74,
          18,
          52,
          39,
          78,
          19,
          72,
          99,
          38,
          61,
          14,
          25,
          89,
          80,
          75,
          5,
          97,
          99,
          100,
          92,
          93,
          99,
          100,
          95,
          5,
          86,
          100,
          99,
          100,
          98,
          89,
          87,
          85,
          88,
          48,
          46,
          85,
          83,
          85,
          87,
          86,
          84,
          84,
          59,
          61,
          55,
          64,
          63,
          64,
          63,
          67,
          93,
          93,
          93,
          62,
          68,
          30,
          30,
          33,
          70,
          92,
          29,
          33,
          31,
          32,
          79,
          29,
          80,
          78,
          13,
          77,
          81,
          79,
          91,
          14,
          48,
          76,
          75,
          14,
          81,
          47,
          10,
          13,
          12,
          10,
          14,
          16,
          9,
          11,
          10,
          9,
          11,
          9,
          23
         ],
         "xaxis": "x2",
         "y": [
          0.5771428571428571,
          0.468968253968254,
          0.5354603174603174,
          0.4586349206349206,
          0.5414761904761904,
          0.5603809523809524,
          0.5863492063492063,
          0.6065714285714287,
          0.5405873015873015,
          0.4803809523809524,
          0.5438412698412699,
          0.5373809523809524,
          0.4565714285714286,
          0.530984126984127,
          0.48995238095238103,
          0.4873492063492063,
          0.5796666666666667,
          0.5598412698412698,
          0.4727301587301588,
          0.5352857142857143,
          0.504063492063492,
          0.5327777777777778,
          0.5951587301587302,
          0.58915873015873,
          0.6033333333333333,
          0.5897936507936509,
          0.6058571428571429,
          0.5902063492063492,
          0.5714603174603174,
          0.5127142857142857,
          0.5843333333333334,
          0.47680952380952385,
          0.5947936507936508,
          0.5968095238095238,
          0.5958253968253968,
          0.5990000000000001,
          0.6005714285714286,
          0.5935079365079364,
          0.5965714285714285,
          0.5954285714285714,
          0.6008730158730159,
          0.5931111111111111,
          0.5994285714285714,
          0.5888095238095239,
          0.600936507936508,
          0.5946031746031746,
          0.6048253968253967,
          0.5858412698412698,
          0.5771904761904763,
          0.5762539682539684,
          0.5451269841269841,
          0.5482222222222222,
          0.5745714285714285,
          0.5550476190476191,
          0.488920634920635,
          0.4904761904761905,
          0.4953333333333333,
          0.49190476190476184,
          0.49052380952380953,
          0.49085714285714294,
          0.48706349206349203,
          0.518888888888889,
          0.48120634920634925,
          0.47011111111111104,
          0.483015873015873,
          0.49466666666666664,
          0.4524285714285714,
          0.502,
          0.5097301587301588,
          0.5173015873015874,
          0.5157142857142858,
          0.505968253968254,
          0.5137142857142858,
          0.5884761904761906,
          0.611920634920635,
          0.5806031746031746,
          0.5746825396825397,
          0.5810634920634921,
          0.5711746031746032,
          0.5723809523809523,
          0.6055079365079364,
          0.5946984126984126,
          0.5946031746031747,
          0.6047936507936508,
          0.6026190476190477,
          0.6019841269841268,
          0.6062539682539683,
          0.6033968253968254,
          0.601,
          0.6060952380952381,
          0.5798730158730159,
          0.586968253968254,
          0.592984126984127,
          0.5911746031746032,
          0.5971428571428571,
          0.5889047619047619,
          0.5948730158730159,
          0.5918253968253968,
          0.5806031746031747,
          0.5385079365079365
         ],
         "yaxis": "y2"
        },
        {
         "marker": {
          "color": [
           0,
           1,
           2,
           3,
           4,
           5,
           6,
           7,
           8,
           9,
           10,
           11,
           12,
           13,
           14,
           15,
           16,
           17,
           18,
           19,
           20,
           21,
           22,
           23,
           24,
           25,
           26,
           27,
           28,
           29,
           30,
           31,
           32,
           33,
           34,
           35,
           36,
           37,
           38,
           39,
           40,
           41,
           42,
           43,
           44,
           45,
           46,
           47,
           48,
           49,
           50,
           51,
           52,
           53,
           54,
           55,
           56,
           57,
           58,
           59,
           60,
           61,
           62,
           63,
           64,
           65,
           66,
           67,
           68,
           69,
           70,
           71,
           72,
           73,
           74,
           75,
           76,
           77,
           78,
           79,
           80,
           81,
           82,
           83,
           84,
           85,
           86,
           87,
           88,
           89,
           90,
           91,
           92,
           93,
           94,
           95,
           96,
           97,
           98,
           99
          ],
          "colorbar": {
           "title": {
            "text": "Trial"
           },
           "x": 1,
           "xpad": 40
          },
          "colorscale": [
           [
            0,
            "rgb(247,251,255)"
           ],
           [
            0.125,
            "rgb(222,235,247)"
           ],
           [
            0.25,
            "rgb(198,219,239)"
           ],
           [
            0.375,
            "rgb(158,202,225)"
           ],
           [
            0.5,
            "rgb(107,174,214)"
           ],
           [
            0.625,
            "rgb(66,146,198)"
           ],
           [
            0.75,
            "rgb(33,113,181)"
           ],
           [
            0.875,
            "rgb(8,81,156)"
           ],
           [
            1,
            "rgb(8,48,107)"
           ]
          ],
          "line": {
           "color": "Grey",
           "width": 0.5
          },
          "showscale": false
         },
         "mode": "markers",
         "name": "Feasible Trial",
         "showlegend": false,
         "type": "scatter",
         "x": [
          1000000000,
          10000,
          100000,
          1000,
          1000000,
          1000000,
          1000000000,
          1000000000,
          1000000,
          1000,
          1000000,
          1000000,
          10000,
          1000000,
          10000,
          10000,
          10000000,
          100000,
          100,
          100000000,
          100000,
          10000,
          1000000000,
          1000000000,
          1000000000,
          1000000000,
          1000000000,
          1000000000,
          100000000,
          100,
          100000000,
          100,
          1000000000,
          1000000000,
          1000000000,
          1000000000,
          1000000000,
          1000000000,
          1000000000,
          1000000000,
          1000000000,
          1000000000,
          1000000000,
          1000000000,
          1000000000,
          1000000000,
          1000000000,
          1000000000,
          10000000,
          10000000,
          10000000,
          10000000,
          10000000,
          10000000,
          1000,
          1000,
          1000,
          1000,
          1000,
          1000,
          1000,
          100000,
          1000,
          1000,
          1000,
          100000,
          1000,
          100000,
          100000,
          100000,
          100000,
          100000,
          100000,
          1000000000,
          1000000000,
          1000000000,
          1000000000,
          1000000000,
          1000000000,
          1000000000,
          1000000000,
          1000000000,
          1000000000,
          1000000000,
          1000000000,
          1000000000,
          1000000000,
          1000000000,
          1000000000,
          1000000000,
          1000000,
          1000000,
          1000000,
          1000000,
          1000000000,
          1000000,
          1000000,
          1000000,
          1000000,
          10000
         ],
         "xaxis": "x3",
         "y": [
          0.5771428571428571,
          0.468968253968254,
          0.5354603174603174,
          0.4586349206349206,
          0.5414761904761904,
          0.5603809523809524,
          0.5863492063492063,
          0.6065714285714287,
          0.5405873015873015,
          0.4803809523809524,
          0.5438412698412699,
          0.5373809523809524,
          0.4565714285714286,
          0.530984126984127,
          0.48995238095238103,
          0.4873492063492063,
          0.5796666666666667,
          0.5598412698412698,
          0.4727301587301588,
          0.5352857142857143,
          0.504063492063492,
          0.5327777777777778,
          0.5951587301587302,
          0.58915873015873,
          0.6033333333333333,
          0.5897936507936509,
          0.6058571428571429,
          0.5902063492063492,
          0.5714603174603174,
          0.5127142857142857,
          0.5843333333333334,
          0.47680952380952385,
          0.5947936507936508,
          0.5968095238095238,
          0.5958253968253968,
          0.5990000000000001,
          0.6005714285714286,
          0.5935079365079364,
          0.5965714285714285,
          0.5954285714285714,
          0.6008730158730159,
          0.5931111111111111,
          0.5994285714285714,
          0.5888095238095239,
          0.600936507936508,
          0.5946031746031746,
          0.6048253968253967,
          0.5858412698412698,
          0.5771904761904763,
          0.5762539682539684,
          0.5451269841269841,
          0.5482222222222222,
          0.5745714285714285,
          0.5550476190476191,
          0.488920634920635,
          0.4904761904761905,
          0.4953333333333333,
          0.49190476190476184,
          0.49052380952380953,
          0.49085714285714294,
          0.48706349206349203,
          0.518888888888889,
          0.48120634920634925,
          0.47011111111111104,
          0.483015873015873,
          0.49466666666666664,
          0.4524285714285714,
          0.502,
          0.5097301587301588,
          0.5173015873015874,
          0.5157142857142858,
          0.505968253968254,
          0.5137142857142858,
          0.5884761904761906,
          0.611920634920635,
          0.5806031746031746,
          0.5746825396825397,
          0.5810634920634921,
          0.5711746031746032,
          0.5723809523809523,
          0.6055079365079364,
          0.5946984126984126,
          0.5946031746031747,
          0.6047936507936508,
          0.6026190476190477,
          0.6019841269841268,
          0.6062539682539683,
          0.6033968253968254,
          0.601,
          0.6060952380952381,
          0.5798730158730159,
          0.586968253968254,
          0.592984126984127,
          0.5911746031746032,
          0.5971428571428571,
          0.5889047619047619,
          0.5948730158730159,
          0.5918253968253968,
          0.5806031746031747,
          0.5385079365079365
         ],
         "yaxis": "y3"
        },
        {
         "marker": {
          "color": [
           0,
           1,
           2,
           3,
           4,
           5,
           6,
           7,
           8,
           9,
           10,
           11,
           12,
           13,
           14,
           15,
           16,
           17,
           18,
           19,
           20,
           21,
           22,
           23,
           24,
           25,
           26,
           27,
           28,
           29,
           30,
           31,
           32,
           33,
           34,
           35,
           36,
           37,
           38,
           39,
           40,
           41,
           42,
           43,
           44,
           45,
           46,
           47,
           48,
           49,
           50,
           51,
           52,
           53,
           54,
           55,
           56,
           57,
           58,
           59,
           60,
           61,
           62,
           63,
           64,
           65,
           66,
           67,
           68,
           69,
           70,
           71,
           72,
           73,
           74,
           75,
           76,
           77,
           78,
           79,
           80,
           81,
           82,
           83,
           84,
           85,
           86,
           87,
           88,
           89,
           90,
           91,
           92,
           93,
           94,
           95,
           96,
           97,
           98,
           99
          ],
          "colorbar": {
           "title": {
            "text": "Trial"
           },
           "x": 1,
           "xpad": 40
          },
          "colorscale": [
           [
            0,
            "rgb(247,251,255)"
           ],
           [
            0.125,
            "rgb(222,235,247)"
           ],
           [
            0.25,
            "rgb(198,219,239)"
           ],
           [
            0.375,
            "rgb(158,202,225)"
           ],
           [
            0.5,
            "rgb(107,174,214)"
           ],
           [
            0.625,
            "rgb(66,146,198)"
           ],
           [
            0.75,
            "rgb(33,113,181)"
           ],
           [
            0.875,
            "rgb(8,81,156)"
           ],
           [
            1,
            "rgb(8,48,107)"
           ]
          ],
          "line": {
           "color": "Grey",
           "width": 0.5
          },
          "showscale": false
         },
         "mode": "markers",
         "name": "Feasible Trial",
         "showlegend": false,
         "type": "scatter",
         "x": [
          0.04526545350540601,
          0.06311092041061306,
          0.03322332260669021,
          0.03937175671613598,
          0.04227181586014285,
          0.08599441828273476,
          0.049185855920255074,
          0.07223687767286299,
          0.010703176254544196,
          0.06664820092807051,
          0.049849439005656,
          0.0851412547376365,
          0.0534814662384396,
          0.00857548139233832,
          0.05015789865045643,
          0.08965459246026682,
          0.04247230157330026,
          0.022622968962790136,
          0.05666988331405404,
          0.06117573402443782,
          0.08427472479111164,
          0.002845573625845553,
          0.06617773916205975,
          0.07222012889583951,
          0.0742844953456912,
          0.0978797288852622,
          0.06829320163088759,
          0.07285742834203394,
          0.07567180267383973,
          0.0996434883849081,
          0.09971060648878674,
          0.0979897415187045,
          0.07494435490455818,
          0.07597341321144639,
          0.07355311360158356,
          0.07444329731677515,
          0.07584333456304591,
          0.07847657388193191,
          0.07636834667981912,
          0.07271459503993669,
          0.07377312571652311,
          0.07823375109990281,
          0.07935108239438186,
          0.08165266920491093,
          0.08011390689222835,
          0.08102584561780829,
          0.062124162887664515,
          0.06137203154282009,
          0.08102397127859927,
          0.06045733468508786,
          0.06132705742347947,
          0.05980236206586335,
          0.0909595643644093,
          0.09005061641369227,
          0.06320909582523178,
          0.06629593347272249,
          0.08903652438177838,
          0.060760920643309554,
          0.09115587915774521,
          0.09194700472252143,
          0.09024277418006173,
          0.06768982922356899,
          0.06762530922567431,
          0.06619749503179966,
          0.06726692383486313,
          0.06748126070731825,
          0.06850054303118089,
          0.06957780460335218,
          0.06844356196358818,
          0.06982956451487878,
          0.06901373565761883,
          0.06938882760801174,
          0.06919715128570147,
          0.06890444012750914,
          0.06898929794655184,
          0.05296730087342944,
          0.08522344630202326,
          0.05476995349917384,
          0.0553994643206552,
          0.056041736369851894,
          0.05285245090939518,
          0.08510565002762153,
          0.08534592083392514,
          0.05597328492427011,
          0.08516355427405631,
          0.05559067914886569,
          0.05229958433005801,
          0.05367508607569252,
          0.03299300858120226,
          0.04600457638013971,
          0.05365916592878798,
          0.04674917259794181,
          0.03336909159029738,
          0.04612808718809766,
          0.04876503916505966,
          0.04789023579293292,
          0.04603355045856082,
          0.0462415127405197,
          0.04526544356014098,
          0.044570952100791206
         ],
         "xaxis": "x4",
         "y": [
          0.5771428571428571,
          0.468968253968254,
          0.5354603174603174,
          0.4586349206349206,
          0.5414761904761904,
          0.5603809523809524,
          0.5863492063492063,
          0.6065714285714287,
          0.5405873015873015,
          0.4803809523809524,
          0.5438412698412699,
          0.5373809523809524,
          0.4565714285714286,
          0.530984126984127,
          0.48995238095238103,
          0.4873492063492063,
          0.5796666666666667,
          0.5598412698412698,
          0.4727301587301588,
          0.5352857142857143,
          0.504063492063492,
          0.5327777777777778,
          0.5951587301587302,
          0.58915873015873,
          0.6033333333333333,
          0.5897936507936509,
          0.6058571428571429,
          0.5902063492063492,
          0.5714603174603174,
          0.5127142857142857,
          0.5843333333333334,
          0.47680952380952385,
          0.5947936507936508,
          0.5968095238095238,
          0.5958253968253968,
          0.5990000000000001,
          0.6005714285714286,
          0.5935079365079364,
          0.5965714285714285,
          0.5954285714285714,
          0.6008730158730159,
          0.5931111111111111,
          0.5994285714285714,
          0.5888095238095239,
          0.600936507936508,
          0.5946031746031746,
          0.6048253968253967,
          0.5858412698412698,
          0.5771904761904763,
          0.5762539682539684,
          0.5451269841269841,
          0.5482222222222222,
          0.5745714285714285,
          0.5550476190476191,
          0.488920634920635,
          0.4904761904761905,
          0.4953333333333333,
          0.49190476190476184,
          0.49052380952380953,
          0.49085714285714294,
          0.48706349206349203,
          0.518888888888889,
          0.48120634920634925,
          0.47011111111111104,
          0.483015873015873,
          0.49466666666666664,
          0.4524285714285714,
          0.502,
          0.5097301587301588,
          0.5173015873015874,
          0.5157142857142858,
          0.505968253968254,
          0.5137142857142858,
          0.5884761904761906,
          0.611920634920635,
          0.5806031746031746,
          0.5746825396825397,
          0.5810634920634921,
          0.5711746031746032,
          0.5723809523809523,
          0.6055079365079364,
          0.5946984126984126,
          0.5946031746031747,
          0.6047936507936508,
          0.6026190476190477,
          0.6019841269841268,
          0.6062539682539683,
          0.6033968253968254,
          0.601,
          0.6060952380952381,
          0.5798730158730159,
          0.586968253968254,
          0.592984126984127,
          0.5911746031746032,
          0.5971428571428571,
          0.5889047619047619,
          0.5948730158730159,
          0.5918253968253968,
          0.5806031746031747,
          0.5385079365079365
         ],
         "yaxis": "y4"
        },
        {
         "marker": {
          "color": [
           0,
           1,
           2,
           3,
           4,
           5,
           6,
           7,
           8,
           9,
           10,
           11,
           12,
           13,
           14,
           15,
           16,
           17,
           18,
           19,
           20,
           21,
           22,
           23,
           24,
           25,
           26,
           27,
           28,
           29,
           30,
           31,
           32,
           33,
           34,
           35,
           36,
           37,
           38,
           39,
           40,
           41,
           42,
           43,
           44,
           45,
           46,
           47,
           48,
           49,
           50,
           51,
           52,
           53,
           54,
           55,
           56,
           57,
           58,
           59,
           60,
           61,
           62,
           63,
           64,
           65,
           66,
           67,
           68,
           69,
           70,
           71,
           72,
           73,
           74,
           75,
           76,
           77,
           78,
           79,
           80,
           81,
           82,
           83,
           84,
           85,
           86,
           87,
           88,
           89,
           90,
           91,
           92,
           93,
           94,
           95,
           96,
           97,
           98,
           99
          ],
          "colorbar": {
           "title": {
            "text": "Trial"
           },
           "x": 1,
           "xpad": 40
          },
          "colorscale": [
           [
            0,
            "rgb(247,251,255)"
           ],
           [
            0.125,
            "rgb(222,235,247)"
           ],
           [
            0.25,
            "rgb(198,219,239)"
           ],
           [
            0.375,
            "rgb(158,202,225)"
           ],
           [
            0.5,
            "rgb(107,174,214)"
           ],
           [
            0.625,
            "rgb(66,146,198)"
           ],
           [
            0.75,
            "rgb(33,113,181)"
           ],
           [
            0.875,
            "rgb(8,81,156)"
           ],
           [
            1,
            "rgb(8,48,107)"
           ]
          ],
          "line": {
           "color": "Grey",
           "width": 0.5
          },
          "showscale": false
         },
         "mode": "markers",
         "name": "Feasible Trial",
         "showlegend": false,
         "type": "scatter",
         "x": [
          2,
          1,
          1,
          1,
          3,
          4,
          4,
          3,
          4,
          2,
          1,
          2,
          1,
          1,
          4,
          1,
          4,
          2,
          3,
          4,
          4,
          3,
          3,
          3,
          3,
          3,
          3,
          3,
          3,
          3,
          3,
          3,
          3,
          3,
          3,
          3,
          3,
          3,
          3,
          3,
          3,
          3,
          3,
          3,
          3,
          3,
          3,
          3,
          3,
          3,
          2,
          2,
          3,
          3,
          2,
          2,
          2,
          2,
          2,
          2,
          2,
          2,
          2,
          1,
          1,
          1,
          1,
          1,
          4,
          1,
          1,
          4,
          1,
          1,
          3,
          3,
          4,
          4,
          4,
          3,
          3,
          3,
          3,
          3,
          3,
          3,
          3,
          3,
          3,
          3,
          3,
          3,
          3,
          3,
          3,
          3,
          3,
          3,
          3,
          3
         ],
         "xaxis": "x5",
         "y": [
          0.5771428571428571,
          0.468968253968254,
          0.5354603174603174,
          0.4586349206349206,
          0.5414761904761904,
          0.5603809523809524,
          0.5863492063492063,
          0.6065714285714287,
          0.5405873015873015,
          0.4803809523809524,
          0.5438412698412699,
          0.5373809523809524,
          0.4565714285714286,
          0.530984126984127,
          0.48995238095238103,
          0.4873492063492063,
          0.5796666666666667,
          0.5598412698412698,
          0.4727301587301588,
          0.5352857142857143,
          0.504063492063492,
          0.5327777777777778,
          0.5951587301587302,
          0.58915873015873,
          0.6033333333333333,
          0.5897936507936509,
          0.6058571428571429,
          0.5902063492063492,
          0.5714603174603174,
          0.5127142857142857,
          0.5843333333333334,
          0.47680952380952385,
          0.5947936507936508,
          0.5968095238095238,
          0.5958253968253968,
          0.5990000000000001,
          0.6005714285714286,
          0.5935079365079364,
          0.5965714285714285,
          0.5954285714285714,
          0.6008730158730159,
          0.5931111111111111,
          0.5994285714285714,
          0.5888095238095239,
          0.600936507936508,
          0.5946031746031746,
          0.6048253968253967,
          0.5858412698412698,
          0.5771904761904763,
          0.5762539682539684,
          0.5451269841269841,
          0.5482222222222222,
          0.5745714285714285,
          0.5550476190476191,
          0.488920634920635,
          0.4904761904761905,
          0.4953333333333333,
          0.49190476190476184,
          0.49052380952380953,
          0.49085714285714294,
          0.48706349206349203,
          0.518888888888889,
          0.48120634920634925,
          0.47011111111111104,
          0.483015873015873,
          0.49466666666666664,
          0.4524285714285714,
          0.502,
          0.5097301587301588,
          0.5173015873015874,
          0.5157142857142858,
          0.505968253968254,
          0.5137142857142858,
          0.5884761904761906,
          0.611920634920635,
          0.5806031746031746,
          0.5746825396825397,
          0.5810634920634921,
          0.5711746031746032,
          0.5723809523809523,
          0.6055079365079364,
          0.5946984126984126,
          0.5946031746031747,
          0.6047936507936508,
          0.6026190476190477,
          0.6019841269841268,
          0.6062539682539683,
          0.6033968253968254,
          0.601,
          0.6060952380952381,
          0.5798730158730159,
          0.586968253968254,
          0.592984126984127,
          0.5911746031746032,
          0.5971428571428571,
          0.5889047619047619,
          0.5948730158730159,
          0.5918253968253968,
          0.5806031746031747,
          0.5385079365079365
         ],
         "yaxis": "y5"
        },
        {
         "marker": {
          "color": [
           0,
           1,
           2,
           3,
           4,
           5,
           6,
           7,
           8,
           9,
           10,
           11,
           12,
           13,
           14,
           15,
           16,
           17,
           18,
           19,
           20,
           21,
           22,
           23,
           24,
           25,
           26,
           27,
           28,
           29,
           30,
           31,
           32,
           33,
           34,
           35,
           36,
           37,
           38,
           39,
           40,
           41,
           42,
           43,
           44,
           45,
           46,
           47,
           48,
           49,
           50,
           51,
           52,
           53,
           54,
           55,
           56,
           57,
           58,
           59,
           60,
           61,
           62,
           63,
           64,
           65,
           66,
           67,
           68,
           69,
           70,
           71,
           72,
           73,
           74,
           75,
           76,
           77,
           78,
           79,
           80,
           81,
           82,
           83,
           84,
           85,
           86,
           87,
           88,
           89,
           90,
           91,
           92,
           93,
           94,
           95,
           96,
           97,
           98,
           99
          ],
          "colorbar": {
           "title": {
            "text": "Trial"
           },
           "x": 1,
           "xpad": 40
          },
          "colorscale": [
           [
            0,
            "rgb(247,251,255)"
           ],
           [
            0.125,
            "rgb(222,235,247)"
           ],
           [
            0.25,
            "rgb(198,219,239)"
           ],
           [
            0.375,
            "rgb(158,202,225)"
           ],
           [
            0.5,
            "rgb(107,174,214)"
           ],
           [
            0.625,
            "rgb(66,146,198)"
           ],
           [
            0.75,
            "rgb(33,113,181)"
           ],
           [
            0.875,
            "rgb(8,81,156)"
           ],
           [
            1,
            "rgb(8,48,107)"
           ]
          ],
          "line": {
           "color": "Grey",
           "width": 0.5
          },
          "showscale": false
         },
         "mode": "markers",
         "name": "Feasible Trial",
         "showlegend": false,
         "type": "scatter",
         "x": [
          "normal",
          "svn",
          "vector",
          "vector",
          "normal",
          "vector",
          "vector",
          "svn",
          "vector",
          "vector",
          "svn",
          "svn",
          "svn",
          "normal",
          "svn",
          "normal",
          false,
          false,
          "normal",
          "svn",
          "svn",
          false,
          false,
          false,
          false,
          false,
          false,
          "svn",
          false,
          false,
          false,
          "svn",
          false,
          false,
          false,
          false,
          false,
          false,
          false,
          false,
          false,
          false,
          false,
          false,
          false,
          false,
          false,
          false,
          false,
          false,
          "normal",
          "vector",
          false,
          "vector",
          "vector",
          "vector",
          "vector",
          "vector",
          "vector",
          "vector",
          "vector",
          "vector",
          "vector",
          "normal",
          "vector",
          "svn",
          "svn",
          "svn",
          "svn",
          "svn",
          "svn",
          "svn",
          "svn",
          "svn",
          "svn",
          "normal",
          "normal",
          "normal",
          "normal",
          "normal",
          false,
          false,
          false,
          false,
          false,
          false,
          false,
          false,
          false,
          false,
          false,
          false,
          false,
          false,
          false,
          false,
          false,
          false,
          false,
          false
         ],
         "xaxis": "x6",
         "y": [
          0.5771428571428571,
          0.468968253968254,
          0.5354603174603174,
          0.4586349206349206,
          0.5414761904761904,
          0.5603809523809524,
          0.5863492063492063,
          0.6065714285714287,
          0.5405873015873015,
          0.4803809523809524,
          0.5438412698412699,
          0.5373809523809524,
          0.4565714285714286,
          0.530984126984127,
          0.48995238095238103,
          0.4873492063492063,
          0.5796666666666667,
          0.5598412698412698,
          0.4727301587301588,
          0.5352857142857143,
          0.504063492063492,
          0.5327777777777778,
          0.5951587301587302,
          0.58915873015873,
          0.6033333333333333,
          0.5897936507936509,
          0.6058571428571429,
          0.5902063492063492,
          0.5714603174603174,
          0.5127142857142857,
          0.5843333333333334,
          0.47680952380952385,
          0.5947936507936508,
          0.5968095238095238,
          0.5958253968253968,
          0.5990000000000001,
          0.6005714285714286,
          0.5935079365079364,
          0.5965714285714285,
          0.5954285714285714,
          0.6008730158730159,
          0.5931111111111111,
          0.5994285714285714,
          0.5888095238095239,
          0.600936507936508,
          0.5946031746031746,
          0.6048253968253967,
          0.5858412698412698,
          0.5771904761904763,
          0.5762539682539684,
          0.5451269841269841,
          0.5482222222222222,
          0.5745714285714285,
          0.5550476190476191,
          0.488920634920635,
          0.4904761904761905,
          0.4953333333333333,
          0.49190476190476184,
          0.49052380952380953,
          0.49085714285714294,
          0.48706349206349203,
          0.518888888888889,
          0.48120634920634925,
          0.47011111111111104,
          0.483015873015873,
          0.49466666666666664,
          0.4524285714285714,
          0.502,
          0.5097301587301588,
          0.5173015873015874,
          0.5157142857142858,
          0.505968253968254,
          0.5137142857142858,
          0.5884761904761906,
          0.611920634920635,
          0.5806031746031746,
          0.5746825396825397,
          0.5810634920634921,
          0.5711746031746032,
          0.5723809523809523,
          0.6055079365079364,
          0.5946984126984126,
          0.5946031746031747,
          0.6047936507936508,
          0.6026190476190477,
          0.6019841269841268,
          0.6062539682539683,
          0.6033968253968254,
          0.601,
          0.6060952380952381,
          0.5798730158730159,
          0.586968253968254,
          0.592984126984127,
          0.5911746031746032,
          0.5971428571428571,
          0.5889047619047619,
          0.5948730158730159,
          0.5918253968253968,
          0.5806031746031747,
          0.5385079365079365
         ],
         "yaxis": "y6"
        },
        {
         "marker": {
          "color": [
           0,
           1,
           2,
           3,
           4,
           5,
           6,
           7,
           8,
           9,
           10,
           11,
           12,
           13,
           14,
           15,
           16,
           17,
           18,
           19,
           20,
           21,
           22,
           23,
           24,
           25,
           26,
           27,
           28,
           29,
           30,
           31,
           32,
           33,
           34,
           35,
           36,
           37,
           38,
           39,
           40,
           41,
           42,
           43,
           44,
           45,
           46,
           47,
           48,
           49,
           50,
           51,
           52,
           53,
           54,
           55,
           56,
           57,
           58,
           59,
           60,
           61,
           62,
           63,
           64,
           65,
           66,
           67,
           68,
           69,
           70,
           71,
           72,
           73,
           74,
           75,
           76,
           77,
           78,
           79,
           80,
           81,
           82,
           83,
           84,
           85,
           86,
           87,
           88,
           89,
           90,
           91,
           92,
           93,
           94,
           95,
           96,
           97,
           98,
           99
          ],
          "colorbar": {
           "title": {
            "text": "Trial"
           },
           "x": 1,
           "xpad": 40
          },
          "colorscale": [
           [
            0,
            "rgb(247,251,255)"
           ],
           [
            0.125,
            "rgb(222,235,247)"
           ],
           [
            0.25,
            "rgb(198,219,239)"
           ],
           [
            0.375,
            "rgb(158,202,225)"
           ],
           [
            0.5,
            "rgb(107,174,214)"
           ],
           [
            0.625,
            "rgb(66,146,198)"
           ],
           [
            0.75,
            "rgb(33,113,181)"
           ],
           [
            0.875,
            "rgb(8,81,156)"
           ],
           [
            1,
            "rgb(8,48,107)"
           ]
          ],
          "line": {
           "color": "Grey",
           "width": 0.5
          },
          "showscale": false
         },
         "mode": "markers",
         "name": "Feasible Trial",
         "showlegend": false,
         "type": "scatter",
         "x": [
          70,
          133,
          32,
          177,
          50,
          93,
          108,
          42,
          185,
          94,
          148,
          109,
          105,
          39,
          45,
          22,
          198,
          20,
          172,
          5,
          31,
          16,
          12,
          12,
          15,
          57,
          64,
          64,
          7,
          52,
          57,
          61,
          60,
          59,
          62,
          60,
          65,
          74,
          68,
          76,
          72,
          74,
          77,
          78,
          78,
          78,
          86,
          79,
          76,
          79,
          84,
          84,
          80,
          30,
          85,
          88,
          90,
          87,
          122,
          92,
          117,
          119,
          91,
          117,
          100,
          124,
          123,
          117,
          125,
          42,
          44,
          41,
          42,
          43,
          50,
          36,
          101,
          102,
          50,
          50,
          26,
          68,
          51,
          50,
          51,
          98,
          34,
          36,
          26,
          28,
          25,
          24,
          26,
          27,
          26,
          25,
          26,
          25,
          30,
          19
         ],
         "xaxis": "x7",
         "y": [
          0.5771428571428571,
          0.468968253968254,
          0.5354603174603174,
          0.4586349206349206,
          0.5414761904761904,
          0.5603809523809524,
          0.5863492063492063,
          0.6065714285714287,
          0.5405873015873015,
          0.4803809523809524,
          0.5438412698412699,
          0.5373809523809524,
          0.4565714285714286,
          0.530984126984127,
          0.48995238095238103,
          0.4873492063492063,
          0.5796666666666667,
          0.5598412698412698,
          0.4727301587301588,
          0.5352857142857143,
          0.504063492063492,
          0.5327777777777778,
          0.5951587301587302,
          0.58915873015873,
          0.6033333333333333,
          0.5897936507936509,
          0.6058571428571429,
          0.5902063492063492,
          0.5714603174603174,
          0.5127142857142857,
          0.5843333333333334,
          0.47680952380952385,
          0.5947936507936508,
          0.5968095238095238,
          0.5958253968253968,
          0.5990000000000001,
          0.6005714285714286,
          0.5935079365079364,
          0.5965714285714285,
          0.5954285714285714,
          0.6008730158730159,
          0.5931111111111111,
          0.5994285714285714,
          0.5888095238095239,
          0.600936507936508,
          0.5946031746031746,
          0.6048253968253967,
          0.5858412698412698,
          0.5771904761904763,
          0.5762539682539684,
          0.5451269841269841,
          0.5482222222222222,
          0.5745714285714285,
          0.5550476190476191,
          0.488920634920635,
          0.4904761904761905,
          0.4953333333333333,
          0.49190476190476184,
          0.49052380952380953,
          0.49085714285714294,
          0.48706349206349203,
          0.518888888888889,
          0.48120634920634925,
          0.47011111111111104,
          0.483015873015873,
          0.49466666666666664,
          0.4524285714285714,
          0.502,
          0.5097301587301588,
          0.5173015873015874,
          0.5157142857142858,
          0.505968253968254,
          0.5137142857142858,
          0.5884761904761906,
          0.611920634920635,
          0.5806031746031746,
          0.5746825396825397,
          0.5810634920634921,
          0.5711746031746032,
          0.5723809523809523,
          0.6055079365079364,
          0.5946984126984126,
          0.5946031746031747,
          0.6047936507936508,
          0.6026190476190477,
          0.6019841269841268,
          0.6062539682539683,
          0.6033968253968254,
          0.601,
          0.6060952380952381,
          0.5798730158730159,
          0.586968253968254,
          0.592984126984127,
          0.5911746031746032,
          0.5971428571428571,
          0.5889047619047619,
          0.5948730158730159,
          0.5918253968253968,
          0.5806031746031747,
          0.5385079365079365
         ],
         "yaxis": "y7"
        }
       ],
       "layout": {
        "template": {
         "data": {
          "bar": [
           {
            "error_x": {
             "color": "#2a3f5f"
            },
            "error_y": {
             "color": "#2a3f5f"
            },
            "marker": {
             "line": {
              "color": "#E5ECF6",
              "width": 0.5
             },
             "pattern": {
              "fillmode": "overlay",
              "size": 10,
              "solidity": 0.2
             }
            },
            "type": "bar"
           }
          ],
          "barpolar": [
           {
            "marker": {
             "line": {
              "color": "#E5ECF6",
              "width": 0.5
             },
             "pattern": {
              "fillmode": "overlay",
              "size": 10,
              "solidity": 0.2
             }
            },
            "type": "barpolar"
           }
          ],
          "carpet": [
           {
            "aaxis": {
             "endlinecolor": "#2a3f5f",
             "gridcolor": "white",
             "linecolor": "white",
             "minorgridcolor": "white",
             "startlinecolor": "#2a3f5f"
            },
            "baxis": {
             "endlinecolor": "#2a3f5f",
             "gridcolor": "white",
             "linecolor": "white",
             "minorgridcolor": "white",
             "startlinecolor": "#2a3f5f"
            },
            "type": "carpet"
           }
          ],
          "choropleth": [
           {
            "colorbar": {
             "outlinewidth": 0,
             "ticks": ""
            },
            "type": "choropleth"
           }
          ],
          "contour": [
           {
            "colorbar": {
             "outlinewidth": 0,
             "ticks": ""
            },
            "colorscale": [
             [
              0,
              "#0d0887"
             ],
             [
              0.1111111111111111,
              "#46039f"
             ],
             [
              0.2222222222222222,
              "#7201a8"
             ],
             [
              0.3333333333333333,
              "#9c179e"
             ],
             [
              0.4444444444444444,
              "#bd3786"
             ],
             [
              0.5555555555555556,
              "#d8576b"
             ],
             [
              0.6666666666666666,
              "#ed7953"
             ],
             [
              0.7777777777777778,
              "#fb9f3a"
             ],
             [
              0.8888888888888888,
              "#fdca26"
             ],
             [
              1,
              "#f0f921"
             ]
            ],
            "type": "contour"
           }
          ],
          "contourcarpet": [
           {
            "colorbar": {
             "outlinewidth": 0,
             "ticks": ""
            },
            "type": "contourcarpet"
           }
          ],
          "heatmap": [
           {
            "colorbar": {
             "outlinewidth": 0,
             "ticks": ""
            },
            "colorscale": [
             [
              0,
              "#0d0887"
             ],
             [
              0.1111111111111111,
              "#46039f"
             ],
             [
              0.2222222222222222,
              "#7201a8"
             ],
             [
              0.3333333333333333,
              "#9c179e"
             ],
             [
              0.4444444444444444,
              "#bd3786"
             ],
             [
              0.5555555555555556,
              "#d8576b"
             ],
             [
              0.6666666666666666,
              "#ed7953"
             ],
             [
              0.7777777777777778,
              "#fb9f3a"
             ],
             [
              0.8888888888888888,
              "#fdca26"
             ],
             [
              1,
              "#f0f921"
             ]
            ],
            "type": "heatmap"
           }
          ],
          "heatmapgl": [
           {
            "colorbar": {
             "outlinewidth": 0,
             "ticks": ""
            },
            "colorscale": [
             [
              0,
              "#0d0887"
             ],
             [
              0.1111111111111111,
              "#46039f"
             ],
             [
              0.2222222222222222,
              "#7201a8"
             ],
             [
              0.3333333333333333,
              "#9c179e"
             ],
             [
              0.4444444444444444,
              "#bd3786"
             ],
             [
              0.5555555555555556,
              "#d8576b"
             ],
             [
              0.6666666666666666,
              "#ed7953"
             ],
             [
              0.7777777777777778,
              "#fb9f3a"
             ],
             [
              0.8888888888888888,
              "#fdca26"
             ],
             [
              1,
              "#f0f921"
             ]
            ],
            "type": "heatmapgl"
           }
          ],
          "histogram": [
           {
            "marker": {
             "pattern": {
              "fillmode": "overlay",
              "size": 10,
              "solidity": 0.2
             }
            },
            "type": "histogram"
           }
          ],
          "histogram2d": [
           {
            "colorbar": {
             "outlinewidth": 0,
             "ticks": ""
            },
            "colorscale": [
             [
              0,
              "#0d0887"
             ],
             [
              0.1111111111111111,
              "#46039f"
             ],
             [
              0.2222222222222222,
              "#7201a8"
             ],
             [
              0.3333333333333333,
              "#9c179e"
             ],
             [
              0.4444444444444444,
              "#bd3786"
             ],
             [
              0.5555555555555556,
              "#d8576b"
             ],
             [
              0.6666666666666666,
              "#ed7953"
             ],
             [
              0.7777777777777778,
              "#fb9f3a"
             ],
             [
              0.8888888888888888,
              "#fdca26"
             ],
             [
              1,
              "#f0f921"
             ]
            ],
            "type": "histogram2d"
           }
          ],
          "histogram2dcontour": [
           {
            "colorbar": {
             "outlinewidth": 0,
             "ticks": ""
            },
            "colorscale": [
             [
              0,
              "#0d0887"
             ],
             [
              0.1111111111111111,
              "#46039f"
             ],
             [
              0.2222222222222222,
              "#7201a8"
             ],
             [
              0.3333333333333333,
              "#9c179e"
             ],
             [
              0.4444444444444444,
              "#bd3786"
             ],
             [
              0.5555555555555556,
              "#d8576b"
             ],
             [
              0.6666666666666666,
              "#ed7953"
             ],
             [
              0.7777777777777778,
              "#fb9f3a"
             ],
             [
              0.8888888888888888,
              "#fdca26"
             ],
             [
              1,
              "#f0f921"
             ]
            ],
            "type": "histogram2dcontour"
           }
          ],
          "mesh3d": [
           {
            "colorbar": {
             "outlinewidth": 0,
             "ticks": ""
            },
            "type": "mesh3d"
           }
          ],
          "parcoords": [
           {
            "line": {
             "colorbar": {
              "outlinewidth": 0,
              "ticks": ""
             }
            },
            "type": "parcoords"
           }
          ],
          "pie": [
           {
            "automargin": true,
            "type": "pie"
           }
          ],
          "scatter": [
           {
            "fillpattern": {
             "fillmode": "overlay",
             "size": 10,
             "solidity": 0.2
            },
            "type": "scatter"
           }
          ],
          "scatter3d": [
           {
            "line": {
             "colorbar": {
              "outlinewidth": 0,
              "ticks": ""
             }
            },
            "marker": {
             "colorbar": {
              "outlinewidth": 0,
              "ticks": ""
             }
            },
            "type": "scatter3d"
           }
          ],
          "scattercarpet": [
           {
            "marker": {
             "colorbar": {
              "outlinewidth": 0,
              "ticks": ""
             }
            },
            "type": "scattercarpet"
           }
          ],
          "scattergeo": [
           {
            "marker": {
             "colorbar": {
              "outlinewidth": 0,
              "ticks": ""
             }
            },
            "type": "scattergeo"
           }
          ],
          "scattergl": [
           {
            "marker": {
             "colorbar": {
              "outlinewidth": 0,
              "ticks": ""
             }
            },
            "type": "scattergl"
           }
          ],
          "scattermapbox": [
           {
            "marker": {
             "colorbar": {
              "outlinewidth": 0,
              "ticks": ""
             }
            },
            "type": "scattermapbox"
           }
          ],
          "scatterpolar": [
           {
            "marker": {
             "colorbar": {
              "outlinewidth": 0,
              "ticks": ""
             }
            },
            "type": "scatterpolar"
           }
          ],
          "scatterpolargl": [
           {
            "marker": {
             "colorbar": {
              "outlinewidth": 0,
              "ticks": ""
             }
            },
            "type": "scatterpolargl"
           }
          ],
          "scatterternary": [
           {
            "marker": {
             "colorbar": {
              "outlinewidth": 0,
              "ticks": ""
             }
            },
            "type": "scatterternary"
           }
          ],
          "surface": [
           {
            "colorbar": {
             "outlinewidth": 0,
             "ticks": ""
            },
            "colorscale": [
             [
              0,
              "#0d0887"
             ],
             [
              0.1111111111111111,
              "#46039f"
             ],
             [
              0.2222222222222222,
              "#7201a8"
             ],
             [
              0.3333333333333333,
              "#9c179e"
             ],
             [
              0.4444444444444444,
              "#bd3786"
             ],
             [
              0.5555555555555556,
              "#d8576b"
             ],
             [
              0.6666666666666666,
              "#ed7953"
             ],
             [
              0.7777777777777778,
              "#fb9f3a"
             ],
             [
              0.8888888888888888,
              "#fdca26"
             ],
             [
              1,
              "#f0f921"
             ]
            ],
            "type": "surface"
           }
          ],
          "table": [
           {
            "cells": {
             "fill": {
              "color": "#EBF0F8"
             },
             "line": {
              "color": "white"
             }
            },
            "header": {
             "fill": {
              "color": "#C8D4E3"
             },
             "line": {
              "color": "white"
             }
            },
            "type": "table"
           }
          ]
         },
         "layout": {
          "annotationdefaults": {
           "arrowcolor": "#2a3f5f",
           "arrowhead": 0,
           "arrowwidth": 1
          },
          "autotypenumbers": "strict",
          "coloraxis": {
           "colorbar": {
            "outlinewidth": 0,
            "ticks": ""
           }
          },
          "colorscale": {
           "diverging": [
            [
             0,
             "#8e0152"
            ],
            [
             0.1,
             "#c51b7d"
            ],
            [
             0.2,
             "#de77ae"
            ],
            [
             0.3,
             "#f1b6da"
            ],
            [
             0.4,
             "#fde0ef"
            ],
            [
             0.5,
             "#f7f7f7"
            ],
            [
             0.6,
             "#e6f5d0"
            ],
            [
             0.7,
             "#b8e186"
            ],
            [
             0.8,
             "#7fbc41"
            ],
            [
             0.9,
             "#4d9221"
            ],
            [
             1,
             "#276419"
            ]
           ],
           "sequential": [
            [
             0,
             "#0d0887"
            ],
            [
             0.1111111111111111,
             "#46039f"
            ],
            [
             0.2222222222222222,
             "#7201a8"
            ],
            [
             0.3333333333333333,
             "#9c179e"
            ],
            [
             0.4444444444444444,
             "#bd3786"
            ],
            [
             0.5555555555555556,
             "#d8576b"
            ],
            [
             0.6666666666666666,
             "#ed7953"
            ],
            [
             0.7777777777777778,
             "#fb9f3a"
            ],
            [
             0.8888888888888888,
             "#fdca26"
            ],
            [
             1,
             "#f0f921"
            ]
           ],
           "sequentialminus": [
            [
             0,
             "#0d0887"
            ],
            [
             0.1111111111111111,
             "#46039f"
            ],
            [
             0.2222222222222222,
             "#7201a8"
            ],
            [
             0.3333333333333333,
             "#9c179e"
            ],
            [
             0.4444444444444444,
             "#bd3786"
            ],
            [
             0.5555555555555556,
             "#d8576b"
            ],
            [
             0.6666666666666666,
             "#ed7953"
            ],
            [
             0.7777777777777778,
             "#fb9f3a"
            ],
            [
             0.8888888888888888,
             "#fdca26"
            ],
            [
             1,
             "#f0f921"
            ]
           ]
          },
          "colorway": [
           "#636efa",
           "#EF553B",
           "#00cc96",
           "#ab63fa",
           "#FFA15A",
           "#19d3f3",
           "#FF6692",
           "#B6E880",
           "#FF97FF",
           "#FECB52"
          ],
          "font": {
           "color": "#2a3f5f"
          },
          "geo": {
           "bgcolor": "white",
           "lakecolor": "white",
           "landcolor": "#E5ECF6",
           "showlakes": true,
           "showland": true,
           "subunitcolor": "white"
          },
          "hoverlabel": {
           "align": "left"
          },
          "hovermode": "closest",
          "mapbox": {
           "style": "light"
          },
          "paper_bgcolor": "white",
          "plot_bgcolor": "#E5ECF6",
          "polar": {
           "angularaxis": {
            "gridcolor": "white",
            "linecolor": "white",
            "ticks": ""
           },
           "bgcolor": "#E5ECF6",
           "radialaxis": {
            "gridcolor": "white",
            "linecolor": "white",
            "ticks": ""
           }
          },
          "scene": {
           "xaxis": {
            "backgroundcolor": "#E5ECF6",
            "gridcolor": "white",
            "gridwidth": 2,
            "linecolor": "white",
            "showbackground": true,
            "ticks": "",
            "zerolinecolor": "white"
           },
           "yaxis": {
            "backgroundcolor": "#E5ECF6",
            "gridcolor": "white",
            "gridwidth": 2,
            "linecolor": "white",
            "showbackground": true,
            "ticks": "",
            "zerolinecolor": "white"
           },
           "zaxis": {
            "backgroundcolor": "#E5ECF6",
            "gridcolor": "white",
            "gridwidth": 2,
            "linecolor": "white",
            "showbackground": true,
            "ticks": "",
            "zerolinecolor": "white"
           }
          },
          "shapedefaults": {
           "line": {
            "color": "#2a3f5f"
           }
          },
          "ternary": {
           "aaxis": {
            "gridcolor": "white",
            "linecolor": "white",
            "ticks": ""
           },
           "baxis": {
            "gridcolor": "white",
            "linecolor": "white",
            "ticks": ""
           },
           "bgcolor": "#E5ECF6",
           "caxis": {
            "gridcolor": "white",
            "linecolor": "white",
            "ticks": ""
           }
          },
          "title": {
           "x": 0.05
          },
          "xaxis": {
           "automargin": true,
           "gridcolor": "white",
           "linecolor": "white",
           "ticks": "",
           "title": {
            "standoff": 15
           },
           "zerolinecolor": "white",
           "zerolinewidth": 2
          },
          "yaxis": {
           "automargin": true,
           "gridcolor": "white",
           "linecolor": "white",
           "ticks": "",
           "title": {
            "standoff": 15
           },
           "zerolinecolor": "white",
           "zerolinewidth": 2
          }
         }
        },
        "title": {
         "text": "Slice Plot"
        },
        "width": 2100,
        "xaxis": {
         "anchor": "y",
         "categoryarray": [
          true,
          false
         ],
         "categoryorder": "array",
         "domain": [
          0,
          0.1183673469387755
         ],
         "title": {
          "text": "despike"
         },
         "type": "category"
        },
        "xaxis2": {
         "anchor": "y2",
         "domain": [
          0.14693877551020407,
          0.26530612244897955
         ],
         "title": {
          "text": "despike_ma"
         }
        },
        "xaxis3": {
         "anchor": "y3",
         "categoryarray": [
          100,
          1000,
          10000,
          100000,
          1000000,
          10000000,
          100000000,
          1000000000
         ],
         "categoryorder": "array",
         "domain": [
          0.29387755102040813,
          0.4122448979591836
         ],
         "title": {
          "text": "lam"
         },
         "type": "category"
        },
        "xaxis4": {
         "anchor": "y4",
         "domain": [
          0.4408163265306122,
          0.5591836734693877
         ],
         "title": {
          "text": "p"
         }
        },
        "xaxis5": {
         "anchor": "y5",
         "categoryarray": [
          1,
          2,
          3,
          4
         ],
         "categoryorder": "array",
         "domain": [
          0.5877551020408163,
          0.7061224489795918
         ],
         "title": {
          "text": "poly_order"
         },
         "type": "category"
        },
        "xaxis6": {
         "anchor": "y6",
         "categoryarray": [
          false,
          "normal",
          "vector",
          "svn"
         ],
         "categoryorder": "array",
         "domain": [
          0.7346938775510204,
          0.8530612244897959
         ],
         "title": {
          "text": "scaling"
         },
         "type": "category"
        },
        "xaxis7": {
         "anchor": "y7",
         "domain": [
          0.8816326530612244,
          0.9999999999999999
         ],
         "title": {
          "text": "window_size"
         }
        },
        "yaxis": {
         "anchor": "x",
         "domain": [
          0,
          1
         ],
         "title": {
          "text": "Objective Value"
         }
        },
        "yaxis2": {
         "anchor": "x2",
         "domain": [
          0,
          1
         ],
         "matches": "y",
         "showticklabels": false
        },
        "yaxis3": {
         "anchor": "x3",
         "domain": [
          0,
          1
         ],
         "matches": "y",
         "showticklabels": false
        },
        "yaxis4": {
         "anchor": "x4",
         "domain": [
          0,
          1
         ],
         "matches": "y",
         "showticklabels": false
        },
        "yaxis5": {
         "anchor": "x5",
         "domain": [
          0,
          1
         ],
         "matches": "y",
         "showticklabels": false
        },
        "yaxis6": {
         "anchor": "x6",
         "domain": [
          0,
          1
         ],
         "matches": "y",
         "showticklabels": false
        },
        "yaxis7": {
         "anchor": "x7",
         "domain": [
          0,
          1
         ],
         "matches": "y",
         "showticklabels": false
        }
       }
      }
     },
     "metadata": {},
     "output_type": "display_data"
    }
   ],
   "source": [
    "plot_slice(study)"
   ]
  },
  {
   "cell_type": "code",
   "execution_count": null,
   "metadata": {},
   "outputs": [],
   "source": [
    "optuna.visualization.plot_contour(study)"
   ]
  },
  {
   "cell_type": "code",
   "execution_count": null,
   "metadata": {},
   "outputs": [],
   "source": [
    "optuna.visualization.plot_param_importances(study)"
   ]
  }
 ],
 "metadata": {
  "kernelspec": {
   "display_name": "Python 3",
   "language": "python",
   "name": "python3"
  },
  "language_info": {
   "codemirror_mode": {
    "name": "ipython",
    "version": 3
   },
   "file_extension": ".py",
   "mimetype": "text/x-python",
   "name": "python",
   "nbconvert_exporter": "python",
   "pygments_lexer": "ipython3",
   "version": "3.11.1"
  }
 },
 "nbformat": 4,
 "nbformat_minor": 2
}
