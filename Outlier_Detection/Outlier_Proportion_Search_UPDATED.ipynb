{
 "cells": [
  {
   "cell_type": "markdown",
   "metadata": {},
   "source": [
    "# Outlier Removal\n",
    "\n",
    "This notebook will investigate if dropping spectra where a certain proportion of the absorbance values in a spectra are considered outliers, leads to increased model performance."
   ]
  },
  {
   "cell_type": "markdown",
   "metadata": {},
   "source": [
    "Import relevant libraries"
   ]
  },
  {
   "cell_type": "code",
   "execution_count": 54,
   "metadata": {},
   "outputs": [],
   "source": [
    "import pandas as pd\n",
    "import numpy as np\n",
    "from sklearn.ensemble import ExtraTreesClassifier\n",
    "from sklearn.model_selection import cross_validate, GroupKFold\n",
    "from sklearn.metrics import accuracy_score\n",
    "import sys\n",
    "sys.path.append('..')  # Adds the parent directory to the path so Python can find the `Cleaning_and_Evaluation` package\n",
    "from Cleaning_and_Evaluation import *"
   ]
  },
  {
   "cell_type": "markdown",
   "metadata": {},
   "source": [
    "Import and clean raw spectra data"
   ]
  },
  {
   "cell_type": "code",
   "execution_count": 55,
   "metadata": {},
   "outputs": [],
   "source": [
    "spectra_df = pd.read_csv(\"../data/exosomes.raw_spectrum_400-1800.csv\")\n",
    "df = spectra_df"
   ]
  },
  {
   "cell_type": "code",
   "execution_count": 56,
   "metadata": {},
   "outputs": [],
   "source": [
    "cleaning_params = {\n",
    "    'despike': True,\n",
    "    'baseline_correct': True,\n",
    "    'smoothing': True,\n",
    "    'scaling': False,\n",
    "    'despike_ma': 20,\n",
    "    'despike_threshold': 7,\n",
    "    'lam': 10**8,\n",
    "    'p': 0.01,\n",
    "    'window_size': 51,\n",
    "    'poly_order': 3\n",
    "}\n",
    "spectra_cleaning(df, **cleaning_params)"
   ]
  },
  {
   "cell_type": "code",
   "execution_count": 57,
   "metadata": {},
   "outputs": [
    {
     "data": {
      "text/html": [
       "<div>\n",
       "<style scoped>\n",
       "    .dataframe tbody tr th:only-of-type {\n",
       "        vertical-align: middle;\n",
       "    }\n",
       "\n",
       "    .dataframe tbody tr th {\n",
       "        vertical-align: top;\n",
       "    }\n",
       "\n",
       "    .dataframe thead th {\n",
       "        text-align: right;\n",
       "    }\n",
       "</style>\n",
       "<table border=\"1\" class=\"dataframe\">\n",
       "  <thead>\n",
       "    <tr style=\"text-align: right;\">\n",
       "      <th></th>\n",
       "      <th>index</th>\n",
       "      <th>SpecID</th>\n",
       "      <th>Seq</th>\n",
       "      <th>WaveNumber</th>\n",
       "      <th>Absorbance</th>\n",
       "      <th>SurID</th>\n",
       "      <th>Status</th>\n",
       "    </tr>\n",
       "  </thead>\n",
       "  <tbody>\n",
       "    <tr>\n",
       "      <th>0</th>\n",
       "      <td>293</td>\n",
       "      <td>201210-1-00</td>\n",
       "      <td>293</td>\n",
       "      <td>400.22778</td>\n",
       "      <td>41.863303</td>\n",
       "      <td>201210-1</td>\n",
       "      <td>Normal</td>\n",
       "    </tr>\n",
       "    <tr>\n",
       "      <th>1</th>\n",
       "      <td>294</td>\n",
       "      <td>201210-1-00</td>\n",
       "      <td>294</td>\n",
       "      <td>400.91116</td>\n",
       "      <td>41.803843</td>\n",
       "      <td>201210-1</td>\n",
       "      <td>Normal</td>\n",
       "    </tr>\n",
       "    <tr>\n",
       "      <th>2</th>\n",
       "      <td>295</td>\n",
       "      <td>201210-1-00</td>\n",
       "      <td>295</td>\n",
       "      <td>401.59454</td>\n",
       "      <td>41.741884</td>\n",
       "      <td>201210-1</td>\n",
       "      <td>Normal</td>\n",
       "    </tr>\n",
       "    <tr>\n",
       "      <th>3</th>\n",
       "      <td>296</td>\n",
       "      <td>201210-1-00</td>\n",
       "      <td>296</td>\n",
       "      <td>402.27789</td>\n",
       "      <td>41.677722</td>\n",
       "      <td>201210-1</td>\n",
       "      <td>Normal</td>\n",
       "    </tr>\n",
       "    <tr>\n",
       "      <th>4</th>\n",
       "      <td>297</td>\n",
       "      <td>201210-1-00</td>\n",
       "      <td>297</td>\n",
       "      <td>402.96127</td>\n",
       "      <td>41.611654</td>\n",
       "      <td>201210-1</td>\n",
       "      <td>Normal</td>\n",
       "    </tr>\n",
       "  </tbody>\n",
       "</table>\n",
       "</div>"
      ],
      "text/plain": [
       "   index       SpecID  Seq  WaveNumber  Absorbance     SurID  Status\n",
       "0    293  201210-1-00  293   400.22778   41.863303  201210-1  Normal\n",
       "1    294  201210-1-00  294   400.91116   41.803843  201210-1  Normal\n",
       "2    295  201210-1-00  295   401.59454   41.741884  201210-1  Normal\n",
       "3    296  201210-1-00  296   402.27789   41.677722  201210-1  Normal\n",
       "4    297  201210-1-00  297   402.96127   41.611654  201210-1  Normal"
      ]
     },
     "execution_count": 57,
     "metadata": {},
     "output_type": "execute_result"
    }
   ],
   "source": [
    "df.head()"
   ]
  },
  {
   "cell_type": "markdown",
   "metadata": {},
   "source": [
    "Here we show the performance using the entire spectra without dropping outliers. This serves as a baseline to compare to."
   ]
  },
  {
   "cell_type": "code",
   "execution_count": 58,
   "metadata": {},
   "outputs": [
    {
     "name": "stderr",
     "output_type": "stream",
     "text": [
      "/home/stang/.local/lib/python3.10/site-packages/sklearn/metrics/_classification.py:1509: UndefinedMetricWarning: Recall is ill-defined and being set to 0.0 in labels with no true samples. Use `zero_division` parameter to control this behavior.\n",
      "  _warn_prf(average, modifier, f\"{metric.capitalize()} is\", len(result))\n"
     ]
    },
    {
     "name": "stdout",
     "output_type": "stream",
     "text": [
      "ExtraTreesClassifier Cross-Validation Accuracy: 0.6119 +/- 0.1114\n",
      "ExtraTreesClassifier Cross-Validation Precision: 0.6103 +/- 0.1103\n",
      "ExtraTreesClassifier Cross-Validation Recall: 0.6215 +/- 0.1349\n",
      "ExtraTreesClassifier Cross-Validation F1-Score: 0.5949 +/- 0.1254\n"
     ]
    }
   ],
   "source": [
    "wavelength_df = prepare_wavelength_df(df, \"Absorbance\")\n",
    "\n",
    "et = ExtraTreesClassifier(random_state=1234)\n",
    "evaluate_model(wavelength_df, et)"
   ]
  },
  {
   "cell_type": "markdown",
   "metadata": {},
   "source": [
    "Function to apply quartiles calculation for each SurID group, then by WaveNumber\n"
   ]
  },
  {
   "cell_type": "code",
   "execution_count": 60,
   "metadata": {},
   "outputs": [],
   "source": [
    "# Correctly define the function to apply multiple aggregations\n",
    "\n",
    "def get_surface_wavenumber_quartiles(df):\n",
    "\n",
    "    # Apply aggregation directly within groupby\n",
    "    grouped = df.groupby(['SurID', 'WaveNumber']).agg(\n",
    "        Lower_Quartile=('Absorbance', lambda x: x.quantile(0.25)),\n",
    "        Median=('Absorbance', 'median'),\n",
    "        Upper_Quartile=('Absorbance', lambda x: x.quantile(0.75))\n",
    "    ).reset_index()\n",
    "    return grouped\n",
    "\n",
    "# Apply the function to your DataFrame\n",
    "quartile_data = get_surface_wavenumber_quartiles(df)\n",
    "\n",
    "# Calculate the IQR\n",
    "quartile_data['IQR'] = quartile_data['Upper_Quartile'] - quartile_data['Lower_Quartile']"
   ]
  },
  {
   "cell_type": "code",
   "execution_count": 61,
   "metadata": {},
   "outputs": [
    {
     "data": {
      "text/html": [
       "<div>\n",
       "<style scoped>\n",
       "    .dataframe tbody tr th:only-of-type {\n",
       "        vertical-align: middle;\n",
       "    }\n",
       "\n",
       "    .dataframe tbody tr th {\n",
       "        vertical-align: top;\n",
       "    }\n",
       "\n",
       "    .dataframe thead th {\n",
       "        text-align: right;\n",
       "    }\n",
       "</style>\n",
       "<table border=\"1\" class=\"dataframe\">\n",
       "  <thead>\n",
       "    <tr style=\"text-align: right;\">\n",
       "      <th></th>\n",
       "      <th>SurID</th>\n",
       "      <th>WaveNumber</th>\n",
       "      <th>Lower_Quartile</th>\n",
       "      <th>Median</th>\n",
       "      <th>Upper_Quartile</th>\n",
       "      <th>IQR</th>\n",
       "    </tr>\n",
       "  </thead>\n",
       "  <tbody>\n",
       "    <tr>\n",
       "      <th>0</th>\n",
       "      <td>201210-1</td>\n",
       "      <td>400.22778</td>\n",
       "      <td>-4.960245</td>\n",
       "      <td>5.810807</td>\n",
       "      <td>22.825529</td>\n",
       "      <td>27.785774</td>\n",
       "    </tr>\n",
       "    <tr>\n",
       "      <th>1</th>\n",
       "      <td>201210-1</td>\n",
       "      <td>400.91116</td>\n",
       "      <td>-4.334017</td>\n",
       "      <td>4.900007</td>\n",
       "      <td>21.091229</td>\n",
       "      <td>25.425247</td>\n",
       "    </tr>\n",
       "    <tr>\n",
       "      <th>2</th>\n",
       "      <td>201210-1</td>\n",
       "      <td>401.59454</td>\n",
       "      <td>-4.300642</td>\n",
       "      <td>4.760513</td>\n",
       "      <td>20.074852</td>\n",
       "      <td>24.375494</td>\n",
       "    </tr>\n",
       "    <tr>\n",
       "      <th>3</th>\n",
       "      <td>201210-1</td>\n",
       "      <td>402.27789</td>\n",
       "      <td>-3.981677</td>\n",
       "      <td>3.272608</td>\n",
       "      <td>19.067517</td>\n",
       "      <td>23.049194</td>\n",
       "    </tr>\n",
       "    <tr>\n",
       "      <th>4</th>\n",
       "      <td>201210-1</td>\n",
       "      <td>402.96127</td>\n",
       "      <td>-3.755034</td>\n",
       "      <td>2.603336</td>\n",
       "      <td>18.284681</td>\n",
       "      <td>22.039715</td>\n",
       "    </tr>\n",
       "  </tbody>\n",
       "</table>\n",
       "</div>"
      ],
      "text/plain": [
       "      SurID  WaveNumber  Lower_Quartile    Median  Upper_Quartile        IQR\n",
       "0  201210-1   400.22778       -4.960245  5.810807       22.825529  27.785774\n",
       "1  201210-1   400.91116       -4.334017  4.900007       21.091229  25.425247\n",
       "2  201210-1   401.59454       -4.300642  4.760513       20.074852  24.375494\n",
       "3  201210-1   402.27789       -3.981677  3.272608       19.067517  23.049194\n",
       "4  201210-1   402.96127       -3.755034  2.603336       18.284681  22.039715"
      ]
     },
     "execution_count": 61,
     "metadata": {},
     "output_type": "execute_result"
    }
   ],
   "source": [
    "quartile_data.head()"
   ]
  },
  {
   "cell_type": "markdown",
   "metadata": {},
   "source": [
    "Now we shall remove outliers spectra that have an absorbance outside 1.5 times the IQR at each WaveNumber in their group."
   ]
  },
  {
   "cell_type": "code",
   "execution_count": 62,
   "metadata": {},
   "outputs": [
    {
     "data": {
      "text/html": [
       "<div>\n",
       "<style scoped>\n",
       "    .dataframe tbody tr th:only-of-type {\n",
       "        vertical-align: middle;\n",
       "    }\n",
       "\n",
       "    .dataframe tbody tr th {\n",
       "        vertical-align: top;\n",
       "    }\n",
       "\n",
       "    .dataframe thead th {\n",
       "        text-align: right;\n",
       "    }\n",
       "</style>\n",
       "<table border=\"1\" class=\"dataframe\">\n",
       "  <thead>\n",
       "    <tr style=\"text-align: right;\">\n",
       "      <th></th>\n",
       "      <th>index</th>\n",
       "      <th>SpecID</th>\n",
       "      <th>Seq</th>\n",
       "      <th>WaveNumber</th>\n",
       "      <th>Absorbance</th>\n",
       "      <th>SurID</th>\n",
       "      <th>Status</th>\n",
       "      <th>Lower_Quartile</th>\n",
       "      <th>Median</th>\n",
       "      <th>Upper_Quartile</th>\n",
       "      <th>IQR</th>\n",
       "    </tr>\n",
       "  </thead>\n",
       "  <tbody>\n",
       "    <tr>\n",
       "      <th>0</th>\n",
       "      <td>293</td>\n",
       "      <td>201210-1-00</td>\n",
       "      <td>293</td>\n",
       "      <td>400.22778</td>\n",
       "      <td>41.863303</td>\n",
       "      <td>201210-1</td>\n",
       "      <td>Normal</td>\n",
       "      <td>-4.960245</td>\n",
       "      <td>5.810807</td>\n",
       "      <td>22.825529</td>\n",
       "      <td>27.785774</td>\n",
       "    </tr>\n",
       "    <tr>\n",
       "      <th>1</th>\n",
       "      <td>2928</td>\n",
       "      <td>201210-1-01</td>\n",
       "      <td>293</td>\n",
       "      <td>400.22778</td>\n",
       "      <td>46.314608</td>\n",
       "      <td>201210-1</td>\n",
       "      <td>Normal</td>\n",
       "      <td>-4.960245</td>\n",
       "      <td>5.810807</td>\n",
       "      <td>22.825529</td>\n",
       "      <td>27.785774</td>\n",
       "    </tr>\n",
       "    <tr>\n",
       "      <th>2</th>\n",
       "      <td>5563</td>\n",
       "      <td>201210-1-02</td>\n",
       "      <td>293</td>\n",
       "      <td>400.22778</td>\n",
       "      <td>118.159018</td>\n",
       "      <td>201210-1</td>\n",
       "      <td>Normal</td>\n",
       "      <td>-4.960245</td>\n",
       "      <td>5.810807</td>\n",
       "      <td>22.825529</td>\n",
       "      <td>27.785774</td>\n",
       "    </tr>\n",
       "    <tr>\n",
       "      <th>3</th>\n",
       "      <td>8198</td>\n",
       "      <td>201210-1-03</td>\n",
       "      <td>293</td>\n",
       "      <td>400.22778</td>\n",
       "      <td>175.466997</td>\n",
       "      <td>201210-1</td>\n",
       "      <td>Normal</td>\n",
       "      <td>-4.960245</td>\n",
       "      <td>5.810807</td>\n",
       "      <td>22.825529</td>\n",
       "      <td>27.785774</td>\n",
       "    </tr>\n",
       "    <tr>\n",
       "      <th>4</th>\n",
       "      <td>10833</td>\n",
       "      <td>201210-1-04</td>\n",
       "      <td>293</td>\n",
       "      <td>400.22778</td>\n",
       "      <td>111.814973</td>\n",
       "      <td>201210-1</td>\n",
       "      <td>Normal</td>\n",
       "      <td>-4.960245</td>\n",
       "      <td>5.810807</td>\n",
       "      <td>22.825529</td>\n",
       "      <td>27.785774</td>\n",
       "    </tr>\n",
       "  </tbody>\n",
       "</table>\n",
       "</div>"
      ],
      "text/plain": [
       "   index       SpecID  Seq  WaveNumber  Absorbance     SurID  Status  \\\n",
       "0    293  201210-1-00  293   400.22778   41.863303  201210-1  Normal   \n",
       "1   2928  201210-1-01  293   400.22778   46.314608  201210-1  Normal   \n",
       "2   5563  201210-1-02  293   400.22778  118.159018  201210-1  Normal   \n",
       "3   8198  201210-1-03  293   400.22778  175.466997  201210-1  Normal   \n",
       "4  10833  201210-1-04  293   400.22778  111.814973  201210-1  Normal   \n",
       "\n",
       "   Lower_Quartile    Median  Upper_Quartile        IQR  \n",
       "0       -4.960245  5.810807       22.825529  27.785774  \n",
       "1       -4.960245  5.810807       22.825529  27.785774  \n",
       "2       -4.960245  5.810807       22.825529  27.785774  \n",
       "3       -4.960245  5.810807       22.825529  27.785774  \n",
       "4       -4.960245  5.810807       22.825529  27.785774  "
      ]
     },
     "execution_count": 62,
     "metadata": {},
     "output_type": "execute_result"
    }
   ],
   "source": [
    "merged_df = df.merge(quartile_data, on=['SurID', 'WaveNumber'])\n",
    "merged_df.head()"
   ]
  },
  {
   "cell_type": "code",
   "execution_count": 63,
   "metadata": {},
   "outputs": [
    {
     "data": {
      "text/html": [
       "<div>\n",
       "<style scoped>\n",
       "    .dataframe tbody tr th:only-of-type {\n",
       "        vertical-align: middle;\n",
       "    }\n",
       "\n",
       "    .dataframe tbody tr th {\n",
       "        vertical-align: top;\n",
       "    }\n",
       "\n",
       "    .dataframe thead th {\n",
       "        text-align: right;\n",
       "    }\n",
       "</style>\n",
       "<table border=\"1\" class=\"dataframe\">\n",
       "  <thead>\n",
       "    <tr style=\"text-align: right;\">\n",
       "      <th></th>\n",
       "      <th>index</th>\n",
       "      <th>SpecID</th>\n",
       "      <th>Seq</th>\n",
       "      <th>WaveNumber</th>\n",
       "      <th>Absorbance</th>\n",
       "      <th>SurID</th>\n",
       "      <th>Status</th>\n",
       "      <th>Lower_Quartile</th>\n",
       "      <th>Median</th>\n",
       "      <th>Upper_Quartile</th>\n",
       "      <th>IQR</th>\n",
       "    </tr>\n",
       "  </thead>\n",
       "  <tbody>\n",
       "    <tr>\n",
       "      <th>2</th>\n",
       "      <td>5563</td>\n",
       "      <td>201210-1-02</td>\n",
       "      <td>293</td>\n",
       "      <td>400.22778</td>\n",
       "      <td>118.159018</td>\n",
       "      <td>201210-1</td>\n",
       "      <td>Normal</td>\n",
       "      <td>-4.960245</td>\n",
       "      <td>5.810807</td>\n",
       "      <td>22.825529</td>\n",
       "      <td>27.785774</td>\n",
       "    </tr>\n",
       "    <tr>\n",
       "      <th>3</th>\n",
       "      <td>8198</td>\n",
       "      <td>201210-1-03</td>\n",
       "      <td>293</td>\n",
       "      <td>400.22778</td>\n",
       "      <td>175.466997</td>\n",
       "      <td>201210-1</td>\n",
       "      <td>Normal</td>\n",
       "      <td>-4.960245</td>\n",
       "      <td>5.810807</td>\n",
       "      <td>22.825529</td>\n",
       "      <td>27.785774</td>\n",
       "    </tr>\n",
       "    <tr>\n",
       "      <th>4</th>\n",
       "      <td>10833</td>\n",
       "      <td>201210-1-04</td>\n",
       "      <td>293</td>\n",
       "      <td>400.22778</td>\n",
       "      <td>111.814973</td>\n",
       "      <td>201210-1</td>\n",
       "      <td>Normal</td>\n",
       "      <td>-4.960245</td>\n",
       "      <td>5.810807</td>\n",
       "      <td>22.825529</td>\n",
       "      <td>27.785774</td>\n",
       "    </tr>\n",
       "    <tr>\n",
       "      <th>5</th>\n",
       "      <td>13468</td>\n",
       "      <td>201210-1-05</td>\n",
       "      <td>293</td>\n",
       "      <td>400.22778</td>\n",
       "      <td>143.834972</td>\n",
       "      <td>201210-1</td>\n",
       "      <td>Normal</td>\n",
       "      <td>-4.960245</td>\n",
       "      <td>5.810807</td>\n",
       "      <td>22.825529</td>\n",
       "      <td>27.785774</td>\n",
       "    </tr>\n",
       "    <tr>\n",
       "      <th>6</th>\n",
       "      <td>16103</td>\n",
       "      <td>201210-1-06</td>\n",
       "      <td>293</td>\n",
       "      <td>400.22778</td>\n",
       "      <td>96.603892</td>\n",
       "      <td>201210-1</td>\n",
       "      <td>Normal</td>\n",
       "      <td>-4.960245</td>\n",
       "      <td>5.810807</td>\n",
       "      <td>22.825529</td>\n",
       "      <td>27.785774</td>\n",
       "    </tr>\n",
       "  </tbody>\n",
       "</table>\n",
       "</div>"
      ],
      "text/plain": [
       "   index       SpecID  Seq  WaveNumber  Absorbance     SurID  Status  \\\n",
       "2   5563  201210-1-02  293   400.22778  118.159018  201210-1  Normal   \n",
       "3   8198  201210-1-03  293   400.22778  175.466997  201210-1  Normal   \n",
       "4  10833  201210-1-04  293   400.22778  111.814973  201210-1  Normal   \n",
       "5  13468  201210-1-05  293   400.22778  143.834972  201210-1  Normal   \n",
       "6  16103  201210-1-06  293   400.22778   96.603892  201210-1  Normal   \n",
       "\n",
       "   Lower_Quartile    Median  Upper_Quartile        IQR  \n",
       "2       -4.960245  5.810807       22.825529  27.785774  \n",
       "3       -4.960245  5.810807       22.825529  27.785774  \n",
       "4       -4.960245  5.810807       22.825529  27.785774  \n",
       "5       -4.960245  5.810807       22.825529  27.785774  \n",
       "6       -4.960245  5.810807       22.825529  27.785774  "
      ]
     },
     "execution_count": 63,
     "metadata": {},
     "output_type": "execute_result"
    }
   ],
   "source": [
    "# Filter rows where Absorbance is an outlier\n",
    "outliers = merged_df[\n",
    "    (merged_df['Absorbance'] < (merged_df['Lower_Quartile'] - 1.5 * merged_df['IQR'])) |\n",
    "    (merged_df['Absorbance'] > (merged_df['Upper_Quartile'] + 1.5 * merged_df['IQR']))\n",
    "]\n",
    "\n",
    "outliers.head()"
   ]
  },
  {
   "cell_type": "markdown",
   "metadata": {},
   "source": [
    "Calculate what proportion of a spectra is an outlier"
   ]
  },
  {
   "cell_type": "code",
   "execution_count": 65,
   "metadata": {},
   "outputs": [
    {
     "data": {
      "text/plain": [
       "SpecID\n",
       "210114-2-41    0.973646\n",
       "210114-2-33    0.956564\n",
       "210114-2-35    0.910688\n",
       "210114-2-34    0.899463\n",
       "210114-2-32    0.877501\n",
       "                 ...   \n",
       "210325-2-10    0.000488\n",
       "210325-1-38    0.000488\n",
       "210428-1-13    0.000488\n",
       "210415-2-11    0.000488\n",
       "210421-1-40    0.000488\n",
       "Name: count, Length: 2179, dtype: float64"
      ]
     },
     "execution_count": 65,
     "metadata": {},
     "output_type": "execute_result"
    }
   ],
   "source": [
    "spectra_length = df['WaveNumber'].nunique()  # This should be consistent for all spectra\n",
    "outlier_proportions = outliers['SpecID'].value_counts()/spectra_length\n",
    "outlier_proportions"
   ]
  },
  {
   "cell_type": "markdown",
   "metadata": {},
   "source": [
    "Set the proportion of outliers needed to drop this spectra."
   ]
  },
  {
   "cell_type": "code",
   "execution_count": 89,
   "metadata": {},
   "outputs": [
    {
     "name": "stdout",
     "output_type": "stream",
     "text": [
      "Outlier Spectra:\n",
      "Index(['210114-2-41', '210114-2-33', '210114-2-35', '210114-2-34',\n",
      "       '210114-2-32', '210325-1-33', '210519-2-37', '210114-1-25',\n",
      "       '210114-2-40', '210414-1-01',\n",
      "       ...\n",
      "       '210217-2-49', '210428-3-34', '210310-1-07', '210505-1-31',\n",
      "       '210114-1-44', '210318-2-35', '210217-2-38', '210311-1-12',\n",
      "       '210428-1-01', '210211-1-03'],\n",
      "      dtype='object', name='SpecID', length=561)\n",
      "Number of spectra dropped: 561\n"
     ]
    }
   ],
   "source": [
    "proportion_cutoff = 0.1\n",
    "outlier_SpecIDs = outlier_proportions[outlier_proportions > proportion_cutoff].index\n",
    "print(\"Outlier Spectra:\")\n",
    "print(outlier_SpecIDs)\n",
    "print(f\"Number of spectra dropped: {len(outlier_SpecIDs)}\")"
   ]
  },
  {
   "cell_type": "markdown",
   "metadata": {},
   "source": [
    "Drop the outler spectra from the dataset"
   ]
  },
  {
   "cell_type": "code",
   "execution_count": 90,
   "metadata": {},
   "outputs": [],
   "source": [
    "clean_df = spectra_df[~spectra_df['SpecID'].isin(outlier_SpecIDs)]"
   ]
  },
  {
   "cell_type": "code",
   "execution_count": 68,
   "metadata": {},
   "outputs": [],
   "source": [
    "# clean_df.to_csv(\"../../data/outlier_spectra_removed.csv\", index=False)"
   ]
  },
  {
   "cell_type": "markdown",
   "metadata": {},
   "source": [
    "#### **Check model performance when outliers are removed**"
   ]
  },
  {
   "cell_type": "code",
   "execution_count": 91,
   "metadata": {},
   "outputs": [],
   "source": [
    "wavelength_df = prepare_wavelength_df(clean_df, 'Absorbance')"
   ]
  },
  {
   "cell_type": "markdown",
   "metadata": {},
   "source": [
    "Before evaluating model, check that we haven't dropped any surfaces."
   ]
  },
  {
   "cell_type": "code",
   "execution_count": 92,
   "metadata": {},
   "outputs": [
    {
     "name": "stdout",
     "output_type": "stream",
     "text": [
      "Surfaces remaining: 63 out of 63\n"
     ]
    }
   ],
   "source": [
    "print(f\"Surfaces remaining: {wavelength_df['SurID'].nunique()} out of 63\")"
   ]
  },
  {
   "cell_type": "code",
   "execution_count": 93,
   "metadata": {},
   "outputs": [
    {
     "name": "stderr",
     "output_type": "stream",
     "text": [
      "/home/stang/.local/lib/python3.10/site-packages/sklearn/metrics/_classification.py:1509: UndefinedMetricWarning: Recall is ill-defined and being set to 0.0 in labels with no true samples. Use `zero_division` parameter to control this behavior.\n",
      "  _warn_prf(average, modifier, f\"{metric.capitalize()} is\", len(result))\n"
     ]
    },
    {
     "name": "stdout",
     "output_type": "stream",
     "text": [
      "ExtraTreesClassifier Cross-Validation Accuracy: 0.5771 +/- 0.1689\n",
      "ExtraTreesClassifier Cross-Validation Precision: 0.5471 +/- 0.1592\n",
      "ExtraTreesClassifier Cross-Validation Recall: 0.5533 +/- 0.1806\n",
      "ExtraTreesClassifier Cross-Validation F1-Score: 0.5177 +/- 0.1768\n"
     ]
    },
    {
     "name": "stderr",
     "output_type": "stream",
     "text": [
      "/home/stang/.local/lib/python3.10/site-packages/sklearn/metrics/_classification.py:1509: UndefinedMetricWarning: Recall is ill-defined and being set to 0.0 in labels with no true samples. Use `zero_division` parameter to control this behavior.\n",
      "  _warn_prf(average, modifier, f\"{metric.capitalize()} is\", len(result))\n"
     ]
    }
   ],
   "source": [
    "evaluate_model(wavelength_df, et)"
   ]
  },
  {
   "cell_type": "markdown",
   "metadata": {},
   "source": [
    "Check a range of outlier proportions"
   ]
  },
  {
   "cell_type": "code",
   "execution_count": 94,
   "metadata": {},
   "outputs": [
    {
     "name": "stdout",
     "output_type": "stream",
     "text": [
      "0.1\n"
     ]
    },
    {
     "name": "stderr",
     "output_type": "stream",
     "text": [
      "/home/stang/.local/lib/python3.10/site-packages/sklearn/metrics/_classification.py:1509: UndefinedMetricWarning: Recall is ill-defined and being set to 0.0 in labels with no true samples. Use `zero_division` parameter to control this behavior.\n",
      "  _warn_prf(average, modifier, f\"{metric.capitalize()} is\", len(result))\n",
      "/home/stang/.local/lib/python3.10/site-packages/sklearn/metrics/_classification.py:1509: UndefinedMetricWarning: Recall is ill-defined and being set to 0.0 in labels with no true samples. Use `zero_division` parameter to control this behavior.\n",
      "  _warn_prf(average, modifier, f\"{metric.capitalize()} is\", len(result))\n"
     ]
    },
    {
     "name": "stdout",
     "output_type": "stream",
     "text": [
      "ExtraTreesClassifier Cross-Validation Accuracy: 0.5771 +/- 0.1689\n",
      "ExtraTreesClassifier Cross-Validation Precision: 0.5471 +/- 0.1592\n",
      "ExtraTreesClassifier Cross-Validation Recall: 0.5533 +/- 0.1806\n",
      "ExtraTreesClassifier Cross-Validation F1-Score: 0.5177 +/- 0.1768\n",
      "0.15\n"
     ]
    },
    {
     "name": "stderr",
     "output_type": "stream",
     "text": [
      "/home/stang/.local/lib/python3.10/site-packages/sklearn/metrics/_classification.py:1509: UndefinedMetricWarning: Recall is ill-defined and being set to 0.0 in labels with no true samples. Use `zero_division` parameter to control this behavior.\n",
      "  _warn_prf(average, modifier, f\"{metric.capitalize()} is\", len(result))\n"
     ]
    },
    {
     "name": "stdout",
     "output_type": "stream",
     "text": [
      "ExtraTreesClassifier Cross-Validation Accuracy: 0.5969 +/- 0.1737\n",
      "ExtraTreesClassifier Cross-Validation Precision: 0.5820 +/- 0.1711\n",
      "ExtraTreesClassifier Cross-Validation Recall: 0.5930 +/- 0.1684\n",
      "ExtraTreesClassifier Cross-Validation F1-Score: 0.5708 +/- 0.1765\n",
      "0.2\n"
     ]
    },
    {
     "name": "stderr",
     "output_type": "stream",
     "text": [
      "/home/stang/.local/lib/python3.10/site-packages/sklearn/metrics/_classification.py:1509: UndefinedMetricWarning: Recall is ill-defined and being set to 0.0 in labels with no true samples. Use `zero_division` parameter to control this behavior.\n",
      "  _warn_prf(average, modifier, f\"{metric.capitalize()} is\", len(result))\n",
      "/home/stang/.local/lib/python3.10/site-packages/sklearn/metrics/_classification.py:1509: UndefinedMetricWarning: Recall is ill-defined and being set to 0.0 in labels with no true samples. Use `zero_division` parameter to control this behavior.\n",
      "  _warn_prf(average, modifier, f\"{metric.capitalize()} is\", len(result))\n",
      "/home/stang/.local/lib/python3.10/site-packages/sklearn/metrics/_classification.py:1509: UndefinedMetricWarning: Recall is ill-defined and being set to 0.0 in labels with no true samples. Use `zero_division` parameter to control this behavior.\n",
      "  _warn_prf(average, modifier, f\"{metric.capitalize()} is\", len(result))\n"
     ]
    },
    {
     "name": "stdout",
     "output_type": "stream",
     "text": [
      "ExtraTreesClassifier Cross-Validation Accuracy: 0.5847 +/- 0.1060\n",
      "ExtraTreesClassifier Cross-Validation Precision: 0.5816 +/- 0.1151\n",
      "ExtraTreesClassifier Cross-Validation Recall: 0.5581 +/- 0.1562\n",
      "ExtraTreesClassifier Cross-Validation F1-Score: 0.5438 +/- 0.1411\n",
      "0.25\n",
      "ExtraTreesClassifier Cross-Validation Accuracy: 0.6366 +/- 0.1277\n",
      "ExtraTreesClassifier Cross-Validation Precision: 0.6402 +/- 0.1141\n",
      "ExtraTreesClassifier Cross-Validation Recall: 0.6599 +/- 0.1393\n",
      "ExtraTreesClassifier Cross-Validation F1-Score: 0.6244 +/- 0.1266\n",
      "0.3\n"
     ]
    },
    {
     "name": "stderr",
     "output_type": "stream",
     "text": [
      "/home/stang/.local/lib/python3.10/site-packages/sklearn/metrics/_classification.py:1509: UndefinedMetricWarning: Recall is ill-defined and being set to 0.0 in labels with no true samples. Use `zero_division` parameter to control this behavior.\n",
      "  _warn_prf(average, modifier, f\"{metric.capitalize()} is\", len(result))\n",
      "/home/stang/.local/lib/python3.10/site-packages/sklearn/metrics/_classification.py:1509: UndefinedMetricWarning: Recall is ill-defined and being set to 0.0 in labels with no true samples. Use `zero_division` parameter to control this behavior.\n",
      "  _warn_prf(average, modifier, f\"{metric.capitalize()} is\", len(result))\n"
     ]
    },
    {
     "name": "stdout",
     "output_type": "stream",
     "text": [
      "ExtraTreesClassifier Cross-Validation Accuracy: 0.5707 +/- 0.1396\n",
      "ExtraTreesClassifier Cross-Validation Precision: 0.5168 +/- 0.1502\n",
      "ExtraTreesClassifier Cross-Validation Recall: 0.4891 +/- 0.1814\n",
      "ExtraTreesClassifier Cross-Validation F1-Score: 0.4823 +/- 0.1587\n",
      "0.35\n"
     ]
    },
    {
     "name": "stderr",
     "output_type": "stream",
     "text": [
      "/home/stang/.local/lib/python3.10/site-packages/sklearn/metrics/_classification.py:1509: UndefinedMetricWarning: Recall is ill-defined and being set to 0.0 in labels with no true samples. Use `zero_division` parameter to control this behavior.\n",
      "  _warn_prf(average, modifier, f\"{metric.capitalize()} is\", len(result))\n"
     ]
    },
    {
     "name": "stdout",
     "output_type": "stream",
     "text": [
      "ExtraTreesClassifier Cross-Validation Accuracy: 0.5778 +/- 0.1338\n",
      "ExtraTreesClassifier Cross-Validation Precision: 0.5741 +/- 0.1408\n",
      "ExtraTreesClassifier Cross-Validation Recall: 0.5849 +/- 0.1718\n",
      "ExtraTreesClassifier Cross-Validation F1-Score: 0.5397 +/- 0.1482\n",
      "0.4\n"
     ]
    },
    {
     "name": "stderr",
     "output_type": "stream",
     "text": [
      "/home/stang/.local/lib/python3.10/site-packages/sklearn/metrics/_classification.py:1509: UndefinedMetricWarning: Recall is ill-defined and being set to 0.0 in labels with no true samples. Use `zero_division` parameter to control this behavior.\n",
      "  _warn_prf(average, modifier, f\"{metric.capitalize()} is\", len(result))\n",
      "/home/stang/.local/lib/python3.10/site-packages/sklearn/metrics/_classification.py:1509: UndefinedMetricWarning: Recall is ill-defined and being set to 0.0 in labels with no true samples. Use `zero_division` parameter to control this behavior.\n",
      "  _warn_prf(average, modifier, f\"{metric.capitalize()} is\", len(result))\n",
      "/home/stang/.local/lib/python3.10/site-packages/sklearn/metrics/_classification.py:1509: UndefinedMetricWarning: Recall is ill-defined and being set to 0.0 in labels with no true samples. Use `zero_division` parameter to control this behavior.\n",
      "  _warn_prf(average, modifier, f\"{metric.capitalize()} is\", len(result))\n",
      "/home/stang/.local/lib/python3.10/site-packages/sklearn/metrics/_classification.py:1509: UndefinedMetricWarning: Recall is ill-defined and being set to 0.0 in labels with no true samples. Use `zero_division` parameter to control this behavior.\n",
      "  _warn_prf(average, modifier, f\"{metric.capitalize()} is\", len(result))\n"
     ]
    },
    {
     "name": "stdout",
     "output_type": "stream",
     "text": [
      "ExtraTreesClassifier Cross-Validation Accuracy: 0.5874 +/- 0.1243\n",
      "ExtraTreesClassifier Cross-Validation Precision: 0.5391 +/- 0.1034\n",
      "ExtraTreesClassifier Cross-Validation Recall: 0.5386 +/- 0.1248\n",
      "ExtraTreesClassifier Cross-Validation F1-Score: 0.5047 +/- 0.1220\n",
      "0.45\n"
     ]
    },
    {
     "name": "stderr",
     "output_type": "stream",
     "text": [
      "/home/stang/.local/lib/python3.10/site-packages/sklearn/metrics/_classification.py:1509: UndefinedMetricWarning: Recall is ill-defined and being set to 0.0 in labels with no true samples. Use `zero_division` parameter to control this behavior.\n",
      "  _warn_prf(average, modifier, f\"{metric.capitalize()} is\", len(result))\n",
      "/home/stang/.local/lib/python3.10/site-packages/sklearn/metrics/_classification.py:1509: UndefinedMetricWarning: Recall is ill-defined and being set to 0.0 in labels with no true samples. Use `zero_division` parameter to control this behavior.\n",
      "  _warn_prf(average, modifier, f\"{metric.capitalize()} is\", len(result))\n",
      "/home/stang/.local/lib/python3.10/site-packages/sklearn/metrics/_classification.py:1509: UndefinedMetricWarning: Recall is ill-defined and being set to 0.0 in labels with no true samples. Use `zero_division` parameter to control this behavior.\n",
      "  _warn_prf(average, modifier, f\"{metric.capitalize()} is\", len(result))\n"
     ]
    },
    {
     "name": "stdout",
     "output_type": "stream",
     "text": [
      "ExtraTreesClassifier Cross-Validation Accuracy: 0.5791 +/- 0.1174\n",
      "ExtraTreesClassifier Cross-Validation Precision: 0.5553 +/- 0.1315\n",
      "ExtraTreesClassifier Cross-Validation Recall: 0.5089 +/- 0.1269\n",
      "ExtraTreesClassifier Cross-Validation F1-Score: 0.5038 +/- 0.1210\n",
      "0.5\n"
     ]
    },
    {
     "name": "stderr",
     "output_type": "stream",
     "text": [
      "/home/stang/.local/lib/python3.10/site-packages/sklearn/metrics/_classification.py:1509: UndefinedMetricWarning: Recall is ill-defined and being set to 0.0 in labels with no true samples. Use `zero_division` parameter to control this behavior.\n",
      "  _warn_prf(average, modifier, f\"{metric.capitalize()} is\", len(result))\n"
     ]
    },
    {
     "name": "stdout",
     "output_type": "stream",
     "text": [
      "ExtraTreesClassifier Cross-Validation Accuracy: 0.5864 +/- 0.0759\n",
      "ExtraTreesClassifier Cross-Validation Precision: 0.5644 +/- 0.0822\n",
      "ExtraTreesClassifier Cross-Validation Recall: 0.5747 +/- 0.0893\n",
      "ExtraTreesClassifier Cross-Validation F1-Score: 0.5371 +/- 0.0873\n",
      "0.55\n"
     ]
    },
    {
     "name": "stderr",
     "output_type": "stream",
     "text": [
      "/home/stang/.local/lib/python3.10/site-packages/sklearn/metrics/_classification.py:1509: UndefinedMetricWarning: Recall is ill-defined and being set to 0.0 in labels with no true samples. Use `zero_division` parameter to control this behavior.\n",
      "  _warn_prf(average, modifier, f\"{metric.capitalize()} is\", len(result))\n",
      "/home/stang/.local/lib/python3.10/site-packages/sklearn/metrics/_classification.py:1509: UndefinedMetricWarning: Recall is ill-defined and being set to 0.0 in labels with no true samples. Use `zero_division` parameter to control this behavior.\n",
      "  _warn_prf(average, modifier, f\"{metric.capitalize()} is\", len(result))\n"
     ]
    },
    {
     "name": "stdout",
     "output_type": "stream",
     "text": [
      "ExtraTreesClassifier Cross-Validation Accuracy: 0.5757 +/- 0.1500\n",
      "ExtraTreesClassifier Cross-Validation Precision: 0.5661 +/- 0.1445\n",
      "ExtraTreesClassifier Cross-Validation Recall: 0.5357 +/- 0.1670\n",
      "ExtraTreesClassifier Cross-Validation F1-Score: 0.5279 +/- 0.1555\n",
      "0.6\n"
     ]
    },
    {
     "name": "stderr",
     "output_type": "stream",
     "text": [
      "/home/stang/.local/lib/python3.10/site-packages/sklearn/metrics/_classification.py:1509: UndefinedMetricWarning: Recall is ill-defined and being set to 0.0 in labels with no true samples. Use `zero_division` parameter to control this behavior.\n",
      "  _warn_prf(average, modifier, f\"{metric.capitalize()} is\", len(result))\n"
     ]
    },
    {
     "name": "stdout",
     "output_type": "stream",
     "text": [
      "ExtraTreesClassifier Cross-Validation Accuracy: 0.6101 +/- 0.0973\n",
      "ExtraTreesClassifier Cross-Validation Precision: 0.5741 +/- 0.0850\n",
      "ExtraTreesClassifier Cross-Validation Recall: 0.5839 +/- 0.1038\n",
      "ExtraTreesClassifier Cross-Validation F1-Score: 0.5622 +/- 0.0873\n",
      "0.65\n"
     ]
    },
    {
     "name": "stderr",
     "output_type": "stream",
     "text": [
      "/home/stang/.local/lib/python3.10/site-packages/sklearn/metrics/_classification.py:1509: UndefinedMetricWarning: Recall is ill-defined and being set to 0.0 in labels with no true samples. Use `zero_division` parameter to control this behavior.\n",
      "  _warn_prf(average, modifier, f\"{metric.capitalize()} is\", len(result))\n"
     ]
    },
    {
     "name": "stdout",
     "output_type": "stream",
     "text": [
      "ExtraTreesClassifier Cross-Validation Accuracy: 0.6034 +/- 0.0880\n",
      "ExtraTreesClassifier Cross-Validation Precision: 0.6011 +/- 0.0904\n",
      "ExtraTreesClassifier Cross-Validation Recall: 0.5923 +/- 0.0990\n",
      "ExtraTreesClassifier Cross-Validation F1-Score: 0.5650 +/- 0.0845\n",
      "0.7\n"
     ]
    },
    {
     "name": "stderr",
     "output_type": "stream",
     "text": [
      "/home/stang/.local/lib/python3.10/site-packages/sklearn/metrics/_classification.py:1509: UndefinedMetricWarning: Recall is ill-defined and being set to 0.0 in labels with no true samples. Use `zero_division` parameter to control this behavior.\n",
      "  _warn_prf(average, modifier, f\"{metric.capitalize()} is\", len(result))\n",
      "/home/stang/.local/lib/python3.10/site-packages/sklearn/metrics/_classification.py:1509: UndefinedMetricWarning: Recall is ill-defined and being set to 0.0 in labels with no true samples. Use `zero_division` parameter to control this behavior.\n",
      "  _warn_prf(average, modifier, f\"{metric.capitalize()} is\", len(result))\n",
      "/home/stang/.local/lib/python3.10/site-packages/sklearn/metrics/_classification.py:1509: UndefinedMetricWarning: Recall is ill-defined and being set to 0.0 in labels with no true samples. Use `zero_division` parameter to control this behavior.\n",
      "  _warn_prf(average, modifier, f\"{metric.capitalize()} is\", len(result))\n"
     ]
    },
    {
     "name": "stdout",
     "output_type": "stream",
     "text": [
      "ExtraTreesClassifier Cross-Validation Accuracy: 0.6035 +/- 0.0738\n",
      "ExtraTreesClassifier Cross-Validation Precision: 0.5529 +/- 0.0827\n",
      "ExtraTreesClassifier Cross-Validation Recall: 0.5480 +/- 0.1259\n",
      "ExtraTreesClassifier Cross-Validation F1-Score: 0.5276 +/- 0.0972\n",
      "0.75\n"
     ]
    },
    {
     "name": "stderr",
     "output_type": "stream",
     "text": [
      "/home/stang/.local/lib/python3.10/site-packages/sklearn/metrics/_classification.py:1509: UndefinedMetricWarning: Recall is ill-defined and being set to 0.0 in labels with no true samples. Use `zero_division` parameter to control this behavior.\n",
      "  _warn_prf(average, modifier, f\"{metric.capitalize()} is\", len(result))\n",
      "/home/stang/.local/lib/python3.10/site-packages/sklearn/metrics/_classification.py:1509: UndefinedMetricWarning: Recall is ill-defined and being set to 0.0 in labels with no true samples. Use `zero_division` parameter to control this behavior.\n",
      "  _warn_prf(average, modifier, f\"{metric.capitalize()} is\", len(result))\n"
     ]
    },
    {
     "name": "stdout",
     "output_type": "stream",
     "text": [
      "ExtraTreesClassifier Cross-Validation Accuracy: 0.6028 +/- 0.1069\n",
      "ExtraTreesClassifier Cross-Validation Precision: 0.5669 +/- 0.0959\n",
      "ExtraTreesClassifier Cross-Validation Recall: 0.5607 +/- 0.1276\n",
      "ExtraTreesClassifier Cross-Validation F1-Score: 0.5450 +/- 0.1071\n",
      "0.8\n"
     ]
    },
    {
     "name": "stderr",
     "output_type": "stream",
     "text": [
      "/home/stang/.local/lib/python3.10/site-packages/sklearn/metrics/_classification.py:1509: UndefinedMetricWarning: Recall is ill-defined and being set to 0.0 in labels with no true samples. Use `zero_division` parameter to control this behavior.\n",
      "  _warn_prf(average, modifier, f\"{metric.capitalize()} is\", len(result))\n",
      "/home/stang/.local/lib/python3.10/site-packages/sklearn/metrics/_classification.py:1509: UndefinedMetricWarning: Recall is ill-defined and being set to 0.0 in labels with no true samples. Use `zero_division` parameter to control this behavior.\n",
      "  _warn_prf(average, modifier, f\"{metric.capitalize()} is\", len(result))\n"
     ]
    },
    {
     "name": "stdout",
     "output_type": "stream",
     "text": [
      "ExtraTreesClassifier Cross-Validation Accuracy: 0.6151 +/- 0.1243\n",
      "ExtraTreesClassifier Cross-Validation Precision: 0.5654 +/- 0.1191\n",
      "ExtraTreesClassifier Cross-Validation Recall: 0.5638 +/- 0.1271\n",
      "ExtraTreesClassifier Cross-Validation F1-Score: 0.5431 +/- 0.1183\n",
      "0.85\n"
     ]
    },
    {
     "name": "stderr",
     "output_type": "stream",
     "text": [
      "/home/stang/.local/lib/python3.10/site-packages/sklearn/metrics/_classification.py:1509: UndefinedMetricWarning: Recall is ill-defined and being set to 0.0 in labels with no true samples. Use `zero_division` parameter to control this behavior.\n",
      "  _warn_prf(average, modifier, f\"{metric.capitalize()} is\", len(result))\n"
     ]
    },
    {
     "name": "stdout",
     "output_type": "stream",
     "text": [
      "ExtraTreesClassifier Cross-Validation Accuracy: 0.5827 +/- 0.1148\n",
      "ExtraTreesClassifier Cross-Validation Precision: 0.5810 +/- 0.1062\n",
      "ExtraTreesClassifier Cross-Validation Recall: 0.5852 +/- 0.1474\n",
      "ExtraTreesClassifier Cross-Validation F1-Score: 0.5591 +/- 0.1235\n",
      "0.9\n"
     ]
    },
    {
     "name": "stderr",
     "output_type": "stream",
     "text": [
      "/home/stang/.local/lib/python3.10/site-packages/sklearn/metrics/_classification.py:1509: UndefinedMetricWarning: Recall is ill-defined and being set to 0.0 in labels with no true samples. Use `zero_division` parameter to control this behavior.\n",
      "  _warn_prf(average, modifier, f\"{metric.capitalize()} is\", len(result))\n"
     ]
    },
    {
     "name": "stdout",
     "output_type": "stream",
     "text": [
      "ExtraTreesClassifier Cross-Validation Accuracy: 0.5857 +/- 0.1148\n",
      "ExtraTreesClassifier Cross-Validation Precision: 0.5836 +/- 0.1080\n",
      "ExtraTreesClassifier Cross-Validation Recall: 0.5877 +/- 0.1473\n",
      "ExtraTreesClassifier Cross-Validation F1-Score: 0.5631 +/- 0.1261\n"
     ]
    }
   ],
   "source": [
    "for proportion_cutoff in range(10, 91, 5):\n",
    "    proportion_cutoff /= 100  # Convert to proportion\n",
    "\n",
    "    # Your existing code block\n",
    "    outlier_SpecIDs = outlier_proportions[outlier_proportions > proportion_cutoff].index\n",
    "    clean_df = spectra_df[~spectra_df['SpecID'].isin(outlier_SpecIDs)]\n",
    "    wavelength_df = prepare_wavelength_df(clean_df, 'Absorbance')\n",
    "    print(proportion_cutoff)\n",
    "    evaluate_model(wavelength_df, et)"
   ]
  }
 ],
 "metadata": {
  "kernelspec": {
   "display_name": "Python 3",
   "language": "python",
   "name": "python3"
  },
  "language_info": {
   "codemirror_mode": {
    "name": "ipython",
    "version": 3
   },
   "file_extension": ".py",
   "mimetype": "text/x-python",
   "name": "python",
   "nbconvert_exporter": "python",
   "pygments_lexer": "ipython3",
   "version": "3.10.12"
  }
 },
 "nbformat": 4,
 "nbformat_minor": 2
}
