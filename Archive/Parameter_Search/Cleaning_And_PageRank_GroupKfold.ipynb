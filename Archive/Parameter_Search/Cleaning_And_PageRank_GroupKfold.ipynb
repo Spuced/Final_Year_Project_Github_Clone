{
 "cells": [
  {
   "cell_type": "markdown",
   "metadata": {},
   "source": [
    "### **This Notebook Performs a Parameters Search on Every Possible Cleaning and Model Parameter.**"
   ]
  },
  {
   "cell_type": "markdown",
   "metadata": {},
   "source": [
    "Lets test different spectral cleaning parameters by building a model pipeline."
   ]
  },
  {
   "cell_type": "markdown",
   "metadata": {},
   "source": [
    "Import Libraries"
   ]
  },
  {
   "cell_type": "code",
   "execution_count": 1,
   "metadata": {},
   "outputs": [],
   "source": [
    "import pandas as pd\n",
    "import numpy as np\n",
    "from scipy.signal import savgol_filter\n",
    "from sklearn.ensemble import RandomForestClassifier\n",
    "from sklearn.ensemble import ExtraTreesClassifier\n",
    "from sklearn.svm import SVC\n",
    "from sklearn.model_selection import cross_validate, GroupKFold, cross_val_score\n",
    "from Spectra_Preparation_Functions import *\n",
    "from sklearn.base import BaseEstimator, TransformerMixin\n",
    "from sklearn.pipeline import Pipeline\n",
    "import optuna"
   ]
  },
  {
   "cell_type": "markdown",
   "metadata": {},
   "source": [
    "Read the spectral data"
   ]
  },
  {
   "cell_type": "code",
   "execution_count": 2,
   "metadata": {},
   "outputs": [],
   "source": [
    "#df = pd.read_csv(\"../../data/exosomes.raw_spectrum_1.csv\")\n",
    "# df = pd.read_csv(\"../../data/raw_df_outliers_removed.csv\")\n",
    "df = pd.read_csv(\"../../data/400-1800_with_raw_scaled_surface_pagerank.csv\")"
   ]
  },
  {
   "cell_type": "code",
   "execution_count": 3,
   "metadata": {},
   "outputs": [
    {
     "data": {
      "text/html": [
       "<div>\n",
       "<style scoped>\n",
       "    .dataframe tbody tr th:only-of-type {\n",
       "        vertical-align: middle;\n",
       "    }\n",
       "\n",
       "    .dataframe tbody tr th {\n",
       "        vertical-align: top;\n",
       "    }\n",
       "\n",
       "    .dataframe thead th {\n",
       "        text-align: right;\n",
       "    }\n",
       "</style>\n",
       "<table border=\"1\" class=\"dataframe\">\n",
       "  <thead>\n",
       "    <tr style=\"text-align: right;\">\n",
       "      <th></th>\n",
       "      <th>SpecID</th>\n",
       "      <th>Seq</th>\n",
       "      <th>WaveNumber</th>\n",
       "      <th>Absorbance</th>\n",
       "      <th>SurID</th>\n",
       "      <th>Status</th>\n",
       "      <th>PageRank</th>\n",
       "    </tr>\n",
       "  </thead>\n",
       "  <tbody>\n",
       "    <tr>\n",
       "      <th>0</th>\n",
       "      <td>201210-1-00</td>\n",
       "      <td>293</td>\n",
       "      <td>400.22778</td>\n",
       "      <td>1765.6628</td>\n",
       "      <td>201210-1</td>\n",
       "      <td>Normal</td>\n",
       "      <td>0.610024</td>\n",
       "    </tr>\n",
       "    <tr>\n",
       "      <th>1</th>\n",
       "      <td>201210-1-00</td>\n",
       "      <td>294</td>\n",
       "      <td>400.91116</td>\n",
       "      <td>1774.7809</td>\n",
       "      <td>201210-1</td>\n",
       "      <td>Normal</td>\n",
       "      <td>0.610024</td>\n",
       "    </tr>\n",
       "    <tr>\n",
       "      <th>2</th>\n",
       "      <td>201210-1-00</td>\n",
       "      <td>295</td>\n",
       "      <td>401.59454</td>\n",
       "      <td>1769.0302</td>\n",
       "      <td>201210-1</td>\n",
       "      <td>Normal</td>\n",
       "      <td>0.610024</td>\n",
       "    </tr>\n",
       "    <tr>\n",
       "      <th>3</th>\n",
       "      <td>201210-1-00</td>\n",
       "      <td>296</td>\n",
       "      <td>402.27789</td>\n",
       "      <td>1756.4220</td>\n",
       "      <td>201210-1</td>\n",
       "      <td>Normal</td>\n",
       "      <td>0.610024</td>\n",
       "    </tr>\n",
       "    <tr>\n",
       "      <th>4</th>\n",
       "      <td>201210-1-00</td>\n",
       "      <td>297</td>\n",
       "      <td>402.96127</td>\n",
       "      <td>1758.8690</td>\n",
       "      <td>201210-1</td>\n",
       "      <td>Normal</td>\n",
       "      <td>0.610024</td>\n",
       "    </tr>\n",
       "    <tr>\n",
       "      <th>...</th>\n",
       "      <td>...</td>\n",
       "      <td>...</td>\n",
       "      <td>...</td>\n",
       "      <td>...</td>\n",
       "      <td>...</td>\n",
       "      <td>...</td>\n",
       "      <td>...</td>\n",
       "    </tr>\n",
       "    <tr>\n",
       "      <th>6239200</th>\n",
       "      <td>210526-3-09</td>\n",
       "      <td>2337</td>\n",
       "      <td>1797.03870</td>\n",
       "      <td>1617.3926</td>\n",
       "      <td>210526-3</td>\n",
       "      <td>Hyperglycemia</td>\n",
       "      <td>1.201164</td>\n",
       "    </tr>\n",
       "    <tr>\n",
       "      <th>6239201</th>\n",
       "      <td>210526-3-09</td>\n",
       "      <td>2338</td>\n",
       "      <td>1797.72200</td>\n",
       "      <td>1633.0911</td>\n",
       "      <td>210526-3</td>\n",
       "      <td>Hyperglycemia</td>\n",
       "      <td>1.201164</td>\n",
       "    </tr>\n",
       "    <tr>\n",
       "      <th>6239202</th>\n",
       "      <td>210526-3-09</td>\n",
       "      <td>2339</td>\n",
       "      <td>1798.40550</td>\n",
       "      <td>1633.3076</td>\n",
       "      <td>210526-3</td>\n",
       "      <td>Hyperglycemia</td>\n",
       "      <td>1.201164</td>\n",
       "    </tr>\n",
       "    <tr>\n",
       "      <th>6239203</th>\n",
       "      <td>210526-3-09</td>\n",
       "      <td>2340</td>\n",
       "      <td>1799.08890</td>\n",
       "      <td>1641.8665</td>\n",
       "      <td>210526-3</td>\n",
       "      <td>Hyperglycemia</td>\n",
       "      <td>1.201164</td>\n",
       "    </tr>\n",
       "    <tr>\n",
       "      <th>6239204</th>\n",
       "      <td>210526-3-09</td>\n",
       "      <td>2341</td>\n",
       "      <td>1799.77220</td>\n",
       "      <td>1618.2405</td>\n",
       "      <td>210526-3</td>\n",
       "      <td>Hyperglycemia</td>\n",
       "      <td>1.201164</td>\n",
       "    </tr>\n",
       "  </tbody>\n",
       "</table>\n",
       "<p>6239205 rows × 7 columns</p>\n",
       "</div>"
      ],
      "text/plain": [
       "              SpecID   Seq  WaveNumber  Absorbance     SurID         Status  \\\n",
       "0        201210-1-00   293   400.22778   1765.6628  201210-1         Normal   \n",
       "1        201210-1-00   294   400.91116   1774.7809  201210-1         Normal   \n",
       "2        201210-1-00   295   401.59454   1769.0302  201210-1         Normal   \n",
       "3        201210-1-00   296   402.27789   1756.4220  201210-1         Normal   \n",
       "4        201210-1-00   297   402.96127   1758.8690  201210-1         Normal   \n",
       "...              ...   ...         ...         ...       ...            ...   \n",
       "6239200  210526-3-09  2337  1797.03870   1617.3926  210526-3  Hyperglycemia   \n",
       "6239201  210526-3-09  2338  1797.72200   1633.0911  210526-3  Hyperglycemia   \n",
       "6239202  210526-3-09  2339  1798.40550   1633.3076  210526-3  Hyperglycemia   \n",
       "6239203  210526-3-09  2340  1799.08890   1641.8665  210526-3  Hyperglycemia   \n",
       "6239204  210526-3-09  2341  1799.77220   1618.2405  210526-3  Hyperglycemia   \n",
       "\n",
       "         PageRank  \n",
       "0        0.610024  \n",
       "1        0.610024  \n",
       "2        0.610024  \n",
       "3        0.610024  \n",
       "4        0.610024  \n",
       "...           ...  \n",
       "6239200  1.201164  \n",
       "6239201  1.201164  \n",
       "6239202  1.201164  \n",
       "6239203  1.201164  \n",
       "6239204  1.201164  \n",
       "\n",
       "[6239205 rows x 7 columns]"
      ]
     },
     "execution_count": 3,
     "metadata": {},
     "output_type": "execute_result"
    }
   ],
   "source": [
    "df"
   ]
  },
  {
   "cell_type": "code",
   "execution_count": 4,
   "metadata": {},
   "outputs": [
    {
     "data": {
      "text/html": [
       "<div>\n",
       "<style scoped>\n",
       "    .dataframe tbody tr th:only-of-type {\n",
       "        vertical-align: middle;\n",
       "    }\n",
       "\n",
       "    .dataframe tbody tr th {\n",
       "        vertical-align: top;\n",
       "    }\n",
       "\n",
       "    .dataframe thead th {\n",
       "        text-align: right;\n",
       "    }\n",
       "</style>\n",
       "<table border=\"1\" class=\"dataframe\">\n",
       "  <thead>\n",
       "    <tr style=\"text-align: right;\">\n",
       "      <th></th>\n",
       "      <th>400.22778</th>\n",
       "      <th>400.91116</th>\n",
       "      <th>401.59454</th>\n",
       "      <th>402.27789</th>\n",
       "      <th>402.96127</th>\n",
       "      <th>403.64465</th>\n",
       "      <th>404.32803</th>\n",
       "      <th>405.01138</th>\n",
       "      <th>405.69476</th>\n",
       "      <th>406.37814</th>\n",
       "      <th>...</th>\n",
       "      <th>1794.9886</th>\n",
       "      <th>1795.672</th>\n",
       "      <th>1796.3553</th>\n",
       "      <th>1797.0387</th>\n",
       "      <th>1797.722</th>\n",
       "      <th>1798.4055</th>\n",
       "      <th>1799.0889</th>\n",
       "      <th>1799.7722</th>\n",
       "      <th>SurID</th>\n",
       "      <th>Status</th>\n",
       "    </tr>\n",
       "    <tr>\n",
       "      <th>SpecID</th>\n",
       "      <th></th>\n",
       "      <th></th>\n",
       "      <th></th>\n",
       "      <th></th>\n",
       "      <th></th>\n",
       "      <th></th>\n",
       "      <th></th>\n",
       "      <th></th>\n",
       "      <th></th>\n",
       "      <th></th>\n",
       "      <th></th>\n",
       "      <th></th>\n",
       "      <th></th>\n",
       "      <th></th>\n",
       "      <th></th>\n",
       "      <th></th>\n",
       "      <th></th>\n",
       "      <th></th>\n",
       "      <th></th>\n",
       "      <th></th>\n",
       "      <th></th>\n",
       "    </tr>\n",
       "  </thead>\n",
       "  <tbody>\n",
       "    <tr>\n",
       "      <th>201210-1-00</th>\n",
       "      <td>1765.6628</td>\n",
       "      <td>1774.7809</td>\n",
       "      <td>1769.0302</td>\n",
       "      <td>1756.4220</td>\n",
       "      <td>1758.8690</td>\n",
       "      <td>1763.2300</td>\n",
       "      <td>1745.2285</td>\n",
       "      <td>1773.3534</td>\n",
       "      <td>1774.7166</td>\n",
       "      <td>1753.3281</td>\n",
       "      <td>...</td>\n",
       "      <td>1210.4993</td>\n",
       "      <td>1213.9619</td>\n",
       "      <td>1225.2153</td>\n",
       "      <td>1210.0010</td>\n",
       "      <td>1210.6858</td>\n",
       "      <td>1194.4679</td>\n",
       "      <td>1195.1451</td>\n",
       "      <td>1189.8683</td>\n",
       "      <td>201210-1</td>\n",
       "      <td>Normal</td>\n",
       "    </tr>\n",
       "    <tr>\n",
       "      <th>201210-1-01</th>\n",
       "      <td>1966.9930</td>\n",
       "      <td>1962.4237</td>\n",
       "      <td>1954.5616</td>\n",
       "      <td>1954.3228</td>\n",
       "      <td>1963.0917</td>\n",
       "      <td>1975.0807</td>\n",
       "      <td>1979.3162</td>\n",
       "      <td>1963.4561</td>\n",
       "      <td>1968.4587</td>\n",
       "      <td>1964.0000</td>\n",
       "      <td>...</td>\n",
       "      <td>1382.6973</td>\n",
       "      <td>1363.7004</td>\n",
       "      <td>1360.6210</td>\n",
       "      <td>1354.0477</td>\n",
       "      <td>1353.0381</td>\n",
       "      <td>1353.9978</td>\n",
       "      <td>1361.2426</td>\n",
       "      <td>1370.2874</td>\n",
       "      <td>201210-1</td>\n",
       "      <td>Normal</td>\n",
       "    </tr>\n",
       "    <tr>\n",
       "      <th>201210-1-02</th>\n",
       "      <td>2182.6694</td>\n",
       "      <td>2149.6565</td>\n",
       "      <td>2146.0227</td>\n",
       "      <td>2159.3459</td>\n",
       "      <td>2167.2910</td>\n",
       "      <td>2160.9861</td>\n",
       "      <td>2145.6575</td>\n",
       "      <td>2134.2004</td>\n",
       "      <td>2142.8303</td>\n",
       "      <td>2138.6309</td>\n",
       "      <td>...</td>\n",
       "      <td>1976.2070</td>\n",
       "      <td>1989.0183</td>\n",
       "      <td>1996.2838</td>\n",
       "      <td>1979.3507</td>\n",
       "      <td>1976.2002</td>\n",
       "      <td>1994.9839</td>\n",
       "      <td>1974.2030</td>\n",
       "      <td>1971.1880</td>\n",
       "      <td>201210-1</td>\n",
       "      <td>Normal</td>\n",
       "    </tr>\n",
       "    <tr>\n",
       "      <th>201210-1-03</th>\n",
       "      <td>2445.0837</td>\n",
       "      <td>2430.4973</td>\n",
       "      <td>2422.7927</td>\n",
       "      <td>2434.3433</td>\n",
       "      <td>2454.9700</td>\n",
       "      <td>2462.8245</td>\n",
       "      <td>2454.7007</td>\n",
       "      <td>2467.7329</td>\n",
       "      <td>2449.5161</td>\n",
       "      <td>2421.3474</td>\n",
       "      <td>...</td>\n",
       "      <td>1992.3817</td>\n",
       "      <td>2022.6331</td>\n",
       "      <td>2001.8311</td>\n",
       "      <td>2010.0946</td>\n",
       "      <td>2006.4933</td>\n",
       "      <td>2017.2891</td>\n",
       "      <td>2038.1699</td>\n",
       "      <td>2000.6475</td>\n",
       "      <td>201210-1</td>\n",
       "      <td>Normal</td>\n",
       "    </tr>\n",
       "    <tr>\n",
       "      <th>201210-1-04</th>\n",
       "      <td>2250.4536</td>\n",
       "      <td>2248.6235</td>\n",
       "      <td>2245.0984</td>\n",
       "      <td>2242.7173</td>\n",
       "      <td>2235.2803</td>\n",
       "      <td>2228.9585</td>\n",
       "      <td>2236.0095</td>\n",
       "      <td>2229.6091</td>\n",
       "      <td>2225.9231</td>\n",
       "      <td>2211.0359</td>\n",
       "      <td>...</td>\n",
       "      <td>2009.0385</td>\n",
       "      <td>1953.3303</td>\n",
       "      <td>1963.5698</td>\n",
       "      <td>1964.5299</td>\n",
       "      <td>1969.5634</td>\n",
       "      <td>1986.6266</td>\n",
       "      <td>1970.1484</td>\n",
       "      <td>2007.0848</td>\n",
       "      <td>201210-1</td>\n",
       "      <td>Normal</td>\n",
       "    </tr>\n",
       "  </tbody>\n",
       "</table>\n",
       "<p>5 rows × 2051 columns</p>\n",
       "</div>"
      ],
      "text/plain": [
       "             400.22778  400.91116  401.59454  402.27789  402.96127  403.64465  \\\n",
       "SpecID                                                                          \n",
       "201210-1-00  1765.6628  1774.7809  1769.0302  1756.4220  1758.8690  1763.2300   \n",
       "201210-1-01  1966.9930  1962.4237  1954.5616  1954.3228  1963.0917  1975.0807   \n",
       "201210-1-02  2182.6694  2149.6565  2146.0227  2159.3459  2167.2910  2160.9861   \n",
       "201210-1-03  2445.0837  2430.4973  2422.7927  2434.3433  2454.9700  2462.8245   \n",
       "201210-1-04  2250.4536  2248.6235  2245.0984  2242.7173  2235.2803  2228.9585   \n",
       "\n",
       "             404.32803  405.01138  405.69476  406.37814  ...  1794.9886  \\\n",
       "SpecID                                                   ...              \n",
       "201210-1-00  1745.2285  1773.3534  1774.7166  1753.3281  ...  1210.4993   \n",
       "201210-1-01  1979.3162  1963.4561  1968.4587  1964.0000  ...  1382.6973   \n",
       "201210-1-02  2145.6575  2134.2004  2142.8303  2138.6309  ...  1976.2070   \n",
       "201210-1-03  2454.7007  2467.7329  2449.5161  2421.3474  ...  1992.3817   \n",
       "201210-1-04  2236.0095  2229.6091  2225.9231  2211.0359  ...  2009.0385   \n",
       "\n",
       "              1795.672  1796.3553  1797.0387   1797.722  1798.4055  1799.0889  \\\n",
       "SpecID                                                                          \n",
       "201210-1-00  1213.9619  1225.2153  1210.0010  1210.6858  1194.4679  1195.1451   \n",
       "201210-1-01  1363.7004  1360.6210  1354.0477  1353.0381  1353.9978  1361.2426   \n",
       "201210-1-02  1989.0183  1996.2838  1979.3507  1976.2002  1994.9839  1974.2030   \n",
       "201210-1-03  2022.6331  2001.8311  2010.0946  2006.4933  2017.2891  2038.1699   \n",
       "201210-1-04  1953.3303  1963.5698  1964.5299  1969.5634  1986.6266  1970.1484   \n",
       "\n",
       "             1799.7722     SurID  Status  \n",
       "SpecID                                    \n",
       "201210-1-00  1189.8683  201210-1  Normal  \n",
       "201210-1-01  1370.2874  201210-1  Normal  \n",
       "201210-1-02  1971.1880  201210-1  Normal  \n",
       "201210-1-03  2000.6475  201210-1  Normal  \n",
       "201210-1-04  2007.0848  201210-1  Normal  \n",
       "\n",
       "[5 rows x 2051 columns]"
      ]
     },
     "execution_count": 4,
     "metadata": {},
     "output_type": "execute_result"
    }
   ],
   "source": [
    "wavelength_df = prepare_wavelength_df(df, 'Absorbance')\n",
    "wavelength_df.head()"
   ]
  },
  {
   "cell_type": "markdown",
   "metadata": {},
   "source": [
    ">#### **Use Optuna to Find the Best Cleaning Parameter**"
   ]
  },
  {
   "cell_type": "code",
   "execution_count": 5,
   "metadata": {},
   "outputs": [
    {
     "data": {
      "text/html": [
       "<div>\n",
       "<style scoped>\n",
       "    .dataframe tbody tr th:only-of-type {\n",
       "        vertical-align: middle;\n",
       "    }\n",
       "\n",
       "    .dataframe tbody tr th {\n",
       "        vertical-align: top;\n",
       "    }\n",
       "\n",
       "    .dataframe thead th {\n",
       "        text-align: right;\n",
       "    }\n",
       "</style>\n",
       "<table border=\"1\" class=\"dataframe\">\n",
       "  <thead>\n",
       "    <tr style=\"text-align: right;\">\n",
       "      <th></th>\n",
       "      <th>SpecID</th>\n",
       "      <th>Seq</th>\n",
       "      <th>WaveNumber</th>\n",
       "      <th>Absorbance</th>\n",
       "      <th>SurID</th>\n",
       "      <th>Status</th>\n",
       "      <th>PageRank</th>\n",
       "    </tr>\n",
       "  </thead>\n",
       "  <tbody>\n",
       "    <tr>\n",
       "      <th>0</th>\n",
       "      <td>201210-1-00</td>\n",
       "      <td>293</td>\n",
       "      <td>400.22778</td>\n",
       "      <td>1765.6628</td>\n",
       "      <td>201210-1</td>\n",
       "      <td>Normal</td>\n",
       "      <td>0.610024</td>\n",
       "    </tr>\n",
       "    <tr>\n",
       "      <th>1</th>\n",
       "      <td>201210-1-00</td>\n",
       "      <td>294</td>\n",
       "      <td>400.91116</td>\n",
       "      <td>1774.7809</td>\n",
       "      <td>201210-1</td>\n",
       "      <td>Normal</td>\n",
       "      <td>0.610024</td>\n",
       "    </tr>\n",
       "    <tr>\n",
       "      <th>2</th>\n",
       "      <td>201210-1-00</td>\n",
       "      <td>295</td>\n",
       "      <td>401.59454</td>\n",
       "      <td>1769.0302</td>\n",
       "      <td>201210-1</td>\n",
       "      <td>Normal</td>\n",
       "      <td>0.610024</td>\n",
       "    </tr>\n",
       "    <tr>\n",
       "      <th>3</th>\n",
       "      <td>201210-1-00</td>\n",
       "      <td>296</td>\n",
       "      <td>402.27789</td>\n",
       "      <td>1756.4220</td>\n",
       "      <td>201210-1</td>\n",
       "      <td>Normal</td>\n",
       "      <td>0.610024</td>\n",
       "    </tr>\n",
       "    <tr>\n",
       "      <th>4</th>\n",
       "      <td>201210-1-00</td>\n",
       "      <td>297</td>\n",
       "      <td>402.96127</td>\n",
       "      <td>1758.8690</td>\n",
       "      <td>201210-1</td>\n",
       "      <td>Normal</td>\n",
       "      <td>0.610024</td>\n",
       "    </tr>\n",
       "    <tr>\n",
       "      <th>...</th>\n",
       "      <td>...</td>\n",
       "      <td>...</td>\n",
       "      <td>...</td>\n",
       "      <td>...</td>\n",
       "      <td>...</td>\n",
       "      <td>...</td>\n",
       "      <td>...</td>\n",
       "    </tr>\n",
       "    <tr>\n",
       "      <th>6239200</th>\n",
       "      <td>210526-3-09</td>\n",
       "      <td>2337</td>\n",
       "      <td>1797.03870</td>\n",
       "      <td>1617.3926</td>\n",
       "      <td>210526-3</td>\n",
       "      <td>Hyperglycemia</td>\n",
       "      <td>1.201164</td>\n",
       "    </tr>\n",
       "    <tr>\n",
       "      <th>6239201</th>\n",
       "      <td>210526-3-09</td>\n",
       "      <td>2338</td>\n",
       "      <td>1797.72200</td>\n",
       "      <td>1633.0911</td>\n",
       "      <td>210526-3</td>\n",
       "      <td>Hyperglycemia</td>\n",
       "      <td>1.201164</td>\n",
       "    </tr>\n",
       "    <tr>\n",
       "      <th>6239202</th>\n",
       "      <td>210526-3-09</td>\n",
       "      <td>2339</td>\n",
       "      <td>1798.40550</td>\n",
       "      <td>1633.3076</td>\n",
       "      <td>210526-3</td>\n",
       "      <td>Hyperglycemia</td>\n",
       "      <td>1.201164</td>\n",
       "    </tr>\n",
       "    <tr>\n",
       "      <th>6239203</th>\n",
       "      <td>210526-3-09</td>\n",
       "      <td>2340</td>\n",
       "      <td>1799.08890</td>\n",
       "      <td>1641.8665</td>\n",
       "      <td>210526-3</td>\n",
       "      <td>Hyperglycemia</td>\n",
       "      <td>1.201164</td>\n",
       "    </tr>\n",
       "    <tr>\n",
       "      <th>6239204</th>\n",
       "      <td>210526-3-09</td>\n",
       "      <td>2341</td>\n",
       "      <td>1799.77220</td>\n",
       "      <td>1618.2405</td>\n",
       "      <td>210526-3</td>\n",
       "      <td>Hyperglycemia</td>\n",
       "      <td>1.201164</td>\n",
       "    </tr>\n",
       "  </tbody>\n",
       "</table>\n",
       "<p>6239205 rows × 7 columns</p>\n",
       "</div>"
      ],
      "text/plain": [
       "              SpecID   Seq  WaveNumber  Absorbance     SurID         Status  \\\n",
       "0        201210-1-00   293   400.22778   1765.6628  201210-1         Normal   \n",
       "1        201210-1-00   294   400.91116   1774.7809  201210-1         Normal   \n",
       "2        201210-1-00   295   401.59454   1769.0302  201210-1         Normal   \n",
       "3        201210-1-00   296   402.27789   1756.4220  201210-1         Normal   \n",
       "4        201210-1-00   297   402.96127   1758.8690  201210-1         Normal   \n",
       "...              ...   ...         ...         ...       ...            ...   \n",
       "6239200  210526-3-09  2337  1797.03870   1617.3926  210526-3  Hyperglycemia   \n",
       "6239201  210526-3-09  2338  1797.72200   1633.0911  210526-3  Hyperglycemia   \n",
       "6239202  210526-3-09  2339  1798.40550   1633.3076  210526-3  Hyperglycemia   \n",
       "6239203  210526-3-09  2340  1799.08890   1641.8665  210526-3  Hyperglycemia   \n",
       "6239204  210526-3-09  2341  1799.77220   1618.2405  210526-3  Hyperglycemia   \n",
       "\n",
       "         PageRank  \n",
       "0        0.610024  \n",
       "1        0.610024  \n",
       "2        0.610024  \n",
       "3        0.610024  \n",
       "4        0.610024  \n",
       "...           ...  \n",
       "6239200  1.201164  \n",
       "6239201  1.201164  \n",
       "6239202  1.201164  \n",
       "6239203  1.201164  \n",
       "6239204  1.201164  \n",
       "\n",
       "[6239205 rows x 7 columns]"
      ]
     },
     "execution_count": 5,
     "metadata": {},
     "output_type": "execute_result"
    }
   ],
   "source": [
    "df"
   ]
  },
  {
   "cell_type": "code",
   "execution_count": 6,
   "metadata": {},
   "outputs": [
    {
     "name": "stderr",
     "output_type": "stream",
     "text": [
      "[I 2024-04-14 21:22:45,106] A new study created in memory with name: no-name-480a9a40-d08f-4b6c-86d5-677d9b371345\n",
      "[I 2024-04-14 21:22:55,260] Trial 4 finished with value: 0.542274092791787 and parameters: {'pagerank_cutoff': 0.9964150504118547, 'despike': False, 'baseline_correct': False, 'smoothing': False, 'scaling': False, 'classifier': 'ExtraTrees'}. Best is trial 4 with value: 0.542274092791787.\n",
      "[I 2024-04-14 21:23:14,464] Trial 2 finished with value: 0.37431651823313766 and parameters: {'pagerank_cutoff': 1.4638265245593427, 'despike': False, 'baseline_correct': False, 'smoothing': True, 'scaling': False, 'window_size': 187, 'smoothing_poly_order': 2, 'classifier': 'RandomForest'}. Best is trial 4 with value: 0.542274092791787.\n",
      "[I 2024-04-14 21:23:31,129] Trial 12 finished with value: 0.4240506850718118 and parameters: {'pagerank_cutoff': 1.265953214753783, 'despike': True, 'baseline_correct': False, 'smoothing': False, 'scaling': False, 'despike_ma': 81, 'despike_threshold': 5.75, 'classifier': 'RandomForest'}. Best is trial 4 with value: 0.542274092791787.\n",
      "[I 2024-04-14 21:23:34,078] Trial 13 finished with value: 0.4384890161832873 and parameters: {'pagerank_cutoff': 1.4752528795772202, 'despike': True, 'baseline_correct': False, 'smoothing': False, 'scaling': False, 'despike_ma': 93, 'despike_threshold': 8.75, 'classifier': 'ExtraTrees'}. Best is trial 4 with value: 0.542274092791787.\n",
      "[I 2024-04-14 21:24:00,177] Trial 15 finished with value: 0.39472135899070937 and parameters: {'pagerank_cutoff': 1.3780424897609345, 'despike': True, 'baseline_correct': False, 'smoothing': False, 'scaling': False, 'despike_ma': 47, 'despike_threshold': 4.25, 'classifier': 'ExtraTrees'}. Best is trial 4 with value: 0.542274092791787.\n",
      "[I 2024-04-14 21:24:01,874] Trial 11 finished with value: 0.5083945179997811 and parameters: {'pagerank_cutoff': 1.4958568736660576, 'despike': True, 'baseline_correct': True, 'smoothing': False, 'scaling': False, 'despike_ma': 84, 'despike_threshold': 6.0, 'asls_lam': 100000, 'asls_p': 0.035, 'classifier': 'SVC'}. Best is trial 4 with value: 0.542274092791787.\n",
      "[I 2024-04-14 21:24:04,663] Trial 9 finished with value: 0.37426255914628004 and parameters: {'pagerank_cutoff': 1.4589297528779808, 'despike': False, 'baseline_correct': True, 'smoothing': False, 'scaling': True, 'asls_lam': 10000000, 'asls_p': 0.093, 'scaling_type': 'svn', 'classifier': 'SVC'}. Best is trial 4 with value: 0.542274092791787.\n",
      "[I 2024-04-14 21:24:10,827] Trial 16 finished with value: 0.41651248843663274 and parameters: {'pagerank_cutoff': 1.4305107772319519, 'despike': False, 'baseline_correct': False, 'smoothing': True, 'scaling': False, 'window_size': 81, 'smoothing_poly_order': 3, 'classifier': 'RandomForest'}. Best is trial 4 with value: 0.542274092791787.\n",
      "[I 2024-04-14 21:24:27,020] Trial 5 finished with value: 0.468156685117481 and parameters: {'pagerank_cutoff': 1.3655651381994571, 'despike': False, 'baseline_correct': True, 'smoothing': False, 'scaling': False, 'asls_lam': 1000000000, 'asls_p': 0.004, 'classifier': 'RandomForest'}. Best is trial 4 with value: 0.542274092791787.\n",
      "[I 2024-04-14 21:24:41,594] Trial 0 finished with value: 0.5612466422507747 and parameters: {'pagerank_cutoff': 0.7679413787021651, 'despike': True, 'baseline_correct': False, 'smoothing': False, 'scaling': True, 'despike_ma': 29, 'despike_threshold': 4.5, 'scaling_type': 'vector', 'classifier': 'SVC'}. Best is trial 0 with value: 0.5612466422507747.\n",
      "[I 2024-04-14 21:25:12,541] Trial 20 finished with value: 0.5387755243231507 and parameters: {'pagerank_cutoff': 0.9071495213314689, 'despike': False, 'baseline_correct': False, 'smoothing': True, 'scaling': False, 'window_size': 211, 'smoothing_poly_order': 1, 'classifier': 'ExtraTrees'}. Best is trial 0 with value: 0.5612466422507747.\n",
      "[I 2024-04-14 21:25:54,314] Trial 18 finished with value: 0.4716613235633987 and parameters: {'pagerank_cutoff': 0.351890579064261, 'despike': True, 'baseline_correct': False, 'smoothing': False, 'scaling': False, 'despike_ma': 78, 'despike_threshold': 5.75, 'classifier': 'SVC'}. Best is trial 0 with value: 0.5612466422507747.\n",
      "[I 2024-04-14 21:25:59,380] Trial 17 finished with value: 0.5292380952380953 and parameters: {'pagerank_cutoff': 0.0482218231218966, 'despike': True, 'baseline_correct': False, 'smoothing': False, 'scaling': False, 'despike_ma': 91, 'despike_threshold': 7.5, 'classifier': 'ExtraTrees'}. Best is trial 0 with value: 0.5612466422507747.\n",
      "[I 2024-04-14 21:26:06,133] Trial 14 finished with value: 0.3785170181623271 and parameters: {'pagerank_cutoff': 1.2869576735253465, 'despike': True, 'baseline_correct': True, 'smoothing': True, 'scaling': False, 'despike_ma': 73, 'despike_threshold': 9.5, 'asls_lam': 100000, 'asls_p': 0.063, 'window_size': 209, 'smoothing_poly_order': 2, 'classifier': 'SVC'}. Best is trial 0 with value: 0.5612466422507747.\n",
      "[I 2024-04-14 21:26:23,677] Trial 6 finished with value: 0.5887744727179042 and parameters: {'pagerank_cutoff': 0.974745482282696, 'despike': False, 'baseline_correct': True, 'smoothing': False, 'scaling': False, 'asls_lam': 100000000, 'asls_p': 0.032, 'classifier': 'RandomForest'}. Best is trial 6 with value: 0.5887744727179042.\n",
      "[I 2024-04-14 21:26:37,457] Trial 24 finished with value: 0.5309475217482701 and parameters: {'pagerank_cutoff': 0.860307661986022, 'despike': False, 'baseline_correct': False, 'smoothing': False, 'scaling': True, 'scaling_type': 'vector', 'classifier': 'SVC'}. Best is trial 6 with value: 0.5887744727179042.\n",
      "[I 2024-04-14 21:26:42,982] Trial 10 finished with value: 0.5823966223434287 and parameters: {'pagerank_cutoff': 0.86559505550931, 'despike': True, 'baseline_correct': False, 'smoothing': True, 'scaling': True, 'despike_ma': 52, 'despike_threshold': 3.75, 'window_size': 188, 'smoothing_poly_order': 2, 'scaling_type': 'svn', 'classifier': 'RandomForest'}. Best is trial 6 with value: 0.5887744727179042.\n",
      "[I 2024-04-14 21:26:57,450] Trial 25 finished with value: 0.5477796057560196 and parameters: {'pagerank_cutoff': 0.8354392096362099, 'despike': False, 'baseline_correct': False, 'smoothing': False, 'scaling': True, 'scaling_type': 'vector', 'classifier': 'SVC'}. Best is trial 6 with value: 0.5887744727179042.\n",
      "[I 2024-04-14 21:27:26,791] Trial 1 finished with value: 0.6126166197180338 and parameters: {'pagerank_cutoff': 0.9207840056065512, 'despike': False, 'baseline_correct': True, 'smoothing': False, 'scaling': True, 'asls_lam': 100000000000, 'asls_p': 0.092, 'scaling_type': 'svn', 'classifier': 'SVC'}. Best is trial 1 with value: 0.6126166197180338.\n",
      "[I 2024-04-14 21:27:32,740] Trial 3 finished with value: 0.5261269841269842 and parameters: {'pagerank_cutoff': 0.03933112118302845, 'despike': True, 'baseline_correct': False, 'smoothing': True, 'scaling': False, 'despike_ma': 12, 'despike_threshold': 5.25, 'window_size': 234, 'smoothing_poly_order': 2, 'classifier': 'ExtraTrees'}. Best is trial 1 with value: 0.6126166197180338.\n",
      "[I 2024-04-14 21:27:55,624] Trial 23 finished with value: 0.5276454714449723 and parameters: {'pagerank_cutoff': 0.8157879605617596, 'despike': True, 'baseline_correct': False, 'smoothing': False, 'scaling': True, 'despike_ma': 6, 'despike_threshold': 3.25, 'scaling_type': 'vector', 'classifier': 'SVC'}. Best is trial 1 with value: 0.6126166197180338.\n",
      "[I 2024-04-14 21:28:30,750] Trial 22 finished with value: 0.5106351821420321 and parameters: {'pagerank_cutoff': 0.38243800437556064, 'despike': True, 'baseline_correct': False, 'smoothing': False, 'scaling': True, 'despike_ma': 6, 'despike_threshold': 3.25, 'scaling_type': 'vector', 'classifier': 'SVC'}. Best is trial 1 with value: 0.6126166197180338.\n",
      "[I 2024-04-14 21:28:35,324] Trial 8 finished with value: 0.6074722066471588 and parameters: {'pagerank_cutoff': 0.8646989638632936, 'despike': True, 'baseline_correct': True, 'smoothing': True, 'scaling': False, 'despike_ma': 57, 'despike_threshold': 4.0, 'asls_lam': 10000000, 'asls_p': 0.095, 'window_size': 52, 'smoothing_poly_order': 4, 'classifier': 'RandomForest'}. Best is trial 1 with value: 0.6126166197180338.\n",
      "[I 2024-04-14 21:28:46,552] Trial 19 finished with value: 0.40938416067853006 and parameters: {'pagerank_cutoff': 0.6921226723838549, 'despike': False, 'baseline_correct': True, 'smoothing': False, 'scaling': True, 'asls_lam': 100, 'asls_p': 0.04, 'scaling_type': 'vector', 'classifier': 'RandomForest'}. Best is trial 1 with value: 0.6126166197180338.\n",
      "[I 2024-04-14 21:28:55,285] Trial 7 finished with value: 0.6124556818244843 and parameters: {'pagerank_cutoff': 0.42423279743238534, 'despike': True, 'baseline_correct': True, 'smoothing': False, 'scaling': True, 'despike_ma': 57, 'despike_threshold': 10.0, 'asls_lam': 10000000000, 'asls_p': 0.093, 'scaling_type': 'normal', 'classifier': 'RandomForest'}. Best is trial 1 with value: 0.6126166197180338.\n",
      "[I 2024-04-14 21:29:57,782] Trial 34 finished with value: 0.5133923375364231 and parameters: {'pagerank_cutoff': 1.0966142586988556, 'despike': False, 'baseline_correct': True, 'smoothing': True, 'scaling': True, 'asls_lam': 100000000, 'asls_p': 0.099, 'window_size': 22, 'smoothing_poly_order': 5, 'scaling_type': 'normal', 'classifier': 'RandomForest'}. Best is trial 1 with value: 0.6126166197180338.\n",
      "[I 2024-04-14 21:30:02,084] Trial 33 finished with value: 0.5739695128624627 and parameters: {'pagerank_cutoff': 1.0842888229404815, 'despike': False, 'baseline_correct': True, 'smoothing': True, 'scaling': True, 'asls_lam': 100000000, 'asls_p': 0.1, 'window_size': 27, 'smoothing_poly_order': 5, 'scaling_type': 'svn', 'classifier': 'RandomForest'}. Best is trial 1 with value: 0.6126166197180338.\n",
      "[I 2024-04-14 21:30:09,108] Trial 26 finished with value: 0.5317547286779962 and parameters: {'pagerank_cutoff': 0.6127648863639116, 'despike': False, 'baseline_correct': True, 'smoothing': False, 'scaling': True, 'asls_lam': 100000000, 'asls_p': 0.030000000000000002, 'scaling_type': 'vector', 'classifier': 'RandomForest'}. Best is trial 1 with value: 0.6126166197180338.\n",
      "[I 2024-04-14 21:30:13,213] Trial 35 finished with value: 0.561040841843513 and parameters: {'pagerank_cutoff': 1.0678820547184338, 'despike': False, 'baseline_correct': True, 'smoothing': True, 'scaling': True, 'asls_lam': 100000000, 'asls_p': 0.097, 'window_size': 10, 'smoothing_poly_order': 5, 'scaling_type': 'normal', 'classifier': 'RandomForest'}. Best is trial 1 with value: 0.6126166197180338.\n",
      "[I 2024-04-14 21:30:43,069] Trial 30 finished with value: 0.5926878480105857 and parameters: {'pagerank_cutoff': 0.5653022467631396, 'despike': False, 'baseline_correct': True, 'smoothing': False, 'scaling': True, 'asls_lam': 100000000000, 'asls_p': 0.037000000000000005, 'scaling_type': 'normal', 'classifier': 'RandomForest'}. Best is trial 1 with value: 0.6126166197180338.\n",
      "[I 2024-04-14 21:30:50,134] Trial 31 finished with value: 0.604700033933933 and parameters: {'pagerank_cutoff': 0.5903976116734236, 'despike': False, 'baseline_correct': True, 'smoothing': False, 'scaling': True, 'asls_lam': 100000000000, 'asls_p': 0.039, 'scaling_type': 'normal', 'classifier': 'RandomForest'}. Best is trial 1 with value: 0.6126166197180338.\n",
      "[I 2024-04-14 21:31:31,129] Trial 29 finished with value: 0.5837950046240759 and parameters: {'pagerank_cutoff': 0.5947719685804609, 'despike': False, 'baseline_correct': True, 'smoothing': True, 'scaling': True, 'asls_lam': 100000000, 'asls_p': 0.028, 'window_size': 11, 'smoothing_poly_order': 5, 'scaling_type': 'svn', 'classifier': 'RandomForest'}. Best is trial 1 with value: 0.6126166197180338.\n",
      "[I 2024-04-14 21:31:40,918] Trial 27 finished with value: 0.5626707529711285 and parameters: {'pagerank_cutoff': 0.6198813884435734, 'despike': True, 'baseline_correct': True, 'smoothing': False, 'scaling': True, 'despike_ma': 11, 'despike_threshold': 3.0, 'asls_lam': 100000000, 'asls_p': 0.029, 'scaling_type': 'vector', 'classifier': 'RandomForest'}. Best is trial 1 with value: 0.6126166197180338.\n",
      "[I 2024-04-14 21:31:55,604] Trial 28 finished with value: 0.5328117234836602 and parameters: {'pagerank_cutoff': 0.548024267377067, 'despike': False, 'baseline_correct': True, 'smoothing': True, 'scaling': True, 'asls_lam': 100000000, 'asls_p': 0.029, 'window_size': 20, 'smoothing_poly_order': 5, 'scaling_type': 'svn', 'classifier': 'RandomForest'}. Best is trial 1 with value: 0.6126166197180338.\n",
      "[I 2024-04-14 21:32:06,790] Trial 21 finished with value: 0.5580242381700661 and parameters: {'pagerank_cutoff': 0.32432025416275023, 'despike': True, 'baseline_correct': True, 'smoothing': True, 'scaling': True, 'despike_ma': 5, 'despike_threshold': 3.0, 'asls_lam': 100000000000, 'asls_p': 0.1, 'window_size': 11, 'smoothing_poly_order': 5, 'scaling_type': 'vector', 'classifier': 'SVC'}. Best is trial 1 with value: 0.6126166197180338.\n",
      "[I 2024-04-14 21:33:21,348] Trial 32 finished with value: 0.5777005706676255 and parameters: {'pagerank_cutoff': 0.5393610590205068, 'despike': False, 'baseline_correct': True, 'smoothing': True, 'scaling': True, 'asls_lam': 100000000000, 'asls_p': 0.045, 'window_size': 127, 'smoothing_poly_order': 5, 'scaling_type': 'svn', 'classifier': 'RandomForest'}. Best is trial 1 with value: 0.6126166197180338.\n",
      "[I 2024-04-14 21:33:36,709] Trial 36 finished with value: 0.6401257385841566 and parameters: {'pagerank_cutoff': 0.6285861712624797, 'despike': True, 'baseline_correct': True, 'smoothing': True, 'scaling': True, 'despike_ma': 64, 'despike_threshold': 7.25, 'asls_lam': 10000000000, 'asls_p': 0.099, 'window_size': 19, 'smoothing_poly_order': 5, 'scaling_type': 'normal', 'classifier': 'RandomForest'}. Best is trial 36 with value: 0.6401257385841566.\n",
      "[I 2024-04-14 21:35:13,278] Trial 42 finished with value: 0.5851313172570565 and parameters: {'pagerank_cutoff': 0.42901658280461696, 'despike': True, 'baseline_correct': True, 'smoothing': False, 'scaling': True, 'despike_ma': 63, 'despike_threshold': 7.25, 'asls_lam': 10000000000, 'asls_p': 0.077, 'scaling_type': 'normal', 'classifier': 'RandomForest'}. Best is trial 36 with value: 0.6401257385841566.\n",
      "[I 2024-04-14 21:35:26,966] Trial 43 finished with value: 0.6014899650529266 and parameters: {'pagerank_cutoff': 0.4149929118032115, 'despike': True, 'baseline_correct': True, 'smoothing': False, 'scaling': True, 'despike_ma': 63, 'despike_threshold': 7.5, 'asls_lam': 10000000000, 'asls_p': 0.078, 'scaling_type': 'normal', 'classifier': 'RandomForest'}. Best is trial 36 with value: 0.6401257385841566.\n",
      "[I 2024-04-14 21:35:37,078] Trial 45 finished with value: 0.5783505672938268 and parameters: {'pagerank_cutoff': 0.4298569886083345, 'despike': True, 'baseline_correct': True, 'smoothing': False, 'scaling': True, 'despike_ma': 65, 'despike_threshold': 7.5, 'asls_lam': 10000000000, 'asls_p': 0.08, 'scaling_type': 'normal', 'classifier': 'RandomForest'}. Best is trial 36 with value: 0.6401257385841566.\n",
      "[I 2024-04-14 21:35:47,114] Trial 46 finished with value: 0.6022725000365309 and parameters: {'pagerank_cutoff': 0.43270436755616853, 'despike': True, 'baseline_correct': True, 'smoothing': False, 'scaling': True, 'despike_ma': 65, 'despike_threshold': 7.5, 'asls_lam': 10000000000, 'asls_p': 0.081, 'scaling_type': 'normal', 'classifier': 'RandomForest'}. Best is trial 36 with value: 0.6401257385841566.\n",
      "[I 2024-04-14 21:35:54,421] Trial 37 finished with value: 0.5958891711027602 and parameters: {'pagerank_cutoff': 0.5772369323570207, 'despike': True, 'baseline_correct': True, 'smoothing': True, 'scaling': True, 'despike_ma': 64, 'despike_threshold': 7.5, 'asls_lam': 10000000000, 'asls_p': 0.074, 'window_size': 96, 'smoothing_poly_order': 5, 'scaling_type': 'normal', 'classifier': 'RandomForest'}. Best is trial 36 with value: 0.6401257385841566.\n",
      "[I 2024-04-14 21:36:02,522] Trial 38 finished with value: 0.5884734078061304 and parameters: {'pagerank_cutoff': 0.6237750130874538, 'despike': True, 'baseline_correct': True, 'smoothing': True, 'scaling': True, 'despike_ma': 62, 'despike_threshold': 7.25, 'asls_lam': 10000000000, 'asls_p': 0.075, 'window_size': 122, 'smoothing_poly_order': 4, 'scaling_type': 'normal', 'classifier': 'RandomForest'}. Best is trial 36 with value: 0.6401257385841566.\n",
      "[I 2024-04-14 21:36:05,898] Trial 40 finished with value: 0.5733502576801747 and parameters: {'pagerank_cutoff': 0.5326620375526189, 'despike': True, 'baseline_correct': True, 'smoothing': True, 'scaling': True, 'despike_ma': 65, 'despike_threshold': 7.5, 'asls_lam': 10000000000, 'asls_p': 0.076, 'window_size': 111, 'smoothing_poly_order': 4, 'scaling_type': 'normal', 'classifier': 'RandomForest'}. Best is trial 36 with value: 0.6401257385841566.\n",
      "[I 2024-04-14 21:36:12,619] Trial 39 finished with value: 0.5672613795858552 and parameters: {'pagerank_cutoff': 0.5265526906370368, 'despike': True, 'baseline_correct': True, 'smoothing': True, 'scaling': True, 'despike_ma': 63, 'despike_threshold': 7.25, 'asls_lam': 100000000000, 'asls_p': 0.077, 'window_size': 121, 'smoothing_poly_order': 4, 'scaling_type': 'normal', 'classifier': 'RandomForest'}. Best is trial 36 with value: 0.6401257385841566.\n",
      "[I 2024-04-14 21:37:39,096] Trial 41 finished with value: 0.5898786105446547 and parameters: {'pagerank_cutoff': 0.35809164139588423, 'despike': True, 'baseline_correct': True, 'smoothing': True, 'scaling': True, 'despike_ma': 63, 'despike_threshold': 7.25, 'asls_lam': 10000000000, 'asls_p': 0.077, 'window_size': 110, 'smoothing_poly_order': 4, 'scaling_type': 'normal', 'classifier': 'RandomForest'}. Best is trial 36 with value: 0.6401257385841566.\n",
      "[I 2024-04-14 21:37:47,690] Trial 44 finished with value: 0.5450445707528103 and parameters: {'pagerank_cutoff': 0.4492635815480574, 'despike': True, 'baseline_correct': True, 'smoothing': True, 'scaling': True, 'despike_ma': 64, 'despike_threshold': 7.25, 'asls_lam': 10000000000, 'asls_p': 0.081, 'window_size': 111, 'smoothing_poly_order': 4, 'scaling_type': 'normal', 'classifier': 'RandomForest'}. Best is trial 36 with value: 0.6401257385841566.\n",
      "[I 2024-04-14 21:37:56,836] Trial 47 finished with value: 0.5712932583766681 and parameters: {'pagerank_cutoff': 0.4559873917406576, 'despike': True, 'baseline_correct': True, 'smoothing': False, 'scaling': True, 'despike_ma': 66, 'despike_threshold': 7.75, 'asls_lam': 10000000000, 'asls_p': 0.082, 'scaling_type': 'normal', 'classifier': 'RandomForest'}. Best is trial 36 with value: 0.6401257385841566.\n",
      "[I 2024-04-14 21:38:02,167] Trial 48 finished with value: 0.6289554730888858 and parameters: {'pagerank_cutoff': 0.7282363602108514, 'despike': True, 'baseline_correct': True, 'smoothing': True, 'scaling': True, 'despike_ma': 61, 'despike_threshold': 7.5, 'asls_lam': 10000000000, 'asls_p': 0.083, 'window_size': 70, 'smoothing_poly_order': 4, 'scaling_type': 'normal', 'classifier': 'RandomForest'}. Best is trial 36 with value: 0.6401257385841566.\n",
      "[I 2024-04-14 21:39:38,703] Trial 56 finished with value: 0.5599845186418183 and parameters: {'pagerank_cutoff': 0.7415068306509518, 'despike': True, 'baseline_correct': True, 'smoothing': False, 'scaling': False, 'despike_ma': 40, 'despike_threshold': 10.0, 'asls_lam': 10000000, 'asls_p': 0.089, 'classifier': 'ExtraTrees'}. Best is trial 36 with value: 0.6401257385841566.\n",
      "[I 2024-04-14 21:40:00,983] Trial 57 finished with value: 0.513803738566027 and parameters: {'pagerank_cutoff': 0.7146198997650672, 'despike': False, 'baseline_correct': True, 'smoothing': False, 'scaling': False, 'asls_lam': 10000000, 'asls_p': 0.089, 'classifier': 'ExtraTrees'}. Best is trial 36 with value: 0.6401257385841566.\n",
      "[I 2024-04-14 21:40:46,169] Trial 55 finished with value: 0.46734855706914863 and parameters: {'pagerank_cutoff': 0.7365324524125719, 'despike': True, 'baseline_correct': True, 'smoothing': True, 'scaling': False, 'despike_ma': 43, 'despike_threshold': 10.0, 'asls_lam': 10000000, 'asls_p': 0.09, 'window_size': 58, 'smoothing_poly_order': 4, 'classifier': 'SVC'}. Best is trial 36 with value: 0.6401257385841566.\n",
      "[I 2024-04-14 21:40:55,036] Trial 49 finished with value: 0.5863365051609543 and parameters: {'pagerank_cutoff': 0.7260202911157343, 'despike': True, 'baseline_correct': True, 'smoothing': True, 'scaling': True, 'despike_ma': 41, 'despike_threshold': 8.5, 'asls_lam': 10000000000, 'asls_p': 0.084, 'window_size': 77, 'smoothing_poly_order': 4, 'scaling_type': 'normal', 'classifier': 'RandomForest'}. Best is trial 36 with value: 0.6401257385841566.\n",
      "[I 2024-04-14 21:41:15,006] Trial 53 finished with value: 0.5710648630666058 and parameters: {'pagerank_cutoff': 0.7434525922480929, 'despike': True, 'baseline_correct': True, 'smoothing': True, 'scaling': True, 'despike_ma': 36, 'despike_threshold': 8.5, 'asls_lam': 10000000, 'asls_p': 0.091, 'window_size': 62, 'smoothing_poly_order': 4, 'scaling_type': 'normal', 'classifier': 'RandomForest'}. Best is trial 36 with value: 0.6401257385841566.\n",
      "[I 2024-04-14 21:41:23,083] Trial 54 finished with value: 0.5492185911363068 and parameters: {'pagerank_cutoff': 0.7519454919719007, 'despike': True, 'baseline_correct': True, 'smoothing': True, 'scaling': True, 'despike_ma': 40, 'despike_threshold': 10.0, 'asls_lam': 1000000, 'asls_p': 0.091, 'window_size': 59, 'smoothing_poly_order': 4, 'scaling_type': 'normal', 'classifier': 'RandomForest'}. Best is trial 36 with value: 0.6401257385841566.\n",
      "[I 2024-04-14 21:41:29,294] Trial 52 finished with value: 0.5936994340173316 and parameters: {'pagerank_cutoff': 0.7270990748867123, 'despike': True, 'baseline_correct': True, 'smoothing': True, 'scaling': True, 'despike_ma': 42, 'despike_threshold': 9.75, 'asls_lam': 10000000, 'asls_p': 0.089, 'window_size': 68, 'smoothing_poly_order': 4, 'scaling_type': 'normal', 'classifier': 'RandomForest'}. Best is trial 36 with value: 0.6401257385841566.\n",
      "[I 2024-04-14 21:41:31,874] Trial 58 finished with value: 0.5458526988530689 and parameters: {'pagerank_cutoff': 0.26243984694551953, 'despike': False, 'baseline_correct': True, 'smoothing': False, 'scaling': False, 'asls_lam': 1000000, 'asls_p': 0.08800000000000001, 'classifier': 'ExtraTrees'}. Best is trial 36 with value: 0.6401257385841566.\n",
      "[I 2024-04-14 21:41:59,218] Trial 59 finished with value: 0.5470561150153516 and parameters: {'pagerank_cutoff': 0.23942926119525093, 'despike': False, 'baseline_correct': True, 'smoothing': False, 'scaling': False, 'asls_lam': 1000000, 'asls_p': 0.091, 'classifier': 'ExtraTrees'}. Best is trial 36 with value: 0.6401257385841566.\n",
      "[I 2024-04-14 21:43:04,317] Trial 51 finished with value: 0.46174484206546235 and parameters: {'pagerank_cutoff': 0.1872420256856545, 'despike': True, 'baseline_correct': True, 'smoothing': True, 'scaling': False, 'despike_ma': 46, 'despike_threshold': 8.75, 'asls_lam': 10000000, 'asls_p': 0.08800000000000001, 'window_size': 66, 'smoothing_poly_order': 4, 'classifier': 'SVC'}. Best is trial 36 with value: 0.6401257385841566.\n",
      "[I 2024-04-14 21:43:19,690] Trial 50 finished with value: 0.493031504696025 and parameters: {'pagerank_cutoff': 0.2270043232184752, 'despike': True, 'baseline_correct': True, 'smoothing': True, 'scaling': True, 'despike_ma': 41, 'despike_threshold': 8.75, 'asls_lam': 10000, 'asls_p': 0.08600000000000001, 'window_size': 71, 'smoothing_poly_order': 4, 'scaling_type': 'normal', 'classifier': 'RandomForest'}. Best is trial 36 with value: 0.6401257385841566.\n",
      "[I 2024-04-14 21:43:24,771] Trial 60 finished with value: 0.5239381673903709 and parameters: {'pagerank_cutoff': 0.7282101452551235, 'despike': True, 'baseline_correct': True, 'smoothing': True, 'scaling': False, 'despike_ma': 39, 'despike_threshold': 8.75, 'asls_lam': 10000, 'asls_p': 0.091, 'window_size': 56, 'smoothing_poly_order': 3, 'classifier': 'ExtraTrees'}. Best is trial 36 with value: 0.6401257385841566.\n",
      "[I 2024-04-14 21:43:47,532] Trial 68 finished with value: 0.44349286103784225 and parameters: {'pagerank_cutoff': 0.9819302555145949, 'despike': False, 'baseline_correct': True, 'smoothing': False, 'scaling': False, 'asls_lam': 1000, 'asls_p': 0.056, 'classifier': 'SVC'}. Best is trial 36 with value: 0.6401257385841566.\n",
      "[I 2024-04-14 21:44:20,488] Trial 62 finished with value: 0.4468584965674329 and parameters: {'pagerank_cutoff': 0.9715396893532466, 'despike': True, 'baseline_correct': True, 'smoothing': True, 'scaling': False, 'despike_ma': 40, 'despike_threshold': 8.5, 'asls_lam': 10000, 'asls_p': 0.091, 'window_size': 57, 'smoothing_poly_order': 3, 'classifier': 'SVC'}. Best is trial 36 with value: 0.6401257385841566.\n",
      "[I 2024-04-14 21:44:29,979] Trial 66 finished with value: 0.43231216191674526 and parameters: {'pagerank_cutoff': 0.9572595345155999, 'despike': False, 'baseline_correct': True, 'smoothing': False, 'scaling': False, 'asls_lam': 10000, 'asls_p': 0.017, 'classifier': 'SVC'}. Best is trial 36 with value: 0.6401257385841566.\n",
      "[I 2024-04-14 21:45:14,664] Trial 69 finished with value: 0.47670726260492324 and parameters: {'pagerank_cutoff': 1.0174060363756279, 'despike': True, 'baseline_correct': True, 'smoothing': False, 'scaling': False, 'despike_ma': 54, 'despike_threshold': 5.0, 'asls_lam': 1000, 'asls_p': 0.066, 'classifier': 'SVC'}. Best is trial 36 with value: 0.6401257385841566.\n",
      "[I 2024-04-14 21:45:54,475] Trial 64 finished with value: 0.4725838390646054 and parameters: {'pagerank_cutoff': 0.9454776338491073, 'despike': True, 'baseline_correct': True, 'smoothing': True, 'scaling': False, 'despike_ma': 54, 'despike_threshold': 6.5, 'asls_lam': 1000, 'asls_p': 0.058, 'window_size': 50, 'smoothing_poly_order': 3, 'classifier': 'SVC'}. Best is trial 36 with value: 0.6401257385841566.\n",
      "[I 2024-04-14 21:47:18,803] Trial 67 finished with value: 0.3977560199815263 and parameters: {'pagerank_cutoff': 0.2542943128730168, 'despike': False, 'baseline_correct': True, 'smoothing': False, 'scaling': False, 'asls_lam': 1000, 'asls_p': 0.018000000000000002, 'classifier': 'SVC'}. Best is trial 36 with value: 0.6401257385841566.\n",
      "[I 2024-04-14 21:47:34,511] Trial 70 finished with value: 0.49873441509884664 and parameters: {'pagerank_cutoff': 0.9387598771308578, 'despike': False, 'baseline_correct': True, 'smoothing': False, 'scaling': True, 'asls_lam': 1000, 'asls_p': 0.02, 'scaling_type': 'svn', 'classifier': 'SVC'}. Best is trial 36 with value: 0.6401257385841566.\n",
      "[I 2024-04-14 21:47:38,199] Trial 71 finished with value: 0.5098820134114253 and parameters: {'pagerank_cutoff': 0.9762018601880873, 'despike': False, 'baseline_correct': True, 'smoothing': False, 'scaling': True, 'asls_lam': 1000, 'asls_p': 0.019000000000000003, 'scaling_type': 'svn', 'classifier': 'SVC'}. Best is trial 36 with value: 0.6401257385841566.\n",
      "[I 2024-04-14 21:48:04,292] Trial 72 finished with value: 0.46637131234589224 and parameters: {'pagerank_cutoff': 1.014156094068076, 'despike': True, 'baseline_correct': True, 'smoothing': False, 'scaling': True, 'despike_ma': 56, 'despike_threshold': 6.0, 'asls_lam': 1000, 'asls_p': 0.068, 'scaling_type': 'svn', 'classifier': 'SVC'}. Best is trial 36 with value: 0.6401257385841566.\n",
      "[I 2024-04-14 21:49:07,205] Trial 61 finished with value: 0.46597806881552434 and parameters: {'pagerank_cutoff': 0.2438417093985717, 'despike': True, 'baseline_correct': True, 'smoothing': True, 'scaling': False, 'despike_ma': 37, 'despike_threshold': 8.5, 'asls_lam': 1000, 'asls_p': 0.089, 'window_size': 57, 'smoothing_poly_order': 3, 'classifier': 'SVC'}. Best is trial 36 with value: 0.6401257385841566.\n",
      "[I 2024-04-14 21:50:00,318] Trial 73 finished with value: 0.5900486618205598 and parameters: {'pagerank_cutoff': 0.921651972933027, 'despike': True, 'baseline_correct': True, 'smoothing': False, 'scaling': True, 'despike_ma': 55, 'despike_threshold': 6.5, 'asls_lam': 1000000000, 'asls_p': 0.068, 'scaling_type': 'svn', 'classifier': 'RandomForest'}. Best is trial 36 with value: 0.6401257385841566.\n",
      "[I 2024-04-14 21:50:08,098] Trial 80 finished with value: 0.5054700216730004 and parameters: {'pagerank_cutoff': 0.6507800874875921, 'despike': True, 'baseline_correct': False, 'smoothing': False, 'scaling': True, 'despike_ma': 73, 'despike_threshold': 6.75, 'scaling_type': 'normal', 'classifier': 'RandomForest'}. Best is trial 36 with value: 0.6401257385841566.\n",
      "[I 2024-04-14 21:50:22,054] Trial 79 finished with value: 0.6108802510263815 and parameters: {'pagerank_cutoff': 0.8036907609853917, 'despike': True, 'baseline_correct': False, 'smoothing': False, 'scaling': True, 'despike_ma': 73, 'despike_threshold': 6.5, 'scaling_type': 'svn', 'classifier': 'RandomForest'}. Best is trial 36 with value: 0.6401257385841566.\n",
      "[I 2024-04-14 21:50:49,833] Trial 65 finished with value: 0.4216978552375882 and parameters: {'pagerank_cutoff': 0.2832221881447328, 'despike': True, 'baseline_correct': True, 'smoothing': True, 'scaling': False, 'despike_ma': 54, 'despike_threshold': 6.5, 'asls_lam': 1000, 'asls_p': 0.054, 'window_size': 46, 'smoothing_poly_order': 3, 'classifier': 'SVC'}. Best is trial 36 with value: 0.6401257385841566.\n",
      "[I 2024-04-14 21:50:52,607] Trial 81 finished with value: 0.5355874576192655 and parameters: {'pagerank_cutoff': 0.6704453333103036, 'despike': True, 'baseline_correct': False, 'smoothing': False, 'scaling': True, 'despike_ma': 71, 'despike_threshold': 6.75, 'scaling_type': 'normal', 'classifier': 'RandomForest'}. Best is trial 36 with value: 0.6401257385841566.\n",
      "[I 2024-04-14 21:51:34,367] Trial 75 finished with value: 0.6104251069180822 and parameters: {'pagerank_cutoff': 0.6719414508419023, 'despike': True, 'baseline_correct': True, 'smoothing': False, 'scaling': True, 'despike_ma': 55, 'despike_threshold': 6.5, 'asls_lam': 1000000000, 'asls_p': 0.096, 'scaling_type': 'svn', 'classifier': 'RandomForest'}. Best is trial 36 with value: 0.6401257385841566.\n",
      "[I 2024-04-14 21:51:43,913] Trial 63 finished with value: 0.436980039943163 and parameters: {'pagerank_cutoff': 0.1959176282361626, 'despike': True, 'baseline_correct': True, 'smoothing': True, 'scaling': True, 'despike_ma': 53, 'despike_threshold': 8.5, 'asls_lam': 10000, 'asls_p': 0.060000000000000005, 'window_size': 52, 'smoothing_poly_order': 3, 'scaling_type': 'svn', 'classifier': 'RandomForest'}. Best is trial 36 with value: 0.6401257385841566.\n",
      "[I 2024-04-14 21:52:13,787] Trial 83 finished with value: 0.5365519865954095 and parameters: {'pagerank_cutoff': 0.8263174905307598, 'despike': True, 'baseline_correct': False, 'smoothing': False, 'scaling': True, 'despike_ma': 75, 'despike_threshold': 8.0, 'scaling_type': 'normal', 'classifier': 'RandomForest'}. Best is trial 36 with value: 0.6401257385841566.\n",
      "[I 2024-04-14 21:52:23,942] Trial 74 finished with value: 0.37016413413163535 and parameters: {'pagerank_cutoff': 0.6660806305220588, 'despike': True, 'baseline_correct': True, 'smoothing': False, 'scaling': True, 'despike_ma': 55, 'despike_threshold': 6.5, 'asls_lam': 100, 'asls_p': 0.015, 'scaling_type': 'svn', 'classifier': 'RandomForest'}. Best is trial 36 with value: 0.6401257385841566.\n",
      "[I 2024-04-14 21:52:30,615] Trial 76 finished with value: 0.6013987039331583 and parameters: {'pagerank_cutoff': 0.6642350966021261, 'despike': True, 'baseline_correct': True, 'smoothing': False, 'scaling': True, 'despike_ma': 52, 'despike_threshold': 6.75, 'asls_lam': 1000000000, 'asls_p': 0.097, 'scaling_type': 'svn', 'classifier': 'RandomForest'}. Best is trial 36 with value: 0.6401257385841566.\n",
      "[I 2024-04-14 21:53:01,444] Trial 77 finished with value: 0.6189622570986522 and parameters: {'pagerank_cutoff': 0.6616403725378718, 'despike': True, 'baseline_correct': True, 'smoothing': False, 'scaling': True, 'despike_ma': 73, 'despike_threshold': 6.5, 'asls_lam': 1000000000, 'asls_p': 0.095, 'scaling_type': 'svn', 'classifier': 'RandomForest'}. Best is trial 36 with value: 0.6401257385841566.\n",
      "[I 2024-04-14 21:53:08,017] Trial 87 finished with value: 0.5912613291798642 and parameters: {'pagerank_cutoff': 0.8076424793525897, 'despike': True, 'baseline_correct': False, 'smoothing': False, 'scaling': True, 'despike_ma': 80, 'despike_threshold': 4.75, 'scaling_type': 'svn', 'classifier': 'RandomForest'}. Best is trial 36 with value: 0.6401257385841566.\n",
      "[I 2024-04-14 21:53:14,141] Trial 86 finished with value: 0.5993372433227648 and parameters: {'pagerank_cutoff': 0.7994226748061077, 'despike': True, 'baseline_correct': False, 'smoothing': False, 'scaling': True, 'despike_ma': 74, 'despike_threshold': 4.25, 'scaling_type': 'svn', 'classifier': 'RandomForest'}. Best is trial 36 with value: 0.6401257385841566.\n",
      "[I 2024-04-14 21:53:20,946] Trial 85 finished with value: 0.5844164066762947 and parameters: {'pagerank_cutoff': 0.49294575678188673, 'despike': True, 'baseline_correct': False, 'smoothing': False, 'scaling': True, 'despike_ma': 72, 'despike_threshold': 8.0, 'scaling_type': 'svn', 'classifier': 'RandomForest'}. Best is trial 36 with value: 0.6401257385841566.\n",
      "[I 2024-04-14 21:53:50,812] Trial 78 finished with value: 0.5665657437713216 and parameters: {'pagerank_cutoff': 0.6454260548678843, 'despike': True, 'baseline_correct': True, 'smoothing': False, 'scaling': True, 'despike_ma': 74, 'despike_threshold': 6.5, 'asls_lam': 1000000000, 'asls_p': 0.095, 'scaling_type': 'svn', 'classifier': 'RandomForest'}. Best is trial 36 with value: 0.6401257385841566.\n",
      "[I 2024-04-14 21:53:56,792] Trial 82 finished with value: 0.5768404068810495 and parameters: {'pagerank_cutoff': 0.8029002052932686, 'despike': True, 'baseline_correct': True, 'smoothing': False, 'scaling': True, 'despike_ma': 71, 'despike_threshold': 6.75, 'asls_lam': 1000000000, 'asls_p': 0.096, 'scaling_type': 'normal', 'classifier': 'RandomForest'}. Best is trial 36 with value: 0.6401257385841566.\n",
      "[I 2024-04-14 21:54:02,120] Trial 88 finished with value: 0.5725472814674605 and parameters: {'pagerank_cutoff': 0.7961554061486908, 'despike': True, 'baseline_correct': False, 'smoothing': False, 'scaling': True, 'despike_ma': 83, 'despike_threshold': 4.25, 'scaling_type': 'svn', 'classifier': 'RandomForest'}. Best is trial 36 with value: 0.6401257385841566.\n",
      "[I 2024-04-14 21:54:14,773] Trial 89 finished with value: 0.6139476600044587 and parameters: {'pagerank_cutoff': 0.783863336471545, 'despike': True, 'baseline_correct': False, 'smoothing': False, 'scaling': True, 'despike_ma': 80, 'despike_threshold': 4.25, 'scaling_type': 'svn', 'classifier': 'RandomForest'}. Best is trial 36 with value: 0.6401257385841566.\n",
      "[I 2024-04-14 21:54:35,669] Trial 98 finished with value: 0.5793143585743696 and parameters: {'pagerank_cutoff': 0.8763666778256982, 'despike': False, 'baseline_correct': False, 'smoothing': False, 'scaling': True, 'scaling_type': 'vector', 'classifier': 'RandomForest'}. Best is trial 36 with value: 0.6401257385841566.\n",
      "[I 2024-04-14 21:54:42,083] Trial 90 finished with value: 0.6151929882623562 and parameters: {'pagerank_cutoff': 0.7940793684610823, 'despike': True, 'baseline_correct': False, 'smoothing': False, 'scaling': True, 'despike_ma': 87, 'despike_threshold': 4.75, 'scaling_type': 'svn', 'classifier': 'RandomForest'}. Best is trial 36 with value: 0.6401257385841566.\n",
      "[I 2024-04-14 21:54:48,615] Trial 91 finished with value: 0.5860172340124961 and parameters: {'pagerank_cutoff': 0.7968788782718512, 'despike': True, 'baseline_correct': False, 'smoothing': False, 'scaling': True, 'despike_ma': 83, 'despike_threshold': 4.25, 'scaling_type': 'svn', 'classifier': 'RandomForest'}. Best is trial 36 with value: 0.6401257385841566.\n",
      "[I 2024-04-14 21:54:55,286] Trial 94 finished with value: 0.621727706489995 and parameters: {'pagerank_cutoff': 0.8769801703735276, 'despike': True, 'baseline_correct': False, 'smoothing': False, 'scaling': True, 'despike_ma': 88, 'despike_threshold': 4.25, 'scaling_type': 'svn', 'classifier': 'RandomForest'}. Best is trial 36 with value: 0.6401257385841566.\n",
      "[I 2024-04-14 21:55:00,398] Trial 97 finished with value: 0.5831427769791833 and parameters: {'pagerank_cutoff': 0.8924235018806492, 'despike': True, 'baseline_correct': False, 'smoothing': False, 'scaling': True, 'despike_ma': 59, 'despike_threshold': 5.5, 'scaling_type': 'vector', 'classifier': 'RandomForest'}. Best is trial 36 with value: 0.6401257385841566.\n",
      "[I 2024-04-14 21:55:05,620] Trial 96 finished with value: 0.615843737507483 and parameters: {'pagerank_cutoff': 0.8797498183267665, 'despike': True, 'baseline_correct': False, 'smoothing': False, 'scaling': True, 'despike_ma': 58, 'despike_threshold': 5.5, 'scaling_type': 'svn', 'classifier': 'RandomForest'}. Best is trial 36 with value: 0.6401257385841566.\n",
      "[I 2024-04-14 21:55:13,346] Trial 92 finished with value: 0.6047502826060697 and parameters: {'pagerank_cutoff': 0.5001132961471357, 'despike': True, 'baseline_correct': False, 'smoothing': False, 'scaling': True, 'despike_ma': 85, 'despike_threshold': 4.25, 'scaling_type': 'svn', 'classifier': 'RandomForest'}. Best is trial 36 with value: 0.6401257385841566.\n",
      "[I 2024-04-14 21:55:21,149] Trial 95 finished with value: 0.5822923673607601 and parameters: {'pagerank_cutoff': 0.49568301855147273, 'despike': True, 'baseline_correct': False, 'smoothing': False, 'scaling': True, 'despike_ma': 59, 'despike_threshold': 6.0, 'scaling_type': 'svn', 'classifier': 'RandomForest'}. Best is trial 36 with value: 0.6401257385841566.\n",
      "[I 2024-04-14 21:55:25,469] Trial 93 finished with value: 0.6040121869774638 and parameters: {'pagerank_cutoff': 0.49407244765817987, 'despike': True, 'baseline_correct': False, 'smoothing': False, 'scaling': True, 'despike_ma': 59, 'despike_threshold': 5.0, 'scaling_type': 'svn', 'classifier': 'RandomForest'}. Best is trial 36 with value: 0.6401257385841566.\n",
      "[I 2024-04-14 21:55:31,142] Trial 84 finished with value: 0.6340572810536633 and parameters: {'pagerank_cutoff': 0.7904666737300885, 'despike': True, 'baseline_correct': True, 'smoothing': False, 'scaling': True, 'despike_ma': 74, 'despike_threshold': 8.0, 'asls_lam': 100000000000, 'asls_p': 0.095, 'scaling_type': 'normal', 'classifier': 'RandomForest'}. Best is trial 36 with value: 0.6401257385841566.\n",
      "[I 2024-04-14 21:55:35,527] Trial 99 finished with value: 0.6341258099520262 and parameters: {'pagerank_cutoff': 0.8588359995477943, 'despike': False, 'baseline_correct': True, 'smoothing': False, 'scaling': True, 'asls_lam': 100000000000, 'asls_p': 0.1, 'scaling_type': 'vector', 'classifier': 'RandomForest'}. Best is trial 36 with value: 0.6401257385841566.\n"
     ]
    },
    {
     "name": "stdout",
     "output_type": "stream",
     "text": [
      "FrozenTrial(number=36, state=1, values=[0.6401257385841566], datetime_start=datetime.datetime(2024, 4, 14, 21, 28, 55, 297307), datetime_complete=datetime.datetime(2024, 4, 14, 21, 33, 36, 709987), params={'pagerank_cutoff': 0.6285861712624797, 'despike': True, 'baseline_correct': True, 'smoothing': True, 'scaling': True, 'despike_ma': 64, 'despike_threshold': 7.25, 'asls_lam': 10000000000, 'asls_p': 0.099, 'window_size': 19, 'smoothing_poly_order': 5, 'scaling_type': 'normal', 'classifier': 'RandomForest'}, user_attrs={}, system_attrs={}, intermediate_values={}, distributions={'pagerank_cutoff': FloatDistribution(high=1.5, log=False, low=0.0, step=None), 'despike': CategoricalDistribution(choices=(True, False)), 'baseline_correct': CategoricalDistribution(choices=(True, False)), 'smoothing': CategoricalDistribution(choices=(True, False)), 'scaling': CategoricalDistribution(choices=(True, False)), 'despike_ma': IntDistribution(high=100, log=False, low=5, step=1), 'despike_threshold': FloatDistribution(high=10.0, log=False, low=3.0, step=0.25), 'asls_lam': CategoricalDistribution(choices=(100, 1000, 10000, 100000, 1000000, 10000000, 100000000, 1000000000, 10000000000, 100000000000)), 'asls_p': FloatDistribution(high=0.1, log=False, low=0.001, step=0.001), 'window_size': IntDistribution(high=251, log=False, low=6, step=1), 'smoothing_poly_order': IntDistribution(high=5, log=False, low=1, step=1), 'scaling_type': CategoricalDistribution(choices=('normal', 'vector', 'svn')), 'classifier': CategoricalDistribution(choices=('ExtraTrees', 'RandomForest', 'SVC'))}, trial_id=36, value=None)\n"
     ]
    }
   ],
   "source": [
    "def objective(trial):\n",
    "\n",
    "    # Decide which cleaning steps to implement\n",
    "    pagerank_cutoff = trial.suggest_float('pagerank_cutoff', 0, 1.5)\n",
    "    despike = trial.suggest_categorical('despike', [True, False])\n",
    "    baseline_correct = trial.suggest_categorical('baseline_correct', [True, False])\n",
    "    smoothing = trial.suggest_categorical('smoothing', [True, False])\n",
    "    scaling = trial.suggest_categorical('scaling', [True, False])\n",
    "\n",
    "    df_copy = df.copy()\n",
    "    \n",
    "    # Filter less central spectra in each surface\n",
    "    df_copy = df_copy[df_copy['PageRank'] > pagerank_cutoff]\n",
    "\n",
    "    # Apply preprocessing based on suggested parameters\n",
    "    if despike:\n",
    "        despike_ma = trial.suggest_int('despike_ma', 5, 100)\n",
    "        despike_threshold = trial.suggest_float('despike_threshold', 3, 10, step=0.25)\n",
    "        df_copy['Absorbance'] = df_copy.groupby('SpecID')['Absorbance'].transform(lambda x: despike_group(x, ma=despike_ma, threshold = despike_threshold))\n",
    "\n",
    "    if baseline_correct:\n",
    "\n",
    "        lam = trial.suggest_categorical('asls_lam', [10**2, 10**3, 10**4, 10**5, 10**6, 10**7, 10**8, 10**9, 10**10, 10**11])\n",
    "        p = trial.suggest_float('asls_p', 0.001, 0.1, step=0.001)\n",
    "        df_copy['Baseline'] = df_copy.groupby('SpecID')['Absorbance'].transform(lambda x: asls_baseline_correction(x, lam=lam, p=p))\n",
    "        df_copy['Absorbance'] = df_copy['Absorbance'] - df_copy['Baseline']\n",
    "\n",
    "    if smoothing:\n",
    "        window_size = trial.suggest_int('window_size', 6, 251)\n",
    "        poly_order = trial.suggest_int('smoothing_poly_order', 1, 5)\n",
    "        df_copy['Absorbance'] = df_copy.groupby('SpecID')['Absorbance'].transform(lambda x: savgol_filter(x, window_size, poly_order, deriv=0))\n",
    "\n",
    "    if scaling:\n",
    "        scaling_type = trial.suggest_categorical('scaling_type', ['normal', 'vector', 'svn'])\n",
    "        if scaling_type == 'normal':\n",
    "            df_copy['Absorbance'] = df_copy.groupby('SpecID')['Absorbance'].transform(lambda x: normalise(x))\n",
    "        elif scaling_type == 'vector':\n",
    "            df_copy['Absorbance'] = df_copy.groupby('SpecID')['Absorbance'].transform(lambda x: vector_normalise(x))\n",
    "        else:\n",
    "            df_copy['Absorbance'] = df_copy.groupby('SpecID')['Absorbance'].transform(lambda x: svn_normalise(x))\n",
    "\n",
    "    # Prepare data for ML\n",
    "    wavelength_df = prepare_wavelength_df(df_copy, 'Absorbance')\n",
    "    X = wavelength_df.drop(['Status', 'SurID'], axis=1)\n",
    "    y = wavelength_df['Status']\n",
    "    groups = wavelength_df['SurID']\n",
    "\n",
    "    # Suggest classifier type\n",
    "    classifier_name = trial.suggest_categorical(\"classifier\", [\"ExtraTrees\", \"RandomForest\", \"SVC\"])\n",
    "\n",
    "    if classifier_name == \"ExtraTrees\":\n",
    "        classifier = ExtraTreesClassifier()\n",
    "\n",
    "    elif classifier_name == \"RandomForest\":\n",
    "        classifier = RandomForestClassifier()\n",
    "        \n",
    "    else: # SVC\n",
    "        classifier = SVC()\n",
    "        \n",
    "    cv = GroupKFold(n_splits=10)\n",
    "\n",
    "    # Perform cross-validation\n",
    "    scores = cross_validate(classifier, X, y, groups=groups, cv=cv, scoring='accuracy', n_jobs=-1)\n",
    "\n",
    "    # Return the average accuracy across all folds\n",
    "    return np.mean(scores['test_score'])\n",
    "\n",
    "\n",
    "# sampler = TPESampler(seed=10)  # Make the sampler behave in a deterministic way.\n",
    "# study = optuna.create_study(direction='maximise', sampler=sampler)\n",
    "\n",
    "study = optuna.create_study(direction=\"maximize\")\n",
    "# study.optimize(objective, n_trials=100, n_jobs=-1)\n",
    "study.optimize(objective, n_trials=100, n_jobs=-1)\n",
    "\n",
    "print(study.best_trial)"
   ]
  },
  {
   "cell_type": "code",
   "execution_count": 7,
   "metadata": {},
   "outputs": [],
   "source": [
    "results_df = study.trials_dataframe(attrs=(\"number\", \"value\", \"params\", \"state\"))\n",
    "results_df.to_csv(\"../../data/studies/cleaning+pagerank_groupkfold.csv\")"
   ]
  },
  {
   "cell_type": "code",
   "execution_count": 8,
   "metadata": {},
   "outputs": [
    {
     "data": {
      "text/plain": [
       "['../../data/studies/cleaning+pagerank_groupkfold.pkl']"
      ]
     },
     "execution_count": 8,
     "metadata": {},
     "output_type": "execute_result"
    }
   ],
   "source": [
    "import joblib\n",
    "\n",
    "joblib.dump(study, \"../../data/studies/cleaning+pagerank_groupkfold.pkl\")\n",
    "\n",
    "# loaded_study = joblib.load(\"../../data/studies/cleaning_study.pkl\")\n",
    "# print(\"Best trial until now:\")\n",
    "# print(\" Value: \", loaded_study.best_trial.value)\n",
    "# print(\" Params: \")\n",
    "# for key, value in loaded_study.best_trial.params.items():\n",
    "#     print(f\"    {key}: {value}\")"
   ]
  },
  {
   "cell_type": "code",
   "execution_count": 17,
   "metadata": {},
   "outputs": [
    {
     "name": "stdout",
     "output_type": "stream",
     "text": [
      "FrozenTrial(number=243, state=1, values=[0.680643200225948], datetime_start=datetime.datetime(2024, 4, 14, 22, 37, 9, 424557), datetime_complete=datetime.datetime(2024, 4, 14, 22, 40, 56, 233630), params={'pagerank_cutoff': 0.8240569108542715, 'despike': True, 'baseline_correct': True, 'smoothing': False, 'scaling': True, 'despike_ma': 92, 'despike_threshold': 3.5, 'asls_lam': 100000000000, 'asls_p': 0.1, 'scaling_type': 'svn', 'classifier': 'RandomForest'}, user_attrs={}, system_attrs={}, intermediate_values={}, distributions={'pagerank_cutoff': FloatDistribution(high=1.5, log=False, low=0.0, step=None), 'despike': CategoricalDistribution(choices=(True, False)), 'baseline_correct': CategoricalDistribution(choices=(True, False)), 'smoothing': CategoricalDistribution(choices=(True, False)), 'scaling': CategoricalDistribution(choices=(True, False)), 'despike_ma': IntDistribution(high=100, log=False, low=5, step=1), 'despike_threshold': FloatDistribution(high=10.0, log=False, low=3.0, step=0.25), 'asls_lam': CategoricalDistribution(choices=(100, 1000, 10000, 100000, 1000000, 10000000, 100000000, 1000000000, 10000000000, 100000000000)), 'asls_p': FloatDistribution(high=0.1, log=False, low=0.001, step=0.001), 'scaling_type': CategoricalDistribution(choices=('normal', 'vector', 'svn')), 'classifier': CategoricalDistribution(choices=('ExtraTrees', 'RandomForest', 'SVC'))}, trial_id=243, value=None)\n"
     ]
    }
   ],
   "source": [
    "print(study.best_trial)"
   ]
  },
  {
   "cell_type": "code",
   "execution_count": 16,
   "metadata": {},
   "outputs": [
    {
     "data": {
      "application/vnd.plotly.v1+json": {
       "config": {
        "plotlyServerURL": "https://plot.ly"
       },
       "data": [
        {
         "mode": "markers",
         "name": "Objective Value",
         "type": "scatter",
         "x": [
          0,
          1,
          2,
          3,
          4,
          5,
          6,
          7,
          8,
          9,
          10,
          11,
          12,
          13,
          14,
          15,
          16,
          17,
          18,
          19,
          20,
          21,
          22,
          23,
          24,
          25,
          26,
          27,
          28,
          29,
          30,
          31,
          32,
          33,
          34,
          35,
          36,
          37,
          38,
          39,
          40,
          41,
          42,
          43,
          44,
          45,
          46,
          47,
          48,
          49,
          50,
          51,
          52,
          53,
          54,
          55,
          56,
          57,
          58,
          59,
          60,
          61,
          62,
          63,
          64,
          65,
          66,
          67,
          68,
          69,
          70,
          71,
          72,
          73,
          74,
          75,
          76,
          77,
          78,
          79,
          80,
          81,
          82,
          83,
          84,
          85,
          86,
          87,
          88,
          89,
          90,
          91,
          92,
          93,
          94,
          95,
          96,
          97,
          98,
          99,
          100,
          101,
          102,
          103,
          104,
          105,
          106,
          107,
          108,
          109,
          110,
          111,
          112,
          113,
          114,
          115,
          116,
          117,
          118,
          119,
          120,
          121,
          122,
          123,
          124,
          125,
          126,
          127,
          128,
          129,
          130,
          131,
          132,
          133,
          134,
          135,
          136,
          137,
          138,
          139,
          140,
          141,
          142,
          143,
          144,
          145,
          146,
          147,
          148,
          149,
          150,
          151,
          152,
          153,
          154,
          155,
          156,
          157,
          158,
          159,
          160,
          161,
          162,
          163,
          164,
          165,
          166,
          167,
          168,
          169,
          170,
          171,
          172,
          173,
          174,
          175,
          176,
          177,
          178,
          179,
          180,
          181,
          182,
          183,
          184,
          185,
          186,
          187,
          188,
          189,
          190,
          191,
          192,
          193,
          194,
          195,
          196,
          197,
          198,
          199,
          200,
          201,
          202,
          203,
          204,
          205,
          206,
          207,
          208,
          209,
          210,
          211,
          212,
          213,
          214,
          215,
          216,
          217,
          218,
          219,
          220,
          221,
          222,
          223,
          224,
          225,
          226,
          227,
          228,
          229,
          230,
          231,
          232,
          233,
          234,
          235,
          236,
          237,
          238,
          239,
          240,
          241,
          242,
          243,
          244,
          245,
          246,
          247,
          248,
          249,
          250,
          251,
          252,
          253,
          254,
          255,
          256,
          257,
          258,
          259,
          260,
          261,
          262,
          263,
          264,
          265,
          266,
          267,
          268,
          269,
          270,
          271,
          272,
          273,
          274,
          275,
          276,
          277,
          278,
          279,
          280,
          281,
          282,
          283,
          284,
          285,
          286,
          287,
          288,
          289,
          290,
          291,
          292,
          293,
          294,
          295,
          296,
          297,
          298,
          299,
          300,
          301,
          302,
          303,
          304,
          305,
          306,
          307,
          308,
          309,
          310,
          311,
          312,
          313,
          314,
          315,
          316,
          317,
          318,
          319,
          320,
          321,
          322,
          323,
          324,
          325,
          326,
          327,
          328,
          329,
          330,
          331,
          332,
          333,
          334,
          335,
          336,
          337,
          338,
          339,
          340,
          341,
          342,
          343,
          344,
          345,
          346,
          347,
          348,
          349,
          350,
          351,
          352,
          353,
          354,
          355,
          356,
          357,
          358,
          359,
          360,
          361,
          362,
          363,
          364,
          365,
          366,
          367,
          368,
          369,
          370,
          371,
          372,
          373,
          374,
          375,
          376,
          377,
          378,
          379,
          380,
          381,
          382,
          383,
          384,
          385,
          386,
          387,
          388,
          389,
          390,
          391,
          392,
          393,
          394,
          395,
          396,
          397,
          398,
          399,
          400,
          401,
          402,
          403,
          404,
          405,
          406,
          407,
          408,
          409,
          410,
          411,
          412,
          413,
          414,
          415,
          416,
          417,
          418,
          419,
          420,
          421,
          422,
          423,
          424,
          425,
          426,
          427,
          428,
          429,
          430,
          431,
          432,
          433,
          434,
          435,
          436,
          437,
          438,
          439,
          440,
          441,
          442,
          443,
          444,
          445,
          446,
          447,
          448,
          449,
          450,
          451,
          452,
          453,
          454,
          455,
          456,
          457,
          458,
          459,
          460,
          461,
          462,
          463,
          464,
          465,
          466,
          467,
          468,
          469,
          470,
          471,
          472,
          473,
          474,
          475,
          476,
          477,
          478,
          479,
          480,
          481,
          482,
          483,
          484,
          485,
          486,
          487,
          488,
          489,
          490,
          491,
          492,
          493,
          494,
          495,
          496,
          497,
          498,
          499
         ],
         "y": [
          0.5612466422507747,
          0.6126166197180338,
          0.37431651823313766,
          0.5261269841269842,
          0.542274092791787,
          0.468156685117481,
          0.5887744727179042,
          0.6124556818244843,
          0.6074722066471588,
          0.37426255914628004,
          0.5823966223434287,
          0.5083945179997811,
          0.4240506850718118,
          0.4384890161832873,
          0.3785170181623271,
          0.39472135899070937,
          0.41651248843663274,
          0.5292380952380953,
          0.4716613235633987,
          0.40938416067853006,
          0.5387755243231507,
          0.5580242381700661,
          0.5106351821420321,
          0.5276454714449723,
          0.5309475217482701,
          0.5477796057560196,
          0.5317547286779962,
          0.5626707529711285,
          0.5328117234836602,
          0.5837950046240759,
          0.5926878480105857,
          0.604700033933933,
          0.5777005706676255,
          0.5739695128624627,
          0.5133923375364231,
          0.561040841843513,
          0.6401257385841566,
          0.5958891711027602,
          0.5884734078061304,
          0.5672613795858552,
          0.5733502576801747,
          0.5898786105446547,
          0.5851313172570565,
          0.6014899650529266,
          0.5450445707528103,
          0.5783505672938268,
          0.6022725000365309,
          0.5712932583766681,
          0.6289554730888858,
          0.5863365051609543,
          0.493031504696025,
          0.46174484206546235,
          0.5936994340173316,
          0.5710648630666058,
          0.5492185911363068,
          0.46734855706914863,
          0.5599845186418183,
          0.513803738566027,
          0.5458526988530689,
          0.5470561150153516,
          0.5239381673903709,
          0.46597806881552434,
          0.4468584965674329,
          0.436980039943163,
          0.4725838390646054,
          0.4216978552375882,
          0.43231216191674526,
          0.3977560199815263,
          0.44349286103784225,
          0.47670726260492324,
          0.49873441509884664,
          0.5098820134114253,
          0.46637131234589224,
          0.5900486618205598,
          0.37016413413163535,
          0.6104251069180822,
          0.6013987039331583,
          0.6189622570986522,
          0.5665657437713216,
          0.6108802510263815,
          0.5054700216730004,
          0.5355874576192655,
          0.5768404068810495,
          0.5365519865954095,
          0.6340572810536633,
          0.5844164066762947,
          0.5993372433227648,
          0.5912613291798642,
          0.5725472814674605,
          0.6139476600044587,
          0.6151929882623562,
          0.5860172340124961,
          0.6047502826060697,
          0.6040121869774638,
          0.621727706489995,
          0.5822923673607601,
          0.615843737507483,
          0.5831427769791833,
          0.5793143585743696,
          0.6341258099520262,
          0.5389669379012281,
          0.5786227372685745,
          0.5631321097562981,
          0.5591154167882124,
          0.6047812371897012,
          0.5075132071092399,
          0.560701792050718,
          0.5550822109216893,
          0.5704921773028206,
          0.5546108953350821,
          0.5752874588658488,
          0.5769908373174841,
          0.5665224966022964,
          0.6204744947708296,
          0.5886121082262289,
          0.619054636283649,
          0.571088421647912,
          0.6241336447734447,
          0.6574760731488132,
          0.6555440818425391,
          0.6585768702589372,
          0.6447587162264522,
          0.5798870805946745,
          0.6658554403722705,
          0.6573823968610698,
          0.5890704917222622,
          0.628115495453915,
          0.5933986359771769,
          0.5779002832115714,
          0.6124097710593136,
          0.594268915888652,
          0.6080719061068267,
          0.6353978307493637,
          0.6086297632543781,
          0.6487429031764536,
          0.6040092530595136,
          0.6335493080356576,
          0.6274055094907955,
          0.5497771056531147,
          0.5855496612078966,
          0.6162551391003448,
          0.537931052083614,
          0.5575594333581486,
          0.5500965971148527,
          0.582440040139546,
          0.6544004047077476,
          0.6590904075845156,
          0.5281238110548456,
          0.508133697433958,
          0.6066517910022398,
          0.5804957158481795,
          0.5909747990109528,
          0.5838223749430647,
          0.5979902473005921,
          0.6045335802429784,
          0.6021990862879177,
          0.6092814561136479,
          0.5612818019324319,
          0.5497572454328522,
          0.5079035899281837,
          0.464263719881023,
          0.48461783767101974,
          0.5220370892534449,
          0.612524440395273,
          0.5124154875302683,
          0.5036507948300749,
          0.5413387678441961,
          0.6470382292509046,
          0.469208677473965,
          0.6750667546695998,
          0.6486280555246865,
          0.6409983714302193,
          0.6469296082091758,
          0.6395333274165519,
          0.6504880614700834,
          0.36833555258420086,
          0.6339436838444069,
          0.6523411368363156,
          0.3642147444773374,
          0.3869188049681123,
          0.6280647597725915,
          0.6463600965028258,
          0.3625890562533612,
          0.6252282577669265,
          0.6457605207077955,
          0.6234464830535983,
          0.647678994693287,
          0.6375444674547464,
          0.6366626133305245,
          0.6397545836516425,
          0.61981433273324,
          0.6381822010754237,
          0.6191670494755368,
          0.6141917671591683,
          0.641255147745912,
          0.6350696338884367,
          0.6403796507437646,
          0.6397006671411816,
          0.6462673582840451,
          0.6295493121424747,
          0.5757778744235751,
          0.5534110008034311,
          0.6077601760255942,
          0.646008956757737,
          0.5659701444879424,
          0.6127028552941116,
          0.5396403904279555,
          0.5445778895602892,
          0.5349764857234962,
          0.5533384770709734,
          0.6077796286472874,
          0.5223652760873543,
          0.5726567948463421,
          0.6213004824431453,
          0.5041249286686275,
          0.6262338140904553,
          0.511579500719993,
          0.661636014092578,
          0.5515624888266546,
          0.5248257334107775,
          0.4982142778678714,
          0.6515311087608734,
          0.6519494045666497,
          0.6414788488017569,
          0.6095020695812051,
          0.6250222337866538,
          0.632297053007982,
          0.6328895707501782,
          0.6497888931704452,
          0.623494590316483,
          0.6738885238308173,
          0.6689734960337917,
          0.6740446920356489,
          0.6264392725506678,
          0.6580680276251237,
          0.6389616976565423,
          0.6384883604678158,
          0.6636304439477017,
          0.6658215134165809,
          0.6564289205363195,
          0.6538845587476321,
          0.6327253017004609,
          0.6559667861540041,
          0.680643200225948,
          0.6559477734489174,
          0.623805830848978,
          0.6572231933685597,
          0.6690465706945453,
          0.6312958429651103,
          0.6608580484558959,
          0.6187339582869906,
          0.41153774752475253,
          0.6700574616148599,
          0.669499592229821,
          0.6587195539263482,
          0.6427077542340701,
          0.6304173525153425,
          0.5461230566964669,
          0.4593720923759502,
          0.40277469261989773,
          0.5562007059939548,
          0.5263243956404396,
          0.5949964260856759,
          0.5802466315276761,
          0.5677507912400557,
          0.5268853820001868,
          0.5382625110623037,
          0.5833327219290115,
          0.5937719768547891,
          0.5768590625276668,
          0.6320780339495224,
          0.6471068634886283,
          0.6420735292824535,
          0.6417399991122017,
          0.6502815317194297,
          0.5989474187327504,
          0.6034001538304049,
          0.5988019397973756,
          0.6026471921038505,
          0.531658280060714,
          0.531658280060714,
          0.6210725033527614,
          0.6019239900415194,
          0.6053947237608187,
          0.6154707932675232,
          0.5436552093158469,
          0.6463205162310627,
          0.5982947728195007,
          0.6426472069893834,
          0.6331854412469372,
          0.6379195558321097,
          0.6236576920791815,
          0.646101954280291,
          0.6051781581554654,
          0.5652988850539662,
          0.6149611167817735,
          0.6528649225319358,
          0.6711949716992425,
          0.6518865103401028,
          0.6083800046701141,
          0.6374400008977582,
          0.6433943620576139,
          0.6605913778877888,
          0.5116921768707483,
          0.6234609720090618,
          0.6637287056870594,
          0.6507672049771384,
          0.3809831203654161,
          0.6507977770008871,
          0.36222222459959574,
          0.6734310822864518,
          0.3862737839214446,
          0.3734812030075188,
          0.37419390882578185,
          0.37090621361257675,
          0.3621333047277477,
          0.3608008813037806,
          0.4283174603174603,
          0.3630168155807348,
          0.5907301587301588,
          0.36777835967802264,
          0.6554064749543536,
          0.6539557780905066,
          0.36552826538069727,
          0.586936507936508,
          0.6315897169122371,
          0.337573101749064,
          0.6590693788575874,
          0.6399083979666902,
          0.6383534300321635,
          0.6452853940027934,
          0.6591064763610825,
          0.6369854130715621,
          0.6562444985399031,
          0.6226352728365511,
          0.6270108995385815,
          0.6242286555388531,
          0.6434231106037438,
          0.6430714648651568,
          0.6568326193880225,
          0.6407175220231356,
          0.6243904884484,
          0.6251458606001288,
          0.640727290050491,
          0.6545823577405163,
          0.6554024915279452,
          0.6476004325205412,
          0.617369100043873,
          0.6460249845569359,
          0.6401479717729449,
          0.44123831936269386,
          0.6590331889955122,
          0.45489554172382507,
          0.4318536340939617,
          0.6607816214733366,
          0.6503025198420483,
          0.37975451187961806,
          0.6414586077774436,
          0.6597116582441919,
          0.6494137374858239,
          0.3944678394481478,
          0.4011632275645999,
          0.5780371891109579,
          0.5656091402285057,
          0.5562926533420798,
          0.517880589380862,
          0.5820525661257963,
          0.6563530216831103,
          0.49783484109641873,
          0.6609483670331332,
          0.6600489724067257,
          0.6351162694539634,
          0.6635823173267291,
          0.6401247680290608,
          0.6293234789481443,
          0.6340031369656989,
          0.6404654804480002,
          0.642293848868762,
          0.6618524165393982,
          0.6400733778956298,
          0.6563629724747883,
          0.620159791627998,
          0.6376019314405786,
          0.6307693625750658,
          0.654098686004567,
          0.6368348065029392,
          0.6632329327828532,
          0.6148951844735998,
          0.6629164079383182,
          0.6016410235361523,
          0.6532360312211962,
          0.6431722837270193,
          0.6290565893820793,
          0.6484750924473902,
          0.52511529811467,
          0.5290575931954228,
          0.649139849553069,
          0.5338680445230967,
          0.6797205119432758,
          0.6592193400543953,
          0.6743619615555941,
          0.6636089941711207,
          0.6412555148615476,
          0.654400056803454,
          0.6409817501220376,
          0.6206226297354194,
          0.6158686692879303,
          0.6494294505634701,
          0.6556072342555248,
          0.6115572640969505,
          0.6065711145411187,
          0.6253104932436074,
          0.6582747886459079,
          0.6427073272945474,
          0.5929643088510995,
          0.6065658687291032,
          0.6463624478135586,
          0.6569381461323399,
          0.6231748324813945,
          0.6290876053250594,
          0.5917223394192448,
          0.6042909482996809,
          0.5986956606523393,
          0.6287753930914766,
          0.6207438543951949,
          0.6321714588150023,
          0.6430206106475344,
          0.6570983353724016,
          0.6410460858236636,
          0.5395348079199764,
          0.5415743967017496,
          0.5477749162537007,
          0.5389506237203276,
          0.6511599213768392,
          0.5788906686743267,
          0.6605751720251989,
          0.6463489152173363,
          0.623845797709677,
          0.6222933370631083,
          0.6540762530234836,
          0.6561329342672234,
          0.6464697516079918,
          0.6535644706866435,
          0.5109986353871129,
          0.4854298885699776,
          0.6539291947368728,
          0.6495869365061562,
          0.6269790120231564,
          0.6588889448927773,
          0.4687631219438929,
          0.5076351782435597,
          0.592377646286845,
          0.596333834739235,
          0.5876120533324507,
          0.4677136199822424,
          0.5234059264371351,
          0.5198959229194775,
          0.49151248765193484,
          0.5375793029774177,
          0.5038967133803434,
          0.48345007204230506,
          0.49262443661744515,
          0.6504714492459808,
          0.5100495628195812,
          0.6378933356673578,
          0.4697307416483933,
          0.6285227436508155,
          0.36424675031830467,
          0.6442760198926167,
          0.6498516451184841,
          0.4617825748023434,
          0.6438307041147964,
          0.6354210097469981,
          0.5826493693102137,
          0.6343584176807437,
          0.5967201164208861,
          0.6725095545627483,
          0.6063422001523393,
          0.643775971332692,
          0.6509397572375614,
          0.6621048792375807,
          0.6162631866641937,
          0.555677829907282,
          0.6110685924377283,
          0.5859598340843306,
          0.5918533321981905,
          0.6098700060715176,
          0.5712132256112068,
          0.5574003136768965,
          0.6153951109686399,
          0.583180845471064,
          0.5676934350171288,
          0.5789061832722554,
          0.6288069390916722,
          0.6439392714292426,
          0.6397106054273157,
          0.631421298364972,
          0.6518877218809407,
          0.6460029738874711,
          0.6591927499613263
         ]
        },
        {
         "mode": "lines",
         "name": "Best Value",
         "type": "scatter",
         "x": [
          0,
          1,
          2,
          3,
          4,
          5,
          6,
          7,
          8,
          9,
          10,
          11,
          12,
          13,
          14,
          15,
          16,
          17,
          18,
          19,
          20,
          21,
          22,
          23,
          24,
          25,
          26,
          27,
          28,
          29,
          30,
          31,
          32,
          33,
          34,
          35,
          36,
          37,
          38,
          39,
          40,
          41,
          42,
          43,
          44,
          45,
          46,
          47,
          48,
          49,
          50,
          51,
          52,
          53,
          54,
          55,
          56,
          57,
          58,
          59,
          60,
          61,
          62,
          63,
          64,
          65,
          66,
          67,
          68,
          69,
          70,
          71,
          72,
          73,
          74,
          75,
          76,
          77,
          78,
          79,
          80,
          81,
          82,
          83,
          84,
          85,
          86,
          87,
          88,
          89,
          90,
          91,
          92,
          93,
          94,
          95,
          96,
          97,
          98,
          99,
          100,
          101,
          102,
          103,
          104,
          105,
          106,
          107,
          108,
          109,
          110,
          111,
          112,
          113,
          114,
          115,
          116,
          117,
          118,
          119,
          120,
          121,
          122,
          123,
          124,
          125,
          126,
          127,
          128,
          129,
          130,
          131,
          132,
          133,
          134,
          135,
          136,
          137,
          138,
          139,
          140,
          141,
          142,
          143,
          144,
          145,
          146,
          147,
          148,
          149,
          150,
          151,
          152,
          153,
          154,
          155,
          156,
          157,
          158,
          159,
          160,
          161,
          162,
          163,
          164,
          165,
          166,
          167,
          168,
          169,
          170,
          171,
          172,
          173,
          174,
          175,
          176,
          177,
          178,
          179,
          180,
          181,
          182,
          183,
          184,
          185,
          186,
          187,
          188,
          189,
          190,
          191,
          192,
          193,
          194,
          195,
          196,
          197,
          198,
          199,
          200,
          201,
          202,
          203,
          204,
          205,
          206,
          207,
          208,
          209,
          210,
          211,
          212,
          213,
          214,
          215,
          216,
          217,
          218,
          219,
          220,
          221,
          222,
          223,
          224,
          225,
          226,
          227,
          228,
          229,
          230,
          231,
          232,
          233,
          234,
          235,
          236,
          237,
          238,
          239,
          240,
          241,
          242,
          243,
          244,
          245,
          246,
          247,
          248,
          249,
          250,
          251,
          252,
          253,
          254,
          255,
          256,
          257,
          258,
          259,
          260,
          261,
          262,
          263,
          264,
          265,
          266,
          267,
          268,
          269,
          270,
          271,
          272,
          273,
          274,
          275,
          276,
          277,
          278,
          279,
          280,
          281,
          282,
          283,
          284,
          285,
          286,
          287,
          288,
          289,
          290,
          291,
          292,
          293,
          294,
          295,
          296,
          297,
          298,
          299,
          300,
          301,
          302,
          303,
          304,
          305,
          306,
          307,
          308,
          309,
          310,
          311,
          312,
          313,
          314,
          315,
          316,
          317,
          318,
          319,
          320,
          321,
          322,
          323,
          324,
          325,
          326,
          327,
          328,
          329,
          330,
          331,
          332,
          333,
          334,
          335,
          336,
          337,
          338,
          339,
          340,
          341,
          342,
          343,
          344,
          345,
          346,
          347,
          348,
          349,
          350,
          351,
          352,
          353,
          354,
          355,
          356,
          357,
          358,
          359,
          360,
          361,
          362,
          363,
          364,
          365,
          366,
          367,
          368,
          369,
          370,
          371,
          372,
          373,
          374,
          375,
          376,
          377,
          378,
          379,
          380,
          381,
          382,
          383,
          384,
          385,
          386,
          387,
          388,
          389,
          390,
          391,
          392,
          393,
          394,
          395,
          396,
          397,
          398,
          399,
          400,
          401,
          402,
          403,
          404,
          405,
          406,
          407,
          408,
          409,
          410,
          411,
          412,
          413,
          414,
          415,
          416,
          417,
          418,
          419,
          420,
          421,
          422,
          423,
          424,
          425,
          426,
          427,
          428,
          429,
          430,
          431,
          432,
          433,
          434,
          435,
          436,
          437,
          438,
          439,
          440,
          441,
          442,
          443,
          444,
          445,
          446,
          447,
          448,
          449,
          450,
          451,
          452,
          453,
          454,
          455,
          456,
          457,
          458,
          459,
          460,
          461,
          462,
          463,
          464,
          465,
          466,
          467,
          468,
          469,
          470,
          471,
          472,
          473,
          474,
          475,
          476,
          477,
          478,
          479,
          480,
          481,
          482,
          483,
          484,
          485,
          486,
          487,
          488,
          489,
          490,
          491,
          492,
          493,
          494,
          495,
          496,
          497,
          498,
          499
         ],
         "y": [
          0.5612466422507747,
          0.6126166197180338,
          0.6126166197180338,
          0.6126166197180338,
          0.6126166197180338,
          0.6126166197180338,
          0.6126166197180338,
          0.6126166197180338,
          0.6126166197180338,
          0.6126166197180338,
          0.6126166197180338,
          0.6126166197180338,
          0.6126166197180338,
          0.6126166197180338,
          0.6126166197180338,
          0.6126166197180338,
          0.6126166197180338,
          0.6126166197180338,
          0.6126166197180338,
          0.6126166197180338,
          0.6126166197180338,
          0.6126166197180338,
          0.6126166197180338,
          0.6126166197180338,
          0.6126166197180338,
          0.6126166197180338,
          0.6126166197180338,
          0.6126166197180338,
          0.6126166197180338,
          0.6126166197180338,
          0.6126166197180338,
          0.6126166197180338,
          0.6126166197180338,
          0.6126166197180338,
          0.6126166197180338,
          0.6126166197180338,
          0.6401257385841566,
          0.6401257385841566,
          0.6401257385841566,
          0.6401257385841566,
          0.6401257385841566,
          0.6401257385841566,
          0.6401257385841566,
          0.6401257385841566,
          0.6401257385841566,
          0.6401257385841566,
          0.6401257385841566,
          0.6401257385841566,
          0.6401257385841566,
          0.6401257385841566,
          0.6401257385841566,
          0.6401257385841566,
          0.6401257385841566,
          0.6401257385841566,
          0.6401257385841566,
          0.6401257385841566,
          0.6401257385841566,
          0.6401257385841566,
          0.6401257385841566,
          0.6401257385841566,
          0.6401257385841566,
          0.6401257385841566,
          0.6401257385841566,
          0.6401257385841566,
          0.6401257385841566,
          0.6401257385841566,
          0.6401257385841566,
          0.6401257385841566,
          0.6401257385841566,
          0.6401257385841566,
          0.6401257385841566,
          0.6401257385841566,
          0.6401257385841566,
          0.6401257385841566,
          0.6401257385841566,
          0.6401257385841566,
          0.6401257385841566,
          0.6401257385841566,
          0.6401257385841566,
          0.6401257385841566,
          0.6401257385841566,
          0.6401257385841566,
          0.6401257385841566,
          0.6401257385841566,
          0.6401257385841566,
          0.6401257385841566,
          0.6401257385841566,
          0.6401257385841566,
          0.6401257385841566,
          0.6401257385841566,
          0.6401257385841566,
          0.6401257385841566,
          0.6401257385841566,
          0.6401257385841566,
          0.6401257385841566,
          0.6401257385841566,
          0.6401257385841566,
          0.6401257385841566,
          0.6401257385841566,
          0.6401257385841566,
          0.6401257385841566,
          0.6401257385841566,
          0.6401257385841566,
          0.6401257385841566,
          0.6401257385841566,
          0.6401257385841566,
          0.6401257385841566,
          0.6401257385841566,
          0.6401257385841566,
          0.6401257385841566,
          0.6401257385841566,
          0.6401257385841566,
          0.6401257385841566,
          0.6401257385841566,
          0.6401257385841566,
          0.6401257385841566,
          0.6401257385841566,
          0.6401257385841566,
          0.6574760731488132,
          0.6574760731488132,
          0.6585768702589372,
          0.6585768702589372,
          0.6585768702589372,
          0.6658554403722705,
          0.6658554403722705,
          0.6658554403722705,
          0.6658554403722705,
          0.6658554403722705,
          0.6658554403722705,
          0.6658554403722705,
          0.6658554403722705,
          0.6658554403722705,
          0.6658554403722705,
          0.6658554403722705,
          0.6658554403722705,
          0.6658554403722705,
          0.6658554403722705,
          0.6658554403722705,
          0.6658554403722705,
          0.6658554403722705,
          0.6658554403722705,
          0.6658554403722705,
          0.6658554403722705,
          0.6658554403722705,
          0.6658554403722705,
          0.6658554403722705,
          0.6658554403722705,
          0.6658554403722705,
          0.6658554403722705,
          0.6658554403722705,
          0.6658554403722705,
          0.6658554403722705,
          0.6658554403722705,
          0.6658554403722705,
          0.6658554403722705,
          0.6658554403722705,
          0.6658554403722705,
          0.6658554403722705,
          0.6658554403722705,
          0.6658554403722705,
          0.6658554403722705,
          0.6658554403722705,
          0.6658554403722705,
          0.6658554403722705,
          0.6658554403722705,
          0.6658554403722705,
          0.6658554403722705,
          0.6658554403722705,
          0.6658554403722705,
          0.6750667546695998,
          0.6750667546695998,
          0.6750667546695998,
          0.6750667546695998,
          0.6750667546695998,
          0.6750667546695998,
          0.6750667546695998,
          0.6750667546695998,
          0.6750667546695998,
          0.6750667546695998,
          0.6750667546695998,
          0.6750667546695998,
          0.6750667546695998,
          0.6750667546695998,
          0.6750667546695998,
          0.6750667546695998,
          0.6750667546695998,
          0.6750667546695998,
          0.6750667546695998,
          0.6750667546695998,
          0.6750667546695998,
          0.6750667546695998,
          0.6750667546695998,
          0.6750667546695998,
          0.6750667546695998,
          0.6750667546695998,
          0.6750667546695998,
          0.6750667546695998,
          0.6750667546695998,
          0.6750667546695998,
          0.6750667546695998,
          0.6750667546695998,
          0.6750667546695998,
          0.6750667546695998,
          0.6750667546695998,
          0.6750667546695998,
          0.6750667546695998,
          0.6750667546695998,
          0.6750667546695998,
          0.6750667546695998,
          0.6750667546695998,
          0.6750667546695998,
          0.6750667546695998,
          0.6750667546695998,
          0.6750667546695998,
          0.6750667546695998,
          0.6750667546695998,
          0.6750667546695998,
          0.6750667546695998,
          0.6750667546695998,
          0.6750667546695998,
          0.6750667546695998,
          0.6750667546695998,
          0.6750667546695998,
          0.6750667546695998,
          0.6750667546695998,
          0.6750667546695998,
          0.6750667546695998,
          0.6750667546695998,
          0.6750667546695998,
          0.6750667546695998,
          0.6750667546695998,
          0.6750667546695998,
          0.6750667546695998,
          0.6750667546695998,
          0.6750667546695998,
          0.6750667546695998,
          0.6750667546695998,
          0.6750667546695998,
          0.6750667546695998,
          0.6750667546695998,
          0.6750667546695998,
          0.6750667546695998,
          0.6750667546695998,
          0.680643200225948,
          0.680643200225948,
          0.680643200225948,
          0.680643200225948,
          0.680643200225948,
          0.680643200225948,
          0.680643200225948,
          0.680643200225948,
          0.680643200225948,
          0.680643200225948,
          0.680643200225948,
          0.680643200225948,
          0.680643200225948,
          0.680643200225948,
          0.680643200225948,
          0.680643200225948,
          0.680643200225948,
          0.680643200225948,
          0.680643200225948,
          0.680643200225948,
          0.680643200225948,
          0.680643200225948,
          0.680643200225948,
          0.680643200225948,
          0.680643200225948,
          0.680643200225948,
          0.680643200225948,
          0.680643200225948,
          0.680643200225948,
          0.680643200225948,
          0.680643200225948,
          0.680643200225948,
          0.680643200225948,
          0.680643200225948,
          0.680643200225948,
          0.680643200225948,
          0.680643200225948,
          0.680643200225948,
          0.680643200225948,
          0.680643200225948,
          0.680643200225948,
          0.680643200225948,
          0.680643200225948,
          0.680643200225948,
          0.680643200225948,
          0.680643200225948,
          0.680643200225948,
          0.680643200225948,
          0.680643200225948,
          0.680643200225948,
          0.680643200225948,
          0.680643200225948,
          0.680643200225948,
          0.680643200225948,
          0.680643200225948,
          0.680643200225948,
          0.680643200225948,
          0.680643200225948,
          0.680643200225948,
          0.680643200225948,
          0.680643200225948,
          0.680643200225948,
          0.680643200225948,
          0.680643200225948,
          0.680643200225948,
          0.680643200225948,
          0.680643200225948,
          0.680643200225948,
          0.680643200225948,
          0.680643200225948,
          0.680643200225948,
          0.680643200225948,
          0.680643200225948,
          0.680643200225948,
          0.680643200225948,
          0.680643200225948,
          0.680643200225948,
          0.680643200225948,
          0.680643200225948,
          0.680643200225948,
          0.680643200225948,
          0.680643200225948,
          0.680643200225948,
          0.680643200225948,
          0.680643200225948,
          0.680643200225948,
          0.680643200225948,
          0.680643200225948,
          0.680643200225948,
          0.680643200225948,
          0.680643200225948,
          0.680643200225948,
          0.680643200225948,
          0.680643200225948,
          0.680643200225948,
          0.680643200225948,
          0.680643200225948,
          0.680643200225948,
          0.680643200225948,
          0.680643200225948,
          0.680643200225948,
          0.680643200225948,
          0.680643200225948,
          0.680643200225948,
          0.680643200225948,
          0.680643200225948,
          0.680643200225948,
          0.680643200225948,
          0.680643200225948,
          0.680643200225948,
          0.680643200225948,
          0.680643200225948,
          0.680643200225948,
          0.680643200225948,
          0.680643200225948,
          0.680643200225948,
          0.680643200225948,
          0.680643200225948,
          0.680643200225948,
          0.680643200225948,
          0.680643200225948,
          0.680643200225948,
          0.680643200225948,
          0.680643200225948,
          0.680643200225948,
          0.680643200225948,
          0.680643200225948,
          0.680643200225948,
          0.680643200225948,
          0.680643200225948,
          0.680643200225948,
          0.680643200225948,
          0.680643200225948,
          0.680643200225948,
          0.680643200225948,
          0.680643200225948,
          0.680643200225948,
          0.680643200225948,
          0.680643200225948,
          0.680643200225948,
          0.680643200225948,
          0.680643200225948,
          0.680643200225948,
          0.680643200225948,
          0.680643200225948,
          0.680643200225948,
          0.680643200225948,
          0.680643200225948,
          0.680643200225948,
          0.680643200225948,
          0.680643200225948,
          0.680643200225948,
          0.680643200225948,
          0.680643200225948,
          0.680643200225948,
          0.680643200225948,
          0.680643200225948,
          0.680643200225948,
          0.680643200225948,
          0.680643200225948,
          0.680643200225948,
          0.680643200225948,
          0.680643200225948,
          0.680643200225948,
          0.680643200225948,
          0.680643200225948,
          0.680643200225948,
          0.680643200225948,
          0.680643200225948,
          0.680643200225948,
          0.680643200225948,
          0.680643200225948,
          0.680643200225948,
          0.680643200225948,
          0.680643200225948,
          0.680643200225948,
          0.680643200225948,
          0.680643200225948,
          0.680643200225948,
          0.680643200225948,
          0.680643200225948,
          0.680643200225948,
          0.680643200225948,
          0.680643200225948,
          0.680643200225948,
          0.680643200225948,
          0.680643200225948,
          0.680643200225948,
          0.680643200225948,
          0.680643200225948,
          0.680643200225948,
          0.680643200225948,
          0.680643200225948,
          0.680643200225948,
          0.680643200225948,
          0.680643200225948,
          0.680643200225948,
          0.680643200225948,
          0.680643200225948,
          0.680643200225948,
          0.680643200225948,
          0.680643200225948,
          0.680643200225948,
          0.680643200225948,
          0.680643200225948,
          0.680643200225948,
          0.680643200225948,
          0.680643200225948,
          0.680643200225948,
          0.680643200225948,
          0.680643200225948,
          0.680643200225948,
          0.680643200225948,
          0.680643200225948,
          0.680643200225948,
          0.680643200225948,
          0.680643200225948,
          0.680643200225948,
          0.680643200225948,
          0.680643200225948,
          0.680643200225948,
          0.680643200225948,
          0.680643200225948,
          0.680643200225948,
          0.680643200225948,
          0.680643200225948,
          0.680643200225948,
          0.680643200225948,
          0.680643200225948,
          0.680643200225948,
          0.680643200225948,
          0.680643200225948,
          0.680643200225948,
          0.680643200225948,
          0.680643200225948,
          0.680643200225948,
          0.680643200225948,
          0.680643200225948,
          0.680643200225948,
          0.680643200225948,
          0.680643200225948,
          0.680643200225948,
          0.680643200225948,
          0.680643200225948,
          0.680643200225948,
          0.680643200225948,
          0.680643200225948,
          0.680643200225948,
          0.680643200225948,
          0.680643200225948,
          0.680643200225948,
          0.680643200225948,
          0.680643200225948,
          0.680643200225948,
          0.680643200225948,
          0.680643200225948,
          0.680643200225948
         ]
        },
        {
         "marker": {
          "color": "#cccccc"
         },
         "mode": "markers",
         "name": "Infeasible Trial",
         "showlegend": false,
         "type": "scatter",
         "x": [],
         "y": []
        }
       ],
       "layout": {
        "template": {
         "data": {
          "bar": [
           {
            "error_x": {
             "color": "#2a3f5f"
            },
            "error_y": {
             "color": "#2a3f5f"
            },
            "marker": {
             "line": {
              "color": "#E5ECF6",
              "width": 0.5
             },
             "pattern": {
              "fillmode": "overlay",
              "size": 10,
              "solidity": 0.2
             }
            },
            "type": "bar"
           }
          ],
          "barpolar": [
           {
            "marker": {
             "line": {
              "color": "#E5ECF6",
              "width": 0.5
             },
             "pattern": {
              "fillmode": "overlay",
              "size": 10,
              "solidity": 0.2
             }
            },
            "type": "barpolar"
           }
          ],
          "carpet": [
           {
            "aaxis": {
             "endlinecolor": "#2a3f5f",
             "gridcolor": "white",
             "linecolor": "white",
             "minorgridcolor": "white",
             "startlinecolor": "#2a3f5f"
            },
            "baxis": {
             "endlinecolor": "#2a3f5f",
             "gridcolor": "white",
             "linecolor": "white",
             "minorgridcolor": "white",
             "startlinecolor": "#2a3f5f"
            },
            "type": "carpet"
           }
          ],
          "choropleth": [
           {
            "colorbar": {
             "outlinewidth": 0,
             "ticks": ""
            },
            "type": "choropleth"
           }
          ],
          "contour": [
           {
            "colorbar": {
             "outlinewidth": 0,
             "ticks": ""
            },
            "colorscale": [
             [
              0,
              "#0d0887"
             ],
             [
              0.1111111111111111,
              "#46039f"
             ],
             [
              0.2222222222222222,
              "#7201a8"
             ],
             [
              0.3333333333333333,
              "#9c179e"
             ],
             [
              0.4444444444444444,
              "#bd3786"
             ],
             [
              0.5555555555555556,
              "#d8576b"
             ],
             [
              0.6666666666666666,
              "#ed7953"
             ],
             [
              0.7777777777777778,
              "#fb9f3a"
             ],
             [
              0.8888888888888888,
              "#fdca26"
             ],
             [
              1,
              "#f0f921"
             ]
            ],
            "type": "contour"
           }
          ],
          "contourcarpet": [
           {
            "colorbar": {
             "outlinewidth": 0,
             "ticks": ""
            },
            "type": "contourcarpet"
           }
          ],
          "heatmap": [
           {
            "colorbar": {
             "outlinewidth": 0,
             "ticks": ""
            },
            "colorscale": [
             [
              0,
              "#0d0887"
             ],
             [
              0.1111111111111111,
              "#46039f"
             ],
             [
              0.2222222222222222,
              "#7201a8"
             ],
             [
              0.3333333333333333,
              "#9c179e"
             ],
             [
              0.4444444444444444,
              "#bd3786"
             ],
             [
              0.5555555555555556,
              "#d8576b"
             ],
             [
              0.6666666666666666,
              "#ed7953"
             ],
             [
              0.7777777777777778,
              "#fb9f3a"
             ],
             [
              0.8888888888888888,
              "#fdca26"
             ],
             [
              1,
              "#f0f921"
             ]
            ],
            "type": "heatmap"
           }
          ],
          "heatmapgl": [
           {
            "colorbar": {
             "outlinewidth": 0,
             "ticks": ""
            },
            "colorscale": [
             [
              0,
              "#0d0887"
             ],
             [
              0.1111111111111111,
              "#46039f"
             ],
             [
              0.2222222222222222,
              "#7201a8"
             ],
             [
              0.3333333333333333,
              "#9c179e"
             ],
             [
              0.4444444444444444,
              "#bd3786"
             ],
             [
              0.5555555555555556,
              "#d8576b"
             ],
             [
              0.6666666666666666,
              "#ed7953"
             ],
             [
              0.7777777777777778,
              "#fb9f3a"
             ],
             [
              0.8888888888888888,
              "#fdca26"
             ],
             [
              1,
              "#f0f921"
             ]
            ],
            "type": "heatmapgl"
           }
          ],
          "histogram": [
           {
            "marker": {
             "pattern": {
              "fillmode": "overlay",
              "size": 10,
              "solidity": 0.2
             }
            },
            "type": "histogram"
           }
          ],
          "histogram2d": [
           {
            "colorbar": {
             "outlinewidth": 0,
             "ticks": ""
            },
            "colorscale": [
             [
              0,
              "#0d0887"
             ],
             [
              0.1111111111111111,
              "#46039f"
             ],
             [
              0.2222222222222222,
              "#7201a8"
             ],
             [
              0.3333333333333333,
              "#9c179e"
             ],
             [
              0.4444444444444444,
              "#bd3786"
             ],
             [
              0.5555555555555556,
              "#d8576b"
             ],
             [
              0.6666666666666666,
              "#ed7953"
             ],
             [
              0.7777777777777778,
              "#fb9f3a"
             ],
             [
              0.8888888888888888,
              "#fdca26"
             ],
             [
              1,
              "#f0f921"
             ]
            ],
            "type": "histogram2d"
           }
          ],
          "histogram2dcontour": [
           {
            "colorbar": {
             "outlinewidth": 0,
             "ticks": ""
            },
            "colorscale": [
             [
              0,
              "#0d0887"
             ],
             [
              0.1111111111111111,
              "#46039f"
             ],
             [
              0.2222222222222222,
              "#7201a8"
             ],
             [
              0.3333333333333333,
              "#9c179e"
             ],
             [
              0.4444444444444444,
              "#bd3786"
             ],
             [
              0.5555555555555556,
              "#d8576b"
             ],
             [
              0.6666666666666666,
              "#ed7953"
             ],
             [
              0.7777777777777778,
              "#fb9f3a"
             ],
             [
              0.8888888888888888,
              "#fdca26"
             ],
             [
              1,
              "#f0f921"
             ]
            ],
            "type": "histogram2dcontour"
           }
          ],
          "mesh3d": [
           {
            "colorbar": {
             "outlinewidth": 0,
             "ticks": ""
            },
            "type": "mesh3d"
           }
          ],
          "parcoords": [
           {
            "line": {
             "colorbar": {
              "outlinewidth": 0,
              "ticks": ""
             }
            },
            "type": "parcoords"
           }
          ],
          "pie": [
           {
            "automargin": true,
            "type": "pie"
           }
          ],
          "scatter": [
           {
            "fillpattern": {
             "fillmode": "overlay",
             "size": 10,
             "solidity": 0.2
            },
            "type": "scatter"
           }
          ],
          "scatter3d": [
           {
            "line": {
             "colorbar": {
              "outlinewidth": 0,
              "ticks": ""
             }
            },
            "marker": {
             "colorbar": {
              "outlinewidth": 0,
              "ticks": ""
             }
            },
            "type": "scatter3d"
           }
          ],
          "scattercarpet": [
           {
            "marker": {
             "colorbar": {
              "outlinewidth": 0,
              "ticks": ""
             }
            },
            "type": "scattercarpet"
           }
          ],
          "scattergeo": [
           {
            "marker": {
             "colorbar": {
              "outlinewidth": 0,
              "ticks": ""
             }
            },
            "type": "scattergeo"
           }
          ],
          "scattergl": [
           {
            "marker": {
             "colorbar": {
              "outlinewidth": 0,
              "ticks": ""
             }
            },
            "type": "scattergl"
           }
          ],
          "scattermapbox": [
           {
            "marker": {
             "colorbar": {
              "outlinewidth": 0,
              "ticks": ""
             }
            },
            "type": "scattermapbox"
           }
          ],
          "scatterpolar": [
           {
            "marker": {
             "colorbar": {
              "outlinewidth": 0,
              "ticks": ""
             }
            },
            "type": "scatterpolar"
           }
          ],
          "scatterpolargl": [
           {
            "marker": {
             "colorbar": {
              "outlinewidth": 0,
              "ticks": ""
             }
            },
            "type": "scatterpolargl"
           }
          ],
          "scatterternary": [
           {
            "marker": {
             "colorbar": {
              "outlinewidth": 0,
              "ticks": ""
             }
            },
            "type": "scatterternary"
           }
          ],
          "surface": [
           {
            "colorbar": {
             "outlinewidth": 0,
             "ticks": ""
            },
            "colorscale": [
             [
              0,
              "#0d0887"
             ],
             [
              0.1111111111111111,
              "#46039f"
             ],
             [
              0.2222222222222222,
              "#7201a8"
             ],
             [
              0.3333333333333333,
              "#9c179e"
             ],
             [
              0.4444444444444444,
              "#bd3786"
             ],
             [
              0.5555555555555556,
              "#d8576b"
             ],
             [
              0.6666666666666666,
              "#ed7953"
             ],
             [
              0.7777777777777778,
              "#fb9f3a"
             ],
             [
              0.8888888888888888,
              "#fdca26"
             ],
             [
              1,
              "#f0f921"
             ]
            ],
            "type": "surface"
           }
          ],
          "table": [
           {
            "cells": {
             "fill": {
              "color": "#EBF0F8"
             },
             "line": {
              "color": "white"
             }
            },
            "header": {
             "fill": {
              "color": "#C8D4E3"
             },
             "line": {
              "color": "white"
             }
            },
            "type": "table"
           }
          ]
         },
         "layout": {
          "annotationdefaults": {
           "arrowcolor": "#2a3f5f",
           "arrowhead": 0,
           "arrowwidth": 1
          },
          "autotypenumbers": "strict",
          "coloraxis": {
           "colorbar": {
            "outlinewidth": 0,
            "ticks": ""
           }
          },
          "colorscale": {
           "diverging": [
            [
             0,
             "#8e0152"
            ],
            [
             0.1,
             "#c51b7d"
            ],
            [
             0.2,
             "#de77ae"
            ],
            [
             0.3,
             "#f1b6da"
            ],
            [
             0.4,
             "#fde0ef"
            ],
            [
             0.5,
             "#f7f7f7"
            ],
            [
             0.6,
             "#e6f5d0"
            ],
            [
             0.7,
             "#b8e186"
            ],
            [
             0.8,
             "#7fbc41"
            ],
            [
             0.9,
             "#4d9221"
            ],
            [
             1,
             "#276419"
            ]
           ],
           "sequential": [
            [
             0,
             "#0d0887"
            ],
            [
             0.1111111111111111,
             "#46039f"
            ],
            [
             0.2222222222222222,
             "#7201a8"
            ],
            [
             0.3333333333333333,
             "#9c179e"
            ],
            [
             0.4444444444444444,
             "#bd3786"
            ],
            [
             0.5555555555555556,
             "#d8576b"
            ],
            [
             0.6666666666666666,
             "#ed7953"
            ],
            [
             0.7777777777777778,
             "#fb9f3a"
            ],
            [
             0.8888888888888888,
             "#fdca26"
            ],
            [
             1,
             "#f0f921"
            ]
           ],
           "sequentialminus": [
            [
             0,
             "#0d0887"
            ],
            [
             0.1111111111111111,
             "#46039f"
            ],
            [
             0.2222222222222222,
             "#7201a8"
            ],
            [
             0.3333333333333333,
             "#9c179e"
            ],
            [
             0.4444444444444444,
             "#bd3786"
            ],
            [
             0.5555555555555556,
             "#d8576b"
            ],
            [
             0.6666666666666666,
             "#ed7953"
            ],
            [
             0.7777777777777778,
             "#fb9f3a"
            ],
            [
             0.8888888888888888,
             "#fdca26"
            ],
            [
             1,
             "#f0f921"
            ]
           ]
          },
          "colorway": [
           "#636efa",
           "#EF553B",
           "#00cc96",
           "#ab63fa",
           "#FFA15A",
           "#19d3f3",
           "#FF6692",
           "#B6E880",
           "#FF97FF",
           "#FECB52"
          ],
          "font": {
           "color": "#2a3f5f"
          },
          "geo": {
           "bgcolor": "white",
           "lakecolor": "white",
           "landcolor": "#E5ECF6",
           "showlakes": true,
           "showland": true,
           "subunitcolor": "white"
          },
          "hoverlabel": {
           "align": "left"
          },
          "hovermode": "closest",
          "mapbox": {
           "style": "light"
          },
          "paper_bgcolor": "white",
          "plot_bgcolor": "#E5ECF6",
          "polar": {
           "angularaxis": {
            "gridcolor": "white",
            "linecolor": "white",
            "ticks": ""
           },
           "bgcolor": "#E5ECF6",
           "radialaxis": {
            "gridcolor": "white",
            "linecolor": "white",
            "ticks": ""
           }
          },
          "scene": {
           "xaxis": {
            "backgroundcolor": "#E5ECF6",
            "gridcolor": "white",
            "gridwidth": 2,
            "linecolor": "white",
            "showbackground": true,
            "ticks": "",
            "zerolinecolor": "white"
           },
           "yaxis": {
            "backgroundcolor": "#E5ECF6",
            "gridcolor": "white",
            "gridwidth": 2,
            "linecolor": "white",
            "showbackground": true,
            "ticks": "",
            "zerolinecolor": "white"
           },
           "zaxis": {
            "backgroundcolor": "#E5ECF6",
            "gridcolor": "white",
            "gridwidth": 2,
            "linecolor": "white",
            "showbackground": true,
            "ticks": "",
            "zerolinecolor": "white"
           }
          },
          "shapedefaults": {
           "line": {
            "color": "#2a3f5f"
           }
          },
          "ternary": {
           "aaxis": {
            "gridcolor": "white",
            "linecolor": "white",
            "ticks": ""
           },
           "baxis": {
            "gridcolor": "white",
            "linecolor": "white",
            "ticks": ""
           },
           "bgcolor": "#E5ECF6",
           "caxis": {
            "gridcolor": "white",
            "linecolor": "white",
            "ticks": ""
           }
          },
          "title": {
           "x": 0.05
          },
          "xaxis": {
           "automargin": true,
           "gridcolor": "white",
           "linecolor": "white",
           "ticks": "",
           "title": {
            "standoff": 15
           },
           "zerolinecolor": "white",
           "zerolinewidth": 2
          },
          "yaxis": {
           "automargin": true,
           "gridcolor": "white",
           "linecolor": "white",
           "ticks": "",
           "title": {
            "standoff": 15
           },
           "zerolinecolor": "white",
           "zerolinewidth": 2
          }
         }
        },
        "title": {
         "text": "Optimization History Plot"
        },
        "xaxis": {
         "title": {
          "text": "Trial"
         }
        },
        "yaxis": {
         "title": {
          "text": "Objective Value"
         }
        }
       }
      }
     },
     "metadata": {},
     "output_type": "display_data"
    }
   ],
   "source": [
    "from optuna.visualization import plot_optimization_history, plot_slice\n",
    "\n",
    "plot_optimization_history(study)"
   ]
  },
  {
   "cell_type": "code",
   "execution_count": 11,
   "metadata": {},
   "outputs": [
    {
     "data": {
      "application/vnd.plotly.v1+json": {
       "config": {
        "plotlyServerURL": "https://plot.ly"
       },
       "data": [
        {
         "marker": {
          "color": [
           1,
           5,
           6,
           7,
           8,
           9,
           11,
           14,
           19,
           21,
           26,
           27,
           28,
           29,
           30,
           31,
           32,
           33,
           34,
           35,
           36,
           37,
           38,
           39,
           40,
           41,
           42,
           43,
           44,
           45,
           46,
           47,
           48,
           49,
           50,
           51,
           52,
           53,
           54,
           55,
           56,
           57,
           58,
           59,
           60,
           61,
           62,
           63,
           64,
           65,
           66,
           67,
           68,
           69,
           70,
           71,
           72,
           73,
           74,
           75,
           76,
           77,
           78,
           82,
           84,
           99
          ],
          "colorbar": {
           "title": {
            "text": "Trial"
           },
           "x": 1,
           "xpad": 40
          },
          "colorscale": [
           [
            0,
            "rgb(247,251,255)"
           ],
           [
            0.125,
            "rgb(222,235,247)"
           ],
           [
            0.25,
            "rgb(198,219,239)"
           ],
           [
            0.375,
            "rgb(158,202,225)"
           ],
           [
            0.5,
            "rgb(107,174,214)"
           ],
           [
            0.625,
            "rgb(66,146,198)"
           ],
           [
            0.75,
            "rgb(33,113,181)"
           ],
           [
            0.875,
            "rgb(8,81,156)"
           ],
           [
            1,
            "rgb(8,48,107)"
           ]
          ],
          "line": {
           "color": "Grey",
           "width": 0.5
          },
          "showscale": true
         },
         "mode": "markers",
         "name": "Feasible Trial",
         "showlegend": false,
         "type": "scatter",
         "x": [
          100000000000,
          1000000000,
          100000000,
          10000000000,
          10000000,
          10000000,
          100000,
          100000,
          100,
          100000000000,
          100000000,
          100000000,
          100000000,
          100000000,
          100000000000,
          100000000000,
          100000000000,
          100000000,
          100000000,
          100000000,
          10000000000,
          10000000000,
          10000000000,
          100000000000,
          10000000000,
          10000000000,
          10000000000,
          10000000000,
          10000000000,
          10000000000,
          10000000000,
          10000000000,
          10000000000,
          10000000000,
          10000,
          10000000,
          10000000,
          10000000,
          1000000,
          10000000,
          10000000,
          10000000,
          1000000,
          1000000,
          10000,
          1000,
          10000,
          10000,
          1000,
          1000,
          10000,
          1000,
          1000,
          1000,
          1000,
          1000,
          1000,
          1000000000,
          100,
          1000000000,
          1000000000,
          1000000000,
          1000000000,
          1000000000,
          100000000000,
          100000000000
         ],
         "xaxis": "x",
         "y": [
          0.6126166197180338,
          0.468156685117481,
          0.5887744727179042,
          0.6124556818244843,
          0.6074722066471588,
          0.37426255914628004,
          0.5083945179997811,
          0.3785170181623271,
          0.40938416067853006,
          0.5580242381700661,
          0.5317547286779962,
          0.5626707529711285,
          0.5328117234836602,
          0.5837950046240759,
          0.5926878480105857,
          0.604700033933933,
          0.5777005706676255,
          0.5739695128624627,
          0.5133923375364231,
          0.561040841843513,
          0.6401257385841566,
          0.5958891711027602,
          0.5884734078061304,
          0.5672613795858552,
          0.5733502576801747,
          0.5898786105446547,
          0.5851313172570565,
          0.6014899650529266,
          0.5450445707528103,
          0.5783505672938268,
          0.6022725000365309,
          0.5712932583766681,
          0.6289554730888858,
          0.5863365051609543,
          0.493031504696025,
          0.46174484206546235,
          0.5936994340173316,
          0.5710648630666058,
          0.5492185911363068,
          0.46734855706914863,
          0.5599845186418183,
          0.513803738566027,
          0.5458526988530689,
          0.5470561150153516,
          0.5239381673903709,
          0.46597806881552434,
          0.4468584965674329,
          0.436980039943163,
          0.4725838390646054,
          0.4216978552375882,
          0.43231216191674526,
          0.3977560199815263,
          0.44349286103784225,
          0.47670726260492324,
          0.49873441509884664,
          0.5098820134114253,
          0.46637131234589224,
          0.5900486618205598,
          0.37016413413163535,
          0.6104251069180822,
          0.6013987039331583,
          0.6189622570986522,
          0.5665657437713216,
          0.5768404068810495,
          0.6340572810536633,
          0.6341258099520262
         ],
         "yaxis": "y"
        },
        {
         "marker": {
          "color": [
           1,
           5,
           6,
           7,
           8,
           9,
           11,
           14,
           19,
           21,
           26,
           27,
           28,
           29,
           30,
           31,
           32,
           33,
           34,
           35,
           36,
           37,
           38,
           39,
           40,
           41,
           42,
           43,
           44,
           45,
           46,
           47,
           48,
           49,
           50,
           51,
           52,
           53,
           54,
           55,
           56,
           57,
           58,
           59,
           60,
           61,
           62,
           63,
           64,
           65,
           66,
           67,
           68,
           69,
           70,
           71,
           72,
           73,
           74,
           75,
           76,
           77,
           78,
           82,
           84,
           99
          ],
          "colorbar": {
           "title": {
            "text": "Trial"
           },
           "x": 1,
           "xpad": 40
          },
          "colorscale": [
           [
            0,
            "rgb(247,251,255)"
           ],
           [
            0.125,
            "rgb(222,235,247)"
           ],
           [
            0.25,
            "rgb(198,219,239)"
           ],
           [
            0.375,
            "rgb(158,202,225)"
           ],
           [
            0.5,
            "rgb(107,174,214)"
           ],
           [
            0.625,
            "rgb(66,146,198)"
           ],
           [
            0.75,
            "rgb(33,113,181)"
           ],
           [
            0.875,
            "rgb(8,81,156)"
           ],
           [
            1,
            "rgb(8,48,107)"
           ]
          ],
          "line": {
           "color": "Grey",
           "width": 0.5
          },
          "showscale": false
         },
         "mode": "markers",
         "name": "Feasible Trial",
         "showlegend": false,
         "type": "scatter",
         "x": [
          0.092,
          0.004,
          0.032,
          0.093,
          0.095,
          0.093,
          0.035,
          0.063,
          0.04,
          0.1,
          0.030000000000000002,
          0.029,
          0.029,
          0.028,
          0.037000000000000005,
          0.039,
          0.045,
          0.1,
          0.099,
          0.097,
          0.099,
          0.074,
          0.075,
          0.077,
          0.076,
          0.077,
          0.077,
          0.078,
          0.081,
          0.08,
          0.081,
          0.082,
          0.083,
          0.084,
          0.08600000000000001,
          0.08800000000000001,
          0.089,
          0.091,
          0.091,
          0.09,
          0.089,
          0.089,
          0.08800000000000001,
          0.091,
          0.091,
          0.089,
          0.091,
          0.060000000000000005,
          0.058,
          0.054,
          0.017,
          0.018000000000000002,
          0.056,
          0.066,
          0.02,
          0.019000000000000003,
          0.068,
          0.068,
          0.015,
          0.096,
          0.097,
          0.095,
          0.095,
          0.096,
          0.095,
          0.1
         ],
         "xaxis": "x2",
         "y": [
          0.6126166197180338,
          0.468156685117481,
          0.5887744727179042,
          0.6124556818244843,
          0.6074722066471588,
          0.37426255914628004,
          0.5083945179997811,
          0.3785170181623271,
          0.40938416067853006,
          0.5580242381700661,
          0.5317547286779962,
          0.5626707529711285,
          0.5328117234836602,
          0.5837950046240759,
          0.5926878480105857,
          0.604700033933933,
          0.5777005706676255,
          0.5739695128624627,
          0.5133923375364231,
          0.561040841843513,
          0.6401257385841566,
          0.5958891711027602,
          0.5884734078061304,
          0.5672613795858552,
          0.5733502576801747,
          0.5898786105446547,
          0.5851313172570565,
          0.6014899650529266,
          0.5450445707528103,
          0.5783505672938268,
          0.6022725000365309,
          0.5712932583766681,
          0.6289554730888858,
          0.5863365051609543,
          0.493031504696025,
          0.46174484206546235,
          0.5936994340173316,
          0.5710648630666058,
          0.5492185911363068,
          0.46734855706914863,
          0.5599845186418183,
          0.513803738566027,
          0.5458526988530689,
          0.5470561150153516,
          0.5239381673903709,
          0.46597806881552434,
          0.4468584965674329,
          0.436980039943163,
          0.4725838390646054,
          0.4216978552375882,
          0.43231216191674526,
          0.3977560199815263,
          0.44349286103784225,
          0.47670726260492324,
          0.49873441509884664,
          0.5098820134114253,
          0.46637131234589224,
          0.5900486618205598,
          0.37016413413163535,
          0.6104251069180822,
          0.6013987039331583,
          0.6189622570986522,
          0.5665657437713216,
          0.5768404068810495,
          0.6340572810536633,
          0.6341258099520262
         ],
         "yaxis": "y2"
        },
        {
         "marker": {
          "color": [
           0,
           1,
           2,
           3,
           4,
           5,
           6,
           7,
           8,
           9,
           10,
           11,
           12,
           13,
           14,
           15,
           16,
           17,
           18,
           19,
           20,
           21,
           22,
           23,
           24,
           25,
           26,
           27,
           28,
           29,
           30,
           31,
           32,
           33,
           34,
           35,
           36,
           37,
           38,
           39,
           40,
           41,
           42,
           43,
           44,
           45,
           46,
           47,
           48,
           49,
           50,
           51,
           52,
           53,
           54,
           55,
           56,
           57,
           58,
           59,
           60,
           61,
           62,
           63,
           64,
           65,
           66,
           67,
           68,
           69,
           70,
           71,
           72,
           73,
           74,
           75,
           76,
           77,
           78,
           79,
           80,
           81,
           82,
           83,
           84,
           85,
           86,
           87,
           88,
           89,
           90,
           91,
           92,
           93,
           94,
           95,
           96,
           97,
           98,
           99
          ],
          "colorbar": {
           "title": {
            "text": "Trial"
           },
           "x": 1,
           "xpad": 40
          },
          "colorscale": [
           [
            0,
            "rgb(247,251,255)"
           ],
           [
            0.125,
            "rgb(222,235,247)"
           ],
           [
            0.25,
            "rgb(198,219,239)"
           ],
           [
            0.375,
            "rgb(158,202,225)"
           ],
           [
            0.5,
            "rgb(107,174,214)"
           ],
           [
            0.625,
            "rgb(66,146,198)"
           ],
           [
            0.75,
            "rgb(33,113,181)"
           ],
           [
            0.875,
            "rgb(8,81,156)"
           ],
           [
            1,
            "rgb(8,48,107)"
           ]
          ],
          "line": {
           "color": "Grey",
           "width": 0.5
          },
          "showscale": false
         },
         "mode": "markers",
         "name": "Feasible Trial",
         "showlegend": false,
         "type": "scatter",
         "x": [
          false,
          true,
          false,
          false,
          false,
          true,
          true,
          true,
          true,
          true,
          false,
          true,
          false,
          false,
          true,
          false,
          false,
          false,
          false,
          true,
          false,
          true,
          false,
          false,
          false,
          false,
          true,
          true,
          true,
          true,
          true,
          true,
          true,
          true,
          true,
          true,
          true,
          true,
          true,
          true,
          true,
          true,
          true,
          true,
          true,
          true,
          true,
          true,
          true,
          true,
          true,
          true,
          true,
          true,
          true,
          true,
          true,
          true,
          true,
          true,
          true,
          true,
          true,
          true,
          true,
          true,
          true,
          true,
          true,
          true,
          true,
          true,
          true,
          true,
          true,
          true,
          true,
          true,
          true,
          false,
          false,
          false,
          true,
          false,
          true,
          false,
          false,
          false,
          false,
          false,
          false,
          false,
          false,
          false,
          false,
          false,
          false,
          false,
          false,
          true
         ],
         "xaxis": "x3",
         "y": [
          0.5612466422507747,
          0.6126166197180338,
          0.37431651823313766,
          0.5261269841269842,
          0.542274092791787,
          0.468156685117481,
          0.5887744727179042,
          0.6124556818244843,
          0.6074722066471588,
          0.37426255914628004,
          0.5823966223434287,
          0.5083945179997811,
          0.4240506850718118,
          0.4384890161832873,
          0.3785170181623271,
          0.39472135899070937,
          0.41651248843663274,
          0.5292380952380953,
          0.4716613235633987,
          0.40938416067853006,
          0.5387755243231507,
          0.5580242381700661,
          0.5106351821420321,
          0.5276454714449723,
          0.5309475217482701,
          0.5477796057560196,
          0.5317547286779962,
          0.5626707529711285,
          0.5328117234836602,
          0.5837950046240759,
          0.5926878480105857,
          0.604700033933933,
          0.5777005706676255,
          0.5739695128624627,
          0.5133923375364231,
          0.561040841843513,
          0.6401257385841566,
          0.5958891711027602,
          0.5884734078061304,
          0.5672613795858552,
          0.5733502576801747,
          0.5898786105446547,
          0.5851313172570565,
          0.6014899650529266,
          0.5450445707528103,
          0.5783505672938268,
          0.6022725000365309,
          0.5712932583766681,
          0.6289554730888858,
          0.5863365051609543,
          0.493031504696025,
          0.46174484206546235,
          0.5936994340173316,
          0.5710648630666058,
          0.5492185911363068,
          0.46734855706914863,
          0.5599845186418183,
          0.513803738566027,
          0.5458526988530689,
          0.5470561150153516,
          0.5239381673903709,
          0.46597806881552434,
          0.4468584965674329,
          0.436980039943163,
          0.4725838390646054,
          0.4216978552375882,
          0.43231216191674526,
          0.3977560199815263,
          0.44349286103784225,
          0.47670726260492324,
          0.49873441509884664,
          0.5098820134114253,
          0.46637131234589224,
          0.5900486618205598,
          0.37016413413163535,
          0.6104251069180822,
          0.6013987039331583,
          0.6189622570986522,
          0.5665657437713216,
          0.6108802510263815,
          0.5054700216730004,
          0.5355874576192655,
          0.5768404068810495,
          0.5365519865954095,
          0.6340572810536633,
          0.5844164066762947,
          0.5993372433227648,
          0.5912613291798642,
          0.5725472814674605,
          0.6139476600044587,
          0.6151929882623562,
          0.5860172340124961,
          0.6047502826060697,
          0.6040121869774638,
          0.621727706489995,
          0.5822923673607601,
          0.615843737507483,
          0.5831427769791833,
          0.5793143585743696,
          0.6341258099520262
         ],
         "yaxis": "y3"
        },
        {
         "marker": {
          "color": [
           0,
           1,
           2,
           3,
           4,
           5,
           6,
           7,
           8,
           9,
           10,
           11,
           12,
           13,
           14,
           15,
           16,
           17,
           18,
           19,
           20,
           21,
           22,
           23,
           24,
           25,
           26,
           27,
           28,
           29,
           30,
           31,
           32,
           33,
           34,
           35,
           36,
           37,
           38,
           39,
           40,
           41,
           42,
           43,
           44,
           45,
           46,
           47,
           48,
           49,
           50,
           51,
           52,
           53,
           54,
           55,
           56,
           57,
           58,
           59,
           60,
           61,
           62,
           63,
           64,
           65,
           66,
           67,
           68,
           69,
           70,
           71,
           72,
           73,
           74,
           75,
           76,
           77,
           78,
           79,
           80,
           81,
           82,
           83,
           84,
           85,
           86,
           87,
           88,
           89,
           90,
           91,
           92,
           93,
           94,
           95,
           96,
           97,
           98,
           99
          ],
          "colorbar": {
           "title": {
            "text": "Trial"
           },
           "x": 1,
           "xpad": 40
          },
          "colorscale": [
           [
            0,
            "rgb(247,251,255)"
           ],
           [
            0.125,
            "rgb(222,235,247)"
           ],
           [
            0.25,
            "rgb(198,219,239)"
           ],
           [
            0.375,
            "rgb(158,202,225)"
           ],
           [
            0.5,
            "rgb(107,174,214)"
           ],
           [
            0.625,
            "rgb(66,146,198)"
           ],
           [
            0.75,
            "rgb(33,113,181)"
           ],
           [
            0.875,
            "rgb(8,81,156)"
           ],
           [
            1,
            "rgb(8,48,107)"
           ]
          ],
          "line": {
           "color": "Grey",
           "width": 0.5
          },
          "showscale": false
         },
         "mode": "markers",
         "name": "Feasible Trial",
         "showlegend": false,
         "type": "scatter",
         "x": [
          "SVC",
          "SVC",
          "RandomForest",
          "ExtraTrees",
          "ExtraTrees",
          "RandomForest",
          "RandomForest",
          "RandomForest",
          "RandomForest",
          "SVC",
          "RandomForest",
          "SVC",
          "RandomForest",
          "ExtraTrees",
          "SVC",
          "ExtraTrees",
          "RandomForest",
          "ExtraTrees",
          "SVC",
          "RandomForest",
          "ExtraTrees",
          "SVC",
          "SVC",
          "SVC",
          "SVC",
          "SVC",
          "RandomForest",
          "RandomForest",
          "RandomForest",
          "RandomForest",
          "RandomForest",
          "RandomForest",
          "RandomForest",
          "RandomForest",
          "RandomForest",
          "RandomForest",
          "RandomForest",
          "RandomForest",
          "RandomForest",
          "RandomForest",
          "RandomForest",
          "RandomForest",
          "RandomForest",
          "RandomForest",
          "RandomForest",
          "RandomForest",
          "RandomForest",
          "RandomForest",
          "RandomForest",
          "RandomForest",
          "RandomForest",
          "SVC",
          "RandomForest",
          "RandomForest",
          "RandomForest",
          "SVC",
          "ExtraTrees",
          "ExtraTrees",
          "ExtraTrees",
          "ExtraTrees",
          "ExtraTrees",
          "SVC",
          "SVC",
          "RandomForest",
          "SVC",
          "SVC",
          "SVC",
          "SVC",
          "SVC",
          "SVC",
          "SVC",
          "SVC",
          "SVC",
          "RandomForest",
          "RandomForest",
          "RandomForest",
          "RandomForest",
          "RandomForest",
          "RandomForest",
          "RandomForest",
          "RandomForest",
          "RandomForest",
          "RandomForest",
          "RandomForest",
          "RandomForest",
          "RandomForest",
          "RandomForest",
          "RandomForest",
          "RandomForest",
          "RandomForest",
          "RandomForest",
          "RandomForest",
          "RandomForest",
          "RandomForest",
          "RandomForest",
          "RandomForest",
          "RandomForest",
          "RandomForest",
          "RandomForest",
          "RandomForest"
         ],
         "xaxis": "x4",
         "y": [
          0.5612466422507747,
          0.6126166197180338,
          0.37431651823313766,
          0.5261269841269842,
          0.542274092791787,
          0.468156685117481,
          0.5887744727179042,
          0.6124556818244843,
          0.6074722066471588,
          0.37426255914628004,
          0.5823966223434287,
          0.5083945179997811,
          0.4240506850718118,
          0.4384890161832873,
          0.3785170181623271,
          0.39472135899070937,
          0.41651248843663274,
          0.5292380952380953,
          0.4716613235633987,
          0.40938416067853006,
          0.5387755243231507,
          0.5580242381700661,
          0.5106351821420321,
          0.5276454714449723,
          0.5309475217482701,
          0.5477796057560196,
          0.5317547286779962,
          0.5626707529711285,
          0.5328117234836602,
          0.5837950046240759,
          0.5926878480105857,
          0.604700033933933,
          0.5777005706676255,
          0.5739695128624627,
          0.5133923375364231,
          0.561040841843513,
          0.6401257385841566,
          0.5958891711027602,
          0.5884734078061304,
          0.5672613795858552,
          0.5733502576801747,
          0.5898786105446547,
          0.5851313172570565,
          0.6014899650529266,
          0.5450445707528103,
          0.5783505672938268,
          0.6022725000365309,
          0.5712932583766681,
          0.6289554730888858,
          0.5863365051609543,
          0.493031504696025,
          0.46174484206546235,
          0.5936994340173316,
          0.5710648630666058,
          0.5492185911363068,
          0.46734855706914863,
          0.5599845186418183,
          0.513803738566027,
          0.5458526988530689,
          0.5470561150153516,
          0.5239381673903709,
          0.46597806881552434,
          0.4468584965674329,
          0.436980039943163,
          0.4725838390646054,
          0.4216978552375882,
          0.43231216191674526,
          0.3977560199815263,
          0.44349286103784225,
          0.47670726260492324,
          0.49873441509884664,
          0.5098820134114253,
          0.46637131234589224,
          0.5900486618205598,
          0.37016413413163535,
          0.6104251069180822,
          0.6013987039331583,
          0.6189622570986522,
          0.5665657437713216,
          0.6108802510263815,
          0.5054700216730004,
          0.5355874576192655,
          0.5768404068810495,
          0.5365519865954095,
          0.6340572810536633,
          0.5844164066762947,
          0.5993372433227648,
          0.5912613291798642,
          0.5725472814674605,
          0.6139476600044587,
          0.6151929882623562,
          0.5860172340124961,
          0.6047502826060697,
          0.6040121869774638,
          0.621727706489995,
          0.5822923673607601,
          0.615843737507483,
          0.5831427769791833,
          0.5793143585743696,
          0.6341258099520262
         ],
         "yaxis": "y4"
        },
        {
         "marker": {
          "color": [
           0,
           1,
           2,
           3,
           4,
           5,
           6,
           7,
           8,
           9,
           10,
           11,
           12,
           13,
           14,
           15,
           16,
           17,
           18,
           19,
           20,
           21,
           22,
           23,
           24,
           25,
           26,
           27,
           28,
           29,
           30,
           31,
           32,
           33,
           34,
           35,
           36,
           37,
           38,
           39,
           40,
           41,
           42,
           43,
           44,
           45,
           46,
           47,
           48,
           49,
           50,
           51,
           52,
           53,
           54,
           55,
           56,
           57,
           58,
           59,
           60,
           61,
           62,
           63,
           64,
           65,
           66,
           67,
           68,
           69,
           70,
           71,
           72,
           73,
           74,
           75,
           76,
           77,
           78,
           79,
           80,
           81,
           82,
           83,
           84,
           85,
           86,
           87,
           88,
           89,
           90,
           91,
           92,
           93,
           94,
           95,
           96,
           97,
           98,
           99
          ],
          "colorbar": {
           "title": {
            "text": "Trial"
           },
           "x": 1,
           "xpad": 40
          },
          "colorscale": [
           [
            0,
            "rgb(247,251,255)"
           ],
           [
            0.125,
            "rgb(222,235,247)"
           ],
           [
            0.25,
            "rgb(198,219,239)"
           ],
           [
            0.375,
            "rgb(158,202,225)"
           ],
           [
            0.5,
            "rgb(107,174,214)"
           ],
           [
            0.625,
            "rgb(66,146,198)"
           ],
           [
            0.75,
            "rgb(33,113,181)"
           ],
           [
            0.875,
            "rgb(8,81,156)"
           ],
           [
            1,
            "rgb(8,48,107)"
           ]
          ],
          "line": {
           "color": "Grey",
           "width": 0.5
          },
          "showscale": false
         },
         "mode": "markers",
         "name": "Feasible Trial",
         "showlegend": false,
         "type": "scatter",
         "x": [
          true,
          false,
          false,
          true,
          false,
          false,
          false,
          true,
          true,
          false,
          true,
          true,
          true,
          true,
          true,
          true,
          false,
          true,
          true,
          false,
          false,
          true,
          true,
          true,
          false,
          false,
          false,
          true,
          false,
          false,
          false,
          false,
          false,
          false,
          false,
          false,
          true,
          true,
          true,
          true,
          true,
          true,
          true,
          true,
          true,
          true,
          true,
          true,
          true,
          true,
          true,
          true,
          true,
          true,
          true,
          true,
          true,
          false,
          false,
          false,
          true,
          true,
          true,
          true,
          true,
          true,
          false,
          false,
          false,
          true,
          false,
          false,
          true,
          true,
          true,
          true,
          true,
          true,
          true,
          true,
          true,
          true,
          true,
          true,
          true,
          true,
          true,
          true,
          true,
          true,
          true,
          true,
          true,
          true,
          true,
          true,
          true,
          true,
          false,
          false
         ],
         "xaxis": "x5",
         "y": [
          0.5612466422507747,
          0.6126166197180338,
          0.37431651823313766,
          0.5261269841269842,
          0.542274092791787,
          0.468156685117481,
          0.5887744727179042,
          0.6124556818244843,
          0.6074722066471588,
          0.37426255914628004,
          0.5823966223434287,
          0.5083945179997811,
          0.4240506850718118,
          0.4384890161832873,
          0.3785170181623271,
          0.39472135899070937,
          0.41651248843663274,
          0.5292380952380953,
          0.4716613235633987,
          0.40938416067853006,
          0.5387755243231507,
          0.5580242381700661,
          0.5106351821420321,
          0.5276454714449723,
          0.5309475217482701,
          0.5477796057560196,
          0.5317547286779962,
          0.5626707529711285,
          0.5328117234836602,
          0.5837950046240759,
          0.5926878480105857,
          0.604700033933933,
          0.5777005706676255,
          0.5739695128624627,
          0.5133923375364231,
          0.561040841843513,
          0.6401257385841566,
          0.5958891711027602,
          0.5884734078061304,
          0.5672613795858552,
          0.5733502576801747,
          0.5898786105446547,
          0.5851313172570565,
          0.6014899650529266,
          0.5450445707528103,
          0.5783505672938268,
          0.6022725000365309,
          0.5712932583766681,
          0.6289554730888858,
          0.5863365051609543,
          0.493031504696025,
          0.46174484206546235,
          0.5936994340173316,
          0.5710648630666058,
          0.5492185911363068,
          0.46734855706914863,
          0.5599845186418183,
          0.513803738566027,
          0.5458526988530689,
          0.5470561150153516,
          0.5239381673903709,
          0.46597806881552434,
          0.4468584965674329,
          0.436980039943163,
          0.4725838390646054,
          0.4216978552375882,
          0.43231216191674526,
          0.3977560199815263,
          0.44349286103784225,
          0.47670726260492324,
          0.49873441509884664,
          0.5098820134114253,
          0.46637131234589224,
          0.5900486618205598,
          0.37016413413163535,
          0.6104251069180822,
          0.6013987039331583,
          0.6189622570986522,
          0.5665657437713216,
          0.6108802510263815,
          0.5054700216730004,
          0.5355874576192655,
          0.5768404068810495,
          0.5365519865954095,
          0.6340572810536633,
          0.5844164066762947,
          0.5993372433227648,
          0.5912613291798642,
          0.5725472814674605,
          0.6139476600044587,
          0.6151929882623562,
          0.5860172340124961,
          0.6047502826060697,
          0.6040121869774638,
          0.621727706489995,
          0.5822923673607601,
          0.615843737507483,
          0.5831427769791833,
          0.5793143585743696,
          0.6341258099520262
         ],
         "yaxis": "y5"
        },
        {
         "marker": {
          "color": [
           0,
           3,
           7,
           8,
           10,
           11,
           12,
           13,
           14,
           15,
           17,
           18,
           21,
           22,
           23,
           27,
           36,
           37,
           38,
           39,
           40,
           41,
           42,
           43,
           44,
           45,
           46,
           47,
           48,
           49,
           50,
           51,
           52,
           53,
           54,
           55,
           56,
           60,
           61,
           62,
           63,
           64,
           65,
           69,
           72,
           73,
           74,
           75,
           76,
           77,
           78,
           79,
           80,
           81,
           82,
           83,
           84,
           85,
           86,
           87,
           88,
           89,
           90,
           91,
           92,
           93,
           94,
           95,
           96,
           97
          ],
          "colorbar": {
           "title": {
            "text": "Trial"
           },
           "x": 1,
           "xpad": 40
          },
          "colorscale": [
           [
            0,
            "rgb(247,251,255)"
           ],
           [
            0.125,
            "rgb(222,235,247)"
           ],
           [
            0.25,
            "rgb(198,219,239)"
           ],
           [
            0.375,
            "rgb(158,202,225)"
           ],
           [
            0.5,
            "rgb(107,174,214)"
           ],
           [
            0.625,
            "rgb(66,146,198)"
           ],
           [
            0.75,
            "rgb(33,113,181)"
           ],
           [
            0.875,
            "rgb(8,81,156)"
           ],
           [
            1,
            "rgb(8,48,107)"
           ]
          ],
          "line": {
           "color": "Grey",
           "width": 0.5
          },
          "showscale": false
         },
         "mode": "markers",
         "name": "Feasible Trial",
         "showlegend": false,
         "type": "scatter",
         "x": [
          29,
          12,
          57,
          57,
          52,
          84,
          81,
          93,
          73,
          47,
          91,
          78,
          5,
          6,
          6,
          11,
          64,
          64,
          62,
          63,
          65,
          63,
          63,
          63,
          64,
          65,
          65,
          66,
          61,
          41,
          41,
          46,
          42,
          36,
          40,
          43,
          40,
          39,
          37,
          40,
          53,
          54,
          54,
          54,
          56,
          55,
          55,
          55,
          52,
          73,
          74,
          73,
          73,
          71,
          71,
          75,
          74,
          72,
          74,
          80,
          83,
          80,
          87,
          83,
          85,
          59,
          88,
          59,
          58,
          59
         ],
         "xaxis": "x6",
         "y": [
          0.5612466422507747,
          0.5261269841269842,
          0.6124556818244843,
          0.6074722066471588,
          0.5823966223434287,
          0.5083945179997811,
          0.4240506850718118,
          0.4384890161832873,
          0.3785170181623271,
          0.39472135899070937,
          0.5292380952380953,
          0.4716613235633987,
          0.5580242381700661,
          0.5106351821420321,
          0.5276454714449723,
          0.5626707529711285,
          0.6401257385841566,
          0.5958891711027602,
          0.5884734078061304,
          0.5672613795858552,
          0.5733502576801747,
          0.5898786105446547,
          0.5851313172570565,
          0.6014899650529266,
          0.5450445707528103,
          0.5783505672938268,
          0.6022725000365309,
          0.5712932583766681,
          0.6289554730888858,
          0.5863365051609543,
          0.493031504696025,
          0.46174484206546235,
          0.5936994340173316,
          0.5710648630666058,
          0.5492185911363068,
          0.46734855706914863,
          0.5599845186418183,
          0.5239381673903709,
          0.46597806881552434,
          0.4468584965674329,
          0.436980039943163,
          0.4725838390646054,
          0.4216978552375882,
          0.47670726260492324,
          0.46637131234589224,
          0.5900486618205598,
          0.37016413413163535,
          0.6104251069180822,
          0.6013987039331583,
          0.6189622570986522,
          0.5665657437713216,
          0.6108802510263815,
          0.5054700216730004,
          0.5355874576192655,
          0.5768404068810495,
          0.5365519865954095,
          0.6340572810536633,
          0.5844164066762947,
          0.5993372433227648,
          0.5912613291798642,
          0.5725472814674605,
          0.6139476600044587,
          0.6151929882623562,
          0.5860172340124961,
          0.6047502826060697,
          0.6040121869774638,
          0.621727706489995,
          0.5822923673607601,
          0.615843737507483,
          0.5831427769791833
         ],
         "yaxis": "y6"
        },
        {
         "marker": {
          "color": [
           0,
           3,
           7,
           8,
           10,
           11,
           12,
           13,
           14,
           15,
           17,
           18,
           21,
           22,
           23,
           27,
           36,
           37,
           38,
           39,
           40,
           41,
           42,
           43,
           44,
           45,
           46,
           47,
           48,
           49,
           50,
           51,
           52,
           53,
           54,
           55,
           56,
           60,
           61,
           62,
           63,
           64,
           65,
           69,
           72,
           73,
           74,
           75,
           76,
           77,
           78,
           79,
           80,
           81,
           82,
           83,
           84,
           85,
           86,
           87,
           88,
           89,
           90,
           91,
           92,
           93,
           94,
           95,
           96,
           97
          ],
          "colorbar": {
           "title": {
            "text": "Trial"
           },
           "x": 1,
           "xpad": 40
          },
          "colorscale": [
           [
            0,
            "rgb(247,251,255)"
           ],
           [
            0.125,
            "rgb(222,235,247)"
           ],
           [
            0.25,
            "rgb(198,219,239)"
           ],
           [
            0.375,
            "rgb(158,202,225)"
           ],
           [
            0.5,
            "rgb(107,174,214)"
           ],
           [
            0.625,
            "rgb(66,146,198)"
           ],
           [
            0.75,
            "rgb(33,113,181)"
           ],
           [
            0.875,
            "rgb(8,81,156)"
           ],
           [
            1,
            "rgb(8,48,107)"
           ]
          ],
          "line": {
           "color": "Grey",
           "width": 0.5
          },
          "showscale": false
         },
         "mode": "markers",
         "name": "Feasible Trial",
         "showlegend": false,
         "type": "scatter",
         "x": [
          4.5,
          5.25,
          10,
          4,
          3.75,
          6,
          5.75,
          8.75,
          9.5,
          4.25,
          7.5,
          5.75,
          3,
          3.25,
          3.25,
          3,
          7.25,
          7.5,
          7.25,
          7.25,
          7.5,
          7.25,
          7.25,
          7.5,
          7.25,
          7.5,
          7.5,
          7.75,
          7.5,
          8.5,
          8.75,
          8.75,
          9.75,
          8.5,
          10,
          10,
          10,
          8.75,
          8.5,
          8.5,
          8.5,
          6.5,
          6.5,
          5,
          6,
          6.5,
          6.5,
          6.5,
          6.75,
          6.5,
          6.5,
          6.5,
          6.75,
          6.75,
          6.75,
          8,
          8,
          8,
          4.25,
          4.75,
          4.25,
          4.25,
          4.75,
          4.25,
          4.25,
          5,
          4.25,
          6,
          5.5,
          5.5
         ],
         "xaxis": "x7",
         "y": [
          0.5612466422507747,
          0.5261269841269842,
          0.6124556818244843,
          0.6074722066471588,
          0.5823966223434287,
          0.5083945179997811,
          0.4240506850718118,
          0.4384890161832873,
          0.3785170181623271,
          0.39472135899070937,
          0.5292380952380953,
          0.4716613235633987,
          0.5580242381700661,
          0.5106351821420321,
          0.5276454714449723,
          0.5626707529711285,
          0.6401257385841566,
          0.5958891711027602,
          0.5884734078061304,
          0.5672613795858552,
          0.5733502576801747,
          0.5898786105446547,
          0.5851313172570565,
          0.6014899650529266,
          0.5450445707528103,
          0.5783505672938268,
          0.6022725000365309,
          0.5712932583766681,
          0.6289554730888858,
          0.5863365051609543,
          0.493031504696025,
          0.46174484206546235,
          0.5936994340173316,
          0.5710648630666058,
          0.5492185911363068,
          0.46734855706914863,
          0.5599845186418183,
          0.5239381673903709,
          0.46597806881552434,
          0.4468584965674329,
          0.436980039943163,
          0.4725838390646054,
          0.4216978552375882,
          0.47670726260492324,
          0.46637131234589224,
          0.5900486618205598,
          0.37016413413163535,
          0.6104251069180822,
          0.6013987039331583,
          0.6189622570986522,
          0.5665657437713216,
          0.6108802510263815,
          0.5054700216730004,
          0.5355874576192655,
          0.5768404068810495,
          0.5365519865954095,
          0.6340572810536633,
          0.5844164066762947,
          0.5993372433227648,
          0.5912613291798642,
          0.5725472814674605,
          0.6139476600044587,
          0.6151929882623562,
          0.5860172340124961,
          0.6047502826060697,
          0.6040121869774638,
          0.621727706489995,
          0.5822923673607601,
          0.615843737507483,
          0.5831427769791833
         ],
         "yaxis": "y7"
        },
        {
         "marker": {
          "color": [
           0,
           1,
           2,
           3,
           4,
           5,
           6,
           7,
           8,
           9,
           10,
           11,
           12,
           13,
           14,
           15,
           16,
           17,
           18,
           19,
           20,
           21,
           22,
           23,
           24,
           25,
           26,
           27,
           28,
           29,
           30,
           31,
           32,
           33,
           34,
           35,
           36,
           37,
           38,
           39,
           40,
           41,
           42,
           43,
           44,
           45,
           46,
           47,
           48,
           49,
           50,
           51,
           52,
           53,
           54,
           55,
           56,
           57,
           58,
           59,
           60,
           61,
           62,
           63,
           64,
           65,
           66,
           67,
           68,
           69,
           70,
           71,
           72,
           73,
           74,
           75,
           76,
           77,
           78,
           79,
           80,
           81,
           82,
           83,
           84,
           85,
           86,
           87,
           88,
           89,
           90,
           91,
           92,
           93,
           94,
           95,
           96,
           97,
           98,
           99
          ],
          "colorbar": {
           "title": {
            "text": "Trial"
           },
           "x": 1,
           "xpad": 40
          },
          "colorscale": [
           [
            0,
            "rgb(247,251,255)"
           ],
           [
            0.125,
            "rgb(222,235,247)"
           ],
           [
            0.25,
            "rgb(198,219,239)"
           ],
           [
            0.375,
            "rgb(158,202,225)"
           ],
           [
            0.5,
            "rgb(107,174,214)"
           ],
           [
            0.625,
            "rgb(66,146,198)"
           ],
           [
            0.75,
            "rgb(33,113,181)"
           ],
           [
            0.875,
            "rgb(8,81,156)"
           ],
           [
            1,
            "rgb(8,48,107)"
           ]
          ],
          "line": {
           "color": "Grey",
           "width": 0.5
          },
          "showscale": false
         },
         "mode": "markers",
         "name": "Feasible Trial",
         "showlegend": false,
         "type": "scatter",
         "x": [
          0.7679413787021651,
          0.9207840056065512,
          1.4638265245593427,
          0.03933112118302845,
          0.9964150504118547,
          1.3655651381994571,
          0.974745482282696,
          0.42423279743238534,
          0.8646989638632936,
          1.4589297528779808,
          0.86559505550931,
          1.4958568736660576,
          1.265953214753783,
          1.4752528795772202,
          1.2869576735253465,
          1.3780424897609345,
          1.4305107772319519,
          0.0482218231218966,
          0.351890579064261,
          0.6921226723838549,
          0.9071495213314689,
          0.32432025416275023,
          0.38243800437556064,
          0.8157879605617596,
          0.860307661986022,
          0.8354392096362099,
          0.6127648863639116,
          0.6198813884435734,
          0.548024267377067,
          0.5947719685804609,
          0.5653022467631396,
          0.5903976116734236,
          0.5393610590205068,
          1.0842888229404815,
          1.0966142586988556,
          1.0678820547184338,
          0.6285861712624797,
          0.5772369323570207,
          0.6237750130874538,
          0.5265526906370368,
          0.5326620375526189,
          0.35809164139588423,
          0.42901658280461696,
          0.4149929118032115,
          0.4492635815480574,
          0.4298569886083345,
          0.43270436755616853,
          0.4559873917406576,
          0.7282363602108514,
          0.7260202911157343,
          0.2270043232184752,
          0.1872420256856545,
          0.7270990748867123,
          0.7434525922480929,
          0.7519454919719007,
          0.7365324524125719,
          0.7415068306509518,
          0.7146198997650672,
          0.26243984694551953,
          0.23942926119525093,
          0.7282101452551235,
          0.2438417093985717,
          0.9715396893532466,
          0.1959176282361626,
          0.9454776338491073,
          0.2832221881447328,
          0.9572595345155999,
          0.2542943128730168,
          0.9819302555145949,
          1.0174060363756279,
          0.9387598771308578,
          0.9762018601880873,
          1.014156094068076,
          0.921651972933027,
          0.6660806305220588,
          0.6719414508419023,
          0.6642350966021261,
          0.6616403725378718,
          0.6454260548678843,
          0.8036907609853917,
          0.6507800874875921,
          0.6704453333103036,
          0.8029002052932686,
          0.8263174905307598,
          0.7904666737300885,
          0.49294575678188673,
          0.7994226748061077,
          0.8076424793525897,
          0.7961554061486908,
          0.783863336471545,
          0.7940793684610823,
          0.7968788782718512,
          0.5001132961471357,
          0.49407244765817987,
          0.8769801703735276,
          0.49568301855147273,
          0.8797498183267665,
          0.8924235018806492,
          0.8763666778256982,
          0.8588359995477943
         ],
         "xaxis": "x8",
         "y": [
          0.5612466422507747,
          0.6126166197180338,
          0.37431651823313766,
          0.5261269841269842,
          0.542274092791787,
          0.468156685117481,
          0.5887744727179042,
          0.6124556818244843,
          0.6074722066471588,
          0.37426255914628004,
          0.5823966223434287,
          0.5083945179997811,
          0.4240506850718118,
          0.4384890161832873,
          0.3785170181623271,
          0.39472135899070937,
          0.41651248843663274,
          0.5292380952380953,
          0.4716613235633987,
          0.40938416067853006,
          0.5387755243231507,
          0.5580242381700661,
          0.5106351821420321,
          0.5276454714449723,
          0.5309475217482701,
          0.5477796057560196,
          0.5317547286779962,
          0.5626707529711285,
          0.5328117234836602,
          0.5837950046240759,
          0.5926878480105857,
          0.604700033933933,
          0.5777005706676255,
          0.5739695128624627,
          0.5133923375364231,
          0.561040841843513,
          0.6401257385841566,
          0.5958891711027602,
          0.5884734078061304,
          0.5672613795858552,
          0.5733502576801747,
          0.5898786105446547,
          0.5851313172570565,
          0.6014899650529266,
          0.5450445707528103,
          0.5783505672938268,
          0.6022725000365309,
          0.5712932583766681,
          0.6289554730888858,
          0.5863365051609543,
          0.493031504696025,
          0.46174484206546235,
          0.5936994340173316,
          0.5710648630666058,
          0.5492185911363068,
          0.46734855706914863,
          0.5599845186418183,
          0.513803738566027,
          0.5458526988530689,
          0.5470561150153516,
          0.5239381673903709,
          0.46597806881552434,
          0.4468584965674329,
          0.436980039943163,
          0.4725838390646054,
          0.4216978552375882,
          0.43231216191674526,
          0.3977560199815263,
          0.44349286103784225,
          0.47670726260492324,
          0.49873441509884664,
          0.5098820134114253,
          0.46637131234589224,
          0.5900486618205598,
          0.37016413413163535,
          0.6104251069180822,
          0.6013987039331583,
          0.6189622570986522,
          0.5665657437713216,
          0.6108802510263815,
          0.5054700216730004,
          0.5355874576192655,
          0.5768404068810495,
          0.5365519865954095,
          0.6340572810536633,
          0.5844164066762947,
          0.5993372433227648,
          0.5912613291798642,
          0.5725472814674605,
          0.6139476600044587,
          0.6151929882623562,
          0.5860172340124961,
          0.6047502826060697,
          0.6040121869774638,
          0.621727706489995,
          0.5822923673607601,
          0.615843737507483,
          0.5831427769791833,
          0.5793143585743696,
          0.6341258099520262
         ],
         "yaxis": "y8"
        },
        {
         "marker": {
          "color": [
           0,
           1,
           2,
           3,
           4,
           5,
           6,
           7,
           8,
           9,
           10,
           11,
           12,
           13,
           14,
           15,
           16,
           17,
           18,
           19,
           20,
           21,
           22,
           23,
           24,
           25,
           26,
           27,
           28,
           29,
           30,
           31,
           32,
           33,
           34,
           35,
           36,
           37,
           38,
           39,
           40,
           41,
           42,
           43,
           44,
           45,
           46,
           47,
           48,
           49,
           50,
           51,
           52,
           53,
           54,
           55,
           56,
           57,
           58,
           59,
           60,
           61,
           62,
           63,
           64,
           65,
           66,
           67,
           68,
           69,
           70,
           71,
           72,
           73,
           74,
           75,
           76,
           77,
           78,
           79,
           80,
           81,
           82,
           83,
           84,
           85,
           86,
           87,
           88,
           89,
           90,
           91,
           92,
           93,
           94,
           95,
           96,
           97,
           98,
           99
          ],
          "colorbar": {
           "title": {
            "text": "Trial"
           },
           "x": 1,
           "xpad": 40
          },
          "colorscale": [
           [
            0,
            "rgb(247,251,255)"
           ],
           [
            0.125,
            "rgb(222,235,247)"
           ],
           [
            0.25,
            "rgb(198,219,239)"
           ],
           [
            0.375,
            "rgb(158,202,225)"
           ],
           [
            0.5,
            "rgb(107,174,214)"
           ],
           [
            0.625,
            "rgb(66,146,198)"
           ],
           [
            0.75,
            "rgb(33,113,181)"
           ],
           [
            0.875,
            "rgb(8,81,156)"
           ],
           [
            1,
            "rgb(8,48,107)"
           ]
          ],
          "line": {
           "color": "Grey",
           "width": 0.5
          },
          "showscale": false
         },
         "mode": "markers",
         "name": "Feasible Trial",
         "showlegend": false,
         "type": "scatter",
         "x": [
          true,
          true,
          false,
          false,
          false,
          false,
          false,
          true,
          false,
          true,
          true,
          false,
          false,
          false,
          false,
          false,
          false,
          false,
          false,
          true,
          false,
          true,
          true,
          true,
          true,
          true,
          true,
          true,
          true,
          true,
          true,
          true,
          true,
          true,
          true,
          true,
          true,
          true,
          true,
          true,
          true,
          true,
          true,
          true,
          true,
          true,
          true,
          true,
          true,
          true,
          true,
          false,
          true,
          true,
          true,
          false,
          false,
          false,
          false,
          false,
          false,
          false,
          false,
          true,
          false,
          false,
          false,
          false,
          false,
          false,
          true,
          true,
          true,
          true,
          true,
          true,
          true,
          true,
          true,
          true,
          true,
          true,
          true,
          true,
          true,
          true,
          true,
          true,
          true,
          true,
          true,
          true,
          true,
          true,
          true,
          true,
          true,
          true,
          true,
          true
         ],
         "xaxis": "x9",
         "y": [
          0.5612466422507747,
          0.6126166197180338,
          0.37431651823313766,
          0.5261269841269842,
          0.542274092791787,
          0.468156685117481,
          0.5887744727179042,
          0.6124556818244843,
          0.6074722066471588,
          0.37426255914628004,
          0.5823966223434287,
          0.5083945179997811,
          0.4240506850718118,
          0.4384890161832873,
          0.3785170181623271,
          0.39472135899070937,
          0.41651248843663274,
          0.5292380952380953,
          0.4716613235633987,
          0.40938416067853006,
          0.5387755243231507,
          0.5580242381700661,
          0.5106351821420321,
          0.5276454714449723,
          0.5309475217482701,
          0.5477796057560196,
          0.5317547286779962,
          0.5626707529711285,
          0.5328117234836602,
          0.5837950046240759,
          0.5926878480105857,
          0.604700033933933,
          0.5777005706676255,
          0.5739695128624627,
          0.5133923375364231,
          0.561040841843513,
          0.6401257385841566,
          0.5958891711027602,
          0.5884734078061304,
          0.5672613795858552,
          0.5733502576801747,
          0.5898786105446547,
          0.5851313172570565,
          0.6014899650529266,
          0.5450445707528103,
          0.5783505672938268,
          0.6022725000365309,
          0.5712932583766681,
          0.6289554730888858,
          0.5863365051609543,
          0.493031504696025,
          0.46174484206546235,
          0.5936994340173316,
          0.5710648630666058,
          0.5492185911363068,
          0.46734855706914863,
          0.5599845186418183,
          0.513803738566027,
          0.5458526988530689,
          0.5470561150153516,
          0.5239381673903709,
          0.46597806881552434,
          0.4468584965674329,
          0.436980039943163,
          0.4725838390646054,
          0.4216978552375882,
          0.43231216191674526,
          0.3977560199815263,
          0.44349286103784225,
          0.47670726260492324,
          0.49873441509884664,
          0.5098820134114253,
          0.46637131234589224,
          0.5900486618205598,
          0.37016413413163535,
          0.6104251069180822,
          0.6013987039331583,
          0.6189622570986522,
          0.5665657437713216,
          0.6108802510263815,
          0.5054700216730004,
          0.5355874576192655,
          0.5768404068810495,
          0.5365519865954095,
          0.6340572810536633,
          0.5844164066762947,
          0.5993372433227648,
          0.5912613291798642,
          0.5725472814674605,
          0.6139476600044587,
          0.6151929882623562,
          0.5860172340124961,
          0.6047502826060697,
          0.6040121869774638,
          0.621727706489995,
          0.5822923673607601,
          0.615843737507483,
          0.5831427769791833,
          0.5793143585743696,
          0.6341258099520262
         ],
         "yaxis": "y9"
        },
        {
         "marker": {
          "color": [
           0,
           1,
           7,
           9,
           10,
           19,
           21,
           22,
           23,
           24,
           25,
           26,
           27,
           28,
           29,
           30,
           31,
           32,
           33,
           34,
           35,
           36,
           37,
           38,
           39,
           40,
           41,
           42,
           43,
           44,
           45,
           46,
           47,
           48,
           49,
           50,
           52,
           53,
           54,
           63,
           70,
           71,
           72,
           73,
           74,
           75,
           76,
           77,
           78,
           79,
           80,
           81,
           82,
           83,
           84,
           85,
           86,
           87,
           88,
           89,
           90,
           91,
           92,
           93,
           94,
           95,
           96,
           97,
           98,
           99
          ],
          "colorbar": {
           "title": {
            "text": "Trial"
           },
           "x": 1,
           "xpad": 40
          },
          "colorscale": [
           [
            0,
            "rgb(247,251,255)"
           ],
           [
            0.125,
            "rgb(222,235,247)"
           ],
           [
            0.25,
            "rgb(198,219,239)"
           ],
           [
            0.375,
            "rgb(158,202,225)"
           ],
           [
            0.5,
            "rgb(107,174,214)"
           ],
           [
            0.625,
            "rgb(66,146,198)"
           ],
           [
            0.75,
            "rgb(33,113,181)"
           ],
           [
            0.875,
            "rgb(8,81,156)"
           ],
           [
            1,
            "rgb(8,48,107)"
           ]
          ],
          "line": {
           "color": "Grey",
           "width": 0.5
          },
          "showscale": false
         },
         "mode": "markers",
         "name": "Feasible Trial",
         "showlegend": false,
         "type": "scatter",
         "x": [
          "vector",
          "svn",
          "normal",
          "svn",
          "svn",
          "vector",
          "vector",
          "vector",
          "vector",
          "vector",
          "vector",
          "vector",
          "vector",
          "svn",
          "svn",
          "normal",
          "normal",
          "svn",
          "svn",
          "normal",
          "normal",
          "normal",
          "normal",
          "normal",
          "normal",
          "normal",
          "normal",
          "normal",
          "normal",
          "normal",
          "normal",
          "normal",
          "normal",
          "normal",
          "normal",
          "normal",
          "normal",
          "normal",
          "normal",
          "svn",
          "svn",
          "svn",
          "svn",
          "svn",
          "svn",
          "svn",
          "svn",
          "svn",
          "svn",
          "svn",
          "normal",
          "normal",
          "normal",
          "normal",
          "normal",
          "svn",
          "svn",
          "svn",
          "svn",
          "svn",
          "svn",
          "svn",
          "svn",
          "svn",
          "svn",
          "svn",
          "svn",
          "vector",
          "vector",
          "vector"
         ],
         "xaxis": "x10",
         "y": [
          0.5612466422507747,
          0.6126166197180338,
          0.6124556818244843,
          0.37426255914628004,
          0.5823966223434287,
          0.40938416067853006,
          0.5580242381700661,
          0.5106351821420321,
          0.5276454714449723,
          0.5309475217482701,
          0.5477796057560196,
          0.5317547286779962,
          0.5626707529711285,
          0.5328117234836602,
          0.5837950046240759,
          0.5926878480105857,
          0.604700033933933,
          0.5777005706676255,
          0.5739695128624627,
          0.5133923375364231,
          0.561040841843513,
          0.6401257385841566,
          0.5958891711027602,
          0.5884734078061304,
          0.5672613795858552,
          0.5733502576801747,
          0.5898786105446547,
          0.5851313172570565,
          0.6014899650529266,
          0.5450445707528103,
          0.5783505672938268,
          0.6022725000365309,
          0.5712932583766681,
          0.6289554730888858,
          0.5863365051609543,
          0.493031504696025,
          0.5936994340173316,
          0.5710648630666058,
          0.5492185911363068,
          0.436980039943163,
          0.49873441509884664,
          0.5098820134114253,
          0.46637131234589224,
          0.5900486618205598,
          0.37016413413163535,
          0.6104251069180822,
          0.6013987039331583,
          0.6189622570986522,
          0.5665657437713216,
          0.6108802510263815,
          0.5054700216730004,
          0.5355874576192655,
          0.5768404068810495,
          0.5365519865954095,
          0.6340572810536633,
          0.5844164066762947,
          0.5993372433227648,
          0.5912613291798642,
          0.5725472814674605,
          0.6139476600044587,
          0.6151929882623562,
          0.5860172340124961,
          0.6047502826060697,
          0.6040121869774638,
          0.621727706489995,
          0.5822923673607601,
          0.615843737507483,
          0.5831427769791833,
          0.5793143585743696,
          0.6341258099520262
         ],
         "yaxis": "y10"
        },
        {
         "marker": {
          "color": [
           0,
           1,
           2,
           3,
           4,
           5,
           6,
           7,
           8,
           9,
           10,
           11,
           12,
           13,
           14,
           15,
           16,
           17,
           18,
           19,
           20,
           21,
           22,
           23,
           24,
           25,
           26,
           27,
           28,
           29,
           30,
           31,
           32,
           33,
           34,
           35,
           36,
           37,
           38,
           39,
           40,
           41,
           42,
           43,
           44,
           45,
           46,
           47,
           48,
           49,
           50,
           51,
           52,
           53,
           54,
           55,
           56,
           57,
           58,
           59,
           60,
           61,
           62,
           63,
           64,
           65,
           66,
           67,
           68,
           69,
           70,
           71,
           72,
           73,
           74,
           75,
           76,
           77,
           78,
           79,
           80,
           81,
           82,
           83,
           84,
           85,
           86,
           87,
           88,
           89,
           90,
           91,
           92,
           93,
           94,
           95,
           96,
           97,
           98,
           99
          ],
          "colorbar": {
           "title": {
            "text": "Trial"
           },
           "x": 1,
           "xpad": 40
          },
          "colorscale": [
           [
            0,
            "rgb(247,251,255)"
           ],
           [
            0.125,
            "rgb(222,235,247)"
           ],
           [
            0.25,
            "rgb(198,219,239)"
           ],
           [
            0.375,
            "rgb(158,202,225)"
           ],
           [
            0.5,
            "rgb(107,174,214)"
           ],
           [
            0.625,
            "rgb(66,146,198)"
           ],
           [
            0.75,
            "rgb(33,113,181)"
           ],
           [
            0.875,
            "rgb(8,81,156)"
           ],
           [
            1,
            "rgb(8,48,107)"
           ]
          ],
          "line": {
           "color": "Grey",
           "width": 0.5
          },
          "showscale": false
         },
         "mode": "markers",
         "name": "Feasible Trial",
         "showlegend": false,
         "type": "scatter",
         "x": [
          false,
          false,
          true,
          true,
          false,
          false,
          false,
          false,
          true,
          false,
          true,
          false,
          false,
          false,
          true,
          false,
          true,
          false,
          false,
          false,
          true,
          true,
          false,
          false,
          false,
          false,
          false,
          false,
          true,
          true,
          false,
          false,
          true,
          true,
          true,
          true,
          true,
          true,
          true,
          true,
          true,
          true,
          false,
          false,
          true,
          false,
          false,
          false,
          true,
          true,
          true,
          true,
          true,
          true,
          true,
          true,
          false,
          false,
          false,
          false,
          true,
          true,
          true,
          true,
          true,
          true,
          false,
          false,
          false,
          false,
          false,
          false,
          false,
          false,
          false,
          false,
          false,
          false,
          false,
          false,
          false,
          false,
          false,
          false,
          false,
          false,
          false,
          false,
          false,
          false,
          false,
          false,
          false,
          false,
          false,
          false,
          false,
          false,
          false,
          false
         ],
         "xaxis": "x11",
         "y": [
          0.5612466422507747,
          0.6126166197180338,
          0.37431651823313766,
          0.5261269841269842,
          0.542274092791787,
          0.468156685117481,
          0.5887744727179042,
          0.6124556818244843,
          0.6074722066471588,
          0.37426255914628004,
          0.5823966223434287,
          0.5083945179997811,
          0.4240506850718118,
          0.4384890161832873,
          0.3785170181623271,
          0.39472135899070937,
          0.41651248843663274,
          0.5292380952380953,
          0.4716613235633987,
          0.40938416067853006,
          0.5387755243231507,
          0.5580242381700661,
          0.5106351821420321,
          0.5276454714449723,
          0.5309475217482701,
          0.5477796057560196,
          0.5317547286779962,
          0.5626707529711285,
          0.5328117234836602,
          0.5837950046240759,
          0.5926878480105857,
          0.604700033933933,
          0.5777005706676255,
          0.5739695128624627,
          0.5133923375364231,
          0.561040841843513,
          0.6401257385841566,
          0.5958891711027602,
          0.5884734078061304,
          0.5672613795858552,
          0.5733502576801747,
          0.5898786105446547,
          0.5851313172570565,
          0.6014899650529266,
          0.5450445707528103,
          0.5783505672938268,
          0.6022725000365309,
          0.5712932583766681,
          0.6289554730888858,
          0.5863365051609543,
          0.493031504696025,
          0.46174484206546235,
          0.5936994340173316,
          0.5710648630666058,
          0.5492185911363068,
          0.46734855706914863,
          0.5599845186418183,
          0.513803738566027,
          0.5458526988530689,
          0.5470561150153516,
          0.5239381673903709,
          0.46597806881552434,
          0.4468584965674329,
          0.436980039943163,
          0.4725838390646054,
          0.4216978552375882,
          0.43231216191674526,
          0.3977560199815263,
          0.44349286103784225,
          0.47670726260492324,
          0.49873441509884664,
          0.5098820134114253,
          0.46637131234589224,
          0.5900486618205598,
          0.37016413413163535,
          0.6104251069180822,
          0.6013987039331583,
          0.6189622570986522,
          0.5665657437713216,
          0.6108802510263815,
          0.5054700216730004,
          0.5355874576192655,
          0.5768404068810495,
          0.5365519865954095,
          0.6340572810536633,
          0.5844164066762947,
          0.5993372433227648,
          0.5912613291798642,
          0.5725472814674605,
          0.6139476600044587,
          0.6151929882623562,
          0.5860172340124961,
          0.6047502826060697,
          0.6040121869774638,
          0.621727706489995,
          0.5822923673607601,
          0.615843737507483,
          0.5831427769791833,
          0.5793143585743696,
          0.6341258099520262
         ],
         "yaxis": "y11"
        },
        {
         "marker": {
          "color": [
           2,
           3,
           8,
           10,
           14,
           16,
           20,
           21,
           28,
           29,
           32,
           33,
           34,
           35,
           36,
           37,
           38,
           39,
           40,
           41,
           44,
           48,
           49,
           50,
           51,
           52,
           53,
           54,
           55,
           60,
           61,
           62,
           63,
           64,
           65
          ],
          "colorbar": {
           "title": {
            "text": "Trial"
           },
           "x": 1,
           "xpad": 40
          },
          "colorscale": [
           [
            0,
            "rgb(247,251,255)"
           ],
           [
            0.125,
            "rgb(222,235,247)"
           ],
           [
            0.25,
            "rgb(198,219,239)"
           ],
           [
            0.375,
            "rgb(158,202,225)"
           ],
           [
            0.5,
            "rgb(107,174,214)"
           ],
           [
            0.625,
            "rgb(66,146,198)"
           ],
           [
            0.75,
            "rgb(33,113,181)"
           ],
           [
            0.875,
            "rgb(8,81,156)"
           ],
           [
            1,
            "rgb(8,48,107)"
           ]
          ],
          "line": {
           "color": "Grey",
           "width": 0.5
          },
          "showscale": false
         },
         "mode": "markers",
         "name": "Feasible Trial",
         "showlegend": false,
         "type": "scatter",
         "x": [
          2,
          2,
          4,
          2,
          2,
          3,
          1,
          5,
          5,
          5,
          5,
          5,
          5,
          5,
          5,
          5,
          4,
          4,
          4,
          4,
          4,
          4,
          4,
          4,
          4,
          4,
          4,
          4,
          4,
          3,
          3,
          3,
          3,
          3,
          3
         ],
         "xaxis": "x12",
         "y": [
          0.37431651823313766,
          0.5261269841269842,
          0.6074722066471588,
          0.5823966223434287,
          0.3785170181623271,
          0.41651248843663274,
          0.5387755243231507,
          0.5580242381700661,
          0.5328117234836602,
          0.5837950046240759,
          0.5777005706676255,
          0.5739695128624627,
          0.5133923375364231,
          0.561040841843513,
          0.6401257385841566,
          0.5958891711027602,
          0.5884734078061304,
          0.5672613795858552,
          0.5733502576801747,
          0.5898786105446547,
          0.5450445707528103,
          0.6289554730888858,
          0.5863365051609543,
          0.493031504696025,
          0.46174484206546235,
          0.5936994340173316,
          0.5710648630666058,
          0.5492185911363068,
          0.46734855706914863,
          0.5239381673903709,
          0.46597806881552434,
          0.4468584965674329,
          0.436980039943163,
          0.4725838390646054,
          0.4216978552375882
         ],
         "yaxis": "y12"
        },
        {
         "marker": {
          "color": [
           2,
           3,
           8,
           10,
           14,
           16,
           20,
           21,
           28,
           29,
           32,
           33,
           34,
           35,
           36,
           37,
           38,
           39,
           40,
           41,
           44,
           48,
           49,
           50,
           51,
           52,
           53,
           54,
           55,
           60,
           61,
           62,
           63,
           64,
           65
          ],
          "colorbar": {
           "title": {
            "text": "Trial"
           },
           "x": 1,
           "xpad": 40
          },
          "colorscale": [
           [
            0,
            "rgb(247,251,255)"
           ],
           [
            0.125,
            "rgb(222,235,247)"
           ],
           [
            0.25,
            "rgb(198,219,239)"
           ],
           [
            0.375,
            "rgb(158,202,225)"
           ],
           [
            0.5,
            "rgb(107,174,214)"
           ],
           [
            0.625,
            "rgb(66,146,198)"
           ],
           [
            0.75,
            "rgb(33,113,181)"
           ],
           [
            0.875,
            "rgb(8,81,156)"
           ],
           [
            1,
            "rgb(8,48,107)"
           ]
          ],
          "line": {
           "color": "Grey",
           "width": 0.5
          },
          "showscale": false
         },
         "mode": "markers",
         "name": "Feasible Trial",
         "showlegend": false,
         "type": "scatter",
         "x": [
          187,
          234,
          52,
          188,
          209,
          81,
          211,
          11,
          20,
          11,
          127,
          27,
          22,
          10,
          19,
          96,
          122,
          121,
          111,
          110,
          111,
          70,
          77,
          71,
          66,
          68,
          62,
          59,
          58,
          56,
          57,
          57,
          52,
          50,
          46
         ],
         "xaxis": "x13",
         "y": [
          0.37431651823313766,
          0.5261269841269842,
          0.6074722066471588,
          0.5823966223434287,
          0.3785170181623271,
          0.41651248843663274,
          0.5387755243231507,
          0.5580242381700661,
          0.5328117234836602,
          0.5837950046240759,
          0.5777005706676255,
          0.5739695128624627,
          0.5133923375364231,
          0.561040841843513,
          0.6401257385841566,
          0.5958891711027602,
          0.5884734078061304,
          0.5672613795858552,
          0.5733502576801747,
          0.5898786105446547,
          0.5450445707528103,
          0.6289554730888858,
          0.5863365051609543,
          0.493031504696025,
          0.46174484206546235,
          0.5936994340173316,
          0.5710648630666058,
          0.5492185911363068,
          0.46734855706914863,
          0.5239381673903709,
          0.46597806881552434,
          0.4468584965674329,
          0.436980039943163,
          0.4725838390646054,
          0.4216978552375882
         ],
         "yaxis": "y13"
        }
       ],
       "layout": {
        "template": {
         "data": {
          "bar": [
           {
            "error_x": {
             "color": "#2a3f5f"
            },
            "error_y": {
             "color": "#2a3f5f"
            },
            "marker": {
             "line": {
              "color": "#E5ECF6",
              "width": 0.5
             },
             "pattern": {
              "fillmode": "overlay",
              "size": 10,
              "solidity": 0.2
             }
            },
            "type": "bar"
           }
          ],
          "barpolar": [
           {
            "marker": {
             "line": {
              "color": "#E5ECF6",
              "width": 0.5
             },
             "pattern": {
              "fillmode": "overlay",
              "size": 10,
              "solidity": 0.2
             }
            },
            "type": "barpolar"
           }
          ],
          "carpet": [
           {
            "aaxis": {
             "endlinecolor": "#2a3f5f",
             "gridcolor": "white",
             "linecolor": "white",
             "minorgridcolor": "white",
             "startlinecolor": "#2a3f5f"
            },
            "baxis": {
             "endlinecolor": "#2a3f5f",
             "gridcolor": "white",
             "linecolor": "white",
             "minorgridcolor": "white",
             "startlinecolor": "#2a3f5f"
            },
            "type": "carpet"
           }
          ],
          "choropleth": [
           {
            "colorbar": {
             "outlinewidth": 0,
             "ticks": ""
            },
            "type": "choropleth"
           }
          ],
          "contour": [
           {
            "colorbar": {
             "outlinewidth": 0,
             "ticks": ""
            },
            "colorscale": [
             [
              0,
              "#0d0887"
             ],
             [
              0.1111111111111111,
              "#46039f"
             ],
             [
              0.2222222222222222,
              "#7201a8"
             ],
             [
              0.3333333333333333,
              "#9c179e"
             ],
             [
              0.4444444444444444,
              "#bd3786"
             ],
             [
              0.5555555555555556,
              "#d8576b"
             ],
             [
              0.6666666666666666,
              "#ed7953"
             ],
             [
              0.7777777777777778,
              "#fb9f3a"
             ],
             [
              0.8888888888888888,
              "#fdca26"
             ],
             [
              1,
              "#f0f921"
             ]
            ],
            "type": "contour"
           }
          ],
          "contourcarpet": [
           {
            "colorbar": {
             "outlinewidth": 0,
             "ticks": ""
            },
            "type": "contourcarpet"
           }
          ],
          "heatmap": [
           {
            "colorbar": {
             "outlinewidth": 0,
             "ticks": ""
            },
            "colorscale": [
             [
              0,
              "#0d0887"
             ],
             [
              0.1111111111111111,
              "#46039f"
             ],
             [
              0.2222222222222222,
              "#7201a8"
             ],
             [
              0.3333333333333333,
              "#9c179e"
             ],
             [
              0.4444444444444444,
              "#bd3786"
             ],
             [
              0.5555555555555556,
              "#d8576b"
             ],
             [
              0.6666666666666666,
              "#ed7953"
             ],
             [
              0.7777777777777778,
              "#fb9f3a"
             ],
             [
              0.8888888888888888,
              "#fdca26"
             ],
             [
              1,
              "#f0f921"
             ]
            ],
            "type": "heatmap"
           }
          ],
          "heatmapgl": [
           {
            "colorbar": {
             "outlinewidth": 0,
             "ticks": ""
            },
            "colorscale": [
             [
              0,
              "#0d0887"
             ],
             [
              0.1111111111111111,
              "#46039f"
             ],
             [
              0.2222222222222222,
              "#7201a8"
             ],
             [
              0.3333333333333333,
              "#9c179e"
             ],
             [
              0.4444444444444444,
              "#bd3786"
             ],
             [
              0.5555555555555556,
              "#d8576b"
             ],
             [
              0.6666666666666666,
              "#ed7953"
             ],
             [
              0.7777777777777778,
              "#fb9f3a"
             ],
             [
              0.8888888888888888,
              "#fdca26"
             ],
             [
              1,
              "#f0f921"
             ]
            ],
            "type": "heatmapgl"
           }
          ],
          "histogram": [
           {
            "marker": {
             "pattern": {
              "fillmode": "overlay",
              "size": 10,
              "solidity": 0.2
             }
            },
            "type": "histogram"
           }
          ],
          "histogram2d": [
           {
            "colorbar": {
             "outlinewidth": 0,
             "ticks": ""
            },
            "colorscale": [
             [
              0,
              "#0d0887"
             ],
             [
              0.1111111111111111,
              "#46039f"
             ],
             [
              0.2222222222222222,
              "#7201a8"
             ],
             [
              0.3333333333333333,
              "#9c179e"
             ],
             [
              0.4444444444444444,
              "#bd3786"
             ],
             [
              0.5555555555555556,
              "#d8576b"
             ],
             [
              0.6666666666666666,
              "#ed7953"
             ],
             [
              0.7777777777777778,
              "#fb9f3a"
             ],
             [
              0.8888888888888888,
              "#fdca26"
             ],
             [
              1,
              "#f0f921"
             ]
            ],
            "type": "histogram2d"
           }
          ],
          "histogram2dcontour": [
           {
            "colorbar": {
             "outlinewidth": 0,
             "ticks": ""
            },
            "colorscale": [
             [
              0,
              "#0d0887"
             ],
             [
              0.1111111111111111,
              "#46039f"
             ],
             [
              0.2222222222222222,
              "#7201a8"
             ],
             [
              0.3333333333333333,
              "#9c179e"
             ],
             [
              0.4444444444444444,
              "#bd3786"
             ],
             [
              0.5555555555555556,
              "#d8576b"
             ],
             [
              0.6666666666666666,
              "#ed7953"
             ],
             [
              0.7777777777777778,
              "#fb9f3a"
             ],
             [
              0.8888888888888888,
              "#fdca26"
             ],
             [
              1,
              "#f0f921"
             ]
            ],
            "type": "histogram2dcontour"
           }
          ],
          "mesh3d": [
           {
            "colorbar": {
             "outlinewidth": 0,
             "ticks": ""
            },
            "type": "mesh3d"
           }
          ],
          "parcoords": [
           {
            "line": {
             "colorbar": {
              "outlinewidth": 0,
              "ticks": ""
             }
            },
            "type": "parcoords"
           }
          ],
          "pie": [
           {
            "automargin": true,
            "type": "pie"
           }
          ],
          "scatter": [
           {
            "fillpattern": {
             "fillmode": "overlay",
             "size": 10,
             "solidity": 0.2
            },
            "type": "scatter"
           }
          ],
          "scatter3d": [
           {
            "line": {
             "colorbar": {
              "outlinewidth": 0,
              "ticks": ""
             }
            },
            "marker": {
             "colorbar": {
              "outlinewidth": 0,
              "ticks": ""
             }
            },
            "type": "scatter3d"
           }
          ],
          "scattercarpet": [
           {
            "marker": {
             "colorbar": {
              "outlinewidth": 0,
              "ticks": ""
             }
            },
            "type": "scattercarpet"
           }
          ],
          "scattergeo": [
           {
            "marker": {
             "colorbar": {
              "outlinewidth": 0,
              "ticks": ""
             }
            },
            "type": "scattergeo"
           }
          ],
          "scattergl": [
           {
            "marker": {
             "colorbar": {
              "outlinewidth": 0,
              "ticks": ""
             }
            },
            "type": "scattergl"
           }
          ],
          "scattermapbox": [
           {
            "marker": {
             "colorbar": {
              "outlinewidth": 0,
              "ticks": ""
             }
            },
            "type": "scattermapbox"
           }
          ],
          "scatterpolar": [
           {
            "marker": {
             "colorbar": {
              "outlinewidth": 0,
              "ticks": ""
             }
            },
            "type": "scatterpolar"
           }
          ],
          "scatterpolargl": [
           {
            "marker": {
             "colorbar": {
              "outlinewidth": 0,
              "ticks": ""
             }
            },
            "type": "scatterpolargl"
           }
          ],
          "scatterternary": [
           {
            "marker": {
             "colorbar": {
              "outlinewidth": 0,
              "ticks": ""
             }
            },
            "type": "scatterternary"
           }
          ],
          "surface": [
           {
            "colorbar": {
             "outlinewidth": 0,
             "ticks": ""
            },
            "colorscale": [
             [
              0,
              "#0d0887"
             ],
             [
              0.1111111111111111,
              "#46039f"
             ],
             [
              0.2222222222222222,
              "#7201a8"
             ],
             [
              0.3333333333333333,
              "#9c179e"
             ],
             [
              0.4444444444444444,
              "#bd3786"
             ],
             [
              0.5555555555555556,
              "#d8576b"
             ],
             [
              0.6666666666666666,
              "#ed7953"
             ],
             [
              0.7777777777777778,
              "#fb9f3a"
             ],
             [
              0.8888888888888888,
              "#fdca26"
             ],
             [
              1,
              "#f0f921"
             ]
            ],
            "type": "surface"
           }
          ],
          "table": [
           {
            "cells": {
             "fill": {
              "color": "#EBF0F8"
             },
             "line": {
              "color": "white"
             }
            },
            "header": {
             "fill": {
              "color": "#C8D4E3"
             },
             "line": {
              "color": "white"
             }
            },
            "type": "table"
           }
          ]
         },
         "layout": {
          "annotationdefaults": {
           "arrowcolor": "#2a3f5f",
           "arrowhead": 0,
           "arrowwidth": 1
          },
          "autotypenumbers": "strict",
          "coloraxis": {
           "colorbar": {
            "outlinewidth": 0,
            "ticks": ""
           }
          },
          "colorscale": {
           "diverging": [
            [
             0,
             "#8e0152"
            ],
            [
             0.1,
             "#c51b7d"
            ],
            [
             0.2,
             "#de77ae"
            ],
            [
             0.3,
             "#f1b6da"
            ],
            [
             0.4,
             "#fde0ef"
            ],
            [
             0.5,
             "#f7f7f7"
            ],
            [
             0.6,
             "#e6f5d0"
            ],
            [
             0.7,
             "#b8e186"
            ],
            [
             0.8,
             "#7fbc41"
            ],
            [
             0.9,
             "#4d9221"
            ],
            [
             1,
             "#276419"
            ]
           ],
           "sequential": [
            [
             0,
             "#0d0887"
            ],
            [
             0.1111111111111111,
             "#46039f"
            ],
            [
             0.2222222222222222,
             "#7201a8"
            ],
            [
             0.3333333333333333,
             "#9c179e"
            ],
            [
             0.4444444444444444,
             "#bd3786"
            ],
            [
             0.5555555555555556,
             "#d8576b"
            ],
            [
             0.6666666666666666,
             "#ed7953"
            ],
            [
             0.7777777777777778,
             "#fb9f3a"
            ],
            [
             0.8888888888888888,
             "#fdca26"
            ],
            [
             1,
             "#f0f921"
            ]
           ],
           "sequentialminus": [
            [
             0,
             "#0d0887"
            ],
            [
             0.1111111111111111,
             "#46039f"
            ],
            [
             0.2222222222222222,
             "#7201a8"
            ],
            [
             0.3333333333333333,
             "#9c179e"
            ],
            [
             0.4444444444444444,
             "#bd3786"
            ],
            [
             0.5555555555555556,
             "#d8576b"
            ],
            [
             0.6666666666666666,
             "#ed7953"
            ],
            [
             0.7777777777777778,
             "#fb9f3a"
            ],
            [
             0.8888888888888888,
             "#fdca26"
            ],
            [
             1,
             "#f0f921"
            ]
           ]
          },
          "colorway": [
           "#636efa",
           "#EF553B",
           "#00cc96",
           "#ab63fa",
           "#FFA15A",
           "#19d3f3",
           "#FF6692",
           "#B6E880",
           "#FF97FF",
           "#FECB52"
          ],
          "font": {
           "color": "#2a3f5f"
          },
          "geo": {
           "bgcolor": "white",
           "lakecolor": "white",
           "landcolor": "#E5ECF6",
           "showlakes": true,
           "showland": true,
           "subunitcolor": "white"
          },
          "hoverlabel": {
           "align": "left"
          },
          "hovermode": "closest",
          "mapbox": {
           "style": "light"
          },
          "paper_bgcolor": "white",
          "plot_bgcolor": "#E5ECF6",
          "polar": {
           "angularaxis": {
            "gridcolor": "white",
            "linecolor": "white",
            "ticks": ""
           },
           "bgcolor": "#E5ECF6",
           "radialaxis": {
            "gridcolor": "white",
            "linecolor": "white",
            "ticks": ""
           }
          },
          "scene": {
           "xaxis": {
            "backgroundcolor": "#E5ECF6",
            "gridcolor": "white",
            "gridwidth": 2,
            "linecolor": "white",
            "showbackground": true,
            "ticks": "",
            "zerolinecolor": "white"
           },
           "yaxis": {
            "backgroundcolor": "#E5ECF6",
            "gridcolor": "white",
            "gridwidth": 2,
            "linecolor": "white",
            "showbackground": true,
            "ticks": "",
            "zerolinecolor": "white"
           },
           "zaxis": {
            "backgroundcolor": "#E5ECF6",
            "gridcolor": "white",
            "gridwidth": 2,
            "linecolor": "white",
            "showbackground": true,
            "ticks": "",
            "zerolinecolor": "white"
           }
          },
          "shapedefaults": {
           "line": {
            "color": "#2a3f5f"
           }
          },
          "ternary": {
           "aaxis": {
            "gridcolor": "white",
            "linecolor": "white",
            "ticks": ""
           },
           "baxis": {
            "gridcolor": "white",
            "linecolor": "white",
            "ticks": ""
           },
           "bgcolor": "#E5ECF6",
           "caxis": {
            "gridcolor": "white",
            "linecolor": "white",
            "ticks": ""
           }
          },
          "title": {
           "x": 0.05
          },
          "xaxis": {
           "automargin": true,
           "gridcolor": "white",
           "linecolor": "white",
           "ticks": "",
           "title": {
            "standoff": 15
           },
           "zerolinecolor": "white",
           "zerolinewidth": 2
          },
          "yaxis": {
           "automargin": true,
           "gridcolor": "white",
           "linecolor": "white",
           "ticks": "",
           "title": {
            "standoff": 15
           },
           "zerolinecolor": "white",
           "zerolinewidth": 2
          }
         }
        },
        "title": {
         "text": "Slice Plot"
        },
        "width": 3900,
        "xaxis": {
         "anchor": "y",
         "categoryarray": [
          100,
          1000,
          10000,
          100000,
          1000000,
          10000000,
          100000000,
          1000000000,
          10000000000,
          100000000000
         ],
         "categoryorder": "array",
         "domain": [
          0,
          0.06272189349112425
         ],
         "title": {
          "text": "asls_lam"
         },
         "type": "category"
        },
        "xaxis10": {
         "anchor": "y10",
         "categoryarray": [
          "normal",
          "vector",
          "svn"
         ],
         "categoryorder": "array",
         "domain": [
          0.7029585798816567,
          0.7656804733727809
         ],
         "title": {
          "text": "scaling_type"
         },
         "type": "category"
        },
        "xaxis11": {
         "anchor": "y11",
         "categoryarray": [
          true,
          false
         ],
         "categoryorder": "array",
         "domain": [
          0.7810650887573962,
          0.8437869822485204
         ],
         "title": {
          "text": "smoothing"
         },
         "type": "category"
        },
        "xaxis12": {
         "anchor": "y12",
         "domain": [
          0.8591715976331358,
          0.92189349112426
         ],
         "title": {
          "text": "smoothing_poly_order"
         }
        },
        "xaxis13": {
         "anchor": "y13",
         "domain": [
          0.9372781065088754,
          0.9999999999999997
         ],
         "title": {
          "text": "window_size"
         }
        },
        "xaxis2": {
         "anchor": "y2",
         "domain": [
          0.07810650887573964,
          0.1408284023668639
         ],
         "title": {
          "text": "asls_p"
         }
        },
        "xaxis3": {
         "anchor": "y3",
         "categoryarray": [
          true,
          false
         ],
         "categoryorder": "array",
         "domain": [
          0.15621301775147928,
          0.21893491124260353
         ],
         "title": {
          "text": "baseline_correct"
         },
         "type": "category"
        },
        "xaxis4": {
         "anchor": "y4",
         "categoryarray": [
          "ExtraTrees",
          "RandomForest",
          "SVC"
         ],
         "categoryorder": "array",
         "domain": [
          0.23431952662721892,
          0.29704142011834317
         ],
         "title": {
          "text": "classifier"
         },
         "type": "category"
        },
        "xaxis5": {
         "anchor": "y5",
         "categoryarray": [
          true,
          false
         ],
         "categoryorder": "array",
         "domain": [
          0.31242603550295855,
          0.3751479289940828
         ],
         "title": {
          "text": "despike"
         },
         "type": "category"
        },
        "xaxis6": {
         "anchor": "y6",
         "domain": [
          0.39053254437869817,
          0.45325443786982245
         ],
         "title": {
          "text": "despike_ma"
         }
        },
        "xaxis7": {
         "anchor": "y7",
         "domain": [
          0.4686390532544378,
          0.531360946745562
         ],
         "title": {
          "text": "despike_threshold"
         }
        },
        "xaxis8": {
         "anchor": "y8",
         "domain": [
          0.5467455621301773,
          0.6094674556213016
         ],
         "title": {
          "text": "pagerank_cutoff"
         }
        },
        "xaxis9": {
         "anchor": "y9",
         "categoryarray": [
          true,
          false
         ],
         "categoryorder": "array",
         "domain": [
          0.624852071005917,
          0.6875739644970412
         ],
         "title": {
          "text": "scaling"
         },
         "type": "category"
        },
        "yaxis": {
         "anchor": "x",
         "domain": [
          0,
          1
         ],
         "title": {
          "text": "Objective Value"
         }
        },
        "yaxis10": {
         "anchor": "x10",
         "domain": [
          0,
          1
         ],
         "matches": "y",
         "showticklabels": false
        },
        "yaxis11": {
         "anchor": "x11",
         "domain": [
          0,
          1
         ],
         "matches": "y",
         "showticklabels": false
        },
        "yaxis12": {
         "anchor": "x12",
         "domain": [
          0,
          1
         ],
         "matches": "y",
         "showticklabels": false
        },
        "yaxis13": {
         "anchor": "x13",
         "domain": [
          0,
          1
         ],
         "matches": "y",
         "showticklabels": false
        },
        "yaxis2": {
         "anchor": "x2",
         "domain": [
          0,
          1
         ],
         "matches": "y",
         "showticklabels": false
        },
        "yaxis3": {
         "anchor": "x3",
         "domain": [
          0,
          1
         ],
         "matches": "y",
         "showticklabels": false
        },
        "yaxis4": {
         "anchor": "x4",
         "domain": [
          0,
          1
         ],
         "matches": "y",
         "showticklabels": false
        },
        "yaxis5": {
         "anchor": "x5",
         "domain": [
          0,
          1
         ],
         "matches": "y",
         "showticklabels": false
        },
        "yaxis6": {
         "anchor": "x6",
         "domain": [
          0,
          1
         ],
         "matches": "y",
         "showticklabels": false
        },
        "yaxis7": {
         "anchor": "x7",
         "domain": [
          0,
          1
         ],
         "matches": "y",
         "showticklabels": false
        },
        "yaxis8": {
         "anchor": "x8",
         "domain": [
          0,
          1
         ],
         "matches": "y",
         "showticklabels": false
        },
        "yaxis9": {
         "anchor": "x9",
         "domain": [
          0,
          1
         ],
         "matches": "y",
         "showticklabels": false
        }
       }
      }
     },
     "metadata": {},
     "output_type": "display_data"
    }
   ],
   "source": [
    "plot_slice(study)"
   ]
  },
  {
   "cell_type": "code",
   "execution_count": 18,
   "metadata": {},
   "outputs": [
    {
     "data": {
      "application/vnd.plotly.v1+json": {
       "config": {
        "plotlyServerURL": "https://plot.ly"
       },
       "data": [
        {
         "cliponaxis": false,
         "hovertemplate": [
          "baseline_correct (CategoricalDistribution): 0.005721300256070546<extra></extra>",
          "despike (CategoricalDistribution): 0.008586258497253682<extra></extra>",
          "smoothing (CategoricalDistribution): 0.010916374262664638<extra></extra>",
          "classifier (CategoricalDistribution): 0.14520040103357748<extra></extra>",
          "scaling (CategoricalDistribution): 0.2671965405170183<extra></extra>",
          "pagerank_cutoff (FloatDistribution): 0.5623791254334153<extra></extra>"
         ],
         "name": "Objective Value",
         "orientation": "h",
         "text": [
          "<0.01",
          "<0.01",
          "0.01",
          "0.15",
          "0.27",
          "0.56"
         ],
         "textposition": "outside",
         "type": "bar",
         "x": [
          0.005721300256070546,
          0.008586258497253682,
          0.010916374262664638,
          0.14520040103357748,
          0.2671965405170183,
          0.5623791254334153
         ],
         "y": [
          "baseline_correct",
          "despike",
          "smoothing",
          "classifier",
          "scaling",
          "pagerank_cutoff"
         ]
        }
       ],
       "layout": {
        "template": {
         "data": {
          "bar": [
           {
            "error_x": {
             "color": "#2a3f5f"
            },
            "error_y": {
             "color": "#2a3f5f"
            },
            "marker": {
             "line": {
              "color": "#E5ECF6",
              "width": 0.5
             },
             "pattern": {
              "fillmode": "overlay",
              "size": 10,
              "solidity": 0.2
             }
            },
            "type": "bar"
           }
          ],
          "barpolar": [
           {
            "marker": {
             "line": {
              "color": "#E5ECF6",
              "width": 0.5
             },
             "pattern": {
              "fillmode": "overlay",
              "size": 10,
              "solidity": 0.2
             }
            },
            "type": "barpolar"
           }
          ],
          "carpet": [
           {
            "aaxis": {
             "endlinecolor": "#2a3f5f",
             "gridcolor": "white",
             "linecolor": "white",
             "minorgridcolor": "white",
             "startlinecolor": "#2a3f5f"
            },
            "baxis": {
             "endlinecolor": "#2a3f5f",
             "gridcolor": "white",
             "linecolor": "white",
             "minorgridcolor": "white",
             "startlinecolor": "#2a3f5f"
            },
            "type": "carpet"
           }
          ],
          "choropleth": [
           {
            "colorbar": {
             "outlinewidth": 0,
             "ticks": ""
            },
            "type": "choropleth"
           }
          ],
          "contour": [
           {
            "colorbar": {
             "outlinewidth": 0,
             "ticks": ""
            },
            "colorscale": [
             [
              0,
              "#0d0887"
             ],
             [
              0.1111111111111111,
              "#46039f"
             ],
             [
              0.2222222222222222,
              "#7201a8"
             ],
             [
              0.3333333333333333,
              "#9c179e"
             ],
             [
              0.4444444444444444,
              "#bd3786"
             ],
             [
              0.5555555555555556,
              "#d8576b"
             ],
             [
              0.6666666666666666,
              "#ed7953"
             ],
             [
              0.7777777777777778,
              "#fb9f3a"
             ],
             [
              0.8888888888888888,
              "#fdca26"
             ],
             [
              1,
              "#f0f921"
             ]
            ],
            "type": "contour"
           }
          ],
          "contourcarpet": [
           {
            "colorbar": {
             "outlinewidth": 0,
             "ticks": ""
            },
            "type": "contourcarpet"
           }
          ],
          "heatmap": [
           {
            "colorbar": {
             "outlinewidth": 0,
             "ticks": ""
            },
            "colorscale": [
             [
              0,
              "#0d0887"
             ],
             [
              0.1111111111111111,
              "#46039f"
             ],
             [
              0.2222222222222222,
              "#7201a8"
             ],
             [
              0.3333333333333333,
              "#9c179e"
             ],
             [
              0.4444444444444444,
              "#bd3786"
             ],
             [
              0.5555555555555556,
              "#d8576b"
             ],
             [
              0.6666666666666666,
              "#ed7953"
             ],
             [
              0.7777777777777778,
              "#fb9f3a"
             ],
             [
              0.8888888888888888,
              "#fdca26"
             ],
             [
              1,
              "#f0f921"
             ]
            ],
            "type": "heatmap"
           }
          ],
          "heatmapgl": [
           {
            "colorbar": {
             "outlinewidth": 0,
             "ticks": ""
            },
            "colorscale": [
             [
              0,
              "#0d0887"
             ],
             [
              0.1111111111111111,
              "#46039f"
             ],
             [
              0.2222222222222222,
              "#7201a8"
             ],
             [
              0.3333333333333333,
              "#9c179e"
             ],
             [
              0.4444444444444444,
              "#bd3786"
             ],
             [
              0.5555555555555556,
              "#d8576b"
             ],
             [
              0.6666666666666666,
              "#ed7953"
             ],
             [
              0.7777777777777778,
              "#fb9f3a"
             ],
             [
              0.8888888888888888,
              "#fdca26"
             ],
             [
              1,
              "#f0f921"
             ]
            ],
            "type": "heatmapgl"
           }
          ],
          "histogram": [
           {
            "marker": {
             "pattern": {
              "fillmode": "overlay",
              "size": 10,
              "solidity": 0.2
             }
            },
            "type": "histogram"
           }
          ],
          "histogram2d": [
           {
            "colorbar": {
             "outlinewidth": 0,
             "ticks": ""
            },
            "colorscale": [
             [
              0,
              "#0d0887"
             ],
             [
              0.1111111111111111,
              "#46039f"
             ],
             [
              0.2222222222222222,
              "#7201a8"
             ],
             [
              0.3333333333333333,
              "#9c179e"
             ],
             [
              0.4444444444444444,
              "#bd3786"
             ],
             [
              0.5555555555555556,
              "#d8576b"
             ],
             [
              0.6666666666666666,
              "#ed7953"
             ],
             [
              0.7777777777777778,
              "#fb9f3a"
             ],
             [
              0.8888888888888888,
              "#fdca26"
             ],
             [
              1,
              "#f0f921"
             ]
            ],
            "type": "histogram2d"
           }
          ],
          "histogram2dcontour": [
           {
            "colorbar": {
             "outlinewidth": 0,
             "ticks": ""
            },
            "colorscale": [
             [
              0,
              "#0d0887"
             ],
             [
              0.1111111111111111,
              "#46039f"
             ],
             [
              0.2222222222222222,
              "#7201a8"
             ],
             [
              0.3333333333333333,
              "#9c179e"
             ],
             [
              0.4444444444444444,
              "#bd3786"
             ],
             [
              0.5555555555555556,
              "#d8576b"
             ],
             [
              0.6666666666666666,
              "#ed7953"
             ],
             [
              0.7777777777777778,
              "#fb9f3a"
             ],
             [
              0.8888888888888888,
              "#fdca26"
             ],
             [
              1,
              "#f0f921"
             ]
            ],
            "type": "histogram2dcontour"
           }
          ],
          "mesh3d": [
           {
            "colorbar": {
             "outlinewidth": 0,
             "ticks": ""
            },
            "type": "mesh3d"
           }
          ],
          "parcoords": [
           {
            "line": {
             "colorbar": {
              "outlinewidth": 0,
              "ticks": ""
             }
            },
            "type": "parcoords"
           }
          ],
          "pie": [
           {
            "automargin": true,
            "type": "pie"
           }
          ],
          "scatter": [
           {
            "fillpattern": {
             "fillmode": "overlay",
             "size": 10,
             "solidity": 0.2
            },
            "type": "scatter"
           }
          ],
          "scatter3d": [
           {
            "line": {
             "colorbar": {
              "outlinewidth": 0,
              "ticks": ""
             }
            },
            "marker": {
             "colorbar": {
              "outlinewidth": 0,
              "ticks": ""
             }
            },
            "type": "scatter3d"
           }
          ],
          "scattercarpet": [
           {
            "marker": {
             "colorbar": {
              "outlinewidth": 0,
              "ticks": ""
             }
            },
            "type": "scattercarpet"
           }
          ],
          "scattergeo": [
           {
            "marker": {
             "colorbar": {
              "outlinewidth": 0,
              "ticks": ""
             }
            },
            "type": "scattergeo"
           }
          ],
          "scattergl": [
           {
            "marker": {
             "colorbar": {
              "outlinewidth": 0,
              "ticks": ""
             }
            },
            "type": "scattergl"
           }
          ],
          "scattermapbox": [
           {
            "marker": {
             "colorbar": {
              "outlinewidth": 0,
              "ticks": ""
             }
            },
            "type": "scattermapbox"
           }
          ],
          "scatterpolar": [
           {
            "marker": {
             "colorbar": {
              "outlinewidth": 0,
              "ticks": ""
             }
            },
            "type": "scatterpolar"
           }
          ],
          "scatterpolargl": [
           {
            "marker": {
             "colorbar": {
              "outlinewidth": 0,
              "ticks": ""
             }
            },
            "type": "scatterpolargl"
           }
          ],
          "scatterternary": [
           {
            "marker": {
             "colorbar": {
              "outlinewidth": 0,
              "ticks": ""
             }
            },
            "type": "scatterternary"
           }
          ],
          "surface": [
           {
            "colorbar": {
             "outlinewidth": 0,
             "ticks": ""
            },
            "colorscale": [
             [
              0,
              "#0d0887"
             ],
             [
              0.1111111111111111,
              "#46039f"
             ],
             [
              0.2222222222222222,
              "#7201a8"
             ],
             [
              0.3333333333333333,
              "#9c179e"
             ],
             [
              0.4444444444444444,
              "#bd3786"
             ],
             [
              0.5555555555555556,
              "#d8576b"
             ],
             [
              0.6666666666666666,
              "#ed7953"
             ],
             [
              0.7777777777777778,
              "#fb9f3a"
             ],
             [
              0.8888888888888888,
              "#fdca26"
             ],
             [
              1,
              "#f0f921"
             ]
            ],
            "type": "surface"
           }
          ],
          "table": [
           {
            "cells": {
             "fill": {
              "color": "#EBF0F8"
             },
             "line": {
              "color": "white"
             }
            },
            "header": {
             "fill": {
              "color": "#C8D4E3"
             },
             "line": {
              "color": "white"
             }
            },
            "type": "table"
           }
          ]
         },
         "layout": {
          "annotationdefaults": {
           "arrowcolor": "#2a3f5f",
           "arrowhead": 0,
           "arrowwidth": 1
          },
          "autotypenumbers": "strict",
          "coloraxis": {
           "colorbar": {
            "outlinewidth": 0,
            "ticks": ""
           }
          },
          "colorscale": {
           "diverging": [
            [
             0,
             "#8e0152"
            ],
            [
             0.1,
             "#c51b7d"
            ],
            [
             0.2,
             "#de77ae"
            ],
            [
             0.3,
             "#f1b6da"
            ],
            [
             0.4,
             "#fde0ef"
            ],
            [
             0.5,
             "#f7f7f7"
            ],
            [
             0.6,
             "#e6f5d0"
            ],
            [
             0.7,
             "#b8e186"
            ],
            [
             0.8,
             "#7fbc41"
            ],
            [
             0.9,
             "#4d9221"
            ],
            [
             1,
             "#276419"
            ]
           ],
           "sequential": [
            [
             0,
             "#0d0887"
            ],
            [
             0.1111111111111111,
             "#46039f"
            ],
            [
             0.2222222222222222,
             "#7201a8"
            ],
            [
             0.3333333333333333,
             "#9c179e"
            ],
            [
             0.4444444444444444,
             "#bd3786"
            ],
            [
             0.5555555555555556,
             "#d8576b"
            ],
            [
             0.6666666666666666,
             "#ed7953"
            ],
            [
             0.7777777777777778,
             "#fb9f3a"
            ],
            [
             0.8888888888888888,
             "#fdca26"
            ],
            [
             1,
             "#f0f921"
            ]
           ],
           "sequentialminus": [
            [
             0,
             "#0d0887"
            ],
            [
             0.1111111111111111,
             "#46039f"
            ],
            [
             0.2222222222222222,
             "#7201a8"
            ],
            [
             0.3333333333333333,
             "#9c179e"
            ],
            [
             0.4444444444444444,
             "#bd3786"
            ],
            [
             0.5555555555555556,
             "#d8576b"
            ],
            [
             0.6666666666666666,
             "#ed7953"
            ],
            [
             0.7777777777777778,
             "#fb9f3a"
            ],
            [
             0.8888888888888888,
             "#fdca26"
            ],
            [
             1,
             "#f0f921"
            ]
           ]
          },
          "colorway": [
           "#636efa",
           "#EF553B",
           "#00cc96",
           "#ab63fa",
           "#FFA15A",
           "#19d3f3",
           "#FF6692",
           "#B6E880",
           "#FF97FF",
           "#FECB52"
          ],
          "font": {
           "color": "#2a3f5f"
          },
          "geo": {
           "bgcolor": "white",
           "lakecolor": "white",
           "landcolor": "#E5ECF6",
           "showlakes": true,
           "showland": true,
           "subunitcolor": "white"
          },
          "hoverlabel": {
           "align": "left"
          },
          "hovermode": "closest",
          "mapbox": {
           "style": "light"
          },
          "paper_bgcolor": "white",
          "plot_bgcolor": "#E5ECF6",
          "polar": {
           "angularaxis": {
            "gridcolor": "white",
            "linecolor": "white",
            "ticks": ""
           },
           "bgcolor": "#E5ECF6",
           "radialaxis": {
            "gridcolor": "white",
            "linecolor": "white",
            "ticks": ""
           }
          },
          "scene": {
           "xaxis": {
            "backgroundcolor": "#E5ECF6",
            "gridcolor": "white",
            "gridwidth": 2,
            "linecolor": "white",
            "showbackground": true,
            "ticks": "",
            "zerolinecolor": "white"
           },
           "yaxis": {
            "backgroundcolor": "#E5ECF6",
            "gridcolor": "white",
            "gridwidth": 2,
            "linecolor": "white",
            "showbackground": true,
            "ticks": "",
            "zerolinecolor": "white"
           },
           "zaxis": {
            "backgroundcolor": "#E5ECF6",
            "gridcolor": "white",
            "gridwidth": 2,
            "linecolor": "white",
            "showbackground": true,
            "ticks": "",
            "zerolinecolor": "white"
           }
          },
          "shapedefaults": {
           "line": {
            "color": "#2a3f5f"
           }
          },
          "ternary": {
           "aaxis": {
            "gridcolor": "white",
            "linecolor": "white",
            "ticks": ""
           },
           "baxis": {
            "gridcolor": "white",
            "linecolor": "white",
            "ticks": ""
           },
           "bgcolor": "#E5ECF6",
           "caxis": {
            "gridcolor": "white",
            "linecolor": "white",
            "ticks": ""
           }
          },
          "title": {
           "x": 0.05
          },
          "xaxis": {
           "automargin": true,
           "gridcolor": "white",
           "linecolor": "white",
           "ticks": "",
           "title": {
            "standoff": 15
           },
           "zerolinecolor": "white",
           "zerolinewidth": 2
          },
          "yaxis": {
           "automargin": true,
           "gridcolor": "white",
           "linecolor": "white",
           "ticks": "",
           "title": {
            "standoff": 15
           },
           "zerolinecolor": "white",
           "zerolinewidth": 2
          }
         }
        },
        "title": {
         "text": "Hyperparameter Importances"
        },
        "xaxis": {
         "title": {
          "text": "Hyperparameter Importance"
         }
        },
        "yaxis": {
         "title": {
          "text": "Hyperparameter"
         }
        }
       }
      }
     },
     "metadata": {},
     "output_type": "display_data"
    }
   ],
   "source": [
    "optuna.visualization.plot_param_importances(study)"
   ]
  },
  {
   "cell_type": "markdown",
   "metadata": {},
   "source": [
    "Continue the study."
   ]
  },
  {
   "cell_type": "code",
   "execution_count": 13,
   "metadata": {},
   "outputs": [
    {
     "name": "stderr",
     "output_type": "stream",
     "text": [
      "[I 2024-04-14 21:55:53,212] Trial 105 finished with value: 0.5075132071092399 and parameters: {'pagerank_cutoff': 1.1337531766433488, 'despike': False, 'baseline_correct': False, 'smoothing': False, 'scaling': True, 'scaling_type': 'vector', 'classifier': 'RandomForest'}. Best is trial 36 with value: 0.6401257385841566.\n",
      "[I 2024-04-14 21:55:56,034] Trial 100 finished with value: 0.5389669379012281 and parameters: {'pagerank_cutoff': 1.1192716536233007, 'despike': False, 'baseline_correct': False, 'smoothing': False, 'scaling': True, 'scaling_type': 'vector', 'classifier': 'RandomForest'}. Best is trial 36 with value: 0.6401257385841566.\n",
      "[I 2024-04-14 21:56:02,516] Trial 101 finished with value: 0.5786227372685745 and parameters: {'pagerank_cutoff': 0.865728444258421, 'despike': False, 'baseline_correct': False, 'smoothing': False, 'scaling': True, 'scaling_type': 'vector', 'classifier': 'RandomForest'}. Best is trial 36 with value: 0.6401257385841566.\n",
      "[I 2024-04-14 21:56:06,932] Trial 110 finished with value: 0.5752874588658488 and parameters: {'pagerank_cutoff': 0.8782713956528612, 'despike': False, 'baseline_correct': False, 'smoothing': False, 'scaling': True, 'scaling_type': 'vector', 'classifier': 'RandomForest'}. Best is trial 36 with value: 0.6401257385841566.\n",
      "[I 2024-04-14 21:56:12,183] Trial 108 finished with value: 0.5704921773028206 and parameters: {'pagerank_cutoff': 0.8640703971351287, 'despike': False, 'baseline_correct': False, 'smoothing': False, 'scaling': True, 'scaling_type': 'vector', 'classifier': 'RandomForest'}. Best is trial 36 with value: 0.6401257385841566.\n",
      "[I 2024-04-14 21:56:29,872] Trial 104 finished with value: 0.6047812371897012 and parameters: {'pagerank_cutoff': 0.8482162064179907, 'despike': False, 'baseline_correct': False, 'smoothing': False, 'scaling': True, 'scaling_type': 'vector', 'classifier': 'RandomForest'}. Best is trial 36 with value: 0.6401257385841566.\n",
      "[I 2024-04-14 21:56:31,837] Trial 111 finished with value: 0.5769908373174841 and parameters: {'pagerank_cutoff': 0.8537074429505319, 'despike': False, 'baseline_correct': False, 'smoothing': False, 'scaling': True, 'scaling_type': 'vector', 'classifier': 'RandomForest'}. Best is trial 36 with value: 0.6401257385841566.\n",
      "[I 2024-04-14 21:56:39,949] Trial 103 finished with value: 0.5591154167882124 and parameters: {'pagerank_cutoff': 0.8569739024494837, 'despike': False, 'baseline_correct': False, 'smoothing': False, 'scaling': True, 'scaling_type': 'vector', 'classifier': 'RandomForest'}. Best is trial 36 with value: 0.6401257385841566.\n",
      "[I 2024-04-14 21:56:41,838] Trial 106 finished with value: 0.560701792050718 and parameters: {'pagerank_cutoff': 0.8465695804406372, 'despike': False, 'baseline_correct': False, 'smoothing': False, 'scaling': True, 'scaling_type': 'vector', 'classifier': 'RandomForest'}. Best is trial 36 with value: 0.6401257385841566.\n",
      "[I 2024-04-14 21:56:42,053] Trial 109 finished with value: 0.5546108953350821 and parameters: {'pagerank_cutoff': 0.8546549870223863, 'despike': False, 'baseline_correct': False, 'smoothing': False, 'scaling': True, 'scaling_type': 'vector', 'classifier': 'RandomForest'}. Best is trial 36 with value: 0.6401257385841566.\n",
      "[I 2024-04-14 21:56:42,557] Trial 107 finished with value: 0.5550822109216893 and parameters: {'pagerank_cutoff': 0.846119107395533, 'despike': False, 'baseline_correct': False, 'smoothing': False, 'scaling': True, 'scaling_type': 'vector', 'classifier': 'RandomForest'}. Best is trial 36 with value: 0.6401257385841566.\n",
      "[I 2024-04-14 21:56:46,797] Trial 102 finished with value: 0.5631321097562981 and parameters: {'pagerank_cutoff': 0.8394527596304446, 'despike': False, 'baseline_correct': False, 'smoothing': False, 'scaling': True, 'scaling_type': 'vector', 'classifier': 'RandomForest'}. Best is trial 36 with value: 0.6401257385841566.\n",
      "[I 2024-04-14 21:58:25,477] Trial 112 finished with value: 0.5665224966022964 and parameters: {'pagerank_cutoff': 0.8494723804427451, 'despike': True, 'baseline_correct': False, 'smoothing': False, 'scaling': True, 'despike_ma': 69, 'despike_threshold': 3.5, 'scaling_type': 'vector', 'classifier': 'RandomForest'}. Best is trial 36 with value: 0.6401257385841566.\n",
      "[I 2024-04-14 21:58:37,766] Trial 113 finished with value: 0.6204744947708296 and parameters: {'pagerank_cutoff': 0.8390865426250793, 'despike': True, 'baseline_correct': False, 'smoothing': False, 'scaling': True, 'despike_ma': 88, 'despike_threshold': 3.5, 'scaling_type': 'svn', 'classifier': 'RandomForest'}. Best is trial 36 with value: 0.6401257385841566.\n",
      "[I 2024-04-14 21:58:44,066] Trial 114 finished with value: 0.5886121082262289 and parameters: {'pagerank_cutoff': 0.8415491204473768, 'despike': True, 'baseline_correct': False, 'smoothing': False, 'scaling': True, 'despike_ma': 90, 'despike_threshold': 3.5, 'scaling_type': 'svn', 'classifier': 'RandomForest'}. Best is trial 36 with value: 0.6401257385841566.\n",
      "[I 2024-04-14 21:58:49,725] Trial 115 finished with value: 0.619054636283649 and parameters: {'pagerank_cutoff': 0.7685398887449701, 'despike': True, 'baseline_correct': False, 'smoothing': False, 'scaling': True, 'despike_ma': 89, 'despike_threshold': 3.5, 'scaling_type': 'svn', 'classifier': 'RandomForest'}. Best is trial 36 with value: 0.6401257385841566.\n",
      "[I 2024-04-14 21:58:55,894] Trial 117 finished with value: 0.6241336447734447 and parameters: {'pagerank_cutoff': 0.7646929361122613, 'despike': True, 'baseline_correct': False, 'smoothing': False, 'scaling': True, 'despike_ma': 90, 'despike_threshold': 3.75, 'scaling_type': 'svn', 'classifier': 'RandomForest'}. Best is trial 36 with value: 0.6401257385841566.\n",
      "[I 2024-04-14 21:59:03,281] Trial 122 finished with value: 0.5798870805946745 and parameters: {'pagerank_cutoff': 0.7772520435931205, 'despike': True, 'baseline_correct': False, 'smoothing': False, 'scaling': True, 'despike_ma': 97, 'despike_threshold': 3.75, 'scaling_type': 'svn', 'classifier': 'RandomForest'}. Best is trial 36 with value: 0.6401257385841566.\n",
      "[I 2024-04-14 21:59:08,956] Trial 116 finished with value: 0.571088421647912 and parameters: {'pagerank_cutoff': 0.7030132061676846, 'despike': True, 'baseline_correct': False, 'smoothing': False, 'scaling': True, 'despike_ma': 97, 'despike_threshold': 3.5, 'scaling_type': 'svn', 'classifier': 'RandomForest'}. Best is trial 36 with value: 0.6401257385841566.\n",
      "[I 2024-04-14 22:00:34,445] Trial 130 finished with value: 0.594268915888652 and parameters: {'pagerank_cutoff': 0.7589526919958197, 'despike': True, 'baseline_correct': False, 'smoothing': False, 'scaling': True, 'despike_ma': 88, 'despike_threshold': 3.75, 'scaling_type': 'svn', 'classifier': 'RandomForest'}. Best is trial 36 with value: 0.6401257385841566.\n",
      "[I 2024-04-14 22:00:42,171] Trial 127 finished with value: 0.5933986359771769 and parameters: {'pagerank_cutoff': 0.6979912021864237, 'despike': True, 'baseline_correct': False, 'smoothing': False, 'scaling': True, 'despike_ma': 88, 'despike_threshold': 3.75, 'scaling_type': 'svn', 'classifier': 'RandomForest'}. Best is trial 36 with value: 0.6401257385841566.\n",
      "[I 2024-04-14 22:00:48,715] Trial 129 finished with value: 0.6124097710593136 and parameters: {'pagerank_cutoff': 0.6984317798562918, 'despike': True, 'baseline_correct': False, 'smoothing': False, 'scaling': True, 'despike_ma': 88, 'despike_threshold': 3.75, 'scaling_type': 'svn', 'classifier': 'RandomForest'}. Best is trial 36 with value: 0.6401257385841566.\n",
      "[I 2024-04-14 22:00:53,739] Trial 128 finished with value: 0.5779002832115714 and parameters: {'pagerank_cutoff': 0.7037321834959203, 'despike': True, 'baseline_correct': False, 'smoothing': False, 'scaling': True, 'despike_ma': 97, 'despike_threshold': 3.75, 'scaling_type': 'svn', 'classifier': 'RandomForest'}. Best is trial 36 with value: 0.6401257385841566.\n",
      "[I 2024-04-14 22:01:41,825] Trial 119 finished with value: 0.6555440818425391 and parameters: {'pagerank_cutoff': 0.7671746393652923, 'despike': True, 'baseline_correct': True, 'smoothing': False, 'scaling': True, 'despike_ma': 92, 'despike_threshold': 4.75, 'asls_lam': 100000000000, 'asls_p': 0.099, 'scaling_type': 'svn', 'classifier': 'RandomForest'}. Best is trial 119 with value: 0.6555440818425391.\n",
      "[I 2024-04-14 22:01:49,178] Trial 123 finished with value: 0.6658554403722705 and parameters: {'pagerank_cutoff': 0.7848763544198284, 'despike': True, 'baseline_correct': True, 'smoothing': False, 'scaling': True, 'despike_ma': 88, 'despike_threshold': 3.5, 'asls_lam': 100000000000, 'asls_p': 0.098, 'scaling_type': 'svn', 'classifier': 'RandomForest'}. Best is trial 123 with value: 0.6658554403722705.\n",
      "[I 2024-04-14 22:01:56,510] Trial 120 finished with value: 0.6585768702589372 and parameters: {'pagerank_cutoff': 0.763847574449533, 'despike': True, 'baseline_correct': True, 'smoothing': False, 'scaling': True, 'despike_ma': 97, 'despike_threshold': 3.75, 'asls_lam': 100000000000, 'asls_p': 0.1, 'scaling_type': 'svn', 'classifier': 'RandomForest'}. Best is trial 123 with value: 0.6658554403722705.\n",
      "[I 2024-04-14 22:02:03,538] Trial 118 finished with value: 0.6574760731488132 and parameters: {'pagerank_cutoff': 0.7713500659457676, 'despike': True, 'baseline_correct': True, 'smoothing': False, 'scaling': True, 'despike_ma': 87, 'despike_threshold': 3.75, 'asls_lam': 100000000000, 'asls_p': 0.1, 'scaling_type': 'svn', 'classifier': 'RandomForest'}. Best is trial 123 with value: 0.6658554403722705.\n",
      "[I 2024-04-14 22:02:11,284] Trial 121 finished with value: 0.6447587162264522 and parameters: {'pagerank_cutoff': 0.7624322173152779, 'despike': True, 'baseline_correct': True, 'smoothing': False, 'scaling': True, 'despike_ma': 97, 'despike_threshold': 3.75, 'asls_lam': 100000000000, 'asls_p': 0.1, 'scaling_type': 'svn', 'classifier': 'RandomForest'}. Best is trial 123 with value: 0.6658554403722705.\n",
      "[I 2024-04-14 22:02:11,626] Trial 131 finished with value: 0.6080719061068267 and parameters: {'pagerank_cutoff': 0.9131453965083985, 'despike': True, 'baseline_correct': False, 'smoothing': False, 'scaling': True, 'despike_ma': 93, 'despike_threshold': 4.0, 'scaling_type': 'svn', 'classifier': 'RandomForest'}. Best is trial 123 with value: 0.6658554403722705.\n",
      "[I 2024-04-14 22:02:12,252] Trial 132 finished with value: 0.6353978307493637 and parameters: {'pagerank_cutoff': 0.9092695426621393, 'despike': True, 'baseline_correct': False, 'smoothing': False, 'scaling': True, 'despike_ma': 79, 'despike_threshold': 4.75, 'scaling_type': 'svn', 'classifier': 'ExtraTrees'}. Best is trial 123 with value: 0.6658554403722705.\n",
      "[I 2024-04-14 22:02:13,778] Trial 133 finished with value: 0.6086297632543781 and parameters: {'pagerank_cutoff': 0.9193818703947728, 'despike': True, 'baseline_correct': False, 'smoothing': False, 'scaling': True, 'despike_ma': 94, 'despike_threshold': 4.5, 'scaling_type': 'svn', 'classifier': 'ExtraTrees'}. Best is trial 123 with value: 0.6658554403722705.\n",
      "[I 2024-04-14 22:02:20,208] Trial 124 finished with value: 0.6573823968610698 and parameters: {'pagerank_cutoff': 0.7085072505060418, 'despike': True, 'baseline_correct': True, 'smoothing': False, 'scaling': True, 'despike_ma': 99, 'despike_threshold': 4.0, 'asls_lam': 100000000000, 'asls_p': 0.1, 'scaling_type': 'svn', 'classifier': 'RandomForest'}. Best is trial 123 with value: 0.6658554403722705.\n",
      "[I 2024-04-14 22:02:30,796] Trial 126 finished with value: 0.628115495453915 and parameters: {'pagerank_cutoff': 0.7725009984030906, 'despike': True, 'baseline_correct': True, 'smoothing': False, 'scaling': True, 'despike_ma': 87, 'despike_threshold': 4.0, 'asls_lam': 100000000000, 'asls_p': 0.1, 'scaling_type': 'svn', 'classifier': 'RandomForest'}. Best is trial 123 with value: 0.6658554403722705.\n",
      "[I 2024-04-14 22:02:58,837] Trial 125 finished with value: 0.5890704917222622 and parameters: {'pagerank_cutoff': 0.7011913037378826, 'despike': True, 'baseline_correct': True, 'smoothing': False, 'scaling': True, 'despike_ma': 91, 'despike_threshold': 3.5, 'asls_lam': 100000000000, 'asls_p': 0.1, 'scaling_type': 'svn', 'classifier': 'RandomForest'}. Best is trial 123 with value: 0.6658554403722705.\n",
      "[I 2024-04-14 22:04:06,321] Trial 135 finished with value: 0.6040092530595136 and parameters: {'pagerank_cutoff': 0.7633890126244589, 'despike': True, 'baseline_correct': False, 'smoothing': False, 'scaling': True, 'despike_ma': 93, 'despike_threshold': 4.5, 'scaling_type': 'svn', 'classifier': 'RandomForest'}. Best is trial 123 with value: 0.6658554403722705.\n",
      "[I 2024-04-14 22:04:48,168] Trial 134 finished with value: 0.6487429031764536 and parameters: {'pagerank_cutoff': 0.9226811371164749, 'despike': True, 'baseline_correct': True, 'smoothing': False, 'scaling': True, 'despike_ma': 93, 'despike_threshold': 4.5, 'asls_lam': 100000000000, 'asls_p': 0.07200000000000001, 'scaling_type': 'svn', 'classifier': 'ExtraTrees'}. Best is trial 123 with value: 0.6658554403722705.\n",
      "[I 2024-04-14 22:05:48,664] Trial 136 finished with value: 0.6335493080356576 and parameters: {'pagerank_cutoff': 0.9130132393483007, 'despike': True, 'baseline_correct': True, 'smoothing': False, 'scaling': True, 'despike_ma': 93, 'despike_threshold': 3.25, 'asls_lam': 100000000000, 'asls_p': 0.1, 'scaling_type': 'svn', 'classifier': 'RandomForest'}. Best is trial 123 with value: 0.6658554403722705.\n",
      "[I 2024-04-14 22:06:16,852] Trial 139 finished with value: 0.5855496612078966 and parameters: {'pagerank_cutoff': 0.9156189360589945, 'despike': True, 'baseline_correct': True, 'smoothing': True, 'scaling': True, 'despike_ma': 92, 'despike_threshold': 3.0, 'asls_lam': 100000000000, 'asls_p': 0.1, 'window_size': 145, 'smoothing_poly_order': 1, 'scaling_type': 'svn', 'classifier': 'ExtraTrees'}. Best is trial 123 with value: 0.6658554403722705.\n",
      "[I 2024-04-14 22:06:29,767] Trial 142 finished with value: 0.5575594333581486 and parameters: {'pagerank_cutoff': 0.7596840987888662, 'despike': True, 'baseline_correct': True, 'smoothing': True, 'scaling': True, 'despike_ma': 91, 'despike_threshold': 3.25, 'asls_lam': 100000000000, 'asls_p': 0.1, 'window_size': 159, 'smoothing_poly_order': 1, 'scaling_type': 'svn', 'classifier': 'ExtraTrees'}. Best is trial 123 with value: 0.6658554403722705.\n",
      "[I 2024-04-14 22:06:31,556] Trial 140 finished with value: 0.6162551391003448 and parameters: {'pagerank_cutoff': 0.7646073690585455, 'despike': True, 'baseline_correct': True, 'smoothing': True, 'scaling': True, 'despike_ma': 100, 'despike_threshold': 3.25, 'asls_lam': 100000000000, 'asls_p': 0.1, 'window_size': 140, 'smoothing_poly_order': 1, 'scaling_type': 'svn', 'classifier': 'ExtraTrees'}. Best is trial 123 with value: 0.6658554403722705.\n",
      "[I 2024-04-14 22:06:35,675] Trial 144 finished with value: 0.582440040139546 and parameters: {'pagerank_cutoff': 0.7528199526874295, 'despike': True, 'baseline_correct': True, 'smoothing': True, 'scaling': True, 'despike_ma': 100, 'despike_threshold': 4.0, 'asls_lam': 100000000000, 'asls_p': 0.1, 'window_size': 161, 'smoothing_poly_order': 1, 'scaling_type': 'svn', 'classifier': 'ExtraTrees'}. Best is trial 123 with value: 0.6658554403722705.\n",
      "[I 2024-04-14 22:06:55,695] Trial 137 finished with value: 0.6274055094907955 and parameters: {'pagerank_cutoff': 0.617281132930898, 'despike': True, 'baseline_correct': True, 'smoothing': True, 'scaling': True, 'despike_ma': 93, 'despike_threshold': 3.0, 'asls_lam': 100000000000, 'asls_p': 0.099, 'window_size': 35, 'smoothing_poly_order': 1, 'scaling_type': 'svn', 'classifier': 'ExtraTrees'}. Best is trial 123 with value: 0.6658554403722705.\n",
      "[I 2024-04-14 22:07:06,364] Trial 143 finished with value: 0.5500965971148527 and parameters: {'pagerank_cutoff': 0.628335078757223, 'despike': True, 'baseline_correct': True, 'smoothing': True, 'scaling': True, 'despike_ma': 100, 'despike_threshold': 3.25, 'asls_lam': 100000000000, 'asls_p': 0.1, 'window_size': 149, 'smoothing_poly_order': 1, 'scaling_type': 'svn', 'classifier': 'ExtraTrees'}. Best is trial 123 with value: 0.6658554403722705.\n",
      "[I 2024-04-14 22:07:07,880] Trial 141 finished with value: 0.537931052083614 and parameters: {'pagerank_cutoff': 0.6217499121623672, 'despike': True, 'baseline_correct': True, 'smoothing': True, 'scaling': True, 'despike_ma': 94, 'despike_threshold': 3.25, 'asls_lam': 100000000000, 'asls_p': 0.1, 'window_size': 150, 'smoothing_poly_order': 1, 'scaling_type': 'svn', 'classifier': 'ExtraTrees'}. Best is trial 123 with value: 0.6658554403722705.\n",
      "[I 2024-04-14 22:07:12,792] Trial 138 finished with value: 0.5497771056531147 and parameters: {'pagerank_cutoff': 0.6027128280167038, 'despike': True, 'baseline_correct': True, 'smoothing': True, 'scaling': True, 'despike_ma': 93, 'despike_threshold': 3.0, 'asls_lam': 100000000000, 'asls_p': 0.1, 'window_size': 179, 'smoothing_poly_order': 1, 'scaling_type': 'svn', 'classifier': 'ExtraTrees'}. Best is trial 123 with value: 0.6658554403722705.\n",
      "[I 2024-04-14 22:07:26,318] Trial 145 finished with value: 0.6544004047077476 and parameters: {'pagerank_cutoff': 0.6108010576649494, 'despike': True, 'baseline_correct': True, 'smoothing': True, 'scaling': True, 'despike_ma': 100, 'despike_threshold': 3.0, 'asls_lam': 100000000000, 'asls_p': 0.1, 'window_size': 162, 'smoothing_poly_order': 2, 'scaling_type': 'svn', 'classifier': 'ExtraTrees'}. Best is trial 123 with value: 0.6658554403722705.\n",
      "[I 2024-04-14 22:08:06,208] Trial 146 finished with value: 0.6590904075845156 and parameters: {'pagerank_cutoff': 0.6069618972723279, 'despike': True, 'baseline_correct': True, 'smoothing': True, 'scaling': True, 'despike_ma': 100, 'despike_threshold': 4.0, 'asls_lam': 100000000000, 'asls_p': 0.1, 'window_size': 151, 'smoothing_poly_order': 2, 'scaling_type': 'svn', 'classifier': 'ExtraTrees'}. Best is trial 123 with value: 0.6658554403722705.\n",
      "[I 2024-04-14 22:08:57,680] Trial 151 finished with value: 0.5909747990109528 and parameters: {'pagerank_cutoff': 1.0394902454218444, 'despike': True, 'baseline_correct': True, 'smoothing': False, 'scaling': True, 'despike_ma': 95, 'despike_threshold': 4.0, 'asls_lam': 100000000000, 'asls_p': 0.097, 'scaling_type': 'normal', 'classifier': 'ExtraTrees'}. Best is trial 123 with value: 0.6658554403722705.\n",
      "[I 2024-04-14 22:09:19,804] Trial 147 finished with value: 0.5281238110548456 and parameters: {'pagerank_cutoff': 0.6315390118430364, 'despike': True, 'baseline_correct': True, 'smoothing': True, 'scaling': True, 'despike_ma': 100, 'despike_threshold': 3.25, 'asls_lam': 100000000000, 'asls_p': 0.1, 'window_size': 161, 'smoothing_poly_order': 1, 'scaling_type': 'normal', 'classifier': 'ExtraTrees'}. Best is trial 123 with value: 0.6658554403722705.\n",
      "[I 2024-04-14 22:10:09,136] Trial 156 finished with value: 0.6092814561136479 and parameters: {'pagerank_cutoff': 0.7273456504557064, 'despike': True, 'baseline_correct': True, 'smoothing': False, 'scaling': True, 'despike_ma': 96, 'despike_threshold': 8.0, 'asls_lam': 100000000000, 'asls_p': 0.094, 'scaling_type': 'normal', 'classifier': 'ExtraTrees'}. Best is trial 123 with value: 0.6658554403722705.\n",
      "[I 2024-04-14 22:10:11,202] Trial 152 finished with value: 0.5838223749430647 and parameters: {'pagerank_cutoff': 0.6288576260348271, 'despike': True, 'baseline_correct': True, 'smoothing': False, 'scaling': True, 'despike_ma': 95, 'despike_threshold': 4.0, 'asls_lam': 100000000000, 'asls_p': 0.095, 'scaling_type': 'normal', 'classifier': 'ExtraTrees'}. Best is trial 123 with value: 0.6658554403722705.\n",
      "[I 2024-04-14 22:10:13,208] Trial 158 finished with value: 0.5497572454328522 and parameters: {'pagerank_cutoff': 1.025145303360093, 'despike': True, 'baseline_correct': True, 'smoothing': True, 'scaling': True, 'despike_ma': 97, 'despike_threshold': 8.25, 'asls_lam': 100000000000, 'asls_p': 0.094, 'window_size': 214, 'smoothing_poly_order': 2, 'scaling_type': 'normal', 'classifier': 'ExtraTrees'}. Best is trial 123 with value: 0.6658554403722705.\n",
      "[I 2024-04-14 22:10:27,935] Trial 157 finished with value: 0.5612818019324319 and parameters: {'pagerank_cutoff': 0.5628648285529955, 'despike': True, 'baseline_correct': True, 'smoothing': False, 'scaling': True, 'despike_ma': 96, 'despike_threshold': 8.0, 'asls_lam': 100000000000, 'asls_p': 0.095, 'scaling_type': 'normal', 'classifier': 'ExtraTrees'}. Best is trial 123 with value: 0.6658554403722705.\n",
      "[I 2024-04-14 22:10:38,276] Trial 148 finished with value: 0.508133697433958 and parameters: {'pagerank_cutoff': 0.6147700021611563, 'despike': True, 'baseline_correct': True, 'smoothing': True, 'scaling': True, 'despike_ma': 95, 'despike_threshold': 3.0, 'asls_lam': 100000000000, 'asls_p': 0.1, 'window_size': 168, 'smoothing_poly_order': 1, 'scaling_type': 'normal', 'classifier': 'ExtraTrees'}. Best is trial 123 with value: 0.6658554403722705.\n",
      "[I 2024-04-14 22:11:04,009] Trial 149 finished with value: 0.6066517910022398 and parameters: {'pagerank_cutoff': 0.6204986957752323, 'despike': True, 'baseline_correct': True, 'smoothing': True, 'scaling': True, 'despike_ma': 100, 'despike_threshold': 3.25, 'asls_lam': 100000000000, 'asls_p': 0.098, 'window_size': 166, 'smoothing_poly_order': 2, 'scaling_type': 'normal', 'classifier': 'ExtraTrees'}. Best is trial 123 with value: 0.6658554403722705.\n",
      "[I 2024-04-14 22:11:17,112] Trial 155 finished with value: 0.6021990862879177 and parameters: {'pagerank_cutoff': 0.5902041040897735, 'despike': True, 'baseline_correct': True, 'smoothing': True, 'scaling': True, 'despike_ma': 96, 'despike_threshold': 4.0, 'asls_lam': 100000000000, 'asls_p': 0.094, 'window_size': 35, 'smoothing_poly_order': 2, 'scaling_type': 'normal', 'classifier': 'ExtraTrees'}. Best is trial 123 with value: 0.6658554403722705.\n",
      "[I 2024-04-14 22:11:18,506] Trial 154 finished with value: 0.6045335802429784 and parameters: {'pagerank_cutoff': 0.6052164139360576, 'despike': True, 'baseline_correct': True, 'smoothing': True, 'scaling': True, 'despike_ma': 96, 'despike_threshold': 4.0, 'asls_lam': 100000000000, 'asls_p': 0.094, 'window_size': 37, 'smoothing_poly_order': 2, 'scaling_type': 'normal', 'classifier': 'ExtraTrees'}. Best is trial 123 with value: 0.6658554403722705.\n",
      "[I 2024-04-14 22:11:28,383] Trial 153 finished with value: 0.5979902473005921 and parameters: {'pagerank_cutoff': 0.6298229258595778, 'despike': True, 'baseline_correct': True, 'smoothing': True, 'scaling': True, 'despike_ma': 95, 'despike_threshold': 3.0, 'asls_lam': 100000000000, 'asls_p': 0.094, 'window_size': 36, 'smoothing_poly_order': 2, 'scaling_type': 'normal', 'classifier': 'ExtraTrees'}. Best is trial 123 with value: 0.6658554403722705.\n",
      "[I 2024-04-14 22:11:32,102] Trial 150 finished with value: 0.5804957158481795 and parameters: {'pagerank_cutoff': 0.7314681087572715, 'despike': True, 'baseline_correct': True, 'smoothing': True, 'scaling': True, 'despike_ma': 95, 'despike_threshold': 4.0, 'asls_lam': 100000000000, 'asls_p': 0.094, 'window_size': 247, 'smoothing_poly_order': 2, 'scaling_type': 'normal', 'classifier': 'ExtraTrees'}. Best is trial 123 with value: 0.6658554403722705.\n",
      "[I 2024-04-14 22:13:37,013] Trial 168 finished with value: 0.469208677473965 and parameters: {'pagerank_cutoff': 0.816930158113367, 'despike': True, 'baseline_correct': True, 'smoothing': False, 'scaling': True, 'despike_ma': 77, 'despike_threshold': 4.75, 'asls_lam': 100000, 'asls_p': 0.097, 'scaling_type': 'svn', 'classifier': 'RandomForest'}. Best is trial 123 with value: 0.6658554403722705.\n",
      "[I 2024-04-14 22:13:45,119] Trial 167 finished with value: 0.6470382292509046 and parameters: {'pagerank_cutoff': 0.8197790369828337, 'despike': True, 'baseline_correct': True, 'smoothing': False, 'scaling': True, 'despike_ma': 77, 'despike_threshold': 4.75, 'asls_lam': 100000000000, 'asls_p': 0.097, 'scaling_type': 'svn', 'classifier': 'RandomForest'}. Best is trial 123 with value: 0.6658554403722705.\n",
      "[I 2024-04-14 22:13:52,392] Trial 170 finished with value: 0.6486280555246865 and parameters: {'pagerank_cutoff': 0.8220956322410442, 'despike': True, 'baseline_correct': True, 'smoothing': False, 'scaling': True, 'despike_ma': 85, 'despike_threshold': 7.0, 'asls_lam': 100000000000, 'asls_p': 0.097, 'scaling_type': 'svn', 'classifier': 'RandomForest'}. Best is trial 123 with value: 0.6658554403722705.\n",
      "[I 2024-04-14 22:13:55,898] Trial 159 finished with value: 0.5079035899281837 and parameters: {'pagerank_cutoff': 0.5468149659538342, 'despike': True, 'baseline_correct': True, 'smoothing': True, 'scaling': True, 'despike_ma': 96, 'despike_threshold': 8.0, 'asls_lam': 100000000000, 'asls_p': 0.094, 'window_size': 246, 'smoothing_poly_order': 2, 'scaling_type': 'normal', 'classifier': 'ExtraTrees'}. Best is trial 123 with value: 0.6658554403722705.\n",
      "[I 2024-04-14 22:13:58,330] Trial 166 finished with value: 0.5413387678441961 and parameters: {'pagerank_cutoff': 0.8209293322460831, 'despike': True, 'baseline_correct': True, 'smoothing': True, 'scaling': True, 'despike_ma': 85, 'despike_threshold': 7.0, 'asls_lam': 100000, 'asls_p': 0.093, 'window_size': 96, 'smoothing_poly_order': 2, 'scaling_type': 'svn', 'classifier': 'ExtraTrees'}. Best is trial 123 with value: 0.6658554403722705.\n",
      "[I 2024-04-14 22:13:58,826] Trial 169 finished with value: 0.6750667546695998 and parameters: {'pagerank_cutoff': 0.8143445897490186, 'despike': True, 'baseline_correct': True, 'smoothing': False, 'scaling': True, 'despike_ma': 78, 'despike_threshold': 7.0, 'asls_lam': 100000000000, 'asls_p': 0.097, 'scaling_type': 'svn', 'classifier': 'RandomForest'}. Best is trial 169 with value: 0.6750667546695998.\n",
      "[I 2024-04-14 22:14:00,749] Trial 160 finished with value: 0.464263719881023 and parameters: {'pagerank_cutoff': 0.5737206918128851, 'despike': True, 'baseline_correct': True, 'smoothing': True, 'scaling': True, 'despike_ma': 77, 'despike_threshold': 7.75, 'asls_lam': 100000, 'asls_p': 0.094, 'window_size': 238, 'smoothing_poly_order': 2, 'scaling_type': 'normal', 'classifier': 'ExtraTrees'}. Best is trial 169 with value: 0.6750667546695998.\n",
      "[I 2024-04-14 22:14:05,357] Trial 163 finished with value: 0.612524440395273 and parameters: {'pagerank_cutoff': 0.5891840325423532, 'despike': True, 'baseline_correct': True, 'smoothing': True, 'scaling': True, 'despike_ma': 77, 'despike_threshold': 7.75, 'asls_lam': 100000000000, 'asls_p': 0.097, 'window_size': 90, 'smoothing_poly_order': 2, 'scaling_type': 'svn', 'classifier': 'ExtraTrees'}. Best is trial 169 with value: 0.6750667546695998.\n",
      "[I 2024-04-14 22:14:20,304] Trial 165 finished with value: 0.5036507948300749 and parameters: {'pagerank_cutoff': 0.8114415361132342, 'despike': True, 'baseline_correct': True, 'smoothing': True, 'scaling': True, 'despike_ma': 85, 'despike_threshold': 4.75, 'asls_lam': 100000, 'asls_p': 0.097, 'window_size': 200, 'smoothing_poly_order': 2, 'scaling_type': 'svn', 'classifier': 'ExtraTrees'}. Best is trial 169 with value: 0.6750667546695998.\n",
      "[I 2024-04-14 22:15:07,484] Trial 161 finished with value: 0.48461783767101974 and parameters: {'pagerank_cutoff': 0.5593916747951706, 'despike': True, 'baseline_correct': True, 'smoothing': True, 'scaling': True, 'despike_ma': 98, 'despike_threshold': 7.75, 'asls_lam': 100000, 'asls_p': 0.093, 'window_size': 202, 'smoothing_poly_order': 2, 'scaling_type': 'normal', 'classifier': 'ExtraTrees'}. Best is trial 169 with value: 0.6750667546695998.\n",
      "[I 2024-04-14 22:15:30,689] Trial 164 finished with value: 0.5124154875302683 and parameters: {'pagerank_cutoff': 0.5808282360459407, 'despike': True, 'baseline_correct': True, 'smoothing': True, 'scaling': True, 'despike_ma': 77, 'despike_threshold': 4.75, 'asls_lam': 100000, 'asls_p': 0.093, 'window_size': 182, 'smoothing_poly_order': 2, 'scaling_type': 'svn', 'classifier': 'ExtraTrees'}. Best is trial 169 with value: 0.6750667546695998.\n",
      "[I 2024-04-14 22:15:32,668] Trial 162 finished with value: 0.5220370892534449 and parameters: {'pagerank_cutoff': 0.57886788793146, 'despike': True, 'baseline_correct': True, 'smoothing': True, 'scaling': True, 'despike_ma': 85, 'despike_threshold': 7.75, 'asls_lam': 100000, 'asls_p': 0.093, 'window_size': 218, 'smoothing_poly_order': 2, 'scaling_type': 'svn', 'classifier': 'ExtraTrees'}. Best is trial 169 with value: 0.6750667546695998.\n",
      "[I 2024-04-14 22:17:07,341] Trial 178 finished with value: 0.3642147444773374 and parameters: {'pagerank_cutoff': 0.9379258879989434, 'despike': True, 'baseline_correct': True, 'smoothing': False, 'scaling': True, 'despike_ma': 82, 'despike_threshold': 5.0, 'asls_lam': 100, 'asls_p': 0.097, 'scaling_type': 'svn', 'classifier': 'RandomForest'}. Best is trial 169 with value: 0.6750667546695998.\n",
      "[I 2024-04-14 22:17:13,514] Trial 174 finished with value: 0.6504880614700834 and parameters: {'pagerank_cutoff': 0.9493479015585506, 'despike': True, 'baseline_correct': True, 'smoothing': False, 'scaling': True, 'despike_ma': 84, 'despike_threshold': 7.0, 'asls_lam': 100000000000, 'asls_p': 0.097, 'scaling_type': 'svn', 'classifier': 'RandomForest'}. Best is trial 169 with value: 0.6750667546695998.\n",
      "[I 2024-04-14 22:17:19,652] Trial 175 finished with value: 0.36833555258420086 and parameters: {'pagerank_cutoff': 0.9492368914782184, 'despike': True, 'baseline_correct': True, 'smoothing': False, 'scaling': True, 'despike_ma': 80, 'despike_threshold': 7.0, 'asls_lam': 100, 'asls_p': 0.08600000000000001, 'scaling_type': 'svn', 'classifier': 'RandomForest'}. Best is trial 169 with value: 0.6750667546695998.\n",
      "[I 2024-04-14 22:17:25,429] Trial 176 finished with value: 0.6339436838444069 and parameters: {'pagerank_cutoff': 0.948547144761333, 'despike': True, 'baseline_correct': True, 'smoothing': False, 'scaling': True, 'despike_ma': 78, 'despike_threshold': 7.0, 'asls_lam': 100000000000, 'asls_p': 0.097, 'scaling_type': 'svn', 'classifier': 'RandomForest'}. Best is trial 169 with value: 0.6750667546695998.\n",
      "[I 2024-04-14 22:17:31,923] Trial 179 finished with value: 0.3869188049681123 and parameters: {'pagerank_cutoff': 0.9000811182249604, 'despike': True, 'baseline_correct': True, 'smoothing': False, 'scaling': True, 'despike_ma': 21, 'despike_threshold': 5.0, 'asls_lam': 100, 'asls_p': 0.098, 'scaling_type': 'svn', 'classifier': 'RandomForest'}. Best is trial 169 with value: 0.6750667546695998.\n",
      "[I 2024-04-14 22:17:34,485] Trial 177 finished with value: 0.6523411368363156 and parameters: {'pagerank_cutoff': 0.9510339924780217, 'despike': True, 'baseline_correct': True, 'smoothing': False, 'scaling': True, 'despike_ma': 81, 'despike_threshold': 5.0, 'asls_lam': 100000000000, 'asls_p': 0.097, 'scaling_type': 'svn', 'classifier': 'RandomForest'}. Best is trial 169 with value: 0.6750667546695998.\n",
      "[I 2024-04-14 22:17:40,624] Trial 180 finished with value: 0.6280647597725915 and parameters: {'pagerank_cutoff': 0.9524365131890419, 'despike': True, 'baseline_correct': True, 'smoothing': False, 'scaling': True, 'despike_ma': 81, 'despike_threshold': 5.0, 'asls_lam': 100000000000, 'asls_p': 0.097, 'scaling_type': 'svn', 'classifier': 'RandomForest'}. Best is trial 169 with value: 0.6750667546695998.\n",
      "[I 2024-04-14 22:17:47,422] Trial 182 finished with value: 0.3625890562533612 and parameters: {'pagerank_cutoff': 0.9419858256682887, 'despike': True, 'baseline_correct': True, 'smoothing': False, 'scaling': True, 'despike_ma': 82, 'despike_threshold': 7.0, 'asls_lam': 100, 'asls_p': 0.098, 'scaling_type': 'svn', 'classifier': 'RandomForest'}. Best is trial 169 with value: 0.6750667546695998.\n",
      "[I 2024-04-14 22:17:52,045] Trial 181 finished with value: 0.6463600965028258 and parameters: {'pagerank_cutoff': 0.9459237409291005, 'despike': True, 'baseline_correct': True, 'smoothing': False, 'scaling': True, 'despike_ma': 83, 'despike_threshold': 7.0, 'asls_lam': 100000000000, 'asls_p': 0.046, 'scaling_type': 'svn', 'classifier': 'RandomForest'}. Best is trial 169 with value: 0.6750667546695998.\n",
      "[I 2024-04-14 22:17:59,868] Trial 173 finished with value: 0.6395333274165519 and parameters: {'pagerank_cutoff': 0.6694718223216405, 'despike': True, 'baseline_correct': True, 'smoothing': False, 'scaling': True, 'despike_ma': 84, 'despike_threshold': 7.0, 'asls_lam': 100000000000, 'asls_p': 0.097, 'scaling_type': 'svn', 'classifier': 'RandomForest'}. Best is trial 169 with value: 0.6750667546695998.\n",
      "[I 2024-04-14 22:18:05,870] Trial 171 finished with value: 0.6409983714302193 and parameters: {'pagerank_cutoff': 0.6782975883058839, 'despike': True, 'baseline_correct': True, 'smoothing': False, 'scaling': True, 'despike_ma': 85, 'despike_threshold': 7.75, 'asls_lam': 100000000000, 'asls_p': 0.097, 'scaling_type': 'svn', 'classifier': 'RandomForest'}. Best is trial 169 with value: 0.6750667546695998.\n",
      "[I 2024-04-14 22:18:12,202] Trial 172 finished with value: 0.6469296082091758 and parameters: {'pagerank_cutoff': 0.6832915889266344, 'despike': True, 'baseline_correct': True, 'smoothing': False, 'scaling': True, 'despike_ma': 85, 'despike_threshold': 7.0, 'asls_lam': 100000000000, 'asls_p': 0.097, 'scaling_type': 'svn', 'classifier': 'RandomForest'}. Best is trial 169 with value: 0.6750667546695998.\n",
      "[I 2024-04-14 22:20:46,745] Trial 186 finished with value: 0.647678994693287 and parameters: {'pagerank_cutoff': 0.9947366032375987, 'despike': True, 'baseline_correct': True, 'smoothing': False, 'scaling': True, 'despike_ma': 79, 'despike_threshold': 7.0, 'asls_lam': 100000000000, 'asls_p': 0.098, 'scaling_type': 'svn', 'classifier': 'RandomForest'}. Best is trial 169 with value: 0.6750667546695998.\n",
      "[I 2024-04-14 22:20:52,229] Trial 188 finished with value: 0.6366626133305245 and parameters: {'pagerank_cutoff': 0.9954667313903565, 'despike': True, 'baseline_correct': True, 'smoothing': False, 'scaling': True, 'despike_ma': 81, 'despike_threshold': 7.25, 'asls_lam': 100000000000, 'asls_p': 0.098, 'scaling_type': 'svn', 'classifier': 'RandomForest'}. Best is trial 169 with value: 0.6750667546695998.\n",
      "[I 2024-04-14 22:20:57,822] Trial 187 finished with value: 0.6375444674547464 and parameters: {'pagerank_cutoff': 0.9944225773392192, 'despike': True, 'baseline_correct': True, 'smoothing': False, 'scaling': True, 'despike_ma': 79, 'despike_threshold': 7.0, 'asls_lam': 100000000000, 'asls_p': 0.098, 'scaling_type': 'svn', 'classifier': 'RandomForest'}. Best is trial 169 with value: 0.6750667546695998.\n",
      "[I 2024-04-14 22:21:02,880] Trial 189 finished with value: 0.6397545836516425 and parameters: {'pagerank_cutoff': 0.9787053556172104, 'despike': True, 'baseline_correct': True, 'smoothing': False, 'scaling': True, 'despike_ma': 83, 'despike_threshold': 4.5, 'asls_lam': 100000000000, 'asls_p': 0.098, 'scaling_type': 'svn', 'classifier': 'RandomForest'}. Best is trial 169 with value: 0.6750667546695998.\n",
      "[I 2024-04-14 22:21:07,884] Trial 192 finished with value: 0.6191670494755368 and parameters: {'pagerank_cutoff': 0.9800506321496205, 'despike': True, 'baseline_correct': True, 'smoothing': False, 'scaling': True, 'despike_ma': 79, 'despike_threshold': 7.25, 'asls_lam': 100000000000, 'asls_p': 0.047, 'scaling_type': 'svn', 'classifier': 'RandomForest'}. Best is trial 169 with value: 0.6750667546695998.\n",
      "[I 2024-04-14 22:21:13,102] Trial 183 finished with value: 0.6252282577669265 and parameters: {'pagerank_cutoff': 0.9004210865490946, 'despike': True, 'baseline_correct': True, 'smoothing': False, 'scaling': True, 'despike_ma': 80, 'despike_threshold': 7.25, 'asls_lam': 100000000000, 'asls_p': 0.098, 'scaling_type': 'svn', 'classifier': 'RandomForest'}. Best is trial 169 with value: 0.6750667546695998.\n",
      "[I 2024-04-14 22:21:15,284] Trial 191 finished with value: 0.6381822010754237 and parameters: {'pagerank_cutoff': 0.9785508960392767, 'despike': True, 'baseline_correct': True, 'smoothing': False, 'scaling': True, 'despike_ma': 86, 'despike_threshold': 4.5, 'asls_lam': 100000000000, 'asls_p': 0.051000000000000004, 'scaling_type': 'svn', 'classifier': 'RandomForest'}. Best is trial 169 with value: 0.6750667546695998.\n",
      "[I 2024-04-14 22:21:59,503] Trial 190 finished with value: 0.61981433273324 and parameters: {'pagerank_cutoff': 0.8891030346196869, 'despike': True, 'baseline_correct': True, 'smoothing': False, 'scaling': True, 'despike_ma': 79, 'despike_threshold': 4.5, 'asls_lam': 100000000000, 'asls_p': 0.045, 'scaling_type': 'svn', 'classifier': 'RandomForest'}. Best is trial 169 with value: 0.6750667546695998.\n",
      "[I 2024-04-14 22:22:16,863] Trial 184 finished with value: 0.6457605207077955 and parameters: {'pagerank_cutoff': 0.6777255313829279, 'despike': True, 'baseline_correct': True, 'smoothing': False, 'scaling': True, 'despike_ma': 82, 'despike_threshold': 7.0, 'asls_lam': 100000000000, 'asls_p': 0.098, 'scaling_type': 'svn', 'classifier': 'RandomForest'}. Best is trial 169 with value: 0.6750667546695998.\n",
      "[I 2024-04-14 22:22:30,599] Trial 185 finished with value: 0.6234464830535983 and parameters: {'pagerank_cutoff': 0.6742437861232726, 'despike': True, 'baseline_correct': True, 'smoothing': False, 'scaling': True, 'despike_ma': 69, 'despike_threshold': 6.25, 'asls_lam': 100000000000, 'asls_p': 0.098, 'scaling_type': 'svn', 'classifier': 'RandomForest'}. Best is trial 169 with value: 0.6750667546695998.\n",
      "[I 2024-04-14 22:23:06,083] Trial 193 finished with value: 0.6141917671591683 and parameters: {'pagerank_cutoff': 0.6740925413414839, 'despike': True, 'baseline_correct': True, 'smoothing': False, 'scaling': True, 'despike_ma': 84, 'despike_threshold': 7.25, 'asls_lam': 100000000000, 'asls_p': 0.044000000000000004, 'scaling_type': 'svn', 'classifier': 'RandomForest'}. Best is trial 169 with value: 0.6750667546695998.\n",
      "[I 2024-04-14 22:23:12,603] Trial 194 finished with value: 0.641255147745912 and parameters: {'pagerank_cutoff': 0.6718174667045873, 'despike': True, 'baseline_correct': True, 'smoothing': False, 'scaling': True, 'despike_ma': 84, 'despike_threshold': 7.25, 'asls_lam': 100000000000, 'asls_p': 0.048, 'scaling_type': 'svn', 'classifier': 'RandomForest'}. Best is trial 169 with value: 0.6750667546695998.\n",
      "[I 2024-04-14 22:24:23,157] Trial 200 finished with value: 0.5757778744235751 and parameters: {'pagerank_cutoff': 1.0434870343099252, 'despike': True, 'baseline_correct': True, 'smoothing': False, 'scaling': True, 'despike_ma': 86, 'despike_threshold': 6.25, 'asls_lam': 100000000000, 'asls_p': 0.046, 'scaling_type': 'svn', 'classifier': 'RandomForest'}. Best is trial 169 with value: 0.6750667546695998.\n",
      "[I 2024-04-14 22:24:29,799] Trial 202 finished with value: 0.6077601760255942 and parameters: {'pagerank_cutoff': 1.0261648001054395, 'despike': True, 'baseline_correct': True, 'smoothing': False, 'scaling': True, 'despike_ma': 83, 'despike_threshold': 6.75, 'asls_lam': 100000000000, 'asls_p': 0.096, 'scaling_type': 'svn', 'classifier': 'RandomForest'}. Best is trial 169 with value: 0.6750667546695998.\n",
      "[I 2024-04-14 22:24:32,974] Trial 204 finished with value: 0.5659701444879424 and parameters: {'pagerank_cutoff': 1.0679977835420533, 'despike': True, 'baseline_correct': True, 'smoothing': False, 'scaling': True, 'despike_ma': 90, 'despike_threshold': 6.75, 'asls_lam': 100000000000, 'asls_p': 0.043000000000000003, 'scaling_type': 'svn', 'classifier': 'RandomForest'}. Best is trial 169 with value: 0.6750667546695998.\n",
      "[I 2024-04-14 22:25:50,546] Trial 201 finished with value: 0.5534110008034311 and parameters: {'pagerank_cutoff': 0.6825765351765404, 'despike': True, 'baseline_correct': True, 'smoothing': False, 'scaling': True, 'despike_ma': 49, 'despike_threshold': 6.25, 'asls_lam': 100000000, 'asls_p': 0.041, 'scaling_type': 'svn', 'classifier': 'RandomForest'}. Best is trial 169 with value: 0.6750667546695998.\n",
      "[I 2024-04-14 22:25:58,316] Trial 195 finished with value: 0.6350696338884367 and parameters: {'pagerank_cutoff': 0.6771946516581598, 'despike': True, 'baseline_correct': True, 'smoothing': False, 'scaling': True, 'despike_ma': 83, 'despike_threshold': 7.25, 'asls_lam': 100000000000, 'asls_p': 0.044000000000000004, 'scaling_type': 'svn', 'classifier': 'RandomForest'}. Best is trial 169 with value: 0.6750667546695998.\n",
      "[I 2024-04-14 22:26:06,317] Trial 196 finished with value: 0.6403796507437646 and parameters: {'pagerank_cutoff': 0.6836352944054425, 'despike': True, 'baseline_correct': True, 'smoothing': False, 'scaling': True, 'despike_ma': 84, 'despike_threshold': 6.75, 'asls_lam': 100000000000, 'asls_p': 0.049, 'scaling_type': 'svn', 'classifier': 'RandomForest'}. Best is trial 169 with value: 0.6750667546695998.\n",
      "[I 2024-04-14 22:26:13,585] Trial 198 finished with value: 0.6462673582840451 and parameters: {'pagerank_cutoff': 0.6874409149684196, 'despike': True, 'baseline_correct': True, 'smoothing': False, 'scaling': True, 'despike_ma': 86, 'despike_threshold': 6.75, 'asls_lam': 100000000000, 'asls_p': 0.052000000000000005, 'scaling_type': 'svn', 'classifier': 'RandomForest'}. Best is trial 169 with value: 0.6750667546695998.\n",
      "[I 2024-04-14 22:26:21,352] Trial 197 finished with value: 0.6397006671411816 and parameters: {'pagerank_cutoff': 0.6773233837722259, 'despike': True, 'baseline_correct': True, 'smoothing': False, 'scaling': True, 'despike_ma': 86, 'despike_threshold': 6.75, 'asls_lam': 100000000000, 'asls_p': 0.041, 'scaling_type': 'svn', 'classifier': 'RandomForest'}. Best is trial 169 with value: 0.6750667546695998.\n",
      "[I 2024-04-14 22:26:26,328] Trial 199 finished with value: 0.6295493121424747 and parameters: {'pagerank_cutoff': 0.6729799366420404, 'despike': True, 'baseline_correct': True, 'smoothing': False, 'scaling': True, 'despike_ma': 90, 'despike_threshold': 6.75, 'asls_lam': 100000000000, 'asls_p': 0.045, 'scaling_type': 'svn', 'classifier': 'RandomForest'}. Best is trial 169 with value: 0.6750667546695998.\n",
      "[I 2024-04-14 22:26:34,233] Trial 203 finished with value: 0.646008956757737 and parameters: {'pagerank_cutoff': 0.6677689198116253, 'despike': True, 'baseline_correct': True, 'smoothing': False, 'scaling': True, 'despike_ma': 90, 'despike_threshold': 6.75, 'asls_lam': 100000000000, 'asls_p': 0.042, 'scaling_type': 'svn', 'classifier': 'RandomForest'}. Best is trial 169 with value: 0.6750667546695998.\n",
      "[I 2024-04-14 22:26:41,355] Trial 206 finished with value: 0.5396403904279555 and parameters: {'pagerank_cutoff': 0.7145785013495644, 'despike': True, 'baseline_correct': True, 'smoothing': False, 'scaling': True, 'despike_ma': 90, 'despike_threshold': 6.75, 'asls_lam': 100000000, 'asls_p': 0.096, 'scaling_type': 'svn', 'classifier': 'RandomForest'}. Best is trial 169 with value: 0.6750667546695998.\n",
      "[I 2024-04-14 22:26:44,869] Trial 205 finished with value: 0.6127028552941116 and parameters: {'pagerank_cutoff': 0.7229155045923532, 'despike': True, 'baseline_correct': True, 'smoothing': False, 'scaling': True, 'despike_ma': 90, 'despike_threshold': 7.5, 'asls_lam': 100000000000, 'asls_p': 0.096, 'scaling_type': 'svn', 'classifier': 'RandomForest'}. Best is trial 169 with value: 0.6750667546695998.\n",
      "[I 2024-04-14 22:28:24,690] Trial 209 finished with value: 0.5533384770709734 and parameters: {'pagerank_cutoff': 0.7208538052067852, 'despike': True, 'baseline_correct': True, 'smoothing': False, 'scaling': True, 'despike_ma': 98, 'despike_threshold': 7.5, 'asls_lam': 100000000, 'asls_p': 0.07300000000000001, 'scaling_type': 'svn', 'classifier': 'RandomForest'}. Best is trial 169 with value: 0.6750667546695998.\n",
      "[I 2024-04-14 22:28:33,116] Trial 207 finished with value: 0.5445778895602892 and parameters: {'pagerank_cutoff': 0.7161244101629075, 'despike': True, 'baseline_correct': True, 'smoothing': False, 'scaling': True, 'despike_ma': 89, 'despike_threshold': 6.75, 'asls_lam': 100000000, 'asls_p': 0.043000000000000003, 'scaling_type': 'svn', 'classifier': 'RandomForest'}. Best is trial 169 with value: 0.6750667546695998.\n",
      "[I 2024-04-14 22:28:38,684] Trial 208 finished with value: 0.5349764857234962 and parameters: {'pagerank_cutoff': 0.7190226691383939, 'despike': True, 'baseline_correct': True, 'smoothing': False, 'scaling': True, 'despike_ma': 90, 'despike_threshold': 7.5, 'asls_lam': 100000000, 'asls_p': 0.048, 'scaling_type': 'svn', 'classifier': 'RandomForest'}. Best is trial 169 with value: 0.6750667546695998.\n",
      "[I 2024-04-14 22:30:13,520] Trial 211 finished with value: 0.5223652760873543 and parameters: {'pagerank_cutoff': 0.7293924679548247, 'despike': True, 'baseline_correct': True, 'smoothing': False, 'scaling': True, 'despike_ma': 98, 'despike_threshold': 7.5, 'asls_lam': 1000000, 'asls_p': 0.048, 'scaling_type': 'svn', 'classifier': 'RandomForest'}. Best is trial 169 with value: 0.6750667546695998.\n",
      "[I 2024-04-14 22:30:22,886] Trial 212 finished with value: 0.5726567948463421 and parameters: {'pagerank_cutoff': 0.7256684373772936, 'despike': True, 'baseline_correct': True, 'smoothing': False, 'scaling': True, 'despike_ma': 98, 'despike_threshold': 6.75, 'asls_lam': 100000000000, 'asls_p': 0.092, 'scaling_type': 'svn', 'classifier': 'RandomForest'}. Best is trial 169 with value: 0.6750667546695998.\n",
      "[I 2024-04-14 22:30:30,648] Trial 210 finished with value: 0.6077796286472874 and parameters: {'pagerank_cutoff': 0.6941231155988304, 'despike': True, 'baseline_correct': True, 'smoothing': False, 'scaling': True, 'despike_ma': 87, 'despike_threshold': 6.75, 'asls_lam': 100000000000, 'asls_p': 0.051000000000000004, 'scaling_type': 'svn', 'classifier': 'RandomForest'}. Best is trial 169 with value: 0.6750667546695998.\n",
      "[I 2024-04-14 22:30:37,772] Trial 218 finished with value: 0.5515624888266546 and parameters: {'pagerank_cutoff': 0.7486623443118656, 'despike': True, 'baseline_correct': True, 'smoothing': False, 'scaling': True, 'despike_ma': 98, 'despike_threshold': 7.0, 'asls_lam': 1000000, 'asls_p': 0.039, 'scaling_type': 'svn', 'classifier': 'RandomForest'}. Best is trial 169 with value: 0.6750667546695998.\n",
      "[I 2024-04-14 22:30:43,556] Trial 214 finished with value: 0.5041249286686275 and parameters: {'pagerank_cutoff': 0.7192474523420113, 'despike': True, 'baseline_correct': True, 'smoothing': False, 'scaling': True, 'despike_ma': 98, 'despike_threshold': 7.0, 'asls_lam': 1000000, 'asls_p': 0.051000000000000004, 'scaling_type': 'svn', 'classifier': 'RandomForest'}. Best is trial 169 with value: 0.6750667546695998.\n",
      "[I 2024-04-14 22:30:50,352] Trial 216 finished with value: 0.511579500719993 and parameters: {'pagerank_cutoff': 0.7214123411359868, 'despike': True, 'baseline_correct': True, 'smoothing': False, 'scaling': True, 'despike_ma': 99, 'despike_threshold': 7.0, 'asls_lam': 1000000, 'asls_p': 0.038, 'scaling_type': 'svn', 'classifier': 'RandomForest'}. Best is trial 169 with value: 0.6750667546695998.\n",
      "[I 2024-04-14 22:30:57,546] Trial 213 finished with value: 0.6213004824431453 and parameters: {'pagerank_cutoff': 0.7179101953478253, 'despike': True, 'baseline_correct': True, 'smoothing': False, 'scaling': True, 'despike_ma': 98, 'despike_threshold': 7.5, 'asls_lam': 100000000000, 'asls_p': 0.053000000000000005, 'scaling_type': 'svn', 'classifier': 'RandomForest'}. Best is trial 169 with value: 0.6750667546695998.\n",
      "[I 2024-04-14 22:31:04,218] Trial 217 finished with value: 0.661636014092578 and parameters: {'pagerank_cutoff': 0.7429236707142273, 'despike': True, 'baseline_correct': True, 'smoothing': False, 'scaling': True, 'despike_ma': 98, 'despike_threshold': 7.0, 'asls_lam': 100000000000, 'asls_p': 0.037000000000000005, 'scaling_type': 'svn', 'classifier': 'RandomForest'}. Best is trial 169 with value: 0.6750667546695998.\n",
      "[I 2024-04-14 22:31:09,009] Trial 215 finished with value: 0.6262338140904553 and parameters: {'pagerank_cutoff': 0.7182859180339465, 'despike': True, 'baseline_correct': True, 'smoothing': False, 'scaling': True, 'despike_ma': 89, 'despike_threshold': 7.0, 'asls_lam': 100000000000, 'asls_p': 0.053000000000000005, 'scaling_type': 'svn', 'classifier': 'RandomForest'}. Best is trial 169 with value: 0.6750667546695998.\n",
      "[I 2024-04-14 22:32:43,645] Trial 220 finished with value: 0.4982142778678714 and parameters: {'pagerank_cutoff': 0.7467054091054909, 'despike': True, 'baseline_correct': True, 'smoothing': False, 'scaling': True, 'despike_ma': 98, 'despike_threshold': 7.0, 'asls_lam': 1000000, 'asls_p': 0.07200000000000001, 'scaling_type': 'svn', 'classifier': 'RandomForest'}. Best is trial 169 with value: 0.6750667546695998.\n",
      "[I 2024-04-14 22:32:51,635] Trial 219 finished with value: 0.5248257334107775 and parameters: {'pagerank_cutoff': 0.7379024683600108, 'despike': True, 'baseline_correct': True, 'smoothing': False, 'scaling': True, 'despike_ma': 87, 'despike_threshold': 7.0, 'asls_lam': 1000000, 'asls_p': 0.036000000000000004, 'scaling_type': 'svn', 'classifier': 'RandomForest'}. Best is trial 169 with value: 0.6750667546695998.\n",
      "[I 2024-04-14 22:32:56,684] Trial 221 finished with value: 0.6515311087608734 and parameters: {'pagerank_cutoff': 0.7820199281886522, 'despike': True, 'baseline_correct': True, 'smoothing': False, 'scaling': True, 'despike_ma': 98, 'despike_threshold': 7.0, 'asls_lam': 100000000000, 'asls_p': 0.092, 'scaling_type': 'svn', 'classifier': 'RandomForest'}. Best is trial 169 with value: 0.6750667546695998.\n",
      "[I 2024-04-14 22:34:43,884] Trial 222 finished with value: 0.6519494045666497 and parameters: {'pagerank_cutoff': 0.7860326824899122, 'despike': True, 'baseline_correct': True, 'smoothing': False, 'scaling': True, 'despike_ma': 82, 'despike_threshold': 7.0, 'asls_lam': 100000000000, 'asls_p': 0.05, 'scaling_type': 'svn', 'classifier': 'RandomForest'}. Best is trial 169 with value: 0.6750667546695998.\n",
      "[I 2024-04-14 22:34:52,096] Trial 225 finished with value: 0.6250222337866538 and parameters: {'pagerank_cutoff': 0.779186664048815, 'despike': True, 'baseline_correct': True, 'smoothing': False, 'scaling': True, 'despike_ma': 87, 'despike_threshold': 7.0, 'asls_lam': 100000000000, 'asls_p': 0.063, 'scaling_type': 'svn', 'classifier': 'RandomForest'}. Best is trial 169 with value: 0.6750667546695998.\n",
      "[I 2024-04-14 22:34:59,080] Trial 223 finished with value: 0.6414788488017569 and parameters: {'pagerank_cutoff': 0.7864023402981307, 'despike': True, 'baseline_correct': True, 'smoothing': False, 'scaling': True, 'despike_ma': 87, 'despike_threshold': 7.0, 'asls_lam': 100000000000, 'asls_p': 0.032, 'scaling_type': 'svn', 'classifier': 'RandomForest'}. Best is trial 169 with value: 0.6750667546695998.\n",
      "[I 2024-04-14 22:35:07,744] Trial 227 finished with value: 0.6328895707501782 and parameters: {'pagerank_cutoff': 0.7783725988386604, 'despike': True, 'baseline_correct': True, 'smoothing': False, 'scaling': True, 'despike_ma': 87, 'despike_threshold': 3.75, 'asls_lam': 100000000000, 'asls_p': 0.099, 'scaling_type': 'svn', 'classifier': 'RandomForest'}. Best is trial 169 with value: 0.6750667546695998.\n",
      "[I 2024-04-14 22:35:13,600] Trial 228 finished with value: 0.6497888931704452 and parameters: {'pagerank_cutoff': 0.7712331947883501, 'despike': True, 'baseline_correct': True, 'smoothing': False, 'scaling': True, 'despike_ma': 87, 'despike_threshold': 3.75, 'asls_lam': 100000000000, 'asls_p': 0.099, 'scaling_type': 'svn', 'classifier': 'RandomForest'}. Best is trial 169 with value: 0.6750667546695998.\n",
      "[I 2024-04-14 22:35:20,579] Trial 230 finished with value: 0.6738885238308173 and parameters: {'pagerank_cutoff': 0.7854968417968927, 'despike': True, 'baseline_correct': True, 'smoothing': False, 'scaling': True, 'despike_ma': 92, 'despike_threshold': 3.75, 'asls_lam': 100000000000, 'asls_p': 0.1, 'scaling_type': 'svn', 'classifier': 'RandomForest'}. Best is trial 169 with value: 0.6750667546695998.\n",
      "[I 2024-04-14 22:35:25,322] Trial 226 finished with value: 0.632297053007982 and parameters: {'pagerank_cutoff': 0.6505720944182378, 'despike': True, 'baseline_correct': True, 'smoothing': False, 'scaling': True, 'despike_ma': 87, 'despike_threshold': 3.75, 'asls_lam': 100000000000, 'asls_p': 0.099, 'scaling_type': 'svn', 'classifier': 'RandomForest'}. Best is trial 169 with value: 0.6750667546695998.\n",
      "[I 2024-04-14 22:35:31,564] Trial 224 finished with value: 0.6095020695812051 and parameters: {'pagerank_cutoff': 0.6491850784516162, 'despike': True, 'baseline_correct': True, 'smoothing': False, 'scaling': True, 'despike_ma': 87, 'despike_threshold': 7.0, 'asls_lam': 100000000000, 'asls_p': 0.039, 'scaling_type': 'svn', 'classifier': 'RandomForest'}. Best is trial 169 with value: 0.6750667546695998.\n",
      "[I 2024-04-14 22:35:44,091] Trial 229 finished with value: 0.623494590316483 and parameters: {'pagerank_cutoff': 0.7805588307752318, 'despike': True, 'baseline_correct': True, 'smoothing': False, 'scaling': True, 'despike_ma': 87, 'despike_threshold': 3.75, 'asls_lam': 100000000000, 'asls_p': 0.028, 'scaling_type': 'svn', 'classifier': 'RandomForest'}. Best is trial 169 with value: 0.6750667546695998.\n",
      "[I 2024-04-14 22:37:09,419] Trial 231 finished with value: 0.6689734960337917 and parameters: {'pagerank_cutoff': 0.794094216725823, 'despike': True, 'baseline_correct': True, 'smoothing': False, 'scaling': True, 'despike_ma': 92, 'despike_threshold': 3.75, 'asls_lam': 100000000000, 'asls_p': 0.1, 'scaling_type': 'svn', 'classifier': 'RandomForest'}. Best is trial 169 with value: 0.6750667546695998.\n",
      "[I 2024-04-14 22:37:16,534] Trial 232 finished with value: 0.6740446920356489 and parameters: {'pagerank_cutoff': 0.7831472220686768, 'despike': True, 'baseline_correct': True, 'smoothing': False, 'scaling': True, 'despike_ma': 82, 'despike_threshold': 3.75, 'asls_lam': 100000000000, 'asls_p': 0.099, 'scaling_type': 'svn', 'classifier': 'RandomForest'}. Best is trial 169 with value: 0.6750667546695998.\n",
      "[I 2024-04-14 22:37:46,883] Trial 233 finished with value: 0.6264392725506678 and parameters: {'pagerank_cutoff': 0.7869946852379606, 'despike': True, 'baseline_correct': True, 'smoothing': False, 'scaling': True, 'despike_ma': 82, 'despike_threshold': 3.75, 'asls_lam': 100000000000, 'asls_p': 0.034, 'scaling_type': 'svn', 'classifier': 'RandomForest'}. Best is trial 169 with value: 0.6750667546695998.\n",
      "[I 2024-04-14 22:38:46,693] Trial 235 finished with value: 0.6389616976565423 and parameters: {'pagerank_cutoff': 0.7878998352213862, 'despike': True, 'baseline_correct': True, 'smoothing': False, 'scaling': True, 'despike_ma': 93, 'despike_threshold': 3.75, 'asls_lam': 100000000000, 'asls_p': 0.099, 'scaling_type': 'svn', 'classifier': 'RandomForest'}. Best is trial 169 with value: 0.6750667546695998.\n",
      "[I 2024-04-14 22:38:54,433] Trial 236 finished with value: 0.6384883604678158 and parameters: {'pagerank_cutoff': 0.8114259038851576, 'despike': True, 'baseline_correct': True, 'smoothing': False, 'scaling': True, 'despike_ma': 93, 'despike_threshold': 3.75, 'asls_lam': 100000000000, 'asls_p': 0.099, 'scaling_type': 'svn', 'classifier': 'RandomForest'}. Best is trial 169 with value: 0.6750667546695998.\n",
      "[I 2024-04-14 22:39:00,167] Trial 237 finished with value: 0.6636304439477017 and parameters: {'pagerank_cutoff': 0.8147578567730885, 'despike': True, 'baseline_correct': True, 'smoothing': False, 'scaling': True, 'despike_ma': 92, 'despike_threshold': 5.25, 'asls_lam': 100000000000, 'asls_p': 0.1, 'scaling_type': 'svn', 'classifier': 'RandomForest'}. Best is trial 169 with value: 0.6750667546695998.\n",
      "[I 2024-04-14 22:39:06,828] Trial 240 finished with value: 0.6538845587476321 and parameters: {'pagerank_cutoff': 0.8198714280161062, 'despike': True, 'baseline_correct': True, 'smoothing': False, 'scaling': True, 'despike_ma': 92, 'despike_threshold': 3.5, 'asls_lam': 100000000000, 'asls_p': 0.095, 'scaling_type': 'svn', 'classifier': 'RandomForest'}. Best is trial 169 with value: 0.6750667546695998.\n",
      "[I 2024-04-14 22:39:13,276] Trial 242 finished with value: 0.6559667861540041 and parameters: {'pagerank_cutoff': 0.8182458423663471, 'despike': True, 'baseline_correct': True, 'smoothing': False, 'scaling': True, 'despike_ma': 92, 'despike_threshold': 3.5, 'asls_lam': 100000000000, 'asls_p': 0.096, 'scaling_type': 'svn', 'classifier': 'RandomForest'}. Best is trial 169 with value: 0.6750667546695998.\n",
      "[I 2024-04-14 22:39:16,760] Trial 239 finished with value: 0.6564289205363195 and parameters: {'pagerank_cutoff': 0.7982648217716071, 'despike': True, 'baseline_correct': True, 'smoothing': False, 'scaling': True, 'despike_ma': 93, 'despike_threshold': 3.5, 'asls_lam': 100000000000, 'asls_p': 0.096, 'scaling_type': 'svn', 'classifier': 'RandomForest'}. Best is trial 169 with value: 0.6750667546695998.\n",
      "[I 2024-04-14 22:39:24,148] Trial 234 finished with value: 0.6580680276251237 and parameters: {'pagerank_cutoff': 0.7817147857207022, 'despike': True, 'baseline_correct': True, 'smoothing': False, 'scaling': True, 'despike_ma': 92, 'despike_threshold': 3.75, 'asls_lam': 100000000000, 'asls_p': 0.032, 'scaling_type': 'svn', 'classifier': 'RandomForest'}. Best is trial 169 with value: 0.6750667546695998.\n",
      "[I 2024-04-14 22:39:29,483] Trial 238 finished with value: 0.6658215134165809 and parameters: {'pagerank_cutoff': 0.8149220285699185, 'despike': True, 'baseline_correct': True, 'smoothing': False, 'scaling': True, 'despike_ma': 75, 'despike_threshold': 6.5, 'asls_lam': 100000000000, 'asls_p': 0.033, 'scaling_type': 'svn', 'classifier': 'RandomForest'}. Best is trial 169 with value: 0.6750667546695998.\n",
      "[I 2024-04-14 22:39:34,527] Trial 241 finished with value: 0.6327253017004609 and parameters: {'pagerank_cutoff': 0.8079531075395805, 'despike': True, 'baseline_correct': True, 'smoothing': False, 'scaling': True, 'despike_ma': 94, 'despike_threshold': 3.5, 'asls_lam': 100000000000, 'asls_p': 0.034, 'scaling_type': 'svn', 'classifier': 'RandomForest'}. Best is trial 169 with value: 0.6750667546695998.\n",
      "[I 2024-04-14 22:40:56,233] Trial 243 finished with value: 0.680643200225948 and parameters: {'pagerank_cutoff': 0.8240569108542715, 'despike': True, 'baseline_correct': True, 'smoothing': False, 'scaling': True, 'despike_ma': 92, 'despike_threshold': 3.5, 'asls_lam': 100000000000, 'asls_p': 0.1, 'scaling_type': 'svn', 'classifier': 'RandomForest'}. Best is trial 243 with value: 0.680643200225948.\n",
      "[I 2024-04-14 22:41:02,179] Trial 244 finished with value: 0.6559477734489174 and parameters: {'pagerank_cutoff': 0.8223623749480686, 'despike': True, 'baseline_correct': True, 'smoothing': False, 'scaling': True, 'despike_ma': 81, 'despike_threshold': 3.5, 'asls_lam': 100000000000, 'asls_p': 0.1, 'scaling_type': 'svn', 'classifier': 'RandomForest'}. Best is trial 243 with value: 0.680643200225948.\n",
      "[I 2024-04-14 22:41:18,712] Trial 245 finished with value: 0.623805830848978 and parameters: {'pagerank_cutoff': 0.8312855178271068, 'despike': True, 'baseline_correct': True, 'smoothing': False, 'scaling': True, 'despike_ma': 93, 'despike_threshold': 3.5, 'asls_lam': 100000000000, 'asls_p': 0.1, 'scaling_type': 'svn', 'classifier': 'RandomForest'}. Best is trial 243 with value: 0.680643200225948.\n",
      "[I 2024-04-14 22:42:40,545] Trial 246 finished with value: 0.6572231933685597 and parameters: {'pagerank_cutoff': 0.8169314970979369, 'despike': True, 'baseline_correct': True, 'smoothing': False, 'scaling': True, 'despike_ma': 92, 'despike_threshold': 3.5, 'asls_lam': 100000000000, 'asls_p': 0.096, 'scaling_type': 'svn', 'classifier': 'RandomForest'}. Best is trial 243 with value: 0.680643200225948.\n",
      "[I 2024-04-14 22:42:48,378] Trial 247 finished with value: 0.6690465706945453 and parameters: {'pagerank_cutoff': 0.8267844578072772, 'despike': True, 'baseline_correct': True, 'smoothing': False, 'scaling': True, 'despike_ma': 92, 'despike_threshold': 4.0, 'asls_lam': 100000000000, 'asls_p': 0.096, 'scaling_type': 'svn', 'classifier': 'RandomForest'}. Best is trial 243 with value: 0.680643200225948.\n",
      "[I 2024-04-14 22:42:55,204] Trial 248 finished with value: 0.6312958429651103 and parameters: {'pagerank_cutoff': 0.8305304861247481, 'despike': True, 'baseline_correct': True, 'smoothing': False, 'scaling': True, 'despike_ma': 92, 'despike_threshold': 3.5, 'asls_lam': 100000000000, 'asls_p': 0.096, 'scaling_type': 'svn', 'classifier': 'RandomForest'}. Best is trial 243 with value: 0.680643200225948.\n",
      "[I 2024-04-14 22:43:02,466] Trial 251 finished with value: 0.41153774752475253 and parameters: {'pagerank_cutoff': 0.8187208113432688, 'despike': True, 'baseline_correct': True, 'smoothing': False, 'scaling': True, 'despike_ma': 92, 'despike_threshold': 3.5, 'asls_lam': 10000, 'asls_p': 0.095, 'scaling_type': 'svn', 'classifier': 'RandomForest'}. Best is trial 243 with value: 0.680643200225948.\n",
      "[I 2024-04-14 22:43:07,990] Trial 250 finished with value: 0.6187339582869906 and parameters: {'pagerank_cutoff': 0.8314550700908722, 'despike': True, 'baseline_correct': True, 'smoothing': False, 'scaling': True, 'despike_ma': 92, 'despike_threshold': 3.5, 'asls_lam': 100000000000, 'asls_p': 0.095, 'scaling_type': 'svn', 'classifier': 'RandomForest'}. Best is trial 243 with value: 0.680643200225948.\n",
      "[I 2024-04-14 22:43:14,349] Trial 249 finished with value: 0.6608580484558959 and parameters: {'pagerank_cutoff': 0.8255992369804896, 'despike': True, 'baseline_correct': True, 'smoothing': False, 'scaling': True, 'despike_ma': 92, 'despike_threshold': 3.5, 'asls_lam': 100000000000, 'asls_p': 0.096, 'scaling_type': 'svn', 'classifier': 'RandomForest'}. Best is trial 243 with value: 0.680643200225948.\n",
      "[I 2024-04-14 22:43:17,620] Trial 252 finished with value: 0.6700574616148599 and parameters: {'pagerank_cutoff': 0.8008140206877017, 'despike': True, 'baseline_correct': True, 'smoothing': False, 'scaling': True, 'despike_ma': 93, 'despike_threshold': 3.5, 'asls_lam': 100000000000, 'asls_p': 0.095, 'scaling_type': 'svn', 'classifier': 'RandomForest'}. Best is trial 243 with value: 0.680643200225948.\n",
      "[I 2024-04-14 22:43:24,019] Trial 254 finished with value: 0.6587195539263482 and parameters: {'pagerank_cutoff': 0.8206311826668717, 'despike': True, 'baseline_correct': True, 'smoothing': False, 'scaling': True, 'despike_ma': 92, 'despike_threshold': 3.5, 'asls_lam': 100000000000, 'asls_p': 0.030000000000000002, 'scaling_type': 'svn', 'classifier': 'RandomForest'}. Best is trial 243 with value: 0.680643200225948.\n",
      "[I 2024-04-14 22:43:29,485] Trial 253 finished with value: 0.669499592229821 and parameters: {'pagerank_cutoff': 0.8268669432847172, 'despike': True, 'baseline_correct': True, 'smoothing': False, 'scaling': True, 'despike_ma': 92, 'despike_threshold': 3.5, 'asls_lam': 100000000000, 'asls_p': 0.026000000000000002, 'scaling_type': 'svn', 'classifier': 'RandomForest'}. Best is trial 243 with value: 0.680643200225948.\n",
      "[I 2024-04-14 22:44:56,373] Trial 255 finished with value: 0.6427077542340701 and parameters: {'pagerank_cutoff': 0.8306663058291582, 'despike': True, 'baseline_correct': True, 'smoothing': False, 'scaling': True, 'despike_ma': 92, 'despike_threshold': 3.5, 'asls_lam': 100000000000, 'asls_p': 0.095, 'scaling_type': 'svn', 'classifier': 'RandomForest'}. Best is trial 243 with value: 0.680643200225948.\n",
      "[I 2024-04-14 22:45:03,005] Trial 256 finished with value: 0.6304173525153425 and parameters: {'pagerank_cutoff': 0.8301204156318132, 'despike': True, 'baseline_correct': True, 'smoothing': False, 'scaling': True, 'despike_ma': 92, 'despike_threshold': 3.5, 'asls_lam': 100000000000, 'asls_p': 0.029, 'scaling_type': 'svn', 'classifier': 'RandomForest'}. Best is trial 243 with value: 0.680643200225948.\n",
      "[I 2024-04-14 22:45:16,353] Trial 257 finished with value: 0.5461230566964669 and parameters: {'pagerank_cutoff': 0.8204564863659499, 'despike': True, 'baseline_correct': True, 'smoothing': False, 'scaling': True, 'despike_ma': 91, 'despike_threshold': 3.5, 'asls_lam': 10000000, 'asls_p': 0.031, 'scaling_type': 'svn', 'classifier': 'RandomForest'}. Best is trial 243 with value: 0.680643200225948.\n",
      "[I 2024-04-14 22:46:27,185] Trial 258 finished with value: 0.4593720923759502 and parameters: {'pagerank_cutoff': 0.8282179909848416, 'despike': True, 'baseline_correct': True, 'smoothing': False, 'scaling': False, 'despike_ma': 91, 'despike_threshold': 3.5, 'asls_lam': 10000, 'asls_p': 0.026000000000000002, 'classifier': 'RandomForest'}. Best is trial 243 with value: 0.680643200225948.\n",
      "[I 2024-04-14 22:46:32,294] Trial 264 finished with value: 0.5677507912400557 and parameters: {'pagerank_cutoff': 0.8659910840901166, 'despike': True, 'baseline_correct': True, 'smoothing': False, 'scaling': False, 'despike_ma': 95, 'despike_threshold': 5.25, 'asls_lam': 10000000, 'asls_p': 0.030000000000000002, 'classifier': 'RandomForest'}. Best is trial 243 with value: 0.680643200225948.\n",
      "[I 2024-04-14 22:46:46,165] Trial 260 finished with value: 0.5562007059939548 and parameters: {'pagerank_cutoff': 0.8103387012732725, 'despike': True, 'baseline_correct': True, 'smoothing': False, 'scaling': False, 'despike_ma': 92, 'despike_threshold': 3.5, 'asls_lam': 10000000, 'asls_p': 0.023, 'classifier': 'RandomForest'}. Best is trial 243 with value: 0.680643200225948.\n",
      "[I 2024-04-14 22:46:56,197] Trial 259 finished with value: 0.40277469261989773 and parameters: {'pagerank_cutoff': 0.8357712936424158, 'despike': True, 'baseline_correct': True, 'smoothing': False, 'scaling': True, 'despike_ma': 92, 'despike_threshold': 3.5, 'asls_lam': 10000, 'asls_p': 0.031, 'scaling_type': 'svn', 'classifier': 'RandomForest'}. Best is trial 243 with value: 0.680643200225948.\n",
      "[I 2024-04-14 22:47:02,632] Trial 265 finished with value: 0.5268853820001868 and parameters: {'pagerank_cutoff': 0.856502664249227, 'despike': True, 'baseline_correct': True, 'smoothing': False, 'scaling': False, 'despike_ma': 91, 'despike_threshold': 3.25, 'asls_lam': 100000000000, 'asls_p': 0.031, 'classifier': 'RandomForest'}. Best is trial 243 with value: 0.680643200225948.\n",
      "[I 2024-04-14 22:47:08,339] Trial 263 finished with value: 0.5802466315276761 and parameters: {'pagerank_cutoff': 0.8510647116734383, 'despike': True, 'baseline_correct': True, 'smoothing': False, 'scaling': False, 'despike_ma': 91, 'despike_threshold': 3.5, 'asls_lam': 100000000000, 'asls_p': 0.028, 'classifier': 'RandomForest'}. Best is trial 243 with value: 0.680643200225948.\n",
      "[I 2024-04-14 22:47:12,580] Trial 262 finished with value: 0.5949964260856759 and parameters: {'pagerank_cutoff': 0.8007487098244835, 'despike': True, 'baseline_correct': True, 'smoothing': False, 'scaling': False, 'despike_ma': 95, 'despike_threshold': 3.5, 'asls_lam': 100000000000, 'asls_p': 0.029, 'classifier': 'RandomForest'}. Best is trial 243 with value: 0.680643200225948.\n",
      "[I 2024-04-14 22:47:38,906] Trial 266 finished with value: 0.5382625110623037 and parameters: {'pagerank_cutoff': 0.8579194173852449, 'despike': True, 'baseline_correct': True, 'smoothing': False, 'scaling': True, 'despike_ma': 95, 'despike_threshold': 3.25, 'asls_lam': 10000000, 'asls_p': 0.025, 'scaling_type': 'svn', 'classifier': 'RandomForest'}. Best is trial 243 with value: 0.680643200225948.\n",
      "[I 2024-04-14 22:47:45,720] Trial 261 finished with value: 0.5263243956404396 and parameters: {'pagerank_cutoff': 0.793504393716847, 'despike': True, 'baseline_correct': True, 'smoothing': False, 'scaling': True, 'despike_ma': 95, 'despike_threshold': 3.5, 'asls_lam': 10000000, 'asls_p': 0.031, 'scaling_type': 'svn', 'classifier': 'RandomForest'}. Best is trial 243 with value: 0.680643200225948.\n",
      "[I 2024-04-14 22:48:52,199] Trial 267 finished with value: 0.5833327219290115 and parameters: {'pagerank_cutoff': 0.8692141348127069, 'despike': True, 'baseline_correct': True, 'smoothing': False, 'scaling': False, 'despike_ma': 96, 'despike_threshold': 3.25, 'asls_lam': 10000000, 'asls_p': 0.030000000000000002, 'classifier': 'RandomForest'}. Best is trial 243 with value: 0.680643200225948.\n",
      "[I 2024-04-14 22:49:24,715] Trial 268 finished with value: 0.5937719768547891 and parameters: {'pagerank_cutoff': 0.7997083655711801, 'despike': True, 'baseline_correct': True, 'smoothing': False, 'scaling': False, 'despike_ma': 95, 'despike_threshold': 3.25, 'asls_lam': 100000000000, 'asls_p': 0.023, 'classifier': 'RandomForest'}. Best is trial 243 with value: 0.680643200225948.\n",
      "[I 2024-04-14 22:49:33,893] Trial 269 finished with value: 0.5768590625276668 and parameters: {'pagerank_cutoff': 0.7990045508823881, 'despike': True, 'baseline_correct': True, 'smoothing': False, 'scaling': False, 'despike_ma': 95, 'despike_threshold': 3.25, 'asls_lam': 100000000000, 'asls_p': 0.032, 'classifier': 'RandomForest'}. Best is trial 243 with value: 0.680643200225948.\n",
      "[I 2024-04-14 22:50:46,488] Trial 271 finished with value: 0.6471068634886283 and parameters: {'pagerank_cutoff': 0.8625891866953252, 'despike': True, 'baseline_correct': True, 'smoothing': False, 'scaling': True, 'despike_ma': 95, 'despike_threshold': 3.25, 'asls_lam': 100000000000, 'asls_p': 0.027000000000000003, 'scaling_type': 'svn', 'classifier': 'RandomForest'}. Best is trial 243 with value: 0.680643200225948.\n",
      "[I 2024-04-14 22:50:54,207] Trial 270 finished with value: 0.6320780339495224 and parameters: {'pagerank_cutoff': 0.854027324255258, 'despike': True, 'baseline_correct': True, 'smoothing': False, 'scaling': True, 'despike_ma': 94, 'despike_threshold': 3.25, 'asls_lam': 100000000000, 'asls_p': 0.025, 'scaling_type': 'svn', 'classifier': 'RandomForest'}. Best is trial 243 with value: 0.680643200225948.\n",
      "[I 2024-04-14 22:51:02,204] Trial 274 finished with value: 0.6502815317194297 and parameters: {'pagerank_cutoff': 0.7533998951304163, 'despike': True, 'baseline_correct': True, 'smoothing': False, 'scaling': True, 'despike_ma': 95, 'despike_threshold': 4.0, 'asls_lam': 100000000000, 'asls_p': 0.1, 'scaling_type': 'svn', 'classifier': 'RandomForest'}. Best is trial 243 with value: 0.680643200225948.\n",
      "[I 2024-04-14 22:51:13,805] Trial 273 finished with value: 0.6417399991122017 and parameters: {'pagerank_cutoff': 0.866579654771756, 'despike': True, 'baseline_correct': True, 'smoothing': False, 'scaling': True, 'despike_ma': 94, 'despike_threshold': 3.25, 'asls_lam': 100000000000, 'asls_p': 0.027000000000000003, 'scaling_type': 'svn', 'classifier': 'RandomForest'}. Best is trial 243 with value: 0.680643200225948.\n",
      "[I 2024-04-14 22:51:27,804] Trial 278 finished with value: 0.6026471921038505 and parameters: {'pagerank_cutoff': 0.7642013699343808, 'despike': True, 'baseline_correct': True, 'smoothing': False, 'scaling': True, 'despike_ma': 94, 'despike_threshold': 4.0, 'asls_lam': 100000000000, 'asls_p': 0.1, 'scaling_type': 'svn', 'classifier': 'SVC'}. Best is trial 243 with value: 0.680643200225948.\n",
      "[I 2024-04-14 22:51:43,853] Trial 277 finished with value: 0.5988019397973756 and parameters: {'pagerank_cutoff': 0.7574306227262606, 'despike': True, 'baseline_correct': True, 'smoothing': False, 'scaling': True, 'despike_ma': 95, 'despike_threshold': 4.0, 'asls_lam': 100000000000, 'asls_p': 0.1, 'scaling_type': 'svn', 'classifier': 'SVC'}. Best is trial 243 with value: 0.680643200225948.\n",
      "[I 2024-04-14 22:51:59,125] Trial 275 finished with value: 0.5989474187327504 and parameters: {'pagerank_cutoff': 0.7581720658185931, 'despike': True, 'baseline_correct': True, 'smoothing': False, 'scaling': True, 'despike_ma': 95, 'despike_threshold': 4.0, 'asls_lam': 100000000000, 'asls_p': 0.026000000000000002, 'scaling_type': 'svn', 'classifier': 'SVC'}. Best is trial 243 with value: 0.680643200225948.\n",
      "[I 2024-04-14 22:52:04,397] Trial 276 finished with value: 0.6034001538304049 and parameters: {'pagerank_cutoff': 0.7602335176563146, 'despike': True, 'baseline_correct': True, 'smoothing': False, 'scaling': True, 'despike_ma': 95, 'despike_threshold': 4.0, 'asls_lam': 100000000000, 'asls_p': 0.026000000000000002, 'scaling_type': 'svn', 'classifier': 'SVC'}. Best is trial 243 with value: 0.680643200225948.\n",
      "[I 2024-04-14 22:52:08,929] Trial 272 finished with value: 0.6420735292824535 and parameters: {'pagerank_cutoff': 0.8620714304570726, 'despike': True, 'baseline_correct': True, 'smoothing': False, 'scaling': True, 'despike_ma': 95, 'despike_threshold': 3.25, 'asls_lam': 100000000000, 'asls_p': 0.003, 'scaling_type': 'svn', 'classifier': 'RandomForest'}. Best is trial 243 with value: 0.680643200225948.\n",
      "[I 2024-04-14 22:53:49,627] Trial 279 finished with value: 0.531658280060714 and parameters: {'pagerank_cutoff': 0.7558867101273942, 'despike': True, 'baseline_correct': True, 'smoothing': False, 'scaling': True, 'despike_ma': 100, 'despike_threshold': 4.0, 'asls_lam': 100000000000, 'asls_p': 0.1, 'scaling_type': 'svn', 'classifier': 'SVC'}. Best is trial 243 with value: 0.680643200225948.\n",
      "[I 2024-04-14 22:54:33,161] Trial 280 finished with value: 0.531658280060714 and parameters: {'pagerank_cutoff': 0.7547302158478554, 'despike': True, 'baseline_correct': True, 'smoothing': False, 'scaling': True, 'despike_ma': 89, 'despike_threshold': 4.0, 'asls_lam': 100000000000, 'asls_p': 0.1, 'scaling_type': 'svn', 'classifier': 'SVC'}. Best is trial 243 with value: 0.680643200225948.\n",
      "[I 2024-04-14 22:56:02,343] Trial 284 finished with value: 0.6154707932675232 and parameters: {'pagerank_cutoff': 0.7623518947261619, 'despike': True, 'baseline_correct': True, 'smoothing': False, 'scaling': True, 'despike_ma': 100, 'despike_threshold': 4.0, 'asls_lam': 10000000000, 'asls_p': 0.1, 'scaling_type': 'svn', 'classifier': 'SVC'}. Best is trial 243 with value: 0.680643200225948.\n",
      "[I 2024-04-14 22:56:24,489] Trial 285 finished with value: 0.5436552093158469 and parameters: {'pagerank_cutoff': 0.7541694765769141, 'despike': True, 'baseline_correct': True, 'smoothing': False, 'scaling': True, 'despike_ma': 100, 'despike_threshold': 4.0, 'asls_lam': 10000000000, 'asls_p': 0.1, 'scaling_type': 'svn', 'classifier': 'SVC'}. Best is trial 243 with value: 0.680643200225948.\n",
      "[I 2024-04-14 22:56:33,595] Trial 283 finished with value: 0.6053947237608187 and parameters: {'pagerank_cutoff': 0.7649018044432048, 'despike': True, 'baseline_correct': True, 'smoothing': False, 'scaling': True, 'despike_ma': 100, 'despike_threshold': 4.0, 'asls_lam': 100000000000, 'asls_p': 0.1, 'scaling_type': 'svn', 'classifier': 'SVC'}. Best is trial 243 with value: 0.680643200225948.\n",
      "[I 2024-04-14 22:56:40,683] Trial 288 finished with value: 0.6426472069893834 and parameters: {'pagerank_cutoff': 0.7935561938696262, 'despike': True, 'baseline_correct': True, 'smoothing': False, 'scaling': True, 'despike_ma': 100, 'despike_threshold': 4.25, 'asls_lam': 100000000000, 'asls_p': 0.098, 'scaling_type': 'svn', 'classifier': 'RandomForest'}. Best is trial 243 with value: 0.680643200225948.\n",
      "[I 2024-04-14 22:56:47,778] Trial 289 finished with value: 0.6331854412469372 and parameters: {'pagerank_cutoff': 0.7961877018929406, 'despike': True, 'baseline_correct': True, 'smoothing': False, 'scaling': True, 'despike_ma': 100, 'despike_threshold': 3.75, 'asls_lam': 10000000000, 'asls_p': 0.091, 'scaling_type': 'svn', 'classifier': 'RandomForest'}. Best is trial 243 with value: 0.680643200225948.\n",
      "[I 2024-04-14 22:56:55,108] Trial 290 finished with value: 0.6379195558321097 and parameters: {'pagerank_cutoff': 0.8027851669313915, 'despike': True, 'baseline_correct': True, 'smoothing': False, 'scaling': True, 'despike_ma': 100, 'despike_threshold': 3.75, 'asls_lam': 10000000000, 'asls_p': 0.098, 'scaling_type': 'svn', 'classifier': 'RandomForest'}. Best is trial 243 with value: 0.680643200225948.\n",
      "[I 2024-04-14 22:57:04,446] Trial 287 finished with value: 0.5982947728195007 and parameters: {'pagerank_cutoff': 0.7670961330335005, 'despike': True, 'baseline_correct': True, 'smoothing': False, 'scaling': True, 'despike_ma': 100, 'despike_threshold': 3.75, 'asls_lam': 1000000000, 'asls_p': 0.098, 'scaling_type': 'svn', 'classifier': 'RandomForest'}. Best is trial 243 with value: 0.680643200225948.\n",
      "[I 2024-04-14 22:57:08,876] Trial 281 finished with value: 0.6210725033527614 and parameters: {'pagerank_cutoff': 0.766177243144856, 'despike': True, 'baseline_correct': True, 'smoothing': False, 'scaling': True, 'despike_ma': 100, 'despike_threshold': 4.0, 'asls_lam': 100000000000, 'asls_p': 0.001, 'scaling_type': 'svn', 'classifier': 'SVC'}. Best is trial 243 with value: 0.680643200225948.\n",
      "[I 2024-04-14 22:57:32,120] Trial 286 finished with value: 0.6463205162310627 and parameters: {'pagerank_cutoff': 0.7685999012632452, 'despike': True, 'baseline_correct': True, 'smoothing': False, 'scaling': True, 'despike_ma': 100, 'despike_threshold': 4.0, 'asls_lam': 10000000000, 'asls_p': 0.010000000000000002, 'scaling_type': 'svn', 'classifier': 'RandomForest'}. Best is trial 243 with value: 0.680643200225948.\n",
      "[I 2024-04-14 22:57:53,023] Trial 282 finished with value: 0.6019239900415194 and parameters: {'pagerank_cutoff': 0.7596095134070217, 'despike': True, 'baseline_correct': True, 'smoothing': False, 'scaling': True, 'despike_ma': 100, 'despike_threshold': 4.0, 'asls_lam': 100000000000, 'asls_p': 0.006, 'scaling_type': 'svn', 'classifier': 'SVC'}. Best is trial 243 with value: 0.680643200225948.\n",
      "[I 2024-04-14 22:58:36,822] Trial 291 finished with value: 0.6236576920791815 and parameters: {'pagerank_cutoff': 0.7962491067770221, 'despike': True, 'baseline_correct': True, 'smoothing': False, 'scaling': True, 'despike_ma': 89, 'despike_threshold': 3.75, 'asls_lam': 100000000000, 'asls_p': 0.098, 'scaling_type': 'svn', 'classifier': 'RandomForest'}. Best is trial 243 with value: 0.680643200225948.\n",
      "[I 2024-04-14 22:58:58,169] Trial 294 finished with value: 0.5652988850539662 and parameters: {'pagerank_cutoff': 1.265483361598765, 'despike': True, 'baseline_correct': True, 'smoothing': False, 'scaling': True, 'despike_ma': 90, 'despike_threshold': 3.75, 'asls_lam': 1000000000, 'asls_p': 0.091, 'scaling_type': 'svn', 'classifier': 'RandomForest'}. Best is trial 243 with value: 0.680643200225948.\n",
      "[I 2024-04-14 22:59:13,987] Trial 303 finished with value: 0.5116921768707483 and parameters: {'pagerank_cutoff': 1.4175072528183508, 'despike': True, 'baseline_correct': True, 'smoothing': False, 'scaling': True, 'despike_ma': 90, 'despike_threshold': 5.75, 'asls_lam': 100000000000, 'asls_p': 0.034, 'scaling_type': 'svn', 'classifier': 'RandomForest'}. Best is trial 243 with value: 0.680643200225948.\n",
      "[I 2024-04-14 23:00:40,572] Trial 292 finished with value: 0.646101954280291 and parameters: {'pagerank_cutoff': 0.8035749930031807, 'despike': True, 'baseline_correct': True, 'smoothing': False, 'scaling': True, 'despike_ma': 100, 'despike_threshold': 3.0, 'asls_lam': 10000000000, 'asls_p': 0.008, 'scaling_type': 'svn', 'classifier': 'RandomForest'}. Best is trial 243 with value: 0.680643200225948.\n",
      "[I 2024-04-14 23:00:48,126] Trial 298 finished with value: 0.6518865103401028 and parameters: {'pagerank_cutoff': 0.8927807882177208, 'despike': True, 'baseline_correct': True, 'smoothing': False, 'scaling': True, 'despike_ma': 91, 'despike_threshold': 3.75, 'asls_lam': 100000000000, 'asls_p': 0.096, 'scaling_type': 'svn', 'classifier': 'RandomForest'}. Best is trial 243 with value: 0.680643200225948.\n",
      "[I 2024-04-14 23:00:55,258] Trial 293 finished with value: 0.6051781581554654 and parameters: {'pagerank_cutoff': 0.8010470812272624, 'despike': True, 'baseline_correct': True, 'smoothing': False, 'scaling': True, 'despike_ma': 97, 'despike_threshold': 3.75, 'asls_lam': 1000000000, 'asls_p': 0.091, 'scaling_type': 'svn', 'classifier': 'RandomForest'}. Best is trial 243 with value: 0.680643200225948.\n",
      "[I 2024-04-14 23:01:01,962] Trial 295 finished with value: 0.6149611167817735 and parameters: {'pagerank_cutoff': 0.8105687222538832, 'despike': True, 'baseline_correct': True, 'smoothing': False, 'scaling': True, 'despike_ma': 89, 'despike_threshold': 3.75, 'asls_lam': 1000000000, 'asls_p': 0.091, 'scaling_type': 'svn', 'classifier': 'RandomForest'}. Best is trial 243 with value: 0.680643200225948.\n",
      "[I 2024-04-14 23:01:08,130] Trial 301 finished with value: 0.6433943620576139 and parameters: {'pagerank_cutoff': 0.8916926640659999, 'despike': True, 'baseline_correct': True, 'smoothing': False, 'scaling': True, 'despike_ma': 90, 'despike_threshold': 3.75, 'asls_lam': 100000000000, 'asls_p': 0.096, 'scaling_type': 'svn', 'classifier': 'RandomForest'}. Best is trial 243 with value: 0.680643200225948.\n",
      "[I 2024-04-14 23:01:12,046] Trial 299 finished with value: 0.6083800046701141 and parameters: {'pagerank_cutoff': 0.8884804530512238, 'despike': True, 'baseline_correct': True, 'smoothing': False, 'scaling': True, 'despike_ma': 89, 'despike_threshold': 3.75, 'asls_lam': 100000000000, 'asls_p': 0.034, 'scaling_type': 'svn', 'classifier': 'RandomForest'}. Best is trial 243 with value: 0.680643200225948.\n",
      "[I 2024-04-14 23:01:16,536] Trial 297 finished with value: 0.6711949716992425 and parameters: {'pagerank_cutoff': 0.8140058063980206, 'despike': True, 'baseline_correct': True, 'smoothing': False, 'scaling': True, 'despike_ma': 89, 'despike_threshold': 3.75, 'asls_lam': 100000000000, 'asls_p': 0.096, 'scaling_type': 'svn', 'classifier': 'RandomForest'}. Best is trial 243 with value: 0.680643200225948.\n",
      "[I 2024-04-14 23:01:23,560] Trial 296 finished with value: 0.6528649225319358 and parameters: {'pagerank_cutoff': 0.8033665066553628, 'despike': True, 'baseline_correct': True, 'smoothing': False, 'scaling': True, 'despike_ma': 89, 'despike_threshold': 3.75, 'asls_lam': 100000000000, 'asls_p': 0.034, 'scaling_type': 'svn', 'classifier': 'RandomForest'}. Best is trial 243 with value: 0.680643200225948.\n",
      "[I 2024-04-14 23:01:29,703] Trial 300 finished with value: 0.6374400008977582 and parameters: {'pagerank_cutoff': 0.8174076647959756, 'despike': True, 'baseline_correct': True, 'smoothing': False, 'scaling': True, 'despike_ma': 90, 'despike_threshold': 3.75, 'asls_lam': 100000000000, 'asls_p': 0.034, 'scaling_type': 'svn', 'classifier': 'RandomForest'}. Best is trial 243 with value: 0.680643200225948.\n",
      "[I 2024-04-14 23:01:34,670] Trial 302 finished with value: 0.6605913778877888 and parameters: {'pagerank_cutoff': 0.8186643008783078, 'despike': True, 'baseline_correct': True, 'smoothing': False, 'scaling': True, 'despike_ma': 90, 'despike_threshold': 5.75, 'asls_lam': 100000000000, 'asls_p': 0.035, 'scaling_type': 'svn', 'classifier': 'RandomForest'}. Best is trial 243 with value: 0.680643200225948.\n",
      "[I 2024-04-14 23:02:50,654] Trial 304 finished with value: 0.6234609720090618 and parameters: {'pagerank_cutoff': 0.8319737997337882, 'despike': True, 'baseline_correct': True, 'smoothing': False, 'scaling': True, 'despike_ma': 33, 'despike_threshold': 3.0, 'asls_lam': 100000000000, 'asls_p': 0.096, 'scaling_type': 'svn', 'classifier': 'RandomForest'}. Best is trial 243 with value: 0.680643200225948.\n",
      "[I 2024-04-14 23:03:36,060] Trial 305 finished with value: 0.6637287056870594 and parameters: {'pagerank_cutoff': 0.8264606811126315, 'despike': True, 'baseline_correct': True, 'smoothing': False, 'scaling': True, 'despike_ma': 97, 'despike_threshold': 3.0, 'asls_lam': 100000000000, 'asls_p': 0.096, 'scaling_type': 'svn', 'classifier': 'RandomForest'}. Best is trial 243 with value: 0.680643200225948.\n",
      "[I 2024-04-14 23:04:43,891] Trial 314 finished with value: 0.37090621361257675 and parameters: {'pagerank_cutoff': 0.8378616488074606, 'despike': True, 'baseline_correct': True, 'smoothing': False, 'scaling': True, 'despike_ma': 92, 'despike_threshold': 5.5, 'asls_lam': 1000, 'asls_p': 0.094, 'scaling_type': 'svn', 'classifier': 'RandomForest'}. Best is trial 243 with value: 0.680643200225948.\n",
      "[I 2024-04-14 23:04:51,031] Trial 307 finished with value: 0.3809831203654161 and parameters: {'pagerank_cutoff': 0.8258965933134459, 'despike': True, 'baseline_correct': True, 'smoothing': False, 'scaling': True, 'despike_ma': 97, 'despike_threshold': 4.25, 'asls_lam': 1000, 'asls_p': 0.094, 'scaling_type': 'svn', 'classifier': 'RandomForest'}. Best is trial 243 with value: 0.680643200225948.\n",
      "[I 2024-04-14 23:04:58,537] Trial 306 finished with value: 0.6507672049771384 and parameters: {'pagerank_cutoff': 0.8368744015071696, 'despike': True, 'baseline_correct': True, 'smoothing': False, 'scaling': True, 'despike_ma': 75, 'despike_threshold': 3.75, 'asls_lam': 100000000000, 'asls_p': 0.096, 'scaling_type': 'svn', 'classifier': 'RandomForest'}. Best is trial 243 with value: 0.680643200225948.\n",
      "[I 2024-04-14 23:05:04,249] Trial 309 finished with value: 0.36222222459959574 and parameters: {'pagerank_cutoff': 0.8331461468225422, 'despike': True, 'baseline_correct': True, 'smoothing': False, 'scaling': True, 'despike_ma': 75, 'despike_threshold': 4.25, 'asls_lam': 1000, 'asls_p': 0.095, 'scaling_type': 'svn', 'classifier': 'RandomForest'}. Best is trial 243 with value: 0.680643200225948.\n",
      "[I 2024-04-14 23:05:11,443] Trial 312 finished with value: 0.3734812030075188 and parameters: {'pagerank_cutoff': 0.8289880271387463, 'despike': True, 'baseline_correct': True, 'smoothing': False, 'scaling': True, 'despike_ma': 75, 'despike_threshold': 3.5, 'asls_lam': 1000, 'asls_p': 0.093, 'scaling_type': 'svn', 'classifier': 'RandomForest'}. Best is trial 243 with value: 0.680643200225948.\n",
      "[I 2024-04-14 23:05:16,034] Trial 311 finished with value: 0.3862737839214446 and parameters: {'pagerank_cutoff': 0.8363649574694852, 'despike': True, 'baseline_correct': True, 'smoothing': False, 'scaling': True, 'despike_ma': 75, 'despike_threshold': 4.25, 'asls_lam': 1000, 'asls_p': 0.093, 'scaling_type': 'svn', 'classifier': 'RandomForest'}. Best is trial 243 with value: 0.680643200225948.\n",
      "[I 2024-04-14 23:05:22,147] Trial 313 finished with value: 0.37419390882578185 and parameters: {'pagerank_cutoff': 0.8448840074203862, 'despike': True, 'baseline_correct': True, 'smoothing': False, 'scaling': True, 'despike_ma': 93, 'despike_threshold': 3.5, 'asls_lam': 1000, 'asls_p': 0.093, 'scaling_type': 'svn', 'classifier': 'RandomForest'}. Best is trial 243 with value: 0.680643200225948.\n",
      "[I 2024-04-14 23:05:28,696] Trial 310 finished with value: 0.6734310822864518 and parameters: {'pagerank_cutoff': 0.8149227304548476, 'despike': True, 'baseline_correct': True, 'smoothing': False, 'scaling': True, 'despike_ma': 93, 'despike_threshold': 3.5, 'asls_lam': 100000000000, 'asls_p': 0.093, 'scaling_type': 'svn', 'classifier': 'RandomForest'}. Best is trial 243 with value: 0.680643200225948.\n",
      "[I 2024-04-14 23:05:35,432] Trial 308 finished with value: 0.6507977770008871 and parameters: {'pagerank_cutoff': 0.834624927473237, 'despike': True, 'baseline_correct': True, 'smoothing': False, 'scaling': True, 'despike_ma': 93, 'despike_threshold': 3.5, 'asls_lam': 100000000000, 'asls_p': 0.093, 'scaling_type': 'svn', 'classifier': 'RandomForest'}. Best is trial 243 with value: 0.680643200225948.\n",
      "[I 2024-04-14 23:05:41,348] Trial 315 finished with value: 0.3621333047277477 and parameters: {'pagerank_cutoff': 0.8321740524478144, 'despike': True, 'baseline_correct': True, 'smoothing': False, 'scaling': True, 'despike_ma': 93, 'despike_threshold': 4.25, 'asls_lam': 1000, 'asls_p': 0.037000000000000005, 'scaling_type': 'svn', 'classifier': 'RandomForest'}. Best is trial 243 with value: 0.680643200225948.\n",
      "[I 2024-04-14 23:05:45,980] Trial 316 finished with value: 0.3608008813037806 and parameters: {'pagerank_cutoff': 0.8438296632086614, 'despike': True, 'baseline_correct': True, 'smoothing': False, 'scaling': True, 'despike_ma': 93, 'despike_threshold': 6.0, 'asls_lam': 100, 'asls_p': 0.036000000000000004, 'scaling_type': 'svn', 'classifier': 'RandomForest'}. Best is trial 243 with value: 0.680643200225948.\n",
      "[I 2024-04-14 23:08:32,181] Trial 318 finished with value: 0.3630168155807348 and parameters: {'pagerank_cutoff': 0.8433495101391801, 'despike': True, 'baseline_correct': True, 'smoothing': False, 'scaling': True, 'despike_ma': 93, 'despike_threshold': 5.75, 'asls_lam': 100, 'asls_p': 0.093, 'scaling_type': 'svn', 'classifier': 'RandomForest'}. Best is trial 243 with value: 0.680643200225948.\n",
      "[I 2024-04-14 23:08:39,735] Trial 320 finished with value: 0.36777835967802264 and parameters: {'pagerank_cutoff': 0.8735841585169675, 'despike': True, 'baseline_correct': True, 'smoothing': False, 'scaling': True, 'despike_ma': 93, 'despike_threshold': 5.75, 'asls_lam': 100, 'asls_p': 0.093, 'scaling_type': 'svn', 'classifier': 'RandomForest'}. Best is trial 243 with value: 0.680643200225948.\n",
      "[I 2024-04-14 23:08:53,738] Trial 317 finished with value: 0.4283174603174603 and parameters: {'pagerank_cutoff': 0.14019868445309935, 'despike': True, 'baseline_correct': True, 'smoothing': False, 'scaling': True, 'despike_ma': 93, 'despike_threshold': 6.0, 'asls_lam': 100, 'asls_p': 0.094, 'scaling_type': 'svn', 'classifier': 'RandomForest'}. Best is trial 243 with value: 0.680643200225948.\n",
      "[I 2024-04-14 23:09:00,708] Trial 323 finished with value: 0.36552826538069727 and parameters: {'pagerank_cutoff': 0.8726312822226188, 'despike': True, 'baseline_correct': True, 'smoothing': False, 'scaling': True, 'despike_ma': 93, 'despike_threshold': 5.75, 'asls_lam': 100, 'asls_p': 0.037000000000000005, 'scaling_type': 'svn', 'classifier': 'RandomForest'}. Best is trial 243 with value: 0.680643200225948.\n",
      "[I 2024-04-14 23:09:06,792] Trial 321 finished with value: 0.6554064749543536 and parameters: {'pagerank_cutoff': 0.8617621087300944, 'despike': True, 'baseline_correct': True, 'smoothing': False, 'scaling': True, 'despike_ma': 93, 'despike_threshold': 6.0, 'asls_lam': 100000000000, 'asls_p': 0.093, 'scaling_type': 'svn', 'classifier': 'RandomForest'}. Best is trial 243 with value: 0.680643200225948.\n",
      "[I 2024-04-14 23:09:13,614] Trial 326 finished with value: 0.337573101749064 and parameters: {'pagerank_cutoff': 0.8781574372701746, 'despike': True, 'baseline_correct': True, 'smoothing': False, 'scaling': True, 'despike_ma': 97, 'despike_threshold': 5.75, 'asls_lam': 100, 'asls_p': 0.036000000000000004, 'scaling_type': 'svn', 'classifier': 'RandomForest'}. Best is trial 243 with value: 0.680643200225948.\n",
      "[I 2024-04-14 23:09:16,240] Trial 325 finished with value: 0.6315897169122371 and parameters: {'pagerank_cutoff': 0.869496763482726, 'despike': True, 'baseline_correct': True, 'smoothing': False, 'scaling': True, 'despike_ma': 93, 'despike_threshold': 3.5, 'asls_lam': 100000000000, 'asls_p': 0.097, 'scaling_type': 'svn', 'classifier': 'RandomForest'}. Best is trial 243 with value: 0.680643200225948.\n",
      "[I 2024-04-14 23:09:21,870] Trial 328 finished with value: 0.6399083979666902 and parameters: {'pagerank_cutoff': 0.8850847017674158, 'despike': True, 'baseline_correct': True, 'smoothing': False, 'scaling': True, 'despike_ma': 97, 'despike_threshold': 3.5, 'asls_lam': 100000000000, 'asls_p': 0.097, 'scaling_type': 'svn', 'classifier': 'RandomForest'}. Best is trial 243 with value: 0.680643200225948.\n",
      "[I 2024-04-14 23:09:26,346] Trial 322 finished with value: 0.6539557780905066 and parameters: {'pagerank_cutoff': 0.867097086770572, 'despike': True, 'baseline_correct': True, 'smoothing': False, 'scaling': True, 'despike_ma': 93, 'despike_threshold': 3.5, 'asls_lam': 100000000000, 'asls_p': 0.036000000000000004, 'scaling_type': 'svn', 'classifier': 'RandomForest'}. Best is trial 243 with value: 0.680643200225948.\n",
      "[I 2024-04-14 23:10:13,483] Trial 327 finished with value: 0.6590693788575874 and parameters: {'pagerank_cutoff': 0.7846425665982024, 'despike': True, 'baseline_correct': True, 'smoothing': False, 'scaling': True, 'despike_ma': 97, 'despike_threshold': 3.5, 'asls_lam': 100000000000, 'asls_p': 0.036000000000000004, 'scaling_type': 'svn', 'classifier': 'RandomForest'}. Best is trial 243 with value: 0.680643200225948.\n",
      "[I 2024-04-14 23:11:37,127] Trial 324 finished with value: 0.586936507936508 and parameters: {'pagerank_cutoff': 0.009951019682813644, 'despike': True, 'baseline_correct': True, 'smoothing': False, 'scaling': True, 'despike_ma': 93, 'despike_threshold': 6.0, 'asls_lam': 100000000000, 'asls_p': 0.037000000000000005, 'scaling_type': 'svn', 'classifier': 'RandomForest'}. Best is trial 243 with value: 0.680643200225948.\n",
      "[I 2024-04-14 23:11:47,326] Trial 319 finished with value: 0.5907301587301588 and parameters: {'pagerank_cutoff': 0.1036360851147512, 'despike': True, 'baseline_correct': True, 'smoothing': False, 'scaling': True, 'despike_ma': 93, 'despike_threshold': 3.5, 'asls_lam': 100000000000, 'asls_p': 0.037000000000000005, 'scaling_type': 'svn', 'classifier': 'RandomForest'}. Best is trial 243 with value: 0.680643200225948.\n",
      "[I 2024-04-14 23:12:58,006] Trial 329 finished with value: 0.6383534300321635 and parameters: {'pagerank_cutoff': 0.7877352402210949, 'despike': True, 'baseline_correct': True, 'smoothing': False, 'scaling': True, 'despike_ma': 88, 'despike_threshold': 3.25, 'asls_lam': 100000000000, 'asls_p': 0.098, 'scaling_type': 'svn', 'classifier': 'RandomForest'}. Best is trial 243 with value: 0.680643200225948.\n",
      "[I 2024-04-14 23:13:06,407] Trial 330 finished with value: 0.6452853940027934 and parameters: {'pagerank_cutoff': 0.787926918761269, 'despike': True, 'baseline_correct': True, 'smoothing': False, 'scaling': True, 'despike_ma': 97, 'despike_threshold': 3.5, 'asls_lam': 100000000000, 'asls_p': 0.08700000000000001, 'scaling_type': 'svn', 'classifier': 'RandomForest'}. Best is trial 243 with value: 0.680643200225948.\n",
      "[I 2024-04-14 23:13:13,286] Trial 332 finished with value: 0.6369854130715621 and parameters: {'pagerank_cutoff': 0.7879658047244572, 'despike': True, 'baseline_correct': True, 'smoothing': False, 'scaling': True, 'despike_ma': 97, 'despike_threshold': 9.25, 'asls_lam': 100000000000, 'asls_p': 0.08800000000000001, 'scaling_type': 'svn', 'classifier': 'RandomForest'}. Best is trial 243 with value: 0.680643200225948.\n",
      "[I 2024-04-14 23:13:20,517] Trial 337 finished with value: 0.6434231106037438 and parameters: {'pagerank_cutoff': 0.7861721343112333, 'despike': True, 'baseline_correct': True, 'smoothing': False, 'scaling': True, 'despike_ma': 21, 'despike_threshold': 3.25, 'asls_lam': 100000000000, 'asls_p': 0.097, 'scaling_type': 'vector', 'classifier': 'RandomForest'}. Best is trial 243 with value: 0.680643200225948.\n",
      "[I 2024-04-14 23:13:27,139] Trial 333 finished with value: 0.6562444985399031 and parameters: {'pagerank_cutoff': 0.7884783498328075, 'despike': True, 'baseline_correct': True, 'smoothing': False, 'scaling': True, 'despike_ma': 97, 'despike_threshold': 5.25, 'asls_lam': 100000000000, 'asls_p': 0.097, 'scaling_type': 'svn', 'classifier': 'RandomForest'}. Best is trial 243 with value: 0.680643200225948.\n",
      "[I 2024-04-14 23:13:33,305] Trial 335 finished with value: 0.6270108995385815 and parameters: {'pagerank_cutoff': 0.7870437355171092, 'despike': True, 'baseline_correct': True, 'smoothing': False, 'scaling': True, 'despike_ma': 16, 'despike_threshold': 3.25, 'asls_lam': 100000000000, 'asls_p': 0.098, 'scaling_type': 'svn', 'classifier': 'RandomForest'}. Best is trial 243 with value: 0.680643200225948.\n",
      "[I 2024-04-14 23:13:36,729] Trial 336 finished with value: 0.6242286555388531 and parameters: {'pagerank_cutoff': 0.7869632280523562, 'despike': True, 'baseline_correct': True, 'smoothing': False, 'scaling': True, 'despike_ma': 88, 'despike_threshold': 5.25, 'asls_lam': 100000000000, 'asls_p': 0.022000000000000002, 'scaling_type': 'vector', 'classifier': 'RandomForest'}. Best is trial 243 with value: 0.680643200225948.\n",
      "[I 2024-04-14 23:13:43,833] Trial 331 finished with value: 0.6591064763610825 and parameters: {'pagerank_cutoff': 0.7847372518979944, 'despike': True, 'baseline_correct': True, 'smoothing': False, 'scaling': True, 'despike_ma': 97, 'despike_threshold': 3.25, 'asls_lam': 100000000000, 'asls_p': 0.097, 'scaling_type': 'svn', 'classifier': 'RandomForest'}. Best is trial 243 with value: 0.680643200225948.\n",
      "[I 2024-04-14 23:13:50,173] Trial 334 finished with value: 0.6226352728365511 and parameters: {'pagerank_cutoff': 0.7798606539508167, 'despike': True, 'baseline_correct': True, 'smoothing': False, 'scaling': True, 'despike_ma': 97, 'despike_threshold': 3.25, 'asls_lam': 100000000000, 'asls_p': 0.097, 'scaling_type': 'svn', 'classifier': 'RandomForest'}. Best is trial 243 with value: 0.680643200225948.\n",
      "[I 2024-04-14 23:13:54,996] Trial 338 finished with value: 0.6430714648651568 and parameters: {'pagerank_cutoff': 0.7912791511897233, 'despike': True, 'baseline_correct': True, 'smoothing': False, 'scaling': True, 'despike_ma': 24, 'despike_threshold': 3.25, 'asls_lam': 100000000000, 'asls_p': 0.033, 'scaling_type': 'vector', 'classifier': 'RandomForest'}. Best is trial 243 with value: 0.680643200225948.\n",
      "[I 2024-04-14 23:16:32,819] Trial 339 finished with value: 0.6568326193880225 and parameters: {'pagerank_cutoff': 0.7852700007038063, 'despike': True, 'baseline_correct': True, 'smoothing': False, 'scaling': True, 'despike_ma': 88, 'despike_threshold': 3.25, 'asls_lam': 100000000000, 'asls_p': 0.032, 'scaling_type': 'vector', 'classifier': 'RandomForest'}. Best is trial 243 with value: 0.680643200225948.\n",
      "[I 2024-04-14 23:16:52,305] Trial 340 finished with value: 0.6407175220231356 and parameters: {'pagerank_cutoff': 0.7882866759962585, 'despike': True, 'baseline_correct': True, 'smoothing': False, 'scaling': True, 'despike_ma': 97, 'despike_threshold': 3.25, 'asls_lam': 100000000000, 'asls_p': 0.032, 'scaling_type': 'svn', 'classifier': 'RandomForest'}. Best is trial 243 with value: 0.680643200225948.\n",
      "[I 2024-04-14 23:17:21,298] Trial 341 finished with value: 0.6243904884484 and parameters: {'pagerank_cutoff': 0.7403376414953051, 'despike': True, 'baseline_correct': True, 'smoothing': False, 'scaling': True, 'despike_ma': 97, 'despike_threshold': 3.75, 'asls_lam': 100000000000, 'asls_p': 0.032, 'scaling_type': 'vector', 'classifier': 'RandomForest'}. Best is trial 243 with value: 0.680643200225948.\n",
      "[I 2024-04-14 23:17:28,137] Trial 344 finished with value: 0.6545823577405163 and parameters: {'pagerank_cutoff': 0.7404963483608464, 'despike': True, 'baseline_correct': True, 'smoothing': False, 'scaling': True, 'despike_ma': 90, 'despike_threshold': 3.75, 'asls_lam': 100000000000, 'asls_p': 0.098, 'scaling_type': 'svn', 'classifier': 'RandomForest'}. Best is trial 243 with value: 0.680643200225948.\n",
      "[I 2024-04-14 23:17:36,067] Trial 347 finished with value: 0.617369100043873 and parameters: {'pagerank_cutoff': 0.7348451087922452, 'despike': True, 'baseline_correct': True, 'smoothing': False, 'scaling': True, 'despike_ma': 91, 'despike_threshold': 3.75, 'asls_lam': 100000000000, 'asls_p': 0.098, 'scaling_type': 'svn', 'classifier': 'RandomForest'}. Best is trial 243 with value: 0.680643200225948.\n",
      "[I 2024-04-14 23:17:43,073] Trial 350 finished with value: 0.44123831936269386 and parameters: {'pagerank_cutoff': 0.7380648895957044, 'despike': True, 'baseline_correct': True, 'smoothing': False, 'scaling': True, 'despike_ma': 96, 'despike_threshold': 3.0, 'asls_lam': 100000, 'asls_p': 0.1, 'scaling_type': 'svn', 'classifier': 'RandomForest'}. Best is trial 243 with value: 0.680643200225948.\n",
      "[I 2024-04-14 23:17:51,277] Trial 342 finished with value: 0.6251458606001288 and parameters: {'pagerank_cutoff': 0.7323500583899788, 'despike': True, 'baseline_correct': True, 'smoothing': False, 'scaling': True, 'despike_ma': 97, 'despike_threshold': 3.75, 'asls_lam': 100000000000, 'asls_p': 0.032, 'scaling_type': 'vector', 'classifier': 'RandomForest'}. Best is trial 243 with value: 0.680643200225948.\n",
      "[I 2024-04-14 23:17:53,398] Trial 343 finished with value: 0.640727290050491 and parameters: {'pagerank_cutoff': 0.7378413645094158, 'despike': True, 'baseline_correct': True, 'smoothing': False, 'scaling': True, 'despike_ma': 89, 'despike_threshold': 3.75, 'asls_lam': 100000000000, 'asls_p': 0.033, 'scaling_type': 'vector', 'classifier': 'RandomForest'}. Best is trial 243 with value: 0.680643200225948.\n",
      "[I 2024-04-14 23:17:59,793] Trial 349 finished with value: 0.6401479717729449 and parameters: {'pagerank_cutoff': 0.7467982806667515, 'despike': True, 'baseline_correct': True, 'smoothing': False, 'scaling': True, 'despike_ma': 96, 'despike_threshold': 3.0, 'asls_lam': 100000000000, 'asls_p': 0.1, 'scaling_type': 'svn', 'classifier': 'RandomForest'}. Best is trial 243 with value: 0.680643200225948.\n",
      "[I 2024-04-14 23:18:05,519] Trial 346 finished with value: 0.6476004325205412 and parameters: {'pagerank_cutoff': 0.7458336094673563, 'despike': True, 'baseline_correct': True, 'smoothing': False, 'scaling': True, 'despike_ma': 88, 'despike_threshold': 3.75, 'asls_lam': 100000000000, 'asls_p': 0.032, 'scaling_type': 'svn', 'classifier': 'RandomForest'}. Best is trial 243 with value: 0.680643200225948.\n",
      "[I 2024-04-14 23:18:16,343] Trial 345 finished with value: 0.6554024915279452 and parameters: {'pagerank_cutoff': 0.7387548156120015, 'despike': True, 'baseline_correct': True, 'smoothing': False, 'scaling': True, 'despike_ma': 90, 'despike_threshold': 3.75, 'asls_lam': 100000000000, 'asls_p': 0.022000000000000002, 'scaling_type': 'svn', 'classifier': 'RandomForest'}. Best is trial 243 with value: 0.680643200225948.\n",
      "[I 2024-04-14 23:18:23,861] Trial 348 finished with value: 0.6460249845569359 and parameters: {'pagerank_cutoff': 0.7379680721461982, 'despike': True, 'baseline_correct': True, 'smoothing': False, 'scaling': True, 'despike_ma': 96, 'despike_threshold': 3.0, 'asls_lam': 100000000000, 'asls_p': 0.033, 'scaling_type': 'svn', 'classifier': 'RandomForest'}. Best is trial 243 with value: 0.680643200225948.\n",
      "[I 2024-04-14 23:20:28,729] Trial 356 finished with value: 0.37975451187961806 and parameters: {'pagerank_cutoff': 0.7396588280443546, 'despike': False, 'baseline_correct': True, 'smoothing': False, 'scaling': True, 'asls_lam': 10000, 'asls_p': 0.1, 'scaling_type': 'svn', 'classifier': 'RandomForest'}. Best is trial 243 with value: 0.680643200225948.\n",
      "[I 2024-04-14 23:20:37,059] Trial 360 finished with value: 0.3944678394481478 and parameters: {'pagerank_cutoff': 0.8136868835698295, 'despike': False, 'baseline_correct': True, 'smoothing': False, 'scaling': True, 'asls_lam': 10000, 'asls_p': 0.095, 'scaling_type': 'svn', 'classifier': 'RandomForest'}. Best is trial 243 with value: 0.680643200225948.\n",
      "[I 2024-04-14 23:20:43,589] Trial 361 finished with value: 0.4011632275645999 and parameters: {'pagerank_cutoff': 0.81976161162834, 'despike': False, 'baseline_correct': True, 'smoothing': False, 'scaling': True, 'asls_lam': 10000, 'asls_p': 0.095, 'scaling_type': 'svn', 'classifier': 'RandomForest'}. Best is trial 243 with value: 0.680643200225948.\n",
      "[I 2024-04-14 23:20:52,517] Trial 355 finished with value: 0.6503025198420483 and parameters: {'pagerank_cutoff': 0.749386126908484, 'despike': False, 'baseline_correct': True, 'smoothing': False, 'scaling': True, 'asls_lam': 100000000000, 'asls_p': 0.1, 'scaling_type': 'svn', 'classifier': 'RandomForest'}. Best is trial 243 with value: 0.680643200225948.\n",
      "[I 2024-04-14 23:20:57,668] Trial 359 finished with value: 0.6494137374858239 and parameters: {'pagerank_cutoff': 0.8156117657132045, 'despike': False, 'baseline_correct': True, 'smoothing': False, 'scaling': True, 'asls_lam': 100000000000, 'asls_p': 0.095, 'scaling_type': 'svn', 'classifier': 'RandomForest'}. Best is trial 243 with value: 0.680643200225948.\n",
      "[I 2024-04-14 23:21:01,486] Trial 352 finished with value: 0.45489554172382507 and parameters: {'pagerank_cutoff': 0.7500920260977724, 'despike': True, 'baseline_correct': True, 'smoothing': False, 'scaling': True, 'despike_ma': 90, 'despike_threshold': 3.75, 'asls_lam': 100000, 'asls_p': 0.1, 'scaling_type': 'svn', 'classifier': 'RandomForest'}. Best is trial 243 with value: 0.680643200225948.\n",
      "[I 2024-04-14 23:21:09,278] Trial 362 finished with value: 0.5780371891109579 and parameters: {'pagerank_cutoff': 0.8155980994522689, 'despike': False, 'baseline_correct': True, 'smoothing': False, 'scaling': True, 'asls_lam': 100000000, 'asls_p': 0.095, 'scaling_type': 'svn', 'classifier': 'RandomForest'}. Best is trial 243 with value: 0.680643200225948.\n",
      "[I 2024-04-14 23:21:16,093] Trial 351 finished with value: 0.6590331889955122 and parameters: {'pagerank_cutoff': 0.7454808570152627, 'despike': True, 'baseline_correct': True, 'smoothing': False, 'scaling': True, 'despike_ma': 98, 'despike_threshold': 3.0, 'asls_lam': 100000000000, 'asls_p': 0.1, 'scaling_type': 'svn', 'classifier': 'RandomForest'}. Best is trial 243 with value: 0.680643200225948.\n",
      "[I 2024-04-14 23:21:22,855] Trial 357 finished with value: 0.6414586077774436 and parameters: {'pagerank_cutoff': 0.7483722800983049, 'despike': False, 'baseline_correct': True, 'smoothing': False, 'scaling': True, 'asls_lam': 100000000000, 'asls_p': 0.04, 'scaling_type': 'svn', 'classifier': 'RandomForest'}. Best is trial 243 with value: 0.680643200225948.\n",
      "[I 2024-04-14 23:21:29,683] Trial 353 finished with value: 0.4318536340939617 and parameters: {'pagerank_cutoff': 0.7454901298616573, 'despike': True, 'baseline_correct': True, 'smoothing': False, 'scaling': True, 'despike_ma': 90, 'despike_threshold': 3.0, 'asls_lam': 100000, 'asls_p': 0.1, 'scaling_type': 'svn', 'classifier': 'RandomForest'}. Best is trial 243 with value: 0.680643200225948.\n",
      "[I 2024-04-14 23:21:36,678] Trial 354 finished with value: 0.6607816214733366 and parameters: {'pagerank_cutoff': 0.7391636346074629, 'despike': True, 'baseline_correct': True, 'smoothing': False, 'scaling': True, 'despike_ma': 91, 'despike_threshold': 3.0, 'asls_lam': 100000000000, 'asls_p': 0.1, 'scaling_type': 'svn', 'classifier': 'RandomForest'}. Best is trial 243 with value: 0.680643200225948.\n",
      "[I 2024-04-14 23:21:39,279] Trial 358 finished with value: 0.6597116582441919 and parameters: {'pagerank_cutoff': 0.8062171957147957, 'despike': True, 'baseline_correct': True, 'smoothing': False, 'scaling': True, 'despike_ma': 95, 'despike_threshold': 3.0, 'asls_lam': 100000000000, 'asls_p': 0.1, 'scaling_type': 'svn', 'classifier': 'RandomForest'}. Best is trial 243 with value: 0.680643200225948.\n",
      "[I 2024-04-14 23:24:48,688] Trial 363 finished with value: 0.5656091402285057 and parameters: {'pagerank_cutoff': 0.8215268562157052, 'despike': True, 'baseline_correct': True, 'smoothing': False, 'scaling': True, 'despike_ma': 91, 'despike_threshold': 6.25, 'asls_lam': 100000000, 'asls_p': 0.079, 'scaling_type': 'svn', 'classifier': 'RandomForest'}. Best is trial 243 with value: 0.680643200225948.\n",
      "[I 2024-04-14 23:24:56,409] Trial 367 finished with value: 0.6563530216831103 and parameters: {'pagerank_cutoff': 0.9121425800454974, 'despike': True, 'baseline_correct': True, 'smoothing': False, 'scaling': True, 'despike_ma': 91, 'despike_threshold': 6.25, 'asls_lam': 100000000000, 'asls_p': 0.098, 'scaling_type': 'svn', 'classifier': 'RandomForest'}. Best is trial 243 with value: 0.680643200225948.\n",
      "[I 2024-04-14 23:25:03,853] Trial 369 finished with value: 0.6609483670331332 and parameters: {'pagerank_cutoff': 0.8486848526403252, 'despike': True, 'baseline_correct': True, 'smoothing': False, 'scaling': True, 'despike_ma': 91, 'despike_threshold': 3.5, 'asls_lam': 100000000000, 'asls_p': 0.098, 'scaling_type': 'svn', 'classifier': 'RandomForest'}. Best is trial 243 with value: 0.680643200225948.\n",
      "[I 2024-04-14 23:25:09,196] Trial 370 finished with value: 0.6600489724067257 and parameters: {'pagerank_cutoff': 0.910052347568908, 'despike': True, 'baseline_correct': True, 'smoothing': False, 'scaling': True, 'despike_ma': 95, 'despike_threshold': 3.0, 'asls_lam': 100000000000, 'asls_p': 0.098, 'scaling_type': 'svn', 'classifier': 'RandomForest'}. Best is trial 243 with value: 0.680643200225948.\n",
      "[I 2024-04-14 23:25:14,682] Trial 373 finished with value: 0.6401247680290608 and parameters: {'pagerank_cutoff': 0.8485962521894262, 'despike': True, 'baseline_correct': True, 'smoothing': False, 'scaling': True, 'despike_ma': 95, 'despike_threshold': 3.0, 'asls_lam': 100000000000, 'asls_p': 0.098, 'scaling_type': 'svn', 'classifier': 'RandomForest'}. Best is trial 243 with value: 0.680643200225948.\n",
      "[I 2024-04-14 23:25:18,126] Trial 364 finished with value: 0.5562926533420798 and parameters: {'pagerank_cutoff': 0.8130822465449171, 'despike': True, 'baseline_correct': True, 'smoothing': False, 'scaling': True, 'despike_ma': 91, 'despike_threshold': 6.25, 'asls_lam': 100000000, 'asls_p': 0.029, 'scaling_type': 'svn', 'classifier': 'RandomForest'}. Best is trial 243 with value: 0.680643200225948.\n",
      "[I 2024-04-14 23:25:26,523] Trial 368 finished with value: 0.49783484109641873 and parameters: {'pagerank_cutoff': 0.7032846854559438, 'despike': True, 'baseline_correct': True, 'smoothing': False, 'scaling': True, 'despike_ma': 98, 'despike_threshold': 3.5, 'asls_lam': 100000000, 'asls_p': 0.098, 'scaling_type': 'svn', 'classifier': 'RandomForest'}. Best is trial 243 with value: 0.680643200225948.\n",
      "[I 2024-04-14 23:25:32,794] Trial 371 finished with value: 0.6351162694539634 and parameters: {'pagerank_cutoff': 0.8511841986282616, 'despike': True, 'baseline_correct': True, 'smoothing': False, 'scaling': True, 'despike_ma': 44, 'despike_threshold': 3.0, 'asls_lam': 100000000000, 'asls_p': 0.058, 'scaling_type': 'svn', 'classifier': 'RandomForest'}. Best is trial 243 with value: 0.680643200225948.\n",
      "[I 2024-04-14 23:25:39,593] Trial 366 finished with value: 0.5820525661257963 and parameters: {'pagerank_cutoff': 0.8159312666759592, 'despike': True, 'baseline_correct': True, 'smoothing': False, 'scaling': True, 'despike_ma': 91, 'despike_threshold': 4.0, 'asls_lam': 100000000, 'asls_p': 0.029, 'scaling_type': 'svn', 'classifier': 'RandomForest'}. Best is trial 243 with value: 0.680643200225948.\n",
      "[I 2024-04-14 23:25:43,664] Trial 372 finished with value: 0.6635823173267291 and parameters: {'pagerank_cutoff': 0.8405622561123384, 'despike': True, 'baseline_correct': True, 'smoothing': False, 'scaling': True, 'despike_ma': 95, 'despike_threshold': 3.0, 'asls_lam': 100000000000, 'asls_p': 0.029, 'scaling_type': 'svn', 'classifier': 'RandomForest'}. Best is trial 243 with value: 0.680643200225948.\n",
      "[I 2024-04-14 23:26:08,259] Trial 365 finished with value: 0.517880589380862 and parameters: {'pagerank_cutoff': 0.5255470439373279, 'despike': True, 'baseline_correct': True, 'smoothing': False, 'scaling': True, 'despike_ma': 91, 'despike_threshold': 4.0, 'asls_lam': 100000000, 'asls_p': 0.04, 'scaling_type': 'svn', 'classifier': 'RandomForest'}. Best is trial 243 with value: 0.680643200225948.\n",
      "[I 2024-04-14 23:27:00,627] Trial 374 finished with value: 0.6293234789481443 and parameters: {'pagerank_cutoff': 0.3375730960929733, 'despike': True, 'baseline_correct': True, 'smoothing': False, 'scaling': True, 'despike_ma': 67, 'despike_threshold': 3.0, 'asls_lam': 100000000000, 'asls_p': 0.098, 'scaling_type': 'svn', 'classifier': 'RandomForest'}. Best is trial 243 with value: 0.680643200225948.\n",
      "[I 2024-04-14 23:29:10,633] Trial 376 finished with value: 0.6404654804480002 and parameters: {'pagerank_cutoff': 0.8523581047089259, 'despike': True, 'baseline_correct': True, 'smoothing': False, 'scaling': True, 'despike_ma': 95, 'despike_threshold': 3.0, 'asls_lam': 100000000000, 'asls_p': 0.098, 'scaling_type': 'svn', 'classifier': 'RandomForest'}. Best is trial 243 with value: 0.680643200225948.\n",
      "[I 2024-04-14 23:29:16,448] Trial 377 finished with value: 0.642293848868762 and parameters: {'pagerank_cutoff': 0.8542201685865655, 'despike': True, 'baseline_correct': True, 'smoothing': False, 'scaling': True, 'despike_ma': 94, 'despike_threshold': 3.0, 'asls_lam': 100000000000, 'asls_p': 0.098, 'scaling_type': 'svn', 'classifier': 'RandomForest'}. Best is trial 243 with value: 0.680643200225948.\n",
      "[I 2024-04-14 23:29:22,292] Trial 378 finished with value: 0.6618524165393982 and parameters: {'pagerank_cutoff': 0.9084128824796295, 'despike': True, 'baseline_correct': True, 'smoothing': False, 'scaling': True, 'despike_ma': 95, 'despike_threshold': 3.0, 'asls_lam': 100000000000, 'asls_p': 0.098, 'scaling_type': 'svn', 'classifier': 'RandomForest'}. Best is trial 243 with value: 0.680643200225948.\n",
      "[I 2024-04-14 23:29:28,167] Trial 381 finished with value: 0.620159791627998 and parameters: {'pagerank_cutoff': 0.8799357678063376, 'despike': True, 'baseline_correct': True, 'smoothing': False, 'scaling': True, 'despike_ma': 61, 'despike_threshold': 3.0, 'asls_lam': 100000000000, 'asls_p': 0.096, 'scaling_type': 'svn', 'classifier': 'RandomForest'}. Best is trial 243 with value: 0.680643200225948.\n",
      "[I 2024-04-14 23:29:34,196] Trial 380 finished with value: 0.6563629724747883 and parameters: {'pagerank_cutoff': 0.8754461177944147, 'despike': True, 'baseline_correct': True, 'smoothing': False, 'scaling': True, 'despike_ma': 95, 'despike_threshold': 3.0, 'asls_lam': 100000000000, 'asls_p': 0.098, 'scaling_type': 'svn', 'classifier': 'RandomForest'}. Best is trial 243 with value: 0.680643200225948.\n",
      "[I 2024-04-14 23:29:38,218] Trial 384 finished with value: 0.654098686004567 and parameters: {'pagerank_cutoff': 0.9109727558628022, 'despike': True, 'baseline_correct': True, 'smoothing': False, 'scaling': True, 'despike_ma': 95, 'despike_threshold': 3.0, 'asls_lam': 100000000000, 'asls_p': 0.096, 'scaling_type': 'svn', 'classifier': 'RandomForest'}. Best is trial 243 with value: 0.680643200225948.\n",
      "[I 2024-04-14 23:29:44,016] Trial 386 finished with value: 0.6632329327828532 and parameters: {'pagerank_cutoff': 0.9058214818043014, 'despike': True, 'baseline_correct': True, 'smoothing': False, 'scaling': True, 'despike_ma': 95, 'despike_threshold': 3.0, 'asls_lam': 100000000000, 'asls_p': 0.09, 'scaling_type': 'svn', 'classifier': 'RandomForest'}. Best is trial 243 with value: 0.680643200225948.\n",
      "[I 2024-04-14 23:29:48,884] Trial 379 finished with value: 0.6400733778956298 and parameters: {'pagerank_cutoff': 0.8927031500912327, 'despike': True, 'baseline_correct': True, 'smoothing': False, 'scaling': True, 'despike_ma': 67, 'despike_threshold': 3.0, 'asls_lam': 100000000000, 'asls_p': 0.013000000000000001, 'scaling_type': 'svn', 'classifier': 'RandomForest'}. Best is trial 243 with value: 0.680643200225948.\n",
      "[I 2024-04-14 23:29:56,930] Trial 375 finished with value: 0.6340031369656989 and parameters: {'pagerank_cutoff': 0.40408323007971303, 'despike': True, 'baseline_correct': True, 'smoothing': False, 'scaling': True, 'despike_ma': 95, 'despike_threshold': 3.0, 'asls_lam': 100000000000, 'asls_p': 0.098, 'scaling_type': 'svn', 'classifier': 'RandomForest'}. Best is trial 243 with value: 0.680643200225948.\n",
      "[I 2024-04-14 23:30:18,767] Trial 382 finished with value: 0.6376019314405786 and parameters: {'pagerank_cutoff': 0.4027637027221439, 'despike': True, 'baseline_correct': True, 'smoothing': False, 'scaling': True, 'despike_ma': 95, 'despike_threshold': 3.0, 'asls_lam': 100000000000, 'asls_p': 0.096, 'scaling_type': 'svn', 'classifier': 'RandomForest'}. Best is trial 243 with value: 0.680643200225948.\n",
      "[I 2024-04-14 23:30:28,230] Trial 383 finished with value: 0.6307693625750658 and parameters: {'pagerank_cutoff': 0.36596419337462477, 'despike': True, 'baseline_correct': True, 'smoothing': False, 'scaling': True, 'despike_ma': 95, 'despike_threshold': 3.0, 'asls_lam': 100000000000, 'asls_p': 0.096, 'scaling_type': 'svn', 'classifier': 'RandomForest'}. Best is trial 243 with value: 0.680643200225948.\n",
      "[I 2024-04-14 23:30:31,686] Trial 385 finished with value: 0.6368348065029392 and parameters: {'pagerank_cutoff': 0.9090437732177629, 'despike': True, 'baseline_correct': True, 'smoothing': True, 'scaling': True, 'despike_ma': 69, 'despike_threshold': 3.0, 'asls_lam': 100000000000, 'asls_p': 0.096, 'window_size': 224, 'smoothing_poly_order': 3, 'scaling_type': 'svn', 'classifier': 'RandomForest'}. Best is trial 243 with value: 0.680643200225948.\n",
      "[I 2024-04-14 23:33:14,992] Trial 395 finished with value: 0.5290575931954228 and parameters: {'pagerank_cutoff': 0.9292110815855306, 'despike': True, 'baseline_correct': True, 'smoothing': False, 'scaling': True, 'despike_ma': 88, 'despike_threshold': 3.25, 'asls_lam': 1000000, 'asls_p': 0.091, 'scaling_type': 'svn', 'classifier': 'RandomForest'}. Best is trial 243 with value: 0.680643200225948.\n",
      "[I 2024-04-14 23:33:20,524] Trial 390 finished with value: 0.6532360312211962 and parameters: {'pagerank_cutoff': 0.9278165786706624, 'despike': True, 'baseline_correct': True, 'smoothing': False, 'scaling': True, 'despike_ma': 95, 'despike_threshold': 3.25, 'asls_lam': 100000000000, 'asls_p': 0.096, 'scaling_type': 'svn', 'classifier': 'RandomForest'}. Best is trial 243 with value: 0.680643200225948.\n",
      "[I 2024-04-14 23:33:27,267] Trial 397 finished with value: 0.5338680445230967 and parameters: {'pagerank_cutoff': 0.9222119788067099, 'despike': True, 'baseline_correct': True, 'smoothing': False, 'scaling': True, 'despike_ma': 94, 'despike_threshold': 3.25, 'asls_lam': 1000000, 'asls_p': 0.092, 'scaling_type': 'svn', 'classifier': 'RandomForest'}. Best is trial 243 with value: 0.680643200225948.\n",
      "[I 2024-04-14 23:33:34,168] Trial 394 finished with value: 0.52511529811467 and parameters: {'pagerank_cutoff': 0.8899233795301571, 'despike': True, 'baseline_correct': True, 'smoothing': False, 'scaling': True, 'despike_ma': 94, 'despike_threshold': 3.25, 'asls_lam': 1000000, 'asls_p': 0.092, 'scaling_type': 'svn', 'classifier': 'RandomForest'}. Best is trial 243 with value: 0.680643200225948.\n",
      "[I 2024-04-14 23:33:39,980] Trial 398 finished with value: 0.6797205119432758 and parameters: {'pagerank_cutoff': 0.9265301560112675, 'despike': True, 'baseline_correct': True, 'smoothing': False, 'scaling': True, 'despike_ma': 94, 'despike_threshold': 3.25, 'asls_lam': 100000000000, 'asls_p': 0.091, 'scaling_type': 'svn', 'classifier': 'RandomForest'}. Best is trial 243 with value: 0.680643200225948.\n",
      "[I 2024-04-14 23:33:42,929] Trial 396 finished with value: 0.649139849553069 and parameters: {'pagerank_cutoff': 0.9239926226210134, 'despike': True, 'baseline_correct': True, 'smoothing': False, 'scaling': True, 'despike_ma': 94, 'despike_threshold': 3.25, 'asls_lam': 100000000000, 'asls_p': 0.084, 'scaling_type': 'svn', 'classifier': 'RandomForest'}. Best is trial 243 with value: 0.680643200225948.\n",
      "[I 2024-04-14 23:33:48,565] Trial 393 finished with value: 0.6484750924473902 and parameters: {'pagerank_cutoff': 0.9201740636101121, 'despike': True, 'baseline_correct': True, 'smoothing': False, 'scaling': True, 'despike_ma': 94, 'despike_threshold': 3.0, 'asls_lam': 100000000000, 'asls_p': 0.091, 'scaling_type': 'svn', 'classifier': 'RandomForest'}. Best is trial 243 with value: 0.680643200225948.\n",
      "[I 2024-04-14 23:33:54,374] Trial 388 finished with value: 0.6629164079383182 and parameters: {'pagerank_cutoff': 0.9032066734488919, 'despike': True, 'baseline_correct': True, 'smoothing': True, 'scaling': True, 'despike_ma': 95, 'despike_threshold': 3.25, 'asls_lam': 100000000000, 'asls_p': 0.096, 'window_size': 134, 'smoothing_poly_order': 3, 'scaling_type': 'svn', 'classifier': 'RandomForest'}. Best is trial 243 with value: 0.680643200225948.\n",
      "[I 2024-04-14 23:33:59,778] Trial 391 finished with value: 0.6431722837270193 and parameters: {'pagerank_cutoff': 0.9123659648597561, 'despike': True, 'baseline_correct': True, 'smoothing': True, 'scaling': True, 'despike_ma': 94, 'despike_threshold': 3.25, 'asls_lam': 100000000000, 'asls_p': 0.09, 'window_size': 131, 'smoothing_poly_order': 3, 'scaling_type': 'svn', 'classifier': 'RandomForest'}. Best is trial 243 with value: 0.680643200225948.\n",
      "[I 2024-04-14 23:34:04,239] Trial 392 finished with value: 0.6290565893820793 and parameters: {'pagerank_cutoff': 0.9249318564123612, 'despike': True, 'baseline_correct': True, 'smoothing': True, 'scaling': True, 'despike_ma': 94, 'despike_threshold': 3.25, 'asls_lam': 100000000000, 'asls_p': 0.09, 'window_size': 227, 'smoothing_poly_order': 3, 'scaling_type': 'svn', 'classifier': 'RandomForest'}. Best is trial 243 with value: 0.680643200225948.\n",
      "[I 2024-04-14 23:34:07,890] Trial 387 finished with value: 0.6148951844735998 and parameters: {'pagerank_cutoff': 0.8943167101349772, 'despike': True, 'baseline_correct': True, 'smoothing': True, 'scaling': True, 'despike_ma': 95, 'despike_threshold': 3.0, 'asls_lam': 100000000000, 'asls_p': 0.096, 'window_size': 192, 'smoothing_poly_order': 3, 'scaling_type': 'svn', 'classifier': 'RandomForest'}. Best is trial 243 with value: 0.680643200225948.\n",
      "[I 2024-04-14 23:34:28,745] Trial 389 finished with value: 0.6016410235361523 and parameters: {'pagerank_cutoff': 0.8944990090741298, 'despike': True, 'baseline_correct': True, 'smoothing': True, 'scaling': True, 'despike_ma': 95, 'despike_threshold': 3.0, 'asls_lam': 100000000000, 'asls_p': 0.096, 'window_size': 225, 'smoothing_poly_order': 3, 'scaling_type': 'svn', 'classifier': 'RandomForest'}. Best is trial 243 with value: 0.680643200225948.\n",
      "[I 2024-04-14 23:36:55,306] Trial 409 finished with value: 0.6115572640969505 and parameters: {'pagerank_cutoff': 0.9548223297785586, 'despike': True, 'baseline_correct': True, 'smoothing': False, 'scaling': False, 'despike_ma': 89, 'despike_threshold': 6.5, 'asls_lam': 100000000000, 'asls_p': 0.094, 'classifier': 'RandomForest'}. Best is trial 243 with value: 0.680643200225948.\n",
      "[I 2024-04-14 23:37:03,892] Trial 410 finished with value: 0.6065711145411187 and parameters: {'pagerank_cutoff': 0.9525888305164396, 'despike': True, 'baseline_correct': True, 'smoothing': False, 'scaling': False, 'despike_ma': 91, 'despike_threshold': 3.25, 'asls_lam': 100000000000, 'asls_p': 0.089, 'classifier': 'RandomForest'}. Best is trial 243 with value: 0.680643200225948.\n",
      "[I 2024-04-14 23:37:16,058] Trial 404 finished with value: 0.6409817501220376 and parameters: {'pagerank_cutoff': 0.965802286577752, 'despike': True, 'baseline_correct': True, 'smoothing': False, 'scaling': True, 'despike_ma': 91, 'despike_threshold': 3.25, 'asls_lam': 100000000000, 'asls_p': 0.09, 'scaling_type': 'svn', 'classifier': 'RandomForest'}. Best is trial 243 with value: 0.680643200225948.\n",
      "[I 2024-04-14 23:37:21,820] Trial 407 finished with value: 0.6494294505634701 and parameters: {'pagerank_cutoff': 0.9583821659150088, 'despike': True, 'baseline_correct': True, 'smoothing': False, 'scaling': True, 'despike_ma': 91, 'despike_threshold': 3.25, 'asls_lam': 100000000000, 'asls_p': 0.089, 'scaling_type': 'svn', 'classifier': 'RandomForest'}. Best is trial 243 with value: 0.680643200225948.\n",
      "[I 2024-04-14 23:37:28,004] Trial 399 finished with value: 0.6592193400543953 and parameters: {'pagerank_cutoff': 0.9203977495130101, 'despike': True, 'baseline_correct': True, 'smoothing': False, 'scaling': True, 'despike_ma': 94, 'despike_threshold': 3.25, 'asls_lam': 100000000000, 'asls_p': 0.09, 'scaling_type': 'svn', 'classifier': 'RandomForest'}. Best is trial 243 with value: 0.680643200225948.\n",
      "[I 2024-04-14 23:37:34,158] Trial 400 finished with value: 0.6743619615555941 and parameters: {'pagerank_cutoff': 0.8995001354715485, 'despike': True, 'baseline_correct': True, 'smoothing': False, 'scaling': True, 'despike_ma': 93, 'despike_threshold': 3.25, 'asls_lam': 100000000000, 'asls_p': 0.089, 'scaling_type': 'svn', 'classifier': 'RandomForest'}. Best is trial 243 with value: 0.680643200225948.\n",
      "[I 2024-04-14 23:37:40,124] Trial 403 finished with value: 0.654400056803454 and parameters: {'pagerank_cutoff': 0.9010250109912948, 'despike': True, 'baseline_correct': True, 'smoothing': False, 'scaling': True, 'despike_ma': 92, 'despike_threshold': 3.25, 'asls_lam': 100000000000, 'asls_p': 0.08800000000000001, 'scaling_type': 'svn', 'classifier': 'RandomForest'}. Best is trial 243 with value: 0.680643200225948.\n",
      "[I 2024-04-14 23:37:45,223] Trial 401 finished with value: 0.6636089941711207 and parameters: {'pagerank_cutoff': 0.8794582319125147, 'despike': True, 'baseline_correct': True, 'smoothing': False, 'scaling': True, 'despike_ma': 91, 'despike_threshold': 3.25, 'asls_lam': 100000000000, 'asls_p': 0.084, 'scaling_type': 'svn', 'classifier': 'RandomForest'}. Best is trial 243 with value: 0.680643200225948.\n",
      "[I 2024-04-14 23:37:50,953] Trial 405 finished with value: 0.6206226297354194 and parameters: {'pagerank_cutoff': 0.8951057011853899, 'despike': True, 'baseline_correct': True, 'smoothing': False, 'scaling': True, 'despike_ma': 91, 'despike_threshold': 3.25, 'asls_lam': 100000000000, 'asls_p': 0.089, 'scaling_type': 'svn', 'classifier': 'RandomForest'}. Best is trial 243 with value: 0.680643200225948.\n",
      "[I 2024-04-14 23:37:55,841] Trial 402 finished with value: 0.6412555148615476 and parameters: {'pagerank_cutoff': 0.9008064239622809, 'despike': True, 'baseline_correct': True, 'smoothing': False, 'scaling': True, 'despike_ma': 91, 'despike_threshold': 3.25, 'asls_lam': 100000000000, 'asls_p': 0.09, 'scaling_type': 'svn', 'classifier': 'RandomForest'}. Best is trial 243 with value: 0.680643200225948.\n",
      "[I 2024-04-14 23:38:00,352] Trial 408 finished with value: 0.6556072342555248 and parameters: {'pagerank_cutoff': 0.8958415550282544, 'despike': True, 'baseline_correct': True, 'smoothing': False, 'scaling': True, 'despike_ma': 91, 'despike_threshold': 3.25, 'asls_lam': 100000000000, 'asls_p': 0.094, 'scaling_type': 'svn', 'classifier': 'RandomForest'}. Best is trial 243 with value: 0.680643200225948.\n",
      "[I 2024-04-14 23:39:21,304] Trial 406 finished with value: 0.6158686692879303 and parameters: {'pagerank_cutoff': 0.962402588666596, 'despike': True, 'baseline_correct': True, 'smoothing': True, 'scaling': True, 'despike_ma': 91, 'despike_threshold': 3.25, 'asls_lam': 100000000000, 'asls_p': 0.089, 'window_size': 134, 'smoothing_poly_order': 5, 'scaling_type': 'svn', 'classifier': 'RandomForest'}. Best is trial 243 with value: 0.680643200225948.\n",
      "[I 2024-04-14 23:41:03,398] Trial 414 finished with value: 0.5929643088510995 and parameters: {'pagerank_cutoff': 0.8680471836613981, 'despike': True, 'baseline_correct': True, 'smoothing': False, 'scaling': True, 'despike_ma': 88, 'despike_threshold': 5.5, 'asls_lam': 1000000000, 'asls_p': 0.094, 'scaling_type': 'svn', 'classifier': 'RandomForest'}. Best is trial 243 with value: 0.680643200225948.\n",
      "[I 2024-04-14 23:41:09,227] Trial 411 finished with value: 0.6253104932436074 and parameters: {'pagerank_cutoff': 0.8743792092274145, 'despike': True, 'baseline_correct': True, 'smoothing': False, 'scaling': True, 'despike_ma': 91, 'despike_threshold': 3.25, 'asls_lam': 100000000000, 'asls_p': 0.089, 'scaling_type': 'svn', 'classifier': 'RandomForest'}. Best is trial 243 with value: 0.680643200225948.\n",
      "[I 2024-04-14 23:41:15,168] Trial 415 finished with value: 0.6065658687291032 and parameters: {'pagerank_cutoff': 0.8827611351352094, 'despike': True, 'baseline_correct': True, 'smoothing': False, 'scaling': True, 'despike_ma': 88, 'despike_threshold': 5.5, 'asls_lam': 1000000000, 'asls_p': 0.094, 'scaling_type': 'svn', 'classifier': 'RandomForest'}. Best is trial 243 with value: 0.680643200225948.\n",
      "[I 2024-04-14 23:41:21,095] Trial 412 finished with value: 0.6582747886459079 and parameters: {'pagerank_cutoff': 0.8824575244966709, 'despike': True, 'baseline_correct': True, 'smoothing': False, 'scaling': True, 'despike_ma': 91, 'despike_threshold': 3.25, 'asls_lam': 100000000000, 'asls_p': 0.093, 'scaling_type': 'svn', 'classifier': 'RandomForest'}. Best is trial 243 with value: 0.680643200225948.\n",
      "[I 2024-04-14 23:41:27,287] Trial 413 finished with value: 0.6427073272945474 and parameters: {'pagerank_cutoff': 0.8849643990673542, 'despike': True, 'baseline_correct': True, 'smoothing': False, 'scaling': True, 'despike_ma': 49, 'despike_threshold': 3.25, 'asls_lam': 100000000000, 'asls_p': 0.093, 'scaling_type': 'svn', 'classifier': 'RandomForest'}. Best is trial 243 with value: 0.680643200225948.\n",
      "[I 2024-04-14 23:41:29,957] Trial 418 finished with value: 0.6231748324813945 and parameters: {'pagerank_cutoff': 0.876720426304948, 'despike': True, 'baseline_correct': True, 'smoothing': False, 'scaling': True, 'despike_ma': 87, 'despike_threshold': 3.5, 'asls_lam': 100000000000, 'asls_p': 0.085, 'scaling_type': 'svn', 'classifier': 'RandomForest'}. Best is trial 243 with value: 0.680643200225948.\n",
      "[I 2024-04-14 23:41:36,303] Trial 416 finished with value: 0.6463624478135586 and parameters: {'pagerank_cutoff': 0.8657391895557492, 'despike': True, 'baseline_correct': True, 'smoothing': False, 'scaling': True, 'despike_ma': 88, 'despike_threshold': 3.5, 'asls_lam': 100000000000, 'asls_p': 0.093, 'scaling_type': 'svn', 'classifier': 'RandomForest'}. Best is trial 243 with value: 0.680643200225948.\n",
      "[I 2024-04-14 23:41:42,807] Trial 417 finished with value: 0.6569381461323399 and parameters: {'pagerank_cutoff': 0.8614166753730181, 'despike': True, 'baseline_correct': True, 'smoothing': False, 'scaling': True, 'despike_ma': 86, 'despike_threshold': 3.5, 'asls_lam': 100000000000, 'asls_p': 0.093, 'scaling_type': 'svn', 'classifier': 'RandomForest'}. Best is trial 243 with value: 0.680643200225948.\n",
      "[I 2024-04-14 23:41:48,468] Trial 421 finished with value: 0.6042909482996809 and parameters: {'pagerank_cutoff': 0.8618110425201405, 'despike': True, 'baseline_correct': True, 'smoothing': False, 'scaling': True, 'despike_ma': 86, 'despike_threshold': 3.5, 'asls_lam': 1000000000, 'asls_p': 0.085, 'scaling_type': 'svn', 'classifier': 'RandomForest'}. Best is trial 243 with value: 0.680643200225948.\n",
      "[I 2024-04-14 23:41:54,798] Trial 420 finished with value: 0.5917223394192448 and parameters: {'pagerank_cutoff': 0.8680099179706512, 'despike': True, 'baseline_correct': True, 'smoothing': False, 'scaling': True, 'despike_ma': 71, 'despike_threshold': 3.5, 'asls_lam': 1000000000, 'asls_p': 0.08600000000000001, 'scaling_type': 'svn', 'classifier': 'RandomForest'}. Best is trial 243 with value: 0.680643200225948.\n",
      "[I 2024-04-14 23:42:00,089] Trial 419 finished with value: 0.6290876053250594 and parameters: {'pagerank_cutoff': 0.8601800428719069, 'despike': True, 'baseline_correct': True, 'smoothing': False, 'scaling': True, 'despike_ma': 86, 'despike_threshold': 3.5, 'asls_lam': 100000000000, 'asls_p': 0.085, 'scaling_type': 'svn', 'classifier': 'RandomForest'}. Best is trial 243 with value: 0.680643200225948.\n",
      "[I 2024-04-14 23:42:02,889] Trial 422 finished with value: 0.5986956606523393 and parameters: {'pagerank_cutoff': 0.8620228361343261, 'despike': True, 'baseline_correct': True, 'smoothing': False, 'scaling': True, 'despike_ma': 87, 'despike_threshold': 3.5, 'asls_lam': 1000000000, 'asls_p': 0.093, 'scaling_type': 'svn', 'classifier': 'RandomForest'}. Best is trial 243 with value: 0.680643200225948.\n",
      "[I 2024-04-14 23:45:26,816] Trial 424 finished with value: 0.6207438543951949 and parameters: {'pagerank_cutoff': 0.8554859514358765, 'despike': True, 'baseline_correct': True, 'smoothing': False, 'scaling': True, 'despike_ma': 51, 'despike_threshold': 3.5, 'asls_lam': 100000000000, 'asls_p': 0.08600000000000001, 'scaling_type': 'svn', 'classifier': 'RandomForest'}. Best is trial 243 with value: 0.680643200225948.\n",
      "[I 2024-04-14 23:45:34,088] Trial 423 finished with value: 0.6287753930914766 and parameters: {'pagerank_cutoff': 0.8596679300190119, 'despike': True, 'baseline_correct': True, 'smoothing': False, 'scaling': True, 'despike_ma': 88, 'despike_threshold': 3.5, 'asls_lam': 100000000000, 'asls_p': 0.082, 'scaling_type': 'svn', 'classifier': 'RandomForest'}. Best is trial 243 with value: 0.680643200225948.\n",
      "[I 2024-04-14 23:45:40,415] Trial 432 finished with value: 0.5389506237203276 and parameters: {'pagerank_cutoff': 0.8444070887481815, 'despike': True, 'baseline_correct': True, 'smoothing': False, 'scaling': True, 'despike_ma': 93, 'despike_threshold': 3.5, 'asls_lam': 10000000, 'asls_p': 0.08700000000000001, 'scaling_type': 'svn', 'classifier': 'RandomForest'}. Best is trial 243 with value: 0.680643200225948.\n",
      "[I 2024-04-14 23:45:46,342] Trial 426 finished with value: 0.6430206106475344 and parameters: {'pagerank_cutoff': 0.8532787725379066, 'despike': True, 'baseline_correct': True, 'smoothing': False, 'scaling': True, 'despike_ma': 86, 'despike_threshold': 3.5, 'asls_lam': 100000000000, 'asls_p': 0.083, 'scaling_type': 'svn', 'classifier': 'RandomForest'}. Best is trial 243 with value: 0.680643200225948.\n",
      "[I 2024-04-14 23:45:52,533] Trial 427 finished with value: 0.6570983353724016 and parameters: {'pagerank_cutoff': 0.8459636185313923, 'despike': True, 'baseline_correct': True, 'smoothing': False, 'scaling': True, 'despike_ma': 89, 'despike_threshold': 3.5, 'asls_lam': 100000000000, 'asls_p': 0.085, 'scaling_type': 'svn', 'classifier': 'RandomForest'}. Best is trial 243 with value: 0.680643200225948.\n",
      "[I 2024-04-14 23:45:55,081] Trial 425 finished with value: 0.6321714588150023 and parameters: {'pagerank_cutoff': 0.860680169378558, 'despike': True, 'baseline_correct': True, 'smoothing': False, 'scaling': True, 'despike_ma': 89, 'despike_threshold': 3.5, 'asls_lam': 100000000000, 'asls_p': 0.085, 'scaling_type': 'svn', 'classifier': 'RandomForest'}. Best is trial 243 with value: 0.680643200225948.\n",
      "[I 2024-04-14 23:46:01,172] Trial 428 finished with value: 0.6410460858236636 and parameters: {'pagerank_cutoff': 0.8526789977854401, 'despike': True, 'baseline_correct': True, 'smoothing': False, 'scaling': True, 'despike_ma': 85, 'despike_threshold': 3.5, 'asls_lam': 100000000000, 'asls_p': 0.064, 'scaling_type': 'svn', 'classifier': 'RandomForest'}. Best is trial 243 with value: 0.680643200225948.\n",
      "[I 2024-04-14 23:46:08,195] Trial 430 finished with value: 0.5415743967017496 and parameters: {'pagerank_cutoff': 0.8457485162607771, 'despike': True, 'baseline_correct': True, 'smoothing': False, 'scaling': True, 'despike_ma': 72, 'despike_threshold': 3.5, 'asls_lam': 10000000, 'asls_p': 0.083, 'scaling_type': 'svn', 'classifier': 'RandomForest'}. Best is trial 243 with value: 0.680643200225948.\n",
      "[I 2024-04-14 23:46:15,695] Trial 434 finished with value: 0.5788906686743267 and parameters: {'pagerank_cutoff': 0.8489332747994102, 'despike': True, 'baseline_correct': True, 'smoothing': False, 'scaling': True, 'despike_ma': 93, 'despike_threshold': 3.0, 'asls_lam': 10000000, 'asls_p': 0.08700000000000001, 'scaling_type': 'svn', 'classifier': 'RandomForest'}. Best is trial 243 with value: 0.680643200225948.\n",
      "[I 2024-04-14 23:46:21,578] Trial 431 finished with value: 0.5477749162537007 and parameters: {'pagerank_cutoff': 0.8406438355070504, 'despike': True, 'baseline_correct': True, 'smoothing': False, 'scaling': True, 'despike_ma': 93, 'despike_threshold': 3.5, 'asls_lam': 10000000, 'asls_p': 0.07, 'scaling_type': 'svn', 'classifier': 'RandomForest'}. Best is trial 243 with value: 0.680643200225948.\n",
      "[I 2024-04-14 23:46:27,773] Trial 429 finished with value: 0.5395348079199764 and parameters: {'pagerank_cutoff': 0.8506232189161724, 'despike': True, 'baseline_correct': True, 'smoothing': False, 'scaling': True, 'despike_ma': 85, 'despike_threshold': 3.5, 'asls_lam': 10000000, 'asls_p': 0.024, 'scaling_type': 'svn', 'classifier': 'RandomForest'}. Best is trial 243 with value: 0.680643200225948.\n",
      "[I 2024-04-14 23:46:29,685] Trial 433 finished with value: 0.6511599213768392 and parameters: {'pagerank_cutoff': 0.8380367795163426, 'despike': True, 'baseline_correct': True, 'smoothing': False, 'scaling': True, 'despike_ma': 77, 'despike_threshold': 3.5, 'asls_lam': 100000000000, 'asls_p': 0.025, 'scaling_type': 'svn', 'classifier': 'RandomForest'}. Best is trial 243 with value: 0.680643200225948.\n",
      "[I 2024-04-14 23:48:01,277] Trial 443 finished with value: 0.5109986353871129 and parameters: {'pagerank_cutoff': 1.2861050954456894, 'despike': True, 'baseline_correct': True, 'smoothing': False, 'scaling': True, 'despike_ma': 77, 'despike_threshold': 7.25, 'asls_lam': 100000000000, 'asls_p': 0.076, 'scaling_type': 'normal', 'classifier': 'RandomForest'}. Best is trial 243 with value: 0.680643200225948.\n",
      "[I 2024-04-14 23:48:02,885] Trial 444 finished with value: 0.4854298885699776 and parameters: {'pagerank_cutoff': 1.3061026593327525, 'despike': True, 'baseline_correct': True, 'smoothing': False, 'scaling': True, 'despike_ma': 78, 'despike_threshold': 3.25, 'asls_lam': 100000000000, 'asls_p': 0.095, 'scaling_type': 'normal', 'classifier': 'RandomForest'}. Best is trial 243 with value: 0.680643200225948.\n",
      "[I 2024-04-14 23:49:43,056] Trial 435 finished with value: 0.6605751720251989 and parameters: {'pagerank_cutoff': 0.8434022542801807, 'despike': True, 'baseline_correct': True, 'smoothing': False, 'scaling': True, 'despike_ma': 77, 'despike_threshold': 3.5, 'asls_lam': 100000000000, 'asls_p': 0.092, 'scaling_type': 'svn', 'classifier': 'RandomForest'}. Best is trial 243 with value: 0.680643200225948.\n",
      "[I 2024-04-14 23:49:50,295] Trial 446 finished with value: 0.6495869365061562 and parameters: {'pagerank_cutoff': 0.9385692982884893, 'despike': True, 'baseline_correct': True, 'smoothing': False, 'scaling': True, 'despike_ma': 92, 'despike_threshold': 3.0, 'asls_lam': 100000000000, 'asls_p': 0.095, 'scaling_type': 'svn', 'classifier': 'RandomForest'}. Best is trial 243 with value: 0.680643200225948.\n",
      "[I 2024-04-14 23:49:58,078] Trial 437 finished with value: 0.623845797709677 and parameters: {'pagerank_cutoff': 0.8316506131454676, 'despike': True, 'baseline_correct': True, 'smoothing': False, 'scaling': True, 'despike_ma': 92, 'despike_threshold': 9.0, 'asls_lam': 100000000000, 'asls_p': 0.095, 'scaling_type': 'svn', 'classifier': 'RandomForest'}. Best is trial 243 with value: 0.680643200225948.\n",
      "[I 2024-04-14 23:50:03,382] Trial 436 finished with value: 0.6463489152173363 and parameters: {'pagerank_cutoff': 0.8308614848125611, 'despike': True, 'baseline_correct': True, 'smoothing': False, 'scaling': True, 'despike_ma': 93, 'despike_threshold': 3.5, 'asls_lam': 100000000000, 'asls_p': 0.063, 'scaling_type': 'svn', 'classifier': 'RandomForest'}. Best is trial 243 with value: 0.680643200225948.\n",
      "[I 2024-04-14 23:50:09,735] Trial 441 finished with value: 0.6464697516079918 and parameters: {'pagerank_cutoff': 0.8226410755578499, 'despike': True, 'baseline_correct': True, 'smoothing': False, 'scaling': True, 'despike_ma': 93, 'despike_threshold': 3.0, 'asls_lam': 100000000000, 'asls_p': 0.095, 'scaling_type': 'normal', 'classifier': 'RandomForest'}. Best is trial 243 with value: 0.680643200225948.\n",
      "[I 2024-04-14 23:50:14,988] Trial 439 finished with value: 0.6540762530234836 and parameters: {'pagerank_cutoff': 0.8268286521575245, 'despike': True, 'baseline_correct': True, 'smoothing': False, 'scaling': True, 'despike_ma': 93, 'despike_threshold': 3.0, 'asls_lam': 100000000000, 'asls_p': 0.095, 'scaling_type': 'svn', 'classifier': 'RandomForest'}. Best is trial 243 with value: 0.680643200225948.\n",
      "[I 2024-04-14 23:50:20,175] Trial 440 finished with value: 0.6561329342672234 and parameters: {'pagerank_cutoff': 0.8050598927048059, 'despike': True, 'baseline_correct': True, 'smoothing': False, 'scaling': True, 'despike_ma': 77, 'despike_threshold': 3.0, 'asls_lam': 100000000000, 'asls_p': 0.095, 'scaling_type': 'svn', 'classifier': 'RandomForest'}. Best is trial 243 with value: 0.680643200225948.\n",
      "[I 2024-04-14 23:50:29,113] Trial 442 finished with value: 0.6535644706866435 and parameters: {'pagerank_cutoff': 0.8195299890768333, 'despike': True, 'baseline_correct': True, 'smoothing': False, 'scaling': True, 'despike_ma': 77, 'despike_threshold': 3.0, 'asls_lam': 100000000000, 'asls_p': 0.095, 'scaling_type': 'svn', 'classifier': 'RandomForest'}. Best is trial 243 with value: 0.680643200225948.\n",
      "[I 2024-04-14 23:50:33,248] Trial 438 finished with value: 0.6222933370631083 and parameters: {'pagerank_cutoff': 0.8271732383139151, 'despike': True, 'baseline_correct': True, 'smoothing': False, 'scaling': True, 'despike_ma': 77, 'despike_threshold': 3.0, 'asls_lam': 100000000000, 'asls_p': 0.075, 'scaling_type': 'svn', 'classifier': 'RandomForest'}. Best is trial 243 with value: 0.680643200225948.\n",
      "[I 2024-04-14 23:50:37,150] Trial 445 finished with value: 0.6539291947368728 and parameters: {'pagerank_cutoff': 0.8054778779710788, 'despike': True, 'baseline_correct': True, 'smoothing': False, 'scaling': True, 'despike_ma': 78, 'despike_threshold': 3.0, 'asls_lam': 100000000000, 'asls_p': 0.095, 'scaling_type': 'svn', 'classifier': 'RandomForest'}. Best is trial 243 with value: 0.680643200225948.\n",
      "[I 2024-04-14 23:52:23,726] Trial 448 finished with value: 0.6588889448927773 and parameters: {'pagerank_cutoff': 0.8004820762990947, 'despike': True, 'baseline_correct': True, 'smoothing': False, 'scaling': True, 'despike_ma': 98, 'despike_threshold': 3.0, 'asls_lam': 100000000000, 'asls_p': 0.092, 'scaling_type': 'svn', 'classifier': 'RandomForest'}. Best is trial 243 with value: 0.680643200225948.\n",
      "[I 2024-04-14 23:52:35,312] Trial 447 finished with value: 0.6269790120231564 and parameters: {'pagerank_cutoff': 0.8086092566188221, 'despike': True, 'baseline_correct': True, 'smoothing': False, 'scaling': True, 'despike_ma': 92, 'despike_threshold': 3.0, 'asls_lam': 100000000000, 'asls_p': 0.019000000000000003, 'scaling_type': 'svn', 'classifier': 'RandomForest'}. Best is trial 243 with value: 0.680643200225948.\n",
      "[I 2024-04-14 23:52:51,212] Trial 454 finished with value: 0.4677136199822424 and parameters: {'pagerank_cutoff': 0.9875430622246439, 'despike': True, 'baseline_correct': True, 'smoothing': False, 'scaling': False, 'despike_ma': 96, 'despike_threshold': 3.25, 'asls_lam': 100000, 'asls_p': 0.098, 'classifier': 'RandomForest'}. Best is trial 243 with value: 0.680643200225948.\n",
      "[I 2024-04-14 23:53:18,292] Trial 450 finished with value: 0.5076351782435597 and parameters: {'pagerank_cutoff': 0.8097912867347375, 'despike': True, 'baseline_correct': True, 'smoothing': False, 'scaling': False, 'despike_ma': 98, 'despike_threshold': 3.0, 'asls_lam': 100000, 'asls_p': 0.098, 'classifier': 'RandomForest'}. Best is trial 243 with value: 0.680643200225948.\n",
      "[I 2024-04-14 23:53:34,212] Trial 456 finished with value: 0.5198959229194775 and parameters: {'pagerank_cutoff': 0.7825816436796553, 'despike': True, 'baseline_correct': True, 'smoothing': False, 'scaling': False, 'despike_ma': 97, 'despike_threshold': 3.25, 'asls_lam': 100000, 'asls_p': 0.098, 'classifier': 'RandomForest'}. Best is trial 243 with value: 0.680643200225948.\n",
      "[I 2024-04-14 23:53:40,944] Trial 455 finished with value: 0.5234059264371351 and parameters: {'pagerank_cutoff': 0.7763192357842833, 'despike': True, 'baseline_correct': True, 'smoothing': False, 'scaling': False, 'despike_ma': 96, 'despike_threshold': 3.25, 'asls_lam': 100000, 'asls_p': 0.098, 'classifier': 'RandomForest'}. Best is trial 243 with value: 0.680643200225948.\n",
      "[I 2024-04-14 23:53:47,815] Trial 452 finished with value: 0.596333834739235 and parameters: {'pagerank_cutoff': 0.8092596778993848, 'despike': True, 'baseline_correct': True, 'smoothing': False, 'scaling': False, 'despike_ma': 98, 'despike_threshold': 3.0, 'asls_lam': 100000000000, 'asls_p': 0.098, 'classifier': 'RandomForest'}. Best is trial 243 with value: 0.680643200225948.\n",
      "[I 2024-04-14 23:53:52,941] Trial 451 finished with value: 0.592377646286845 and parameters: {'pagerank_cutoff': 0.7907344508838184, 'despike': True, 'baseline_correct': True, 'smoothing': False, 'scaling': False, 'despike_ma': 98, 'despike_threshold': 3.0, 'asls_lam': 100000000000, 'asls_p': 0.098, 'classifier': 'RandomForest'}. Best is trial 243 with value: 0.680643200225948.\n",
      "[I 2024-04-14 23:53:58,424] Trial 449 finished with value: 0.4687631219438929 and parameters: {'pagerank_cutoff': 0.8075488846758359, 'despike': True, 'baseline_correct': True, 'smoothing': False, 'scaling': True, 'despike_ma': 98, 'despike_threshold': 3.0, 'asls_lam': 100000, 'asls_p': 0.095, 'scaling_type': 'svn', 'classifier': 'RandomForest'}. Best is trial 243 with value: 0.680643200225948.\n",
      "[I 2024-04-14 23:54:39,932] Trial 453 finished with value: 0.5876120533324507 and parameters: {'pagerank_cutoff': 0.8057056267042623, 'despike': True, 'baseline_correct': True, 'smoothing': False, 'scaling': False, 'despike_ma': 97, 'despike_threshold': 3.25, 'asls_lam': 100000000000, 'asls_p': 0.019000000000000003, 'classifier': 'RandomForest'}. Best is trial 243 with value: 0.680643200225948.\n",
      "[I 2024-04-14 23:55:01,843] Trial 457 finished with value: 0.49151248765193484 and parameters: {'pagerank_cutoff': 0.7784654224439925, 'despike': True, 'baseline_correct': True, 'smoothing': False, 'scaling': True, 'despike_ma': 98, 'despike_threshold': 3.75, 'asls_lam': 100000, 'asls_p': 0.02, 'scaling_type': 'svn', 'classifier': 'RandomForest'}. Best is trial 243 with value: 0.680643200225948.\n",
      "[I 2024-04-14 23:55:26,620] Trial 458 finished with value: 0.5375793029774177 and parameters: {'pagerank_cutoff': 0.7810511817659286, 'despike': True, 'baseline_correct': True, 'smoothing': True, 'scaling': True, 'despike_ma': 97, 'despike_threshold': 3.75, 'asls_lam': 100000, 'asls_p': 0.098, 'window_size': 107, 'smoothing_poly_order': 5, 'scaling_type': 'svn', 'classifier': 'RandomForest'}. Best is trial 243 with value: 0.680643200225948.\n",
      "[I 2024-04-14 23:56:28,487] Trial 467 finished with value: 0.36424675031830467 and parameters: {'pagerank_cutoff': 0.9189523597504339, 'despike': True, 'baseline_correct': True, 'smoothing': False, 'scaling': True, 'despike_ma': 8, 'despike_threshold': 3.75, 'asls_lam': 10000, 'asls_p': 0.1, 'scaling_type': 'svn', 'classifier': 'RandomForest'}. Best is trial 243 with value: 0.680643200225948.\n",
      "[I 2024-04-14 23:56:34,024] Trial 459 finished with value: 0.5038967133803434 and parameters: {'pagerank_cutoff': 0.9212058934938148, 'despike': True, 'baseline_correct': True, 'smoothing': True, 'scaling': True, 'despike_ma': 98, 'despike_threshold': 3.75, 'asls_lam': 100000, 'asls_p': 0.098, 'window_size': 117, 'smoothing_poly_order': 5, 'scaling_type': 'svn', 'classifier': 'RandomForest'}. Best is trial 243 with value: 0.680643200225948.\n",
      "[I 2024-04-14 23:56:55,627] Trial 466 finished with value: 0.6285227436508155 and parameters: {'pagerank_cutoff': 0.9361216437632898, 'despike': True, 'baseline_correct': True, 'smoothing': True, 'scaling': True, 'despike_ma': 89, 'despike_threshold': 3.75, 'asls_lam': 10000000000, 'asls_p': 0.027000000000000003, 'window_size': 80, 'smoothing_poly_order': 5, 'scaling_type': 'svn', 'classifier': 'RandomForest'}. Best is trial 243 with value: 0.680643200225948.\n",
      "[I 2024-04-14 23:57:02,957] Trial 460 finished with value: 0.48345007204230506 and parameters: {'pagerank_cutoff': 0.7851744772133907, 'despike': True, 'baseline_correct': True, 'smoothing': True, 'scaling': True, 'despike_ma': 96, 'despike_threshold': 3.75, 'asls_lam': 10000, 'asls_p': 0.098, 'window_size': 120, 'smoothing_poly_order': 5, 'scaling_type': 'svn', 'classifier': 'RandomForest'}. Best is trial 243 with value: 0.680643200225948.\n",
      "[I 2024-04-14 23:57:07,737] Trial 464 finished with value: 0.6378933356673578 and parameters: {'pagerank_cutoff': 0.9352518261890411, 'despike': True, 'baseline_correct': True, 'smoothing': True, 'scaling': True, 'despike_ma': 90, 'despike_threshold': 3.75, 'asls_lam': 10000000000, 'asls_p': 0.099, 'window_size': 106, 'smoothing_poly_order': 5, 'scaling_type': 'svn', 'classifier': 'RandomForest'}. Best is trial 243 with value: 0.680643200225948.\n",
      "[I 2024-04-14 23:57:14,839] Trial 465 finished with value: 0.4697307416483933 and parameters: {'pagerank_cutoff': 0.9212428470792202, 'despike': True, 'baseline_correct': True, 'smoothing': True, 'scaling': True, 'despike_ma': 90, 'despike_threshold': 3.75, 'asls_lam': 10000, 'asls_p': 0.027000000000000003, 'window_size': 86, 'smoothing_poly_order': 5, 'scaling_type': 'svn', 'classifier': 'RandomForest'}. Best is trial 243 with value: 0.680643200225948.\n",
      "[I 2024-04-14 23:57:21,415] Trial 461 finished with value: 0.49262443661744515 and parameters: {'pagerank_cutoff': 0.7795590168707416, 'despike': True, 'baseline_correct': True, 'smoothing': True, 'scaling': True, 'despike_ma': 98, 'despike_threshold': 3.75, 'asls_lam': 10000, 'asls_p': 0.098, 'window_size': 117, 'smoothing_poly_order': 5, 'scaling_type': 'svn', 'classifier': 'RandomForest'}. Best is trial 243 with value: 0.680643200225948.\n",
      "[I 2024-04-14 23:57:47,712] Trial 468 finished with value: 0.6442760198926167 and parameters: {'pagerank_cutoff': 0.9295400388377618, 'despike': True, 'baseline_correct': True, 'smoothing': True, 'scaling': True, 'despike_ma': 90, 'despike_threshold': 3.75, 'asls_lam': 100000000000, 'asls_p': 0.1, 'window_size': 106, 'smoothing_poly_order': 5, 'scaling_type': 'svn', 'classifier': 'RandomForest'}. Best is trial 243 with value: 0.680643200225948.\n",
      "[I 2024-04-14 23:57:54,172] Trial 463 finished with value: 0.5100495628195812 and parameters: {'pagerank_cutoff': 0.7714638694580743, 'despike': True, 'baseline_correct': True, 'smoothing': True, 'scaling': True, 'despike_ma': 89, 'despike_threshold': 3.75, 'asls_lam': 10000, 'asls_p': 0.1, 'window_size': 101, 'smoothing_poly_order': 5, 'scaling_type': 'svn', 'classifier': 'RandomForest'}. Best is trial 243 with value: 0.680643200225948.\n",
      "[I 2024-04-14 23:57:59,987] Trial 462 finished with value: 0.6504714492459808 and parameters: {'pagerank_cutoff': 0.767614266300922, 'despike': True, 'baseline_correct': True, 'smoothing': True, 'scaling': True, 'despike_ma': 96, 'despike_threshold': 3.75, 'asls_lam': 10000000000, 'asls_p': 0.1, 'window_size': 115, 'smoothing_poly_order': 5, 'scaling_type': 'svn', 'classifier': 'RandomForest'}. Best is trial 243 with value: 0.680643200225948.\n",
      "[I 2024-04-14 23:58:23,948] Trial 469 finished with value: 0.6498516451184841 and parameters: {'pagerank_cutoff': 0.9234784331515488, 'despike': True, 'baseline_correct': True, 'smoothing': True, 'scaling': True, 'despike_ma': 89, 'despike_threshold': 3.75, 'asls_lam': 100000000000, 'asls_p': 0.027000000000000003, 'window_size': 121, 'smoothing_poly_order': 5, 'scaling_type': 'svn', 'classifier': 'RandomForest'}. Best is trial 243 with value: 0.680643200225948.\n",
      "[I 2024-04-14 23:58:28,717] Trial 470 finished with value: 0.4617825748023434 and parameters: {'pagerank_cutoff': 0.9319764579250827, 'despike': True, 'baseline_correct': True, 'smoothing': True, 'scaling': True, 'despike_ma': 89, 'despike_threshold': 3.75, 'asls_lam': 10000, 'asls_p': 0.1, 'window_size': 118, 'smoothing_poly_order': 5, 'scaling_type': 'svn', 'classifier': 'RandomForest'}. Best is trial 243 with value: 0.680643200225948.\n",
      "[I 2024-04-14 23:59:42,004] Trial 474 finished with value: 0.6343584176807437 and parameters: {'pagerank_cutoff': 1.0032495691024268, 'despike': True, 'baseline_correct': True, 'smoothing': False, 'scaling': True, 'despike_ma': 90, 'despike_threshold': 3.25, 'asls_lam': 100000000000, 'asls_p': 0.091, 'scaling_type': 'svn', 'classifier': 'RandomForest'}. Best is trial 243 with value: 0.680643200225948.\n",
      "[I 2024-04-14 23:59:49,293] Trial 472 finished with value: 0.6354210097469981 and parameters: {'pagerank_cutoff': 0.9376403771953091, 'despike': True, 'baseline_correct': True, 'smoothing': False, 'scaling': True, 'despike_ma': 89, 'despike_threshold': 3.25, 'asls_lam': 10000000000, 'asls_p': 0.091, 'scaling_type': 'svn', 'classifier': 'SVC'}. Best is trial 243 with value: 0.680643200225948.\n",
      "[I 2024-04-14 23:59:59,374] Trial 471 finished with value: 0.6438307041147964 and parameters: {'pagerank_cutoff': 0.9010820319963269, 'despike': True, 'baseline_correct': True, 'smoothing': False, 'scaling': True, 'despike_ma': 89, 'despike_threshold': 3.25, 'asls_lam': 10000000000, 'asls_p': 0.091, 'scaling_type': 'svn', 'classifier': 'RandomForest'}. Best is trial 243 with value: 0.680643200225948.\n",
      "[I 2024-04-15 00:00:10,150] Trial 475 finished with value: 0.5967201164208861 and parameters: {'pagerank_cutoff': 0.8933582373236528, 'despike': True, 'baseline_correct': True, 'smoothing': False, 'scaling': True, 'despike_ma': 90, 'despike_threshold': 7.25, 'asls_lam': 100000000000, 'asls_p': 0.092, 'scaling_type': 'svn', 'classifier': 'SVC'}. Best is trial 243 with value: 0.680643200225948.\n",
      "[I 2024-04-15 00:00:13,559] Trial 473 finished with value: 0.5826493693102137 and parameters: {'pagerank_cutoff': 0.8999124554979058, 'despike': True, 'baseline_correct': True, 'smoothing': False, 'scaling': True, 'despike_ma': 90, 'despike_threshold': 6.5, 'asls_lam': 100000000000, 'asls_p': 0.1, 'scaling_type': 'svn', 'classifier': 'SVC'}. Best is trial 243 with value: 0.680643200225948.\n",
      "[I 2024-04-15 00:00:20,156] Trial 478 finished with value: 0.643775971332692 and parameters: {'pagerank_cutoff': 0.8927488769224303, 'despike': False, 'baseline_correct': True, 'smoothing': False, 'scaling': True, 'asls_lam': 100000000000, 'asls_p': 0.092, 'scaling_type': 'svn', 'classifier': 'RandomForest'}. Best is trial 243 with value: 0.680643200225948.\n",
      "[I 2024-04-15 00:00:26,681] Trial 479 finished with value: 0.6509397572375614 and parameters: {'pagerank_cutoff': 0.8972808897147352, 'despike': False, 'baseline_correct': True, 'smoothing': False, 'scaling': True, 'asls_lam': 100000000000, 'asls_p': 0.091, 'scaling_type': 'svn', 'classifier': 'RandomForest'}. Best is trial 243 with value: 0.680643200225948.\n",
      "[I 2024-04-15 00:00:34,558] Trial 480 finished with value: 0.6621048792375807 and parameters: {'pagerank_cutoff': 0.7081081164729632, 'despike': False, 'baseline_correct': True, 'smoothing': False, 'scaling': True, 'asls_lam': 100000000000, 'asls_p': 0.091, 'scaling_type': 'vector', 'classifier': 'RandomForest'}. Best is trial 243 with value: 0.680643200225948.\n",
      "[I 2024-04-15 00:00:44,336] Trial 476 finished with value: 0.6725095545627483 and parameters: {'pagerank_cutoff': 0.8989060675107584, 'despike': True, 'baseline_correct': True, 'smoothing': False, 'scaling': True, 'despike_ma': 93, 'despike_threshold': 3.25, 'asls_lam': 100000000000, 'asls_p': 0.091, 'scaling_type': 'svn', 'classifier': 'RandomForest'}. Best is trial 243 with value: 0.680643200225948.\n",
      "[I 2024-04-15 00:00:45,240] Trial 477 finished with value: 0.6063422001523393 and parameters: {'pagerank_cutoff': 0.8855299298013587, 'despike': True, 'baseline_correct': True, 'smoothing': False, 'scaling': True, 'despike_ma': 93, 'despike_threshold': 3.25, 'asls_lam': 100000000000, 'asls_p': 0.091, 'scaling_type': 'svn', 'classifier': 'SVC'}. Best is trial 243 with value: 0.680643200225948.\n",
      "[I 2024-04-15 00:00:51,297] Trial 487 finished with value: 0.5712132256112068 and parameters: {'pagerank_cutoff': 0.7142784198551098, 'despike': False, 'baseline_correct': False, 'smoothing': False, 'scaling': True, 'scaling_type': 'vector', 'classifier': 'RandomForest'}. Best is trial 243 with value: 0.680643200225948.\n",
      "[I 2024-04-15 00:00:59,137] Trial 485 finished with value: 0.5918533321981905 and parameters: {'pagerank_cutoff': 0.7051322078702841, 'despike': False, 'baseline_correct': False, 'smoothing': False, 'scaling': True, 'scaling_type': 'svn', 'classifier': 'RandomForest'}. Best is trial 243 with value: 0.680643200225948.\n",
      "[I 2024-04-15 00:01:11,053] Trial 486 finished with value: 0.6098700060715176 and parameters: {'pagerank_cutoff': 0.7053245297316763, 'despike': False, 'baseline_correct': False, 'smoothing': False, 'scaling': True, 'scaling_type': 'svn', 'classifier': 'RandomForest'}. Best is trial 243 with value: 0.680643200225948.\n",
      "[I 2024-04-15 00:01:15,418] Trial 482 finished with value: 0.555677829907282 and parameters: {'pagerank_cutoff': 0.7239515815488498, 'despike': False, 'baseline_correct': True, 'smoothing': False, 'scaling': True, 'asls_lam': 100000000000, 'asls_p': 0.091, 'scaling_type': 'vector', 'classifier': 'SVC'}. Best is trial 243 with value: 0.680643200225948.\n",
      "[I 2024-04-15 00:01:24,335] Trial 490 finished with value: 0.583180845471064 and parameters: {'pagerank_cutoff': 0.7023092710629635, 'despike': False, 'baseline_correct': False, 'smoothing': False, 'scaling': True, 'scaling_type': 'vector', 'classifier': 'RandomForest'}. Best is trial 243 with value: 0.680643200225948.\n",
      "[I 2024-04-15 00:01:31,963] Trial 491 finished with value: 0.5676934350171288 and parameters: {'pagerank_cutoff': 0.7075227788497672, 'despike': False, 'baseline_correct': False, 'smoothing': False, 'scaling': True, 'scaling_type': 'vector', 'classifier': 'RandomForest'}. Best is trial 243 with value: 0.680643200225948.\n",
      "[I 2024-04-15 00:01:38,319] Trial 492 finished with value: 0.5789061832722554 and parameters: {'pagerank_cutoff': 0.7000913973144186, 'despike': False, 'baseline_correct': False, 'smoothing': False, 'scaling': True, 'scaling_type': 'vector', 'classifier': 'RandomForest'}. Best is trial 243 with value: 0.680643200225948.\n",
      "[I 2024-04-15 00:01:38,390] Trial 484 finished with value: 0.5859598340843306 and parameters: {'pagerank_cutoff': 1.1743715158222254, 'despike': False, 'baseline_correct': True, 'smoothing': False, 'scaling': True, 'asls_lam': 100000000000, 'asls_p': 0.092, 'scaling_type': 'vector', 'classifier': 'RandomForest'}. Best is trial 243 with value: 0.680643200225948.\n",
      "[I 2024-04-15 00:01:52,076] Trial 488 finished with value: 0.5574003136768965 and parameters: {'pagerank_cutoff': 0.7062260259962709, 'despike': True, 'baseline_correct': False, 'smoothing': False, 'scaling': True, 'despike_ma': 93, 'despike_threshold': 9.75, 'scaling_type': 'vector', 'classifier': 'RandomForest'}. Best is trial 243 with value: 0.680643200225948.\n",
      "[I 2024-04-15 00:02:01,549] Trial 481 finished with value: 0.6162631866641937 and parameters: {'pagerank_cutoff': 0.89797046141472, 'despike': True, 'baseline_correct': True, 'smoothing': False, 'scaling': True, 'despike_ma': 93, 'despike_threshold': 3.25, 'asls_lam': 100000000000, 'asls_p': 0.092, 'scaling_type': 'vector', 'classifier': 'SVC'}. Best is trial 243 with value: 0.680643200225948.\n",
      "[I 2024-04-15 00:02:20,395] Trial 483 finished with value: 0.6110685924377283 and parameters: {'pagerank_cutoff': 0.8940361864873869, 'despike': False, 'baseline_correct': True, 'smoothing': False, 'scaling': True, 'asls_lam': 100000000000, 'asls_p': 0.092, 'scaling_type': 'svn', 'classifier': 'RandomForest'}. Best is trial 243 with value: 0.680643200225948.\n",
      "[I 2024-04-15 00:02:27,701] Trial 493 finished with value: 0.6288069390916722 and parameters: {'pagerank_cutoff': 0.9781920969312368, 'despike': False, 'baseline_correct': True, 'smoothing': False, 'scaling': True, 'asls_lam': 100000000000, 'asls_p': 0.089, 'scaling_type': 'vector', 'classifier': 'RandomForest'}. Best is trial 243 with value: 0.680643200225948.\n",
      "[I 2024-04-15 00:02:33,328] Trial 495 finished with value: 0.6397106054273157 and parameters: {'pagerank_cutoff': 0.9840028282357944, 'despike': False, 'baseline_correct': True, 'smoothing': False, 'scaling': True, 'asls_lam': 100000000000, 'asls_p': 0.089, 'scaling_type': 'vector', 'classifier': 'RandomForest'}. Best is trial 243 with value: 0.680643200225948.\n",
      "[I 2024-04-15 00:02:38,428] Trial 494 finished with value: 0.6439392714292426 and parameters: {'pagerank_cutoff': 0.9638863854291426, 'despike': False, 'baseline_correct': True, 'smoothing': False, 'scaling': True, 'asls_lam': 100000000000, 'asls_p': 0.08800000000000001, 'scaling_type': 'vector', 'classifier': 'RandomForest'}. Best is trial 243 with value: 0.680643200225948.\n",
      "[I 2024-04-15 00:02:42,640] Trial 496 finished with value: 0.631421298364972 and parameters: {'pagerank_cutoff': 0.979190399374098, 'despike': False, 'baseline_correct': True, 'smoothing': False, 'scaling': True, 'asls_lam': 100000000000, 'asls_p': 0.093, 'scaling_type': 'svn', 'classifier': 'RandomForest'}. Best is trial 243 with value: 0.680643200225948.\n",
      "[I 2024-04-15 00:02:47,199] Trial 497 finished with value: 0.6518877218809407 and parameters: {'pagerank_cutoff': 0.9607470753211892, 'despike': False, 'baseline_correct': True, 'smoothing': False, 'scaling': True, 'asls_lam': 100000000000, 'asls_p': 0.08800000000000001, 'scaling_type': 'vector', 'classifier': 'RandomForest'}. Best is trial 243 with value: 0.680643200225948.\n",
      "[I 2024-04-15 00:02:52,437] Trial 498 finished with value: 0.6460029738874711 and parameters: {'pagerank_cutoff': 0.8829223170105756, 'despike': False, 'baseline_correct': True, 'smoothing': False, 'scaling': True, 'asls_lam': 100000000000, 'asls_p': 0.08800000000000001, 'scaling_type': 'vector', 'classifier': 'RandomForest'}. Best is trial 243 with value: 0.680643200225948.\n",
      "[I 2024-04-15 00:02:55,608] Trial 499 finished with value: 0.6591927499613263 and parameters: {'pagerank_cutoff': 0.9510760894844729, 'despike': False, 'baseline_correct': True, 'smoothing': False, 'scaling': True, 'asls_lam': 100000000000, 'asls_p': 0.093, 'scaling_type': 'svn', 'classifier': 'RandomForest'}. Best is trial 243 with value: 0.680643200225948.\n",
      "[I 2024-04-15 00:03:01,781] Trial 489 finished with value: 0.6153951109686399 and parameters: {'pagerank_cutoff': 0.6994473739920595, 'despike': True, 'baseline_correct': True, 'smoothing': False, 'scaling': True, 'despike_ma': 93, 'despike_threshold': 3.25, 'asls_lam': 100000000000, 'asls_p': 0.096, 'scaling_type': 'vector', 'classifier': 'RandomForest'}. Best is trial 243 with value: 0.680643200225948.\n"
     ]
    },
    {
     "name": "stdout",
     "output_type": "stream",
     "text": [
      "FrozenTrial(number=243, state=1, values=[0.680643200225948], datetime_start=datetime.datetime(2024, 4, 14, 22, 37, 9, 424557), datetime_complete=datetime.datetime(2024, 4, 14, 22, 40, 56, 233630), params={'pagerank_cutoff': 0.8240569108542715, 'despike': True, 'baseline_correct': True, 'smoothing': False, 'scaling': True, 'despike_ma': 92, 'despike_threshold': 3.5, 'asls_lam': 100000000000, 'asls_p': 0.1, 'scaling_type': 'svn', 'classifier': 'RandomForest'}, user_attrs={}, system_attrs={}, intermediate_values={}, distributions={'pagerank_cutoff': FloatDistribution(high=1.5, log=False, low=0.0, step=None), 'despike': CategoricalDistribution(choices=(True, False)), 'baseline_correct': CategoricalDistribution(choices=(True, False)), 'smoothing': CategoricalDistribution(choices=(True, False)), 'scaling': CategoricalDistribution(choices=(True, False)), 'despike_ma': IntDistribution(high=100, log=False, low=5, step=1), 'despike_threshold': FloatDistribution(high=10.0, log=False, low=3.0, step=0.25), 'asls_lam': CategoricalDistribution(choices=(100, 1000, 10000, 100000, 1000000, 10000000, 100000000, 1000000000, 10000000000, 100000000000)), 'asls_p': FloatDistribution(high=0.1, log=False, low=0.001, step=0.001), 'scaling_type': CategoricalDistribution(choices=('normal', 'vector', 'svn')), 'classifier': CategoricalDistribution(choices=('ExtraTrees', 'RandomForest', 'SVC'))}, trial_id=243, value=None)\n"
     ]
    }
   ],
   "source": [
    "study.optimize(objective, n_trials=400, n_jobs=-1)\n",
    "\n",
    "print(study.best_trial)"
   ]
  },
  {
   "cell_type": "code",
   "execution_count": 14,
   "metadata": {},
   "outputs": [],
   "source": [
    "results_df = study.trials_dataframe(attrs=(\"number\", \"value\", \"params\", \"state\"))\n",
    "results_df.to_csv(\"../../data/studies/cleaning+pagerank_groupkfold.csv\")"
   ]
  },
  {
   "cell_type": "code",
   "execution_count": 15,
   "metadata": {},
   "outputs": [
    {
     "data": {
      "text/plain": [
       "['../../data/studies/cleaning+pagerank_groupkfold.pkl']"
      ]
     },
     "execution_count": 15,
     "metadata": {},
     "output_type": "execute_result"
    }
   ],
   "source": [
    "import joblib\n",
    "\n",
    "joblib.dump(study, \"../../data/studies/cleaning+pagerank_groupkfold.pkl\")\n",
    "\n",
    "# loaded_study = joblib.load(\"../../data/studies/cleaning_study.pkl\")\n",
    "# print(\"Best trial until now:\")\n",
    "# print(\" Value: \", loaded_study.best_trial.value)\n",
    "# print(\" Params: \")\n",
    "# for key, value in loaded_study.best_trial.params.items():\n",
    "#     print(f\"    {key}: {value}\")"
   ]
  }
 ],
 "metadata": {
  "kernelspec": {
   "display_name": "Python 3",
   "language": "python",
   "name": "python3"
  },
  "language_info": {
   "codemirror_mode": {
    "name": "ipython",
    "version": 3
   },
   "file_extension": ".py",
   "mimetype": "text/x-python",
   "name": "python",
   "nbconvert_exporter": "python",
   "pygments_lexer": "ipython3",
   "version": "3.11.1"
  }
 },
 "nbformat": 4,
 "nbformat_minor": 2
}
