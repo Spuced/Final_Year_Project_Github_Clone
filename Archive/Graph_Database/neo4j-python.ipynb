{
 "cells": [
  {
   "cell_type": "markdown",
   "metadata": {},
   "source": [
    "#### This is a test of using Neo4j from Python"
   ]
  },
  {
   "cell_type": "code",
   "execution_count": 41,
   "metadata": {},
   "outputs": [],
   "source": [
    "from neo4j import GraphDatabase\n",
    "import os\n",
    "import pandas as pd"
   ]
  },
  {
   "cell_type": "markdown",
   "metadata": {},
   "source": [
    "Run and connect to the Neo4j Database"
   ]
  },
  {
   "cell_type": "code",
   "execution_count": 13,
   "metadata": {},
   "outputs": [],
   "source": [
    "from neo4j import GraphDatabase\n",
    "\n",
    "uri = \"neo4j://localhost:7687\"\n",
    "username = \"neo4j\"              # Neo4J username\n",
    "password = os.environ['NEO4J_Password']           # Neo4J password\n",
    "\n",
    "# Create a driver instance\n",
    "driver = GraphDatabase.driver(uri, auth=(username, password))\n",
    "\n",
    "# Ensure you close the driver connection when your program ends\n",
    "def close_driver():\n",
    "    driver.close()"
   ]
  },
  {
   "cell_type": "markdown",
   "metadata": {},
   "source": [
    "**First create the gds Graph Projection**"
   ]
  },
  {
   "cell_type": "code",
   "execution_count": 15,
   "metadata": {},
   "outputs": [
    {
     "ename": "ClientError",
     "evalue": "{code: Neo.ClientError.Procedure.ProcedureCallFailed} {message: Failed to invoke procedure `gds.graph.project`: Caused by: java.lang.IllegalArgumentException: A graph with name 'myGraph' already exists.}",
     "output_type": "error",
     "traceback": [
      "\u001b[0;31m---------------------------------------------------------------------------\u001b[0m",
      "\u001b[0;31mClientError\u001b[0m                               Traceback (most recent call last)",
      "Cell \u001b[0;32mIn[15], line 18\u001b[0m\n\u001b[1;32m     16\u001b[0m \u001b[38;5;66;03m# Use a session to execute the graph projection\u001b[39;00m\n\u001b[1;32m     17\u001b[0m \u001b[38;5;28;01mwith\u001b[39;00m driver\u001b[38;5;241m.\u001b[39msession() \u001b[38;5;28;01mas\u001b[39;00m session:\n\u001b[0;32m---> 18\u001b[0m     \u001b[43msession\u001b[49m\u001b[38;5;241;43m.\u001b[39;49m\u001b[43mexecute_write\u001b[49m\u001b[43m(\u001b[49m\u001b[43mproject_graph\u001b[49m\u001b[43m)\u001b[49m\n",
      "File \u001b[0;32m~/.local/lib/python3.10/site-packages/neo4j/_sync/work/session.py:712\u001b[0m, in \u001b[0;36mSession.execute_write\u001b[0;34m(self, transaction_function, *args, **kwargs)\u001b[0m\n\u001b[1;32m    668\u001b[0m \u001b[38;5;28;01mdef\u001b[39;00m \u001b[38;5;21mexecute_write\u001b[39m(\n\u001b[1;32m    669\u001b[0m     \u001b[38;5;28mself\u001b[39m,\n\u001b[1;32m    670\u001b[0m     transaction_function: t\u001b[38;5;241m.\u001b[39mCallable[\n\u001b[0;32m   (...)\u001b[0m\n\u001b[1;32m    673\u001b[0m     \u001b[38;5;241m*\u001b[39margs: _P\u001b[38;5;241m.\u001b[39margs,  \u001b[38;5;241m*\u001b[39m\u001b[38;5;241m*\u001b[39mkwargs: _P\u001b[38;5;241m.\u001b[39mkwargs\n\u001b[1;32m    674\u001b[0m ) \u001b[38;5;241m-\u001b[39m\u001b[38;5;241m>\u001b[39m _R:\n\u001b[1;32m    675\u001b[0m \u001b[38;5;250m    \u001b[39m\u001b[38;5;124;03m\"\"\"Execute a unit of work in a managed write transaction.\u001b[39;00m\n\u001b[1;32m    676\u001b[0m \n\u001b[1;32m    677\u001b[0m \u001b[38;5;124;03m    .. note::\u001b[39;00m\n\u001b[0;32m   (...)\u001b[0m\n\u001b[1;32m    710\u001b[0m \u001b[38;5;124;03m    .. versionadded:: 5.0\u001b[39;00m\n\u001b[1;32m    711\u001b[0m \u001b[38;5;124;03m    \"\"\"\u001b[39;00m\n\u001b[0;32m--> 712\u001b[0m     \u001b[38;5;28;01mreturn\u001b[39;00m \u001b[38;5;28;43mself\u001b[39;49m\u001b[38;5;241;43m.\u001b[39;49m\u001b[43m_run_transaction\u001b[49m\u001b[43m(\u001b[49m\n\u001b[1;32m    713\u001b[0m \u001b[43m        \u001b[49m\u001b[43mWRITE_ACCESS\u001b[49m\u001b[43m,\u001b[49m\u001b[43m \u001b[49m\u001b[43mtransaction_function\u001b[49m\u001b[43m,\u001b[49m\u001b[43m \u001b[49m\u001b[38;5;241;43m*\u001b[39;49m\u001b[43margs\u001b[49m\u001b[43m,\u001b[49m\u001b[43m \u001b[49m\u001b[38;5;241;43m*\u001b[39;49m\u001b[38;5;241;43m*\u001b[39;49m\u001b[43mkwargs\u001b[49m\n\u001b[1;32m    714\u001b[0m \u001b[43m    \u001b[49m\u001b[43m)\u001b[49m\n",
      "File \u001b[0;32m~/.local/lib/python3.10/site-packages/neo4j/_sync/work/session.py:503\u001b[0m, in \u001b[0;36mSession._run_transaction\u001b[0;34m(self, access_mode, transaction_function, *args, **kwargs)\u001b[0m\n\u001b[1;32m    501\u001b[0m         \u001b[38;5;28;01mraise\u001b[39;00m\n\u001b[1;32m    502\u001b[0m     \u001b[38;5;28;01melse\u001b[39;00m:\n\u001b[0;32m--> 503\u001b[0m         \u001b[43mtx\u001b[49m\u001b[38;5;241;43m.\u001b[39;49m\u001b[43m_commit\u001b[49m\u001b[43m(\u001b[49m\u001b[43m)\u001b[49m\n\u001b[1;32m    504\u001b[0m \u001b[38;5;28;01mexcept\u001b[39;00m (DriverError, Neo4jError) \u001b[38;5;28;01mas\u001b[39;00m error:\n\u001b[1;32m    505\u001b[0m     \u001b[38;5;28mself\u001b[39m\u001b[38;5;241m.\u001b[39m_disconnect()\n",
      "File \u001b[0;32m~/.local/lib/python3.10/site-packages/neo4j/_sync/work/transaction.py:170\u001b[0m, in \u001b[0;36mTransactionBase._commit\u001b[0;34m(self)\u001b[0m\n\u001b[1;32m    167\u001b[0m metadata \u001b[38;5;241m=\u001b[39m {}\n\u001b[1;32m    168\u001b[0m \u001b[38;5;28;01mtry\u001b[39;00m:\n\u001b[1;32m    169\u001b[0m     \u001b[38;5;66;03m# DISCARD pending records then do a commit.\u001b[39;00m\n\u001b[0;32m--> 170\u001b[0m     \u001b[38;5;28;43mself\u001b[39;49m\u001b[38;5;241;43m.\u001b[39;49m\u001b[43m_consume_results\u001b[49m\u001b[43m(\u001b[49m\u001b[43m)\u001b[49m\n\u001b[1;32m    171\u001b[0m     \u001b[38;5;28mself\u001b[39m\u001b[38;5;241m.\u001b[39m_connection\u001b[38;5;241m.\u001b[39mcommit(on_success\u001b[38;5;241m=\u001b[39mmetadata\u001b[38;5;241m.\u001b[39mupdate)\n\u001b[1;32m    172\u001b[0m     \u001b[38;5;28mself\u001b[39m\u001b[38;5;241m.\u001b[39m_connection\u001b[38;5;241m.\u001b[39msend_all()\n",
      "File \u001b[0;32m~/.local/lib/python3.10/site-packages/neo4j/_sync/work/transaction.py:93\u001b[0m, in \u001b[0;36mTransactionBase._consume_results\u001b[0;34m(self)\u001b[0m\n\u001b[1;32m     91\u001b[0m \u001b[38;5;28;01mdef\u001b[39;00m \u001b[38;5;21m_consume_results\u001b[39m(\u001b[38;5;28mself\u001b[39m):\n\u001b[1;32m     92\u001b[0m     \u001b[38;5;28;01mfor\u001b[39;00m result \u001b[38;5;129;01min\u001b[39;00m \u001b[38;5;28mself\u001b[39m\u001b[38;5;241m.\u001b[39m_results:\n\u001b[0;32m---> 93\u001b[0m         \u001b[43mresult\u001b[49m\u001b[38;5;241;43m.\u001b[39;49m\u001b[43m_tx_end\u001b[49m\u001b[43m(\u001b[49m\u001b[43m)\u001b[49m\n\u001b[1;32m     94\u001b[0m     \u001b[38;5;28mself\u001b[39m\u001b[38;5;241m.\u001b[39m_results \u001b[38;5;241m=\u001b[39m []\n",
      "File \u001b[0;32m~/.local/lib/python3.10/site-packages/neo4j/_sync/work/result.py:341\u001b[0m, in \u001b[0;36mResult._tx_end\u001b[0;34m(self)\u001b[0m\n\u001b[1;32m    336\u001b[0m \u001b[38;5;28;01mdef\u001b[39;00m \u001b[38;5;21m_tx_end\u001b[39m(\u001b[38;5;28mself\u001b[39m):\n\u001b[1;32m    337\u001b[0m     \u001b[38;5;66;03m# Handle closure of the associated transaction.\u001b[39;00m\n\u001b[1;32m    338\u001b[0m     \u001b[38;5;66;03m#\u001b[39;00m\n\u001b[1;32m    339\u001b[0m     \u001b[38;5;66;03m# This will consume the result and mark it at out of scope.\u001b[39;00m\n\u001b[1;32m    340\u001b[0m     \u001b[38;5;66;03m# Subsequent calls to `next` will raise a ResultConsumedError.\u001b[39;00m\n\u001b[0;32m--> 341\u001b[0m     \u001b[38;5;28;43mself\u001b[39;49m\u001b[38;5;241;43m.\u001b[39;49m\u001b[43m_exhaust\u001b[49m\u001b[43m(\u001b[49m\u001b[43m)\u001b[49m\n\u001b[1;32m    342\u001b[0m     \u001b[38;5;28mself\u001b[39m\u001b[38;5;241m.\u001b[39m_out_of_scope \u001b[38;5;241m=\u001b[39m \u001b[38;5;28;01mTrue\u001b[39;00m\n",
      "File \u001b[0;32m~/.local/lib/python3.10/site-packages/neo4j/_sync/work/result.py:333\u001b[0m, in \u001b[0;36mResult._exhaust\u001b[0;34m(self)\u001b[0m\n\u001b[1;32m    331\u001b[0m \u001b[38;5;28mself\u001b[39m\u001b[38;5;241m.\u001b[39m_discarding \u001b[38;5;241m=\u001b[39m \u001b[38;5;28;01mTrue\u001b[39;00m\n\u001b[1;32m    332\u001b[0m \u001b[38;5;28mself\u001b[39m\u001b[38;5;241m.\u001b[39m_record_buffer\u001b[38;5;241m.\u001b[39mclear()\n\u001b[0;32m--> 333\u001b[0m \u001b[38;5;28;01mfor\u001b[39;00m _ \u001b[38;5;129;01min\u001b[39;00m \u001b[38;5;28mself\u001b[39m:\n\u001b[1;32m    334\u001b[0m     \u001b[38;5;28;01mpass\u001b[39;00m\n",
      "File \u001b[0;32m~/.local/lib/python3.10/site-packages/neo4j/_sync/work/result.py:246\u001b[0m, in \u001b[0;36mResult.__iter__\u001b[0;34m(self)\u001b[0m\n\u001b[1;32m    244\u001b[0m     \u001b[38;5;28;01myield\u001b[39;00m \u001b[38;5;28mself\u001b[39m\u001b[38;5;241m.\u001b[39m_record_buffer\u001b[38;5;241m.\u001b[39mpopleft()\n\u001b[1;32m    245\u001b[0m \u001b[38;5;28;01melif\u001b[39;00m \u001b[38;5;28mself\u001b[39m\u001b[38;5;241m.\u001b[39m_streaming:\n\u001b[0;32m--> 246\u001b[0m     \u001b[38;5;28;43mself\u001b[39;49m\u001b[38;5;241;43m.\u001b[39;49m\u001b[43m_connection\u001b[49m\u001b[38;5;241;43m.\u001b[39;49m\u001b[43mfetch_message\u001b[49m\u001b[43m(\u001b[49m\u001b[43m)\u001b[49m\n\u001b[1;32m    247\u001b[0m \u001b[38;5;28;01melif\u001b[39;00m \u001b[38;5;28mself\u001b[39m\u001b[38;5;241m.\u001b[39m_discarding:\n\u001b[1;32m    248\u001b[0m     \u001b[38;5;28mself\u001b[39m\u001b[38;5;241m.\u001b[39m_discard()\n",
      "File \u001b[0;32m~/.local/lib/python3.10/site-packages/neo4j/_sync/io/_common.py:180\u001b[0m, in \u001b[0;36mConnectionErrorHandler.__getattr__.<locals>.outer.<locals>.inner\u001b[0;34m(*args, **kwargs)\u001b[0m\n\u001b[1;32m    178\u001b[0m \u001b[38;5;28;01mdef\u001b[39;00m \u001b[38;5;21minner\u001b[39m(\u001b[38;5;241m*\u001b[39margs, \u001b[38;5;241m*\u001b[39m\u001b[38;5;241m*\u001b[39mkwargs):\n\u001b[1;32m    179\u001b[0m     \u001b[38;5;28;01mtry\u001b[39;00m:\n\u001b[0;32m--> 180\u001b[0m         \u001b[43mfunc\u001b[49m\u001b[43m(\u001b[49m\u001b[38;5;241;43m*\u001b[39;49m\u001b[43margs\u001b[49m\u001b[43m,\u001b[49m\u001b[43m \u001b[49m\u001b[38;5;241;43m*\u001b[39;49m\u001b[38;5;241;43m*\u001b[39;49m\u001b[43mkwargs\u001b[49m\u001b[43m)\u001b[49m\n\u001b[1;32m    181\u001b[0m     \u001b[38;5;28;01mexcept\u001b[39;00m (Neo4jError, ServiceUnavailable, SessionExpired) \u001b[38;5;28;01mas\u001b[39;00m exc:\n\u001b[1;32m    182\u001b[0m         \u001b[38;5;28;01massert\u001b[39;00m \u001b[38;5;129;01mnot\u001b[39;00m asyncio\u001b[38;5;241m.\u001b[39miscoroutinefunction(\u001b[38;5;28mself\u001b[39m\u001b[38;5;241m.\u001b[39m__on_error)\n",
      "File \u001b[0;32m~/.local/lib/python3.10/site-packages/neo4j/_sync/io/_bolt.py:659\u001b[0m, in \u001b[0;36mBolt.fetch_message\u001b[0;34m(self)\u001b[0m\n\u001b[1;32m    655\u001b[0m \u001b[38;5;66;03m# Receive exactly one message\u001b[39;00m\n\u001b[1;32m    656\u001b[0m tag, fields \u001b[38;5;241m=\u001b[39m \u001b[38;5;28mself\u001b[39m\u001b[38;5;241m.\u001b[39minbox\u001b[38;5;241m.\u001b[39mpop(\n\u001b[1;32m    657\u001b[0m     hydration_hooks\u001b[38;5;241m=\u001b[39m\u001b[38;5;28mself\u001b[39m\u001b[38;5;241m.\u001b[39mresponses[\u001b[38;5;241m0\u001b[39m]\u001b[38;5;241m.\u001b[39mhydration_hooks\n\u001b[1;32m    658\u001b[0m )\n\u001b[0;32m--> 659\u001b[0m res \u001b[38;5;241m=\u001b[39m \u001b[38;5;28;43mself\u001b[39;49m\u001b[38;5;241;43m.\u001b[39;49m\u001b[43m_process_message\u001b[49m\u001b[43m(\u001b[49m\u001b[43mtag\u001b[49m\u001b[43m,\u001b[49m\u001b[43m \u001b[49m\u001b[43mfields\u001b[49m\u001b[43m)\u001b[49m\n\u001b[1;32m    660\u001b[0m \u001b[38;5;28mself\u001b[39m\u001b[38;5;241m.\u001b[39midle_since \u001b[38;5;241m=\u001b[39m perf_counter()\n\u001b[1;32m    661\u001b[0m \u001b[38;5;28;01mreturn\u001b[39;00m res\n",
      "File \u001b[0;32m~/.local/lib/python3.10/site-packages/neo4j/_sync/io/_bolt5.py:317\u001b[0m, in \u001b[0;36mBolt5x0._process_message\u001b[0;34m(self, tag, fields)\u001b[0m\n\u001b[1;32m    315\u001b[0m \u001b[38;5;28mself\u001b[39m\u001b[38;5;241m.\u001b[39m_server_state_manager\u001b[38;5;241m.\u001b[39mstate \u001b[38;5;241m=\u001b[39m ServerStates\u001b[38;5;241m.\u001b[39mFAILED\n\u001b[1;32m    316\u001b[0m \u001b[38;5;28;01mtry\u001b[39;00m:\n\u001b[0;32m--> 317\u001b[0m     \u001b[43mresponse\u001b[49m\u001b[38;5;241;43m.\u001b[39;49m\u001b[43mon_failure\u001b[49m\u001b[43m(\u001b[49m\u001b[43msummary_metadata\u001b[49m\u001b[43m \u001b[49m\u001b[38;5;129;43;01mor\u001b[39;49;00m\u001b[43m \u001b[49m\u001b[43m{\u001b[49m\u001b[43m}\u001b[49m\u001b[43m)\u001b[49m\n\u001b[1;32m    318\u001b[0m \u001b[38;5;28;01mexcept\u001b[39;00m (ServiceUnavailable, DatabaseUnavailable):\n\u001b[1;32m    319\u001b[0m     \u001b[38;5;28;01mif\u001b[39;00m \u001b[38;5;28mself\u001b[39m\u001b[38;5;241m.\u001b[39mpool:\n",
      "File \u001b[0;32m~/.local/lib/python3.10/site-packages/neo4j/_sync/io/_common.py:247\u001b[0m, in \u001b[0;36mResponse.on_failure\u001b[0;34m(self, metadata)\u001b[0m\n\u001b[1;32m    245\u001b[0m handler \u001b[38;5;241m=\u001b[39m \u001b[38;5;28mself\u001b[39m\u001b[38;5;241m.\u001b[39mhandlers\u001b[38;5;241m.\u001b[39mget(\u001b[38;5;124m\"\u001b[39m\u001b[38;5;124mon_summary\u001b[39m\u001b[38;5;124m\"\u001b[39m)\n\u001b[1;32m    246\u001b[0m Util\u001b[38;5;241m.\u001b[39mcallback(handler)\n\u001b[0;32m--> 247\u001b[0m \u001b[38;5;28;01mraise\u001b[39;00m Neo4jError\u001b[38;5;241m.\u001b[39mhydrate(\u001b[38;5;241m*\u001b[39m\u001b[38;5;241m*\u001b[39mmetadata)\n",
      "\u001b[0;31mClientError\u001b[0m: {code: Neo.ClientError.Procedure.ProcedureCallFailed} {message: Failed to invoke procedure `gds.graph.project`: Caused by: java.lang.IllegalArgumentException: A graph with name 'myGraph' already exists.}"
     ]
    }
   ],
   "source": [
    "def project_graph(tx):\n",
    "    query = \"\"\"\n",
    "    CALL gds.graph.project(\n",
    "      'myGraph', \n",
    "      ['Normal', 'Hyperglycemia', 'Hypoglycemia'],\n",
    "      {\n",
    "        LINK: {\n",
    "          orientation: 'UNDIRECTED',\n",
    "          properties: 'Weight'\n",
    "        }\n",
    "      }\n",
    "    )\n",
    "    \"\"\"\n",
    "    tx.run(query)\n",
    "\n",
    "# Use a session to execute the graph projection\n",
    "with driver.session() as session:\n",
    "    session.execute_write(project_graph)"
   ]
  },
  {
   "cell_type": "markdown",
   "metadata": {},
   "source": [
    "Define the graph algorithms."
   ]
  },
  {
   "cell_type": "code",
   "execution_count": 25,
   "metadata": {},
   "outputs": [],
   "source": [
    "def run_pagerank_centrality(tx):\n",
    "    query = \"\"\"\n",
    "    CALL gds.pageRank.stream('myGraph', {\n",
    "        relationshipWeightProperty: 'Weight'\n",
    "    })\n",
    "    YIELD nodeId, score\n",
    "    RETURN gds.util.asNode(nodeId).SpecID AS name, score\n",
    "    ORDER BY score DESC, name ASC\n",
    "    \"\"\"\n",
    "    results = tx.run(query)\n",
    "    return [(record[\"name\"], record[\"score\"]) for record in results]"
   ]
  },
  {
   "cell_type": "code",
   "execution_count": 26,
   "metadata": {},
   "outputs": [],
   "source": [
    "def run_degree_centrality(tx):\n",
    "    query = \"\"\"\n",
    "    CALL gds.degree.stream('myGraph', {\n",
    "        relationshipWeightProperty: 'Weight'\n",
    "    })\n",
    "    YIELD nodeId, score\n",
    "    RETURN gds.util.asNode(nodeId).SpecID AS name, score\n",
    "    ORDER BY score DESC, name ASC\n",
    "    \"\"\"\n",
    "    results = tx.run(query)\n",
    "    return [(record[\"name\"], record[\"score\"]) for record in results]"
   ]
  },
  {
   "cell_type": "code",
   "execution_count": 27,
   "metadata": {},
   "outputs": [],
   "source": [
    "def run_eigenvector_centrality(tx):\n",
    "    query = \"\"\"\n",
    "    CALL gds.eigenvector.stream('myGraph', {\n",
    "        relationshipWeightProperty: 'Weight'\n",
    "    })\n",
    "    YIELD nodeId, score\n",
    "    RETURN gds.util.asNode(nodeId).SpecID AS name, score\n",
    "    ORDER BY score DESC, name ASC\n",
    "    \"\"\"\n",
    "    results = tx.run(query)\n",
    "    return [(record[\"name\"], record[\"score\"]) for record in results]"
   ]
  },
  {
   "cell_type": "code",
   "execution_count": 28,
   "metadata": {},
   "outputs": [],
   "source": [
    "def run_articlerank_centrality(tx):\n",
    "    query = \"\"\"\n",
    "    CALL gds.articleRank.stream('myGraph', {\n",
    "        relationshipWeightProperty: 'Weight'\n",
    "    })\n",
    "    YIELD nodeId, score\n",
    "    RETURN gds.util.asNode(nodeId).SpecID AS name, score\n",
    "    ORDER BY score DESC, name ASC\n",
    "    \"\"\"\n",
    "    results = tx.run(query)\n",
    "    return [(record[\"name\"], record[\"score\"]) for record in results]"
   ]
  },
  {
   "cell_type": "code",
   "execution_count": 29,
   "metadata": {},
   "outputs": [],
   "source": [
    "def run_label_propagation_algorithm(tx):\n",
    "    query = \"\"\"\n",
    "    CALL gds.labelPropagation.stream('myGraph', { relationshipWeightProperty: 'Weight' })\n",
    "    YIELD nodeId, communityId AS Community\n",
    "    RETURN gds.util.asNode(nodeId).SpecID AS name, Community\n",
    "    ORDER BY Community, name\n",
    "    \"\"\"\n",
    "    results = tx.run(query)\n",
    "    return [(record[\"name\"], record[\"Community\"]) for record in results]"
   ]
  },
  {
   "cell_type": "code",
   "execution_count": 30,
   "metadata": {},
   "outputs": [],
   "source": [
    "def run_leiden_algorithm(tx):\n",
    "    query = \"\"\"\n",
    "    CALL gds.leiden.stream('myGraph', { relationshipWeightProperty: 'Weight' })\n",
    "    YIELD nodeId, communityId AS Community\n",
    "    RETURN gds.util.asNode(nodeId).SpecID AS name, Community\n",
    "    ORDER BY Community, name\n",
    "    \"\"\"\n",
    "    results = tx.run(query)\n",
    "    return [(record[\"name\"], record[\"Community\"]) for record in results]"
   ]
  },
  {
   "cell_type": "code",
   "execution_count": 31,
   "metadata": {},
   "outputs": [],
   "source": [
    "def run_louvain_algorithm(tx):\n",
    "    query = \"\"\"\n",
    "    CALL gds.louvain.stream('myGraph', { relationshipWeightProperty: 'Weight' })\n",
    "    YIELD nodeId, communityId AS Community\n",
    "    RETURN gds.util.asNode(nodeId).SpecID AS name, Community\n",
    "    ORDER BY Community, name\n",
    "    \"\"\"\n",
    "    results = tx.run(query)\n",
    "    return [(record[\"name\"], record[\"Community\"]) for record in results]"
   ]
  },
  {
   "cell_type": "markdown",
   "metadata": {},
   "source": [
    "Execute the algorithms and store the results in a Dataframe."
   ]
  },
  {
   "cell_type": "code",
   "execution_count": 36,
   "metadata": {},
   "outputs": [],
   "source": [
    "# Use a session to execute the queries and retrieve the results\n",
    "with driver.session() as session:\n",
    "    pagerank_results = session.execute_read(run_pagerank_centrality)\n",
    "    degree_results = session.execute_read(run_degree_centrality)\n",
    "    eigenvector_results = session.execute_read(run_eigenvector_centrality)\n",
    "    articlerank_results = session.execute_read(run_articlerank_centrality)\n",
    "    label_propagation_results = session.execute_read(run_label_propagation_algorithm)\n",
    "    leiden_results = session.execute_read(run_leiden_algorithm)\n",
    "    louvain_results = session.execute_read(run_louvain_algorithm)"
   ]
  },
  {
   "cell_type": "code",
   "execution_count": 49,
   "metadata": {},
   "outputs": [],
   "source": [
    "pagerank_df = pd.DataFrame(pagerank_results, columns=['name', 'PageRank'])\n",
    "degree_df = pd.DataFrame(degree_results, columns=['name', 'DegreeCentrality'])\n",
    "eigenvector_df = pd.DataFrame(eigenvector_results, columns=['name', 'EigenvectorCentrality'])\n",
    "articlerank_df = pd.DataFrame(articlerank_results, columns=['name', 'ArticleRank'])\n",
    "label_propagation_df = pd.DataFrame(label_propagation_results, columns=['name', 'LabelPropagation'])\n",
    "leiden_df = pd.DataFrame(leiden_results, columns=['name', 'Leiden'])\n",
    "louvain_df = pd.DataFrame(louvain_results, columns=['name', 'Louvain'])"
   ]
  },
  {
   "cell_type": "code",
   "execution_count": 57,
   "metadata": {},
   "outputs": [],
   "source": [
    "merged_df = pagerank_df\n",
    "for df in [degree_df, eigenvector_df, articlerank_df, label_propagation_df, leiden_df, louvain_df]:\n",
    "    merged_df = pd.merge(merged_df, df, on='name', how='left')"
   ]
  },
  {
   "cell_type": "code",
   "execution_count": 60,
   "metadata": {},
   "outputs": [
    {
     "data": {
      "text/html": [
       "<div>\n",
       "<style scoped>\n",
       "    .dataframe tbody tr th:only-of-type {\n",
       "        vertical-align: middle;\n",
       "    }\n",
       "\n",
       "    .dataframe tbody tr th {\n",
       "        vertical-align: top;\n",
       "    }\n",
       "\n",
       "    .dataframe thead th {\n",
       "        text-align: right;\n",
       "    }\n",
       "</style>\n",
       "<table border=\"1\" class=\"dataframe\">\n",
       "  <thead>\n",
       "    <tr style=\"text-align: right;\">\n",
       "      <th></th>\n",
       "      <th>SpecID</th>\n",
       "      <th>PageRank</th>\n",
       "      <th>DegreeCentrality</th>\n",
       "      <th>EigenvectorCentrality</th>\n",
       "      <th>ArticleRank</th>\n",
       "      <th>LabelPropagation</th>\n",
       "      <th>Leiden</th>\n",
       "      <th>Louvain</th>\n",
       "    </tr>\n",
       "  </thead>\n",
       "  <tbody>\n",
       "    <tr>\n",
       "      <th>0</th>\n",
       "      <td>210401-1-09</td>\n",
       "      <td>2.074594</td>\n",
       "      <td>695.311607</td>\n",
       "      <td>3.782050e-02</td>\n",
       "      <td>0.178435</td>\n",
       "      <td>8</td>\n",
       "      <td>0</td>\n",
       "      <td>2379</td>\n",
       "    </tr>\n",
       "    <tr>\n",
       "      <th>1</th>\n",
       "      <td>210217-1-26</td>\n",
       "      <td>2.032693</td>\n",
       "      <td>691.657821</td>\n",
       "      <td>3.759374e-02</td>\n",
       "      <td>0.178272</td>\n",
       "      <td>8</td>\n",
       "      <td>0</td>\n",
       "      <td>2379</td>\n",
       "    </tr>\n",
       "    <tr>\n",
       "      <th>2</th>\n",
       "      <td>210217-1-27</td>\n",
       "      <td>2.032693</td>\n",
       "      <td>691.657821</td>\n",
       "      <td>3.759374e-02</td>\n",
       "      <td>0.178272</td>\n",
       "      <td>8</td>\n",
       "      <td>0</td>\n",
       "      <td>2379</td>\n",
       "    </tr>\n",
       "    <tr>\n",
       "      <th>3</th>\n",
       "      <td>210505-1-45</td>\n",
       "      <td>2.032182</td>\n",
       "      <td>699.914021</td>\n",
       "      <td>3.800364e-02</td>\n",
       "      <td>0.178597</td>\n",
       "      <td>8</td>\n",
       "      <td>0</td>\n",
       "      <td>2379</td>\n",
       "    </tr>\n",
       "    <tr>\n",
       "      <th>4</th>\n",
       "      <td>210401-1-11</td>\n",
       "      <td>2.031980</td>\n",
       "      <td>692.600754</td>\n",
       "      <td>3.764165e-02</td>\n",
       "      <td>0.178310</td>\n",
       "      <td>8</td>\n",
       "      <td>0</td>\n",
       "      <td>2379</td>\n",
       "    </tr>\n",
       "    <tr>\n",
       "      <th>...</th>\n",
       "      <td>...</td>\n",
       "      <td>...</td>\n",
       "      <td>...</td>\n",
       "      <td>...</td>\n",
       "      <td>...</td>\n",
       "      <td>...</td>\n",
       "      <td>...</td>\n",
       "      <td>...</td>\n",
       "    </tr>\n",
       "    <tr>\n",
       "      <th>3040</th>\n",
       "      <td>210120-1-04</td>\n",
       "      <td>0.150806</td>\n",
       "      <td>0.017891</td>\n",
       "      <td>1.310294e-06</td>\n",
       "      <td>0.150001</td>\n",
       "      <td>8</td>\n",
       "      <td>5</td>\n",
       "      <td>997</td>\n",
       "    </tr>\n",
       "    <tr>\n",
       "      <th>3041</th>\n",
       "      <td>210407-1-40</td>\n",
       "      <td>0.150743</td>\n",
       "      <td>0.061752</td>\n",
       "      <td>3.816878e-06</td>\n",
       "      <td>0.150003</td>\n",
       "      <td>8</td>\n",
       "      <td>0</td>\n",
       "      <td>940</td>\n",
       "    </tr>\n",
       "    <tr>\n",
       "      <th>3042</th>\n",
       "      <td>210120-1-27</td>\n",
       "      <td>0.150496</td>\n",
       "      <td>0.025020</td>\n",
       "      <td>1.510461e-06</td>\n",
       "      <td>0.150001</td>\n",
       "      <td>8</td>\n",
       "      <td>2</td>\n",
       "      <td>784</td>\n",
       "    </tr>\n",
       "    <tr>\n",
       "      <th>3043</th>\n",
       "      <td>210114-1-25</td>\n",
       "      <td>0.150495</td>\n",
       "      <td>0.000443</td>\n",
       "      <td>5.407640e-08</td>\n",
       "      <td>0.150000</td>\n",
       "      <td>8</td>\n",
       "      <td>2</td>\n",
       "      <td>940</td>\n",
       "    </tr>\n",
       "    <tr>\n",
       "      <th>3044</th>\n",
       "      <td>210217-2-39</td>\n",
       "      <td>0.150100</td>\n",
       "      <td>0.000486</td>\n",
       "      <td>5.721761e-08</td>\n",
       "      <td>0.150000</td>\n",
       "      <td>8</td>\n",
       "      <td>9</td>\n",
       "      <td>940</td>\n",
       "    </tr>\n",
       "  </tbody>\n",
       "</table>\n",
       "<p>3045 rows × 8 columns</p>\n",
       "</div>"
      ],
      "text/plain": [
       "           SpecID  PageRank  DegreeCentrality  EigenvectorCentrality  \\\n",
       "0     210401-1-09  2.074594        695.311607           3.782050e-02   \n",
       "1     210217-1-26  2.032693        691.657821           3.759374e-02   \n",
       "2     210217-1-27  2.032693        691.657821           3.759374e-02   \n",
       "3     210505-1-45  2.032182        699.914021           3.800364e-02   \n",
       "4     210401-1-11  2.031980        692.600754           3.764165e-02   \n",
       "...           ...       ...               ...                    ...   \n",
       "3040  210120-1-04  0.150806          0.017891           1.310294e-06   \n",
       "3041  210407-1-40  0.150743          0.061752           3.816878e-06   \n",
       "3042  210120-1-27  0.150496          0.025020           1.510461e-06   \n",
       "3043  210114-1-25  0.150495          0.000443           5.407640e-08   \n",
       "3044  210217-2-39  0.150100          0.000486           5.721761e-08   \n",
       "\n",
       "      ArticleRank  LabelPropagation  Leiden  Louvain  \n",
       "0        0.178435                 8       0     2379  \n",
       "1        0.178272                 8       0     2379  \n",
       "2        0.178272                 8       0     2379  \n",
       "3        0.178597                 8       0     2379  \n",
       "4        0.178310                 8       0     2379  \n",
       "...           ...               ...     ...      ...  \n",
       "3040     0.150001                 8       5      997  \n",
       "3041     0.150003                 8       0      940  \n",
       "3042     0.150001                 8       2      784  \n",
       "3043     0.150000                 8       2      940  \n",
       "3044     0.150000                 8       9      940  \n",
       "\n",
       "[3045 rows x 8 columns]"
      ]
     },
     "execution_count": 60,
     "metadata": {},
     "output_type": "execute_result"
    }
   ],
   "source": [
    "df = merged_df.rename(columns={'name' : 'SpecID'})\n",
    "df"
   ]
  },
  {
   "cell_type": "code",
   "execution_count": 33,
   "metadata": {},
   "outputs": [],
   "source": [
    "close_driver()"
   ]
  }
 ],
 "metadata": {
  "kernelspec": {
   "display_name": "Python 3",
   "language": "python",
   "name": "python3"
  },
  "language_info": {
   "codemirror_mode": {
    "name": "ipython",
    "version": 3
   },
   "file_extension": ".py",
   "mimetype": "text/x-python",
   "name": "python",
   "nbconvert_exporter": "python",
   "pygments_lexer": "ipython3",
   "version": "3.10.12"
  }
 },
 "nbformat": 4,
 "nbformat_minor": 2
}
