{
 "cells": [
  {
   "cell_type": "code",
   "execution_count": 110,
   "metadata": {},
   "outputs": [],
   "source": [
    "import numpy as np\n",
    "import matplotlib.pyplot as plt\n",
    "import seaborn as sns\n",
    "import pandas as pd\n",
    "import sys"
   ]
  },
  {
   "cell_type": "code",
   "execution_count": 111,
   "metadata": {},
   "outputs": [],
   "source": [
    "SCC = pd.read_csv(\"../../data/SCC.csv\")\n",
    "Louv = pd.read_csv(\"../../data/Louv.csv\")\n",
    "LabelProp = pd.read_csv(\"../../data/LabelProp.csv\")\n",
    "Leiden = pd.read_csv(\"../../data/Leiden.csv\")\n",
    "nodes = pd.read_csv(\"../../data/nodes.csv\")"
   ]
  },
  {
   "cell_type": "code",
   "execution_count": 112,
   "metadata": {},
   "outputs": [],
   "source": [
    "def community_det_acc(df1, df2):\n",
    "    df1['Node_ID:ID'] = [int(i.strip('\"')) for i in df1['Name'].tolist()]\n",
    "    df1.drop(columns=['Name'], inplace=True)\n",
    "\n",
    "    result_df = pd.merge(df1, df2, on='Node_ID:ID', how='inner')\n",
    "\n",
    "    percentage_breakdown = result_df.groupby(['Community', 'Status:LABEL']).size().unstack(fill_value=0)\n",
    "    \n",
    "    percentage_breakdown_percentage = percentage_breakdown.div(percentage_breakdown.sum(axis=1), axis=0) * 100\n",
    "    \n",
    "    return percentage_breakdown_percentage"
   ]
  },
  {
   "cell_type": "code",
   "execution_count": 113,
   "metadata": {},
   "outputs": [
    {
     "data": {
      "text/html": [
       "<div>\n",
       "<style scoped>\n",
       "    .dataframe tbody tr th:only-of-type {\n",
       "        vertical-align: middle;\n",
       "    }\n",
       "\n",
       "    .dataframe tbody tr th {\n",
       "        vertical-align: top;\n",
       "    }\n",
       "\n",
       "    .dataframe thead th {\n",
       "        text-align: right;\n",
       "    }\n",
       "</style>\n",
       "<table border=\"1\" class=\"dataframe\">\n",
       "  <thead>\n",
       "    <tr style=\"text-align: right;\">\n",
       "      <th>Status:LABEL</th>\n",
       "      <th>Hyperglycemia</th>\n",
       "      <th>Hypoglycemia</th>\n",
       "      <th>Normal</th>\n",
       "    </tr>\n",
       "    <tr>\n",
       "      <th>Community</th>\n",
       "      <th></th>\n",
       "      <th></th>\n",
       "      <th></th>\n",
       "    </tr>\n",
       "  </thead>\n",
       "  <tbody>\n",
       "    <tr>\n",
       "      <th>0</th>\n",
       "      <td>33.248599</td>\n",
       "      <td>39.368729</td>\n",
       "      <td>27.382672</td>\n",
       "    </tr>\n",
       "  </tbody>\n",
       "</table>\n",
       "</div>"
      ],
      "text/plain": [
       "Status:LABEL  Hyperglycemia  Hypoglycemia     Normal\n",
       "Community                                           \n",
       "0                 33.248599     39.368729  27.382672"
      ]
     },
     "execution_count": 113,
     "metadata": {},
     "output_type": "execute_result"
    }
   ],
   "source": [
    "community_det_acc(SCC, nodes)"
   ]
  },
  {
   "cell_type": "code",
   "execution_count": 114,
   "metadata": {},
   "outputs": [
    {
     "data": {
      "text/html": [
       "<div>\n",
       "<style scoped>\n",
       "    .dataframe tbody tr th:only-of-type {\n",
       "        vertical-align: middle;\n",
       "    }\n",
       "\n",
       "    .dataframe tbody tr th {\n",
       "        vertical-align: top;\n",
       "    }\n",
       "\n",
       "    .dataframe thead th {\n",
       "        text-align: right;\n",
       "    }\n",
       "</style>\n",
       "<table border=\"1\" class=\"dataframe\">\n",
       "  <thead>\n",
       "    <tr style=\"text-align: right;\">\n",
       "      <th>Status:LABEL</th>\n",
       "      <th>Hyperglycemia</th>\n",
       "      <th>Hypoglycemia</th>\n",
       "      <th>Normal</th>\n",
       "    </tr>\n",
       "    <tr>\n",
       "      <th>Community</th>\n",
       "      <th></th>\n",
       "      <th></th>\n",
       "      <th></th>\n",
       "    </tr>\n",
       "  </thead>\n",
       "  <tbody>\n",
       "    <tr>\n",
       "      <th>269</th>\n",
       "      <td>28.461538</td>\n",
       "      <td>38.076923</td>\n",
       "      <td>33.461538</td>\n",
       "    </tr>\n",
       "    <tr>\n",
       "      <th>336</th>\n",
       "      <td>29.530201</td>\n",
       "      <td>13.422819</td>\n",
       "      <td>57.046980</td>\n",
       "    </tr>\n",
       "    <tr>\n",
       "      <th>368</th>\n",
       "      <td>44.714640</td>\n",
       "      <td>11.315136</td>\n",
       "      <td>43.970223</td>\n",
       "    </tr>\n",
       "    <tr>\n",
       "      <th>438</th>\n",
       "      <td>39.487179</td>\n",
       "      <td>39.487179</td>\n",
       "      <td>21.025641</td>\n",
       "    </tr>\n",
       "    <tr>\n",
       "      <th>1185</th>\n",
       "      <td>38.657407</td>\n",
       "      <td>49.845679</td>\n",
       "      <td>11.496914</td>\n",
       "    </tr>\n",
       "  </tbody>\n",
       "</table>\n",
       "</div>"
      ],
      "text/plain": [
       "Status:LABEL  Hyperglycemia  Hypoglycemia     Normal\n",
       "Community                                           \n",
       "269               28.461538     38.076923  33.461538\n",
       "336               29.530201     13.422819  57.046980\n",
       "368               44.714640     11.315136  43.970223\n",
       "438               39.487179     39.487179  21.025641\n",
       "1185              38.657407     49.845679  11.496914"
      ]
     },
     "execution_count": 114,
     "metadata": {},
     "output_type": "execute_result"
    }
   ],
   "source": [
    "community_det_acc(Louv, nodes).head()"
   ]
  },
  {
   "cell_type": "code",
   "execution_count": 115,
   "metadata": {},
   "outputs": [
    {
     "data": {
      "text/html": [
       "<div>\n",
       "<style scoped>\n",
       "    .dataframe tbody tr th:only-of-type {\n",
       "        vertical-align: middle;\n",
       "    }\n",
       "\n",
       "    .dataframe tbody tr th {\n",
       "        vertical-align: top;\n",
       "    }\n",
       "\n",
       "    .dataframe thead th {\n",
       "        text-align: right;\n",
       "    }\n",
       "</style>\n",
       "<table border=\"1\" class=\"dataframe\">\n",
       "  <thead>\n",
       "    <tr style=\"text-align: right;\">\n",
       "      <th>Status:LABEL</th>\n",
       "      <th>Hyperglycemia</th>\n",
       "      <th>Hypoglycemia</th>\n",
       "      <th>Normal</th>\n",
       "    </tr>\n",
       "    <tr>\n",
       "      <th>Community</th>\n",
       "      <th></th>\n",
       "      <th></th>\n",
       "      <th></th>\n",
       "    </tr>\n",
       "  </thead>\n",
       "  <tbody>\n",
       "    <tr>\n",
       "      <th>1</th>\n",
       "      <td>28.804429</td>\n",
       "      <td>17.970971</td>\n",
       "      <td>53.224600</td>\n",
       "    </tr>\n",
       "    <tr>\n",
       "      <th>6</th>\n",
       "      <td>27.483772</td>\n",
       "      <td>33.986137</td>\n",
       "      <td>38.530091</td>\n",
       "    </tr>\n",
       "    <tr>\n",
       "      <th>27</th>\n",
       "      <td>32.258270</td>\n",
       "      <td>50.928753</td>\n",
       "      <td>16.812977</td>\n",
       "    </tr>\n",
       "    <tr>\n",
       "      <th>66</th>\n",
       "      <td>15.248227</td>\n",
       "      <td>35.106383</td>\n",
       "      <td>49.645390</td>\n",
       "    </tr>\n",
       "    <tr>\n",
       "      <th>78</th>\n",
       "      <td>7.936508</td>\n",
       "      <td>50.793651</td>\n",
       "      <td>41.269841</td>\n",
       "    </tr>\n",
       "  </tbody>\n",
       "</table>\n",
       "</div>"
      ],
      "text/plain": [
       "Status:LABEL  Hyperglycemia  Hypoglycemia     Normal\n",
       "Community                                           \n",
       "1                 28.804429     17.970971  53.224600\n",
       "6                 27.483772     33.986137  38.530091\n",
       "27                32.258270     50.928753  16.812977\n",
       "66                15.248227     35.106383  49.645390\n",
       "78                 7.936508     50.793651  41.269841"
      ]
     },
     "execution_count": 115,
     "metadata": {},
     "output_type": "execute_result"
    }
   ],
   "source": [
    "community_det_acc(LabelProp, nodes).head()"
   ]
  },
  {
   "cell_type": "code",
   "execution_count": 116,
   "metadata": {},
   "outputs": [
    {
     "data": {
      "text/html": [
       "<div>\n",
       "<style scoped>\n",
       "    .dataframe tbody tr th:only-of-type {\n",
       "        vertical-align: middle;\n",
       "    }\n",
       "\n",
       "    .dataframe tbody tr th {\n",
       "        vertical-align: top;\n",
       "    }\n",
       "\n",
       "    .dataframe thead th {\n",
       "        text-align: right;\n",
       "    }\n",
       "</style>\n",
       "<table border=\"1\" class=\"dataframe\">\n",
       "  <thead>\n",
       "    <tr style=\"text-align: right;\">\n",
       "      <th>Status:LABEL</th>\n",
       "      <th>Hyperglycemia</th>\n",
       "      <th>Hypoglycemia</th>\n",
       "      <th>Normal</th>\n",
       "    </tr>\n",
       "    <tr>\n",
       "      <th>Community</th>\n",
       "      <th></th>\n",
       "      <th></th>\n",
       "      <th></th>\n",
       "    </tr>\n",
       "  </thead>\n",
       "  <tbody>\n",
       "    <tr>\n",
       "      <th>0</th>\n",
       "      <td>21.252796</td>\n",
       "      <td>41.387025</td>\n",
       "      <td>37.360179</td>\n",
       "    </tr>\n",
       "    <tr>\n",
       "      <th>1</th>\n",
       "      <td>29.411765</td>\n",
       "      <td>33.564014</td>\n",
       "      <td>37.024221</td>\n",
       "    </tr>\n",
       "    <tr>\n",
       "      <th>2</th>\n",
       "      <td>19.020173</td>\n",
       "      <td>40.634006</td>\n",
       "      <td>40.345821</td>\n",
       "    </tr>\n",
       "    <tr>\n",
       "      <th>3</th>\n",
       "      <td>32.459016</td>\n",
       "      <td>37.049180</td>\n",
       "      <td>30.491803</td>\n",
       "    </tr>\n",
       "    <tr>\n",
       "      <th>4</th>\n",
       "      <td>16.923077</td>\n",
       "      <td>36.923077</td>\n",
       "      <td>46.153846</td>\n",
       "    </tr>\n",
       "  </tbody>\n",
       "</table>\n",
       "</div>"
      ],
      "text/plain": [
       "Status:LABEL  Hyperglycemia  Hypoglycemia     Normal\n",
       "Community                                           \n",
       "0                 21.252796     41.387025  37.360179\n",
       "1                 29.411765     33.564014  37.024221\n",
       "2                 19.020173     40.634006  40.345821\n",
       "3                 32.459016     37.049180  30.491803\n",
       "4                 16.923077     36.923077  46.153846"
      ]
     },
     "execution_count": 116,
     "metadata": {},
     "output_type": "execute_result"
    }
   ],
   "source": [
    "community_det_acc(Leiden, nodes).head()"
   ]
  }
 ],
 "metadata": {
  "kernelspec": {
   "display_name": "Python 3",
   "language": "python",
   "name": "python3"
  },
  "language_info": {
   "codemirror_mode": {
    "name": "ipython",
    "version": 3
   },
   "file_extension": ".py",
   "mimetype": "text/x-python",
   "name": "python",
   "nbconvert_exporter": "python",
   "pygments_lexer": "ipython3",
   "version": "3.12.1"
  }
 },
 "nbformat": 4,
 "nbformat_minor": 2
}
