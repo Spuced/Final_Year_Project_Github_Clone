{
 "cells": [
  {
   "cell_type": "markdown",
   "metadata": {},
   "source": [
    "### This aims to classify the exosome staus based on a featureset derrived from the peaks."
   ]
  },
  {
   "cell_type": "markdown",
   "metadata": {},
   "source": [
    "Lets test different spectral cleaning parameters"
   ]
  },
  {
   "cell_type": "markdown",
   "metadata": {},
   "source": [
    "Import Libraries"
   ]
  },
  {
   "cell_type": "code",
   "execution_count": 1,
   "metadata": {},
   "outputs": [],
   "source": [
    "import pandas as pd\n",
    "import seaborn as sns\n",
    "import numpy as np\n",
    "from scipy.signal import savgol_filter\n",
    "from scipy import sparse\n",
    "from scipy.sparse.linalg import spsolve\n",
    "from sklearn.ensemble import RandomForestClassifier\n",
    "from sklearn.ensemble import ExtraTreesClassifier\n",
    "from sklearn.metrics import accuracy_score, classification_report, confusion_matrix\n",
    "from sklearn.model_selection import cross_val_score\n",
    "from sklearn.model_selection import StratifiedKFold, KFold"
   ]
  },
  {
   "cell_type": "markdown",
   "metadata": {},
   "source": [
    "Read the spectral data"
   ]
  },
  {
   "cell_type": "code",
   "execution_count": 2,
   "metadata": {},
   "outputs": [],
   "source": [
    "df = pd.read_csv(\"../../data/exosomes.raw_spectrum_1.csv\")"
   ]
  },
  {
   "cell_type": "code",
   "execution_count": 3,
   "metadata": {},
   "outputs": [
    {
     "data": {
      "text/html": [
       "<div>\n",
       "<style scoped>\n",
       "    .dataframe tbody tr th:only-of-type {\n",
       "        vertical-align: middle;\n",
       "    }\n",
       "\n",
       "    .dataframe tbody tr th {\n",
       "        vertical-align: top;\n",
       "    }\n",
       "\n",
       "    .dataframe thead th {\n",
       "        text-align: right;\n",
       "    }\n",
       "</style>\n",
       "<table border=\"1\" class=\"dataframe\">\n",
       "  <thead>\n",
       "    <tr style=\"text-align: right;\">\n",
       "      <th></th>\n",
       "      <th>SpecID</th>\n",
       "      <th>Seq</th>\n",
       "      <th>WaveNumber</th>\n",
       "      <th>Absorbance</th>\n",
       "      <th>SurID</th>\n",
       "      <th>Status</th>\n",
       "    </tr>\n",
       "  </thead>\n",
       "  <tbody>\n",
       "    <tr>\n",
       "      <th>0</th>\n",
       "      <td>201210-1-00</td>\n",
       "      <td>0</td>\n",
       "      <td>200.00000</td>\n",
       "      <td>2709.3699</td>\n",
       "      <td>201210-1</td>\n",
       "      <td>Normal</td>\n",
       "    </tr>\n",
       "    <tr>\n",
       "      <th>1</th>\n",
       "      <td>201210-1-00</td>\n",
       "      <td>1</td>\n",
       "      <td>200.68336</td>\n",
       "      <td>2697.1318</td>\n",
       "      <td>201210-1</td>\n",
       "      <td>Normal</td>\n",
       "    </tr>\n",
       "    <tr>\n",
       "      <th>2</th>\n",
       "      <td>201210-1-00</td>\n",
       "      <td>2</td>\n",
       "      <td>201.36674</td>\n",
       "      <td>2696.0413</td>\n",
       "      <td>201210-1</td>\n",
       "      <td>Normal</td>\n",
       "    </tr>\n",
       "    <tr>\n",
       "      <th>3</th>\n",
       "      <td>201210-1-00</td>\n",
       "      <td>3</td>\n",
       "      <td>202.05011</td>\n",
       "      <td>2678.5925</td>\n",
       "      <td>201210-1</td>\n",
       "      <td>Normal</td>\n",
       "    </tr>\n",
       "    <tr>\n",
       "      <th>4</th>\n",
       "      <td>201210-1-00</td>\n",
       "      <td>4</td>\n",
       "      <td>202.73349</td>\n",
       "      <td>2670.8928</td>\n",
       "      <td>201210-1</td>\n",
       "      <td>Normal</td>\n",
       "    </tr>\n",
       "    <tr>\n",
       "      <th>...</th>\n",
       "      <td>...</td>\n",
       "      <td>...</td>\n",
       "      <td>...</td>\n",
       "      <td>...</td>\n",
       "      <td>...</td>\n",
       "      <td>...</td>\n",
       "    </tr>\n",
       "    <tr>\n",
       "      <th>8023570</th>\n",
       "      <td>210526-3-09</td>\n",
       "      <td>2630</td>\n",
       "      <td>1997.26650</td>\n",
       "      <td>1321.0371</td>\n",
       "      <td>210526-3</td>\n",
       "      <td>Hyperglycemia</td>\n",
       "    </tr>\n",
       "    <tr>\n",
       "      <th>8023571</th>\n",
       "      <td>210526-3-09</td>\n",
       "      <td>2631</td>\n",
       "      <td>1997.94980</td>\n",
       "      <td>1316.4056</td>\n",
       "      <td>210526-3</td>\n",
       "      <td>Hyperglycemia</td>\n",
       "    </tr>\n",
       "    <tr>\n",
       "      <th>8023572</th>\n",
       "      <td>210526-3-09</td>\n",
       "      <td>2632</td>\n",
       "      <td>1998.63330</td>\n",
       "      <td>1311.2640</td>\n",
       "      <td>210526-3</td>\n",
       "      <td>Hyperglycemia</td>\n",
       "    </tr>\n",
       "    <tr>\n",
       "      <th>8023573</th>\n",
       "      <td>210526-3-09</td>\n",
       "      <td>2633</td>\n",
       "      <td>1999.31670</td>\n",
       "      <td>1318.0909</td>\n",
       "      <td>210526-3</td>\n",
       "      <td>Hyperglycemia</td>\n",
       "    </tr>\n",
       "    <tr>\n",
       "      <th>8023574</th>\n",
       "      <td>210526-3-09</td>\n",
       "      <td>2634</td>\n",
       "      <td>2000.00000</td>\n",
       "      <td>1300.7710</td>\n",
       "      <td>210526-3</td>\n",
       "      <td>Hyperglycemia</td>\n",
       "    </tr>\n",
       "  </tbody>\n",
       "</table>\n",
       "<p>8023575 rows × 6 columns</p>\n",
       "</div>"
      ],
      "text/plain": [
       "              SpecID   Seq  WaveNumber  Absorbance     SurID         Status\n",
       "0        201210-1-00     0   200.00000   2709.3699  201210-1         Normal\n",
       "1        201210-1-00     1   200.68336   2697.1318  201210-1         Normal\n",
       "2        201210-1-00     2   201.36674   2696.0413  201210-1         Normal\n",
       "3        201210-1-00     3   202.05011   2678.5925  201210-1         Normal\n",
       "4        201210-1-00     4   202.73349   2670.8928  201210-1         Normal\n",
       "...              ...   ...         ...         ...       ...            ...\n",
       "8023570  210526-3-09  2630  1997.26650   1321.0371  210526-3  Hyperglycemia\n",
       "8023571  210526-3-09  2631  1997.94980   1316.4056  210526-3  Hyperglycemia\n",
       "8023572  210526-3-09  2632  1998.63330   1311.2640  210526-3  Hyperglycemia\n",
       "8023573  210526-3-09  2633  1999.31670   1318.0909  210526-3  Hyperglycemia\n",
       "8023574  210526-3-09  2634  2000.00000   1300.7710  210526-3  Hyperglycemia\n",
       "\n",
       "[8023575 rows x 6 columns]"
      ]
     },
     "execution_count": 3,
     "metadata": {},
     "output_type": "execute_result"
    }
   ],
   "source": [
    "df"
   ]
  },
  {
   "cell_type": "code",
   "execution_count": 4,
   "metadata": {},
   "outputs": [
    {
     "data": {
      "text/plain": [
       "array(['201210-1-00', '201210-1-01', '201210-1-02', ..., '210526-3-07',\n",
       "       '210526-3-08', '210526-3-09'], dtype=object)"
      ]
     },
     "execution_count": 4,
     "metadata": {},
     "output_type": "execute_result"
    }
   ],
   "source": [
    "df['SpecID'].unique()"
   ]
  },
  {
   "cell_type": "code",
   "execution_count": 5,
   "metadata": {},
   "outputs": [
    {
     "name": "stdout",
     "output_type": "stream",
     "text": [
      "<class 'pandas.core.frame.DataFrame'>\n",
      "RangeIndex: 8023575 entries, 0 to 8023574\n",
      "Data columns (total 6 columns):\n",
      " #   Column      Dtype  \n",
      "---  ------      -----  \n",
      " 0   SpecID      object \n",
      " 1   Seq         int64  \n",
      " 2   WaveNumber  float64\n",
      " 3   Absorbance  float64\n",
      " 4   SurID       object \n",
      " 5   Status      object \n",
      "dtypes: float64(2), int64(1), object(3)\n",
      "memory usage: 367.3+ MB\n"
     ]
    }
   ],
   "source": [
    "df.info()"
   ]
  },
  {
   "cell_type": "markdown",
   "metadata": {},
   "source": [
    "#### Train an Extra Trees Classifier on the full spectrum."
   ]
  },
  {
   "cell_type": "code",
   "execution_count": 6,
   "metadata": {},
   "outputs": [],
   "source": [
    "def prepare_wavelength_df(df, absorbance_col, status_col='Status'):\n",
    "\n",
    "    # Pivot the DataFrame to get wavelengths as columns and absorbance values\n",
    "    wavelength_df = df.pivot(index='SpecID', columns='WaveNumber', values=absorbance_col).reset_index()\n",
    "    wavelength_df.columns.name = None\n",
    "\n",
    "    # Merge with the statuses based on SpecID\n",
    "    statuses = df[['SpecID', status_col]].drop_duplicates()\n",
    "    wavelength_df = pd.merge(wavelength_df, statuses, on='SpecID')\n",
    "\n",
    "    # Set SpecID as the index\n",
    "    wavelength_df = wavelength_df.set_index('SpecID')\n",
    "\n",
    "    return wavelength_df"
   ]
  },
  {
   "cell_type": "code",
   "execution_count": 7,
   "metadata": {},
   "outputs": [],
   "source": [
    "wavelength_df = prepare_wavelength_df(df, 'Absorbance')"
   ]
  },
  {
   "cell_type": "code",
   "execution_count": 8,
   "metadata": {},
   "outputs": [
    {
     "data": {
      "text/html": [
       "<div>\n",
       "<style scoped>\n",
       "    .dataframe tbody tr th:only-of-type {\n",
       "        vertical-align: middle;\n",
       "    }\n",
       "\n",
       "    .dataframe tbody tr th {\n",
       "        vertical-align: top;\n",
       "    }\n",
       "\n",
       "    .dataframe thead th {\n",
       "        text-align: right;\n",
       "    }\n",
       "</style>\n",
       "<table border=\"1\" class=\"dataframe\">\n",
       "  <thead>\n",
       "    <tr style=\"text-align: right;\">\n",
       "      <th></th>\n",
       "      <th>200.0</th>\n",
       "      <th>200.68336</th>\n",
       "      <th>201.36674</th>\n",
       "      <th>202.05011</th>\n",
       "      <th>202.73349</th>\n",
       "      <th>203.41685</th>\n",
       "      <th>204.10023</th>\n",
       "      <th>204.7836</th>\n",
       "      <th>205.46696</th>\n",
       "      <th>206.15034</th>\n",
       "      <th>...</th>\n",
       "      <th>1994.5331</th>\n",
       "      <th>1995.2164</th>\n",
       "      <th>1995.8998</th>\n",
       "      <th>1996.5831</th>\n",
       "      <th>1997.2665</th>\n",
       "      <th>1997.9498</th>\n",
       "      <th>1998.6333</th>\n",
       "      <th>1999.3167</th>\n",
       "      <th>2000.0</th>\n",
       "      <th>Status</th>\n",
       "    </tr>\n",
       "    <tr>\n",
       "      <th>SpecID</th>\n",
       "      <th></th>\n",
       "      <th></th>\n",
       "      <th></th>\n",
       "      <th></th>\n",
       "      <th></th>\n",
       "      <th></th>\n",
       "      <th></th>\n",
       "      <th></th>\n",
       "      <th></th>\n",
       "      <th></th>\n",
       "      <th></th>\n",
       "      <th></th>\n",
       "      <th></th>\n",
       "      <th></th>\n",
       "      <th></th>\n",
       "      <th></th>\n",
       "      <th></th>\n",
       "      <th></th>\n",
       "      <th></th>\n",
       "      <th></th>\n",
       "      <th></th>\n",
       "    </tr>\n",
       "  </thead>\n",
       "  <tbody>\n",
       "    <tr>\n",
       "      <th>201210-1-00</th>\n",
       "      <td>2709.3699</td>\n",
       "      <td>2697.1318</td>\n",
       "      <td>2696.0413</td>\n",
       "      <td>2678.5925</td>\n",
       "      <td>2670.8928</td>\n",
       "      <td>2652.5435</td>\n",
       "      <td>2646.3245</td>\n",
       "      <td>2690.3240</td>\n",
       "      <td>2620.3228</td>\n",
       "      <td>2609.0132</td>\n",
       "      <td>...</td>\n",
       "      <td>1100.5006</td>\n",
       "      <td>1088.7416</td>\n",
       "      <td>1092.1083</td>\n",
       "      <td>1104.9304</td>\n",
       "      <td>1084.1281</td>\n",
       "      <td>1076.9363</td>\n",
       "      <td>1089.0814</td>\n",
       "      <td>1092.8083</td>\n",
       "      <td>1086.6990</td>\n",
       "      <td>Normal</td>\n",
       "    </tr>\n",
       "    <tr>\n",
       "      <th>201210-1-01</th>\n",
       "      <td>2979.3169</td>\n",
       "      <td>2985.7070</td>\n",
       "      <td>2970.1677</td>\n",
       "      <td>2947.0950</td>\n",
       "      <td>2941.8743</td>\n",
       "      <td>2942.4648</td>\n",
       "      <td>2939.9595</td>\n",
       "      <td>2938.4509</td>\n",
       "      <td>2930.9204</td>\n",
       "      <td>2915.7979</td>\n",
       "      <td>...</td>\n",
       "      <td>1246.2748</td>\n",
       "      <td>1270.4456</td>\n",
       "      <td>1272.1703</td>\n",
       "      <td>1271.8768</td>\n",
       "      <td>1270.0718</td>\n",
       "      <td>1283.9667</td>\n",
       "      <td>1286.9803</td>\n",
       "      <td>1276.4037</td>\n",
       "      <td>1268.0922</td>\n",
       "      <td>Normal</td>\n",
       "    </tr>\n",
       "    <tr>\n",
       "      <th>201210-1-02</th>\n",
       "      <td>3702.5627</td>\n",
       "      <td>3592.4902</td>\n",
       "      <td>3640.8423</td>\n",
       "      <td>3593.4150</td>\n",
       "      <td>3583.6560</td>\n",
       "      <td>3583.4790</td>\n",
       "      <td>3554.3279</td>\n",
       "      <td>3507.1514</td>\n",
       "      <td>3494.4998</td>\n",
       "      <td>3490.4370</td>\n",
       "      <td>...</td>\n",
       "      <td>2028.6669</td>\n",
       "      <td>2046.8510</td>\n",
       "      <td>2094.8308</td>\n",
       "      <td>2067.8396</td>\n",
       "      <td>2043.0687</td>\n",
       "      <td>2063.5925</td>\n",
       "      <td>2086.6956</td>\n",
       "      <td>2064.7766</td>\n",
       "      <td>2064.2126</td>\n",
       "      <td>Normal</td>\n",
       "    </tr>\n",
       "    <tr>\n",
       "      <th>201210-1-03</th>\n",
       "      <td>8129.5938</td>\n",
       "      <td>8222.3184</td>\n",
       "      <td>8370.2803</td>\n",
       "      <td>8534.4150</td>\n",
       "      <td>8684.1543</td>\n",
       "      <td>8805.7393</td>\n",
       "      <td>8964.5283</td>\n",
       "      <td>9220.3066</td>\n",
       "      <td>9257.7461</td>\n",
       "      <td>9399.7734</td>\n",
       "      <td>...</td>\n",
       "      <td>1682.3824</td>\n",
       "      <td>1694.8450</td>\n",
       "      <td>1710.2760</td>\n",
       "      <td>1714.6768</td>\n",
       "      <td>1746.4635</td>\n",
       "      <td>1705.4204</td>\n",
       "      <td>1703.1569</td>\n",
       "      <td>1705.2943</td>\n",
       "      <td>1687.0480</td>\n",
       "      <td>Normal</td>\n",
       "    </tr>\n",
       "    <tr>\n",
       "      <th>201210-1-04</th>\n",
       "      <td>3468.5203</td>\n",
       "      <td>3463.0237</td>\n",
       "      <td>3475.2666</td>\n",
       "      <td>3468.5999</td>\n",
       "      <td>3451.7124</td>\n",
       "      <td>3439.6379</td>\n",
       "      <td>3439.1538</td>\n",
       "      <td>3444.8345</td>\n",
       "      <td>3446.6240</td>\n",
       "      <td>3438.2632</td>\n",
       "      <td>...</td>\n",
       "      <td>1725.4711</td>\n",
       "      <td>1722.2786</td>\n",
       "      <td>1757.0481</td>\n",
       "      <td>1745.6029</td>\n",
       "      <td>1728.0017</td>\n",
       "      <td>1750.2548</td>\n",
       "      <td>1747.0122</td>\n",
       "      <td>1756.1727</td>\n",
       "      <td>1747.9722</td>\n",
       "      <td>Normal</td>\n",
       "    </tr>\n",
       "  </tbody>\n",
       "</table>\n",
       "<p>5 rows × 2636 columns</p>\n",
       "</div>"
      ],
      "text/plain": [
       "                 200.0  200.68336  201.36674  202.05011  202.73349  203.41685  \\\n",
       "SpecID                                                                          \n",
       "201210-1-00  2709.3699  2697.1318  2696.0413  2678.5925  2670.8928  2652.5435   \n",
       "201210-1-01  2979.3169  2985.7070  2970.1677  2947.0950  2941.8743  2942.4648   \n",
       "201210-1-02  3702.5627  3592.4902  3640.8423  3593.4150  3583.6560  3583.4790   \n",
       "201210-1-03  8129.5938  8222.3184  8370.2803  8534.4150  8684.1543  8805.7393   \n",
       "201210-1-04  3468.5203  3463.0237  3475.2666  3468.5999  3451.7124  3439.6379   \n",
       "\n",
       "             204.10023   204.7836  205.46696  206.15034  ...  1994.5331  \\\n",
       "SpecID                                                   ...              \n",
       "201210-1-00  2646.3245  2690.3240  2620.3228  2609.0132  ...  1100.5006   \n",
       "201210-1-01  2939.9595  2938.4509  2930.9204  2915.7979  ...  1246.2748   \n",
       "201210-1-02  3554.3279  3507.1514  3494.4998  3490.4370  ...  2028.6669   \n",
       "201210-1-03  8964.5283  9220.3066  9257.7461  9399.7734  ...  1682.3824   \n",
       "201210-1-04  3439.1538  3444.8345  3446.6240  3438.2632  ...  1725.4711   \n",
       "\n",
       "             1995.2164  1995.8998  1996.5831  1997.2665  1997.9498  1998.6333  \\\n",
       "SpecID                                                                          \n",
       "201210-1-00  1088.7416  1092.1083  1104.9304  1084.1281  1076.9363  1089.0814   \n",
       "201210-1-01  1270.4456  1272.1703  1271.8768  1270.0718  1283.9667  1286.9803   \n",
       "201210-1-02  2046.8510  2094.8308  2067.8396  2043.0687  2063.5925  2086.6956   \n",
       "201210-1-03  1694.8450  1710.2760  1714.6768  1746.4635  1705.4204  1703.1569   \n",
       "201210-1-04  1722.2786  1757.0481  1745.6029  1728.0017  1750.2548  1747.0122   \n",
       "\n",
       "             1999.3167     2000.0  Status  \n",
       "SpecID                                     \n",
       "201210-1-00  1092.8083  1086.6990  Normal  \n",
       "201210-1-01  1276.4037  1268.0922  Normal  \n",
       "201210-1-02  2064.7766  2064.2126  Normal  \n",
       "201210-1-03  1705.2943  1687.0480  Normal  \n",
       "201210-1-04  1756.1727  1747.9722  Normal  \n",
       "\n",
       "[5 rows x 2636 columns]"
      ]
     },
     "execution_count": 8,
     "metadata": {},
     "output_type": "execute_result"
    }
   ],
   "source": [
    "wavelength_df.head()"
   ]
  },
  {
   "cell_type": "markdown",
   "metadata": {},
   "source": [
    ">Train an Extra Trees Classifier on the Raw Spectrum and evaluate it with 10-fold cross validation."
   ]
  },
  {
   "cell_type": "code",
   "execution_count": 9,
   "metadata": {},
   "outputs": [],
   "source": [
    "def evaluate_extra_trees(df):\n",
    "    # Splitting the dataframe into features (X) and target variable (y)\n",
    "    X = df.drop(['Status'], axis=1)\n",
    "    y = df['Status']\n",
    "    \n",
    "    # Creating the Extra Trees classifier\n",
    "    et = ExtraTreesClassifier(random_state=1234)\n",
    "    \n",
    "    # Using StratifiedKFold for classification tasks\n",
    "    #cv = StratifiedKFold(n_splits=10, shuffle=True, random_state=1234)\n",
    "    cv = KFold(n_splits=10, shuffle=True, random_state=1234)\n",
    "\n",
    "    \n",
    "    # Getting cross-validation scores\n",
    "    scores = cross_val_score(et, X, y, cv=cv, scoring='accuracy')\n",
    "    \n",
    "    # Displaying the results\n",
    "    print(f'{et.__class__.__name__} Cross-Validation Accuracy: {np.mean(scores):.4f} +/- {np.std(scores):.4f}')"
   ]
  },
  {
   "cell_type": "code",
   "execution_count": 10,
   "metadata": {},
   "outputs": [
    {
     "name": "stdout",
     "output_type": "stream",
     "text": [
      "ExtraTreesClassifier Cross-Validation Accuracy: 0.8841 +/- 0.0178\n"
     ]
    }
   ],
   "source": [
    "evaluate_extra_trees(wavelength_df)"
   ]
  },
  {
   "cell_type": "markdown",
   "metadata": {},
   "source": [
    ">Scale the absorbances to the highest peak in each spectrum."
   ]
  },
  {
   "cell_type": "code",
   "execution_count": 11,
   "metadata": {},
   "outputs": [],
   "source": [
    "def normalise(absorbances):\n",
    "    max_value = np.max(absorbances)\n",
    "    normalized_absorbances = absorbances / max_value\n",
    "    return normalized_absorbances\n",
    "\n",
    "df['Scaled_Absorbance'] = df.groupby('SpecID')['Absorbance'].transform(lambda x: normalise(x))"
   ]
  },
  {
   "cell_type": "code",
   "execution_count": 12,
   "metadata": {},
   "outputs": [
    {
     "data": {
      "text/html": [
       "<div>\n",
       "<style scoped>\n",
       "    .dataframe tbody tr th:only-of-type {\n",
       "        vertical-align: middle;\n",
       "    }\n",
       "\n",
       "    .dataframe tbody tr th {\n",
       "        vertical-align: top;\n",
       "    }\n",
       "\n",
       "    .dataframe thead th {\n",
       "        text-align: right;\n",
       "    }\n",
       "</style>\n",
       "<table border=\"1\" class=\"dataframe\">\n",
       "  <thead>\n",
       "    <tr style=\"text-align: right;\">\n",
       "      <th></th>\n",
       "      <th>SpecID</th>\n",
       "      <th>Seq</th>\n",
       "      <th>WaveNumber</th>\n",
       "      <th>Absorbance</th>\n",
       "      <th>SurID</th>\n",
       "      <th>Status</th>\n",
       "      <th>Scaled_Absorbance</th>\n",
       "    </tr>\n",
       "  </thead>\n",
       "  <tbody>\n",
       "    <tr>\n",
       "      <th>0</th>\n",
       "      <td>201210-1-00</td>\n",
       "      <td>0</td>\n",
       "      <td>200.00000</td>\n",
       "      <td>2709.3699</td>\n",
       "      <td>201210-1</td>\n",
       "      <td>Normal</td>\n",
       "      <td>1.000000</td>\n",
       "    </tr>\n",
       "    <tr>\n",
       "      <th>1</th>\n",
       "      <td>201210-1-00</td>\n",
       "      <td>1</td>\n",
       "      <td>200.68336</td>\n",
       "      <td>2697.1318</td>\n",
       "      <td>201210-1</td>\n",
       "      <td>Normal</td>\n",
       "      <td>0.995483</td>\n",
       "    </tr>\n",
       "    <tr>\n",
       "      <th>2</th>\n",
       "      <td>201210-1-00</td>\n",
       "      <td>2</td>\n",
       "      <td>201.36674</td>\n",
       "      <td>2696.0413</td>\n",
       "      <td>201210-1</td>\n",
       "      <td>Normal</td>\n",
       "      <td>0.995081</td>\n",
       "    </tr>\n",
       "    <tr>\n",
       "      <th>3</th>\n",
       "      <td>201210-1-00</td>\n",
       "      <td>3</td>\n",
       "      <td>202.05011</td>\n",
       "      <td>2678.5925</td>\n",
       "      <td>201210-1</td>\n",
       "      <td>Normal</td>\n",
       "      <td>0.988640</td>\n",
       "    </tr>\n",
       "    <tr>\n",
       "      <th>4</th>\n",
       "      <td>201210-1-00</td>\n",
       "      <td>4</td>\n",
       "      <td>202.73349</td>\n",
       "      <td>2670.8928</td>\n",
       "      <td>201210-1</td>\n",
       "      <td>Normal</td>\n",
       "      <td>0.985799</td>\n",
       "    </tr>\n",
       "  </tbody>\n",
       "</table>\n",
       "</div>"
      ],
      "text/plain": [
       "        SpecID  Seq  WaveNumber  Absorbance     SurID  Status  \\\n",
       "0  201210-1-00    0   200.00000   2709.3699  201210-1  Normal   \n",
       "1  201210-1-00    1   200.68336   2697.1318  201210-1  Normal   \n",
       "2  201210-1-00    2   201.36674   2696.0413  201210-1  Normal   \n",
       "3  201210-1-00    3   202.05011   2678.5925  201210-1  Normal   \n",
       "4  201210-1-00    4   202.73349   2670.8928  201210-1  Normal   \n",
       "\n",
       "   Scaled_Absorbance  \n",
       "0           1.000000  \n",
       "1           0.995483  \n",
       "2           0.995081  \n",
       "3           0.988640  \n",
       "4           0.985799  "
      ]
     },
     "execution_count": 12,
     "metadata": {},
     "output_type": "execute_result"
    }
   ],
   "source": [
    "df.head()"
   ]
  },
  {
   "cell_type": "code",
   "execution_count": 13,
   "metadata": {},
   "outputs": [],
   "source": [
    "scaled_raw_df = prepare_wavelength_df(df, 'Scaled_Absorbance')"
   ]
  },
  {
   "cell_type": "code",
   "execution_count": 14,
   "metadata": {},
   "outputs": [
    {
     "data": {
      "text/html": [
       "<div>\n",
       "<style scoped>\n",
       "    .dataframe tbody tr th:only-of-type {\n",
       "        vertical-align: middle;\n",
       "    }\n",
       "\n",
       "    .dataframe tbody tr th {\n",
       "        vertical-align: top;\n",
       "    }\n",
       "\n",
       "    .dataframe thead th {\n",
       "        text-align: right;\n",
       "    }\n",
       "</style>\n",
       "<table border=\"1\" class=\"dataframe\">\n",
       "  <thead>\n",
       "    <tr style=\"text-align: right;\">\n",
       "      <th></th>\n",
       "      <th>200.0</th>\n",
       "      <th>200.68336</th>\n",
       "      <th>201.36674</th>\n",
       "      <th>202.05011</th>\n",
       "      <th>202.73349</th>\n",
       "      <th>203.41685</th>\n",
       "      <th>204.10023</th>\n",
       "      <th>204.7836</th>\n",
       "      <th>205.46696</th>\n",
       "      <th>206.15034</th>\n",
       "      <th>...</th>\n",
       "      <th>1994.5331</th>\n",
       "      <th>1995.2164</th>\n",
       "      <th>1995.8998</th>\n",
       "      <th>1996.5831</th>\n",
       "      <th>1997.2665</th>\n",
       "      <th>1997.9498</th>\n",
       "      <th>1998.6333</th>\n",
       "      <th>1999.3167</th>\n",
       "      <th>2000.0</th>\n",
       "      <th>Status</th>\n",
       "    </tr>\n",
       "    <tr>\n",
       "      <th>SpecID</th>\n",
       "      <th></th>\n",
       "      <th></th>\n",
       "      <th></th>\n",
       "      <th></th>\n",
       "      <th></th>\n",
       "      <th></th>\n",
       "      <th></th>\n",
       "      <th></th>\n",
       "      <th></th>\n",
       "      <th></th>\n",
       "      <th></th>\n",
       "      <th></th>\n",
       "      <th></th>\n",
       "      <th></th>\n",
       "      <th></th>\n",
       "      <th></th>\n",
       "      <th></th>\n",
       "      <th></th>\n",
       "      <th></th>\n",
       "      <th></th>\n",
       "      <th></th>\n",
       "    </tr>\n",
       "  </thead>\n",
       "  <tbody>\n",
       "    <tr>\n",
       "      <th>201210-1-00</th>\n",
       "      <td>1.000000</td>\n",
       "      <td>0.995483</td>\n",
       "      <td>0.995081</td>\n",
       "      <td>0.988640</td>\n",
       "      <td>0.985799</td>\n",
       "      <td>0.979026</td>\n",
       "      <td>0.976731</td>\n",
       "      <td>0.992970</td>\n",
       "      <td>0.967134</td>\n",
       "      <td>0.962959</td>\n",
       "      <td>...</td>\n",
       "      <td>0.406183</td>\n",
       "      <td>0.401843</td>\n",
       "      <td>0.403086</td>\n",
       "      <td>0.407818</td>\n",
       "      <td>0.400140</td>\n",
       "      <td>0.397486</td>\n",
       "      <td>0.401969</td>\n",
       "      <td>0.403344</td>\n",
       "      <td>0.401089</td>\n",
       "      <td>Normal</td>\n",
       "    </tr>\n",
       "    <tr>\n",
       "      <th>201210-1-01</th>\n",
       "      <td>0.997860</td>\n",
       "      <td>1.000000</td>\n",
       "      <td>0.994795</td>\n",
       "      <td>0.987068</td>\n",
       "      <td>0.985319</td>\n",
       "      <td>0.985517</td>\n",
       "      <td>0.984678</td>\n",
       "      <td>0.984173</td>\n",
       "      <td>0.981650</td>\n",
       "      <td>0.976585</td>\n",
       "      <td>...</td>\n",
       "      <td>0.417414</td>\n",
       "      <td>0.425509</td>\n",
       "      <td>0.426087</td>\n",
       "      <td>0.425988</td>\n",
       "      <td>0.425384</td>\n",
       "      <td>0.430038</td>\n",
       "      <td>0.431047</td>\n",
       "      <td>0.427505</td>\n",
       "      <td>0.424721</td>\n",
       "      <td>Normal</td>\n",
       "    </tr>\n",
       "    <tr>\n",
       "      <th>201210-1-02</th>\n",
       "      <td>1.000000</td>\n",
       "      <td>0.970271</td>\n",
       "      <td>0.983330</td>\n",
       "      <td>0.970521</td>\n",
       "      <td>0.967885</td>\n",
       "      <td>0.967837</td>\n",
       "      <td>0.959964</td>\n",
       "      <td>0.947223</td>\n",
       "      <td>0.943806</td>\n",
       "      <td>0.942708</td>\n",
       "      <td>...</td>\n",
       "      <td>0.547909</td>\n",
       "      <td>0.552820</td>\n",
       "      <td>0.565779</td>\n",
       "      <td>0.558489</td>\n",
       "      <td>0.551799</td>\n",
       "      <td>0.557342</td>\n",
       "      <td>0.563581</td>\n",
       "      <td>0.557661</td>\n",
       "      <td>0.557509</td>\n",
       "      <td>Normal</td>\n",
       "    </tr>\n",
       "    <tr>\n",
       "      <th>201210-1-03</th>\n",
       "      <td>0.785427</td>\n",
       "      <td>0.794385</td>\n",
       "      <td>0.808680</td>\n",
       "      <td>0.824538</td>\n",
       "      <td>0.839005</td>\n",
       "      <td>0.850751</td>\n",
       "      <td>0.866092</td>\n",
       "      <td>0.890804</td>\n",
       "      <td>0.894421</td>\n",
       "      <td>0.908143</td>\n",
       "      <td>...</td>\n",
       "      <td>0.162540</td>\n",
       "      <td>0.163745</td>\n",
       "      <td>0.165235</td>\n",
       "      <td>0.165661</td>\n",
       "      <td>0.168732</td>\n",
       "      <td>0.164766</td>\n",
       "      <td>0.164548</td>\n",
       "      <td>0.164754</td>\n",
       "      <td>0.162991</td>\n",
       "      <td>Normal</td>\n",
       "    </tr>\n",
       "    <tr>\n",
       "      <th>201210-1-04</th>\n",
       "      <td>0.998059</td>\n",
       "      <td>0.996477</td>\n",
       "      <td>1.000000</td>\n",
       "      <td>0.998082</td>\n",
       "      <td>0.993222</td>\n",
       "      <td>0.989748</td>\n",
       "      <td>0.989609</td>\n",
       "      <td>0.991243</td>\n",
       "      <td>0.991758</td>\n",
       "      <td>0.989352</td>\n",
       "      <td>...</td>\n",
       "      <td>0.496500</td>\n",
       "      <td>0.495582</td>\n",
       "      <td>0.505587</td>\n",
       "      <td>0.502293</td>\n",
       "      <td>0.497229</td>\n",
       "      <td>0.503632</td>\n",
       "      <td>0.502699</td>\n",
       "      <td>0.505335</td>\n",
       "      <td>0.502975</td>\n",
       "      <td>Normal</td>\n",
       "    </tr>\n",
       "  </tbody>\n",
       "</table>\n",
       "<p>5 rows × 2636 columns</p>\n",
       "</div>"
      ],
      "text/plain": [
       "                200.0  200.68336  201.36674  202.05011  202.73349  203.41685  \\\n",
       "SpecID                                                                         \n",
       "201210-1-00  1.000000   0.995483   0.995081   0.988640   0.985799   0.979026   \n",
       "201210-1-01  0.997860   1.000000   0.994795   0.987068   0.985319   0.985517   \n",
       "201210-1-02  1.000000   0.970271   0.983330   0.970521   0.967885   0.967837   \n",
       "201210-1-03  0.785427   0.794385   0.808680   0.824538   0.839005   0.850751   \n",
       "201210-1-04  0.998059   0.996477   1.000000   0.998082   0.993222   0.989748   \n",
       "\n",
       "             204.10023  204.7836  205.46696  206.15034  ...  1994.5331  \\\n",
       "SpecID                                                  ...              \n",
       "201210-1-00   0.976731  0.992970   0.967134   0.962959  ...   0.406183   \n",
       "201210-1-01   0.984678  0.984173   0.981650   0.976585  ...   0.417414   \n",
       "201210-1-02   0.959964  0.947223   0.943806   0.942708  ...   0.547909   \n",
       "201210-1-03   0.866092  0.890804   0.894421   0.908143  ...   0.162540   \n",
       "201210-1-04   0.989609  0.991243   0.991758   0.989352  ...   0.496500   \n",
       "\n",
       "             1995.2164  1995.8998  1996.5831  1997.2665  1997.9498  1998.6333  \\\n",
       "SpecID                                                                          \n",
       "201210-1-00   0.401843   0.403086   0.407818   0.400140   0.397486   0.401969   \n",
       "201210-1-01   0.425509   0.426087   0.425988   0.425384   0.430038   0.431047   \n",
       "201210-1-02   0.552820   0.565779   0.558489   0.551799   0.557342   0.563581   \n",
       "201210-1-03   0.163745   0.165235   0.165661   0.168732   0.164766   0.164548   \n",
       "201210-1-04   0.495582   0.505587   0.502293   0.497229   0.503632   0.502699   \n",
       "\n",
       "             1999.3167    2000.0  Status  \n",
       "SpecID                                    \n",
       "201210-1-00   0.403344  0.401089  Normal  \n",
       "201210-1-01   0.427505  0.424721  Normal  \n",
       "201210-1-02   0.557661  0.557509  Normal  \n",
       "201210-1-03   0.164754  0.162991  Normal  \n",
       "201210-1-04   0.505335  0.502975  Normal  \n",
       "\n",
       "[5 rows x 2636 columns]"
      ]
     },
     "execution_count": 14,
     "metadata": {},
     "output_type": "execute_result"
    }
   ],
   "source": [
    "scaled_raw_df.head()"
   ]
  },
  {
   "cell_type": "code",
   "execution_count": 15,
   "metadata": {},
   "outputs": [],
   "source": [
    "#scaled_raw_df.to_csv(\"../../data/scaled_raw_spectra.csv\")"
   ]
  },
  {
   "cell_type": "code",
   "execution_count": 16,
   "metadata": {},
   "outputs": [
    {
     "name": "stdout",
     "output_type": "stream",
     "text": [
      "ExtraTreesClassifier Cross-Validation Accuracy: 0.9399 +/- 0.0110\n"
     ]
    }
   ],
   "source": [
    "evaluate_extra_trees(scaled_raw_df)"
   ]
  },
  {
   "cell_type": "markdown",
   "metadata": {},
   "source": [
    "> Now see the effect of spikes caused by cosmic rays"
   ]
  },
  {
   "cell_type": "markdown",
   "metadata": {},
   "source": [
    "Locate and correct the spikes"
   ]
  },
  {
   "cell_type": "code",
   "execution_count": 17,
   "metadata": {},
   "outputs": [],
   "source": [
    "def modified_z_score(ys):\n",
    "    ysb = np.diff(ys) # Differentiated intensity values\n",
    "    median_y = np.median(ysb) # Median of the intensity values\n",
    "    median_absolute_deviation_y = np.median([np.abs(y - median_y) for y in ysb]) # median_absolute_deviation of the differentiated intensity values\n",
    "    modified_z_scores = [0.6745 * (y - median_y) / median_absolute_deviation_y for y in ysb] # median_absolute_deviationmodified z scores\n",
    "    return modified_z_scores\n",
    "    \n",
    "# The next function calculates the average values around the point to be replaced.\n",
    "def fixer(y,ma):\n",
    "    threshold = 7 # binarisation threshold\n",
    "    spikes = abs(np.array(modified_z_score(y))) > threshold\n",
    "    y_out = y.copy()\n",
    "    for i in np.arange(len(spikes)):\n",
    "        if spikes[i] != 0:\n",
    "            w = np.arange(i-ma,i+1+ma)\n",
    "            we = w[spikes[w] == 0]\n",
    "            if len(we) > 0:  # Check if it has at least one valid value\n",
    "                y_out[i] = np.mean(y[we])\n",
    "    return y_out\n",
    "\n",
    "def despike_group(absorbances):\n",
    "    absorbance_data = absorbances.to_numpy()\n",
    "    despiked_absorbance = fixer(absorbance_data, ma=10)\n",
    "    return(despiked_absorbance)\n",
    "\n",
    "df['Despiked_Absorbance'] = df.groupby('SpecID')['Absorbance'].transform(lambda x: despike_group(x))"
   ]
  },
  {
   "cell_type": "code",
   "execution_count": 18,
   "metadata": {},
   "outputs": [
    {
     "data": {
      "text/html": [
       "<div>\n",
       "<style scoped>\n",
       "    .dataframe tbody tr th:only-of-type {\n",
       "        vertical-align: middle;\n",
       "    }\n",
       "\n",
       "    .dataframe tbody tr th {\n",
       "        vertical-align: top;\n",
       "    }\n",
       "\n",
       "    .dataframe thead th {\n",
       "        text-align: right;\n",
       "    }\n",
       "</style>\n",
       "<table border=\"1\" class=\"dataframe\">\n",
       "  <thead>\n",
       "    <tr style=\"text-align: right;\">\n",
       "      <th></th>\n",
       "      <th>SpecID</th>\n",
       "      <th>Seq</th>\n",
       "      <th>WaveNumber</th>\n",
       "      <th>Absorbance</th>\n",
       "      <th>SurID</th>\n",
       "      <th>Status</th>\n",
       "      <th>Scaled_Absorbance</th>\n",
       "      <th>Despiked_Absorbance</th>\n",
       "    </tr>\n",
       "  </thead>\n",
       "  <tbody>\n",
       "    <tr>\n",
       "      <th>0</th>\n",
       "      <td>201210-1-00</td>\n",
       "      <td>0</td>\n",
       "      <td>200.00000</td>\n",
       "      <td>2709.3699</td>\n",
       "      <td>201210-1</td>\n",
       "      <td>Normal</td>\n",
       "      <td>1.000000</td>\n",
       "      <td>2709.3699</td>\n",
       "    </tr>\n",
       "    <tr>\n",
       "      <th>1</th>\n",
       "      <td>201210-1-00</td>\n",
       "      <td>1</td>\n",
       "      <td>200.68336</td>\n",
       "      <td>2697.1318</td>\n",
       "      <td>201210-1</td>\n",
       "      <td>Normal</td>\n",
       "      <td>0.995483</td>\n",
       "      <td>2697.1318</td>\n",
       "    </tr>\n",
       "    <tr>\n",
       "      <th>2</th>\n",
       "      <td>201210-1-00</td>\n",
       "      <td>2</td>\n",
       "      <td>201.36674</td>\n",
       "      <td>2696.0413</td>\n",
       "      <td>201210-1</td>\n",
       "      <td>Normal</td>\n",
       "      <td>0.995081</td>\n",
       "      <td>2696.0413</td>\n",
       "    </tr>\n",
       "    <tr>\n",
       "      <th>3</th>\n",
       "      <td>201210-1-00</td>\n",
       "      <td>3</td>\n",
       "      <td>202.05011</td>\n",
       "      <td>2678.5925</td>\n",
       "      <td>201210-1</td>\n",
       "      <td>Normal</td>\n",
       "      <td>0.988640</td>\n",
       "      <td>2678.5925</td>\n",
       "    </tr>\n",
       "    <tr>\n",
       "      <th>4</th>\n",
       "      <td>201210-1-00</td>\n",
       "      <td>4</td>\n",
       "      <td>202.73349</td>\n",
       "      <td>2670.8928</td>\n",
       "      <td>201210-1</td>\n",
       "      <td>Normal</td>\n",
       "      <td>0.985799</td>\n",
       "      <td>2670.8928</td>\n",
       "    </tr>\n",
       "    <tr>\n",
       "      <th>...</th>\n",
       "      <td>...</td>\n",
       "      <td>...</td>\n",
       "      <td>...</td>\n",
       "      <td>...</td>\n",
       "      <td>...</td>\n",
       "      <td>...</td>\n",
       "      <td>...</td>\n",
       "      <td>...</td>\n",
       "    </tr>\n",
       "    <tr>\n",
       "      <th>8023570</th>\n",
       "      <td>210526-3-09</td>\n",
       "      <td>2630</td>\n",
       "      <td>1997.26650</td>\n",
       "      <td>1321.0371</td>\n",
       "      <td>210526-3</td>\n",
       "      <td>Hyperglycemia</td>\n",
       "      <td>0.483204</td>\n",
       "      <td>1321.0371</td>\n",
       "    </tr>\n",
       "    <tr>\n",
       "      <th>8023571</th>\n",
       "      <td>210526-3-09</td>\n",
       "      <td>2631</td>\n",
       "      <td>1997.94980</td>\n",
       "      <td>1316.4056</td>\n",
       "      <td>210526-3</td>\n",
       "      <td>Hyperglycemia</td>\n",
       "      <td>0.481510</td>\n",
       "      <td>1316.4056</td>\n",
       "    </tr>\n",
       "    <tr>\n",
       "      <th>8023572</th>\n",
       "      <td>210526-3-09</td>\n",
       "      <td>2632</td>\n",
       "      <td>1998.63330</td>\n",
       "      <td>1311.2640</td>\n",
       "      <td>210526-3</td>\n",
       "      <td>Hyperglycemia</td>\n",
       "      <td>0.479629</td>\n",
       "      <td>1311.2640</td>\n",
       "    </tr>\n",
       "    <tr>\n",
       "      <th>8023573</th>\n",
       "      <td>210526-3-09</td>\n",
       "      <td>2633</td>\n",
       "      <td>1999.31670</td>\n",
       "      <td>1318.0909</td>\n",
       "      <td>210526-3</td>\n",
       "      <td>Hyperglycemia</td>\n",
       "      <td>0.482127</td>\n",
       "      <td>1318.0909</td>\n",
       "    </tr>\n",
       "    <tr>\n",
       "      <th>8023574</th>\n",
       "      <td>210526-3-09</td>\n",
       "      <td>2634</td>\n",
       "      <td>2000.00000</td>\n",
       "      <td>1300.7710</td>\n",
       "      <td>210526-3</td>\n",
       "      <td>Hyperglycemia</td>\n",
       "      <td>0.475791</td>\n",
       "      <td>1300.7710</td>\n",
       "    </tr>\n",
       "  </tbody>\n",
       "</table>\n",
       "<p>8023575 rows × 8 columns</p>\n",
       "</div>"
      ],
      "text/plain": [
       "              SpecID   Seq  WaveNumber  Absorbance     SurID         Status  \\\n",
       "0        201210-1-00     0   200.00000   2709.3699  201210-1         Normal   \n",
       "1        201210-1-00     1   200.68336   2697.1318  201210-1         Normal   \n",
       "2        201210-1-00     2   201.36674   2696.0413  201210-1         Normal   \n",
       "3        201210-1-00     3   202.05011   2678.5925  201210-1         Normal   \n",
       "4        201210-1-00     4   202.73349   2670.8928  201210-1         Normal   \n",
       "...              ...   ...         ...         ...       ...            ...   \n",
       "8023570  210526-3-09  2630  1997.26650   1321.0371  210526-3  Hyperglycemia   \n",
       "8023571  210526-3-09  2631  1997.94980   1316.4056  210526-3  Hyperglycemia   \n",
       "8023572  210526-3-09  2632  1998.63330   1311.2640  210526-3  Hyperglycemia   \n",
       "8023573  210526-3-09  2633  1999.31670   1318.0909  210526-3  Hyperglycemia   \n",
       "8023574  210526-3-09  2634  2000.00000   1300.7710  210526-3  Hyperglycemia   \n",
       "\n",
       "         Scaled_Absorbance  Despiked_Absorbance  \n",
       "0                 1.000000            2709.3699  \n",
       "1                 0.995483            2697.1318  \n",
       "2                 0.995081            2696.0413  \n",
       "3                 0.988640            2678.5925  \n",
       "4                 0.985799            2670.8928  \n",
       "...                    ...                  ...  \n",
       "8023570           0.483204            1321.0371  \n",
       "8023571           0.481510            1316.4056  \n",
       "8023572           0.479629            1311.2640  \n",
       "8023573           0.482127            1318.0909  \n",
       "8023574           0.475791            1300.7710  \n",
       "\n",
       "[8023575 rows x 8 columns]"
      ]
     },
     "execution_count": 18,
     "metadata": {},
     "output_type": "execute_result"
    }
   ],
   "source": [
    "df  "
   ]
  },
  {
   "cell_type": "code",
   "execution_count": 19,
   "metadata": {},
   "outputs": [],
   "source": [
    "despiked_df = prepare_wavelength_df(df, 'Despiked_Absorbance')"
   ]
  },
  {
   "cell_type": "code",
   "execution_count": 20,
   "metadata": {},
   "outputs": [
    {
     "name": "stdout",
     "output_type": "stream",
     "text": [
      "ExtraTreesClassifier Cross-Validation Accuracy: 0.8801 +/- 0.0172\n"
     ]
    }
   ],
   "source": [
    "evaluate_extra_trees(despiked_df)"
   ]
  },
  {
   "cell_type": "markdown",
   "metadata": {},
   "source": [
    "Despike with scaling."
   ]
  },
  {
   "cell_type": "code",
   "execution_count": 21,
   "metadata": {},
   "outputs": [],
   "source": [
    "df['Scaled_Despiked_Absorbance'] = df.groupby('SpecID')['Despiked_Absorbance'].transform(lambda x: normalise(x))"
   ]
  },
  {
   "cell_type": "code",
   "execution_count": 22,
   "metadata": {},
   "outputs": [],
   "source": [
    "scaled_despiked_df = prepare_wavelength_df(df, 'Scaled_Despiked_Absorbance')"
   ]
  },
  {
   "cell_type": "code",
   "execution_count": 23,
   "metadata": {},
   "outputs": [
    {
     "name": "stdout",
     "output_type": "stream",
     "text": [
      "ExtraTreesClassifier Cross-Validation Accuracy: 0.9445 +/- 0.0125\n"
     ]
    }
   ],
   "source": [
    "evaluate_extra_trees(scaled_despiked_df)"
   ]
  },
  {
   "cell_type": "markdown",
   "metadata": {},
   "source": [
    "Seems to cause a small degradation to performance."
   ]
  },
  {
   "cell_type": "markdown",
   "metadata": {},
   "source": [
    ">Calculate the baseline using Asymmetric Least Squares, then subtract it from the spectrum."
   ]
  },
  {
   "cell_type": "code",
   "execution_count": 24,
   "metadata": {},
   "outputs": [],
   "source": [
    "def baseline_als_optimized(y, lam, p, niter=10):\n",
    "    L = len(y)\n",
    "    D = sparse.diags([1,-2,1],[0,-1,-2], shape=(L,L-2))\n",
    "    D = lam * D.dot(D.transpose()) # Precompute this term since it does not depend on `w`\n",
    "    w = np.ones(L)\n",
    "    W = sparse.spdiags(w, 0, L, L)\n",
    "    for i in range(niter):\n",
    "        W.setdiag(w) # Do not create a new matrix, just update diagonal values\n",
    "        Z = W + D\n",
    "        z = spsolve(Z, w*y)\n",
    "        w = p * (y > z) + (1-p) * (y < z)\n",
    "    return z\n",
    "\n",
    "# lam = 10 ** 8\n",
    "# p = 0.05\n",
    "# df['Baseline_Corrected_Absorbance'] = df.groupby('SpecID')['Despiked_Absorbance'].transform(lambda x: baseline_als_optimized(x, lam=lam, p=p))"
   ]
  },
  {
   "cell_type": "markdown",
   "metadata": {},
   "source": [
    "Here is an example on 1 spectrum"
   ]
  },
  {
   "cell_type": "code",
   "execution_count": 25,
   "metadata": {},
   "outputs": [
    {
     "data": {
      "text/html": [
       "<div>\n",
       "<style scoped>\n",
       "    .dataframe tbody tr th:only-of-type {\n",
       "        vertical-align: middle;\n",
       "    }\n",
       "\n",
       "    .dataframe tbody tr th {\n",
       "        vertical-align: top;\n",
       "    }\n",
       "\n",
       "    .dataframe thead th {\n",
       "        text-align: right;\n",
       "    }\n",
       "</style>\n",
       "<table border=\"1\" class=\"dataframe\">\n",
       "  <thead>\n",
       "    <tr style=\"text-align: right;\">\n",
       "      <th></th>\n",
       "      <th>SpecID</th>\n",
       "      <th>Seq</th>\n",
       "      <th>WaveNumber</th>\n",
       "      <th>Absorbance</th>\n",
       "      <th>SurID</th>\n",
       "      <th>Status</th>\n",
       "      <th>Scaled_Absorbance</th>\n",
       "      <th>Despiked_Absorbance</th>\n",
       "      <th>Scaled_Despiked_Absorbance</th>\n",
       "    </tr>\n",
       "  </thead>\n",
       "  <tbody>\n",
       "    <tr>\n",
       "      <th>8013035</th>\n",
       "      <td>210526-3-06</td>\n",
       "      <td>0</td>\n",
       "      <td>200.00000</td>\n",
       "      <td>2931.4734</td>\n",
       "      <td>210526-3</td>\n",
       "      <td>Hyperglycemia</td>\n",
       "      <td>0.946687</td>\n",
       "      <td>2931.4734</td>\n",
       "      <td>0.946687</td>\n",
       "    </tr>\n",
       "    <tr>\n",
       "      <th>8013036</th>\n",
       "      <td>210526-3-06</td>\n",
       "      <td>1</td>\n",
       "      <td>200.68336</td>\n",
       "      <td>2966.8181</td>\n",
       "      <td>210526-3</td>\n",
       "      <td>Hyperglycemia</td>\n",
       "      <td>0.958101</td>\n",
       "      <td>2966.8181</td>\n",
       "      <td>0.958101</td>\n",
       "    </tr>\n",
       "    <tr>\n",
       "      <th>8013037</th>\n",
       "      <td>210526-3-06</td>\n",
       "      <td>2</td>\n",
       "      <td>201.36674</td>\n",
       "      <td>2998.7166</td>\n",
       "      <td>210526-3</td>\n",
       "      <td>Hyperglycemia</td>\n",
       "      <td>0.968403</td>\n",
       "      <td>2998.7166</td>\n",
       "      <td>0.968403</td>\n",
       "    </tr>\n",
       "    <tr>\n",
       "      <th>8013038</th>\n",
       "      <td>210526-3-06</td>\n",
       "      <td>3</td>\n",
       "      <td>202.05011</td>\n",
       "      <td>2976.7317</td>\n",
       "      <td>210526-3</td>\n",
       "      <td>Hyperglycemia</td>\n",
       "      <td>0.961303</td>\n",
       "      <td>2976.7317</td>\n",
       "      <td>0.961303</td>\n",
       "    </tr>\n",
       "    <tr>\n",
       "      <th>8013039</th>\n",
       "      <td>210526-3-06</td>\n",
       "      <td>4</td>\n",
       "      <td>202.73349</td>\n",
       "      <td>2962.2146</td>\n",
       "      <td>210526-3</td>\n",
       "      <td>Hyperglycemia</td>\n",
       "      <td>0.956615</td>\n",
       "      <td>2962.2146</td>\n",
       "      <td>0.956615</td>\n",
       "    </tr>\n",
       "    <tr>\n",
       "      <th>...</th>\n",
       "      <td>...</td>\n",
       "      <td>...</td>\n",
       "      <td>...</td>\n",
       "      <td>...</td>\n",
       "      <td>...</td>\n",
       "      <td>...</td>\n",
       "      <td>...</td>\n",
       "      <td>...</td>\n",
       "      <td>...</td>\n",
       "    </tr>\n",
       "    <tr>\n",
       "      <th>8015665</th>\n",
       "      <td>210526-3-06</td>\n",
       "      <td>2630</td>\n",
       "      <td>1997.26650</td>\n",
       "      <td>1615.7242</td>\n",
       "      <td>210526-3</td>\n",
       "      <td>Hyperglycemia</td>\n",
       "      <td>0.521780</td>\n",
       "      <td>1615.7242</td>\n",
       "      <td>0.521780</td>\n",
       "    </tr>\n",
       "    <tr>\n",
       "      <th>8015666</th>\n",
       "      <td>210526-3-06</td>\n",
       "      <td>2631</td>\n",
       "      <td>1997.94980</td>\n",
       "      <td>1596.2550</td>\n",
       "      <td>210526-3</td>\n",
       "      <td>Hyperglycemia</td>\n",
       "      <td>0.515493</td>\n",
       "      <td>1596.2550</td>\n",
       "      <td>0.515493</td>\n",
       "    </tr>\n",
       "    <tr>\n",
       "      <th>8015667</th>\n",
       "      <td>210526-3-06</td>\n",
       "      <td>2632</td>\n",
       "      <td>1998.63330</td>\n",
       "      <td>1593.9277</td>\n",
       "      <td>210526-3</td>\n",
       "      <td>Hyperglycemia</td>\n",
       "      <td>0.514742</td>\n",
       "      <td>1593.9277</td>\n",
       "      <td>0.514742</td>\n",
       "    </tr>\n",
       "    <tr>\n",
       "      <th>8015668</th>\n",
       "      <td>210526-3-06</td>\n",
       "      <td>2633</td>\n",
       "      <td>1999.31670</td>\n",
       "      <td>1599.9712</td>\n",
       "      <td>210526-3</td>\n",
       "      <td>Hyperglycemia</td>\n",
       "      <td>0.516693</td>\n",
       "      <td>1599.9712</td>\n",
       "      <td>0.516693</td>\n",
       "    </tr>\n",
       "    <tr>\n",
       "      <th>8015669</th>\n",
       "      <td>210526-3-06</td>\n",
       "      <td>2634</td>\n",
       "      <td>2000.00000</td>\n",
       "      <td>1602.6364</td>\n",
       "      <td>210526-3</td>\n",
       "      <td>Hyperglycemia</td>\n",
       "      <td>0.517554</td>\n",
       "      <td>1602.6364</td>\n",
       "      <td>0.517554</td>\n",
       "    </tr>\n",
       "  </tbody>\n",
       "</table>\n",
       "<p>2635 rows × 9 columns</p>\n",
       "</div>"
      ],
      "text/plain": [
       "              SpecID   Seq  WaveNumber  Absorbance     SurID         Status  \\\n",
       "8013035  210526-3-06     0   200.00000   2931.4734  210526-3  Hyperglycemia   \n",
       "8013036  210526-3-06     1   200.68336   2966.8181  210526-3  Hyperglycemia   \n",
       "8013037  210526-3-06     2   201.36674   2998.7166  210526-3  Hyperglycemia   \n",
       "8013038  210526-3-06     3   202.05011   2976.7317  210526-3  Hyperglycemia   \n",
       "8013039  210526-3-06     4   202.73349   2962.2146  210526-3  Hyperglycemia   \n",
       "...              ...   ...         ...         ...       ...            ...   \n",
       "8015665  210526-3-06  2630  1997.26650   1615.7242  210526-3  Hyperglycemia   \n",
       "8015666  210526-3-06  2631  1997.94980   1596.2550  210526-3  Hyperglycemia   \n",
       "8015667  210526-3-06  2632  1998.63330   1593.9277  210526-3  Hyperglycemia   \n",
       "8015668  210526-3-06  2633  1999.31670   1599.9712  210526-3  Hyperglycemia   \n",
       "8015669  210526-3-06  2634  2000.00000   1602.6364  210526-3  Hyperglycemia   \n",
       "\n",
       "         Scaled_Absorbance  Despiked_Absorbance  Scaled_Despiked_Absorbance  \n",
       "8013035           0.946687            2931.4734                    0.946687  \n",
       "8013036           0.958101            2966.8181                    0.958101  \n",
       "8013037           0.968403            2998.7166                    0.968403  \n",
       "8013038           0.961303            2976.7317                    0.961303  \n",
       "8013039           0.956615            2962.2146                    0.956615  \n",
       "...                    ...                  ...                         ...  \n",
       "8015665           0.521780            1615.7242                    0.521780  \n",
       "8015666           0.515493            1596.2550                    0.515493  \n",
       "8015667           0.514742            1593.9277                    0.514742  \n",
       "8015668           0.516693            1599.9712                    0.516693  \n",
       "8015669           0.517554            1602.6364                    0.517554  \n",
       "\n",
       "[2635 rows x 9 columns]"
      ]
     },
     "execution_count": 25,
     "metadata": {},
     "output_type": "execute_result"
    }
   ],
   "source": [
    "sample = df[df['SpecID'] == \"210526-3-06\"]\n",
    "sample"
   ]
  },
  {
   "cell_type": "code",
   "execution_count": 26,
   "metadata": {},
   "outputs": [
    {
     "name": "stderr",
     "output_type": "stream",
     "text": [
      "/tmp/ipykernel_3688/1363969637.py:9: SettingWithCopyWarning: \n",
      "A value is trying to be set on a copy of a slice from a DataFrame.\n",
      "Try using .loc[row_indexer,col_indexer] = value instead\n",
      "\n",
      "See the caveats in the documentation: https://pandas.pydata.org/pandas-docs/stable/user_guide/indexing.html#returning-a-view-versus-a-copy\n",
      "  sample['Baseline'] = sample.groupby('SpecID')['Absorbance'].transform(lambda x: baseline_als_optimized(x, lam=lam, p=p, niter=10))\n"
     ]
    },
    {
     "data": {
      "text/plain": [
       "<Axes: xlabel='WaveNumber', ylabel='Absorbance'>"
      ]
     },
     "execution_count": 26,
     "metadata": {},
     "output_type": "execute_result"
    },
    {
     "data": {
      "image/png": "[encoded data removed]",
      "text/plain": [
       "<Figure size 640x480 with 1 Axes>"
      ]
     },
     "metadata": {},
     "output_type": "display_data"
    }
   ],
   "source": [
    "# lam = 10 ** 6\n",
    "# p = 0.01\n",
    "\n",
    "# lam = 10 ** 7\n",
    "# p = 0.05\n",
    "\n",
    "lam = 10 ** 9\n",
    "p = 0.1\n",
    "sample['Baseline'] = sample.groupby('SpecID')['Absorbance'].transform(lambda x: baseline_als_optimized(x, lam=lam, p=p, niter=10))\n",
    "sns.lineplot(x=\"WaveNumber\", y=\"Absorbance\", data=sample)\n",
    "sns.lineplot(x=\"WaveNumber\", y=\"Baseline\", data=sample)"
   ]
  },
  {
   "cell_type": "markdown",
   "metadata": {},
   "source": [
    "Subtract the baseline."
   ]
  },
  {
   "cell_type": "code",
   "execution_count": 27,
   "metadata": {},
   "outputs": [
    {
     "name": "stderr",
     "output_type": "stream",
     "text": [
      "/tmp/ipykernel_3688/1303904700.py:1: SettingWithCopyWarning: \n",
      "A value is trying to be set on a copy of a slice from a DataFrame.\n",
      "Try using .loc[row_indexer,col_indexer] = value instead\n",
      "\n",
      "See the caveats in the documentation: https://pandas.pydata.org/pandas-docs/stable/user_guide/indexing.html#returning-a-view-versus-a-copy\n",
      "  sample['Baseline_Corrected_Absorbance'] = sample['Absorbance'] - sample['Baseline']\n"
     ]
    },
    {
     "data": {
      "text/plain": [
       "<Axes: xlabel='WaveNumber', ylabel='Baseline_Corrected_Absorbance'>"
      ]
     },
     "execution_count": 27,
     "metadata": {},
     "output_type": "execute_result"
    },
    {
     "data": {
      "image/png": "[encoded data removed]",
      "text/plain": [
       "<Figure size 640x480 with 1 Axes>"
      ]
     },
     "metadata": {},
     "output_type": "display_data"
    }
   ],
   "source": [
    "sample['Baseline_Corrected_Absorbance'] = sample['Absorbance'] - sample['Baseline']\n",
    "sns.lineplot(x=\"WaveNumber\", y=\"Baseline_Corrected_Absorbance\", data=sample)"
   ]
  },
  {
   "cell_type": "markdown",
   "metadata": {},
   "source": [
    "Remove the noise from the spectra using Savitzky–Golay-filtering on the raw spectrum."
   ]
  },
  {
   "cell_type": "code",
   "execution_count": 43,
   "metadata": {},
   "outputs": [
    {
     "name": "stderr",
     "output_type": "stream",
     "text": [
      "/tmp/ipykernel_4153/4250886446.py:6: SettingWithCopyWarning: \n",
      "A value is trying to be set on a copy of a slice from a DataFrame.\n",
      "Try using .loc[row_indexer,col_indexer] = value instead\n",
      "\n",
      "See the caveats in the documentation: https://pandas.pydata.org/pandas-docs/stable/user_guide/indexing.html#returning-a-view-versus-a-copy\n",
      "  sample['Smoothed_Absorbance'] = sample.groupby('SpecID')['Absorbance'].transform(lambda x: savgol_filter(x, window_size, poly_order, deriv=0))\n"
     ]
    },
    {
     "data": {
      "text/plain": [
       "<Axes: xlabel='WaveNumber', ylabel='Smoothed_Absorbance'>"
      ]
     },
     "execution_count": 43,
     "metadata": {},
     "output_type": "execute_result"
    },
    {
     "data": {
      "image/png": "[encoded data removed]",
      "text/plain": [
       "<Figure size 640x480 with 1 Axes>"
      ]
     },
     "metadata": {},
     "output_type": "display_data"
    }
   ],
   "source": [
    "# Set the window size and polynomial order for the Savitzky-Golay filter\n",
    "window_size = 101\n",
    "poly_order = 2\n",
    "\n",
    "# Apply Savitzky-Golay filter to smooth the Absorbance values\n",
    "sample['Smoothed_Absorbance'] = sample.groupby('SpecID')['Absorbance'].transform(lambda x: savgol_filter(x, window_size, poly_order, deriv=0))\n",
    "sns.lineplot(x=\"WaveNumber\", y=\"Smoothed_Absorbance\", data=sample)"
   ]
  },
  {
   "cell_type": "markdown",
   "metadata": {},
   "source": [
    "Try it on the Baseline_Corrected_Spectrum"
   ]
  },
  {
   "cell_type": "code",
   "execution_count": 44,
   "metadata": {},
   "outputs": [
    {
     "name": "stderr",
     "output_type": "stream",
     "text": [
      "/tmp/ipykernel_4153/1425479424.py:2: SettingWithCopyWarning: \n",
      "A value is trying to be set on a copy of a slice from a DataFrame.\n",
      "Try using .loc[row_indexer,col_indexer] = value instead\n",
      "\n",
      "See the caveats in the documentation: https://pandas.pydata.org/pandas-docs/stable/user_guide/indexing.html#returning-a-view-versus-a-copy\n",
      "  sample['Smoothed_Absorbance'] = sample.groupby('SpecID')['Baseline_Corrected_Absorbance'].transform(lambda x: savgol_filter(x, window_size, poly_order, deriv=0))\n"
     ]
    },
    {
     "data": {
      "text/plain": [
       "<Axes: xlabel='WaveNumber', ylabel='Smoothed_Absorbance'>"
      ]
     },
     "execution_count": 44,
     "metadata": {},
     "output_type": "execute_result"
    },
    {
     "data": {
      "image/png": "[encoded data removed]",
      "text/plain": [
       "<Figure size 640x480 with 1 Axes>"
      ]
     },
     "metadata": {},
     "output_type": "display_data"
    }
   ],
   "source": [
    "# Apply Savitzky-Golay filter to smooth the Absorbance values\n",
    "sample['Smoothed_Absorbance'] = sample.groupby('SpecID')['Baseline_Corrected_Absorbance'].transform(lambda x: savgol_filter(x, window_size, poly_order, deriv=0))\n",
    "sns.lineplot(x=\"WaveNumber\", y=\"Smoothed_Absorbance\", data=sample)"
   ]
  },
  {
   "cell_type": "code",
   "execution_count": 30,
   "metadata": {},
   "outputs": [
    {
     "name": "stderr",
     "output_type": "stream",
     "text": [
      "/tmp/ipykernel_4153/1280720429.py:2: SettingWithCopyWarning: \n",
      "A value is trying to be set on a copy of a slice from a DataFrame.\n",
      "Try using .loc[row_indexer,col_indexer] = value instead\n",
      "\n",
      "See the caveats in the documentation: https://pandas.pydata.org/pandas-docs/stable/user_guide/indexing.html#returning-a-view-versus-a-copy\n",
      "  sample['Smoothed_Absorbance'] = sample.groupby('SpecID')['Baseline_Corrected_Absorbance'].transform(lambda x: savgol_filter(x, 9, 2, deriv=0))\n"
     ]
    },
    {
     "data": {
      "text/plain": [
       "<Axes: xlabel='WaveNumber', ylabel='Smoothed_Absorbance'>"
      ]
     },
     "execution_count": 30,
     "metadata": {},
     "output_type": "execute_result"
    },
    {
     "data": {
      "image/png": "[encoded data removed]",
      "text/plain": [
       "<Figure size 640x480 with 1 Axes>"
      ]
     },
     "metadata": {},
     "output_type": "display_data"
    }
   ],
   "source": [
    "# Apply Savitzky-Golay filter to smooth the Absorbance values\n",
    "sample['Smoothed_Absorbance'] = sample.groupby('SpecID')['Baseline_Corrected_Absorbance'].transform(lambda x: savgol_filter(x, 9, 2, deriv=0))\n",
    "sns.lineplot(x=\"WaveNumber\", y=\"Smoothed_Absorbance\", data=sample)"
   ]
  },
  {
   "cell_type": "markdown",
   "metadata": {},
   "source": [
    ">Based on hand tuned parameters lets see how they affect the Machine Learning Classification."
   ]
  },
  {
   "cell_type": "code",
   "execution_count": 46,
   "metadata": {},
   "outputs": [],
   "source": [
    "df['Baseline_Corrected_Absorbance'] = df['Absorbance'] - df.groupby('SpecID')['Absorbance'].transform(lambda x: baseline_als_optimized(x, lam=lam, p=p, niter=10))"
   ]
  },
  {
   "cell_type": "code",
   "execution_count": null,
   "metadata": {},
   "outputs": [
    {
     "data": {
      "text/html": [
       "<div>\n",
       "<style scoped>\n",
       "    .dataframe tbody tr th:only-of-type {\n",
       "        vertical-align: middle;\n",
       "    }\n",
       "\n",
       "    .dataframe tbody tr th {\n",
       "        vertical-align: top;\n",
       "    }\n",
       "\n",
       "    .dataframe thead th {\n",
       "        text-align: right;\n",
       "    }\n",
       "</style>\n",
       "<table border=\"1\" class=\"dataframe\">\n",
       "  <thead>\n",
       "    <tr style=\"text-align: right;\">\n",
       "      <th></th>\n",
       "      <th>SpecID</th>\n",
       "      <th>Seq</th>\n",
       "      <th>WaveNumber</th>\n",
       "      <th>Absorbance</th>\n",
       "      <th>SurID</th>\n",
       "      <th>Status</th>\n",
       "      <th>Scaled_Absorbance</th>\n",
       "      <th>Despiked_Absorbance</th>\n",
       "      <th>Scaled_Despiked_Absorbance</th>\n",
       "      <th>Baseline_Corrected_Absorbance</th>\n",
       "    </tr>\n",
       "  </thead>\n",
       "  <tbody>\n",
       "    <tr>\n",
       "      <th>0</th>\n",
       "      <td>201210-1-00</td>\n",
       "      <td>0</td>\n",
       "      <td>200.00000</td>\n",
       "      <td>2709.3699</td>\n",
       "      <td>201210-1</td>\n",
       "      <td>Normal</td>\n",
       "      <td>1.000000</td>\n",
       "      <td>2709.3699</td>\n",
       "      <td>1.000000</td>\n",
       "      <td>79.710030</td>\n",
       "    </tr>\n",
       "    <tr>\n",
       "      <th>1</th>\n",
       "      <td>201210-1-00</td>\n",
       "      <td>1</td>\n",
       "      <td>200.68336</td>\n",
       "      <td>2697.1318</td>\n",
       "      <td>201210-1</td>\n",
       "      <td>Normal</td>\n",
       "      <td>0.995483</td>\n",
       "      <td>2697.1318</td>\n",
       "      <td>0.995483</td>\n",
       "      <td>71.406660</td>\n",
       "    </tr>\n",
       "    <tr>\n",
       "      <th>2</th>\n",
       "      <td>201210-1-00</td>\n",
       "      <td>2</td>\n",
       "      <td>201.36674</td>\n",
       "      <td>2696.0413</td>\n",
       "      <td>201210-1</td>\n",
       "      <td>Normal</td>\n",
       "      <td>0.995081</td>\n",
       "      <td>2696.0413</td>\n",
       "      <td>0.995081</td>\n",
       "      <td>74.250891</td>\n",
       "    </tr>\n",
       "    <tr>\n",
       "      <th>3</th>\n",
       "      <td>201210-1-00</td>\n",
       "      <td>3</td>\n",
       "      <td>202.05011</td>\n",
       "      <td>2678.5925</td>\n",
       "      <td>201210-1</td>\n",
       "      <td>Normal</td>\n",
       "      <td>0.988640</td>\n",
       "      <td>2678.5925</td>\n",
       "      <td>0.988640</td>\n",
       "      <td>60.736818</td>\n",
       "    </tr>\n",
       "    <tr>\n",
       "      <th>4</th>\n",
       "      <td>201210-1-00</td>\n",
       "      <td>4</td>\n",
       "      <td>202.73349</td>\n",
       "      <td>2670.8928</td>\n",
       "      <td>201210-1</td>\n",
       "      <td>Normal</td>\n",
       "      <td>0.985799</td>\n",
       "      <td>2670.8928</td>\n",
       "      <td>0.985799</td>\n",
       "      <td>56.971842</td>\n",
       "    </tr>\n",
       "  </tbody>\n",
       "</table>\n",
       "</div>"
      ],
      "text/plain": [
       "        SpecID  Seq  WaveNumber  Absorbance     SurID  Status  \\\n",
       "0  201210-1-00    0   200.00000   2709.3699  201210-1  Normal   \n",
       "1  201210-1-00    1   200.68336   2697.1318  201210-1  Normal   \n",
       "2  201210-1-00    2   201.36674   2696.0413  201210-1  Normal   \n",
       "3  201210-1-00    3   202.05011   2678.5925  201210-1  Normal   \n",
       "4  201210-1-00    4   202.73349   2670.8928  201210-1  Normal   \n",
       "\n",
       "   Scaled_Absorbance  Despiked_Absorbance  Scaled_Despiked_Absorbance  \\\n",
       "0           1.000000            2709.3699                    1.000000   \n",
       "1           0.995483            2697.1318                    0.995483   \n",
       "2           0.995081            2696.0413                    0.995081   \n",
       "3           0.988640            2678.5925                    0.988640   \n",
       "4           0.985799            2670.8928                    0.985799   \n",
       "\n",
       "   Baseline_Corrected_Absorbance  \n",
       "0                      79.710030  \n",
       "1                      71.406660  \n",
       "2                      74.250891  \n",
       "3                      60.736818  \n",
       "4                      56.971842  "
      ]
     },
     "execution_count": 31,
     "metadata": {},
     "output_type": "execute_result"
    }
   ],
   "source": [
    "df.head()"
   ]
  },
  {
   "cell_type": "code",
   "execution_count": null,
   "metadata": {},
   "outputs": [],
   "source": [
    "baseline_corrected_df = prepare_wavelength_df(df, 'Baseline_Corrected_Absorbance')"
   ]
  },
  {
   "cell_type": "code",
   "execution_count": 33,
   "metadata": {},
   "outputs": [
    {
     "data": {
      "text/html": [
       "<div>\n",
       "<style scoped>\n",
       "    .dataframe tbody tr th:only-of-type {\n",
       "        vertical-align: middle;\n",
       "    }\n",
       "\n",
       "    .dataframe tbody tr th {\n",
       "        vertical-align: top;\n",
       "    }\n",
       "\n",
       "    .dataframe thead th {\n",
       "        text-align: right;\n",
       "    }\n",
       "</style>\n",
       "<table border=\"1\" class=\"dataframe\">\n",
       "  <thead>\n",
       "    <tr style=\"text-align: right;\">\n",
       "      <th></th>\n",
       "      <th>200.0</th>\n",
       "      <th>200.68336</th>\n",
       "      <th>201.36674</th>\n",
       "      <th>202.05011</th>\n",
       "      <th>202.73349</th>\n",
       "      <th>203.41685</th>\n",
       "      <th>204.10023</th>\n",
       "      <th>204.7836</th>\n",
       "      <th>205.46696</th>\n",
       "      <th>206.15034</th>\n",
       "      <th>...</th>\n",
       "      <th>1994.5331</th>\n",
       "      <th>1995.2164</th>\n",
       "      <th>1995.8998</th>\n",
       "      <th>1996.5831</th>\n",
       "      <th>1997.2665</th>\n",
       "      <th>1997.9498</th>\n",
       "      <th>1998.6333</th>\n",
       "      <th>1999.3167</th>\n",
       "      <th>2000.0</th>\n",
       "      <th>Status</th>\n",
       "    </tr>\n",
       "    <tr>\n",
       "      <th>SpecID</th>\n",
       "      <th></th>\n",
       "      <th></th>\n",
       "      <th></th>\n",
       "      <th></th>\n",
       "      <th></th>\n",
       "      <th></th>\n",
       "      <th></th>\n",
       "      <th></th>\n",
       "      <th></th>\n",
       "      <th></th>\n",
       "      <th></th>\n",
       "      <th></th>\n",
       "      <th></th>\n",
       "      <th></th>\n",
       "      <th></th>\n",
       "      <th></th>\n",
       "      <th></th>\n",
       "      <th></th>\n",
       "      <th></th>\n",
       "      <th></th>\n",
       "      <th></th>\n",
       "    </tr>\n",
       "  </thead>\n",
       "  <tbody>\n",
       "    <tr>\n",
       "      <th>201210-1-00</th>\n",
       "      <td>79.710030</td>\n",
       "      <td>71.406660</td>\n",
       "      <td>74.250891</td>\n",
       "      <td>60.736818</td>\n",
       "      <td>56.971842</td>\n",
       "      <td>42.557257</td>\n",
       "      <td>40.272962</td>\n",
       "      <td>88.207153</td>\n",
       "      <td>22.140624</td>\n",
       "      <td>14.765671</td>\n",
       "      <td>...</td>\n",
       "      <td>37.085006</td>\n",
       "      <td>25.681712</td>\n",
       "      <td>29.404111</td>\n",
       "      <td>42.581904</td>\n",
       "      <td>22.135293</td>\n",
       "      <td>15.299180</td>\n",
       "      <td>27.799965</td>\n",
       "      <td>31.882549</td>\n",
       "      <td>26.128933</td>\n",
       "      <td>Normal</td>\n",
       "    </tr>\n",
       "    <tr>\n",
       "      <th>201210-1-01</th>\n",
       "      <td>102.931211</td>\n",
       "      <td>113.636694</td>\n",
       "      <td>102.412776</td>\n",
       "      <td>83.655454</td>\n",
       "      <td>82.750126</td>\n",
       "      <td>87.655988</td>\n",
       "      <td>89.466034</td>\n",
       "      <td>92.272760</td>\n",
       "      <td>89.057558</td>\n",
       "      <td>78.250320</td>\n",
       "      <td>...</td>\n",
       "      <td>21.146490</td>\n",
       "      <td>45.527663</td>\n",
       "      <td>47.462720</td>\n",
       "      <td>47.379567</td>\n",
       "      <td>45.784906</td>\n",
       "      <td>59.890139</td>\n",
       "      <td>63.114070</td>\n",
       "      <td>52.747799</td>\n",
       "      <td>44.646628</td>\n",
       "      <td>Normal</td>\n",
       "    </tr>\n",
       "    <tr>\n",
       "      <th>201210-1-02</th>\n",
       "      <td>242.709658</td>\n",
       "      <td>138.612956</td>\n",
       "      <td>192.940851</td>\n",
       "      <td>151.489341</td>\n",
       "      <td>147.706118</td>\n",
       "      <td>153.504876</td>\n",
       "      <td>130.329507</td>\n",
       "      <td>89.128698</td>\n",
       "      <td>82.452741</td>\n",
       "      <td>84.365520</td>\n",
       "      <td>...</td>\n",
       "      <td>145.383402</td>\n",
       "      <td>163.368144</td>\n",
       "      <td>211.148535</td>\n",
       "      <td>183.957888</td>\n",
       "      <td>158.987514</td>\n",
       "      <td>179.311821</td>\n",
       "      <td>202.215417</td>\n",
       "      <td>180.096908</td>\n",
       "      <td>179.333397</td>\n",
       "      <td>Normal</td>\n",
       "    </tr>\n",
       "    <tr>\n",
       "      <th>201210-1-03</th>\n",
       "      <td>-250.747860</td>\n",
       "      <td>-132.003110</td>\n",
       "      <td>41.979189</td>\n",
       "      <td>232.134914</td>\n",
       "      <td>407.896246</td>\n",
       "      <td>555.504659</td>\n",
       "      <td>740.318826</td>\n",
       "      <td>1022.124413</td>\n",
       "      <td>1085.593680</td>\n",
       "      <td>1253.653576</td>\n",
       "      <td>...</td>\n",
       "      <td>-6.258578</td>\n",
       "      <td>7.153862</td>\n",
       "      <td>23.534696</td>\n",
       "      <td>28.885325</td>\n",
       "      <td>61.621851</td>\n",
       "      <td>21.528576</td>\n",
       "      <td>20.214900</td>\n",
       "      <td>23.302123</td>\n",
       "      <td>6.005647</td>\n",
       "      <td>Normal</td>\n",
       "    </tr>\n",
       "    <tr>\n",
       "      <th>201210-1-04</th>\n",
       "      <td>50.336834</td>\n",
       "      <td>49.926660</td>\n",
       "      <td>67.255985</td>\n",
       "      <td>65.675709</td>\n",
       "      <td>53.874629</td>\n",
       "      <td>46.886544</td>\n",
       "      <td>51.488851</td>\n",
       "      <td>62.255946</td>\n",
       "      <td>69.131826</td>\n",
       "      <td>65.857385</td>\n",
       "      <td>...</td>\n",
       "      <td>15.156063</td>\n",
       "      <td>12.789142</td>\n",
       "      <td>48.384210</td>\n",
       "      <td>37.764568</td>\n",
       "      <td>20.988920</td>\n",
       "      <td>44.067568</td>\n",
       "      <td>41.650512</td>\n",
       "      <td>51.636556</td>\n",
       "      <td>44.261598</td>\n",
       "      <td>Normal</td>\n",
       "    </tr>\n",
       "  </tbody>\n",
       "</table>\n",
       "<p>5 rows × 2636 columns</p>\n",
       "</div>"
      ],
      "text/plain": [
       "                  200.0   200.68336   201.36674   202.05011   202.73349  \\\n",
       "SpecID                                                                    \n",
       "201210-1-00   79.710030   71.406660   74.250891   60.736818   56.971842   \n",
       "201210-1-01  102.931211  113.636694  102.412776   83.655454   82.750126   \n",
       "201210-1-02  242.709658  138.612956  192.940851  151.489341  147.706118   \n",
       "201210-1-03 -250.747860 -132.003110   41.979189  232.134914  407.896246   \n",
       "201210-1-04   50.336834   49.926660   67.255985   65.675709   53.874629   \n",
       "\n",
       "              203.41685   204.10023     204.7836    205.46696    206.15034  \\\n",
       "SpecID                                                                       \n",
       "201210-1-00   42.557257   40.272962    88.207153    22.140624    14.765671   \n",
       "201210-1-01   87.655988   89.466034    92.272760    89.057558    78.250320   \n",
       "201210-1-02  153.504876  130.329507    89.128698    82.452741    84.365520   \n",
       "201210-1-03  555.504659  740.318826  1022.124413  1085.593680  1253.653576   \n",
       "201210-1-04   46.886544   51.488851    62.255946    69.131826    65.857385   \n",
       "\n",
       "             ...   1994.5331   1995.2164   1995.8998   1996.5831   1997.2665  \\\n",
       "SpecID       ...                                                               \n",
       "201210-1-00  ...   37.085006   25.681712   29.404111   42.581904   22.135293   \n",
       "201210-1-01  ...   21.146490   45.527663   47.462720   47.379567   45.784906   \n",
       "201210-1-02  ...  145.383402  163.368144  211.148535  183.957888  158.987514   \n",
       "201210-1-03  ...   -6.258578    7.153862   23.534696   28.885325   61.621851   \n",
       "201210-1-04  ...   15.156063   12.789142   48.384210   37.764568   20.988920   \n",
       "\n",
       "              1997.9498   1998.6333   1999.3167      2000.0  Status  \n",
       "SpecID                                                               \n",
       "201210-1-00   15.299180   27.799965   31.882549   26.128933  Normal  \n",
       "201210-1-01   59.890139   63.114070   52.747799   44.646628  Normal  \n",
       "201210-1-02  179.311821  202.215417  180.096908  179.333397  Normal  \n",
       "201210-1-03   21.528576   20.214900   23.302123    6.005647  Normal  \n",
       "201210-1-04   44.067568   41.650512   51.636556   44.261598  Normal  \n",
       "\n",
       "[5 rows x 2636 columns]"
      ]
     },
     "execution_count": 33,
     "metadata": {},
     "output_type": "execute_result"
    }
   ],
   "source": [
    "baseline_corrected_df.head()"
   ]
  },
  {
   "cell_type": "code",
   "execution_count": 34,
   "metadata": {},
   "outputs": [
    {
     "name": "stdout",
     "output_type": "stream",
     "text": [
      "ExtraTreesClassifier Cross-Validation Accuracy: 0.8844 +/- 0.0186\n"
     ]
    }
   ],
   "source": [
    "evaluate_extra_trees(baseline_corrected_df)"
   ]
  },
  {
   "cell_type": "markdown",
   "metadata": {},
   "source": [
    "Scale the Baseline Corrected Absorbances to the highest peak."
   ]
  },
  {
   "cell_type": "code",
   "execution_count": 35,
   "metadata": {},
   "outputs": [],
   "source": [
    "df['Scaled_Baseline_Corrected'] = df.groupby('SpecID')['Baseline_Corrected_Absorbance'].transform(lambda x: normalise(x))"
   ]
  },
  {
   "cell_type": "code",
   "execution_count": 36,
   "metadata": {},
   "outputs": [],
   "source": [
    "scaled_baseline_df = prepare_wavelength_df(df, 'Scaled_Baseline_Corrected')"
   ]
  },
  {
   "cell_type": "code",
   "execution_count": 37,
   "metadata": {},
   "outputs": [
    {
     "name": "stdout",
     "output_type": "stream",
     "text": [
      "ExtraTreesClassifier Cross-Validation Accuracy: 0.8755 +/- 0.0111\n"
     ]
    }
   ],
   "source": [
    "evaluate_extra_trees(scaled_baseline_df)"
   ]
  },
  {
   "cell_type": "markdown",
   "metadata": {},
   "source": [
    "> Lets try 2 different Savitsky Golay Approaches on the Raw and Baseline Corrected Spectra with and without scaling"
   ]
  },
  {
   "cell_type": "code",
   "execution_count": 38,
   "metadata": {},
   "outputs": [],
   "source": [
    "# Set the window size and polynomial order for the Savitzky-Golay filter\n",
    "window_size = 9\n",
    "poly_order = 2\n",
    "\n",
    "# Apply Savitzky-Golay filter to smooth the Absorbance values\n",
    "df['Smoothed_Absorbance'] = df.groupby('SpecID')['Absorbance'].transform(lambda x: savgol_filter(x, window_size, poly_order, deriv=0))"
   ]
  },
  {
   "cell_type": "code",
   "execution_count": 39,
   "metadata": {},
   "outputs": [],
   "source": [
    "smooth_df = prepare_wavelength_df(df, 'Smoothed_Absorbance')"
   ]
  },
  {
   "cell_type": "code",
   "execution_count": 40,
   "metadata": {},
   "outputs": [
    {
     "name": "stdout",
     "output_type": "stream",
     "text": [
      "ExtraTreesClassifier Cross-Validation Accuracy: 0.8828 +/- 0.0182\n"
     ]
    }
   ],
   "source": [
    "evaluate_extra_trees(smooth_df)"
   ]
  },
  {
   "cell_type": "code",
   "execution_count": 41,
   "metadata": {},
   "outputs": [],
   "source": [
    "df['Scaled_Smooth'] = df.groupby('SpecID')['Smoothed_Absorbance'].transform(lambda x: normalise(x))"
   ]
  },
  {
   "cell_type": "code",
   "execution_count": 42,
   "metadata": {},
   "outputs": [],
   "source": [
    "scaled_smooth_df = prepare_wavelength_df(df, 'Scaled_Smooth')"
   ]
  },
  {
   "cell_type": "code",
   "execution_count": 43,
   "metadata": {},
   "outputs": [
    {
     "name": "stdout",
     "output_type": "stream",
     "text": [
      "ExtraTreesClassifier Cross-Validation Accuracy: 0.9412 +/- 0.0135\n"
     ]
    }
   ],
   "source": [
    "evaluate_extra_trees(scaled_smooth_df)"
   ]
  },
  {
   "cell_type": "code",
   "execution_count": 44,
   "metadata": {},
   "outputs": [],
   "source": [
    "# Set the window size and polynomial order for the Savitzky-Golay filter\n",
    "window_size = 101\n",
    "poly_order = 2\n",
    "\n",
    "# Apply Savitzky-Golay filter to smooth the Absorbance values\n",
    "df['Smoothed_Absorbance'] = df.groupby('SpecID')['Absorbance'].transform(lambda x: savgol_filter(x, window_size, poly_order, deriv=0))"
   ]
  },
  {
   "cell_type": "code",
   "execution_count": 45,
   "metadata": {},
   "outputs": [],
   "source": [
    "smooth_df = prepare_wavelength_df(df, 'Smoothed_Absorbance')"
   ]
  },
  {
   "cell_type": "code",
   "execution_count": 46,
   "metadata": {},
   "outputs": [
    {
     "name": "stdout",
     "output_type": "stream",
     "text": [
      "ExtraTreesClassifier Cross-Validation Accuracy: 0.8765 +/- 0.0160\n"
     ]
    }
   ],
   "source": [
    "evaluate_extra_trees(smooth_df)"
   ]
  },
  {
   "cell_type": "code",
   "execution_count": 47,
   "metadata": {},
   "outputs": [],
   "source": [
    "df['Scaled_Smooth'] = df.groupby('SpecID')['Smoothed_Absorbance'].transform(lambda x: normalise(x))"
   ]
  },
  {
   "cell_type": "code",
   "execution_count": 48,
   "metadata": {},
   "outputs": [],
   "source": [
    "scaled_smooth_df = prepare_wavelength_df(df, 'Scaled_Smooth')"
   ]
  },
  {
   "cell_type": "code",
   "execution_count": 49,
   "metadata": {},
   "outputs": [
    {
     "name": "stdout",
     "output_type": "stream",
     "text": [
      "ExtraTreesClassifier Cross-Validation Accuracy: 0.9507 +/- 0.0122\n"
     ]
    }
   ],
   "source": [
    "evaluate_extra_trees(scaled_smooth_df)"
   ]
  },
  {
   "cell_type": "markdown",
   "metadata": {},
   "source": [
    "Try this on the baseline corrected spectra."
   ]
  },
  {
   "cell_type": "code",
   "execution_count": 50,
   "metadata": {},
   "outputs": [],
   "source": [
    "# Set the window size and polynomial order for the Savitzky-Golay filter\n",
    "window_size = 9\n",
    "poly_order = 2\n",
    "\n",
    "# Apply Savitzky-Golay filter to smooth the Absorbance values\n",
    "df['Smoothed_Baseline'] = df.groupby('SpecID')['Baseline_Corrected_Absorbance'].transform(lambda x: savgol_filter(x, window_size, poly_order, deriv=0))"
   ]
  },
  {
   "cell_type": "code",
   "execution_count": 51,
   "metadata": {},
   "outputs": [],
   "source": [
    "smooth_baseline = prepare_wavelength_df(df, 'Smoothed_Baseline')"
   ]
  },
  {
   "cell_type": "code",
   "execution_count": 52,
   "metadata": {},
   "outputs": [
    {
     "name": "stdout",
     "output_type": "stream",
     "text": [
      "ExtraTreesClassifier Cross-Validation Accuracy: 0.9100 +/- 0.0191\n"
     ]
    }
   ],
   "source": [
    "evaluate_extra_trees(smooth_baseline)"
   ]
  },
  {
   "cell_type": "code",
   "execution_count": 126,
   "metadata": {},
   "outputs": [],
   "source": [
    "df['Scaled_Smooth_Baseline'] = df.groupby('SpecID')['Smoothed_Baseline'].transform(lambda x: normalise(x))"
   ]
  },
  {
   "cell_type": "code",
   "execution_count": 127,
   "metadata": {},
   "outputs": [],
   "source": [
    "scaled_smooth_baseline = prepare_wavelength_df(df, 'Scaled_Smooth_Baseline')"
   ]
  },
  {
   "cell_type": "code",
   "execution_count": 128,
   "metadata": {},
   "outputs": [
    {
     "name": "stdout",
     "output_type": "stream",
     "text": [
      "ExtraTreesClassifier Cross-Validation Accuracy: 0.9205 +/- 0.0150\n"
     ]
    }
   ],
   "source": [
    "evaluate_extra_trees(scaled_smooth_baseline)"
   ]
  },
  {
   "cell_type": "code",
   "execution_count": 113,
   "metadata": {},
   "outputs": [],
   "source": [
    "# Set the window size and polynomial order for the Savitzky-Golay filter\n",
    "window_size = 101\n",
    "poly_order = 2\n",
    "\n",
    "# Apply Savitzky-Golay filter to smooth the Absorbance values\n",
    "df['Smoothed_Baseline'] = df.groupby('SpecID')['Baseline_Corrected_Absorbance'].transform(lambda x: savgol_filter(x, window_size, poly_order, deriv=0))"
   ]
  },
  {
   "cell_type": "code",
   "execution_count": 114,
   "metadata": {},
   "outputs": [],
   "source": [
    "smooth_baseline = prepare_wavelength_df(df, 'Smoothed_Baseline')"
   ]
  },
  {
   "cell_type": "code",
   "execution_count": 115,
   "metadata": {},
   "outputs": [
    {
     "name": "stdout",
     "output_type": "stream",
     "text": [
      "ExtraTreesClassifier Cross-Validation Accuracy: 0.9353 +/- 0.0138\n"
     ]
    }
   ],
   "source": [
    "evaluate_extra_trees(smooth_baseline)"
   ]
  },
  {
   "cell_type": "code",
   "execution_count": 116,
   "metadata": {},
   "outputs": [],
   "source": [
    "df['Scaled_Smooth_Baseline'] = df.groupby('SpecID')['Smoothed_Baseline'].transform(lambda x: normalise(x))"
   ]
  },
  {
   "cell_type": "code",
   "execution_count": 117,
   "metadata": {},
   "outputs": [],
   "source": [
    "scaled_smooth_baseline = prepare_wavelength_df(df, 'Scaled_Smooth_Baseline')"
   ]
  },
  {
   "cell_type": "code",
   "execution_count": 118,
   "metadata": {},
   "outputs": [
    {
     "name": "stdout",
     "output_type": "stream",
     "text": [
      "ExtraTreesClassifier Cross-Validation Accuracy: 0.9241 +/- 0.0142\n"
     ]
    }
   ],
   "source": [
    "evaluate_extra_trees(scaled_smooth_baseline)"
   ]
  },
  {
   "cell_type": "code",
   "execution_count": 119,
   "metadata": {},
   "outputs": [],
   "source": [
    "df['Scaled_Smooth_Baseline'] = df.groupby('SpecID')['Smoothed_Baseline'].transform(lambda x: vector_normalise(x))"
   ]
  },
  {
   "cell_type": "code",
   "execution_count": 120,
   "metadata": {},
   "outputs": [],
   "source": [
    "scaled_smooth_baseline = prepare_wavelength_df(df, 'Scaled_Smooth_Baseline')"
   ]
  },
  {
   "cell_type": "code",
   "execution_count": 121,
   "metadata": {},
   "outputs": [
    {
     "name": "stdout",
     "output_type": "stream",
     "text": [
      "ExtraTreesClassifier Cross-Validation Accuracy: 0.9205 +/- 0.0150\n"
     ]
    }
   ],
   "source": [
    "evaluate_extra_trees(scaled_smooth_baseline)"
   ]
  },
  {
   "cell_type": "markdown",
   "metadata": {},
   "source": [
    "----"
   ]
  },
  {
   "cell_type": "markdown",
   "metadata": {},
   "source": [
    "The negative impact of scaling the unsmoothed baseline is strange."
   ]
  },
  {
   "cell_type": "code",
   "execution_count": 93,
   "metadata": {},
   "outputs": [],
   "source": [
    "df['No_Below_Baseline'] = np.where(df['Baseline_Corrected_Absorbance'] < 0, 0, df['Baseline_Corrected_Absorbance'])"
   ]
  },
  {
   "cell_type": "code",
   "execution_count": 94,
   "metadata": {},
   "outputs": [],
   "source": [
    "no_negative = prepare_wavelength_df(df, 'No_Below_Baseline')"
   ]
  },
  {
   "cell_type": "code",
   "execution_count": 95,
   "metadata": {},
   "outputs": [
    {
     "name": "stdout",
     "output_type": "stream",
     "text": [
      "ExtraTreesClassifier Cross-Validation Accuracy: 0.8838 +/- 0.0187\n"
     ]
    }
   ],
   "source": [
    "evaluate_extra_trees(no_negative)"
   ]
  },
  {
   "cell_type": "markdown",
   "metadata": {},
   "source": [
    "Then with scaling."
   ]
  },
  {
   "cell_type": "code",
   "execution_count": 96,
   "metadata": {},
   "outputs": [],
   "source": [
    "df['Scaled_No_Below_Baseline'] = np.where(df['Scaled_Baseline_Corrected'] < 0, 0, df['Scaled_Baseline_Corrected'])"
   ]
  },
  {
   "cell_type": "code",
   "execution_count": 97,
   "metadata": {},
   "outputs": [],
   "source": [
    "scaled_no_negative = prepare_wavelength_df(df, 'Scaled_No_Below_Baseline')"
   ]
  },
  {
   "cell_type": "code",
   "execution_count": 98,
   "metadata": {},
   "outputs": [
    {
     "data": {
      "text/html": [
       "<div>\n",
       "<style scoped>\n",
       "    .dataframe tbody tr th:only-of-type {\n",
       "        vertical-align: middle;\n",
       "    }\n",
       "\n",
       "    .dataframe tbody tr th {\n",
       "        vertical-align: top;\n",
       "    }\n",
       "\n",
       "    .dataframe thead th {\n",
       "        text-align: right;\n",
       "    }\n",
       "</style>\n",
       "<table border=\"1\" class=\"dataframe\">\n",
       "  <thead>\n",
       "    <tr style=\"text-align: right;\">\n",
       "      <th></th>\n",
       "      <th>200.0</th>\n",
       "      <th>200.68336</th>\n",
       "      <th>201.36674</th>\n",
       "      <th>202.05011</th>\n",
       "      <th>202.73349</th>\n",
       "      <th>203.41685</th>\n",
       "      <th>204.10023</th>\n",
       "      <th>204.7836</th>\n",
       "      <th>205.46696</th>\n",
       "      <th>206.15034</th>\n",
       "      <th>...</th>\n",
       "      <th>1994.5331</th>\n",
       "      <th>1995.2164</th>\n",
       "      <th>1995.8998</th>\n",
       "      <th>1996.5831</th>\n",
       "      <th>1997.2665</th>\n",
       "      <th>1997.9498</th>\n",
       "      <th>1998.6333</th>\n",
       "      <th>1999.3167</th>\n",
       "      <th>2000.0</th>\n",
       "      <th>Status</th>\n",
       "    </tr>\n",
       "    <tr>\n",
       "      <th>SpecID</th>\n",
       "      <th></th>\n",
       "      <th></th>\n",
       "      <th></th>\n",
       "      <th></th>\n",
       "      <th></th>\n",
       "      <th></th>\n",
       "      <th></th>\n",
       "      <th></th>\n",
       "      <th></th>\n",
       "      <th></th>\n",
       "      <th></th>\n",
       "      <th></th>\n",
       "      <th></th>\n",
       "      <th></th>\n",
       "      <th></th>\n",
       "      <th></th>\n",
       "      <th></th>\n",
       "      <th></th>\n",
       "      <th></th>\n",
       "      <th></th>\n",
       "      <th></th>\n",
       "    </tr>\n",
       "  </thead>\n",
       "  <tbody>\n",
       "    <tr>\n",
       "      <th>201210-1-00</th>\n",
       "      <td>0.309089</td>\n",
       "      <td>0.276892</td>\n",
       "      <td>0.287921</td>\n",
       "      <td>0.235517</td>\n",
       "      <td>0.220918</td>\n",
       "      <td>0.165023</td>\n",
       "      <td>0.156165</td>\n",
       "      <td>0.342038</td>\n",
       "      <td>0.085854</td>\n",
       "      <td>0.057256</td>\n",
       "      <td>...</td>\n",
       "      <td>0.143803</td>\n",
       "      <td>0.099585</td>\n",
       "      <td>0.114020</td>\n",
       "      <td>0.165119</td>\n",
       "      <td>0.085833</td>\n",
       "      <td>0.059325</td>\n",
       "      <td>0.107799</td>\n",
       "      <td>0.123630</td>\n",
       "      <td>0.101319</td>\n",
       "      <td>Normal</td>\n",
       "    </tr>\n",
       "    <tr>\n",
       "      <th>201210-1-01</th>\n",
       "      <td>0.427284</td>\n",
       "      <td>0.471724</td>\n",
       "      <td>0.425132</td>\n",
       "      <td>0.347267</td>\n",
       "      <td>0.343509</td>\n",
       "      <td>0.363874</td>\n",
       "      <td>0.371388</td>\n",
       "      <td>0.383039</td>\n",
       "      <td>0.369692</td>\n",
       "      <td>0.324830</td>\n",
       "      <td>...</td>\n",
       "      <td>0.087782</td>\n",
       "      <td>0.188993</td>\n",
       "      <td>0.197025</td>\n",
       "      <td>0.196680</td>\n",
       "      <td>0.190060</td>\n",
       "      <td>0.248614</td>\n",
       "      <td>0.261997</td>\n",
       "      <td>0.218965</td>\n",
       "      <td>0.185335</td>\n",
       "      <td>Normal</td>\n",
       "    </tr>\n",
       "    <tr>\n",
       "      <th>201210-1-02</th>\n",
       "      <td>0.157993</td>\n",
       "      <td>0.090231</td>\n",
       "      <td>0.125596</td>\n",
       "      <td>0.098613</td>\n",
       "      <td>0.096150</td>\n",
       "      <td>0.099925</td>\n",
       "      <td>0.084838</td>\n",
       "      <td>0.058019</td>\n",
       "      <td>0.053673</td>\n",
       "      <td>0.054918</td>\n",
       "      <td>...</td>\n",
       "      <td>0.094638</td>\n",
       "      <td>0.106345</td>\n",
       "      <td>0.137448</td>\n",
       "      <td>0.119748</td>\n",
       "      <td>0.103493</td>\n",
       "      <td>0.116724</td>\n",
       "      <td>0.131633</td>\n",
       "      <td>0.117235</td>\n",
       "      <td>0.116738</td>\n",
       "      <td>Normal</td>\n",
       "    </tr>\n",
       "    <tr>\n",
       "      <th>201210-1-03</th>\n",
       "      <td>0.000000</td>\n",
       "      <td>0.000000</td>\n",
       "      <td>0.017398</td>\n",
       "      <td>0.096209</td>\n",
       "      <td>0.169053</td>\n",
       "      <td>0.230230</td>\n",
       "      <td>0.306827</td>\n",
       "      <td>0.423621</td>\n",
       "      <td>0.449926</td>\n",
       "      <td>0.519579</td>\n",
       "      <td>...</td>\n",
       "      <td>0.000000</td>\n",
       "      <td>0.002965</td>\n",
       "      <td>0.009754</td>\n",
       "      <td>0.011972</td>\n",
       "      <td>0.025539</td>\n",
       "      <td>0.008923</td>\n",
       "      <td>0.008378</td>\n",
       "      <td>0.009658</td>\n",
       "      <td>0.002489</td>\n",
       "      <td>Normal</td>\n",
       "    </tr>\n",
       "    <tr>\n",
       "      <th>201210-1-04</th>\n",
       "      <td>0.131023</td>\n",
       "      <td>0.129955</td>\n",
       "      <td>0.175062</td>\n",
       "      <td>0.170949</td>\n",
       "      <td>0.140232</td>\n",
       "      <td>0.122042</td>\n",
       "      <td>0.134022</td>\n",
       "      <td>0.162048</td>\n",
       "      <td>0.179945</td>\n",
       "      <td>0.171422</td>\n",
       "      <td>...</td>\n",
       "      <td>0.039450</td>\n",
       "      <td>0.033289</td>\n",
       "      <td>0.125940</td>\n",
       "      <td>0.098298</td>\n",
       "      <td>0.054633</td>\n",
       "      <td>0.114705</td>\n",
       "      <td>0.108413</td>\n",
       "      <td>0.134406</td>\n",
       "      <td>0.115210</td>\n",
       "      <td>Normal</td>\n",
       "    </tr>\n",
       "  </tbody>\n",
       "</table>\n",
       "<p>5 rows × 2636 columns</p>\n",
       "</div>"
      ],
      "text/plain": [
       "                200.0  200.68336  201.36674  202.05011  202.73349  203.41685  \\\n",
       "SpecID                                                                         \n",
       "201210-1-00  0.309089   0.276892   0.287921   0.235517   0.220918   0.165023   \n",
       "201210-1-01  0.427284   0.471724   0.425132   0.347267   0.343509   0.363874   \n",
       "201210-1-02  0.157993   0.090231   0.125596   0.098613   0.096150   0.099925   \n",
       "201210-1-03  0.000000   0.000000   0.017398   0.096209   0.169053   0.230230   \n",
       "201210-1-04  0.131023   0.129955   0.175062   0.170949   0.140232   0.122042   \n",
       "\n",
       "             204.10023  204.7836  205.46696  206.15034  ...  1994.5331  \\\n",
       "SpecID                                                  ...              \n",
       "201210-1-00   0.156165  0.342038   0.085854   0.057256  ...   0.143803   \n",
       "201210-1-01   0.371388  0.383039   0.369692   0.324830  ...   0.087782   \n",
       "201210-1-02   0.084838  0.058019   0.053673   0.054918  ...   0.094638   \n",
       "201210-1-03   0.306827  0.423621   0.449926   0.519579  ...   0.000000   \n",
       "201210-1-04   0.134022  0.162048   0.179945   0.171422  ...   0.039450   \n",
       "\n",
       "             1995.2164  1995.8998  1996.5831  1997.2665  1997.9498  1998.6333  \\\n",
       "SpecID                                                                          \n",
       "201210-1-00   0.099585   0.114020   0.165119   0.085833   0.059325   0.107799   \n",
       "201210-1-01   0.188993   0.197025   0.196680   0.190060   0.248614   0.261997   \n",
       "201210-1-02   0.106345   0.137448   0.119748   0.103493   0.116724   0.131633   \n",
       "201210-1-03   0.002965   0.009754   0.011972   0.025539   0.008923   0.008378   \n",
       "201210-1-04   0.033289   0.125940   0.098298   0.054633   0.114705   0.108413   \n",
       "\n",
       "             1999.3167    2000.0  Status  \n",
       "SpecID                                    \n",
       "201210-1-00   0.123630  0.101319  Normal  \n",
       "201210-1-01   0.218965  0.185335  Normal  \n",
       "201210-1-02   0.117235  0.116738  Normal  \n",
       "201210-1-03   0.009658  0.002489  Normal  \n",
       "201210-1-04   0.134406  0.115210  Normal  \n",
       "\n",
       "[5 rows x 2636 columns]"
      ]
     },
     "execution_count": 98,
     "metadata": {},
     "output_type": "execute_result"
    }
   ],
   "source": [
    "scaled_no_negative.head()"
   ]
  },
  {
   "cell_type": "code",
   "execution_count": 99,
   "metadata": {},
   "outputs": [
    {
     "name": "stdout",
     "output_type": "stream",
     "text": [
      "ExtraTreesClassifier Cross-Validation Accuracy: 0.8801 +/- 0.0166\n"
     ]
    }
   ],
   "source": [
    "evaluate_extra_trees(scaled_no_negative)"
   ]
  },
  {
   "cell_type": "markdown",
   "metadata": {},
   "source": [
    "Try Min-Max Scaling Instead"
   ]
  },
  {
   "cell_type": "code",
   "execution_count": 100,
   "metadata": {},
   "outputs": [],
   "source": [
    "def min_max_scale(absorbances):\n",
    "    min_value = np.min(absorbances)\n",
    "    max_value = np.max(absorbances)\n",
    "    return (absorbances - min_value) / (max_value - min_value)\n",
    "\n",
    "df['MinMax_Absorbance'] = df.groupby('SpecID')['Absorbance'].transform(lambda x: min_max_scale(x))"
   ]
  },
  {
   "cell_type": "code",
   "execution_count": 101,
   "metadata": {},
   "outputs": [],
   "source": [
    "min_max_raw_df = prepare_wavelength_df(df, 'MinMax_Absorbance')"
   ]
  },
  {
   "cell_type": "code",
   "execution_count": 102,
   "metadata": {},
   "outputs": [
    {
     "name": "stdout",
     "output_type": "stream",
     "text": [
      "ExtraTreesClassifier Cross-Validation Accuracy: 0.9399 +/- 0.0082\n"
     ]
    }
   ],
   "source": [
    "evaluate_extra_trees(min_max_raw_df)"
   ]
  },
  {
   "cell_type": "code",
   "execution_count": 103,
   "metadata": {},
   "outputs": [],
   "source": [
    "df['MinMax_Baseline'] = df.groupby('SpecID')['Baseline_Corrected_Absorbance'].transform(lambda x: min_max_scale(x))"
   ]
  },
  {
   "cell_type": "code",
   "execution_count": 104,
   "metadata": {},
   "outputs": [],
   "source": [
    "min_max_baseline_df = prepare_wavelength_df(df, 'MinMax_Baseline')"
   ]
  },
  {
   "cell_type": "code",
   "execution_count": 105,
   "metadata": {},
   "outputs": [
    {
     "data": {
      "text/html": [
       "<div>\n",
       "<style scoped>\n",
       "    .dataframe tbody tr th:only-of-type {\n",
       "        vertical-align: middle;\n",
       "    }\n",
       "\n",
       "    .dataframe tbody tr th {\n",
       "        vertical-align: top;\n",
       "    }\n",
       "\n",
       "    .dataframe thead th {\n",
       "        text-align: right;\n",
       "    }\n",
       "</style>\n",
       "<table border=\"1\" class=\"dataframe\">\n",
       "  <thead>\n",
       "    <tr style=\"text-align: right;\">\n",
       "      <th></th>\n",
       "      <th>200.0</th>\n",
       "      <th>200.68336</th>\n",
       "      <th>201.36674</th>\n",
       "      <th>202.05011</th>\n",
       "      <th>202.73349</th>\n",
       "      <th>203.41685</th>\n",
       "      <th>204.10023</th>\n",
       "      <th>204.7836</th>\n",
       "      <th>205.46696</th>\n",
       "      <th>206.15034</th>\n",
       "      <th>...</th>\n",
       "      <th>1994.5331</th>\n",
       "      <th>1995.2164</th>\n",
       "      <th>1995.8998</th>\n",
       "      <th>1996.5831</th>\n",
       "      <th>1997.2665</th>\n",
       "      <th>1997.9498</th>\n",
       "      <th>1998.6333</th>\n",
       "      <th>1999.3167</th>\n",
       "      <th>2000.0</th>\n",
       "      <th>Status</th>\n",
       "    </tr>\n",
       "    <tr>\n",
       "      <th>SpecID</th>\n",
       "      <th></th>\n",
       "      <th></th>\n",
       "      <th></th>\n",
       "      <th></th>\n",
       "      <th></th>\n",
       "      <th></th>\n",
       "      <th></th>\n",
       "      <th></th>\n",
       "      <th></th>\n",
       "      <th></th>\n",
       "      <th></th>\n",
       "      <th></th>\n",
       "      <th></th>\n",
       "      <th></th>\n",
       "      <th></th>\n",
       "      <th></th>\n",
       "      <th></th>\n",
       "      <th></th>\n",
       "      <th></th>\n",
       "      <th></th>\n",
       "      <th></th>\n",
       "    </tr>\n",
       "  </thead>\n",
       "  <tbody>\n",
       "    <tr>\n",
       "      <th>201210-1-00</th>\n",
       "      <td>0.391105</td>\n",
       "      <td>0.362730</td>\n",
       "      <td>0.372449</td>\n",
       "      <td>0.326267</td>\n",
       "      <td>0.313400</td>\n",
       "      <td>0.264141</td>\n",
       "      <td>0.256334</td>\n",
       "      <td>0.420143</td>\n",
       "      <td>0.194369</td>\n",
       "      <td>0.169167</td>\n",
       "      <td>...</td>\n",
       "      <td>0.245440</td>\n",
       "      <td>0.206471</td>\n",
       "      <td>0.219191</td>\n",
       "      <td>0.264225</td>\n",
       "      <td>0.194351</td>\n",
       "      <td>0.170990</td>\n",
       "      <td>0.213709</td>\n",
       "      <td>0.227661</td>\n",
       "      <td>0.207999</td>\n",
       "      <td>Normal</td>\n",
       "    </tr>\n",
       "    <tr>\n",
       "      <th>201210-1-01</th>\n",
       "      <td>0.514701</td>\n",
       "      <td>0.552358</td>\n",
       "      <td>0.512877</td>\n",
       "      <td>0.446898</td>\n",
       "      <td>0.443713</td>\n",
       "      <td>0.460970</td>\n",
       "      <td>0.467337</td>\n",
       "      <td>0.477210</td>\n",
       "      <td>0.465900</td>\n",
       "      <td>0.427885</td>\n",
       "      <td>...</td>\n",
       "      <td>0.227020</td>\n",
       "      <td>0.312782</td>\n",
       "      <td>0.319588</td>\n",
       "      <td>0.319296</td>\n",
       "      <td>0.313686</td>\n",
       "      <td>0.363302</td>\n",
       "      <td>0.374643</td>\n",
       "      <td>0.338179</td>\n",
       "      <td>0.309682</td>\n",
       "      <td>Normal</td>\n",
       "    </tr>\n",
       "    <tr>\n",
       "      <th>201210-1-02</th>\n",
       "      <td>0.187571</td>\n",
       "      <td>0.122190</td>\n",
       "      <td>0.156312</td>\n",
       "      <td>0.130277</td>\n",
       "      <td>0.127901</td>\n",
       "      <td>0.131543</td>\n",
       "      <td>0.116987</td>\n",
       "      <td>0.091109</td>\n",
       "      <td>0.086916</td>\n",
       "      <td>0.088118</td>\n",
       "      <td>...</td>\n",
       "      <td>0.126442</td>\n",
       "      <td>0.137738</td>\n",
       "      <td>0.167748</td>\n",
       "      <td>0.150670</td>\n",
       "      <td>0.134987</td>\n",
       "      <td>0.147752</td>\n",
       "      <td>0.162138</td>\n",
       "      <td>0.148245</td>\n",
       "      <td>0.147766</td>\n",
       "      <td>Normal</td>\n",
       "    </tr>\n",
       "    <tr>\n",
       "      <th>201210-1-03</th>\n",
       "      <td>0.000000</td>\n",
       "      <td>0.044581</td>\n",
       "      <td>0.109900</td>\n",
       "      <td>0.181291</td>\n",
       "      <td>0.247278</td>\n",
       "      <td>0.302696</td>\n",
       "      <td>0.372082</td>\n",
       "      <td>0.477882</td>\n",
       "      <td>0.501710</td>\n",
       "      <td>0.564806</td>\n",
       "      <td>...</td>\n",
       "      <td>0.091790</td>\n",
       "      <td>0.096825</td>\n",
       "      <td>0.102975</td>\n",
       "      <td>0.104984</td>\n",
       "      <td>0.117275</td>\n",
       "      <td>0.102222</td>\n",
       "      <td>0.101729</td>\n",
       "      <td>0.102888</td>\n",
       "      <td>0.096394</td>\n",
       "      <td>Normal</td>\n",
       "    </tr>\n",
       "    <tr>\n",
       "      <th>201210-1-04</th>\n",
       "      <td>0.202215</td>\n",
       "      <td>0.201235</td>\n",
       "      <td>0.242646</td>\n",
       "      <td>0.238870</td>\n",
       "      <td>0.210669</td>\n",
       "      <td>0.193970</td>\n",
       "      <td>0.204968</td>\n",
       "      <td>0.230698</td>\n",
       "      <td>0.247129</td>\n",
       "      <td>0.239304</td>\n",
       "      <td>...</td>\n",
       "      <td>0.118145</td>\n",
       "      <td>0.112488</td>\n",
       "      <td>0.197549</td>\n",
       "      <td>0.172172</td>\n",
       "      <td>0.132083</td>\n",
       "      <td>0.187234</td>\n",
       "      <td>0.181458</td>\n",
       "      <td>0.205321</td>\n",
       "      <td>0.187697</td>\n",
       "      <td>Normal</td>\n",
       "    </tr>\n",
       "  </tbody>\n",
       "</table>\n",
       "<p>5 rows × 2636 columns</p>\n",
       "</div>"
      ],
      "text/plain": [
       "                200.0  200.68336  201.36674  202.05011  202.73349  203.41685  \\\n",
       "SpecID                                                                         \n",
       "201210-1-00  0.391105   0.362730   0.372449   0.326267   0.313400   0.264141   \n",
       "201210-1-01  0.514701   0.552358   0.512877   0.446898   0.443713   0.460970   \n",
       "201210-1-02  0.187571   0.122190   0.156312   0.130277   0.127901   0.131543   \n",
       "201210-1-03  0.000000   0.044581   0.109900   0.181291   0.247278   0.302696   \n",
       "201210-1-04  0.202215   0.201235   0.242646   0.238870   0.210669   0.193970   \n",
       "\n",
       "             204.10023  204.7836  205.46696  206.15034  ...  1994.5331  \\\n",
       "SpecID                                                  ...              \n",
       "201210-1-00   0.256334  0.420143   0.194369   0.169167  ...   0.245440   \n",
       "201210-1-01   0.467337  0.477210   0.465900   0.427885  ...   0.227020   \n",
       "201210-1-02   0.116987  0.091109   0.086916   0.088118  ...   0.126442   \n",
       "201210-1-03   0.372082  0.477882   0.501710   0.564806  ...   0.091790   \n",
       "201210-1-04   0.204968  0.230698   0.247129   0.239304  ...   0.118145   \n",
       "\n",
       "             1995.2164  1995.8998  1996.5831  1997.2665  1997.9498  1998.6333  \\\n",
       "SpecID                                                                          \n",
       "201210-1-00   0.206471   0.219191   0.264225   0.194351   0.170990   0.213709   \n",
       "201210-1-01   0.312782   0.319588   0.319296   0.313686   0.363302   0.374643   \n",
       "201210-1-02   0.137738   0.167748   0.150670   0.134987   0.147752   0.162138   \n",
       "201210-1-03   0.096825   0.102975   0.104984   0.117275   0.102222   0.101729   \n",
       "201210-1-04   0.112488   0.197549   0.172172   0.132083   0.187234   0.181458   \n",
       "\n",
       "             1999.3167    2000.0  Status  \n",
       "SpecID                                    \n",
       "201210-1-00   0.227661  0.207999  Normal  \n",
       "201210-1-01   0.338179  0.309682  Normal  \n",
       "201210-1-02   0.148245  0.147766  Normal  \n",
       "201210-1-03   0.102888  0.096394  Normal  \n",
       "201210-1-04   0.205321  0.187697  Normal  \n",
       "\n",
       "[5 rows x 2636 columns]"
      ]
     },
     "execution_count": 105,
     "metadata": {},
     "output_type": "execute_result"
    }
   ],
   "source": [
    "min_max_baseline_df.head()"
   ]
  },
  {
   "cell_type": "code",
   "execution_count": 106,
   "metadata": {},
   "outputs": [
    {
     "name": "stdout",
     "output_type": "stream",
     "text": [
      "ExtraTreesClassifier Cross-Validation Accuracy: 0.8683 +/- 0.0224\n"
     ]
    }
   ],
   "source": [
    "evaluate_extra_trees(min_max_baseline_df)"
   ]
  },
  {
   "cell_type": "markdown",
   "metadata": {},
   "source": [
    "This is worse, lets try vector normalisation, where the spectra are scaled by their euclidean norm."
   ]
  },
  {
   "cell_type": "code",
   "execution_count": 107,
   "metadata": {},
   "outputs": [],
   "source": [
    "def vector_normalise(absorbances):\n",
    "    l2_norm = np.sqrt(np.sum(absorbances**2))  # Calculate the euclidean norm\n",
    "    normalized_absorbances = absorbances / l2_norm\n",
    "    return normalized_absorbances\n",
    "\n",
    "df['Vector_Scaled_Absorbance'] = df.groupby('SpecID')['Absorbance'].transform(lambda x: vector_normalise(x))"
   ]
  },
  {
   "cell_type": "code",
   "execution_count": 108,
   "metadata": {},
   "outputs": [],
   "source": [
    "vector_scale_raw = prepare_wavelength_df(df, \"Vector_Scaled_Absorbance\")"
   ]
  },
  {
   "cell_type": "code",
   "execution_count": 109,
   "metadata": {},
   "outputs": [
    {
     "name": "stdout",
     "output_type": "stream",
     "text": [
      "ExtraTreesClassifier Cross-Validation Accuracy: 0.9465 +/- 0.0091\n"
     ]
    }
   ],
   "source": [
    "evaluate_extra_trees(vector_scale_raw)"
   ]
  },
  {
   "cell_type": "markdown",
   "metadata": {},
   "source": [
    "Try on the baseline corrected spectra."
   ]
  },
  {
   "cell_type": "code",
   "execution_count": 110,
   "metadata": {},
   "outputs": [],
   "source": [
    "df['Vector_Scaled_Baseline'] = df.groupby('SpecID')['Baseline_Corrected_Absorbance'].transform(lambda x: vector_normalise(x))"
   ]
  },
  {
   "cell_type": "code",
   "execution_count": 111,
   "metadata": {},
   "outputs": [],
   "source": [
    "vector_scale_baseline = prepare_wavelength_df(df, 'Vector_Scaled_Baseline')"
   ]
  },
  {
   "cell_type": "code",
   "execution_count": 112,
   "metadata": {},
   "outputs": [
    {
     "name": "stdout",
     "output_type": "stream",
     "text": [
      "ExtraTreesClassifier Cross-Validation Accuracy: 0.8696 +/- 0.0128\n"
     ]
    }
   ],
   "source": [
    "evaluate_extra_trees(vector_scale_baseline)"
   ]
  }
 ],
 "metadata": {
  "kernelspec": {
   "display_name": "Python 3",
   "language": "python",
   "name": "python3"
  },
  "language_info": {
   "codemirror_mode": {
    "name": "ipython",
    "version": 3
   },
   "file_extension": ".py",
   "mimetype": "text/x-python",
   "name": "python",
   "nbconvert_exporter": "python",
   "pygments_lexer": "ipython3",
   "version": "3.10.12"
  }
 },
 "nbformat": 4,
 "nbformat_minor": 2
}
