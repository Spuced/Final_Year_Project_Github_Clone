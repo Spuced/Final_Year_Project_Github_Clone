{
 "cells": [
  {
   "cell_type": "markdown",
   "metadata": {},
   "source": [
    "### This Notebook Evaluates Replicate Out Cross-Validation to Better Measure how the model generalises"
   ]
  },
  {
   "cell_type": "markdown",
   "metadata": {},
   "source": [
    "Group KFold Cross-Validation prevents spectra from the same Surface appearing within both the training and test folds.\n",
    "\n",
    "This gives a better indication of the model's ability to generalise, as it stops leakage between samples from the same fold."
   ]
  },
  {
   "cell_type": "markdown",
   "metadata": {},
   "source": [
    "Import Libraries"
   ]
  },
  {
   "cell_type": "code",
   "execution_count": 2,
   "metadata": {},
   "outputs": [],
   "source": [
    "import pandas as pd\n",
    "import seaborn as sns\n",
    "import numpy as np\n",
    "from scipy.signal import savgol_filter\n",
    "from scipy import sparse\n",
    "from scipy.sparse.linalg import spsolve\n",
    "from sklearn.ensemble import RandomForestClassifier\n",
    "from sklearn.ensemble import ExtraTreesClassifier\n",
    "from sklearn.metrics import accuracy_score, classification_report, confusion_matrix\n",
    "from sklearn.model_selection import cross_val_score\n",
    "from sklearn.model_selection import StratifiedKFold, KFold, GroupKFold\n",
    "from sklearn.model_selection import LeavePGroupsOut"
   ]
  },
  {
   "cell_type": "markdown",
   "metadata": {},
   "source": [
    "Read the spectral data"
   ]
  },
  {
   "cell_type": "code",
   "execution_count": 3,
   "metadata": {},
   "outputs": [],
   "source": [
    "df = pd.read_csv(\"../../data/exosomes.raw_spectrum_1.csv\")"
   ]
  },
  {
   "cell_type": "markdown",
   "metadata": {},
   "source": [
    "Filter the effective range from 380/400 to 1800 cm-1"
   ]
  },
  {
   "cell_type": "code",
   "execution_count": 4,
   "metadata": {},
   "outputs": [
    {
     "data": {
      "text/html": [
       "<div>\n",
       "<style scoped>\n",
       "    .dataframe tbody tr th:only-of-type {\n",
       "        vertical-align: middle;\n",
       "    }\n",
       "\n",
       "    .dataframe tbody tr th {\n",
       "        vertical-align: top;\n",
       "    }\n",
       "\n",
       "    .dataframe thead th {\n",
       "        text-align: right;\n",
       "    }\n",
       "</style>\n",
       "<table border=\"1\" class=\"dataframe\">\n",
       "  <thead>\n",
       "    <tr style=\"text-align: right;\">\n",
       "      <th></th>\n",
       "      <th>SpecID</th>\n",
       "      <th>Seq</th>\n",
       "      <th>WaveNumber</th>\n",
       "      <th>Absorbance</th>\n",
       "      <th>SurID</th>\n",
       "      <th>Status</th>\n",
       "    </tr>\n",
       "  </thead>\n",
       "  <tbody>\n",
       "    <tr>\n",
       "      <th>293</th>\n",
       "      <td>201210-1-00</td>\n",
       "      <td>293</td>\n",
       "      <td>400.22778</td>\n",
       "      <td>1765.6628</td>\n",
       "      <td>201210-1</td>\n",
       "      <td>Normal</td>\n",
       "    </tr>\n",
       "    <tr>\n",
       "      <th>294</th>\n",
       "      <td>201210-1-00</td>\n",
       "      <td>294</td>\n",
       "      <td>400.91116</td>\n",
       "      <td>1774.7809</td>\n",
       "      <td>201210-1</td>\n",
       "      <td>Normal</td>\n",
       "    </tr>\n",
       "    <tr>\n",
       "      <th>295</th>\n",
       "      <td>201210-1-00</td>\n",
       "      <td>295</td>\n",
       "      <td>401.59454</td>\n",
       "      <td>1769.0302</td>\n",
       "      <td>201210-1</td>\n",
       "      <td>Normal</td>\n",
       "    </tr>\n",
       "    <tr>\n",
       "      <th>296</th>\n",
       "      <td>201210-1-00</td>\n",
       "      <td>296</td>\n",
       "      <td>402.27789</td>\n",
       "      <td>1756.4220</td>\n",
       "      <td>201210-1</td>\n",
       "      <td>Normal</td>\n",
       "    </tr>\n",
       "    <tr>\n",
       "      <th>297</th>\n",
       "      <td>201210-1-00</td>\n",
       "      <td>297</td>\n",
       "      <td>402.96127</td>\n",
       "      <td>1758.8690</td>\n",
       "      <td>201210-1</td>\n",
       "      <td>Normal</td>\n",
       "    </tr>\n",
       "    <tr>\n",
       "      <th>...</th>\n",
       "      <td>...</td>\n",
       "      <td>...</td>\n",
       "      <td>...</td>\n",
       "      <td>...</td>\n",
       "      <td>...</td>\n",
       "      <td>...</td>\n",
       "    </tr>\n",
       "    <tr>\n",
       "      <th>8023277</th>\n",
       "      <td>210526-3-09</td>\n",
       "      <td>2337</td>\n",
       "      <td>1797.03870</td>\n",
       "      <td>1617.3926</td>\n",
       "      <td>210526-3</td>\n",
       "      <td>Hyperglycemia</td>\n",
       "    </tr>\n",
       "    <tr>\n",
       "      <th>8023278</th>\n",
       "      <td>210526-3-09</td>\n",
       "      <td>2338</td>\n",
       "      <td>1797.72200</td>\n",
       "      <td>1633.0911</td>\n",
       "      <td>210526-3</td>\n",
       "      <td>Hyperglycemia</td>\n",
       "    </tr>\n",
       "    <tr>\n",
       "      <th>8023279</th>\n",
       "      <td>210526-3-09</td>\n",
       "      <td>2339</td>\n",
       "      <td>1798.40550</td>\n",
       "      <td>1633.3076</td>\n",
       "      <td>210526-3</td>\n",
       "      <td>Hyperglycemia</td>\n",
       "    </tr>\n",
       "    <tr>\n",
       "      <th>8023280</th>\n",
       "      <td>210526-3-09</td>\n",
       "      <td>2340</td>\n",
       "      <td>1799.08890</td>\n",
       "      <td>1641.8665</td>\n",
       "      <td>210526-3</td>\n",
       "      <td>Hyperglycemia</td>\n",
       "    </tr>\n",
       "    <tr>\n",
       "      <th>8023281</th>\n",
       "      <td>210526-3-09</td>\n",
       "      <td>2341</td>\n",
       "      <td>1799.77220</td>\n",
       "      <td>1618.2405</td>\n",
       "      <td>210526-3</td>\n",
       "      <td>Hyperglycemia</td>\n",
       "    </tr>\n",
       "  </tbody>\n",
       "</table>\n",
       "<p>6239205 rows × 6 columns</p>\n",
       "</div>"
      ],
      "text/plain": [
       "              SpecID   Seq  WaveNumber  Absorbance     SurID         Status\n",
       "293      201210-1-00   293   400.22778   1765.6628  201210-1         Normal\n",
       "294      201210-1-00   294   400.91116   1774.7809  201210-1         Normal\n",
       "295      201210-1-00   295   401.59454   1769.0302  201210-1         Normal\n",
       "296      201210-1-00   296   402.27789   1756.4220  201210-1         Normal\n",
       "297      201210-1-00   297   402.96127   1758.8690  201210-1         Normal\n",
       "...              ...   ...         ...         ...       ...            ...\n",
       "8023277  210526-3-09  2337  1797.03870   1617.3926  210526-3  Hyperglycemia\n",
       "8023278  210526-3-09  2338  1797.72200   1633.0911  210526-3  Hyperglycemia\n",
       "8023279  210526-3-09  2339  1798.40550   1633.3076  210526-3  Hyperglycemia\n",
       "8023280  210526-3-09  2340  1799.08890   1641.8665  210526-3  Hyperglycemia\n",
       "8023281  210526-3-09  2341  1799.77220   1618.2405  210526-3  Hyperglycemia\n",
       "\n",
       "[6239205 rows x 6 columns]"
      ]
     },
     "execution_count": 4,
     "metadata": {},
     "output_type": "execute_result"
    }
   ],
   "source": [
    "#df = df[(df['WaveNumber'] >= 320) & (df['WaveNumber'] <= 1800)]\n",
    "#df = df[(df['WaveNumber'] >= 380) & (df['WaveNumber'] <= 1800)]\n",
    "df = df[(df['WaveNumber'] >= 400) & (df['WaveNumber'] <= 1800)]\n",
    "\n",
    "df"
   ]
  },
  {
   "cell_type": "code",
   "execution_count": 5,
   "metadata": {},
   "outputs": [],
   "source": [
    "#df.to_csv(\"../../data/exosomes.raw_spectrum_400-1800.csv\", index=False)"
   ]
  },
  {
   "cell_type": "code",
   "execution_count": 6,
   "metadata": {},
   "outputs": [
    {
     "data": {
      "text/html": [
       "<div>\n",
       "<style scoped>\n",
       "    .dataframe tbody tr th:only-of-type {\n",
       "        vertical-align: middle;\n",
       "    }\n",
       "\n",
       "    .dataframe tbody tr th {\n",
       "        vertical-align: top;\n",
       "    }\n",
       "\n",
       "    .dataframe thead th {\n",
       "        text-align: right;\n",
       "    }\n",
       "</style>\n",
       "<table border=\"1\" class=\"dataframe\">\n",
       "  <thead>\n",
       "    <tr style=\"text-align: right;\">\n",
       "      <th></th>\n",
       "      <th>SpecID</th>\n",
       "      <th>Seq</th>\n",
       "      <th>WaveNumber</th>\n",
       "      <th>Absorbance</th>\n",
       "      <th>SurID</th>\n",
       "      <th>Status</th>\n",
       "    </tr>\n",
       "  </thead>\n",
       "  <tbody>\n",
       "    <tr>\n",
       "      <th>293</th>\n",
       "      <td>201210-1-00</td>\n",
       "      <td>293</td>\n",
       "      <td>400.22778</td>\n",
       "      <td>1765.6628</td>\n",
       "      <td>201210-1</td>\n",
       "      <td>Normal</td>\n",
       "    </tr>\n",
       "    <tr>\n",
       "      <th>294</th>\n",
       "      <td>201210-1-00</td>\n",
       "      <td>294</td>\n",
       "      <td>400.91116</td>\n",
       "      <td>1774.7809</td>\n",
       "      <td>201210-1</td>\n",
       "      <td>Normal</td>\n",
       "    </tr>\n",
       "    <tr>\n",
       "      <th>295</th>\n",
       "      <td>201210-1-00</td>\n",
       "      <td>295</td>\n",
       "      <td>401.59454</td>\n",
       "      <td>1769.0302</td>\n",
       "      <td>201210-1</td>\n",
       "      <td>Normal</td>\n",
       "    </tr>\n",
       "    <tr>\n",
       "      <th>296</th>\n",
       "      <td>201210-1-00</td>\n",
       "      <td>296</td>\n",
       "      <td>402.27789</td>\n",
       "      <td>1756.4220</td>\n",
       "      <td>201210-1</td>\n",
       "      <td>Normal</td>\n",
       "    </tr>\n",
       "    <tr>\n",
       "      <th>297</th>\n",
       "      <td>201210-1-00</td>\n",
       "      <td>297</td>\n",
       "      <td>402.96127</td>\n",
       "      <td>1758.8690</td>\n",
       "      <td>201210-1</td>\n",
       "      <td>Normal</td>\n",
       "    </tr>\n",
       "    <tr>\n",
       "      <th>...</th>\n",
       "      <td>...</td>\n",
       "      <td>...</td>\n",
       "      <td>...</td>\n",
       "      <td>...</td>\n",
       "      <td>...</td>\n",
       "      <td>...</td>\n",
       "    </tr>\n",
       "    <tr>\n",
       "      <th>8023277</th>\n",
       "      <td>210526-3-09</td>\n",
       "      <td>2337</td>\n",
       "      <td>1797.03870</td>\n",
       "      <td>1617.3926</td>\n",
       "      <td>210526-3</td>\n",
       "      <td>Hyperglycemia</td>\n",
       "    </tr>\n",
       "    <tr>\n",
       "      <th>8023278</th>\n",
       "      <td>210526-3-09</td>\n",
       "      <td>2338</td>\n",
       "      <td>1797.72200</td>\n",
       "      <td>1633.0911</td>\n",
       "      <td>210526-3</td>\n",
       "      <td>Hyperglycemia</td>\n",
       "    </tr>\n",
       "    <tr>\n",
       "      <th>8023279</th>\n",
       "      <td>210526-3-09</td>\n",
       "      <td>2339</td>\n",
       "      <td>1798.40550</td>\n",
       "      <td>1633.3076</td>\n",
       "      <td>210526-3</td>\n",
       "      <td>Hyperglycemia</td>\n",
       "    </tr>\n",
       "    <tr>\n",
       "      <th>8023280</th>\n",
       "      <td>210526-3-09</td>\n",
       "      <td>2340</td>\n",
       "      <td>1799.08890</td>\n",
       "      <td>1641.8665</td>\n",
       "      <td>210526-3</td>\n",
       "      <td>Hyperglycemia</td>\n",
       "    </tr>\n",
       "    <tr>\n",
       "      <th>8023281</th>\n",
       "      <td>210526-3-09</td>\n",
       "      <td>2341</td>\n",
       "      <td>1799.77220</td>\n",
       "      <td>1618.2405</td>\n",
       "      <td>210526-3</td>\n",
       "      <td>Hyperglycemia</td>\n",
       "    </tr>\n",
       "  </tbody>\n",
       "</table>\n",
       "<p>6239205 rows × 6 columns</p>\n",
       "</div>"
      ],
      "text/plain": [
       "              SpecID   Seq  WaveNumber  Absorbance     SurID         Status\n",
       "293      201210-1-00   293   400.22778   1765.6628  201210-1         Normal\n",
       "294      201210-1-00   294   400.91116   1774.7809  201210-1         Normal\n",
       "295      201210-1-00   295   401.59454   1769.0302  201210-1         Normal\n",
       "296      201210-1-00   296   402.27789   1756.4220  201210-1         Normal\n",
       "297      201210-1-00   297   402.96127   1758.8690  201210-1         Normal\n",
       "...              ...   ...         ...         ...       ...            ...\n",
       "8023277  210526-3-09  2337  1797.03870   1617.3926  210526-3  Hyperglycemia\n",
       "8023278  210526-3-09  2338  1797.72200   1633.0911  210526-3  Hyperglycemia\n",
       "8023279  210526-3-09  2339  1798.40550   1633.3076  210526-3  Hyperglycemia\n",
       "8023280  210526-3-09  2340  1799.08890   1641.8665  210526-3  Hyperglycemia\n",
       "8023281  210526-3-09  2341  1799.77220   1618.2405  210526-3  Hyperglycemia\n",
       "\n",
       "[6239205 rows x 6 columns]"
      ]
     },
     "execution_count": 6,
     "metadata": {},
     "output_type": "execute_result"
    }
   ],
   "source": [
    "df"
   ]
  },
  {
   "cell_type": "code",
   "execution_count": 7,
   "metadata": {},
   "outputs": [
    {
     "data": {
      "text/plain": [
       "array(['201210-1-00', '201210-1-01', '201210-1-02', ..., '210526-3-07',\n",
       "       '210526-3-08', '210526-3-09'], dtype=object)"
      ]
     },
     "execution_count": 7,
     "metadata": {},
     "output_type": "execute_result"
    }
   ],
   "source": [
    "df['SpecID'].unique()"
   ]
  },
  {
   "cell_type": "code",
   "execution_count": 8,
   "metadata": {},
   "outputs": [
    {
     "name": "stdout",
     "output_type": "stream",
     "text": [
      "<class 'pandas.core.frame.DataFrame'>\n",
      "Index: 6239205 entries, 293 to 8023281\n",
      "Data columns (total 6 columns):\n",
      " #   Column      Dtype  \n",
      "---  ------      -----  \n",
      " 0   SpecID      object \n",
      " 1   Seq         int64  \n",
      " 2   WaveNumber  float64\n",
      " 3   Absorbance  float64\n",
      " 4   SurID       object \n",
      " 5   Status      object \n",
      "dtypes: float64(2), int64(1), object(3)\n",
      "memory usage: 333.2+ MB\n"
     ]
    }
   ],
   "source": [
    "df.info()"
   ]
  },
  {
   "cell_type": "markdown",
   "metadata": {},
   "source": [
    "#### Train an Extra Trees Classifier on the full spectrum."
   ]
  },
  {
   "cell_type": "code",
   "execution_count": 9,
   "metadata": {},
   "outputs": [],
   "source": [
    "def prepare_wavelength_df(df, absorbance_col, status_col='Status'):\n",
    "\n",
    "    # Pivot the DataFrame to get wavelengths as columns and absorbance values\n",
    "    wavelength_df = df.pivot(index='SpecID', columns='WaveNumber', values=absorbance_col).reset_index()\n",
    "    wavelength_df.columns.name = None\n",
    "\n",
    "    # Merge with the statuses based on SpecID\n",
    "    # Include the SurID to perform GroupKFold CV\n",
    "    statuses_and_surface = df[['SpecID', 'SurID', status_col]].drop_duplicates()\n",
    "    wavelength_df = pd.merge(wavelength_df, statuses_and_surface, on='SpecID')\n",
    "\n",
    "    # Set SpecID as the index\n",
    "    wavelength_df = wavelength_df.set_index('SpecID')\n",
    "\n",
    "    return wavelength_df"
   ]
  },
  {
   "cell_type": "code",
   "execution_count": 10,
   "metadata": {},
   "outputs": [],
   "source": [
    "wavelength_df = prepare_wavelength_df(df, 'Absorbance')"
   ]
  },
  {
   "cell_type": "code",
   "execution_count": 11,
   "metadata": {},
   "outputs": [
    {
     "data": {
      "text/html": [
       "<div>\n",
       "<style scoped>\n",
       "    .dataframe tbody tr th:only-of-type {\n",
       "        vertical-align: middle;\n",
       "    }\n",
       "\n",
       "    .dataframe tbody tr th {\n",
       "        vertical-align: top;\n",
       "    }\n",
       "\n",
       "    .dataframe thead th {\n",
       "        text-align: right;\n",
       "    }\n",
       "</style>\n",
       "<table border=\"1\" class=\"dataframe\">\n",
       "  <thead>\n",
       "    <tr style=\"text-align: right;\">\n",
       "      <th></th>\n",
       "      <th>400.22778</th>\n",
       "      <th>400.91116</th>\n",
       "      <th>401.59454</th>\n",
       "      <th>402.27789</th>\n",
       "      <th>402.96127</th>\n",
       "      <th>403.64465</th>\n",
       "      <th>404.32803</th>\n",
       "      <th>405.01138</th>\n",
       "      <th>405.69476</th>\n",
       "      <th>406.37814</th>\n",
       "      <th>...</th>\n",
       "      <th>1794.9886</th>\n",
       "      <th>1795.672</th>\n",
       "      <th>1796.3553</th>\n",
       "      <th>1797.0387</th>\n",
       "      <th>1797.722</th>\n",
       "      <th>1798.4055</th>\n",
       "      <th>1799.0889</th>\n",
       "      <th>1799.7722</th>\n",
       "      <th>SurID</th>\n",
       "      <th>Status</th>\n",
       "    </tr>\n",
       "    <tr>\n",
       "      <th>SpecID</th>\n",
       "      <th></th>\n",
       "      <th></th>\n",
       "      <th></th>\n",
       "      <th></th>\n",
       "      <th></th>\n",
       "      <th></th>\n",
       "      <th></th>\n",
       "      <th></th>\n",
       "      <th></th>\n",
       "      <th></th>\n",
       "      <th></th>\n",
       "      <th></th>\n",
       "      <th></th>\n",
       "      <th></th>\n",
       "      <th></th>\n",
       "      <th></th>\n",
       "      <th></th>\n",
       "      <th></th>\n",
       "      <th></th>\n",
       "      <th></th>\n",
       "      <th></th>\n",
       "    </tr>\n",
       "  </thead>\n",
       "  <tbody>\n",
       "    <tr>\n",
       "      <th>201210-1-00</th>\n",
       "      <td>1765.6628</td>\n",
       "      <td>1774.7809</td>\n",
       "      <td>1769.0302</td>\n",
       "      <td>1756.4220</td>\n",
       "      <td>1758.8690</td>\n",
       "      <td>1763.2300</td>\n",
       "      <td>1745.2285</td>\n",
       "      <td>1773.3534</td>\n",
       "      <td>1774.7166</td>\n",
       "      <td>1753.3281</td>\n",
       "      <td>...</td>\n",
       "      <td>1210.4993</td>\n",
       "      <td>1213.9619</td>\n",
       "      <td>1225.2153</td>\n",
       "      <td>1210.0010</td>\n",
       "      <td>1210.6858</td>\n",
       "      <td>1194.4679</td>\n",
       "      <td>1195.1451</td>\n",
       "      <td>1189.8683</td>\n",
       "      <td>201210-1</td>\n",
       "      <td>Normal</td>\n",
       "    </tr>\n",
       "    <tr>\n",
       "      <th>201210-1-01</th>\n",
       "      <td>1966.9930</td>\n",
       "      <td>1962.4237</td>\n",
       "      <td>1954.5616</td>\n",
       "      <td>1954.3228</td>\n",
       "      <td>1963.0917</td>\n",
       "      <td>1975.0807</td>\n",
       "      <td>1979.3162</td>\n",
       "      <td>1963.4561</td>\n",
       "      <td>1968.4587</td>\n",
       "      <td>1964.0000</td>\n",
       "      <td>...</td>\n",
       "      <td>1382.6973</td>\n",
       "      <td>1363.7004</td>\n",
       "      <td>1360.6210</td>\n",
       "      <td>1354.0477</td>\n",
       "      <td>1353.0381</td>\n",
       "      <td>1353.9978</td>\n",
       "      <td>1361.2426</td>\n",
       "      <td>1370.2874</td>\n",
       "      <td>201210-1</td>\n",
       "      <td>Normal</td>\n",
       "    </tr>\n",
       "    <tr>\n",
       "      <th>201210-1-02</th>\n",
       "      <td>2182.6694</td>\n",
       "      <td>2149.6565</td>\n",
       "      <td>2146.0227</td>\n",
       "      <td>2159.3459</td>\n",
       "      <td>2167.2910</td>\n",
       "      <td>2160.9861</td>\n",
       "      <td>2145.6575</td>\n",
       "      <td>2134.2004</td>\n",
       "      <td>2142.8303</td>\n",
       "      <td>2138.6309</td>\n",
       "      <td>...</td>\n",
       "      <td>1976.2070</td>\n",
       "      <td>1989.0183</td>\n",
       "      <td>1996.2838</td>\n",
       "      <td>1979.3507</td>\n",
       "      <td>1976.2002</td>\n",
       "      <td>1994.9839</td>\n",
       "      <td>1974.2030</td>\n",
       "      <td>1971.1880</td>\n",
       "      <td>201210-1</td>\n",
       "      <td>Normal</td>\n",
       "    </tr>\n",
       "    <tr>\n",
       "      <th>201210-1-03</th>\n",
       "      <td>2445.0837</td>\n",
       "      <td>2430.4973</td>\n",
       "      <td>2422.7927</td>\n",
       "      <td>2434.3433</td>\n",
       "      <td>2454.9700</td>\n",
       "      <td>2462.8245</td>\n",
       "      <td>2454.7007</td>\n",
       "      <td>2467.7329</td>\n",
       "      <td>2449.5161</td>\n",
       "      <td>2421.3474</td>\n",
       "      <td>...</td>\n",
       "      <td>1992.3817</td>\n",
       "      <td>2022.6331</td>\n",
       "      <td>2001.8311</td>\n",
       "      <td>2010.0946</td>\n",
       "      <td>2006.4933</td>\n",
       "      <td>2017.2891</td>\n",
       "      <td>2038.1699</td>\n",
       "      <td>2000.6475</td>\n",
       "      <td>201210-1</td>\n",
       "      <td>Normal</td>\n",
       "    </tr>\n",
       "    <tr>\n",
       "      <th>201210-1-04</th>\n",
       "      <td>2250.4536</td>\n",
       "      <td>2248.6235</td>\n",
       "      <td>2245.0984</td>\n",
       "      <td>2242.7173</td>\n",
       "      <td>2235.2803</td>\n",
       "      <td>2228.9585</td>\n",
       "      <td>2236.0095</td>\n",
       "      <td>2229.6091</td>\n",
       "      <td>2225.9231</td>\n",
       "      <td>2211.0359</td>\n",
       "      <td>...</td>\n",
       "      <td>2009.0385</td>\n",
       "      <td>1953.3303</td>\n",
       "      <td>1963.5698</td>\n",
       "      <td>1964.5299</td>\n",
       "      <td>1969.5634</td>\n",
       "      <td>1986.6266</td>\n",
       "      <td>1970.1484</td>\n",
       "      <td>2007.0848</td>\n",
       "      <td>201210-1</td>\n",
       "      <td>Normal</td>\n",
       "    </tr>\n",
       "  </tbody>\n",
       "</table>\n",
       "<p>5 rows × 2051 columns</p>\n",
       "</div>"
      ],
      "text/plain": [
       "             400.22778  400.91116  401.59454  402.27789  402.96127  403.64465  \\\n",
       "SpecID                                                                          \n",
       "201210-1-00  1765.6628  1774.7809  1769.0302  1756.4220  1758.8690  1763.2300   \n",
       "201210-1-01  1966.9930  1962.4237  1954.5616  1954.3228  1963.0917  1975.0807   \n",
       "201210-1-02  2182.6694  2149.6565  2146.0227  2159.3459  2167.2910  2160.9861   \n",
       "201210-1-03  2445.0837  2430.4973  2422.7927  2434.3433  2454.9700  2462.8245   \n",
       "201210-1-04  2250.4536  2248.6235  2245.0984  2242.7173  2235.2803  2228.9585   \n",
       "\n",
       "             404.32803  405.01138  405.69476  406.37814  ...  1794.9886  \\\n",
       "SpecID                                                   ...              \n",
       "201210-1-00  1745.2285  1773.3534  1774.7166  1753.3281  ...  1210.4993   \n",
       "201210-1-01  1979.3162  1963.4561  1968.4587  1964.0000  ...  1382.6973   \n",
       "201210-1-02  2145.6575  2134.2004  2142.8303  2138.6309  ...  1976.2070   \n",
       "201210-1-03  2454.7007  2467.7329  2449.5161  2421.3474  ...  1992.3817   \n",
       "201210-1-04  2236.0095  2229.6091  2225.9231  2211.0359  ...  2009.0385   \n",
       "\n",
       "              1795.672  1796.3553  1797.0387   1797.722  1798.4055  1799.0889  \\\n",
       "SpecID                                                                          \n",
       "201210-1-00  1213.9619  1225.2153  1210.0010  1210.6858  1194.4679  1195.1451   \n",
       "201210-1-01  1363.7004  1360.6210  1354.0477  1353.0381  1353.9978  1361.2426   \n",
       "201210-1-02  1989.0183  1996.2838  1979.3507  1976.2002  1994.9839  1974.2030   \n",
       "201210-1-03  2022.6331  2001.8311  2010.0946  2006.4933  2017.2891  2038.1699   \n",
       "201210-1-04  1953.3303  1963.5698  1964.5299  1969.5634  1986.6266  1970.1484   \n",
       "\n",
       "             1799.7722     SurID  Status  \n",
       "SpecID                                    \n",
       "201210-1-00  1189.8683  201210-1  Normal  \n",
       "201210-1-01  1370.2874  201210-1  Normal  \n",
       "201210-1-02  1971.1880  201210-1  Normal  \n",
       "201210-1-03  2000.6475  201210-1  Normal  \n",
       "201210-1-04  2007.0848  201210-1  Normal  \n",
       "\n",
       "[5 rows x 2051 columns]"
      ]
     },
     "execution_count": 11,
     "metadata": {},
     "output_type": "execute_result"
    }
   ],
   "source": [
    "wavelength_df.head()"
   ]
  },
  {
   "cell_type": "markdown",
   "metadata": {},
   "source": [
    ">**Count the Surface IDs and the number of associated samples**"
   ]
  },
  {
   "cell_type": "code",
   "execution_count": 14,
   "metadata": {},
   "outputs": [
    {
     "data": {
      "text/plain": [
       "63"
      ]
     },
     "execution_count": 14,
     "metadata": {},
     "output_type": "execute_result"
    }
   ],
   "source": [
    "len(df['SurID'].unique())"
   ]
  },
  {
   "cell_type": "code",
   "execution_count": 11,
   "metadata": {},
   "outputs": [
    {
     "data": {
      "text/html": [
       "<div>\n",
       "<style scoped>\n",
       "    .dataframe tbody tr th:only-of-type {\n",
       "        vertical-align: middle;\n",
       "    }\n",
       "\n",
       "    .dataframe tbody tr th {\n",
       "        vertical-align: top;\n",
       "    }\n",
       "\n",
       "    .dataframe thead th {\n",
       "        text-align: right;\n",
       "    }\n",
       "</style>\n",
       "<table border=\"1\" class=\"dataframe\">\n",
       "  <thead>\n",
       "    <tr style=\"text-align: right;\">\n",
       "      <th></th>\n",
       "      <th>SurID</th>\n",
       "      <th>Status</th>\n",
       "      <th>Counts</th>\n",
       "    </tr>\n",
       "  </thead>\n",
       "  <tbody>\n",
       "    <tr>\n",
       "      <th>0</th>\n",
       "      <td>201210-1</td>\n",
       "      <td>Normal</td>\n",
       "      <td>49</td>\n",
       "    </tr>\n",
       "    <tr>\n",
       "      <th>1</th>\n",
       "      <td>201210-2</td>\n",
       "      <td>Normal</td>\n",
       "      <td>50</td>\n",
       "    </tr>\n",
       "    <tr>\n",
       "      <th>2</th>\n",
       "      <td>210114-1</td>\n",
       "      <td>Normal</td>\n",
       "      <td>50</td>\n",
       "    </tr>\n",
       "    <tr>\n",
       "      <th>3</th>\n",
       "      <td>210114-2</td>\n",
       "      <td>Normal</td>\n",
       "      <td>50</td>\n",
       "    </tr>\n",
       "    <tr>\n",
       "      <th>4</th>\n",
       "      <td>210120-1</td>\n",
       "      <td>Hyperglycemia</td>\n",
       "      <td>50</td>\n",
       "    </tr>\n",
       "    <tr>\n",
       "      <th>...</th>\n",
       "      <td>...</td>\n",
       "      <td>...</td>\n",
       "      <td>...</td>\n",
       "    </tr>\n",
       "    <tr>\n",
       "      <th>58</th>\n",
       "      <td>210519-3</td>\n",
       "      <td>Hyperglycemia</td>\n",
       "      <td>50</td>\n",
       "    </tr>\n",
       "    <tr>\n",
       "      <th>59</th>\n",
       "      <td>210524-1</td>\n",
       "      <td>Hypoglycemia</td>\n",
       "      <td>15</td>\n",
       "    </tr>\n",
       "    <tr>\n",
       "      <th>60</th>\n",
       "      <td>210526-1</td>\n",
       "      <td>Hyperglycemia</td>\n",
       "      <td>50</td>\n",
       "    </tr>\n",
       "    <tr>\n",
       "      <th>61</th>\n",
       "      <td>210526-2</td>\n",
       "      <td>Hyperglycemia</td>\n",
       "      <td>15</td>\n",
       "    </tr>\n",
       "    <tr>\n",
       "      <th>62</th>\n",
       "      <td>210526-3</td>\n",
       "      <td>Hyperglycemia</td>\n",
       "      <td>50</td>\n",
       "    </tr>\n",
       "  </tbody>\n",
       "</table>\n",
       "<p>63 rows × 3 columns</p>\n",
       "</div>"
      ],
      "text/plain": [
       "       SurID         Status  Counts\n",
       "0   201210-1         Normal      49\n",
       "1   201210-2         Normal      50\n",
       "2   210114-1         Normal      50\n",
       "3   210114-2         Normal      50\n",
       "4   210120-1  Hyperglycemia      50\n",
       "..       ...            ...     ...\n",
       "58  210519-3  Hyperglycemia      50\n",
       "59  210524-1   Hypoglycemia      15\n",
       "60  210526-1  Hyperglycemia      50\n",
       "61  210526-2  Hyperglycemia      15\n",
       "62  210526-3  Hyperglycemia      50\n",
       "\n",
       "[63 rows x 3 columns]"
      ]
     },
     "execution_count": 11,
     "metadata": {},
     "output_type": "execute_result"
    }
   ],
   "source": [
    "# Count unique combinations\n",
    "unique_combos_count = wavelength_df.groupby(['SurID', 'Status']).size().reset_index(name='Count of Spectra per Surface')\n",
    "unique_combos_count"
   ]
  },
  {
   "cell_type": "markdown",
   "metadata": {},
   "source": [
    ">#### **Train an Extra Trees Classifier on the Raw Spectrum and evaluate it with GroupKFold cross-validation.**"
   ]
  },
  {
   "cell_type": "markdown",
   "metadata": {},
   "source": [
    "Leaves out certain SurIDs out to evaluate the models ability to generalise."
   ]
  },
  {
   "cell_type": "code",
   "execution_count": 12,
   "metadata": {},
   "outputs": [],
   "source": [
    "def evaluate_extra_trees(df):\n",
    "\n",
    "    # Set the Surfaces as groups\n",
    "    groups = df['SurID']\n",
    "    X = df.drop(['Status', 'SurID'], axis=1)\n",
    "    y = df['Status']\n",
    "\n",
    "    # Creating the Extra Trees classifier\n",
    "    et = ExtraTreesClassifier(random_state=1234)\n",
    "    \n",
    "    # Using GroupKFold for classification tasks\n",
    "    cv = GroupKFold(n_splits=10)\n",
    "\n",
    "    scores = []\n",
    "    for train_index, test_index in cv.split(X, y, groups):\n",
    "\n",
    "        X_train, X_test = X.iloc[train_index], X.iloc[test_index]\n",
    "        y_train, y_test = y.iloc[train_index], y.iloc[test_index]\n",
    "        \n",
    "        # Train the Extra Trees classifier\n",
    "        et.fit(X_train, y_train)\n",
    "        predictions = et.predict(X_test)\n",
    "        \n",
    "        # Evaluate the model\n",
    "        score = accuracy_score(y_test, predictions)\n",
    "        scores.append(score)\n",
    "    \n",
    "    # Displaying the results\n",
    "    print(f'{et.__class__.__name__} Cross-Validation Accuracy: {np.mean(scores):.4f} +/- {np.std(scores):.4f}')"
   ]
  },
  {
   "cell_type": "code",
   "execution_count": 13,
   "metadata": {},
   "outputs": [
    {
     "name": "stdout",
     "output_type": "stream",
     "text": [
      "ExtraTreesClassifier Cross-Validation Accuracy: 0.5350 +/- 0.1277\n"
     ]
    }
   ],
   "source": [
    "evaluate_extra_trees(wavelength_df)"
   ]
  },
  {
   "cell_type": "markdown",
   "metadata": {},
   "source": [
    ">Scale the absorbances to the highest peak in each spectrum."
   ]
  },
  {
   "cell_type": "code",
   "execution_count": 14,
   "metadata": {},
   "outputs": [],
   "source": [
    "def normalise(absorbances):\n",
    "    max_value = np.max(absorbances)\n",
    "    normalized_absorbances = absorbances / max_value\n",
    "    return normalized_absorbances\n",
    "\n",
    "df['Scaled_Absorbance'] = df.groupby('SpecID')['Absorbance'].transform(lambda x: normalise(x))"
   ]
  },
  {
   "cell_type": "code",
   "execution_count": 15,
   "metadata": {},
   "outputs": [
    {
     "data": {
      "text/html": [
       "<div>\n",
       "<style scoped>\n",
       "    .dataframe tbody tr th:only-of-type {\n",
       "        vertical-align: middle;\n",
       "    }\n",
       "\n",
       "    .dataframe tbody tr th {\n",
       "        vertical-align: top;\n",
       "    }\n",
       "\n",
       "    .dataframe thead th {\n",
       "        text-align: right;\n",
       "    }\n",
       "</style>\n",
       "<table border=\"1\" class=\"dataframe\">\n",
       "  <thead>\n",
       "    <tr style=\"text-align: right;\">\n",
       "      <th></th>\n",
       "      <th>SpecID</th>\n",
       "      <th>Seq</th>\n",
       "      <th>WaveNumber</th>\n",
       "      <th>Absorbance</th>\n",
       "      <th>SurID</th>\n",
       "      <th>Status</th>\n",
       "      <th>Scaled_Absorbance</th>\n",
       "    </tr>\n",
       "  </thead>\n",
       "  <tbody>\n",
       "    <tr>\n",
       "      <th>293</th>\n",
       "      <td>201210-1-00</td>\n",
       "      <td>293</td>\n",
       "      <td>400.22778</td>\n",
       "      <td>1765.6628</td>\n",
       "      <td>201210-1</td>\n",
       "      <td>Normal</td>\n",
       "      <td>0.953424</td>\n",
       "    </tr>\n",
       "    <tr>\n",
       "      <th>294</th>\n",
       "      <td>201210-1-00</td>\n",
       "      <td>294</td>\n",
       "      <td>400.91116</td>\n",
       "      <td>1774.7809</td>\n",
       "      <td>201210-1</td>\n",
       "      <td>Normal</td>\n",
       "      <td>0.958347</td>\n",
       "    </tr>\n",
       "    <tr>\n",
       "      <th>295</th>\n",
       "      <td>201210-1-00</td>\n",
       "      <td>295</td>\n",
       "      <td>401.59454</td>\n",
       "      <td>1769.0302</td>\n",
       "      <td>201210-1</td>\n",
       "      <td>Normal</td>\n",
       "      <td>0.955242</td>\n",
       "    </tr>\n",
       "    <tr>\n",
       "      <th>296</th>\n",
       "      <td>201210-1-00</td>\n",
       "      <td>296</td>\n",
       "      <td>402.27789</td>\n",
       "      <td>1756.4220</td>\n",
       "      <td>201210-1</td>\n",
       "      <td>Normal</td>\n",
       "      <td>0.948434</td>\n",
       "    </tr>\n",
       "    <tr>\n",
       "      <th>297</th>\n",
       "      <td>201210-1-00</td>\n",
       "      <td>297</td>\n",
       "      <td>402.96127</td>\n",
       "      <td>1758.8690</td>\n",
       "      <td>201210-1</td>\n",
       "      <td>Normal</td>\n",
       "      <td>0.949755</td>\n",
       "    </tr>\n",
       "  </tbody>\n",
       "</table>\n",
       "</div>"
      ],
      "text/plain": [
       "          SpecID  Seq  WaveNumber  Absorbance     SurID  Status  \\\n",
       "293  201210-1-00  293   400.22778   1765.6628  201210-1  Normal   \n",
       "294  201210-1-00  294   400.91116   1774.7809  201210-1  Normal   \n",
       "295  201210-1-00  295   401.59454   1769.0302  201210-1  Normal   \n",
       "296  201210-1-00  296   402.27789   1756.4220  201210-1  Normal   \n",
       "297  201210-1-00  297   402.96127   1758.8690  201210-1  Normal   \n",
       "\n",
       "     Scaled_Absorbance  \n",
       "293           0.953424  \n",
       "294           0.958347  \n",
       "295           0.955242  \n",
       "296           0.948434  \n",
       "297           0.949755  "
      ]
     },
     "execution_count": 15,
     "metadata": {},
     "output_type": "execute_result"
    }
   ],
   "source": [
    "df.head()"
   ]
  },
  {
   "cell_type": "code",
   "execution_count": 16,
   "metadata": {},
   "outputs": [],
   "source": [
    "scaled_raw_df = prepare_wavelength_df(df, 'Scaled_Absorbance')"
   ]
  },
  {
   "cell_type": "code",
   "execution_count": 17,
   "metadata": {},
   "outputs": [
    {
     "data": {
      "text/html": [
       "<div>\n",
       "<style scoped>\n",
       "    .dataframe tbody tr th:only-of-type {\n",
       "        vertical-align: middle;\n",
       "    }\n",
       "\n",
       "    .dataframe tbody tr th {\n",
       "        vertical-align: top;\n",
       "    }\n",
       "\n",
       "    .dataframe thead th {\n",
       "        text-align: right;\n",
       "    }\n",
       "</style>\n",
       "<table border=\"1\" class=\"dataframe\">\n",
       "  <thead>\n",
       "    <tr style=\"text-align: right;\">\n",
       "      <th></th>\n",
       "      <th>400.22778</th>\n",
       "      <th>400.91116</th>\n",
       "      <th>401.59454</th>\n",
       "      <th>402.27789</th>\n",
       "      <th>402.96127</th>\n",
       "      <th>403.64465</th>\n",
       "      <th>404.32803</th>\n",
       "      <th>405.01138</th>\n",
       "      <th>405.69476</th>\n",
       "      <th>406.37814</th>\n",
       "      <th>...</th>\n",
       "      <th>1794.9886</th>\n",
       "      <th>1795.672</th>\n",
       "      <th>1796.3553</th>\n",
       "      <th>1797.0387</th>\n",
       "      <th>1797.722</th>\n",
       "      <th>1798.4055</th>\n",
       "      <th>1799.0889</th>\n",
       "      <th>1799.7722</th>\n",
       "      <th>SurID</th>\n",
       "      <th>Status</th>\n",
       "    </tr>\n",
       "    <tr>\n",
       "      <th>SpecID</th>\n",
       "      <th></th>\n",
       "      <th></th>\n",
       "      <th></th>\n",
       "      <th></th>\n",
       "      <th></th>\n",
       "      <th></th>\n",
       "      <th></th>\n",
       "      <th></th>\n",
       "      <th></th>\n",
       "      <th></th>\n",
       "      <th></th>\n",
       "      <th></th>\n",
       "      <th></th>\n",
       "      <th></th>\n",
       "      <th></th>\n",
       "      <th></th>\n",
       "      <th></th>\n",
       "      <th></th>\n",
       "      <th></th>\n",
       "      <th></th>\n",
       "      <th></th>\n",
       "    </tr>\n",
       "  </thead>\n",
       "  <tbody>\n",
       "    <tr>\n",
       "      <th>201210-1-00</th>\n",
       "      <td>0.953424</td>\n",
       "      <td>0.958347</td>\n",
       "      <td>0.955242</td>\n",
       "      <td>0.948434</td>\n",
       "      <td>0.949755</td>\n",
       "      <td>0.952110</td>\n",
       "      <td>0.942389</td>\n",
       "      <td>0.957576</td>\n",
       "      <td>0.958312</td>\n",
       "      <td>0.946763</td>\n",
       "      <td>...</td>\n",
       "      <td>0.653646</td>\n",
       "      <td>0.655516</td>\n",
       "      <td>0.661592</td>\n",
       "      <td>0.653377</td>\n",
       "      <td>0.653747</td>\n",
       "      <td>0.644989</td>\n",
       "      <td>0.645355</td>\n",
       "      <td>0.642506</td>\n",
       "      <td>201210-1</td>\n",
       "      <td>Normal</td>\n",
       "    </tr>\n",
       "    <tr>\n",
       "      <th>201210-1-01</th>\n",
       "      <td>0.966924</td>\n",
       "      <td>0.964678</td>\n",
       "      <td>0.960813</td>\n",
       "      <td>0.960696</td>\n",
       "      <td>0.965006</td>\n",
       "      <td>0.970900</td>\n",
       "      <td>0.972982</td>\n",
       "      <td>0.965186</td>\n",
       "      <td>0.967645</td>\n",
       "      <td>0.965453</td>\n",
       "      <td>...</td>\n",
       "      <td>0.679699</td>\n",
       "      <td>0.670361</td>\n",
       "      <td>0.668847</td>\n",
       "      <td>0.665616</td>\n",
       "      <td>0.665119</td>\n",
       "      <td>0.665591</td>\n",
       "      <td>0.669153</td>\n",
       "      <td>0.673599</td>\n",
       "      <td>201210-1</td>\n",
       "      <td>Normal</td>\n",
       "    </tr>\n",
       "    <tr>\n",
       "      <th>201210-1-02</th>\n",
       "      <td>0.590483</td>\n",
       "      <td>0.581552</td>\n",
       "      <td>0.580569</td>\n",
       "      <td>0.584174</td>\n",
       "      <td>0.586323</td>\n",
       "      <td>0.584617</td>\n",
       "      <td>0.580471</td>\n",
       "      <td>0.577371</td>\n",
       "      <td>0.579706</td>\n",
       "      <td>0.578570</td>\n",
       "      <td>...</td>\n",
       "      <td>0.534629</td>\n",
       "      <td>0.538094</td>\n",
       "      <td>0.540060</td>\n",
       "      <td>0.535479</td>\n",
       "      <td>0.534627</td>\n",
       "      <td>0.539708</td>\n",
       "      <td>0.534086</td>\n",
       "      <td>0.533271</td>\n",
       "      <td>201210-1</td>\n",
       "      <td>Normal</td>\n",
       "    </tr>\n",
       "    <tr>\n",
       "      <th>201210-1-03</th>\n",
       "      <td>0.708234</td>\n",
       "      <td>0.704009</td>\n",
       "      <td>0.701777</td>\n",
       "      <td>0.705123</td>\n",
       "      <td>0.711097</td>\n",
       "      <td>0.713373</td>\n",
       "      <td>0.711019</td>\n",
       "      <td>0.714794</td>\n",
       "      <td>0.709518</td>\n",
       "      <td>0.701358</td>\n",
       "      <td>...</td>\n",
       "      <td>0.577106</td>\n",
       "      <td>0.585868</td>\n",
       "      <td>0.579843</td>\n",
       "      <td>0.582236</td>\n",
       "      <td>0.581193</td>\n",
       "      <td>0.584320</td>\n",
       "      <td>0.590369</td>\n",
       "      <td>0.579500</td>\n",
       "      <td>201210-1</td>\n",
       "      <td>Normal</td>\n",
       "    </tr>\n",
       "    <tr>\n",
       "      <th>201210-1-04</th>\n",
       "      <td>0.915371</td>\n",
       "      <td>0.914627</td>\n",
       "      <td>0.913193</td>\n",
       "      <td>0.912225</td>\n",
       "      <td>0.909200</td>\n",
       "      <td>0.906628</td>\n",
       "      <td>0.909496</td>\n",
       "      <td>0.906893</td>\n",
       "      <td>0.905394</td>\n",
       "      <td>0.899338</td>\n",
       "      <td>...</td>\n",
       "      <td>0.817176</td>\n",
       "      <td>0.794517</td>\n",
       "      <td>0.798681</td>\n",
       "      <td>0.799072</td>\n",
       "      <td>0.801119</td>\n",
       "      <td>0.808060</td>\n",
       "      <td>0.801357</td>\n",
       "      <td>0.816381</td>\n",
       "      <td>201210-1</td>\n",
       "      <td>Normal</td>\n",
       "    </tr>\n",
       "  </tbody>\n",
       "</table>\n",
       "<p>5 rows × 2051 columns</p>\n",
       "</div>"
      ],
      "text/plain": [
       "             400.22778  400.91116  401.59454  402.27789  402.96127  403.64465  \\\n",
       "SpecID                                                                          \n",
       "201210-1-00   0.953424   0.958347   0.955242   0.948434   0.949755   0.952110   \n",
       "201210-1-01   0.966924   0.964678   0.960813   0.960696   0.965006   0.970900   \n",
       "201210-1-02   0.590483   0.581552   0.580569   0.584174   0.586323   0.584617   \n",
       "201210-1-03   0.708234   0.704009   0.701777   0.705123   0.711097   0.713373   \n",
       "201210-1-04   0.915371   0.914627   0.913193   0.912225   0.909200   0.906628   \n",
       "\n",
       "             404.32803  405.01138  405.69476  406.37814  ...  1794.9886  \\\n",
       "SpecID                                                   ...              \n",
       "201210-1-00   0.942389   0.957576   0.958312   0.946763  ...   0.653646   \n",
       "201210-1-01   0.972982   0.965186   0.967645   0.965453  ...   0.679699   \n",
       "201210-1-02   0.580471   0.577371   0.579706   0.578570  ...   0.534629   \n",
       "201210-1-03   0.711019   0.714794   0.709518   0.701358  ...   0.577106   \n",
       "201210-1-04   0.909496   0.906893   0.905394   0.899338  ...   0.817176   \n",
       "\n",
       "             1795.672  1796.3553  1797.0387  1797.722  1798.4055  1799.0889  \\\n",
       "SpecID                                                                        \n",
       "201210-1-00  0.655516   0.661592   0.653377  0.653747   0.644989   0.645355   \n",
       "201210-1-01  0.670361   0.668847   0.665616  0.665119   0.665591   0.669153   \n",
       "201210-1-02  0.538094   0.540060   0.535479  0.534627   0.539708   0.534086   \n",
       "201210-1-03  0.585868   0.579843   0.582236  0.581193   0.584320   0.590369   \n",
       "201210-1-04  0.794517   0.798681   0.799072  0.801119   0.808060   0.801357   \n",
       "\n",
       "             1799.7722     SurID  Status  \n",
       "SpecID                                    \n",
       "201210-1-00   0.642506  201210-1  Normal  \n",
       "201210-1-01   0.673599  201210-1  Normal  \n",
       "201210-1-02   0.533271  201210-1  Normal  \n",
       "201210-1-03   0.579500  201210-1  Normal  \n",
       "201210-1-04   0.816381  201210-1  Normal  \n",
       "\n",
       "[5 rows x 2051 columns]"
      ]
     },
     "execution_count": 17,
     "metadata": {},
     "output_type": "execute_result"
    }
   ],
   "source": [
    "scaled_raw_df.head()"
   ]
  },
  {
   "cell_type": "code",
   "execution_count": 18,
   "metadata": {},
   "outputs": [],
   "source": [
    "#scaled_raw_df.to_csv(\"../../data/scaled_raw_spectra.csv\")"
   ]
  },
  {
   "cell_type": "code",
   "execution_count": 19,
   "metadata": {},
   "outputs": [
    {
     "name": "stdout",
     "output_type": "stream",
     "text": [
      "ExtraTreesClassifier Cross-Validation Accuracy: 0.4987 +/- 0.0945\n"
     ]
    }
   ],
   "source": [
    "evaluate_extra_trees(scaled_raw_df)"
   ]
  },
  {
   "cell_type": "markdown",
   "metadata": {},
   "source": [
    "> Now see the effect of removing spikes caused by cosmic rays"
   ]
  },
  {
   "cell_type": "markdown",
   "metadata": {},
   "source": [
    "Locate and correct the spikes"
   ]
  },
  {
   "cell_type": "code",
   "execution_count": 20,
   "metadata": {},
   "outputs": [],
   "source": [
    "def modified_z_score(ys):\n",
    "    ysb = np.diff(ys) # Differentiated intensity values\n",
    "    median_y = np.median(ysb) # Median of the intensity values\n",
    "    median_absolute_deviation_y = np.median([np.abs(y - median_y) for y in ysb]) # median_absolute_deviation of the differentiated intensity values\n",
    "    modified_z_scores = [0.6745 * (y - median_y) / median_absolute_deviation_y for y in ysb] # median_absolute_deviationmodified z scores\n",
    "    return modified_z_scores\n",
    "    \n",
    "# The next function calculates the average values around the point to be replaced.\n",
    "def fixer(y,ma):\n",
    "    threshold = 7 # binarisation threshold\n",
    "    spikes = abs(np.array(modified_z_score(y))) > threshold\n",
    "    y_out = y.copy()\n",
    "    for i in np.arange(len(spikes)):\n",
    "        if spikes[i] != 0:\n",
    "            w = np.arange(i-ma,i+1+ma)\n",
    "            we = w[spikes[w] == 0]\n",
    "            if len(we) > 0:  # Check if it has at least one valid value\n",
    "                y_out[i] = np.mean(y[we])\n",
    "    return y_out\n",
    "\n",
    "def despike_group(absorbances):\n",
    "    absorbance_data = absorbances.to_numpy()\n",
    "    despiked_absorbance = fixer(absorbance_data, ma=10)\n",
    "    return(despiked_absorbance)\n",
    "\n",
    "df['Despiked_Absorbance'] = df.groupby('SpecID')['Absorbance'].transform(lambda x: despike_group(x))"
   ]
  },
  {
   "cell_type": "code",
   "execution_count": 21,
   "metadata": {},
   "outputs": [
    {
     "data": {
      "text/html": [
       "<div>\n",
       "<style scoped>\n",
       "    .dataframe tbody tr th:only-of-type {\n",
       "        vertical-align: middle;\n",
       "    }\n",
       "\n",
       "    .dataframe tbody tr th {\n",
       "        vertical-align: top;\n",
       "    }\n",
       "\n",
       "    .dataframe thead th {\n",
       "        text-align: right;\n",
       "    }\n",
       "</style>\n",
       "<table border=\"1\" class=\"dataframe\">\n",
       "  <thead>\n",
       "    <tr style=\"text-align: right;\">\n",
       "      <th></th>\n",
       "      <th>SpecID</th>\n",
       "      <th>Seq</th>\n",
       "      <th>WaveNumber</th>\n",
       "      <th>Absorbance</th>\n",
       "      <th>SurID</th>\n",
       "      <th>Status</th>\n",
       "      <th>Scaled_Absorbance</th>\n",
       "      <th>Despiked_Absorbance</th>\n",
       "    </tr>\n",
       "  </thead>\n",
       "  <tbody>\n",
       "    <tr>\n",
       "      <th>293</th>\n",
       "      <td>201210-1-00</td>\n",
       "      <td>293</td>\n",
       "      <td>400.22778</td>\n",
       "      <td>1765.6628</td>\n",
       "      <td>201210-1</td>\n",
       "      <td>Normal</td>\n",
       "      <td>0.953424</td>\n",
       "      <td>1765.6628</td>\n",
       "    </tr>\n",
       "    <tr>\n",
       "      <th>294</th>\n",
       "      <td>201210-1-00</td>\n",
       "      <td>294</td>\n",
       "      <td>400.91116</td>\n",
       "      <td>1774.7809</td>\n",
       "      <td>201210-1</td>\n",
       "      <td>Normal</td>\n",
       "      <td>0.958347</td>\n",
       "      <td>1774.7809</td>\n",
       "    </tr>\n",
       "    <tr>\n",
       "      <th>295</th>\n",
       "      <td>201210-1-00</td>\n",
       "      <td>295</td>\n",
       "      <td>401.59454</td>\n",
       "      <td>1769.0302</td>\n",
       "      <td>201210-1</td>\n",
       "      <td>Normal</td>\n",
       "      <td>0.955242</td>\n",
       "      <td>1769.0302</td>\n",
       "    </tr>\n",
       "    <tr>\n",
       "      <th>296</th>\n",
       "      <td>201210-1-00</td>\n",
       "      <td>296</td>\n",
       "      <td>402.27789</td>\n",
       "      <td>1756.4220</td>\n",
       "      <td>201210-1</td>\n",
       "      <td>Normal</td>\n",
       "      <td>0.948434</td>\n",
       "      <td>1756.4220</td>\n",
       "    </tr>\n",
       "    <tr>\n",
       "      <th>297</th>\n",
       "      <td>201210-1-00</td>\n",
       "      <td>297</td>\n",
       "      <td>402.96127</td>\n",
       "      <td>1758.8690</td>\n",
       "      <td>201210-1</td>\n",
       "      <td>Normal</td>\n",
       "      <td>0.949755</td>\n",
       "      <td>1758.8690</td>\n",
       "    </tr>\n",
       "    <tr>\n",
       "      <th>...</th>\n",
       "      <td>...</td>\n",
       "      <td>...</td>\n",
       "      <td>...</td>\n",
       "      <td>...</td>\n",
       "      <td>...</td>\n",
       "      <td>...</td>\n",
       "      <td>...</td>\n",
       "      <td>...</td>\n",
       "    </tr>\n",
       "    <tr>\n",
       "      <th>8023277</th>\n",
       "      <td>210526-3-09</td>\n",
       "      <td>2337</td>\n",
       "      <td>1797.03870</td>\n",
       "      <td>1617.3926</td>\n",
       "      <td>210526-3</td>\n",
       "      <td>Hyperglycemia</td>\n",
       "      <td>0.677079</td>\n",
       "      <td>1617.3926</td>\n",
       "    </tr>\n",
       "    <tr>\n",
       "      <th>8023278</th>\n",
       "      <td>210526-3-09</td>\n",
       "      <td>2338</td>\n",
       "      <td>1797.72200</td>\n",
       "      <td>1633.0911</td>\n",
       "      <td>210526-3</td>\n",
       "      <td>Hyperglycemia</td>\n",
       "      <td>0.683651</td>\n",
       "      <td>1633.0911</td>\n",
       "    </tr>\n",
       "    <tr>\n",
       "      <th>8023279</th>\n",
       "      <td>210526-3-09</td>\n",
       "      <td>2339</td>\n",
       "      <td>1798.40550</td>\n",
       "      <td>1633.3076</td>\n",
       "      <td>210526-3</td>\n",
       "      <td>Hyperglycemia</td>\n",
       "      <td>0.683742</td>\n",
       "      <td>1633.3076</td>\n",
       "    </tr>\n",
       "    <tr>\n",
       "      <th>8023280</th>\n",
       "      <td>210526-3-09</td>\n",
       "      <td>2340</td>\n",
       "      <td>1799.08890</td>\n",
       "      <td>1641.8665</td>\n",
       "      <td>210526-3</td>\n",
       "      <td>Hyperglycemia</td>\n",
       "      <td>0.687325</td>\n",
       "      <td>1641.8665</td>\n",
       "    </tr>\n",
       "    <tr>\n",
       "      <th>8023281</th>\n",
       "      <td>210526-3-09</td>\n",
       "      <td>2341</td>\n",
       "      <td>1799.77220</td>\n",
       "      <td>1618.2405</td>\n",
       "      <td>210526-3</td>\n",
       "      <td>Hyperglycemia</td>\n",
       "      <td>0.677434</td>\n",
       "      <td>1618.2405</td>\n",
       "    </tr>\n",
       "  </tbody>\n",
       "</table>\n",
       "<p>6239205 rows × 8 columns</p>\n",
       "</div>"
      ],
      "text/plain": [
       "              SpecID   Seq  WaveNumber  Absorbance     SurID         Status  \\\n",
       "293      201210-1-00   293   400.22778   1765.6628  201210-1         Normal   \n",
       "294      201210-1-00   294   400.91116   1774.7809  201210-1         Normal   \n",
       "295      201210-1-00   295   401.59454   1769.0302  201210-1         Normal   \n",
       "296      201210-1-00   296   402.27789   1756.4220  201210-1         Normal   \n",
       "297      201210-1-00   297   402.96127   1758.8690  201210-1         Normal   \n",
       "...              ...   ...         ...         ...       ...            ...   \n",
       "8023277  210526-3-09  2337  1797.03870   1617.3926  210526-3  Hyperglycemia   \n",
       "8023278  210526-3-09  2338  1797.72200   1633.0911  210526-3  Hyperglycemia   \n",
       "8023279  210526-3-09  2339  1798.40550   1633.3076  210526-3  Hyperglycemia   \n",
       "8023280  210526-3-09  2340  1799.08890   1641.8665  210526-3  Hyperglycemia   \n",
       "8023281  210526-3-09  2341  1799.77220   1618.2405  210526-3  Hyperglycemia   \n",
       "\n",
       "         Scaled_Absorbance  Despiked_Absorbance  \n",
       "293               0.953424            1765.6628  \n",
       "294               0.958347            1774.7809  \n",
       "295               0.955242            1769.0302  \n",
       "296               0.948434            1756.4220  \n",
       "297               0.949755            1758.8690  \n",
       "...                    ...                  ...  \n",
       "8023277           0.677079            1617.3926  \n",
       "8023278           0.683651            1633.0911  \n",
       "8023279           0.683742            1633.3076  \n",
       "8023280           0.687325            1641.8665  \n",
       "8023281           0.677434            1618.2405  \n",
       "\n",
       "[6239205 rows x 8 columns]"
      ]
     },
     "execution_count": 21,
     "metadata": {},
     "output_type": "execute_result"
    }
   ],
   "source": [
    "df  "
   ]
  },
  {
   "cell_type": "code",
   "execution_count": 22,
   "metadata": {},
   "outputs": [],
   "source": [
    "despiked_df = prepare_wavelength_df(df, 'Despiked_Absorbance')"
   ]
  },
  {
   "cell_type": "code",
   "execution_count": 23,
   "metadata": {},
   "outputs": [
    {
     "name": "stdout",
     "output_type": "stream",
     "text": [
      "ExtraTreesClassifier Cross-Validation Accuracy: 0.5419 +/- 0.1319\n"
     ]
    }
   ],
   "source": [
    "evaluate_extra_trees(despiked_df)"
   ]
  },
  {
   "cell_type": "markdown",
   "metadata": {},
   "source": [
    "Despike with scaling."
   ]
  },
  {
   "cell_type": "code",
   "execution_count": 24,
   "metadata": {},
   "outputs": [],
   "source": [
    "df['Scaled_Despiked_Absorbance'] = df.groupby('SpecID')['Despiked_Absorbance'].transform(lambda x: normalise(x))"
   ]
  },
  {
   "cell_type": "code",
   "execution_count": 25,
   "metadata": {},
   "outputs": [],
   "source": [
    "scaled_despiked_df = prepare_wavelength_df(df, 'Scaled_Despiked_Absorbance')"
   ]
  },
  {
   "cell_type": "code",
   "execution_count": 26,
   "metadata": {},
   "outputs": [
    {
     "name": "stdout",
     "output_type": "stream",
     "text": [
      "ExtraTreesClassifier Cross-Validation Accuracy: 0.5016 +/- 0.0977\n"
     ]
    }
   ],
   "source": [
    "evaluate_extra_trees(scaled_despiked_df)"
   ]
  },
  {
   "cell_type": "markdown",
   "metadata": {},
   "source": [
    "This seems to cause a small degradation to performance."
   ]
  },
  {
   "cell_type": "markdown",
   "metadata": {},
   "source": [
    ">Calculate the baseline using Asymmetric Least Squares, then subtract it from the spectrum."
   ]
  },
  {
   "cell_type": "code",
   "execution_count": 27,
   "metadata": {},
   "outputs": [],
   "source": [
    "# def baseline_als_optimized(y, lam, p, niter=10):\n",
    "#     L = len(y)\n",
    "#     D = sparse.diags([1,-2,1],[0,-1,-2], shape=(L,L-2))\n",
    "#     D = lam * D.dot(D.transpose()) # Precompute this term since it does not depend on `w`\n",
    "#     w = np.ones(L)\n",
    "#     W = sparse.spdiags(w, 0, L, L)\n",
    "#     for i in range(niter):\n",
    "#         W.setdiag(w) # Do not create a new matrix, just update diagonal values\n",
    "#         Z = W + D\n",
    "#         z = spsolve(Z, w*y)\n",
    "#         w = p * (y > z) + (1-p) * (y < z)\n",
    "#     return z\n",
    "\n",
    "# lam = 10 ** 8\n",
    "# p = 0.05\n",
    "# df['Baseline_Corrected_Absorbance'] = df.groupby('SpecID')['Despiked_Absorbance'].transform(lambda x: baseline_als_optimized(x, lam=lam, p=p))"
   ]
  },
  {
   "cell_type": "code",
   "execution_count": 28,
   "metadata": {},
   "outputs": [],
   "source": [
    "from pybaselines.whittaker import asls\n",
    "\n",
    "def asls_baseline_correction(x, lam, p):\n",
    "        corrected, _ = asls(x, lam=lam, p=p)\n",
    "        return corrected"
   ]
  },
  {
   "cell_type": "markdown",
   "metadata": {},
   "source": [
    "The PyBaselines Library Performs this much faster."
   ]
  },
  {
   "cell_type": "markdown",
   "metadata": {},
   "source": [
    "Here is an example on 1 spectrum"
   ]
  },
  {
   "cell_type": "code",
   "execution_count": 29,
   "metadata": {},
   "outputs": [
    {
     "data": {
      "text/html": [
       "<div>\n",
       "<style scoped>\n",
       "    .dataframe tbody tr th:only-of-type {\n",
       "        vertical-align: middle;\n",
       "    }\n",
       "\n",
       "    .dataframe tbody tr th {\n",
       "        vertical-align: top;\n",
       "    }\n",
       "\n",
       "    .dataframe thead th {\n",
       "        text-align: right;\n",
       "    }\n",
       "</style>\n",
       "<table border=\"1\" class=\"dataframe\">\n",
       "  <thead>\n",
       "    <tr style=\"text-align: right;\">\n",
       "      <th></th>\n",
       "      <th>SpecID</th>\n",
       "      <th>Seq</th>\n",
       "      <th>WaveNumber</th>\n",
       "      <th>Absorbance</th>\n",
       "      <th>SurID</th>\n",
       "      <th>Status</th>\n",
       "      <th>Scaled_Absorbance</th>\n",
       "      <th>Despiked_Absorbance</th>\n",
       "      <th>Scaled_Despiked_Absorbance</th>\n",
       "    </tr>\n",
       "  </thead>\n",
       "  <tbody>\n",
       "    <tr>\n",
       "      <th>8013328</th>\n",
       "      <td>210526-3-06</td>\n",
       "      <td>293</td>\n",
       "      <td>400.22778</td>\n",
       "      <td>2367.7305</td>\n",
       "      <td>210526-3</td>\n",
       "      <td>Hyperglycemia</td>\n",
       "      <td>0.832666</td>\n",
       "      <td>2367.7305</td>\n",
       "      <td>0.832666</td>\n",
       "    </tr>\n",
       "    <tr>\n",
       "      <th>8013329</th>\n",
       "      <td>210526-3-06</td>\n",
       "      <td>294</td>\n",
       "      <td>400.91116</td>\n",
       "      <td>2352.8223</td>\n",
       "      <td>210526-3</td>\n",
       "      <td>Hyperglycemia</td>\n",
       "      <td>0.827424</td>\n",
       "      <td>2352.8223</td>\n",
       "      <td>0.827424</td>\n",
       "    </tr>\n",
       "    <tr>\n",
       "      <th>8013330</th>\n",
       "      <td>210526-3-06</td>\n",
       "      <td>295</td>\n",
       "      <td>401.59454</td>\n",
       "      <td>2377.9473</td>\n",
       "      <td>210526-3</td>\n",
       "      <td>Hyperglycemia</td>\n",
       "      <td>0.836259</td>\n",
       "      <td>2377.9473</td>\n",
       "      <td>0.836259</td>\n",
       "    </tr>\n",
       "    <tr>\n",
       "      <th>8013331</th>\n",
       "      <td>210526-3-06</td>\n",
       "      <td>296</td>\n",
       "      <td>402.27789</td>\n",
       "      <td>2394.0313</td>\n",
       "      <td>210526-3</td>\n",
       "      <td>Hyperglycemia</td>\n",
       "      <td>0.841916</td>\n",
       "      <td>2394.0313</td>\n",
       "      <td>0.841916</td>\n",
       "    </tr>\n",
       "    <tr>\n",
       "      <th>8013332</th>\n",
       "      <td>210526-3-06</td>\n",
       "      <td>297</td>\n",
       "      <td>402.96127</td>\n",
       "      <td>2376.4995</td>\n",
       "      <td>210526-3</td>\n",
       "      <td>Hyperglycemia</td>\n",
       "      <td>0.835750</td>\n",
       "      <td>2376.4995</td>\n",
       "      <td>0.835750</td>\n",
       "    </tr>\n",
       "    <tr>\n",
       "      <th>...</th>\n",
       "      <td>...</td>\n",
       "      <td>...</td>\n",
       "      <td>...</td>\n",
       "      <td>...</td>\n",
       "      <td>...</td>\n",
       "      <td>...</td>\n",
       "      <td>...</td>\n",
       "      <td>...</td>\n",
       "      <td>...</td>\n",
       "    </tr>\n",
       "    <tr>\n",
       "      <th>8015372</th>\n",
       "      <td>210526-3-06</td>\n",
       "      <td>2337</td>\n",
       "      <td>1797.03870</td>\n",
       "      <td>1967.4805</td>\n",
       "      <td>210526-3</td>\n",
       "      <td>Hyperglycemia</td>\n",
       "      <td>0.691909</td>\n",
       "      <td>1967.4805</td>\n",
       "      <td>0.691909</td>\n",
       "    </tr>\n",
       "    <tr>\n",
       "      <th>8015373</th>\n",
       "      <td>210526-3-06</td>\n",
       "      <td>2338</td>\n",
       "      <td>1797.72200</td>\n",
       "      <td>1965.0815</td>\n",
       "      <td>210526-3</td>\n",
       "      <td>Hyperglycemia</td>\n",
       "      <td>0.691066</td>\n",
       "      <td>1965.0815</td>\n",
       "      <td>0.691066</td>\n",
       "    </tr>\n",
       "    <tr>\n",
       "      <th>8015374</th>\n",
       "      <td>210526-3-06</td>\n",
       "      <td>2339</td>\n",
       "      <td>1798.40550</td>\n",
       "      <td>1947.5498</td>\n",
       "      <td>210526-3</td>\n",
       "      <td>Hyperglycemia</td>\n",
       "      <td>0.684900</td>\n",
       "      <td>1947.5498</td>\n",
       "      <td>0.684900</td>\n",
       "    </tr>\n",
       "    <tr>\n",
       "      <th>8015375</th>\n",
       "      <td>210526-3-06</td>\n",
       "      <td>2340</td>\n",
       "      <td>1799.08890</td>\n",
       "      <td>1951.8849</td>\n",
       "      <td>210526-3</td>\n",
       "      <td>Hyperglycemia</td>\n",
       "      <td>0.686425</td>\n",
       "      <td>1951.8849</td>\n",
       "      <td>0.686425</td>\n",
       "    </tr>\n",
       "    <tr>\n",
       "      <th>8015376</th>\n",
       "      <td>210526-3-06</td>\n",
       "      <td>2341</td>\n",
       "      <td>1799.77220</td>\n",
       "      <td>1953.0166</td>\n",
       "      <td>210526-3</td>\n",
       "      <td>Hyperglycemia</td>\n",
       "      <td>0.686823</td>\n",
       "      <td>1953.0166</td>\n",
       "      <td>0.686823</td>\n",
       "    </tr>\n",
       "  </tbody>\n",
       "</table>\n",
       "<p>2049 rows × 9 columns</p>\n",
       "</div>"
      ],
      "text/plain": [
       "              SpecID   Seq  WaveNumber  Absorbance     SurID         Status  \\\n",
       "8013328  210526-3-06   293   400.22778   2367.7305  210526-3  Hyperglycemia   \n",
       "8013329  210526-3-06   294   400.91116   2352.8223  210526-3  Hyperglycemia   \n",
       "8013330  210526-3-06   295   401.59454   2377.9473  210526-3  Hyperglycemia   \n",
       "8013331  210526-3-06   296   402.27789   2394.0313  210526-3  Hyperglycemia   \n",
       "8013332  210526-3-06   297   402.96127   2376.4995  210526-3  Hyperglycemia   \n",
       "...              ...   ...         ...         ...       ...            ...   \n",
       "8015372  210526-3-06  2337  1797.03870   1967.4805  210526-3  Hyperglycemia   \n",
       "8015373  210526-3-06  2338  1797.72200   1965.0815  210526-3  Hyperglycemia   \n",
       "8015374  210526-3-06  2339  1798.40550   1947.5498  210526-3  Hyperglycemia   \n",
       "8015375  210526-3-06  2340  1799.08890   1951.8849  210526-3  Hyperglycemia   \n",
       "8015376  210526-3-06  2341  1799.77220   1953.0166  210526-3  Hyperglycemia   \n",
       "\n",
       "         Scaled_Absorbance  Despiked_Absorbance  Scaled_Despiked_Absorbance  \n",
       "8013328           0.832666            2367.7305                    0.832666  \n",
       "8013329           0.827424            2352.8223                    0.827424  \n",
       "8013330           0.836259            2377.9473                    0.836259  \n",
       "8013331           0.841916            2394.0313                    0.841916  \n",
       "8013332           0.835750            2376.4995                    0.835750  \n",
       "...                    ...                  ...                         ...  \n",
       "8015372           0.691909            1967.4805                    0.691909  \n",
       "8015373           0.691066            1965.0815                    0.691066  \n",
       "8015374           0.684900            1947.5498                    0.684900  \n",
       "8015375           0.686425            1951.8849                    0.686425  \n",
       "8015376           0.686823            1953.0166                    0.686823  \n",
       "\n",
       "[2049 rows x 9 columns]"
      ]
     },
     "execution_count": 29,
     "metadata": {},
     "output_type": "execute_result"
    }
   ],
   "source": [
    "sample = df[df['SpecID'] == \"210526-3-06\"]\n",
    "sample"
   ]
  },
  {
   "cell_type": "code",
   "execution_count": 30,
   "metadata": {},
   "outputs": [
    {
     "name": "stderr",
     "output_type": "stream",
     "text": [
      "/tmp/ipykernel_64420/612811503.py:9: SettingWithCopyWarning: \n",
      "A value is trying to be set on a copy of a slice from a DataFrame.\n",
      "Try using .loc[row_indexer,col_indexer] = value instead\n",
      "\n",
      "See the caveats in the documentation: https://pandas.pydata.org/pandas-docs/stable/user_guide/indexing.html#returning-a-view-versus-a-copy\n",
      "  sample['Baseline'] = sample.groupby('SpecID')['Absorbance'].transform(lambda x: asls_baseline_correction(x, lam=lam, p=p))\n"
     ]
    },
    {
     "data": {
      "text/plain": [
       "<Axes: xlabel='WaveNumber', ylabel='Absorbance'>"
      ]
     },
     "execution_count": 30,
     "metadata": {},
     "output_type": "execute_result"
    },
    {
     "data": {
      "image/png": "[encoded data removed]",
      "text/plain": [
       "<Figure size 640x480 with 1 Axes>"
      ]
     },
     "metadata": {},
     "output_type": "display_data"
    }
   ],
   "source": [
    "lam = 10 ** 6\n",
    "p = 0.01\n",
    "\n",
    "# lam = 10 ** 7\n",
    "# p = 0.05\n",
    "\n",
    "# lam = 10 ** 9\n",
    "# p = 0.1\n",
    "sample['Baseline'] = sample.groupby('SpecID')['Absorbance'].transform(lambda x: asls_baseline_correction(x, lam=lam, p=p))\n",
    "sns.lineplot(x=\"WaveNumber\", y=\"Absorbance\", data=sample)\n",
    "sns.lineplot(x=\"WaveNumber\", y=\"Baseline\", data=sample)"
   ]
  },
  {
   "cell_type": "markdown",
   "metadata": {},
   "source": [
    "Subtract the baseline."
   ]
  },
  {
   "cell_type": "code",
   "execution_count": 31,
   "metadata": {},
   "outputs": [
    {
     "name": "stderr",
     "output_type": "stream",
     "text": [
      "/tmp/ipykernel_64420/1303904700.py:1: SettingWithCopyWarning: \n",
      "A value is trying to be set on a copy of a slice from a DataFrame.\n",
      "Try using .loc[row_indexer,col_indexer] = value instead\n",
      "\n",
      "See the caveats in the documentation: https://pandas.pydata.org/pandas-docs/stable/user_guide/indexing.html#returning-a-view-versus-a-copy\n",
      "  sample['Baseline_Corrected_Absorbance'] = sample['Absorbance'] - sample['Baseline']\n"
     ]
    },
    {
     "data": {
      "text/plain": [
       "<Axes: xlabel='WaveNumber', ylabel='Baseline_Corrected_Absorbance'>"
      ]
     },
     "execution_count": 31,
     "metadata": {},
     "output_type": "execute_result"
    },
    {
     "data": {
      "image/png": "[encoded data removed]",
      "text/plain": [
       "<Figure size 640x480 with 1 Axes>"
      ]
     },
     "metadata": {},
     "output_type": "display_data"
    }
   ],
   "source": [
    "sample['Baseline_Corrected_Absorbance'] = sample['Absorbance'] - sample['Baseline']\n",
    "sns.lineplot(x=\"WaveNumber\", y=\"Baseline_Corrected_Absorbance\", data=sample)"
   ]
  },
  {
   "cell_type": "markdown",
   "metadata": {},
   "source": [
    "Remove the noise from the spectra using Savitzky–Golay-filtering on the raw spectrum."
   ]
  },
  {
   "cell_type": "code",
   "execution_count": 32,
   "metadata": {},
   "outputs": [
    {
     "name": "stderr",
     "output_type": "stream",
     "text": [
      "/tmp/ipykernel_64420/2008908675.py:6: SettingWithCopyWarning: \n",
      "A value is trying to be set on a copy of a slice from a DataFrame.\n",
      "Try using .loc[row_indexer,col_indexer] = value instead\n",
      "\n",
      "See the caveats in the documentation: https://pandas.pydata.org/pandas-docs/stable/user_guide/indexing.html#returning-a-view-versus-a-copy\n",
      "  sample['Smoothed_Absorbance'] = sample.groupby('SpecID')['Absorbance'].transform(lambda x: savgol_filter(x, window_size, poly_order, deriv=0))\n"
     ]
    },
    {
     "data": {
      "text/plain": [
       "<Axes: xlabel='WaveNumber', ylabel='Smoothed_Absorbance'>"
      ]
     },
     "execution_count": 32,
     "metadata": {},
     "output_type": "execute_result"
    },
    {
     "data": {
      "image/png": "[encoded data removed]",
      "text/plain": [
       "<Figure size 640x480 with 1 Axes>"
      ]
     },
     "metadata": {},
     "output_type": "display_data"
    }
   ],
   "source": [
    "# Set the window size and polynomial order for the Savitzky-Golay filter\n",
    "window_size = 101\n",
    "poly_order = 2\n",
    "\n",
    "# Apply Savitzky-Golay filter to smooth the Absorbance values\n",
    "sample['Smoothed_Absorbance'] = sample.groupby('SpecID')['Absorbance'].transform(lambda x: savgol_filter(x, window_size, poly_order, deriv=0))\n",
    "sns.lineplot(x=\"WaveNumber\", y=\"Smoothed_Absorbance\", data=sample)"
   ]
  },
  {
   "cell_type": "markdown",
   "metadata": {},
   "source": [
    "Try it on the Baseline_Corrected_Spectrum"
   ]
  },
  {
   "cell_type": "code",
   "execution_count": 33,
   "metadata": {},
   "outputs": [
    {
     "name": "stderr",
     "output_type": "stream",
     "text": [
      "/tmp/ipykernel_64420/1425479424.py:2: SettingWithCopyWarning: \n",
      "A value is trying to be set on a copy of a slice from a DataFrame.\n",
      "Try using .loc[row_indexer,col_indexer] = value instead\n",
      "\n",
      "See the caveats in the documentation: https://pandas.pydata.org/pandas-docs/stable/user_guide/indexing.html#returning-a-view-versus-a-copy\n",
      "  sample['Smoothed_Absorbance'] = sample.groupby('SpecID')['Baseline_Corrected_Absorbance'].transform(lambda x: savgol_filter(x, window_size, poly_order, deriv=0))\n"
     ]
    },
    {
     "data": {
      "text/plain": [
       "<Axes: xlabel='WaveNumber', ylabel='Smoothed_Absorbance'>"
      ]
     },
     "execution_count": 33,
     "metadata": {},
     "output_type": "execute_result"
    },
    {
     "data": {
      "image/png": "[encoded data removed]",
      "text/plain": [
       "<Figure size 640x480 with 1 Axes>"
      ]
     },
     "metadata": {},
     "output_type": "display_data"
    }
   ],
   "source": [
    "# Apply Savitzky-Golay filter to smooth the Absorbance values\n",
    "sample['Smoothed_Absorbance'] = sample.groupby('SpecID')['Baseline_Corrected_Absorbance'].transform(lambda x: savgol_filter(x, window_size, poly_order, deriv=0))\n",
    "sns.lineplot(x=\"WaveNumber\", y=\"Smoothed_Absorbance\", data=sample)"
   ]
  },
  {
   "cell_type": "code",
   "execution_count": 34,
   "metadata": {},
   "outputs": [
    {
     "name": "stderr",
     "output_type": "stream",
     "text": [
      "/tmp/ipykernel_64420/1280720429.py:2: SettingWithCopyWarning: \n",
      "A value is trying to be set on a copy of a slice from a DataFrame.\n",
      "Try using .loc[row_indexer,col_indexer] = value instead\n",
      "\n",
      "See the caveats in the documentation: https://pandas.pydata.org/pandas-docs/stable/user_guide/indexing.html#returning-a-view-versus-a-copy\n",
      "  sample['Smoothed_Absorbance'] = sample.groupby('SpecID')['Baseline_Corrected_Absorbance'].transform(lambda x: savgol_filter(x, 9, 2, deriv=0))\n"
     ]
    },
    {
     "data": {
      "text/plain": [
       "<Axes: xlabel='WaveNumber', ylabel='Smoothed_Absorbance'>"
      ]
     },
     "execution_count": 34,
     "metadata": {},
     "output_type": "execute_result"
    },
    {
     "data": {
      "image/png": "[encoded data removed]",
      "text/plain": [
       "<Figure size 640x480 with 1 Axes>"
      ]
     },
     "metadata": {},
     "output_type": "display_data"
    }
   ],
   "source": [
    "# Apply Savitzky-Golay filter to smooth the Absorbance values\n",
    "sample['Smoothed_Absorbance'] = sample.groupby('SpecID')['Baseline_Corrected_Absorbance'].transform(lambda x: savgol_filter(x, 9, 2, deriv=0))\n",
    "sns.lineplot(x=\"WaveNumber\", y=\"Smoothed_Absorbance\", data=sample)"
   ]
  },
  {
   "cell_type": "markdown",
   "metadata": {},
   "source": [
    ">Based on hand tuned parameters lets see how they affect the Machine Learning Classification."
   ]
  },
  {
   "cell_type": "code",
   "execution_count": 35,
   "metadata": {},
   "outputs": [],
   "source": [
    "df['Baseline_Corrected_Absorbance'] = df['Absorbance'] - df.groupby('SpecID')['Absorbance'].transform(lambda x: asls_baseline_correction(x, lam=lam, p=p))"
   ]
  },
  {
   "cell_type": "code",
   "execution_count": 36,
   "metadata": {},
   "outputs": [
    {
     "data": {
      "text/html": [
       "<div>\n",
       "<style scoped>\n",
       "    .dataframe tbody tr th:only-of-type {\n",
       "        vertical-align: middle;\n",
       "    }\n",
       "\n",
       "    .dataframe tbody tr th {\n",
       "        vertical-align: top;\n",
       "    }\n",
       "\n",
       "    .dataframe thead th {\n",
       "        text-align: right;\n",
       "    }\n",
       "</style>\n",
       "<table border=\"1\" class=\"dataframe\">\n",
       "  <thead>\n",
       "    <tr style=\"text-align: right;\">\n",
       "      <th></th>\n",
       "      <th>SpecID</th>\n",
       "      <th>Seq</th>\n",
       "      <th>WaveNumber</th>\n",
       "      <th>Absorbance</th>\n",
       "      <th>SurID</th>\n",
       "      <th>Status</th>\n",
       "      <th>Scaled_Absorbance</th>\n",
       "      <th>Despiked_Absorbance</th>\n",
       "      <th>Scaled_Despiked_Absorbance</th>\n",
       "      <th>Baseline_Corrected_Absorbance</th>\n",
       "    </tr>\n",
       "  </thead>\n",
       "  <tbody>\n",
       "    <tr>\n",
       "      <th>293</th>\n",
       "      <td>201210-1-00</td>\n",
       "      <td>293</td>\n",
       "      <td>400.22778</td>\n",
       "      <td>1765.6628</td>\n",
       "      <td>201210-1</td>\n",
       "      <td>Normal</td>\n",
       "      <td>0.953424</td>\n",
       "      <td>1765.6628</td>\n",
       "      <td>0.953424</td>\n",
       "      <td>24.824567</td>\n",
       "    </tr>\n",
       "    <tr>\n",
       "      <th>294</th>\n",
       "      <td>201210-1-00</td>\n",
       "      <td>294</td>\n",
       "      <td>400.91116</td>\n",
       "      <td>1774.7809</td>\n",
       "      <td>201210-1</td>\n",
       "      <td>Normal</td>\n",
       "      <td>0.958347</td>\n",
       "      <td>1774.7809</td>\n",
       "      <td>0.958347</td>\n",
       "      <td>34.279384</td>\n",
       "    </tr>\n",
       "    <tr>\n",
       "      <th>295</th>\n",
       "      <td>201210-1-00</td>\n",
       "      <td>295</td>\n",
       "      <td>401.59454</td>\n",
       "      <td>1769.0302</td>\n",
       "      <td>201210-1</td>\n",
       "      <td>Normal</td>\n",
       "      <td>0.955242</td>\n",
       "      <td>1769.0302</td>\n",
       "      <td>0.955242</td>\n",
       "      <td>28.865400</td>\n",
       "    </tr>\n",
       "    <tr>\n",
       "      <th>296</th>\n",
       "      <td>201210-1-00</td>\n",
       "      <td>296</td>\n",
       "      <td>402.27789</td>\n",
       "      <td>1756.4220</td>\n",
       "      <td>201210-1</td>\n",
       "      <td>Normal</td>\n",
       "      <td>0.948434</td>\n",
       "      <td>1756.4220</td>\n",
       "      <td>0.948434</td>\n",
       "      <td>16.593916</td>\n",
       "    </tr>\n",
       "    <tr>\n",
       "      <th>297</th>\n",
       "      <td>201210-1-00</td>\n",
       "      <td>297</td>\n",
       "      <td>402.96127</td>\n",
       "      <td>1758.8690</td>\n",
       "      <td>201210-1</td>\n",
       "      <td>Normal</td>\n",
       "      <td>0.949755</td>\n",
       "      <td>1758.8690</td>\n",
       "      <td>0.949755</td>\n",
       "      <td>19.377630</td>\n",
       "    </tr>\n",
       "  </tbody>\n",
       "</table>\n",
       "</div>"
      ],
      "text/plain": [
       "          SpecID  Seq  WaveNumber  Absorbance     SurID  Status  \\\n",
       "293  201210-1-00  293   400.22778   1765.6628  201210-1  Normal   \n",
       "294  201210-1-00  294   400.91116   1774.7809  201210-1  Normal   \n",
       "295  201210-1-00  295   401.59454   1769.0302  201210-1  Normal   \n",
       "296  201210-1-00  296   402.27789   1756.4220  201210-1  Normal   \n",
       "297  201210-1-00  297   402.96127   1758.8690  201210-1  Normal   \n",
       "\n",
       "     Scaled_Absorbance  Despiked_Absorbance  Scaled_Despiked_Absorbance  \\\n",
       "293           0.953424            1765.6628                    0.953424   \n",
       "294           0.958347            1774.7809                    0.958347   \n",
       "295           0.955242            1769.0302                    0.955242   \n",
       "296           0.948434            1756.4220                    0.948434   \n",
       "297           0.949755            1758.8690                    0.949755   \n",
       "\n",
       "     Baseline_Corrected_Absorbance  \n",
       "293                      24.824567  \n",
       "294                      34.279384  \n",
       "295                      28.865400  \n",
       "296                      16.593916  \n",
       "297                      19.377630  "
      ]
     },
     "execution_count": 36,
     "metadata": {},
     "output_type": "execute_result"
    }
   ],
   "source": [
    "df.head()"
   ]
  },
  {
   "cell_type": "code",
   "execution_count": 37,
   "metadata": {},
   "outputs": [],
   "source": [
    "baseline_corrected_df = prepare_wavelength_df(df, 'Baseline_Corrected_Absorbance')"
   ]
  },
  {
   "cell_type": "code",
   "execution_count": 38,
   "metadata": {},
   "outputs": [
    {
     "data": {
      "text/html": [
       "<div>\n",
       "<style scoped>\n",
       "    .dataframe tbody tr th:only-of-type {\n",
       "        vertical-align: middle;\n",
       "    }\n",
       "\n",
       "    .dataframe tbody tr th {\n",
       "        vertical-align: top;\n",
       "    }\n",
       "\n",
       "    .dataframe thead th {\n",
       "        text-align: right;\n",
       "    }\n",
       "</style>\n",
       "<table border=\"1\" class=\"dataframe\">\n",
       "  <thead>\n",
       "    <tr style=\"text-align: right;\">\n",
       "      <th></th>\n",
       "      <th>400.22778</th>\n",
       "      <th>400.91116</th>\n",
       "      <th>401.59454</th>\n",
       "      <th>402.27789</th>\n",
       "      <th>402.96127</th>\n",
       "      <th>403.64465</th>\n",
       "      <th>404.32803</th>\n",
       "      <th>405.01138</th>\n",
       "      <th>405.69476</th>\n",
       "      <th>406.37814</th>\n",
       "      <th>...</th>\n",
       "      <th>1794.9886</th>\n",
       "      <th>1795.672</th>\n",
       "      <th>1796.3553</th>\n",
       "      <th>1797.0387</th>\n",
       "      <th>1797.722</th>\n",
       "      <th>1798.4055</th>\n",
       "      <th>1799.0889</th>\n",
       "      <th>1799.7722</th>\n",
       "      <th>SurID</th>\n",
       "      <th>Status</th>\n",
       "    </tr>\n",
       "    <tr>\n",
       "      <th>SpecID</th>\n",
       "      <th></th>\n",
       "      <th></th>\n",
       "      <th></th>\n",
       "      <th></th>\n",
       "      <th></th>\n",
       "      <th></th>\n",
       "      <th></th>\n",
       "      <th></th>\n",
       "      <th></th>\n",
       "      <th></th>\n",
       "      <th></th>\n",
       "      <th></th>\n",
       "      <th></th>\n",
       "      <th></th>\n",
       "      <th></th>\n",
       "      <th></th>\n",
       "      <th></th>\n",
       "      <th></th>\n",
       "      <th></th>\n",
       "      <th></th>\n",
       "      <th></th>\n",
       "    </tr>\n",
       "  </thead>\n",
       "  <tbody>\n",
       "    <tr>\n",
       "      <th>201210-1-00</th>\n",
       "      <td>24.824567</td>\n",
       "      <td>34.279384</td>\n",
       "      <td>28.865400</td>\n",
       "      <td>16.593916</td>\n",
       "      <td>19.377630</td>\n",
       "      <td>24.075342</td>\n",
       "      <td>6.410549</td>\n",
       "      <td>34.872151</td>\n",
       "      <td>36.572046</td>\n",
       "      <td>15.520232</td>\n",
       "      <td>...</td>\n",
       "      <td>27.948138</td>\n",
       "      <td>32.037429</td>\n",
       "      <td>43.917517</td>\n",
       "      <td>29.329902</td>\n",
       "      <td>30.641385</td>\n",
       "      <td>15.050168</td>\n",
       "      <td>16.354050</td>\n",
       "      <td>11.703932</td>\n",
       "      <td>201210-1</td>\n",
       "      <td>Normal</td>\n",
       "    </tr>\n",
       "    <tr>\n",
       "      <th>201210-1-01</th>\n",
       "      <td>11.747590</td>\n",
       "      <td>7.634711</td>\n",
       "      <td>0.229032</td>\n",
       "      <td>0.446653</td>\n",
       "      <td>9.671974</td>\n",
       "      <td>22.117393</td>\n",
       "      <td>26.809312</td>\n",
       "      <td>11.405629</td>\n",
       "      <td>16.864644</td>\n",
       "      <td>12.862355</td>\n",
       "      <td>...</td>\n",
       "      <td>56.844358</td>\n",
       "      <td>38.551058</td>\n",
       "      <td>36.175250</td>\n",
       "      <td>30.305537</td>\n",
       "      <td>29.999519</td>\n",
       "      <td>31.662798</td>\n",
       "      <td>39.611177</td>\n",
       "      <td>49.359554</td>\n",
       "      <td>201210-1</td>\n",
       "      <td>Normal</td>\n",
       "    </tr>\n",
       "    <tr>\n",
       "      <th>201210-1-02</th>\n",
       "      <td>45.767700</td>\n",
       "      <td>13.415231</td>\n",
       "      <td>10.441862</td>\n",
       "      <td>24.425492</td>\n",
       "      <td>33.031020</td>\n",
       "      <td>27.386545</td>\n",
       "      <td>12.718366</td>\n",
       "      <td>1.921682</td>\n",
       "      <td>11.211991</td>\n",
       "      <td>7.672991</td>\n",
       "      <td>...</td>\n",
       "      <td>29.115236</td>\n",
       "      <td>42.687530</td>\n",
       "      <td>50.714017</td>\n",
       "      <td>34.541898</td>\n",
       "      <td>32.152376</td>\n",
       "      <td>51.697052</td>\n",
       "      <td>31.677128</td>\n",
       "      <td>29.423102</td>\n",
       "      <td>201210-1</td>\n",
       "      <td>Normal</td>\n",
       "    </tr>\n",
       "    <tr>\n",
       "      <th>201210-1-03</th>\n",
       "      <td>23.043036</td>\n",
       "      <td>9.254346</td>\n",
       "      <td>2.347456</td>\n",
       "      <td>14.695766</td>\n",
       "      <td>36.120174</td>\n",
       "      <td>44.772381</td>\n",
       "      <td>37.446286</td>\n",
       "      <td>51.276187</td>\n",
       "      <td>33.857083</td>\n",
       "      <td>6.486072</td>\n",
       "      <td>...</td>\n",
       "      <td>10.683979</td>\n",
       "      <td>42.229530</td>\n",
       "      <td>22.721673</td>\n",
       "      <td>32.279309</td>\n",
       "      <td>29.972142</td>\n",
       "      <td>42.062071</td>\n",
       "      <td>64.237000</td>\n",
       "      <td>28.008728</td>\n",
       "      <td>201210-1</td>\n",
       "      <td>Normal</td>\n",
       "    </tr>\n",
       "    <tr>\n",
       "      <th>201210-1-04</th>\n",
       "      <td>48.503421</td>\n",
       "      <td>47.132020</td>\n",
       "      <td>44.065619</td>\n",
       "      <td>42.143216</td>\n",
       "      <td>35.164911</td>\n",
       "      <td>29.301801</td>\n",
       "      <td>36.811484</td>\n",
       "      <td>30.869758</td>\n",
       "      <td>27.642419</td>\n",
       "      <td>13.213866</td>\n",
       "      <td>...</td>\n",
       "      <td>60.365182</td>\n",
       "      <td>5.805818</td>\n",
       "      <td>17.194146</td>\n",
       "      <td>19.303067</td>\n",
       "      <td>25.485384</td>\n",
       "      <td>43.697397</td>\n",
       "      <td>28.368009</td>\n",
       "      <td>66.453221</td>\n",
       "      <td>201210-1</td>\n",
       "      <td>Normal</td>\n",
       "    </tr>\n",
       "  </tbody>\n",
       "</table>\n",
       "<p>5 rows × 2051 columns</p>\n",
       "</div>"
      ],
      "text/plain": [
       "             400.22778  400.91116  401.59454  402.27789  402.96127  403.64465  \\\n",
       "SpecID                                                                          \n",
       "201210-1-00  24.824567  34.279384  28.865400  16.593916  19.377630  24.075342   \n",
       "201210-1-01  11.747590   7.634711   0.229032   0.446653   9.671974  22.117393   \n",
       "201210-1-02  45.767700  13.415231  10.441862  24.425492  33.031020  27.386545   \n",
       "201210-1-03  23.043036   9.254346   2.347456  14.695766  36.120174  44.772381   \n",
       "201210-1-04  48.503421  47.132020  44.065619  42.143216  35.164911  29.301801   \n",
       "\n",
       "             404.32803  405.01138  405.69476  406.37814  ...  1794.9886  \\\n",
       "SpecID                                                   ...              \n",
       "201210-1-00   6.410549  34.872151  36.572046  15.520232  ...  27.948138   \n",
       "201210-1-01  26.809312  11.405629  16.864644  12.862355  ...  56.844358   \n",
       "201210-1-02  12.718366   1.921682  11.211991   7.672991  ...  29.115236   \n",
       "201210-1-03  37.446286  51.276187  33.857083   6.486072  ...  10.683979   \n",
       "201210-1-04  36.811484  30.869758  27.642419  13.213866  ...  60.365182   \n",
       "\n",
       "              1795.672  1796.3553  1797.0387   1797.722  1798.4055  1799.0889  \\\n",
       "SpecID                                                                          \n",
       "201210-1-00  32.037429  43.917517  29.329902  30.641385  15.050168  16.354050   \n",
       "201210-1-01  38.551058  36.175250  30.305537  29.999519  31.662798  39.611177   \n",
       "201210-1-02  42.687530  50.714017  34.541898  32.152376  51.697052  31.677128   \n",
       "201210-1-03  42.229530  22.721673  32.279309  29.972142  42.062071  64.237000   \n",
       "201210-1-04   5.805818  17.194146  19.303067  25.485384  43.697397  28.368009   \n",
       "\n",
       "             1799.7722     SurID  Status  \n",
       "SpecID                                    \n",
       "201210-1-00  11.703932  201210-1  Normal  \n",
       "201210-1-01  49.359554  201210-1  Normal  \n",
       "201210-1-02  29.423102  201210-1  Normal  \n",
       "201210-1-03  28.008728  201210-1  Normal  \n",
       "201210-1-04  66.453221  201210-1  Normal  \n",
       "\n",
       "[5 rows x 2051 columns]"
      ]
     },
     "execution_count": 38,
     "metadata": {},
     "output_type": "execute_result"
    }
   ],
   "source": [
    "baseline_corrected_df.head()"
   ]
  },
  {
   "cell_type": "code",
   "execution_count": 39,
   "metadata": {},
   "outputs": [
    {
     "name": "stdout",
     "output_type": "stream",
     "text": [
      "ExtraTreesClassifier Cross-Validation Accuracy: 0.5639 +/- 0.1272\n"
     ]
    }
   ],
   "source": [
    "evaluate_extra_trees(baseline_corrected_df)"
   ]
  },
  {
   "cell_type": "markdown",
   "metadata": {},
   "source": [
    "Scale the Baseline Corrected Absorbances to the highest peak."
   ]
  },
  {
   "cell_type": "code",
   "execution_count": 40,
   "metadata": {},
   "outputs": [],
   "source": [
    "df['Scaled_Baseline_Corrected'] = df.groupby('SpecID')['Baseline_Corrected_Absorbance'].transform(lambda x: normalise(x))"
   ]
  },
  {
   "cell_type": "code",
   "execution_count": 41,
   "metadata": {},
   "outputs": [],
   "source": [
    "scaled_baseline_df = prepare_wavelength_df(df, 'Scaled_Baseline_Corrected')"
   ]
  },
  {
   "cell_type": "code",
   "execution_count": 42,
   "metadata": {},
   "outputs": [
    {
     "name": "stdout",
     "output_type": "stream",
     "text": [
      "ExtraTreesClassifier Cross-Validation Accuracy: 0.5178 +/- 0.1195\n"
     ]
    }
   ],
   "source": [
    "evaluate_extra_trees(scaled_baseline_df)"
   ]
  },
  {
   "cell_type": "markdown",
   "metadata": {},
   "source": [
    "> Lets try 2 different Savitsky Golay Approaches on the Raw and Baseline Corrected Spectra with and without scaling"
   ]
  },
  {
   "cell_type": "code",
   "execution_count": 43,
   "metadata": {},
   "outputs": [],
   "source": [
    "# Set the window size and polynomial order for the Savitzky-Golay filter\n",
    "window_size = 9\n",
    "poly_order = 2\n",
    "\n",
    "# Apply Savitzky-Golay filter to smooth the Absorbance values\n",
    "df['Smoothed_Absorbance'] = df.groupby('SpecID')['Absorbance'].transform(lambda x: savgol_filter(x, window_size, poly_order, deriv=0))"
   ]
  },
  {
   "cell_type": "code",
   "execution_count": 44,
   "metadata": {},
   "outputs": [],
   "source": [
    "smooth_df = prepare_wavelength_df(df, 'Smoothed_Absorbance')"
   ]
  },
  {
   "cell_type": "code",
   "execution_count": 45,
   "metadata": {},
   "outputs": [
    {
     "name": "stdout",
     "output_type": "stream",
     "text": [
      "ExtraTreesClassifier Cross-Validation Accuracy: 0.5347 +/- 0.1218\n"
     ]
    }
   ],
   "source": [
    "evaluate_extra_trees(smooth_df)"
   ]
  },
  {
   "cell_type": "code",
   "execution_count": 46,
   "metadata": {},
   "outputs": [],
   "source": [
    "df['Scaled_Smooth'] = df.groupby('SpecID')['Smoothed_Absorbance'].transform(lambda x: normalise(x))"
   ]
  },
  {
   "cell_type": "code",
   "execution_count": 47,
   "metadata": {},
   "outputs": [],
   "source": [
    "scaled_smooth_df = prepare_wavelength_df(df, 'Scaled_Smooth')"
   ]
  },
  {
   "cell_type": "code",
   "execution_count": 48,
   "metadata": {},
   "outputs": [
    {
     "name": "stdout",
     "output_type": "stream",
     "text": [
      "ExtraTreesClassifier Cross-Validation Accuracy: 0.4915 +/- 0.0948\n"
     ]
    }
   ],
   "source": [
    "evaluate_extra_trees(scaled_smooth_df)"
   ]
  },
  {
   "cell_type": "code",
   "execution_count": 49,
   "metadata": {},
   "outputs": [],
   "source": [
    "# Set the window size and polynomial order for the Savitzky-Golay filter\n",
    "window_size = 101\n",
    "poly_order = 2\n",
    "\n",
    "# Apply Savitzky-Golay filter to smooth the Absorbance values\n",
    "df['Smoothed_Absorbance'] = df.groupby('SpecID')['Absorbance'].transform(lambda x: savgol_filter(x, window_size, poly_order, deriv=0))"
   ]
  },
  {
   "cell_type": "code",
   "execution_count": 50,
   "metadata": {},
   "outputs": [],
   "source": [
    "smooth_df = prepare_wavelength_df(df, 'Smoothed_Absorbance')"
   ]
  },
  {
   "cell_type": "code",
   "execution_count": 51,
   "metadata": {},
   "outputs": [
    {
     "name": "stdout",
     "output_type": "stream",
     "text": [
      "ExtraTreesClassifier Cross-Validation Accuracy: 0.5278 +/- 0.1290\n"
     ]
    }
   ],
   "source": [
    "evaluate_extra_trees(smooth_df)"
   ]
  },
  {
   "cell_type": "code",
   "execution_count": 52,
   "metadata": {},
   "outputs": [],
   "source": [
    "df['Scaled_Smooth'] = df.groupby('SpecID')['Smoothed_Absorbance'].transform(lambda x: normalise(x))"
   ]
  },
  {
   "cell_type": "code",
   "execution_count": 53,
   "metadata": {},
   "outputs": [],
   "source": [
    "scaled_smooth_df = prepare_wavelength_df(df, 'Scaled_Smooth')"
   ]
  },
  {
   "cell_type": "code",
   "execution_count": 54,
   "metadata": {},
   "outputs": [
    {
     "name": "stdout",
     "output_type": "stream",
     "text": [
      "ExtraTreesClassifier Cross-Validation Accuracy: 0.4832 +/- 0.0932\n"
     ]
    }
   ],
   "source": [
    "evaluate_extra_trees(scaled_smooth_df)"
   ]
  },
  {
   "cell_type": "markdown",
   "metadata": {},
   "source": [
    "Try this on the baseline corrected spectra."
   ]
  },
  {
   "cell_type": "code",
   "execution_count": 55,
   "metadata": {},
   "outputs": [],
   "source": [
    "# Set the window size and polynomial order for the Savitzky-Golay filter\n",
    "window_size = 9\n",
    "poly_order = 2\n",
    "\n",
    "# Apply Savitzky-Golay filter to smooth the Absorbance values\n",
    "df['Smoothed_Baseline'] = df.groupby('SpecID')['Baseline_Corrected_Absorbance'].transform(lambda x: savgol_filter(x, window_size, poly_order, deriv=0))"
   ]
  },
  {
   "cell_type": "code",
   "execution_count": 56,
   "metadata": {},
   "outputs": [],
   "source": [
    "smooth_baseline = prepare_wavelength_df(df, 'Smoothed_Baseline')"
   ]
  },
  {
   "cell_type": "code",
   "execution_count": 57,
   "metadata": {},
   "outputs": [
    {
     "name": "stdout",
     "output_type": "stream",
     "text": [
      "ExtraTreesClassifier Cross-Validation Accuracy: 0.5836 +/- 0.1273\n"
     ]
    }
   ],
   "source": [
    "evaluate_extra_trees(smooth_baseline)"
   ]
  },
  {
   "cell_type": "code",
   "execution_count": 58,
   "metadata": {},
   "outputs": [],
   "source": [
    "df['Scaled_Smooth_Baseline'] = df.groupby('SpecID')['Smoothed_Baseline'].transform(lambda x: normalise(x))"
   ]
  },
  {
   "cell_type": "code",
   "execution_count": 59,
   "metadata": {},
   "outputs": [],
   "source": [
    "scaled_smooth_baseline = prepare_wavelength_df(df, 'Scaled_Smooth_Baseline')"
   ]
  },
  {
   "cell_type": "code",
   "execution_count": 60,
   "metadata": {},
   "outputs": [
    {
     "name": "stdout",
     "output_type": "stream",
     "text": [
      "ExtraTreesClassifier Cross-Validation Accuracy: 0.5250 +/- 0.1146\n"
     ]
    }
   ],
   "source": [
    "evaluate_extra_trees(scaled_smooth_baseline)"
   ]
  },
  {
   "cell_type": "code",
   "execution_count": 61,
   "metadata": {},
   "outputs": [],
   "source": [
    "# Set the window size and polynomial order for the Savitzky-Golay filter\n",
    "window_size = 101\n",
    "poly_order = 2\n",
    "\n",
    "# Apply Savitzky-Golay filter to smooth the Absorbance values\n",
    "df['Smoothed_Baseline'] = df.groupby('SpecID')['Baseline_Corrected_Absorbance'].transform(lambda x: savgol_filter(x, window_size, poly_order, deriv=0))"
   ]
  },
  {
   "cell_type": "code",
   "execution_count": 62,
   "metadata": {},
   "outputs": [],
   "source": [
    "smooth_baseline = prepare_wavelength_df(df, 'Smoothed_Baseline')"
   ]
  },
  {
   "cell_type": "code",
   "execution_count": 63,
   "metadata": {},
   "outputs": [
    {
     "name": "stdout",
     "output_type": "stream",
     "text": [
      "ExtraTreesClassifier Cross-Validation Accuracy: 0.5826 +/- 0.1257\n"
     ]
    }
   ],
   "source": [
    "evaluate_extra_trees(smooth_baseline)"
   ]
  },
  {
   "cell_type": "code",
   "execution_count": 64,
   "metadata": {},
   "outputs": [],
   "source": [
    "df['Scaled_Smooth_Baseline'] = df.groupby('SpecID')['Smoothed_Baseline'].transform(lambda x: normalise(x))"
   ]
  },
  {
   "cell_type": "code",
   "execution_count": 65,
   "metadata": {},
   "outputs": [],
   "source": [
    "scaled_smooth_baseline = prepare_wavelength_df(df, 'Scaled_Smooth_Baseline')"
   ]
  },
  {
   "cell_type": "code",
   "execution_count": 66,
   "metadata": {},
   "outputs": [
    {
     "name": "stdout",
     "output_type": "stream",
     "text": [
      "ExtraTreesClassifier Cross-Validation Accuracy: 0.5186 +/- 0.0836\n"
     ]
    }
   ],
   "source": [
    "evaluate_extra_trees(scaled_smooth_baseline)"
   ]
  },
  {
   "cell_type": "markdown",
   "metadata": {},
   "source": [
    "This is worse, lets try vector normalisation, where the spectra are scaled by their euclidean norm."
   ]
  },
  {
   "cell_type": "code",
   "execution_count": 67,
   "metadata": {},
   "outputs": [],
   "source": [
    "def vector_normalise(absorbances):\n",
    "    l2_norm = np.sqrt(np.sum(absorbances**2))  # Calculate the euclidean norm\n",
    "    normalized_absorbances = absorbances / l2_norm\n",
    "    return normalized_absorbances\n",
    "\n",
    "df['Vector_Scaled_Absorbance'] = df.groupby('SpecID')['Absorbance'].transform(lambda x: vector_normalise(x))"
   ]
  },
  {
   "cell_type": "code",
   "execution_count": 68,
   "metadata": {},
   "outputs": [],
   "source": [
    "df['Scaled_Smooth_Baseline'] = df.groupby('SpecID')['Smoothed_Baseline'].transform(lambda x: vector_normalise(x))"
   ]
  },
  {
   "cell_type": "code",
   "execution_count": 69,
   "metadata": {},
   "outputs": [],
   "source": [
    "scaled_smooth_baseline = prepare_wavelength_df(df, 'Scaled_Smooth_Baseline')"
   ]
  },
  {
   "cell_type": "code",
   "execution_count": 70,
   "metadata": {},
   "outputs": [
    {
     "name": "stdout",
     "output_type": "stream",
     "text": [
      "ExtraTreesClassifier Cross-Validation Accuracy: 0.5545 +/- 0.0882\n"
     ]
    }
   ],
   "source": [
    "evaluate_extra_trees(scaled_smooth_baseline)"
   ]
  },
  {
   "cell_type": "markdown",
   "metadata": {},
   "source": [
    "----"
   ]
  },
  {
   "cell_type": "markdown",
   "metadata": {},
   "source": [
    "The negative impact of scaling the unsmoothed baseline is strange."
   ]
  },
  {
   "cell_type": "code",
   "execution_count": 71,
   "metadata": {},
   "outputs": [],
   "source": [
    "df['No_Below_Baseline'] = np.where(df['Baseline_Corrected_Absorbance'] < 0, 0, df['Baseline_Corrected_Absorbance'])"
   ]
  },
  {
   "cell_type": "code",
   "execution_count": 72,
   "metadata": {},
   "outputs": [],
   "source": [
    "no_negative = prepare_wavelength_df(df, 'No_Below_Baseline')"
   ]
  },
  {
   "cell_type": "code",
   "execution_count": 73,
   "metadata": {},
   "outputs": [
    {
     "name": "stdout",
     "output_type": "stream",
     "text": [
      "ExtraTreesClassifier Cross-Validation Accuracy: 0.5708 +/- 0.1332\n"
     ]
    }
   ],
   "source": [
    "evaluate_extra_trees(no_negative)"
   ]
  },
  {
   "cell_type": "markdown",
   "metadata": {},
   "source": [
    "Then with scaling."
   ]
  },
  {
   "cell_type": "code",
   "execution_count": 74,
   "metadata": {},
   "outputs": [],
   "source": [
    "df['Scaled_No_Below_Baseline'] = np.where(df['Scaled_Baseline_Corrected'] < 0, 0, df['Scaled_Baseline_Corrected'])"
   ]
  },
  {
   "cell_type": "code",
   "execution_count": 75,
   "metadata": {},
   "outputs": [],
   "source": [
    "scaled_no_negative = prepare_wavelength_df(df, 'Scaled_No_Below_Baseline')"
   ]
  },
  {
   "cell_type": "code",
   "execution_count": 76,
   "metadata": {},
   "outputs": [
    {
     "data": {
      "text/html": [
       "<div>\n",
       "<style scoped>\n",
       "    .dataframe tbody tr th:only-of-type {\n",
       "        vertical-align: middle;\n",
       "    }\n",
       "\n",
       "    .dataframe tbody tr th {\n",
       "        vertical-align: top;\n",
       "    }\n",
       "\n",
       "    .dataframe thead th {\n",
       "        text-align: right;\n",
       "    }\n",
       "</style>\n",
       "<table border=\"1\" class=\"dataframe\">\n",
       "  <thead>\n",
       "    <tr style=\"text-align: right;\">\n",
       "      <th></th>\n",
       "      <th>400.22778</th>\n",
       "      <th>400.91116</th>\n",
       "      <th>401.59454</th>\n",
       "      <th>402.27789</th>\n",
       "      <th>402.96127</th>\n",
       "      <th>403.64465</th>\n",
       "      <th>404.32803</th>\n",
       "      <th>405.01138</th>\n",
       "      <th>405.69476</th>\n",
       "      <th>406.37814</th>\n",
       "      <th>...</th>\n",
       "      <th>1794.9886</th>\n",
       "      <th>1795.672</th>\n",
       "      <th>1796.3553</th>\n",
       "      <th>1797.0387</th>\n",
       "      <th>1797.722</th>\n",
       "      <th>1798.4055</th>\n",
       "      <th>1799.0889</th>\n",
       "      <th>1799.7722</th>\n",
       "      <th>SurID</th>\n",
       "      <th>Status</th>\n",
       "    </tr>\n",
       "    <tr>\n",
       "      <th>SpecID</th>\n",
       "      <th></th>\n",
       "      <th></th>\n",
       "      <th></th>\n",
       "      <th></th>\n",
       "      <th></th>\n",
       "      <th></th>\n",
       "      <th></th>\n",
       "      <th></th>\n",
       "      <th></th>\n",
       "      <th></th>\n",
       "      <th></th>\n",
       "      <th></th>\n",
       "      <th></th>\n",
       "      <th></th>\n",
       "      <th></th>\n",
       "      <th></th>\n",
       "      <th></th>\n",
       "      <th></th>\n",
       "      <th></th>\n",
       "      <th></th>\n",
       "      <th></th>\n",
       "    </tr>\n",
       "  </thead>\n",
       "  <tbody>\n",
       "    <tr>\n",
       "      <th>201210-1-00</th>\n",
       "      <td>0.128976</td>\n",
       "      <td>0.178098</td>\n",
       "      <td>0.149970</td>\n",
       "      <td>0.086213</td>\n",
       "      <td>0.100676</td>\n",
       "      <td>0.125083</td>\n",
       "      <td>0.033306</td>\n",
       "      <td>0.181178</td>\n",
       "      <td>0.190010</td>\n",
       "      <td>0.080635</td>\n",
       "      <td>...</td>\n",
       "      <td>0.145204</td>\n",
       "      <td>0.166450</td>\n",
       "      <td>0.228173</td>\n",
       "      <td>0.152383</td>\n",
       "      <td>0.159197</td>\n",
       "      <td>0.078193</td>\n",
       "      <td>0.084967</td>\n",
       "      <td>0.060808</td>\n",
       "      <td>201210-1</td>\n",
       "      <td>Normal</td>\n",
       "    </tr>\n",
       "    <tr>\n",
       "      <th>201210-1-01</th>\n",
       "      <td>0.058575</td>\n",
       "      <td>0.038068</td>\n",
       "      <td>0.001142</td>\n",
       "      <td>0.002227</td>\n",
       "      <td>0.048226</td>\n",
       "      <td>0.110281</td>\n",
       "      <td>0.133676</td>\n",
       "      <td>0.056870</td>\n",
       "      <td>0.084090</td>\n",
       "      <td>0.064134</td>\n",
       "      <td>...</td>\n",
       "      <td>0.283435</td>\n",
       "      <td>0.192222</td>\n",
       "      <td>0.180376</td>\n",
       "      <td>0.151108</td>\n",
       "      <td>0.149583</td>\n",
       "      <td>0.157876</td>\n",
       "      <td>0.197508</td>\n",
       "      <td>0.246115</td>\n",
       "      <td>201210-1</td>\n",
       "      <td>Normal</td>\n",
       "    </tr>\n",
       "    <tr>\n",
       "      <th>201210-1-02</th>\n",
       "      <td>0.029793</td>\n",
       "      <td>0.008733</td>\n",
       "      <td>0.006797</td>\n",
       "      <td>0.015900</td>\n",
       "      <td>0.021502</td>\n",
       "      <td>0.017828</td>\n",
       "      <td>0.008279</td>\n",
       "      <td>0.001251</td>\n",
       "      <td>0.007299</td>\n",
       "      <td>0.004995</td>\n",
       "      <td>...</td>\n",
       "      <td>0.018953</td>\n",
       "      <td>0.027788</td>\n",
       "      <td>0.033013</td>\n",
       "      <td>0.022485</td>\n",
       "      <td>0.020930</td>\n",
       "      <td>0.033653</td>\n",
       "      <td>0.020621</td>\n",
       "      <td>0.019153</td>\n",
       "      <td>201210-1</td>\n",
       "      <td>Normal</td>\n",
       "    </tr>\n",
       "    <tr>\n",
       "      <th>201210-1-03</th>\n",
       "      <td>0.021311</td>\n",
       "      <td>0.008559</td>\n",
       "      <td>0.002171</td>\n",
       "      <td>0.013591</td>\n",
       "      <td>0.033405</td>\n",
       "      <td>0.041407</td>\n",
       "      <td>0.034632</td>\n",
       "      <td>0.047422</td>\n",
       "      <td>0.031312</td>\n",
       "      <td>0.005999</td>\n",
       "      <td>...</td>\n",
       "      <td>0.009881</td>\n",
       "      <td>0.039055</td>\n",
       "      <td>0.021014</td>\n",
       "      <td>0.029853</td>\n",
       "      <td>0.027719</td>\n",
       "      <td>0.038901</td>\n",
       "      <td>0.059409</td>\n",
       "      <td>0.025904</td>\n",
       "      <td>201210-1</td>\n",
       "      <td>Normal</td>\n",
       "    </tr>\n",
       "    <tr>\n",
       "      <th>201210-1-04</th>\n",
       "      <td>0.200447</td>\n",
       "      <td>0.194779</td>\n",
       "      <td>0.182107</td>\n",
       "      <td>0.174163</td>\n",
       "      <td>0.145324</td>\n",
       "      <td>0.121094</td>\n",
       "      <td>0.152128</td>\n",
       "      <td>0.127573</td>\n",
       "      <td>0.114236</td>\n",
       "      <td>0.054608</td>\n",
       "      <td>...</td>\n",
       "      <td>0.249467</td>\n",
       "      <td>0.023993</td>\n",
       "      <td>0.071057</td>\n",
       "      <td>0.079773</td>\n",
       "      <td>0.105322</td>\n",
       "      <td>0.180585</td>\n",
       "      <td>0.117235</td>\n",
       "      <td>0.274627</td>\n",
       "      <td>201210-1</td>\n",
       "      <td>Normal</td>\n",
       "    </tr>\n",
       "  </tbody>\n",
       "</table>\n",
       "<p>5 rows × 2051 columns</p>\n",
       "</div>"
      ],
      "text/plain": [
       "             400.22778  400.91116  401.59454  402.27789  402.96127  403.64465  \\\n",
       "SpecID                                                                          \n",
       "201210-1-00   0.128976   0.178098   0.149970   0.086213   0.100676   0.125083   \n",
       "201210-1-01   0.058575   0.038068   0.001142   0.002227   0.048226   0.110281   \n",
       "201210-1-02   0.029793   0.008733   0.006797   0.015900   0.021502   0.017828   \n",
       "201210-1-03   0.021311   0.008559   0.002171   0.013591   0.033405   0.041407   \n",
       "201210-1-04   0.200447   0.194779   0.182107   0.174163   0.145324   0.121094   \n",
       "\n",
       "             404.32803  405.01138  405.69476  406.37814  ...  1794.9886  \\\n",
       "SpecID                                                   ...              \n",
       "201210-1-00   0.033306   0.181178   0.190010   0.080635  ...   0.145204   \n",
       "201210-1-01   0.133676   0.056870   0.084090   0.064134  ...   0.283435   \n",
       "201210-1-02   0.008279   0.001251   0.007299   0.004995  ...   0.018953   \n",
       "201210-1-03   0.034632   0.047422   0.031312   0.005999  ...   0.009881   \n",
       "201210-1-04   0.152128   0.127573   0.114236   0.054608  ...   0.249467   \n",
       "\n",
       "             1795.672  1796.3553  1797.0387  1797.722  1798.4055  1799.0889  \\\n",
       "SpecID                                                                        \n",
       "201210-1-00  0.166450   0.228173   0.152383  0.159197   0.078193   0.084967   \n",
       "201210-1-01  0.192222   0.180376   0.151108  0.149583   0.157876   0.197508   \n",
       "201210-1-02  0.027788   0.033013   0.022485  0.020930   0.033653   0.020621   \n",
       "201210-1-03  0.039055   0.021014   0.029853  0.027719   0.038901   0.059409   \n",
       "201210-1-04  0.023993   0.071057   0.079773  0.105322   0.180585   0.117235   \n",
       "\n",
       "             1799.7722     SurID  Status  \n",
       "SpecID                                    \n",
       "201210-1-00   0.060808  201210-1  Normal  \n",
       "201210-1-01   0.246115  201210-1  Normal  \n",
       "201210-1-02   0.019153  201210-1  Normal  \n",
       "201210-1-03   0.025904  201210-1  Normal  \n",
       "201210-1-04   0.274627  201210-1  Normal  \n",
       "\n",
       "[5 rows x 2051 columns]"
      ]
     },
     "execution_count": 76,
     "metadata": {},
     "output_type": "execute_result"
    }
   ],
   "source": [
    "scaled_no_negative.head()"
   ]
  },
  {
   "cell_type": "code",
   "execution_count": 77,
   "metadata": {},
   "outputs": [
    {
     "name": "stdout",
     "output_type": "stream",
     "text": [
      "ExtraTreesClassifier Cross-Validation Accuracy: 0.5133 +/- 0.1089\n"
     ]
    }
   ],
   "source": [
    "evaluate_extra_trees(scaled_no_negative)"
   ]
  },
  {
   "cell_type": "markdown",
   "metadata": {},
   "source": [
    "Try Min-Max Scaling Instead"
   ]
  },
  {
   "cell_type": "code",
   "execution_count": 78,
   "metadata": {},
   "outputs": [],
   "source": [
    "def min_max_scale(absorbances):\n",
    "    min_value = np.min(absorbances)\n",
    "    max_value = np.max(absorbances)\n",
    "    return (absorbances - min_value) / (max_value - min_value)\n",
    "\n",
    "df['MinMax_Absorbance'] = df.groupby('SpecID')['Absorbance'].transform(lambda x: min_max_scale(x))"
   ]
  },
  {
   "cell_type": "code",
   "execution_count": 79,
   "metadata": {},
   "outputs": [],
   "source": [
    "min_max_raw_df = prepare_wavelength_df(df, 'MinMax_Absorbance')"
   ]
  },
  {
   "cell_type": "code",
   "execution_count": 80,
   "metadata": {},
   "outputs": [
    {
     "name": "stdout",
     "output_type": "stream",
     "text": [
      "ExtraTreesClassifier Cross-Validation Accuracy: 0.5100 +/- 0.1042\n"
     ]
    }
   ],
   "source": [
    "evaluate_extra_trees(min_max_raw_df)"
   ]
  },
  {
   "cell_type": "code",
   "execution_count": 81,
   "metadata": {},
   "outputs": [],
   "source": [
    "df['MinMax_Baseline'] = df.groupby('SpecID')['Baseline_Corrected_Absorbance'].transform(lambda x: min_max_scale(x))"
   ]
  },
  {
   "cell_type": "code",
   "execution_count": 82,
   "metadata": {},
   "outputs": [],
   "source": [
    "min_max_baseline_df = prepare_wavelength_df(df, 'MinMax_Baseline')"
   ]
  },
  {
   "cell_type": "code",
   "execution_count": 83,
   "metadata": {},
   "outputs": [
    {
     "data": {
      "text/html": [
       "<div>\n",
       "<style scoped>\n",
       "    .dataframe tbody tr th:only-of-type {\n",
       "        vertical-align: middle;\n",
       "    }\n",
       "\n",
       "    .dataframe tbody tr th {\n",
       "        vertical-align: top;\n",
       "    }\n",
       "\n",
       "    .dataframe thead th {\n",
       "        text-align: right;\n",
       "    }\n",
       "</style>\n",
       "<table border=\"1\" class=\"dataframe\">\n",
       "  <thead>\n",
       "    <tr style=\"text-align: right;\">\n",
       "      <th></th>\n",
       "      <th>400.22778</th>\n",
       "      <th>400.91116</th>\n",
       "      <th>401.59454</th>\n",
       "      <th>402.27789</th>\n",
       "      <th>402.96127</th>\n",
       "      <th>403.64465</th>\n",
       "      <th>404.32803</th>\n",
       "      <th>405.01138</th>\n",
       "      <th>405.69476</th>\n",
       "      <th>406.37814</th>\n",
       "      <th>...</th>\n",
       "      <th>1794.9886</th>\n",
       "      <th>1795.672</th>\n",
       "      <th>1796.3553</th>\n",
       "      <th>1797.0387</th>\n",
       "      <th>1797.722</th>\n",
       "      <th>1798.4055</th>\n",
       "      <th>1799.0889</th>\n",
       "      <th>1799.7722</th>\n",
       "      <th>SurID</th>\n",
       "      <th>Status</th>\n",
       "    </tr>\n",
       "    <tr>\n",
       "      <th>SpecID</th>\n",
       "      <th></th>\n",
       "      <th></th>\n",
       "      <th></th>\n",
       "      <th></th>\n",
       "      <th></th>\n",
       "      <th></th>\n",
       "      <th></th>\n",
       "      <th></th>\n",
       "      <th></th>\n",
       "      <th></th>\n",
       "      <th></th>\n",
       "      <th></th>\n",
       "      <th></th>\n",
       "      <th></th>\n",
       "      <th></th>\n",
       "      <th></th>\n",
       "      <th></th>\n",
       "      <th></th>\n",
       "      <th></th>\n",
       "      <th></th>\n",
       "      <th></th>\n",
       "    </tr>\n",
       "  </thead>\n",
       "  <tbody>\n",
       "    <tr>\n",
       "      <th>201210-1-00</th>\n",
       "      <td>0.262185</td>\n",
       "      <td>0.303795</td>\n",
       "      <td>0.279969</td>\n",
       "      <td>0.225963</td>\n",
       "      <td>0.238214</td>\n",
       "      <td>0.258888</td>\n",
       "      <td>0.181147</td>\n",
       "      <td>0.306404</td>\n",
       "      <td>0.313885</td>\n",
       "      <td>0.221238</td>\n",
       "      <td>...</td>\n",
       "      <td>0.275932</td>\n",
       "      <td>0.293929</td>\n",
       "      <td>0.346212</td>\n",
       "      <td>0.282013</td>\n",
       "      <td>0.287785</td>\n",
       "      <td>0.219169</td>\n",
       "      <td>0.224907</td>\n",
       "      <td>0.204442</td>\n",
       "      <td>201210-1</td>\n",
       "      <td>Normal</td>\n",
       "    </tr>\n",
       "    <tr>\n",
       "      <th>201210-1-01</th>\n",
       "      <td>0.178989</td>\n",
       "      <td>0.161104</td>\n",
       "      <td>0.128901</td>\n",
       "      <td>0.129848</td>\n",
       "      <td>0.169963</td>\n",
       "      <td>0.224081</td>\n",
       "      <td>0.244483</td>\n",
       "      <td>0.177502</td>\n",
       "      <td>0.201240</td>\n",
       "      <td>0.183836</td>\n",
       "      <td>...</td>\n",
       "      <td>0.375088</td>\n",
       "      <td>0.295541</td>\n",
       "      <td>0.285210</td>\n",
       "      <td>0.259686</td>\n",
       "      <td>0.258355</td>\n",
       "      <td>0.265588</td>\n",
       "      <td>0.300151</td>\n",
       "      <td>0.342541</td>\n",
       "      <td>201210-1</td>\n",
       "      <td>Normal</td>\n",
       "    </tr>\n",
       "    <tr>\n",
       "      <th>201210-1-02</th>\n",
       "      <td>0.052032</td>\n",
       "      <td>0.031454</td>\n",
       "      <td>0.029563</td>\n",
       "      <td>0.038457</td>\n",
       "      <td>0.043931</td>\n",
       "      <td>0.040341</td>\n",
       "      <td>0.031011</td>\n",
       "      <td>0.024144</td>\n",
       "      <td>0.030053</td>\n",
       "      <td>0.027802</td>\n",
       "      <td>...</td>\n",
       "      <td>0.041440</td>\n",
       "      <td>0.050073</td>\n",
       "      <td>0.055178</td>\n",
       "      <td>0.044892</td>\n",
       "      <td>0.043372</td>\n",
       "      <td>0.055803</td>\n",
       "      <td>0.043070</td>\n",
       "      <td>0.041636</td>\n",
       "      <td>201210-1</td>\n",
       "      <td>Normal</td>\n",
       "    </tr>\n",
       "    <tr>\n",
       "      <th>201210-1-03</th>\n",
       "      <td>0.072124</td>\n",
       "      <td>0.060034</td>\n",
       "      <td>0.053978</td>\n",
       "      <td>0.064805</td>\n",
       "      <td>0.083590</td>\n",
       "      <td>0.091177</td>\n",
       "      <td>0.084753</td>\n",
       "      <td>0.096879</td>\n",
       "      <td>0.081606</td>\n",
       "      <td>0.057606</td>\n",
       "      <td>...</td>\n",
       "      <td>0.061287</td>\n",
       "      <td>0.088947</td>\n",
       "      <td>0.071842</td>\n",
       "      <td>0.080222</td>\n",
       "      <td>0.078199</td>\n",
       "      <td>0.088800</td>\n",
       "      <td>0.108244</td>\n",
       "      <td>0.076478</td>\n",
       "      <td>201210-1</td>\n",
       "      <td>Normal</td>\n",
       "    </tr>\n",
       "    <tr>\n",
       "      <th>201210-1-04</th>\n",
       "      <td>0.290296</td>\n",
       "      <td>0.285265</td>\n",
       "      <td>0.274017</td>\n",
       "      <td>0.266965</td>\n",
       "      <td>0.241367</td>\n",
       "      <td>0.219860</td>\n",
       "      <td>0.247407</td>\n",
       "      <td>0.225611</td>\n",
       "      <td>0.213773</td>\n",
       "      <td>0.160845</td>\n",
       "      <td>...</td>\n",
       "      <td>0.333807</td>\n",
       "      <td>0.133671</td>\n",
       "      <td>0.175446</td>\n",
       "      <td>0.183182</td>\n",
       "      <td>0.205860</td>\n",
       "      <td>0.272666</td>\n",
       "      <td>0.216434</td>\n",
       "      <td>0.356140</td>\n",
       "      <td>201210-1</td>\n",
       "      <td>Normal</td>\n",
       "    </tr>\n",
       "  </tbody>\n",
       "</table>\n",
       "<p>5 rows × 2051 columns</p>\n",
       "</div>"
      ],
      "text/plain": [
       "             400.22778  400.91116  401.59454  402.27789  402.96127  403.64465  \\\n",
       "SpecID                                                                          \n",
       "201210-1-00   0.262185   0.303795   0.279969   0.225963   0.238214   0.258888   \n",
       "201210-1-01   0.178989   0.161104   0.128901   0.129848   0.169963   0.224081   \n",
       "201210-1-02   0.052032   0.031454   0.029563   0.038457   0.043931   0.040341   \n",
       "201210-1-03   0.072124   0.060034   0.053978   0.064805   0.083590   0.091177   \n",
       "201210-1-04   0.290296   0.285265   0.274017   0.266965   0.241367   0.219860   \n",
       "\n",
       "             404.32803  405.01138  405.69476  406.37814  ...  1794.9886  \\\n",
       "SpecID                                                   ...              \n",
       "201210-1-00   0.181147   0.306404   0.313885   0.221238  ...   0.275932   \n",
       "201210-1-01   0.244483   0.177502   0.201240   0.183836  ...   0.375088   \n",
       "201210-1-02   0.031011   0.024144   0.030053   0.027802  ...   0.041440   \n",
       "201210-1-03   0.084753   0.096879   0.081606   0.057606  ...   0.061287   \n",
       "201210-1-04   0.247407   0.225611   0.213773   0.160845  ...   0.333807   \n",
       "\n",
       "             1795.672  1796.3553  1797.0387  1797.722  1798.4055  1799.0889  \\\n",
       "SpecID                                                                        \n",
       "201210-1-00  0.293929   0.346212   0.282013  0.287785   0.219169   0.224907   \n",
       "201210-1-01  0.295541   0.285210   0.259686  0.258355   0.265588   0.300151   \n",
       "201210-1-02  0.050073   0.055178   0.044892  0.043372   0.055803   0.043070   \n",
       "201210-1-03  0.088947   0.071842   0.080222  0.078199   0.088800   0.108244   \n",
       "201210-1-04  0.133671   0.175446   0.183182  0.205860   0.272666   0.216434   \n",
       "\n",
       "             1799.7722     SurID  Status  \n",
       "SpecID                                    \n",
       "201210-1-00   0.204442  201210-1  Normal  \n",
       "201210-1-01   0.342541  201210-1  Normal  \n",
       "201210-1-02   0.041636  201210-1  Normal  \n",
       "201210-1-03   0.076478  201210-1  Normal  \n",
       "201210-1-04   0.356140  201210-1  Normal  \n",
       "\n",
       "[5 rows x 2051 columns]"
      ]
     },
     "execution_count": 83,
     "metadata": {},
     "output_type": "execute_result"
    }
   ],
   "source": [
    "min_max_baseline_df.head()"
   ]
  },
  {
   "cell_type": "code",
   "execution_count": 84,
   "metadata": {},
   "outputs": [
    {
     "name": "stdout",
     "output_type": "stream",
     "text": [
      "ExtraTreesClassifier Cross-Validation Accuracy: 0.5111 +/- 0.1221\n"
     ]
    }
   ],
   "source": [
    "evaluate_extra_trees(min_max_baseline_df)"
   ]
  },
  {
   "cell_type": "code",
   "execution_count": 85,
   "metadata": {},
   "outputs": [],
   "source": [
    "vector_scale_raw = prepare_wavelength_df(df, \"Vector_Scaled_Absorbance\")"
   ]
  },
  {
   "cell_type": "code",
   "execution_count": 86,
   "metadata": {},
   "outputs": [
    {
     "name": "stdout",
     "output_type": "stream",
     "text": [
      "ExtraTreesClassifier Cross-Validation Accuracy: 0.5349 +/- 0.0906\n"
     ]
    }
   ],
   "source": [
    "evaluate_extra_trees(vector_scale_raw)"
   ]
  },
  {
   "cell_type": "markdown",
   "metadata": {},
   "source": [
    "Try on the baseline corrected spectra."
   ]
  },
  {
   "cell_type": "code",
   "execution_count": 87,
   "metadata": {},
   "outputs": [],
   "source": [
    "df['Vector_Scaled_Baseline'] = df.groupby('SpecID')['Baseline_Corrected_Absorbance'].transform(lambda x: vector_normalise(x))"
   ]
  },
  {
   "cell_type": "code",
   "execution_count": 88,
   "metadata": {},
   "outputs": [],
   "source": [
    "vector_scale_baseline = prepare_wavelength_df(df, 'Vector_Scaled_Baseline')"
   ]
  },
  {
   "cell_type": "code",
   "execution_count": 89,
   "metadata": {},
   "outputs": [
    {
     "name": "stdout",
     "output_type": "stream",
     "text": [
      "ExtraTreesClassifier Cross-Validation Accuracy: 0.5361 +/- 0.1233\n"
     ]
    }
   ],
   "source": [
    "evaluate_extra_trees(vector_scale_baseline)"
   ]
  }
 ],
 "metadata": {
  "kernelspec": {
   "display_name": "Python 3",
   "language": "python",
   "name": "python3"
  },
  "language_info": {
   "codemirror_mode": {
    "name": "ipython",
    "version": 3
   },
   "file_extension": ".py",
   "mimetype": "text/x-python",
   "name": "python",
   "nbconvert_exporter": "python",
   "pygments_lexer": "ipython3",
   "version": "3.10.12"
  }
 },
 "nbformat": 4,
 "nbformat_minor": 2
}
