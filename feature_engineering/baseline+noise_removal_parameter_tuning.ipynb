{
 "cells": [
  {
   "cell_type": "markdown",
   "metadata": {},
   "source": [
    "### This aims to classify the exosome staus based on a featureset derrived from the peaks."
   ]
  },
  {
   "cell_type": "markdown",
   "metadata": {},
   "source": [
    "Lets test different spectral cleaning parameters"
   ]
  },
  {
   "cell_type": "markdown",
   "metadata": {},
   "source": [
    "Import Libraries"
   ]
  },
  {
   "cell_type": "code",
   "execution_count": 2,
   "metadata": {},
   "outputs": [],
   "source": [
    "import pandas as pd\n",
    "import seaborn as sns\n",
    "import numpy as np\n",
    "from scipy.signal import savgol_filter\n",
    "from scipy import sparse\n",
    "from scipy.sparse.linalg import spsolve\n",
    "from sklearn.ensemble import RandomForestClassifier\n",
    "from sklearn.ensemble import ExtraTreesClassifier\n",
    "from sklearn.metrics import accuracy_score, classification_report, confusion_matrix\n",
    "from sklearn.model_selection import cross_val_score\n",
    "from sklearn.model_selection import StratifiedKFold, KFold"
   ]
  },
  {
   "cell_type": "markdown",
   "metadata": {},
   "source": [
    "Read the spectral data"
   ]
  },
  {
   "cell_type": "code",
   "execution_count": 3,
   "metadata": {},
   "outputs": [],
   "source": [
    "df = pd.read_csv(\"../../data/exosomes.raw_spectrum_1.csv\")"
   ]
  },
  {
   "cell_type": "markdown",
   "metadata": {},
   "source": [
    "Filter the effective range from 380/400 to 1800 cm-1"
   ]
  },
  {
   "cell_type": "code",
   "execution_count": 4,
   "metadata": {},
   "outputs": [
    {
     "data": {
      "text/html": [
       "<div>\n",
       "<style scoped>\n",
       "    .dataframe tbody tr th:only-of-type {\n",
       "        vertical-align: middle;\n",
       "    }\n",
       "\n",
       "    .dataframe tbody tr th {\n",
       "        vertical-align: top;\n",
       "    }\n",
       "\n",
       "    .dataframe thead th {\n",
       "        text-align: right;\n",
       "    }\n",
       "</style>\n",
       "<table border=\"1\" class=\"dataframe\">\n",
       "  <thead>\n",
       "    <tr style=\"text-align: right;\">\n",
       "      <th></th>\n",
       "      <th>SpecID</th>\n",
       "      <th>Seq</th>\n",
       "      <th>WaveNumber</th>\n",
       "      <th>Absorbance</th>\n",
       "      <th>SurID</th>\n",
       "      <th>Status</th>\n",
       "    </tr>\n",
       "  </thead>\n",
       "  <tbody>\n",
       "    <tr>\n",
       "      <th>264</th>\n",
       "      <td>201210-1-00</td>\n",
       "      <td>264</td>\n",
       "      <td>380.41003</td>\n",
       "      <td>1843.2512</td>\n",
       "      <td>201210-1</td>\n",
       "      <td>Normal</td>\n",
       "    </tr>\n",
       "    <tr>\n",
       "      <th>265</th>\n",
       "      <td>201210-1-00</td>\n",
       "      <td>265</td>\n",
       "      <td>381.09338</td>\n",
       "      <td>1839.0771</td>\n",
       "      <td>201210-1</td>\n",
       "      <td>Normal</td>\n",
       "    </tr>\n",
       "    <tr>\n",
       "      <th>266</th>\n",
       "      <td>201210-1-00</td>\n",
       "      <td>266</td>\n",
       "      <td>381.77676</td>\n",
       "      <td>1825.5864</td>\n",
       "      <td>201210-1</td>\n",
       "      <td>Normal</td>\n",
       "    </tr>\n",
       "    <tr>\n",
       "      <th>267</th>\n",
       "      <td>201210-1-00</td>\n",
       "      <td>267</td>\n",
       "      <td>382.46014</td>\n",
       "      <td>1820.9634</td>\n",
       "      <td>201210-1</td>\n",
       "      <td>Normal</td>\n",
       "    </tr>\n",
       "    <tr>\n",
       "      <th>268</th>\n",
       "      <td>201210-1-00</td>\n",
       "      <td>268</td>\n",
       "      <td>383.14349</td>\n",
       "      <td>1823.1549</td>\n",
       "      <td>201210-1</td>\n",
       "      <td>Normal</td>\n",
       "    </tr>\n",
       "    <tr>\n",
       "      <th>...</th>\n",
       "      <td>...</td>\n",
       "      <td>...</td>\n",
       "      <td>...</td>\n",
       "      <td>...</td>\n",
       "      <td>...</td>\n",
       "      <td>...</td>\n",
       "    </tr>\n",
       "    <tr>\n",
       "      <th>8023277</th>\n",
       "      <td>210526-3-09</td>\n",
       "      <td>2337</td>\n",
       "      <td>1797.03870</td>\n",
       "      <td>1617.3926</td>\n",
       "      <td>210526-3</td>\n",
       "      <td>Hyperglycemia</td>\n",
       "    </tr>\n",
       "    <tr>\n",
       "      <th>8023278</th>\n",
       "      <td>210526-3-09</td>\n",
       "      <td>2338</td>\n",
       "      <td>1797.72200</td>\n",
       "      <td>1633.0911</td>\n",
       "      <td>210526-3</td>\n",
       "      <td>Hyperglycemia</td>\n",
       "    </tr>\n",
       "    <tr>\n",
       "      <th>8023279</th>\n",
       "      <td>210526-3-09</td>\n",
       "      <td>2339</td>\n",
       "      <td>1798.40550</td>\n",
       "      <td>1633.3076</td>\n",
       "      <td>210526-3</td>\n",
       "      <td>Hyperglycemia</td>\n",
       "    </tr>\n",
       "    <tr>\n",
       "      <th>8023280</th>\n",
       "      <td>210526-3-09</td>\n",
       "      <td>2340</td>\n",
       "      <td>1799.08890</td>\n",
       "      <td>1641.8665</td>\n",
       "      <td>210526-3</td>\n",
       "      <td>Hyperglycemia</td>\n",
       "    </tr>\n",
       "    <tr>\n",
       "      <th>8023281</th>\n",
       "      <td>210526-3-09</td>\n",
       "      <td>2341</td>\n",
       "      <td>1799.77220</td>\n",
       "      <td>1618.2405</td>\n",
       "      <td>210526-3</td>\n",
       "      <td>Hyperglycemia</td>\n",
       "    </tr>\n",
       "  </tbody>\n",
       "</table>\n",
       "<p>6327510 rows × 6 columns</p>\n",
       "</div>"
      ],
      "text/plain": [
       "              SpecID   Seq  WaveNumber  Absorbance     SurID         Status\n",
       "264      201210-1-00   264   380.41003   1843.2512  201210-1         Normal\n",
       "265      201210-1-00   265   381.09338   1839.0771  201210-1         Normal\n",
       "266      201210-1-00   266   381.77676   1825.5864  201210-1         Normal\n",
       "267      201210-1-00   267   382.46014   1820.9634  201210-1         Normal\n",
       "268      201210-1-00   268   383.14349   1823.1549  201210-1         Normal\n",
       "...              ...   ...         ...         ...       ...            ...\n",
       "8023277  210526-3-09  2337  1797.03870   1617.3926  210526-3  Hyperglycemia\n",
       "8023278  210526-3-09  2338  1797.72200   1633.0911  210526-3  Hyperglycemia\n",
       "8023279  210526-3-09  2339  1798.40550   1633.3076  210526-3  Hyperglycemia\n",
       "8023280  210526-3-09  2340  1799.08890   1641.8665  210526-3  Hyperglycemia\n",
       "8023281  210526-3-09  2341  1799.77220   1618.2405  210526-3  Hyperglycemia\n",
       "\n",
       "[6327510 rows x 6 columns]"
      ]
     },
     "execution_count": 4,
     "metadata": {},
     "output_type": "execute_result"
    }
   ],
   "source": [
    "#df = df[(df['WaveNumber'] >= 320) & (df['WaveNumber'] <= 1800)]\n",
    "#df = df[(df['WaveNumber'] >= 380) & (df['WaveNumber'] <= 1800)]\n",
    "df = df[(df['WaveNumber'] >= 400) & (df['WaveNumber'] <= 1800)]\n",
    "\n",
    "df"
   ]
  },
  {
   "cell_type": "code",
   "execution_count": 5,
   "metadata": {},
   "outputs": [],
   "source": [
    "#df.to_csv(\"../../data/exosomes.raw_spectrum_380-1800.csv\", index=False)"
   ]
  },
  {
   "cell_type": "code",
   "execution_count": 6,
   "metadata": {},
   "outputs": [
    {
     "data": {
      "text/html": [
       "<div>\n",
       "<style scoped>\n",
       "    .dataframe tbody tr th:only-of-type {\n",
       "        vertical-align: middle;\n",
       "    }\n",
       "\n",
       "    .dataframe tbody tr th {\n",
       "        vertical-align: top;\n",
       "    }\n",
       "\n",
       "    .dataframe thead th {\n",
       "        text-align: right;\n",
       "    }\n",
       "</style>\n",
       "<table border=\"1\" class=\"dataframe\">\n",
       "  <thead>\n",
       "    <tr style=\"text-align: right;\">\n",
       "      <th></th>\n",
       "      <th>SpecID</th>\n",
       "      <th>Seq</th>\n",
       "      <th>WaveNumber</th>\n",
       "      <th>Absorbance</th>\n",
       "      <th>SurID</th>\n",
       "      <th>Status</th>\n",
       "    </tr>\n",
       "  </thead>\n",
       "  <tbody>\n",
       "    <tr>\n",
       "      <th>264</th>\n",
       "      <td>201210-1-00</td>\n",
       "      <td>264</td>\n",
       "      <td>380.41003</td>\n",
       "      <td>1843.2512</td>\n",
       "      <td>201210-1</td>\n",
       "      <td>Normal</td>\n",
       "    </tr>\n",
       "    <tr>\n",
       "      <th>265</th>\n",
       "      <td>201210-1-00</td>\n",
       "      <td>265</td>\n",
       "      <td>381.09338</td>\n",
       "      <td>1839.0771</td>\n",
       "      <td>201210-1</td>\n",
       "      <td>Normal</td>\n",
       "    </tr>\n",
       "    <tr>\n",
       "      <th>266</th>\n",
       "      <td>201210-1-00</td>\n",
       "      <td>266</td>\n",
       "      <td>381.77676</td>\n",
       "      <td>1825.5864</td>\n",
       "      <td>201210-1</td>\n",
       "      <td>Normal</td>\n",
       "    </tr>\n",
       "    <tr>\n",
       "      <th>267</th>\n",
       "      <td>201210-1-00</td>\n",
       "      <td>267</td>\n",
       "      <td>382.46014</td>\n",
       "      <td>1820.9634</td>\n",
       "      <td>201210-1</td>\n",
       "      <td>Normal</td>\n",
       "    </tr>\n",
       "    <tr>\n",
       "      <th>268</th>\n",
       "      <td>201210-1-00</td>\n",
       "      <td>268</td>\n",
       "      <td>383.14349</td>\n",
       "      <td>1823.1549</td>\n",
       "      <td>201210-1</td>\n",
       "      <td>Normal</td>\n",
       "    </tr>\n",
       "    <tr>\n",
       "      <th>...</th>\n",
       "      <td>...</td>\n",
       "      <td>...</td>\n",
       "      <td>...</td>\n",
       "      <td>...</td>\n",
       "      <td>...</td>\n",
       "      <td>...</td>\n",
       "    </tr>\n",
       "    <tr>\n",
       "      <th>8023277</th>\n",
       "      <td>210526-3-09</td>\n",
       "      <td>2337</td>\n",
       "      <td>1797.03870</td>\n",
       "      <td>1617.3926</td>\n",
       "      <td>210526-3</td>\n",
       "      <td>Hyperglycemia</td>\n",
       "    </tr>\n",
       "    <tr>\n",
       "      <th>8023278</th>\n",
       "      <td>210526-3-09</td>\n",
       "      <td>2338</td>\n",
       "      <td>1797.72200</td>\n",
       "      <td>1633.0911</td>\n",
       "      <td>210526-3</td>\n",
       "      <td>Hyperglycemia</td>\n",
       "    </tr>\n",
       "    <tr>\n",
       "      <th>8023279</th>\n",
       "      <td>210526-3-09</td>\n",
       "      <td>2339</td>\n",
       "      <td>1798.40550</td>\n",
       "      <td>1633.3076</td>\n",
       "      <td>210526-3</td>\n",
       "      <td>Hyperglycemia</td>\n",
       "    </tr>\n",
       "    <tr>\n",
       "      <th>8023280</th>\n",
       "      <td>210526-3-09</td>\n",
       "      <td>2340</td>\n",
       "      <td>1799.08890</td>\n",
       "      <td>1641.8665</td>\n",
       "      <td>210526-3</td>\n",
       "      <td>Hyperglycemia</td>\n",
       "    </tr>\n",
       "    <tr>\n",
       "      <th>8023281</th>\n",
       "      <td>210526-3-09</td>\n",
       "      <td>2341</td>\n",
       "      <td>1799.77220</td>\n",
       "      <td>1618.2405</td>\n",
       "      <td>210526-3</td>\n",
       "      <td>Hyperglycemia</td>\n",
       "    </tr>\n",
       "  </tbody>\n",
       "</table>\n",
       "<p>6327510 rows × 6 columns</p>\n",
       "</div>"
      ],
      "text/plain": [
       "              SpecID   Seq  WaveNumber  Absorbance     SurID         Status\n",
       "264      201210-1-00   264   380.41003   1843.2512  201210-1         Normal\n",
       "265      201210-1-00   265   381.09338   1839.0771  201210-1         Normal\n",
       "266      201210-1-00   266   381.77676   1825.5864  201210-1         Normal\n",
       "267      201210-1-00   267   382.46014   1820.9634  201210-1         Normal\n",
       "268      201210-1-00   268   383.14349   1823.1549  201210-1         Normal\n",
       "...              ...   ...         ...         ...       ...            ...\n",
       "8023277  210526-3-09  2337  1797.03870   1617.3926  210526-3  Hyperglycemia\n",
       "8023278  210526-3-09  2338  1797.72200   1633.0911  210526-3  Hyperglycemia\n",
       "8023279  210526-3-09  2339  1798.40550   1633.3076  210526-3  Hyperglycemia\n",
       "8023280  210526-3-09  2340  1799.08890   1641.8665  210526-3  Hyperglycemia\n",
       "8023281  210526-3-09  2341  1799.77220   1618.2405  210526-3  Hyperglycemia\n",
       "\n",
       "[6327510 rows x 6 columns]"
      ]
     },
     "execution_count": 6,
     "metadata": {},
     "output_type": "execute_result"
    }
   ],
   "source": [
    "df"
   ]
  },
  {
   "cell_type": "code",
   "execution_count": 7,
   "metadata": {},
   "outputs": [
    {
     "data": {
      "text/plain": [
       "array(['201210-1-00', '201210-1-01', '201210-1-02', ..., '210526-3-07',\n",
       "       '210526-3-08', '210526-3-09'], dtype=object)"
      ]
     },
     "execution_count": 7,
     "metadata": {},
     "output_type": "execute_result"
    }
   ],
   "source": [
    "df['SpecID'].unique()"
   ]
  },
  {
   "cell_type": "code",
   "execution_count": 8,
   "metadata": {},
   "outputs": [
    {
     "name": "stdout",
     "output_type": "stream",
     "text": [
      "<class 'pandas.core.frame.DataFrame'>\n",
      "Index: 6327510 entries, 264 to 8023281\n",
      "Data columns (total 6 columns):\n",
      " #   Column      Dtype  \n",
      "---  ------      -----  \n",
      " 0   SpecID      object \n",
      " 1   Seq         int64  \n",
      " 2   WaveNumber  float64\n",
      " 3   Absorbance  float64\n",
      " 4   SurID       object \n",
      " 5   Status      object \n",
      "dtypes: float64(2), int64(1), object(3)\n",
      "memory usage: 337.9+ MB\n"
     ]
    }
   ],
   "source": [
    "df.info()"
   ]
  },
  {
   "cell_type": "markdown",
   "metadata": {},
   "source": [
    "#### Train an Extra Trees Classifier on the full spectrum."
   ]
  },
  {
   "cell_type": "code",
   "execution_count": 9,
   "metadata": {},
   "outputs": [],
   "source": [
    "def prepare_wavelength_df(df, absorbance_col, status_col='Status'):\n",
    "\n",
    "    # Pivot the DataFrame to get wavelengths as columns and absorbance values\n",
    "    wavelength_df = df.pivot(index='SpecID', columns='WaveNumber', values=absorbance_col).reset_index()\n",
    "    wavelength_df.columns.name = None\n",
    "\n",
    "    # Merge with the statuses based on SpecID\n",
    "    statuses = df[['SpecID', status_col]].drop_duplicates()\n",
    "    wavelength_df = pd.merge(wavelength_df, statuses, on='SpecID')\n",
    "\n",
    "    # Set SpecID as the index\n",
    "    wavelength_df = wavelength_df.set_index('SpecID')\n",
    "\n",
    "    return wavelength_df"
   ]
  },
  {
   "cell_type": "code",
   "execution_count": 10,
   "metadata": {},
   "outputs": [],
   "source": [
    "wavelength_df = prepare_wavelength_df(df, 'Absorbance')"
   ]
  },
  {
   "cell_type": "code",
   "execution_count": 11,
   "metadata": {},
   "outputs": [
    {
     "data": {
      "text/html": [
       "<div>\n",
       "<style scoped>\n",
       "    .dataframe tbody tr th:only-of-type {\n",
       "        vertical-align: middle;\n",
       "    }\n",
       "\n",
       "    .dataframe tbody tr th {\n",
       "        vertical-align: top;\n",
       "    }\n",
       "\n",
       "    .dataframe thead th {\n",
       "        text-align: right;\n",
       "    }\n",
       "</style>\n",
       "<table border=\"1\" class=\"dataframe\">\n",
       "  <thead>\n",
       "    <tr style=\"text-align: right;\">\n",
       "      <th></th>\n",
       "      <th>380.41003</th>\n",
       "      <th>381.09338</th>\n",
       "      <th>381.77676</th>\n",
       "      <th>382.46014</th>\n",
       "      <th>383.14349</th>\n",
       "      <th>383.82687</th>\n",
       "      <th>384.51025</th>\n",
       "      <th>385.19363</th>\n",
       "      <th>385.87698</th>\n",
       "      <th>386.56036</th>\n",
       "      <th>...</th>\n",
       "      <th>1794.3053</th>\n",
       "      <th>1794.9886</th>\n",
       "      <th>1795.672</th>\n",
       "      <th>1796.3553</th>\n",
       "      <th>1797.0387</th>\n",
       "      <th>1797.722</th>\n",
       "      <th>1798.4055</th>\n",
       "      <th>1799.0889</th>\n",
       "      <th>1799.7722</th>\n",
       "      <th>Status</th>\n",
       "    </tr>\n",
       "    <tr>\n",
       "      <th>SpecID</th>\n",
       "      <th></th>\n",
       "      <th></th>\n",
       "      <th></th>\n",
       "      <th></th>\n",
       "      <th></th>\n",
       "      <th></th>\n",
       "      <th></th>\n",
       "      <th></th>\n",
       "      <th></th>\n",
       "      <th></th>\n",
       "      <th></th>\n",
       "      <th></th>\n",
       "      <th></th>\n",
       "      <th></th>\n",
       "      <th></th>\n",
       "      <th></th>\n",
       "      <th></th>\n",
       "      <th></th>\n",
       "      <th></th>\n",
       "      <th></th>\n",
       "      <th></th>\n",
       "    </tr>\n",
       "  </thead>\n",
       "  <tbody>\n",
       "    <tr>\n",
       "      <th>201210-1-00</th>\n",
       "      <td>1843.2512</td>\n",
       "      <td>1839.0771</td>\n",
       "      <td>1825.5864</td>\n",
       "      <td>1820.9634</td>\n",
       "      <td>1823.1549</td>\n",
       "      <td>1825.6460</td>\n",
       "      <td>1805.9121</td>\n",
       "      <td>1801.4462</td>\n",
       "      <td>1803.6210</td>\n",
       "      <td>1815.7292</td>\n",
       "      <td>...</td>\n",
       "      <td>1216.4025</td>\n",
       "      <td>1210.4993</td>\n",
       "      <td>1213.9619</td>\n",
       "      <td>1225.2153</td>\n",
       "      <td>1210.0010</td>\n",
       "      <td>1210.6858</td>\n",
       "      <td>1194.4679</td>\n",
       "      <td>1195.1451</td>\n",
       "      <td>1189.8683</td>\n",
       "      <td>Normal</td>\n",
       "    </tr>\n",
       "    <tr>\n",
       "      <th>201210-1-01</th>\n",
       "      <td>2020.8121</td>\n",
       "      <td>1999.3954</td>\n",
       "      <td>1997.4957</td>\n",
       "      <td>2028.2144</td>\n",
       "      <td>2021.8921</td>\n",
       "      <td>2041.0354</td>\n",
       "      <td>2012.9905</td>\n",
       "      <td>2000.5681</td>\n",
       "      <td>1972.9670</td>\n",
       "      <td>1974.7766</td>\n",
       "      <td>...</td>\n",
       "      <td>1339.4675</td>\n",
       "      <td>1382.6973</td>\n",
       "      <td>1363.7004</td>\n",
       "      <td>1360.6210</td>\n",
       "      <td>1354.0477</td>\n",
       "      <td>1353.0381</td>\n",
       "      <td>1353.9978</td>\n",
       "      <td>1361.2426</td>\n",
       "      <td>1370.2874</td>\n",
       "      <td>Normal</td>\n",
       "    </tr>\n",
       "    <tr>\n",
       "      <th>201210-1-02</th>\n",
       "      <td>2191.1711</td>\n",
       "      <td>2196.6716</td>\n",
       "      <td>2203.4150</td>\n",
       "      <td>2206.1575</td>\n",
       "      <td>2221.2656</td>\n",
       "      <td>2196.8591</td>\n",
       "      <td>2181.1926</td>\n",
       "      <td>2201.3389</td>\n",
       "      <td>2205.2078</td>\n",
       "      <td>2197.3901</td>\n",
       "      <td>...</td>\n",
       "      <td>1996.8234</td>\n",
       "      <td>1976.2070</td>\n",
       "      <td>1989.0183</td>\n",
       "      <td>1996.2838</td>\n",
       "      <td>1979.3507</td>\n",
       "      <td>1976.2002</td>\n",
       "      <td>1994.9839</td>\n",
       "      <td>1974.2030</td>\n",
       "      <td>1971.1880</td>\n",
       "      <td>Normal</td>\n",
       "    </tr>\n",
       "    <tr>\n",
       "      <th>201210-1-03</th>\n",
       "      <td>2610.8325</td>\n",
       "      <td>2617.9421</td>\n",
       "      <td>2609.1545</td>\n",
       "      <td>2575.9524</td>\n",
       "      <td>2583.0701</td>\n",
       "      <td>2599.8481</td>\n",
       "      <td>2547.3250</td>\n",
       "      <td>2555.4937</td>\n",
       "      <td>2550.4136</td>\n",
       "      <td>2531.6489</td>\n",
       "      <td>...</td>\n",
       "      <td>2010.1119</td>\n",
       "      <td>1992.3817</td>\n",
       "      <td>2022.6331</td>\n",
       "      <td>2001.8311</td>\n",
       "      <td>2010.0946</td>\n",
       "      <td>2006.4933</td>\n",
       "      <td>2017.2891</td>\n",
       "      <td>2038.1699</td>\n",
       "      <td>2000.6475</td>\n",
       "      <td>Normal</td>\n",
       "    </tr>\n",
       "    <tr>\n",
       "      <th>201210-1-04</th>\n",
       "      <td>2286.6033</td>\n",
       "      <td>2287.8171</td>\n",
       "      <td>2310.9270</td>\n",
       "      <td>2299.6086</td>\n",
       "      <td>2253.4465</td>\n",
       "      <td>2290.2949</td>\n",
       "      <td>2277.2551</td>\n",
       "      <td>2290.2852</td>\n",
       "      <td>2282.6389</td>\n",
       "      <td>2248.1277</td>\n",
       "      <td>...</td>\n",
       "      <td>2001.0719</td>\n",
       "      <td>2009.0385</td>\n",
       "      <td>1953.3303</td>\n",
       "      <td>1963.5698</td>\n",
       "      <td>1964.5299</td>\n",
       "      <td>1969.5634</td>\n",
       "      <td>1986.6266</td>\n",
       "      <td>1970.1484</td>\n",
       "      <td>2007.0848</td>\n",
       "      <td>Normal</td>\n",
       "    </tr>\n",
       "  </tbody>\n",
       "</table>\n",
       "<p>5 rows × 2079 columns</p>\n",
       "</div>"
      ],
      "text/plain": [
       "             380.41003  381.09338  381.77676  382.46014  383.14349  383.82687  \\\n",
       "SpecID                                                                          \n",
       "201210-1-00  1843.2512  1839.0771  1825.5864  1820.9634  1823.1549  1825.6460   \n",
       "201210-1-01  2020.8121  1999.3954  1997.4957  2028.2144  2021.8921  2041.0354   \n",
       "201210-1-02  2191.1711  2196.6716  2203.4150  2206.1575  2221.2656  2196.8591   \n",
       "201210-1-03  2610.8325  2617.9421  2609.1545  2575.9524  2583.0701  2599.8481   \n",
       "201210-1-04  2286.6033  2287.8171  2310.9270  2299.6086  2253.4465  2290.2949   \n",
       "\n",
       "             384.51025  385.19363  385.87698  386.56036  ...  1794.3053  \\\n",
       "SpecID                                                   ...              \n",
       "201210-1-00  1805.9121  1801.4462  1803.6210  1815.7292  ...  1216.4025   \n",
       "201210-1-01  2012.9905  2000.5681  1972.9670  1974.7766  ...  1339.4675   \n",
       "201210-1-02  2181.1926  2201.3389  2205.2078  2197.3901  ...  1996.8234   \n",
       "201210-1-03  2547.3250  2555.4937  2550.4136  2531.6489  ...  2010.1119   \n",
       "201210-1-04  2277.2551  2290.2852  2282.6389  2248.1277  ...  2001.0719   \n",
       "\n",
       "             1794.9886   1795.672  1796.3553  1797.0387   1797.722  1798.4055  \\\n",
       "SpecID                                                                          \n",
       "201210-1-00  1210.4993  1213.9619  1225.2153  1210.0010  1210.6858  1194.4679   \n",
       "201210-1-01  1382.6973  1363.7004  1360.6210  1354.0477  1353.0381  1353.9978   \n",
       "201210-1-02  1976.2070  1989.0183  1996.2838  1979.3507  1976.2002  1994.9839   \n",
       "201210-1-03  1992.3817  2022.6331  2001.8311  2010.0946  2006.4933  2017.2891   \n",
       "201210-1-04  2009.0385  1953.3303  1963.5698  1964.5299  1969.5634  1986.6266   \n",
       "\n",
       "             1799.0889  1799.7722  Status  \n",
       "SpecID                                     \n",
       "201210-1-00  1195.1451  1189.8683  Normal  \n",
       "201210-1-01  1361.2426  1370.2874  Normal  \n",
       "201210-1-02  1974.2030  1971.1880  Normal  \n",
       "201210-1-03  2038.1699  2000.6475  Normal  \n",
       "201210-1-04  1970.1484  2007.0848  Normal  \n",
       "\n",
       "[5 rows x 2079 columns]"
      ]
     },
     "execution_count": 11,
     "metadata": {},
     "output_type": "execute_result"
    }
   ],
   "source": [
    "wavelength_df.head()"
   ]
  },
  {
   "cell_type": "markdown",
   "metadata": {},
   "source": [
    ">Train an Extra Trees Classifier on the Raw Spectrum and evaluate it with 10-fold cross validation."
   ]
  },
  {
   "cell_type": "code",
   "execution_count": 12,
   "metadata": {},
   "outputs": [],
   "source": [
    "def evaluate_extra_trees(df):\n",
    "    # Splitting the dataframe into features (X) and target variable (y)\n",
    "    X = df.drop(['Status'], axis=1)\n",
    "    y = df['Status']\n",
    "    \n",
    "    # Creating the Extra Trees classifier\n",
    "    et = ExtraTreesClassifier(random_state=1234)\n",
    "    \n",
    "    # Using StratifiedKFold for classification tasks\n",
    "    #cv = StratifiedKFold(n_splits=10, shuffle=True, random_state=1234)\n",
    "    cv = KFold(n_splits=10, shuffle=True, random_state=1234)\n",
    "\n",
    "    \n",
    "    # Getting cross-validation scores\n",
    "    scores = cross_val_score(et, X, y, cv=cv, scoring='accuracy')\n",
    "    \n",
    "    # Displaying the results\n",
    "    print(f'{et.__class__.__name__} Cross-Validation Accuracy: {np.mean(scores):.4f} +/- {np.std(scores):.4f}')"
   ]
  },
  {
   "cell_type": "code",
   "execution_count": 13,
   "metadata": {},
   "outputs": [
    {
     "name": "stdout",
     "output_type": "stream",
     "text": [
      "ExtraTreesClassifier Cross-Validation Accuracy: 0.8440 +/- 0.0192\n"
     ]
    }
   ],
   "source": [
    "evaluate_extra_trees(wavelength_df)"
   ]
  },
  {
   "cell_type": "markdown",
   "metadata": {},
   "source": [
    ">Scale the absorbances to the highest peak in each spectrum."
   ]
  },
  {
   "cell_type": "code",
   "execution_count": 14,
   "metadata": {},
   "outputs": [],
   "source": [
    "def normalise(absorbances):\n",
    "    max_value = np.max(absorbances)\n",
    "    normalized_absorbances = absorbances / max_value\n",
    "    return normalized_absorbances\n",
    "\n",
    "df['Scaled_Absorbance'] = df.groupby('SpecID')['Absorbance'].transform(lambda x: normalise(x))"
   ]
  },
  {
   "cell_type": "code",
   "execution_count": 15,
   "metadata": {},
   "outputs": [
    {
     "data": {
      "text/html": [
       "<div>\n",
       "<style scoped>\n",
       "    .dataframe tbody tr th:only-of-type {\n",
       "        vertical-align: middle;\n",
       "    }\n",
       "\n",
       "    .dataframe tbody tr th {\n",
       "        vertical-align: top;\n",
       "    }\n",
       "\n",
       "    .dataframe thead th {\n",
       "        text-align: right;\n",
       "    }\n",
       "</style>\n",
       "<table border=\"1\" class=\"dataframe\">\n",
       "  <thead>\n",
       "    <tr style=\"text-align: right;\">\n",
       "      <th></th>\n",
       "      <th>SpecID</th>\n",
       "      <th>Seq</th>\n",
       "      <th>WaveNumber</th>\n",
       "      <th>Absorbance</th>\n",
       "      <th>SurID</th>\n",
       "      <th>Status</th>\n",
       "      <th>Scaled_Absorbance</th>\n",
       "    </tr>\n",
       "  </thead>\n",
       "  <tbody>\n",
       "    <tr>\n",
       "      <th>264</th>\n",
       "      <td>201210-1-00</td>\n",
       "      <td>264</td>\n",
       "      <td>380.41003</td>\n",
       "      <td>1843.2512</td>\n",
       "      <td>201210-1</td>\n",
       "      <td>Normal</td>\n",
       "      <td>0.995320</td>\n",
       "    </tr>\n",
       "    <tr>\n",
       "      <th>265</th>\n",
       "      <td>201210-1-00</td>\n",
       "      <td>265</td>\n",
       "      <td>381.09338</td>\n",
       "      <td>1839.0771</td>\n",
       "      <td>201210-1</td>\n",
       "      <td>Normal</td>\n",
       "      <td>0.993066</td>\n",
       "    </tr>\n",
       "    <tr>\n",
       "      <th>266</th>\n",
       "      <td>201210-1-00</td>\n",
       "      <td>266</td>\n",
       "      <td>381.77676</td>\n",
       "      <td>1825.5864</td>\n",
       "      <td>201210-1</td>\n",
       "      <td>Normal</td>\n",
       "      <td>0.985781</td>\n",
       "    </tr>\n",
       "    <tr>\n",
       "      <th>267</th>\n",
       "      <td>201210-1-00</td>\n",
       "      <td>267</td>\n",
       "      <td>382.46014</td>\n",
       "      <td>1820.9634</td>\n",
       "      <td>201210-1</td>\n",
       "      <td>Normal</td>\n",
       "      <td>0.983285</td>\n",
       "    </tr>\n",
       "    <tr>\n",
       "      <th>268</th>\n",
       "      <td>201210-1-00</td>\n",
       "      <td>268</td>\n",
       "      <td>383.14349</td>\n",
       "      <td>1823.1549</td>\n",
       "      <td>201210-1</td>\n",
       "      <td>Normal</td>\n",
       "      <td>0.984468</td>\n",
       "    </tr>\n",
       "  </tbody>\n",
       "</table>\n",
       "</div>"
      ],
      "text/plain": [
       "          SpecID  Seq  WaveNumber  Absorbance     SurID  Status  \\\n",
       "264  201210-1-00  264   380.41003   1843.2512  201210-1  Normal   \n",
       "265  201210-1-00  265   381.09338   1839.0771  201210-1  Normal   \n",
       "266  201210-1-00  266   381.77676   1825.5864  201210-1  Normal   \n",
       "267  201210-1-00  267   382.46014   1820.9634  201210-1  Normal   \n",
       "268  201210-1-00  268   383.14349   1823.1549  201210-1  Normal   \n",
       "\n",
       "     Scaled_Absorbance  \n",
       "264           0.995320  \n",
       "265           0.993066  \n",
       "266           0.985781  \n",
       "267           0.983285  \n",
       "268           0.984468  "
      ]
     },
     "execution_count": 15,
     "metadata": {},
     "output_type": "execute_result"
    }
   ],
   "source": [
    "df.head()"
   ]
  },
  {
   "cell_type": "code",
   "execution_count": 16,
   "metadata": {},
   "outputs": [],
   "source": [
    "scaled_raw_df = prepare_wavelength_df(df, 'Scaled_Absorbance')"
   ]
  },
  {
   "cell_type": "code",
   "execution_count": 17,
   "metadata": {},
   "outputs": [
    {
     "data": {
      "text/html": [
       "<div>\n",
       "<style scoped>\n",
       "    .dataframe tbody tr th:only-of-type {\n",
       "        vertical-align: middle;\n",
       "    }\n",
       "\n",
       "    .dataframe tbody tr th {\n",
       "        vertical-align: top;\n",
       "    }\n",
       "\n",
       "    .dataframe thead th {\n",
       "        text-align: right;\n",
       "    }\n",
       "</style>\n",
       "<table border=\"1\" class=\"dataframe\">\n",
       "  <thead>\n",
       "    <tr style=\"text-align: right;\">\n",
       "      <th></th>\n",
       "      <th>380.41003</th>\n",
       "      <th>381.09338</th>\n",
       "      <th>381.77676</th>\n",
       "      <th>382.46014</th>\n",
       "      <th>383.14349</th>\n",
       "      <th>383.82687</th>\n",
       "      <th>384.51025</th>\n",
       "      <th>385.19363</th>\n",
       "      <th>385.87698</th>\n",
       "      <th>386.56036</th>\n",
       "      <th>...</th>\n",
       "      <th>1794.3053</th>\n",
       "      <th>1794.9886</th>\n",
       "      <th>1795.672</th>\n",
       "      <th>1796.3553</th>\n",
       "      <th>1797.0387</th>\n",
       "      <th>1797.722</th>\n",
       "      <th>1798.4055</th>\n",
       "      <th>1799.0889</th>\n",
       "      <th>1799.7722</th>\n",
       "      <th>Status</th>\n",
       "    </tr>\n",
       "    <tr>\n",
       "      <th>SpecID</th>\n",
       "      <th></th>\n",
       "      <th></th>\n",
       "      <th></th>\n",
       "      <th></th>\n",
       "      <th></th>\n",
       "      <th></th>\n",
       "      <th></th>\n",
       "      <th></th>\n",
       "      <th></th>\n",
       "      <th></th>\n",
       "      <th></th>\n",
       "      <th></th>\n",
       "      <th></th>\n",
       "      <th></th>\n",
       "      <th></th>\n",
       "      <th></th>\n",
       "      <th></th>\n",
       "      <th></th>\n",
       "      <th></th>\n",
       "      <th></th>\n",
       "      <th></th>\n",
       "    </tr>\n",
       "  </thead>\n",
       "  <tbody>\n",
       "    <tr>\n",
       "      <th>201210-1-00</th>\n",
       "      <td>0.995320</td>\n",
       "      <td>0.993066</td>\n",
       "      <td>0.985781</td>\n",
       "      <td>0.983285</td>\n",
       "      <td>0.984468</td>\n",
       "      <td>0.985813</td>\n",
       "      <td>0.975157</td>\n",
       "      <td>0.972746</td>\n",
       "      <td>0.973920</td>\n",
       "      <td>0.980458</td>\n",
       "      <td>...</td>\n",
       "      <td>0.656834</td>\n",
       "      <td>0.653646</td>\n",
       "      <td>0.655516</td>\n",
       "      <td>0.661592</td>\n",
       "      <td>0.653377</td>\n",
       "      <td>0.653747</td>\n",
       "      <td>0.644989</td>\n",
       "      <td>0.645355</td>\n",
       "      <td>0.642506</td>\n",
       "      <td>Normal</td>\n",
       "    </tr>\n",
       "    <tr>\n",
       "      <th>201210-1-01</th>\n",
       "      <td>0.990092</td>\n",
       "      <td>0.979599</td>\n",
       "      <td>0.978668</td>\n",
       "      <td>0.993718</td>\n",
       "      <td>0.990621</td>\n",
       "      <td>1.000000</td>\n",
       "      <td>0.986259</td>\n",
       "      <td>0.980173</td>\n",
       "      <td>0.966650</td>\n",
       "      <td>0.967537</td>\n",
       "      <td>...</td>\n",
       "      <td>0.656269</td>\n",
       "      <td>0.677449</td>\n",
       "      <td>0.668141</td>\n",
       "      <td>0.666633</td>\n",
       "      <td>0.663412</td>\n",
       "      <td>0.662918</td>\n",
       "      <td>0.663388</td>\n",
       "      <td>0.666937</td>\n",
       "      <td>0.671369</td>\n",
       "      <td>Normal</td>\n",
       "    </tr>\n",
       "    <tr>\n",
       "      <th>201210-1-02</th>\n",
       "      <td>0.592783</td>\n",
       "      <td>0.594271</td>\n",
       "      <td>0.596096</td>\n",
       "      <td>0.596838</td>\n",
       "      <td>0.600925</td>\n",
       "      <td>0.594322</td>\n",
       "      <td>0.590084</td>\n",
       "      <td>0.595534</td>\n",
       "      <td>0.596581</td>\n",
       "      <td>0.594466</td>\n",
       "      <td>...</td>\n",
       "      <td>0.540206</td>\n",
       "      <td>0.534629</td>\n",
       "      <td>0.538094</td>\n",
       "      <td>0.540060</td>\n",
       "      <td>0.535479</td>\n",
       "      <td>0.534627</td>\n",
       "      <td>0.539708</td>\n",
       "      <td>0.534086</td>\n",
       "      <td>0.533271</td>\n",
       "      <td>Normal</td>\n",
       "    </tr>\n",
       "    <tr>\n",
       "      <th>201210-1-03</th>\n",
       "      <td>0.756244</td>\n",
       "      <td>0.758303</td>\n",
       "      <td>0.755758</td>\n",
       "      <td>0.746141</td>\n",
       "      <td>0.748202</td>\n",
       "      <td>0.753062</td>\n",
       "      <td>0.737849</td>\n",
       "      <td>0.740215</td>\n",
       "      <td>0.738743</td>\n",
       "      <td>0.733308</td>\n",
       "      <td>...</td>\n",
       "      <td>0.582242</td>\n",
       "      <td>0.577106</td>\n",
       "      <td>0.585868</td>\n",
       "      <td>0.579843</td>\n",
       "      <td>0.582236</td>\n",
       "      <td>0.581193</td>\n",
       "      <td>0.584320</td>\n",
       "      <td>0.590369</td>\n",
       "      <td>0.579500</td>\n",
       "      <td>Normal</td>\n",
       "    </tr>\n",
       "    <tr>\n",
       "      <th>201210-1-04</th>\n",
       "      <td>0.930075</td>\n",
       "      <td>0.930569</td>\n",
       "      <td>0.939969</td>\n",
       "      <td>0.935365</td>\n",
       "      <td>0.916589</td>\n",
       "      <td>0.931577</td>\n",
       "      <td>0.926273</td>\n",
       "      <td>0.931573</td>\n",
       "      <td>0.928463</td>\n",
       "      <td>0.914425</td>\n",
       "      <td>...</td>\n",
       "      <td>0.813935</td>\n",
       "      <td>0.817176</td>\n",
       "      <td>0.794517</td>\n",
       "      <td>0.798681</td>\n",
       "      <td>0.799072</td>\n",
       "      <td>0.801119</td>\n",
       "      <td>0.808060</td>\n",
       "      <td>0.801357</td>\n",
       "      <td>0.816381</td>\n",
       "      <td>Normal</td>\n",
       "    </tr>\n",
       "  </tbody>\n",
       "</table>\n",
       "<p>5 rows × 2079 columns</p>\n",
       "</div>"
      ],
      "text/plain": [
       "             380.41003  381.09338  381.77676  382.46014  383.14349  383.82687  \\\n",
       "SpecID                                                                          \n",
       "201210-1-00   0.995320   0.993066   0.985781   0.983285   0.984468   0.985813   \n",
       "201210-1-01   0.990092   0.979599   0.978668   0.993718   0.990621   1.000000   \n",
       "201210-1-02   0.592783   0.594271   0.596096   0.596838   0.600925   0.594322   \n",
       "201210-1-03   0.756244   0.758303   0.755758   0.746141   0.748202   0.753062   \n",
       "201210-1-04   0.930075   0.930569   0.939969   0.935365   0.916589   0.931577   \n",
       "\n",
       "             384.51025  385.19363  385.87698  386.56036  ...  1794.3053  \\\n",
       "SpecID                                                   ...              \n",
       "201210-1-00   0.975157   0.972746   0.973920   0.980458  ...   0.656834   \n",
       "201210-1-01   0.986259   0.980173   0.966650   0.967537  ...   0.656269   \n",
       "201210-1-02   0.590084   0.595534   0.596581   0.594466  ...   0.540206   \n",
       "201210-1-03   0.737849   0.740215   0.738743   0.733308  ...   0.582242   \n",
       "201210-1-04   0.926273   0.931573   0.928463   0.914425  ...   0.813935   \n",
       "\n",
       "             1794.9886  1795.672  1796.3553  1797.0387  1797.722  1798.4055  \\\n",
       "SpecID                                                                        \n",
       "201210-1-00   0.653646  0.655516   0.661592   0.653377  0.653747   0.644989   \n",
       "201210-1-01   0.677449  0.668141   0.666633   0.663412  0.662918   0.663388   \n",
       "201210-1-02   0.534629  0.538094   0.540060   0.535479  0.534627   0.539708   \n",
       "201210-1-03   0.577106  0.585868   0.579843   0.582236  0.581193   0.584320   \n",
       "201210-1-04   0.817176  0.794517   0.798681   0.799072  0.801119   0.808060   \n",
       "\n",
       "             1799.0889  1799.7722  Status  \n",
       "SpecID                                     \n",
       "201210-1-00   0.645355   0.642506  Normal  \n",
       "201210-1-01   0.666937   0.671369  Normal  \n",
       "201210-1-02   0.534086   0.533271  Normal  \n",
       "201210-1-03   0.590369   0.579500  Normal  \n",
       "201210-1-04   0.801357   0.816381  Normal  \n",
       "\n",
       "[5 rows x 2079 columns]"
      ]
     },
     "execution_count": 17,
     "metadata": {},
     "output_type": "execute_result"
    }
   ],
   "source": [
    "scaled_raw_df.head()"
   ]
  },
  {
   "cell_type": "code",
   "execution_count": 18,
   "metadata": {},
   "outputs": [],
   "source": [
    "#scaled_raw_df.to_csv(\"../../data/scaled_raw_spectra.csv\")"
   ]
  },
  {
   "cell_type": "code",
   "execution_count": 19,
   "metadata": {},
   "outputs": [
    {
     "name": "stdout",
     "output_type": "stream",
     "text": [
      "ExtraTreesClassifier Cross-Validation Accuracy: 0.8417 +/- 0.0176\n"
     ]
    }
   ],
   "source": [
    "evaluate_extra_trees(scaled_raw_df)"
   ]
  },
  {
   "cell_type": "markdown",
   "metadata": {},
   "source": [
    "> Now see the effect of removing spikes caused by cosmic rays"
   ]
  },
  {
   "cell_type": "markdown",
   "metadata": {},
   "source": [
    "Locate and correct the spikes"
   ]
  },
  {
   "cell_type": "code",
   "execution_count": 20,
   "metadata": {},
   "outputs": [],
   "source": [
    "def modified_z_score(ys):\n",
    "    ysb = np.diff(ys) # Differentiated intensity values\n",
    "    median_y = np.median(ysb) # Median of the intensity values\n",
    "    median_absolute_deviation_y = np.median([np.abs(y - median_y) for y in ysb]) # median_absolute_deviation of the differentiated intensity values\n",
    "    modified_z_scores = [0.6745 * (y - median_y) / median_absolute_deviation_y for y in ysb] # median_absolute_deviationmodified z scores\n",
    "    return modified_z_scores\n",
    "    \n",
    "# The next function calculates the average values around the point to be replaced.\n",
    "def fixer(y,ma):\n",
    "    threshold = 7 # binarisation threshold\n",
    "    spikes = abs(np.array(modified_z_score(y))) > threshold\n",
    "    y_out = y.copy()\n",
    "    for i in np.arange(len(spikes)):\n",
    "        if spikes[i] != 0:\n",
    "            w = np.arange(i-ma,i+1+ma)\n",
    "            we = w[spikes[w] == 0]\n",
    "            if len(we) > 0:  # Check if it has at least one valid value\n",
    "                y_out[i] = np.mean(y[we])\n",
    "    return y_out\n",
    "\n",
    "def despike_group(absorbances):\n",
    "    absorbance_data = absorbances.to_numpy()\n",
    "    despiked_absorbance = fixer(absorbance_data, ma=10)\n",
    "    return(despiked_absorbance)\n",
    "\n",
    "df['Despiked_Absorbance'] = df.groupby('SpecID')['Absorbance'].transform(lambda x: despike_group(x))"
   ]
  },
  {
   "cell_type": "code",
   "execution_count": 21,
   "metadata": {},
   "outputs": [
    {
     "data": {
      "text/html": [
       "<div>\n",
       "<style scoped>\n",
       "    .dataframe tbody tr th:only-of-type {\n",
       "        vertical-align: middle;\n",
       "    }\n",
       "\n",
       "    .dataframe tbody tr th {\n",
       "        vertical-align: top;\n",
       "    }\n",
       "\n",
       "    .dataframe thead th {\n",
       "        text-align: right;\n",
       "    }\n",
       "</style>\n",
       "<table border=\"1\" class=\"dataframe\">\n",
       "  <thead>\n",
       "    <tr style=\"text-align: right;\">\n",
       "      <th></th>\n",
       "      <th>SpecID</th>\n",
       "      <th>Seq</th>\n",
       "      <th>WaveNumber</th>\n",
       "      <th>Absorbance</th>\n",
       "      <th>SurID</th>\n",
       "      <th>Status</th>\n",
       "      <th>Scaled_Absorbance</th>\n",
       "      <th>Despiked_Absorbance</th>\n",
       "    </tr>\n",
       "  </thead>\n",
       "  <tbody>\n",
       "    <tr>\n",
       "      <th>264</th>\n",
       "      <td>201210-1-00</td>\n",
       "      <td>264</td>\n",
       "      <td>380.41003</td>\n",
       "      <td>1843.2512</td>\n",
       "      <td>201210-1</td>\n",
       "      <td>Normal</td>\n",
       "      <td>0.995320</td>\n",
       "      <td>1843.2512</td>\n",
       "    </tr>\n",
       "    <tr>\n",
       "      <th>265</th>\n",
       "      <td>201210-1-00</td>\n",
       "      <td>265</td>\n",
       "      <td>381.09338</td>\n",
       "      <td>1839.0771</td>\n",
       "      <td>201210-1</td>\n",
       "      <td>Normal</td>\n",
       "      <td>0.993066</td>\n",
       "      <td>1839.0771</td>\n",
       "    </tr>\n",
       "    <tr>\n",
       "      <th>266</th>\n",
       "      <td>201210-1-00</td>\n",
       "      <td>266</td>\n",
       "      <td>381.77676</td>\n",
       "      <td>1825.5864</td>\n",
       "      <td>201210-1</td>\n",
       "      <td>Normal</td>\n",
       "      <td>0.985781</td>\n",
       "      <td>1825.5864</td>\n",
       "    </tr>\n",
       "    <tr>\n",
       "      <th>267</th>\n",
       "      <td>201210-1-00</td>\n",
       "      <td>267</td>\n",
       "      <td>382.46014</td>\n",
       "      <td>1820.9634</td>\n",
       "      <td>201210-1</td>\n",
       "      <td>Normal</td>\n",
       "      <td>0.983285</td>\n",
       "      <td>1820.9634</td>\n",
       "    </tr>\n",
       "    <tr>\n",
       "      <th>268</th>\n",
       "      <td>201210-1-00</td>\n",
       "      <td>268</td>\n",
       "      <td>383.14349</td>\n",
       "      <td>1823.1549</td>\n",
       "      <td>201210-1</td>\n",
       "      <td>Normal</td>\n",
       "      <td>0.984468</td>\n",
       "      <td>1823.1549</td>\n",
       "    </tr>\n",
       "    <tr>\n",
       "      <th>...</th>\n",
       "      <td>...</td>\n",
       "      <td>...</td>\n",
       "      <td>...</td>\n",
       "      <td>...</td>\n",
       "      <td>...</td>\n",
       "      <td>...</td>\n",
       "      <td>...</td>\n",
       "      <td>...</td>\n",
       "    </tr>\n",
       "    <tr>\n",
       "      <th>8023277</th>\n",
       "      <td>210526-3-09</td>\n",
       "      <td>2337</td>\n",
       "      <td>1797.03870</td>\n",
       "      <td>1617.3926</td>\n",
       "      <td>210526-3</td>\n",
       "      <td>Hyperglycemia</td>\n",
       "      <td>0.677079</td>\n",
       "      <td>1617.3926</td>\n",
       "    </tr>\n",
       "    <tr>\n",
       "      <th>8023278</th>\n",
       "      <td>210526-3-09</td>\n",
       "      <td>2338</td>\n",
       "      <td>1797.72200</td>\n",
       "      <td>1633.0911</td>\n",
       "      <td>210526-3</td>\n",
       "      <td>Hyperglycemia</td>\n",
       "      <td>0.683651</td>\n",
       "      <td>1633.0911</td>\n",
       "    </tr>\n",
       "    <tr>\n",
       "      <th>8023279</th>\n",
       "      <td>210526-3-09</td>\n",
       "      <td>2339</td>\n",
       "      <td>1798.40550</td>\n",
       "      <td>1633.3076</td>\n",
       "      <td>210526-3</td>\n",
       "      <td>Hyperglycemia</td>\n",
       "      <td>0.683742</td>\n",
       "      <td>1633.3076</td>\n",
       "    </tr>\n",
       "    <tr>\n",
       "      <th>8023280</th>\n",
       "      <td>210526-3-09</td>\n",
       "      <td>2340</td>\n",
       "      <td>1799.08890</td>\n",
       "      <td>1641.8665</td>\n",
       "      <td>210526-3</td>\n",
       "      <td>Hyperglycemia</td>\n",
       "      <td>0.687325</td>\n",
       "      <td>1641.8665</td>\n",
       "    </tr>\n",
       "    <tr>\n",
       "      <th>8023281</th>\n",
       "      <td>210526-3-09</td>\n",
       "      <td>2341</td>\n",
       "      <td>1799.77220</td>\n",
       "      <td>1618.2405</td>\n",
       "      <td>210526-3</td>\n",
       "      <td>Hyperglycemia</td>\n",
       "      <td>0.677434</td>\n",
       "      <td>1618.2405</td>\n",
       "    </tr>\n",
       "  </tbody>\n",
       "</table>\n",
       "<p>6327510 rows × 8 columns</p>\n",
       "</div>"
      ],
      "text/plain": [
       "              SpecID   Seq  WaveNumber  Absorbance     SurID         Status  \\\n",
       "264      201210-1-00   264   380.41003   1843.2512  201210-1         Normal   \n",
       "265      201210-1-00   265   381.09338   1839.0771  201210-1         Normal   \n",
       "266      201210-1-00   266   381.77676   1825.5864  201210-1         Normal   \n",
       "267      201210-1-00   267   382.46014   1820.9634  201210-1         Normal   \n",
       "268      201210-1-00   268   383.14349   1823.1549  201210-1         Normal   \n",
       "...              ...   ...         ...         ...       ...            ...   \n",
       "8023277  210526-3-09  2337  1797.03870   1617.3926  210526-3  Hyperglycemia   \n",
       "8023278  210526-3-09  2338  1797.72200   1633.0911  210526-3  Hyperglycemia   \n",
       "8023279  210526-3-09  2339  1798.40550   1633.3076  210526-3  Hyperglycemia   \n",
       "8023280  210526-3-09  2340  1799.08890   1641.8665  210526-3  Hyperglycemia   \n",
       "8023281  210526-3-09  2341  1799.77220   1618.2405  210526-3  Hyperglycemia   \n",
       "\n",
       "         Scaled_Absorbance  Despiked_Absorbance  \n",
       "264               0.995320            1843.2512  \n",
       "265               0.993066            1839.0771  \n",
       "266               0.985781            1825.5864  \n",
       "267               0.983285            1820.9634  \n",
       "268               0.984468            1823.1549  \n",
       "...                    ...                  ...  \n",
       "8023277           0.677079            1617.3926  \n",
       "8023278           0.683651            1633.0911  \n",
       "8023279           0.683742            1633.3076  \n",
       "8023280           0.687325            1641.8665  \n",
       "8023281           0.677434            1618.2405  \n",
       "\n",
       "[6327510 rows x 8 columns]"
      ]
     },
     "execution_count": 21,
     "metadata": {},
     "output_type": "execute_result"
    }
   ],
   "source": [
    "df  "
   ]
  },
  {
   "cell_type": "code",
   "execution_count": 22,
   "metadata": {},
   "outputs": [],
   "source": [
    "despiked_df = prepare_wavelength_df(df, 'Despiked_Absorbance')"
   ]
  },
  {
   "cell_type": "code",
   "execution_count": 23,
   "metadata": {},
   "outputs": [
    {
     "name": "stdout",
     "output_type": "stream",
     "text": [
      "ExtraTreesClassifier Cross-Validation Accuracy: 0.8427 +/- 0.0217\n"
     ]
    }
   ],
   "source": [
    "evaluate_extra_trees(despiked_df)"
   ]
  },
  {
   "cell_type": "markdown",
   "metadata": {},
   "source": [
    "Despike with scaling."
   ]
  },
  {
   "cell_type": "code",
   "execution_count": 24,
   "metadata": {},
   "outputs": [],
   "source": [
    "df['Scaled_Despiked_Absorbance'] = df.groupby('SpecID')['Despiked_Absorbance'].transform(lambda x: normalise(x))"
   ]
  },
  {
   "cell_type": "code",
   "execution_count": 25,
   "metadata": {},
   "outputs": [],
   "source": [
    "scaled_despiked_df = prepare_wavelength_df(df, 'Scaled_Despiked_Absorbance')"
   ]
  },
  {
   "cell_type": "code",
   "execution_count": 26,
   "metadata": {},
   "outputs": [
    {
     "name": "stdout",
     "output_type": "stream",
     "text": [
      "ExtraTreesClassifier Cross-Validation Accuracy: 0.8466 +/- 0.0166\n"
     ]
    }
   ],
   "source": [
    "evaluate_extra_trees(scaled_despiked_df)"
   ]
  },
  {
   "cell_type": "markdown",
   "metadata": {},
   "source": [
    "This seems to cause a small degradation to performance."
   ]
  },
  {
   "cell_type": "markdown",
   "metadata": {},
   "source": [
    ">Calculate the baseline using Asymmetric Least Squares, then subtract it from the spectrum."
   ]
  },
  {
   "cell_type": "code",
   "execution_count": 27,
   "metadata": {},
   "outputs": [],
   "source": [
    "def baseline_als_optimized(y, lam, p, niter=10):\n",
    "    L = len(y)\n",
    "    D = sparse.diags([1,-2,1],[0,-1,-2], shape=(L,L-2))\n",
    "    D = lam * D.dot(D.transpose()) # Precompute this term since it does not depend on `w`\n",
    "    w = np.ones(L)\n",
    "    W = sparse.spdiags(w, 0, L, L)\n",
    "    for i in range(niter):\n",
    "        W.setdiag(w) # Do not create a new matrix, just update diagonal values\n",
    "        Z = W + D\n",
    "        z = spsolve(Z, w*y)\n",
    "        w = p * (y > z) + (1-p) * (y < z)\n",
    "    return z\n",
    "\n",
    "# lam = 10 ** 8\n",
    "# p = 0.05\n",
    "# df['Baseline_Corrected_Absorbance'] = df.groupby('SpecID')['Despiked_Absorbance'].transform(lambda x: baseline_als_optimized(x, lam=lam, p=p))"
   ]
  },
  {
   "cell_type": "markdown",
   "metadata": {},
   "source": [
    "Here is an example on 1 spectrum"
   ]
  },
  {
   "cell_type": "code",
   "execution_count": 28,
   "metadata": {},
   "outputs": [
    {
     "data": {
      "text/html": [
       "<div>\n",
       "<style scoped>\n",
       "    .dataframe tbody tr th:only-of-type {\n",
       "        vertical-align: middle;\n",
       "    }\n",
       "\n",
       "    .dataframe tbody tr th {\n",
       "        vertical-align: top;\n",
       "    }\n",
       "\n",
       "    .dataframe thead th {\n",
       "        text-align: right;\n",
       "    }\n",
       "</style>\n",
       "<table border=\"1\" class=\"dataframe\">\n",
       "  <thead>\n",
       "    <tr style=\"text-align: right;\">\n",
       "      <th></th>\n",
       "      <th>SpecID</th>\n",
       "      <th>Seq</th>\n",
       "      <th>WaveNumber</th>\n",
       "      <th>Absorbance</th>\n",
       "      <th>SurID</th>\n",
       "      <th>Status</th>\n",
       "      <th>Scaled_Absorbance</th>\n",
       "      <th>Despiked_Absorbance</th>\n",
       "      <th>Scaled_Despiked_Absorbance</th>\n",
       "    </tr>\n",
       "  </thead>\n",
       "  <tbody>\n",
       "    <tr>\n",
       "      <th>8013299</th>\n",
       "      <td>210526-3-06</td>\n",
       "      <td>264</td>\n",
       "      <td>380.41003</td>\n",
       "      <td>2412.2849</td>\n",
       "      <td>210526-3</td>\n",
       "      <td>Hyperglycemia</td>\n",
       "      <td>0.848335</td>\n",
       "      <td>2412.2849</td>\n",
       "      <td>0.848335</td>\n",
       "    </tr>\n",
       "    <tr>\n",
       "      <th>8013300</th>\n",
       "      <td>210526-3-06</td>\n",
       "      <td>265</td>\n",
       "      <td>381.09338</td>\n",
       "      <td>2403.4451</td>\n",
       "      <td>210526-3</td>\n",
       "      <td>Hyperglycemia</td>\n",
       "      <td>0.845226</td>\n",
       "      <td>2403.4451</td>\n",
       "      <td>0.845226</td>\n",
       "    </tr>\n",
       "    <tr>\n",
       "      <th>8013301</th>\n",
       "      <td>210526-3-06</td>\n",
       "      <td>266</td>\n",
       "      <td>381.77676</td>\n",
       "      <td>2396.9133</td>\n",
       "      <td>210526-3</td>\n",
       "      <td>Hyperglycemia</td>\n",
       "      <td>0.842929</td>\n",
       "      <td>2396.9133</td>\n",
       "      <td>0.842929</td>\n",
       "    </tr>\n",
       "    <tr>\n",
       "      <th>8013302</th>\n",
       "      <td>210526-3-06</td>\n",
       "      <td>267</td>\n",
       "      <td>382.46014</td>\n",
       "      <td>2398.3677</td>\n",
       "      <td>210526-3</td>\n",
       "      <td>Hyperglycemia</td>\n",
       "      <td>0.843441</td>\n",
       "      <td>2398.3677</td>\n",
       "      <td>0.843441</td>\n",
       "    </tr>\n",
       "    <tr>\n",
       "      <th>8013303</th>\n",
       "      <td>210526-3-06</td>\n",
       "      <td>268</td>\n",
       "      <td>383.14349</td>\n",
       "      <td>2463.7537</td>\n",
       "      <td>210526-3</td>\n",
       "      <td>Hyperglycemia</td>\n",
       "      <td>0.866435</td>\n",
       "      <td>2463.7537</td>\n",
       "      <td>0.866435</td>\n",
       "    </tr>\n",
       "    <tr>\n",
       "      <th>...</th>\n",
       "      <td>...</td>\n",
       "      <td>...</td>\n",
       "      <td>...</td>\n",
       "      <td>...</td>\n",
       "      <td>...</td>\n",
       "      <td>...</td>\n",
       "      <td>...</td>\n",
       "      <td>...</td>\n",
       "      <td>...</td>\n",
       "    </tr>\n",
       "    <tr>\n",
       "      <th>8015372</th>\n",
       "      <td>210526-3-06</td>\n",
       "      <td>2337</td>\n",
       "      <td>1797.03870</td>\n",
       "      <td>1967.4805</td>\n",
       "      <td>210526-3</td>\n",
       "      <td>Hyperglycemia</td>\n",
       "      <td>0.691909</td>\n",
       "      <td>1967.4805</td>\n",
       "      <td>0.691909</td>\n",
       "    </tr>\n",
       "    <tr>\n",
       "      <th>8015373</th>\n",
       "      <td>210526-3-06</td>\n",
       "      <td>2338</td>\n",
       "      <td>1797.72200</td>\n",
       "      <td>1965.0815</td>\n",
       "      <td>210526-3</td>\n",
       "      <td>Hyperglycemia</td>\n",
       "      <td>0.691066</td>\n",
       "      <td>1965.0815</td>\n",
       "      <td>0.691066</td>\n",
       "    </tr>\n",
       "    <tr>\n",
       "      <th>8015374</th>\n",
       "      <td>210526-3-06</td>\n",
       "      <td>2339</td>\n",
       "      <td>1798.40550</td>\n",
       "      <td>1947.5498</td>\n",
       "      <td>210526-3</td>\n",
       "      <td>Hyperglycemia</td>\n",
       "      <td>0.684900</td>\n",
       "      <td>1947.5498</td>\n",
       "      <td>0.684900</td>\n",
       "    </tr>\n",
       "    <tr>\n",
       "      <th>8015375</th>\n",
       "      <td>210526-3-06</td>\n",
       "      <td>2340</td>\n",
       "      <td>1799.08890</td>\n",
       "      <td>1951.8849</td>\n",
       "      <td>210526-3</td>\n",
       "      <td>Hyperglycemia</td>\n",
       "      <td>0.686425</td>\n",
       "      <td>1951.8849</td>\n",
       "      <td>0.686425</td>\n",
       "    </tr>\n",
       "    <tr>\n",
       "      <th>8015376</th>\n",
       "      <td>210526-3-06</td>\n",
       "      <td>2341</td>\n",
       "      <td>1799.77220</td>\n",
       "      <td>1953.0166</td>\n",
       "      <td>210526-3</td>\n",
       "      <td>Hyperglycemia</td>\n",
       "      <td>0.686823</td>\n",
       "      <td>1953.0166</td>\n",
       "      <td>0.686823</td>\n",
       "    </tr>\n",
       "  </tbody>\n",
       "</table>\n",
       "<p>2078 rows × 9 columns</p>\n",
       "</div>"
      ],
      "text/plain": [
       "              SpecID   Seq  WaveNumber  Absorbance     SurID         Status  \\\n",
       "8013299  210526-3-06   264   380.41003   2412.2849  210526-3  Hyperglycemia   \n",
       "8013300  210526-3-06   265   381.09338   2403.4451  210526-3  Hyperglycemia   \n",
       "8013301  210526-3-06   266   381.77676   2396.9133  210526-3  Hyperglycemia   \n",
       "8013302  210526-3-06   267   382.46014   2398.3677  210526-3  Hyperglycemia   \n",
       "8013303  210526-3-06   268   383.14349   2463.7537  210526-3  Hyperglycemia   \n",
       "...              ...   ...         ...         ...       ...            ...   \n",
       "8015372  210526-3-06  2337  1797.03870   1967.4805  210526-3  Hyperglycemia   \n",
       "8015373  210526-3-06  2338  1797.72200   1965.0815  210526-3  Hyperglycemia   \n",
       "8015374  210526-3-06  2339  1798.40550   1947.5498  210526-3  Hyperglycemia   \n",
       "8015375  210526-3-06  2340  1799.08890   1951.8849  210526-3  Hyperglycemia   \n",
       "8015376  210526-3-06  2341  1799.77220   1953.0166  210526-3  Hyperglycemia   \n",
       "\n",
       "         Scaled_Absorbance  Despiked_Absorbance  Scaled_Despiked_Absorbance  \n",
       "8013299           0.848335            2412.2849                    0.848335  \n",
       "8013300           0.845226            2403.4451                    0.845226  \n",
       "8013301           0.842929            2396.9133                    0.842929  \n",
       "8013302           0.843441            2398.3677                    0.843441  \n",
       "8013303           0.866435            2463.7537                    0.866435  \n",
       "...                    ...                  ...                         ...  \n",
       "8015372           0.691909            1967.4805                    0.691909  \n",
       "8015373           0.691066            1965.0815                    0.691066  \n",
       "8015374           0.684900            1947.5498                    0.684900  \n",
       "8015375           0.686425            1951.8849                    0.686425  \n",
       "8015376           0.686823            1953.0166                    0.686823  \n",
       "\n",
       "[2078 rows x 9 columns]"
      ]
     },
     "execution_count": 28,
     "metadata": {},
     "output_type": "execute_result"
    }
   ],
   "source": [
    "sample = df[df['SpecID'] == \"210526-3-06\"]\n",
    "sample"
   ]
  },
  {
   "cell_type": "code",
   "execution_count": 29,
   "metadata": {},
   "outputs": [
    {
     "name": "stderr",
     "output_type": "stream",
     "text": [
      "/tmp/ipykernel_21741/243513882.py:9: SettingWithCopyWarning: \n",
      "A value is trying to be set on a copy of a slice from a DataFrame.\n",
      "Try using .loc[row_indexer,col_indexer] = value instead\n",
      "\n",
      "See the caveats in the documentation: https://pandas.pydata.org/pandas-docs/stable/user_guide/indexing.html#returning-a-view-versus-a-copy\n",
      "  sample['Baseline'] = sample.groupby('SpecID')['Absorbance'].transform(lambda x: baseline_als_optimized(x, lam=lam, p=p, niter=10))\n"
     ]
    },
    {
     "data": {
      "text/plain": [
       "<Axes: xlabel='WaveNumber', ylabel='Absorbance'>"
      ]
     },
     "execution_count": 29,
     "metadata": {},
     "output_type": "execute_result"
    },
    {
     "data": {
      "image/png": "[encoded data removed]",
      "text/plain": [
       "<Figure size 640x480 with 1 Axes>"
      ]
     },
     "metadata": {},
     "output_type": "display_data"
    }
   ],
   "source": [
    "lam = 10 ** 6\n",
    "p = 0.01\n",
    "\n",
    "# lam = 10 ** 7\n",
    "# p = 0.05\n",
    "\n",
    "# lam = 10 ** 9\n",
    "# p = 0.1\n",
    "sample['Baseline'] = sample.groupby('SpecID')['Absorbance'].transform(lambda x: baseline_als_optimized(x, lam=lam, p=p, niter=10))\n",
    "sns.lineplot(x=\"WaveNumber\", y=\"Absorbance\", data=sample)\n",
    "sns.lineplot(x=\"WaveNumber\", y=\"Baseline\", data=sample)"
   ]
  },
  {
   "cell_type": "markdown",
   "metadata": {},
   "source": [
    "Subtract the baseline."
   ]
  },
  {
   "cell_type": "code",
   "execution_count": 30,
   "metadata": {},
   "outputs": [
    {
     "name": "stderr",
     "output_type": "stream",
     "text": [
      "/tmp/ipykernel_21741/1303904700.py:1: SettingWithCopyWarning: \n",
      "A value is trying to be set on a copy of a slice from a DataFrame.\n",
      "Try using .loc[row_indexer,col_indexer] = value instead\n",
      "\n",
      "See the caveats in the documentation: https://pandas.pydata.org/pandas-docs/stable/user_guide/indexing.html#returning-a-view-versus-a-copy\n",
      "  sample['Baseline_Corrected_Absorbance'] = sample['Absorbance'] - sample['Baseline']\n"
     ]
    },
    {
     "data": {
      "text/plain": [
       "<Axes: xlabel='WaveNumber', ylabel='Baseline_Corrected_Absorbance'>"
      ]
     },
     "execution_count": 30,
     "metadata": {},
     "output_type": "execute_result"
    },
    {
     "data": {
      "image/png": "[encoded data removed]",
      "text/plain": [
       "<Figure size 640x480 with 1 Axes>"
      ]
     },
     "metadata": {},
     "output_type": "display_data"
    }
   ],
   "source": [
    "sample['Baseline_Corrected_Absorbance'] = sample['Absorbance'] - sample['Baseline']\n",
    "sns.lineplot(x=\"WaveNumber\", y=\"Baseline_Corrected_Absorbance\", data=sample)"
   ]
  },
  {
   "cell_type": "markdown",
   "metadata": {},
   "source": [
    "Remove the noise from the spectra using Savitzky–Golay-filtering on the raw spectrum."
   ]
  },
  {
   "cell_type": "code",
   "execution_count": 31,
   "metadata": {},
   "outputs": [
    {
     "name": "stderr",
     "output_type": "stream",
     "text": [
      "/tmp/ipykernel_21741/2008908675.py:6: SettingWithCopyWarning: \n",
      "A value is trying to be set on a copy of a slice from a DataFrame.\n",
      "Try using .loc[row_indexer,col_indexer] = value instead\n",
      "\n",
      "See the caveats in the documentation: https://pandas.pydata.org/pandas-docs/stable/user_guide/indexing.html#returning-a-view-versus-a-copy\n",
      "  sample['Smoothed_Absorbance'] = sample.groupby('SpecID')['Absorbance'].transform(lambda x: savgol_filter(x, window_size, poly_order, deriv=0))\n"
     ]
    },
    {
     "data": {
      "text/plain": [
       "<Axes: xlabel='WaveNumber', ylabel='Smoothed_Absorbance'>"
      ]
     },
     "execution_count": 31,
     "metadata": {},
     "output_type": "execute_result"
    },
    {
     "data": {
      "image/png": "[encoded data removed]",
      "text/plain": [
       "<Figure size 640x480 with 1 Axes>"
      ]
     },
     "metadata": {},
     "output_type": "display_data"
    }
   ],
   "source": [
    "# Set the window size and polynomial order for the Savitzky-Golay filter\n",
    "window_size = 101\n",
    "poly_order = 2\n",
    "\n",
    "# Apply Savitzky-Golay filter to smooth the Absorbance values\n",
    "sample['Smoothed_Absorbance'] = sample.groupby('SpecID')['Absorbance'].transform(lambda x: savgol_filter(x, window_size, poly_order, deriv=0))\n",
    "sns.lineplot(x=\"WaveNumber\", y=\"Smoothed_Absorbance\", data=sample)"
   ]
  },
  {
   "cell_type": "markdown",
   "metadata": {},
   "source": [
    "Try it on the Baseline_Corrected_Spectrum"
   ]
  },
  {
   "cell_type": "code",
   "execution_count": 32,
   "metadata": {},
   "outputs": [
    {
     "name": "stderr",
     "output_type": "stream",
     "text": [
      "/tmp/ipykernel_21741/1425479424.py:2: SettingWithCopyWarning: \n",
      "A value is trying to be set on a copy of a slice from a DataFrame.\n",
      "Try using .loc[row_indexer,col_indexer] = value instead\n",
      "\n",
      "See the caveats in the documentation: https://pandas.pydata.org/pandas-docs/stable/user_guide/indexing.html#returning-a-view-versus-a-copy\n",
      "  sample['Smoothed_Absorbance'] = sample.groupby('SpecID')['Baseline_Corrected_Absorbance'].transform(lambda x: savgol_filter(x, window_size, poly_order, deriv=0))\n"
     ]
    },
    {
     "data": {
      "text/plain": [
       "<Axes: xlabel='WaveNumber', ylabel='Smoothed_Absorbance'>"
      ]
     },
     "execution_count": 32,
     "metadata": {},
     "output_type": "execute_result"
    },
    {
     "data": {
      "image/png": "[encoded data removed]",
      "text/plain": [
       "<Figure size 640x480 with 1 Axes>"
      ]
     },
     "metadata": {},
     "output_type": "display_data"
    }
   ],
   "source": [
    "# Apply Savitzky-Golay filter to smooth the Absorbance values\n",
    "sample['Smoothed_Absorbance'] = sample.groupby('SpecID')['Baseline_Corrected_Absorbance'].transform(lambda x: savgol_filter(x, window_size, poly_order, deriv=0))\n",
    "sns.lineplot(x=\"WaveNumber\", y=\"Smoothed_Absorbance\", data=sample)"
   ]
  },
  {
   "cell_type": "code",
   "execution_count": 67,
   "metadata": {},
   "outputs": [
    {
     "name": "stderr",
     "output_type": "stream",
     "text": [
      "/tmp/ipykernel_20797/1280720429.py:2: SettingWithCopyWarning: \n",
      "A value is trying to be set on a copy of a slice from a DataFrame.\n",
      "Try using .loc[row_indexer,col_indexer] = value instead\n",
      "\n",
      "See the caveats in the documentation: https://pandas.pydata.org/pandas-docs/stable/user_guide/indexing.html#returning-a-view-versus-a-copy\n",
      "  sample['Smoothed_Absorbance'] = sample.groupby('SpecID')['Baseline_Corrected_Absorbance'].transform(lambda x: savgol_filter(x, 9, 2, deriv=0))\n"
     ]
    },
    {
     "data": {
      "text/plain": [
       "<Axes: xlabel='WaveNumber', ylabel='Smoothed_Absorbance'>"
      ]
     },
     "execution_count": 67,
     "metadata": {},
     "output_type": "execute_result"
    },
    {
     "data": {
      "image/png": "[encoded data removed]",
      "text/plain": [
       "<Figure size 640x480 with 1 Axes>"
      ]
     },
     "metadata": {},
     "output_type": "display_data"
    }
   ],
   "source": [
    "# Apply Savitzky-Golay filter to smooth the Absorbance values\n",
    "sample['Smoothed_Absorbance'] = sample.groupby('SpecID')['Baseline_Corrected_Absorbance'].transform(lambda x: savgol_filter(x, 9, 2, deriv=0))\n",
    "sns.lineplot(x=\"WaveNumber\", y=\"Smoothed_Absorbance\", data=sample)"
   ]
  },
  {
   "cell_type": "markdown",
   "metadata": {},
   "source": [
    ">Based on hand tuned parameters lets see how they affect the Machine Learning Classification."
   ]
  },
  {
   "cell_type": "code",
   "execution_count": 68,
   "metadata": {},
   "outputs": [],
   "source": [
    "df['Baseline_Corrected_Absorbance'] = df['Absorbance'] - df.groupby('SpecID')['Absorbance'].transform(lambda x: baseline_als_optimized(x, lam=lam, p=p, niter=10))"
   ]
  },
  {
   "cell_type": "code",
   "execution_count": 69,
   "metadata": {},
   "outputs": [
    {
     "data": {
      "text/html": [
       "<div>\n",
       "<style scoped>\n",
       "    .dataframe tbody tr th:only-of-type {\n",
       "        vertical-align: middle;\n",
       "    }\n",
       "\n",
       "    .dataframe tbody tr th {\n",
       "        vertical-align: top;\n",
       "    }\n",
       "\n",
       "    .dataframe thead th {\n",
       "        text-align: right;\n",
       "    }\n",
       "</style>\n",
       "<table border=\"1\" class=\"dataframe\">\n",
       "  <thead>\n",
       "    <tr style=\"text-align: right;\">\n",
       "      <th></th>\n",
       "      <th>SpecID</th>\n",
       "      <th>Seq</th>\n",
       "      <th>WaveNumber</th>\n",
       "      <th>Absorbance</th>\n",
       "      <th>SurID</th>\n",
       "      <th>Status</th>\n",
       "      <th>Scaled_Absorbance</th>\n",
       "      <th>Despiked_Absorbance</th>\n",
       "      <th>Scaled_Despiked_Absorbance</th>\n",
       "      <th>Baseline_Corrected_Absorbance</th>\n",
       "    </tr>\n",
       "  </thead>\n",
       "  <tbody>\n",
       "    <tr>\n",
       "      <th>264</th>\n",
       "      <td>201210-1-00</td>\n",
       "      <td>264</td>\n",
       "      <td>380.41003</td>\n",
       "      <td>1843.2512</td>\n",
       "      <td>201210-1</td>\n",
       "      <td>Normal</td>\n",
       "      <td>0.995320</td>\n",
       "      <td>1843.2512</td>\n",
       "      <td>0.995320</td>\n",
       "      <td>97.903716</td>\n",
       "    </tr>\n",
       "    <tr>\n",
       "      <th>265</th>\n",
       "      <td>201210-1-00</td>\n",
       "      <td>265</td>\n",
       "      <td>381.09338</td>\n",
       "      <td>1839.0771</td>\n",
       "      <td>201210-1</td>\n",
       "      <td>Normal</td>\n",
       "      <td>0.993066</td>\n",
       "      <td>1839.0771</td>\n",
       "      <td>0.993066</td>\n",
       "      <td>93.886492</td>\n",
       "    </tr>\n",
       "    <tr>\n",
       "      <th>266</th>\n",
       "      <td>201210-1-00</td>\n",
       "      <td>266</td>\n",
       "      <td>381.77676</td>\n",
       "      <td>1825.5864</td>\n",
       "      <td>201210-1</td>\n",
       "      <td>Normal</td>\n",
       "      <td>0.985781</td>\n",
       "      <td>1825.5864</td>\n",
       "      <td>0.985781</td>\n",
       "      <td>80.552667</td>\n",
       "    </tr>\n",
       "    <tr>\n",
       "      <th>267</th>\n",
       "      <td>201210-1-00</td>\n",
       "      <td>267</td>\n",
       "      <td>382.46014</td>\n",
       "      <td>1820.9634</td>\n",
       "      <td>201210-1</td>\n",
       "      <td>Normal</td>\n",
       "      <td>0.983285</td>\n",
       "      <td>1820.9634</td>\n",
       "      <td>0.983285</td>\n",
       "      <td>76.086543</td>\n",
       "    </tr>\n",
       "    <tr>\n",
       "      <th>268</th>\n",
       "      <td>201210-1-00</td>\n",
       "      <td>268</td>\n",
       "      <td>383.14349</td>\n",
       "      <td>1823.1549</td>\n",
       "      <td>201210-1</td>\n",
       "      <td>Normal</td>\n",
       "      <td>0.984468</td>\n",
       "      <td>1823.1549</td>\n",
       "      <td>0.984468</td>\n",
       "      <td>78.434918</td>\n",
       "    </tr>\n",
       "  </tbody>\n",
       "</table>\n",
       "</div>"
      ],
      "text/plain": [
       "          SpecID  Seq  WaveNumber  Absorbance     SurID  Status  \\\n",
       "264  201210-1-00  264   380.41003   1843.2512  201210-1  Normal   \n",
       "265  201210-1-00  265   381.09338   1839.0771  201210-1  Normal   \n",
       "266  201210-1-00  266   381.77676   1825.5864  201210-1  Normal   \n",
       "267  201210-1-00  267   382.46014   1820.9634  201210-1  Normal   \n",
       "268  201210-1-00  268   383.14349   1823.1549  201210-1  Normal   \n",
       "\n",
       "     Scaled_Absorbance  Despiked_Absorbance  Scaled_Despiked_Absorbance  \\\n",
       "264           0.995320            1843.2512                    0.995320   \n",
       "265           0.993066            1839.0771                    0.993066   \n",
       "266           0.985781            1825.5864                    0.985781   \n",
       "267           0.983285            1820.9634                    0.983285   \n",
       "268           0.984468            1823.1549                    0.984468   \n",
       "\n",
       "     Baseline_Corrected_Absorbance  \n",
       "264                      97.903716  \n",
       "265                      93.886492  \n",
       "266                      80.552667  \n",
       "267                      76.086543  \n",
       "268                      78.434918  "
      ]
     },
     "execution_count": 69,
     "metadata": {},
     "output_type": "execute_result"
    }
   ],
   "source": [
    "df.head()"
   ]
  },
  {
   "cell_type": "code",
   "execution_count": 70,
   "metadata": {},
   "outputs": [],
   "source": [
    "baseline_corrected_df = prepare_wavelength_df(df, 'Baseline_Corrected_Absorbance')"
   ]
  },
  {
   "cell_type": "code",
   "execution_count": 71,
   "metadata": {},
   "outputs": [
    {
     "data": {
      "text/html": [
       "<div>\n",
       "<style scoped>\n",
       "    .dataframe tbody tr th:only-of-type {\n",
       "        vertical-align: middle;\n",
       "    }\n",
       "\n",
       "    .dataframe tbody tr th {\n",
       "        vertical-align: top;\n",
       "    }\n",
       "\n",
       "    .dataframe thead th {\n",
       "        text-align: right;\n",
       "    }\n",
       "</style>\n",
       "<table border=\"1\" class=\"dataframe\">\n",
       "  <thead>\n",
       "    <tr style=\"text-align: right;\">\n",
       "      <th></th>\n",
       "      <th>380.41003</th>\n",
       "      <th>381.09338</th>\n",
       "      <th>381.77676</th>\n",
       "      <th>382.46014</th>\n",
       "      <th>383.14349</th>\n",
       "      <th>383.82687</th>\n",
       "      <th>384.51025</th>\n",
       "      <th>385.19363</th>\n",
       "      <th>385.87698</th>\n",
       "      <th>386.56036</th>\n",
       "      <th>...</th>\n",
       "      <th>1794.3053</th>\n",
       "      <th>1794.9886</th>\n",
       "      <th>1795.672</th>\n",
       "      <th>1796.3553</th>\n",
       "      <th>1797.0387</th>\n",
       "      <th>1797.722</th>\n",
       "      <th>1798.4055</th>\n",
       "      <th>1799.0889</th>\n",
       "      <th>1799.7722</th>\n",
       "      <th>Status</th>\n",
       "    </tr>\n",
       "    <tr>\n",
       "      <th>SpecID</th>\n",
       "      <th></th>\n",
       "      <th></th>\n",
       "      <th></th>\n",
       "      <th></th>\n",
       "      <th></th>\n",
       "      <th></th>\n",
       "      <th></th>\n",
       "      <th></th>\n",
       "      <th></th>\n",
       "      <th></th>\n",
       "      <th></th>\n",
       "      <th></th>\n",
       "      <th></th>\n",
       "      <th></th>\n",
       "      <th></th>\n",
       "      <th></th>\n",
       "      <th></th>\n",
       "      <th></th>\n",
       "      <th></th>\n",
       "      <th></th>\n",
       "      <th></th>\n",
       "    </tr>\n",
       "  </thead>\n",
       "  <tbody>\n",
       "    <tr>\n",
       "      <th>201210-1-00</th>\n",
       "      <td>97.903716</td>\n",
       "      <td>93.886492</td>\n",
       "      <td>80.552667</td>\n",
       "      <td>76.086543</td>\n",
       "      <td>78.434918</td>\n",
       "      <td>81.082893</td>\n",
       "      <td>61.505868</td>\n",
       "      <td>57.196843</td>\n",
       "      <td>59.528518</td>\n",
       "      <td>71.793592</td>\n",
       "      <td>...</td>\n",
       "      <td>-9.464512</td>\n",
       "      <td>-14.913536</td>\n",
       "      <td>-10.996759</td>\n",
       "      <td>0.710818</td>\n",
       "      <td>-14.049305</td>\n",
       "      <td>-12.910328</td>\n",
       "      <td>-28.674050</td>\n",
       "      <td>-27.542672</td>\n",
       "      <td>-32.365294</td>\n",
       "      <td>Normal</td>\n",
       "    </tr>\n",
       "    <tr>\n",
       "      <th>201210-1-01</th>\n",
       "      <td>81.383751</td>\n",
       "      <td>60.170315</td>\n",
       "      <td>58.473878</td>\n",
       "      <td>89.395842</td>\n",
       "      <td>83.276805</td>\n",
       "      <td>102.623368</td>\n",
       "      <td>74.781732</td>\n",
       "      <td>62.562595</td>\n",
       "      <td>35.164758</td>\n",
       "      <td>37.177621</td>\n",
       "      <td>...</td>\n",
       "      <td>-39.879207</td>\n",
       "      <td>3.851507</td>\n",
       "      <td>-14.644480</td>\n",
       "      <td>-17.222965</td>\n",
       "      <td>-23.295351</td>\n",
       "      <td>-23.804037</td>\n",
       "      <td>-22.343422</td>\n",
       "      <td>-14.597708</td>\n",
       "      <td>-5.051993</td>\n",
       "      <td>Normal</td>\n",
       "    </tr>\n",
       "    <tr>\n",
       "      <th>201210-1-02</th>\n",
       "      <td>126.624977</td>\n",
       "      <td>132.201105</td>\n",
       "      <td>139.020132</td>\n",
       "      <td>141.838260</td>\n",
       "      <td>157.021987</td>\n",
       "      <td>132.691114</td>\n",
       "      <td>117.100241</td>\n",
       "      <td>137.322168</td>\n",
       "      <td>141.266694</td>\n",
       "      <td>133.524620</td>\n",
       "      <td>...</td>\n",
       "      <td>-25.706324</td>\n",
       "      <td>-46.031593</td>\n",
       "      <td>-32.929161</td>\n",
       "      <td>-25.372528</td>\n",
       "      <td>-42.014494</td>\n",
       "      <td>-44.873861</td>\n",
       "      <td>-25.799026</td>\n",
       "      <td>-46.288792</td>\n",
       "      <td>-49.012658</td>\n",
       "      <td>Normal</td>\n",
       "    </tr>\n",
       "    <tr>\n",
       "      <th>201210-1-03</th>\n",
       "      <td>310.465716</td>\n",
       "      <td>317.692465</td>\n",
       "      <td>309.022014</td>\n",
       "      <td>275.937064</td>\n",
       "      <td>283.171913</td>\n",
       "      <td>300.067061</td>\n",
       "      <td>247.661110</td>\n",
       "      <td>255.946957</td>\n",
       "      <td>250.984004</td>\n",
       "      <td>232.336450</td>\n",
       "      <td>...</td>\n",
       "      <td>-66.145975</td>\n",
       "      <td>-82.983113</td>\n",
       "      <td>-51.838649</td>\n",
       "      <td>-71.747584</td>\n",
       "      <td>-62.591018</td>\n",
       "      <td>-65.299252</td>\n",
       "      <td>-53.610385</td>\n",
       "      <td>-31.836518</td>\n",
       "      <td>-68.465852</td>\n",
       "      <td>Normal</td>\n",
       "    </tr>\n",
       "    <tr>\n",
       "      <th>201210-1-04</th>\n",
       "      <td>117.858214</td>\n",
       "      <td>119.258767</td>\n",
       "      <td>142.555420</td>\n",
       "      <td>131.423773</td>\n",
       "      <td>85.448426</td>\n",
       "      <td>122.483579</td>\n",
       "      <td>109.630531</td>\n",
       "      <td>122.847384</td>\n",
       "      <td>115.387836</td>\n",
       "      <td>81.063388</td>\n",
       "      <td>...</td>\n",
       "      <td>-50.248274</td>\n",
       "      <td>-41.837337</td>\n",
       "      <td>-97.101199</td>\n",
       "      <td>-86.417360</td>\n",
       "      <td>-85.012920</td>\n",
       "      <td>-79.535079</td>\n",
       "      <td>-62.027538</td>\n",
       "      <td>-78.061397</td>\n",
       "      <td>-40.680655</td>\n",
       "      <td>Normal</td>\n",
       "    </tr>\n",
       "  </tbody>\n",
       "</table>\n",
       "<p>5 rows × 2079 columns</p>\n",
       "</div>"
      ],
      "text/plain": [
       "              380.41003   381.09338   381.77676   382.46014   383.14349  \\\n",
       "SpecID                                                                    \n",
       "201210-1-00   97.903716   93.886492   80.552667   76.086543   78.434918   \n",
       "201210-1-01   81.383751   60.170315   58.473878   89.395842   83.276805   \n",
       "201210-1-02  126.624977  132.201105  139.020132  141.838260  157.021987   \n",
       "201210-1-03  310.465716  317.692465  309.022014  275.937064  283.171913   \n",
       "201210-1-04  117.858214  119.258767  142.555420  131.423773   85.448426   \n",
       "\n",
       "              383.82687   384.51025   385.19363   385.87698   386.56036  ...  \\\n",
       "SpecID                                                                   ...   \n",
       "201210-1-00   81.082893   61.505868   57.196843   59.528518   71.793592  ...   \n",
       "201210-1-01  102.623368   74.781732   62.562595   35.164758   37.177621  ...   \n",
       "201210-1-02  132.691114  117.100241  137.322168  141.266694  133.524620  ...   \n",
       "201210-1-03  300.067061  247.661110  255.946957  250.984004  232.336450  ...   \n",
       "201210-1-04  122.483579  109.630531  122.847384  115.387836   81.063388  ...   \n",
       "\n",
       "             1794.3053  1794.9886   1795.672  1796.3553  1797.0387   1797.722  \\\n",
       "SpecID                                                                          \n",
       "201210-1-00  -9.464512 -14.913536 -10.996759   0.710818 -14.049305 -12.910328   \n",
       "201210-1-01 -39.879207   3.851507 -14.644480 -17.222965 -23.295351 -23.804037   \n",
       "201210-1-02 -25.706324 -46.031593 -32.929161 -25.372528 -42.014494 -44.873861   \n",
       "201210-1-03 -66.145975 -82.983113 -51.838649 -71.747584 -62.591018 -65.299252   \n",
       "201210-1-04 -50.248274 -41.837337 -97.101199 -86.417360 -85.012920 -79.535079   \n",
       "\n",
       "             1798.4055  1799.0889  1799.7722  Status  \n",
       "SpecID                                                \n",
       "201210-1-00 -28.674050 -27.542672 -32.365294  Normal  \n",
       "201210-1-01 -22.343422 -14.597708  -5.051993  Normal  \n",
       "201210-1-02 -25.799026 -46.288792 -49.012658  Normal  \n",
       "201210-1-03 -53.610385 -31.836518 -68.465852  Normal  \n",
       "201210-1-04 -62.027538 -78.061397 -40.680655  Normal  \n",
       "\n",
       "[5 rows x 2079 columns]"
      ]
     },
     "execution_count": 71,
     "metadata": {},
     "output_type": "execute_result"
    }
   ],
   "source": [
    "baseline_corrected_df.head()"
   ]
  },
  {
   "cell_type": "code",
   "execution_count": 72,
   "metadata": {},
   "outputs": [
    {
     "name": "stdout",
     "output_type": "stream",
     "text": [
      "ExtraTreesClassifier Cross-Validation Accuracy: 0.8949 +/- 0.0169\n"
     ]
    }
   ],
   "source": [
    "evaluate_extra_trees(baseline_corrected_df)"
   ]
  },
  {
   "cell_type": "markdown",
   "metadata": {},
   "source": [
    "Scale the Baseline Corrected Absorbances to the highest peak."
   ]
  },
  {
   "cell_type": "code",
   "execution_count": 73,
   "metadata": {},
   "outputs": [],
   "source": [
    "df['Scaled_Baseline_Corrected'] = df.groupby('SpecID')['Baseline_Corrected_Absorbance'].transform(lambda x: normalise(x))"
   ]
  },
  {
   "cell_type": "code",
   "execution_count": 74,
   "metadata": {},
   "outputs": [],
   "source": [
    "scaled_baseline_df = prepare_wavelength_df(df, 'Scaled_Baseline_Corrected')"
   ]
  },
  {
   "cell_type": "code",
   "execution_count": 75,
   "metadata": {},
   "outputs": [
    {
     "name": "stdout",
     "output_type": "stream",
     "text": [
      "ExtraTreesClassifier Cross-Validation Accuracy: 0.8447 +/- 0.0171\n"
     ]
    }
   ],
   "source": [
    "evaluate_extra_trees(scaled_baseline_df)"
   ]
  },
  {
   "cell_type": "markdown",
   "metadata": {},
   "source": [
    "> Lets try 2 different Savitsky Golay Approaches on the Raw and Baseline Corrected Spectra with and without scaling"
   ]
  },
  {
   "cell_type": "code",
   "execution_count": 76,
   "metadata": {},
   "outputs": [],
   "source": [
    "# Set the window size and polynomial order for the Savitzky-Golay filter\n",
    "window_size = 9\n",
    "poly_order = 2\n",
    "\n",
    "# Apply Savitzky-Golay filter to smooth the Absorbance values\n",
    "df['Smoothed_Absorbance'] = df.groupby('SpecID')['Absorbance'].transform(lambda x: savgol_filter(x, window_size, poly_order, deriv=0))"
   ]
  },
  {
   "cell_type": "code",
   "execution_count": 77,
   "metadata": {},
   "outputs": [],
   "source": [
    "smooth_df = prepare_wavelength_df(df, 'Smoothed_Absorbance')"
   ]
  },
  {
   "cell_type": "code",
   "execution_count": 78,
   "metadata": {},
   "outputs": [
    {
     "name": "stdout",
     "output_type": "stream",
     "text": [
      "ExtraTreesClassifier Cross-Validation Accuracy: 0.8407 +/- 0.0200\n"
     ]
    }
   ],
   "source": [
    "evaluate_extra_trees(smooth_df)"
   ]
  },
  {
   "cell_type": "code",
   "execution_count": 79,
   "metadata": {},
   "outputs": [],
   "source": [
    "df['Scaled_Smooth'] = df.groupby('SpecID')['Smoothed_Absorbance'].transform(lambda x: normalise(x))"
   ]
  },
  {
   "cell_type": "code",
   "execution_count": 80,
   "metadata": {},
   "outputs": [],
   "source": [
    "scaled_smooth_df = prepare_wavelength_df(df, 'Scaled_Smooth')"
   ]
  },
  {
   "cell_type": "code",
   "execution_count": 81,
   "metadata": {},
   "outputs": [
    {
     "name": "stdout",
     "output_type": "stream",
     "text": [
      "ExtraTreesClassifier Cross-Validation Accuracy: 0.8470 +/- 0.0178\n"
     ]
    }
   ],
   "source": [
    "evaluate_extra_trees(scaled_smooth_df)"
   ]
  },
  {
   "cell_type": "code",
   "execution_count": 82,
   "metadata": {},
   "outputs": [],
   "source": [
    "# Set the window size and polynomial order for the Savitzky-Golay filter\n",
    "window_size = 101\n",
    "poly_order = 2\n",
    "\n",
    "# Apply Savitzky-Golay filter to smooth the Absorbance values\n",
    "df['Smoothed_Absorbance'] = df.groupby('SpecID')['Absorbance'].transform(lambda x: savgol_filter(x, window_size, poly_order, deriv=0))"
   ]
  },
  {
   "cell_type": "code",
   "execution_count": 83,
   "metadata": {},
   "outputs": [],
   "source": [
    "smooth_df = prepare_wavelength_df(df, 'Smoothed_Absorbance')"
   ]
  },
  {
   "cell_type": "code",
   "execution_count": 84,
   "metadata": {},
   "outputs": [
    {
     "name": "stdout",
     "output_type": "stream",
     "text": [
      "ExtraTreesClassifier Cross-Validation Accuracy: 0.8296 +/- 0.0158\n"
     ]
    }
   ],
   "source": [
    "evaluate_extra_trees(smooth_df)"
   ]
  },
  {
   "cell_type": "code",
   "execution_count": 85,
   "metadata": {},
   "outputs": [],
   "source": [
    "df['Scaled_Smooth'] = df.groupby('SpecID')['Smoothed_Absorbance'].transform(lambda x: normalise(x))"
   ]
  },
  {
   "cell_type": "code",
   "execution_count": 86,
   "metadata": {},
   "outputs": [],
   "source": [
    "scaled_smooth_df = prepare_wavelength_df(df, 'Scaled_Smooth')"
   ]
  },
  {
   "cell_type": "code",
   "execution_count": 87,
   "metadata": {},
   "outputs": [
    {
     "name": "stdout",
     "output_type": "stream",
     "text": [
      "ExtraTreesClassifier Cross-Validation Accuracy: 0.8617 +/- 0.0244\n"
     ]
    }
   ],
   "source": [
    "evaluate_extra_trees(scaled_smooth_df)"
   ]
  },
  {
   "cell_type": "markdown",
   "metadata": {},
   "source": [
    "Try this on the baseline corrected spectra."
   ]
  },
  {
   "cell_type": "code",
   "execution_count": 88,
   "metadata": {},
   "outputs": [],
   "source": [
    "# Set the window size and polynomial order for the Savitzky-Golay filter\n",
    "window_size = 9\n",
    "poly_order = 2\n",
    "\n",
    "# Apply Savitzky-Golay filter to smooth the Absorbance values\n",
    "df['Smoothed_Baseline'] = df.groupby('SpecID')['Baseline_Corrected_Absorbance'].transform(lambda x: savgol_filter(x, window_size, poly_order, deriv=0))"
   ]
  },
  {
   "cell_type": "code",
   "execution_count": 89,
   "metadata": {},
   "outputs": [],
   "source": [
    "smooth_baseline = prepare_wavelength_df(df, 'Smoothed_Baseline')"
   ]
  },
  {
   "cell_type": "code",
   "execution_count": 90,
   "metadata": {},
   "outputs": [
    {
     "name": "stdout",
     "output_type": "stream",
     "text": [
      "ExtraTreesClassifier Cross-Validation Accuracy: 0.9130 +/- 0.0210\n"
     ]
    }
   ],
   "source": [
    "evaluate_extra_trees(smooth_baseline)"
   ]
  },
  {
   "cell_type": "code",
   "execution_count": 91,
   "metadata": {},
   "outputs": [],
   "source": [
    "df['Scaled_Smooth_Baseline'] = df.groupby('SpecID')['Smoothed_Baseline'].transform(lambda x: normalise(x))"
   ]
  },
  {
   "cell_type": "code",
   "execution_count": 92,
   "metadata": {},
   "outputs": [],
   "source": [
    "scaled_smooth_baseline = prepare_wavelength_df(df, 'Scaled_Smooth_Baseline')"
   ]
  },
  {
   "cell_type": "code",
   "execution_count": 93,
   "metadata": {},
   "outputs": [
    {
     "name": "stdout",
     "output_type": "stream",
     "text": [
      "ExtraTreesClassifier Cross-Validation Accuracy: 0.8637 +/- 0.0249\n"
     ]
    }
   ],
   "source": [
    "evaluate_extra_trees(scaled_smooth_baseline)"
   ]
  },
  {
   "cell_type": "code",
   "execution_count": 94,
   "metadata": {},
   "outputs": [],
   "source": [
    "# Set the window size and polynomial order for the Savitzky-Golay filter\n",
    "window_size = 101\n",
    "poly_order = 2\n",
    "\n",
    "# Apply Savitzky-Golay filter to smooth the Absorbance values\n",
    "df['Smoothed_Baseline'] = df.groupby('SpecID')['Baseline_Corrected_Absorbance'].transform(lambda x: savgol_filter(x, window_size, poly_order, deriv=0))"
   ]
  },
  {
   "cell_type": "code",
   "execution_count": 95,
   "metadata": {},
   "outputs": [],
   "source": [
    "smooth_baseline = prepare_wavelength_df(df, 'Smoothed_Baseline')"
   ]
  },
  {
   "cell_type": "code",
   "execution_count": 96,
   "metadata": {},
   "outputs": [
    {
     "name": "stdout",
     "output_type": "stream",
     "text": [
      "ExtraTreesClassifier Cross-Validation Accuracy: 0.9238 +/- 0.0121\n"
     ]
    }
   ],
   "source": [
    "evaluate_extra_trees(smooth_baseline)"
   ]
  },
  {
   "cell_type": "code",
   "execution_count": 97,
   "metadata": {},
   "outputs": [],
   "source": [
    "df['Scaled_Smooth_Baseline'] = df.groupby('SpecID')['Smoothed_Baseline'].transform(lambda x: normalise(x))"
   ]
  },
  {
   "cell_type": "code",
   "execution_count": 98,
   "metadata": {},
   "outputs": [],
   "source": [
    "scaled_smooth_baseline = prepare_wavelength_df(df, 'Scaled_Smooth_Baseline')"
   ]
  },
  {
   "cell_type": "code",
   "execution_count": 99,
   "metadata": {},
   "outputs": [
    {
     "name": "stdout",
     "output_type": "stream",
     "text": [
      "ExtraTreesClassifier Cross-Validation Accuracy: 0.8818 +/- 0.0256\n"
     ]
    }
   ],
   "source": [
    "evaluate_extra_trees(scaled_smooth_baseline)"
   ]
  },
  {
   "cell_type": "markdown",
   "metadata": {},
   "source": [
    "This is worse, lets try vector normalisation, where the spectra are scaled by their euclidean norm."
   ]
  },
  {
   "cell_type": "code",
   "execution_count": 101,
   "metadata": {},
   "outputs": [],
   "source": [
    "def vector_normalise(absorbances):\n",
    "    l2_norm = np.sqrt(np.sum(absorbances**2))  # Calculate the euclidean norm\n",
    "    normalized_absorbances = absorbances / l2_norm\n",
    "    return normalized_absorbances\n",
    "\n",
    "df['Vector_Scaled_Absorbance'] = df.groupby('SpecID')['Absorbance'].transform(lambda x: vector_normalise(x))"
   ]
  },
  {
   "cell_type": "code",
   "execution_count": 102,
   "metadata": {},
   "outputs": [],
   "source": [
    "df['Scaled_Smooth_Baseline'] = df.groupby('SpecID')['Smoothed_Baseline'].transform(lambda x: vector_normalise(x))"
   ]
  },
  {
   "cell_type": "code",
   "execution_count": 103,
   "metadata": {},
   "outputs": [],
   "source": [
    "scaled_smooth_baseline = prepare_wavelength_df(df, 'Scaled_Smooth_Baseline')"
   ]
  },
  {
   "cell_type": "code",
   "execution_count": 104,
   "metadata": {},
   "outputs": [
    {
     "name": "stdout",
     "output_type": "stream",
     "text": [
      "ExtraTreesClassifier Cross-Validation Accuracy: 0.8864 +/- 0.0210\n"
     ]
    }
   ],
   "source": [
    "evaluate_extra_trees(scaled_smooth_baseline)"
   ]
  },
  {
   "cell_type": "markdown",
   "metadata": {},
   "source": [
    "----"
   ]
  },
  {
   "cell_type": "markdown",
   "metadata": {},
   "source": [
    "The negative impact of scaling the unsmoothed baseline is strange."
   ]
  },
  {
   "cell_type": "code",
   "execution_count": 105,
   "metadata": {},
   "outputs": [],
   "source": [
    "df['No_Below_Baseline'] = np.where(df['Baseline_Corrected_Absorbance'] < 0, 0, df['Baseline_Corrected_Absorbance'])"
   ]
  },
  {
   "cell_type": "code",
   "execution_count": 106,
   "metadata": {},
   "outputs": [],
   "source": [
    "no_negative = prepare_wavelength_df(df, 'No_Below_Baseline')"
   ]
  },
  {
   "cell_type": "code",
   "execution_count": 107,
   "metadata": {},
   "outputs": [
    {
     "name": "stdout",
     "output_type": "stream",
     "text": [
      "ExtraTreesClassifier Cross-Validation Accuracy: 0.8910 +/- 0.0159\n"
     ]
    }
   ],
   "source": [
    "evaluate_extra_trees(no_negative)"
   ]
  },
  {
   "cell_type": "markdown",
   "metadata": {},
   "source": [
    "Then with scaling."
   ]
  },
  {
   "cell_type": "code",
   "execution_count": 108,
   "metadata": {},
   "outputs": [],
   "source": [
    "df['Scaled_No_Below_Baseline'] = np.where(df['Scaled_Baseline_Corrected'] < 0, 0, df['Scaled_Baseline_Corrected'])"
   ]
  },
  {
   "cell_type": "code",
   "execution_count": 109,
   "metadata": {},
   "outputs": [],
   "source": [
    "scaled_no_negative = prepare_wavelength_df(df, 'Scaled_No_Below_Baseline')"
   ]
  },
  {
   "cell_type": "code",
   "execution_count": 110,
   "metadata": {},
   "outputs": [
    {
     "data": {
      "text/html": [
       "<div>\n",
       "<style scoped>\n",
       "    .dataframe tbody tr th:only-of-type {\n",
       "        vertical-align: middle;\n",
       "    }\n",
       "\n",
       "    .dataframe tbody tr th {\n",
       "        vertical-align: top;\n",
       "    }\n",
       "\n",
       "    .dataframe thead th {\n",
       "        text-align: right;\n",
       "    }\n",
       "</style>\n",
       "<table border=\"1\" class=\"dataframe\">\n",
       "  <thead>\n",
       "    <tr style=\"text-align: right;\">\n",
       "      <th></th>\n",
       "      <th>380.41003</th>\n",
       "      <th>381.09338</th>\n",
       "      <th>381.77676</th>\n",
       "      <th>382.46014</th>\n",
       "      <th>383.14349</th>\n",
       "      <th>383.82687</th>\n",
       "      <th>384.51025</th>\n",
       "      <th>385.19363</th>\n",
       "      <th>385.87698</th>\n",
       "      <th>386.56036</th>\n",
       "      <th>...</th>\n",
       "      <th>1794.3053</th>\n",
       "      <th>1794.9886</th>\n",
       "      <th>1795.672</th>\n",
       "      <th>1796.3553</th>\n",
       "      <th>1797.0387</th>\n",
       "      <th>1797.722</th>\n",
       "      <th>1798.4055</th>\n",
       "      <th>1799.0889</th>\n",
       "      <th>1799.7722</th>\n",
       "      <th>Status</th>\n",
       "    </tr>\n",
       "    <tr>\n",
       "      <th>SpecID</th>\n",
       "      <th></th>\n",
       "      <th></th>\n",
       "      <th></th>\n",
       "      <th></th>\n",
       "      <th></th>\n",
       "      <th></th>\n",
       "      <th></th>\n",
       "      <th></th>\n",
       "      <th></th>\n",
       "      <th></th>\n",
       "      <th></th>\n",
       "      <th></th>\n",
       "      <th></th>\n",
       "      <th></th>\n",
       "      <th></th>\n",
       "      <th></th>\n",
       "      <th></th>\n",
       "      <th></th>\n",
       "      <th></th>\n",
       "      <th></th>\n",
       "      <th></th>\n",
       "    </tr>\n",
       "  </thead>\n",
       "  <tbody>\n",
       "    <tr>\n",
       "      <th>201210-1-00</th>\n",
       "      <td>0.552822</td>\n",
       "      <td>0.530139</td>\n",
       "      <td>0.454848</td>\n",
       "      <td>0.429630</td>\n",
       "      <td>0.442890</td>\n",
       "      <td>0.457842</td>\n",
       "      <td>0.347299</td>\n",
       "      <td>0.322967</td>\n",
       "      <td>0.336133</td>\n",
       "      <td>0.405389</td>\n",
       "      <td>...</td>\n",
       "      <td>0.0</td>\n",
       "      <td>0.000000</td>\n",
       "      <td>0.0</td>\n",
       "      <td>0.004014</td>\n",
       "      <td>0.0</td>\n",
       "      <td>0.0</td>\n",
       "      <td>0.0</td>\n",
       "      <td>0.0</td>\n",
       "      <td>0.0</td>\n",
       "      <td>Normal</td>\n",
       "    </tr>\n",
       "    <tr>\n",
       "      <th>201210-1-01</th>\n",
       "      <td>0.358114</td>\n",
       "      <td>0.264769</td>\n",
       "      <td>0.257304</td>\n",
       "      <td>0.393370</td>\n",
       "      <td>0.366444</td>\n",
       "      <td>0.451576</td>\n",
       "      <td>0.329063</td>\n",
       "      <td>0.275295</td>\n",
       "      <td>0.154736</td>\n",
       "      <td>0.163593</td>\n",
       "      <td>...</td>\n",
       "      <td>0.0</td>\n",
       "      <td>0.016948</td>\n",
       "      <td>0.0</td>\n",
       "      <td>0.000000</td>\n",
       "      <td>0.0</td>\n",
       "      <td>0.0</td>\n",
       "      <td>0.0</td>\n",
       "      <td>0.0</td>\n",
       "      <td>0.0</td>\n",
       "      <td>Normal</td>\n",
       "    </tr>\n",
       "    <tr>\n",
       "      <th>201210-1-02</th>\n",
       "      <td>0.078562</td>\n",
       "      <td>0.082022</td>\n",
       "      <td>0.086252</td>\n",
       "      <td>0.088001</td>\n",
       "      <td>0.097421</td>\n",
       "      <td>0.082326</td>\n",
       "      <td>0.072653</td>\n",
       "      <td>0.085199</td>\n",
       "      <td>0.087646</td>\n",
       "      <td>0.082843</td>\n",
       "      <td>...</td>\n",
       "      <td>0.0</td>\n",
       "      <td>0.000000</td>\n",
       "      <td>0.0</td>\n",
       "      <td>0.000000</td>\n",
       "      <td>0.0</td>\n",
       "      <td>0.0</td>\n",
       "      <td>0.0</td>\n",
       "      <td>0.0</td>\n",
       "      <td>0.0</td>\n",
       "      <td>Normal</td>\n",
       "    </tr>\n",
       "    <tr>\n",
       "      <th>201210-1-03</th>\n",
       "      <td>0.289519</td>\n",
       "      <td>0.296258</td>\n",
       "      <td>0.288172</td>\n",
       "      <td>0.257320</td>\n",
       "      <td>0.264066</td>\n",
       "      <td>0.279821</td>\n",
       "      <td>0.230951</td>\n",
       "      <td>0.238678</td>\n",
       "      <td>0.234050</td>\n",
       "      <td>0.216661</td>\n",
       "      <td>...</td>\n",
       "      <td>0.0</td>\n",
       "      <td>0.000000</td>\n",
       "      <td>0.0</td>\n",
       "      <td>0.000000</td>\n",
       "      <td>0.0</td>\n",
       "      <td>0.0</td>\n",
       "      <td>0.0</td>\n",
       "      <td>0.0</td>\n",
       "      <td>0.0</td>\n",
       "      <td>Normal</td>\n",
       "    </tr>\n",
       "    <tr>\n",
       "      <th>201210-1-04</th>\n",
       "      <td>0.385483</td>\n",
       "      <td>0.390064</td>\n",
       "      <td>0.466261</td>\n",
       "      <td>0.429853</td>\n",
       "      <td>0.279479</td>\n",
       "      <td>0.400612</td>\n",
       "      <td>0.358573</td>\n",
       "      <td>0.401801</td>\n",
       "      <td>0.377403</td>\n",
       "      <td>0.265137</td>\n",
       "      <td>...</td>\n",
       "      <td>0.0</td>\n",
       "      <td>0.000000</td>\n",
       "      <td>0.0</td>\n",
       "      <td>0.000000</td>\n",
       "      <td>0.0</td>\n",
       "      <td>0.0</td>\n",
       "      <td>0.0</td>\n",
       "      <td>0.0</td>\n",
       "      <td>0.0</td>\n",
       "      <td>Normal</td>\n",
       "    </tr>\n",
       "  </tbody>\n",
       "</table>\n",
       "<p>5 rows × 2079 columns</p>\n",
       "</div>"
      ],
      "text/plain": [
       "             380.41003  381.09338  381.77676  382.46014  383.14349  383.82687  \\\n",
       "SpecID                                                                          \n",
       "201210-1-00   0.552822   0.530139   0.454848   0.429630   0.442890   0.457842   \n",
       "201210-1-01   0.358114   0.264769   0.257304   0.393370   0.366444   0.451576   \n",
       "201210-1-02   0.078562   0.082022   0.086252   0.088001   0.097421   0.082326   \n",
       "201210-1-03   0.289519   0.296258   0.288172   0.257320   0.264066   0.279821   \n",
       "201210-1-04   0.385483   0.390064   0.466261   0.429853   0.279479   0.400612   \n",
       "\n",
       "             384.51025  385.19363  385.87698  386.56036  ...  1794.3053  \\\n",
       "SpecID                                                   ...              \n",
       "201210-1-00   0.347299   0.322967   0.336133   0.405389  ...        0.0   \n",
       "201210-1-01   0.329063   0.275295   0.154736   0.163593  ...        0.0   \n",
       "201210-1-02   0.072653   0.085199   0.087646   0.082843  ...        0.0   \n",
       "201210-1-03   0.230951   0.238678   0.234050   0.216661  ...        0.0   \n",
       "201210-1-04   0.358573   0.401801   0.377403   0.265137  ...        0.0   \n",
       "\n",
       "             1794.9886  1795.672  1796.3553  1797.0387  1797.722  1798.4055  \\\n",
       "SpecID                                                                        \n",
       "201210-1-00   0.000000       0.0   0.004014        0.0       0.0        0.0   \n",
       "201210-1-01   0.016948       0.0   0.000000        0.0       0.0        0.0   \n",
       "201210-1-02   0.000000       0.0   0.000000        0.0       0.0        0.0   \n",
       "201210-1-03   0.000000       0.0   0.000000        0.0       0.0        0.0   \n",
       "201210-1-04   0.000000       0.0   0.000000        0.0       0.0        0.0   \n",
       "\n",
       "             1799.0889  1799.7722  Status  \n",
       "SpecID                                     \n",
       "201210-1-00        0.0        0.0  Normal  \n",
       "201210-1-01        0.0        0.0  Normal  \n",
       "201210-1-02        0.0        0.0  Normal  \n",
       "201210-1-03        0.0        0.0  Normal  \n",
       "201210-1-04        0.0        0.0  Normal  \n",
       "\n",
       "[5 rows x 2079 columns]"
      ]
     },
     "execution_count": 110,
     "metadata": {},
     "output_type": "execute_result"
    }
   ],
   "source": [
    "scaled_no_negative.head()"
   ]
  },
  {
   "cell_type": "code",
   "execution_count": 111,
   "metadata": {},
   "outputs": [
    {
     "name": "stdout",
     "output_type": "stream",
     "text": [
      "ExtraTreesClassifier Cross-Validation Accuracy: 0.8430 +/- 0.0211\n"
     ]
    }
   ],
   "source": [
    "evaluate_extra_trees(scaled_no_negative)"
   ]
  },
  {
   "cell_type": "markdown",
   "metadata": {},
   "source": [
    "Try Min-Max Scaling Instead"
   ]
  },
  {
   "cell_type": "code",
   "execution_count": 112,
   "metadata": {},
   "outputs": [],
   "source": [
    "def min_max_scale(absorbances):\n",
    "    min_value = np.min(absorbances)\n",
    "    max_value = np.max(absorbances)\n",
    "    return (absorbances - min_value) / (max_value - min_value)\n",
    "\n",
    "df['MinMax_Absorbance'] = df.groupby('SpecID')['Absorbance'].transform(lambda x: min_max_scale(x))"
   ]
  },
  {
   "cell_type": "code",
   "execution_count": 113,
   "metadata": {},
   "outputs": [],
   "source": [
    "min_max_raw_df = prepare_wavelength_df(df, 'MinMax_Absorbance')"
   ]
  },
  {
   "cell_type": "code",
   "execution_count": 114,
   "metadata": {},
   "outputs": [
    {
     "name": "stdout",
     "output_type": "stream",
     "text": [
      "ExtraTreesClassifier Cross-Validation Accuracy: 0.8519 +/- 0.0183\n"
     ]
    }
   ],
   "source": [
    "evaluate_extra_trees(min_max_raw_df)"
   ]
  },
  {
   "cell_type": "code",
   "execution_count": 115,
   "metadata": {},
   "outputs": [],
   "source": [
    "df['MinMax_Baseline'] = df.groupby('SpecID')['Baseline_Corrected_Absorbance'].transform(lambda x: min_max_scale(x))"
   ]
  },
  {
   "cell_type": "code",
   "execution_count": 116,
   "metadata": {},
   "outputs": [],
   "source": [
    "min_max_baseline_df = prepare_wavelength_df(df, 'MinMax_Baseline')"
   ]
  },
  {
   "cell_type": "code",
   "execution_count": 117,
   "metadata": {},
   "outputs": [
    {
     "data": {
      "text/html": [
       "<div>\n",
       "<style scoped>\n",
       "    .dataframe tbody tr th:only-of-type {\n",
       "        vertical-align: middle;\n",
       "    }\n",
       "\n",
       "    .dataframe tbody tr th {\n",
       "        vertical-align: top;\n",
       "    }\n",
       "\n",
       "    .dataframe thead th {\n",
       "        text-align: right;\n",
       "    }\n",
       "</style>\n",
       "<table border=\"1\" class=\"dataframe\">\n",
       "  <thead>\n",
       "    <tr style=\"text-align: right;\">\n",
       "      <th></th>\n",
       "      <th>380.41003</th>\n",
       "      <th>381.09338</th>\n",
       "      <th>381.77676</th>\n",
       "      <th>382.46014</th>\n",
       "      <th>383.14349</th>\n",
       "      <th>383.82687</th>\n",
       "      <th>384.51025</th>\n",
       "      <th>385.19363</th>\n",
       "      <th>385.87698</th>\n",
       "      <th>386.56036</th>\n",
       "      <th>...</th>\n",
       "      <th>1794.3053</th>\n",
       "      <th>1794.9886</th>\n",
       "      <th>1795.672</th>\n",
       "      <th>1796.3553</th>\n",
       "      <th>1797.0387</th>\n",
       "      <th>1797.722</th>\n",
       "      <th>1798.4055</th>\n",
       "      <th>1799.0889</th>\n",
       "      <th>1799.7722</th>\n",
       "      <th>Status</th>\n",
       "    </tr>\n",
       "    <tr>\n",
       "      <th>SpecID</th>\n",
       "      <th></th>\n",
       "      <th></th>\n",
       "      <th></th>\n",
       "      <th></th>\n",
       "      <th></th>\n",
       "      <th></th>\n",
       "      <th></th>\n",
       "      <th></th>\n",
       "      <th></th>\n",
       "      <th></th>\n",
       "      <th></th>\n",
       "      <th></th>\n",
       "      <th></th>\n",
       "      <th></th>\n",
       "      <th></th>\n",
       "      <th></th>\n",
       "      <th></th>\n",
       "      <th></th>\n",
       "      <th></th>\n",
       "      <th></th>\n",
       "      <th></th>\n",
       "    </tr>\n",
       "  </thead>\n",
       "  <tbody>\n",
       "    <tr>\n",
       "      <th>201210-1-00</th>\n",
       "      <td>0.677009</td>\n",
       "      <td>0.660625</td>\n",
       "      <td>0.606243</td>\n",
       "      <td>0.588028</td>\n",
       "      <td>0.597606</td>\n",
       "      <td>0.608406</td>\n",
       "      <td>0.528561</td>\n",
       "      <td>0.510987</td>\n",
       "      <td>0.520497</td>\n",
       "      <td>0.570520</td>\n",
       "      <td>...</td>\n",
       "      <td>0.239111</td>\n",
       "      <td>0.216887</td>\n",
       "      <td>0.232862</td>\n",
       "      <td>0.280611</td>\n",
       "      <td>0.220412</td>\n",
       "      <td>0.225057</td>\n",
       "      <td>0.160765</td>\n",
       "      <td>0.165380</td>\n",
       "      <td>0.145711</td>\n",
       "      <td>Normal</td>\n",
       "    </tr>\n",
       "    <tr>\n",
       "      <th>201210-1-01</th>\n",
       "      <td>0.506361</td>\n",
       "      <td>0.434574</td>\n",
       "      <td>0.428833</td>\n",
       "      <td>0.533474</td>\n",
       "      <td>0.512767</td>\n",
       "      <td>0.578237</td>\n",
       "      <td>0.484019</td>\n",
       "      <td>0.442669</td>\n",
       "      <td>0.349954</td>\n",
       "      <td>0.356765</td>\n",
       "      <td>...</td>\n",
       "      <td>0.096002</td>\n",
       "      <td>0.243988</td>\n",
       "      <td>0.181397</td>\n",
       "      <td>0.172671</td>\n",
       "      <td>0.152122</td>\n",
       "      <td>0.150401</td>\n",
       "      <td>0.155343</td>\n",
       "      <td>0.181555</td>\n",
       "      <td>0.213858</td>\n",
       "      <td>Normal</td>\n",
       "    </tr>\n",
       "    <tr>\n",
       "      <th>201210-1-02</th>\n",
       "      <td>0.142548</td>\n",
       "      <td>0.145768</td>\n",
       "      <td>0.149705</td>\n",
       "      <td>0.151332</td>\n",
       "      <td>0.160098</td>\n",
       "      <td>0.146050</td>\n",
       "      <td>0.137049</td>\n",
       "      <td>0.148724</td>\n",
       "      <td>0.151002</td>\n",
       "      <td>0.146532</td>\n",
       "      <td>...</td>\n",
       "      <td>0.054600</td>\n",
       "      <td>0.042865</td>\n",
       "      <td>0.050430</td>\n",
       "      <td>0.054793</td>\n",
       "      <td>0.045185</td>\n",
       "      <td>0.043534</td>\n",
       "      <td>0.054547</td>\n",
       "      <td>0.042717</td>\n",
       "      <td>0.041144</td>\n",
       "      <td>Normal</td>\n",
       "    </tr>\n",
       "    <tr>\n",
       "      <th>201210-1-03</th>\n",
       "      <td>0.397351</td>\n",
       "      <td>0.403067</td>\n",
       "      <td>0.396209</td>\n",
       "      <td>0.370039</td>\n",
       "      <td>0.375761</td>\n",
       "      <td>0.389125</td>\n",
       "      <td>0.347672</td>\n",
       "      <td>0.354227</td>\n",
       "      <td>0.350301</td>\n",
       "      <td>0.335551</td>\n",
       "      <td>...</td>\n",
       "      <td>0.099452</td>\n",
       "      <td>0.086134</td>\n",
       "      <td>0.110769</td>\n",
       "      <td>0.095021</td>\n",
       "      <td>0.102264</td>\n",
       "      <td>0.100122</td>\n",
       "      <td>0.109368</td>\n",
       "      <td>0.126591</td>\n",
       "      <td>0.097617</td>\n",
       "      <td>Normal</td>\n",
       "    </tr>\n",
       "    <tr>\n",
       "      <th>201210-1-04</th>\n",
       "      <td>0.543532</td>\n",
       "      <td>0.546935</td>\n",
       "      <td>0.603535</td>\n",
       "      <td>0.576490</td>\n",
       "      <td>0.464792</td>\n",
       "      <td>0.554770</td>\n",
       "      <td>0.523543</td>\n",
       "      <td>0.555654</td>\n",
       "      <td>0.537530</td>\n",
       "      <td>0.454138</td>\n",
       "      <td>...</td>\n",
       "      <td>0.135113</td>\n",
       "      <td>0.155547</td>\n",
       "      <td>0.021282</td>\n",
       "      <td>0.047239</td>\n",
       "      <td>0.050651</td>\n",
       "      <td>0.063960</td>\n",
       "      <td>0.106495</td>\n",
       "      <td>0.067540</td>\n",
       "      <td>0.158358</td>\n",
       "      <td>Normal</td>\n",
       "    </tr>\n",
       "  </tbody>\n",
       "</table>\n",
       "<p>5 rows × 2079 columns</p>\n",
       "</div>"
      ],
      "text/plain": [
       "             380.41003  381.09338  381.77676  382.46014  383.14349  383.82687  \\\n",
       "SpecID                                                                          \n",
       "201210-1-00   0.677009   0.660625   0.606243   0.588028   0.597606   0.608406   \n",
       "201210-1-01   0.506361   0.434574   0.428833   0.533474   0.512767   0.578237   \n",
       "201210-1-02   0.142548   0.145768   0.149705   0.151332   0.160098   0.146050   \n",
       "201210-1-03   0.397351   0.403067   0.396209   0.370039   0.375761   0.389125   \n",
       "201210-1-04   0.543532   0.546935   0.603535   0.576490   0.464792   0.554770   \n",
       "\n",
       "             384.51025  385.19363  385.87698  386.56036  ...  1794.3053  \\\n",
       "SpecID                                                   ...              \n",
       "201210-1-00   0.528561   0.510987   0.520497   0.570520  ...   0.239111   \n",
       "201210-1-01   0.484019   0.442669   0.349954   0.356765  ...   0.096002   \n",
       "201210-1-02   0.137049   0.148724   0.151002   0.146532  ...   0.054600   \n",
       "201210-1-03   0.347672   0.354227   0.350301   0.335551  ...   0.099452   \n",
       "201210-1-04   0.523543   0.555654   0.537530   0.454138  ...   0.135113   \n",
       "\n",
       "             1794.9886  1795.672  1796.3553  1797.0387  1797.722  1798.4055  \\\n",
       "SpecID                                                                        \n",
       "201210-1-00   0.216887  0.232862   0.280611   0.220412  0.225057   0.160765   \n",
       "201210-1-01   0.243988  0.181397   0.172671   0.152122  0.150401   0.155343   \n",
       "201210-1-02   0.042865  0.050430   0.054793   0.045185  0.043534   0.054547   \n",
       "201210-1-03   0.086134  0.110769   0.095021   0.102264  0.100122   0.109368   \n",
       "201210-1-04   0.155547  0.021282   0.047239   0.050651  0.063960   0.106495   \n",
       "\n",
       "             1799.0889  1799.7722  Status  \n",
       "SpecID                                     \n",
       "201210-1-00   0.165380   0.145711  Normal  \n",
       "201210-1-01   0.181555   0.213858  Normal  \n",
       "201210-1-02   0.042717   0.041144  Normal  \n",
       "201210-1-03   0.126591   0.097617  Normal  \n",
       "201210-1-04   0.067540   0.158358  Normal  \n",
       "\n",
       "[5 rows x 2079 columns]"
      ]
     },
     "execution_count": 117,
     "metadata": {},
     "output_type": "execute_result"
    }
   ],
   "source": [
    "min_max_baseline_df.head()"
   ]
  },
  {
   "cell_type": "code",
   "execution_count": 118,
   "metadata": {},
   "outputs": [
    {
     "name": "stdout",
     "output_type": "stream",
     "text": [
      "ExtraTreesClassifier Cross-Validation Accuracy: 0.8276 +/- 0.0305\n"
     ]
    }
   ],
   "source": [
    "evaluate_extra_trees(min_max_baseline_df)"
   ]
  },
  {
   "cell_type": "code",
   "execution_count": 119,
   "metadata": {},
   "outputs": [],
   "source": [
    "vector_scale_raw = prepare_wavelength_df(df, \"Vector_Scaled_Absorbance\")"
   ]
  },
  {
   "cell_type": "code",
   "execution_count": 120,
   "metadata": {},
   "outputs": [
    {
     "name": "stdout",
     "output_type": "stream",
     "text": [
      "ExtraTreesClassifier Cross-Validation Accuracy: 0.9005 +/- 0.0172\n"
     ]
    }
   ],
   "source": [
    "evaluate_extra_trees(vector_scale_raw)"
   ]
  },
  {
   "cell_type": "markdown",
   "metadata": {},
   "source": [
    "Try on the baseline corrected spectra."
   ]
  },
  {
   "cell_type": "code",
   "execution_count": 121,
   "metadata": {},
   "outputs": [],
   "source": [
    "df['Vector_Scaled_Baseline'] = df.groupby('SpecID')['Baseline_Corrected_Absorbance'].transform(lambda x: vector_normalise(x))"
   ]
  },
  {
   "cell_type": "code",
   "execution_count": 122,
   "metadata": {},
   "outputs": [],
   "source": [
    "vector_scale_baseline = prepare_wavelength_df(df, 'Vector_Scaled_Baseline')"
   ]
  },
  {
   "cell_type": "code",
   "execution_count": 123,
   "metadata": {},
   "outputs": [
    {
     "name": "stdout",
     "output_type": "stream",
     "text": [
      "ExtraTreesClassifier Cross-Validation Accuracy: 0.8483 +/- 0.0230\n"
     ]
    }
   ],
   "source": [
    "evaluate_extra_trees(vector_scale_baseline)"
   ]
  }
 ],
 "metadata": {
  "kernelspec": {
   "display_name": "Python 3",
   "language": "python",
   "name": "python3"
  },
  "language_info": {
   "codemirror_mode": {
    "name": "ipython",
    "version": 3
   },
   "file_extension": ".py",
   "mimetype": "text/x-python",
   "name": "python",
   "nbconvert_exporter": "python",
   "pygments_lexer": "ipython3",
   "version": "3.10.12"
  }
 },
 "nbformat": 4,
 "nbformat_minor": 2
}
