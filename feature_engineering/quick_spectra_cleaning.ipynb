{
 "cells": [
  {
   "cell_type": "markdown",
   "metadata": {},
   "source": [
    "#### **This notebook contains the functions used to clean the spectra.**"
   ]
  },
  {
   "cell_type": "markdown",
   "metadata": {},
   "source": [
    "Import Libraries"
   ]
  },
  {
   "cell_type": "code",
   "execution_count": 24,
   "metadata": {},
   "outputs": [],
   "source": [
    "import pandas as pd\n",
    "import numpy as np\n",
    "from scipy.signal import savgol_filter\n",
    "from sklearn.ensemble import ExtraTreesClassifier\n",
    "from sklearn.model_selection import cross_val_score\n",
    "from sklearn.model_selection import StratifiedKFold, KFold\n",
    "import seaborn as sns"
   ]
  },
  {
   "cell_type": "markdown",
   "metadata": {},
   "source": [
    "Read the spectral data"
   ]
  },
  {
   "cell_type": "code",
   "execution_count": 25,
   "metadata": {},
   "outputs": [],
   "source": [
    "df = pd.read_csv(\"../../data/exosomes.raw_spectrum_1.csv\")\n",
    "#df = pd.read_csv(\"../../data/exosomes.raw_spectrum_400-1800.csv\")"
   ]
  },
  {
   "cell_type": "code",
   "execution_count": 26,
   "metadata": {},
   "outputs": [],
   "source": [
    "df = df[(df['WaveNumber'] >= 400) & (df['WaveNumber'] <= 1800)]"
   ]
  },
  {
   "cell_type": "code",
   "execution_count": 27,
   "metadata": {},
   "outputs": [
    {
     "data": {
      "text/html": [
       "<div>\n",
       "<style scoped>\n",
       "    .dataframe tbody tr th:only-of-type {\n",
       "        vertical-align: middle;\n",
       "    }\n",
       "\n",
       "    .dataframe tbody tr th {\n",
       "        vertical-align: top;\n",
       "    }\n",
       "\n",
       "    .dataframe thead th {\n",
       "        text-align: right;\n",
       "    }\n",
       "</style>\n",
       "<table border=\"1\" class=\"dataframe\">\n",
       "  <thead>\n",
       "    <tr style=\"text-align: right;\">\n",
       "      <th></th>\n",
       "      <th>SpecID</th>\n",
       "      <th>Seq</th>\n",
       "      <th>WaveNumber</th>\n",
       "      <th>Absorbance</th>\n",
       "      <th>SurID</th>\n",
       "      <th>Status</th>\n",
       "    </tr>\n",
       "  </thead>\n",
       "  <tbody>\n",
       "    <tr>\n",
       "      <th>293</th>\n",
       "      <td>201210-1-00</td>\n",
       "      <td>293</td>\n",
       "      <td>400.22778</td>\n",
       "      <td>1765.6628</td>\n",
       "      <td>201210-1</td>\n",
       "      <td>Normal</td>\n",
       "    </tr>\n",
       "    <tr>\n",
       "      <th>294</th>\n",
       "      <td>201210-1-00</td>\n",
       "      <td>294</td>\n",
       "      <td>400.91116</td>\n",
       "      <td>1774.7809</td>\n",
       "      <td>201210-1</td>\n",
       "      <td>Normal</td>\n",
       "    </tr>\n",
       "    <tr>\n",
       "      <th>295</th>\n",
       "      <td>201210-1-00</td>\n",
       "      <td>295</td>\n",
       "      <td>401.59454</td>\n",
       "      <td>1769.0302</td>\n",
       "      <td>201210-1</td>\n",
       "      <td>Normal</td>\n",
       "    </tr>\n",
       "    <tr>\n",
       "      <th>296</th>\n",
       "      <td>201210-1-00</td>\n",
       "      <td>296</td>\n",
       "      <td>402.27789</td>\n",
       "      <td>1756.4220</td>\n",
       "      <td>201210-1</td>\n",
       "      <td>Normal</td>\n",
       "    </tr>\n",
       "    <tr>\n",
       "      <th>297</th>\n",
       "      <td>201210-1-00</td>\n",
       "      <td>297</td>\n",
       "      <td>402.96127</td>\n",
       "      <td>1758.8690</td>\n",
       "      <td>201210-1</td>\n",
       "      <td>Normal</td>\n",
       "    </tr>\n",
       "    <tr>\n",
       "      <th>...</th>\n",
       "      <td>...</td>\n",
       "      <td>...</td>\n",
       "      <td>...</td>\n",
       "      <td>...</td>\n",
       "      <td>...</td>\n",
       "      <td>...</td>\n",
       "    </tr>\n",
       "    <tr>\n",
       "      <th>8023277</th>\n",
       "      <td>210526-3-09</td>\n",
       "      <td>2337</td>\n",
       "      <td>1797.03870</td>\n",
       "      <td>1617.3926</td>\n",
       "      <td>210526-3</td>\n",
       "      <td>Hyperglycemia</td>\n",
       "    </tr>\n",
       "    <tr>\n",
       "      <th>8023278</th>\n",
       "      <td>210526-3-09</td>\n",
       "      <td>2338</td>\n",
       "      <td>1797.72200</td>\n",
       "      <td>1633.0911</td>\n",
       "      <td>210526-3</td>\n",
       "      <td>Hyperglycemia</td>\n",
       "    </tr>\n",
       "    <tr>\n",
       "      <th>8023279</th>\n",
       "      <td>210526-3-09</td>\n",
       "      <td>2339</td>\n",
       "      <td>1798.40550</td>\n",
       "      <td>1633.3076</td>\n",
       "      <td>210526-3</td>\n",
       "      <td>Hyperglycemia</td>\n",
       "    </tr>\n",
       "    <tr>\n",
       "      <th>8023280</th>\n",
       "      <td>210526-3-09</td>\n",
       "      <td>2340</td>\n",
       "      <td>1799.08890</td>\n",
       "      <td>1641.8665</td>\n",
       "      <td>210526-3</td>\n",
       "      <td>Hyperglycemia</td>\n",
       "    </tr>\n",
       "    <tr>\n",
       "      <th>8023281</th>\n",
       "      <td>210526-3-09</td>\n",
       "      <td>2341</td>\n",
       "      <td>1799.77220</td>\n",
       "      <td>1618.2405</td>\n",
       "      <td>210526-3</td>\n",
       "      <td>Hyperglycemia</td>\n",
       "    </tr>\n",
       "  </tbody>\n",
       "</table>\n",
       "<p>6239205 rows × 6 columns</p>\n",
       "</div>"
      ],
      "text/plain": [
       "              SpecID   Seq  WaveNumber  Absorbance     SurID         Status\n",
       "293      201210-1-00   293   400.22778   1765.6628  201210-1         Normal\n",
       "294      201210-1-00   294   400.91116   1774.7809  201210-1         Normal\n",
       "295      201210-1-00   295   401.59454   1769.0302  201210-1         Normal\n",
       "296      201210-1-00   296   402.27789   1756.4220  201210-1         Normal\n",
       "297      201210-1-00   297   402.96127   1758.8690  201210-1         Normal\n",
       "...              ...   ...         ...         ...       ...            ...\n",
       "8023277  210526-3-09  2337  1797.03870   1617.3926  210526-3  Hyperglycemia\n",
       "8023278  210526-3-09  2338  1797.72200   1633.0911  210526-3  Hyperglycemia\n",
       "8023279  210526-3-09  2339  1798.40550   1633.3076  210526-3  Hyperglycemia\n",
       "8023280  210526-3-09  2340  1799.08890   1641.8665  210526-3  Hyperglycemia\n",
       "8023281  210526-3-09  2341  1799.77220   1618.2405  210526-3  Hyperglycemia\n",
       "\n",
       "[6239205 rows x 6 columns]"
      ]
     },
     "execution_count": 27,
     "metadata": {},
     "output_type": "execute_result"
    }
   ],
   "source": [
    "df"
   ]
  },
  {
   "cell_type": "markdown",
   "metadata": {},
   "source": [
    "> Pivot the dataframe using WaveNumbers as features."
   ]
  },
  {
   "cell_type": "markdown",
   "metadata": {},
   "source": [
    ">Scale the absorbances to the highest peak in each spectrum."
   ]
  },
  {
   "cell_type": "code",
   "execution_count": 29,
   "metadata": {},
   "outputs": [],
   "source": [
    "def normalise(absorbances):\n",
    "    max_value = np.max(absorbances)\n",
    "    normalized_absorbances = absorbances / max_value\n",
    "    return normalized_absorbances"
   ]
  },
  {
   "cell_type": "markdown",
   "metadata": {},
   "source": [
    ">Scale the absorbances to the norm of the absorbances."
   ]
  },
  {
   "cell_type": "code",
   "execution_count": 30,
   "metadata": {},
   "outputs": [],
   "source": [
    "def vector_normalise(absorbances):\n",
    "    l2_norm = np.sqrt(np.sum(absorbances**2))  # Calculate the euclidean norm\n",
    "    normalized_absorbances = absorbances / l2_norm\n",
    "    return normalized_absorbances"
   ]
  },
  {
   "cell_type": "markdown",
   "metadata": {},
   "source": [
    ">Scale the absorbances to the mean and std of absorbances."
   ]
  },
  {
   "cell_type": "code",
   "execution_count": null,
   "metadata": {},
   "outputs": [],
   "source": [
    "def svn_normalise(absorbances):\n",
    "    mean = absorbances.mean()\n",
    "    std = absorbances.std()\n",
    "    return (absorbances - mean) / std"
   ]
  },
  {
   "cell_type": "code",
   "execution_count": 31,
   "metadata": {},
   "outputs": [],
   "source": [
    "def modified_z_score(ys):\n",
    "    ysb = np.diff(ys) # Differentiated intensity values\n",
    "    median_y = np.median(ysb) # Median of the intensity values\n",
    "    median_absolute_deviation_y = np.median([np.abs(y - median_y) for y in ysb]) # median_absolute_deviation of the differentiated intensity values\n",
    "    modified_z_scores = [0.6745 * (y - median_y) / median_absolute_deviation_y for y in ysb] # median_absolute_deviationmodified z scores\n",
    "    return modified_z_scores\n",
    "    \n",
    "# The next function calculates the average values around the point to be replaced.\n",
    "def fixer(y,ma):\n",
    "    threshold = 7 # binarisation threshold\n",
    "    spikes = abs(np.array(modified_z_score(y))) > threshold\n",
    "    y_out = y.copy()\n",
    "    for i in np.arange(len(spikes)):\n",
    "        if spikes[i] != 0:\n",
    "            w = np.arange(i-ma,i+1+ma)\n",
    "            we = w[spikes[w] == 0]\n",
    "            if len(we) > 0:  # Check if it has at least one valid value\n",
    "                y_out[i] = np.mean(y[we])\n",
    "    return y_out\n",
    "\n",
    "def despike_group(absorbances):\n",
    "    absorbance_data = absorbances.to_numpy()\n",
    "    despiked_absorbance = fixer(absorbance_data, ma=20)\n",
    "    return(despiked_absorbance)\n",
    "\n",
    "#df['Despiked_Absorbance'] = df.groupby('SpecID')['Absorbance'].transform(lambda x: despike_group(x))"
   ]
  },
  {
   "cell_type": "markdown",
   "metadata": {},
   "source": [
    ">Calculate the baseline using Asymmetric Least Squares, then subtract it from the spectrum."
   ]
  },
  {
   "cell_type": "code",
   "execution_count": 32,
   "metadata": {},
   "outputs": [],
   "source": [
    "from pybaselines.whittaker import asls\n",
    "\n",
    "def asls_baseline_correction(x, lam, p):\n",
    "        corrected, _ = asls(x, lam=lam, p=p)\n",
    "        return corrected"
   ]
  },
  {
   "cell_type": "markdown",
   "metadata": {},
   "source": [
    "#### **Select the chosen cleaning parameters then run the functions**"
   ]
  },
  {
   "cell_type": "markdown",
   "metadata": {},
   "source": [
    "Choose the Parameters"
   ]
  },
  {
   "cell_type": "code",
   "execution_count": 33,
   "metadata": {},
   "outputs": [],
   "source": [
    "# # Best Full Spectrum Parameters\n",
    "\n",
    "# lam = 10 ** 7\n",
    "# p = 0.05\n",
    "# window_size = 51\n",
    "# poly_order = 2\n",
    "\n",
    "# Best 400-1800 Parameters\n",
    "\n",
    "lam = 10 ** 8\n",
    "p = 0.01\n",
    "window_size = 51\n",
    "poly_order = 3"
   ]
  },
  {
   "cell_type": "markdown",
   "metadata": {},
   "source": [
    "#### **Here is an example on 1 spectrum**"
   ]
  },
  {
   "cell_type": "code",
   "execution_count": 34,
   "metadata": {},
   "outputs": [
    {
     "name": "stderr",
     "output_type": "stream",
     "text": [
      "/tmp/ipykernel_15180/1811316291.py:2: SettingWithCopyWarning: \n",
      "A value is trying to be set on a copy of a slice from a DataFrame.\n",
      "Try using .loc[row_indexer,col_indexer] = value instead\n",
      "\n",
      "See the caveats in the documentation: https://pandas.pydata.org/pandas-docs/stable/user_guide/indexing.html#returning-a-view-versus-a-copy\n",
      "  sample['Baseline'] = sample.groupby('SpecID')['Absorbance'].transform(lambda x: asls_baseline_correction(x, lam=lam, p=p))\n"
     ]
    },
    {
     "data": {
      "text/plain": [
       "<Axes: xlabel='WaveNumber', ylabel='Absorbance'>"
      ]
     },
     "execution_count": 34,
     "metadata": {},
     "output_type": "execute_result"
    },
    {
     "data": {
      "image/png": "[encoded data removed]",
      "text/plain": [
       "<Figure size 640x480 with 1 Axes>"
      ]
     },
     "metadata": {},
     "output_type": "display_data"
    }
   ],
   "source": [
    "sample = df[df['SpecID'] == \"201210-1-07\"]\n",
    "sample['Baseline'] = sample.groupby('SpecID')['Absorbance'].transform(lambda x: asls_baseline_correction(x, lam=lam, p=p))\n",
    "sns.lineplot(x=\"WaveNumber\", y=\"Absorbance\", data=sample)\n",
    "sns.lineplot(x=\"WaveNumber\", y=\"Baseline\", data=sample)"
   ]
  },
  {
   "cell_type": "markdown",
   "metadata": {},
   "source": [
    "Subtract the baseline."
   ]
  },
  {
   "cell_type": "code",
   "execution_count": 35,
   "metadata": {},
   "outputs": [
    {
     "name": "stderr",
     "output_type": "stream",
     "text": [
      "/tmp/ipykernel_15180/1303904700.py:1: SettingWithCopyWarning: \n",
      "A value is trying to be set on a copy of a slice from a DataFrame.\n",
      "Try using .loc[row_indexer,col_indexer] = value instead\n",
      "\n",
      "See the caveats in the documentation: https://pandas.pydata.org/pandas-docs/stable/user_guide/indexing.html#returning-a-view-versus-a-copy\n",
      "  sample['Baseline_Corrected_Absorbance'] = sample['Absorbance'] - sample['Baseline']\n"
     ]
    },
    {
     "data": {
      "text/plain": [
       "<Axes: xlabel='WaveNumber', ylabel='Baseline_Corrected_Absorbance'>"
      ]
     },
     "execution_count": 35,
     "metadata": {},
     "output_type": "execute_result"
    },
    {
     "data": {
      "image/png": "[encoded data removed]",
      "text/plain": [
       "<Figure size 640x480 with 1 Axes>"
      ]
     },
     "metadata": {},
     "output_type": "display_data"
    }
   ],
   "source": [
    "sample['Baseline_Corrected_Absorbance'] = sample['Absorbance'] - sample['Baseline']\n",
    "sns.lineplot(x=\"WaveNumber\", y=\"Baseline_Corrected_Absorbance\", data=sample)"
   ]
  },
  {
   "cell_type": "markdown",
   "metadata": {},
   "source": [
    "Smooth the Baseline_Corrected_Spectrum"
   ]
  },
  {
   "cell_type": "code",
   "execution_count": 36,
   "metadata": {},
   "outputs": [
    {
     "name": "stderr",
     "output_type": "stream",
     "text": [
      "/tmp/ipykernel_15180/1425479424.py:2: SettingWithCopyWarning: \n",
      "A value is trying to be set on a copy of a slice from a DataFrame.\n",
      "Try using .loc[row_indexer,col_indexer] = value instead\n",
      "\n",
      "See the caveats in the documentation: https://pandas.pydata.org/pandas-docs/stable/user_guide/indexing.html#returning-a-view-versus-a-copy\n",
      "  sample['Smoothed_Absorbance'] = sample.groupby('SpecID')['Baseline_Corrected_Absorbance'].transform(lambda x: savgol_filter(x, window_size, poly_order, deriv=0))\n"
     ]
    },
    {
     "data": {
      "text/plain": [
       "<Axes: xlabel='WaveNumber', ylabel='Smoothed_Absorbance'>"
      ]
     },
     "execution_count": 36,
     "metadata": {},
     "output_type": "execute_result"
    },
    {
     "data": {
      "image/png": "[encoded data removed]",
      "text/plain": [
       "<Figure size 640x480 with 1 Axes>"
      ]
     },
     "metadata": {},
     "output_type": "display_data"
    }
   ],
   "source": [
    "# Apply Savitzky-Golay filter to smooth the Absorbance values\n",
    "sample['Smoothed_Absorbance'] = sample.groupby('SpecID')['Baseline_Corrected_Absorbance'].transform(lambda x: savgol_filter(x, window_size, poly_order, deriv=0))\n",
    "sns.lineplot(x=\"WaveNumber\", y=\"Smoothed_Absorbance\", data=sample)"
   ]
  },
  {
   "cell_type": "code",
   "execution_count": 37,
   "metadata": {},
   "outputs": [],
   "source": [
    "# # Despike\n",
    "\n",
    "df['Absorbance'] = df.groupby('SpecID')['Absorbance'].transform(lambda x: despike_group(x))"
   ]
  },
  {
   "cell_type": "code",
   "execution_count": 38,
   "metadata": {},
   "outputs": [],
   "source": [
    "df['Baseline'] = df.groupby('SpecID')['Absorbance'].transform(lambda x: asls_baseline_correction(x, lam=lam, p=p))"
   ]
  },
  {
   "cell_type": "code",
   "execution_count": 39,
   "metadata": {},
   "outputs": [],
   "source": [
    "df['Baseline_Corrected_Absorbance'] = df['Absorbance'] - df['Baseline']"
   ]
  },
  {
   "cell_type": "code",
   "execution_count": 40,
   "metadata": {},
   "outputs": [],
   "source": [
    "df['Smooth_Baseline_Corrected'] = df.groupby('SpecID')['Baseline_Corrected_Absorbance'].transform(lambda x: savgol_filter(x, window_size, poly_order, deriv=0))"
   ]
  },
  {
   "cell_type": "code",
   "execution_count": 41,
   "metadata": {},
   "outputs": [],
   "source": [
    "# Optional Scaling\n",
    "# df['Smooth_Baseline_Corrected'] = df.groupby('SpecID')['Smooth_Baseline_Corrected'].transform(lambda x: normalise(x))\n",
    "# df['Smooth_Baseline_Corrected'] = df.groupby('SpecID')['Smooth_Baseline_Corrected'].transform(lambda x: vector_normalise(x))\n",
    "# df['Smooth_Baseline_Corrected'] = df.groupby('SpecID')['Smooth_Baseline_Corrected'].transform(lambda x: svn_normalise(x))"
   ]
  },
  {
   "cell_type": "code",
   "execution_count": 43,
   "metadata": {},
   "outputs": [
    {
     "data": {
      "text/html": [
       "<div>\n",
       "<style scoped>\n",
       "    .dataframe tbody tr th:only-of-type {\n",
       "        vertical-align: middle;\n",
       "    }\n",
       "\n",
       "    .dataframe tbody tr th {\n",
       "        vertical-align: top;\n",
       "    }\n",
       "\n",
       "    .dataframe thead th {\n",
       "        text-align: right;\n",
       "    }\n",
       "</style>\n",
       "<table border=\"1\" class=\"dataframe\">\n",
       "  <thead>\n",
       "    <tr style=\"text-align: right;\">\n",
       "      <th></th>\n",
       "      <th>SpecID</th>\n",
       "      <th>Seq</th>\n",
       "      <th>WaveNumber</th>\n",
       "      <th>Absorbance</th>\n",
       "      <th>SurID</th>\n",
       "      <th>Status</th>\n",
       "      <th>Baseline</th>\n",
       "      <th>Baseline_Corrected_Absorbance</th>\n",
       "      <th>Smooth_Baseline_Corrected</th>\n",
       "    </tr>\n",
       "  </thead>\n",
       "  <tbody>\n",
       "    <tr>\n",
       "      <th>293</th>\n",
       "      <td>201210-1-00</td>\n",
       "      <td>293</td>\n",
       "      <td>400.22778</td>\n",
       "      <td>1765.6628</td>\n",
       "      <td>201210-1</td>\n",
       "      <td>Normal</td>\n",
       "      <td>1722.845684</td>\n",
       "      <td>42.817116</td>\n",
       "      <td>41.863303</td>\n",
       "    </tr>\n",
       "    <tr>\n",
       "      <th>294</th>\n",
       "      <td>201210-1-00</td>\n",
       "      <td>294</td>\n",
       "      <td>400.91116</td>\n",
       "      <td>1774.7809</td>\n",
       "      <td>201210-1</td>\n",
       "      <td>Normal</td>\n",
       "      <td>1722.675011</td>\n",
       "      <td>52.105889</td>\n",
       "      <td>41.803843</td>\n",
       "    </tr>\n",
       "    <tr>\n",
       "      <th>295</th>\n",
       "      <td>201210-1-00</td>\n",
       "      <td>295</td>\n",
       "      <td>401.59454</td>\n",
       "      <td>1769.0302</td>\n",
       "      <td>201210-1</td>\n",
       "      <td>Normal</td>\n",
       "      <td>1722.504338</td>\n",
       "      <td>46.525862</td>\n",
       "      <td>41.741884</td>\n",
       "    </tr>\n",
       "    <tr>\n",
       "      <th>296</th>\n",
       "      <td>201210-1-00</td>\n",
       "      <td>296</td>\n",
       "      <td>402.27789</td>\n",
       "      <td>1756.4220</td>\n",
       "      <td>201210-1</td>\n",
       "      <td>Normal</td>\n",
       "      <td>1722.333665</td>\n",
       "      <td>34.088335</td>\n",
       "      <td>41.677722</td>\n",
       "    </tr>\n",
       "    <tr>\n",
       "      <th>297</th>\n",
       "      <td>201210-1-00</td>\n",
       "      <td>297</td>\n",
       "      <td>402.96127</td>\n",
       "      <td>1758.8690</td>\n",
       "      <td>201210-1</td>\n",
       "      <td>Normal</td>\n",
       "      <td>1722.162992</td>\n",
       "      <td>36.706008</td>\n",
       "      <td>41.611654</td>\n",
       "    </tr>\n",
       "    <tr>\n",
       "      <th>...</th>\n",
       "      <td>...</td>\n",
       "      <td>...</td>\n",
       "      <td>...</td>\n",
       "      <td>...</td>\n",
       "      <td>...</td>\n",
       "      <td>...</td>\n",
       "      <td>...</td>\n",
       "      <td>...</td>\n",
       "      <td>...</td>\n",
       "    </tr>\n",
       "    <tr>\n",
       "      <th>8023277</th>\n",
       "      <td>210526-3-09</td>\n",
       "      <td>2337</td>\n",
       "      <td>1797.03870</td>\n",
       "      <td>1617.3926</td>\n",
       "      <td>210526-3</td>\n",
       "      <td>Hyperglycemia</td>\n",
       "      <td>1617.650379</td>\n",
       "      <td>-0.257779</td>\n",
       "      <td>12.378163</td>\n",
       "    </tr>\n",
       "    <tr>\n",
       "      <th>8023278</th>\n",
       "      <td>210526-3-09</td>\n",
       "      <td>2338</td>\n",
       "      <td>1797.72200</td>\n",
       "      <td>1633.0911</td>\n",
       "      <td>210526-3</td>\n",
       "      <td>Hyperglycemia</td>\n",
       "      <td>1616.718912</td>\n",
       "      <td>16.372188</td>\n",
       "      <td>13.269937</td>\n",
       "    </tr>\n",
       "    <tr>\n",
       "      <th>8023279</th>\n",
       "      <td>210526-3-09</td>\n",
       "      <td>2339</td>\n",
       "      <td>1798.40550</td>\n",
       "      <td>1633.3076</td>\n",
       "      <td>210526-3</td>\n",
       "      <td>Hyperglycemia</td>\n",
       "      <td>1615.787446</td>\n",
       "      <td>17.520154</td>\n",
       "      <td>14.199285</td>\n",
       "    </tr>\n",
       "    <tr>\n",
       "      <th>8023280</th>\n",
       "      <td>210526-3-09</td>\n",
       "      <td>2340</td>\n",
       "      <td>1799.08890</td>\n",
       "      <td>1641.8665</td>\n",
       "      <td>210526-3</td>\n",
       "      <td>Hyperglycemia</td>\n",
       "      <td>1614.855979</td>\n",
       "      <td>27.010521</td>\n",
       "      <td>15.166531</td>\n",
       "    </tr>\n",
       "    <tr>\n",
       "      <th>8023281</th>\n",
       "      <td>210526-3-09</td>\n",
       "      <td>2341</td>\n",
       "      <td>1799.77220</td>\n",
       "      <td>1618.2405</td>\n",
       "      <td>210526-3</td>\n",
       "      <td>Hyperglycemia</td>\n",
       "      <td>1613.924513</td>\n",
       "      <td>4.315987</td>\n",
       "      <td>16.171997</td>\n",
       "    </tr>\n",
       "  </tbody>\n",
       "</table>\n",
       "<p>6239205 rows × 9 columns</p>\n",
       "</div>"
      ],
      "text/plain": [
       "              SpecID   Seq  WaveNumber  Absorbance     SurID         Status  \\\n",
       "293      201210-1-00   293   400.22778   1765.6628  201210-1         Normal   \n",
       "294      201210-1-00   294   400.91116   1774.7809  201210-1         Normal   \n",
       "295      201210-1-00   295   401.59454   1769.0302  201210-1         Normal   \n",
       "296      201210-1-00   296   402.27789   1756.4220  201210-1         Normal   \n",
       "297      201210-1-00   297   402.96127   1758.8690  201210-1         Normal   \n",
       "...              ...   ...         ...         ...       ...            ...   \n",
       "8023277  210526-3-09  2337  1797.03870   1617.3926  210526-3  Hyperglycemia   \n",
       "8023278  210526-3-09  2338  1797.72200   1633.0911  210526-3  Hyperglycemia   \n",
       "8023279  210526-3-09  2339  1798.40550   1633.3076  210526-3  Hyperglycemia   \n",
       "8023280  210526-3-09  2340  1799.08890   1641.8665  210526-3  Hyperglycemia   \n",
       "8023281  210526-3-09  2341  1799.77220   1618.2405  210526-3  Hyperglycemia   \n",
       "\n",
       "            Baseline  Baseline_Corrected_Absorbance  Smooth_Baseline_Corrected  \n",
       "293      1722.845684                      42.817116                  41.863303  \n",
       "294      1722.675011                      52.105889                  41.803843  \n",
       "295      1722.504338                      46.525862                  41.741884  \n",
       "296      1722.333665                      34.088335                  41.677722  \n",
       "297      1722.162992                      36.706008                  41.611654  \n",
       "...              ...                            ...                        ...  \n",
       "8023277  1617.650379                      -0.257779                  12.378163  \n",
       "8023278  1616.718912                      16.372188                  13.269937  \n",
       "8023279  1615.787446                      17.520154                  14.199285  \n",
       "8023280  1614.855979                      27.010521                  15.166531  \n",
       "8023281  1613.924513                       4.315987                  16.171997  \n",
       "\n",
       "[6239205 rows x 9 columns]"
      ]
     },
     "execution_count": 43,
     "metadata": {},
     "output_type": "execute_result"
    }
   ],
   "source": [
    "df"
   ]
  },
  {
   "cell_type": "code",
   "execution_count": 44,
   "metadata": {},
   "outputs": [],
   "source": [
    "df = df.drop(columns=['Absorbance', 'Baseline', 'Baseline_Corrected_Absorbance'])\n",
    "df = df.rename(columns={'Smooth_Baseline_Corrected':'Absorbance'})"
   ]
  },
  {
   "cell_type": "code",
   "execution_count": 45,
   "metadata": {},
   "outputs": [
    {
     "data": {
      "text/html": [
       "<div>\n",
       "<style scoped>\n",
       "    .dataframe tbody tr th:only-of-type {\n",
       "        vertical-align: middle;\n",
       "    }\n",
       "\n",
       "    .dataframe tbody tr th {\n",
       "        vertical-align: top;\n",
       "    }\n",
       "\n",
       "    .dataframe thead th {\n",
       "        text-align: right;\n",
       "    }\n",
       "</style>\n",
       "<table border=\"1\" class=\"dataframe\">\n",
       "  <thead>\n",
       "    <tr style=\"text-align: right;\">\n",
       "      <th></th>\n",
       "      <th>SpecID</th>\n",
       "      <th>Seq</th>\n",
       "      <th>WaveNumber</th>\n",
       "      <th>SurID</th>\n",
       "      <th>Status</th>\n",
       "      <th>Absorbance</th>\n",
       "    </tr>\n",
       "  </thead>\n",
       "  <tbody>\n",
       "    <tr>\n",
       "      <th>293</th>\n",
       "      <td>201210-1-00</td>\n",
       "      <td>293</td>\n",
       "      <td>400.22778</td>\n",
       "      <td>201210-1</td>\n",
       "      <td>Normal</td>\n",
       "      <td>41.863303</td>\n",
       "    </tr>\n",
       "    <tr>\n",
       "      <th>294</th>\n",
       "      <td>201210-1-00</td>\n",
       "      <td>294</td>\n",
       "      <td>400.91116</td>\n",
       "      <td>201210-1</td>\n",
       "      <td>Normal</td>\n",
       "      <td>41.803843</td>\n",
       "    </tr>\n",
       "    <tr>\n",
       "      <th>295</th>\n",
       "      <td>201210-1-00</td>\n",
       "      <td>295</td>\n",
       "      <td>401.59454</td>\n",
       "      <td>201210-1</td>\n",
       "      <td>Normal</td>\n",
       "      <td>41.741884</td>\n",
       "    </tr>\n",
       "    <tr>\n",
       "      <th>296</th>\n",
       "      <td>201210-1-00</td>\n",
       "      <td>296</td>\n",
       "      <td>402.27789</td>\n",
       "      <td>201210-1</td>\n",
       "      <td>Normal</td>\n",
       "      <td>41.677722</td>\n",
       "    </tr>\n",
       "    <tr>\n",
       "      <th>297</th>\n",
       "      <td>201210-1-00</td>\n",
       "      <td>297</td>\n",
       "      <td>402.96127</td>\n",
       "      <td>201210-1</td>\n",
       "      <td>Normal</td>\n",
       "      <td>41.611654</td>\n",
       "    </tr>\n",
       "    <tr>\n",
       "      <th>...</th>\n",
       "      <td>...</td>\n",
       "      <td>...</td>\n",
       "      <td>...</td>\n",
       "      <td>...</td>\n",
       "      <td>...</td>\n",
       "      <td>...</td>\n",
       "    </tr>\n",
       "    <tr>\n",
       "      <th>8023277</th>\n",
       "      <td>210526-3-09</td>\n",
       "      <td>2337</td>\n",
       "      <td>1797.03870</td>\n",
       "      <td>210526-3</td>\n",
       "      <td>Hyperglycemia</td>\n",
       "      <td>12.378163</td>\n",
       "    </tr>\n",
       "    <tr>\n",
       "      <th>8023278</th>\n",
       "      <td>210526-3-09</td>\n",
       "      <td>2338</td>\n",
       "      <td>1797.72200</td>\n",
       "      <td>210526-3</td>\n",
       "      <td>Hyperglycemia</td>\n",
       "      <td>13.269937</td>\n",
       "    </tr>\n",
       "    <tr>\n",
       "      <th>8023279</th>\n",
       "      <td>210526-3-09</td>\n",
       "      <td>2339</td>\n",
       "      <td>1798.40550</td>\n",
       "      <td>210526-3</td>\n",
       "      <td>Hyperglycemia</td>\n",
       "      <td>14.199285</td>\n",
       "    </tr>\n",
       "    <tr>\n",
       "      <th>8023280</th>\n",
       "      <td>210526-3-09</td>\n",
       "      <td>2340</td>\n",
       "      <td>1799.08890</td>\n",
       "      <td>210526-3</td>\n",
       "      <td>Hyperglycemia</td>\n",
       "      <td>15.166531</td>\n",
       "    </tr>\n",
       "    <tr>\n",
       "      <th>8023281</th>\n",
       "      <td>210526-3-09</td>\n",
       "      <td>2341</td>\n",
       "      <td>1799.77220</td>\n",
       "      <td>210526-3</td>\n",
       "      <td>Hyperglycemia</td>\n",
       "      <td>16.171997</td>\n",
       "    </tr>\n",
       "  </tbody>\n",
       "</table>\n",
       "<p>6239205 rows × 6 columns</p>\n",
       "</div>"
      ],
      "text/plain": [
       "              SpecID   Seq  WaveNumber     SurID         Status  Absorbance\n",
       "293      201210-1-00   293   400.22778  201210-1         Normal   41.863303\n",
       "294      201210-1-00   294   400.91116  201210-1         Normal   41.803843\n",
       "295      201210-1-00   295   401.59454  201210-1         Normal   41.741884\n",
       "296      201210-1-00   296   402.27789  201210-1         Normal   41.677722\n",
       "297      201210-1-00   297   402.96127  201210-1         Normal   41.611654\n",
       "...              ...   ...         ...       ...            ...         ...\n",
       "8023277  210526-3-09  2337  1797.03870  210526-3  Hyperglycemia   12.378163\n",
       "8023278  210526-3-09  2338  1797.72200  210526-3  Hyperglycemia   13.269937\n",
       "8023279  210526-3-09  2339  1798.40550  210526-3  Hyperglycemia   14.199285\n",
       "8023280  210526-3-09  2340  1799.08890  210526-3  Hyperglycemia   15.166531\n",
       "8023281  210526-3-09  2341  1799.77220  210526-3  Hyperglycemia   16.171997\n",
       "\n",
       "[6239205 rows x 6 columns]"
      ]
     },
     "execution_count": 45,
     "metadata": {},
     "output_type": "execute_result"
    }
   ],
   "source": [
    "df"
   ]
  },
  {
   "cell_type": "code",
   "execution_count": 46,
   "metadata": {},
   "outputs": [],
   "source": [
    "df.to_csv(\"../../data/current_clean_spectrum.csv\", index=False)\n",
    "# df.to_csv(\"../../data/400-1800_spike_removed.csv\", index=False)"
   ]
  }
 ],
 "metadata": {
  "kernelspec": {
   "display_name": "Python 3",
   "language": "python",
   "name": "python3"
  },
  "language_info": {
   "codemirror_mode": {
    "name": "ipython",
    "version": 3
   },
   "file_extension": ".py",
   "mimetype": "text/x-python",
   "name": "python",
   "nbconvert_exporter": "python",
   "pygments_lexer": "ipython3",
   "version": "3.10.12"
  }
 },
 "nbformat": 4,
 "nbformat_minor": 2
}
