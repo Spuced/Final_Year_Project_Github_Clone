{
 "cells": [
  {
   "cell_type": "markdown",
   "metadata": {},
   "source": [
    "#### **Use Grid Search to Find the most Informative Peaks**"
   ]
  },
  {
   "cell_type": "markdown",
   "metadata": {},
   "source": [
    "Import Libraries"
   ]
  },
  {
   "cell_type": "code",
   "execution_count": 1,
   "metadata": {},
   "outputs": [],
   "source": [
    "import pandas as pd\n",
    "from scipy.signal import find_peaks\n",
    "import seaborn as sns\n",
    "import numpy as np\n",
    "from scipy.sparse.linalg import spsolve\n",
    "from sklearn.ensemble import RandomForestClassifier\n",
    "from sklearn.ensemble import ExtraTreesClassifier\n",
    "from sklearn.metrics import accuracy_score, classification_report, confusion_matrix\n",
    "from scipy.signal import peak_widths\n",
    "from scipy.signal import peak_prominences\n",
    "from sklearn.model_selection import cross_val_score\n",
    "from sklearn.model_selection import StratifiedKFold, KFold"
   ]
  },
  {
   "cell_type": "markdown",
   "metadata": {},
   "source": [
    "Read the spectral data"
   ]
  },
  {
   "cell_type": "code",
   "execution_count": 2,
   "metadata": {},
   "outputs": [],
   "source": [
    "#df = pd.read_csv(\"../../data/exosomes.raw_spectrum_1.csv\")\n",
    "df = pd.read_csv(\"../../data/current_clean_spectrum.csv\", index_col=0)"
   ]
  },
  {
   "cell_type": "code",
   "execution_count": 3,
   "metadata": {},
   "outputs": [
    {
     "data": {
      "text/html": [
       "<div>\n",
       "<style scoped>\n",
       "    .dataframe tbody tr th:only-of-type {\n",
       "        vertical-align: middle;\n",
       "    }\n",
       "\n",
       "    .dataframe tbody tr th {\n",
       "        vertical-align: top;\n",
       "    }\n",
       "\n",
       "    .dataframe thead th {\n",
       "        text-align: right;\n",
       "    }\n",
       "</style>\n",
       "<table border=\"1\" class=\"dataframe\">\n",
       "  <thead>\n",
       "    <tr style=\"text-align: right;\">\n",
       "      <th></th>\n",
       "      <th>SpecID</th>\n",
       "      <th>Seq</th>\n",
       "      <th>WaveNumber</th>\n",
       "      <th>SurID</th>\n",
       "      <th>Status</th>\n",
       "      <th>Absorbance</th>\n",
       "    </tr>\n",
       "  </thead>\n",
       "  <tbody>\n",
       "    <tr>\n",
       "      <th>0</th>\n",
       "      <td>201210-1-00</td>\n",
       "      <td>0</td>\n",
       "      <td>200.00000</td>\n",
       "      <td>201210-1</td>\n",
       "      <td>Normal</td>\n",
       "      <td>134.816776</td>\n",
       "    </tr>\n",
       "    <tr>\n",
       "      <th>1</th>\n",
       "      <td>201210-1-00</td>\n",
       "      <td>1</td>\n",
       "      <td>200.68336</td>\n",
       "      <td>201210-1</td>\n",
       "      <td>Normal</td>\n",
       "      <td>132.968432</td>\n",
       "    </tr>\n",
       "    <tr>\n",
       "      <th>2</th>\n",
       "      <td>201210-1-00</td>\n",
       "      <td>2</td>\n",
       "      <td>201.36674</td>\n",
       "      <td>201210-1</td>\n",
       "      <td>Normal</td>\n",
       "      <td>131.193409</td>\n",
       "    </tr>\n",
       "    <tr>\n",
       "      <th>3</th>\n",
       "      <td>201210-1-00</td>\n",
       "      <td>3</td>\n",
       "      <td>202.05011</td>\n",
       "      <td>201210-1</td>\n",
       "      <td>Normal</td>\n",
       "      <td>129.491708</td>\n",
       "    </tr>\n",
       "    <tr>\n",
       "      <th>4</th>\n",
       "      <td>201210-1-00</td>\n",
       "      <td>4</td>\n",
       "      <td>202.73349</td>\n",
       "      <td>201210-1</td>\n",
       "      <td>Normal</td>\n",
       "      <td>127.863329</td>\n",
       "    </tr>\n",
       "    <tr>\n",
       "      <th>...</th>\n",
       "      <td>...</td>\n",
       "      <td>...</td>\n",
       "      <td>...</td>\n",
       "      <td>...</td>\n",
       "      <td>...</td>\n",
       "      <td>...</td>\n",
       "    </tr>\n",
       "    <tr>\n",
       "      <th>8023570</th>\n",
       "      <td>210526-3-09</td>\n",
       "      <td>2630</td>\n",
       "      <td>1997.26650</td>\n",
       "      <td>210526-3</td>\n",
       "      <td>Hyperglycemia</td>\n",
       "      <td>21.219946</td>\n",
       "    </tr>\n",
       "    <tr>\n",
       "      <th>8023571</th>\n",
       "      <td>210526-3-09</td>\n",
       "      <td>2631</td>\n",
       "      <td>1997.94980</td>\n",
       "      <td>210526-3</td>\n",
       "      <td>Hyperglycemia</td>\n",
       "      <td>21.661404</td>\n",
       "    </tr>\n",
       "    <tr>\n",
       "      <th>8023572</th>\n",
       "      <td>210526-3-09</td>\n",
       "      <td>2632</td>\n",
       "      <td>1998.63330</td>\n",
       "      <td>210526-3</td>\n",
       "      <td>Hyperglycemia</td>\n",
       "      <td>22.127722</td>\n",
       "    </tr>\n",
       "    <tr>\n",
       "      <th>8023573</th>\n",
       "      <td>210526-3-09</td>\n",
       "      <td>2633</td>\n",
       "      <td>1999.31670</td>\n",
       "      <td>210526-3</td>\n",
       "      <td>Hyperglycemia</td>\n",
       "      <td>22.618900</td>\n",
       "    </tr>\n",
       "    <tr>\n",
       "      <th>8023574</th>\n",
       "      <td>210526-3-09</td>\n",
       "      <td>2634</td>\n",
       "      <td>2000.00000</td>\n",
       "      <td>210526-3</td>\n",
       "      <td>Hyperglycemia</td>\n",
       "      <td>23.134938</td>\n",
       "    </tr>\n",
       "  </tbody>\n",
       "</table>\n",
       "<p>8023575 rows × 6 columns</p>\n",
       "</div>"
      ],
      "text/plain": [
       "              SpecID   Seq  WaveNumber     SurID         Status  Absorbance\n",
       "0        201210-1-00     0   200.00000  201210-1         Normal  134.816776\n",
       "1        201210-1-00     1   200.68336  201210-1         Normal  132.968432\n",
       "2        201210-1-00     2   201.36674  201210-1         Normal  131.193409\n",
       "3        201210-1-00     3   202.05011  201210-1         Normal  129.491708\n",
       "4        201210-1-00     4   202.73349  201210-1         Normal  127.863329\n",
       "...              ...   ...         ...       ...            ...         ...\n",
       "8023570  210526-3-09  2630  1997.26650  210526-3  Hyperglycemia   21.219946\n",
       "8023571  210526-3-09  2631  1997.94980  210526-3  Hyperglycemia   21.661404\n",
       "8023572  210526-3-09  2632  1998.63330  210526-3  Hyperglycemia   22.127722\n",
       "8023573  210526-3-09  2633  1999.31670  210526-3  Hyperglycemia   22.618900\n",
       "8023574  210526-3-09  2634  2000.00000  210526-3  Hyperglycemia   23.134938\n",
       "\n",
       "[8023575 rows x 6 columns]"
      ]
     },
     "execution_count": 3,
     "metadata": {},
     "output_type": "execute_result"
    }
   ],
   "source": [
    "df"
   ]
  },
  {
   "cell_type": "code",
   "execution_count": 4,
   "metadata": {},
   "outputs": [
    {
     "name": "stdout",
     "output_type": "stream",
     "text": [
      "<class 'pandas.core.frame.DataFrame'>\n",
      "Index: 8023575 entries, 0 to 8023574\n",
      "Data columns (total 6 columns):\n",
      " #   Column      Dtype  \n",
      "---  ------      -----  \n",
      " 0   SpecID      object \n",
      " 1   Seq         int64  \n",
      " 2   WaveNumber  float64\n",
      " 3   SurID       object \n",
      " 4   Status      object \n",
      " 5   Absorbance  float64\n",
      "dtypes: float64(2), int64(1), object(3)\n",
      "memory usage: 428.5+ MB\n"
     ]
    }
   ],
   "source": [
    "df.info()"
   ]
  },
  {
   "cell_type": "code",
   "execution_count": 5,
   "metadata": {},
   "outputs": [
    {
     "name": "stdout",
     "output_type": "stream",
     "text": [
      "              SpecID   Seq  WaveNumber     SurID         Status  Absorbance\n",
      "7981415  210526-3-04     0   200.00000  210526-3  Hyperglycemia  -23.674679\n",
      "7981416  210526-3-04     1   200.68336  210526-3  Hyperglycemia  -23.996229\n",
      "7981417  210526-3-04     2   201.36674  210526-3  Hyperglycemia  -24.183251\n",
      "7981418  210526-3-04     3   202.05011  210526-3  Hyperglycemia  -24.235746\n",
      "7981419  210526-3-04     4   202.73349  210526-3  Hyperglycemia  -24.153714\n",
      "...              ...   ...         ...       ...            ...         ...\n",
      "7984045  210526-3-04  2630  1997.26650  210526-3  Hyperglycemia   20.433782\n",
      "7984046  210526-3-04  2631  1997.94980  210526-3  Hyperglycemia   20.220338\n",
      "7984047  210526-3-04  2632  1998.63330  210526-3  Hyperglycemia   19.998315\n",
      "7984048  210526-3-04  2633  1999.31670  210526-3  Hyperglycemia   19.767715\n",
      "7984049  210526-3-04  2634  2000.00000  210526-3  Hyperglycemia   19.528536\n",
      "\n",
      "[2635 rows x 6 columns]\n"
     ]
    }
   ],
   "source": [
    "sample = df[df['SpecID'] == \"210526-3-04\"]\n",
    "print(sample)"
   ]
  },
  {
   "cell_type": "markdown",
   "metadata": {},
   "source": [
    "Find Peaks Within the spectrum."
   ]
  },
  {
   "cell_type": "code",
   "execution_count": 6,
   "metadata": {},
   "outputs": [],
   "source": [
    "#peaks, _ = find_peaks(x=sample['Absorbance'], distance=152, prominence=42, width=6)\n",
    "peaks, _ = find_peaks(x=sample['Absorbance'])"
   ]
  },
  {
   "cell_type": "code",
   "execution_count": 7,
   "metadata": {},
   "outputs": [
    {
     "data": {
      "text/plain": [
       "<Axes: xlabel='WaveNumber', ylabel='Absorbance'>"
      ]
     },
     "execution_count": 7,
     "metadata": {},
     "output_type": "execute_result"
    },
    {
     "data": {
      "image/png": "[encoded data removed]",
      "text/plain": [
       "<Figure size 640x480 with 1 Axes>"
      ]
     },
     "metadata": {},
     "output_type": "display_data"
    }
   ],
   "source": [
    "sns.lineplot(x=\"WaveNumber\", y=\"Absorbance\", data=sample)\n",
    "sns.scatterplot(data=sample.iloc[peaks], x=\"WaveNumber\", y=\"Absorbance\", color=\"red\")"
   ]
  },
  {
   "cell_type": "markdown",
   "metadata": {},
   "source": [
    "As you can see, it does not properly find the peaks, so we have to tune the peak finding parameters."
   ]
  },
  {
   "cell_type": "markdown",
   "metadata": {},
   "source": [
    "These parameters are based on Thomas Keogh's Search"
   ]
  },
  {
   "cell_type": "code",
   "execution_count": 8,
   "metadata": {},
   "outputs": [],
   "source": [
    "tuned_peaks, _ = find_peaks(x=sample['Absorbance'], distance=152, prominence=42, width=6)"
   ]
  },
  {
   "cell_type": "code",
   "execution_count": 9,
   "metadata": {},
   "outputs": [
    {
     "data": {
      "text/html": [
       "<div>\n",
       "<style scoped>\n",
       "    .dataframe tbody tr th:only-of-type {\n",
       "        vertical-align: middle;\n",
       "    }\n",
       "\n",
       "    .dataframe tbody tr th {\n",
       "        vertical-align: top;\n",
       "    }\n",
       "\n",
       "    .dataframe thead th {\n",
       "        text-align: right;\n",
       "    }\n",
       "</style>\n",
       "<table border=\"1\" class=\"dataframe\">\n",
       "  <thead>\n",
       "    <tr style=\"text-align: right;\">\n",
       "      <th></th>\n",
       "      <th>SpecID</th>\n",
       "      <th>Seq</th>\n",
       "      <th>WaveNumber</th>\n",
       "      <th>SurID</th>\n",
       "      <th>Status</th>\n",
       "      <th>Absorbance</th>\n",
       "    </tr>\n",
       "  </thead>\n",
       "  <tbody>\n",
       "    <tr>\n",
       "      <th>7981415</th>\n",
       "      <td>210526-3-04</td>\n",
       "      <td>0</td>\n",
       "      <td>200.00000</td>\n",
       "      <td>210526-3</td>\n",
       "      <td>Hyperglycemia</td>\n",
       "      <td>-23.674679</td>\n",
       "    </tr>\n",
       "    <tr>\n",
       "      <th>7981416</th>\n",
       "      <td>210526-3-04</td>\n",
       "      <td>1</td>\n",
       "      <td>200.68336</td>\n",
       "      <td>210526-3</td>\n",
       "      <td>Hyperglycemia</td>\n",
       "      <td>-23.996229</td>\n",
       "    </tr>\n",
       "    <tr>\n",
       "      <th>7981417</th>\n",
       "      <td>210526-3-04</td>\n",
       "      <td>2</td>\n",
       "      <td>201.36674</td>\n",
       "      <td>210526-3</td>\n",
       "      <td>Hyperglycemia</td>\n",
       "      <td>-24.183251</td>\n",
       "    </tr>\n",
       "    <tr>\n",
       "      <th>7981418</th>\n",
       "      <td>210526-3-04</td>\n",
       "      <td>3</td>\n",
       "      <td>202.05011</td>\n",
       "      <td>210526-3</td>\n",
       "      <td>Hyperglycemia</td>\n",
       "      <td>-24.235746</td>\n",
       "    </tr>\n",
       "    <tr>\n",
       "      <th>7981419</th>\n",
       "      <td>210526-3-04</td>\n",
       "      <td>4</td>\n",
       "      <td>202.73349</td>\n",
       "      <td>210526-3</td>\n",
       "      <td>Hyperglycemia</td>\n",
       "      <td>-24.153714</td>\n",
       "    </tr>\n",
       "    <tr>\n",
       "      <th>...</th>\n",
       "      <td>...</td>\n",
       "      <td>...</td>\n",
       "      <td>...</td>\n",
       "      <td>...</td>\n",
       "      <td>...</td>\n",
       "      <td>...</td>\n",
       "    </tr>\n",
       "    <tr>\n",
       "      <th>7984045</th>\n",
       "      <td>210526-3-04</td>\n",
       "      <td>2630</td>\n",
       "      <td>1997.26650</td>\n",
       "      <td>210526-3</td>\n",
       "      <td>Hyperglycemia</td>\n",
       "      <td>20.433782</td>\n",
       "    </tr>\n",
       "    <tr>\n",
       "      <th>7984046</th>\n",
       "      <td>210526-3-04</td>\n",
       "      <td>2631</td>\n",
       "      <td>1997.94980</td>\n",
       "      <td>210526-3</td>\n",
       "      <td>Hyperglycemia</td>\n",
       "      <td>20.220338</td>\n",
       "    </tr>\n",
       "    <tr>\n",
       "      <th>7984047</th>\n",
       "      <td>210526-3-04</td>\n",
       "      <td>2632</td>\n",
       "      <td>1998.63330</td>\n",
       "      <td>210526-3</td>\n",
       "      <td>Hyperglycemia</td>\n",
       "      <td>19.998315</td>\n",
       "    </tr>\n",
       "    <tr>\n",
       "      <th>7984048</th>\n",
       "      <td>210526-3-04</td>\n",
       "      <td>2633</td>\n",
       "      <td>1999.31670</td>\n",
       "      <td>210526-3</td>\n",
       "      <td>Hyperglycemia</td>\n",
       "      <td>19.767715</td>\n",
       "    </tr>\n",
       "    <tr>\n",
       "      <th>7984049</th>\n",
       "      <td>210526-3-04</td>\n",
       "      <td>2634</td>\n",
       "      <td>2000.00000</td>\n",
       "      <td>210526-3</td>\n",
       "      <td>Hyperglycemia</td>\n",
       "      <td>19.528536</td>\n",
       "    </tr>\n",
       "  </tbody>\n",
       "</table>\n",
       "<p>2635 rows × 6 columns</p>\n",
       "</div>"
      ],
      "text/plain": [
       "              SpecID   Seq  WaveNumber     SurID         Status  Absorbance\n",
       "7981415  210526-3-04     0   200.00000  210526-3  Hyperglycemia  -23.674679\n",
       "7981416  210526-3-04     1   200.68336  210526-3  Hyperglycemia  -23.996229\n",
       "7981417  210526-3-04     2   201.36674  210526-3  Hyperglycemia  -24.183251\n",
       "7981418  210526-3-04     3   202.05011  210526-3  Hyperglycemia  -24.235746\n",
       "7981419  210526-3-04     4   202.73349  210526-3  Hyperglycemia  -24.153714\n",
       "...              ...   ...         ...       ...            ...         ...\n",
       "7984045  210526-3-04  2630  1997.26650  210526-3  Hyperglycemia   20.433782\n",
       "7984046  210526-3-04  2631  1997.94980  210526-3  Hyperglycemia   20.220338\n",
       "7984047  210526-3-04  2632  1998.63330  210526-3  Hyperglycemia   19.998315\n",
       "7984048  210526-3-04  2633  1999.31670  210526-3  Hyperglycemia   19.767715\n",
       "7984049  210526-3-04  2634  2000.00000  210526-3  Hyperglycemia   19.528536\n",
       "\n",
       "[2635 rows x 6 columns]"
      ]
     },
     "execution_count": 9,
     "metadata": {},
     "output_type": "execute_result"
    }
   ],
   "source": [
    "sample"
   ]
  },
  {
   "cell_type": "code",
   "execution_count": 10,
   "metadata": {},
   "outputs": [
    {
     "data": {
      "text/plain": [
       "<Axes: xlabel='WaveNumber', ylabel='Absorbance'>"
      ]
     },
     "execution_count": 10,
     "metadata": {},
     "output_type": "execute_result"
    },
    {
     "data": {
      "image/png": "[encoded data removed]",
      "text/plain": [
       "<Figure size 640x480 with 1 Axes>"
      ]
     },
     "metadata": {},
     "output_type": "display_data"
    }
   ],
   "source": [
    "sns.lineplot(x=\"WaveNumber\", y=\"Absorbance\", data=sample)\n",
    "sns.scatterplot(data=sample.iloc[tuned_peaks], x=\"WaveNumber\", y=\"Absorbance\", color=\"red\")"
   ]
  },
  {
   "cell_type": "markdown",
   "metadata": {},
   "source": [
    "#### **Find the best Peak Finding Parameters**"
   ]
  },
  {
   "cell_type": "markdown",
   "metadata": {},
   "source": [
    "Create a field for each wavelength."
   ]
  },
  {
   "cell_type": "code",
   "execution_count": 11,
   "metadata": {},
   "outputs": [],
   "source": [
    "def prepare_wavelength_df(df, absorbance_col, status_col='Status'):\n",
    "\n",
    "    # Pivot the DataFrame to get wavelengths as columns and absorbance values\n",
    "    wavelength_df = df.pivot(index='SpecID', columns='WaveNumber', values=absorbance_col).reset_index()\n",
    "    wavelength_df.columns.name = None\n",
    "\n",
    "    # Merge with the statuses based on SpecID\n",
    "    statuses = df[['SpecID', status_col]].drop_duplicates()\n",
    "    wavelength_df = pd.merge(wavelength_df, statuses, on='SpecID')\n",
    "\n",
    "    # Set SpecID as the index\n",
    "    wavelength_df = wavelength_df.set_index('SpecID')\n",
    "\n",
    "    return wavelength_df"
   ]
  },
  {
   "cell_type": "markdown",
   "metadata": {},
   "source": [
    "Train an Extra Trees Classifier"
   ]
  },
  {
   "cell_type": "code",
   "execution_count": 12,
   "metadata": {},
   "outputs": [],
   "source": [
    "def evaluate_extra_trees(df):\n",
    "    # Splitting the dataframe into features (X) and target variable (y)\n",
    "    X = df.drop(['Status'], axis=1)\n",
    "    y = df['Status']\n",
    "    \n",
    "    # Creating the Extra Trees classifier\n",
    "    et = ExtraTreesClassifier(random_state=1234)\n",
    "    \n",
    "    # Using StratifiedKFold for classification tasks\n",
    "    #cv = StratifiedKFold(n_splits=10, shuffle=True, random_state=1234)\n",
    "    cv = KFold(n_splits=10, shuffle=True, random_state=1234)\n",
    "\n",
    "    \n",
    "    # Getting cross-validation scores\n",
    "    scores = cross_val_score(et, X, y, cv=cv, scoring='accuracy')\n",
    "    \n",
    "    # Displaying the results\n",
    "    print(f'{et.__class__.__name__} Cross-Validation Accuracy: {np.mean(scores):.4f} +/- {np.std(scores):.4f}')"
   ]
  },
  {
   "cell_type": "markdown",
   "metadata": {},
   "source": [
    "#### **1. Using Peak Statistics**"
   ]
  },
  {
   "cell_type": "code",
   "execution_count": 13,
   "metadata": {},
   "outputs": [],
   "source": [
    "backup = df"
   ]
  },
  {
   "cell_type": "code",
   "execution_count": 14,
   "metadata": {},
   "outputs": [],
   "source": [
    "statuses = df[['SpecID', 'Status']].drop_duplicates()"
   ]
  },
  {
   "cell_type": "markdown",
   "metadata": {},
   "source": [
    "This uses statistical properties of the peaks in each sample to be used as additional features."
   ]
  },
  {
   "cell_type": "code",
   "execution_count": 15,
   "metadata": {},
   "outputs": [],
   "source": [
    "peaks = []\n",
    "widths = []\n",
    "prominences = []\n",
    "areas = []\n",
    "\n",
    "# Find the index and width of each peak\n",
    "for _, group in df.groupby('SpecID'):\n",
    "\n",
    "    peak_index, _ = find_peaks(x=group['Absorbance'], distance=152, prominence=42, width=6)\n",
    "    #peak_index, _ = find_peaks(x=group['Absorbance'])\n",
    "    #peak_index, _ = find_peaks(x=group['Absorbance'], prominence=75)\n",
    "\n",
    "    # Calculate the widths of each peak\n",
    "    widths += list(peak_widths(group['Absorbance'], peaks=peak_index, rel_height=0.5)[0])\n",
    "\n",
    "    # Calculate prominence of each peak\n",
    "    prominences += list(peak_prominences(group['Absorbance'], peaks=peak_index)[0])\n",
    "\n",
    "    # Find the index of the peak within the full dataframe\n",
    "    peaks += list(group.iloc[peak_index].index.values)\n",
    "\n",
    "peaks_df = df.iloc[peaks]"
   ]
  },
  {
   "cell_type": "code",
   "execution_count": 16,
   "metadata": {},
   "outputs": [
    {
     "data": {
      "text/html": [
       "<div>\n",
       "<style scoped>\n",
       "    .dataframe tbody tr th:only-of-type {\n",
       "        vertical-align: middle;\n",
       "    }\n",
       "\n",
       "    .dataframe tbody tr th {\n",
       "        vertical-align: top;\n",
       "    }\n",
       "\n",
       "    .dataframe thead th {\n",
       "        text-align: right;\n",
       "    }\n",
       "</style>\n",
       "<table border=\"1\" class=\"dataframe\">\n",
       "  <thead>\n",
       "    <tr style=\"text-align: right;\">\n",
       "      <th></th>\n",
       "      <th>SpecID</th>\n",
       "      <th>Seq</th>\n",
       "      <th>WaveNumber</th>\n",
       "      <th>SurID</th>\n",
       "      <th>Status</th>\n",
       "      <th>Absorbance</th>\n",
       "    </tr>\n",
       "  </thead>\n",
       "  <tbody>\n",
       "    <tr>\n",
       "      <th>113</th>\n",
       "      <td>201210-1-00</td>\n",
       "      <td>113</td>\n",
       "      <td>277.22095</td>\n",
       "      <td>201210-1</td>\n",
       "      <td>Normal</td>\n",
       "      <td>230.599170</td>\n",
       "    </tr>\n",
       "    <tr>\n",
       "      <th>389</th>\n",
       "      <td>201210-1-00</td>\n",
       "      <td>389</td>\n",
       "      <td>465.83142</td>\n",
       "      <td>201210-1</td>\n",
       "      <td>Normal</td>\n",
       "      <td>54.866643</td>\n",
       "    </tr>\n",
       "    <tr>\n",
       "      <th>726</th>\n",
       "      <td>201210-1-00</td>\n",
       "      <td>726</td>\n",
       "      <td>696.12756</td>\n",
       "      <td>201210-1</td>\n",
       "      <td>Normal</td>\n",
       "      <td>155.171518</td>\n",
       "    </tr>\n",
       "    <tr>\n",
       "      <th>1020</th>\n",
       "      <td>201210-1-00</td>\n",
       "      <td>1020</td>\n",
       "      <td>897.03870</td>\n",
       "      <td>201210-1</td>\n",
       "      <td>Normal</td>\n",
       "      <td>86.147696</td>\n",
       "    </tr>\n",
       "    <tr>\n",
       "      <th>1177</th>\n",
       "      <td>201210-1-00</td>\n",
       "      <td>1177</td>\n",
       "      <td>1004.32800</td>\n",
       "      <td>201210-1</td>\n",
       "      <td>Normal</td>\n",
       "      <td>73.225598</td>\n",
       "    </tr>\n",
       "    <tr>\n",
       "      <th>...</th>\n",
       "      <td>...</td>\n",
       "      <td>...</td>\n",
       "      <td>...</td>\n",
       "      <td>...</td>\n",
       "      <td>...</td>\n",
       "      <td>...</td>\n",
       "    </tr>\n",
       "    <tr>\n",
       "      <th>8008513</th>\n",
       "      <td>210526-3-49</td>\n",
       "      <td>748</td>\n",
       "      <td>711.16174</td>\n",
       "      <td>210526-3</td>\n",
       "      <td>Hyperglycemia</td>\n",
       "      <td>56.226713</td>\n",
       "    </tr>\n",
       "    <tr>\n",
       "      <th>8008716</th>\n",
       "      <td>210526-3-49</td>\n",
       "      <td>951</td>\n",
       "      <td>849.88611</td>\n",
       "      <td>210526-3</td>\n",
       "      <td>Hyperglycemia</td>\n",
       "      <td>41.445652</td>\n",
       "    </tr>\n",
       "    <tr>\n",
       "      <th>8008937</th>\n",
       "      <td>210526-3-49</td>\n",
       "      <td>1172</td>\n",
       "      <td>1000.91110</td>\n",
       "      <td>210526-3</td>\n",
       "      <td>Hyperglycemia</td>\n",
       "      <td>59.062523</td>\n",
       "    </tr>\n",
       "    <tr>\n",
       "      <th>8009313</th>\n",
       "      <td>210526-3-49</td>\n",
       "      <td>1548</td>\n",
       "      <td>1257.85880</td>\n",
       "      <td>210526-3</td>\n",
       "      <td>Hyperglycemia</td>\n",
       "      <td>42.796199</td>\n",
       "    </tr>\n",
       "    <tr>\n",
       "      <th>8009768</th>\n",
       "      <td>210526-3-49</td>\n",
       "      <td>2003</td>\n",
       "      <td>1568.79270</td>\n",
       "      <td>210526-3</td>\n",
       "      <td>Hyperglycemia</td>\n",
       "      <td>43.833631</td>\n",
       "    </tr>\n",
       "  </tbody>\n",
       "</table>\n",
       "<p>24329 rows × 6 columns</p>\n",
       "</div>"
      ],
      "text/plain": [
       "              SpecID   Seq  WaveNumber     SurID         Status  Absorbance\n",
       "113      201210-1-00   113   277.22095  201210-1         Normal  230.599170\n",
       "389      201210-1-00   389   465.83142  201210-1         Normal   54.866643\n",
       "726      201210-1-00   726   696.12756  201210-1         Normal  155.171518\n",
       "1020     201210-1-00  1020   897.03870  201210-1         Normal   86.147696\n",
       "1177     201210-1-00  1177  1004.32800  201210-1         Normal   73.225598\n",
       "...              ...   ...         ...       ...            ...         ...\n",
       "8008513  210526-3-49   748   711.16174  210526-3  Hyperglycemia   56.226713\n",
       "8008716  210526-3-49   951   849.88611  210526-3  Hyperglycemia   41.445652\n",
       "8008937  210526-3-49  1172  1000.91110  210526-3  Hyperglycemia   59.062523\n",
       "8009313  210526-3-49  1548  1257.85880  210526-3  Hyperglycemia   42.796199\n",
       "8009768  210526-3-49  2003  1568.79270  210526-3  Hyperglycemia   43.833631\n",
       "\n",
       "[24329 rows x 6 columns]"
      ]
     },
     "execution_count": 16,
     "metadata": {},
     "output_type": "execute_result"
    }
   ],
   "source": [
    "peaks_df"
   ]
  },
  {
   "cell_type": "code",
   "execution_count": 17,
   "metadata": {},
   "outputs": [
    {
     "data": {
      "text/plain": [
       "<Axes: xlabel='WaveNumber', ylabel='Absorbance'>"
      ]
     },
     "execution_count": 17,
     "metadata": {},
     "output_type": "execute_result"
    },
    {
     "data": {
      "image/png": "[encoded data removed]",
      "text/plain": [
       "<Figure size 640x480 with 1 Axes>"
      ]
     },
     "metadata": {},
     "output_type": "display_data"
    }
   ],
   "source": [
    "sns.scatterplot(data=peaks_df, x=\"WaveNumber\", y=\"Absorbance\", hue='Status')"
   ]
  },
  {
   "cell_type": "code",
   "execution_count": 18,
   "metadata": {},
   "outputs": [
    {
     "name": "stdout",
     "output_type": "stream",
     "text": [
      "24329\n",
      "24329\n",
      "24329\n"
     ]
    },
    {
     "name": "stderr",
     "output_type": "stream",
     "text": [
      "/tmp/ipykernel_3076/1918292714.py:4: SettingWithCopyWarning: \n",
      "A value is trying to be set on a copy of a slice from a DataFrame.\n",
      "Try using .loc[row_indexer,col_indexer] = value instead\n",
      "\n",
      "See the caveats in the documentation: https://pandas.pydata.org/pandas-docs/stable/user_guide/indexing.html#returning-a-view-versus-a-copy\n",
      "  peaks_df['PeakWidths'] = widths\n",
      "/tmp/ipykernel_3076/1918292714.py:5: SettingWithCopyWarning: \n",
      "A value is trying to be set on a copy of a slice from a DataFrame.\n",
      "Try using .loc[row_indexer,col_indexer] = value instead\n",
      "\n",
      "See the caveats in the documentation: https://pandas.pydata.org/pandas-docs/stable/user_guide/indexing.html#returning-a-view-versus-a-copy\n",
      "  peaks_df['PeakProminences'] = prominences\n"
     ]
    }
   ],
   "source": [
    "print(len(peaks))\n",
    "print(len(widths))\n",
    "print(len(prominences))\n",
    "peaks_df['PeakWidths'] = widths\n",
    "peaks_df['PeakProminences'] = prominences"
   ]
  },
  {
   "cell_type": "markdown",
   "metadata": {},
   "source": [
    "Standard Deviation of the Absorbances appears to have a positive affect on accuracy."
   ]
  },
  {
   "cell_type": "code",
   "execution_count": 19,
   "metadata": {},
   "outputs": [],
   "source": [
    "# Create a new DataFrame for the summary statistics\n",
    "peak_stats = peaks_df.groupby('SpecID').agg({\n",
    "    'Absorbance': ['mean', 'std', 'count', 'max', 'min'],\n",
    "    'PeakWidths': ['mean', 'std', 'max', 'min'],\n",
    "    'PeakProminences': ['mean', 'std', 'max', 'min']\n",
    "}).reset_index()\n",
    "\n",
    "# Flatten the multi-level columns and customize the names\n",
    "peak_stats.columns = ['SpecID',\n",
    "                      'PeakAbsorbance_mean', 'PeakAbsorbance_std', 'PeakAbsorbance_count', 'PeakAbsorbance_max', 'PeakAbsorbance_min',\n",
    "                      'PeakWidths_mean', 'PeakWidths_std', 'PeakWidths_max', 'PeakWidths_min',\n",
    "                      'PeakProminences_mean', 'PeakProminences_std', 'PeakProminences_max', 'PeakProminences_min']"
   ]
  },
  {
   "cell_type": "code",
   "execution_count": 20,
   "metadata": {},
   "outputs": [],
   "source": [
    "# # Create a new DataFrame for the summary statistics\n",
    "# peak_stats = peaks_df.groupby('SpecID').agg({\n",
    "#     'PeakWidths': ['mean', 'std', 'max', 'min'],\n",
    "#     'PeakProminences': ['mean', 'std', 'max', 'min']\n",
    "# }).reset_index()\n",
    "\n",
    "# # Flatten the multi-level columns and customize the names\n",
    "# peak_stats.columns = ['SpecID',\n",
    "#                       'PeakWidths_mean', 'PeakWidths_std', 'PeakWidths_max', 'PeakWidths_min',\n",
    "#                       'PeakProminences_mean', 'PeakProminences_std', 'PeakProminences_max', 'PeakProminences_min']"
   ]
  },
  {
   "cell_type": "markdown",
   "metadata": {},
   "source": [
    "Sometimes not every sample has a peak."
   ]
  },
  {
   "cell_type": "code",
   "execution_count": 21,
   "metadata": {},
   "outputs": [
    {
     "data": {
      "text/plain": [
       "(3002, 14)"
      ]
     },
     "execution_count": 21,
     "metadata": {},
     "output_type": "execute_result"
    }
   ],
   "source": [
    "peak_stats.shape"
   ]
  },
  {
   "cell_type": "code",
   "execution_count": 22,
   "metadata": {},
   "outputs": [],
   "source": [
    "peak_stats = pd.merge(statuses, peak_stats, on='SpecID', how='left')\n",
    "peak_stats = peak_stats.set_index('SpecID')\n",
    "peak_stats = peak_stats.fillna(0)"
   ]
  },
  {
   "cell_type": "code",
   "execution_count": 23,
   "metadata": {},
   "outputs": [
    {
     "data": {
      "text/plain": [
       "(3045, 14)"
      ]
     },
     "execution_count": 23,
     "metadata": {},
     "output_type": "execute_result"
    }
   ],
   "source": [
    "peak_stats.shape"
   ]
  },
  {
   "cell_type": "code",
   "execution_count": 24,
   "metadata": {},
   "outputs": [
    {
     "data": {
      "text/html": [
       "<div>\n",
       "<style scoped>\n",
       "    .dataframe tbody tr th:only-of-type {\n",
       "        vertical-align: middle;\n",
       "    }\n",
       "\n",
       "    .dataframe tbody tr th {\n",
       "        vertical-align: top;\n",
       "    }\n",
       "\n",
       "    .dataframe thead th {\n",
       "        text-align: right;\n",
       "    }\n",
       "</style>\n",
       "<table border=\"1\" class=\"dataframe\">\n",
       "  <thead>\n",
       "    <tr style=\"text-align: right;\">\n",
       "      <th></th>\n",
       "      <th>Status</th>\n",
       "      <th>PeakAbsorbance_mean</th>\n",
       "      <th>PeakAbsorbance_std</th>\n",
       "      <th>PeakAbsorbance_count</th>\n",
       "      <th>PeakAbsorbance_max</th>\n",
       "      <th>PeakAbsorbance_min</th>\n",
       "      <th>PeakWidths_mean</th>\n",
       "      <th>PeakWidths_std</th>\n",
       "      <th>PeakWidths_max</th>\n",
       "      <th>PeakWidths_min</th>\n",
       "      <th>PeakProminences_mean</th>\n",
       "      <th>PeakProminences_std</th>\n",
       "      <th>PeakProminences_max</th>\n",
       "      <th>PeakProminences_min</th>\n",
       "    </tr>\n",
       "    <tr>\n",
       "      <th>SpecID</th>\n",
       "      <th></th>\n",
       "      <th></th>\n",
       "      <th></th>\n",
       "      <th></th>\n",
       "      <th></th>\n",
       "      <th></th>\n",
       "      <th></th>\n",
       "      <th></th>\n",
       "      <th></th>\n",
       "      <th></th>\n",
       "      <th></th>\n",
       "      <th></th>\n",
       "      <th></th>\n",
       "      <th></th>\n",
       "    </tr>\n",
       "  </thead>\n",
       "  <tbody>\n",
       "    <tr>\n",
       "      <th>201210-1-00</th>\n",
       "      <td>Normal</td>\n",
       "      <td>103.970546</td>\n",
       "      <td>65.378578</td>\n",
       "      <td>7.0</td>\n",
       "      <td>230.599170</td>\n",
       "      <td>54.866643</td>\n",
       "      <td>95.782670</td>\n",
       "      <td>45.756190</td>\n",
       "      <td>164.382194</td>\n",
       "      <td>48.894505</td>\n",
       "      <td>93.842580</td>\n",
       "      <td>42.619639</td>\n",
       "      <td>174.043834</td>\n",
       "      <td>47.322760</td>\n",
       "    </tr>\n",
       "    <tr>\n",
       "      <th>201210-1-01</th>\n",
       "      <td>Normal</td>\n",
       "      <td>141.158210</td>\n",
       "      <td>48.516456</td>\n",
       "      <td>6.0</td>\n",
       "      <td>222.768275</td>\n",
       "      <td>87.815553</td>\n",
       "      <td>87.588739</td>\n",
       "      <td>30.623744</td>\n",
       "      <td>131.433035</td>\n",
       "      <td>50.354572</td>\n",
       "      <td>129.905724</td>\n",
       "      <td>36.985714</td>\n",
       "      <td>185.001568</td>\n",
       "      <td>95.661545</td>\n",
       "    </tr>\n",
       "    <tr>\n",
       "      <th>201210-1-02</th>\n",
       "      <td>Normal</td>\n",
       "      <td>341.196679</td>\n",
       "      <td>391.471661</td>\n",
       "      <td>8.0</td>\n",
       "      <td>1210.352024</td>\n",
       "      <td>54.986609</td>\n",
       "      <td>60.951009</td>\n",
       "      <td>35.199884</td>\n",
       "      <td>131.019580</td>\n",
       "      <td>33.442479</td>\n",
       "      <td>337.148841</td>\n",
       "      <td>404.264444</td>\n",
       "      <td>1239.715130</td>\n",
       "      <td>49.517882</td>\n",
       "    </tr>\n",
       "    <tr>\n",
       "      <th>201210-1-03</th>\n",
       "      <td>Normal</td>\n",
       "      <td>724.348501</td>\n",
       "      <td>530.912748</td>\n",
       "      <td>8.0</td>\n",
       "      <td>1819.920905</td>\n",
       "      <td>101.029070</td>\n",
       "      <td>59.800100</td>\n",
       "      <td>30.168718</td>\n",
       "      <td>120.018227</td>\n",
       "      <td>32.072450</td>\n",
       "      <td>667.141079</td>\n",
       "      <td>417.608549</td>\n",
       "      <td>1340.414578</td>\n",
       "      <td>104.717517</td>\n",
       "    </tr>\n",
       "    <tr>\n",
       "      <th>201210-1-04</th>\n",
       "      <td>Normal</td>\n",
       "      <td>133.872272</td>\n",
       "      <td>92.740269</td>\n",
       "      <td>9.0</td>\n",
       "      <td>343.345169</td>\n",
       "      <td>61.120510</td>\n",
       "      <td>76.550049</td>\n",
       "      <td>29.873933</td>\n",
       "      <td>132.252771</td>\n",
       "      <td>31.837470</td>\n",
       "      <td>128.451061</td>\n",
       "      <td>68.248661</td>\n",
       "      <td>241.703013</td>\n",
       "      <td>63.089181</td>\n",
       "    </tr>\n",
       "  </tbody>\n",
       "</table>\n",
       "</div>"
      ],
      "text/plain": [
       "             Status  PeakAbsorbance_mean  PeakAbsorbance_std  \\\n",
       "SpecID                                                         \n",
       "201210-1-00  Normal           103.970546           65.378578   \n",
       "201210-1-01  Normal           141.158210           48.516456   \n",
       "201210-1-02  Normal           341.196679          391.471661   \n",
       "201210-1-03  Normal           724.348501          530.912748   \n",
       "201210-1-04  Normal           133.872272           92.740269   \n",
       "\n",
       "             PeakAbsorbance_count  PeakAbsorbance_max  PeakAbsorbance_min  \\\n",
       "SpecID                                                                      \n",
       "201210-1-00                   7.0          230.599170           54.866643   \n",
       "201210-1-01                   6.0          222.768275           87.815553   \n",
       "201210-1-02                   8.0         1210.352024           54.986609   \n",
       "201210-1-03                   8.0         1819.920905          101.029070   \n",
       "201210-1-04                   9.0          343.345169           61.120510   \n",
       "\n",
       "             PeakWidths_mean  PeakWidths_std  PeakWidths_max  PeakWidths_min  \\\n",
       "SpecID                                                                         \n",
       "201210-1-00        95.782670       45.756190      164.382194       48.894505   \n",
       "201210-1-01        87.588739       30.623744      131.433035       50.354572   \n",
       "201210-1-02        60.951009       35.199884      131.019580       33.442479   \n",
       "201210-1-03        59.800100       30.168718      120.018227       32.072450   \n",
       "201210-1-04        76.550049       29.873933      132.252771       31.837470   \n",
       "\n",
       "             PeakProminences_mean  PeakProminences_std  PeakProminences_max  \\\n",
       "SpecID                                                                        \n",
       "201210-1-00             93.842580            42.619639           174.043834   \n",
       "201210-1-01            129.905724            36.985714           185.001568   \n",
       "201210-1-02            337.148841           404.264444          1239.715130   \n",
       "201210-1-03            667.141079           417.608549          1340.414578   \n",
       "201210-1-04            128.451061            68.248661           241.703013   \n",
       "\n",
       "             PeakProminences_min  \n",
       "SpecID                            \n",
       "201210-1-00            47.322760  \n",
       "201210-1-01            95.661545  \n",
       "201210-1-02            49.517882  \n",
       "201210-1-03           104.717517  \n",
       "201210-1-04            63.089181  "
      ]
     },
     "execution_count": 24,
     "metadata": {},
     "output_type": "execute_result"
    }
   ],
   "source": [
    "peak_stats.head()"
   ]
  },
  {
   "cell_type": "code",
   "execution_count": 25,
   "metadata": {},
   "outputs": [
    {
     "name": "stdout",
     "output_type": "stream",
     "text": [
      "ExtraTreesClassifier Cross-Validation Accuracy: 0.6851 +/- 0.0201\n"
     ]
    }
   ],
   "source": [
    "evaluate_extra_trees(peak_stats)"
   ]
  },
  {
   "cell_type": "markdown",
   "metadata": {},
   "source": [
    "##### **Find the best Peak Finding Parameters for the Stat Based Approach**"
   ]
  },
  {
   "cell_type": "code",
   "execution_count": 26,
   "metadata": {},
   "outputs": [
    {
     "ename": "KeyError",
     "evalue": "\"Column(s) ['PeakProminences', 'PeakWidths'] do not exist\"",
     "output_type": "error",
     "traceback": [
      "\u001b[0;31m---------------------------------------------------------------------------\u001b[0m",
      "\u001b[0;31mKeyError\u001b[0m                                  Traceback (most recent call last)",
      "Cell \u001b[0;32mIn[26], line 26\u001b[0m\n\u001b[1;32m     23\u001b[0m peaks_df\n\u001b[1;32m     25\u001b[0m \u001b[38;5;66;03m# Create a new DataFrame for the summary statistics\u001b[39;00m\n\u001b[0;32m---> 26\u001b[0m peak_stats \u001b[38;5;241m=\u001b[39m \u001b[43mpeaks_df\u001b[49m\u001b[38;5;241;43m.\u001b[39;49m\u001b[43mgroupby\u001b[49m\u001b[43m(\u001b[49m\u001b[38;5;124;43m'\u001b[39;49m\u001b[38;5;124;43mSpecID\u001b[39;49m\u001b[38;5;124;43m'\u001b[39;49m\u001b[43m)\u001b[49m\u001b[38;5;241;43m.\u001b[39;49m\u001b[43magg\u001b[49m\u001b[43m(\u001b[49m\u001b[43m{\u001b[49m\n\u001b[1;32m     27\u001b[0m \u001b[43m    \u001b[49m\u001b[38;5;124;43m'\u001b[39;49m\u001b[38;5;124;43mAbsorbance\u001b[39;49m\u001b[38;5;124;43m'\u001b[39;49m\u001b[43m:\u001b[49m\u001b[43m \u001b[49m\u001b[43m[\u001b[49m\u001b[38;5;124;43m'\u001b[39;49m\u001b[38;5;124;43mmean\u001b[39;49m\u001b[38;5;124;43m'\u001b[39;49m\u001b[43m,\u001b[49m\u001b[43m \u001b[49m\u001b[38;5;124;43m'\u001b[39;49m\u001b[38;5;124;43mstd\u001b[39;49m\u001b[38;5;124;43m'\u001b[39;49m\u001b[43m,\u001b[49m\u001b[43m \u001b[49m\u001b[38;5;124;43m'\u001b[39;49m\u001b[38;5;124;43mcount\u001b[39;49m\u001b[38;5;124;43m'\u001b[39;49m\u001b[43m,\u001b[49m\u001b[43m \u001b[49m\u001b[38;5;124;43m'\u001b[39;49m\u001b[38;5;124;43mmax\u001b[39;49m\u001b[38;5;124;43m'\u001b[39;49m\u001b[43m,\u001b[49m\u001b[43m \u001b[49m\u001b[38;5;124;43m'\u001b[39;49m\u001b[38;5;124;43mmin\u001b[39;49m\u001b[38;5;124;43m'\u001b[39;49m\u001b[43m]\u001b[49m\u001b[43m,\u001b[49m\n\u001b[1;32m     28\u001b[0m \u001b[43m    \u001b[49m\u001b[38;5;124;43m'\u001b[39;49m\u001b[38;5;124;43mPeakWidths\u001b[39;49m\u001b[38;5;124;43m'\u001b[39;49m\u001b[43m:\u001b[49m\u001b[43m \u001b[49m\u001b[43m[\u001b[49m\u001b[38;5;124;43m'\u001b[39;49m\u001b[38;5;124;43mmean\u001b[39;49m\u001b[38;5;124;43m'\u001b[39;49m\u001b[43m,\u001b[49m\u001b[43m \u001b[49m\u001b[38;5;124;43m'\u001b[39;49m\u001b[38;5;124;43mstd\u001b[39;49m\u001b[38;5;124;43m'\u001b[39;49m\u001b[43m,\u001b[49m\u001b[43m \u001b[49m\u001b[38;5;124;43m'\u001b[39;49m\u001b[38;5;124;43mmax\u001b[39;49m\u001b[38;5;124;43m'\u001b[39;49m\u001b[43m,\u001b[49m\u001b[43m \u001b[49m\u001b[38;5;124;43m'\u001b[39;49m\u001b[38;5;124;43mmin\u001b[39;49m\u001b[38;5;124;43m'\u001b[39;49m\u001b[43m]\u001b[49m\u001b[43m,\u001b[49m\n\u001b[1;32m     29\u001b[0m \u001b[43m    \u001b[49m\u001b[38;5;124;43m'\u001b[39;49m\u001b[38;5;124;43mPeakProminences\u001b[39;49m\u001b[38;5;124;43m'\u001b[39;49m\u001b[43m:\u001b[49m\u001b[43m \u001b[49m\u001b[43m[\u001b[49m\u001b[38;5;124;43m'\u001b[39;49m\u001b[38;5;124;43mmean\u001b[39;49m\u001b[38;5;124;43m'\u001b[39;49m\u001b[43m,\u001b[49m\u001b[43m \u001b[49m\u001b[38;5;124;43m'\u001b[39;49m\u001b[38;5;124;43mstd\u001b[39;49m\u001b[38;5;124;43m'\u001b[39;49m\u001b[43m,\u001b[49m\u001b[43m \u001b[49m\u001b[38;5;124;43m'\u001b[39;49m\u001b[38;5;124;43mmax\u001b[39;49m\u001b[38;5;124;43m'\u001b[39;49m\u001b[43m,\u001b[49m\u001b[43m \u001b[49m\u001b[38;5;124;43m'\u001b[39;49m\u001b[38;5;124;43mmin\u001b[39;49m\u001b[38;5;124;43m'\u001b[39;49m\u001b[43m]\u001b[49m\n\u001b[1;32m     30\u001b[0m \u001b[43m}\u001b[49m\u001b[43m)\u001b[49m\u001b[38;5;241m.\u001b[39mreset_index()\n\u001b[1;32m     32\u001b[0m \u001b[38;5;66;03m# Flatten the multi-level columns and customize the names\u001b[39;00m\n\u001b[1;32m     33\u001b[0m peak_stats\u001b[38;5;241m.\u001b[39mcolumns \u001b[38;5;241m=\u001b[39m [\u001b[38;5;124m'\u001b[39m\u001b[38;5;124mSpecID\u001b[39m\u001b[38;5;124m'\u001b[39m,\n\u001b[1;32m     34\u001b[0m                       \u001b[38;5;124m'\u001b[39m\u001b[38;5;124mPeakAbsorbance_mean\u001b[39m\u001b[38;5;124m'\u001b[39m, \u001b[38;5;124m'\u001b[39m\u001b[38;5;124mPeakAbsorbance_std\u001b[39m\u001b[38;5;124m'\u001b[39m, \u001b[38;5;124m'\u001b[39m\u001b[38;5;124mPeakAbsorbance_count\u001b[39m\u001b[38;5;124m'\u001b[39m, \u001b[38;5;124m'\u001b[39m\u001b[38;5;124mPeakAbsorbance_max\u001b[39m\u001b[38;5;124m'\u001b[39m, \u001b[38;5;124m'\u001b[39m\u001b[38;5;124mPeakAbsorbance_min\u001b[39m\u001b[38;5;124m'\u001b[39m,\n\u001b[1;32m     35\u001b[0m                       \u001b[38;5;124m'\u001b[39m\u001b[38;5;124mPeakWidths_mean\u001b[39m\u001b[38;5;124m'\u001b[39m, \u001b[38;5;124m'\u001b[39m\u001b[38;5;124mPeakWidths_std\u001b[39m\u001b[38;5;124m'\u001b[39m, \u001b[38;5;124m'\u001b[39m\u001b[38;5;124mPeakWidths_max\u001b[39m\u001b[38;5;124m'\u001b[39m, \u001b[38;5;124m'\u001b[39m\u001b[38;5;124mPeakWidths_min\u001b[39m\u001b[38;5;124m'\u001b[39m,\n\u001b[1;32m     36\u001b[0m                       \u001b[38;5;124m'\u001b[39m\u001b[38;5;124mPeakProminences_mean\u001b[39m\u001b[38;5;124m'\u001b[39m, \u001b[38;5;124m'\u001b[39m\u001b[38;5;124mPeakProminences_std\u001b[39m\u001b[38;5;124m'\u001b[39m, \u001b[38;5;124m'\u001b[39m\u001b[38;5;124mPeakProminences_max\u001b[39m\u001b[38;5;124m'\u001b[39m, \u001b[38;5;124m'\u001b[39m\u001b[38;5;124mPeakProminences_min\u001b[39m\u001b[38;5;124m'\u001b[39m]\n",
      "File \u001b[0;32m~/.local/lib/python3.10/site-packages/pandas/core/groupby/generic.py:1445\u001b[0m, in \u001b[0;36mDataFrameGroupBy.aggregate\u001b[0;34m(self, func, engine, engine_kwargs, *args, **kwargs)\u001b[0m\n\u001b[1;32m   1442\u001b[0m     kwargs[\u001b[38;5;124m\"\u001b[39m\u001b[38;5;124mengine_kwargs\u001b[39m\u001b[38;5;124m\"\u001b[39m] \u001b[38;5;241m=\u001b[39m engine_kwargs\n\u001b[1;32m   1444\u001b[0m op \u001b[38;5;241m=\u001b[39m GroupByApply(\u001b[38;5;28mself\u001b[39m, func, args\u001b[38;5;241m=\u001b[39margs, kwargs\u001b[38;5;241m=\u001b[39mkwargs)\n\u001b[0;32m-> 1445\u001b[0m result \u001b[38;5;241m=\u001b[39m \u001b[43mop\u001b[49m\u001b[38;5;241;43m.\u001b[39;49m\u001b[43magg\u001b[49m\u001b[43m(\u001b[49m\u001b[43m)\u001b[49m\n\u001b[1;32m   1446\u001b[0m \u001b[38;5;28;01mif\u001b[39;00m \u001b[38;5;129;01mnot\u001b[39;00m is_dict_like(func) \u001b[38;5;129;01mand\u001b[39;00m result \u001b[38;5;129;01mis\u001b[39;00m \u001b[38;5;129;01mnot\u001b[39;00m \u001b[38;5;28;01mNone\u001b[39;00m:\n\u001b[1;32m   1447\u001b[0m     \u001b[38;5;66;03m# GH #52849\u001b[39;00m\n\u001b[1;32m   1448\u001b[0m     \u001b[38;5;28;01mif\u001b[39;00m \u001b[38;5;129;01mnot\u001b[39;00m \u001b[38;5;28mself\u001b[39m\u001b[38;5;241m.\u001b[39mas_index \u001b[38;5;129;01mand\u001b[39;00m is_list_like(func):\n",
      "File \u001b[0;32m~/.local/lib/python3.10/site-packages/pandas/core/apply.py:175\u001b[0m, in \u001b[0;36mApply.agg\u001b[0;34m(self)\u001b[0m\n\u001b[1;32m    172\u001b[0m     \u001b[38;5;28;01mreturn\u001b[39;00m \u001b[38;5;28mself\u001b[39m\u001b[38;5;241m.\u001b[39mapply_str()\n\u001b[1;32m    174\u001b[0m \u001b[38;5;28;01mif\u001b[39;00m is_dict_like(func):\n\u001b[0;32m--> 175\u001b[0m     \u001b[38;5;28;01mreturn\u001b[39;00m \u001b[38;5;28;43mself\u001b[39;49m\u001b[38;5;241;43m.\u001b[39;49m\u001b[43magg_dict_like\u001b[49m\u001b[43m(\u001b[49m\u001b[43m)\u001b[49m\n\u001b[1;32m    176\u001b[0m \u001b[38;5;28;01melif\u001b[39;00m is_list_like(func):\n\u001b[1;32m    177\u001b[0m     \u001b[38;5;66;03m# we require a list, but not a 'str'\u001b[39;00m\n\u001b[1;32m    178\u001b[0m     \u001b[38;5;28;01mreturn\u001b[39;00m \u001b[38;5;28mself\u001b[39m\u001b[38;5;241m.\u001b[39magg_list_like()\n",
      "File \u001b[0;32m~/.local/lib/python3.10/site-packages/pandas/core/apply.py:406\u001b[0m, in \u001b[0;36mApply.agg_dict_like\u001b[0;34m(self)\u001b[0m\n\u001b[1;32m    398\u001b[0m \u001b[38;5;28;01mdef\u001b[39;00m \u001b[38;5;21magg_dict_like\u001b[39m(\u001b[38;5;28mself\u001b[39m) \u001b[38;5;241m-\u001b[39m\u001b[38;5;241m>\u001b[39m DataFrame \u001b[38;5;241m|\u001b[39m Series:\n\u001b[1;32m    399\u001b[0m \u001b[38;5;250m    \u001b[39m\u001b[38;5;124;03m\"\"\"\u001b[39;00m\n\u001b[1;32m    400\u001b[0m \u001b[38;5;124;03m    Compute aggregation in the case of a dict-like argument.\u001b[39;00m\n\u001b[1;32m    401\u001b[0m \n\u001b[0;32m   (...)\u001b[0m\n\u001b[1;32m    404\u001b[0m \u001b[38;5;124;03m    Result of aggregation.\u001b[39;00m\n\u001b[1;32m    405\u001b[0m \u001b[38;5;124;03m    \"\"\"\u001b[39;00m\n\u001b[0;32m--> 406\u001b[0m     \u001b[38;5;28;01mreturn\u001b[39;00m \u001b[38;5;28;43mself\u001b[39;49m\u001b[38;5;241;43m.\u001b[39;49m\u001b[43magg_or_apply_dict_like\u001b[49m\u001b[43m(\u001b[49m\u001b[43mop_name\u001b[49m\u001b[38;5;241;43m=\u001b[39;49m\u001b[38;5;124;43m\"\u001b[39;49m\u001b[38;5;124;43magg\u001b[39;49m\u001b[38;5;124;43m\"\u001b[39;49m\u001b[43m)\u001b[49m\n",
      "File \u001b[0;32m~/.local/lib/python3.10/site-packages/pandas/core/apply.py:1390\u001b[0m, in \u001b[0;36mGroupByApply.agg_or_apply_dict_like\u001b[0;34m(self, op_name)\u001b[0m\n\u001b[1;32m   1385\u001b[0m     kwargs\u001b[38;5;241m.\u001b[39mupdate({\u001b[38;5;124m\"\u001b[39m\u001b[38;5;124mengine\u001b[39m\u001b[38;5;124m\"\u001b[39m: engine, \u001b[38;5;124m\"\u001b[39m\u001b[38;5;124mengine_kwargs\u001b[39m\u001b[38;5;124m\"\u001b[39m: engine_kwargs})\n\u001b[1;32m   1387\u001b[0m \u001b[38;5;28;01mwith\u001b[39;00m com\u001b[38;5;241m.\u001b[39mtemp_setattr(\n\u001b[1;32m   1388\u001b[0m     obj, \u001b[38;5;124m\"\u001b[39m\u001b[38;5;124mas_index\u001b[39m\u001b[38;5;124m\"\u001b[39m, \u001b[38;5;28;01mTrue\u001b[39;00m, condition\u001b[38;5;241m=\u001b[39m\u001b[38;5;28mhasattr\u001b[39m(obj, \u001b[38;5;124m\"\u001b[39m\u001b[38;5;124mas_index\u001b[39m\u001b[38;5;124m\"\u001b[39m)\n\u001b[1;32m   1389\u001b[0m ):\n\u001b[0;32m-> 1390\u001b[0m     result_index, result_data \u001b[38;5;241m=\u001b[39m \u001b[38;5;28;43mself\u001b[39;49m\u001b[38;5;241;43m.\u001b[39;49m\u001b[43mcompute_dict_like\u001b[49m\u001b[43m(\u001b[49m\n\u001b[1;32m   1391\u001b[0m \u001b[43m        \u001b[49m\u001b[43mop_name\u001b[49m\u001b[43m,\u001b[49m\u001b[43m \u001b[49m\u001b[43mselected_obj\u001b[49m\u001b[43m,\u001b[49m\u001b[43m \u001b[49m\u001b[43mselection\u001b[49m\u001b[43m,\u001b[49m\u001b[43m \u001b[49m\u001b[43mkwargs\u001b[49m\n\u001b[1;32m   1392\u001b[0m \u001b[43m    \u001b[49m\u001b[43m)\u001b[49m\n\u001b[1;32m   1393\u001b[0m result \u001b[38;5;241m=\u001b[39m \u001b[38;5;28mself\u001b[39m\u001b[38;5;241m.\u001b[39mwrap_results_dict_like(selected_obj, result_index, result_data)\n\u001b[1;32m   1394\u001b[0m \u001b[38;5;28;01mreturn\u001b[39;00m result\n",
      "File \u001b[0;32m~/.local/lib/python3.10/site-packages/pandas/core/apply.py:445\u001b[0m, in \u001b[0;36mApply.compute_dict_like\u001b[0;34m(self, op_name, selected_obj, selection, kwargs)\u001b[0m\n\u001b[1;32m    443\u001b[0m is_groupby \u001b[38;5;241m=\u001b[39m \u001b[38;5;28misinstance\u001b[39m(obj, (DataFrameGroupBy, SeriesGroupBy))\n\u001b[1;32m    444\u001b[0m func \u001b[38;5;241m=\u001b[39m cast(AggFuncTypeDict, \u001b[38;5;28mself\u001b[39m\u001b[38;5;241m.\u001b[39mfunc)\n\u001b[0;32m--> 445\u001b[0m func \u001b[38;5;241m=\u001b[39m \u001b[38;5;28;43mself\u001b[39;49m\u001b[38;5;241;43m.\u001b[39;49m\u001b[43mnormalize_dictlike_arg\u001b[49m\u001b[43m(\u001b[49m\u001b[43mop_name\u001b[49m\u001b[43m,\u001b[49m\u001b[43m \u001b[49m\u001b[43mselected_obj\u001b[49m\u001b[43m,\u001b[49m\u001b[43m \u001b[49m\u001b[43mfunc\u001b[49m\u001b[43m)\u001b[49m\n\u001b[1;32m    447\u001b[0m is_non_unique_col \u001b[38;5;241m=\u001b[39m (\n\u001b[1;32m    448\u001b[0m     selected_obj\u001b[38;5;241m.\u001b[39mndim \u001b[38;5;241m==\u001b[39m \u001b[38;5;241m2\u001b[39m\n\u001b[1;32m    449\u001b[0m     \u001b[38;5;129;01mand\u001b[39;00m selected_obj\u001b[38;5;241m.\u001b[39mcolumns\u001b[38;5;241m.\u001b[39mnunique() \u001b[38;5;241m<\u001b[39m \u001b[38;5;28mlen\u001b[39m(selected_obj\u001b[38;5;241m.\u001b[39mcolumns)\n\u001b[1;32m    450\u001b[0m )\n\u001b[1;32m    452\u001b[0m \u001b[38;5;28;01mif\u001b[39;00m selected_obj\u001b[38;5;241m.\u001b[39mndim \u001b[38;5;241m==\u001b[39m \u001b[38;5;241m1\u001b[39m:\n\u001b[1;32m    453\u001b[0m     \u001b[38;5;66;03m# key only used for output\u001b[39;00m\n",
      "File \u001b[0;32m~/.local/lib/python3.10/site-packages/pandas/core/apply.py:639\u001b[0m, in \u001b[0;36mApply.normalize_dictlike_arg\u001b[0;34m(self, how, obj, func)\u001b[0m\n\u001b[1;32m    637\u001b[0m     cols \u001b[38;5;241m=\u001b[39m Index(\u001b[38;5;28mlist\u001b[39m(func\u001b[38;5;241m.\u001b[39mkeys()))\u001b[38;5;241m.\u001b[39mdifference(obj\u001b[38;5;241m.\u001b[39mcolumns, sort\u001b[38;5;241m=\u001b[39m\u001b[38;5;28;01mTrue\u001b[39;00m)\n\u001b[1;32m    638\u001b[0m     \u001b[38;5;28;01mif\u001b[39;00m \u001b[38;5;28mlen\u001b[39m(cols) \u001b[38;5;241m>\u001b[39m \u001b[38;5;241m0\u001b[39m:\n\u001b[0;32m--> 639\u001b[0m         \u001b[38;5;28;01mraise\u001b[39;00m \u001b[38;5;167;01mKeyError\u001b[39;00m(\u001b[38;5;124mf\u001b[39m\u001b[38;5;124m\"\u001b[39m\u001b[38;5;124mColumn(s) \u001b[39m\u001b[38;5;132;01m{\u001b[39;00m\u001b[38;5;28mlist\u001b[39m(cols)\u001b[38;5;132;01m}\u001b[39;00m\u001b[38;5;124m do not exist\u001b[39m\u001b[38;5;124m\"\u001b[39m)\n\u001b[1;32m    641\u001b[0m aggregator_types \u001b[38;5;241m=\u001b[39m (\u001b[38;5;28mlist\u001b[39m, \u001b[38;5;28mtuple\u001b[39m, \u001b[38;5;28mdict\u001b[39m)\n\u001b[1;32m    643\u001b[0m \u001b[38;5;66;03m# if we have a dict of any non-scalars\u001b[39;00m\n\u001b[1;32m    644\u001b[0m \u001b[38;5;66;03m# eg. {'A' : ['mean']}, normalize all to\u001b[39;00m\n\u001b[1;32m    645\u001b[0m \u001b[38;5;66;03m# be list-likes\u001b[39;00m\n\u001b[1;32m    646\u001b[0m \u001b[38;5;66;03m# Cannot use func.values() because arg may be a Series\u001b[39;00m\n",
      "\u001b[0;31mKeyError\u001b[0m: \"Column(s) ['PeakProminences', 'PeakWidths'] do not exist\""
     ]
    }
   ],
   "source": [
    "peaks = []\n",
    "widths = []\n",
    "prominences = []\n",
    "areas = []\n",
    "\n",
    "# Find the index and width of each peak\n",
    "for _, group in df.groupby('SpecID'):\n",
    "\n",
    "    peak_index, _ = find_peaks(x=group['Absorbance'], distance=distance, prominence=prominence, width=width)\n",
    "\n",
    "    # Calculate the widths of each peak\n",
    "    widths += list(peak_widths(group['Absorbance'], peaks=peak_index, rel_height=0.5)[0])\n",
    "\n",
    "    # Calculate prominence of each peak\n",
    "    prominences += list(peak_prominences(group['Absorbance'], peaks=peak_index)[0])\n",
    "\n",
    "    # Find the index of the peak within the full dataframe\n",
    "    peaks += list(group.iloc[peak_index].index.values)\n",
    "\n",
    "peaks_df = df.iloc[peaks]\n",
    "peaks_df\n",
    "\n",
    "# Create a new DataFrame for the summary statistics\n",
    "peak_stats = peaks_df.groupby('SpecID').agg({\n",
    "    'Absorbance': ['mean', 'std', 'count', 'max', 'min'],\n",
    "    'PeakWidths': ['mean', 'std', 'max', 'min'],\n",
    "    'PeakProminences': ['mean', 'std', 'max', 'min']\n",
    "}).reset_index()\n",
    "\n",
    "# Flatten the multi-level columns and customize the names\n",
    "peak_stats.columns = ['SpecID',\n",
    "                      'PeakAbsorbance_mean', 'PeakAbsorbance_std', 'PeakAbsorbance_count', 'PeakAbsorbance_max', 'PeakAbsorbance_min',\n",
    "                      'PeakWidths_mean', 'PeakWidths_std', 'PeakWidths_max', 'PeakWidths_min',\n",
    "                      'PeakProminences_mean', 'PeakProminences_std', 'PeakProminences_max', 'PeakProminences_min']\n",
    "\n",
    "peak_stats.shape\n",
    "peak_stats = pd.merge(statuses, peak_stats, on='SpecID', how='left')\n",
    "peak_stats = peak_stats.set_index('SpecID')\n",
    "peak_stats = peak_stats.fillna(0)\n",
    "evaluate_extra_trees(peak_stats)"
   ]
  },
  {
   "cell_type": "markdown",
   "metadata": {},
   "source": [
    "#### **2. Creating a uniform Peak Featureset**"
   ]
  },
  {
   "cell_type": "markdown",
   "metadata": {},
   "source": [
    "This aims to create a featureset using peaks within wavenumber intervals."
   ]
  },
  {
   "cell_type": "markdown",
   "metadata": {},
   "source": [
    "First get the peak properties"
   ]
  },
  {
   "cell_type": "code",
   "execution_count": 32,
   "metadata": {},
   "outputs": [
    {
     "name": "stdout",
     "output_type": "stream",
     "text": [
      "24329\n",
      "24329\n",
      "24329\n"
     ]
    },
    {
     "name": "stderr",
     "output_type": "stream",
     "text": [
      "/tmp/ipykernel_2656/1918292714.py:4: SettingWithCopyWarning: \n",
      "A value is trying to be set on a copy of a slice from a DataFrame.\n",
      "Try using .loc[row_indexer,col_indexer] = value instead\n",
      "\n",
      "See the caveats in the documentation: https://pandas.pydata.org/pandas-docs/stable/user_guide/indexing.html#returning-a-view-versus-a-copy\n",
      "  peaks_df['PeakWidths'] = widths\n",
      "/tmp/ipykernel_2656/1918292714.py:5: SettingWithCopyWarning: \n",
      "A value is trying to be set on a copy of a slice from a DataFrame.\n",
      "Try using .loc[row_indexer,col_indexer] = value instead\n",
      "\n",
      "See the caveats in the documentation: https://pandas.pydata.org/pandas-docs/stable/user_guide/indexing.html#returning-a-view-versus-a-copy\n",
      "  peaks_df['PeakProminences'] = prominences\n"
     ]
    }
   ],
   "source": [
    "print(len(peaks))\n",
    "print(len(widths))\n",
    "print(len(prominences))\n",
    "peaks_df['PeakWidths'] = widths\n",
    "peaks_df['PeakProminences'] = prominences"
   ]
  },
  {
   "cell_type": "code",
   "execution_count": 33,
   "metadata": {},
   "outputs": [
    {
     "data": {
      "text/html": [
       "<div>\n",
       "<style scoped>\n",
       "    .dataframe tbody tr th:only-of-type {\n",
       "        vertical-align: middle;\n",
       "    }\n",
       "\n",
       "    .dataframe tbody tr th {\n",
       "        vertical-align: top;\n",
       "    }\n",
       "\n",
       "    .dataframe thead th {\n",
       "        text-align: right;\n",
       "    }\n",
       "</style>\n",
       "<table border=\"1\" class=\"dataframe\">\n",
       "  <thead>\n",
       "    <tr style=\"text-align: right;\">\n",
       "      <th></th>\n",
       "      <th>SpecID</th>\n",
       "      <th>Seq</th>\n",
       "      <th>WaveNumber</th>\n",
       "      <th>SurID</th>\n",
       "      <th>Status</th>\n",
       "      <th>Absorbance</th>\n",
       "      <th>PeakWidths</th>\n",
       "      <th>PeakProminences</th>\n",
       "    </tr>\n",
       "  </thead>\n",
       "  <tbody>\n",
       "    <tr>\n",
       "      <th>113</th>\n",
       "      <td>201210-1-00</td>\n",
       "      <td>113</td>\n",
       "      <td>277.22095</td>\n",
       "      <td>201210-1</td>\n",
       "      <td>Normal</td>\n",
       "      <td>230.599170</td>\n",
       "      <td>70.316585</td>\n",
       "      <td>119.994549</td>\n",
       "    </tr>\n",
       "    <tr>\n",
       "      <th>389</th>\n",
       "      <td>201210-1-00</td>\n",
       "      <td>389</td>\n",
       "      <td>465.83142</td>\n",
       "      <td>201210-1</td>\n",
       "      <td>Normal</td>\n",
       "      <td>54.866643</td>\n",
       "      <td>72.606738</td>\n",
       "      <td>47.322760</td>\n",
       "    </tr>\n",
       "    <tr>\n",
       "      <th>726</th>\n",
       "      <td>201210-1-00</td>\n",
       "      <td>726</td>\n",
       "      <td>696.12756</td>\n",
       "      <td>201210-1</td>\n",
       "      <td>Normal</td>\n",
       "      <td>155.171518</td>\n",
       "      <td>48.894505</td>\n",
       "      <td>174.043834</td>\n",
       "    </tr>\n",
       "    <tr>\n",
       "      <th>1020</th>\n",
       "      <td>201210-1-00</td>\n",
       "      <td>1020</td>\n",
       "      <td>897.03870</td>\n",
       "      <td>201210-1</td>\n",
       "      <td>Normal</td>\n",
       "      <td>86.147696</td>\n",
       "      <td>114.467949</td>\n",
       "      <td>98.489173</td>\n",
       "    </tr>\n",
       "    <tr>\n",
       "      <th>1177</th>\n",
       "      <td>201210-1-00</td>\n",
       "      <td>1177</td>\n",
       "      <td>1004.32800</td>\n",
       "      <td>201210-1</td>\n",
       "      <td>Normal</td>\n",
       "      <td>73.225598</td>\n",
       "      <td>145.119300</td>\n",
       "      <td>81.991657</td>\n",
       "    </tr>\n",
       "  </tbody>\n",
       "</table>\n",
       "</div>"
      ],
      "text/plain": [
       "           SpecID   Seq  WaveNumber     SurID  Status  Absorbance  PeakWidths  \\\n",
       "113   201210-1-00   113   277.22095  201210-1  Normal  230.599170   70.316585   \n",
       "389   201210-1-00   389   465.83142  201210-1  Normal   54.866643   72.606738   \n",
       "726   201210-1-00   726   696.12756  201210-1  Normal  155.171518   48.894505   \n",
       "1020  201210-1-00  1020   897.03870  201210-1  Normal   86.147696  114.467949   \n",
       "1177  201210-1-00  1177  1004.32800  201210-1  Normal   73.225598  145.119300   \n",
       "\n",
       "      PeakProminences  \n",
       "113        119.994549  \n",
       "389         47.322760  \n",
       "726        174.043834  \n",
       "1020        98.489173  \n",
       "1177        81.991657  "
      ]
     },
     "execution_count": 33,
     "metadata": {},
     "output_type": "execute_result"
    }
   ],
   "source": [
    "peaks_df.head()"
   ]
  },
  {
   "cell_type": "markdown",
   "metadata": {},
   "source": [
    "Assign Peaks to bins of a fixed wavelength interval."
   ]
  },
  {
   "cell_type": "code",
   "execution_count": 34,
   "metadata": {},
   "outputs": [
    {
     "name": "stderr",
     "output_type": "stream",
     "text": [
      "/tmp/ipykernel_2656/464682704.py:11: SettingWithCopyWarning: \n",
      "A value is trying to be set on a copy of a slice from a DataFrame.\n",
      "Try using .loc[row_indexer,col_indexer] = value instead\n",
      "\n",
      "See the caveats in the documentation: https://pandas.pydata.org/pandas-docs/stable/user_guide/indexing.html#returning-a-view-versus-a-copy\n",
      "  peaks_df['Bin'] = peaks_df['WaveNumber'].apply(lambda x: calculate_bin_interval(x, bin_size))\n"
     ]
    }
   ],
   "source": [
    "# Define a function to calculate the bin for a given wavenumber with a specified bin size\n",
    "def calculate_bin_interval(wavenumber, bin_size):\n",
    "    bin_start = int((wavenumber - 200) / bin_size) * bin_size + 200\n",
    "    bin_end = bin_start + bin_size\n",
    "    return f\"{bin_start}-{bin_end}\"\n",
    "\n",
    "# Set the bin size\n",
    "bin_size = 25\n",
    "\n",
    "# Add a \"Bin\" column to the DataFrame\n",
    "peaks_df['Bin'] = peaks_df['WaveNumber'].apply(lambda x: calculate_bin_interval(x, bin_size))"
   ]
  },
  {
   "cell_type": "code",
   "execution_count": 35,
   "metadata": {},
   "outputs": [
    {
     "data": {
      "text/html": [
       "<div>\n",
       "<style scoped>\n",
       "    .dataframe tbody tr th:only-of-type {\n",
       "        vertical-align: middle;\n",
       "    }\n",
       "\n",
       "    .dataframe tbody tr th {\n",
       "        vertical-align: top;\n",
       "    }\n",
       "\n",
       "    .dataframe thead th {\n",
       "        text-align: right;\n",
       "    }\n",
       "</style>\n",
       "<table border=\"1\" class=\"dataframe\">\n",
       "  <thead>\n",
       "    <tr style=\"text-align: right;\">\n",
       "      <th></th>\n",
       "      <th>SpecID</th>\n",
       "      <th>Seq</th>\n",
       "      <th>WaveNumber</th>\n",
       "      <th>SurID</th>\n",
       "      <th>Status</th>\n",
       "      <th>Absorbance</th>\n",
       "      <th>PeakWidths</th>\n",
       "      <th>PeakProminences</th>\n",
       "      <th>Bin</th>\n",
       "    </tr>\n",
       "  </thead>\n",
       "  <tbody>\n",
       "    <tr>\n",
       "      <th>113</th>\n",
       "      <td>201210-1-00</td>\n",
       "      <td>113</td>\n",
       "      <td>277.22095</td>\n",
       "      <td>201210-1</td>\n",
       "      <td>Normal</td>\n",
       "      <td>230.599170</td>\n",
       "      <td>70.316585</td>\n",
       "      <td>119.994549</td>\n",
       "      <td>275-300</td>\n",
       "    </tr>\n",
       "    <tr>\n",
       "      <th>389</th>\n",
       "      <td>201210-1-00</td>\n",
       "      <td>389</td>\n",
       "      <td>465.83142</td>\n",
       "      <td>201210-1</td>\n",
       "      <td>Normal</td>\n",
       "      <td>54.866643</td>\n",
       "      <td>72.606738</td>\n",
       "      <td>47.322760</td>\n",
       "      <td>450-475</td>\n",
       "    </tr>\n",
       "    <tr>\n",
       "      <th>726</th>\n",
       "      <td>201210-1-00</td>\n",
       "      <td>726</td>\n",
       "      <td>696.12756</td>\n",
       "      <td>201210-1</td>\n",
       "      <td>Normal</td>\n",
       "      <td>155.171518</td>\n",
       "      <td>48.894505</td>\n",
       "      <td>174.043834</td>\n",
       "      <td>675-700</td>\n",
       "    </tr>\n",
       "    <tr>\n",
       "      <th>1020</th>\n",
       "      <td>201210-1-00</td>\n",
       "      <td>1020</td>\n",
       "      <td>897.03870</td>\n",
       "      <td>201210-1</td>\n",
       "      <td>Normal</td>\n",
       "      <td>86.147696</td>\n",
       "      <td>114.467949</td>\n",
       "      <td>98.489173</td>\n",
       "      <td>875-900</td>\n",
       "    </tr>\n",
       "    <tr>\n",
       "      <th>1177</th>\n",
       "      <td>201210-1-00</td>\n",
       "      <td>1177</td>\n",
       "      <td>1004.32800</td>\n",
       "      <td>201210-1</td>\n",
       "      <td>Normal</td>\n",
       "      <td>73.225598</td>\n",
       "      <td>145.119300</td>\n",
       "      <td>81.991657</td>\n",
       "      <td>1000-1025</td>\n",
       "    </tr>\n",
       "  </tbody>\n",
       "</table>\n",
       "</div>"
      ],
      "text/plain": [
       "           SpecID   Seq  WaveNumber     SurID  Status  Absorbance  PeakWidths  \\\n",
       "113   201210-1-00   113   277.22095  201210-1  Normal  230.599170   70.316585   \n",
       "389   201210-1-00   389   465.83142  201210-1  Normal   54.866643   72.606738   \n",
       "726   201210-1-00   726   696.12756  201210-1  Normal  155.171518   48.894505   \n",
       "1020  201210-1-00  1020   897.03870  201210-1  Normal   86.147696  114.467949   \n",
       "1177  201210-1-00  1177  1004.32800  201210-1  Normal   73.225598  145.119300   \n",
       "\n",
       "      PeakProminences        Bin  \n",
       "113        119.994549    275-300  \n",
       "389         47.322760    450-475  \n",
       "726        174.043834    675-700  \n",
       "1020        98.489173    875-900  \n",
       "1177        81.991657  1000-1025  "
      ]
     },
     "execution_count": 35,
     "metadata": {},
     "output_type": "execute_result"
    }
   ],
   "source": [
    "peaks_df.head()"
   ]
  },
  {
   "cell_type": "markdown",
   "metadata": {},
   "source": [
    "Set the bins as columns with the peak absrobances, widths and prominences as the values.\n",
    "If no peaks appear in a bin the value is set to False.\n",
    "If multiple peaks appear their properties are aggregated."
   ]
  },
  {
   "cell_type": "code",
   "execution_count": 36,
   "metadata": {},
   "outputs": [],
   "source": [
    "# Pivot table with 'Absorbance', 'PeakWidths', and 'PeakProminences' as values\n",
    "peak_bins = peaks_df.pivot_table(index='SpecID', columns='Bin', values=['Absorbance', 'PeakWidths', 'PeakProminences'], aggfunc='mean')\n",
    "peak_bins.columns = [f\"{col[0]}_{col[1]}\" for col in peak_bins.columns]  # Combine column names\n",
    "peak_bins.reset_index(inplace=True)\n",
    "\n",
    "# Merge with 'Status' information\n",
    "statuses = peaks_df[['SpecID', 'Status']].drop_duplicates()\n",
    "peak_bins = pd.merge(peak_bins, statuses, on='SpecID')\n",
    "\n",
    "# Set 'SpecID' as the index\n",
    "peak_bins.set_index('SpecID', inplace=True)\n",
    "\n",
    "# Fill NaN values with False\n",
    "peak_bins.fillna(0, inplace=True)"
   ]
  },
  {
   "cell_type": "code",
   "execution_count": 37,
   "metadata": {},
   "outputs": [
    {
     "data": {
      "text/html": [
       "<div>\n",
       "<style scoped>\n",
       "    .dataframe tbody tr th:only-of-type {\n",
       "        vertical-align: middle;\n",
       "    }\n",
       "\n",
       "    .dataframe tbody tr th {\n",
       "        vertical-align: top;\n",
       "    }\n",
       "\n",
       "    .dataframe thead th {\n",
       "        text-align: right;\n",
       "    }\n",
       "</style>\n",
       "<table border=\"1\" class=\"dataframe\">\n",
       "  <thead>\n",
       "    <tr style=\"text-align: right;\">\n",
       "      <th></th>\n",
       "      <th>Absorbance_1000-1025</th>\n",
       "      <th>Absorbance_1025-1050</th>\n",
       "      <th>Absorbance_1050-1075</th>\n",
       "      <th>Absorbance_1075-1100</th>\n",
       "      <th>Absorbance_1100-1125</th>\n",
       "      <th>Absorbance_1125-1150</th>\n",
       "      <th>Absorbance_1150-1175</th>\n",
       "      <th>Absorbance_1175-1200</th>\n",
       "      <th>Absorbance_1200-1225</th>\n",
       "      <th>Absorbance_1225-1250</th>\n",
       "      <th>...</th>\n",
       "      <th>PeakWidths_775-800</th>\n",
       "      <th>PeakWidths_800-825</th>\n",
       "      <th>PeakWidths_825-850</th>\n",
       "      <th>PeakWidths_850-875</th>\n",
       "      <th>PeakWidths_875-900</th>\n",
       "      <th>PeakWidths_900-925</th>\n",
       "      <th>PeakWidths_925-950</th>\n",
       "      <th>PeakWidths_950-975</th>\n",
       "      <th>PeakWidths_975-1000</th>\n",
       "      <th>Status</th>\n",
       "    </tr>\n",
       "    <tr>\n",
       "      <th>SpecID</th>\n",
       "      <th></th>\n",
       "      <th></th>\n",
       "      <th></th>\n",
       "      <th></th>\n",
       "      <th></th>\n",
       "      <th></th>\n",
       "      <th></th>\n",
       "      <th></th>\n",
       "      <th></th>\n",
       "      <th></th>\n",
       "      <th></th>\n",
       "      <th></th>\n",
       "      <th></th>\n",
       "      <th></th>\n",
       "      <th></th>\n",
       "      <th></th>\n",
       "      <th></th>\n",
       "      <th></th>\n",
       "      <th></th>\n",
       "      <th></th>\n",
       "      <th></th>\n",
       "    </tr>\n",
       "  </thead>\n",
       "  <tbody>\n",
       "    <tr>\n",
       "      <th>201210-1-00</th>\n",
       "      <td>73.225598</td>\n",
       "      <td>0.000000</td>\n",
       "      <td>0.0</td>\n",
       "      <td>0.0</td>\n",
       "      <td>0.0</td>\n",
       "      <td>0.0</td>\n",
       "      <td>0.000000</td>\n",
       "      <td>0.00000</td>\n",
       "      <td>0.0</td>\n",
       "      <td>0.0</td>\n",
       "      <td>...</td>\n",
       "      <td>0.0</td>\n",
       "      <td>0.0</td>\n",
       "      <td>0.0</td>\n",
       "      <td>0.000000</td>\n",
       "      <td>114.467949</td>\n",
       "      <td>0.000000</td>\n",
       "      <td>0.0</td>\n",
       "      <td>0.0</td>\n",
       "      <td>0.0</td>\n",
       "      <td>Normal</td>\n",
       "    </tr>\n",
       "    <tr>\n",
       "      <th>201210-1-01</th>\n",
       "      <td>0.000000</td>\n",
       "      <td>0.000000</td>\n",
       "      <td>0.0</td>\n",
       "      <td>0.0</td>\n",
       "      <td>0.0</td>\n",
       "      <td>0.0</td>\n",
       "      <td>0.000000</td>\n",
       "      <td>0.00000</td>\n",
       "      <td>0.0</td>\n",
       "      <td>0.0</td>\n",
       "      <td>...</td>\n",
       "      <td>0.0</td>\n",
       "      <td>0.0</td>\n",
       "      <td>0.0</td>\n",
       "      <td>0.000000</td>\n",
       "      <td>0.000000</td>\n",
       "      <td>99.589230</td>\n",
       "      <td>0.0</td>\n",
       "      <td>0.0</td>\n",
       "      <td>0.0</td>\n",
       "      <td>Normal</td>\n",
       "    </tr>\n",
       "    <tr>\n",
       "      <th>201210-1-02</th>\n",
       "      <td>0.000000</td>\n",
       "      <td>94.726687</td>\n",
       "      <td>0.0</td>\n",
       "      <td>0.0</td>\n",
       "      <td>0.0</td>\n",
       "      <td>0.0</td>\n",
       "      <td>0.000000</td>\n",
       "      <td>0.00000</td>\n",
       "      <td>0.0</td>\n",
       "      <td>0.0</td>\n",
       "      <td>...</td>\n",
       "      <td>0.0</td>\n",
       "      <td>0.0</td>\n",
       "      <td>0.0</td>\n",
       "      <td>0.000000</td>\n",
       "      <td>0.000000</td>\n",
       "      <td>34.050327</td>\n",
       "      <td>0.0</td>\n",
       "      <td>0.0</td>\n",
       "      <td>0.0</td>\n",
       "      <td>Normal</td>\n",
       "    </tr>\n",
       "    <tr>\n",
       "      <th>201210-1-03</th>\n",
       "      <td>0.000000</td>\n",
       "      <td>0.000000</td>\n",
       "      <td>0.0</td>\n",
       "      <td>0.0</td>\n",
       "      <td>0.0</td>\n",
       "      <td>0.0</td>\n",
       "      <td>516.546765</td>\n",
       "      <td>0.00000</td>\n",
       "      <td>0.0</td>\n",
       "      <td>0.0</td>\n",
       "      <td>...</td>\n",
       "      <td>0.0</td>\n",
       "      <td>0.0</td>\n",
       "      <td>0.0</td>\n",
       "      <td>0.000000</td>\n",
       "      <td>0.000000</td>\n",
       "      <td>59.789868</td>\n",
       "      <td>0.0</td>\n",
       "      <td>0.0</td>\n",
       "      <td>0.0</td>\n",
       "      <td>Normal</td>\n",
       "    </tr>\n",
       "    <tr>\n",
       "      <th>201210-1-04</th>\n",
       "      <td>76.128652</td>\n",
       "      <td>0.000000</td>\n",
       "      <td>0.0</td>\n",
       "      <td>0.0</td>\n",
       "      <td>0.0</td>\n",
       "      <td>0.0</td>\n",
       "      <td>0.000000</td>\n",
       "      <td>61.12051</td>\n",
       "      <td>0.0</td>\n",
       "      <td>0.0</td>\n",
       "      <td>...</td>\n",
       "      <td>0.0</td>\n",
       "      <td>0.0</td>\n",
       "      <td>0.0</td>\n",
       "      <td>132.252771</td>\n",
       "      <td>0.000000</td>\n",
       "      <td>0.000000</td>\n",
       "      <td>0.0</td>\n",
       "      <td>0.0</td>\n",
       "      <td>0.0</td>\n",
       "      <td>Normal</td>\n",
       "    </tr>\n",
       "  </tbody>\n",
       "</table>\n",
       "<p>5 rows × 217 columns</p>\n",
       "</div>"
      ],
      "text/plain": [
       "             Absorbance_1000-1025  Absorbance_1025-1050  Absorbance_1050-1075  \\\n",
       "SpecID                                                                          \n",
       "201210-1-00             73.225598              0.000000                   0.0   \n",
       "201210-1-01              0.000000              0.000000                   0.0   \n",
       "201210-1-02              0.000000             94.726687                   0.0   \n",
       "201210-1-03              0.000000              0.000000                   0.0   \n",
       "201210-1-04             76.128652              0.000000                   0.0   \n",
       "\n",
       "             Absorbance_1075-1100  Absorbance_1100-1125  Absorbance_1125-1150  \\\n",
       "SpecID                                                                          \n",
       "201210-1-00                   0.0                   0.0                   0.0   \n",
       "201210-1-01                   0.0                   0.0                   0.0   \n",
       "201210-1-02                   0.0                   0.0                   0.0   \n",
       "201210-1-03                   0.0                   0.0                   0.0   \n",
       "201210-1-04                   0.0                   0.0                   0.0   \n",
       "\n",
       "             Absorbance_1150-1175  Absorbance_1175-1200  Absorbance_1200-1225  \\\n",
       "SpecID                                                                          \n",
       "201210-1-00              0.000000               0.00000                   0.0   \n",
       "201210-1-01              0.000000               0.00000                   0.0   \n",
       "201210-1-02              0.000000               0.00000                   0.0   \n",
       "201210-1-03            516.546765               0.00000                   0.0   \n",
       "201210-1-04              0.000000              61.12051                   0.0   \n",
       "\n",
       "             Absorbance_1225-1250  ...  PeakWidths_775-800  \\\n",
       "SpecID                             ...                       \n",
       "201210-1-00                   0.0  ...                 0.0   \n",
       "201210-1-01                   0.0  ...                 0.0   \n",
       "201210-1-02                   0.0  ...                 0.0   \n",
       "201210-1-03                   0.0  ...                 0.0   \n",
       "201210-1-04                   0.0  ...                 0.0   \n",
       "\n",
       "             PeakWidths_800-825  PeakWidths_825-850  PeakWidths_850-875  \\\n",
       "SpecID                                                                    \n",
       "201210-1-00                 0.0                 0.0            0.000000   \n",
       "201210-1-01                 0.0                 0.0            0.000000   \n",
       "201210-1-02                 0.0                 0.0            0.000000   \n",
       "201210-1-03                 0.0                 0.0            0.000000   \n",
       "201210-1-04                 0.0                 0.0          132.252771   \n",
       "\n",
       "             PeakWidths_875-900  PeakWidths_900-925  PeakWidths_925-950  \\\n",
       "SpecID                                                                    \n",
       "201210-1-00          114.467949            0.000000                 0.0   \n",
       "201210-1-01            0.000000           99.589230                 0.0   \n",
       "201210-1-02            0.000000           34.050327                 0.0   \n",
       "201210-1-03            0.000000           59.789868                 0.0   \n",
       "201210-1-04            0.000000            0.000000                 0.0   \n",
       "\n",
       "             PeakWidths_950-975  PeakWidths_975-1000  Status  \n",
       "SpecID                                                        \n",
       "201210-1-00                 0.0                  0.0  Normal  \n",
       "201210-1-01                 0.0                  0.0  Normal  \n",
       "201210-1-02                 0.0                  0.0  Normal  \n",
       "201210-1-03                 0.0                  0.0  Normal  \n",
       "201210-1-04                 0.0                  0.0  Normal  \n",
       "\n",
       "[5 rows x 217 columns]"
      ]
     },
     "execution_count": 37,
     "metadata": {},
     "output_type": "execute_result"
    }
   ],
   "source": [
    "peak_bins.head()"
   ]
  },
  {
   "cell_type": "code",
   "execution_count": 38,
   "metadata": {},
   "outputs": [
    {
     "name": "stdout",
     "output_type": "stream",
     "text": [
      "ExtraTreesClassifier Cross-Validation Accuracy: 0.8111 +/- 0.0223\n"
     ]
    }
   ],
   "source": [
    "evaluate_extra_trees(peak_bins)"
   ]
  }
 ],
 "metadata": {
  "kernelspec": {
   "display_name": "Python 3",
   "language": "python",
   "name": "python3"
  },
  "language_info": {
   "codemirror_mode": {
    "name": "ipython",
    "version": 3
   },
   "file_extension": ".py",
   "mimetype": "text/x-python",
   "name": "python",
   "nbconvert_exporter": "python",
   "pygments_lexer": "ipython3",
   "version": "3.10.12"
  }
 },
 "nbformat": 4,
 "nbformat_minor": 2
}
