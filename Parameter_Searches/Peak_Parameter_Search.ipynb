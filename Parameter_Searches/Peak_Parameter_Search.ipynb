{
 "cells": [
  {
   "cell_type": "markdown",
   "metadata": {},
   "source": [
    "#### **Use Grid Search to Find the most Informative Peaks**"
   ]
  },
  {
   "cell_type": "markdown",
   "metadata": {},
   "source": [
    "Import Libraries"
   ]
  },
  {
   "cell_type": "code",
   "execution_count": 1,
   "metadata": {},
   "outputs": [],
   "source": [
    "import pandas as pd\n",
    "from scipy.signal import find_peaks\n",
    "import seaborn as sns\n",
    "import numpy as np\n",
    "from sklearn.ensemble import RandomForestClassifier\n",
    "from sklearn.ensemble import ExtraTreesClassifier\n",
    "from scipy.signal import peak_widths, peak_prominences\n",
    "from sklearn.model_selection import cross_val_score\n",
    "from sklearn.model_selection import KFold, cross_validate\n",
    "from joblib import Parallel, delayed"
   ]
  },
  {
   "cell_type": "markdown",
   "metadata": {},
   "source": [
    "Read the spectral data"
   ]
  },
  {
   "cell_type": "code",
   "execution_count": 2,
   "metadata": {},
   "outputs": [],
   "source": [
    "#df = pd.read_csv(\"../../data/exosomes.raw_spectrum_1.csv\")\n",
    "#df = pd.read_csv(\"../../data/exosomes.raw_spectrum_400-1800.csv\")\n",
    "#df = pd.read_csv(\"../../data/current_clean_spectrum.csv\", index_col=0)\n",
    "df = pd.read_csv(\"../../data/current_clean_spectrum.csv\")"
   ]
  },
  {
   "cell_type": "code",
   "execution_count": 3,
   "metadata": {},
   "outputs": [
    {
     "data": {
      "text/html": [
       "<div>\n",
       "<style scoped>\n",
       "    .dataframe tbody tr th:only-of-type {\n",
       "        vertical-align: middle;\n",
       "    }\n",
       "\n",
       "    .dataframe tbody tr th {\n",
       "        vertical-align: top;\n",
       "    }\n",
       "\n",
       "    .dataframe thead th {\n",
       "        text-align: right;\n",
       "    }\n",
       "</style>\n",
       "<table border=\"1\" class=\"dataframe\">\n",
       "  <thead>\n",
       "    <tr style=\"text-align: right;\">\n",
       "      <th></th>\n",
       "      <th>SpecID</th>\n",
       "      <th>Seq</th>\n",
       "      <th>WaveNumber</th>\n",
       "      <th>SurID</th>\n",
       "      <th>Status</th>\n",
       "      <th>Absorbance</th>\n",
       "    </tr>\n",
       "  </thead>\n",
       "  <tbody>\n",
       "    <tr>\n",
       "      <th>0</th>\n",
       "      <td>201210-1-00</td>\n",
       "      <td>293</td>\n",
       "      <td>400.22778</td>\n",
       "      <td>201210-1</td>\n",
       "      <td>Normal</td>\n",
       "      <td>31.645788</td>\n",
       "    </tr>\n",
       "    <tr>\n",
       "      <th>1</th>\n",
       "      <td>201210-1-00</td>\n",
       "      <td>294</td>\n",
       "      <td>400.91116</td>\n",
       "      <td>201210-1</td>\n",
       "      <td>Normal</td>\n",
       "      <td>31.890799</td>\n",
       "    </tr>\n",
       "    <tr>\n",
       "      <th>2</th>\n",
       "      <td>201210-1-00</td>\n",
       "      <td>295</td>\n",
       "      <td>401.59454</td>\n",
       "      <td>201210-1</td>\n",
       "      <td>Normal</td>\n",
       "      <td>32.060592</td>\n",
       "    </tr>\n",
       "    <tr>\n",
       "      <th>3</th>\n",
       "      <td>201210-1-00</td>\n",
       "      <td>296</td>\n",
       "      <td>402.27789</td>\n",
       "      <td>201210-1</td>\n",
       "      <td>Normal</td>\n",
       "      <td>32.161890</td>\n",
       "    </tr>\n",
       "    <tr>\n",
       "      <th>4</th>\n",
       "      <td>201210-1-00</td>\n",
       "      <td>297</td>\n",
       "      <td>402.96127</td>\n",
       "      <td>201210-1</td>\n",
       "      <td>Normal</td>\n",
       "      <td>32.201418</td>\n",
       "    </tr>\n",
       "    <tr>\n",
       "      <th>...</th>\n",
       "      <td>...</td>\n",
       "      <td>...</td>\n",
       "      <td>...</td>\n",
       "      <td>...</td>\n",
       "      <td>...</td>\n",
       "      <td>...</td>\n",
       "    </tr>\n",
       "    <tr>\n",
       "      <th>6239200</th>\n",
       "      <td>210526-3-09</td>\n",
       "      <td>2337</td>\n",
       "      <td>1797.03870</td>\n",
       "      <td>210526-3</td>\n",
       "      <td>Hyperglycemia</td>\n",
       "      <td>-17.773341</td>\n",
       "    </tr>\n",
       "    <tr>\n",
       "      <th>6239201</th>\n",
       "      <td>210526-3-09</td>\n",
       "      <td>2338</td>\n",
       "      <td>1797.72200</td>\n",
       "      <td>210526-3</td>\n",
       "      <td>Hyperglycemia</td>\n",
       "      <td>-16.954783</td>\n",
       "    </tr>\n",
       "    <tr>\n",
       "      <th>6239202</th>\n",
       "      <td>210526-3-09</td>\n",
       "      <td>2339</td>\n",
       "      <td>1798.40550</td>\n",
       "      <td>210526-3</td>\n",
       "      <td>Hyperglycemia</td>\n",
       "      <td>-16.058237</td>\n",
       "    </tr>\n",
       "    <tr>\n",
       "      <th>6239203</th>\n",
       "      <td>210526-3-09</td>\n",
       "      <td>2340</td>\n",
       "      <td>1799.08890</td>\n",
       "      <td>210526-3</td>\n",
       "      <td>Hyperglycemia</td>\n",
       "      <td>-15.079158</td>\n",
       "    </tr>\n",
       "    <tr>\n",
       "      <th>6239204</th>\n",
       "      <td>210526-3-09</td>\n",
       "      <td>2341</td>\n",
       "      <td>1799.77220</td>\n",
       "      <td>210526-3</td>\n",
       "      <td>Hyperglycemia</td>\n",
       "      <td>-14.013007</td>\n",
       "    </tr>\n",
       "  </tbody>\n",
       "</table>\n",
       "<p>6239205 rows × 6 columns</p>\n",
       "</div>"
      ],
      "text/plain": [
       "              SpecID   Seq  WaveNumber     SurID         Status  Absorbance\n",
       "0        201210-1-00   293   400.22778  201210-1         Normal   31.645788\n",
       "1        201210-1-00   294   400.91116  201210-1         Normal   31.890799\n",
       "2        201210-1-00   295   401.59454  201210-1         Normal   32.060592\n",
       "3        201210-1-00   296   402.27789  201210-1         Normal   32.161890\n",
       "4        201210-1-00   297   402.96127  201210-1         Normal   32.201418\n",
       "...              ...   ...         ...       ...            ...         ...\n",
       "6239200  210526-3-09  2337  1797.03870  210526-3  Hyperglycemia  -17.773341\n",
       "6239201  210526-3-09  2338  1797.72200  210526-3  Hyperglycemia  -16.954783\n",
       "6239202  210526-3-09  2339  1798.40550  210526-3  Hyperglycemia  -16.058237\n",
       "6239203  210526-3-09  2340  1799.08890  210526-3  Hyperglycemia  -15.079158\n",
       "6239204  210526-3-09  2341  1799.77220  210526-3  Hyperglycemia  -14.013007\n",
       "\n",
       "[6239205 rows x 6 columns]"
      ]
     },
     "execution_count": 3,
     "metadata": {},
     "output_type": "execute_result"
    }
   ],
   "source": [
    "df"
   ]
  },
  {
   "cell_type": "markdown",
   "metadata": {},
   "source": [
    "#### **1 Sample Examples**"
   ]
  },
  {
   "cell_type": "code",
   "execution_count": 4,
   "metadata": {},
   "outputs": [
    {
     "name": "stdout",
     "output_type": "stream",
     "text": [
      "              SpecID   Seq  WaveNumber     SurID         Status  Absorbance\n",
      "6206421  210526-3-04   293   400.22778  210526-3  Hyperglycemia    0.828610\n",
      "6206422  210526-3-04   294   400.91116  210526-3  Hyperglycemia   10.985219\n",
      "6206423  210526-3-04   295   401.59454  210526-3  Hyperglycemia   19.483125\n",
      "6206424  210526-3-04   296   402.27789  210526-3  Hyperglycemia   26.425142\n",
      "6206425  210526-3-04   297   402.96127  210526-3  Hyperglycemia   31.914082\n",
      "...              ...   ...         ...       ...            ...         ...\n",
      "6208465  210526-3-04  2337  1797.03870  210526-3  Hyperglycemia  -26.713419\n",
      "6208466  210526-3-04  2338  1797.72200  210526-3  Hyperglycemia  -26.432244\n",
      "6208467  210526-3-04  2339  1798.40550  210526-3  Hyperglycemia  -26.273720\n",
      "6208468  210526-3-04  2340  1799.08890  210526-3  Hyperglycemia  -26.248190\n",
      "6208469  210526-3-04  2341  1799.77220  210526-3  Hyperglycemia  -26.365997\n",
      "\n",
      "[2049 rows x 6 columns]\n"
     ]
    }
   ],
   "source": [
    "sample = df[df['SpecID'] == \"210526-3-04\"]\n",
    "print(sample)"
   ]
  },
  {
   "cell_type": "markdown",
   "metadata": {},
   "source": [
    "Find Peaks Within the spectrum."
   ]
  },
  {
   "cell_type": "code",
   "execution_count": 5,
   "metadata": {},
   "outputs": [],
   "source": [
    "#peaks, _ = find_peaks(x=sample['Absorbance'], distance=152, prominence=42, width=6)\n",
    "peaks, _ = find_peaks(x=sample['Absorbance'])"
   ]
  },
  {
   "cell_type": "code",
   "execution_count": 6,
   "metadata": {},
   "outputs": [
    {
     "name": "stderr",
     "output_type": "stream",
     "text": [
      "c:\\Users\\FX 8320\\AppData\\Local\\Programs\\Python\\Python311\\Lib\\site-packages\\seaborn\\_oldcore.py:1119: FutureWarning: use_inf_as_na option is deprecated and will be removed in a future version. Convert inf values to NaN before operating instead.\n",
      "  with pd.option_context('mode.use_inf_as_na', True):\n",
      "c:\\Users\\FX 8320\\AppData\\Local\\Programs\\Python\\Python311\\Lib\\site-packages\\seaborn\\_oldcore.py:1119: FutureWarning: use_inf_as_na option is deprecated and will be removed in a future version. Convert inf values to NaN before operating instead.\n",
      "  with pd.option_context('mode.use_inf_as_na', True):\n"
     ]
    },
    {
     "data": {
      "text/plain": [
       "<AxesSubplot: xlabel='WaveNumber', ylabel='Absorbance'>"
      ]
     },
     "execution_count": 6,
     "metadata": {},
     "output_type": "execute_result"
    },
    {
     "data": {
      "image/png": "[encoded data removed]",
      "text/plain": [
       "<Figure size 640x480 with 1 Axes>"
      ]
     },
     "metadata": {},
     "output_type": "display_data"
    }
   ],
   "source": [
    "sns.lineplot(x=\"WaveNumber\", y=\"Absorbance\", data=sample)\n",
    "sns.scatterplot(data=sample.iloc[peaks], x=\"WaveNumber\", y=\"Absorbance\", color=\"red\")"
   ]
  },
  {
   "cell_type": "markdown",
   "metadata": {},
   "source": [
    "As you can see, it does not properly find the peaks, so we have to tune the peak finding parameters."
   ]
  },
  {
   "cell_type": "markdown",
   "metadata": {},
   "source": [
    "These parameters are based on Thomas Keogh's Search"
   ]
  },
  {
   "cell_type": "code",
   "execution_count": 7,
   "metadata": {},
   "outputs": [],
   "source": [
    "tuned_peaks, _ = find_peaks(x=sample['Absorbance'], distance=152, prominence=42, width=6)"
   ]
  },
  {
   "cell_type": "code",
   "execution_count": 8,
   "metadata": {},
   "outputs": [
    {
     "name": "stderr",
     "output_type": "stream",
     "text": [
      "c:\\Users\\FX 8320\\AppData\\Local\\Programs\\Python\\Python311\\Lib\\site-packages\\seaborn\\_oldcore.py:1119: FutureWarning: use_inf_as_na option is deprecated and will be removed in a future version. Convert inf values to NaN before operating instead.\n",
      "  with pd.option_context('mode.use_inf_as_na', True):\n",
      "c:\\Users\\FX 8320\\AppData\\Local\\Programs\\Python\\Python311\\Lib\\site-packages\\seaborn\\_oldcore.py:1119: FutureWarning: use_inf_as_na option is deprecated and will be removed in a future version. Convert inf values to NaN before operating instead.\n",
      "  with pd.option_context('mode.use_inf_as_na', True):\n"
     ]
    },
    {
     "data": {
      "text/plain": [
       "<AxesSubplot: xlabel='WaveNumber', ylabel='Absorbance'>"
      ]
     },
     "execution_count": 8,
     "metadata": {},
     "output_type": "execute_result"
    },
    {
     "data": {
      "image/png": "[encoded data removed]",
      "text/plain": [
       "<Figure size 640x480 with 1 Axes>"
      ]
     },
     "metadata": {},
     "output_type": "display_data"
    }
   ],
   "source": [
    "sns.lineplot(x=\"WaveNumber\", y=\"Absorbance\", data=sample)\n",
    "sns.scatterplot(data=sample.iloc[tuned_peaks], x=\"WaveNumber\", y=\"Absorbance\", color=\"red\")"
   ]
  },
  {
   "cell_type": "markdown",
   "metadata": {},
   "source": [
    "#### **Find the best Peak Finding Parameters**"
   ]
  },
  {
   "cell_type": "markdown",
   "metadata": {},
   "source": [
    "Create a field for each wavelength."
   ]
  },
  {
   "cell_type": "markdown",
   "metadata": {},
   "source": [
    "Train an Extra Trees Classifier"
   ]
  },
  {
   "cell_type": "code",
   "execution_count": 9,
   "metadata": {},
   "outputs": [],
   "source": [
    "def evaluate_extra_trees(df):\n",
    "    # Splitting the dataframe into features (X) and target variable (y)\n",
    "    X = df.drop(['Status'], axis=1)\n",
    "    y = df['Status']\n",
    "    \n",
    "    # Creating the Extra Trees classifier\n",
    "    et = ExtraTreesClassifier(random_state=1234)\n",
    "    \n",
    "    # Using StratifiedKFold for classification tasks\n",
    "    #cv = StratifiedKFold(n_splits=10, shuffle=True, random_state=1234)\n",
    "    cv = KFold(n_splits=10, shuffle=True, random_state=1234)\n",
    "    \n",
    "    # Getting cross-validation scores\n",
    "    scores = cross_val_score(et, X, y, cv=cv, scoring='accuracy')\n",
    "    \n",
    "    # Displaying the results\n",
    "    print(f'{et.__class__.__name__} Cross-Validation Accuracy: {np.mean(scores):.4f} +/- {np.std(scores):.4f}')"
   ]
  },
  {
   "cell_type": "markdown",
   "metadata": {},
   "source": [
    "#### **1. Using Peak Statistics**"
   ]
  },
  {
   "cell_type": "code",
   "execution_count": 10,
   "metadata": {},
   "outputs": [],
   "source": [
    "backup = df"
   ]
  },
  {
   "cell_type": "code",
   "execution_count": 11,
   "metadata": {},
   "outputs": [],
   "source": [
    "statuses = df[['SpecID', 'Status']].drop_duplicates()"
   ]
  },
  {
   "cell_type": "markdown",
   "metadata": {},
   "source": [
    "This uses statistical properties of the peaks in each sample to be used as additional features."
   ]
  },
  {
   "cell_type": "code",
   "execution_count": 12,
   "metadata": {},
   "outputs": [
    {
     "name": "stderr",
     "output_type": "stream",
     "text": [
      "C:\\Users\\FX 8320\\AppData\\Local\\Temp\\ipykernel_20408\\3839389258.py:22: SettingWithCopyWarning: \n",
      "A value is trying to be set on a copy of a slice from a DataFrame.\n",
      "Try using .loc[row_indexer,col_indexer] = value instead\n",
      "\n",
      "See the caveats in the documentation: https://pandas.pydata.org/pandas-docs/stable/user_guide/indexing.html#returning-a-view-versus-a-copy\n",
      "  peaks_df['PeakWidths'] = widths\n",
      "C:\\Users\\FX 8320\\AppData\\Local\\Temp\\ipykernel_20408\\3839389258.py:23: SettingWithCopyWarning: \n",
      "A value is trying to be set on a copy of a slice from a DataFrame.\n",
      "Try using .loc[row_indexer,col_indexer] = value instead\n",
      "\n",
      "See the caveats in the documentation: https://pandas.pydata.org/pandas-docs/stable/user_guide/indexing.html#returning-a-view-versus-a-copy\n",
      "  peaks_df['PeakProminences'] = prominences\n"
     ]
    }
   ],
   "source": [
    "peaks = []\n",
    "widths = []\n",
    "prominences = []\n",
    "\n",
    "# Find the index and width of each peak\n",
    "for _, group in df.groupby('SpecID'):\n",
    "\n",
    "    #peak_index, _ = find_peaks(x=group['Absorbance'], distance=152, prominence=42, width=6)\n",
    "    peak_index, _ = find_peaks(x=group['Absorbance'])\n",
    "\n",
    "\n",
    "    # Calculate the widths of each peak\n",
    "    widths += list(peak_widths(group['Absorbance'], peaks=peak_index, rel_height=0.5)[0])\n",
    "\n",
    "    # Calculate prominence of each peak\n",
    "    prominences += list(peak_prominences(group['Absorbance'], peaks=peak_index)[0])\n",
    "\n",
    "    # Find the index of the peak within the full dataframe\n",
    "    peaks += list(group.iloc[peak_index].index.values)\n",
    "\n",
    "peaks_df = df.iloc[peaks]\n",
    "peaks_df['PeakWidths'] = widths\n",
    "peaks_df['PeakProminences'] = prominences"
   ]
  },
  {
   "cell_type": "code",
   "execution_count": 13,
   "metadata": {},
   "outputs": [
    {
     "data": {
      "text/html": [
       "<div>\n",
       "<style scoped>\n",
       "    .dataframe tbody tr th:only-of-type {\n",
       "        vertical-align: middle;\n",
       "    }\n",
       "\n",
       "    .dataframe tbody tr th {\n",
       "        vertical-align: top;\n",
       "    }\n",
       "\n",
       "    .dataframe thead th {\n",
       "        text-align: right;\n",
       "    }\n",
       "</style>\n",
       "<table border=\"1\" class=\"dataframe\">\n",
       "  <thead>\n",
       "    <tr style=\"text-align: right;\">\n",
       "      <th></th>\n",
       "      <th>SpecID</th>\n",
       "      <th>Seq</th>\n",
       "      <th>WaveNumber</th>\n",
       "      <th>SurID</th>\n",
       "      <th>Status</th>\n",
       "      <th>Absorbance</th>\n",
       "      <th>PeakWidths</th>\n",
       "      <th>PeakProminences</th>\n",
       "    </tr>\n",
       "  </thead>\n",
       "  <tbody>\n",
       "    <tr>\n",
       "      <th>4</th>\n",
       "      <td>201210-1-00</td>\n",
       "      <td>297</td>\n",
       "      <td>402.96127</td>\n",
       "      <td>201210-1</td>\n",
       "      <td>Normal</td>\n",
       "      <td>32.201418</td>\n",
       "      <td>6.469735</td>\n",
       "      <td>0.555630</td>\n",
       "    </tr>\n",
       "    <tr>\n",
       "      <th>20</th>\n",
       "      <td>201210-1-00</td>\n",
       "      <td>313</td>\n",
       "      <td>413.89520</td>\n",
       "      <td>201210-1</td>\n",
       "      <td>Normal</td>\n",
       "      <td>32.744039</td>\n",
       "      <td>0.609705</td>\n",
       "      <td>0.127398</td>\n",
       "    </tr>\n",
       "    <tr>\n",
       "      <th>23</th>\n",
       "      <td>201210-1-00</td>\n",
       "      <td>316</td>\n",
       "      <td>415.94534</td>\n",
       "      <td>201210-1</td>\n",
       "      <td>Normal</td>\n",
       "      <td>33.376393</td>\n",
       "      <td>4.920541</td>\n",
       "      <td>3.222732</td>\n",
       "    </tr>\n",
       "    <tr>\n",
       "      <th>26</th>\n",
       "      <td>201210-1-00</td>\n",
       "      <td>319</td>\n",
       "      <td>417.99545</td>\n",
       "      <td>201210-1</td>\n",
       "      <td>Normal</td>\n",
       "      <td>30.872730</td>\n",
       "      <td>0.862466</td>\n",
       "      <td>0.374425</td>\n",
       "    </tr>\n",
       "    <tr>\n",
       "      <th>31</th>\n",
       "      <td>201210-1-00</td>\n",
       "      <td>324</td>\n",
       "      <td>421.41229</td>\n",
       "      <td>201210-1</td>\n",
       "      <td>Normal</td>\n",
       "      <td>28.645988</td>\n",
       "      <td>2.275627</td>\n",
       "      <td>1.255784</td>\n",
       "    </tr>\n",
       "    <tr>\n",
       "      <th>...</th>\n",
       "      <td>...</td>\n",
       "      <td>...</td>\n",
       "      <td>...</td>\n",
       "      <td>...</td>\n",
       "      <td>...</td>\n",
       "      <td>...</td>\n",
       "      <td>...</td>\n",
       "      <td>...</td>\n",
       "    </tr>\n",
       "    <tr>\n",
       "      <th>6228917</th>\n",
       "      <td>210526-3-49</td>\n",
       "      <td>2299</td>\n",
       "      <td>1771.07060</td>\n",
       "      <td>210526-3</td>\n",
       "      <td>Hyperglycemia</td>\n",
       "      <td>-9.144178</td>\n",
       "      <td>8.010987</td>\n",
       "      <td>3.079292</td>\n",
       "    </tr>\n",
       "    <tr>\n",
       "      <th>6228922</th>\n",
       "      <td>210526-3-49</td>\n",
       "      <td>2304</td>\n",
       "      <td>1774.48740</td>\n",
       "      <td>210526-3</td>\n",
       "      <td>Hyperglycemia</td>\n",
       "      <td>-10.204847</td>\n",
       "      <td>1.683529</td>\n",
       "      <td>0.643009</td>\n",
       "    </tr>\n",
       "    <tr>\n",
       "      <th>6228931</th>\n",
       "      <td>210526-3-49</td>\n",
       "      <td>2313</td>\n",
       "      <td>1780.63780</td>\n",
       "      <td>210526-3</td>\n",
       "      <td>Hyperglycemia</td>\n",
       "      <td>-13.651002</td>\n",
       "      <td>1.039733</td>\n",
       "      <td>1.138803</td>\n",
       "    </tr>\n",
       "    <tr>\n",
       "      <th>6228939</th>\n",
       "      <td>210526-3-49</td>\n",
       "      <td>2321</td>\n",
       "      <td>1786.10470</td>\n",
       "      <td>210526-3</td>\n",
       "      <td>Hyperglycemia</td>\n",
       "      <td>-17.688128</td>\n",
       "      <td>0.792396</td>\n",
       "      <td>0.099836</td>\n",
       "    </tr>\n",
       "    <tr>\n",
       "      <th>6228942</th>\n",
       "      <td>210526-3-49</td>\n",
       "      <td>2324</td>\n",
       "      <td>1788.15490</td>\n",
       "      <td>210526-3</td>\n",
       "      <td>Hyperglycemia</td>\n",
       "      <td>-18.558192</td>\n",
       "      <td>0.505104</td>\n",
       "      <td>0.002310</td>\n",
       "    </tr>\n",
       "  </tbody>\n",
       "</table>\n",
       "<p>511580 rows × 8 columns</p>\n",
       "</div>"
      ],
      "text/plain": [
       "              SpecID   Seq  WaveNumber     SurID         Status  Absorbance  \\\n",
       "4        201210-1-00   297   402.96127  201210-1         Normal   32.201418   \n",
       "20       201210-1-00   313   413.89520  201210-1         Normal   32.744039   \n",
       "23       201210-1-00   316   415.94534  201210-1         Normal   33.376393   \n",
       "26       201210-1-00   319   417.99545  201210-1         Normal   30.872730   \n",
       "31       201210-1-00   324   421.41229  201210-1         Normal   28.645988   \n",
       "...              ...   ...         ...       ...            ...         ...   \n",
       "6228917  210526-3-49  2299  1771.07060  210526-3  Hyperglycemia   -9.144178   \n",
       "6228922  210526-3-49  2304  1774.48740  210526-3  Hyperglycemia  -10.204847   \n",
       "6228931  210526-3-49  2313  1780.63780  210526-3  Hyperglycemia  -13.651002   \n",
       "6228939  210526-3-49  2321  1786.10470  210526-3  Hyperglycemia  -17.688128   \n",
       "6228942  210526-3-49  2324  1788.15490  210526-3  Hyperglycemia  -18.558192   \n",
       "\n",
       "         PeakWidths  PeakProminences  \n",
       "4          6.469735         0.555630  \n",
       "20         0.609705         0.127398  \n",
       "23         4.920541         3.222732  \n",
       "26         0.862466         0.374425  \n",
       "31         2.275627         1.255784  \n",
       "...             ...              ...  \n",
       "6228917    8.010987         3.079292  \n",
       "6228922    1.683529         0.643009  \n",
       "6228931    1.039733         1.138803  \n",
       "6228939    0.792396         0.099836  \n",
       "6228942    0.505104         0.002310  \n",
       "\n",
       "[511580 rows x 8 columns]"
      ]
     },
     "execution_count": 13,
     "metadata": {},
     "output_type": "execute_result"
    }
   ],
   "source": [
    "peaks_df"
   ]
  },
  {
   "cell_type": "code",
   "execution_count": 14,
   "metadata": {},
   "outputs": [],
   "source": [
    "#sns.scatterplot(data=peaks_df, x=\"WaveNumber\", y=\"Absorbance\", hue='Status')"
   ]
  },
  {
   "cell_type": "markdown",
   "metadata": {},
   "source": [
    "Standard Deviation of the Absorbances appears to have a positive affect on accuracy."
   ]
  },
  {
   "cell_type": "code",
   "execution_count": 15,
   "metadata": {},
   "outputs": [],
   "source": [
    "# Create a new DataFrame for the summary statistics\n",
    "peak_stats = peaks_df.groupby('SpecID').agg({\n",
    "    'Absorbance': ['mean', 'std', 'count', 'max', 'min'],\n",
    "    'PeakWidths': ['mean', 'std', 'max', 'min'],\n",
    "    'PeakProminences': ['mean', 'std', 'max', 'min']\n",
    "}).reset_index()\n",
    "\n",
    "# Flatten the multi-level columns and customize the names\n",
    "peak_stats.columns = ['SpecID',\n",
    "                      'PeakAbsorbance_mean', 'PeakAbsorbance_std', 'PeakAbsorbance_count', 'PeakAbsorbance_max', 'PeakAbsorbance_min',\n",
    "                      'PeakWidths_mean', 'PeakWidths_std', 'PeakWidths_max', 'PeakWidths_min',\n",
    "                      'PeakProminences_mean', 'PeakProminences_std', 'PeakProminences_max', 'PeakProminences_min']"
   ]
  },
  {
   "cell_type": "code",
   "execution_count": 16,
   "metadata": {},
   "outputs": [],
   "source": [
    "# # Create a new DataFrame for the summary statistics\n",
    "# peak_stats = peaks_df.groupby('SpecID').agg({\n",
    "#     'PeakWidths': ['mean', 'std', 'max', 'min'],\n",
    "#     'PeakProminences': ['mean', 'std', 'max', 'min']\n",
    "# }).reset_index()\n",
    "\n",
    "# # Flatten the multi-level columns and customize the names\n",
    "# peak_stats.columns = ['SpecID',\n",
    "#                       'PeakWidths_mean', 'PeakWidths_std', 'PeakWidths_max', 'PeakWidths_min',\n",
    "#                       'PeakProminences_mean', 'PeakProminences_std', 'PeakProminences_max', 'PeakProminences_min']"
   ]
  },
  {
   "cell_type": "markdown",
   "metadata": {},
   "source": [
    "Sometimes not every sample has a peak."
   ]
  },
  {
   "cell_type": "code",
   "execution_count": 17,
   "metadata": {},
   "outputs": [
    {
     "data": {
      "text/html": [
       "<div>\n",
       "<style scoped>\n",
       "    .dataframe tbody tr th:only-of-type {\n",
       "        vertical-align: middle;\n",
       "    }\n",
       "\n",
       "    .dataframe tbody tr th {\n",
       "        vertical-align: top;\n",
       "    }\n",
       "\n",
       "    .dataframe thead th {\n",
       "        text-align: right;\n",
       "    }\n",
       "</style>\n",
       "<table border=\"1\" class=\"dataframe\">\n",
       "  <thead>\n",
       "    <tr style=\"text-align: right;\">\n",
       "      <th></th>\n",
       "      <th>SpecID</th>\n",
       "      <th>PeakAbsorbance_mean</th>\n",
       "      <th>PeakAbsorbance_std</th>\n",
       "      <th>PeakAbsorbance_count</th>\n",
       "      <th>PeakAbsorbance_max</th>\n",
       "      <th>PeakAbsorbance_min</th>\n",
       "      <th>PeakWidths_mean</th>\n",
       "      <th>PeakWidths_std</th>\n",
       "      <th>PeakWidths_max</th>\n",
       "      <th>PeakWidths_min</th>\n",
       "      <th>PeakProminences_mean</th>\n",
       "      <th>PeakProminences_std</th>\n",
       "      <th>PeakProminences_max</th>\n",
       "      <th>PeakProminences_min</th>\n",
       "    </tr>\n",
       "  </thead>\n",
       "  <tbody>\n",
       "    <tr>\n",
       "      <th>0</th>\n",
       "      <td>201210-1-00</td>\n",
       "      <td>33.590344</td>\n",
       "      <td>34.594272</td>\n",
       "      <td>251</td>\n",
       "      <td>159.095461</td>\n",
       "      <td>-26.402516</td>\n",
       "      <td>5.051673</td>\n",
       "      <td>16.769826</td>\n",
       "      <td>200.216791</td>\n",
       "      <td>0.502550</td>\n",
       "      <td>4.483874</td>\n",
       "      <td>18.800052</td>\n",
       "      <td>169.775455</td>\n",
       "      <td>0.002746</td>\n",
       "    </tr>\n",
       "    <tr>\n",
       "      <th>1</th>\n",
       "      <td>201210-1-01</td>\n",
       "      <td>36.490851</td>\n",
       "      <td>44.288630</td>\n",
       "      <td>216</td>\n",
       "      <td>206.147390</td>\n",
       "      <td>-32.590469</td>\n",
       "      <td>5.117660</td>\n",
       "      <td>14.065389</td>\n",
       "      <td>147.630935</td>\n",
       "      <td>0.503152</td>\n",
       "      <td>6.393594</td>\n",
       "      <td>26.533805</td>\n",
       "      <td>223.590382</td>\n",
       "      <td>0.006419</td>\n",
       "    </tr>\n",
       "    <tr>\n",
       "      <th>2</th>\n",
       "      <td>201210-1-02</td>\n",
       "      <td>63.466734</td>\n",
       "      <td>129.274420</td>\n",
       "      <td>182</td>\n",
       "      <td>1464.499730</td>\n",
       "      <td>-79.027032</td>\n",
       "      <td>4.775708</td>\n",
       "      <td>9.892271</td>\n",
       "      <td>55.950546</td>\n",
       "      <td>0.503520</td>\n",
       "      <td>18.547456</td>\n",
       "      <td>123.894318</td>\n",
       "      <td>1499.356120</td>\n",
       "      <td>0.010434</td>\n",
       "    </tr>\n",
       "    <tr>\n",
       "      <th>3</th>\n",
       "      <td>201210-1-03</td>\n",
       "      <td>100.391970</td>\n",
       "      <td>182.055250</td>\n",
       "      <td>151</td>\n",
       "      <td>998.434555</td>\n",
       "      <td>-113.170559</td>\n",
       "      <td>5.440494</td>\n",
       "      <td>11.403335</td>\n",
       "      <td>63.376129</td>\n",
       "      <td>0.501245</td>\n",
       "      <td>29.869794</td>\n",
       "      <td>146.267824</td>\n",
       "      <td>1060.096242</td>\n",
       "      <td>0.004750</td>\n",
       "    </tr>\n",
       "    <tr>\n",
       "      <th>4</th>\n",
       "      <td>201210-1-04</td>\n",
       "      <td>64.777083</td>\n",
       "      <td>71.300565</td>\n",
       "      <td>215</td>\n",
       "      <td>306.678766</td>\n",
       "      <td>-55.324916</td>\n",
       "      <td>5.716222</td>\n",
       "      <td>18.453179</td>\n",
       "      <td>197.787362</td>\n",
       "      <td>0.501506</td>\n",
       "      <td>7.107753</td>\n",
       "      <td>31.103420</td>\n",
       "      <td>363.817836</td>\n",
       "      <td>0.001538</td>\n",
       "    </tr>\n",
       "  </tbody>\n",
       "</table>\n",
       "</div>"
      ],
      "text/plain": [
       "        SpecID  PeakAbsorbance_mean  PeakAbsorbance_std  PeakAbsorbance_count  \\\n",
       "0  201210-1-00            33.590344           34.594272                   251   \n",
       "1  201210-1-01            36.490851           44.288630                   216   \n",
       "2  201210-1-02            63.466734          129.274420                   182   \n",
       "3  201210-1-03           100.391970          182.055250                   151   \n",
       "4  201210-1-04            64.777083           71.300565                   215   \n",
       "\n",
       "   PeakAbsorbance_max  PeakAbsorbance_min  PeakWidths_mean  PeakWidths_std  \\\n",
       "0          159.095461          -26.402516         5.051673       16.769826   \n",
       "1          206.147390          -32.590469         5.117660       14.065389   \n",
       "2         1464.499730          -79.027032         4.775708        9.892271   \n",
       "3          998.434555         -113.170559         5.440494       11.403335   \n",
       "4          306.678766          -55.324916         5.716222       18.453179   \n",
       "\n",
       "   PeakWidths_max  PeakWidths_min  PeakProminences_mean  PeakProminences_std  \\\n",
       "0      200.216791        0.502550              4.483874            18.800052   \n",
       "1      147.630935        0.503152              6.393594            26.533805   \n",
       "2       55.950546        0.503520             18.547456           123.894318   \n",
       "3       63.376129        0.501245             29.869794           146.267824   \n",
       "4      197.787362        0.501506              7.107753            31.103420   \n",
       "\n",
       "   PeakProminences_max  PeakProminences_min  \n",
       "0           169.775455             0.002746  \n",
       "1           223.590382             0.006419  \n",
       "2          1499.356120             0.010434  \n",
       "3          1060.096242             0.004750  \n",
       "4           363.817836             0.001538  "
      ]
     },
     "execution_count": 17,
     "metadata": {},
     "output_type": "execute_result"
    }
   ],
   "source": [
    "peak_stats.head()"
   ]
  },
  {
   "cell_type": "code",
   "execution_count": 18,
   "metadata": {},
   "outputs": [
    {
     "data": {
      "text/plain": [
       "(3045, 14)"
      ]
     },
     "execution_count": 18,
     "metadata": {},
     "output_type": "execute_result"
    }
   ],
   "source": [
    "peak_stats.shape"
   ]
  },
  {
   "cell_type": "code",
   "execution_count": 19,
   "metadata": {},
   "outputs": [],
   "source": [
    "peak_stats = pd.merge(statuses, peak_stats, on='SpecID', how='left')\n",
    "peak_stats = peak_stats.set_index('SpecID')\n",
    "peak_stats = peak_stats.fillna(0)"
   ]
  },
  {
   "cell_type": "code",
   "execution_count": 20,
   "metadata": {},
   "outputs": [
    {
     "data": {
      "text/plain": [
       "(3045, 14)"
      ]
     },
     "execution_count": 20,
     "metadata": {},
     "output_type": "execute_result"
    }
   ],
   "source": [
    "peak_stats.shape"
   ]
  },
  {
   "cell_type": "code",
   "execution_count": 21,
   "metadata": {},
   "outputs": [
    {
     "name": "stdout",
     "output_type": "stream",
     "text": [
      "ExtraTreesClassifier Cross-Validation Accuracy: 0.6355 +/- 0.0190\n"
     ]
    }
   ],
   "source": [
    "evaluate_extra_trees(peak_stats)"
   ]
  },
  {
   "cell_type": "markdown",
   "metadata": {},
   "source": [
    "##### **Find the best Peak Finding Parameters for the Stat Based Approach**"
   ]
  },
  {
   "cell_type": "code",
   "execution_count": 22,
   "metadata": {},
   "outputs": [],
   "source": [
    "df = df.drop(columns=['Seq', 'SurID'])"
   ]
  },
  {
   "cell_type": "code",
   "execution_count": 23,
   "metadata": {},
   "outputs": [
    {
     "data": {
      "text/html": [
       "<div>\n",
       "<style scoped>\n",
       "    .dataframe tbody tr th:only-of-type {\n",
       "        vertical-align: middle;\n",
       "    }\n",
       "\n",
       "    .dataframe tbody tr th {\n",
       "        vertical-align: top;\n",
       "    }\n",
       "\n",
       "    .dataframe thead th {\n",
       "        text-align: right;\n",
       "    }\n",
       "</style>\n",
       "<table border=\"1\" class=\"dataframe\">\n",
       "  <thead>\n",
       "    <tr style=\"text-align: right;\">\n",
       "      <th></th>\n",
       "      <th>SpecID</th>\n",
       "      <th>WaveNumber</th>\n",
       "      <th>Status</th>\n",
       "      <th>Absorbance</th>\n",
       "    </tr>\n",
       "  </thead>\n",
       "  <tbody>\n",
       "    <tr>\n",
       "      <th>0</th>\n",
       "      <td>201210-1-00</td>\n",
       "      <td>400.22778</td>\n",
       "      <td>Normal</td>\n",
       "      <td>31.645788</td>\n",
       "    </tr>\n",
       "    <tr>\n",
       "      <th>1</th>\n",
       "      <td>201210-1-00</td>\n",
       "      <td>400.91116</td>\n",
       "      <td>Normal</td>\n",
       "      <td>31.890799</td>\n",
       "    </tr>\n",
       "    <tr>\n",
       "      <th>2</th>\n",
       "      <td>201210-1-00</td>\n",
       "      <td>401.59454</td>\n",
       "      <td>Normal</td>\n",
       "      <td>32.060592</td>\n",
       "    </tr>\n",
       "    <tr>\n",
       "      <th>3</th>\n",
       "      <td>201210-1-00</td>\n",
       "      <td>402.27789</td>\n",
       "      <td>Normal</td>\n",
       "      <td>32.161890</td>\n",
       "    </tr>\n",
       "    <tr>\n",
       "      <th>4</th>\n",
       "      <td>201210-1-00</td>\n",
       "      <td>402.96127</td>\n",
       "      <td>Normal</td>\n",
       "      <td>32.201418</td>\n",
       "    </tr>\n",
       "    <tr>\n",
       "      <th>...</th>\n",
       "      <td>...</td>\n",
       "      <td>...</td>\n",
       "      <td>...</td>\n",
       "      <td>...</td>\n",
       "    </tr>\n",
       "    <tr>\n",
       "      <th>6239200</th>\n",
       "      <td>210526-3-09</td>\n",
       "      <td>1797.03870</td>\n",
       "      <td>Hyperglycemia</td>\n",
       "      <td>-17.773341</td>\n",
       "    </tr>\n",
       "    <tr>\n",
       "      <th>6239201</th>\n",
       "      <td>210526-3-09</td>\n",
       "      <td>1797.72200</td>\n",
       "      <td>Hyperglycemia</td>\n",
       "      <td>-16.954783</td>\n",
       "    </tr>\n",
       "    <tr>\n",
       "      <th>6239202</th>\n",
       "      <td>210526-3-09</td>\n",
       "      <td>1798.40550</td>\n",
       "      <td>Hyperglycemia</td>\n",
       "      <td>-16.058237</td>\n",
       "    </tr>\n",
       "    <tr>\n",
       "      <th>6239203</th>\n",
       "      <td>210526-3-09</td>\n",
       "      <td>1799.08890</td>\n",
       "      <td>Hyperglycemia</td>\n",
       "      <td>-15.079158</td>\n",
       "    </tr>\n",
       "    <tr>\n",
       "      <th>6239204</th>\n",
       "      <td>210526-3-09</td>\n",
       "      <td>1799.77220</td>\n",
       "      <td>Hyperglycemia</td>\n",
       "      <td>-14.013007</td>\n",
       "    </tr>\n",
       "  </tbody>\n",
       "</table>\n",
       "<p>6239205 rows × 4 columns</p>\n",
       "</div>"
      ],
      "text/plain": [
       "              SpecID  WaveNumber         Status  Absorbance\n",
       "0        201210-1-00   400.22778         Normal   31.645788\n",
       "1        201210-1-00   400.91116         Normal   31.890799\n",
       "2        201210-1-00   401.59454         Normal   32.060592\n",
       "3        201210-1-00   402.27789         Normal   32.161890\n",
       "4        201210-1-00   402.96127         Normal   32.201418\n",
       "...              ...         ...            ...         ...\n",
       "6239200  210526-3-09  1797.03870  Hyperglycemia  -17.773341\n",
       "6239201  210526-3-09  1797.72200  Hyperglycemia  -16.954783\n",
       "6239202  210526-3-09  1798.40550  Hyperglycemia  -16.058237\n",
       "6239203  210526-3-09  1799.08890  Hyperglycemia  -15.079158\n",
       "6239204  210526-3-09  1799.77220  Hyperglycemia  -14.013007\n",
       "\n",
       "[6239205 rows x 4 columns]"
      ]
     },
     "execution_count": 23,
     "metadata": {},
     "output_type": "execute_result"
    }
   ],
   "source": [
    "df"
   ]
  },
  {
   "cell_type": "code",
   "execution_count": 24,
   "metadata": {},
   "outputs": [],
   "source": [
    "# Define parameter ranges\n",
    "\n",
    "## Test Search\n",
    "# distances = [None, 5]\n",
    "# prominences = [None, 0.01]\n",
    "# widths = [None, 5]\n",
    "# thresholds = [None, 0.01]\n",
    "\n",
    "# First Search\n",
    "distances = [None, 5, 10, 25, 50, 100, 150, 200, 250]\n",
    "prominences = [None, 5, 10, 25, 50, 100, 150, 200, 250]\n",
    "widths = [None, 0.5, 1, 2, 3, 4, 5, 8]\n",
    "thresholds = [None, 5, 10, 25, 50]"
   ]
  },
  {
   "cell_type": "code",
   "execution_count": 25,
   "metadata": {},
   "outputs": [],
   "source": [
    "import warnings\n",
    "from sklearn.exceptions import UndefinedMetricWarning\n",
    "\n",
    "# Ignore UndefinedMetricWarning\n",
    "warnings.filterwarnings(\"ignore\", category=UndefinedMetricWarning)"
   ]
  },
  {
   "cell_type": "code",
   "execution_count": 26,
   "metadata": {},
   "outputs": [],
   "source": [
    "def preprocess_and_extract_peaks(df, distance, prominence, width, threshold):\n",
    "    \n",
    "    widths = []\n",
    "    prominences = []\n",
    "    peaks = []\n",
    "    \n",
    "    for _, group in df.groupby('SpecID'):\n",
    "\n",
    "        peak_index, _ = find_peaks(x=group['Absorbance'], distance=distance, prominence=prominence, width=width, threshold=threshold)\n",
    "\n",
    "        # Calculate the widths of each peak\n",
    "        widths += list(peak_widths(group['Absorbance'], peaks=peak_index, rel_height=0.5)[0])\n",
    "\n",
    "        # Calculate prominence of each peak\n",
    "        prominences += list(peak_prominences(group['Absorbance'], peaks=peak_index)[0])\n",
    "\n",
    "        # Find the index of the peak within the full dataframe\n",
    "        peaks += list(group.iloc[peak_index].index.values)\n",
    "\n",
    "    peaks_df = df.loc[peaks].copy()\n",
    "    peaks_df['PeakWidths'] = widths\n",
    "    peaks_df['PeakProminences'] = prominences\n",
    "    return peaks_df"
   ]
  },
  {
   "cell_type": "code",
   "execution_count": 27,
   "metadata": {},
   "outputs": [],
   "source": [
    "def evaluate_model_with_cross_validation(df, distance, prominence, width, threshold):\n",
    "    \n",
    "    df_copy = df.copy()\n",
    "    peaks_df = preprocess_and_extract_peaks(df_copy, distance, prominence, width, threshold)\n",
    "\n",
    "    # Average peak count per spectrum\n",
    "    avg_peak_count = len(peaks_df)/3045\n",
    "\n",
    "    # Create a new DataFrame for the summary statistics\n",
    "    peak_stats = peaks_df.groupby('SpecID').agg({\n",
    "        'Absorbance': ['mean', 'std', 'count', 'max', 'min'],\n",
    "        'PeakWidths': ['mean', 'std', 'max', 'min'],\n",
    "        'PeakProminences': ['mean', 'std', 'max', 'min']\n",
    "    }).reset_index()\n",
    "\n",
    "    # Flatten the multi-level columns and customise the names\n",
    "    peak_stats.columns = ['SpecID',\n",
    "                      'PeakAbsorbance_mean', 'PeakAbsorbance_std', 'PeakAbsorbance_count', 'PeakAbsorbance_max', 'PeakAbsorbance_min',\n",
    "                      'PeakWidths_mean', 'PeakWidths_std', 'PeakWidths_max', 'PeakWidths_min',\n",
    "                      'PeakProminences_mean', 'PeakProminences_std', 'PeakProminences_max', 'PeakProminences_min']\n",
    "    \n",
    "    # Add the statuses back to the dataframe\n",
    "    peak_stats = pd.merge(statuses, peak_stats, on='SpecID', how='left').set_index('SpecID').fillna(0)\n",
    "\n",
    "    X = peak_stats.drop(['Status'], axis=1)\n",
    "    y = peak_stats['Status']\n",
    "    \n",
    "    et = ExtraTreesClassifier(random_state=1234)\n",
    "    cv = KFold(n_splits=10, shuffle=True, random_state=1234)\n",
    "    \n",
    "    scores = cross_validate(et, X, y, cv=cv, scoring=['accuracy', 'precision_macro', 'recall_macro', 'f1_macro'])\n",
    "    \n",
    "    return {\n",
    "        'Distance': distance,\n",
    "        'Prominence': prominence,\n",
    "        'Width': width,\n",
    "        'Threshold': threshold,\n",
    "        'Average Peak Count': avg_peak_count,\n",
    "        'Accuracy': np.mean(scores['test_accuracy']),\n",
    "        'Precision': np.mean(scores['test_precision_macro']),\n",
    "        'Recall': np.mean(scores['test_recall_macro']),\n",
    "        'F1': np.mean(scores['test_f1_macro']),\n",
    "        'Accuracy Std': np.std(scores['test_accuracy']),\n",
    "        'Precision Std': np.std(scores['test_precision_macro']),\n",
    "        'Recall Std': np.std(scores['test_recall_macro']),\n",
    "        'F1 Std': np.std(scores['test_f1_macro'])\n",
    "        }\n",
    "\n",
    "# Parallel execution\n",
    "results = Parallel(n_jobs=-1)(delayed(evaluate_model_with_cross_validation)(df, d, p, w, t) for d in distances for p in prominences for w in widths for t in thresholds)\n",
    "\n",
    "# results = []\n",
    "# for d in distances:\n",
    "#     for p in prominences:\n",
    "#         for w in widths:\n",
    "#             for t in thresholds:\n",
    "#                 results.append(evaluate_model_with_cross_validation(df, d, p, w, t))"
   ]
  },
  {
   "cell_type": "code",
   "execution_count": 28,
   "metadata": {},
   "outputs": [
    {
     "name": "stdout",
     "output_type": "stream",
     "text": [
      "Best Parameters: Distance=nan, Prominence=nan, Width=nan, Thresholde=nan and Avg_Peak_Count=168.01 with Accuracy: 0.6355\n"
     ]
    }
   ],
   "source": [
    "# Convert results to DataFrame\n",
    "results_df = pd.DataFrame(results)\n",
    "\n",
    "# Identify the best parameters based on the selected criteria\n",
    "best_row = results_df.loc[results_df['Accuracy'].idxmax()]\n",
    "\n",
    "print(f\"Best Parameters: Distance={best_row['Distance']}, Prominence={best_row['Prominence']}, Width={best_row['Width']}, Thresholde={best_row['Threshold']} and Avg_Peak_Count={best_row['Average Peak Count']:.2f} with Accuracy: {best_row['Accuracy']:.4f}\")\n",
    "\n",
    "# Save the results to csv\n",
    "results_df.sort_values('Accuracy', ascending=False).to_csv(\"Peak_Stat_Parameters.csv\", index=False)"
   ]
  },
  {
   "cell_type": "markdown",
   "metadata": {},
   "source": [
    "#### **2. Creating a uniform Peak Featureset**"
   ]
  },
  {
   "cell_type": "markdown",
   "metadata": {},
   "source": [
    "This aims to create a featureset using peaks within wavenumber intervals."
   ]
  },
  {
   "cell_type": "markdown",
   "metadata": {},
   "source": [
    "Assign Peaks to bins of a fixed wavelength interval."
   ]
  },
  {
   "cell_type": "code",
   "execution_count": 29,
   "metadata": {},
   "outputs": [],
   "source": [
    "# Define a function to calculate the bin for a given wavenumber with a specified bin size\n",
    "def calculate_bin_interval(wavenumber, bin_size):\n",
    "    bin_start = int((wavenumber - 200) / bin_size) * bin_size + 200\n",
    "    bin_end = bin_start + bin_size\n",
    "    return f\"{bin_start}-{bin_end}\""
   ]
  },
  {
   "cell_type": "code",
   "execution_count": 30,
   "metadata": {},
   "outputs": [
    {
     "name": "stderr",
     "output_type": "stream",
     "text": [
      "C:\\Users\\FX 8320\\AppData\\Local\\Temp\\ipykernel_20408\\3718610318.py:5: SettingWithCopyWarning: \n",
      "A value is trying to be set on a copy of a slice from a DataFrame.\n",
      "Try using .loc[row_indexer,col_indexer] = value instead\n",
      "\n",
      "See the caveats in the documentation: https://pandas.pydata.org/pandas-docs/stable/user_guide/indexing.html#returning-a-view-versus-a-copy\n",
      "  peaks_df['Bin'] = peaks_df['WaveNumber'].apply(lambda x: calculate_bin_interval(x, bin_size))\n"
     ]
    }
   ],
   "source": [
    "# Set the bin size\n",
    "bin_size = 25\n",
    "\n",
    "# Add a \"Bin\" column to the DataFrame\n",
    "peaks_df['Bin'] = peaks_df['WaveNumber'].apply(lambda x: calculate_bin_interval(x, bin_size))"
   ]
  },
  {
   "cell_type": "code",
   "execution_count": 31,
   "metadata": {},
   "outputs": [
    {
     "data": {
      "text/html": [
       "<div>\n",
       "<style scoped>\n",
       "    .dataframe tbody tr th:only-of-type {\n",
       "        vertical-align: middle;\n",
       "    }\n",
       "\n",
       "    .dataframe tbody tr th {\n",
       "        vertical-align: top;\n",
       "    }\n",
       "\n",
       "    .dataframe thead th {\n",
       "        text-align: right;\n",
       "    }\n",
       "</style>\n",
       "<table border=\"1\" class=\"dataframe\">\n",
       "  <thead>\n",
       "    <tr style=\"text-align: right;\">\n",
       "      <th></th>\n",
       "      <th>SpecID</th>\n",
       "      <th>Seq</th>\n",
       "      <th>WaveNumber</th>\n",
       "      <th>SurID</th>\n",
       "      <th>Status</th>\n",
       "      <th>Absorbance</th>\n",
       "      <th>PeakWidths</th>\n",
       "      <th>PeakProminences</th>\n",
       "      <th>Bin</th>\n",
       "    </tr>\n",
       "  </thead>\n",
       "  <tbody>\n",
       "    <tr>\n",
       "      <th>4</th>\n",
       "      <td>201210-1-00</td>\n",
       "      <td>297</td>\n",
       "      <td>402.96127</td>\n",
       "      <td>201210-1</td>\n",
       "      <td>Normal</td>\n",
       "      <td>32.201418</td>\n",
       "      <td>6.469735</td>\n",
       "      <td>0.555630</td>\n",
       "      <td>400-425</td>\n",
       "    </tr>\n",
       "    <tr>\n",
       "      <th>20</th>\n",
       "      <td>201210-1-00</td>\n",
       "      <td>313</td>\n",
       "      <td>413.89520</td>\n",
       "      <td>201210-1</td>\n",
       "      <td>Normal</td>\n",
       "      <td>32.744039</td>\n",
       "      <td>0.609705</td>\n",
       "      <td>0.127398</td>\n",
       "      <td>400-425</td>\n",
       "    </tr>\n",
       "    <tr>\n",
       "      <th>23</th>\n",
       "      <td>201210-1-00</td>\n",
       "      <td>316</td>\n",
       "      <td>415.94534</td>\n",
       "      <td>201210-1</td>\n",
       "      <td>Normal</td>\n",
       "      <td>33.376393</td>\n",
       "      <td>4.920541</td>\n",
       "      <td>3.222732</td>\n",
       "      <td>400-425</td>\n",
       "    </tr>\n",
       "    <tr>\n",
       "      <th>26</th>\n",
       "      <td>201210-1-00</td>\n",
       "      <td>319</td>\n",
       "      <td>417.99545</td>\n",
       "      <td>201210-1</td>\n",
       "      <td>Normal</td>\n",
       "      <td>30.872730</td>\n",
       "      <td>0.862466</td>\n",
       "      <td>0.374425</td>\n",
       "      <td>400-425</td>\n",
       "    </tr>\n",
       "    <tr>\n",
       "      <th>31</th>\n",
       "      <td>201210-1-00</td>\n",
       "      <td>324</td>\n",
       "      <td>421.41229</td>\n",
       "      <td>201210-1</td>\n",
       "      <td>Normal</td>\n",
       "      <td>28.645988</td>\n",
       "      <td>2.275627</td>\n",
       "      <td>1.255784</td>\n",
       "      <td>400-425</td>\n",
       "    </tr>\n",
       "  </tbody>\n",
       "</table>\n",
       "</div>"
      ],
      "text/plain": [
       "         SpecID  Seq  WaveNumber     SurID  Status  Absorbance  PeakWidths  \\\n",
       "4   201210-1-00  297   402.96127  201210-1  Normal   32.201418    6.469735   \n",
       "20  201210-1-00  313   413.89520  201210-1  Normal   32.744039    0.609705   \n",
       "23  201210-1-00  316   415.94534  201210-1  Normal   33.376393    4.920541   \n",
       "26  201210-1-00  319   417.99545  201210-1  Normal   30.872730    0.862466   \n",
       "31  201210-1-00  324   421.41229  201210-1  Normal   28.645988    2.275627   \n",
       "\n",
       "    PeakProminences      Bin  \n",
       "4          0.555630  400-425  \n",
       "20         0.127398  400-425  \n",
       "23         3.222732  400-425  \n",
       "26         0.374425  400-425  \n",
       "31         1.255784  400-425  "
      ]
     },
     "execution_count": 31,
     "metadata": {},
     "output_type": "execute_result"
    }
   ],
   "source": [
    "peaks_df.head()"
   ]
  },
  {
   "cell_type": "markdown",
   "metadata": {},
   "source": [
    "Set the bins as columns with the peak absrobances, widths and prominences as the values.\n",
    "If no peaks appear in a bin the value is set to 0.\n",
    "If multiple peaks appear their properties are aggregated."
   ]
  },
  {
   "cell_type": "code",
   "execution_count": 32,
   "metadata": {},
   "outputs": [],
   "source": [
    "# Pivot table with 'Absorbance', 'PeakWidths', and 'PeakProminences' as values\n",
    "peak_bins = peaks_df.pivot_table(index='SpecID', columns='Bin', values=['Absorbance', 'PeakWidths', 'PeakProminences'], aggfunc='mean')\n",
    "peak_bins.columns = [f\"{col[0]}_{col[1]}\" for col in peak_bins.columns]  # Combine column names\n",
    "peak_bins.reset_index(inplace=True)\n",
    "\n",
    "# Merge with 'Status' information\n",
    "statuses = peaks_df[['SpecID', 'Status']].drop_duplicates()\n",
    "peak_bins = pd.merge(peak_bins, statuses, on='SpecID')\n",
    "\n",
    "# Set 'SpecID' as the index\n",
    "peak_bins.set_index('SpecID', inplace=True)\n",
    "\n",
    "# Fill NaN values with 0\n",
    "peak_bins.fillna(0, inplace=True)"
   ]
  },
  {
   "cell_type": "code",
   "execution_count": 33,
   "metadata": {},
   "outputs": [
    {
     "data": {
      "text/html": [
       "<div>\n",
       "<style scoped>\n",
       "    .dataframe tbody tr th:only-of-type {\n",
       "        vertical-align: middle;\n",
       "    }\n",
       "\n",
       "    .dataframe tbody tr th {\n",
       "        vertical-align: top;\n",
       "    }\n",
       "\n",
       "    .dataframe thead th {\n",
       "        text-align: right;\n",
       "    }\n",
       "</style>\n",
       "<table border=\"1\" class=\"dataframe\">\n",
       "  <thead>\n",
       "    <tr style=\"text-align: right;\">\n",
       "      <th></th>\n",
       "      <th>Absorbance_1000-1025</th>\n",
       "      <th>Absorbance_1025-1050</th>\n",
       "      <th>Absorbance_1050-1075</th>\n",
       "      <th>Absorbance_1075-1100</th>\n",
       "      <th>Absorbance_1100-1125</th>\n",
       "      <th>Absorbance_1125-1150</th>\n",
       "      <th>Absorbance_1150-1175</th>\n",
       "      <th>Absorbance_1175-1200</th>\n",
       "      <th>Absorbance_1200-1225</th>\n",
       "      <th>Absorbance_1225-1250</th>\n",
       "      <th>...</th>\n",
       "      <th>PeakWidths_775-800</th>\n",
       "      <th>PeakWidths_800-825</th>\n",
       "      <th>PeakWidths_825-850</th>\n",
       "      <th>PeakWidths_850-875</th>\n",
       "      <th>PeakWidths_875-900</th>\n",
       "      <th>PeakWidths_900-925</th>\n",
       "      <th>PeakWidths_925-950</th>\n",
       "      <th>PeakWidths_950-975</th>\n",
       "      <th>PeakWidths_975-1000</th>\n",
       "      <th>Status</th>\n",
       "    </tr>\n",
       "    <tr>\n",
       "      <th>SpecID</th>\n",
       "      <th></th>\n",
       "      <th></th>\n",
       "      <th></th>\n",
       "      <th></th>\n",
       "      <th></th>\n",
       "      <th></th>\n",
       "      <th></th>\n",
       "      <th></th>\n",
       "      <th></th>\n",
       "      <th></th>\n",
       "      <th></th>\n",
       "      <th></th>\n",
       "      <th></th>\n",
       "      <th></th>\n",
       "      <th></th>\n",
       "      <th></th>\n",
       "      <th></th>\n",
       "      <th></th>\n",
       "      <th></th>\n",
       "      <th></th>\n",
       "      <th></th>\n",
       "    </tr>\n",
       "  </thead>\n",
       "  <tbody>\n",
       "    <tr>\n",
       "      <th>201210-1-00</th>\n",
       "      <td>79.348488</td>\n",
       "      <td>51.220241</td>\n",
       "      <td>56.270595</td>\n",
       "      <td>43.622056</td>\n",
       "      <td>9.791624</td>\n",
       "      <td>23.050053</td>\n",
       "      <td>11.951954</td>\n",
       "      <td>-2.060928</td>\n",
       "      <td>-4.324703</td>\n",
       "      <td>28.507881</td>\n",
       "      <td>...</td>\n",
       "      <td>1.079688</td>\n",
       "      <td>5.605290</td>\n",
       "      <td>1.425452</td>\n",
       "      <td>9.092851</td>\n",
       "      <td>4.989642</td>\n",
       "      <td>29.439388</td>\n",
       "      <td>1.346161</td>\n",
       "      <td>1.716824</td>\n",
       "      <td>1.339044</td>\n",
       "      <td>Normal</td>\n",
       "    </tr>\n",
       "    <tr>\n",
       "      <th>201210-1-01</th>\n",
       "      <td>77.237541</td>\n",
       "      <td>33.905318</td>\n",
       "      <td>49.270501</td>\n",
       "      <td>31.586800</td>\n",
       "      <td>3.304689</td>\n",
       "      <td>21.400157</td>\n",
       "      <td>14.579625</td>\n",
       "      <td>9.078719</td>\n",
       "      <td>-10.360994</td>\n",
       "      <td>0.805333</td>\n",
       "      <td>...</td>\n",
       "      <td>0.911928</td>\n",
       "      <td>1.412806</td>\n",
       "      <td>0.554703</td>\n",
       "      <td>2.452688</td>\n",
       "      <td>0.921724</td>\n",
       "      <td>70.524064</td>\n",
       "      <td>19.421840</td>\n",
       "      <td>0.812030</td>\n",
       "      <td>12.108906</td>\n",
       "      <td>Normal</td>\n",
       "    </tr>\n",
       "    <tr>\n",
       "      <th>201210-1-02</th>\n",
       "      <td>132.816715</td>\n",
       "      <td>187.442220</td>\n",
       "      <td>69.677144</td>\n",
       "      <td>56.429799</td>\n",
       "      <td>12.626494</td>\n",
       "      <td>67.955977</td>\n",
       "      <td>29.686681</td>\n",
       "      <td>-3.111961</td>\n",
       "      <td>5.960533</td>\n",
       "      <td>25.575162</td>\n",
       "      <td>...</td>\n",
       "      <td>1.582275</td>\n",
       "      <td>1.030469</td>\n",
       "      <td>1.663810</td>\n",
       "      <td>1.639609</td>\n",
       "      <td>0.000000</td>\n",
       "      <td>29.350815</td>\n",
       "      <td>0.000000</td>\n",
       "      <td>1.796942</td>\n",
       "      <td>3.345436</td>\n",
       "      <td>Normal</td>\n",
       "    </tr>\n",
       "    <tr>\n",
       "      <th>201210-1-03</th>\n",
       "      <td>371.600578</td>\n",
       "      <td>212.368633</td>\n",
       "      <td>210.376974</td>\n",
       "      <td>129.626363</td>\n",
       "      <td>125.077805</td>\n",
       "      <td>0.000000</td>\n",
       "      <td>625.666908</td>\n",
       "      <td>0.000000</td>\n",
       "      <td>37.979164</td>\n",
       "      <td>77.983322</td>\n",
       "      <td>...</td>\n",
       "      <td>0.000000</td>\n",
       "      <td>1.473284</td>\n",
       "      <td>1.069089</td>\n",
       "      <td>0.000000</td>\n",
       "      <td>0.000000</td>\n",
       "      <td>63.376129</td>\n",
       "      <td>0.000000</td>\n",
       "      <td>60.423360</td>\n",
       "      <td>1.246936</td>\n",
       "      <td>Normal</td>\n",
       "    </tr>\n",
       "    <tr>\n",
       "      <th>201210-1-04</th>\n",
       "      <td>82.989091</td>\n",
       "      <td>33.333771</td>\n",
       "      <td>35.816497</td>\n",
       "      <td>10.215812</td>\n",
       "      <td>6.639818</td>\n",
       "      <td>37.646776</td>\n",
       "      <td>56.228362</td>\n",
       "      <td>87.822719</td>\n",
       "      <td>41.492328</td>\n",
       "      <td>36.294090</td>\n",
       "      <td>...</td>\n",
       "      <td>1.971683</td>\n",
       "      <td>2.140093</td>\n",
       "      <td>2.146750</td>\n",
       "      <td>16.566306</td>\n",
       "      <td>2.824986</td>\n",
       "      <td>5.762471</td>\n",
       "      <td>3.919114</td>\n",
       "      <td>1.001860</td>\n",
       "      <td>1.682968</td>\n",
       "      <td>Normal</td>\n",
       "    </tr>\n",
       "  </tbody>\n",
       "</table>\n",
       "<p>5 rows × 169 columns</p>\n",
       "</div>"
      ],
      "text/plain": [
       "             Absorbance_1000-1025  Absorbance_1025-1050  Absorbance_1050-1075  \\\n",
       "SpecID                                                                          \n",
       "201210-1-00             79.348488             51.220241             56.270595   \n",
       "201210-1-01             77.237541             33.905318             49.270501   \n",
       "201210-1-02            132.816715            187.442220             69.677144   \n",
       "201210-1-03            371.600578            212.368633            210.376974   \n",
       "201210-1-04             82.989091             33.333771             35.816497   \n",
       "\n",
       "             Absorbance_1075-1100  Absorbance_1100-1125  Absorbance_1125-1150  \\\n",
       "SpecID                                                                          \n",
       "201210-1-00             43.622056              9.791624             23.050053   \n",
       "201210-1-01             31.586800              3.304689             21.400157   \n",
       "201210-1-02             56.429799             12.626494             67.955977   \n",
       "201210-1-03            129.626363            125.077805              0.000000   \n",
       "201210-1-04             10.215812              6.639818             37.646776   \n",
       "\n",
       "             Absorbance_1150-1175  Absorbance_1175-1200  Absorbance_1200-1225  \\\n",
       "SpecID                                                                          \n",
       "201210-1-00             11.951954             -2.060928             -4.324703   \n",
       "201210-1-01             14.579625              9.078719            -10.360994   \n",
       "201210-1-02             29.686681             -3.111961              5.960533   \n",
       "201210-1-03            625.666908              0.000000             37.979164   \n",
       "201210-1-04             56.228362             87.822719             41.492328   \n",
       "\n",
       "             Absorbance_1225-1250  ...  PeakWidths_775-800  \\\n",
       "SpecID                             ...                       \n",
       "201210-1-00             28.507881  ...            1.079688   \n",
       "201210-1-01              0.805333  ...            0.911928   \n",
       "201210-1-02             25.575162  ...            1.582275   \n",
       "201210-1-03             77.983322  ...            0.000000   \n",
       "201210-1-04             36.294090  ...            1.971683   \n",
       "\n",
       "             PeakWidths_800-825  PeakWidths_825-850  PeakWidths_850-875  \\\n",
       "SpecID                                                                    \n",
       "201210-1-00            5.605290            1.425452            9.092851   \n",
       "201210-1-01            1.412806            0.554703            2.452688   \n",
       "201210-1-02            1.030469            1.663810            1.639609   \n",
       "201210-1-03            1.473284            1.069089            0.000000   \n",
       "201210-1-04            2.140093            2.146750           16.566306   \n",
       "\n",
       "             PeakWidths_875-900  PeakWidths_900-925  PeakWidths_925-950  \\\n",
       "SpecID                                                                    \n",
       "201210-1-00            4.989642           29.439388            1.346161   \n",
       "201210-1-01            0.921724           70.524064           19.421840   \n",
       "201210-1-02            0.000000           29.350815            0.000000   \n",
       "201210-1-03            0.000000           63.376129            0.000000   \n",
       "201210-1-04            2.824986            5.762471            3.919114   \n",
       "\n",
       "             PeakWidths_950-975  PeakWidths_975-1000  Status  \n",
       "SpecID                                                        \n",
       "201210-1-00            1.716824             1.339044  Normal  \n",
       "201210-1-01            0.812030            12.108906  Normal  \n",
       "201210-1-02            1.796942             3.345436  Normal  \n",
       "201210-1-03           60.423360             1.246936  Normal  \n",
       "201210-1-04            1.001860             1.682968  Normal  \n",
       "\n",
       "[5 rows x 169 columns]"
      ]
     },
     "execution_count": 33,
     "metadata": {},
     "output_type": "execute_result"
    }
   ],
   "source": [
    "peak_bins.head()"
   ]
  },
  {
   "cell_type": "code",
   "execution_count": 34,
   "metadata": {},
   "outputs": [
    {
     "name": "stdout",
     "output_type": "stream",
     "text": [
      "ExtraTreesClassifier Cross-Validation Accuracy: 0.8407 +/- 0.0151\n"
     ]
    }
   ],
   "source": [
    "evaluate_extra_trees(peak_bins)"
   ]
  },
  {
   "cell_type": "markdown",
   "metadata": {},
   "source": [
    "##### **Find the best Peak Finding Parameters for the Bin Based Approach**"
   ]
  },
  {
   "cell_type": "code",
   "execution_count": 35,
   "metadata": {},
   "outputs": [],
   "source": [
    "def evaluate_model_with_cross_validation(df, distance, prominence, width, threshold):\n",
    "    \n",
    "    df_copy = df.copy()\n",
    "    peaks_df = preprocess_and_extract_peaks(df_copy, distance, prominence, width, threshold)\n",
    "\n",
    "    # Average peak count per spectrum\n",
    "    avg_peak_count = len(peaks_df)/3045\n",
    "\n",
    "    # Set the bin size\n",
    "    bin_size = 25\n",
    "\n",
    "    # Add a \"Bin\" column to the DataFrame\n",
    "    peaks_df['Bin'] = peaks_df['WaveNumber'].apply(lambda x: calculate_bin_interval(x, bin_size))\n",
    "    \n",
    "    # Pivot table with 'Absorbance', 'PeakWidths', and 'PeakProminences' as values\n",
    "    peak_bins = peaks_df.pivot_table(index='SpecID', columns='Bin', values=['Absorbance', 'PeakWidths', 'PeakProminences'], aggfunc='mean')\n",
    "    peak_bins.columns = [f\"{col[0]}_{col[1]}\" for col in peak_bins.columns]  # Combine column names\n",
    "    peak_bins.reset_index(inplace=True)\n",
    "\n",
    "    # Merge with 'Status' information\n",
    "    peak_bins = pd.merge(statuses, peak_bins, on='SpecID', how='left')\n",
    "\n",
    "    # Set 'SpecID' as the index\n",
    "    peak_bins.set_index('SpecID', inplace=True)\n",
    "\n",
    "    # Fill NaN values with 0\n",
    "    peak_bins.fillna(0, inplace=True)\n",
    "    \n",
    "    X = peak_bins.drop(['Status'], axis=1)\n",
    "    y = peak_bins['Status']\n",
    "    \n",
    "    et = ExtraTreesClassifier(random_state=1234)\n",
    "    cv = KFold(n_splits=10, shuffle=True, random_state=1234)\n",
    "    \n",
    "    scores = cross_validate(et, X, y, cv=cv, scoring=['accuracy', 'precision_macro', 'recall_macro', 'f1_macro'])\n",
    "    \n",
    "    return {\n",
    "        'Distance': distance,\n",
    "        'Prominence': prominence,\n",
    "        'Width': width,\n",
    "        'Threshold': threshold,\n",
    "        'Average Peak Count': avg_peak_count,\n",
    "        'Accuracy': np.mean(scores['test_accuracy']),\n",
    "        'Precision': np.mean(scores['test_precision_macro']),\n",
    "        'Recall': np.mean(scores['test_recall_macro']),\n",
    "        'F1': np.mean(scores['test_f1_macro']),\n",
    "        'Accuracy Std': np.std(scores['test_accuracy']),\n",
    "        'Precision Std': np.std(scores['test_precision_macro']),\n",
    "        'Recall Std': np.std(scores['test_recall_macro']),\n",
    "        'F1 Std': np.std(scores['test_f1_macro'])\n",
    "        }\n",
    "\n",
    "# Parallel execution\n",
    "results = Parallel(n_jobs=-1)(delayed(evaluate_model_with_cross_validation)(df, d, p, w, t) for d in distances for p in prominences for w in widths for t in thresholds)\n",
    "\n",
    "# results = []\n",
    "# for d in distances:\n",
    "#     for p in prominences:\n",
    "#         for w in widths:\n",
    "#             for t in thresholds:\n",
    "#                 results.append(evaluate_model_with_cross_validation(df, d, p, w, t))"
   ]
  },
  {
   "cell_type": "code",
   "execution_count": 36,
   "metadata": {},
   "outputs": [
    {
     "name": "stdout",
     "output_type": "stream",
     "text": [
      "Best Parameters: Distance=nan, Prominence=nan, Width=nan, Thresholde=nan and Avg_Peak_Count=168.01 with Accuracy: 0.8407\n"
     ]
    }
   ],
   "source": [
    "# Convert results to DataFrame\n",
    "results_df = pd.DataFrame(results)\n",
    "\n",
    "# Identify the best parameters based on the selected criteria\n",
    "best_row = results_df.loc[results_df['Accuracy'].idxmax()]\n",
    "\n",
    "print(f\"Best Parameters: Distance={best_row['Distance']}, Prominence={best_row['Prominence']}, Width={best_row['Width']}, Thresholde={best_row['Threshold']} and Avg_Peak_Count={best_row['Average Peak Count']:.2f} with Accuracy: {best_row['Accuracy']:.4f}\")\n",
    "\n",
    "# Save the results to csv\n",
    "results_df.sort_values('Accuracy', ascending=False).to_csv(\"Peak_Bin_Parameters.csv\", index=False)"
   ]
  }
 ],
 "metadata": {
  "kernelspec": {
   "display_name": "Python 3",
   "language": "python",
   "name": "python3"
  },
  "language_info": {
   "codemirror_mode": {
    "name": "ipython",
    "version": 3
   },
   "file_extension": ".py",
   "mimetype": "text/x-python",
   "name": "python",
   "nbconvert_exporter": "python",
   "pygments_lexer": "ipython3",
   "version": "3.11.1"
  }
 },
 "nbformat": 4,
 "nbformat_minor": 2
}
