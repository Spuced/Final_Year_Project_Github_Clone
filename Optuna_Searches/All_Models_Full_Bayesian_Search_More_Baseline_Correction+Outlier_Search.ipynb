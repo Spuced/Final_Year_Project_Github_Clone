{
 "cells": [
  {
   "cell_type": "markdown",
   "metadata": {},
   "source": [
    "### **This Notebook Performs a Parameters Search on Every Possible Cleaning and Model Parameter.**"
   ]
  },
  {
   "cell_type": "markdown",
   "metadata": {},
   "source": [
    "Lets test different spectral cleaning parameters by building a model pipeline."
   ]
  },
  {
   "cell_type": "markdown",
   "metadata": {},
   "source": [
    "Import Libraries"
   ]
  },
  {
   "cell_type": "code",
   "execution_count": 2,
   "metadata": {},
   "outputs": [],
   "source": [
    "import pandas as pd\n",
    "import numpy as np\n",
    "from scipy.signal import savgol_filter\n",
    "from sklearn.ensemble import RandomForestClassifier\n",
    "from sklearn.ensemble import ExtraTreesClassifier\n",
    "from sklearn.svm import SVC\n",
    "from sklearn.model_selection import cross_validate, GroupKFold, cross_val_score\n",
    "from Spectra_Preparation_Functions import *\n",
    "from sklearn.base import BaseEstimator, TransformerMixin\n",
    "from sklearn.pipeline import Pipeline\n",
    "import optuna"
   ]
  },
  {
   "cell_type": "markdown",
   "metadata": {},
   "source": [
    "Read the spectral data"
   ]
  },
  {
   "cell_type": "code",
   "execution_count": 3,
   "metadata": {},
   "outputs": [],
   "source": [
    "#df = pd.read_csv(\"../../data/exosomes.raw_spectrum_1.csv\")\n",
    "# df = pd.read_csv(\"../../data/raw_df_outliers_removed.csv\")\n",
    "df = pd.read_csv(\"../../data/400-1800_with_raw_scaled_surface_pagerank.csv\")"
   ]
  },
  {
   "cell_type": "code",
   "execution_count": 4,
   "metadata": {},
   "outputs": [
    {
     "data": {
      "text/html": [
       "<div>\n",
       "<style scoped>\n",
       "    .dataframe tbody tr th:only-of-type {\n",
       "        vertical-align: middle;\n",
       "    }\n",
       "\n",
       "    .dataframe tbody tr th {\n",
       "        vertical-align: top;\n",
       "    }\n",
       "\n",
       "    .dataframe thead th {\n",
       "        text-align: right;\n",
       "    }\n",
       "</style>\n",
       "<table border=\"1\" class=\"dataframe\">\n",
       "  <thead>\n",
       "    <tr style=\"text-align: right;\">\n",
       "      <th></th>\n",
       "      <th>SpecID</th>\n",
       "      <th>Seq</th>\n",
       "      <th>WaveNumber</th>\n",
       "      <th>Absorbance</th>\n",
       "      <th>SurID</th>\n",
       "      <th>Status</th>\n",
       "      <th>PageRank</th>\n",
       "    </tr>\n",
       "  </thead>\n",
       "  <tbody>\n",
       "    <tr>\n",
       "      <th>0</th>\n",
       "      <td>201210-1-00</td>\n",
       "      <td>293</td>\n",
       "      <td>400.22778</td>\n",
       "      <td>1765.6628</td>\n",
       "      <td>201210-1</td>\n",
       "      <td>Normal</td>\n",
       "      <td>0.610024</td>\n",
       "    </tr>\n",
       "    <tr>\n",
       "      <th>1</th>\n",
       "      <td>201210-1-00</td>\n",
       "      <td>294</td>\n",
       "      <td>400.91116</td>\n",
       "      <td>1774.7809</td>\n",
       "      <td>201210-1</td>\n",
       "      <td>Normal</td>\n",
       "      <td>0.610024</td>\n",
       "    </tr>\n",
       "    <tr>\n",
       "      <th>2</th>\n",
       "      <td>201210-1-00</td>\n",
       "      <td>295</td>\n",
       "      <td>401.59454</td>\n",
       "      <td>1769.0302</td>\n",
       "      <td>201210-1</td>\n",
       "      <td>Normal</td>\n",
       "      <td>0.610024</td>\n",
       "    </tr>\n",
       "    <tr>\n",
       "      <th>3</th>\n",
       "      <td>201210-1-00</td>\n",
       "      <td>296</td>\n",
       "      <td>402.27789</td>\n",
       "      <td>1756.4220</td>\n",
       "      <td>201210-1</td>\n",
       "      <td>Normal</td>\n",
       "      <td>0.610024</td>\n",
       "    </tr>\n",
       "    <tr>\n",
       "      <th>4</th>\n",
       "      <td>201210-1-00</td>\n",
       "      <td>297</td>\n",
       "      <td>402.96127</td>\n",
       "      <td>1758.8690</td>\n",
       "      <td>201210-1</td>\n",
       "      <td>Normal</td>\n",
       "      <td>0.610024</td>\n",
       "    </tr>\n",
       "    <tr>\n",
       "      <th>...</th>\n",
       "      <td>...</td>\n",
       "      <td>...</td>\n",
       "      <td>...</td>\n",
       "      <td>...</td>\n",
       "      <td>...</td>\n",
       "      <td>...</td>\n",
       "      <td>...</td>\n",
       "    </tr>\n",
       "    <tr>\n",
       "      <th>6239200</th>\n",
       "      <td>210526-3-09</td>\n",
       "      <td>2337</td>\n",
       "      <td>1797.03870</td>\n",
       "      <td>1617.3926</td>\n",
       "      <td>210526-3</td>\n",
       "      <td>Hyperglycemia</td>\n",
       "      <td>1.201164</td>\n",
       "    </tr>\n",
       "    <tr>\n",
       "      <th>6239201</th>\n",
       "      <td>210526-3-09</td>\n",
       "      <td>2338</td>\n",
       "      <td>1797.72200</td>\n",
       "      <td>1633.0911</td>\n",
       "      <td>210526-3</td>\n",
       "      <td>Hyperglycemia</td>\n",
       "      <td>1.201164</td>\n",
       "    </tr>\n",
       "    <tr>\n",
       "      <th>6239202</th>\n",
       "      <td>210526-3-09</td>\n",
       "      <td>2339</td>\n",
       "      <td>1798.40550</td>\n",
       "      <td>1633.3076</td>\n",
       "      <td>210526-3</td>\n",
       "      <td>Hyperglycemia</td>\n",
       "      <td>1.201164</td>\n",
       "    </tr>\n",
       "    <tr>\n",
       "      <th>6239203</th>\n",
       "      <td>210526-3-09</td>\n",
       "      <td>2340</td>\n",
       "      <td>1799.08890</td>\n",
       "      <td>1641.8665</td>\n",
       "      <td>210526-3</td>\n",
       "      <td>Hyperglycemia</td>\n",
       "      <td>1.201164</td>\n",
       "    </tr>\n",
       "    <tr>\n",
       "      <th>6239204</th>\n",
       "      <td>210526-3-09</td>\n",
       "      <td>2341</td>\n",
       "      <td>1799.77220</td>\n",
       "      <td>1618.2405</td>\n",
       "      <td>210526-3</td>\n",
       "      <td>Hyperglycemia</td>\n",
       "      <td>1.201164</td>\n",
       "    </tr>\n",
       "  </tbody>\n",
       "</table>\n",
       "<p>6239205 rows × 7 columns</p>\n",
       "</div>"
      ],
      "text/plain": [
       "              SpecID   Seq  WaveNumber  Absorbance     SurID         Status  \\\n",
       "0        201210-1-00   293   400.22778   1765.6628  201210-1         Normal   \n",
       "1        201210-1-00   294   400.91116   1774.7809  201210-1         Normal   \n",
       "2        201210-1-00   295   401.59454   1769.0302  201210-1         Normal   \n",
       "3        201210-1-00   296   402.27789   1756.4220  201210-1         Normal   \n",
       "4        201210-1-00   297   402.96127   1758.8690  201210-1         Normal   \n",
       "...              ...   ...         ...         ...       ...            ...   \n",
       "6239200  210526-3-09  2337  1797.03870   1617.3926  210526-3  Hyperglycemia   \n",
       "6239201  210526-3-09  2338  1797.72200   1633.0911  210526-3  Hyperglycemia   \n",
       "6239202  210526-3-09  2339  1798.40550   1633.3076  210526-3  Hyperglycemia   \n",
       "6239203  210526-3-09  2340  1799.08890   1641.8665  210526-3  Hyperglycemia   \n",
       "6239204  210526-3-09  2341  1799.77220   1618.2405  210526-3  Hyperglycemia   \n",
       "\n",
       "         PageRank  \n",
       "0        0.610024  \n",
       "1        0.610024  \n",
       "2        0.610024  \n",
       "3        0.610024  \n",
       "4        0.610024  \n",
       "...           ...  \n",
       "6239200  1.201164  \n",
       "6239201  1.201164  \n",
       "6239202  1.201164  \n",
       "6239203  1.201164  \n",
       "6239204  1.201164  \n",
       "\n",
       "[6239205 rows x 7 columns]"
      ]
     },
     "execution_count": 4,
     "metadata": {},
     "output_type": "execute_result"
    }
   ],
   "source": [
    "df"
   ]
  },
  {
   "cell_type": "code",
   "execution_count": 5,
   "metadata": {},
   "outputs": [
    {
     "data": {
      "text/html": [
       "<div>\n",
       "<style scoped>\n",
       "    .dataframe tbody tr th:only-of-type {\n",
       "        vertical-align: middle;\n",
       "    }\n",
       "\n",
       "    .dataframe tbody tr th {\n",
       "        vertical-align: top;\n",
       "    }\n",
       "\n",
       "    .dataframe thead th {\n",
       "        text-align: right;\n",
       "    }\n",
       "</style>\n",
       "<table border=\"1\" class=\"dataframe\">\n",
       "  <thead>\n",
       "    <tr style=\"text-align: right;\">\n",
       "      <th></th>\n",
       "      <th>400.22778</th>\n",
       "      <th>400.91116</th>\n",
       "      <th>401.59454</th>\n",
       "      <th>402.27789</th>\n",
       "      <th>402.96127</th>\n",
       "      <th>403.64465</th>\n",
       "      <th>404.32803</th>\n",
       "      <th>405.01138</th>\n",
       "      <th>405.69476</th>\n",
       "      <th>406.37814</th>\n",
       "      <th>...</th>\n",
       "      <th>1794.9886</th>\n",
       "      <th>1795.672</th>\n",
       "      <th>1796.3553</th>\n",
       "      <th>1797.0387</th>\n",
       "      <th>1797.722</th>\n",
       "      <th>1798.4055</th>\n",
       "      <th>1799.0889</th>\n",
       "      <th>1799.7722</th>\n",
       "      <th>SurID</th>\n",
       "      <th>Status</th>\n",
       "    </tr>\n",
       "    <tr>\n",
       "      <th>SpecID</th>\n",
       "      <th></th>\n",
       "      <th></th>\n",
       "      <th></th>\n",
       "      <th></th>\n",
       "      <th></th>\n",
       "      <th></th>\n",
       "      <th></th>\n",
       "      <th></th>\n",
       "      <th></th>\n",
       "      <th></th>\n",
       "      <th></th>\n",
       "      <th></th>\n",
       "      <th></th>\n",
       "      <th></th>\n",
       "      <th></th>\n",
       "      <th></th>\n",
       "      <th></th>\n",
       "      <th></th>\n",
       "      <th></th>\n",
       "      <th></th>\n",
       "      <th></th>\n",
       "    </tr>\n",
       "  </thead>\n",
       "  <tbody>\n",
       "    <tr>\n",
       "      <th>201210-1-00</th>\n",
       "      <td>1765.6628</td>\n",
       "      <td>1774.7809</td>\n",
       "      <td>1769.0302</td>\n",
       "      <td>1756.4220</td>\n",
       "      <td>1758.8690</td>\n",
       "      <td>1763.2300</td>\n",
       "      <td>1745.2285</td>\n",
       "      <td>1773.3534</td>\n",
       "      <td>1774.7166</td>\n",
       "      <td>1753.3281</td>\n",
       "      <td>...</td>\n",
       "      <td>1210.4993</td>\n",
       "      <td>1213.9619</td>\n",
       "      <td>1225.2153</td>\n",
       "      <td>1210.0010</td>\n",
       "      <td>1210.6858</td>\n",
       "      <td>1194.4679</td>\n",
       "      <td>1195.1451</td>\n",
       "      <td>1189.8683</td>\n",
       "      <td>201210-1</td>\n",
       "      <td>Normal</td>\n",
       "    </tr>\n",
       "    <tr>\n",
       "      <th>201210-1-01</th>\n",
       "      <td>1966.9930</td>\n",
       "      <td>1962.4237</td>\n",
       "      <td>1954.5616</td>\n",
       "      <td>1954.3228</td>\n",
       "      <td>1963.0917</td>\n",
       "      <td>1975.0807</td>\n",
       "      <td>1979.3162</td>\n",
       "      <td>1963.4561</td>\n",
       "      <td>1968.4587</td>\n",
       "      <td>1964.0000</td>\n",
       "      <td>...</td>\n",
       "      <td>1382.6973</td>\n",
       "      <td>1363.7004</td>\n",
       "      <td>1360.6210</td>\n",
       "      <td>1354.0477</td>\n",
       "      <td>1353.0381</td>\n",
       "      <td>1353.9978</td>\n",
       "      <td>1361.2426</td>\n",
       "      <td>1370.2874</td>\n",
       "      <td>201210-1</td>\n",
       "      <td>Normal</td>\n",
       "    </tr>\n",
       "    <tr>\n",
       "      <th>201210-1-02</th>\n",
       "      <td>2182.6694</td>\n",
       "      <td>2149.6565</td>\n",
       "      <td>2146.0227</td>\n",
       "      <td>2159.3459</td>\n",
       "      <td>2167.2910</td>\n",
       "      <td>2160.9861</td>\n",
       "      <td>2145.6575</td>\n",
       "      <td>2134.2004</td>\n",
       "      <td>2142.8303</td>\n",
       "      <td>2138.6309</td>\n",
       "      <td>...</td>\n",
       "      <td>1976.2070</td>\n",
       "      <td>1989.0183</td>\n",
       "      <td>1996.2838</td>\n",
       "      <td>1979.3507</td>\n",
       "      <td>1976.2002</td>\n",
       "      <td>1994.9839</td>\n",
       "      <td>1974.2030</td>\n",
       "      <td>1971.1880</td>\n",
       "      <td>201210-1</td>\n",
       "      <td>Normal</td>\n",
       "    </tr>\n",
       "    <tr>\n",
       "      <th>201210-1-03</th>\n",
       "      <td>2445.0837</td>\n",
       "      <td>2430.4973</td>\n",
       "      <td>2422.7927</td>\n",
       "      <td>2434.3433</td>\n",
       "      <td>2454.9700</td>\n",
       "      <td>2462.8245</td>\n",
       "      <td>2454.7007</td>\n",
       "      <td>2467.7329</td>\n",
       "      <td>2449.5161</td>\n",
       "      <td>2421.3474</td>\n",
       "      <td>...</td>\n",
       "      <td>1992.3817</td>\n",
       "      <td>2022.6331</td>\n",
       "      <td>2001.8311</td>\n",
       "      <td>2010.0946</td>\n",
       "      <td>2006.4933</td>\n",
       "      <td>2017.2891</td>\n",
       "      <td>2038.1699</td>\n",
       "      <td>2000.6475</td>\n",
       "      <td>201210-1</td>\n",
       "      <td>Normal</td>\n",
       "    </tr>\n",
       "    <tr>\n",
       "      <th>201210-1-04</th>\n",
       "      <td>2250.4536</td>\n",
       "      <td>2248.6235</td>\n",
       "      <td>2245.0984</td>\n",
       "      <td>2242.7173</td>\n",
       "      <td>2235.2803</td>\n",
       "      <td>2228.9585</td>\n",
       "      <td>2236.0095</td>\n",
       "      <td>2229.6091</td>\n",
       "      <td>2225.9231</td>\n",
       "      <td>2211.0359</td>\n",
       "      <td>...</td>\n",
       "      <td>2009.0385</td>\n",
       "      <td>1953.3303</td>\n",
       "      <td>1963.5698</td>\n",
       "      <td>1964.5299</td>\n",
       "      <td>1969.5634</td>\n",
       "      <td>1986.6266</td>\n",
       "      <td>1970.1484</td>\n",
       "      <td>2007.0848</td>\n",
       "      <td>201210-1</td>\n",
       "      <td>Normal</td>\n",
       "    </tr>\n",
       "  </tbody>\n",
       "</table>\n",
       "<p>5 rows × 2051 columns</p>\n",
       "</div>"
      ],
      "text/plain": [
       "             400.22778  400.91116  401.59454  402.27789  402.96127  403.64465  \\\n",
       "SpecID                                                                          \n",
       "201210-1-00  1765.6628  1774.7809  1769.0302  1756.4220  1758.8690  1763.2300   \n",
       "201210-1-01  1966.9930  1962.4237  1954.5616  1954.3228  1963.0917  1975.0807   \n",
       "201210-1-02  2182.6694  2149.6565  2146.0227  2159.3459  2167.2910  2160.9861   \n",
       "201210-1-03  2445.0837  2430.4973  2422.7927  2434.3433  2454.9700  2462.8245   \n",
       "201210-1-04  2250.4536  2248.6235  2245.0984  2242.7173  2235.2803  2228.9585   \n",
       "\n",
       "             404.32803  405.01138  405.69476  406.37814  ...  1794.9886  \\\n",
       "SpecID                                                   ...              \n",
       "201210-1-00  1745.2285  1773.3534  1774.7166  1753.3281  ...  1210.4993   \n",
       "201210-1-01  1979.3162  1963.4561  1968.4587  1964.0000  ...  1382.6973   \n",
       "201210-1-02  2145.6575  2134.2004  2142.8303  2138.6309  ...  1976.2070   \n",
       "201210-1-03  2454.7007  2467.7329  2449.5161  2421.3474  ...  1992.3817   \n",
       "201210-1-04  2236.0095  2229.6091  2225.9231  2211.0359  ...  2009.0385   \n",
       "\n",
       "              1795.672  1796.3553  1797.0387   1797.722  1798.4055  1799.0889  \\\n",
       "SpecID                                                                          \n",
       "201210-1-00  1213.9619  1225.2153  1210.0010  1210.6858  1194.4679  1195.1451   \n",
       "201210-1-01  1363.7004  1360.6210  1354.0477  1353.0381  1353.9978  1361.2426   \n",
       "201210-1-02  1989.0183  1996.2838  1979.3507  1976.2002  1994.9839  1974.2030   \n",
       "201210-1-03  2022.6331  2001.8311  2010.0946  2006.4933  2017.2891  2038.1699   \n",
       "201210-1-04  1953.3303  1963.5698  1964.5299  1969.5634  1986.6266  1970.1484   \n",
       "\n",
       "             1799.7722     SurID  Status  \n",
       "SpecID                                    \n",
       "201210-1-00  1189.8683  201210-1  Normal  \n",
       "201210-1-01  1370.2874  201210-1  Normal  \n",
       "201210-1-02  1971.1880  201210-1  Normal  \n",
       "201210-1-03  2000.6475  201210-1  Normal  \n",
       "201210-1-04  2007.0848  201210-1  Normal  \n",
       "\n",
       "[5 rows x 2051 columns]"
      ]
     },
     "execution_count": 5,
     "metadata": {},
     "output_type": "execute_result"
    }
   ],
   "source": [
    "wavelength_df = prepare_wavelength_df(df, 'Absorbance')\n",
    "wavelength_df.head()"
   ]
  },
  {
   "cell_type": "markdown",
   "metadata": {},
   "source": [
    ">#### **Use Optuna to Find the Best Cleaning Parameter**"
   ]
  },
  {
   "cell_type": "code",
   "execution_count": 6,
   "metadata": {},
   "outputs": [
    {
     "data": {
      "text/html": [
       "<div>\n",
       "<style scoped>\n",
       "    .dataframe tbody tr th:only-of-type {\n",
       "        vertical-align: middle;\n",
       "    }\n",
       "\n",
       "    .dataframe tbody tr th {\n",
       "        vertical-align: top;\n",
       "    }\n",
       "\n",
       "    .dataframe thead th {\n",
       "        text-align: right;\n",
       "    }\n",
       "</style>\n",
       "<table border=\"1\" class=\"dataframe\">\n",
       "  <thead>\n",
       "    <tr style=\"text-align: right;\">\n",
       "      <th></th>\n",
       "      <th>SpecID</th>\n",
       "      <th>Seq</th>\n",
       "      <th>WaveNumber</th>\n",
       "      <th>Absorbance</th>\n",
       "      <th>SurID</th>\n",
       "      <th>Status</th>\n",
       "      <th>PageRank</th>\n",
       "    </tr>\n",
       "  </thead>\n",
       "  <tbody>\n",
       "    <tr>\n",
       "      <th>0</th>\n",
       "      <td>201210-1-00</td>\n",
       "      <td>293</td>\n",
       "      <td>400.22778</td>\n",
       "      <td>1765.6628</td>\n",
       "      <td>201210-1</td>\n",
       "      <td>Normal</td>\n",
       "      <td>0.610024</td>\n",
       "    </tr>\n",
       "    <tr>\n",
       "      <th>1</th>\n",
       "      <td>201210-1-00</td>\n",
       "      <td>294</td>\n",
       "      <td>400.91116</td>\n",
       "      <td>1774.7809</td>\n",
       "      <td>201210-1</td>\n",
       "      <td>Normal</td>\n",
       "      <td>0.610024</td>\n",
       "    </tr>\n",
       "    <tr>\n",
       "      <th>2</th>\n",
       "      <td>201210-1-00</td>\n",
       "      <td>295</td>\n",
       "      <td>401.59454</td>\n",
       "      <td>1769.0302</td>\n",
       "      <td>201210-1</td>\n",
       "      <td>Normal</td>\n",
       "      <td>0.610024</td>\n",
       "    </tr>\n",
       "    <tr>\n",
       "      <th>3</th>\n",
       "      <td>201210-1-00</td>\n",
       "      <td>296</td>\n",
       "      <td>402.27789</td>\n",
       "      <td>1756.4220</td>\n",
       "      <td>201210-1</td>\n",
       "      <td>Normal</td>\n",
       "      <td>0.610024</td>\n",
       "    </tr>\n",
       "    <tr>\n",
       "      <th>4</th>\n",
       "      <td>201210-1-00</td>\n",
       "      <td>297</td>\n",
       "      <td>402.96127</td>\n",
       "      <td>1758.8690</td>\n",
       "      <td>201210-1</td>\n",
       "      <td>Normal</td>\n",
       "      <td>0.610024</td>\n",
       "    </tr>\n",
       "    <tr>\n",
       "      <th>...</th>\n",
       "      <td>...</td>\n",
       "      <td>...</td>\n",
       "      <td>...</td>\n",
       "      <td>...</td>\n",
       "      <td>...</td>\n",
       "      <td>...</td>\n",
       "      <td>...</td>\n",
       "    </tr>\n",
       "    <tr>\n",
       "      <th>6239200</th>\n",
       "      <td>210526-3-09</td>\n",
       "      <td>2337</td>\n",
       "      <td>1797.03870</td>\n",
       "      <td>1617.3926</td>\n",
       "      <td>210526-3</td>\n",
       "      <td>Hyperglycemia</td>\n",
       "      <td>1.201164</td>\n",
       "    </tr>\n",
       "    <tr>\n",
       "      <th>6239201</th>\n",
       "      <td>210526-3-09</td>\n",
       "      <td>2338</td>\n",
       "      <td>1797.72200</td>\n",
       "      <td>1633.0911</td>\n",
       "      <td>210526-3</td>\n",
       "      <td>Hyperglycemia</td>\n",
       "      <td>1.201164</td>\n",
       "    </tr>\n",
       "    <tr>\n",
       "      <th>6239202</th>\n",
       "      <td>210526-3-09</td>\n",
       "      <td>2339</td>\n",
       "      <td>1798.40550</td>\n",
       "      <td>1633.3076</td>\n",
       "      <td>210526-3</td>\n",
       "      <td>Hyperglycemia</td>\n",
       "      <td>1.201164</td>\n",
       "    </tr>\n",
       "    <tr>\n",
       "      <th>6239203</th>\n",
       "      <td>210526-3-09</td>\n",
       "      <td>2340</td>\n",
       "      <td>1799.08890</td>\n",
       "      <td>1641.8665</td>\n",
       "      <td>210526-3</td>\n",
       "      <td>Hyperglycemia</td>\n",
       "      <td>1.201164</td>\n",
       "    </tr>\n",
       "    <tr>\n",
       "      <th>6239204</th>\n",
       "      <td>210526-3-09</td>\n",
       "      <td>2341</td>\n",
       "      <td>1799.77220</td>\n",
       "      <td>1618.2405</td>\n",
       "      <td>210526-3</td>\n",
       "      <td>Hyperglycemia</td>\n",
       "      <td>1.201164</td>\n",
       "    </tr>\n",
       "  </tbody>\n",
       "</table>\n",
       "<p>6239205 rows × 7 columns</p>\n",
       "</div>"
      ],
      "text/plain": [
       "              SpecID   Seq  WaveNumber  Absorbance     SurID         Status  \\\n",
       "0        201210-1-00   293   400.22778   1765.6628  201210-1         Normal   \n",
       "1        201210-1-00   294   400.91116   1774.7809  201210-1         Normal   \n",
       "2        201210-1-00   295   401.59454   1769.0302  201210-1         Normal   \n",
       "3        201210-1-00   296   402.27789   1756.4220  201210-1         Normal   \n",
       "4        201210-1-00   297   402.96127   1758.8690  201210-1         Normal   \n",
       "...              ...   ...         ...         ...       ...            ...   \n",
       "6239200  210526-3-09  2337  1797.03870   1617.3926  210526-3  Hyperglycemia   \n",
       "6239201  210526-3-09  2338  1797.72200   1633.0911  210526-3  Hyperglycemia   \n",
       "6239202  210526-3-09  2339  1798.40550   1633.3076  210526-3  Hyperglycemia   \n",
       "6239203  210526-3-09  2340  1799.08890   1641.8665  210526-3  Hyperglycemia   \n",
       "6239204  210526-3-09  2341  1799.77220   1618.2405  210526-3  Hyperglycemia   \n",
       "\n",
       "         PageRank  \n",
       "0        0.610024  \n",
       "1        0.610024  \n",
       "2        0.610024  \n",
       "3        0.610024  \n",
       "4        0.610024  \n",
       "...           ...  \n",
       "6239200  1.201164  \n",
       "6239201  1.201164  \n",
       "6239202  1.201164  \n",
       "6239203  1.201164  \n",
       "6239204  1.201164  \n",
       "\n",
       "[6239205 rows x 7 columns]"
      ]
     },
     "execution_count": 6,
     "metadata": {},
     "output_type": "execute_result"
    }
   ],
   "source": [
    "df"
   ]
  },
  {
   "cell_type": "code",
   "execution_count": 7,
   "metadata": {},
   "outputs": [
    {
     "name": "stderr",
     "output_type": "stream",
     "text": [
      "[I 2024-04-02 00:51:32,099] A new study created in memory with name: no-name-7670a54d-27c7-4b6a-b864-7b5b260ed461\n",
      "[I 2024-04-02 00:52:17,611] Trial 6 finished with value: 0.6307570110013414 and parameters: {'pagerank_cutoff': 0.8708442746749662, 'despike': False, 'baseline_correct': False, 'smoothing': False, 'scaling': True, 'scaling_type': 'vector', 'classifier': 'SVC', 'svc_c': 454.21397912957974, 'svc_kernel': 'rbf', 'svc_gamma': 'scale'}. Best is trial 6 with value: 0.6307570110013414.\n",
      "[I 2024-04-02 00:52:20,298] Trial 11 finished with value: 0.2702022977435311 and parameters: {'pagerank_cutoff': 0.9150758382449748, 'despike': False, 'baseline_correct': False, 'smoothing': False, 'scaling': True, 'scaling_type': 'normal', 'classifier': 'SVC', 'svc_c': 2.9695880580466346e-05, 'svc_kernel': 'rbf', 'svc_gamma': 'auto'}. Best is trial 6 with value: 0.6307570110013414.\n",
      "[I 2024-04-02 00:52:30,437] Trial 10 finished with value: 0.48415350441263527 and parameters: {'pagerank_cutoff': 0.382178628538719, 'despike': False, 'baseline_correct': False, 'smoothing': False, 'scaling': False, 'classifier': 'ExtraTrees', 'et_n_estimators': 44, 'et_max_depth': 2, 'et_criterion': 'log_loss'}. Best is trial 6 with value: 0.6307570110013414.\n",
      "[I 2024-04-02 00:52:40,117] Trial 8 finished with value: 0.5602301853780869 and parameters: {'pagerank_cutoff': 0.9106651771906644, 'despike': False, 'baseline_correct': False, 'smoothing': True, 'scaling': False, 'window_size': 183, 'smoothing_poly_order': 1, 'classifier': 'SVC', 'svc_c': 30620.624946326257, 'svc_kernel': 'rbf', 'svc_gamma': 'scale'}. Best is trial 6 with value: 0.6307570110013414.\n",
      "[I 2024-04-02 00:53:26,916] Trial 13 finished with value: 0.4079245926055405 and parameters: {'pagerank_cutoff': 0.4167059281340112, 'despike': True, 'baseline_correct': False, 'smoothing': False, 'scaling': False, 'despike_ma': 100, 'despike_threshold': 5.75, 'classifier': 'RandomForest', 'rf_n_estimators': 11, 'rf_max_depth': 2, 'rf_criterion': 'gini'}. Best is trial 6 with value: 0.6307570110013414.\n",
      "[I 2024-04-02 00:53:38,855] Trial 4 finished with value: 0.46625691870586783 and parameters: {'pagerank_cutoff': 0.3757883975325539, 'despike': True, 'baseline_correct': False, 'smoothing': False, 'scaling': False, 'despike_ma': 35, 'despike_threshold': 4.75, 'classifier': 'ExtraTrees', 'et_n_estimators': 103, 'et_max_depth': 3, 'et_criterion': 'log_loss'}. Best is trial 6 with value: 0.6307570110013414.\n",
      "[I 2024-04-02 00:53:48,238] Trial 0 finished with value: 0.43328120899311295 and parameters: {'pagerank_cutoff': 0.9977761128576367, 'despike': False, 'baseline_correct': False, 'smoothing': False, 'scaling': False, 'classifier': 'ExtraTrees', 'et_n_estimators': 163, 'et_max_depth': 8, 'et_criterion': 'gini'}. Best is trial 6 with value: 0.6307570110013414.\n",
      "[I 2024-04-02 00:54:00,774] Trial 7 finished with value: 0.4756688056242358 and parameters: {'pagerank_cutoff': 0.23818741096283835, 'despike': True, 'baseline_correct': False, 'smoothing': False, 'scaling': True, 'despike_ma': 55, 'despike_threshold': 3.75, 'scaling_type': 'normal', 'classifier': 'ExtraTrees', 'et_n_estimators': 113, 'et_max_depth': 9, 'et_criterion': 'log_loss'}. Best is trial 6 with value: 0.6307570110013414.\n",
      "[I 2024-04-02 00:54:03,250] Trial 9 finished with value: 0.5699358895421999 and parameters: {'pagerank_cutoff': 0.9573106022229447, 'despike': True, 'baseline_correct': True, 'smoothing': True, 'scaling': False, 'despike_ma': 100, 'despike_threshold': 5.75, 'baseline_correction_type': 'airpls', 'airpls_lam': 100000000, 'window_size': 181, 'smoothing_poly_order': 3, 'classifier': 'ExtraTrees', 'et_n_estimators': 62, 'et_max_depth': 19, 'et_criterion': 'log_loss'}. Best is trial 6 with value: 0.6307570110013414.\n",
      "[I 2024-04-02 00:54:28,069] Trial 12 finished with value: 0.4973551748775294 and parameters: {'pagerank_cutoff': 0.5259383244870364, 'despike': False, 'baseline_correct': True, 'smoothing': True, 'scaling': True, 'baseline_correction_type': 'psalsa', 'psalsa_lam': 1000000000, 'psalsa_p': 0.7000000000000001, 'window_size': 5, 'smoothing_poly_order': 2, 'scaling_type': 'svn', 'classifier': 'ExtraTrees', 'et_n_estimators': 17, 'et_max_depth': 5, 'et_criterion': 'log_loss'}. Best is trial 6 with value: 0.6307570110013414.\n"
     ]
    }
   ],
   "source": [
    "def objective(trial):\n",
    "\n",
    "    # Decide which cleaning steps to implement\n",
    "    pagerank_cutoff = trial.suggest_float('pagerank_cutoff', 0, 1)\n",
    "    despike = trial.suggest_categorical('despike', [True, False])\n",
    "    baseline_correct = trial.suggest_categorical('baseline_correct', [True, False])\n",
    "    smoothing = trial.suggest_categorical('smoothing', [True, False])\n",
    "    scaling = trial.suggest_categorical('scaling', [True, False])\n",
    "\n",
    "    df_copy = df.copy()\n",
    "\n",
    "    # Filter less central spectra in each surface\n",
    "    df_copy = df_copy[df_copy['PageRank'] > pagerank_cutoff]\n",
    "\n",
    "    # Apply preprocessing based on suggested parameters\n",
    "    if despike:\n",
    "        despike_ma = trial.suggest_int('despike_ma', 5, 100)\n",
    "        despike_threshold = trial.suggest_float('despike_threshold', 3, 10, step=0.25)\n",
    "        df_copy['Absorbance'] = df_copy.groupby('SpecID')['Absorbance'].transform(lambda x: despike_group(x, ma=despike_ma, threshold = despike_threshold))\n",
    "\n",
    "    if baseline_correct:\n",
    "\n",
    "        # Trial a different number of baseline correction\n",
    "        baseline_correction_type = trial.suggest_categorical('baseline_correction_type', ['asls', 'iasls', 'airpls', 'poly', 'psalsa'])\n",
    "        #baseline_correction_type = trial.suggest_categorical('baseline_correction_type', ['asls', 'iasls', 'airpls', 'poly'])\n",
    "        if baseline_correction_type == 'asls': \n",
    "            lam = trial.suggest_categorical('asls_lam', [10**2, 10**3, 10**4, 10**5, 10**6, 10**7, 10**8, 10**9, 10**10, 10**11])\n",
    "            p = trial.suggest_float('asls_p', 0.001, 0.1, step=0.001)\n",
    "            df_copy['Baseline'] = df_copy.groupby('SpecID')['Absorbance'].transform(lambda x: asls_baseline_correction(x, lam=lam, p=p))\n",
    "            df_copy['Absorbance'] = df_copy['Absorbance'] - df_copy['Baseline']\n",
    "        \n",
    "        elif baseline_correction_type == 'iasls':\n",
    "            lam = trial.suggest_categorical('iasls_lam', [10**2, 10**3, 10**4, 10**5, 10**6, 10**7, 10**8, 10**9, 10**10, 10**11])\n",
    "            p = trial.suggest_float('iasls_p', 0.001, 0.1, step=0.001)\n",
    "            lam_1 = trial.suggest_categorical('iasls_lam_1', [10**-3, 10**-4, 10**-5])\n",
    "            df_copy['Baseline'] = df_copy.groupby('SpecID')['Absorbance'].transform(lambda x: iasls_baseline_correction(x, lam=lam, p=p, lam_1=lam_1))\n",
    "            df_copy['Absorbance'] = df_copy['Absorbance'] - df_copy['Baseline']\n",
    "\n",
    "        elif baseline_correction_type == 'airpls':\n",
    "            lam = trial.suggest_categorical('airpls_lam', [10**2, 10**3, 10**4, 10**5, 10**6, 10**7, 10**8, 10**9, 10**10, 10**11])\n",
    "            df_copy['Baseline'] = df_copy.groupby('SpecID')['Absorbance'].transform(lambda x: airpls_baseline_correction(x, lam=lam))\n",
    "            df_copy['Absorbance'] = df_copy['Absorbance'] - df_copy['Baseline']\n",
    "\n",
    "        elif baseline_correction_type == 'poly':\n",
    "        #else:\n",
    "            poly_order = trial.suggest_int('polyfit_poly_order', 1, 5)\n",
    "            df_copy['Baseline'] = df_copy.groupby('SpecID')['Absorbance'].transform(lambda x: poly_baseline_correction(x, poly_order=poly_order))\n",
    "            df_copy['Absorbance'] = df_copy['Absorbance'] - df_copy['Baseline']\n",
    "\n",
    "        else:\n",
    "            lam = trial.suggest_categorical('psalsa_lam', [10**2, 10**3, 10**4, 10**5, 10**6, 10**7, 10**8, 10**9, 10**10, 10**11])\n",
    "            p = trial.suggest_float('psalsa_p', 0.1, 0.9, step=0.05)\n",
    "            df_copy['Baseline'] = df_copy.groupby('SpecID')['Absorbance'].transform(lambda x: psalsa_baseline_correction(x, lam=lam, p=p))\n",
    "            df_copy['Absorbance'] = df_copy['Absorbance'] - df_copy['Baseline']\n",
    "\n",
    "    if smoothing:\n",
    "        window_size = trial.suggest_int('window_size', 5, 201)\n",
    "        poly_order = trial.suggest_int('smoothing_poly_order', 1, 4)\n",
    "        df_copy['Absorbance'] = df_copy.groupby('SpecID')['Absorbance'].transform(lambda x: savgol_filter(x, window_size, poly_order, deriv=0))\n",
    "\n",
    "    if scaling:\n",
    "        scaling_type = trial.suggest_categorical('scaling_type', ['normal', 'vector', 'svn'])\n",
    "        if scaling_type == 'normal':\n",
    "            df_copy['Absorbance'] = df_copy.groupby('SpecID')['Absorbance'].transform(lambda x: normalise(x))\n",
    "        elif scaling_type == 'vector':\n",
    "            df_copy['Absorbance'] = df_copy.groupby('SpecID')['Absorbance'].transform(lambda x: vector_normalise(x))\n",
    "        else:\n",
    "            df_copy['Absorbance'] = df_copy.groupby('SpecID')['Absorbance'].transform(lambda x: svn_normalise(x))\n",
    "\n",
    "    # Prepare data for ML\n",
    "    wavelength_df = prepare_wavelength_df(df_copy, 'Absorbance')\n",
    "    X = wavelength_df.drop(['Status', 'SurID'], axis=1)\n",
    "    y = wavelength_df['Status']\n",
    "    groups = wavelength_df['SurID']\n",
    "\n",
    "    # Suggest classifier type\n",
    "    classifier_name = trial.suggest_categorical(\"classifier\", [\"ExtraTrees\", \"RandomForest\", \"SVC\"])\n",
    "\n",
    "    if classifier_name == \"ExtraTrees\":\n",
    "        classifier = ExtraTreesClassifier(\n",
    "            n_estimators=trial.suggest_int(\"et_n_estimators\", 10, 200),\n",
    "            max_depth=trial.suggest_int(\"et_max_depth\", 2, 32, log=True),\n",
    "            criterion=trial.suggest_categorical(\"et_criterion\", [\"gini\", \"entropy\", \"log_loss\"]),\n",
    "            random_state=1234,\n",
    "        )\n",
    "\n",
    "    elif classifier_name == \"RandomForest\":\n",
    "        classifier = RandomForestClassifier(\n",
    "            n_estimators=trial.suggest_int(\"rf_n_estimators\", 10, 200),\n",
    "            max_depth=trial.suggest_int(\"rf_max_depth\", 2, 32, log=True),\n",
    "            criterion=trial.suggest_categorical(\"rf_criterion\", [\"gini\", \"entropy\", \"log_loss\"]),\n",
    "            random_state=1234,\n",
    "        )\n",
    "        \n",
    "    else: # SVC\n",
    "        classifier = SVC(\n",
    "            C=trial.suggest_float(\"svc_c\", 1e-10, 1e10, log=True),\n",
    "            kernel=trial.suggest_categorical(\"svc_kernel\", [\"linear\", \"poly\", \"rbf\", \"sigmoid\"]),\n",
    "            gamma=trial.suggest_categorical(\"svc_gamma\", [\"scale\", \"auto\"]),\n",
    "            random_state=1234,\n",
    "        )\n",
    "\n",
    "    cv = GroupKFold(n_splits=10)\n",
    "\n",
    "    # Perform cross-validation\n",
    "    scores = cross_validate(classifier, X, y, groups=groups, cv=cv, scoring='accuracy')\n",
    "\n",
    "    # Return the average accuracy across all folds\n",
    "    return np.mean(scores['test_score'])\n",
    "\n",
    "\n",
    "# sampler = TPESampler(seed=10)  # Make the sampler behave in a deterministic way.\n",
    "# study = optuna.create_study(direction='maximise', sampler=sampler)\n",
    "\n",
    "study = optuna.create_study(direction=\"maximize\")\n",
    "# study.optimize(objective, n_trials=100, n_jobs=-1)\n",
    "study.optimize(objective, timeout=100, n_jobs=-1)\n",
    "\n",
    "print(study.best_trial)"
   ]
  },
  {
   "cell_type": "code",
   "execution_count": null,
   "metadata": {},
   "outputs": [],
   "source": [
    "results_df = study.trials_dataframe(attrs=(\"number\", \"value\", \"params\", \"state\"))\n",
    "results_df.to_csv(\"../../data/studies/all_models_extra_baseline+outliers.csv\")"
   ]
  },
  {
   "cell_type": "code",
   "execution_count": null,
   "metadata": {},
   "outputs": [
    {
     "data": {
      "text/plain": [
       "['../../data/studies/all_models_extra_baseline+outliers.pkl']"
      ]
     },
     "execution_count": 17,
     "metadata": {},
     "output_type": "execute_result"
    }
   ],
   "source": [
    "import joblib\n",
    "\n",
    "joblib.dump(study, \"../../data/studies/all_models_extra_baseline+outliers.pkl\")"
   ]
  },
  {
   "cell_type": "code",
   "execution_count": null,
   "metadata": {},
   "outputs": [],
   "source": [
    "# loaded_study = joblib.load(\"../../data/studies/cleaning_study.pkl\")\n",
    "# print(\"Best trial until now:\")\n",
    "# print(\" Value: \", loaded_study.best_trial.value)\n",
    "# print(\" Params: \")\n",
    "# for key, value in loaded_study.best_trial.params.items():\n",
    "#     print(f\"    {key}: {value}\")"
   ]
  },
  {
   "cell_type": "code",
   "execution_count": null,
   "metadata": {},
   "outputs": [
    {
     "name": "stdout",
     "output_type": "stream",
     "text": [
      "FrozenTrial(number=21, state=1, values=[0.6694482081004609], datetime_start=datetime.datetime(2024, 3, 31, 23, 5, 6, 115062), datetime_complete=datetime.datetime(2024, 3, 31, 23, 9, 31, 711423), params={'pagerank_cutoff': 1.0068762446845378, 'despike': True, 'baseline_correct': True, 'smoothing': False, 'scaling': True, 'despike_ma': 30, 'despike_threshold': 3.25, 'baseline_correction_type': 'poly', 'polyfit_poly_order': 1, 'scaling_type': 'vector', 'classifier': 'RandomForest', 'rf_n_estimators': 198, 'rf_max_depth': 26, 'rf_criterion': 'entropy'}, user_attrs={}, system_attrs={}, intermediate_values={}, distributions={'pagerank_cutoff': FloatDistribution(high=1.5, log=False, low=0.0, step=None), 'despike': CategoricalDistribution(choices=(True, False)), 'baseline_correct': CategoricalDistribution(choices=(True, False)), 'smoothing': CategoricalDistribution(choices=(True, False)), 'scaling': CategoricalDistribution(choices=(True, False)), 'despike_ma': IntDistribution(high=100, log=False, low=5, step=1), 'despike_threshold': FloatDistribution(high=10.0, log=False, low=3.0, step=0.25), 'baseline_correction_type': CategoricalDistribution(choices=('asls', 'iasls', 'airpls', 'poly', 'psalsa')), 'polyfit_poly_order': IntDistribution(high=5, log=False, low=1, step=1), 'scaling_type': CategoricalDistribution(choices=('normal', 'vector', 'svn')), 'classifier': CategoricalDistribution(choices=('ExtraTrees', 'RandomForest', 'SVC')), 'rf_n_estimators': IntDistribution(high=200, log=False, low=10, step=1), 'rf_max_depth': IntDistribution(high=32, log=True, low=2, step=1), 'rf_criterion': CategoricalDistribution(choices=('gini', 'entropy', 'log_loss'))}, trial_id=21, value=None)\n"
     ]
    }
   ],
   "source": [
    "print(study.best_trial)"
   ]
  },
  {
   "cell_type": "code",
   "execution_count": null,
   "metadata": {},
   "outputs": [
    {
     "data": {
      "application/vnd.plotly.v1+json": {
       "config": {
        "plotlyServerURL": "https://plot.ly"
       },
       "data": [
        {
         "mode": "markers",
         "name": "Objective Value",
         "type": "scatter",
         "x": [
          0,
          1,
          2,
          3,
          4,
          5,
          6,
          7,
          8,
          9,
          10,
          11,
          12,
          13,
          14,
          15,
          16,
          17,
          18,
          19,
          20,
          21,
          22,
          23,
          24,
          25,
          26,
          27,
          28,
          29,
          30,
          31,
          32,
          33,
          34,
          35,
          36,
          37,
          38,
          39,
          40,
          41,
          42,
          43,
          44,
          45,
          46,
          47,
          48,
          49,
          54,
          61,
          62,
          63,
          64,
          65,
          66,
          67,
          68,
          69,
          70,
          71,
          72,
          73,
          74,
          75,
          76,
          77,
          78,
          79,
          80,
          81,
          82,
          83,
          84,
          85,
          86,
          87,
          88,
          89,
          90,
          91,
          92,
          93,
          94,
          95,
          96,
          97,
          98,
          99,
          100,
          101,
          102,
          103,
          104,
          105,
          106,
          107,
          108,
          109,
          110,
          111
         ],
         "y": [
          0.36048137574672273,
          0.47363147666687305,
          0.49819951534167145,
          0.15533712261279128,
          0.36199766891039187,
          0.40467779288843486,
          0.5068900317263945,
          0.3992293224135911,
          0.5849419283280144,
          0.5430600821961963,
          0.2576335494378179,
          0.6103146029559064,
          0.496984126984127,
          0.49921267981095685,
          0.19200145522976378,
          0.20515664289750424,
          0.25279365079365074,
          0.1218785725063154,
          0.2164149791982884,
          0.340253564288734,
          0.5031191311687904,
          0.6694482081004609,
          0.48065079365079366,
          0.5483492063492064,
          0.5573492063492063,
          0.6011727148113412,
          0.5846321990470484,
          0.6368072756561844,
          0.5184199861190671,
          0.5729766747314392,
          0.6006400856774864,
          0.6006971042288083,
          0.5999247831720699,
          0.5886818007582667,
          0.5902497234501052,
          0.5666187536243478,
          0.6436268655711758,
          0.6173090892532003,
          0.6296757977229255,
          0.5770532935467791,
          0.6032072527516721,
          0.5806964847876765,
          0.5852366720021933,
          0.6042516462944295,
          0.6078370889550095,
          0.4877463520746434,
          0.4995999083959429,
          0.49343230736686233,
          0.5262541960963013,
          0.5210330497962077,
          0.41463756154269327,
          0.42348194068795963,
          0.5809064722687014,
          0.562955195644075,
          0.603132025533909,
          0.608416411306626,
          0.5882006610237591,
          0.6171860322198325,
          0.5820433386509256,
          0.5546739941908692,
          0.5998292042829296,
          0.6089643845630958,
          0.6241104537424464,
          0.5947696366366537,
          0.598871417724307,
          0.6385380731544632,
          0.4953495320715856,
          0.5256937275435642,
          0.5217173601661599,
          0.5568279629234685,
          0.47143251255799007,
          0.5484122402320903,
          0.561928777726774,
          0.5661753668162288,
          0.422986832986833,
          0.43267670394081986,
          0.4336019921224379,
          0.4000916343796749,
          0.5634609437932168,
          0.5642674967728343,
          0.39651132506169456,
          0.565908376942284,
          0.6012156068321083,
          0.6152867876594376,
          0.6070061527152907,
          0.5890109165278595,
          0.6049821336554169,
          0.6172137190202197,
          0.5384838471926746,
          0.24568576632573383,
          0.6122391417374268,
          0.23229407765553162,
          0.1576502416346815,
          0.5834254474274185,
          0.6033845551167876,
          0.5929955525912283,
          0.6373462101733802,
          0.5798184010345407,
          0.6161336960676491,
          0.584308810429812,
          0.5956199191123102,
          0.492180078168711
         ]
        },
        {
         "mode": "lines",
         "name": "Best Value",
         "type": "scatter",
         "x": [
          0,
          1,
          2,
          3,
          4,
          5,
          6,
          7,
          8,
          9,
          10,
          11,
          12,
          13,
          14,
          15,
          16,
          17,
          18,
          19,
          20,
          21,
          22,
          23,
          24,
          25,
          26,
          27,
          28,
          29,
          30,
          31,
          32,
          33,
          34,
          35,
          36,
          37,
          38,
          39,
          40,
          41,
          42,
          43,
          44,
          45,
          46,
          47,
          48,
          49,
          50,
          51,
          52,
          53,
          54,
          55,
          56,
          57,
          58,
          59,
          60,
          61,
          62,
          63,
          64,
          65,
          66,
          67,
          68,
          69,
          70,
          71,
          72,
          73,
          74,
          75,
          76,
          77,
          78,
          79,
          80,
          81,
          82,
          83,
          84,
          85,
          86,
          87,
          88,
          89,
          90,
          91,
          92,
          93,
          94,
          95,
          96,
          97,
          98,
          99,
          100,
          101,
          102,
          103,
          104,
          105,
          106,
          107,
          108,
          109,
          110,
          111
         ],
         "y": [
          0.36048137574672273,
          0.47363147666687305,
          0.49819951534167145,
          0.49819951534167145,
          0.49819951534167145,
          0.49819951534167145,
          0.5068900317263945,
          0.5068900317263945,
          0.5849419283280144,
          0.5849419283280144,
          0.5849419283280144,
          0.6103146029559064,
          0.6103146029559064,
          0.6103146029559064,
          0.6103146029559064,
          0.6103146029559064,
          0.6103146029559064,
          0.6103146029559064,
          0.6103146029559064,
          0.6103146029559064,
          0.6103146029559064,
          0.6694482081004609,
          0.6694482081004609,
          0.6694482081004609,
          0.6694482081004609,
          0.6694482081004609,
          0.6694482081004609,
          0.6694482081004609,
          0.6694482081004609,
          0.6694482081004609,
          0.6694482081004609,
          0.6694482081004609,
          0.6694482081004609,
          0.6694482081004609,
          0.6694482081004609,
          0.6694482081004609,
          0.6694482081004609,
          0.6694482081004609,
          0.6694482081004609,
          0.6694482081004609,
          0.6694482081004609,
          0.6694482081004609,
          0.6694482081004609,
          0.6694482081004609,
          0.6694482081004609,
          0.6694482081004609,
          0.6694482081004609,
          0.6694482081004609,
          0.6694482081004609,
          0.6694482081004609,
          0.6694482081004609,
          0.6694482081004609,
          0.6694482081004609,
          0.6694482081004609,
          0.6694482081004609,
          0.6694482081004609,
          0.6694482081004609,
          0.6694482081004609,
          0.6694482081004609,
          0.6694482081004609,
          0.6694482081004609,
          0.6694482081004609,
          0.6694482081004609,
          0.6694482081004609,
          0.6694482081004609,
          0.6694482081004609,
          0.6694482081004609,
          0.6694482081004609,
          0.6694482081004609,
          0.6694482081004609,
          0.6694482081004609,
          0.6694482081004609,
          0.6694482081004609,
          0.6694482081004609,
          0.6694482081004609,
          0.6694482081004609,
          0.6694482081004609,
          0.6694482081004609,
          0.6694482081004609,
          0.6694482081004609,
          0.6694482081004609,
          0.6694482081004609,
          0.6694482081004609,
          0.6694482081004609,
          0.6694482081004609,
          0.6694482081004609,
          0.6694482081004609,
          0.6694482081004609,
          0.6694482081004609,
          0.6694482081004609,
          0.6694482081004609,
          0.6694482081004609,
          0.6694482081004609,
          0.6694482081004609,
          0.6694482081004609,
          0.6694482081004609,
          0.6694482081004609,
          0.6694482081004609,
          0.6694482081004609,
          0.6694482081004609,
          0.6694482081004609,
          0.6694482081004609,
          0.6694482081004609,
          0.6694482081004609,
          0.6694482081004609,
          0.6694482081004609,
          0.6694482081004609,
          0.6694482081004609,
          0.6694482081004609,
          0.6694482081004609,
          0.6694482081004609,
          0.6694482081004609
         ]
        },
        {
         "marker": {
          "color": "#cccccc"
         },
         "mode": "markers",
         "name": "Infeasible Trial",
         "showlegend": false,
         "type": "scatter",
         "x": [],
         "y": []
        }
       ],
       "layout": {
        "template": {
         "data": {
          "bar": [
           {
            "error_x": {
             "color": "#2a3f5f"
            },
            "error_y": {
             "color": "#2a3f5f"
            },
            "marker": {
             "line": {
              "color": "#E5ECF6",
              "width": 0.5
             },
             "pattern": {
              "fillmode": "overlay",
              "size": 10,
              "solidity": 0.2
             }
            },
            "type": "bar"
           }
          ],
          "barpolar": [
           {
            "marker": {
             "line": {
              "color": "#E5ECF6",
              "width": 0.5
             },
             "pattern": {
              "fillmode": "overlay",
              "size": 10,
              "solidity": 0.2
             }
            },
            "type": "barpolar"
           }
          ],
          "carpet": [
           {
            "aaxis": {
             "endlinecolor": "#2a3f5f",
             "gridcolor": "white",
             "linecolor": "white",
             "minorgridcolor": "white",
             "startlinecolor": "#2a3f5f"
            },
            "baxis": {
             "endlinecolor": "#2a3f5f",
             "gridcolor": "white",
             "linecolor": "white",
             "minorgridcolor": "white",
             "startlinecolor": "#2a3f5f"
            },
            "type": "carpet"
           }
          ],
          "choropleth": [
           {
            "colorbar": {
             "outlinewidth": 0,
             "ticks": ""
            },
            "type": "choropleth"
           }
          ],
          "contour": [
           {
            "colorbar": {
             "outlinewidth": 0,
             "ticks": ""
            },
            "colorscale": [
             [
              0,
              "#0d0887"
             ],
             [
              0.1111111111111111,
              "#46039f"
             ],
             [
              0.2222222222222222,
              "#7201a8"
             ],
             [
              0.3333333333333333,
              "#9c179e"
             ],
             [
              0.4444444444444444,
              "#bd3786"
             ],
             [
              0.5555555555555556,
              "#d8576b"
             ],
             [
              0.6666666666666666,
              "#ed7953"
             ],
             [
              0.7777777777777778,
              "#fb9f3a"
             ],
             [
              0.8888888888888888,
              "#fdca26"
             ],
             [
              1,
              "#f0f921"
             ]
            ],
            "type": "contour"
           }
          ],
          "contourcarpet": [
           {
            "colorbar": {
             "outlinewidth": 0,
             "ticks": ""
            },
            "type": "contourcarpet"
           }
          ],
          "heatmap": [
           {
            "colorbar": {
             "outlinewidth": 0,
             "ticks": ""
            },
            "colorscale": [
             [
              0,
              "#0d0887"
             ],
             [
              0.1111111111111111,
              "#46039f"
             ],
             [
              0.2222222222222222,
              "#7201a8"
             ],
             [
              0.3333333333333333,
              "#9c179e"
             ],
             [
              0.4444444444444444,
              "#bd3786"
             ],
             [
              0.5555555555555556,
              "#d8576b"
             ],
             [
              0.6666666666666666,
              "#ed7953"
             ],
             [
              0.7777777777777778,
              "#fb9f3a"
             ],
             [
              0.8888888888888888,
              "#fdca26"
             ],
             [
              1,
              "#f0f921"
             ]
            ],
            "type": "heatmap"
           }
          ],
          "heatmapgl": [
           {
            "colorbar": {
             "outlinewidth": 0,
             "ticks": ""
            },
            "colorscale": [
             [
              0,
              "#0d0887"
             ],
             [
              0.1111111111111111,
              "#46039f"
             ],
             [
              0.2222222222222222,
              "#7201a8"
             ],
             [
              0.3333333333333333,
              "#9c179e"
             ],
             [
              0.4444444444444444,
              "#bd3786"
             ],
             [
              0.5555555555555556,
              "#d8576b"
             ],
             [
              0.6666666666666666,
              "#ed7953"
             ],
             [
              0.7777777777777778,
              "#fb9f3a"
             ],
             [
              0.8888888888888888,
              "#fdca26"
             ],
             [
              1,
              "#f0f921"
             ]
            ],
            "type": "heatmapgl"
           }
          ],
          "histogram": [
           {
            "marker": {
             "pattern": {
              "fillmode": "overlay",
              "size": 10,
              "solidity": 0.2
             }
            },
            "type": "histogram"
           }
          ],
          "histogram2d": [
           {
            "colorbar": {
             "outlinewidth": 0,
             "ticks": ""
            },
            "colorscale": [
             [
              0,
              "#0d0887"
             ],
             [
              0.1111111111111111,
              "#46039f"
             ],
             [
              0.2222222222222222,
              "#7201a8"
             ],
             [
              0.3333333333333333,
              "#9c179e"
             ],
             [
              0.4444444444444444,
              "#bd3786"
             ],
             [
              0.5555555555555556,
              "#d8576b"
             ],
             [
              0.6666666666666666,
              "#ed7953"
             ],
             [
              0.7777777777777778,
              "#fb9f3a"
             ],
             [
              0.8888888888888888,
              "#fdca26"
             ],
             [
              1,
              "#f0f921"
             ]
            ],
            "type": "histogram2d"
           }
          ],
          "histogram2dcontour": [
           {
            "colorbar": {
             "outlinewidth": 0,
             "ticks": ""
            },
            "colorscale": [
             [
              0,
              "#0d0887"
             ],
             [
              0.1111111111111111,
              "#46039f"
             ],
             [
              0.2222222222222222,
              "#7201a8"
             ],
             [
              0.3333333333333333,
              "#9c179e"
             ],
             [
              0.4444444444444444,
              "#bd3786"
             ],
             [
              0.5555555555555556,
              "#d8576b"
             ],
             [
              0.6666666666666666,
              "#ed7953"
             ],
             [
              0.7777777777777778,
              "#fb9f3a"
             ],
             [
              0.8888888888888888,
              "#fdca26"
             ],
             [
              1,
              "#f0f921"
             ]
            ],
            "type": "histogram2dcontour"
           }
          ],
          "mesh3d": [
           {
            "colorbar": {
             "outlinewidth": 0,
             "ticks": ""
            },
            "type": "mesh3d"
           }
          ],
          "parcoords": [
           {
            "line": {
             "colorbar": {
              "outlinewidth": 0,
              "ticks": ""
             }
            },
            "type": "parcoords"
           }
          ],
          "pie": [
           {
            "automargin": true,
            "type": "pie"
           }
          ],
          "scatter": [
           {
            "fillpattern": {
             "fillmode": "overlay",
             "size": 10,
             "solidity": 0.2
            },
            "type": "scatter"
           }
          ],
          "scatter3d": [
           {
            "line": {
             "colorbar": {
              "outlinewidth": 0,
              "ticks": ""
             }
            },
            "marker": {
             "colorbar": {
              "outlinewidth": 0,
              "ticks": ""
             }
            },
            "type": "scatter3d"
           }
          ],
          "scattercarpet": [
           {
            "marker": {
             "colorbar": {
              "outlinewidth": 0,
              "ticks": ""
             }
            },
            "type": "scattercarpet"
           }
          ],
          "scattergeo": [
           {
            "marker": {
             "colorbar": {
              "outlinewidth": 0,
              "ticks": ""
             }
            },
            "type": "scattergeo"
           }
          ],
          "scattergl": [
           {
            "marker": {
             "colorbar": {
              "outlinewidth": 0,
              "ticks": ""
             }
            },
            "type": "scattergl"
           }
          ],
          "scattermapbox": [
           {
            "marker": {
             "colorbar": {
              "outlinewidth": 0,
              "ticks": ""
             }
            },
            "type": "scattermapbox"
           }
          ],
          "scatterpolar": [
           {
            "marker": {
             "colorbar": {
              "outlinewidth": 0,
              "ticks": ""
             }
            },
            "type": "scatterpolar"
           }
          ],
          "scatterpolargl": [
           {
            "marker": {
             "colorbar": {
              "outlinewidth": 0,
              "ticks": ""
             }
            },
            "type": "scatterpolargl"
           }
          ],
          "scatterternary": [
           {
            "marker": {
             "colorbar": {
              "outlinewidth": 0,
              "ticks": ""
             }
            },
            "type": "scatterternary"
           }
          ],
          "surface": [
           {
            "colorbar": {
             "outlinewidth": 0,
             "ticks": ""
            },
            "colorscale": [
             [
              0,
              "#0d0887"
             ],
             [
              0.1111111111111111,
              "#46039f"
             ],
             [
              0.2222222222222222,
              "#7201a8"
             ],
             [
              0.3333333333333333,
              "#9c179e"
             ],
             [
              0.4444444444444444,
              "#bd3786"
             ],
             [
              0.5555555555555556,
              "#d8576b"
             ],
             [
              0.6666666666666666,
              "#ed7953"
             ],
             [
              0.7777777777777778,
              "#fb9f3a"
             ],
             [
              0.8888888888888888,
              "#fdca26"
             ],
             [
              1,
              "#f0f921"
             ]
            ],
            "type": "surface"
           }
          ],
          "table": [
           {
            "cells": {
             "fill": {
              "color": "#EBF0F8"
             },
             "line": {
              "color": "white"
             }
            },
            "header": {
             "fill": {
              "color": "#C8D4E3"
             },
             "line": {
              "color": "white"
             }
            },
            "type": "table"
           }
          ]
         },
         "layout": {
          "annotationdefaults": {
           "arrowcolor": "#2a3f5f",
           "arrowhead": 0,
           "arrowwidth": 1
          },
          "autotypenumbers": "strict",
          "coloraxis": {
           "colorbar": {
            "outlinewidth": 0,
            "ticks": ""
           }
          },
          "colorscale": {
           "diverging": [
            [
             0,
             "#8e0152"
            ],
            [
             0.1,
             "#c51b7d"
            ],
            [
             0.2,
             "#de77ae"
            ],
            [
             0.3,
             "#f1b6da"
            ],
            [
             0.4,
             "#fde0ef"
            ],
            [
             0.5,
             "#f7f7f7"
            ],
            [
             0.6,
             "#e6f5d0"
            ],
            [
             0.7,
             "#b8e186"
            ],
            [
             0.8,
             "#7fbc41"
            ],
            [
             0.9,
             "#4d9221"
            ],
            [
             1,
             "#276419"
            ]
           ],
           "sequential": [
            [
             0,
             "#0d0887"
            ],
            [
             0.1111111111111111,
             "#46039f"
            ],
            [
             0.2222222222222222,
             "#7201a8"
            ],
            [
             0.3333333333333333,
             "#9c179e"
            ],
            [
             0.4444444444444444,
             "#bd3786"
            ],
            [
             0.5555555555555556,
             "#d8576b"
            ],
            [
             0.6666666666666666,
             "#ed7953"
            ],
            [
             0.7777777777777778,
             "#fb9f3a"
            ],
            [
             0.8888888888888888,
             "#fdca26"
            ],
            [
             1,
             "#f0f921"
            ]
           ],
           "sequentialminus": [
            [
             0,
             "#0d0887"
            ],
            [
             0.1111111111111111,
             "#46039f"
            ],
            [
             0.2222222222222222,
             "#7201a8"
            ],
            [
             0.3333333333333333,
             "#9c179e"
            ],
            [
             0.4444444444444444,
             "#bd3786"
            ],
            [
             0.5555555555555556,
             "#d8576b"
            ],
            [
             0.6666666666666666,
             "#ed7953"
            ],
            [
             0.7777777777777778,
             "#fb9f3a"
            ],
            [
             0.8888888888888888,
             "#fdca26"
            ],
            [
             1,
             "#f0f921"
            ]
           ]
          },
          "colorway": [
           "#636efa",
           "#EF553B",
           "#00cc96",
           "#ab63fa",
           "#FFA15A",
           "#19d3f3",
           "#FF6692",
           "#B6E880",
           "#FF97FF",
           "#FECB52"
          ],
          "font": {
           "color": "#2a3f5f"
          },
          "geo": {
           "bgcolor": "white",
           "lakecolor": "white",
           "landcolor": "#E5ECF6",
           "showlakes": true,
           "showland": true,
           "subunitcolor": "white"
          },
          "hoverlabel": {
           "align": "left"
          },
          "hovermode": "closest",
          "mapbox": {
           "style": "light"
          },
          "paper_bgcolor": "white",
          "plot_bgcolor": "#E5ECF6",
          "polar": {
           "angularaxis": {
            "gridcolor": "white",
            "linecolor": "white",
            "ticks": ""
           },
           "bgcolor": "#E5ECF6",
           "radialaxis": {
            "gridcolor": "white",
            "linecolor": "white",
            "ticks": ""
           }
          },
          "scene": {
           "xaxis": {
            "backgroundcolor": "#E5ECF6",
            "gridcolor": "white",
            "gridwidth": 2,
            "linecolor": "white",
            "showbackground": true,
            "ticks": "",
            "zerolinecolor": "white"
           },
           "yaxis": {
            "backgroundcolor": "#E5ECF6",
            "gridcolor": "white",
            "gridwidth": 2,
            "linecolor": "white",
            "showbackground": true,
            "ticks": "",
            "zerolinecolor": "white"
           },
           "zaxis": {
            "backgroundcolor": "#E5ECF6",
            "gridcolor": "white",
            "gridwidth": 2,
            "linecolor": "white",
            "showbackground": true,
            "ticks": "",
            "zerolinecolor": "white"
           }
          },
          "shapedefaults": {
           "line": {
            "color": "#2a3f5f"
           }
          },
          "ternary": {
           "aaxis": {
            "gridcolor": "white",
            "linecolor": "white",
            "ticks": ""
           },
           "baxis": {
            "gridcolor": "white",
            "linecolor": "white",
            "ticks": ""
           },
           "bgcolor": "#E5ECF6",
           "caxis": {
            "gridcolor": "white",
            "linecolor": "white",
            "ticks": ""
           }
          },
          "title": {
           "x": 0.05
          },
          "xaxis": {
           "automargin": true,
           "gridcolor": "white",
           "linecolor": "white",
           "ticks": "",
           "title": {
            "standoff": 15
           },
           "zerolinecolor": "white",
           "zerolinewidth": 2
          },
          "yaxis": {
           "automargin": true,
           "gridcolor": "white",
           "linecolor": "white",
           "ticks": "",
           "title": {
            "standoff": 15
           },
           "zerolinecolor": "white",
           "zerolinewidth": 2
          }
         }
        },
        "title": {
         "text": "Optimization History Plot"
        },
        "xaxis": {
         "title": {
          "text": "Trial"
         }
        },
        "yaxis": {
         "title": {
          "text": "Objective Value"
         }
        }
       }
      }
     },
     "metadata": {},
     "output_type": "display_data"
    }
   ],
   "source": [
    "from optuna.visualization import plot_optimization_history, plot_slice\n",
    "\n",
    "plot_optimization_history(study)"
   ]
  },
  {
   "cell_type": "code",
   "execution_count": null,
   "metadata": {},
   "outputs": [
    {
     "data": {
      "application/vnd.plotly.v1+json": {
       "config": {
        "plotlyServerURL": "https://plot.ly"
       },
       "data": [
        {
         "marker": {
          "color": [
           4,
           18,
           83,
           84,
           85,
           90
          ],
          "colorbar": {
           "title": {
            "text": "Trial"
           },
           "x": 1,
           "xpad": 40
          },
          "colorscale": [
           [
            0,
            "rgb(247,251,255)"
           ],
           [
            0.125,
            "rgb(222,235,247)"
           ],
           [
            0.25,
            "rgb(198,219,239)"
           ],
           [
            0.375,
            "rgb(158,202,225)"
           ],
           [
            0.5,
            "rgb(107,174,214)"
           ],
           [
            0.625,
            "rgb(66,146,198)"
           ],
           [
            0.75,
            "rgb(33,113,181)"
           ],
           [
            0.875,
            "rgb(8,81,156)"
           ],
           [
            1,
            "rgb(8,48,107)"
           ]
          ],
          "line": {
           "color": "Grey",
           "width": 0.5
          },
          "showscale": true
         },
         "mode": "markers",
         "name": "Feasible Trial",
         "showlegend": false,
         "type": "scatter",
         "x": [
          10000,
          100,
          100000000000,
          10000000,
          10000000,
          1000
         ],
         "xaxis": "x",
         "y": [
          0.36199766891039187,
          0.2164149791982884,
          0.5661753668162288,
          0.422986832986833,
          0.43267670394081986,
          0.39651132506169456
         ],
         "yaxis": "y"
        },
        {
         "marker": {
          "color": [
           3,
           13,
           15,
           91
          ],
          "colorbar": {
           "title": {
            "text": "Trial"
           },
           "x": 1,
           "xpad": 40
          },
          "colorscale": [
           [
            0,
            "rgb(247,251,255)"
           ],
           [
            0.125,
            "rgb(222,235,247)"
           ],
           [
            0.25,
            "rgb(198,219,239)"
           ],
           [
            0.375,
            "rgb(158,202,225)"
           ],
           [
            0.5,
            "rgb(107,174,214)"
           ],
           [
            0.625,
            "rgb(66,146,198)"
           ],
           [
            0.75,
            "rgb(33,113,181)"
           ],
           [
            0.875,
            "rgb(8,81,156)"
           ],
           [
            1,
            "rgb(8,48,107)"
           ]
          ],
          "line": {
           "color": "Grey",
           "width": 0.5
          },
          "showscale": false
         },
         "mode": "markers",
         "name": "Feasible Trial",
         "showlegend": false,
         "type": "scatter",
         "x": [
          100,
          1000000000,
          10000000,
          100000000
         ],
         "xaxis": "x2",
         "y": [
          0.15533712261279128,
          0.49921267981095685,
          0.20515664289750424,
          0.565908376942284
         ],
         "yaxis": "y2"
        },
        {
         "marker": {
          "color": [
           3,
           13,
           15,
           91
          ],
          "colorbar": {
           "title": {
            "text": "Trial"
           },
           "x": 1,
           "xpad": 40
          },
          "colorscale": [
           [
            0,
            "rgb(247,251,255)"
           ],
           [
            0.125,
            "rgb(222,235,247)"
           ],
           [
            0.25,
            "rgb(198,219,239)"
           ],
           [
            0.375,
            "rgb(158,202,225)"
           ],
           [
            0.5,
            "rgb(107,174,214)"
           ],
           [
            0.625,
            "rgb(66,146,198)"
           ],
           [
            0.75,
            "rgb(33,113,181)"
           ],
           [
            0.875,
            "rgb(8,81,156)"
           ],
           [
            1,
            "rgb(8,48,107)"
           ]
          ],
          "line": {
           "color": "Grey",
           "width": 0.5
          },
          "showscale": false
         },
         "mode": "markers",
         "name": "Feasible Trial",
         "showlegend": false,
         "type": "scatter",
         "x": [
          0.07300000000000001,
          0.039,
          0.07200000000000001,
          0.004
         ],
         "xaxis": "x3",
         "y": [
          0.15533712261279128,
          0.49921267981095685,
          0.20515664289750424,
          0.565908376942284
         ],
         "yaxis": "y3"
        },
        {
         "marker": {
          "color": [
           0,
           1,
           2,
           3,
           4,
           5,
           6,
           7,
           8,
           9,
           10,
           11,
           12,
           13,
           14,
           15,
           16,
           17,
           18,
           19,
           20,
           21,
           22,
           23,
           24,
           25,
           26,
           27,
           28,
           29,
           30,
           31,
           32,
           33,
           34,
           35,
           36,
           37,
           38,
           39,
           40,
           41,
           42,
           43,
           44,
           45,
           46,
           47,
           48,
           49,
           54,
           61,
           62,
           63,
           64,
           65,
           66,
           67,
           68,
           69,
           70,
           71,
           72,
           73,
           74,
           75,
           76,
           77,
           78,
           79,
           80,
           81,
           82,
           83,
           84,
           85,
           86,
           87,
           88,
           89,
           90,
           91,
           92,
           93,
           94,
           95,
           96,
           97,
           98,
           99,
           100,
           101,
           102,
           103,
           104,
           105,
           106,
           107,
           108,
           109,
           110,
           111
          ],
          "colorbar": {
           "title": {
            "text": "Trial"
           },
           "x": 1,
           "xpad": 40
          },
          "colorscale": [
           [
            0,
            "rgb(247,251,255)"
           ],
           [
            0.125,
            "rgb(222,235,247)"
           ],
           [
            0.25,
            "rgb(198,219,239)"
           ],
           [
            0.375,
            "rgb(158,202,225)"
           ],
           [
            0.5,
            "rgb(107,174,214)"
           ],
           [
            0.625,
            "rgb(66,146,198)"
           ],
           [
            0.75,
            "rgb(33,113,181)"
           ],
           [
            0.875,
            "rgb(8,81,156)"
           ],
           [
            1,
            "rgb(8,48,107)"
           ]
          ],
          "line": {
           "color": "Grey",
           "width": 0.5
          },
          "showscale": false
         },
         "mode": "markers",
         "name": "Feasible Trial",
         "showlegend": false,
         "type": "scatter",
         "x": [
          false,
          false,
          false,
          true,
          true,
          true,
          false,
          false,
          true,
          false,
          true,
          false,
          true,
          true,
          true,
          true,
          true,
          true,
          true,
          true,
          true,
          true,
          false,
          false,
          false,
          false,
          false,
          false,
          false,
          false,
          false,
          false,
          false,
          false,
          false,
          false,
          false,
          false,
          false,
          false,
          false,
          false,
          false,
          false,
          false,
          false,
          false,
          false,
          false,
          false,
          true,
          true,
          false,
          false,
          false,
          false,
          false,
          false,
          false,
          false,
          false,
          false,
          false,
          false,
          false,
          true,
          true,
          true,
          true,
          true,
          true,
          true,
          true,
          true,
          true,
          true,
          false,
          false,
          false,
          false,
          true,
          true,
          false,
          false,
          false,
          false,
          false,
          false,
          false,
          false,
          false,
          false,
          false,
          false,
          false,
          false,
          false,
          false,
          false,
          false,
          false,
          false
         ],
         "xaxis": "x4",
         "y": [
          0.36048137574672273,
          0.47363147666687305,
          0.49819951534167145,
          0.15533712261279128,
          0.36199766891039187,
          0.40467779288843486,
          0.5068900317263945,
          0.3992293224135911,
          0.5849419283280144,
          0.5430600821961963,
          0.2576335494378179,
          0.6103146029559064,
          0.496984126984127,
          0.49921267981095685,
          0.19200145522976378,
          0.20515664289750424,
          0.25279365079365074,
          0.1218785725063154,
          0.2164149791982884,
          0.340253564288734,
          0.5031191311687904,
          0.6694482081004609,
          0.48065079365079366,
          0.5483492063492064,
          0.5573492063492063,
          0.6011727148113412,
          0.5846321990470484,
          0.6368072756561844,
          0.5184199861190671,
          0.5729766747314392,
          0.6006400856774864,
          0.6006971042288083,
          0.5999247831720699,
          0.5886818007582667,
          0.5902497234501052,
          0.5666187536243478,
          0.6436268655711758,
          0.6173090892532003,
          0.6296757977229255,
          0.5770532935467791,
          0.6032072527516721,
          0.5806964847876765,
          0.5852366720021933,
          0.6042516462944295,
          0.6078370889550095,
          0.4877463520746434,
          0.4995999083959429,
          0.49343230736686233,
          0.5262541960963013,
          0.5210330497962077,
          0.41463756154269327,
          0.42348194068795963,
          0.5809064722687014,
          0.562955195644075,
          0.603132025533909,
          0.608416411306626,
          0.5882006610237591,
          0.6171860322198325,
          0.5820433386509256,
          0.5546739941908692,
          0.5998292042829296,
          0.6089643845630958,
          0.6241104537424464,
          0.5947696366366537,
          0.598871417724307,
          0.6385380731544632,
          0.4953495320715856,
          0.5256937275435642,
          0.5217173601661599,
          0.5568279629234685,
          0.47143251255799007,
          0.5484122402320903,
          0.561928777726774,
          0.5661753668162288,
          0.422986832986833,
          0.43267670394081986,
          0.4336019921224379,
          0.4000916343796749,
          0.5634609437932168,
          0.5642674967728343,
          0.39651132506169456,
          0.565908376942284,
          0.6012156068321083,
          0.6152867876594376,
          0.6070061527152907,
          0.5890109165278595,
          0.6049821336554169,
          0.6172137190202197,
          0.5384838471926746,
          0.24568576632573383,
          0.6122391417374268,
          0.23229407765553162,
          0.1576502416346815,
          0.5834254474274185,
          0.6033845551167876,
          0.5929955525912283,
          0.6373462101733802,
          0.5798184010345407,
          0.6161336960676491,
          0.584308810429812,
          0.5956199191123102,
          0.492180078168711
         ],
         "yaxis": "y4"
        },
        {
         "marker": {
          "color": [
           3,
           4,
           5,
           8,
           10,
           12,
           13,
           14,
           15,
           16,
           17,
           18,
           19,
           20,
           21,
           54,
           61,
           75,
           76,
           77,
           78,
           79,
           80,
           81,
           82,
           83,
           84,
           85,
           90,
           91
          ],
          "colorbar": {
           "title": {
            "text": "Trial"
           },
           "x": 1,
           "xpad": 40
          },
          "colorscale": [
           [
            0,
            "rgb(247,251,255)"
           ],
           [
            0.125,
            "rgb(222,235,247)"
           ],
           [
            0.25,
            "rgb(198,219,239)"
           ],
           [
            0.375,
            "rgb(158,202,225)"
           ],
           [
            0.5,
            "rgb(107,174,214)"
           ],
           [
            0.625,
            "rgb(66,146,198)"
           ],
           [
            0.75,
            "rgb(33,113,181)"
           ],
           [
            0.875,
            "rgb(8,81,156)"
           ],
           [
            1,
            "rgb(8,48,107)"
           ]
          ],
          "line": {
           "color": "Grey",
           "width": 0.5
          },
          "showscale": false
         },
         "mode": "markers",
         "name": "Feasible Trial",
         "showlegend": false,
         "type": "scatter",
         "x": [
          "asls",
          "airpls",
          "iasls",
          "poly",
          "iasls",
          "poly",
          "asls",
          "poly",
          "asls",
          "iasls",
          "psalsa",
          "airpls",
          "poly",
          "iasls",
          "poly",
          "psalsa",
          "psalsa",
          "poly",
          "poly",
          "poly",
          "poly",
          "poly",
          "poly",
          "poly",
          "poly",
          "airpls",
          "airpls",
          "airpls",
          "airpls",
          "asls"
         ],
         "xaxis": "x5",
         "y": [
          0.15533712261279128,
          0.36199766891039187,
          0.40467779288843486,
          0.5849419283280144,
          0.2576335494378179,
          0.496984126984127,
          0.49921267981095685,
          0.19200145522976378,
          0.20515664289750424,
          0.25279365079365074,
          0.1218785725063154,
          0.2164149791982884,
          0.340253564288734,
          0.5031191311687904,
          0.6694482081004609,
          0.41463756154269327,
          0.42348194068795963,
          0.6385380731544632,
          0.4953495320715856,
          0.5256937275435642,
          0.5217173601661599,
          0.5568279629234685,
          0.47143251255799007,
          0.5484122402320903,
          0.561928777726774,
          0.5661753668162288,
          0.422986832986833,
          0.43267670394081986,
          0.39651132506169456,
          0.565908376942284
         ],
         "yaxis": "y5"
        },
        {
         "marker": {
          "color": [
           0,
           1,
           2,
           3,
           4,
           5,
           6,
           7,
           8,
           9,
           10,
           11,
           12,
           13,
           14,
           15,
           16,
           17,
           18,
           19,
           20,
           21,
           22,
           23,
           24,
           25,
           26,
           27,
           28,
           29,
           30,
           31,
           32,
           33,
           34,
           35,
           36,
           37,
           38,
           39,
           40,
           41,
           42,
           43,
           44,
           45,
           46,
           47,
           48,
           49,
           54,
           61,
           62,
           63,
           64,
           65,
           66,
           67,
           68,
           69,
           70,
           71,
           72,
           73,
           74,
           75,
           76,
           77,
           78,
           79,
           80,
           81,
           82,
           83,
           84,
           85,
           86,
           87,
           88,
           89,
           90,
           91,
           92,
           93,
           94,
           95,
           96,
           97,
           98,
           99,
           100,
           101,
           102,
           103,
           104,
           105,
           106,
           107,
           108,
           109,
           110,
           111
          ],
          "colorbar": {
           "title": {
            "text": "Trial"
           },
           "x": 1,
           "xpad": 40
          },
          "colorscale": [
           [
            0,
            "rgb(247,251,255)"
           ],
           [
            0.125,
            "rgb(222,235,247)"
           ],
           [
            0.25,
            "rgb(198,219,239)"
           ],
           [
            0.375,
            "rgb(158,202,225)"
           ],
           [
            0.5,
            "rgb(107,174,214)"
           ],
           [
            0.625,
            "rgb(66,146,198)"
           ],
           [
            0.75,
            "rgb(33,113,181)"
           ],
           [
            0.875,
            "rgb(8,81,156)"
           ],
           [
            1,
            "rgb(8,48,107)"
           ]
          ],
          "line": {
           "color": "Grey",
           "width": 0.5
          },
          "showscale": false
         },
         "mode": "markers",
         "name": "Feasible Trial",
         "showlegend": false,
         "type": "scatter",
         "x": [
          "SVC",
          "ExtraTrees",
          "ExtraTrees",
          "SVC",
          "ExtraTrees",
          "RandomForest",
          "ExtraTrees",
          "SVC",
          "ExtraTrees",
          "RandomForest",
          "SVC",
          "RandomForest",
          "RandomForest",
          "ExtraTrees",
          "SVC",
          "SVC",
          "SVC",
          "SVC",
          "ExtraTrees",
          "ExtraTrees",
          "RandomForest",
          "RandomForest",
          "ExtraTrees",
          "RandomForest",
          "RandomForest",
          "RandomForest",
          "RandomForest",
          "RandomForest",
          "RandomForest",
          "RandomForest",
          "RandomForest",
          "RandomForest",
          "RandomForest",
          "RandomForest",
          "RandomForest",
          "RandomForest",
          "RandomForest",
          "RandomForest",
          "RandomForest",
          "RandomForest",
          "RandomForest",
          "RandomForest",
          "RandomForest",
          "RandomForest",
          "RandomForest",
          "RandomForest",
          "RandomForest",
          "RandomForest",
          "RandomForest",
          "RandomForest",
          "SVC",
          "SVC",
          "RandomForest",
          "RandomForest",
          "RandomForest",
          "RandomForest",
          "RandomForest",
          "RandomForest",
          "RandomForest",
          "RandomForest",
          "RandomForest",
          "RandomForest",
          "RandomForest",
          "RandomForest",
          "RandomForest",
          "RandomForest",
          "ExtraTrees",
          "ExtraTrees",
          "ExtraTrees",
          "ExtraTrees",
          "ExtraTrees",
          "ExtraTrees",
          "RandomForest",
          "RandomForest",
          "ExtraTrees",
          "RandomForest",
          "RandomForest",
          "RandomForest",
          "RandomForest",
          "RandomForest",
          "RandomForest",
          "RandomForest",
          "RandomForest",
          "RandomForest",
          "RandomForest",
          "RandomForest",
          "RandomForest",
          "RandomForest",
          "RandomForest",
          "SVC",
          "SVC",
          "SVC",
          "SVC",
          "SVC",
          "RandomForest",
          "RandomForest",
          "SVC",
          "SVC",
          "SVC",
          "RandomForest",
          "RandomForest",
          "RandomForest"
         ],
         "xaxis": "x6",
         "y": [
          0.36048137574672273,
          0.47363147666687305,
          0.49819951534167145,
          0.15533712261279128,
          0.36199766891039187,
          0.40467779288843486,
          0.5068900317263945,
          0.3992293224135911,
          0.5849419283280144,
          0.5430600821961963,
          0.2576335494378179,
          0.6103146029559064,
          0.496984126984127,
          0.49921267981095685,
          0.19200145522976378,
          0.20515664289750424,
          0.25279365079365074,
          0.1218785725063154,
          0.2164149791982884,
          0.340253564288734,
          0.5031191311687904,
          0.6694482081004609,
          0.48065079365079366,
          0.5483492063492064,
          0.5573492063492063,
          0.6011727148113412,
          0.5846321990470484,
          0.6368072756561844,
          0.5184199861190671,
          0.5729766747314392,
          0.6006400856774864,
          0.6006971042288083,
          0.5999247831720699,
          0.5886818007582667,
          0.5902497234501052,
          0.5666187536243478,
          0.6436268655711758,
          0.6173090892532003,
          0.6296757977229255,
          0.5770532935467791,
          0.6032072527516721,
          0.5806964847876765,
          0.5852366720021933,
          0.6042516462944295,
          0.6078370889550095,
          0.4877463520746434,
          0.4995999083959429,
          0.49343230736686233,
          0.5262541960963013,
          0.5210330497962077,
          0.41463756154269327,
          0.42348194068795963,
          0.5809064722687014,
          0.562955195644075,
          0.603132025533909,
          0.608416411306626,
          0.5882006610237591,
          0.6171860322198325,
          0.5820433386509256,
          0.5546739941908692,
          0.5998292042829296,
          0.6089643845630958,
          0.6241104537424464,
          0.5947696366366537,
          0.598871417724307,
          0.6385380731544632,
          0.4953495320715856,
          0.5256937275435642,
          0.5217173601661599,
          0.5568279629234685,
          0.47143251255799007,
          0.5484122402320903,
          0.561928777726774,
          0.5661753668162288,
          0.422986832986833,
          0.43267670394081986,
          0.4336019921224379,
          0.4000916343796749,
          0.5634609437932168,
          0.5642674967728343,
          0.39651132506169456,
          0.565908376942284,
          0.6012156068321083,
          0.6152867876594376,
          0.6070061527152907,
          0.5890109165278595,
          0.6049821336554169,
          0.6172137190202197,
          0.5384838471926746,
          0.24568576632573383,
          0.6122391417374268,
          0.23229407765553162,
          0.1576502416346815,
          0.5834254474274185,
          0.6033845551167876,
          0.5929955525912283,
          0.6373462101733802,
          0.5798184010345407,
          0.6161336960676491,
          0.584308810429812,
          0.5956199191123102,
          0.492180078168711
         ],
         "yaxis": "y6"
        },
        {
         "marker": {
          "color": [
           0,
           1,
           2,
           3,
           4,
           5,
           6,
           7,
           8,
           9,
           10,
           11,
           12,
           13,
           14,
           15,
           16,
           17,
           18,
           19,
           20,
           21,
           22,
           23,
           24,
           25,
           26,
           27,
           28,
           29,
           30,
           31,
           32,
           33,
           34,
           35,
           36,
           37,
           38,
           39,
           40,
           41,
           42,
           43,
           44,
           45,
           46,
           47,
           48,
           49,
           54,
           61,
           62,
           63,
           64,
           65,
           66,
           67,
           68,
           69,
           70,
           71,
           72,
           73,
           74,
           75,
           76,
           77,
           78,
           79,
           80,
           81,
           82,
           83,
           84,
           85,
           86,
           87,
           88,
           89,
           90,
           91,
           92,
           93,
           94,
           95,
           96,
           97,
           98,
           99,
           100,
           101,
           102,
           103,
           104,
           105,
           106,
           107,
           108,
           109,
           110,
           111
          ],
          "colorbar": {
           "title": {
            "text": "Trial"
           },
           "x": 1,
           "xpad": 40
          },
          "colorscale": [
           [
            0,
            "rgb(247,251,255)"
           ],
           [
            0.125,
            "rgb(222,235,247)"
           ],
           [
            0.25,
            "rgb(198,219,239)"
           ],
           [
            0.375,
            "rgb(158,202,225)"
           ],
           [
            0.5,
            "rgb(107,174,214)"
           ],
           [
            0.625,
            "rgb(66,146,198)"
           ],
           [
            0.75,
            "rgb(33,113,181)"
           ],
           [
            0.875,
            "rgb(8,81,156)"
           ],
           [
            1,
            "rgb(8,48,107)"
           ]
          ],
          "line": {
           "color": "Grey",
           "width": 0.5
          },
          "showscale": false
         },
         "mode": "markers",
         "name": "Feasible Trial",
         "showlegend": false,
         "type": "scatter",
         "x": [
          false,
          false,
          false,
          false,
          false,
          true,
          true,
          false,
          false,
          true,
          true,
          false,
          true,
          false,
          true,
          false,
          true,
          true,
          false,
          false,
          true,
          true,
          true,
          true,
          true,
          true,
          true,
          true,
          true,
          false,
          false,
          false,
          false,
          false,
          false,
          false,
          true,
          true,
          true,
          true,
          true,
          true,
          true,
          true,
          true,
          true,
          true,
          true,
          true,
          true,
          true,
          true,
          true,
          true,
          true,
          true,
          true,
          true,
          true,
          true,
          true,
          true,
          true,
          true,
          true,
          true,
          true,
          true,
          true,
          true,
          true,
          true,
          true,
          true,
          true,
          false,
          false,
          false,
          false,
          false,
          true,
          true,
          false,
          false,
          false,
          true,
          true,
          true,
          true,
          true,
          true,
          true,
          true,
          true,
          true,
          true,
          true,
          true,
          true,
          true,
          true,
          true
         ],
         "xaxis": "x7",
         "y": [
          0.36048137574672273,
          0.47363147666687305,
          0.49819951534167145,
          0.15533712261279128,
          0.36199766891039187,
          0.40467779288843486,
          0.5068900317263945,
          0.3992293224135911,
          0.5849419283280144,
          0.5430600821961963,
          0.2576335494378179,
          0.6103146029559064,
          0.496984126984127,
          0.49921267981095685,
          0.19200145522976378,
          0.20515664289750424,
          0.25279365079365074,
          0.1218785725063154,
          0.2164149791982884,
          0.340253564288734,
          0.5031191311687904,
          0.6694482081004609,
          0.48065079365079366,
          0.5483492063492064,
          0.5573492063492063,
          0.6011727148113412,
          0.5846321990470484,
          0.6368072756561844,
          0.5184199861190671,
          0.5729766747314392,
          0.6006400856774864,
          0.6006971042288083,
          0.5999247831720699,
          0.5886818007582667,
          0.5902497234501052,
          0.5666187536243478,
          0.6436268655711758,
          0.6173090892532003,
          0.6296757977229255,
          0.5770532935467791,
          0.6032072527516721,
          0.5806964847876765,
          0.5852366720021933,
          0.6042516462944295,
          0.6078370889550095,
          0.4877463520746434,
          0.4995999083959429,
          0.49343230736686233,
          0.5262541960963013,
          0.5210330497962077,
          0.41463756154269327,
          0.42348194068795963,
          0.5809064722687014,
          0.562955195644075,
          0.603132025533909,
          0.608416411306626,
          0.5882006610237591,
          0.6171860322198325,
          0.5820433386509256,
          0.5546739941908692,
          0.5998292042829296,
          0.6089643845630958,
          0.6241104537424464,
          0.5947696366366537,
          0.598871417724307,
          0.6385380731544632,
          0.4953495320715856,
          0.5256937275435642,
          0.5217173601661599,
          0.5568279629234685,
          0.47143251255799007,
          0.5484122402320903,
          0.561928777726774,
          0.5661753668162288,
          0.422986832986833,
          0.43267670394081986,
          0.4336019921224379,
          0.4000916343796749,
          0.5634609437932168,
          0.5642674967728343,
          0.39651132506169456,
          0.565908376942284,
          0.6012156068321083,
          0.6152867876594376,
          0.6070061527152907,
          0.5890109165278595,
          0.6049821336554169,
          0.6172137190202197,
          0.5384838471926746,
          0.24568576632573383,
          0.6122391417374268,
          0.23229407765553162,
          0.1576502416346815,
          0.5834254474274185,
          0.6033845551167876,
          0.5929955525912283,
          0.6373462101733802,
          0.5798184010345407,
          0.6161336960676491,
          0.584308810429812,
          0.5956199191123102,
          0.492180078168711
         ],
         "yaxis": "y7"
        },
        {
         "marker": {
          "color": [
           5,
           6,
           9,
           10,
           12,
           14,
           16,
           17,
           20,
           21,
           22,
           23,
           24,
           25,
           26,
           27,
           28,
           36,
           37,
           38,
           39,
           40,
           41,
           42,
           43,
           44,
           45,
           46,
           47,
           48,
           49,
           54,
           61,
           62,
           63,
           64,
           65,
           66,
           67,
           68,
           69,
           70,
           71,
           72,
           73,
           74,
           75,
           76,
           77,
           78,
           79,
           80,
           81,
           82,
           83,
           84,
           90,
           91,
           95,
           96,
           97,
           98,
           99,
           100,
           101,
           102,
           103,
           104,
           105,
           106,
           107,
           108,
           109,
           110,
           111
          ],
          "colorbar": {
           "title": {
            "text": "Trial"
           },
           "x": 1,
           "xpad": 40
          },
          "colorscale": [
           [
            0,
            "rgb(247,251,255)"
           ],
           [
            0.125,
            "rgb(222,235,247)"
           ],
           [
            0.25,
            "rgb(198,219,239)"
           ],
           [
            0.375,
            "rgb(158,202,225)"
           ],
           [
            0.5,
            "rgb(107,174,214)"
           ],
           [
            0.625,
            "rgb(66,146,198)"
           ],
           [
            0.75,
            "rgb(33,113,181)"
           ],
           [
            0.875,
            "rgb(8,81,156)"
           ],
           [
            1,
            "rgb(8,48,107)"
           ]
          ],
          "line": {
           "color": "Grey",
           "width": 0.5
          },
          "showscale": false
         },
         "mode": "markers",
         "name": "Feasible Trial",
         "showlegend": false,
         "type": "scatter",
         "x": [
          81,
          86,
          27,
          24,
          64,
          5,
          71,
          11,
          8,
          30,
          100,
          100,
          26,
          22,
          21,
          24,
          16,
          39,
          41,
          41,
          44,
          41,
          41,
          40,
          41,
          41,
          42,
          43,
          41,
          40,
          42,
          32,
          32,
          53,
          49,
          51,
          52,
          53,
          54,
          53,
          50,
          52,
          50,
          55,
          52,
          56,
          32,
          32,
          32,
          60,
          33,
          59,
          32,
          31,
          59,
          34,
          16,
          18,
          26,
          27,
          69,
          25,
          27,
          68,
          65,
          69,
          26,
          27,
          27,
          27,
          79,
          78,
          37,
          45,
          46
         ],
         "xaxis": "x8",
         "y": [
          0.40467779288843486,
          0.5068900317263945,
          0.5430600821961963,
          0.2576335494378179,
          0.496984126984127,
          0.19200145522976378,
          0.25279365079365074,
          0.1218785725063154,
          0.5031191311687904,
          0.6694482081004609,
          0.48065079365079366,
          0.5483492063492064,
          0.5573492063492063,
          0.6011727148113412,
          0.5846321990470484,
          0.6368072756561844,
          0.5184199861190671,
          0.6436268655711758,
          0.6173090892532003,
          0.6296757977229255,
          0.5770532935467791,
          0.6032072527516721,
          0.5806964847876765,
          0.5852366720021933,
          0.6042516462944295,
          0.6078370889550095,
          0.4877463520746434,
          0.4995999083959429,
          0.49343230736686233,
          0.5262541960963013,
          0.5210330497962077,
          0.41463756154269327,
          0.42348194068795963,
          0.5809064722687014,
          0.562955195644075,
          0.603132025533909,
          0.608416411306626,
          0.5882006610237591,
          0.6171860322198325,
          0.5820433386509256,
          0.5546739941908692,
          0.5998292042829296,
          0.6089643845630958,
          0.6241104537424464,
          0.5947696366366537,
          0.598871417724307,
          0.6385380731544632,
          0.4953495320715856,
          0.5256937275435642,
          0.5217173601661599,
          0.5568279629234685,
          0.47143251255799007,
          0.5484122402320903,
          0.561928777726774,
          0.5661753668162288,
          0.422986832986833,
          0.39651132506169456,
          0.565908376942284,
          0.5890109165278595,
          0.6049821336554169,
          0.6172137190202197,
          0.5384838471926746,
          0.24568576632573383,
          0.6122391417374268,
          0.23229407765553162,
          0.1576502416346815,
          0.5834254474274185,
          0.6033845551167876,
          0.5929955525912283,
          0.6373462101733802,
          0.5798184010345407,
          0.6161336960676491,
          0.584308810429812,
          0.5956199191123102,
          0.492180078168711
         ],
         "yaxis": "y8"
        },
        {
         "marker": {
          "color": [
           5,
           6,
           9,
           10,
           12,
           14,
           16,
           17,
           20,
           21,
           22,
           23,
           24,
           25,
           26,
           27,
           28,
           36,
           37,
           38,
           39,
           40,
           41,
           42,
           43,
           44,
           45,
           46,
           47,
           48,
           49,
           54,
           61,
           62,
           63,
           64,
           65,
           66,
           67,
           68,
           69,
           70,
           71,
           72,
           73,
           74,
           75,
           76,
           77,
           78,
           79,
           80,
           81,
           82,
           83,
           84,
           90,
           91,
           95,
           96,
           97,
           98,
           99,
           100,
           101,
           102,
           103,
           104,
           105,
           106,
           107,
           108,
           109,
           110,
           111
          ],
          "colorbar": {
           "title": {
            "text": "Trial"
           },
           "x": 1,
           "xpad": 40
          },
          "colorscale": [
           [
            0,
            "rgb(247,251,255)"
           ],
           [
            0.125,
            "rgb(222,235,247)"
           ],
           [
            0.25,
            "rgb(198,219,239)"
           ],
           [
            0.375,
            "rgb(158,202,225)"
           ],
           [
            0.5,
            "rgb(107,174,214)"
           ],
           [
            0.625,
            "rgb(66,146,198)"
           ],
           [
            0.75,
            "rgb(33,113,181)"
           ],
           [
            0.875,
            "rgb(8,81,156)"
           ],
           [
            1,
            "rgb(8,48,107)"
           ]
          ],
          "line": {
           "color": "Grey",
           "width": 0.5
          },
          "showscale": false
         },
         "mode": "markers",
         "name": "Feasible Trial",
         "showlegend": false,
         "type": "scatter",
         "x": [
          8,
          7,
          3.25,
          7,
          9.75,
          8.25,
          9.25,
          9,
          9.5,
          3.25,
          3.5,
          3.75,
          3,
          3.5,
          3,
          3.25,
          3,
          4.75,
          5.25,
          4.75,
          4.75,
          4.75,
          4.75,
          4.75,
          4.75,
          4.75,
          4.75,
          4.75,
          4.75,
          4.75,
          5,
          5.75,
          5.75,
          4,
          4,
          4,
          4,
          5.5,
          4,
          5.5,
          4,
          4,
          4,
          4,
          4,
          4,
          5.5,
          5.5,
          5.75,
          5.5,
          5.5,
          5.5,
          5.5,
          6.5,
          7,
          7,
          6.75,
          3.5,
          3.5,
          3.25,
          3.5,
          3.25,
          3.5,
          3.5,
          3.5,
          3.5,
          3.25,
          3.25,
          4.5,
          3.25,
          3.25,
          3.25,
          4.5,
          4.5,
          4.5
         ],
         "xaxis": "x9",
         "y": [
          0.40467779288843486,
          0.5068900317263945,
          0.5430600821961963,
          0.2576335494378179,
          0.496984126984127,
          0.19200145522976378,
          0.25279365079365074,
          0.1218785725063154,
          0.5031191311687904,
          0.6694482081004609,
          0.48065079365079366,
          0.5483492063492064,
          0.5573492063492063,
          0.6011727148113412,
          0.5846321990470484,
          0.6368072756561844,
          0.5184199861190671,
          0.6436268655711758,
          0.6173090892532003,
          0.6296757977229255,
          0.5770532935467791,
          0.6032072527516721,
          0.5806964847876765,
          0.5852366720021933,
          0.6042516462944295,
          0.6078370889550095,
          0.4877463520746434,
          0.4995999083959429,
          0.49343230736686233,
          0.5262541960963013,
          0.5210330497962077,
          0.41463756154269327,
          0.42348194068795963,
          0.5809064722687014,
          0.562955195644075,
          0.603132025533909,
          0.608416411306626,
          0.5882006610237591,
          0.6171860322198325,
          0.5820433386509256,
          0.5546739941908692,
          0.5998292042829296,
          0.6089643845630958,
          0.6241104537424464,
          0.5947696366366537,
          0.598871417724307,
          0.6385380731544632,
          0.4953495320715856,
          0.5256937275435642,
          0.5217173601661599,
          0.5568279629234685,
          0.47143251255799007,
          0.5484122402320903,
          0.561928777726774,
          0.5661753668162288,
          0.422986832986833,
          0.39651132506169456,
          0.565908376942284,
          0.5890109165278595,
          0.6049821336554169,
          0.6172137190202197,
          0.5384838471926746,
          0.24568576632573383,
          0.6122391417374268,
          0.23229407765553162,
          0.1576502416346815,
          0.5834254474274185,
          0.6033845551167876,
          0.5929955525912283,
          0.6373462101733802,
          0.5798184010345407,
          0.6161336960676491,
          0.584308810429812,
          0.5956199191123102,
          0.492180078168711
         ],
         "yaxis": "y9"
        },
        {
         "marker": {
          "color": [
           1,
           2,
           4,
           6,
           8,
           13,
           18,
           19,
           22,
           76,
           77,
           78,
           79,
           80,
           81,
           84
          ],
          "colorbar": {
           "title": {
            "text": "Trial"
           },
           "x": 1,
           "xpad": 40
          },
          "colorscale": [
           [
            0,
            "rgb(247,251,255)"
           ],
           [
            0.125,
            "rgb(222,235,247)"
           ],
           [
            0.25,
            "rgb(198,219,239)"
           ],
           [
            0.375,
            "rgb(158,202,225)"
           ],
           [
            0.5,
            "rgb(107,174,214)"
           ],
           [
            0.625,
            "rgb(66,146,198)"
           ],
           [
            0.75,
            "rgb(33,113,181)"
           ],
           [
            0.875,
            "rgb(8,81,156)"
           ],
           [
            1,
            "rgb(8,48,107)"
           ]
          ],
          "line": {
           "color": "Grey",
           "width": 0.5
          },
          "showscale": false
         },
         "mode": "markers",
         "name": "Feasible Trial",
         "showlegend": false,
         "type": "scatter",
         "x": [
          "entropy",
          "entropy",
          "gini",
          "gini",
          "entropy",
          "log_loss",
          "entropy",
          "entropy",
          "gini",
          "log_loss",
          "log_loss",
          "log_loss",
          "log_loss",
          "log_loss",
          "log_loss",
          "log_loss"
         ],
         "xaxis": "x10",
         "y": [
          0.47363147666687305,
          0.49819951534167145,
          0.36199766891039187,
          0.5068900317263945,
          0.5849419283280144,
          0.49921267981095685,
          0.2164149791982884,
          0.340253564288734,
          0.48065079365079366,
          0.4953495320715856,
          0.5256937275435642,
          0.5217173601661599,
          0.5568279629234685,
          0.47143251255799007,
          0.5484122402320903,
          0.422986832986833
         ],
         "yaxis": "y10"
        },
        {
         "marker": {
          "color": [
           1,
           2,
           4,
           6,
           8,
           13,
           18,
           19,
           22,
           76,
           77,
           78,
           79,
           80,
           81,
           84
          ],
          "colorbar": {
           "title": {
            "text": "Trial"
           },
           "x": 1,
           "xpad": 40
          },
          "colorscale": [
           [
            0,
            "rgb(247,251,255)"
           ],
           [
            0.125,
            "rgb(222,235,247)"
           ],
           [
            0.25,
            "rgb(198,219,239)"
           ],
           [
            0.375,
            "rgb(158,202,225)"
           ],
           [
            0.5,
            "rgb(107,174,214)"
           ],
           [
            0.625,
            "rgb(66,146,198)"
           ],
           [
            0.75,
            "rgb(33,113,181)"
           ],
           [
            0.875,
            "rgb(8,81,156)"
           ],
           [
            1,
            "rgb(8,48,107)"
           ]
          ],
          "line": {
           "color": "Grey",
           "width": 0.5
          },
          "showscale": false
         },
         "mode": "markers",
         "name": "Feasible Trial",
         "showlegend": false,
         "type": "scatter",
         "x": [
          10,
          12,
          3,
          25,
          6,
          7,
          2,
          2,
          29,
          4,
          4,
          4,
          4,
          4,
          4,
          18
         ],
         "xaxis": "x11",
         "y": [
          0.47363147666687305,
          0.49819951534167145,
          0.36199766891039187,
          0.5068900317263945,
          0.5849419283280144,
          0.49921267981095685,
          0.2164149791982884,
          0.340253564288734,
          0.48065079365079366,
          0.4953495320715856,
          0.5256937275435642,
          0.5217173601661599,
          0.5568279629234685,
          0.47143251255799007,
          0.5484122402320903,
          0.422986832986833
         ],
         "yaxis": "y11"
        },
        {
         "marker": {
          "color": [
           1,
           2,
           4,
           6,
           8,
           13,
           18,
           19,
           22,
           76,
           77,
           78,
           79,
           80,
           81,
           84
          ],
          "colorbar": {
           "title": {
            "text": "Trial"
           },
           "x": 1,
           "xpad": 40
          },
          "colorscale": [
           [
            0,
            "rgb(247,251,255)"
           ],
           [
            0.125,
            "rgb(222,235,247)"
           ],
           [
            0.25,
            "rgb(198,219,239)"
           ],
           [
            0.375,
            "rgb(158,202,225)"
           ],
           [
            0.5,
            "rgb(107,174,214)"
           ],
           [
            0.625,
            "rgb(66,146,198)"
           ],
           [
            0.75,
            "rgb(33,113,181)"
           ],
           [
            0.875,
            "rgb(8,81,156)"
           ],
           [
            1,
            "rgb(8,48,107)"
           ]
          ],
          "line": {
           "color": "Grey",
           "width": 0.5
          },
          "showscale": false
         },
         "mode": "markers",
         "name": "Feasible Trial",
         "showlegend": false,
         "type": "scatter",
         "x": [
          180,
          18,
          66,
          37,
          35,
          90,
          56,
          141,
          19,
          136,
          193,
          199,
          199,
          196,
          197,
          200
         ],
         "xaxis": "x12",
         "y": [
          0.47363147666687305,
          0.49819951534167145,
          0.36199766891039187,
          0.5068900317263945,
          0.5849419283280144,
          0.49921267981095685,
          0.2164149791982884,
          0.340253564288734,
          0.48065079365079366,
          0.4953495320715856,
          0.5256937275435642,
          0.5217173601661599,
          0.5568279629234685,
          0.47143251255799007,
          0.5484122402320903,
          0.422986832986833
         ],
         "yaxis": "y12"
        },
        {
         "marker": {
          "color": [
           5,
           10,
           16,
           20
          ],
          "colorbar": {
           "title": {
            "text": "Trial"
           },
           "x": 1,
           "xpad": 40
          },
          "colorscale": [
           [
            0,
            "rgb(247,251,255)"
           ],
           [
            0.125,
            "rgb(222,235,247)"
           ],
           [
            0.25,
            "rgb(198,219,239)"
           ],
           [
            0.375,
            "rgb(158,202,225)"
           ],
           [
            0.5,
            "rgb(107,174,214)"
           ],
           [
            0.625,
            "rgb(66,146,198)"
           ],
           [
            0.75,
            "rgb(33,113,181)"
           ],
           [
            0.875,
            "rgb(8,81,156)"
           ],
           [
            1,
            "rgb(8,48,107)"
           ]
          ],
          "line": {
           "color": "Grey",
           "width": 0.5
          },
          "showscale": false
         },
         "mode": "markers",
         "name": "Feasible Trial",
         "showlegend": false,
         "type": "scatter",
         "x": [
          1000000,
          1000000,
          10000,
          100000000
         ],
         "xaxis": "x13",
         "y": [
          0.40467779288843486,
          0.2576335494378179,
          0.25279365079365074,
          0.5031191311687904
         ],
         "yaxis": "y13"
        },
        {
         "marker": {
          "color": [
           5,
           10,
           16,
           20
          ],
          "colorbar": {
           "title": {
            "text": "Trial"
           },
           "x": 1,
           "xpad": 40
          },
          "colorscale": [
           [
            0,
            "rgb(247,251,255)"
           ],
           [
            0.125,
            "rgb(222,235,247)"
           ],
           [
            0.25,
            "rgb(198,219,239)"
           ],
           [
            0.375,
            "rgb(158,202,225)"
           ],
           [
            0.5,
            "rgb(107,174,214)"
           ],
           [
            0.625,
            "rgb(66,146,198)"
           ],
           [
            0.75,
            "rgb(33,113,181)"
           ],
           [
            0.875,
            "rgb(8,81,156)"
           ],
           [
            1,
            "rgb(8,48,107)"
           ]
          ],
          "line": {
           "color": "Grey",
           "width": 0.5
          },
          "showscale": false
         },
         "mode": "markers",
         "name": "Feasible Trial",
         "showlegend": false,
         "type": "scatter",
         "x": [
          0.001,
          0.00001,
          0.00001,
          0.0001
         ],
         "xaxis": "x14",
         "y": [
          0.40467779288843486,
          0.2576335494378179,
          0.25279365079365074,
          0.5031191311687904
         ],
         "yaxis": "y14"
        },
        {
         "marker": {
          "color": [
           5,
           10,
           16,
           20
          ],
          "colorbar": {
           "title": {
            "text": "Trial"
           },
           "x": 1,
           "xpad": 40
          },
          "colorscale": [
           [
            0,
            "rgb(247,251,255)"
           ],
           [
            0.125,
            "rgb(222,235,247)"
           ],
           [
            0.25,
            "rgb(198,219,239)"
           ],
           [
            0.375,
            "rgb(158,202,225)"
           ],
           [
            0.5,
            "rgb(107,174,214)"
           ],
           [
            0.625,
            "rgb(66,146,198)"
           ],
           [
            0.75,
            "rgb(33,113,181)"
           ],
           [
            0.875,
            "rgb(8,81,156)"
           ],
           [
            1,
            "rgb(8,48,107)"
           ]
          ],
          "line": {
           "color": "Grey",
           "width": 0.5
          },
          "showscale": false
         },
         "mode": "markers",
         "name": "Feasible Trial",
         "showlegend": false,
         "type": "scatter",
         "x": [
          0.02,
          0.02,
          0.057,
          0.008
         ],
         "xaxis": "x15",
         "y": [
          0.40467779288843486,
          0.2576335494378179,
          0.25279365079365074,
          0.5031191311687904
         ],
         "yaxis": "y15"
        },
        {
         "marker": {
          "color": [
           0,
           1,
           2,
           3,
           4,
           5,
           6,
           7,
           8,
           9,
           10,
           11,
           12,
           13,
           14,
           15,
           16,
           17,
           18,
           19,
           20,
           21,
           22,
           23,
           24,
           25,
           26,
           27,
           28,
           29,
           30,
           31,
           32,
           33,
           34,
           35,
           36,
           37,
           38,
           39,
           40,
           41,
           42,
           43,
           44,
           45,
           46,
           47,
           48,
           49,
           54,
           61,
           62,
           63,
           64,
           65,
           66,
           67,
           68,
           69,
           70,
           71,
           72,
           73,
           74,
           75,
           76,
           77,
           78,
           79,
           80,
           81,
           82,
           83,
           84,
           85,
           86,
           87,
           88,
           89,
           90,
           91,
           92,
           93,
           94,
           95,
           96,
           97,
           98,
           99,
           100,
           101,
           102,
           103,
           104,
           105,
           106,
           107,
           108,
           109,
           110,
           111
          ],
          "colorbar": {
           "title": {
            "text": "Trial"
           },
           "x": 1,
           "xpad": 40
          },
          "colorscale": [
           [
            0,
            "rgb(247,251,255)"
           ],
           [
            0.125,
            "rgb(222,235,247)"
           ],
           [
            0.25,
            "rgb(198,219,239)"
           ],
           [
            0.375,
            "rgb(158,202,225)"
           ],
           [
            0.5,
            "rgb(107,174,214)"
           ],
           [
            0.625,
            "rgb(66,146,198)"
           ],
           [
            0.75,
            "rgb(33,113,181)"
           ],
           [
            0.875,
            "rgb(8,81,156)"
           ],
           [
            1,
            "rgb(8,48,107)"
           ]
          ],
          "line": {
           "color": "Grey",
           "width": 0.5
          },
          "showscale": false
         },
         "mode": "markers",
         "name": "Feasible Trial",
         "showlegend": false,
         "type": "scatter",
         "x": [
          0.768934010061292,
          0.5265942983006568,
          0.4342775033414308,
          1.3666556493716941,
          0.7602856581143838,
          1.1621930269932434,
          0.5782080655357038,
          1.3636476189810838,
          1.0389289152373609,
          0.5377208698021188,
          0.3797917281458648,
          0.6818698448794579,
          0.04206955669512619,
          1.322219233102017,
          0.6940020445190099,
          0.18529927412624797,
          0.02274771166790518,
          1.1028248780874292,
          1.1989791110865915,
          0.43160616361011755,
          0.4250616945509373,
          1.0068762446845378,
          0.03588028605077154,
          0.10668345320354589,
          0.08169503368999864,
          0.96221209726625,
          1.0138647023727823,
          0.9706097771765265,
          0.9477896425597203,
          0.997756858903708,
          0.975149548550051,
          0.9420214536562546,
          0.9456223729446316,
          0.9489777019608897,
          0.8919793796988165,
          0.9427998637846335,
          0.9174319614486036,
          0.8908439745771799,
          0.8986104314268712,
          0.8488664091030161,
          0.8244505385934329,
          0.8366294347597721,
          0.8671169212070641,
          0.8246962531489825,
          0.817939725810186,
          0.8195474699382683,
          0.8228012036170231,
          0.8277147138329997,
          0.8287261552282336,
          0.8286495835293357,
          1.0960563962124188,
          1.0835240004558884,
          0.7139736897831588,
          0.6667452284250934,
          0.6099232507639031,
          0.6743250993321341,
          0.6594217513537832,
          0.7190971180016567,
          0.6932182877455629,
          0.662822774390543,
          0.667764697655489,
          0.689449756205126,
          0.6862942116144145,
          0.6736822345120643,
          0.7078498439341665,
          0.6627625471391315,
          1.2231341521110732,
          1.2019162967601282,
          1.2470470030978476,
          1.192450230479114,
          1.240182154855725,
          1.1777524257870007,
          1.2951913183920862,
          0.5334933411676972,
          1.495830754321722,
          0.48031134261247616,
          0.5350273674858812,
          0.76189523917422,
          0.7607531975680867,
          0.7564354556402082,
          1.0455017594112455,
          0.7441720621687089,
          0.7571097377964521,
          0.7394700333187739,
          0.536132548165138,
          0.5643957026077138,
          0.5180916456745166,
          0.9012415462546534,
          0.5486890689754876,
          0.9020919702068918,
          0.9194966969725379,
          0.9198587211650786,
          0.9121148573182986,
          0.5999713891446392,
          0.5986043847169097,
          0.5760857488246629,
          0.8838806544083992,
          0.9962969612728223,
          0.5944759739885505,
          0.6056808862803333,
          0.2717600149686751,
          1.0282447727289072
         ],
         "xaxis": "x16",
         "y": [
          0.36048137574672273,
          0.47363147666687305,
          0.49819951534167145,
          0.15533712261279128,
          0.36199766891039187,
          0.40467779288843486,
          0.5068900317263945,
          0.3992293224135911,
          0.5849419283280144,
          0.5430600821961963,
          0.2576335494378179,
          0.6103146029559064,
          0.496984126984127,
          0.49921267981095685,
          0.19200145522976378,
          0.20515664289750424,
          0.25279365079365074,
          0.1218785725063154,
          0.2164149791982884,
          0.340253564288734,
          0.5031191311687904,
          0.6694482081004609,
          0.48065079365079366,
          0.5483492063492064,
          0.5573492063492063,
          0.6011727148113412,
          0.5846321990470484,
          0.6368072756561844,
          0.5184199861190671,
          0.5729766747314392,
          0.6006400856774864,
          0.6006971042288083,
          0.5999247831720699,
          0.5886818007582667,
          0.5902497234501052,
          0.5666187536243478,
          0.6436268655711758,
          0.6173090892532003,
          0.6296757977229255,
          0.5770532935467791,
          0.6032072527516721,
          0.5806964847876765,
          0.5852366720021933,
          0.6042516462944295,
          0.6078370889550095,
          0.4877463520746434,
          0.4995999083959429,
          0.49343230736686233,
          0.5262541960963013,
          0.5210330497962077,
          0.41463756154269327,
          0.42348194068795963,
          0.5809064722687014,
          0.562955195644075,
          0.603132025533909,
          0.608416411306626,
          0.5882006610237591,
          0.6171860322198325,
          0.5820433386509256,
          0.5546739941908692,
          0.5998292042829296,
          0.6089643845630958,
          0.6241104537424464,
          0.5947696366366537,
          0.598871417724307,
          0.6385380731544632,
          0.4953495320715856,
          0.5256937275435642,
          0.5217173601661599,
          0.5568279629234685,
          0.47143251255799007,
          0.5484122402320903,
          0.561928777726774,
          0.5661753668162288,
          0.422986832986833,
          0.43267670394081986,
          0.4336019921224379,
          0.4000916343796749,
          0.5634609437932168,
          0.5642674967728343,
          0.39651132506169456,
          0.565908376942284,
          0.6012156068321083,
          0.6152867876594376,
          0.6070061527152907,
          0.5890109165278595,
          0.6049821336554169,
          0.6172137190202197,
          0.5384838471926746,
          0.24568576632573383,
          0.6122391417374268,
          0.23229407765553162,
          0.1576502416346815,
          0.5834254474274185,
          0.6033845551167876,
          0.5929955525912283,
          0.6373462101733802,
          0.5798184010345407,
          0.6161336960676491,
          0.584308810429812,
          0.5956199191123102,
          0.492180078168711
         ],
         "yaxis": "y16"
        },
        {
         "marker": {
          "color": [
           8,
           12,
           14,
           19,
           21,
           75,
           76,
           77,
           78,
           79,
           80,
           81,
           82
          ],
          "colorbar": {
           "title": {
            "text": "Trial"
           },
           "x": 1,
           "xpad": 40
          },
          "colorscale": [
           [
            0,
            "rgb(247,251,255)"
           ],
           [
            0.125,
            "rgb(222,235,247)"
           ],
           [
            0.25,
            "rgb(198,219,239)"
           ],
           [
            0.375,
            "rgb(158,202,225)"
           ],
           [
            0.5,
            "rgb(107,174,214)"
           ],
           [
            0.625,
            "rgb(66,146,198)"
           ],
           [
            0.75,
            "rgb(33,113,181)"
           ],
           [
            0.875,
            "rgb(8,81,156)"
           ],
           [
            1,
            "rgb(8,48,107)"
           ]
          ],
          "line": {
           "color": "Grey",
           "width": 0.5
          },
          "showscale": false
         },
         "mode": "markers",
         "name": "Feasible Trial",
         "showlegend": false,
         "type": "scatter",
         "x": [
          1,
          5,
          3,
          2,
          1,
          1,
          1,
          1,
          1,
          1,
          1,
          1,
          1
         ],
         "xaxis": "x17",
         "y": [
          0.5849419283280144,
          0.496984126984127,
          0.19200145522976378,
          0.340253564288734,
          0.6694482081004609,
          0.6385380731544632,
          0.4953495320715856,
          0.5256937275435642,
          0.5217173601661599,
          0.5568279629234685,
          0.47143251255799007,
          0.5484122402320903,
          0.561928777726774
         ],
         "yaxis": "y17"
        },
        {
         "marker": {
          "color": [
           17,
           54,
           61
          ],
          "colorbar": {
           "title": {
            "text": "Trial"
           },
           "x": 1,
           "xpad": 40
          },
          "colorscale": [
           [
            0,
            "rgb(247,251,255)"
           ],
           [
            0.125,
            "rgb(222,235,247)"
           ],
           [
            0.25,
            "rgb(198,219,239)"
           ],
           [
            0.375,
            "rgb(158,202,225)"
           ],
           [
            0.5,
            "rgb(107,174,214)"
           ],
           [
            0.625,
            "rgb(66,146,198)"
           ],
           [
            0.75,
            "rgb(33,113,181)"
           ],
           [
            0.875,
            "rgb(8,81,156)"
           ],
           [
            1,
            "rgb(8,48,107)"
           ]
          ],
          "line": {
           "color": "Grey",
           "width": 0.5
          },
          "showscale": false
         },
         "mode": "markers",
         "name": "Feasible Trial",
         "showlegend": false,
         "type": "scatter",
         "x": [
          1000000,
          100,
          100
         ],
         "xaxis": "x18",
         "y": [
          0.1218785725063154,
          0.41463756154269327,
          0.42348194068795963
         ],
         "yaxis": "y18"
        },
        {
         "marker": {
          "color": [
           17,
           54,
           61
          ],
          "colorbar": {
           "title": {
            "text": "Trial"
           },
           "x": 1,
           "xpad": 40
          },
          "colorscale": [
           [
            0,
            "rgb(247,251,255)"
           ],
           [
            0.125,
            "rgb(222,235,247)"
           ],
           [
            0.25,
            "rgb(198,219,239)"
           ],
           [
            0.375,
            "rgb(158,202,225)"
           ],
           [
            0.5,
            "rgb(107,174,214)"
           ],
           [
            0.625,
            "rgb(66,146,198)"
           ],
           [
            0.75,
            "rgb(33,113,181)"
           ],
           [
            0.875,
            "rgb(8,81,156)"
           ],
           [
            1,
            "rgb(8,48,107)"
           ]
          ],
          "line": {
           "color": "Grey",
           "width": 0.5
          },
          "showscale": false
         },
         "mode": "markers",
         "name": "Feasible Trial",
         "showlegend": false,
         "type": "scatter",
         "x": [
          0.7000000000000001,
          0.05,
          0.15000000000000002
         ],
         "xaxis": "x19",
         "y": [
          0.1218785725063154,
          0.41463756154269327,
          0.42348194068795963
         ],
         "yaxis": "y19"
        },
        {
         "marker": {
          "color": [
           5,
           9,
           11,
           12,
           20,
           21,
           23,
           24,
           25,
           26,
           27,
           28,
           29,
           30,
           31,
           32,
           33,
           34,
           35,
           36,
           37,
           38,
           39,
           40,
           41,
           42,
           43,
           44,
           45,
           46,
           47,
           48,
           49,
           62,
           63,
           64,
           65,
           66,
           67,
           68,
           69,
           70,
           71,
           72,
           73,
           74,
           75,
           82,
           83,
           85,
           86,
           87,
           88,
           89,
           90,
           91,
           92,
           93,
           94,
           95,
           96,
           97,
           98,
           104,
           105,
           109,
           110,
           111
          ],
          "colorbar": {
           "title": {
            "text": "Trial"
           },
           "x": 1,
           "xpad": 40
          },
          "colorscale": [
           [
            0,
            "rgb(247,251,255)"
           ],
           [
            0.125,
            "rgb(222,235,247)"
           ],
           [
            0.25,
            "rgb(198,219,239)"
           ],
           [
            0.375,
            "rgb(158,202,225)"
           ],
           [
            0.5,
            "rgb(107,174,214)"
           ],
           [
            0.625,
            "rgb(66,146,198)"
           ],
           [
            0.75,
            "rgb(33,113,181)"
           ],
           [
            0.875,
            "rgb(8,81,156)"
           ],
           [
            1,
            "rgb(8,48,107)"
           ]
          ],
          "line": {
           "color": "Grey",
           "width": 0.5
          },
          "showscale": false
         },
         "mode": "markers",
         "name": "Feasible Trial",
         "showlegend": false,
         "type": "scatter",
         "x": [
          "log_loss",
          "gini",
          "log_loss",
          "gini",
          "entropy",
          "entropy",
          "entropy",
          "gini",
          "gini",
          "gini",
          "gini",
          "gini",
          "log_loss",
          "log_loss",
          "log_loss",
          "log_loss",
          "entropy",
          "entropy",
          "log_loss",
          "log_loss",
          "log_loss",
          "log_loss",
          "entropy",
          "entropy",
          "entropy",
          "entropy",
          "entropy",
          "entropy",
          "entropy",
          "entropy",
          "gini",
          "log_loss",
          "entropy",
          "log_loss",
          "log_loss",
          "log_loss",
          "log_loss",
          "log_loss",
          "log_loss",
          "log_loss",
          "log_loss",
          "log_loss",
          "log_loss",
          "log_loss",
          "log_loss",
          "log_loss",
          "log_loss",
          "gini",
          "gini",
          "gini",
          "gini",
          "gini",
          "gini",
          "gini",
          "gini",
          "gini",
          "log_loss",
          "log_loss",
          "log_loss",
          "log_loss",
          "log_loss",
          "log_loss",
          "log_loss",
          "log_loss",
          "log_loss",
          "log_loss",
          "log_loss",
          "log_loss"
         ],
         "xaxis": "x20",
         "y": [
          0.40467779288843486,
          0.5430600821961963,
          0.6103146029559064,
          0.496984126984127,
          0.5031191311687904,
          0.6694482081004609,
          0.5483492063492064,
          0.5573492063492063,
          0.6011727148113412,
          0.5846321990470484,
          0.6368072756561844,
          0.5184199861190671,
          0.5729766747314392,
          0.6006400856774864,
          0.6006971042288083,
          0.5999247831720699,
          0.5886818007582667,
          0.5902497234501052,
          0.5666187536243478,
          0.6436268655711758,
          0.6173090892532003,
          0.6296757977229255,
          0.5770532935467791,
          0.6032072527516721,
          0.5806964847876765,
          0.5852366720021933,
          0.6042516462944295,
          0.6078370889550095,
          0.4877463520746434,
          0.4995999083959429,
          0.49343230736686233,
          0.5262541960963013,
          0.5210330497962077,
          0.5809064722687014,
          0.562955195644075,
          0.603132025533909,
          0.608416411306626,
          0.5882006610237591,
          0.6171860322198325,
          0.5820433386509256,
          0.5546739941908692,
          0.5998292042829296,
          0.6089643845630958,
          0.6241104537424464,
          0.5947696366366537,
          0.598871417724307,
          0.6385380731544632,
          0.561928777726774,
          0.5661753668162288,
          0.43267670394081986,
          0.4336019921224379,
          0.4000916343796749,
          0.5634609437932168,
          0.5642674967728343,
          0.39651132506169456,
          0.565908376942284,
          0.6012156068321083,
          0.6152867876594376,
          0.6070061527152907,
          0.5890109165278595,
          0.6049821336554169,
          0.6172137190202197,
          0.5384838471926746,
          0.6033845551167876,
          0.5929955525912283,
          0.584308810429812,
          0.5956199191123102,
          0.492180078168711
         ],
         "yaxis": "y20"
        },
        {
         "marker": {
          "color": [
           5,
           9,
           11,
           12,
           20,
           21,
           23,
           24,
           25,
           26,
           27,
           28,
           29,
           30,
           31,
           32,
           33,
           34,
           35,
           36,
           37,
           38,
           39,
           40,
           41,
           42,
           43,
           44,
           45,
           46,
           47,
           48,
           49,
           62,
           63,
           64,
           65,
           66,
           67,
           68,
           69,
           70,
           71,
           72,
           73,
           74,
           75,
           82,
           83,
           85,
           86,
           87,
           88,
           89,
           90,
           91,
           92,
           93,
           94,
           95,
           96,
           97,
           98,
           104,
           105,
           109,
           110,
           111
          ],
          "colorbar": {
           "title": {
            "text": "Trial"
           },
           "x": 1,
           "xpad": 40
          },
          "colorscale": [
           [
            0,
            "rgb(247,251,255)"
           ],
           [
            0.125,
            "rgb(222,235,247)"
           ],
           [
            0.25,
            "rgb(198,219,239)"
           ],
           [
            0.375,
            "rgb(158,202,225)"
           ],
           [
            0.5,
            "rgb(107,174,214)"
           ],
           [
            0.625,
            "rgb(66,146,198)"
           ],
           [
            0.75,
            "rgb(33,113,181)"
           ],
           [
            0.875,
            "rgb(8,81,156)"
           ],
           [
            1,
            "rgb(8,48,107)"
           ]
          ],
          "line": {
           "color": "Grey",
           "width": 0.5
          },
          "showscale": false
         },
         "mode": "markers",
         "name": "Feasible Trial",
         "showlegend": false,
         "type": "scatter",
         "x": [
          3,
          6,
          17,
          4,
          2,
          26,
          32,
          18,
          16,
          20,
          17,
          27,
          31,
          31,
          25,
          20,
          26,
          25,
          23,
          20,
          14,
          12,
          13,
          12,
          12,
          12,
          12,
          12,
          11,
          12,
          13,
          12,
          11,
          16,
          16,
          8,
          8,
          16,
          16,
          8,
          16,
          16,
          8,
          8,
          16,
          9,
          8,
          5,
          6,
          4,
          6,
          5,
          21,
          6,
          5,
          5,
          6,
          19,
          20,
          10,
          20,
          19,
          19,
          20,
          19,
          19,
          19,
          18
         ],
         "xaxis": "x21",
         "y": [
          0.40467779288843486,
          0.5430600821961963,
          0.6103146029559064,
          0.496984126984127,
          0.5031191311687904,
          0.6694482081004609,
          0.5483492063492064,
          0.5573492063492063,
          0.6011727148113412,
          0.5846321990470484,
          0.6368072756561844,
          0.5184199861190671,
          0.5729766747314392,
          0.6006400856774864,
          0.6006971042288083,
          0.5999247831720699,
          0.5886818007582667,
          0.5902497234501052,
          0.5666187536243478,
          0.6436268655711758,
          0.6173090892532003,
          0.6296757977229255,
          0.5770532935467791,
          0.6032072527516721,
          0.5806964847876765,
          0.5852366720021933,
          0.6042516462944295,
          0.6078370889550095,
          0.4877463520746434,
          0.4995999083959429,
          0.49343230736686233,
          0.5262541960963013,
          0.5210330497962077,
          0.5809064722687014,
          0.562955195644075,
          0.603132025533909,
          0.608416411306626,
          0.5882006610237591,
          0.6171860322198325,
          0.5820433386509256,
          0.5546739941908692,
          0.5998292042829296,
          0.6089643845630958,
          0.6241104537424464,
          0.5947696366366537,
          0.598871417724307,
          0.6385380731544632,
          0.561928777726774,
          0.5661753668162288,
          0.43267670394081986,
          0.4336019921224379,
          0.4000916343796749,
          0.5634609437932168,
          0.5642674967728343,
          0.39651132506169456,
          0.565908376942284,
          0.6012156068321083,
          0.6152867876594376,
          0.6070061527152907,
          0.5890109165278595,
          0.6049821336554169,
          0.6172137190202197,
          0.5384838471926746,
          0.6033845551167876,
          0.5929955525912283,
          0.584308810429812,
          0.5956199191123102,
          0.492180078168711
         ],
         "yaxis": "y21"
        },
        {
         "marker": {
          "color": [
           5,
           9,
           11,
           12,
           20,
           21,
           23,
           24,
           25,
           26,
           27,
           28,
           29,
           30,
           31,
           32,
           33,
           34,
           35,
           36,
           37,
           38,
           39,
           40,
           41,
           42,
           43,
           44,
           45,
           46,
           47,
           48,
           49,
           62,
           63,
           64,
           65,
           66,
           67,
           68,
           69,
           70,
           71,
           72,
           73,
           74,
           75,
           82,
           83,
           85,
           86,
           87,
           88,
           89,
           90,
           91,
           92,
           93,
           94,
           95,
           96,
           97,
           98,
           104,
           105,
           109,
           110,
           111
          ],
          "colorbar": {
           "title": {
            "text": "Trial"
           },
           "x": 1,
           "xpad": 40
          },
          "colorscale": [
           [
            0,
            "rgb(247,251,255)"
           ],
           [
            0.125,
            "rgb(222,235,247)"
           ],
           [
            0.25,
            "rgb(198,219,239)"
           ],
           [
            0.375,
            "rgb(158,202,225)"
           ],
           [
            0.5,
            "rgb(107,174,214)"
           ],
           [
            0.625,
            "rgb(66,146,198)"
           ],
           [
            0.75,
            "rgb(33,113,181)"
           ],
           [
            0.875,
            "rgb(8,81,156)"
           ],
           [
            1,
            "rgb(8,48,107)"
           ]
          ],
          "line": {
           "color": "Grey",
           "width": 0.5
          },
          "showscale": false
         },
         "mode": "markers",
         "name": "Feasible Trial",
         "showlegend": false,
         "type": "scatter",
         "x": [
          29,
          117,
          174,
          183,
          123,
          198,
          200,
          172,
          173,
          172,
          160,
          119,
          197,
          191,
          194,
          167,
          193,
          200,
          198,
          199,
          199,
          189,
          148,
          151,
          146,
          151,
          148,
          148,
          153,
          144,
          159,
          151,
          148,
          22,
          54,
          62,
          65,
          79,
          184,
          71,
          17,
          46,
          64,
          62,
          182,
          181,
          72,
          184,
          182,
          183,
          183,
          183,
          181,
          181,
          182,
          181,
          86,
          99,
          87,
          89,
          96,
          108,
          131,
          99,
          108,
          192,
          98,
          128
         ],
         "xaxis": "x22",
         "y": [
          0.40467779288843486,
          0.5430600821961963,
          0.6103146029559064,
          0.496984126984127,
          0.5031191311687904,
          0.6694482081004609,
          0.5483492063492064,
          0.5573492063492063,
          0.6011727148113412,
          0.5846321990470484,
          0.6368072756561844,
          0.5184199861190671,
          0.5729766747314392,
          0.6006400856774864,
          0.6006971042288083,
          0.5999247831720699,
          0.5886818007582667,
          0.5902497234501052,
          0.5666187536243478,
          0.6436268655711758,
          0.6173090892532003,
          0.6296757977229255,
          0.5770532935467791,
          0.6032072527516721,
          0.5806964847876765,
          0.5852366720021933,
          0.6042516462944295,
          0.6078370889550095,
          0.4877463520746434,
          0.4995999083959429,
          0.49343230736686233,
          0.5262541960963013,
          0.5210330497962077,
          0.5809064722687014,
          0.562955195644075,
          0.603132025533909,
          0.608416411306626,
          0.5882006610237591,
          0.6171860322198325,
          0.5820433386509256,
          0.5546739941908692,
          0.5998292042829296,
          0.6089643845630958,
          0.6241104537424464,
          0.5947696366366537,
          0.598871417724307,
          0.6385380731544632,
          0.561928777726774,
          0.5661753668162288,
          0.43267670394081986,
          0.4336019921224379,
          0.4000916343796749,
          0.5634609437932168,
          0.5642674967728343,
          0.39651132506169456,
          0.565908376942284,
          0.6012156068321083,
          0.6152867876594376,
          0.6070061527152907,
          0.5890109165278595,
          0.6049821336554169,
          0.6172137190202197,
          0.5384838471926746,
          0.6033845551167876,
          0.5929955525912283,
          0.584308810429812,
          0.5956199191123102,
          0.492180078168711
         ],
         "yaxis": "y22"
        },
        {
         "marker": {
          "color": [
           0,
           1,
           2,
           3,
           4,
           5,
           6,
           7,
           8,
           9,
           10,
           11,
           12,
           13,
           14,
           15,
           16,
           17,
           18,
           19,
           20,
           21,
           22,
           23,
           24,
           25,
           26,
           27,
           28,
           29,
           30,
           31,
           32,
           33,
           34,
           35,
           36,
           37,
           38,
           39,
           40,
           41,
           42,
           43,
           44,
           45,
           46,
           47,
           48,
           49,
           54,
           61,
           62,
           63,
           64,
           65,
           66,
           67,
           68,
           69,
           70,
           71,
           72,
           73,
           74,
           75,
           76,
           77,
           78,
           79,
           80,
           81,
           82,
           83,
           84,
           85,
           86,
           87,
           88,
           89,
           90,
           91,
           92,
           93,
           94,
           95,
           96,
           97,
           98,
           99,
           100,
           101,
           102,
           103,
           104,
           105,
           106,
           107,
           108,
           109,
           110,
           111
          ],
          "colorbar": {
           "title": {
            "text": "Trial"
           },
           "x": 1,
           "xpad": 40
          },
          "colorscale": [
           [
            0,
            "rgb(247,251,255)"
           ],
           [
            0.125,
            "rgb(222,235,247)"
           ],
           [
            0.25,
            "rgb(198,219,239)"
           ],
           [
            0.375,
            "rgb(158,202,225)"
           ],
           [
            0.5,
            "rgb(107,174,214)"
           ],
           [
            0.625,
            "rgb(66,146,198)"
           ],
           [
            0.75,
            "rgb(33,113,181)"
           ],
           [
            0.875,
            "rgb(8,81,156)"
           ],
           [
            1,
            "rgb(8,48,107)"
           ]
          ],
          "line": {
           "color": "Grey",
           "width": 0.5
          },
          "showscale": false
         },
         "mode": "markers",
         "name": "Feasible Trial",
         "showlegend": false,
         "type": "scatter",
         "x": [
          false,
          false,
          false,
          false,
          true,
          true,
          true,
          true,
          true,
          true,
          false,
          true,
          false,
          true,
          true,
          true,
          true,
          true,
          false,
          true,
          true,
          true,
          true,
          true,
          true,
          true,
          true,
          true,
          true,
          true,
          true,
          true,
          true,
          true,
          true,
          true,
          true,
          true,
          true,
          true,
          true,
          true,
          true,
          true,
          true,
          false,
          false,
          false,
          false,
          false,
          true,
          true,
          true,
          true,
          true,
          true,
          true,
          true,
          true,
          true,
          true,
          true,
          true,
          true,
          true,
          true,
          true,
          true,
          true,
          true,
          true,
          true,
          true,
          true,
          true,
          true,
          true,
          true,
          true,
          true,
          true,
          true,
          true,
          true,
          true,
          true,
          true,
          true,
          true,
          true,
          true,
          false,
          true,
          true,
          true,
          true,
          true,
          true,
          true,
          true,
          true,
          false
         ],
         "xaxis": "x23",
         "y": [
          0.36048137574672273,
          0.47363147666687305,
          0.49819951534167145,
          0.15533712261279128,
          0.36199766891039187,
          0.40467779288843486,
          0.5068900317263945,
          0.3992293224135911,
          0.5849419283280144,
          0.5430600821961963,
          0.2576335494378179,
          0.6103146029559064,
          0.496984126984127,
          0.49921267981095685,
          0.19200145522976378,
          0.20515664289750424,
          0.25279365079365074,
          0.1218785725063154,
          0.2164149791982884,
          0.340253564288734,
          0.5031191311687904,
          0.6694482081004609,
          0.48065079365079366,
          0.5483492063492064,
          0.5573492063492063,
          0.6011727148113412,
          0.5846321990470484,
          0.6368072756561844,
          0.5184199861190671,
          0.5729766747314392,
          0.6006400856774864,
          0.6006971042288083,
          0.5999247831720699,
          0.5886818007582667,
          0.5902497234501052,
          0.5666187536243478,
          0.6436268655711758,
          0.6173090892532003,
          0.6296757977229255,
          0.5770532935467791,
          0.6032072527516721,
          0.5806964847876765,
          0.5852366720021933,
          0.6042516462944295,
          0.6078370889550095,
          0.4877463520746434,
          0.4995999083959429,
          0.49343230736686233,
          0.5262541960963013,
          0.5210330497962077,
          0.41463756154269327,
          0.42348194068795963,
          0.5809064722687014,
          0.562955195644075,
          0.603132025533909,
          0.608416411306626,
          0.5882006610237591,
          0.6171860322198325,
          0.5820433386509256,
          0.5546739941908692,
          0.5998292042829296,
          0.6089643845630958,
          0.6241104537424464,
          0.5947696366366537,
          0.598871417724307,
          0.6385380731544632,
          0.4953495320715856,
          0.5256937275435642,
          0.5217173601661599,
          0.5568279629234685,
          0.47143251255799007,
          0.5484122402320903,
          0.561928777726774,
          0.5661753668162288,
          0.422986832986833,
          0.43267670394081986,
          0.4336019921224379,
          0.4000916343796749,
          0.5634609437932168,
          0.5642674967728343,
          0.39651132506169456,
          0.565908376942284,
          0.6012156068321083,
          0.6152867876594376,
          0.6070061527152907,
          0.5890109165278595,
          0.6049821336554169,
          0.6172137190202197,
          0.5384838471926746,
          0.24568576632573383,
          0.6122391417374268,
          0.23229407765553162,
          0.1576502416346815,
          0.5834254474274185,
          0.6033845551167876,
          0.5929955525912283,
          0.6373462101733802,
          0.5798184010345407,
          0.6161336960676491,
          0.584308810429812,
          0.5956199191123102,
          0.492180078168711
         ],
         "yaxis": "y23"
        },
        {
         "marker": {
          "color": [
           4,
           5,
           6,
           7,
           8,
           9,
           11,
           13,
           14,
           15,
           16,
           17,
           19,
           20,
           21,
           22,
           23,
           24,
           25,
           26,
           27,
           28,
           29,
           30,
           31,
           32,
           33,
           34,
           35,
           36,
           37,
           38,
           39,
           40,
           41,
           42,
           43,
           44,
           54,
           61,
           62,
           63,
           64,
           65,
           66,
           67,
           68,
           69,
           70,
           71,
           72,
           73,
           74,
           75,
           76,
           77,
           78,
           79,
           80,
           81,
           82,
           83,
           84,
           85,
           86,
           87,
           88,
           89,
           90,
           91,
           92,
           93,
           94,
           95,
           96,
           97,
           98,
           99,
           100,
           102,
           103,
           104,
           105,
           106,
           107,
           108,
           109,
           110
          ],
          "colorbar": {
           "title": {
            "text": "Trial"
           },
           "x": 1,
           "xpad": 40
          },
          "colorscale": [
           [
            0,
            "rgb(247,251,255)"
           ],
           [
            0.125,
            "rgb(222,235,247)"
           ],
           [
            0.25,
            "rgb(198,219,239)"
           ],
           [
            0.375,
            "rgb(158,202,225)"
           ],
           [
            0.5,
            "rgb(107,174,214)"
           ],
           [
            0.625,
            "rgb(66,146,198)"
           ],
           [
            0.75,
            "rgb(33,113,181)"
           ],
           [
            0.875,
            "rgb(8,81,156)"
           ],
           [
            1,
            "rgb(8,48,107)"
           ]
          ],
          "line": {
           "color": "Grey",
           "width": 0.5
          },
          "showscale": false
         },
         "mode": "markers",
         "name": "Feasible Trial",
         "showlegend": false,
         "type": "scatter",
         "x": [
          "svn",
          "vector",
          "normal",
          "normal",
          "vector",
          "svn",
          "svn",
          "normal",
          "vector",
          "normal",
          "svn",
          "svn",
          "vector",
          "normal",
          "vector",
          "normal",
          "vector",
          "svn",
          "svn",
          "svn",
          "svn",
          "svn",
          "svn",
          "svn",
          "svn",
          "svn",
          "vector",
          "vector",
          "vector",
          "svn",
          "svn",
          "vector",
          "vector",
          "vector",
          "vector",
          "vector",
          "vector",
          "vector",
          "svn",
          "svn",
          "svn",
          "svn",
          "svn",
          "svn",
          "svn",
          "svn",
          "svn",
          "svn",
          "svn",
          "svn",
          "svn",
          "svn",
          "svn",
          "svn",
          "svn",
          "svn",
          "svn",
          "svn",
          "normal",
          "normal",
          "normal",
          "normal",
          "normal",
          "normal",
          "normal",
          "normal",
          "vector",
          "vector",
          "vector",
          "vector",
          "svn",
          "svn",
          "svn",
          "svn",
          "svn",
          "svn",
          "svn",
          "svn",
          "svn",
          "svn",
          "svn",
          "svn",
          "svn",
          "svn",
          "svn",
          "svn",
          "svn",
          "svn"
         ],
         "xaxis": "x24",
         "y": [
          0.36199766891039187,
          0.40467779288843486,
          0.5068900317263945,
          0.3992293224135911,
          0.5849419283280144,
          0.5430600821961963,
          0.6103146029559064,
          0.49921267981095685,
          0.19200145522976378,
          0.20515664289750424,
          0.25279365079365074,
          0.1218785725063154,
          0.340253564288734,
          0.5031191311687904,
          0.6694482081004609,
          0.48065079365079366,
          0.5483492063492064,
          0.5573492063492063,
          0.6011727148113412,
          0.5846321990470484,
          0.6368072756561844,
          0.5184199861190671,
          0.5729766747314392,
          0.6006400856774864,
          0.6006971042288083,
          0.5999247831720699,
          0.5886818007582667,
          0.5902497234501052,
          0.5666187536243478,
          0.6436268655711758,
          0.6173090892532003,
          0.6296757977229255,
          0.5770532935467791,
          0.6032072527516721,
          0.5806964847876765,
          0.5852366720021933,
          0.6042516462944295,
          0.6078370889550095,
          0.41463756154269327,
          0.42348194068795963,
          0.5809064722687014,
          0.562955195644075,
          0.603132025533909,
          0.608416411306626,
          0.5882006610237591,
          0.6171860322198325,
          0.5820433386509256,
          0.5546739941908692,
          0.5998292042829296,
          0.6089643845630958,
          0.6241104537424464,
          0.5947696366366537,
          0.598871417724307,
          0.6385380731544632,
          0.4953495320715856,
          0.5256937275435642,
          0.5217173601661599,
          0.5568279629234685,
          0.47143251255799007,
          0.5484122402320903,
          0.561928777726774,
          0.5661753668162288,
          0.422986832986833,
          0.43267670394081986,
          0.4336019921224379,
          0.4000916343796749,
          0.5634609437932168,
          0.5642674967728343,
          0.39651132506169456,
          0.565908376942284,
          0.6012156068321083,
          0.6152867876594376,
          0.6070061527152907,
          0.5890109165278595,
          0.6049821336554169,
          0.6172137190202197,
          0.5384838471926746,
          0.24568576632573383,
          0.6122391417374268,
          0.1576502416346815,
          0.5834254474274185,
          0.6033845551167876,
          0.5929955525912283,
          0.6373462101733802,
          0.5798184010345407,
          0.6161336960676491,
          0.584308810429812,
          0.5956199191123102
         ],
         "yaxis": "y24"
        },
        {
         "marker": {
          "color": [
           0,
           1,
           2,
           3,
           4,
           5,
           6,
           7,
           8,
           9,
           10,
           11,
           12,
           13,
           14,
           15,
           16,
           17,
           18,
           19,
           20,
           21,
           22,
           23,
           24,
           25,
           26,
           27,
           28,
           29,
           30,
           31,
           32,
           33,
           34,
           35,
           36,
           37,
           38,
           39,
           40,
           41,
           42,
           43,
           44,
           45,
           46,
           47,
           48,
           49,
           54,
           61,
           62,
           63,
           64,
           65,
           66,
           67,
           68,
           69,
           70,
           71,
           72,
           73,
           74,
           75,
           76,
           77,
           78,
           79,
           80,
           81,
           82,
           83,
           84,
           85,
           86,
           87,
           88,
           89,
           90,
           91,
           92,
           93,
           94,
           95,
           96,
           97,
           98,
           99,
           100,
           101,
           102,
           103,
           104,
           105,
           106,
           107,
           108,
           109,
           110,
           111
          ],
          "colorbar": {
           "title": {
            "text": "Trial"
           },
           "x": 1,
           "xpad": 40
          },
          "colorscale": [
           [
            0,
            "rgb(247,251,255)"
           ],
           [
            0.125,
            "rgb(222,235,247)"
           ],
           [
            0.25,
            "rgb(198,219,239)"
           ],
           [
            0.375,
            "rgb(158,202,225)"
           ],
           [
            0.5,
            "rgb(107,174,214)"
           ],
           [
            0.625,
            "rgb(66,146,198)"
           ],
           [
            0.75,
            "rgb(33,113,181)"
           ],
           [
            0.875,
            "rgb(8,81,156)"
           ],
           [
            1,
            "rgb(8,48,107)"
           ]
          ],
          "line": {
           "color": "Grey",
           "width": 0.5
          },
          "showscale": false
         },
         "mode": "markers",
         "name": "Feasible Trial",
         "showlegend": false,
         "type": "scatter",
         "x": [
          true,
          true,
          true,
          false,
          true,
          false,
          true,
          true,
          true,
          true,
          false,
          false,
          false,
          true,
          true,
          true,
          false,
          false,
          true,
          true,
          false,
          false,
          false,
          false,
          false,
          false,
          false,
          false,
          true,
          false,
          false,
          false,
          false,
          false,
          false,
          false,
          false,
          false,
          false,
          false,
          false,
          false,
          false,
          false,
          false,
          false,
          false,
          false,
          false,
          false,
          false,
          false,
          false,
          false,
          false,
          false,
          false,
          false,
          false,
          false,
          false,
          false,
          false,
          false,
          false,
          false,
          false,
          false,
          false,
          true,
          true,
          true,
          true,
          true,
          true,
          false,
          false,
          true,
          false,
          false,
          false,
          false,
          false,
          false,
          false,
          false,
          false,
          false,
          false,
          false,
          false,
          false,
          false,
          false,
          false,
          false,
          false,
          false,
          false,
          false,
          false,
          false
         ],
         "xaxis": "x25",
         "y": [
          0.36048137574672273,
          0.47363147666687305,
          0.49819951534167145,
          0.15533712261279128,
          0.36199766891039187,
          0.40467779288843486,
          0.5068900317263945,
          0.3992293224135911,
          0.5849419283280144,
          0.5430600821961963,
          0.2576335494378179,
          0.6103146029559064,
          0.496984126984127,
          0.49921267981095685,
          0.19200145522976378,
          0.20515664289750424,
          0.25279365079365074,
          0.1218785725063154,
          0.2164149791982884,
          0.340253564288734,
          0.5031191311687904,
          0.6694482081004609,
          0.48065079365079366,
          0.5483492063492064,
          0.5573492063492063,
          0.6011727148113412,
          0.5846321990470484,
          0.6368072756561844,
          0.5184199861190671,
          0.5729766747314392,
          0.6006400856774864,
          0.6006971042288083,
          0.5999247831720699,
          0.5886818007582667,
          0.5902497234501052,
          0.5666187536243478,
          0.6436268655711758,
          0.6173090892532003,
          0.6296757977229255,
          0.5770532935467791,
          0.6032072527516721,
          0.5806964847876765,
          0.5852366720021933,
          0.6042516462944295,
          0.6078370889550095,
          0.4877463520746434,
          0.4995999083959429,
          0.49343230736686233,
          0.5262541960963013,
          0.5210330497962077,
          0.41463756154269327,
          0.42348194068795963,
          0.5809064722687014,
          0.562955195644075,
          0.603132025533909,
          0.608416411306626,
          0.5882006610237591,
          0.6171860322198325,
          0.5820433386509256,
          0.5546739941908692,
          0.5998292042829296,
          0.6089643845630958,
          0.6241104537424464,
          0.5947696366366537,
          0.598871417724307,
          0.6385380731544632,
          0.4953495320715856,
          0.5256937275435642,
          0.5217173601661599,
          0.5568279629234685,
          0.47143251255799007,
          0.5484122402320903,
          0.561928777726774,
          0.5661753668162288,
          0.422986832986833,
          0.43267670394081986,
          0.4336019921224379,
          0.4000916343796749,
          0.5634609437932168,
          0.5642674967728343,
          0.39651132506169456,
          0.565908376942284,
          0.6012156068321083,
          0.6152867876594376,
          0.6070061527152907,
          0.5890109165278595,
          0.6049821336554169,
          0.6172137190202197,
          0.5384838471926746,
          0.24568576632573383,
          0.6122391417374268,
          0.23229407765553162,
          0.1576502416346815,
          0.5834254474274185,
          0.6033845551167876,
          0.5929955525912283,
          0.6373462101733802,
          0.5798184010345407,
          0.6161336960676491,
          0.584308810429812,
          0.5956199191123102,
          0.492180078168711
         ],
         "yaxis": "y25"
        },
        {
         "marker": {
          "color": [
           0,
           1,
           2,
           4,
           6,
           7,
           8,
           9,
           13,
           14,
           15,
           18,
           19,
           28,
           79,
           80,
           81,
           82,
           83,
           84,
           87
          ],
          "colorbar": {
           "title": {
            "text": "Trial"
           },
           "x": 1,
           "xpad": 40
          },
          "colorscale": [
           [
            0,
            "rgb(247,251,255)"
           ],
           [
            0.125,
            "rgb(222,235,247)"
           ],
           [
            0.25,
            "rgb(198,219,239)"
           ],
           [
            0.375,
            "rgb(158,202,225)"
           ],
           [
            0.5,
            "rgb(107,174,214)"
           ],
           [
            0.625,
            "rgb(66,146,198)"
           ],
           [
            0.75,
            "rgb(33,113,181)"
           ],
           [
            0.875,
            "rgb(8,81,156)"
           ],
           [
            1,
            "rgb(8,48,107)"
           ]
          ],
          "line": {
           "color": "Grey",
           "width": 0.5
          },
          "showscale": false
         },
         "mode": "markers",
         "name": "Feasible Trial",
         "showlegend": false,
         "type": "scatter",
         "x": [
          4,
          3,
          1,
          4,
          2,
          4,
          1,
          4,
          2,
          3,
          4,
          4,
          4,
          1,
          2,
          2,
          2,
          2,
          2,
          2,
          3
         ],
         "xaxis": "x26",
         "y": [
          0.36048137574672273,
          0.47363147666687305,
          0.49819951534167145,
          0.36199766891039187,
          0.5068900317263945,
          0.3992293224135911,
          0.5849419283280144,
          0.5430600821961963,
          0.49921267981095685,
          0.19200145522976378,
          0.20515664289750424,
          0.2164149791982884,
          0.340253564288734,
          0.5184199861190671,
          0.5568279629234685,
          0.47143251255799007,
          0.5484122402320903,
          0.561928777726774,
          0.5661753668162288,
          0.422986832986833,
          0.4000916343796749
         ],
         "yaxis": "y26"
        },
        {
         "marker": {
          "color": [
           0,
           3,
           7,
           10,
           14,
           15,
           16,
           17,
           54,
           61,
           99,
           100,
           101,
           102,
           103,
           106,
           107,
           108
          ],
          "colorbar": {
           "title": {
            "text": "Trial"
           },
           "x": 1,
           "xpad": 40
          },
          "colorscale": [
           [
            0,
            "rgb(247,251,255)"
           ],
           [
            0.125,
            "rgb(222,235,247)"
           ],
           [
            0.25,
            "rgb(198,219,239)"
           ],
           [
            0.375,
            "rgb(158,202,225)"
           ],
           [
            0.5,
            "rgb(107,174,214)"
           ],
           [
            0.625,
            "rgb(66,146,198)"
           ],
           [
            0.75,
            "rgb(33,113,181)"
           ],
           [
            0.875,
            "rgb(8,81,156)"
           ],
           [
            1,
            "rgb(8,48,107)"
           ]
          ],
          "line": {
           "color": "Grey",
           "width": 0.5
          },
          "showscale": false
         },
         "mode": "markers",
         "name": "Feasible Trial",
         "showlegend": false,
         "type": "scatter",
         "x": [
          0.7905570187264662,
          1001681.2808167277,
          144340574.5356969,
          1.1638246631836717e-9,
          0.0005660265547660251,
          0.000002367676445120349,
          0.002127057853319623,
          0.00036954268965629387,
          10286.872359443854,
          14411.143854418557,
          6.395412278774179e-10,
          7453568834.874148,
          1.167044752492833e-10,
          4.1422673349715103e-10,
          6769344606.376132,
          7830521756.043207,
          1243020615.6496067,
          101684869.88173878
         ],
         "xaxis": "x27",
         "y": [
          0.36048137574672273,
          0.15533712261279128,
          0.3992293224135911,
          0.2576335494378179,
          0.19200145522976378,
          0.20515664289750424,
          0.25279365079365074,
          0.1218785725063154,
          0.41463756154269327,
          0.42348194068795963,
          0.24568576632573383,
          0.6122391417374268,
          0.23229407765553162,
          0.1576502416346815,
          0.5834254474274185,
          0.6373462101733802,
          0.5798184010345407,
          0.6161336960676491
         ],
         "yaxis": "y27"
        },
        {
         "marker": {
          "color": [
           0,
           3,
           7,
           10,
           14,
           15,
           16,
           17,
           54,
           61,
           99,
           100,
           101,
           102,
           103,
           106,
           107,
           108
          ],
          "colorbar": {
           "title": {
            "text": "Trial"
           },
           "x": 1,
           "xpad": 40
          },
          "colorscale": [
           [
            0,
            "rgb(247,251,255)"
           ],
           [
            0.125,
            "rgb(222,235,247)"
           ],
           [
            0.25,
            "rgb(198,219,239)"
           ],
           [
            0.375,
            "rgb(158,202,225)"
           ],
           [
            0.5,
            "rgb(107,174,214)"
           ],
           [
            0.625,
            "rgb(66,146,198)"
           ],
           [
            0.75,
            "rgb(33,113,181)"
           ],
           [
            0.875,
            "rgb(8,81,156)"
           ],
           [
            1,
            "rgb(8,48,107)"
           ]
          ],
          "line": {
           "color": "Grey",
           "width": 0.5
          },
          "showscale": false
         },
         "mode": "markers",
         "name": "Feasible Trial",
         "showlegend": false,
         "type": "scatter",
         "x": [
          "scale",
          "auto",
          "auto",
          "auto",
          "auto",
          "auto",
          "scale",
          "auto",
          "scale",
          "scale",
          "scale",
          "scale",
          "scale",
          "scale",
          "scale",
          "scale",
          "scale",
          "scale"
         ],
         "xaxis": "x28",
         "y": [
          0.36048137574672273,
          0.15533712261279128,
          0.3992293224135911,
          0.2576335494378179,
          0.19200145522976378,
          0.20515664289750424,
          0.25279365079365074,
          0.1218785725063154,
          0.41463756154269327,
          0.42348194068795963,
          0.24568576632573383,
          0.6122391417374268,
          0.23229407765553162,
          0.1576502416346815,
          0.5834254474274185,
          0.6373462101733802,
          0.5798184010345407,
          0.6161336960676491
         ],
         "yaxis": "y28"
        },
        {
         "marker": {
          "color": [
           0,
           3,
           7,
           10,
           14,
           15,
           16,
           17,
           54,
           61,
           99,
           100,
           101,
           102,
           103,
           106,
           107,
           108
          ],
          "colorbar": {
           "title": {
            "text": "Trial"
           },
           "x": 1,
           "xpad": 40
          },
          "colorscale": [
           [
            0,
            "rgb(247,251,255)"
           ],
           [
            0.125,
            "rgb(222,235,247)"
           ],
           [
            0.25,
            "rgb(198,219,239)"
           ],
           [
            0.375,
            "rgb(158,202,225)"
           ],
           [
            0.5,
            "rgb(107,174,214)"
           ],
           [
            0.625,
            "rgb(66,146,198)"
           ],
           [
            0.75,
            "rgb(33,113,181)"
           ],
           [
            0.875,
            "rgb(8,81,156)"
           ],
           [
            1,
            "rgb(8,48,107)"
           ]
          ],
          "line": {
           "color": "Grey",
           "width": 0.5
          },
          "showscale": false
         },
         "mode": "markers",
         "name": "Feasible Trial",
         "showlegend": false,
         "type": "scatter",
         "x": [
          "sigmoid",
          "rbf",
          "poly",
          "rbf",
          "poly",
          "sigmoid",
          "sigmoid",
          "poly",
          "linear",
          "linear",
          "linear",
          "rbf",
          "rbf",
          "linear",
          "linear",
          "rbf",
          "rbf",
          "rbf"
         ],
         "xaxis": "x29",
         "y": [
          0.36048137574672273,
          0.15533712261279128,
          0.3992293224135911,
          0.2576335494378179,
          0.19200145522976378,
          0.20515664289750424,
          0.25279365079365074,
          0.1218785725063154,
          0.41463756154269327,
          0.42348194068795963,
          0.24568576632573383,
          0.6122391417374268,
          0.23229407765553162,
          0.1576502416346815,
          0.5834254474274185,
          0.6373462101733802,
          0.5798184010345407,
          0.6161336960676491
         ],
         "yaxis": "y29"
        },
        {
         "marker": {
          "color": [
           0,
           1,
           2,
           4,
           6,
           7,
           8,
           9,
           13,
           14,
           15,
           18,
           19,
           28,
           79,
           80,
           81,
           82,
           83,
           84,
           87
          ],
          "colorbar": {
           "title": {
            "text": "Trial"
           },
           "x": 1,
           "xpad": 40
          },
          "colorscale": [
           [
            0,
            "rgb(247,251,255)"
           ],
           [
            0.125,
            "rgb(222,235,247)"
           ],
           [
            0.25,
            "rgb(198,219,239)"
           ],
           [
            0.375,
            "rgb(158,202,225)"
           ],
           [
            0.5,
            "rgb(107,174,214)"
           ],
           [
            0.625,
            "rgb(66,146,198)"
           ],
           [
            0.75,
            "rgb(33,113,181)"
           ],
           [
            0.875,
            "rgb(8,81,156)"
           ],
           [
            1,
            "rgb(8,48,107)"
           ]
          ],
          "line": {
           "color": "Grey",
           "width": 0.5
          },
          "showscale": false
         },
         "mode": "markers",
         "name": "Feasible Trial",
         "showlegend": false,
         "type": "scatter",
         "x": [
          36,
          92,
          159,
          146,
          139,
          154,
          135,
          98,
          175,
          95,
          35,
          200,
          145,
          68,
          5,
          10,
          10,
          13,
          8,
          10,
          71
         ],
         "xaxis": "x30",
         "y": [
          0.36048137574672273,
          0.47363147666687305,
          0.49819951534167145,
          0.36199766891039187,
          0.5068900317263945,
          0.3992293224135911,
          0.5849419283280144,
          0.5430600821961963,
          0.49921267981095685,
          0.19200145522976378,
          0.20515664289750424,
          0.2164149791982884,
          0.340253564288734,
          0.5184199861190671,
          0.5568279629234685,
          0.47143251255799007,
          0.5484122402320903,
          0.561928777726774,
          0.5661753668162288,
          0.422986832986833,
          0.4000916343796749
         ],
         "yaxis": "y30"
        }
       ],
       "layout": {
        "template": {
         "data": {
          "bar": [
           {
            "error_x": {
             "color": "#2a3f5f"
            },
            "error_y": {
             "color": "#2a3f5f"
            },
            "marker": {
             "line": {
              "color": "#E5ECF6",
              "width": 0.5
             },
             "pattern": {
              "fillmode": "overlay",
              "size": 10,
              "solidity": 0.2
             }
            },
            "type": "bar"
           }
          ],
          "barpolar": [
           {
            "marker": {
             "line": {
              "color": "#E5ECF6",
              "width": 0.5
             },
             "pattern": {
              "fillmode": "overlay",
              "size": 10,
              "solidity": 0.2
             }
            },
            "type": "barpolar"
           }
          ],
          "carpet": [
           {
            "aaxis": {
             "endlinecolor": "#2a3f5f",
             "gridcolor": "white",
             "linecolor": "white",
             "minorgridcolor": "white",
             "startlinecolor": "#2a3f5f"
            },
            "baxis": {
             "endlinecolor": "#2a3f5f",
             "gridcolor": "white",
             "linecolor": "white",
             "minorgridcolor": "white",
             "startlinecolor": "#2a3f5f"
            },
            "type": "carpet"
           }
          ],
          "choropleth": [
           {
            "colorbar": {
             "outlinewidth": 0,
             "ticks": ""
            },
            "type": "choropleth"
           }
          ],
          "contour": [
           {
            "colorbar": {
             "outlinewidth": 0,
             "ticks": ""
            },
            "colorscale": [
             [
              0,
              "#0d0887"
             ],
             [
              0.1111111111111111,
              "#46039f"
             ],
             [
              0.2222222222222222,
              "#7201a8"
             ],
             [
              0.3333333333333333,
              "#9c179e"
             ],
             [
              0.4444444444444444,
              "#bd3786"
             ],
             [
              0.5555555555555556,
              "#d8576b"
             ],
             [
              0.6666666666666666,
              "#ed7953"
             ],
             [
              0.7777777777777778,
              "#fb9f3a"
             ],
             [
              0.8888888888888888,
              "#fdca26"
             ],
             [
              1,
              "#f0f921"
             ]
            ],
            "type": "contour"
           }
          ],
          "contourcarpet": [
           {
            "colorbar": {
             "outlinewidth": 0,
             "ticks": ""
            },
            "type": "contourcarpet"
           }
          ],
          "heatmap": [
           {
            "colorbar": {
             "outlinewidth": 0,
             "ticks": ""
            },
            "colorscale": [
             [
              0,
              "#0d0887"
             ],
             [
              0.1111111111111111,
              "#46039f"
             ],
             [
              0.2222222222222222,
              "#7201a8"
             ],
             [
              0.3333333333333333,
              "#9c179e"
             ],
             [
              0.4444444444444444,
              "#bd3786"
             ],
             [
              0.5555555555555556,
              "#d8576b"
             ],
             [
              0.6666666666666666,
              "#ed7953"
             ],
             [
              0.7777777777777778,
              "#fb9f3a"
             ],
             [
              0.8888888888888888,
              "#fdca26"
             ],
             [
              1,
              "#f0f921"
             ]
            ],
            "type": "heatmap"
           }
          ],
          "heatmapgl": [
           {
            "colorbar": {
             "outlinewidth": 0,
             "ticks": ""
            },
            "colorscale": [
             [
              0,
              "#0d0887"
             ],
             [
              0.1111111111111111,
              "#46039f"
             ],
             [
              0.2222222222222222,
              "#7201a8"
             ],
             [
              0.3333333333333333,
              "#9c179e"
             ],
             [
              0.4444444444444444,
              "#bd3786"
             ],
             [
              0.5555555555555556,
              "#d8576b"
             ],
             [
              0.6666666666666666,
              "#ed7953"
             ],
             [
              0.7777777777777778,
              "#fb9f3a"
             ],
             [
              0.8888888888888888,
              "#fdca26"
             ],
             [
              1,
              "#f0f921"
             ]
            ],
            "type": "heatmapgl"
           }
          ],
          "histogram": [
           {
            "marker": {
             "pattern": {
              "fillmode": "overlay",
              "size": 10,
              "solidity": 0.2
             }
            },
            "type": "histogram"
           }
          ],
          "histogram2d": [
           {
            "colorbar": {
             "outlinewidth": 0,
             "ticks": ""
            },
            "colorscale": [
             [
              0,
              "#0d0887"
             ],
             [
              0.1111111111111111,
              "#46039f"
             ],
             [
              0.2222222222222222,
              "#7201a8"
             ],
             [
              0.3333333333333333,
              "#9c179e"
             ],
             [
              0.4444444444444444,
              "#bd3786"
             ],
             [
              0.5555555555555556,
              "#d8576b"
             ],
             [
              0.6666666666666666,
              "#ed7953"
             ],
             [
              0.7777777777777778,
              "#fb9f3a"
             ],
             [
              0.8888888888888888,
              "#fdca26"
             ],
             [
              1,
              "#f0f921"
             ]
            ],
            "type": "histogram2d"
           }
          ],
          "histogram2dcontour": [
           {
            "colorbar": {
             "outlinewidth": 0,
             "ticks": ""
            },
            "colorscale": [
             [
              0,
              "#0d0887"
             ],
             [
              0.1111111111111111,
              "#46039f"
             ],
             [
              0.2222222222222222,
              "#7201a8"
             ],
             [
              0.3333333333333333,
              "#9c179e"
             ],
             [
              0.4444444444444444,
              "#bd3786"
             ],
             [
              0.5555555555555556,
              "#d8576b"
             ],
             [
              0.6666666666666666,
              "#ed7953"
             ],
             [
              0.7777777777777778,
              "#fb9f3a"
             ],
             [
              0.8888888888888888,
              "#fdca26"
             ],
             [
              1,
              "#f0f921"
             ]
            ],
            "type": "histogram2dcontour"
           }
          ],
          "mesh3d": [
           {
            "colorbar": {
             "outlinewidth": 0,
             "ticks": ""
            },
            "type": "mesh3d"
           }
          ],
          "parcoords": [
           {
            "line": {
             "colorbar": {
              "outlinewidth": 0,
              "ticks": ""
             }
            },
            "type": "parcoords"
           }
          ],
          "pie": [
           {
            "automargin": true,
            "type": "pie"
           }
          ],
          "scatter": [
           {
            "fillpattern": {
             "fillmode": "overlay",
             "size": 10,
             "solidity": 0.2
            },
            "type": "scatter"
           }
          ],
          "scatter3d": [
           {
            "line": {
             "colorbar": {
              "outlinewidth": 0,
              "ticks": ""
             }
            },
            "marker": {
             "colorbar": {
              "outlinewidth": 0,
              "ticks": ""
             }
            },
            "type": "scatter3d"
           }
          ],
          "scattercarpet": [
           {
            "marker": {
             "colorbar": {
              "outlinewidth": 0,
              "ticks": ""
             }
            },
            "type": "scattercarpet"
           }
          ],
          "scattergeo": [
           {
            "marker": {
             "colorbar": {
              "outlinewidth": 0,
              "ticks": ""
             }
            },
            "type": "scattergeo"
           }
          ],
          "scattergl": [
           {
            "marker": {
             "colorbar": {
              "outlinewidth": 0,
              "ticks": ""
             }
            },
            "type": "scattergl"
           }
          ],
          "scattermapbox": [
           {
            "marker": {
             "colorbar": {
              "outlinewidth": 0,
              "ticks": ""
             }
            },
            "type": "scattermapbox"
           }
          ],
          "scatterpolar": [
           {
            "marker": {
             "colorbar": {
              "outlinewidth": 0,
              "ticks": ""
             }
            },
            "type": "scatterpolar"
           }
          ],
          "scatterpolargl": [
           {
            "marker": {
             "colorbar": {
              "outlinewidth": 0,
              "ticks": ""
             }
            },
            "type": "scatterpolargl"
           }
          ],
          "scatterternary": [
           {
            "marker": {
             "colorbar": {
              "outlinewidth": 0,
              "ticks": ""
             }
            },
            "type": "scatterternary"
           }
          ],
          "surface": [
           {
            "colorbar": {
             "outlinewidth": 0,
             "ticks": ""
            },
            "colorscale": [
             [
              0,
              "#0d0887"
             ],
             [
              0.1111111111111111,
              "#46039f"
             ],
             [
              0.2222222222222222,
              "#7201a8"
             ],
             [
              0.3333333333333333,
              "#9c179e"
             ],
             [
              0.4444444444444444,
              "#bd3786"
             ],
             [
              0.5555555555555556,
              "#d8576b"
             ],
             [
              0.6666666666666666,
              "#ed7953"
             ],
             [
              0.7777777777777778,
              "#fb9f3a"
             ],
             [
              0.8888888888888888,
              "#fdca26"
             ],
             [
              1,
              "#f0f921"
             ]
            ],
            "type": "surface"
           }
          ],
          "table": [
           {
            "cells": {
             "fill": {
              "color": "#EBF0F8"
             },
             "line": {
              "color": "white"
             }
            },
            "header": {
             "fill": {
              "color": "#C8D4E3"
             },
             "line": {
              "color": "white"
             }
            },
            "type": "table"
           }
          ]
         },
         "layout": {
          "annotationdefaults": {
           "arrowcolor": "#2a3f5f",
           "arrowhead": 0,
           "arrowwidth": 1
          },
          "autotypenumbers": "strict",
          "coloraxis": {
           "colorbar": {
            "outlinewidth": 0,
            "ticks": ""
           }
          },
          "colorscale": {
           "diverging": [
            [
             0,
             "#8e0152"
            ],
            [
             0.1,
             "#c51b7d"
            ],
            [
             0.2,
             "#de77ae"
            ],
            [
             0.3,
             "#f1b6da"
            ],
            [
             0.4,
             "#fde0ef"
            ],
            [
             0.5,
             "#f7f7f7"
            ],
            [
             0.6,
             "#e6f5d0"
            ],
            [
             0.7,
             "#b8e186"
            ],
            [
             0.8,
             "#7fbc41"
            ],
            [
             0.9,
             "#4d9221"
            ],
            [
             1,
             "#276419"
            ]
           ],
           "sequential": [
            [
             0,
             "#0d0887"
            ],
            [
             0.1111111111111111,
             "#46039f"
            ],
            [
             0.2222222222222222,
             "#7201a8"
            ],
            [
             0.3333333333333333,
             "#9c179e"
            ],
            [
             0.4444444444444444,
             "#bd3786"
            ],
            [
             0.5555555555555556,
             "#d8576b"
            ],
            [
             0.6666666666666666,
             "#ed7953"
            ],
            [
             0.7777777777777778,
             "#fb9f3a"
            ],
            [
             0.8888888888888888,
             "#fdca26"
            ],
            [
             1,
             "#f0f921"
            ]
           ],
           "sequentialminus": [
            [
             0,
             "#0d0887"
            ],
            [
             0.1111111111111111,
             "#46039f"
            ],
            [
             0.2222222222222222,
             "#7201a8"
            ],
            [
             0.3333333333333333,
             "#9c179e"
            ],
            [
             0.4444444444444444,
             "#bd3786"
            ],
            [
             0.5555555555555556,
             "#d8576b"
            ],
            [
             0.6666666666666666,
             "#ed7953"
            ],
            [
             0.7777777777777778,
             "#fb9f3a"
            ],
            [
             0.8888888888888888,
             "#fdca26"
            ],
            [
             1,
             "#f0f921"
            ]
           ]
          },
          "colorway": [
           "#636efa",
           "#EF553B",
           "#00cc96",
           "#ab63fa",
           "#FFA15A",
           "#19d3f3",
           "#FF6692",
           "#B6E880",
           "#FF97FF",
           "#FECB52"
          ],
          "font": {
           "color": "#2a3f5f"
          },
          "geo": {
           "bgcolor": "white",
           "lakecolor": "white",
           "landcolor": "#E5ECF6",
           "showlakes": true,
           "showland": true,
           "subunitcolor": "white"
          },
          "hoverlabel": {
           "align": "left"
          },
          "hovermode": "closest",
          "mapbox": {
           "style": "light"
          },
          "paper_bgcolor": "white",
          "plot_bgcolor": "#E5ECF6",
          "polar": {
           "angularaxis": {
            "gridcolor": "white",
            "linecolor": "white",
            "ticks": ""
           },
           "bgcolor": "#E5ECF6",
           "radialaxis": {
            "gridcolor": "white",
            "linecolor": "white",
            "ticks": ""
           }
          },
          "scene": {
           "xaxis": {
            "backgroundcolor": "#E5ECF6",
            "gridcolor": "white",
            "gridwidth": 2,
            "linecolor": "white",
            "showbackground": true,
            "ticks": "",
            "zerolinecolor": "white"
           },
           "yaxis": {
            "backgroundcolor": "#E5ECF6",
            "gridcolor": "white",
            "gridwidth": 2,
            "linecolor": "white",
            "showbackground": true,
            "ticks": "",
            "zerolinecolor": "white"
           },
           "zaxis": {
            "backgroundcolor": "#E5ECF6",
            "gridcolor": "white",
            "gridwidth": 2,
            "linecolor": "white",
            "showbackground": true,
            "ticks": "",
            "zerolinecolor": "white"
           }
          },
          "shapedefaults": {
           "line": {
            "color": "#2a3f5f"
           }
          },
          "ternary": {
           "aaxis": {
            "gridcolor": "white",
            "linecolor": "white",
            "ticks": ""
           },
           "baxis": {
            "gridcolor": "white",
            "linecolor": "white",
            "ticks": ""
           },
           "bgcolor": "#E5ECF6",
           "caxis": {
            "gridcolor": "white",
            "linecolor": "white",
            "ticks": ""
           }
          },
          "title": {
           "x": 0.05
          },
          "xaxis": {
           "automargin": true,
           "gridcolor": "white",
           "linecolor": "white",
           "ticks": "",
           "title": {
            "standoff": 15
           },
           "zerolinecolor": "white",
           "zerolinewidth": 2
          },
          "yaxis": {
           "automargin": true,
           "gridcolor": "white",
           "linecolor": "white",
           "ticks": "",
           "title": {
            "standoff": 15
           },
           "zerolinecolor": "white",
           "zerolinewidth": 2
          }
         }
        },
        "title": {
         "text": "Slice Plot"
        },
        "width": 9000,
        "xaxis": {
         "anchor": "y",
         "categoryarray": [
          100,
          1000,
          10000,
          100000,
          1000000,
          10000000,
          100000000,
          1000000000,
          10000000000,
          100000000000
         ],
         "categoryorder": "array",
         "domain": [
          0,
          0.02688888888888889
         ],
         "title": {
          "text": "airpls_lam"
         },
         "type": "category"
        },
        "xaxis10": {
         "anchor": "y10",
         "categoryarray": [
          "gini",
          "entropy",
          "log_loss"
         ],
         "categoryorder": "array",
         "domain": [
          0.302,
          0.3288888888888889
         ],
         "title": {
          "text": "et_criterion"
         },
         "type": "category"
        },
        "xaxis11": {
         "anchor": "y11",
         "domain": [
          0.3355555555555555,
          0.3624444444444444
         ],
         "title": {
          "text": "et_max_depth"
         },
         "type": "log"
        },
        "xaxis12": {
         "anchor": "y12",
         "domain": [
          0.36911111111111106,
          0.39599999999999996
         ],
         "title": {
          "text": "et_n_estimators"
         }
        },
        "xaxis13": {
         "anchor": "y13",
         "categoryarray": [
          100,
          1000,
          10000,
          100000,
          1000000,
          10000000,
          100000000,
          1000000000,
          10000000000,
          100000000000
         ],
         "categoryorder": "array",
         "domain": [
          0.4026666666666667,
          0.4295555555555556
         ],
         "title": {
          "text": "iasls_lam"
         },
         "type": "category"
        },
        "xaxis14": {
         "anchor": "y14",
         "categoryarray": [
          0.001,
          0.0001,
          0.00001
         ],
         "categoryorder": "array",
         "domain": [
          0.43622222222222223,
          0.46311111111111114
         ],
         "title": {
          "text": "iasls_lam_1"
         },
         "type": "category"
        },
        "xaxis15": {
         "anchor": "y15",
         "domain": [
          0.4697777777777778,
          0.4966666666666667
         ],
         "title": {
          "text": "iasls_p"
         }
        },
        "xaxis16": {
         "anchor": "y16",
         "domain": [
          0.5033333333333334,
          0.5302222222222223
         ],
         "title": {
          "text": "pagerank_cutoff"
         }
        },
        "xaxis17": {
         "anchor": "y17",
         "domain": [
          0.536888888888889,
          0.5637777777777778
         ],
         "title": {
          "text": "polyfit_poly_order"
         }
        },
        "xaxis18": {
         "anchor": "y18",
         "categoryarray": [
          100,
          1000,
          10000,
          100000,
          1000000,
          10000000,
          100000000,
          1000000000,
          10000000000,
          100000000000
         ],
         "categoryorder": "array",
         "domain": [
          0.5704444444444445,
          0.5973333333333334
         ],
         "title": {
          "text": "psalsa_lam"
         },
         "type": "category"
        },
        "xaxis19": {
         "anchor": "y19",
         "domain": [
          0.6040000000000001,
          0.6308888888888889
         ],
         "title": {
          "text": "psalsa_p"
         }
        },
        "xaxis2": {
         "anchor": "y2",
         "categoryarray": [
          100,
          1000,
          10000,
          100000,
          1000000,
          10000000,
          100000000,
          1000000000,
          10000000000,
          100000000000
         ],
         "categoryorder": "array",
         "domain": [
          0.033555555555555554,
          0.06044444444444444
         ],
         "title": {
          "text": "asls_lam"
         },
         "type": "category"
        },
        "xaxis20": {
         "anchor": "y20",
         "categoryarray": [
          "gini",
          "entropy",
          "log_loss"
         ],
         "categoryorder": "array",
         "domain": [
          0.6375555555555557,
          0.6644444444444445
         ],
         "title": {
          "text": "rf_criterion"
         },
         "type": "category"
        },
        "xaxis21": {
         "anchor": "y21",
         "domain": [
          0.6711111111111111,
          0.698
         ],
         "title": {
          "text": "rf_max_depth"
         },
         "type": "log"
        },
        "xaxis22": {
         "anchor": "y22",
         "domain": [
          0.7046666666666667,
          0.7315555555555555
         ],
         "title": {
          "text": "rf_n_estimators"
         }
        },
        "xaxis23": {
         "anchor": "y23",
         "categoryarray": [
          true,
          false
         ],
         "categoryorder": "array",
         "domain": [
          0.7382222222222221,
          0.765111111111111
         ],
         "title": {
          "text": "scaling"
         },
         "type": "category"
        },
        "xaxis24": {
         "anchor": "y24",
         "categoryarray": [
          "normal",
          "vector",
          "svn"
         ],
         "categoryorder": "array",
         "domain": [
          0.7717777777777777,
          0.7986666666666665
         ],
         "title": {
          "text": "scaling_type"
         },
         "type": "category"
        },
        "xaxis25": {
         "anchor": "y25",
         "categoryarray": [
          true,
          false
         ],
         "categoryorder": "array",
         "domain": [
          0.8053333333333332,
          0.8322222222222221
         ],
         "title": {
          "text": "smoothing"
         },
         "type": "category"
        },
        "xaxis26": {
         "anchor": "y26",
         "domain": [
          0.8388888888888888,
          0.8657777777777776
         ],
         "title": {
          "text": "smoothing_poly_order"
         }
        },
        "xaxis27": {
         "anchor": "y27",
         "domain": [
          0.8724444444444442,
          0.8993333333333331
         ],
         "title": {
          "text": "svc_c"
         },
         "type": "log"
        },
        "xaxis28": {
         "anchor": "y28",
         "categoryarray": [
          "scale",
          "auto"
         ],
         "categoryorder": "array",
         "domain": [
          0.9059999999999998,
          0.9328888888888887
         ],
         "title": {
          "text": "svc_gamma"
         },
         "type": "category"
        },
        "xaxis29": {
         "anchor": "y29",
         "categoryarray": [
          "linear",
          "poly",
          "rbf",
          "sigmoid"
         ],
         "categoryorder": "array",
         "domain": [
          0.9395555555555553,
          0.9664444444444441
         ],
         "title": {
          "text": "svc_kernel"
         },
         "type": "category"
        },
        "xaxis3": {
         "anchor": "y3",
         "domain": [
          0.06711111111111111,
          0.094
         ],
         "title": {
          "text": "asls_p"
         }
        },
        "xaxis30": {
         "anchor": "y30",
         "domain": [
          0.9731111111111108,
          0.9999999999999997
         ],
         "title": {
          "text": "window_size"
         }
        },
        "xaxis4": {
         "anchor": "y4",
         "categoryarray": [
          true,
          false
         ],
         "categoryorder": "array",
         "domain": [
          0.10066666666666667,
          0.12755555555555556
         ],
         "title": {
          "text": "baseline_correct"
         },
         "type": "category"
        },
        "xaxis5": {
         "anchor": "y5",
         "categoryarray": [
          "asls",
          "iasls",
          "airpls",
          "poly",
          "psalsa"
         ],
         "categoryorder": "array",
         "domain": [
          0.13422222222222221,
          0.1611111111111111
         ],
         "title": {
          "text": "baseline_correction_type"
         },
         "type": "category"
        },
        "xaxis6": {
         "anchor": "y6",
         "categoryarray": [
          "ExtraTrees",
          "RandomForest",
          "SVC"
         ],
         "categoryorder": "array",
         "domain": [
          0.16777777777777778,
          0.19466666666666665
         ],
         "title": {
          "text": "classifier"
         },
         "type": "category"
        },
        "xaxis7": {
         "anchor": "y7",
         "categoryarray": [
          true,
          false
         ],
         "categoryorder": "array",
         "domain": [
          0.20133333333333334,
          0.22822222222222222
         ],
         "title": {
          "text": "despike"
         },
         "type": "category"
        },
        "xaxis8": {
         "anchor": "y8",
         "domain": [
          0.23488888888888887,
          0.2617777777777778
         ],
         "title": {
          "text": "despike_ma"
         }
        },
        "xaxis9": {
         "anchor": "y9",
         "domain": [
          0.26844444444444443,
          0.29533333333333334
         ],
         "title": {
          "text": "despike_threshold"
         }
        },
        "yaxis": {
         "anchor": "x",
         "domain": [
          0,
          1
         ],
         "title": {
          "text": "Objective Value"
         }
        },
        "yaxis10": {
         "anchor": "x10",
         "domain": [
          0,
          1
         ],
         "matches": "y",
         "showticklabels": false
        },
        "yaxis11": {
         "anchor": "x11",
         "domain": [
          0,
          1
         ],
         "matches": "y",
         "showticklabels": false
        },
        "yaxis12": {
         "anchor": "x12",
         "domain": [
          0,
          1
         ],
         "matches": "y",
         "showticklabels": false
        },
        "yaxis13": {
         "anchor": "x13",
         "domain": [
          0,
          1
         ],
         "matches": "y",
         "showticklabels": false
        },
        "yaxis14": {
         "anchor": "x14",
         "domain": [
          0,
          1
         ],
         "matches": "y",
         "showticklabels": false
        },
        "yaxis15": {
         "anchor": "x15",
         "domain": [
          0,
          1
         ],
         "matches": "y",
         "showticklabels": false
        },
        "yaxis16": {
         "anchor": "x16",
         "domain": [
          0,
          1
         ],
         "matches": "y",
         "showticklabels": false
        },
        "yaxis17": {
         "anchor": "x17",
         "domain": [
          0,
          1
         ],
         "matches": "y",
         "showticklabels": false
        },
        "yaxis18": {
         "anchor": "x18",
         "domain": [
          0,
          1
         ],
         "matches": "y",
         "showticklabels": false
        },
        "yaxis19": {
         "anchor": "x19",
         "domain": [
          0,
          1
         ],
         "matches": "y",
         "showticklabels": false
        },
        "yaxis2": {
         "anchor": "x2",
         "domain": [
          0,
          1
         ],
         "matches": "y",
         "showticklabels": false
        },
        "yaxis20": {
         "anchor": "x20",
         "domain": [
          0,
          1
         ],
         "matches": "y",
         "showticklabels": false
        },
        "yaxis21": {
         "anchor": "x21",
         "domain": [
          0,
          1
         ],
         "matches": "y",
         "showticklabels": false
        },
        "yaxis22": {
         "anchor": "x22",
         "domain": [
          0,
          1
         ],
         "matches": "y",
         "showticklabels": false
        },
        "yaxis23": {
         "anchor": "x23",
         "domain": [
          0,
          1
         ],
         "matches": "y",
         "showticklabels": false
        },
        "yaxis24": {
         "anchor": "x24",
         "domain": [
          0,
          1
         ],
         "matches": "y",
         "showticklabels": false
        },
        "yaxis25": {
         "anchor": "x25",
         "domain": [
          0,
          1
         ],
         "matches": "y",
         "showticklabels": false
        },
        "yaxis26": {
         "anchor": "x26",
         "domain": [
          0,
          1
         ],
         "matches": "y",
         "showticklabels": false
        },
        "yaxis27": {
         "anchor": "x27",
         "domain": [
          0,
          1
         ],
         "matches": "y",
         "showticklabels": false
        },
        "yaxis28": {
         "anchor": "x28",
         "domain": [
          0,
          1
         ],
         "matches": "y",
         "showticklabels": false
        },
        "yaxis29": {
         "anchor": "x29",
         "domain": [
          0,
          1
         ],
         "matches": "y",
         "showticklabels": false
        },
        "yaxis3": {
         "anchor": "x3",
         "domain": [
          0,
          1
         ],
         "matches": "y",
         "showticklabels": false
        },
        "yaxis30": {
         "anchor": "x30",
         "domain": [
          0,
          1
         ],
         "matches": "y",
         "showticklabels": false
        },
        "yaxis4": {
         "anchor": "x4",
         "domain": [
          0,
          1
         ],
         "matches": "y",
         "showticklabels": false
        },
        "yaxis5": {
         "anchor": "x5",
         "domain": [
          0,
          1
         ],
         "matches": "y",
         "showticklabels": false
        },
        "yaxis6": {
         "anchor": "x6",
         "domain": [
          0,
          1
         ],
         "matches": "y",
         "showticklabels": false
        },
        "yaxis7": {
         "anchor": "x7",
         "domain": [
          0,
          1
         ],
         "matches": "y",
         "showticklabels": false
        },
        "yaxis8": {
         "anchor": "x8",
         "domain": [
          0,
          1
         ],
         "matches": "y",
         "showticklabels": false
        },
        "yaxis9": {
         "anchor": "x9",
         "domain": [
          0,
          1
         ],
         "matches": "y",
         "showticklabels": false
        }
       }
      }
     },
     "metadata": {},
     "output_type": "display_data"
    }
   ],
   "source": [
    "plot_slice(study)"
   ]
  },
  {
   "cell_type": "code",
   "execution_count": null,
   "metadata": {},
   "outputs": [
    {
     "data": {
      "application/vnd.plotly.v1+json": {
       "config": {
        "plotlyServerURL": "https://plot.ly"
       },
       "data": [
        {
         "cliponaxis": false,
         "hovertemplate": [
          "despike (CategoricalDistribution): 0.026006314988644384<extra></extra>",
          "smoothing (CategoricalDistribution): 0.03625781996280296<extra></extra>",
          "scaling (CategoricalDistribution): 0.07440248284998703<extra></extra>",
          "pagerank_cutoff (FloatDistribution): 0.11475380263408182<extra></extra>",
          "baseline_correct (CategoricalDistribution): 0.1757008253526721<extra></extra>",
          "classifier (CategoricalDistribution): 0.5728787542118116<extra></extra>"
         ],
         "name": "Objective Value",
         "orientation": "h",
         "text": [
          "0.03",
          "0.04",
          "0.07",
          "0.11",
          "0.18",
          "0.57"
         ],
         "textposition": "outside",
         "type": "bar",
         "x": [
          0.026006314988644384,
          0.03625781996280296,
          0.07440248284998703,
          0.11475380263408182,
          0.1757008253526721,
          0.5728787542118116
         ],
         "y": [
          "despike",
          "smoothing",
          "scaling",
          "pagerank_cutoff",
          "baseline_correct",
          "classifier"
         ]
        }
       ],
       "layout": {
        "template": {
         "data": {
          "bar": [
           {
            "error_x": {
             "color": "#2a3f5f"
            },
            "error_y": {
             "color": "#2a3f5f"
            },
            "marker": {
             "line": {
              "color": "#E5ECF6",
              "width": 0.5
             },
             "pattern": {
              "fillmode": "overlay",
              "size": 10,
              "solidity": 0.2
             }
            },
            "type": "bar"
           }
          ],
          "barpolar": [
           {
            "marker": {
             "line": {
              "color": "#E5ECF6",
              "width": 0.5
             },
             "pattern": {
              "fillmode": "overlay",
              "size": 10,
              "solidity": 0.2
             }
            },
            "type": "barpolar"
           }
          ],
          "carpet": [
           {
            "aaxis": {
             "endlinecolor": "#2a3f5f",
             "gridcolor": "white",
             "linecolor": "white",
             "minorgridcolor": "white",
             "startlinecolor": "#2a3f5f"
            },
            "baxis": {
             "endlinecolor": "#2a3f5f",
             "gridcolor": "white",
             "linecolor": "white",
             "minorgridcolor": "white",
             "startlinecolor": "#2a3f5f"
            },
            "type": "carpet"
           }
          ],
          "choropleth": [
           {
            "colorbar": {
             "outlinewidth": 0,
             "ticks": ""
            },
            "type": "choropleth"
           }
          ],
          "contour": [
           {
            "colorbar": {
             "outlinewidth": 0,
             "ticks": ""
            },
            "colorscale": [
             [
              0,
              "#0d0887"
             ],
             [
              0.1111111111111111,
              "#46039f"
             ],
             [
              0.2222222222222222,
              "#7201a8"
             ],
             [
              0.3333333333333333,
              "#9c179e"
             ],
             [
              0.4444444444444444,
              "#bd3786"
             ],
             [
              0.5555555555555556,
              "#d8576b"
             ],
             [
              0.6666666666666666,
              "#ed7953"
             ],
             [
              0.7777777777777778,
              "#fb9f3a"
             ],
             [
              0.8888888888888888,
              "#fdca26"
             ],
             [
              1,
              "#f0f921"
             ]
            ],
            "type": "contour"
           }
          ],
          "contourcarpet": [
           {
            "colorbar": {
             "outlinewidth": 0,
             "ticks": ""
            },
            "type": "contourcarpet"
           }
          ],
          "heatmap": [
           {
            "colorbar": {
             "outlinewidth": 0,
             "ticks": ""
            },
            "colorscale": [
             [
              0,
              "#0d0887"
             ],
             [
              0.1111111111111111,
              "#46039f"
             ],
             [
              0.2222222222222222,
              "#7201a8"
             ],
             [
              0.3333333333333333,
              "#9c179e"
             ],
             [
              0.4444444444444444,
              "#bd3786"
             ],
             [
              0.5555555555555556,
              "#d8576b"
             ],
             [
              0.6666666666666666,
              "#ed7953"
             ],
             [
              0.7777777777777778,
              "#fb9f3a"
             ],
             [
              0.8888888888888888,
              "#fdca26"
             ],
             [
              1,
              "#f0f921"
             ]
            ],
            "type": "heatmap"
           }
          ],
          "heatmapgl": [
           {
            "colorbar": {
             "outlinewidth": 0,
             "ticks": ""
            },
            "colorscale": [
             [
              0,
              "#0d0887"
             ],
             [
              0.1111111111111111,
              "#46039f"
             ],
             [
              0.2222222222222222,
              "#7201a8"
             ],
             [
              0.3333333333333333,
              "#9c179e"
             ],
             [
              0.4444444444444444,
              "#bd3786"
             ],
             [
              0.5555555555555556,
              "#d8576b"
             ],
             [
              0.6666666666666666,
              "#ed7953"
             ],
             [
              0.7777777777777778,
              "#fb9f3a"
             ],
             [
              0.8888888888888888,
              "#fdca26"
             ],
             [
              1,
              "#f0f921"
             ]
            ],
            "type": "heatmapgl"
           }
          ],
          "histogram": [
           {
            "marker": {
             "pattern": {
              "fillmode": "overlay",
              "size": 10,
              "solidity": 0.2
             }
            },
            "type": "histogram"
           }
          ],
          "histogram2d": [
           {
            "colorbar": {
             "outlinewidth": 0,
             "ticks": ""
            },
            "colorscale": [
             [
              0,
              "#0d0887"
             ],
             [
              0.1111111111111111,
              "#46039f"
             ],
             [
              0.2222222222222222,
              "#7201a8"
             ],
             [
              0.3333333333333333,
              "#9c179e"
             ],
             [
              0.4444444444444444,
              "#bd3786"
             ],
             [
              0.5555555555555556,
              "#d8576b"
             ],
             [
              0.6666666666666666,
              "#ed7953"
             ],
             [
              0.7777777777777778,
              "#fb9f3a"
             ],
             [
              0.8888888888888888,
              "#fdca26"
             ],
             [
              1,
              "#f0f921"
             ]
            ],
            "type": "histogram2d"
           }
          ],
          "histogram2dcontour": [
           {
            "colorbar": {
             "outlinewidth": 0,
             "ticks": ""
            },
            "colorscale": [
             [
              0,
              "#0d0887"
             ],
             [
              0.1111111111111111,
              "#46039f"
             ],
             [
              0.2222222222222222,
              "#7201a8"
             ],
             [
              0.3333333333333333,
              "#9c179e"
             ],
             [
              0.4444444444444444,
              "#bd3786"
             ],
             [
              0.5555555555555556,
              "#d8576b"
             ],
             [
              0.6666666666666666,
              "#ed7953"
             ],
             [
              0.7777777777777778,
              "#fb9f3a"
             ],
             [
              0.8888888888888888,
              "#fdca26"
             ],
             [
              1,
              "#f0f921"
             ]
            ],
            "type": "histogram2dcontour"
           }
          ],
          "mesh3d": [
           {
            "colorbar": {
             "outlinewidth": 0,
             "ticks": ""
            },
            "type": "mesh3d"
           }
          ],
          "parcoords": [
           {
            "line": {
             "colorbar": {
              "outlinewidth": 0,
              "ticks": ""
             }
            },
            "type": "parcoords"
           }
          ],
          "pie": [
           {
            "automargin": true,
            "type": "pie"
           }
          ],
          "scatter": [
           {
            "fillpattern": {
             "fillmode": "overlay",
             "size": 10,
             "solidity": 0.2
            },
            "type": "scatter"
           }
          ],
          "scatter3d": [
           {
            "line": {
             "colorbar": {
              "outlinewidth": 0,
              "ticks": ""
             }
            },
            "marker": {
             "colorbar": {
              "outlinewidth": 0,
              "ticks": ""
             }
            },
            "type": "scatter3d"
           }
          ],
          "scattercarpet": [
           {
            "marker": {
             "colorbar": {
              "outlinewidth": 0,
              "ticks": ""
             }
            },
            "type": "scattercarpet"
           }
          ],
          "scattergeo": [
           {
            "marker": {
             "colorbar": {
              "outlinewidth": 0,
              "ticks": ""
             }
            },
            "type": "scattergeo"
           }
          ],
          "scattergl": [
           {
            "marker": {
             "colorbar": {
              "outlinewidth": 0,
              "ticks": ""
             }
            },
            "type": "scattergl"
           }
          ],
          "scattermapbox": [
           {
            "marker": {
             "colorbar": {
              "outlinewidth": 0,
              "ticks": ""
             }
            },
            "type": "scattermapbox"
           }
          ],
          "scatterpolar": [
           {
            "marker": {
             "colorbar": {
              "outlinewidth": 0,
              "ticks": ""
             }
            },
            "type": "scatterpolar"
           }
          ],
          "scatterpolargl": [
           {
            "marker": {
             "colorbar": {
              "outlinewidth": 0,
              "ticks": ""
             }
            },
            "type": "scatterpolargl"
           }
          ],
          "scatterternary": [
           {
            "marker": {
             "colorbar": {
              "outlinewidth": 0,
              "ticks": ""
             }
            },
            "type": "scatterternary"
           }
          ],
          "surface": [
           {
            "colorbar": {
             "outlinewidth": 0,
             "ticks": ""
            },
            "colorscale": [
             [
              0,
              "#0d0887"
             ],
             [
              0.1111111111111111,
              "#46039f"
             ],
             [
              0.2222222222222222,
              "#7201a8"
             ],
             [
              0.3333333333333333,
              "#9c179e"
             ],
             [
              0.4444444444444444,
              "#bd3786"
             ],
             [
              0.5555555555555556,
              "#d8576b"
             ],
             [
              0.6666666666666666,
              "#ed7953"
             ],
             [
              0.7777777777777778,
              "#fb9f3a"
             ],
             [
              0.8888888888888888,
              "#fdca26"
             ],
             [
              1,
              "#f0f921"
             ]
            ],
            "type": "surface"
           }
          ],
          "table": [
           {
            "cells": {
             "fill": {
              "color": "#EBF0F8"
             },
             "line": {
              "color": "white"
             }
            },
            "header": {
             "fill": {
              "color": "#C8D4E3"
             },
             "line": {
              "color": "white"
             }
            },
            "type": "table"
           }
          ]
         },
         "layout": {
          "annotationdefaults": {
           "arrowcolor": "#2a3f5f",
           "arrowhead": 0,
           "arrowwidth": 1
          },
          "autotypenumbers": "strict",
          "coloraxis": {
           "colorbar": {
            "outlinewidth": 0,
            "ticks": ""
           }
          },
          "colorscale": {
           "diverging": [
            [
             0,
             "#8e0152"
            ],
            [
             0.1,
             "#c51b7d"
            ],
            [
             0.2,
             "#de77ae"
            ],
            [
             0.3,
             "#f1b6da"
            ],
            [
             0.4,
             "#fde0ef"
            ],
            [
             0.5,
             "#f7f7f7"
            ],
            [
             0.6,
             "#e6f5d0"
            ],
            [
             0.7,
             "#b8e186"
            ],
            [
             0.8,
             "#7fbc41"
            ],
            [
             0.9,
             "#4d9221"
            ],
            [
             1,
             "#276419"
            ]
           ],
           "sequential": [
            [
             0,
             "#0d0887"
            ],
            [
             0.1111111111111111,
             "#46039f"
            ],
            [
             0.2222222222222222,
             "#7201a8"
            ],
            [
             0.3333333333333333,
             "#9c179e"
            ],
            [
             0.4444444444444444,
             "#bd3786"
            ],
            [
             0.5555555555555556,
             "#d8576b"
            ],
            [
             0.6666666666666666,
             "#ed7953"
            ],
            [
             0.7777777777777778,
             "#fb9f3a"
            ],
            [
             0.8888888888888888,
             "#fdca26"
            ],
            [
             1,
             "#f0f921"
            ]
           ],
           "sequentialminus": [
            [
             0,
             "#0d0887"
            ],
            [
             0.1111111111111111,
             "#46039f"
            ],
            [
             0.2222222222222222,
             "#7201a8"
            ],
            [
             0.3333333333333333,
             "#9c179e"
            ],
            [
             0.4444444444444444,
             "#bd3786"
            ],
            [
             0.5555555555555556,
             "#d8576b"
            ],
            [
             0.6666666666666666,
             "#ed7953"
            ],
            [
             0.7777777777777778,
             "#fb9f3a"
            ],
            [
             0.8888888888888888,
             "#fdca26"
            ],
            [
             1,
             "#f0f921"
            ]
           ]
          },
          "colorway": [
           "#636efa",
           "#EF553B",
           "#00cc96",
           "#ab63fa",
           "#FFA15A",
           "#19d3f3",
           "#FF6692",
           "#B6E880",
           "#FF97FF",
           "#FECB52"
          ],
          "font": {
           "color": "#2a3f5f"
          },
          "geo": {
           "bgcolor": "white",
           "lakecolor": "white",
           "landcolor": "#E5ECF6",
           "showlakes": true,
           "showland": true,
           "subunitcolor": "white"
          },
          "hoverlabel": {
           "align": "left"
          },
          "hovermode": "closest",
          "mapbox": {
           "style": "light"
          },
          "paper_bgcolor": "white",
          "plot_bgcolor": "#E5ECF6",
          "polar": {
           "angularaxis": {
            "gridcolor": "white",
            "linecolor": "white",
            "ticks": ""
           },
           "bgcolor": "#E5ECF6",
           "radialaxis": {
            "gridcolor": "white",
            "linecolor": "white",
            "ticks": ""
           }
          },
          "scene": {
           "xaxis": {
            "backgroundcolor": "#E5ECF6",
            "gridcolor": "white",
            "gridwidth": 2,
            "linecolor": "white",
            "showbackground": true,
            "ticks": "",
            "zerolinecolor": "white"
           },
           "yaxis": {
            "backgroundcolor": "#E5ECF6",
            "gridcolor": "white",
            "gridwidth": 2,
            "linecolor": "white",
            "showbackground": true,
            "ticks": "",
            "zerolinecolor": "white"
           },
           "zaxis": {
            "backgroundcolor": "#E5ECF6",
            "gridcolor": "white",
            "gridwidth": 2,
            "linecolor": "white",
            "showbackground": true,
            "ticks": "",
            "zerolinecolor": "white"
           }
          },
          "shapedefaults": {
           "line": {
            "color": "#2a3f5f"
           }
          },
          "ternary": {
           "aaxis": {
            "gridcolor": "white",
            "linecolor": "white",
            "ticks": ""
           },
           "baxis": {
            "gridcolor": "white",
            "linecolor": "white",
            "ticks": ""
           },
           "bgcolor": "#E5ECF6",
           "caxis": {
            "gridcolor": "white",
            "linecolor": "white",
            "ticks": ""
           }
          },
          "title": {
           "x": 0.05
          },
          "xaxis": {
           "automargin": true,
           "gridcolor": "white",
           "linecolor": "white",
           "ticks": "",
           "title": {
            "standoff": 15
           },
           "zerolinecolor": "white",
           "zerolinewidth": 2
          },
          "yaxis": {
           "automargin": true,
           "gridcolor": "white",
           "linecolor": "white",
           "ticks": "",
           "title": {
            "standoff": 15
           },
           "zerolinecolor": "white",
           "zerolinewidth": 2
          }
         }
        },
        "title": {
         "text": "Hyperparameter Importances"
        },
        "xaxis": {
         "title": {
          "text": "Hyperparameter Importance"
         }
        },
        "yaxis": {
         "title": {
          "text": "Hyperparameter"
         }
        }
       }
      }
     },
     "metadata": {},
     "output_type": "display_data"
    }
   ],
   "source": [
    "optuna.visualization.plot_param_importances(study)"
   ]
  },
  {
   "cell_type": "markdown",
   "metadata": {},
   "source": [
    "Continue the study."
   ]
  },
  {
   "cell_type": "code",
   "execution_count": null,
   "metadata": {},
   "outputs": [
    {
     "name": "stderr",
     "output_type": "stream",
     "text": [
      "[I 2024-03-31 23:48:57,972] Trial 122 finished with value: 0.5383957221598592 and parameters: {'pagerank_cutoff': 1.137543141791174, 'despike': True, 'baseline_correct': False, 'smoothing': False, 'scaling': True, 'despike_ma': 74, 'despike_threshold': 3.0, 'scaling_type': 'svn', 'classifier': 'SVC', 'svc_c': 4199314.117954566, 'svc_kernel': 'rbf', 'svc_gamma': 'scale'}. Best is trial 21 with value: 0.6694482081004609.\n",
      "[I 2024-03-31 23:48:58,773] Trial 120 finished with value: 0.5231878092858863 and parameters: {'pagerank_cutoff': 1.1342384260937064, 'despike': True, 'baseline_correct': False, 'smoothing': False, 'scaling': True, 'despike_ma': 79, 'despike_threshold': 3.0, 'scaling_type': 'svn', 'classifier': 'SVC', 'svc_c': 2001113.33371708, 'svc_kernel': 'rbf', 'svc_gamma': 'scale'}. Best is trial 21 with value: 0.6694482081004609.\n",
      "[I 2024-03-31 23:49:23,341] Trial 116 finished with value: 0.6399181317961626 and parameters: {'pagerank_cutoff': 0.8646493208610616, 'despike': True, 'baseline_correct': False, 'smoothing': False, 'scaling': True, 'despike_ma': 76, 'despike_threshold': 3.75, 'scaling_type': 'svn', 'classifier': 'SVC', 'svc_c': 11792052.898966584, 'svc_kernel': 'rbf', 'svc_gamma': 'scale'}. Best is trial 21 with value: 0.6694482081004609.\n",
      "[I 2024-03-31 23:50:12,469] Trial 115 finished with value: 0.619347390275323 and parameters: {'pagerank_cutoff': 0.875365767014296, 'despike': True, 'baseline_correct': False, 'smoothing': False, 'scaling': True, 'despike_ma': 76, 'despike_threshold': 3.0, 'scaling_type': 'svn', 'classifier': 'SVC', 'svc_c': 3484561.4744667723, 'svc_kernel': 'rbf', 'svc_gamma': 'scale'}. Best is trial 21 with value: 0.6694482081004609.\n",
      "[I 2024-03-31 23:50:15,613] Trial 119 finished with value: 0.6405939279035164 and parameters: {'pagerank_cutoff': 0.8700011150445042, 'despike': True, 'baseline_correct': False, 'smoothing': False, 'scaling': True, 'despike_ma': 80, 'despike_threshold': 3.0, 'scaling_type': 'svn', 'classifier': 'SVC', 'svc_c': 2984600.6558848796, 'svc_kernel': 'rbf', 'svc_gamma': 'scale'}. Best is trial 21 with value: 0.6694482081004609.\n",
      "[I 2024-03-31 23:50:16,390] Trial 113 finished with value: 0.6423800205055825 and parameters: {'pagerank_cutoff': 0.8711466823505722, 'despike': True, 'baseline_correct': False, 'smoothing': False, 'scaling': True, 'despike_ma': 77, 'despike_threshold': 3.0, 'scaling_type': 'svn', 'classifier': 'SVC', 'svc_c': 2664274.206716708, 'svc_kernel': 'rbf', 'svc_gamma': 'scale'}. Best is trial 21 with value: 0.6694482081004609.\n",
      "[I 2024-03-31 23:50:17,241] Trial 123 finished with value: 0.6117342341983864 and parameters: {'pagerank_cutoff': 0.8723964214861998, 'despike': True, 'baseline_correct': False, 'smoothing': False, 'scaling': True, 'despike_ma': 76, 'despike_threshold': 3.0, 'scaling_type': 'svn', 'classifier': 'SVC', 'svc_c': 4561390.439555963, 'svc_kernel': 'rbf', 'svc_gamma': 'scale'}. Best is trial 21 with value: 0.6694482081004609.\n",
      "[I 2024-03-31 23:50:17,263] Trial 118 finished with value: 0.642923498766452 and parameters: {'pagerank_cutoff': 0.8714416029107536, 'despike': True, 'baseline_correct': False, 'smoothing': False, 'scaling': True, 'despike_ma': 75, 'despike_threshold': 3.0, 'scaling_type': 'svn', 'classifier': 'SVC', 'svc_c': 569395.1750886854, 'svc_kernel': 'rbf', 'svc_gamma': 'scale'}. Best is trial 21 with value: 0.6694482081004609.\n",
      "[I 2024-03-31 23:50:17,472] Trial 117 finished with value: 0.6172533569800912 and parameters: {'pagerank_cutoff': 0.8678844908385627, 'despike': True, 'baseline_correct': False, 'smoothing': False, 'scaling': True, 'despike_ma': 76, 'despike_threshold': 3.0, 'scaling_type': 'svn', 'classifier': 'SVC', 'svc_c': 5050501.25320847, 'svc_kernel': 'rbf', 'svc_gamma': 'scale'}. Best is trial 21 with value: 0.6694482081004609.\n",
      "[I 2024-03-31 23:50:19,576] Trial 112 finished with value: 0.6270259217977502 and parameters: {'pagerank_cutoff': 0.8663078424678445, 'despike': True, 'baseline_correct': False, 'smoothing': False, 'scaling': True, 'despike_ma': 77, 'despike_threshold': 3.0, 'scaling_type': 'svn', 'classifier': 'SVC', 'svc_c': 3134312.7498962865, 'svc_kernel': 'rbf', 'svc_gamma': 'scale'}. Best is trial 21 with value: 0.6694482081004609.\n",
      "[I 2024-03-31 23:50:21,531] Trial 121 finished with value: 0.6138989230211117 and parameters: {'pagerank_cutoff': 0.8747596780640345, 'despike': True, 'baseline_correct': False, 'smoothing': False, 'scaling': True, 'despike_ma': 93, 'despike_threshold': 3.0, 'scaling_type': 'svn', 'classifier': 'SVC', 'svc_c': 3381539.134342095, 'svc_kernel': 'rbf', 'svc_gamma': 'scale'}. Best is trial 21 with value: 0.6694482081004609.\n",
      "[I 2024-03-31 23:50:24,714] Trial 114 finished with value: 0.6098112837898908 and parameters: {'pagerank_cutoff': 0.792997736522624, 'despike': True, 'baseline_correct': False, 'smoothing': False, 'scaling': True, 'despike_ma': 80, 'despike_threshold': 3.0, 'scaling_type': 'svn', 'classifier': 'SVC', 'svc_c': 2736087.7796255066, 'svc_kernel': 'rbf', 'svc_gamma': 'scale'}. Best is trial 21 with value: 0.6694482081004609.\n",
      "[I 2024-03-31 23:50:40,994] Trial 124 finished with value: 0.6083832021507888 and parameters: {'pagerank_cutoff': 0.8743440781214646, 'despike': True, 'baseline_correct': False, 'smoothing': False, 'scaling': True, 'despike_ma': 89, 'despike_threshold': 3.75, 'scaling_type': 'vector', 'classifier': 'SVC', 'svc_c': 158.26394249818728, 'svc_kernel': 'rbf', 'svc_gamma': 'scale'}. Best is trial 21 with value: 0.6694482081004609.\n",
      "[I 2024-03-31 23:50:45,574] Trial 125 finished with value: 0.5999700959382587 and parameters: {'pagerank_cutoff': 0.8823302913510999, 'despike': True, 'baseline_correct': False, 'smoothing': False, 'scaling': True, 'despike_ma': 96, 'despike_threshold': 3.75, 'scaling_type': 'vector', 'classifier': 'SVC', 'svc_c': 60.342614716737934, 'svc_kernel': 'rbf', 'svc_gamma': 'scale'}. Best is trial 21 with value: 0.6694482081004609.\n",
      "[W 2024-03-31 23:52:01,585] Trial 135 failed with parameters: {'pagerank_cutoff': 0.9749034651138162, 'despike': True, 'baseline_correct': True, 'smoothing': False, 'scaling': True, 'despike_ma': 84, 'despike_threshold': 3.75, 'baseline_correction_type': 'psalsa', 'psalsa_lam': 1000000000, 'psalsa_p': 1.0} because of the following error: ValueError('p must be between 0 and 1').\n",
      "Traceback (most recent call last):\n",
      "  File \"c:\\Users\\FX 8320\\AppData\\Local\\Programs\\Python\\Python311\\Lib\\site-packages\\optuna\\study\\_optimize.py\", line 196, in _run_trial\n",
      "    value_or_values = func(trial)\n",
      "                      ^^^^^^^^^^^\n",
      "  File \"C:\\Users\\FX 8320\\AppData\\Local\\Temp\\ipykernel_6068\\1943358157.py\", line 53, in objective\n",
      "    df_copy['Baseline'] = df_copy.groupby('SpecID')['Absorbance'].transform(lambda x: psalsa_baseline_correction(x, lam=lam, p=p))\n",
      "                          ^^^^^^^^^^^^^^^^^^^^^^^^^^^^^^^^^^^^^^^^^^^^^^^^^^^^^^^^^^^^^^^^^^^^^^^^^^^^^^^^^^^^^^^^^^^^^^^^^^^^^^^^\n",
      "  File \"c:\\Users\\FX 8320\\AppData\\Local\\Programs\\Python\\Python311\\Lib\\site-packages\\pandas\\core\\groupby\\generic.py\", line 517, in transform\n",
      "    return self._transform(\n",
      "           ^^^^^^^^^^^^^^^^\n",
      "  File \"c:\\Users\\FX 8320\\AppData\\Local\\Programs\\Python\\Python311\\Lib\\site-packages\\pandas\\core\\groupby\\groupby.py\", line 2021, in _transform\n",
      "    return self._transform_general(func, engine, engine_kwargs, *args, **kwargs)\n",
      "           ^^^^^^^^^^^^^^^^^^^^^^^^^^^^^^^^^^^^^^^^^^^^^^^^^^^^^^^^^^^^^^^^^^^^^\n",
      "  File \"c:\\Users\\FX 8320\\AppData\\Local\\Programs\\Python\\Python311\\Lib\\site-packages\\pandas\\core\\groupby\\generic.py\", line 557, in _transform_general\n",
      "    res = func(group, *args, **kwargs)\n",
      "          ^^^^^^^^^^^^^^^^^^^^^^^^^^^^\n",
      "  File \"C:\\Users\\FX 8320\\AppData\\Local\\Temp\\ipykernel_6068\\1943358157.py\", line 53, in <lambda>\n",
      "    df_copy['Baseline'] = df_copy.groupby('SpecID')['Absorbance'].transform(lambda x: psalsa_baseline_correction(x, lam=lam, p=p))\n",
      "                                                                                      ^^^^^^^^^^^^^^^^^^^^^^^^^^^^^^^^^^^^^^^^^^^\n",
      "  File \"c:\\Users\\FX 8320\\Documents\\final_year_project\\2024-ca4021-bolgee25-goodwis6\\Optuna_Searches\\Spectra_Preparation_Functions.py\", line 102, in psalsa_baseline_correction\n",
      "    corrected, _ = psalsa(x, lam=lam, p=p)\n",
      "                   ^^^^^^^^^^^^^^^^^^^^^^^\n",
      "  File \"c:\\Users\\FX 8320\\AppData\\Local\\Programs\\Python\\Python311\\Lib\\site-packages\\pybaselines\\_algorithm_setup.py\", line 835, in inner\n",
      "    return getattr(klass(x_data=x), method)(*total_inputs.args, **total_inputs.kwargs)\n",
      "           ^^^^^^^^^^^^^^^^^^^^^^^^^^^^^^^^^^^^^^^^^^^^^^^^^^^^^^^^^^^^^^^^^^^^^^^^^^^\n",
      "  File \"c:\\Users\\FX 8320\\AppData\\Local\\Programs\\Python\\Python311\\Lib\\site-packages\\pybaselines\\_algorithm_setup.py\", line 266, in inner\n",
      "    baseline, params = func(self, y, *args, **kwargs)\n",
      "                       ^^^^^^^^^^^^^^^^^^^^^^^^^^^^^^\n",
      "  File \"c:\\Users\\FX 8320\\AppData\\Local\\Programs\\Python\\Python311\\Lib\\site-packages\\pybaselines\\whittaker.py\", line 717, in psalsa\n",
      "    raise ValueError('p must be between 0 and 1')\n",
      "ValueError: p must be between 0 and 1\n",
      "[W 2024-03-31 23:52:01,601] Trial 135 failed with value None.\n",
      "[W 2024-03-31 23:52:02,191] Trial 131 failed with parameters: {'pagerank_cutoff': 0.7924422009637253, 'despike': True, 'baseline_correct': True, 'smoothing': False, 'scaling': False, 'despike_ma': 23, 'despike_threshold': 3.75, 'baseline_correction_type': 'psalsa', 'psalsa_lam': 100000000000, 'psalsa_p': 1.0} because of the following error: ValueError('p must be between 0 and 1').\n",
      "Traceback (most recent call last):\n",
      "  File \"c:\\Users\\FX 8320\\AppData\\Local\\Programs\\Python\\Python311\\Lib\\site-packages\\optuna\\study\\_optimize.py\", line 196, in _run_trial\n",
      "    value_or_values = func(trial)\n",
      "                      ^^^^^^^^^^^\n",
      "  File \"C:\\Users\\FX 8320\\AppData\\Local\\Temp\\ipykernel_6068\\1943358157.py\", line 53, in objective\n",
      "    df_copy['Baseline'] = df_copy.groupby('SpecID')['Absorbance'].transform(lambda x: psalsa_baseline_correction(x, lam=lam, p=p))\n",
      "                          ^^^^^^^^^^^^^^^^^^^^^^^^^^^^^^^^^^^^^^^^^^^^^^^^^^^^^^^^^^^^^^^^^^^^^^^^^^^^^^^^^^^^^^^^^^^^^^^^^^^^^^^^\n",
      "  File \"c:\\Users\\FX 8320\\AppData\\Local\\Programs\\Python\\Python311\\Lib\\site-packages\\pandas\\core\\groupby\\generic.py\", line 517, in transform\n",
      "    return self._transform(\n",
      "           ^^^^^^^^^^^^^^^^\n",
      "  File \"c:\\Users\\FX 8320\\AppData\\Local\\Programs\\Python\\Python311\\Lib\\site-packages\\pandas\\core\\groupby\\groupby.py\", line 2021, in _transform\n",
      "    return self._transform_general(func, engine, engine_kwargs, *args, **kwargs)\n",
      "           ^^^^^^^^^^^^^^^^^^^^^^^^^^^^^^^^^^^^^^^^^^^^^^^^^^^^^^^^^^^^^^^^^^^^^\n",
      "  File \"c:\\Users\\FX 8320\\AppData\\Local\\Programs\\Python\\Python311\\Lib\\site-packages\\pandas\\core\\groupby\\generic.py\", line 557, in _transform_general\n",
      "    res = func(group, *args, **kwargs)\n",
      "          ^^^^^^^^^^^^^^^^^^^^^^^^^^^^\n",
      "  File \"C:\\Users\\FX 8320\\AppData\\Local\\Temp\\ipykernel_6068\\1943358157.py\", line 53, in <lambda>\n",
      "    df_copy['Baseline'] = df_copy.groupby('SpecID')['Absorbance'].transform(lambda x: psalsa_baseline_correction(x, lam=lam, p=p))\n",
      "                                                                                      ^^^^^^^^^^^^^^^^^^^^^^^^^^^^^^^^^^^^^^^^^^^\n",
      "  File \"c:\\Users\\FX 8320\\Documents\\final_year_project\\2024-ca4021-bolgee25-goodwis6\\Optuna_Searches\\Spectra_Preparation_Functions.py\", line 102, in psalsa_baseline_correction\n",
      "    corrected, _ = psalsa(x, lam=lam, p=p)\n",
      "                   ^^^^^^^^^^^^^^^^^^^^^^^\n",
      "  File \"c:\\Users\\FX 8320\\AppData\\Local\\Programs\\Python\\Python311\\Lib\\site-packages\\pybaselines\\_algorithm_setup.py\", line 835, in inner\n",
      "    return getattr(klass(x_data=x), method)(*total_inputs.args, **total_inputs.kwargs)\n",
      "           ^^^^^^^^^^^^^^^^^^^^^^^^^^^^^^^^^^^^^^^^^^^^^^^^^^^^^^^^^^^^^^^^^^^^^^^^^^^\n",
      "  File \"c:\\Users\\FX 8320\\AppData\\Local\\Programs\\Python\\Python311\\Lib\\site-packages\\pybaselines\\_algorithm_setup.py\", line 266, in inner\n",
      "    baseline, params = func(self, y, *args, **kwargs)\n",
      "                       ^^^^^^^^^^^^^^^^^^^^^^^^^^^^^^\n",
      "  File \"c:\\Users\\FX 8320\\AppData\\Local\\Programs\\Python\\Python311\\Lib\\site-packages\\pybaselines\\whittaker.py\", line 717, in psalsa\n",
      "    raise ValueError('p must be between 0 and 1')\n",
      "ValueError: p must be between 0 and 1\n",
      "[W 2024-03-31 23:52:02,195] Trial 131 failed with value None.\n",
      "[W 2024-03-31 23:52:04,403] Trial 136 failed with parameters: {'pagerank_cutoff': 0.9760407576267476, 'despike': True, 'baseline_correct': True, 'smoothing': False, 'scaling': False, 'despike_ma': 84, 'despike_threshold': 3.75, 'baseline_correction_type': 'psalsa', 'psalsa_lam': 10000, 'psalsa_p': 1.0} because of the following error: ValueError('p must be between 0 and 1').\n",
      "Traceback (most recent call last):\n",
      "  File \"c:\\Users\\FX 8320\\AppData\\Local\\Programs\\Python\\Python311\\Lib\\site-packages\\optuna\\study\\_optimize.py\", line 196, in _run_trial\n",
      "    value_or_values = func(trial)\n",
      "                      ^^^^^^^^^^^\n",
      "  File \"C:\\Users\\FX 8320\\AppData\\Local\\Temp\\ipykernel_6068\\1943358157.py\", line 53, in objective\n",
      "    df_copy['Baseline'] = df_copy.groupby('SpecID')['Absorbance'].transform(lambda x: psalsa_baseline_correction(x, lam=lam, p=p))\n",
      "                          ^^^^^^^^^^^^^^^^^^^^^^^^^^^^^^^^^^^^^^^^^^^^^^^^^^^^^^^^^^^^^^^^^^^^^^^^^^^^^^^^^^^^^^^^^^^^^^^^^^^^^^^^\n",
      "  File \"c:\\Users\\FX 8320\\AppData\\Local\\Programs\\Python\\Python311\\Lib\\site-packages\\pandas\\core\\groupby\\generic.py\", line 517, in transform\n",
      "    return self._transform(\n",
      "           ^^^^^^^^^^^^^^^^\n",
      "  File \"c:\\Users\\FX 8320\\AppData\\Local\\Programs\\Python\\Python311\\Lib\\site-packages\\pandas\\core\\groupby\\groupby.py\", line 2021, in _transform\n",
      "    return self._transform_general(func, engine, engine_kwargs, *args, **kwargs)\n",
      "           ^^^^^^^^^^^^^^^^^^^^^^^^^^^^^^^^^^^^^^^^^^^^^^^^^^^^^^^^^^^^^^^^^^^^^\n",
      "  File \"c:\\Users\\FX 8320\\AppData\\Local\\Programs\\Python\\Python311\\Lib\\site-packages\\pandas\\core\\groupby\\generic.py\", line 557, in _transform_general\n",
      "    res = func(group, *args, **kwargs)\n",
      "          ^^^^^^^^^^^^^^^^^^^^^^^^^^^^\n",
      "  File \"C:\\Users\\FX 8320\\AppData\\Local\\Temp\\ipykernel_6068\\1943358157.py\", line 53, in <lambda>\n",
      "    df_copy['Baseline'] = df_copy.groupby('SpecID')['Absorbance'].transform(lambda x: psalsa_baseline_correction(x, lam=lam, p=p))\n",
      "                                                                                      ^^^^^^^^^^^^^^^^^^^^^^^^^^^^^^^^^^^^^^^^^^^\n",
      "  File \"c:\\Users\\FX 8320\\Documents\\final_year_project\\2024-ca4021-bolgee25-goodwis6\\Optuna_Searches\\Spectra_Preparation_Functions.py\", line 102, in psalsa_baseline_correction\n",
      "    corrected, _ = psalsa(x, lam=lam, p=p)\n",
      "                   ^^^^^^^^^^^^^^^^^^^^^^^\n",
      "  File \"c:\\Users\\FX 8320\\AppData\\Local\\Programs\\Python\\Python311\\Lib\\site-packages\\pybaselines\\_algorithm_setup.py\", line 835, in inner\n",
      "    return getattr(klass(x_data=x), method)(*total_inputs.args, **total_inputs.kwargs)\n",
      "           ^^^^^^^^^^^^^^^^^^^^^^^^^^^^^^^^^^^^^^^^^^^^^^^^^^^^^^^^^^^^^^^^^^^^^^^^^^^\n",
      "  File \"c:\\Users\\FX 8320\\AppData\\Local\\Programs\\Python\\Python311\\Lib\\site-packages\\pybaselines\\_algorithm_setup.py\", line 266, in inner\n",
      "    baseline, params = func(self, y, *args, **kwargs)\n",
      "                       ^^^^^^^^^^^^^^^^^^^^^^^^^^^^^^\n",
      "  File \"c:\\Users\\FX 8320\\AppData\\Local\\Programs\\Python\\Python311\\Lib\\site-packages\\pybaselines\\whittaker.py\", line 717, in psalsa\n",
      "    raise ValueError('p must be between 0 and 1')\n",
      "ValueError: p must be between 0 and 1\n",
      "[W 2024-03-31 23:52:04,446] Trial 136 failed with value None.\n",
      "[W 2024-03-31 23:52:04,502] Trial 130 failed with parameters: {'pagerank_cutoff': 0.7949295329468716, 'despike': True, 'baseline_correct': True, 'smoothing': False, 'scaling': False, 'despike_ma': 85, 'despike_threshold': 3.75, 'baseline_correction_type': 'psalsa', 'psalsa_lam': 10000000000, 'psalsa_p': 1.0} because of the following error: ValueError('p must be between 0 and 1').\n",
      "Traceback (most recent call last):\n",
      "  File \"c:\\Users\\FX 8320\\AppData\\Local\\Programs\\Python\\Python311\\Lib\\site-packages\\optuna\\study\\_optimize.py\", line 196, in _run_trial\n",
      "    value_or_values = func(trial)\n",
      "                      ^^^^^^^^^^^\n",
      "  File \"C:\\Users\\FX 8320\\AppData\\Local\\Temp\\ipykernel_6068\\1943358157.py\", line 53, in objective\n",
      "    df_copy['Baseline'] = df_copy.groupby('SpecID')['Absorbance'].transform(lambda x: psalsa_baseline_correction(x, lam=lam, p=p))\n",
      "                          ^^^^^^^^^^^^^^^^^^^^^^^^^^^^^^^^^^^^^^^^^^^^^^^^^^^^^^^^^^^^^^^^^^^^^^^^^^^^^^^^^^^^^^^^^^^^^^^^^^^^^^^^\n",
      "  File \"c:\\Users\\FX 8320\\AppData\\Local\\Programs\\Python\\Python311\\Lib\\site-packages\\pandas\\core\\groupby\\generic.py\", line 517, in transform\n",
      "    return self._transform(\n",
      "           ^^^^^^^^^^^^^^^^\n",
      "  File \"c:\\Users\\FX 8320\\AppData\\Local\\Programs\\Python\\Python311\\Lib\\site-packages\\pandas\\core\\groupby\\groupby.py\", line 2021, in _transform\n",
      "    return self._transform_general(func, engine, engine_kwargs, *args, **kwargs)\n",
      "           ^^^^^^^^^^^^^^^^^^^^^^^^^^^^^^^^^^^^^^^^^^^^^^^^^^^^^^^^^^^^^^^^^^^^^\n",
      "  File \"c:\\Users\\FX 8320\\AppData\\Local\\Programs\\Python\\Python311\\Lib\\site-packages\\pandas\\core\\groupby\\generic.py\", line 557, in _transform_general\n",
      "    res = func(group, *args, **kwargs)\n",
      "          ^^^^^^^^^^^^^^^^^^^^^^^^^^^^\n",
      "  File \"C:\\Users\\FX 8320\\AppData\\Local\\Temp\\ipykernel_6068\\1943358157.py\", line 53, in <lambda>\n",
      "    df_copy['Baseline'] = df_copy.groupby('SpecID')['Absorbance'].transform(lambda x: psalsa_baseline_correction(x, lam=lam, p=p))\n",
      "                                                                                      ^^^^^^^^^^^^^^^^^^^^^^^^^^^^^^^^^^^^^^^^^^^\n",
      "  File \"c:\\Users\\FX 8320\\Documents\\final_year_project\\2024-ca4021-bolgee25-goodwis6\\Optuna_Searches\\Spectra_Preparation_Functions.py\", line 102, in psalsa_baseline_correction\n",
      "    corrected, _ = psalsa(x, lam=lam, p=p)\n",
      "                   ^^^^^^^^^^^^^^^^^^^^^^^\n",
      "  File \"c:\\Users\\FX 8320\\AppData\\Local\\Programs\\Python\\Python311\\Lib\\site-packages\\pybaselines\\_algorithm_setup.py\", line 835, in inner\n",
      "    return getattr(klass(x_data=x), method)(*total_inputs.args, **total_inputs.kwargs)\n",
      "           ^^^^^^^^^^^^^^^^^^^^^^^^^^^^^^^^^^^^^^^^^^^^^^^^^^^^^^^^^^^^^^^^^^^^^^^^^^^\n",
      "  File \"c:\\Users\\FX 8320\\AppData\\Local\\Programs\\Python\\Python311\\Lib\\site-packages\\pybaselines\\_algorithm_setup.py\", line 266, in inner\n",
      "    baseline, params = func(self, y, *args, **kwargs)\n",
      "                       ^^^^^^^^^^^^^^^^^^^^^^^^^^^^^^\n",
      "  File \"c:\\Users\\FX 8320\\AppData\\Local\\Programs\\Python\\Python311\\Lib\\site-packages\\pybaselines\\whittaker.py\", line 717, in psalsa\n",
      "    raise ValueError('p must be between 0 and 1')\n",
      "ValueError: p must be between 0 and 1\n",
      "[W 2024-03-31 23:52:04,513] Trial 130 failed with value None.\n",
      "[I 2024-03-31 23:52:30,984] Trial 133 finished with value: 0.6248170194437763 and parameters: {'pagerank_cutoff': 0.9882111434428408, 'despike': True, 'baseline_correct': False, 'smoothing': False, 'scaling': True, 'despike_ma': 87, 'despike_threshold': 3.75, 'scaling_type': 'vector', 'classifier': 'SVC', 'svc_c': 7547.323636449911, 'svc_kernel': 'rbf', 'svc_gamma': 'scale'}. Best is trial 21 with value: 0.6694482081004609.\n",
      "[I 2024-03-31 23:52:32,583] Trial 132 finished with value: 0.6112218088360216 and parameters: {'pagerank_cutoff': 0.9872668150779709, 'despike': True, 'baseline_correct': False, 'smoothing': False, 'scaling': True, 'despike_ma': 85, 'despike_threshold': 3.75, 'scaling_type': 'vector', 'classifier': 'SVC', 'svc_c': 14552.670241041276, 'svc_kernel': 'rbf', 'svc_gamma': 'scale'}. Best is trial 21 with value: 0.6694482081004609.\n",
      "[I 2024-03-31 23:52:39,376] Trial 126 finished with value: 0.5971535522684539 and parameters: {'pagerank_cutoff': 0.8722290886124361, 'despike': True, 'baseline_correct': False, 'smoothing': False, 'scaling': True, 'despike_ma': 89, 'despike_threshold': 3.75, 'scaling_type': 'vector', 'classifier': 'SVC', 'svc_c': 499.63296422461593, 'svc_kernel': 'rbf', 'svc_gamma': 'scale'}. Best is trial 21 with value: 0.6694482081004609.\n",
      "[I 2024-03-31 23:52:41,096] Trial 128 finished with value: 0.5909419655621073 and parameters: {'pagerank_cutoff': 0.8751513614874826, 'despike': True, 'baseline_correct': False, 'smoothing': False, 'scaling': True, 'despike_ma': 87, 'despike_threshold': 7.75, 'scaling_type': 'vector', 'classifier': 'SVC', 'svc_c': 466.15253577588186, 'svc_kernel': 'rbf', 'svc_gamma': 'scale'}. Best is trial 21 with value: 0.6694482081004609.\n",
      "[I 2024-03-31 23:52:45,027] Trial 127 finished with value: 0.6124876030085927 and parameters: {'pagerank_cutoff': 0.8690732644070793, 'despike': True, 'baseline_correct': False, 'smoothing': False, 'scaling': True, 'despike_ma': 85, 'despike_threshold': 3.75, 'scaling_type': 'vector', 'classifier': 'SVC', 'svc_c': 12903.261120807556, 'svc_kernel': 'rbf', 'svc_gamma': 'scale'}. Best is trial 21 with value: 0.6694482081004609.\n",
      "[I 2024-03-31 23:52:45,207] Trial 129 finished with value: 0.6040181970021746 and parameters: {'pagerank_cutoff': 0.8658119321656963, 'despike': True, 'baseline_correct': False, 'smoothing': False, 'scaling': True, 'despike_ma': 92, 'despike_threshold': 3.75, 'scaling_type': 'vector', 'classifier': 'SVC', 'svc_c': 12211.347544407234, 'svc_kernel': 'rbf', 'svc_gamma': 'scale'}. Best is trial 21 with value: 0.6694482081004609.\n",
      "[I 2024-03-31 23:52:45,996] Trial 134 finished with value: 0.5986353937517885 and parameters: {'pagerank_cutoff': 0.7928903343603294, 'despike': True, 'baseline_correct': False, 'smoothing': False, 'scaling': True, 'despike_ma': 22, 'despike_threshold': 3.75, 'scaling_type': 'vector', 'classifier': 'SVC', 'svc_c': 15664.262083280224, 'svc_kernel': 'rbf', 'svc_gamma': 'scale'}. Best is trial 21 with value: 0.6694482081004609.\n",
      "[I 2024-03-31 23:52:47,132] Trial 137 finished with value: 0.4610558640730269 and parameters: {'pagerank_cutoff': 0.967773135132081, 'despike': True, 'baseline_correct': True, 'smoothing': False, 'scaling': False, 'despike_ma': 83, 'despike_threshold': 3.75, 'baseline_correction_type': 'psalsa', 'psalsa_lam': 10000000, 'psalsa_p': 0.9500000000000001, 'classifier': 'SVC', 'svc_c': 23053.3172957005, 'svc_kernel': 'rbf', 'svc_gamma': 'scale'}. Best is trial 21 with value: 0.6694482081004609.\n"
     ]
    },
    {
     "ename": "ValueError",
     "evalue": "p must be between 0 and 1",
     "output_type": "error",
     "traceback": [
      "\u001b[1;31m---------------------------------------------------------------------------\u001b[0m",
      "\u001b[1;31mValueError\u001b[0m                                Traceback (most recent call last)",
      "Cell \u001b[1;32mIn[23], line 1\u001b[0m\n\u001b[1;32m----> 1\u001b[0m \u001b[43mstudy\u001b[49m\u001b[38;5;241;43m.\u001b[39;49m\u001b[43moptimize\u001b[49m\u001b[43m(\u001b[49m\u001b[43mobjective\u001b[49m\u001b[43m,\u001b[49m\u001b[43m \u001b[49m\u001b[43mn_trials\u001b[49m\u001b[38;5;241;43m=\u001b[39;49m\u001b[38;5;241;43m250\u001b[39;49m\u001b[43m,\u001b[49m\u001b[43m \u001b[49m\u001b[43mn_jobs\u001b[49m\u001b[38;5;241;43m=\u001b[39;49m\u001b[38;5;241;43m-\u001b[39;49m\u001b[38;5;241;43m1\u001b[39;49m\u001b[43m)\u001b[49m\n\u001b[0;32m      3\u001b[0m \u001b[38;5;28mprint\u001b[39m(study\u001b[38;5;241m.\u001b[39mbest_trial)\n",
      "File \u001b[1;32mc:\\Users\\FX 8320\\AppData\\Local\\Programs\\Python\\Python311\\Lib\\site-packages\\optuna\\study\\study.py:451\u001b[0m, in \u001b[0;36mStudy.optimize\u001b[1;34m(self, func, n_trials, timeout, n_jobs, catch, callbacks, gc_after_trial, show_progress_bar)\u001b[0m\n\u001b[0;32m    348\u001b[0m \u001b[38;5;28;01mdef\u001b[39;00m \u001b[38;5;21moptimize\u001b[39m(\n\u001b[0;32m    349\u001b[0m     \u001b[38;5;28mself\u001b[39m,\n\u001b[0;32m    350\u001b[0m     func: ObjectiveFuncType,\n\u001b[1;32m   (...)\u001b[0m\n\u001b[0;32m    357\u001b[0m     show_progress_bar: \u001b[38;5;28mbool\u001b[39m \u001b[38;5;241m=\u001b[39m \u001b[38;5;28;01mFalse\u001b[39;00m,\n\u001b[0;32m    358\u001b[0m ) \u001b[38;5;241m-\u001b[39m\u001b[38;5;241m>\u001b[39m \u001b[38;5;28;01mNone\u001b[39;00m:\n\u001b[0;32m    359\u001b[0m \u001b[38;5;250m    \u001b[39m\u001b[38;5;124;03m\"\"\"Optimize an objective function.\u001b[39;00m\n\u001b[0;32m    360\u001b[0m \n\u001b[0;32m    361\u001b[0m \u001b[38;5;124;03m    Optimization is done by choosing a suitable set of hyperparameter values from a given\u001b[39;00m\n\u001b[1;32m   (...)\u001b[0m\n\u001b[0;32m    449\u001b[0m \u001b[38;5;124;03m            If nested invocation of this method occurs.\u001b[39;00m\n\u001b[0;32m    450\u001b[0m \u001b[38;5;124;03m    \"\"\"\u001b[39;00m\n\u001b[1;32m--> 451\u001b[0m     \u001b[43m_optimize\u001b[49m\u001b[43m(\u001b[49m\n\u001b[0;32m    452\u001b[0m \u001b[43m        \u001b[49m\u001b[43mstudy\u001b[49m\u001b[38;5;241;43m=\u001b[39;49m\u001b[38;5;28;43mself\u001b[39;49m\u001b[43m,\u001b[49m\n\u001b[0;32m    453\u001b[0m \u001b[43m        \u001b[49m\u001b[43mfunc\u001b[49m\u001b[38;5;241;43m=\u001b[39;49m\u001b[43mfunc\u001b[49m\u001b[43m,\u001b[49m\n\u001b[0;32m    454\u001b[0m \u001b[43m        \u001b[49m\u001b[43mn_trials\u001b[49m\u001b[38;5;241;43m=\u001b[39;49m\u001b[43mn_trials\u001b[49m\u001b[43m,\u001b[49m\n\u001b[0;32m    455\u001b[0m \u001b[43m        \u001b[49m\u001b[43mtimeout\u001b[49m\u001b[38;5;241;43m=\u001b[39;49m\u001b[43mtimeout\u001b[49m\u001b[43m,\u001b[49m\n\u001b[0;32m    456\u001b[0m \u001b[43m        \u001b[49m\u001b[43mn_jobs\u001b[49m\u001b[38;5;241;43m=\u001b[39;49m\u001b[43mn_jobs\u001b[49m\u001b[43m,\u001b[49m\n\u001b[0;32m    457\u001b[0m \u001b[43m        \u001b[49m\u001b[43mcatch\u001b[49m\u001b[38;5;241;43m=\u001b[39;49m\u001b[38;5;28;43mtuple\u001b[39;49m\u001b[43m(\u001b[49m\u001b[43mcatch\u001b[49m\u001b[43m)\u001b[49m\u001b[43m \u001b[49m\u001b[38;5;28;43;01mif\u001b[39;49;00m\u001b[43m \u001b[49m\u001b[38;5;28;43misinstance\u001b[39;49m\u001b[43m(\u001b[49m\u001b[43mcatch\u001b[49m\u001b[43m,\u001b[49m\u001b[43m \u001b[49m\u001b[43mIterable\u001b[49m\u001b[43m)\u001b[49m\u001b[43m \u001b[49m\u001b[38;5;28;43;01melse\u001b[39;49;00m\u001b[43m \u001b[49m\u001b[43m(\u001b[49m\u001b[43mcatch\u001b[49m\u001b[43m,\u001b[49m\u001b[43m)\u001b[49m\u001b[43m,\u001b[49m\n\u001b[0;32m    458\u001b[0m \u001b[43m        \u001b[49m\u001b[43mcallbacks\u001b[49m\u001b[38;5;241;43m=\u001b[39;49m\u001b[43mcallbacks\u001b[49m\u001b[43m,\u001b[49m\n\u001b[0;32m    459\u001b[0m \u001b[43m        \u001b[49m\u001b[43mgc_after_trial\u001b[49m\u001b[38;5;241;43m=\u001b[39;49m\u001b[43mgc_after_trial\u001b[49m\u001b[43m,\u001b[49m\n\u001b[0;32m    460\u001b[0m \u001b[43m        \u001b[49m\u001b[43mshow_progress_bar\u001b[49m\u001b[38;5;241;43m=\u001b[39;49m\u001b[43mshow_progress_bar\u001b[49m\u001b[43m,\u001b[49m\n\u001b[0;32m    461\u001b[0m \u001b[43m    \u001b[49m\u001b[43m)\u001b[49m\n",
      "File \u001b[1;32mc:\\Users\\FX 8320\\AppData\\Local\\Programs\\Python\\Python311\\Lib\\site-packages\\optuna\\study\\_optimize.py:99\u001b[0m, in \u001b[0;36m_optimize\u001b[1;34m(study, func, n_trials, timeout, n_jobs, catch, callbacks, gc_after_trial, show_progress_bar)\u001b[0m\n\u001b[0;32m     97\u001b[0m                     \u001b[38;5;66;03m# Raise if exception occurred in executing the completed futures.\u001b[39;00m\n\u001b[0;32m     98\u001b[0m                     \u001b[38;5;28;01mfor\u001b[39;00m f \u001b[38;5;129;01min\u001b[39;00m completed:\n\u001b[1;32m---> 99\u001b[0m                         \u001b[43mf\u001b[49m\u001b[38;5;241;43m.\u001b[39;49m\u001b[43mresult\u001b[49m\u001b[43m(\u001b[49m\u001b[43m)\u001b[49m\n\u001b[0;32m    101\u001b[0m                 futures\u001b[38;5;241m.\u001b[39madd(\n\u001b[0;32m    102\u001b[0m                     executor\u001b[38;5;241m.\u001b[39msubmit(\n\u001b[0;32m    103\u001b[0m                         _optimize_sequential,\n\u001b[1;32m   (...)\u001b[0m\n\u001b[0;32m    114\u001b[0m                     )\n\u001b[0;32m    115\u001b[0m                 )\n\u001b[0;32m    116\u001b[0m \u001b[38;5;28;01mfinally\u001b[39;00m:\n",
      "File \u001b[1;32mc:\\Users\\FX 8320\\AppData\\Local\\Programs\\Python\\Python311\\Lib\\concurrent\\futures\\_base.py:449\u001b[0m, in \u001b[0;36mFuture.result\u001b[1;34m(self, timeout)\u001b[0m\n\u001b[0;32m    447\u001b[0m     \u001b[38;5;28;01mraise\u001b[39;00m CancelledError()\n\u001b[0;32m    448\u001b[0m \u001b[38;5;28;01melif\u001b[39;00m \u001b[38;5;28mself\u001b[39m\u001b[38;5;241m.\u001b[39m_state \u001b[38;5;241m==\u001b[39m FINISHED:\n\u001b[1;32m--> 449\u001b[0m     \u001b[38;5;28;01mreturn\u001b[39;00m \u001b[38;5;28;43mself\u001b[39;49m\u001b[38;5;241;43m.\u001b[39;49m\u001b[43m__get_result\u001b[49m\u001b[43m(\u001b[49m\u001b[43m)\u001b[49m\n\u001b[0;32m    451\u001b[0m \u001b[38;5;28mself\u001b[39m\u001b[38;5;241m.\u001b[39m_condition\u001b[38;5;241m.\u001b[39mwait(timeout)\n\u001b[0;32m    453\u001b[0m \u001b[38;5;28;01mif\u001b[39;00m \u001b[38;5;28mself\u001b[39m\u001b[38;5;241m.\u001b[39m_state \u001b[38;5;129;01min\u001b[39;00m [CANCELLED, CANCELLED_AND_NOTIFIED]:\n",
      "File \u001b[1;32mc:\\Users\\FX 8320\\AppData\\Local\\Programs\\Python\\Python311\\Lib\\concurrent\\futures\\_base.py:401\u001b[0m, in \u001b[0;36mFuture.__get_result\u001b[1;34m(self)\u001b[0m\n\u001b[0;32m    399\u001b[0m \u001b[38;5;28;01mif\u001b[39;00m \u001b[38;5;28mself\u001b[39m\u001b[38;5;241m.\u001b[39m_exception:\n\u001b[0;32m    400\u001b[0m     \u001b[38;5;28;01mtry\u001b[39;00m:\n\u001b[1;32m--> 401\u001b[0m         \u001b[38;5;28;01mraise\u001b[39;00m \u001b[38;5;28mself\u001b[39m\u001b[38;5;241m.\u001b[39m_exception\n\u001b[0;32m    402\u001b[0m     \u001b[38;5;28;01mfinally\u001b[39;00m:\n\u001b[0;32m    403\u001b[0m         \u001b[38;5;66;03m# Break a reference cycle with the exception in self._exception\u001b[39;00m\n\u001b[0;32m    404\u001b[0m         \u001b[38;5;28mself\u001b[39m \u001b[38;5;241m=\u001b[39m \u001b[38;5;28;01mNone\u001b[39;00m\n",
      "File \u001b[1;32mc:\\Users\\FX 8320\\AppData\\Local\\Programs\\Python\\Python311\\Lib\\concurrent\\futures\\thread.py:58\u001b[0m, in \u001b[0;36m_WorkItem.run\u001b[1;34m(self)\u001b[0m\n\u001b[0;32m     55\u001b[0m     \u001b[38;5;28;01mreturn\u001b[39;00m\n\u001b[0;32m     57\u001b[0m \u001b[38;5;28;01mtry\u001b[39;00m:\n\u001b[1;32m---> 58\u001b[0m     result \u001b[38;5;241m=\u001b[39m \u001b[38;5;28;43mself\u001b[39;49m\u001b[38;5;241;43m.\u001b[39;49m\u001b[43mfn\u001b[49m\u001b[43m(\u001b[49m\u001b[38;5;241;43m*\u001b[39;49m\u001b[38;5;28;43mself\u001b[39;49m\u001b[38;5;241;43m.\u001b[39;49m\u001b[43margs\u001b[49m\u001b[43m,\u001b[49m\u001b[43m \u001b[49m\u001b[38;5;241;43m*\u001b[39;49m\u001b[38;5;241;43m*\u001b[39;49m\u001b[38;5;28;43mself\u001b[39;49m\u001b[38;5;241;43m.\u001b[39;49m\u001b[43mkwargs\u001b[49m\u001b[43m)\u001b[49m\n\u001b[0;32m     59\u001b[0m \u001b[38;5;28;01mexcept\u001b[39;00m \u001b[38;5;167;01mBaseException\u001b[39;00m \u001b[38;5;28;01mas\u001b[39;00m exc:\n\u001b[0;32m     60\u001b[0m     \u001b[38;5;28mself\u001b[39m\u001b[38;5;241m.\u001b[39mfuture\u001b[38;5;241m.\u001b[39mset_exception(exc)\n",
      "File \u001b[1;32mc:\\Users\\FX 8320\\AppData\\Local\\Programs\\Python\\Python311\\Lib\\site-packages\\optuna\\study\\_optimize.py:159\u001b[0m, in \u001b[0;36m_optimize_sequential\u001b[1;34m(study, func, n_trials, timeout, catch, callbacks, gc_after_trial, reseed_sampler_rng, time_start, progress_bar)\u001b[0m\n\u001b[0;32m    156\u001b[0m         \u001b[38;5;28;01mbreak\u001b[39;00m\n\u001b[0;32m    158\u001b[0m \u001b[38;5;28;01mtry\u001b[39;00m:\n\u001b[1;32m--> 159\u001b[0m     frozen_trial \u001b[38;5;241m=\u001b[39m \u001b[43m_run_trial\u001b[49m\u001b[43m(\u001b[49m\u001b[43mstudy\u001b[49m\u001b[43m,\u001b[49m\u001b[43m \u001b[49m\u001b[43mfunc\u001b[49m\u001b[43m,\u001b[49m\u001b[43m \u001b[49m\u001b[43mcatch\u001b[49m\u001b[43m)\u001b[49m\n\u001b[0;32m    160\u001b[0m \u001b[38;5;28;01mfinally\u001b[39;00m:\n\u001b[0;32m    161\u001b[0m     \u001b[38;5;66;03m# The following line mitigates memory problems that can be occurred in some\u001b[39;00m\n\u001b[0;32m    162\u001b[0m     \u001b[38;5;66;03m# environments (e.g., services that use computing containers such as GitHub Actions).\u001b[39;00m\n\u001b[0;32m    163\u001b[0m     \u001b[38;5;66;03m# Please refer to the following PR for further details:\u001b[39;00m\n\u001b[0;32m    164\u001b[0m     \u001b[38;5;66;03m# https://github.com/optuna/optuna/pull/325.\u001b[39;00m\n\u001b[0;32m    165\u001b[0m     \u001b[38;5;28;01mif\u001b[39;00m gc_after_trial:\n",
      "File \u001b[1;32mc:\\Users\\FX 8320\\AppData\\Local\\Programs\\Python\\Python311\\Lib\\site-packages\\optuna\\study\\_optimize.py:247\u001b[0m, in \u001b[0;36m_run_trial\u001b[1;34m(study, func, catch)\u001b[0m\n\u001b[0;32m    240\u001b[0m         \u001b[38;5;28;01massert\u001b[39;00m \u001b[38;5;28;01mFalse\u001b[39;00m, \u001b[38;5;124m\"\u001b[39m\u001b[38;5;124mShould not reach.\u001b[39m\u001b[38;5;124m\"\u001b[39m\n\u001b[0;32m    242\u001b[0m \u001b[38;5;28;01mif\u001b[39;00m (\n\u001b[0;32m    243\u001b[0m     frozen_trial\u001b[38;5;241m.\u001b[39mstate \u001b[38;5;241m==\u001b[39m TrialState\u001b[38;5;241m.\u001b[39mFAIL\n\u001b[0;32m    244\u001b[0m     \u001b[38;5;129;01mand\u001b[39;00m func_err \u001b[38;5;129;01mis\u001b[39;00m \u001b[38;5;129;01mnot\u001b[39;00m \u001b[38;5;28;01mNone\u001b[39;00m\n\u001b[0;32m    245\u001b[0m     \u001b[38;5;129;01mand\u001b[39;00m \u001b[38;5;129;01mnot\u001b[39;00m \u001b[38;5;28misinstance\u001b[39m(func_err, catch)\n\u001b[0;32m    246\u001b[0m ):\n\u001b[1;32m--> 247\u001b[0m     \u001b[38;5;28;01mraise\u001b[39;00m func_err\n\u001b[0;32m    248\u001b[0m \u001b[38;5;28;01mreturn\u001b[39;00m frozen_trial\n",
      "File \u001b[1;32mc:\\Users\\FX 8320\\AppData\\Local\\Programs\\Python\\Python311\\Lib\\site-packages\\optuna\\study\\_optimize.py:196\u001b[0m, in \u001b[0;36m_run_trial\u001b[1;34m(study, func, catch)\u001b[0m\n\u001b[0;32m    194\u001b[0m \u001b[38;5;28;01mwith\u001b[39;00m get_heartbeat_thread(trial\u001b[38;5;241m.\u001b[39m_trial_id, study\u001b[38;5;241m.\u001b[39m_storage):\n\u001b[0;32m    195\u001b[0m     \u001b[38;5;28;01mtry\u001b[39;00m:\n\u001b[1;32m--> 196\u001b[0m         value_or_values \u001b[38;5;241m=\u001b[39m \u001b[43mfunc\u001b[49m\u001b[43m(\u001b[49m\u001b[43mtrial\u001b[49m\u001b[43m)\u001b[49m\n\u001b[0;32m    197\u001b[0m     \u001b[38;5;28;01mexcept\u001b[39;00m exceptions\u001b[38;5;241m.\u001b[39mTrialPruned \u001b[38;5;28;01mas\u001b[39;00m e:\n\u001b[0;32m    198\u001b[0m         \u001b[38;5;66;03m# TODO(mamu): Handle multi-objective cases.\u001b[39;00m\n\u001b[0;32m    199\u001b[0m         state \u001b[38;5;241m=\u001b[39m TrialState\u001b[38;5;241m.\u001b[39mPRUNED\n",
      "Cell \u001b[1;32mIn[6], line 53\u001b[0m, in \u001b[0;36mobjective\u001b[1;34m(trial)\u001b[0m\n\u001b[0;32m     51\u001b[0m         lam \u001b[38;5;241m=\u001b[39m trial\u001b[38;5;241m.\u001b[39msuggest_categorical(\u001b[38;5;124m'\u001b[39m\u001b[38;5;124mpsalsa_lam\u001b[39m\u001b[38;5;124m'\u001b[39m, [\u001b[38;5;241m10\u001b[39m\u001b[38;5;241m*\u001b[39m\u001b[38;5;241m*\u001b[39m\u001b[38;5;241m2\u001b[39m, \u001b[38;5;241m10\u001b[39m\u001b[38;5;241m*\u001b[39m\u001b[38;5;241m*\u001b[39m\u001b[38;5;241m3\u001b[39m, \u001b[38;5;241m10\u001b[39m\u001b[38;5;241m*\u001b[39m\u001b[38;5;241m*\u001b[39m\u001b[38;5;241m4\u001b[39m, \u001b[38;5;241m10\u001b[39m\u001b[38;5;241m*\u001b[39m\u001b[38;5;241m*\u001b[39m\u001b[38;5;241m5\u001b[39m, \u001b[38;5;241m10\u001b[39m\u001b[38;5;241m*\u001b[39m\u001b[38;5;241m*\u001b[39m\u001b[38;5;241m6\u001b[39m, \u001b[38;5;241m10\u001b[39m\u001b[38;5;241m*\u001b[39m\u001b[38;5;241m*\u001b[39m\u001b[38;5;241m7\u001b[39m, \u001b[38;5;241m10\u001b[39m\u001b[38;5;241m*\u001b[39m\u001b[38;5;241m*\u001b[39m\u001b[38;5;241m8\u001b[39m, \u001b[38;5;241m10\u001b[39m\u001b[38;5;241m*\u001b[39m\u001b[38;5;241m*\u001b[39m\u001b[38;5;241m9\u001b[39m, \u001b[38;5;241m10\u001b[39m\u001b[38;5;241m*\u001b[39m\u001b[38;5;241m*\u001b[39m\u001b[38;5;241m10\u001b[39m, \u001b[38;5;241m10\u001b[39m\u001b[38;5;241m*\u001b[39m\u001b[38;5;241m*\u001b[39m\u001b[38;5;241m11\u001b[39m])\n\u001b[0;32m     52\u001b[0m         p \u001b[38;5;241m=\u001b[39m trial\u001b[38;5;241m.\u001b[39msuggest_float(\u001b[38;5;124m'\u001b[39m\u001b[38;5;124mpsalsa_p\u001b[39m\u001b[38;5;124m'\u001b[39m, \u001b[38;5;241m0\u001b[39m, \u001b[38;5;241m1\u001b[39m, step\u001b[38;5;241m=\u001b[39m\u001b[38;5;241m0.05\u001b[39m)\n\u001b[1;32m---> 53\u001b[0m         df_copy[\u001b[38;5;124m'\u001b[39m\u001b[38;5;124mBaseline\u001b[39m\u001b[38;5;124m'\u001b[39m] \u001b[38;5;241m=\u001b[39m \u001b[43mdf_copy\u001b[49m\u001b[38;5;241;43m.\u001b[39;49m\u001b[43mgroupby\u001b[49m\u001b[43m(\u001b[49m\u001b[38;5;124;43m'\u001b[39;49m\u001b[38;5;124;43mSpecID\u001b[39;49m\u001b[38;5;124;43m'\u001b[39;49m\u001b[43m)\u001b[49m\u001b[43m[\u001b[49m\u001b[38;5;124;43m'\u001b[39;49m\u001b[38;5;124;43mAbsorbance\u001b[39;49m\u001b[38;5;124;43m'\u001b[39;49m\u001b[43m]\u001b[49m\u001b[38;5;241;43m.\u001b[39;49m\u001b[43mtransform\u001b[49m\u001b[43m(\u001b[49m\u001b[38;5;28;43;01mlambda\u001b[39;49;00m\u001b[43m \u001b[49m\u001b[43mx\u001b[49m\u001b[43m:\u001b[49m\u001b[43m \u001b[49m\u001b[43mpsalsa_baseline_correction\u001b[49m\u001b[43m(\u001b[49m\u001b[43mx\u001b[49m\u001b[43m,\u001b[49m\u001b[43m \u001b[49m\u001b[43mlam\u001b[49m\u001b[38;5;241;43m=\u001b[39;49m\u001b[43mlam\u001b[49m\u001b[43m,\u001b[49m\u001b[43m \u001b[49m\u001b[43mp\u001b[49m\u001b[38;5;241;43m=\u001b[39;49m\u001b[43mp\u001b[49m\u001b[43m)\u001b[49m\u001b[43m)\u001b[49m\n\u001b[0;32m     54\u001b[0m         df_copy[\u001b[38;5;124m'\u001b[39m\u001b[38;5;124mAbsorbance\u001b[39m\u001b[38;5;124m'\u001b[39m] \u001b[38;5;241m=\u001b[39m df_copy[\u001b[38;5;124m'\u001b[39m\u001b[38;5;124mAbsorbance\u001b[39m\u001b[38;5;124m'\u001b[39m] \u001b[38;5;241m-\u001b[39m df_copy[\u001b[38;5;124m'\u001b[39m\u001b[38;5;124mBaseline\u001b[39m\u001b[38;5;124m'\u001b[39m]\n\u001b[0;32m     56\u001b[0m \u001b[38;5;28;01mif\u001b[39;00m smoothing:\n",
      "File \u001b[1;32mc:\\Users\\FX 8320\\AppData\\Local\\Programs\\Python\\Python311\\Lib\\site-packages\\pandas\\core\\groupby\\generic.py:517\u001b[0m, in \u001b[0;36mSeriesGroupBy.transform\u001b[1;34m(self, func, engine, engine_kwargs, *args, **kwargs)\u001b[0m\n\u001b[0;32m    514\u001b[0m \u001b[38;5;129m@Substitution\u001b[39m(klass\u001b[38;5;241m=\u001b[39m\u001b[38;5;124m\"\u001b[39m\u001b[38;5;124mSeries\u001b[39m\u001b[38;5;124m\"\u001b[39m, example\u001b[38;5;241m=\u001b[39m__examples_series_doc)\n\u001b[0;32m    515\u001b[0m \u001b[38;5;129m@Appender\u001b[39m(_transform_template)\n\u001b[0;32m    516\u001b[0m \u001b[38;5;28;01mdef\u001b[39;00m \u001b[38;5;21mtransform\u001b[39m(\u001b[38;5;28mself\u001b[39m, func, \u001b[38;5;241m*\u001b[39margs, engine\u001b[38;5;241m=\u001b[39m\u001b[38;5;28;01mNone\u001b[39;00m, engine_kwargs\u001b[38;5;241m=\u001b[39m\u001b[38;5;28;01mNone\u001b[39;00m, \u001b[38;5;241m*\u001b[39m\u001b[38;5;241m*\u001b[39mkwargs):\n\u001b[1;32m--> 517\u001b[0m     \u001b[38;5;28;01mreturn\u001b[39;00m \u001b[38;5;28;43mself\u001b[39;49m\u001b[38;5;241;43m.\u001b[39;49m\u001b[43m_transform\u001b[49m\u001b[43m(\u001b[49m\n\u001b[0;32m    518\u001b[0m \u001b[43m        \u001b[49m\u001b[43mfunc\u001b[49m\u001b[43m,\u001b[49m\u001b[43m \u001b[49m\u001b[38;5;241;43m*\u001b[39;49m\u001b[43margs\u001b[49m\u001b[43m,\u001b[49m\u001b[43m \u001b[49m\u001b[43mengine\u001b[49m\u001b[38;5;241;43m=\u001b[39;49m\u001b[43mengine\u001b[49m\u001b[43m,\u001b[49m\u001b[43m \u001b[49m\u001b[43mengine_kwargs\u001b[49m\u001b[38;5;241;43m=\u001b[39;49m\u001b[43mengine_kwargs\u001b[49m\u001b[43m,\u001b[49m\u001b[43m \u001b[49m\u001b[38;5;241;43m*\u001b[39;49m\u001b[38;5;241;43m*\u001b[39;49m\u001b[43mkwargs\u001b[49m\n\u001b[0;32m    519\u001b[0m \u001b[43m    \u001b[49m\u001b[43m)\u001b[49m\n",
      "File \u001b[1;32mc:\\Users\\FX 8320\\AppData\\Local\\Programs\\Python\\Python311\\Lib\\site-packages\\pandas\\core\\groupby\\groupby.py:2021\u001b[0m, in \u001b[0;36mGroupBy._transform\u001b[1;34m(self, func, engine, engine_kwargs, *args, **kwargs)\u001b[0m\n\u001b[0;32m   2018\u001b[0m     warn_alias_replacement(\u001b[38;5;28mself\u001b[39m, orig_func, func)\n\u001b[0;32m   2020\u001b[0m \u001b[38;5;28;01mif\u001b[39;00m \u001b[38;5;129;01mnot\u001b[39;00m \u001b[38;5;28misinstance\u001b[39m(func, \u001b[38;5;28mstr\u001b[39m):\n\u001b[1;32m-> 2021\u001b[0m     \u001b[38;5;28;01mreturn\u001b[39;00m \u001b[38;5;28;43mself\u001b[39;49m\u001b[38;5;241;43m.\u001b[39;49m\u001b[43m_transform_general\u001b[49m\u001b[43m(\u001b[49m\u001b[43mfunc\u001b[49m\u001b[43m,\u001b[49m\u001b[43m \u001b[49m\u001b[43mengine\u001b[49m\u001b[43m,\u001b[49m\u001b[43m \u001b[49m\u001b[43mengine_kwargs\u001b[49m\u001b[43m,\u001b[49m\u001b[43m \u001b[49m\u001b[38;5;241;43m*\u001b[39;49m\u001b[43margs\u001b[49m\u001b[43m,\u001b[49m\u001b[43m \u001b[49m\u001b[38;5;241;43m*\u001b[39;49m\u001b[38;5;241;43m*\u001b[39;49m\u001b[43mkwargs\u001b[49m\u001b[43m)\u001b[49m\n\u001b[0;32m   2023\u001b[0m \u001b[38;5;28;01melif\u001b[39;00m func \u001b[38;5;129;01mnot\u001b[39;00m \u001b[38;5;129;01min\u001b[39;00m base\u001b[38;5;241m.\u001b[39mtransform_kernel_allowlist:\n\u001b[0;32m   2024\u001b[0m     msg \u001b[38;5;241m=\u001b[39m \u001b[38;5;124mf\u001b[39m\u001b[38;5;124m\"\u001b[39m\u001b[38;5;124m'\u001b[39m\u001b[38;5;132;01m{\u001b[39;00mfunc\u001b[38;5;132;01m}\u001b[39;00m\u001b[38;5;124m'\u001b[39m\u001b[38;5;124m is not a valid function name for transform(name)\u001b[39m\u001b[38;5;124m\"\u001b[39m\n",
      "File \u001b[1;32mc:\\Users\\FX 8320\\AppData\\Local\\Programs\\Python\\Python311\\Lib\\site-packages\\pandas\\core\\groupby\\generic.py:557\u001b[0m, in \u001b[0;36mSeriesGroupBy._transform_general\u001b[1;34m(self, func, engine, engine_kwargs, *args, **kwargs)\u001b[0m\n\u001b[0;32m    552\u001b[0m \u001b[38;5;28;01mfor\u001b[39;00m name, group \u001b[38;5;129;01min\u001b[39;00m \u001b[38;5;28mself\u001b[39m\u001b[38;5;241m.\u001b[39m_grouper\u001b[38;5;241m.\u001b[39mget_iterator(\n\u001b[0;32m    553\u001b[0m     \u001b[38;5;28mself\u001b[39m\u001b[38;5;241m.\u001b[39m_obj_with_exclusions, axis\u001b[38;5;241m=\u001b[39m\u001b[38;5;28mself\u001b[39m\u001b[38;5;241m.\u001b[39maxis\n\u001b[0;32m    554\u001b[0m ):\n\u001b[0;32m    555\u001b[0m     \u001b[38;5;66;03m# this setattr is needed for test_transform_lambda_with_datetimetz\u001b[39;00m\n\u001b[0;32m    556\u001b[0m     \u001b[38;5;28mobject\u001b[39m\u001b[38;5;241m.\u001b[39m\u001b[38;5;21m__setattr__\u001b[39m(group, \u001b[38;5;124m\"\u001b[39m\u001b[38;5;124mname\u001b[39m\u001b[38;5;124m\"\u001b[39m, name)\n\u001b[1;32m--> 557\u001b[0m     res \u001b[38;5;241m=\u001b[39m \u001b[43mfunc\u001b[49m\u001b[43m(\u001b[49m\u001b[43mgroup\u001b[49m\u001b[43m,\u001b[49m\u001b[43m \u001b[49m\u001b[38;5;241;43m*\u001b[39;49m\u001b[43margs\u001b[49m\u001b[43m,\u001b[49m\u001b[43m \u001b[49m\u001b[38;5;241;43m*\u001b[39;49m\u001b[38;5;241;43m*\u001b[39;49m\u001b[43mkwargs\u001b[49m\u001b[43m)\u001b[49m\n\u001b[0;32m    559\u001b[0m     results\u001b[38;5;241m.\u001b[39mappend(klass(res, index\u001b[38;5;241m=\u001b[39mgroup\u001b[38;5;241m.\u001b[39mindex))\n\u001b[0;32m    561\u001b[0m \u001b[38;5;66;03m# check for empty \"results\" to avoid concat ValueError\u001b[39;00m\n",
      "Cell \u001b[1;32mIn[6], line 53\u001b[0m, in \u001b[0;36mobjective.<locals>.<lambda>\u001b[1;34m(x)\u001b[0m\n\u001b[0;32m     51\u001b[0m         lam \u001b[38;5;241m=\u001b[39m trial\u001b[38;5;241m.\u001b[39msuggest_categorical(\u001b[38;5;124m'\u001b[39m\u001b[38;5;124mpsalsa_lam\u001b[39m\u001b[38;5;124m'\u001b[39m, [\u001b[38;5;241m10\u001b[39m\u001b[38;5;241m*\u001b[39m\u001b[38;5;241m*\u001b[39m\u001b[38;5;241m2\u001b[39m, \u001b[38;5;241m10\u001b[39m\u001b[38;5;241m*\u001b[39m\u001b[38;5;241m*\u001b[39m\u001b[38;5;241m3\u001b[39m, \u001b[38;5;241m10\u001b[39m\u001b[38;5;241m*\u001b[39m\u001b[38;5;241m*\u001b[39m\u001b[38;5;241m4\u001b[39m, \u001b[38;5;241m10\u001b[39m\u001b[38;5;241m*\u001b[39m\u001b[38;5;241m*\u001b[39m\u001b[38;5;241m5\u001b[39m, \u001b[38;5;241m10\u001b[39m\u001b[38;5;241m*\u001b[39m\u001b[38;5;241m*\u001b[39m\u001b[38;5;241m6\u001b[39m, \u001b[38;5;241m10\u001b[39m\u001b[38;5;241m*\u001b[39m\u001b[38;5;241m*\u001b[39m\u001b[38;5;241m7\u001b[39m, \u001b[38;5;241m10\u001b[39m\u001b[38;5;241m*\u001b[39m\u001b[38;5;241m*\u001b[39m\u001b[38;5;241m8\u001b[39m, \u001b[38;5;241m10\u001b[39m\u001b[38;5;241m*\u001b[39m\u001b[38;5;241m*\u001b[39m\u001b[38;5;241m9\u001b[39m, \u001b[38;5;241m10\u001b[39m\u001b[38;5;241m*\u001b[39m\u001b[38;5;241m*\u001b[39m\u001b[38;5;241m10\u001b[39m, \u001b[38;5;241m10\u001b[39m\u001b[38;5;241m*\u001b[39m\u001b[38;5;241m*\u001b[39m\u001b[38;5;241m11\u001b[39m])\n\u001b[0;32m     52\u001b[0m         p \u001b[38;5;241m=\u001b[39m trial\u001b[38;5;241m.\u001b[39msuggest_float(\u001b[38;5;124m'\u001b[39m\u001b[38;5;124mpsalsa_p\u001b[39m\u001b[38;5;124m'\u001b[39m, \u001b[38;5;241m0\u001b[39m, \u001b[38;5;241m1\u001b[39m, step\u001b[38;5;241m=\u001b[39m\u001b[38;5;241m0.05\u001b[39m)\n\u001b[1;32m---> 53\u001b[0m         df_copy[\u001b[38;5;124m'\u001b[39m\u001b[38;5;124mBaseline\u001b[39m\u001b[38;5;124m'\u001b[39m] \u001b[38;5;241m=\u001b[39m df_copy\u001b[38;5;241m.\u001b[39mgroupby(\u001b[38;5;124m'\u001b[39m\u001b[38;5;124mSpecID\u001b[39m\u001b[38;5;124m'\u001b[39m)[\u001b[38;5;124m'\u001b[39m\u001b[38;5;124mAbsorbance\u001b[39m\u001b[38;5;124m'\u001b[39m]\u001b[38;5;241m.\u001b[39mtransform(\u001b[38;5;28;01mlambda\u001b[39;00m x: \u001b[43mpsalsa_baseline_correction\u001b[49m\u001b[43m(\u001b[49m\u001b[43mx\u001b[49m\u001b[43m,\u001b[49m\u001b[43m \u001b[49m\u001b[43mlam\u001b[49m\u001b[38;5;241;43m=\u001b[39;49m\u001b[43mlam\u001b[49m\u001b[43m,\u001b[49m\u001b[43m \u001b[49m\u001b[43mp\u001b[49m\u001b[38;5;241;43m=\u001b[39;49m\u001b[43mp\u001b[49m\u001b[43m)\u001b[49m)\n\u001b[0;32m     54\u001b[0m         df_copy[\u001b[38;5;124m'\u001b[39m\u001b[38;5;124mAbsorbance\u001b[39m\u001b[38;5;124m'\u001b[39m] \u001b[38;5;241m=\u001b[39m df_copy[\u001b[38;5;124m'\u001b[39m\u001b[38;5;124mAbsorbance\u001b[39m\u001b[38;5;124m'\u001b[39m] \u001b[38;5;241m-\u001b[39m df_copy[\u001b[38;5;124m'\u001b[39m\u001b[38;5;124mBaseline\u001b[39m\u001b[38;5;124m'\u001b[39m]\n\u001b[0;32m     56\u001b[0m \u001b[38;5;28;01mif\u001b[39;00m smoothing:\n",
      "File \u001b[1;32mc:\\Users\\FX 8320\\Documents\\final_year_project\\2024-ca4021-bolgee25-goodwis6\\Optuna_Searches\\Spectra_Preparation_Functions.py:102\u001b[0m, in \u001b[0;36mpsalsa_baseline_correction\u001b[1;34m(x, lam, p)\u001b[0m\n\u001b[0;32m    101\u001b[0m \u001b[38;5;28;01mdef\u001b[39;00m \u001b[38;5;21mpsalsa_baseline_correction\u001b[39m(x, lam, p):\n\u001b[1;32m--> 102\u001b[0m         corrected, _ \u001b[38;5;241m=\u001b[39m \u001b[43mpsalsa\u001b[49m\u001b[43m(\u001b[49m\u001b[43mx\u001b[49m\u001b[43m,\u001b[49m\u001b[43m \u001b[49m\u001b[43mlam\u001b[49m\u001b[38;5;241;43m=\u001b[39;49m\u001b[43mlam\u001b[49m\u001b[43m,\u001b[49m\u001b[43m \u001b[49m\u001b[43mp\u001b[49m\u001b[38;5;241;43m=\u001b[39;49m\u001b[43mp\u001b[49m\u001b[43m)\u001b[49m\n\u001b[0;32m    103\u001b[0m         \u001b[38;5;28;01mreturn\u001b[39;00m corrected\n",
      "File \u001b[1;32mc:\\Users\\FX 8320\\AppData\\Local\\Programs\\Python\\Python311\\Lib\\site-packages\\pybaselines\\_algorithm_setup.py:835\u001b[0m, in \u001b[0;36m_class_wrapper.<locals>.outer.<locals>.inner\u001b[1;34m(*args, **kwargs)\u001b[0m\n\u001b[0;32m    833\u001b[0m total_inputs \u001b[38;5;241m=\u001b[39m func_signature\u001b[38;5;241m.\u001b[39mbind(\u001b[38;5;241m*\u001b[39margs, \u001b[38;5;241m*\u001b[39m\u001b[38;5;241m*\u001b[39mkwargs)\n\u001b[0;32m    834\u001b[0m x \u001b[38;5;241m=\u001b[39m total_inputs\u001b[38;5;241m.\u001b[39marguments\u001b[38;5;241m.\u001b[39mpop(\u001b[38;5;124m'\u001b[39m\u001b[38;5;124mx_data\u001b[39m\u001b[38;5;124m'\u001b[39m, \u001b[38;5;28;01mNone\u001b[39;00m)\n\u001b[1;32m--> 835\u001b[0m \u001b[38;5;28;01mreturn\u001b[39;00m \u001b[38;5;28;43mgetattr\u001b[39;49m\u001b[43m(\u001b[49m\u001b[43mklass\u001b[49m\u001b[43m(\u001b[49m\u001b[43mx_data\u001b[49m\u001b[38;5;241;43m=\u001b[39;49m\u001b[43mx\u001b[49m\u001b[43m)\u001b[49m\u001b[43m,\u001b[49m\u001b[43m \u001b[49m\u001b[43mmethod\u001b[49m\u001b[43m)\u001b[49m\u001b[43m(\u001b[49m\u001b[38;5;241;43m*\u001b[39;49m\u001b[43mtotal_inputs\u001b[49m\u001b[38;5;241;43m.\u001b[39;49m\u001b[43margs\u001b[49m\u001b[43m,\u001b[49m\u001b[43m \u001b[49m\u001b[38;5;241;43m*\u001b[39;49m\u001b[38;5;241;43m*\u001b[39;49m\u001b[43mtotal_inputs\u001b[49m\u001b[38;5;241;43m.\u001b[39;49m\u001b[43mkwargs\u001b[49m\u001b[43m)\u001b[49m\n",
      "File \u001b[1;32mc:\\Users\\FX 8320\\AppData\\Local\\Programs\\Python\\Python311\\Lib\\site-packages\\pybaselines\\_algorithm_setup.py:266\u001b[0m, in \u001b[0;36m_Algorithm._register.<locals>.inner\u001b[1;34m(self, data, *args, **kwargs)\u001b[0m\n\u001b[0;32m    263\u001b[0m \u001b[38;5;28;01melse\u001b[39;00m:\n\u001b[0;32m    264\u001b[0m     output_dtype \u001b[38;5;241m=\u001b[39m \u001b[38;5;28mself\u001b[39m\u001b[38;5;241m.\u001b[39m_dtype\n\u001b[1;32m--> 266\u001b[0m baseline, params \u001b[38;5;241m=\u001b[39m \u001b[43mfunc\u001b[49m\u001b[43m(\u001b[49m\u001b[38;5;28;43mself\u001b[39;49m\u001b[43m,\u001b[49m\u001b[43m \u001b[49m\u001b[43my\u001b[49m\u001b[43m,\u001b[49m\u001b[43m \u001b[49m\u001b[38;5;241;43m*\u001b[39;49m\u001b[43margs\u001b[49m\u001b[43m,\u001b[49m\u001b[43m \u001b[49m\u001b[38;5;241;43m*\u001b[39;49m\u001b[38;5;241;43m*\u001b[39;49m\u001b[43mkwargs\u001b[49m\u001b[43m)\u001b[49m\n\u001b[0;32m    267\u001b[0m \u001b[38;5;28;01mif\u001b[39;00m reset_x:\n\u001b[0;32m    268\u001b[0m     \u001b[38;5;28mself\u001b[39m\u001b[38;5;241m.\u001b[39mx \u001b[38;5;241m=\u001b[39m np\u001b[38;5;241m.\u001b[39marray(\u001b[38;5;28mself\u001b[39m\u001b[38;5;241m.\u001b[39mx, dtype\u001b[38;5;241m=\u001b[39mx_dtype, copy\u001b[38;5;241m=\u001b[39m\u001b[38;5;28;01mFalse\u001b[39;00m)\n",
      "File \u001b[1;32mc:\\Users\\FX 8320\\AppData\\Local\\Programs\\Python\\Python311\\Lib\\site-packages\\pybaselines\\whittaker.py:717\u001b[0m, in \u001b[0;36m_Whittaker.psalsa\u001b[1;34m(self, data, lam, p, k, diff_order, max_iter, tol, weights)\u001b[0m\n\u001b[0;32m    646\u001b[0m \u001b[38;5;250m\u001b[39m\u001b[38;5;124;03m\"\"\"\u001b[39;00m\n\u001b[0;32m    647\u001b[0m \u001b[38;5;124;03mPeaked Signal's Asymmetric Least Squares Algorithm (psalsa).\u001b[39;00m\n\u001b[0;32m    648\u001b[0m \n\u001b[1;32m   (...)\u001b[0m\n\u001b[0;32m    714\u001b[0m \n\u001b[0;32m    715\u001b[0m \u001b[38;5;124;03m\"\"\"\u001b[39;00m\n\u001b[0;32m    716\u001b[0m \u001b[38;5;28;01mif\u001b[39;00m \u001b[38;5;129;01mnot\u001b[39;00m \u001b[38;5;241m0\u001b[39m \u001b[38;5;241m<\u001b[39m p \u001b[38;5;241m<\u001b[39m \u001b[38;5;241m1\u001b[39m:\n\u001b[1;32m--> 717\u001b[0m     \u001b[38;5;28;01mraise\u001b[39;00m \u001b[38;5;167;01mValueError\u001b[39;00m(\u001b[38;5;124m'\u001b[39m\u001b[38;5;124mp must be between 0 and 1\u001b[39m\u001b[38;5;124m'\u001b[39m)\n\u001b[0;32m    718\u001b[0m y, weight_array \u001b[38;5;241m=\u001b[39m \u001b[38;5;28mself\u001b[39m\u001b[38;5;241m.\u001b[39m_setup_whittaker(data, lam, diff_order, weights)\n\u001b[0;32m    719\u001b[0m \u001b[38;5;28;01mif\u001b[39;00m k \u001b[38;5;129;01mis\u001b[39;00m \u001b[38;5;28;01mNone\u001b[39;00m:\n",
      "\u001b[1;31mValueError\u001b[0m: p must be between 0 and 1"
     ]
    }
   ],
   "source": [
    "# study.optimize(objective, n_trials=250, n_jobs=-1)\n",
    "\n",
    "# print(study.best_trial)"
   ]
  },
  {
   "cell_type": "code",
   "execution_count": null,
   "metadata": {},
   "outputs": [],
   "source": [
    "results_df = study.trials_dataframe(attrs=(\"number\", \"value\", \"params\", \"state\"))\n",
    "results_df.to_csv(\"../../data/studies/all_models_extra_baseline+outliers.csv\")"
   ]
  },
  {
   "cell_type": "code",
   "execution_count": null,
   "metadata": {},
   "outputs": [
    {
     "data": {
      "text/plain": [
       "['../../data/studies/all_models2.pkl']"
      ]
     },
     "metadata": {},
     "output_type": "display_data"
    }
   ],
   "source": [
    "import joblib\n",
    "\n",
    "joblib.dump(study, \"../../data/studies/all_models_extra_baseline+outliers.pkl\")"
   ]
  }
 ],
 "metadata": {
  "kernelspec": {
   "display_name": "Python 3",
   "language": "python",
   "name": "python3"
  },
  "language_info": {
   "codemirror_mode": {
    "name": "ipython",
    "version": 3
   },
   "file_extension": ".py",
   "mimetype": "text/x-python",
   "name": "python",
   "nbconvert_exporter": "python",
   "pygments_lexer": "ipython3",
   "version": "3.11.1"
  }
 },
 "nbformat": 4,
 "nbformat_minor": 2
}
