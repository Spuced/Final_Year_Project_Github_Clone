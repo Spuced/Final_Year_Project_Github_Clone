{
 "cells": [
  {
   "cell_type": "markdown",
   "metadata": {},
   "source": [
    "### **This Notebook Performs a Parameters Search on Every Possible Cleaning and Model Parameter.**"
   ]
  },
  {
   "cell_type": "markdown",
   "metadata": {},
   "source": [
    "Lets test different spectral cleaning parameters by building a model pipeline."
   ]
  },
  {
   "cell_type": "markdown",
   "metadata": {},
   "source": [
    "Import Libraries"
   ]
  },
  {
   "cell_type": "code",
   "execution_count": 1,
   "metadata": {},
   "outputs": [],
   "source": [
    "import pandas as pd\n",
    "import numpy as np\n",
    "from scipy.signal import savgol_filter\n",
    "from sklearn.ensemble import RandomForestClassifier\n",
    "from sklearn.ensemble import ExtraTreesClassifier\n",
    "from sklearn.svm import SVC\n",
    "from sklearn.model_selection import cross_validate, GroupKFold, cross_val_score\n",
    "from Spectra_Preparation_Functions import *\n",
    "from sklearn.base import BaseEstimator, TransformerMixin\n",
    "from sklearn.pipeline import Pipeline\n",
    "import optuna"
   ]
  },
  {
   "cell_type": "markdown",
   "metadata": {},
   "source": [
    "Read the spectral data"
   ]
  },
  {
   "cell_type": "code",
   "execution_count": 2,
   "metadata": {},
   "outputs": [],
   "source": [
    "df = pd.read_csv(\"../../data/400-1800_with_raw_scaled_surface_pagerank.csv\")"
   ]
  },
  {
   "cell_type": "code",
   "execution_count": 3,
   "metadata": {},
   "outputs": [
    {
     "data": {
      "text/html": [
       "<div>\n",
       "<style scoped>\n",
       "    .dataframe tbody tr th:only-of-type {\n",
       "        vertical-align: middle;\n",
       "    }\n",
       "\n",
       "    .dataframe tbody tr th {\n",
       "        vertical-align: top;\n",
       "    }\n",
       "\n",
       "    .dataframe thead th {\n",
       "        text-align: right;\n",
       "    }\n",
       "</style>\n",
       "<table border=\"1\" class=\"dataframe\">\n",
       "  <thead>\n",
       "    <tr style=\"text-align: right;\">\n",
       "      <th></th>\n",
       "      <th>Selected Features</th>\n",
       "    </tr>\n",
       "  </thead>\n",
       "  <tbody>\n",
       "    <tr>\n",
       "      <th>0</th>\n",
       "      <td>512.98407</td>\n",
       "    </tr>\n",
       "    <tr>\n",
       "      <th>1</th>\n",
       "      <td>521.18451</td>\n",
       "    </tr>\n",
       "    <tr>\n",
       "      <th>2</th>\n",
       "      <td>585.42139</td>\n",
       "    </tr>\n",
       "    <tr>\n",
       "      <th>3</th>\n",
       "      <td>691.34393</td>\n",
       "    </tr>\n",
       "    <tr>\n",
       "      <th>4</th>\n",
       "      <td>702.27789</td>\n",
       "    </tr>\n",
       "    <tr>\n",
       "      <th>5</th>\n",
       "      <td>743.28021</td>\n",
       "    </tr>\n",
       "    <tr>\n",
       "      <th>6</th>\n",
       "      <td>830.75171</td>\n",
       "    </tr>\n",
       "    <tr>\n",
       "      <th>7</th>\n",
       "      <td>872.43738</td>\n",
       "    </tr>\n",
       "    <tr>\n",
       "      <th>8</th>\n",
       "      <td>886.10480</td>\n",
       "    </tr>\n",
       "    <tr>\n",
       "      <th>9</th>\n",
       "      <td>917.53986</td>\n",
       "    </tr>\n",
       "    <tr>\n",
       "      <th>10</th>\n",
       "      <td>1002.27790</td>\n",
       "    </tr>\n",
       "    <tr>\n",
       "      <th>11</th>\n",
       "      <td>1008.42820</td>\n",
       "    </tr>\n",
       "    <tr>\n",
       "      <th>12</th>\n",
       "      <td>1009.79500</td>\n",
       "    </tr>\n",
       "    <tr>\n",
       "      <th>13</th>\n",
       "      <td>1044.64700</td>\n",
       "    </tr>\n",
       "    <tr>\n",
       "      <th>14</th>\n",
       "      <td>1049.43050</td>\n",
       "    </tr>\n",
       "    <tr>\n",
       "      <th>15</th>\n",
       "      <td>1081.54900</td>\n",
       "    </tr>\n",
       "    <tr>\n",
       "      <th>16</th>\n",
       "      <td>1097.94980</td>\n",
       "    </tr>\n",
       "    <tr>\n",
       "      <th>17</th>\n",
       "      <td>1111.61730</td>\n",
       "    </tr>\n",
       "    <tr>\n",
       "      <th>18</th>\n",
       "      <td>1114.35080</td>\n",
       "    </tr>\n",
       "    <tr>\n",
       "      <th>19</th>\n",
       "      <td>1373.34850</td>\n",
       "    </tr>\n",
       "    <tr>\n",
       "      <th>20</th>\n",
       "      <td>1394.53310</td>\n",
       "    </tr>\n",
       "    <tr>\n",
       "      <th>21</th>\n",
       "      <td>1417.08420</td>\n",
       "    </tr>\n",
       "    <tr>\n",
       "      <th>22</th>\n",
       "      <td>1620.72890</td>\n",
       "    </tr>\n",
       "    <tr>\n",
       "      <th>23</th>\n",
       "      <td>1660.36450</td>\n",
       "    </tr>\n",
       "    <tr>\n",
       "      <th>24</th>\n",
       "      <td>1665.14810</td>\n",
       "    </tr>\n",
       "    <tr>\n",
       "      <th>25</th>\n",
       "      <td>1697.94980</td>\n",
       "    </tr>\n",
       "    <tr>\n",
       "      <th>26</th>\n",
       "      <td>1790.88840</td>\n",
       "    </tr>\n",
       "    <tr>\n",
       "      <th>27</th>\n",
       "      <td>1799.77220</td>\n",
       "    </tr>\n",
       "  </tbody>\n",
       "</table>\n",
       "</div>"
      ],
      "text/plain": [
       "    Selected Features\n",
       "0           512.98407\n",
       "1           521.18451\n",
       "2           585.42139\n",
       "3           691.34393\n",
       "4           702.27789\n",
       "5           743.28021\n",
       "6           830.75171\n",
       "7           872.43738\n",
       "8           886.10480\n",
       "9           917.53986\n",
       "10         1002.27790\n",
       "11         1008.42820\n",
       "12         1009.79500\n",
       "13         1044.64700\n",
       "14         1049.43050\n",
       "15         1081.54900\n",
       "16         1097.94980\n",
       "17         1111.61730\n",
       "18         1114.35080\n",
       "19         1373.34850\n",
       "20         1394.53310\n",
       "21         1417.08420\n",
       "22         1620.72890\n",
       "23         1660.36450\n",
       "24         1665.14810\n",
       "25         1697.94980\n",
       "26         1790.88840\n",
       "27         1799.77220"
      ]
     },
     "execution_count": 3,
     "metadata": {},
     "output_type": "execute_result"
    }
   ],
   "source": [
    "features = pd.read_csv(\"../../data/et_greedy_search_10.csv\", index_col=0)\n",
    "features"
   ]
  },
  {
   "cell_type": "markdown",
   "metadata": {},
   "source": [
    "##### The **PageRank** value is calculated, based on the Gaussian Kernal similarity of each Scaled Raw Spectra within a Surface"
   ]
  },
  {
   "cell_type": "markdown",
   "metadata": {},
   "source": [
    "This aims to remove unrepresentative spectra within each surface which we think are caused by background elements."
   ]
  },
  {
   "cell_type": "code",
   "execution_count": 4,
   "metadata": {},
   "outputs": [
    {
     "data": {
      "text/html": [
       "<div>\n",
       "<style scoped>\n",
       "    .dataframe tbody tr th:only-of-type {\n",
       "        vertical-align: middle;\n",
       "    }\n",
       "\n",
       "    .dataframe tbody tr th {\n",
       "        vertical-align: top;\n",
       "    }\n",
       "\n",
       "    .dataframe thead th {\n",
       "        text-align: right;\n",
       "    }\n",
       "</style>\n",
       "<table border=\"1\" class=\"dataframe\">\n",
       "  <thead>\n",
       "    <tr style=\"text-align: right;\">\n",
       "      <th></th>\n",
       "      <th>SpecID</th>\n",
       "      <th>Seq</th>\n",
       "      <th>WaveNumber</th>\n",
       "      <th>Absorbance</th>\n",
       "      <th>SurID</th>\n",
       "      <th>Status</th>\n",
       "      <th>PageRank</th>\n",
       "    </tr>\n",
       "  </thead>\n",
       "  <tbody>\n",
       "    <tr>\n",
       "      <th>0</th>\n",
       "      <td>201210-1-00</td>\n",
       "      <td>293</td>\n",
       "      <td>400.22778</td>\n",
       "      <td>1765.6628</td>\n",
       "      <td>201210-1</td>\n",
       "      <td>Normal</td>\n",
       "      <td>0.610024</td>\n",
       "    </tr>\n",
       "    <tr>\n",
       "      <th>1</th>\n",
       "      <td>201210-1-00</td>\n",
       "      <td>294</td>\n",
       "      <td>400.91116</td>\n",
       "      <td>1774.7809</td>\n",
       "      <td>201210-1</td>\n",
       "      <td>Normal</td>\n",
       "      <td>0.610024</td>\n",
       "    </tr>\n",
       "    <tr>\n",
       "      <th>2</th>\n",
       "      <td>201210-1-00</td>\n",
       "      <td>295</td>\n",
       "      <td>401.59454</td>\n",
       "      <td>1769.0302</td>\n",
       "      <td>201210-1</td>\n",
       "      <td>Normal</td>\n",
       "      <td>0.610024</td>\n",
       "    </tr>\n",
       "    <tr>\n",
       "      <th>3</th>\n",
       "      <td>201210-1-00</td>\n",
       "      <td>296</td>\n",
       "      <td>402.27789</td>\n",
       "      <td>1756.4220</td>\n",
       "      <td>201210-1</td>\n",
       "      <td>Normal</td>\n",
       "      <td>0.610024</td>\n",
       "    </tr>\n",
       "    <tr>\n",
       "      <th>4</th>\n",
       "      <td>201210-1-00</td>\n",
       "      <td>297</td>\n",
       "      <td>402.96127</td>\n",
       "      <td>1758.8690</td>\n",
       "      <td>201210-1</td>\n",
       "      <td>Normal</td>\n",
       "      <td>0.610024</td>\n",
       "    </tr>\n",
       "    <tr>\n",
       "      <th>...</th>\n",
       "      <td>...</td>\n",
       "      <td>...</td>\n",
       "      <td>...</td>\n",
       "      <td>...</td>\n",
       "      <td>...</td>\n",
       "      <td>...</td>\n",
       "      <td>...</td>\n",
       "    </tr>\n",
       "    <tr>\n",
       "      <th>6239200</th>\n",
       "      <td>210526-3-09</td>\n",
       "      <td>2337</td>\n",
       "      <td>1797.03870</td>\n",
       "      <td>1617.3926</td>\n",
       "      <td>210526-3</td>\n",
       "      <td>Hyperglycemia</td>\n",
       "      <td>1.201164</td>\n",
       "    </tr>\n",
       "    <tr>\n",
       "      <th>6239201</th>\n",
       "      <td>210526-3-09</td>\n",
       "      <td>2338</td>\n",
       "      <td>1797.72200</td>\n",
       "      <td>1633.0911</td>\n",
       "      <td>210526-3</td>\n",
       "      <td>Hyperglycemia</td>\n",
       "      <td>1.201164</td>\n",
       "    </tr>\n",
       "    <tr>\n",
       "      <th>6239202</th>\n",
       "      <td>210526-3-09</td>\n",
       "      <td>2339</td>\n",
       "      <td>1798.40550</td>\n",
       "      <td>1633.3076</td>\n",
       "      <td>210526-3</td>\n",
       "      <td>Hyperglycemia</td>\n",
       "      <td>1.201164</td>\n",
       "    </tr>\n",
       "    <tr>\n",
       "      <th>6239203</th>\n",
       "      <td>210526-3-09</td>\n",
       "      <td>2340</td>\n",
       "      <td>1799.08890</td>\n",
       "      <td>1641.8665</td>\n",
       "      <td>210526-3</td>\n",
       "      <td>Hyperglycemia</td>\n",
       "      <td>1.201164</td>\n",
       "    </tr>\n",
       "    <tr>\n",
       "      <th>6239204</th>\n",
       "      <td>210526-3-09</td>\n",
       "      <td>2341</td>\n",
       "      <td>1799.77220</td>\n",
       "      <td>1618.2405</td>\n",
       "      <td>210526-3</td>\n",
       "      <td>Hyperglycemia</td>\n",
       "      <td>1.201164</td>\n",
       "    </tr>\n",
       "  </tbody>\n",
       "</table>\n",
       "<p>6239205 rows × 7 columns</p>\n",
       "</div>"
      ],
      "text/plain": [
       "              SpecID   Seq  WaveNumber  Absorbance     SurID         Status  \\\n",
       "0        201210-1-00   293   400.22778   1765.6628  201210-1         Normal   \n",
       "1        201210-1-00   294   400.91116   1774.7809  201210-1         Normal   \n",
       "2        201210-1-00   295   401.59454   1769.0302  201210-1         Normal   \n",
       "3        201210-1-00   296   402.27789   1756.4220  201210-1         Normal   \n",
       "4        201210-1-00   297   402.96127   1758.8690  201210-1         Normal   \n",
       "...              ...   ...         ...         ...       ...            ...   \n",
       "6239200  210526-3-09  2337  1797.03870   1617.3926  210526-3  Hyperglycemia   \n",
       "6239201  210526-3-09  2338  1797.72200   1633.0911  210526-3  Hyperglycemia   \n",
       "6239202  210526-3-09  2339  1798.40550   1633.3076  210526-3  Hyperglycemia   \n",
       "6239203  210526-3-09  2340  1799.08890   1641.8665  210526-3  Hyperglycemia   \n",
       "6239204  210526-3-09  2341  1799.77220   1618.2405  210526-3  Hyperglycemia   \n",
       "\n",
       "         PageRank  \n",
       "0        0.610024  \n",
       "1        0.610024  \n",
       "2        0.610024  \n",
       "3        0.610024  \n",
       "4        0.610024  \n",
       "...           ...  \n",
       "6239200  1.201164  \n",
       "6239201  1.201164  \n",
       "6239202  1.201164  \n",
       "6239203  1.201164  \n",
       "6239204  1.201164  \n",
       "\n",
       "[6239205 rows x 7 columns]"
      ]
     },
     "execution_count": 4,
     "metadata": {},
     "output_type": "execute_result"
    }
   ],
   "source": [
    "df"
   ]
  },
  {
   "cell_type": "code",
   "execution_count": 5,
   "metadata": {},
   "outputs": [
    {
     "data": {
      "text/html": [
       "<div>\n",
       "<style scoped>\n",
       "    .dataframe tbody tr th:only-of-type {\n",
       "        vertical-align: middle;\n",
       "    }\n",
       "\n",
       "    .dataframe tbody tr th {\n",
       "        vertical-align: top;\n",
       "    }\n",
       "\n",
       "    .dataframe thead th {\n",
       "        text-align: right;\n",
       "    }\n",
       "</style>\n",
       "<table border=\"1\" class=\"dataframe\">\n",
       "  <thead>\n",
       "    <tr style=\"text-align: right;\">\n",
       "      <th></th>\n",
       "      <th>400.22778</th>\n",
       "      <th>400.91116</th>\n",
       "      <th>401.59454</th>\n",
       "      <th>402.27789</th>\n",
       "      <th>402.96127</th>\n",
       "      <th>403.64465</th>\n",
       "      <th>404.32803</th>\n",
       "      <th>405.01138</th>\n",
       "      <th>405.69476</th>\n",
       "      <th>406.37814</th>\n",
       "      <th>...</th>\n",
       "      <th>1794.9886</th>\n",
       "      <th>1795.672</th>\n",
       "      <th>1796.3553</th>\n",
       "      <th>1797.0387</th>\n",
       "      <th>1797.722</th>\n",
       "      <th>1798.4055</th>\n",
       "      <th>1799.0889</th>\n",
       "      <th>1799.7722</th>\n",
       "      <th>SurID</th>\n",
       "      <th>Status</th>\n",
       "    </tr>\n",
       "    <tr>\n",
       "      <th>SpecID</th>\n",
       "      <th></th>\n",
       "      <th></th>\n",
       "      <th></th>\n",
       "      <th></th>\n",
       "      <th></th>\n",
       "      <th></th>\n",
       "      <th></th>\n",
       "      <th></th>\n",
       "      <th></th>\n",
       "      <th></th>\n",
       "      <th></th>\n",
       "      <th></th>\n",
       "      <th></th>\n",
       "      <th></th>\n",
       "      <th></th>\n",
       "      <th></th>\n",
       "      <th></th>\n",
       "      <th></th>\n",
       "      <th></th>\n",
       "      <th></th>\n",
       "      <th></th>\n",
       "    </tr>\n",
       "  </thead>\n",
       "  <tbody>\n",
       "    <tr>\n",
       "      <th>201210-1-00</th>\n",
       "      <td>1765.6628</td>\n",
       "      <td>1774.7809</td>\n",
       "      <td>1769.0302</td>\n",
       "      <td>1756.4220</td>\n",
       "      <td>1758.8690</td>\n",
       "      <td>1763.2300</td>\n",
       "      <td>1745.2285</td>\n",
       "      <td>1773.3534</td>\n",
       "      <td>1774.7166</td>\n",
       "      <td>1753.3281</td>\n",
       "      <td>...</td>\n",
       "      <td>1210.4993</td>\n",
       "      <td>1213.9619</td>\n",
       "      <td>1225.2153</td>\n",
       "      <td>1210.0010</td>\n",
       "      <td>1210.6858</td>\n",
       "      <td>1194.4679</td>\n",
       "      <td>1195.1451</td>\n",
       "      <td>1189.8683</td>\n",
       "      <td>201210-1</td>\n",
       "      <td>Normal</td>\n",
       "    </tr>\n",
       "    <tr>\n",
       "      <th>201210-1-01</th>\n",
       "      <td>1966.9930</td>\n",
       "      <td>1962.4237</td>\n",
       "      <td>1954.5616</td>\n",
       "      <td>1954.3228</td>\n",
       "      <td>1963.0917</td>\n",
       "      <td>1975.0807</td>\n",
       "      <td>1979.3162</td>\n",
       "      <td>1963.4561</td>\n",
       "      <td>1968.4587</td>\n",
       "      <td>1964.0000</td>\n",
       "      <td>...</td>\n",
       "      <td>1382.6973</td>\n",
       "      <td>1363.7004</td>\n",
       "      <td>1360.6210</td>\n",
       "      <td>1354.0477</td>\n",
       "      <td>1353.0381</td>\n",
       "      <td>1353.9978</td>\n",
       "      <td>1361.2426</td>\n",
       "      <td>1370.2874</td>\n",
       "      <td>201210-1</td>\n",
       "      <td>Normal</td>\n",
       "    </tr>\n",
       "    <tr>\n",
       "      <th>201210-1-02</th>\n",
       "      <td>2182.6694</td>\n",
       "      <td>2149.6565</td>\n",
       "      <td>2146.0227</td>\n",
       "      <td>2159.3459</td>\n",
       "      <td>2167.2910</td>\n",
       "      <td>2160.9861</td>\n",
       "      <td>2145.6575</td>\n",
       "      <td>2134.2004</td>\n",
       "      <td>2142.8303</td>\n",
       "      <td>2138.6309</td>\n",
       "      <td>...</td>\n",
       "      <td>1976.2070</td>\n",
       "      <td>1989.0183</td>\n",
       "      <td>1996.2838</td>\n",
       "      <td>1979.3507</td>\n",
       "      <td>1976.2002</td>\n",
       "      <td>1994.9839</td>\n",
       "      <td>1974.2030</td>\n",
       "      <td>1971.1880</td>\n",
       "      <td>201210-1</td>\n",
       "      <td>Normal</td>\n",
       "    </tr>\n",
       "    <tr>\n",
       "      <th>201210-1-03</th>\n",
       "      <td>2445.0837</td>\n",
       "      <td>2430.4973</td>\n",
       "      <td>2422.7927</td>\n",
       "      <td>2434.3433</td>\n",
       "      <td>2454.9700</td>\n",
       "      <td>2462.8245</td>\n",
       "      <td>2454.7007</td>\n",
       "      <td>2467.7329</td>\n",
       "      <td>2449.5161</td>\n",
       "      <td>2421.3474</td>\n",
       "      <td>...</td>\n",
       "      <td>1992.3817</td>\n",
       "      <td>2022.6331</td>\n",
       "      <td>2001.8311</td>\n",
       "      <td>2010.0946</td>\n",
       "      <td>2006.4933</td>\n",
       "      <td>2017.2891</td>\n",
       "      <td>2038.1699</td>\n",
       "      <td>2000.6475</td>\n",
       "      <td>201210-1</td>\n",
       "      <td>Normal</td>\n",
       "    </tr>\n",
       "    <tr>\n",
       "      <th>201210-1-04</th>\n",
       "      <td>2250.4536</td>\n",
       "      <td>2248.6235</td>\n",
       "      <td>2245.0984</td>\n",
       "      <td>2242.7173</td>\n",
       "      <td>2235.2803</td>\n",
       "      <td>2228.9585</td>\n",
       "      <td>2236.0095</td>\n",
       "      <td>2229.6091</td>\n",
       "      <td>2225.9231</td>\n",
       "      <td>2211.0359</td>\n",
       "      <td>...</td>\n",
       "      <td>2009.0385</td>\n",
       "      <td>1953.3303</td>\n",
       "      <td>1963.5698</td>\n",
       "      <td>1964.5299</td>\n",
       "      <td>1969.5634</td>\n",
       "      <td>1986.6266</td>\n",
       "      <td>1970.1484</td>\n",
       "      <td>2007.0848</td>\n",
       "      <td>201210-1</td>\n",
       "      <td>Normal</td>\n",
       "    </tr>\n",
       "  </tbody>\n",
       "</table>\n",
       "<p>5 rows × 2051 columns</p>\n",
       "</div>"
      ],
      "text/plain": [
       "             400.22778  400.91116  401.59454  402.27789  402.96127  403.64465  \\\n",
       "SpecID                                                                          \n",
       "201210-1-00  1765.6628  1774.7809  1769.0302  1756.4220  1758.8690  1763.2300   \n",
       "201210-1-01  1966.9930  1962.4237  1954.5616  1954.3228  1963.0917  1975.0807   \n",
       "201210-1-02  2182.6694  2149.6565  2146.0227  2159.3459  2167.2910  2160.9861   \n",
       "201210-1-03  2445.0837  2430.4973  2422.7927  2434.3433  2454.9700  2462.8245   \n",
       "201210-1-04  2250.4536  2248.6235  2245.0984  2242.7173  2235.2803  2228.9585   \n",
       "\n",
       "             404.32803  405.01138  405.69476  406.37814  ...  1794.9886  \\\n",
       "SpecID                                                   ...              \n",
       "201210-1-00  1745.2285  1773.3534  1774.7166  1753.3281  ...  1210.4993   \n",
       "201210-1-01  1979.3162  1963.4561  1968.4587  1964.0000  ...  1382.6973   \n",
       "201210-1-02  2145.6575  2134.2004  2142.8303  2138.6309  ...  1976.2070   \n",
       "201210-1-03  2454.7007  2467.7329  2449.5161  2421.3474  ...  1992.3817   \n",
       "201210-1-04  2236.0095  2229.6091  2225.9231  2211.0359  ...  2009.0385   \n",
       "\n",
       "              1795.672  1796.3553  1797.0387   1797.722  1798.4055  1799.0889  \\\n",
       "SpecID                                                                          \n",
       "201210-1-00  1213.9619  1225.2153  1210.0010  1210.6858  1194.4679  1195.1451   \n",
       "201210-1-01  1363.7004  1360.6210  1354.0477  1353.0381  1353.9978  1361.2426   \n",
       "201210-1-02  1989.0183  1996.2838  1979.3507  1976.2002  1994.9839  1974.2030   \n",
       "201210-1-03  2022.6331  2001.8311  2010.0946  2006.4933  2017.2891  2038.1699   \n",
       "201210-1-04  1953.3303  1963.5698  1964.5299  1969.5634  1986.6266  1970.1484   \n",
       "\n",
       "             1799.7722     SurID  Status  \n",
       "SpecID                                    \n",
       "201210-1-00  1189.8683  201210-1  Normal  \n",
       "201210-1-01  1370.2874  201210-1  Normal  \n",
       "201210-1-02  1971.1880  201210-1  Normal  \n",
       "201210-1-03  2000.6475  201210-1  Normal  \n",
       "201210-1-04  2007.0848  201210-1  Normal  \n",
       "\n",
       "[5 rows x 2051 columns]"
      ]
     },
     "execution_count": 5,
     "metadata": {},
     "output_type": "execute_result"
    }
   ],
   "source": [
    "wavelength_df = prepare_wavelength_df(df, 'Absorbance')\n",
    "wavelength_df.head()"
   ]
  },
  {
   "cell_type": "markdown",
   "metadata": {},
   "source": [
    ">#### **Use Optuna to Find the Best Cleaning Parameter**"
   ]
  },
  {
   "cell_type": "code",
   "execution_count": 6,
   "metadata": {},
   "outputs": [
    {
     "data": {
      "text/html": [
       "<div>\n",
       "<style scoped>\n",
       "    .dataframe tbody tr th:only-of-type {\n",
       "        vertical-align: middle;\n",
       "    }\n",
       "\n",
       "    .dataframe tbody tr th {\n",
       "        vertical-align: top;\n",
       "    }\n",
       "\n",
       "    .dataframe thead th {\n",
       "        text-align: right;\n",
       "    }\n",
       "</style>\n",
       "<table border=\"1\" class=\"dataframe\">\n",
       "  <thead>\n",
       "    <tr style=\"text-align: right;\">\n",
       "      <th></th>\n",
       "      <th>SpecID</th>\n",
       "      <th>Seq</th>\n",
       "      <th>WaveNumber</th>\n",
       "      <th>Absorbance</th>\n",
       "      <th>SurID</th>\n",
       "      <th>Status</th>\n",
       "      <th>PageRank</th>\n",
       "    </tr>\n",
       "  </thead>\n",
       "  <tbody>\n",
       "    <tr>\n",
       "      <th>0</th>\n",
       "      <td>201210-1-00</td>\n",
       "      <td>293</td>\n",
       "      <td>400.22778</td>\n",
       "      <td>1765.6628</td>\n",
       "      <td>201210-1</td>\n",
       "      <td>Normal</td>\n",
       "      <td>0.610024</td>\n",
       "    </tr>\n",
       "    <tr>\n",
       "      <th>1</th>\n",
       "      <td>201210-1-00</td>\n",
       "      <td>294</td>\n",
       "      <td>400.91116</td>\n",
       "      <td>1774.7809</td>\n",
       "      <td>201210-1</td>\n",
       "      <td>Normal</td>\n",
       "      <td>0.610024</td>\n",
       "    </tr>\n",
       "    <tr>\n",
       "      <th>2</th>\n",
       "      <td>201210-1-00</td>\n",
       "      <td>295</td>\n",
       "      <td>401.59454</td>\n",
       "      <td>1769.0302</td>\n",
       "      <td>201210-1</td>\n",
       "      <td>Normal</td>\n",
       "      <td>0.610024</td>\n",
       "    </tr>\n",
       "    <tr>\n",
       "      <th>3</th>\n",
       "      <td>201210-1-00</td>\n",
       "      <td>296</td>\n",
       "      <td>402.27789</td>\n",
       "      <td>1756.4220</td>\n",
       "      <td>201210-1</td>\n",
       "      <td>Normal</td>\n",
       "      <td>0.610024</td>\n",
       "    </tr>\n",
       "    <tr>\n",
       "      <th>4</th>\n",
       "      <td>201210-1-00</td>\n",
       "      <td>297</td>\n",
       "      <td>402.96127</td>\n",
       "      <td>1758.8690</td>\n",
       "      <td>201210-1</td>\n",
       "      <td>Normal</td>\n",
       "      <td>0.610024</td>\n",
       "    </tr>\n",
       "    <tr>\n",
       "      <th>...</th>\n",
       "      <td>...</td>\n",
       "      <td>...</td>\n",
       "      <td>...</td>\n",
       "      <td>...</td>\n",
       "      <td>...</td>\n",
       "      <td>...</td>\n",
       "      <td>...</td>\n",
       "    </tr>\n",
       "    <tr>\n",
       "      <th>6239200</th>\n",
       "      <td>210526-3-09</td>\n",
       "      <td>2337</td>\n",
       "      <td>1797.03870</td>\n",
       "      <td>1617.3926</td>\n",
       "      <td>210526-3</td>\n",
       "      <td>Hyperglycemia</td>\n",
       "      <td>1.201164</td>\n",
       "    </tr>\n",
       "    <tr>\n",
       "      <th>6239201</th>\n",
       "      <td>210526-3-09</td>\n",
       "      <td>2338</td>\n",
       "      <td>1797.72200</td>\n",
       "      <td>1633.0911</td>\n",
       "      <td>210526-3</td>\n",
       "      <td>Hyperglycemia</td>\n",
       "      <td>1.201164</td>\n",
       "    </tr>\n",
       "    <tr>\n",
       "      <th>6239202</th>\n",
       "      <td>210526-3-09</td>\n",
       "      <td>2339</td>\n",
       "      <td>1798.40550</td>\n",
       "      <td>1633.3076</td>\n",
       "      <td>210526-3</td>\n",
       "      <td>Hyperglycemia</td>\n",
       "      <td>1.201164</td>\n",
       "    </tr>\n",
       "    <tr>\n",
       "      <th>6239203</th>\n",
       "      <td>210526-3-09</td>\n",
       "      <td>2340</td>\n",
       "      <td>1799.08890</td>\n",
       "      <td>1641.8665</td>\n",
       "      <td>210526-3</td>\n",
       "      <td>Hyperglycemia</td>\n",
       "      <td>1.201164</td>\n",
       "    </tr>\n",
       "    <tr>\n",
       "      <th>6239204</th>\n",
       "      <td>210526-3-09</td>\n",
       "      <td>2341</td>\n",
       "      <td>1799.77220</td>\n",
       "      <td>1618.2405</td>\n",
       "      <td>210526-3</td>\n",
       "      <td>Hyperglycemia</td>\n",
       "      <td>1.201164</td>\n",
       "    </tr>\n",
       "  </tbody>\n",
       "</table>\n",
       "<p>6239205 rows × 7 columns</p>\n",
       "</div>"
      ],
      "text/plain": [
       "              SpecID   Seq  WaveNumber  Absorbance     SurID         Status  \\\n",
       "0        201210-1-00   293   400.22778   1765.6628  201210-1         Normal   \n",
       "1        201210-1-00   294   400.91116   1774.7809  201210-1         Normal   \n",
       "2        201210-1-00   295   401.59454   1769.0302  201210-1         Normal   \n",
       "3        201210-1-00   296   402.27789   1756.4220  201210-1         Normal   \n",
       "4        201210-1-00   297   402.96127   1758.8690  201210-1         Normal   \n",
       "...              ...   ...         ...         ...       ...            ...   \n",
       "6239200  210526-3-09  2337  1797.03870   1617.3926  210526-3  Hyperglycemia   \n",
       "6239201  210526-3-09  2338  1797.72200   1633.0911  210526-3  Hyperglycemia   \n",
       "6239202  210526-3-09  2339  1798.40550   1633.3076  210526-3  Hyperglycemia   \n",
       "6239203  210526-3-09  2340  1799.08890   1641.8665  210526-3  Hyperglycemia   \n",
       "6239204  210526-3-09  2341  1799.77220   1618.2405  210526-3  Hyperglycemia   \n",
       "\n",
       "         PageRank  \n",
       "0        0.610024  \n",
       "1        0.610024  \n",
       "2        0.610024  \n",
       "3        0.610024  \n",
       "4        0.610024  \n",
       "...           ...  \n",
       "6239200  1.201164  \n",
       "6239201  1.201164  \n",
       "6239202  1.201164  \n",
       "6239203  1.201164  \n",
       "6239204  1.201164  \n",
       "\n",
       "[6239205 rows x 7 columns]"
      ]
     },
     "execution_count": 6,
     "metadata": {},
     "output_type": "execute_result"
    }
   ],
   "source": [
    "df"
   ]
  },
  {
   "cell_type": "code",
   "execution_count": 7,
   "metadata": {},
   "outputs": [
    {
     "name": "stderr",
     "output_type": "stream",
     "text": [
      "[I 2024-04-13 00:44:33,713] A new study created in memory with name: no-name-d3dfdd33-b5c3-41b2-b4fa-b881e416bd0f\n",
      "[I 2024-04-13 00:44:57,242] Trial 9 finished with value: 0.20291923523630842 and parameters: {'pagerank_cutoff': 1.4825276852448281, 'despike': False, 'baseline_correct': False, 'smoothing': True, 'scaling': True, 'window_size': 244, 'poly_order': 1, 'scaling_type': 'vector', 'classifier': 'SVC', 'svc_c': 6.083054300847514e-05, 'svc_kernel': 'linear', 'svc_gamma': 'scale'}. Best is trial 9 with value: 0.20291923523630842.\n",
      "[I 2024-04-13 00:45:30,520] Trial 2 finished with value: 0.36150965317609307 and parameters: {'pagerank_cutoff': 1.3644619675449996, 'despike': True, 'baseline_correct': False, 'smoothing': False, 'scaling': True, 'despike_ma': 50, 'despike_threshold': 3.25, 'scaling_type': 'normal', 'classifier': 'ExtraTrees', 'et_n_estimators': 100, 'et_max_depth': 4, 'et_criterion': 'log_loss'}. Best is trial 2 with value: 0.36150965317609307.\n",
      "[I 2024-04-13 00:45:32,859] Trial 11 finished with value: 0.4760119047619047 and parameters: {'pagerank_cutoff': 1.416354722401788, 'despike': False, 'baseline_correct': True, 'smoothing': False, 'scaling': False, 'lam': 1000, 'p': 0.077, 'classifier': 'RandomForest', 'rf_n_estimators': 65, 'rf_max_depth': 2, 'rf_criterion': 'gini'}. Best is trial 11 with value: 0.4760119047619047.\n",
      "[I 2024-04-13 00:45:37,773] Trial 14 finished with value: 0.45713004622539516 and parameters: {'pagerank_cutoff': 0.22668403712674012, 'despike': False, 'baseline_correct': False, 'smoothing': False, 'scaling': False, 'classifier': 'RandomForest', 'rf_n_estimators': 27, 'rf_max_depth': 4, 'rf_criterion': 'gini'}. Best is trial 11 with value: 0.4760119047619047.\n",
      "[I 2024-04-13 00:45:39,092] Trial 5 finished with value: 0.5552753713411498 and parameters: {'pagerank_cutoff': 0.6072151157088896, 'despike': True, 'baseline_correct': False, 'smoothing': False, 'scaling': True, 'despike_ma': 71, 'despike_threshold': 8.25, 'scaling_type': 'vector', 'classifier': 'ExtraTrees', 'et_n_estimators': 24, 'et_max_depth': 14, 'et_criterion': 'entropy'}. Best is trial 5 with value: 0.5552753713411498.\n",
      "[I 2024-04-13 00:45:45,521] Trial 4 finished with value: 0.08413217714837341 and parameters: {'pagerank_cutoff': 1.36436336401184, 'despike': True, 'baseline_correct': True, 'smoothing': True, 'scaling': True, 'despike_ma': 79, 'despike_threshold': 3.75, 'lam': 1000000, 'p': 0.096, 'window_size': 382, 'poly_order': 2, 'scaling_type': 'svn', 'classifier': 'SVC', 'svc_c': 0.04914953746803255, 'svc_kernel': 'poly', 'svc_gamma': 'auto'}. Best is trial 5 with value: 0.5552753713411498.\n",
      "[I 2024-04-13 00:45:52,401] Trial 13 finished with value: 0.3016156462585034 and parameters: {'pagerank_cutoff': 1.4172898662389484, 'despike': False, 'baseline_correct': True, 'smoothing': True, 'scaling': True, 'lam': 100000000, 'p': 0.1, 'window_size': 28, 'poly_order': 4, 'scaling_type': 'vector', 'classifier': 'ExtraTrees', 'et_n_estimators': 66, 'et_max_depth': 3, 'et_criterion': 'gini'}. Best is trial 5 with value: 0.5552753713411498.\n",
      "[I 2024-04-13 00:45:57,615] Trial 10 finished with value: 0.477459400144145 and parameters: {'pagerank_cutoff': 0.6835838011651312, 'despike': True, 'baseline_correct': False, 'smoothing': True, 'scaling': False, 'despike_ma': 100, 'despike_threshold': 7.75, 'window_size': 67, 'poly_order': 3, 'classifier': 'ExtraTrees', 'et_n_estimators': 91, 'et_max_depth': 4, 'et_criterion': 'gini'}. Best is trial 5 with value: 0.5552753713411498.\n",
      "[I 2024-04-13 00:46:19,032] Trial 17 finished with value: 0.5052993008122151 and parameters: {'pagerank_cutoff': 0.8728446750638548, 'despike': False, 'baseline_correct': False, 'smoothing': False, 'scaling': False, 'classifier': 'RandomForest', 'rf_n_estimators': 77, 'rf_max_depth': 12, 'rf_criterion': 'log_loss'}. Best is trial 5 with value: 0.5552753713411498.\n",
      "[I 2024-04-13 00:46:30,622] Trial 8 finished with value: 0.6103212772235636 and parameters: {'pagerank_cutoff': 1.1187559900757549, 'despike': False, 'baseline_correct': True, 'smoothing': False, 'scaling': True, 'lam': 1000000000, 'p': 0.033, 'scaling_type': 'vector', 'classifier': 'RandomForest', 'rf_n_estimators': 68, 'rf_max_depth': 21, 'rf_criterion': 'entropy'}. Best is trial 8 with value: 0.6103212772235636.\n",
      "[I 2024-04-13 00:46:35,681] Trial 7 finished with value: 0.4481428571428571 and parameters: {'pagerank_cutoff': 0.10825299194478549, 'despike': False, 'baseline_correct': False, 'smoothing': True, 'scaling': True, 'window_size': 207, 'poly_order': 3, 'scaling_type': 'normal', 'classifier': 'RandomForest', 'rf_n_estimators': 81, 'rf_max_depth': 7, 'rf_criterion': 'entropy'}. Best is trial 8 with value: 0.6103212772235636.\n",
      "[I 2024-04-13 00:46:36,062] Trial 0 finished with value: 0.4813015873015873 and parameters: {'pagerank_cutoff': 0.03330446590527891, 'despike': True, 'baseline_correct': False, 'smoothing': True, 'scaling': False, 'despike_ma': 97, 'despike_threshold': 9.0, 'window_size': 331, 'poly_order': 3, 'classifier': 'ExtraTrees', 'et_n_estimators': 17, 'et_max_depth': 3, 'et_criterion': 'entropy'}. Best is trial 8 with value: 0.6103212772235636.\n",
      "[I 2024-04-13 00:46:52,115] Trial 3 finished with value: 0.5126190476190475 and parameters: {'pagerank_cutoff': 0.11602329068125566, 'despike': False, 'baseline_correct': False, 'smoothing': True, 'scaling': True, 'window_size': 139, 'poly_order': 3, 'scaling_type': 'svn', 'classifier': 'RandomForest', 'rf_n_estimators': 76, 'rf_max_depth': 6, 'rf_criterion': 'entropy'}. Best is trial 8 with value: 0.6103212772235636.\n",
      "[I 2024-04-13 00:47:04,426] Trial 19 finished with value: 0.4479457332033025 and parameters: {'pagerank_cutoff': 0.2061391805931943, 'despike': True, 'baseline_correct': False, 'smoothing': False, 'scaling': False, 'despike_ma': 55, 'despike_threshold': 8.0, 'classifier': 'RandomForest', 'rf_n_estimators': 28, 'rf_max_depth': 3, 'rf_criterion': 'entropy'}. Best is trial 8 with value: 0.6103212772235636.\n",
      "[I 2024-04-13 00:47:07,167] Trial 15 finished with value: 0.3897735256361575 and parameters: {'pagerank_cutoff': 0.4115163487769657, 'despike': False, 'baseline_correct': False, 'smoothing': True, 'scaling': True, 'window_size': 138, 'poly_order': 4, 'scaling_type': 'vector', 'classifier': 'ExtraTrees', 'et_n_estimators': 65, 'et_max_depth': 4, 'et_criterion': 'entropy'}. Best is trial 8 with value: 0.6103212772235636.\n",
      "[I 2024-04-13 00:47:27,883] Trial 18 finished with value: 0.4711269841269841 and parameters: {'pagerank_cutoff': 0.052912879384622635, 'despike': True, 'baseline_correct': False, 'smoothing': True, 'scaling': False, 'despike_ma': 48, 'despike_threshold': 8.25, 'window_size': 54, 'poly_order': 5, 'classifier': 'RandomForest', 'rf_n_estimators': 13, 'rf_max_depth': 7, 'rf_criterion': 'log_loss'}. Best is trial 8 with value: 0.6103212772235636.\n",
      "[I 2024-04-13 00:47:36,479] Trial 16 finished with value: 0.448724456204644 and parameters: {'pagerank_cutoff': 1.0974661090936018, 'despike': True, 'baseline_correct': True, 'smoothing': True, 'scaling': False, 'despike_ma': 10, 'despike_threshold': 8.5, 'lam': 100000000, 'p': 0.079, 'window_size': 146, 'poly_order': 2, 'classifier': 'SVC', 'svc_c': 74587.08474100725, 'svc_kernel': 'poly', 'svc_gamma': 'auto'}. Best is trial 8 with value: 0.6103212772235636.\n",
      "[I 2024-04-13 00:47:36,629] Trial 20 finished with value: 0.5000579753982658 and parameters: {'pagerank_cutoff': 1.3748087161252225, 'despike': True, 'baseline_correct': True, 'smoothing': True, 'scaling': False, 'despike_ma': 26, 'despike_threshold': 9.0, 'lam': 10000000, 'p': 0.015, 'window_size': 46, 'poly_order': 1, 'classifier': 'RandomForest', 'rf_n_estimators': 58, 'rf_max_depth': 8, 'rf_criterion': 'gini'}. Best is trial 8 with value: 0.6103212772235636.\n",
      "[I 2024-04-13 00:48:05,329] Trial 6 finished with value: 0.5541111111111111 and parameters: {'pagerank_cutoff': 0.044787614568227885, 'despike': False, 'baseline_correct': True, 'smoothing': False, 'scaling': False, 'lam': 1000000, 'p': 0.064, 'classifier': 'RandomForest', 'rf_n_estimators': 61, 'rf_max_depth': 4, 'rf_criterion': 'entropy'}. Best is trial 8 with value: 0.6103212772235636.\n",
      "[I 2024-04-13 00:48:23,389] Trial 26 finished with value: 0.36449728197477765 and parameters: {'pagerank_cutoff': 1.090522503071325, 'despike': True, 'baseline_correct': True, 'smoothing': False, 'scaling': True, 'despike_ma': 8, 'despike_threshold': 5.75, 'lam': 1000000000, 'p': 0.011, 'scaling_type': 'vector', 'classifier': 'SVC', 'svc_c': 2865075355.0233693, 'svc_kernel': 'sigmoid', 'svc_gamma': 'scale'}. Best is trial 8 with value: 0.6103212772235636.\n",
      "[I 2024-04-13 00:48:40,881] Trial 21 finished with value: 0.6136778806498189 and parameters: {'pagerank_cutoff': 1.0182375176271812, 'despike': False, 'baseline_correct': True, 'smoothing': False, 'scaling': True, 'lam': 1000000000, 'p': 0.011, 'scaling_type': 'svn', 'classifier': 'RandomForest', 'rf_n_estimators': 92, 'rf_max_depth': 29, 'rf_criterion': 'entropy'}. Best is trial 21 with value: 0.6136778806498189.\n",
      "[I 2024-04-13 00:48:42,918] Trial 27 finished with value: 0.5125207068224096 and parameters: {'pagerank_cutoff': 1.1171244575595831, 'despike': True, 'baseline_correct': True, 'smoothing': False, 'scaling': True, 'despike_ma': 5, 'despike_threshold': 5.75, 'lam': 1000000000, 'p': 0.008, 'scaling_type': 'vector', 'classifier': 'SVC', 'svc_c': 3549350552.4055815, 'svc_kernel': 'rbf', 'svc_gamma': 'auto'}. Best is trial 21 with value: 0.6136778806498189.\n",
      "[I 2024-04-13 00:48:47,656] Trial 22 finished with value: 0.6052911453693057 and parameters: {'pagerank_cutoff': 0.9101975609653727, 'despike': True, 'baseline_correct': True, 'smoothing': False, 'scaling': True, 'despike_ma': 7, 'despike_threshold': 10.0, 'lam': 1000000000, 'p': 0.015, 'scaling_type': 'vector', 'classifier': 'ExtraTrees', 'et_n_estimators': 10, 'et_max_depth': 25, 'et_criterion': 'entropy'}. Best is trial 21 with value: 0.6136778806498189.\n",
      "[I 2024-04-13 00:48:48,217] Trial 23 finished with value: 0.6267951065254147 and parameters: {'pagerank_cutoff': 0.9370377629040538, 'despike': True, 'baseline_correct': True, 'smoothing': False, 'scaling': True, 'despike_ma': 10, 'despike_threshold': 6.25, 'lam': 1000000000, 'p': 0.010000000000000002, 'scaling_type': 'vector', 'classifier': 'ExtraTrees', 'et_n_estimators': 12, 'et_max_depth': 22, 'et_criterion': 'entropy'}. Best is trial 23 with value: 0.6267951065254147.\n",
      "[I 2024-04-13 00:48:52,665] Trial 25 finished with value: 0.6024600800976297 and parameters: {'pagerank_cutoff': 0.9511007247001595, 'despike': True, 'baseline_correct': True, 'smoothing': False, 'scaling': True, 'despike_ma': 25, 'despike_threshold': 6.0, 'lam': 1000000000, 'p': 0.011, 'scaling_type': 'vector', 'classifier': 'ExtraTrees', 'et_n_estimators': 11, 'et_max_depth': 20, 'et_criterion': 'entropy'}. Best is trial 23 with value: 0.6267951065254147.\n",
      "[I 2024-04-13 00:48:53,320] Trial 24 finished with value: 0.605185235440264 and parameters: {'pagerank_cutoff': 0.9399636550357515, 'despike': True, 'baseline_correct': True, 'smoothing': False, 'scaling': True, 'despike_ma': 18, 'despike_threshold': 10.0, 'lam': 1000000000, 'p': 0.007, 'scaling_type': 'vector', 'classifier': 'ExtraTrees', 'et_n_estimators': 12, 'et_max_depth': 21, 'et_criterion': 'entropy'}. Best is trial 23 with value: 0.6267951065254147.\n",
      "[I 2024-04-13 00:49:07,315] Trial 29 finished with value: 0.5475918996074579 and parameters: {'pagerank_cutoff': 0.649999867463436, 'despike': False, 'baseline_correct': True, 'smoothing': False, 'scaling': True, 'lam': 1000000000, 'p': 0.029, 'scaling_type': 'vector', 'classifier': 'ExtraTrees', 'et_n_estimators': 12, 'et_max_depth': 19, 'et_criterion': 'entropy'}. Best is trial 23 with value: 0.6267951065254147.\n",
      "[I 2024-04-13 00:49:20,554] Trial 28 finished with value: 0.5660383186497704 and parameters: {'pagerank_cutoff': 0.6998351411076471, 'despike': True, 'baseline_correct': True, 'smoothing': False, 'scaling': True, 'despike_ma': 69, 'despike_threshold': 6.0, 'lam': 1000000000, 'p': 0.014000000000000002, 'scaling_type': 'vector', 'classifier': 'ExtraTrees', 'et_n_estimators': 10, 'et_max_depth': 20, 'et_criterion': 'entropy'}. Best is trial 23 with value: 0.6267951065254147.\n",
      "[I 2024-04-13 00:49:27,734] Trial 36 finished with value: 0.449482505478587 and parameters: {'pagerank_cutoff': 1.258365509557538, 'despike': False, 'baseline_correct': True, 'smoothing': False, 'scaling': True, 'lam': 10000, 'p': 0.037000000000000005, 'scaling_type': 'svn', 'classifier': 'RandomForest', 'rf_n_estimators': 100, 'rf_max_depth': 32, 'rf_criterion': 'entropy'}. Best is trial 23 with value: 0.6267951065254147.\n",
      "[I 2024-04-13 00:49:32,597] Trial 37 finished with value: 0.40122139381710864 and parameters: {'pagerank_cutoff': 1.1767701487850935, 'despike': False, 'baseline_correct': True, 'smoothing': False, 'scaling': True, 'lam': 100, 'p': 0.030000000000000002, 'scaling_type': 'svn', 'classifier': 'RandomForest', 'rf_n_estimators': 98, 'rf_max_depth': 32, 'rf_criterion': 'entropy'}. Best is trial 23 with value: 0.6267951065254147.\n",
      "[I 2024-04-13 00:49:43,234] Trial 30 finished with value: 0.5966725522695552 and parameters: {'pagerank_cutoff': 0.6666412464925907, 'despike': True, 'baseline_correct': True, 'smoothing': False, 'scaling': True, 'despike_ma': 74, 'despike_threshold': 6.0, 'lam': 1000000000, 'p': 0.028, 'scaling_type': 'vector', 'classifier': 'ExtraTrees', 'et_n_estimators': 18, 'et_max_depth': 22, 'et_criterion': 'entropy'}. Best is trial 23 with value: 0.6267951065254147.\n",
      "[I 2024-04-13 00:49:44,373] Trial 33 finished with value: 0.5780940494462712 and parameters: {'pagerank_cutoff': 0.7543472836852154, 'despike': False, 'baseline_correct': True, 'smoothing': False, 'scaling': True, 'lam': 1000000000, 'p': 0.034, 'scaling_type': 'svn', 'classifier': 'ExtraTrees', 'et_n_estimators': 13, 'et_max_depth': 20, 'et_criterion': 'entropy'}. Best is trial 23 with value: 0.6267951065254147.\n",
      "[I 2024-04-13 00:49:45,134] Trial 38 finished with value: 0.489478315286353 and parameters: {'pagerank_cutoff': 1.2278493810029256, 'despike': False, 'baseline_correct': True, 'smoothing': False, 'scaling': True, 'lam': 10000, 'p': 0.032, 'scaling_type': 'svn', 'classifier': 'RandomForest', 'rf_n_estimators': 99, 'rf_max_depth': 31, 'rf_criterion': 'entropy'}. Best is trial 23 with value: 0.6267951065254147.\n",
      "[I 2024-04-13 00:49:48,052] Trial 32 finished with value: 0.5471785755130885 and parameters: {'pagerank_cutoff': 0.7047857931042585, 'despike': False, 'baseline_correct': True, 'smoothing': False, 'scaling': True, 'lam': 1000000000, 'p': 0.036000000000000004, 'scaling_type': 'svn', 'classifier': 'ExtraTrees', 'et_n_estimators': 13, 'et_max_depth': 21, 'et_criterion': 'entropy'}. Best is trial 23 with value: 0.6267951065254147.\n",
      "[I 2024-04-13 00:49:51,743] Trial 31 finished with value: 0.45798557509822146 and parameters: {'pagerank_cutoff': 0.6171146061384756, 'despike': True, 'baseline_correct': True, 'smoothing': False, 'scaling': True, 'despike_ma': 70, 'despike_threshold': 5.75, 'lam': 100000, 'p': 0.037000000000000005, 'scaling_type': 'vector', 'classifier': 'ExtraTrees', 'et_n_estimators': 10, 'et_max_depth': 21, 'et_criterion': 'entropy'}. Best is trial 23 with value: 0.6267951065254147.\n",
      "[I 2024-04-13 00:50:15,669] Trial 34 finished with value: 0.6377933692992552 and parameters: {'pagerank_cutoff': 0.9296617012178996, 'despike': False, 'baseline_correct': True, 'smoothing': False, 'scaling': True, 'lam': 1000000000, 'p': 0.039, 'scaling_type': 'svn', 'classifier': 'RandomForest', 'rf_n_estimators': 97, 'rf_max_depth': 30, 'rf_criterion': 'entropy'}. Best is trial 34 with value: 0.6377933692992552.\n",
      "[I 2024-04-13 00:50:15,842] Trial 35 finished with value: 0.48750348599842797 and parameters: {'pagerank_cutoff': 0.9327767050184301, 'despike': False, 'baseline_correct': True, 'smoothing': False, 'scaling': True, 'lam': 100000, 'p': 0.036000000000000004, 'scaling_type': 'svn', 'classifier': 'RandomForest', 'rf_n_estimators': 97, 'rf_max_depth': 29, 'rf_criterion': 'entropy'}. Best is trial 34 with value: 0.6377933692992552.\n",
      "[I 2024-04-13 00:50:16,681] Trial 39 finished with value: 0.4037956766424415 and parameters: {'pagerank_cutoff': 1.1940208122016038, 'despike': False, 'baseline_correct': True, 'smoothing': False, 'scaling': True, 'lam': 100, 'p': 0.035, 'scaling_type': 'svn', 'classifier': 'RandomForest', 'rf_n_estimators': 98, 'rf_max_depth': 32, 'rf_criterion': 'entropy'}. Best is trial 34 with value: 0.6377933692992552.\n",
      "[I 2024-04-13 00:50:59,101] Trial 1 finished with value: 0.48338950270060577 and parameters: {'pagerank_cutoff': 1.1687593864694894, 'despike': True, 'baseline_correct': False, 'smoothing': True, 'scaling': True, 'despike_ma': 25, 'despike_threshold': 5.75, 'window_size': 462, 'poly_order': 3, 'scaling_type': 'normal', 'classifier': 'SVC', 'svc_c': 54304945.36485582, 'svc_kernel': 'linear', 'svc_gamma': 'scale'}. Best is trial 34 with value: 0.6377933692992552.\n",
      "[I 2024-04-13 00:51:08,228] Trial 42 finished with value: 0.41086939423367425 and parameters: {'pagerank_cutoff': 0.8330772606976273, 'despike': False, 'baseline_correct': True, 'smoothing': False, 'scaling': True, 'lam': 100000, 'p': 0.044000000000000004, 'scaling_type': 'svn', 'classifier': 'ExtraTrees', 'et_n_estimators': 35, 'et_max_depth': 8, 'et_criterion': 'log_loss'}. Best is trial 34 with value: 0.6377933692992552.\n",
      "[I 2024-04-13 00:51:10,340] Trial 45 finished with value: 0.4952377811085135 and parameters: {'pagerank_cutoff': 1.0070664695465998, 'despike': True, 'baseline_correct': True, 'smoothing': False, 'scaling': True, 'despike_ma': 36, 'despike_threshold': 4.5, 'lam': 100000, 'p': 0.001, 'scaling_type': 'normal', 'classifier': 'ExtraTrees', 'et_n_estimators': 35, 'et_max_depth': 11, 'et_criterion': 'log_loss'}. Best is trial 34 with value: 0.6377933692992552.\n",
      "[I 2024-04-13 00:51:10,948] Trial 44 finished with value: 0.4932819242132765 and parameters: {'pagerank_cutoff': 0.9954246261289732, 'despike': True, 'baseline_correct': True, 'smoothing': False, 'scaling': True, 'despike_ma': 36, 'despike_threshold': 4.5, 'lam': 100000, 'p': 0.001, 'scaling_type': 'normal', 'classifier': 'ExtraTrees', 'et_n_estimators': 39, 'et_max_depth': 9, 'et_criterion': 'log_loss'}. Best is trial 34 with value: 0.6377933692992552.\n",
      "[I 2024-04-13 00:51:11,337] Trial 46 finished with value: 0.4995342544124603 and parameters: {'pagerank_cutoff': 0.9954860717120944, 'despike': True, 'baseline_correct': True, 'smoothing': False, 'scaling': True, 'despike_ma': 35, 'despike_threshold': 7.0, 'lam': 100000, 'p': 0.022000000000000002, 'scaling_type': 'normal', 'classifier': 'RandomForest', 'rf_n_estimators': 44, 'rf_max_depth': 18, 'rf_criterion': 'entropy'}. Best is trial 34 with value: 0.6377933692992552.\n",
      "[I 2024-04-13 00:51:12,033] Trial 41 finished with value: 0.4919788747591259 and parameters: {'pagerank_cutoff': 0.7984458895176391, 'despike': False, 'baseline_correct': True, 'smoothing': False, 'scaling': True, 'lam': 100000, 'p': 0.042, 'scaling_type': 'svn', 'classifier': 'RandomForest', 'rf_n_estimators': 48, 'rf_max_depth': 18, 'rf_criterion': 'entropy'}. Best is trial 34 with value: 0.6377933692992552.\n",
      "[I 2024-04-13 00:51:16,179] Trial 49 finished with value: 0.5038423575409382 and parameters: {'pagerank_cutoff': 1.0230342927397034, 'despike': False, 'baseline_correct': True, 'smoothing': False, 'scaling': True, 'lam': 10000000, 'p': 0.02, 'scaling_type': 'normal', 'classifier': 'RandomForest', 'rf_n_estimators': 83, 'rf_max_depth': 17, 'rf_criterion': 'entropy'}. Best is trial 34 with value: 0.6377933692992552.\n",
      "[I 2024-04-13 00:51:17,227] Trial 40 finished with value: 0.4951231867547657 and parameters: {'pagerank_cutoff': 0.8310807294400603, 'despike': False, 'baseline_correct': True, 'smoothing': False, 'scaling': True, 'lam': 100000, 'p': 0.033, 'scaling_type': 'svn', 'classifier': 'RandomForest', 'rf_n_estimators': 96, 'rf_max_depth': 28, 'rf_criterion': 'entropy'}. Best is trial 34 with value: 0.6377933692992552.\n",
      "[I 2024-04-13 00:51:17,972] Trial 47 finished with value: 0.3858378918016226 and parameters: {'pagerank_cutoff': 1.0028055580264135, 'despike': False, 'baseline_correct': True, 'smoothing': False, 'scaling': True, 'lam': 1000, 'p': 0.05, 'scaling_type': 'svn', 'classifier': 'RandomForest', 'rf_n_estimators': 88, 'rf_max_depth': 18, 'rf_criterion': 'entropy'}. Best is trial 34 with value: 0.6377933692992552.\n",
      "[I 2024-04-13 00:51:19,068] Trial 43 finished with value: 0.5002913616064328 and parameters: {'pagerank_cutoff': 0.8336840988946457, 'despike': False, 'baseline_correct': True, 'smoothing': False, 'scaling': True, 'lam': 100000, 'p': 0.001, 'scaling_type': 'normal', 'classifier': 'ExtraTrees', 'et_n_estimators': 37, 'et_max_depth': 10, 'et_criterion': 'log_loss'}. Best is trial 34 with value: 0.6377933692992552.\n",
      "[I 2024-04-13 00:51:23,979] Trial 48 finished with value: 0.494260667692407 and parameters: {'pagerank_cutoff': 0.8317838597580596, 'despike': False, 'baseline_correct': True, 'smoothing': False, 'scaling': True, 'lam': 10000000, 'p': 0.048, 'scaling_type': 'normal', 'classifier': 'RandomForest', 'rf_n_estimators': 86, 'rf_max_depth': 18, 'rf_criterion': 'entropy'}. Best is trial 34 with value: 0.6377933692992552.\n",
      "[I 2024-04-13 00:51:46,611] Trial 57 finished with value: 0.15790773914061584 and parameters: {'pagerank_cutoff': 1.3025926027933483, 'despike': False, 'baseline_correct': True, 'smoothing': False, 'scaling': True, 'lam': 1000000, 'p': 0.054, 'scaling_type': 'vector', 'classifier': 'SVC', 'svc_c': 1.1587581301798486e-10, 'svc_kernel': 'rbf', 'svc_gamma': 'scale'}. Best is trial 34 with value: 0.6377933692992552.\n",
      "[I 2024-04-13 00:51:50,919] Trial 59 finished with value: 0.20784457486247768 and parameters: {'pagerank_cutoff': 1.2828338069405967, 'despike': False, 'baseline_correct': True, 'smoothing': False, 'scaling': True, 'lam': 1000000, 'p': 0.059000000000000004, 'scaling_type': 'vector', 'classifier': 'SVC', 'svc_c': 1.4773920703311784e-09, 'svc_kernel': 'rbf', 'svc_gamma': 'auto'}. Best is trial 34 with value: 0.6377933692992552.\n",
      "[I 2024-04-13 00:51:50,986] Trial 58 finished with value: 0.12532661782661783 and parameters: {'pagerank_cutoff': 1.3001207585105408, 'despike': False, 'baseline_correct': True, 'smoothing': False, 'scaling': True, 'lam': 1000000, 'p': 0.022000000000000002, 'scaling_type': 'vector', 'classifier': 'SVC', 'svc_c': 7.715467052366521e-08, 'svc_kernel': 'rbf', 'svc_gamma': 'scale'}. Best is trial 34 with value: 0.6377933692992552.\n",
      "[I 2024-04-13 00:52:25,291] Trial 50 finished with value: 0.5296868262874082 and parameters: {'pagerank_cutoff': 1.010558898639978, 'despike': False, 'baseline_correct': True, 'smoothing': False, 'scaling': True, 'lam': 10000000, 'p': 0.047, 'scaling_type': 'svn', 'classifier': 'RandomForest', 'rf_n_estimators': 84, 'rf_max_depth': 18, 'rf_criterion': 'entropy'}. Best is trial 34 with value: 0.6377933692992552.\n",
      "[I 2024-04-13 00:52:35,958] Trial 51 finished with value: 0.500827313129386 and parameters: {'pagerank_cutoff': 1.0173547610467817, 'despike': False, 'baseline_correct': True, 'smoothing': False, 'scaling': True, 'lam': 10000000, 'p': 0.051000000000000004, 'scaling_type': 'normal', 'classifier': 'RandomForest', 'rf_n_estimators': 87, 'rf_max_depth': 16, 'rf_criterion': 'entropy'}. Best is trial 34 with value: 0.6377933692992552.\n",
      "[I 2024-04-13 00:52:48,917] Trial 55 finished with value: 0.6215661962541948 and parameters: {'pagerank_cutoff': 1.0540390532948285, 'despike': False, 'baseline_correct': True, 'smoothing': False, 'scaling': True, 'lam': 1000000000, 'p': 0.02, 'scaling_type': 'vector', 'classifier': 'RandomForest', 'rf_n_estimators': 85, 'rf_max_depth': 19, 'rf_criterion': 'log_loss'}. Best is trial 34 with value: 0.6377933692992552.\n",
      "[I 2024-04-13 00:53:22,651] Trial 66 finished with value: 0.4285337871270346 and parameters: {'pagerank_cutoff': 1.1235890623413705, 'despike': True, 'baseline_correct': False, 'smoothing': True, 'scaling': False, 'despike_ma': 15, 'despike_threshold': 10.0, 'window_size': 462, 'poly_order': 5, 'classifier': 'RandomForest', 'rf_n_estimators': 71, 'rf_max_depth': 23, 'rf_criterion': 'log_loss'}. Best is trial 34 with value: 0.6377933692992552.\n",
      "[I 2024-04-13 00:53:22,700] Trial 56 finished with value: 0.6162763441994242 and parameters: {'pagerank_cutoff': 0.8783990549035382, 'despike': False, 'baseline_correct': True, 'smoothing': False, 'scaling': True, 'lam': 1000000000, 'p': 0.055, 'scaling_type': 'vector', 'classifier': 'RandomForest', 'rf_n_estimators': 87, 'rf_max_depth': 21, 'rf_criterion': 'log_loss'}. Best is trial 34 with value: 0.6377933692992552.\n",
      "[I 2024-04-13 00:53:24,908] Trial 65 finished with value: 0.5658653397093223 and parameters: {'pagerank_cutoff': 0.9028131075934295, 'despike': True, 'baseline_correct': False, 'smoothing': True, 'scaling': True, 'despike_ma': 17, 'despike_threshold': 10.0, 'window_size': 491, 'poly_order': 5, 'scaling_type': 'vector', 'classifier': 'ExtraTrees', 'et_n_estimators': 27, 'et_max_depth': 30, 'et_criterion': 'gini'}. Best is trial 34 with value: 0.6377933692992552.\n",
      "[I 2024-04-13 00:53:27,605] Trial 54 finished with value: 0.6001360717977069 and parameters: {'pagerank_cutoff': 0.833121067623635, 'despike': False, 'baseline_correct': True, 'smoothing': False, 'scaling': True, 'lam': 1000000000, 'p': 0.02, 'scaling_type': 'vector', 'classifier': 'RandomForest', 'rf_n_estimators': 84, 'rf_max_depth': 18, 'rf_criterion': 'log_loss'}. Best is trial 34 with value: 0.6377933692992552.\n",
      "[I 2024-04-13 00:53:28,427] Trial 52 finished with value: 0.6190165673444241 and parameters: {'pagerank_cutoff': 0.8119884958767992, 'despike': False, 'baseline_correct': True, 'smoothing': False, 'scaling': True, 'lam': 1000000000, 'p': 0.021, 'scaling_type': 'vector', 'classifier': 'RandomForest', 'rf_n_estimators': 85, 'rf_max_depth': 18, 'rf_criterion': 'entropy'}. Best is trial 34 with value: 0.6377933692992552.\n",
      "[I 2024-04-13 00:53:29,382] Trial 53 finished with value: 0.6334238053077311 and parameters: {'pagerank_cutoff': 0.8022651553316338, 'despike': False, 'baseline_correct': True, 'smoothing': False, 'scaling': True, 'lam': 1000000000, 'p': 0.021, 'scaling_type': 'vector', 'classifier': 'RandomForest', 'rf_n_estimators': 86, 'rf_max_depth': 18, 'rf_criterion': 'entropy'}. Best is trial 34 with value: 0.6377933692992552.\n",
      "[I 2024-04-13 00:53:44,216] Trial 61 finished with value: 0.4978558576028139 and parameters: {'pagerank_cutoff': 1.0712163836118382, 'despike': True, 'baseline_correct': True, 'smoothing': True, 'scaling': True, 'despike_ma': 15, 'despike_threshold': 7.0, 'lam': 1000000000, 'p': 0.021, 'window_size': 483, 'poly_order': 5, 'scaling_type': 'vector', 'classifier': 'RandomForest', 'rf_n_estimators': 69, 'rf_max_depth': 22, 'rf_criterion': 'log_loss'}. Best is trial 34 with value: 0.6377933692992552.\n",
      "[I 2024-04-13 00:53:53,820] Trial 60 finished with value: 0.224058935144087 and parameters: {'pagerank_cutoff': 0.5332814188216795, 'despike': True, 'baseline_correct': True, 'smoothing': False, 'scaling': True, 'despike_ma': 15, 'despike_threshold': 7.0, 'lam': 1000000000, 'p': 0.061, 'scaling_type': 'vector', 'classifier': 'SVC', 'svc_c': 1.0043869917315218e-09, 'svc_kernel': 'sigmoid', 'svc_gamma': 'scale'}. Best is trial 34 with value: 0.6377933692992552.\n",
      "[I 2024-04-13 00:53:55,921] Trial 62 finished with value: 0.6099395801272958 and parameters: {'pagerank_cutoff': 0.8970485218672095, 'despike': True, 'baseline_correct': True, 'smoothing': False, 'scaling': True, 'despike_ma': 16, 'despike_threshold': 10.0, 'lam': 1000000000, 'p': 0.019000000000000003, 'scaling_type': 'vector', 'classifier': 'ExtraTrees', 'et_n_estimators': 27, 'et_max_depth': 32, 'et_criterion': 'gini'}. Best is trial 34 with value: 0.6377933692992552.\n",
      "[I 2024-04-13 00:53:57,157] Trial 68 finished with value: 0.5100645704487261 and parameters: {'pagerank_cutoff': 1.0782274133042635, 'despike': False, 'baseline_correct': False, 'smoothing': True, 'scaling': True, 'window_size': 334, 'poly_order': 4, 'scaling_type': 'vector', 'classifier': 'RandomForest', 'rf_n_estimators': 91, 'rf_max_depth': 24, 'rf_criterion': 'log_loss'}. Best is trial 34 with value: 0.6377933692992552.\n",
      "[I 2024-04-13 00:54:46,120] Trial 63 finished with value: 0.61465636580396 and parameters: {'pagerank_cutoff': 0.5054732440426246, 'despike': True, 'baseline_correct': True, 'smoothing': False, 'scaling': True, 'despike_ma': 17, 'despike_threshold': 10.0, 'lam': 1000000000, 'p': 0.007, 'scaling_type': 'vector', 'classifier': 'ExtraTrees', 'et_n_estimators': 26, 'et_max_depth': 30, 'et_criterion': 'gini'}. Best is trial 34 with value: 0.6377933692992552.\n",
      "[I 2024-04-13 00:55:04,710] Trial 71 finished with value: 0.6191230830449179 and parameters: {'pagerank_cutoff': 0.7592491960113021, 'despike': False, 'baseline_correct': True, 'smoothing': False, 'scaling': False, 'lam': 1000000000, 'p': 0.07200000000000001, 'classifier': 'RandomForest', 'rf_n_estimators': 91, 'rf_max_depth': 13, 'rf_criterion': 'log_loss'}. Best is trial 34 with value: 0.6377933692992552.\n",
      "[I 2024-04-13 00:55:07,192] Trial 64 finished with value: 0.5324292701043534 and parameters: {'pagerank_cutoff': 0.5386132275737134, 'despike': True, 'baseline_correct': True, 'smoothing': True, 'scaling': True, 'despike_ma': 17, 'despike_threshold': 10.0, 'lam': 1000000000, 'p': 0.018000000000000002, 'window_size': 495, 'poly_order': 5, 'scaling_type': 'vector', 'classifier': 'ExtraTrees', 'et_n_estimators': 26, 'et_max_depth': 32, 'et_criterion': 'gini'}. Best is trial 34 with value: 0.6377933692992552.\n",
      "[I 2024-04-13 00:55:09,316] Trial 69 finished with value: 0.6133618356724002 and parameters: {'pagerank_cutoff': 0.49400767064549, 'despike': False, 'baseline_correct': True, 'smoothing': False, 'scaling': False, 'lam': 1000000000, 'p': 0.083, 'classifier': 'RandomForest', 'rf_n_estimators': 91, 'rf_max_depth': 23, 'rf_criterion': 'log_loss'}. Best is trial 34 with value: 0.6377933692992552.\n",
      "[I 2024-04-13 00:55:10,197] Trial 72 finished with value: 0.6049760053977634 and parameters: {'pagerank_cutoff': 0.7714325079285619, 'despike': False, 'baseline_correct': True, 'smoothing': False, 'scaling': True, 'lam': 1000000000, 'p': 0.075, 'scaling_type': 'vector', 'classifier': 'RandomForest', 'rf_n_estimators': 92, 'rf_max_depth': 12, 'rf_criterion': 'log_loss'}. Best is trial 34 with value: 0.6377933692992552.\n",
      "[I 2024-04-13 00:55:10,660] Trial 70 finished with value: 0.5968543940530715 and parameters: {'pagerank_cutoff': 0.5352476028826478, 'despike': False, 'baseline_correct': True, 'smoothing': False, 'scaling': False, 'lam': 100000000, 'p': 0.058, 'classifier': 'RandomForest', 'rf_n_estimators': 91, 'rf_max_depth': 23, 'rf_criterion': 'log_loss'}. Best is trial 34 with value: 0.6377933692992552.\n",
      "[I 2024-04-13 00:55:13,084] Trial 67 finished with value: 0.629174866680195 and parameters: {'pagerank_cutoff': 0.8968373257273216, 'despike': True, 'baseline_correct': True, 'smoothing': False, 'scaling': True, 'despike_ma': 17, 'despike_threshold': 7.0, 'lam': 1000000000, 'p': 0.018000000000000002, 'scaling_type': 'vector', 'classifier': 'RandomForest', 'rf_n_estimators': 91, 'rf_max_depth': 11, 'rf_criterion': 'log_loss'}. Best is trial 34 with value: 0.6377933692992552.\n",
      "[I 2024-04-13 00:55:14,167] Trial 76 finished with value: 0.6017538597856316 and parameters: {'pagerank_cutoff': 0.7688807166585894, 'despike': False, 'baseline_correct': True, 'smoothing': False, 'scaling': False, 'lam': 100000000, 'p': 0.082, 'classifier': 'RandomForest', 'rf_n_estimators': 76, 'rf_max_depth': 12, 'rf_criterion': 'log_loss'}. Best is trial 34 with value: 0.6377933692992552.\n",
      "[I 2024-04-13 00:55:17,254] Trial 75 finished with value: 0.5992407446168075 and parameters: {'pagerank_cutoff': 0.7652798088686, 'despike': False, 'baseline_correct': True, 'smoothing': False, 'scaling': False, 'lam': 100000000, 'p': 0.069, 'classifier': 'RandomForest', 'rf_n_estimators': 91, 'rf_max_depth': 13, 'rf_criterion': 'log_loss'}. Best is trial 34 with value: 0.6377933692992552.\n",
      "[I 2024-04-13 00:55:18,379] Trial 73 finished with value: 0.6122477740902721 and parameters: {'pagerank_cutoff': 0.7733403157566947, 'despike': False, 'baseline_correct': True, 'smoothing': False, 'scaling': True, 'lam': 1000000000, 'p': 0.025, 'scaling_type': 'vector', 'classifier': 'RandomForest', 'rf_n_estimators': 91, 'rf_max_depth': 12, 'rf_criterion': 'log_loss'}. Best is trial 34 with value: 0.6377933692992552.\n",
      "[I 2024-04-13 00:55:18,868] Trial 74 finished with value: 0.5680386676337355 and parameters: {'pagerank_cutoff': 0.7669428685156543, 'despike': False, 'baseline_correct': True, 'smoothing': False, 'scaling': True, 'lam': 100000000, 'p': 0.068, 'scaling_type': 'vector', 'classifier': 'RandomForest', 'rf_n_estimators': 90, 'rf_max_depth': 12, 'rf_criterion': 'log_loss'}. Best is trial 34 with value: 0.6377933692992552.\n",
      "[I 2024-04-13 00:56:00,727] Trial 77 finished with value: 0.5824957338354457 and parameters: {'pagerank_cutoff': 0.4723911387211119, 'despike': False, 'baseline_correct': True, 'smoothing': False, 'scaling': False, 'lam': 100000000, 'p': 0.084, 'classifier': 'RandomForest', 'rf_n_estimators': 74, 'rf_max_depth': 12, 'rf_criterion': 'log_loss'}. Best is trial 34 with value: 0.6377933692992552.\n",
      "[I 2024-04-13 00:56:17,083] Trial 79 finished with value: 0.5833221512101502 and parameters: {'pagerank_cutoff': 0.7550547746127867, 'despike': False, 'baseline_correct': True, 'smoothing': False, 'scaling': False, 'lam': 100000000, 'p': 0.084, 'classifier': 'RandomForest', 'rf_n_estimators': 75, 'rf_max_depth': 13, 'rf_criterion': 'log_loss'}. Best is trial 34 with value: 0.6377933692992552.\n",
      "[I 2024-04-13 00:56:18,774] Trial 78 finished with value: 0.6031206920687247 and parameters: {'pagerank_cutoff': 0.5813764215698817, 'despike': False, 'baseline_correct': True, 'smoothing': False, 'scaling': False, 'lam': 100000000, 'p': 0.077, 'classifier': 'RandomForest', 'rf_n_estimators': 77, 'rf_max_depth': 13, 'rf_criterion': 'log_loss'}. Best is trial 34 with value: 0.6377933692992552.\n",
      "[I 2024-04-13 00:56:22,730] Trial 80 finished with value: 0.5717358427974866 and parameters: {'pagerank_cutoff': 0.7245237312996227, 'despike': False, 'baseline_correct': True, 'smoothing': False, 'scaling': False, 'lam': 1000000000, 'p': 0.076, 'classifier': 'RandomForest', 'rf_n_estimators': 75, 'rf_max_depth': 12, 'rf_criterion': 'log_loss'}. Best is trial 34 with value: 0.6377933692992552.\n",
      "[I 2024-04-13 00:56:26,476] Trial 87 finished with value: 0.6121816474817295 and parameters: {'pagerank_cutoff': 0.9538649329678226, 'despike': False, 'baseline_correct': True, 'smoothing': False, 'scaling': False, 'lam': 1000000000, 'p': 0.014000000000000002, 'classifier': 'RandomForest', 'rf_n_estimators': 79, 'rf_max_depth': 9, 'rf_criterion': 'gini'}. Best is trial 34 with value: 0.6377933692992552.\n",
      "[I 2024-04-13 00:56:29,311] Trial 85 finished with value: 0.6489185991225522 and parameters: {'pagerank_cutoff': 0.9541501292497027, 'despike': False, 'baseline_correct': True, 'smoothing': False, 'scaling': False, 'lam': 1000000000, 'p': 0.012, 'classifier': 'RandomForest', 'rf_n_estimators': 77, 'rf_max_depth': 9, 'rf_criterion': 'log_loss'}. Best is trial 85 with value: 0.6489185991225522.\n",
      "[I 2024-04-13 00:56:30,051] Trial 84 finished with value: 0.6375651874966943 and parameters: {'pagerank_cutoff': 0.7117186154508377, 'despike': False, 'baseline_correct': True, 'smoothing': False, 'scaling': False, 'lam': 1000000000, 'p': 0.07300000000000001, 'classifier': 'RandomForest', 'rf_n_estimators': 78, 'rf_max_depth': 9, 'rf_criterion': 'log_loss'}. Best is trial 85 with value: 0.6489185991225522.\n",
      "[I 2024-04-13 00:56:31,410] Trial 81 finished with value: 0.5885730910807663 and parameters: {'pagerank_cutoff': 0.7358265637742172, 'despike': False, 'baseline_correct': True, 'smoothing': False, 'scaling': False, 'lam': 100000000, 'p': 0.027000000000000003, 'classifier': 'RandomForest', 'rf_n_estimators': 77, 'rf_max_depth': 13, 'rf_criterion': 'log_loss'}. Best is trial 85 with value: 0.6489185991225522.\n",
      "[I 2024-04-13 00:56:37,133] Trial 83 finished with value: 0.6052324333040563 and parameters: {'pagerank_cutoff': 0.7340686950564741, 'despike': False, 'baseline_correct': True, 'smoothing': False, 'scaling': False, 'lam': 1000000000, 'p': 0.025, 'classifier': 'RandomForest', 'rf_n_estimators': 77, 'rf_max_depth': 12, 'rf_criterion': 'log_loss'}. Best is trial 85 with value: 0.6489185991225522.\n",
      "[I 2024-04-13 00:56:41,837] Trial 90 finished with value: 0.5621321346211297 and parameters: {'pagerank_cutoff': 0.9513982980820116, 'despike': False, 'baseline_correct': False, 'smoothing': False, 'scaling': True, 'scaling_type': 'vector', 'classifier': 'RandomForest', 'rf_n_estimators': 83, 'rf_max_depth': 10, 'rf_criterion': 'gini'}. Best is trial 85 with value: 0.6489185991225522.\n",
      "[I 2024-04-13 00:56:47,392] Trial 91 finished with value: 0.5324087214618264 and parameters: {'pagerank_cutoff': 0.9566550890549461, 'despike': False, 'baseline_correct': False, 'smoothing': False, 'scaling': True, 'scaling_type': 'vector', 'classifier': 'RandomForest', 'rf_n_estimators': 81, 'rf_max_depth': 10, 'rf_criterion': 'gini'}. Best is trial 85 with value: 0.6489185991225522.\n",
      "[I 2024-04-13 00:56:50,137] Trial 86 finished with value: 0.6182850856652227 and parameters: {'pagerank_cutoff': 0.72808827520114, 'despike': False, 'baseline_correct': True, 'smoothing': False, 'scaling': False, 'lam': 1000000000, 'p': 0.013000000000000001, 'classifier': 'RandomForest', 'rf_n_estimators': 79, 'rf_max_depth': 9, 'rf_criterion': 'log_loss'}. Best is trial 85 with value: 0.6489185991225522.\n",
      "[I 2024-04-13 00:56:51,251] Trial 82 finished with value: 0.6322692097396209 and parameters: {'pagerank_cutoff': 0.29301735071132595, 'despike': False, 'baseline_correct': True, 'smoothing': False, 'scaling': False, 'lam': 1000000000, 'p': 0.026000000000000002, 'classifier': 'RandomForest', 'rf_n_estimators': 76, 'rf_max_depth': 13, 'rf_criterion': 'log_loss'}. Best is trial 85 with value: 0.6489185991225522.\n",
      "[I 2024-04-13 00:56:52,571] Trial 96 finished with value: 0.4897868977455183 and parameters: {'pagerank_cutoff': 0.9546101301492351, 'despike': False, 'baseline_correct': False, 'smoothing': False, 'scaling': False, 'classifier': 'RandomForest', 'rf_n_estimators': 81, 'rf_max_depth': 9, 'rf_criterion': 'gini'}. Best is trial 85 with value: 0.6489185991225522.\n",
      "[I 2024-04-13 00:58:00,245] Trial 88 finished with value: 0.6116320131050774 and parameters: {'pagerank_cutoff': 0.7069742329242455, 'despike': False, 'baseline_correct': True, 'smoothing': False, 'scaling': False, 'lam': 1000000000, 'p': 0.014000000000000002, 'classifier': 'RandomForest', 'rf_n_estimators': 80, 'rf_max_depth': 9, 'rf_criterion': 'gini'}. Best is trial 85 with value: 0.6489185991225522.\n",
      "[I 2024-04-13 00:58:00,961] Trial 89 finished with value: 0.6460656573942094 and parameters: {'pagerank_cutoff': 0.9503967444142805, 'despike': False, 'baseline_correct': True, 'smoothing': False, 'scaling': False, 'lam': 1000000000, 'p': 0.014000000000000002, 'classifier': 'RandomForest', 'rf_n_estimators': 79, 'rf_max_depth': 10, 'rf_criterion': 'gini'}. Best is trial 85 with value: 0.6489185991225522.\n",
      "[I 2024-04-13 00:58:14,220] Trial 94 finished with value: 0.6295274336859894 and parameters: {'pagerank_cutoff': 0.9514708395572749, 'despike': False, 'baseline_correct': True, 'smoothing': False, 'scaling': False, 'lam': 1000000000, 'p': 0.009000000000000001, 'classifier': 'RandomForest', 'rf_n_estimators': 64, 'rf_max_depth': 10, 'rf_criterion': 'gini'}. Best is trial 85 with value: 0.6489185991225522.\n",
      "[I 2024-04-13 00:58:22,672] Trial 93 finished with value: 0.6306190989563857 and parameters: {'pagerank_cutoff': 0.8739599875211121, 'despike': False, 'baseline_correct': True, 'smoothing': False, 'scaling': False, 'lam': 1000000000, 'p': 0.009000000000000001, 'classifier': 'RandomForest', 'rf_n_estimators': 81, 'rf_max_depth': 9, 'rf_criterion': 'gini'}. Best is trial 85 with value: 0.6489185991225522.\n",
      "[I 2024-04-13 00:58:24,870] Trial 95 finished with value: 0.48041051461239925 and parameters: {'pagerank_cutoff': 0.6402611724227245, 'despike': False, 'baseline_correct': True, 'smoothing': False, 'scaling': False, 'lam': 1000, 'p': 0.010000000000000002, 'classifier': 'RandomForest', 'rf_n_estimators': 63, 'rf_max_depth': 5, 'rf_criterion': 'gini'}. Best is trial 85 with value: 0.6489185991225522.\n",
      "[I 2024-04-13 00:58:32,081] Trial 97 finished with value: 0.49958535243818636 and parameters: {'pagerank_cutoff': 0.6429214226253149, 'despike': False, 'baseline_correct': True, 'smoothing': False, 'scaling': False, 'lam': 1000, 'p': 0.011, 'classifier': 'RandomForest', 'rf_n_estimators': 65, 'rf_max_depth': 10, 'rf_criterion': 'gini'}. Best is trial 85 with value: 0.6489185991225522.\n",
      "[I 2024-04-13 00:58:49,506] Trial 98 finished with value: 0.4372263568068561 and parameters: {'pagerank_cutoff': 0.6792584496440732, 'despike': False, 'baseline_correct': True, 'smoothing': False, 'scaling': False, 'lam': 1000, 'p': 0.010000000000000002, 'classifier': 'RandomForest', 'rf_n_estimators': 95, 'rf_max_depth': 6, 'rf_criterion': 'log_loss'}. Best is trial 85 with value: 0.6489185991225522.\n",
      "[I 2024-04-13 00:59:09,706] Trial 99 finished with value: 0.5055436303651253 and parameters: {'pagerank_cutoff': 0.6386720645698891, 'despike': False, 'baseline_correct': True, 'smoothing': False, 'scaling': False, 'lam': 1000, 'p': 0.010000000000000002, 'classifier': 'RandomForest', 'rf_n_estimators': 95, 'rf_max_depth': 15, 'rf_criterion': 'entropy'}. Best is trial 85 with value: 0.6489185991225522.\n",
      "[I 2024-04-13 00:59:53,934] Trial 101 finished with value: 0.46854497455897004 and parameters: {'pagerank_cutoff': 0.4110373568783831, 'despike': True, 'baseline_correct': True, 'smoothing': False, 'scaling': False, 'despike_ma': 92, 'despike_threshold': 4.75, 'lam': 1000, 'p': 0.010000000000000002, 'classifier': 'RandomForest', 'rf_n_estimators': 61, 'rf_max_depth': 6, 'rf_criterion': 'log_loss'}. Best is trial 85 with value: 0.6489185991225522.\n",
      "[I 2024-04-13 00:59:58,337] Trial 100 finished with value: 0.41969512871667425 and parameters: {'pagerank_cutoff': 0.2542006108603445, 'despike': True, 'baseline_correct': True, 'smoothing': False, 'scaling': False, 'despike_ma': 89, 'despike_threshold': 5.0, 'lam': 1000, 'p': 0.094, 'classifier': 'RandomForest', 'rf_n_estimators': 95, 'rf_max_depth': 15, 'rf_criterion': 'log_loss'}. Best is trial 85 with value: 0.6489185991225522.\n",
      "[I 2024-04-13 01:00:05,766] Trial 92 finished with value: 0.6118265222057172 and parameters: {'pagerank_cutoff': 0.2911479521144539, 'despike': True, 'baseline_correct': True, 'smoothing': False, 'scaling': True, 'despike_ma': 43, 'despike_threshold': 5.0, 'lam': 1000000000, 'p': 0.006, 'scaling_type': 'vector', 'classifier': 'RandomForest', 'rf_n_estimators': 80, 'rf_max_depth': 15, 'rf_criterion': 'gini'}. Best is trial 85 with value: 0.6489185991225522.\n",
      "[I 2024-04-13 01:00:27,616] Trial 102 finished with value: 0.4237378018004055 and parameters: {'pagerank_cutoff': 0.37007898217214974, 'despike': False, 'baseline_correct': True, 'smoothing': False, 'scaling': False, 'lam': 1000, 'p': 0.010000000000000002, 'classifier': 'RandomForest', 'rf_n_estimators': 95, 'rf_max_depth': 5, 'rf_criterion': 'log_loss'}. Best is trial 85 with value: 0.6489185991225522.\n",
      "[I 2024-04-13 01:00:42,520] Trial 104 finished with value: 0.46098459190611185 and parameters: {'pagerank_cutoff': 0.345000932794224, 'despike': False, 'baseline_correct': True, 'smoothing': False, 'scaling': False, 'lam': 1000, 'p': 0.008, 'classifier': 'RandomForest', 'rf_n_estimators': 72, 'rf_max_depth': 6, 'rf_criterion': 'gini'}. Best is trial 85 with value: 0.6489185991225522.\n",
      "[I 2024-04-13 01:00:52,341] Trial 103 finished with value: 0.5336666666666667 and parameters: {'pagerank_cutoff': 0.006995026291500561, 'despike': False, 'baseline_correct': True, 'smoothing': False, 'scaling': False, 'lam': 10000, 'p': 0.008, 'classifier': 'RandomForest', 'rf_n_estimators': 94, 'rf_max_depth': 6, 'rf_criterion': 'log_loss'}. Best is trial 85 with value: 0.6489185991225522.\n",
      "[I 2024-04-13 01:00:54,071] Trial 112 finished with value: 0.49884293941656344 and parameters: {'pagerank_cutoff': 1.046175353419259, 'despike': False, 'baseline_correct': True, 'smoothing': False, 'scaling': False, 'lam': 10000, 'p': 0.006, 'classifier': 'RandomForest', 'rf_n_estimators': 55, 'rf_max_depth': 10, 'rf_criterion': 'gini'}. Best is trial 85 with value: 0.6489185991225522.\n",
      "[I 2024-04-13 01:00:56,120] Trial 105 finished with value: 0.45421210617573166 and parameters: {'pagerank_cutoff': 0.25041000377780226, 'despike': False, 'baseline_correct': True, 'smoothing': False, 'scaling': False, 'lam': 1000, 'p': 0.006, 'classifier': 'RandomForest', 'rf_n_estimators': 63, 'rf_max_depth': 6, 'rf_criterion': 'gini'}. Best is trial 85 with value: 0.6489185991225522.\n",
      "[I 2024-04-13 01:01:13,829] Trial 111 finished with value: 0.5260891929311158 and parameters: {'pagerank_cutoff': 0.8687743312610725, 'despike': False, 'baseline_correct': True, 'smoothing': False, 'scaling': False, 'lam': 10000, 'p': 0.006, 'classifier': 'RandomForest', 'rf_n_estimators': 56, 'rf_max_depth': 7, 'rf_criterion': 'gini'}. Best is trial 85 with value: 0.6489185991225522.\n",
      "[I 2024-04-13 01:01:17,407] Trial 113 finished with value: 0.39982911424474693 and parameters: {'pagerank_cutoff': 1.0483904543699605, 'despike': False, 'baseline_correct': True, 'smoothing': False, 'scaling': False, 'lam': 100, 'p': 0.017, 'classifier': 'RandomForest', 'rf_n_estimators': 71, 'rf_max_depth': 7, 'rf_criterion': 'gini'}. Best is trial 85 with value: 0.6489185991225522.\n",
      "[I 2024-04-13 01:01:20,228] Trial 106 finished with value: 0.4496540802462995 and parameters: {'pagerank_cutoff': 0.22937570891685427, 'despike': True, 'baseline_correct': True, 'smoothing': False, 'scaling': False, 'despike_ma': 44, 'despike_threshold': 5.0, 'lam': 100, 'p': 0.005, 'classifier': 'RandomForest', 'rf_n_estimators': 56, 'rf_max_depth': 6, 'rf_criterion': 'gini'}. Best is trial 85 with value: 0.6489185991225522.\n",
      "[I 2024-04-13 01:01:26,718] Trial 110 finished with value: 0.48230582900068963 and parameters: {'pagerank_cutoff': 0.8637881509319608, 'despike': True, 'baseline_correct': True, 'smoothing': False, 'scaling': False, 'despike_ma': 44, 'despike_threshold': 5.0, 'lam': 10000, 'p': 0.005, 'classifier': 'RandomForest', 'rf_n_estimators': 71, 'rf_max_depth': 8, 'rf_criterion': 'gini'}. Best is trial 85 with value: 0.6489185991225522.\n",
      "[I 2024-04-13 01:01:40,017] Trial 108 finished with value: 0.4746888748296162 and parameters: {'pagerank_cutoff': 0.22047722834073757, 'despike': True, 'baseline_correct': True, 'smoothing': False, 'scaling': False, 'despike_ma': 92, 'despike_threshold': 5.25, 'lam': 100, 'p': 0.006, 'classifier': 'RandomForest', 'rf_n_estimators': 54, 'rf_max_depth': 7, 'rf_criterion': 'gini'}. Best is trial 85 with value: 0.6489185991225522.\n",
      "[I 2024-04-13 01:01:41,957] Trial 109 finished with value: 0.5452697329733158 and parameters: {'pagerank_cutoff': 0.33910570292498254, 'despike': True, 'baseline_correct': True, 'smoothing': False, 'scaling': False, 'despike_ma': 42, 'despike_threshold': 5.25, 'lam': 10000, 'p': 0.005, 'classifier': 'RandomForest', 'rf_n_estimators': 56, 'rf_max_depth': 7, 'rf_criterion': 'gini'}. Best is trial 85 with value: 0.6489185991225522.\n",
      "[I 2024-04-13 01:01:42,786] Trial 107 finished with value: 0.546890181309214 and parameters: {'pagerank_cutoff': 0.1858689428654311, 'despike': True, 'baseline_correct': True, 'smoothing': False, 'scaling': False, 'despike_ma': 87, 'despike_threshold': 5.0, 'lam': 10000, 'p': 0.004, 'classifier': 'RandomForest', 'rf_n_estimators': 57, 'rf_max_depth': 6, 'rf_criterion': 'gini'}. Best is trial 85 with value: 0.6489185991225522.\n",
      "[I 2024-04-13 01:01:46,712] Trial 115 finished with value: 0.6233560470166879 and parameters: {'pagerank_cutoff': 1.0542368389855763, 'despike': False, 'baseline_correct': True, 'smoothing': False, 'scaling': False, 'lam': 1000000000, 'p': 0.016, 'classifier': 'RandomForest', 'rf_n_estimators': 54, 'rf_max_depth': 8, 'rf_criterion': 'gini'}. Best is trial 85 with value: 0.6489185991225522.\n",
      "[I 2024-04-13 01:01:52,501] Trial 114 finished with value: 0.5228241333865078 and parameters: {'pagerank_cutoff': 0.872063657766773, 'despike': False, 'baseline_correct': True, 'smoothing': False, 'scaling': False, 'lam': 10000, 'p': 0.017, 'classifier': 'RandomForest', 'rf_n_estimators': 56, 'rf_max_depth': 7, 'rf_criterion': 'gini'}. Best is trial 85 with value: 0.6489185991225522.\n",
      "[I 2024-04-13 01:01:56,498] Trial 118 finished with value: 0.4032165682694343 and parameters: {'pagerank_cutoff': 1.1425451673470175, 'despike': False, 'baseline_correct': True, 'smoothing': False, 'scaling': False, 'lam': 100, 'p': 0.018000000000000002, 'classifier': 'RandomForest', 'rf_n_estimators': 70, 'rf_max_depth': 8, 'rf_criterion': 'entropy'}. Best is trial 85 with value: 0.6489185991225522.\n",
      "[I 2024-04-13 01:02:24,976] Trial 122 finished with value: 0.2047276671154549 and parameters: {'pagerank_cutoff': 0.9273499562625677, 'despike': False, 'baseline_correct': True, 'smoothing': False, 'scaling': False, 'lam': 1000000000, 'p': 0.016, 'classifier': 'SVC', 'svc_c': 78.13988729869773, 'svc_kernel': 'sigmoid', 'svc_gamma': 'auto'}. Best is trial 85 with value: 0.6489185991225522.\n",
      "[I 2024-04-13 01:02:26,752] Trial 119 finished with value: 0.25492559253743713 and parameters: {'pagerank_cutoff': 0.8605184794728294, 'despike': True, 'baseline_correct': True, 'smoothing': False, 'scaling': False, 'despike_ma': 26, 'despike_threshold': 6.5, 'lam': 1000000000, 'p': 0.016, 'classifier': 'SVC', 'svc_c': 2621.2069255573333, 'svc_kernel': 'sigmoid', 'svc_gamma': 'auto'}. Best is trial 85 with value: 0.6489185991225522.\n",
      "[I 2024-04-13 01:02:35,718] Trial 121 finished with value: 0.5788130038046102 and parameters: {'pagerank_cutoff': 0.9191622288822434, 'despike': False, 'baseline_correct': True, 'smoothing': True, 'scaling': False, 'lam': 1000000000, 'p': 0.017, 'window_size': 395, 'poly_order': 2, 'classifier': 'RandomForest', 'rf_n_estimators': 49, 'rf_max_depth': 26, 'rf_criterion': 'entropy'}. Best is trial 85 with value: 0.6489185991225522.\n",
      "[I 2024-04-13 01:02:37,981] Trial 127 finished with value: 0.1986083925578988 and parameters: {'pagerank_cutoff': 0.9190403670700724, 'despike': False, 'baseline_correct': True, 'smoothing': True, 'scaling': False, 'lam': 1000000000, 'p': 0.04, 'window_size': 399, 'poly_order': 2, 'classifier': 'SVC', 'svc_c': 430.69415976058156, 'svc_kernel': 'sigmoid', 'svc_gamma': 'auto'}. Best is trial 85 with value: 0.6489185991225522.\n",
      "[I 2024-04-13 01:02:38,537] Trial 126 finished with value: 0.24960652366459507 and parameters: {'pagerank_cutoff': 0.9160474970044161, 'despike': False, 'baseline_correct': True, 'smoothing': True, 'scaling': False, 'lam': 1000000000, 'p': 0.016, 'window_size': 384, 'poly_order': 2, 'classifier': 'SVC', 'svc_c': 758.1409085421498, 'svc_kernel': 'sigmoid', 'svc_gamma': 'auto'}. Best is trial 85 with value: 0.6489185991225522.\n",
      "[I 2024-04-13 01:02:50,521] Trial 128 finished with value: 0.3854093779740678 and parameters: {'pagerank_cutoff': 0.9828425064089366, 'despike': False, 'baseline_correct': True, 'smoothing': True, 'scaling': False, 'lam': 1000000000, 'p': 0.039, 'window_size': 401, 'poly_order': 2, 'classifier': 'ExtraTrees', 'et_n_estimators': 52, 'et_max_depth': 2, 'et_criterion': 'log_loss'}. Best is trial 85 with value: 0.6489185991225522.\n",
      "[I 2024-04-13 01:02:53,580] Trial 117 finished with value: 0.3870328886878468 and parameters: {'pagerank_cutoff': 0.871631988501786, 'despike': False, 'baseline_correct': True, 'smoothing': False, 'scaling': False, 'lam': 100, 'p': 0.04, 'classifier': 'SVC', 'svc_c': 186.40514874984999, 'svc_kernel': 'poly', 'svc_gamma': 'auto'}. Best is trial 85 with value: 0.6489185991225522.\n",
      "[I 2024-04-13 01:02:56,856] Trial 129 finished with value: 0.5308059164844907 and parameters: {'pagerank_cutoff': 0.9770417088963326, 'despike': False, 'baseline_correct': True, 'smoothing': True, 'scaling': True, 'lam': 1000000000, 'p': 0.024, 'window_size': 388, 'poly_order': 2, 'scaling_type': 'vector', 'classifier': 'ExtraTrees', 'et_n_estimators': 48, 'et_max_depth': 6, 'et_criterion': 'log_loss'}. Best is trial 85 with value: 0.6489185991225522.\n",
      "[I 2024-04-13 01:03:05,186] Trial 131 finished with value: 0.5548210041592394 and parameters: {'pagerank_cutoff': 0.9791378517036164, 'despike': False, 'baseline_correct': True, 'smoothing': False, 'scaling': True, 'lam': 1000000000, 'p': 0.024, 'scaling_type': 'vector', 'classifier': 'ExtraTrees', 'et_n_estimators': 53, 'et_max_depth': 6, 'et_criterion': 'log_loss'}. Best is trial 85 with value: 0.6489185991225522.\n",
      "[I 2024-04-13 01:03:09,320] Trial 130 finished with value: 0.5472912346001397 and parameters: {'pagerank_cutoff': 0.8013431263715064, 'despike': False, 'baseline_correct': True, 'smoothing': False, 'scaling': True, 'lam': 1000000000, 'p': 0.024, 'scaling_type': 'vector', 'classifier': 'ExtraTrees', 'et_n_estimators': 56, 'et_max_depth': 6, 'et_criterion': 'log_loss'}. Best is trial 85 with value: 0.6489185991225522.\n",
      "[I 2024-04-13 01:03:11,786] Trial 132 finished with value: 0.661625668780865 and parameters: {'pagerank_cutoff': 0.9892887909134321, 'despike': False, 'baseline_correct': True, 'smoothing': False, 'scaling': False, 'lam': 1000000000, 'p': 0.024, 'classifier': 'RandomForest', 'rf_n_estimators': 88, 'rf_max_depth': 11, 'rf_criterion': 'log_loss'}. Best is trial 132 with value: 0.661625668780865.\n",
      "[I 2024-04-13 01:03:34,029] Trial 134 finished with value: 0.620780248640016 and parameters: {'pagerank_cutoff': 0.9857187418164395, 'despike': False, 'baseline_correct': True, 'smoothing': False, 'scaling': True, 'lam': 1000000000, 'p': 0.024, 'scaling_type': 'vector', 'classifier': 'RandomForest', 'rf_n_estimators': 87, 'rf_max_depth': 11, 'rf_criterion': 'log_loss'}. Best is trial 132 with value: 0.661625668780865.\n",
      "[I 2024-04-13 01:03:37,011] Trial 138 finished with value: 0.5827773799883856 and parameters: {'pagerank_cutoff': 1.0886809942809346, 'despike': False, 'baseline_correct': True, 'smoothing': False, 'scaling': False, 'lam': 1000000000, 'p': 0.030000000000000002, 'classifier': 'RandomForest', 'rf_n_estimators': 88, 'rf_max_depth': 11, 'rf_criterion': 'log_loss'}. Best is trial 132 with value: 0.661625668780865.\n",
      "[I 2024-04-13 01:03:37,347] Trial 136 finished with value: 0.5759266815751591 and parameters: {'pagerank_cutoff': 1.0399442402165229, 'despike': False, 'baseline_correct': True, 'smoothing': False, 'scaling': False, 'lam': 1000000000, 'p': 0.013000000000000001, 'classifier': 'RandomForest', 'rf_n_estimators': 88, 'rf_max_depth': 11, 'rf_criterion': 'log_loss'}. Best is trial 132 with value: 0.661625668780865.\n",
      "[I 2024-04-13 01:03:37,789] Trial 137 finished with value: 0.5611298036747678 and parameters: {'pagerank_cutoff': 1.0475045910979632, 'despike': False, 'baseline_correct': True, 'smoothing': False, 'scaling': False, 'lam': 1000000000, 'p': 0.07200000000000001, 'classifier': 'RandomForest', 'rf_n_estimators': 88, 'rf_max_depth': 11, 'rf_criterion': 'log_loss'}. Best is trial 132 with value: 0.661625668780865.\n",
      "[I 2024-04-13 01:03:41,700] Trial 133 finished with value: 0.6346677077878571 and parameters: {'pagerank_cutoff': 0.8008844605978823, 'despike': False, 'baseline_correct': True, 'smoothing': False, 'scaling': True, 'lam': 1000000000, 'p': 0.023, 'scaling_type': 'vector', 'classifier': 'RandomForest', 'rf_n_estimators': 87, 'rf_max_depth': 11, 'rf_criterion': 'log_loss'}. Best is trial 132 with value: 0.661625668780865.\n",
      "[I 2024-04-13 01:03:44,190] Trial 135 finished with value: 0.6164650413028526 and parameters: {'pagerank_cutoff': 0.7996006329851516, 'despike': False, 'baseline_correct': True, 'smoothing': False, 'scaling': True, 'lam': 1000000000, 'p': 0.031, 'scaling_type': 'svn', 'classifier': 'RandomForest', 'rf_n_estimators': 83, 'rf_max_depth': 11, 'rf_criterion': 'log_loss'}. Best is trial 132 with value: 0.661625668780865.\n",
      "[I 2024-04-13 01:03:55,874] Trial 139 finished with value: 0.5859648660535853 and parameters: {'pagerank_cutoff': 1.0644409349955812, 'despike': False, 'baseline_correct': True, 'smoothing': False, 'scaling': False, 'lam': 1000000000, 'p': 0.013000000000000001, 'classifier': 'RandomForest', 'rf_n_estimators': 88, 'rf_max_depth': 11, 'rf_criterion': 'entropy'}. Best is trial 132 with value: 0.661625668780865.\n",
      "[I 2024-04-13 01:03:59,018] Trial 116 finished with value: 0.563788467207769 and parameters: {'pagerank_cutoff': 0.8717050522396127, 'despike': False, 'baseline_correct': True, 'smoothing': False, 'scaling': False, 'lam': 1000000000, 'p': 0.016, 'classifier': 'SVC', 'svc_c': 537.4926268149696, 'svc_kernel': 'poly', 'svc_gamma': 'auto'}. Best is trial 132 with value: 0.661625668780865.\n",
      "[I 2024-04-13 01:04:02,840] Trial 142 finished with value: 0.5802467234269972 and parameters: {'pagerank_cutoff': 1.1134329913536924, 'despike': False, 'baseline_correct': True, 'smoothing': False, 'scaling': True, 'lam': 1000000000, 'p': 0.027000000000000003, 'scaling_type': 'vector', 'classifier': 'RandomForest', 'rf_n_estimators': 85, 'rf_max_depth': 8, 'rf_criterion': 'log_loss'}. Best is trial 132 with value: 0.661625668780865.\n",
      "[I 2024-04-13 01:04:04,788] Trial 140 finished with value: 0.6238921939620217 and parameters: {'pagerank_cutoff': 1.0427111214448543, 'despike': False, 'baseline_correct': True, 'smoothing': False, 'scaling': False, 'lam': 1000000000, 'p': 0.027000000000000003, 'classifier': 'RandomForest', 'rf_n_estimators': 83, 'rf_max_depth': 8, 'rf_criterion': 'entropy'}. Best is trial 132 with value: 0.661625668780865.\n",
      "[I 2024-04-13 01:04:14,955] Trial 124 finished with value: 0.5535537158423753 and parameters: {'pagerank_cutoff': 0.9135092035496543, 'despike': False, 'baseline_correct': True, 'smoothing': False, 'scaling': False, 'lam': 1000000000, 'p': 0.016, 'classifier': 'SVC', 'svc_c': 755.0616988913913, 'svc_kernel': 'poly', 'svc_gamma': 'auto'}. Best is trial 132 with value: 0.661625668780865.\n",
      "[I 2024-04-13 01:04:22,993] Trial 120 finished with value: 0.5774287866453406 and parameters: {'pagerank_cutoff': 0.8700308822093625, 'despike': False, 'baseline_correct': True, 'smoothing': False, 'scaling': False, 'lam': 1000000000, 'p': 0.016, 'classifier': 'SVC', 'svc_c': 571.8280101608025, 'svc_kernel': 'poly', 'svc_gamma': 'auto'}. Best is trial 132 with value: 0.661625668780865.\n",
      "[I 2024-04-13 01:04:23,722] Trial 141 finished with value: 0.627853779781948 and parameters: {'pagerank_cutoff': 0.8959135357008758, 'despike': False, 'baseline_correct': True, 'smoothing': False, 'scaling': True, 'lam': 1000000000, 'p': 0.028, 'scaling_type': 'svn', 'classifier': 'RandomForest', 'rf_n_estimators': 84, 'rf_max_depth': 20, 'rf_criterion': 'entropy'}. Best is trial 132 with value: 0.661625668780865.\n",
      "[I 2024-04-13 01:04:32,527] Trial 146 finished with value: 0.5563714501564909 and parameters: {'pagerank_cutoff': 1.1339631183130336, 'despike': False, 'baseline_correct': True, 'smoothing': False, 'scaling': True, 'lam': 1000000000, 'p': 0.028, 'scaling_type': 'vector', 'classifier': 'RandomForest', 'rf_n_estimators': 84, 'rf_max_depth': 20, 'rf_criterion': 'log_loss'}. Best is trial 132 with value: 0.661625668780865.\n",
      "[I 2024-04-13 01:04:35,169] Trial 144 finished with value: 0.6104918428685716 and parameters: {'pagerank_cutoff': 0.8896417344054414, 'despike': False, 'baseline_correct': True, 'smoothing': False, 'scaling': True, 'lam': 1000000000, 'p': 0.022000000000000002, 'scaling_type': 'vector', 'classifier': 'RandomForest', 'rf_n_estimators': 84, 'rf_max_depth': 8, 'rf_criterion': 'entropy'}. Best is trial 132 with value: 0.661625668780865.\n",
      "[I 2024-04-13 01:04:35,960] Trial 150 finished with value: 0.4788253968253969 and parameters: {'pagerank_cutoff': 0.07710883715577221, 'despike': False, 'baseline_correct': False, 'smoothing': False, 'scaling': False, 'classifier': 'RandomForest', 'rf_n_estimators': 99, 'rf_max_depth': 2, 'rf_criterion': 'entropy'}. Best is trial 132 with value: 0.661625668780865.\n",
      "[I 2024-04-13 01:04:39,697] Trial 148 finished with value: 0.6144789530682366 and parameters: {'pagerank_cutoff': 1.0227707008704667, 'despike': False, 'baseline_correct': True, 'smoothing': False, 'scaling': False, 'lam': 1000000000, 'p': 0.033, 'classifier': 'RandomForest', 'rf_n_estimators': 51, 'rf_max_depth': 8, 'rf_criterion': 'entropy'}. Best is trial 132 with value: 0.661625668780865.\n",
      "[I 2024-04-13 01:04:46,428] Trial 151 finished with value: 0.6205611736716932 and parameters: {'pagerank_cutoff': 0.8357578033806563, 'despike': False, 'baseline_correct': False, 'smoothing': False, 'scaling': True, 'scaling_type': 'svn', 'classifier': 'RandomForest', 'rf_n_estimators': 82, 'rf_max_depth': 14, 'rf_criterion': 'entropy'}. Best is trial 132 with value: 0.661625668780865.\n",
      "[I 2024-04-13 01:04:50,790] Trial 149 finished with value: 0.5797527153462204 and parameters: {'pagerank_cutoff': 1.0214666746678223, 'despike': False, 'baseline_correct': True, 'smoothing': False, 'scaling': False, 'lam': 1000000, 'p': 0.028, 'classifier': 'RandomForest', 'rf_n_estimators': 52, 'rf_max_depth': 8, 'rf_criterion': 'entropy'}. Best is trial 132 with value: 0.661625668780865.\n",
      "[I 2024-04-13 01:04:52,164] Trial 145 finished with value: 0.6621062168637435 and parameters: {'pagerank_cutoff': 0.8987097166318044, 'despike': False, 'baseline_correct': True, 'smoothing': False, 'scaling': True, 'lam': 1000000000, 'p': 0.028, 'scaling_type': 'vector', 'classifier': 'RandomForest', 'rf_n_estimators': 99, 'rf_max_depth': 20, 'rf_criterion': 'log_loss'}. Best is trial 145 with value: 0.6621062168637435.\n",
      "[I 2024-04-13 01:05:04,143] Trial 143 finished with value: 0.585920634920635 and parameters: {'pagerank_cutoff': 0.09613999541264151, 'despike': False, 'baseline_correct': True, 'smoothing': False, 'scaling': True, 'lam': 1000000000, 'p': 0.02, 'scaling_type': 'svn', 'classifier': 'RandomForest', 'rf_n_estimators': 84, 'rf_max_depth': 8, 'rf_criterion': 'entropy'}. Best is trial 145 with value: 0.6621062168637435.\n",
      "[I 2024-04-13 01:05:11,975] Trial 152 finished with value: 0.4197534458617942 and parameters: {'pagerank_cutoff': 1.0180452318079425, 'despike': False, 'baseline_correct': True, 'smoothing': False, 'scaling': True, 'lam': 1000000, 'p': 0.033, 'scaling_type': 'svn', 'classifier': 'RandomForest', 'rf_n_estimators': 52, 'rf_max_depth': 2, 'rf_criterion': 'entropy'}. Best is trial 145 with value: 0.6621062168637435.\n",
      "[I 2024-04-13 01:05:32,444] Trial 154 finished with value: 0.5309318416206772 and parameters: {'pagerank_cutoff': 0.939515827778737, 'despike': False, 'baseline_correct': True, 'smoothing': False, 'scaling': True, 'lam': 1000000, 'p': 0.02, 'scaling_type': 'svn', 'classifier': 'RandomForest', 'rf_n_estimators': 52, 'rf_max_depth': 9, 'rf_criterion': 'entropy'}. Best is trial 145 with value: 0.6621062168637435.\n",
      "[I 2024-04-13 01:05:34,965] Trial 153 finished with value: 0.3901468440728894 and parameters: {'pagerank_cutoff': 0.8354512445473743, 'despike': False, 'baseline_correct': True, 'smoothing': False, 'scaling': True, 'lam': 1000000, 'p': 0.033, 'scaling_type': 'svn', 'classifier': 'RandomForest', 'rf_n_estimators': 73, 'rf_max_depth': 2, 'rf_criterion': 'entropy'}. Best is trial 145 with value: 0.6621062168637435.\n",
      "[I 2024-04-13 01:05:39,189] Trial 156 finished with value: 0.5240153663693086 and parameters: {'pagerank_cutoff': 0.9512140228944596, 'despike': False, 'baseline_correct': True, 'smoothing': False, 'scaling': True, 'lam': 1000000, 'p': 0.012, 'scaling_type': 'svn', 'classifier': 'RandomForest', 'rf_n_estimators': 37, 'rf_max_depth': 9, 'rf_criterion': 'entropy'}. Best is trial 145 with value: 0.6621062168637435.\n",
      "[I 2024-04-13 01:05:43,121] Trial 157 finished with value: 0.6368947366809448 and parameters: {'pagerank_cutoff': 0.9612837677269299, 'despike': False, 'baseline_correct': True, 'smoothing': False, 'scaling': True, 'lam': 1000000000, 'p': 0.02, 'scaling_type': 'svn', 'classifier': 'RandomForest', 'rf_n_estimators': 39, 'rf_max_depth': 9, 'rf_criterion': 'entropy'}. Best is trial 145 with value: 0.6621062168637435.\n",
      "[I 2024-04-13 01:05:45,333] Trial 155 finished with value: 0.511930678585902 and parameters: {'pagerank_cutoff': 0.8414596264352523, 'despike': False, 'baseline_correct': True, 'smoothing': False, 'scaling': True, 'lam': 1000000, 'p': 0.026000000000000002, 'scaling_type': 'svn', 'classifier': 'RandomForest', 'rf_n_estimators': 82, 'rf_max_depth': 9, 'rf_criterion': 'entropy'}. Best is trial 145 with value: 0.6621062168637435.\n",
      "[I 2024-04-13 01:05:51,672] Trial 147 finished with value: 0.5989523809523809 and parameters: {'pagerank_cutoff': 0.11233746889281138, 'despike': False, 'baseline_correct': True, 'smoothing': False, 'scaling': True, 'lam': 1000000000, 'p': 0.02, 'scaling_type': 'svn', 'classifier': 'RandomForest', 'rf_n_estimators': 99, 'rf_max_depth': 21, 'rf_criterion': 'log_loss'}. Best is trial 145 with value: 0.6621062168637435.\n",
      "[I 2024-04-13 01:05:51,820] Trial 159 finished with value: 0.5316160807419785 and parameters: {'pagerank_cutoff': 0.9501551107113129, 'despike': False, 'baseline_correct': True, 'smoothing': False, 'scaling': True, 'lam': 10000000, 'p': 0.032, 'scaling_type': 'svn', 'classifier': 'RandomForest', 'rf_n_estimators': 39, 'rf_max_depth': 25, 'rf_criterion': 'entropy'}. Best is trial 145 with value: 0.6621062168637435.\n",
      "[I 2024-04-13 01:05:53,805] Trial 158 finished with value: 0.6091287883336125 and parameters: {'pagerank_cutoff': 0.9482674992440885, 'despike': False, 'baseline_correct': True, 'smoothing': False, 'scaling': True, 'lam': 1000000000, 'p': 0.026000000000000002, 'scaling_type': 'svn', 'classifier': 'RandomForest', 'rf_n_estimators': 100, 'rf_max_depth': 27, 'rf_criterion': 'entropy'}. Best is trial 145 with value: 0.6621062168637435.\n",
      "[I 2024-04-13 01:05:57,433] Trial 160 finished with value: 0.5369486929063428 and parameters: {'pagerank_cutoff': 0.9590835850466636, 'despike': False, 'baseline_correct': True, 'smoothing': False, 'scaling': True, 'lam': 10000000, 'p': 0.026000000000000002, 'scaling_type': 'svn', 'classifier': 'RandomForest', 'rf_n_estimators': 42, 'rf_max_depth': 25, 'rf_criterion': 'log_loss'}. Best is trial 145 with value: 0.6621062168637435.\n",
      "[I 2024-04-13 01:06:39,393] Trial 161 finished with value: 0.6183970610619216 and parameters: {'pagerank_cutoff': 0.8351954077942341, 'despike': False, 'baseline_correct': True, 'smoothing': False, 'scaling': True, 'lam': 1000000000, 'p': 0.026000000000000002, 'scaling_type': 'svn', 'classifier': 'RandomForest', 'rf_n_estimators': 41, 'rf_max_depth': 26, 'rf_criterion': 'log_loss'}. Best is trial 145 with value: 0.6621062168637435.\n",
      "[I 2024-04-13 01:06:43,820] Trial 165 finished with value: 0.5417826548740912 and parameters: {'pagerank_cutoff': 0.8943782146826801, 'despike': False, 'baseline_correct': True, 'smoothing': False, 'scaling': True, 'lam': 10000000, 'p': 0.022000000000000002, 'scaling_type': 'svn', 'classifier': 'RandomForest', 'rf_n_estimators': 14, 'rf_max_depth': 10, 'rf_criterion': 'log_loss'}. Best is trial 145 with value: 0.6621062168637435.\n",
      "[I 2024-04-13 01:06:45,275] Trial 162 finished with value: 0.5456310177320467 and parameters: {'pagerank_cutoff': 0.9537751982323276, 'despike': False, 'baseline_correct': True, 'smoothing': False, 'scaling': True, 'lam': 10000000, 'p': 0.012, 'scaling_type': 'svn', 'classifier': 'RandomForest', 'rf_n_estimators': 78, 'rf_max_depth': 26, 'rf_criterion': 'log_loss'}. Best is trial 145 with value: 0.6621062168637435.\n",
      "[I 2024-04-13 01:06:52,841] Trial 164 finished with value: 0.543443336476854 and parameters: {'pagerank_cutoff': 0.9687470035839032, 'despike': False, 'baseline_correct': True, 'smoothing': False, 'scaling': True, 'lam': 10000000, 'p': 0.026000000000000002, 'scaling_type': 'svn', 'classifier': 'RandomForest', 'rf_n_estimators': 78, 'rf_max_depth': 10, 'rf_criterion': 'log_loss'}. Best is trial 145 with value: 0.6621062168637435.\n",
      "[I 2024-04-13 01:06:55,037] Trial 163 finished with value: 0.6529799095759584 and parameters: {'pagerank_cutoff': 0.9033015722808346, 'despike': False, 'baseline_correct': True, 'smoothing': False, 'scaling': True, 'lam': 1000000000, 'p': 0.026000000000000002, 'scaling_type': 'svn', 'classifier': 'RandomForest', 'rf_n_estimators': 67, 'rf_max_depth': 26, 'rf_criterion': 'log_loss'}. Best is trial 145 with value: 0.6621062168637435.\n",
      "[I 2024-04-13 01:07:12,729] Trial 166 finished with value: 0.6030507703553867 and parameters: {'pagerank_cutoff': 0.9660928342730466, 'despike': False, 'baseline_correct': True, 'smoothing': False, 'scaling': True, 'lam': 1000000000, 'p': 0.022000000000000002, 'scaling_type': 'svn', 'classifier': 'RandomForest', 'rf_n_estimators': 42, 'rf_max_depth': 10, 'rf_criterion': 'log_loss'}. Best is trial 145 with value: 0.6621062168637435.\n",
      "[I 2024-04-13 01:07:29,821] Trial 167 finished with value: 0.6535093749766014 and parameters: {'pagerank_cutoff': 0.9070938310048969, 'despike': False, 'baseline_correct': True, 'smoothing': False, 'scaling': True, 'lam': 1000000000, 'p': 0.044000000000000004, 'scaling_type': 'svn', 'classifier': 'RandomForest', 'rf_n_estimators': 79, 'rf_max_depth': 10, 'rf_criterion': 'log_loss'}. Best is trial 145 with value: 0.6621062168637435.\n",
      "[I 2024-04-13 01:07:45,023] Trial 168 finished with value: 0.6261639445221852 and parameters: {'pagerank_cutoff': 0.8955145054260363, 'despike': False, 'baseline_correct': True, 'smoothing': False, 'scaling': True, 'lam': 1000000000, 'p': 0.022000000000000002, 'scaling_type': 'svn', 'classifier': 'RandomForest', 'rf_n_estimators': 79, 'rf_max_depth': 10, 'rf_criterion': 'log_loss'}. Best is trial 145 with value: 0.6621062168637435.\n",
      "[I 2024-04-13 01:08:11,769] Trial 169 finished with value: 0.5910316519660089 and parameters: {'pagerank_cutoff': 0.9054413962122249, 'despike': True, 'baseline_correct': True, 'smoothing': False, 'scaling': True, 'despike_ma': 23, 'despike_threshold': 3.0, 'lam': 1000000000, 'p': 0.022000000000000002, 'scaling_type': 'normal', 'classifier': 'RandomForest', 'rf_n_estimators': 93, 'rf_max_depth': 10, 'rf_criterion': 'log_loss'}. Best is trial 145 with value: 0.6621062168637435.\n",
      "[I 2024-04-13 01:08:23,359] Trial 173 finished with value: 0.6613711076768553 and parameters: {'pagerank_cutoff': 0.9986653943267625, 'despike': False, 'baseline_correct': True, 'smoothing': False, 'scaling': False, 'lam': 1000000000, 'p': 0.029, 'classifier': 'RandomForest', 'rf_n_estimators': 93, 'rf_max_depth': 29, 'rf_criterion': 'gini'}. Best is trial 145 with value: 0.6621062168637435.\n",
      "[I 2024-04-13 01:08:40,367] Trial 179 finished with value: 0.4045108446101072 and parameters: {'pagerank_cutoff': 1.4683403057918425, 'despike': False, 'baseline_correct': True, 'smoothing': False, 'scaling': True, 'lam': 1000000000, 'p': 0.046, 'scaling_type': 'svn', 'classifier': 'RandomForest', 'rf_n_estimators': 97, 'rf_max_depth': 29, 'rf_criterion': 'log_loss'}. Best is trial 145 with value: 0.6621062168637435.\n",
      "[I 2024-04-13 01:08:45,029] Trial 171 finished with value: 0.5785810051408198 and parameters: {'pagerank_cutoff': 0.9137926037396795, 'despike': True, 'baseline_correct': True, 'smoothing': False, 'scaling': True, 'despike_ma': 58, 'despike_threshold': 3.25, 'lam': 1000000000, 'p': 0.029, 'scaling_type': 'normal', 'classifier': 'RandomForest', 'rf_n_estimators': 79, 'rf_max_depth': 17, 'rf_criterion': 'log_loss'}. Best is trial 145 with value: 0.6621062168637435.\n",
      "[I 2024-04-13 01:08:46,444] Trial 174 finished with value: 0.6131176893261059 and parameters: {'pagerank_cutoff': 0.9235530732948163, 'despike': True, 'baseline_correct': True, 'smoothing': False, 'scaling': True, 'despike_ma': 56, 'despike_threshold': 3.5, 'lam': 1000000000, 'p': 0.023, 'scaling_type': 'normal', 'classifier': 'RandomForest', 'rf_n_estimators': 74, 'rf_max_depth': 30, 'rf_criterion': 'log_loss'}. Best is trial 145 with value: 0.6621062168637435.\n",
      "[I 2024-04-13 01:08:47,145] Trial 177 finished with value: 0.5986309570062395 and parameters: {'pagerank_cutoff': 0.9206553118574332, 'despike': True, 'baseline_correct': True, 'smoothing': False, 'scaling': True, 'despike_ma': 61, 'despike_threshold': 3.75, 'lam': 1000000000, 'p': 0.043000000000000003, 'scaling_type': 'normal', 'classifier': 'RandomForest', 'rf_n_estimators': 31, 'rf_max_depth': 17, 'rf_criterion': 'log_loss'}. Best is trial 145 with value: 0.6621062168637435.\n",
      "[I 2024-04-13 01:08:47,665] Trial 175 finished with value: 0.6062310069726846 and parameters: {'pagerank_cutoff': 0.8903692426685634, 'despike': True, 'baseline_correct': True, 'smoothing': False, 'scaling': True, 'despike_ma': 62, 'despike_threshold': 3.75, 'lam': 1000000000, 'p': 0.030000000000000002, 'scaling_type': 'normal', 'classifier': 'RandomForest', 'rf_n_estimators': 67, 'rf_max_depth': 30, 'rf_criterion': 'log_loss'}. Best is trial 145 with value: 0.6621062168637435.\n",
      "[I 2024-04-13 01:08:49,715] Trial 170 finished with value: 0.5690834692595904 and parameters: {'pagerank_cutoff': 0.8923788714749985, 'despike': True, 'baseline_correct': True, 'smoothing': False, 'scaling': True, 'despike_ma': 61, 'despike_threshold': 3.0, 'lam': 1000000000, 'p': 0.023, 'scaling_type': 'normal', 'classifier': 'RandomForest', 'rf_n_estimators': 97, 'rf_max_depth': 10, 'rf_criterion': 'log_loss'}. Best is trial 145 with value: 0.6621062168637435.\n",
      "[I 2024-04-13 01:08:56,065] Trial 176 finished with value: 0.6458109130041148 and parameters: {'pagerank_cutoff': 0.908159742361327, 'despike': True, 'baseline_correct': True, 'smoothing': False, 'scaling': True, 'despike_ma': 62, 'despike_threshold': 3.0, 'lam': 1000000000, 'p': 0.047, 'scaling_type': 'svn', 'classifier': 'RandomForest', 'rf_n_estimators': 97, 'rf_max_depth': 14, 'rf_criterion': 'log_loss'}. Best is trial 145 with value: 0.6621062168637435.\n",
      "[I 2024-04-13 01:08:59,399] Trial 172 finished with value: 0.6208307721162643 and parameters: {'pagerank_cutoff': 0.15236834872945415, 'despike': False, 'baseline_correct': True, 'smoothing': False, 'scaling': False, 'lam': 1000000000, 'p': 0.022000000000000002, 'classifier': 'RandomForest', 'rf_n_estimators': 93, 'rf_max_depth': 17, 'rf_criterion': 'gini'}. Best is trial 145 with value: 0.6621062168637435.\n",
      "[I 2024-04-13 01:09:06,075] Trial 178 finished with value: 0.6005991517281681 and parameters: {'pagerank_cutoff': 0.8084904877793188, 'despike': False, 'baseline_correct': True, 'smoothing': False, 'scaling': True, 'lam': 1000000000, 'p': 0.049, 'scaling_type': 'svn', 'classifier': 'RandomForest', 'rf_n_estimators': 74, 'rf_max_depth': 29, 'rf_criterion': 'log_loss'}. Best is trial 145 with value: 0.6621062168637435.\n",
      "[I 2024-04-13 01:09:38,922] Trial 182 finished with value: 0.6282254829355584 and parameters: {'pagerank_cutoff': 1.0060204908574195, 'despike': False, 'baseline_correct': True, 'smoothing': False, 'scaling': True, 'lam': 1000000000, 'p': 0.037000000000000005, 'scaling_type': 'svn', 'classifier': 'RandomForest', 'rf_n_estimators': 86, 'rf_max_depth': 23, 'rf_criterion': 'gini'}. Best is trial 145 with value: 0.6621062168637435.\n",
      "[I 2024-04-13 01:09:45,052] Trial 180 finished with value: 0.6401099462788072 and parameters: {'pagerank_cutoff': 0.8019031382848082, 'despike': False, 'baseline_correct': True, 'smoothing': False, 'scaling': True, 'lam': 1000000000, 'p': 0.044000000000000004, 'scaling_type': 'svn', 'classifier': 'RandomForest', 'rf_n_estimators': 67, 'rf_max_depth': 30, 'rf_criterion': 'log_loss'}. Best is trial 145 with value: 0.6621062168637435.\n",
      "[I 2024-04-13 01:09:49,832] Trial 181 finished with value: 0.5978412871485086 and parameters: {'pagerank_cutoff': 0.815611865879095, 'despike': False, 'baseline_correct': True, 'smoothing': False, 'scaling': True, 'lam': 1000000000, 'p': 0.036000000000000004, 'scaling_type': 'svn', 'classifier': 'RandomForest', 'rf_n_estimators': 75, 'rf_max_depth': 14, 'rf_criterion': 'gini'}. Best is trial 145 with value: 0.6621062168637435.\n",
      "[I 2024-04-13 01:09:51,010] Trial 183 finished with value: 0.6161324291322731 and parameters: {'pagerank_cutoff': 0.8055250629858757, 'despike': False, 'baseline_correct': True, 'smoothing': False, 'scaling': True, 'lam': 1000000000, 'p': 0.030000000000000002, 'scaling_type': 'svn', 'classifier': 'RandomForest', 'rf_n_estimators': 68, 'rf_max_depth': 31, 'rf_criterion': 'gini'}. Best is trial 145 with value: 0.6621062168637435.\n",
      "[I 2024-04-13 01:09:52,255] Trial 184 finished with value: 0.6211852107959336 and parameters: {'pagerank_cutoff': 0.7929408139160438, 'despike': False, 'baseline_correct': True, 'smoothing': False, 'scaling': True, 'lam': 1000000000, 'p': 0.035, 'scaling_type': 'svn', 'classifier': 'RandomForest', 'rf_n_estimators': 76, 'rf_max_depth': 19, 'rf_criterion': 'gini'}. Best is trial 145 with value: 0.6621062168637435.\n",
      "[I 2024-04-13 01:09:52,393] Trial 185 finished with value: 0.6351766613403106 and parameters: {'pagerank_cutoff': 0.809859085567817, 'despike': False, 'baseline_correct': True, 'smoothing': False, 'scaling': True, 'lam': 1000000000, 'p': 0.037000000000000005, 'scaling_type': 'svn', 'classifier': 'RandomForest', 'rf_n_estimators': 76, 'rf_max_depth': 32, 'rf_criterion': 'gini'}. Best is trial 145 with value: 0.6621062168637435.\n",
      "[I 2024-04-13 01:09:55,762] Trial 188 finished with value: 0.6416573472847016 and parameters: {'pagerank_cutoff': 0.9908268932038338, 'despike': False, 'baseline_correct': True, 'smoothing': False, 'scaling': True, 'lam': 1000000000, 'p': 0.044000000000000004, 'scaling_type': 'svn', 'classifier': 'RandomForest', 'rf_n_estimators': 90, 'rf_max_depth': 22, 'rf_criterion': 'gini'}. Best is trial 145 with value: 0.6621062168637435.\n",
      "[I 2024-04-13 01:09:58,714] Trial 186 finished with value: 0.6191920718378434 and parameters: {'pagerank_cutoff': 0.8044192205895873, 'despike': False, 'baseline_correct': True, 'smoothing': False, 'scaling': True, 'lam': 1000000000, 'p': 0.049, 'scaling_type': 'svn', 'classifier': 'RandomForest', 'rf_n_estimators': 93, 'rf_max_depth': 14, 'rf_criterion': 'gini'}. Best is trial 145 with value: 0.6621062168637435.\n",
      "[I 2024-04-13 01:09:59,059] Trial 187 finished with value: 0.6337327937246282 and parameters: {'pagerank_cutoff': 0.8009361572721003, 'despike': False, 'baseline_correct': True, 'smoothing': False, 'scaling': True, 'lam': 1000000000, 'p': 0.053000000000000005, 'scaling_type': 'svn', 'classifier': 'RandomForest', 'rf_n_estimators': 89, 'rf_max_depth': 14, 'rf_criterion': 'gini'}. Best is trial 145 with value: 0.6621062168637435.\n",
      "[I 2024-04-13 01:10:36,241] Trial 191 finished with value: 0.5673417086879621 and parameters: {'pagerank_cutoff': 0.9872003487431071, 'despike': False, 'baseline_correct': True, 'smoothing': False, 'scaling': False, 'lam': 100000, 'p': 0.052000000000000005, 'classifier': 'RandomForest', 'rf_n_estimators': 59, 'rf_max_depth': 32, 'rf_criterion': 'log_loss'}. Best is trial 145 with value: 0.6621062168637435.\n",
      "[I 2024-04-13 01:10:38,585] Trial 192 finished with value: 0.6223753997172989 and parameters: {'pagerank_cutoff': 0.9961256376875738, 'despike': False, 'baseline_correct': True, 'smoothing': False, 'scaling': True, 'lam': 1000000000, 'p': 0.052000000000000005, 'scaling_type': 'svn', 'classifier': 'RandomForest', 'rf_n_estimators': 59, 'rf_max_depth': 32, 'rf_criterion': 'gini'}. Best is trial 145 with value: 0.6621062168637435.\n",
      "[I 2024-04-13 01:10:40,243] Trial 189 finished with value: 0.6349435353462266 and parameters: {'pagerank_cutoff': 0.7938158184463371, 'despike': False, 'baseline_correct': True, 'smoothing': False, 'scaling': False, 'lam': 1000000000, 'p': 0.045, 'classifier': 'RandomForest', 'rf_n_estimators': 90, 'rf_max_depth': 14, 'rf_criterion': 'gini'}. Best is trial 145 with value: 0.6621062168637435.\n",
      "[I 2024-04-13 01:10:42,113] Trial 195 finished with value: 0.5379074696451762 and parameters: {'pagerank_cutoff': 0.9891907613528941, 'despike': False, 'baseline_correct': True, 'smoothing': False, 'scaling': False, 'lam': 100000, 'p': 0.045, 'classifier': 'RandomForest', 'rf_n_estimators': 90, 'rf_max_depth': 28, 'rf_criterion': 'gini'}. Best is trial 145 with value: 0.6621062168637435.\n",
      "[I 2024-04-13 01:10:42,490] Trial 196 finished with value: 0.5440696478219901 and parameters: {'pagerank_cutoff': 0.985830063408583, 'despike': False, 'baseline_correct': True, 'smoothing': False, 'scaling': False, 'lam': 100000, 'p': 0.042, 'classifier': 'RandomForest', 'rf_n_estimators': 81, 'rf_max_depth': 28, 'rf_criterion': 'gini'}. Best is trial 145 with value: 0.6621062168637435.\n",
      "[I 2024-04-13 01:10:43,923] Trial 194 finished with value: 0.6417633714304928 and parameters: {'pagerank_cutoff': 0.8492876691468796, 'despike': False, 'baseline_correct': True, 'smoothing': False, 'scaling': False, 'lam': 1000000000, 'p': 0.045, 'classifier': 'RandomForest', 'rf_n_estimators': 62, 'rf_max_depth': 28, 'rf_criterion': 'log_loss'}. Best is trial 145 with value: 0.6621062168637435.\n",
      "[I 2024-04-13 01:10:44,678] Trial 193 finished with value: 0.48842128689531883 and parameters: {'pagerank_cutoff': 1.0014039245988131, 'despike': False, 'baseline_correct': True, 'smoothing': False, 'scaling': True, 'lam': 100000, 'p': 0.046, 'scaling_type': 'svn', 'classifier': 'RandomForest', 'rf_n_estimators': 90, 'rf_max_depth': 23, 'rf_criterion': 'log_loss'}. Best is trial 145 with value: 0.6621062168637435.\n",
      "[I 2024-04-13 01:10:45,256] Trial 190 finished with value: 0.6256069961601287 and parameters: {'pagerank_cutoff': 0.7928523858536717, 'despike': False, 'baseline_correct': True, 'smoothing': False, 'scaling': False, 'lam': 1000000000, 'p': 0.044000000000000004, 'classifier': 'RandomForest', 'rf_n_estimators': 90, 'rf_max_depth': 32, 'rf_criterion': 'log_loss'}. Best is trial 145 with value: 0.6621062168637435.\n",
      "[I 2024-04-13 01:10:47,977] Trial 197 finished with value: 0.6079076204012058 and parameters: {'pagerank_cutoff': 0.8602077599678389, 'despike': False, 'baseline_correct': True, 'smoothing': False, 'scaling': True, 'lam': 1000000000, 'p': 0.045, 'scaling_type': 'svn', 'classifier': 'RandomForest', 'rf_n_estimators': 81, 'rf_max_depth': 28, 'rf_criterion': 'gini'}. Best is trial 145 with value: 0.6621062168637435.\n",
      "[I 2024-04-13 01:10:56,500] Trial 199 finished with value: 0.631342474573068 and parameters: {'pagerank_cutoff': 0.8487544633043568, 'despike': False, 'baseline_correct': True, 'smoothing': False, 'scaling': True, 'lam': 1000000000, 'p': 0.046, 'scaling_type': 'svn', 'classifier': 'RandomForest', 'rf_n_estimators': 90, 'rf_max_depth': 22, 'rf_criterion': 'gini'}. Best is trial 145 with value: 0.6621062168637435.\n",
      "[I 2024-04-13 01:10:56,802] Trial 198 finished with value: 0.6304319217964549 and parameters: {'pagerank_cutoff': 0.8536711523766963, 'despike': False, 'baseline_correct': True, 'smoothing': False, 'scaling': True, 'lam': 1000000000, 'p': 0.046, 'scaling_type': 'svn', 'classifier': 'RandomForest', 'rf_n_estimators': 96, 'rf_max_depth': 22, 'rf_criterion': 'gini'}. Best is trial 145 with value: 0.6621062168637435.\n"
     ]
    }
   ],
   "source": [
    "def objective(trial):\n",
    "\n",
    "    # Decide which cleaning steps to implement\n",
    "    pagerank_cutoff = trial.suggest_float('pagerank_cutoff', 0, 1.5)\n",
    "    despike = trial.suggest_categorical('despike', [True, False])\n",
    "    baseline_correct = trial.suggest_categorical('baseline_correct', [True, False])\n",
    "    smoothing = trial.suggest_categorical('smoothing', [True, False])\n",
    "    scaling = trial.suggest_categorical('scaling', [True, False])\n",
    "\n",
    "    df_copy = df.copy()\n",
    "\n",
    "    # Filter less central spectra in each surface\n",
    "    df_copy = df_copy[df_copy['PageRank'] > pagerank_cutoff]\n",
    "\n",
    "    # Apply preprocessing based on suggested parameters\n",
    "    if despike:\n",
    "        despike_ma = trial.suggest_int('despike_ma', 5, 100)\n",
    "        despike_threshold = trial.suggest_float('despike_threshold', 3, 10, step=0.25)\n",
    "        df_copy['Absorbance'] = df_copy.groupby('SpecID')['Absorbance'].transform(lambda x: despike_group(x, ma=despike_ma, threshold = despike_threshold))\n",
    "\n",
    "    if baseline_correct:\n",
    "        lam = trial.suggest_categorical('lam', [10**2, 10**3, 10**4, 10**5, 10**6, 10**7, 10**8, 10**9])\n",
    "        p = trial.suggest_float('p', 0.001, 0.1, step=0.001)\n",
    "        df_copy['Baseline'] = df_copy.groupby('SpecID')['Absorbance'].transform(lambda x: asls_baseline_correction(x, lam=lam, p=p))\n",
    "        df_copy['Absorbance'] = df_copy['Absorbance'] - df_copy['Baseline']\n",
    "\n",
    "    if smoothing:\n",
    "        window_size = trial.suggest_int('window_size', 6, 501)\n",
    "        poly_order = trial.suggest_int('poly_order', 1, 5)\n",
    "        df_copy['Absorbance'] = df_copy.groupby('SpecID')['Absorbance'].transform(lambda x: savgol_filter(x, window_size, poly_order, deriv=0))\n",
    "\n",
    "    if scaling:\n",
    "        scaling_type = trial.suggest_categorical('scaling_type', ['normal', 'vector', 'svn'])\n",
    "        if scaling_type == 'normal':\n",
    "            df_copy['Absorbance'] = df_copy.groupby('SpecID')['Absorbance'].transform(lambda x: normalise(x))\n",
    "        elif scaling_type == 'vector':\n",
    "            df_copy['Absorbance'] = df_copy.groupby('SpecID')['Absorbance'].transform(lambda x: vector_normalise(x))\n",
    "        else:\n",
    "            df_copy['Absorbance'] = df_copy.groupby('SpecID')['Absorbance'].transform(lambda x: svn_normalise(x))\n",
    "\n",
    "    df_copy = df_copy[df_copy['WaveNumber'].isin(features['Selected Features'])]\n",
    "\n",
    "    # Prepare data for ML\n",
    "    wavelength_df = prepare_wavelength_df(df_copy, 'Absorbance')\n",
    "    X = wavelength_df.drop(['Status', 'SurID'], axis=1)\n",
    "    y = wavelength_df['Status']\n",
    "    groups = wavelength_df['SurID']\n",
    "\n",
    "    # Suggest classifier type\n",
    "    classifier_name = trial.suggest_categorical(\"classifier\", [\"ExtraTrees\", \"RandomForest\", \"SVC\"])\n",
    "\n",
    "    if classifier_name == \"ExtraTrees\":\n",
    "        classifier = ExtraTreesClassifier(\n",
    "            n_estimators=trial.suggest_int(\"et_n_estimators\", 10, 100),\n",
    "            max_depth=trial.suggest_int(\"et_max_depth\", 2, 32, log=True),\n",
    "            criterion=trial.suggest_categorical(\"et_criterion\", [\"gini\", \"entropy\", \"log_loss\"]),\n",
    "            random_state=1234,\n",
    "        )\n",
    "\n",
    "    elif classifier_name == \"RandomForest\":\n",
    "        classifier = RandomForestClassifier(\n",
    "            n_estimators=trial.suggest_int(\"rf_n_estimators\", 10, 100),\n",
    "            max_depth=trial.suggest_int(\"rf_max_depth\", 2, 32, log=True),\n",
    "            criterion=trial.suggest_categorical(\"rf_criterion\", [\"gini\", \"entropy\", \"log_loss\"]),\n",
    "            random_state=1234,\n",
    "        )\n",
    "        \n",
    "    else: # SVC\n",
    "        classifier = SVC(\n",
    "            C=trial.suggest_float(\"svc_c\", 1e-10, 1e10, log=True),\n",
    "            kernel=trial.suggest_categorical(\"svc_kernel\", [\"linear\", \"poly\", \"rbf\", \"sigmoid\"]),\n",
    "            gamma=trial.suggest_categorical(\"svc_gamma\", [\"scale\", \"auto\"]),\n",
    "            random_state=1234,\n",
    "        )\n",
    "\n",
    "    cv = GroupKFold(n_splits=10)\n",
    "\n",
    "    # Perform cross-validation\n",
    "    scores = cross_validate(classifier, X, y, groups=groups, cv=cv, scoring='accuracy', n_jobs=-1)\n",
    "\n",
    "    # Return the average accuracy across all folds\n",
    "    return np.mean(scores['test_score'])\n",
    "\n",
    "\n",
    "# sampler = TPESampler(seed=10)  # Make the sampler behave in a deterministic way.\n",
    "# study = optuna.create_study(direction='maximise', sampler=sampler)\n",
    "\n",
    "study = optuna.create_study(direction=\"maximize\")\n",
    "# study.optimize(objective, n_trials=100, n_jobs=-1)\n",
    "study.optimize(objective, n_trials=200, n_jobs=-1)\n",
    "\n",
    "print(study.best_trial)"
   ]
  },
  {
   "cell_type": "code",
   "execution_count": null,
   "metadata": {},
   "outputs": [],
   "source": [
    "results_df = study.trials_dataframe(attrs=(\"number\", \"value\", \"params\", \"state\"))\n",
    "results_df.to_csv(\"../../data/studies/all_models_et_features.csv\")"
   ]
  },
  {
   "cell_type": "code",
   "execution_count": null,
   "metadata": {},
   "outputs": [
    {
     "data": {
      "text/plain": [
       "['../../data/studies/all_models_outliers_removed.pkl']"
      ]
     },
     "execution_count": 8,
     "metadata": {},
     "output_type": "execute_result"
    }
   ],
   "source": [
    "import joblib\n",
    "\n",
    "joblib.dump(study, \"../../data/studies/et_features.pkl\")"
   ]
  },
  {
   "cell_type": "code",
   "execution_count": null,
   "metadata": {},
   "outputs": [],
   "source": [
    "# loaded_study = joblib.load(\"../../data/studies/cleaning_study.pkl\")\n",
    "# print(\"Best trial until now:\")\n",
    "# print(\" Value: \", loaded_study.best_trial.value)\n",
    "# print(\" Params: \")\n",
    "# for key, value in loaded_study.best_trial.params.items():\n",
    "#     print(f\"    {key}: {value}\")"
   ]
  },
  {
   "cell_type": "code",
   "execution_count": null,
   "metadata": {},
   "outputs": [
    {
     "name": "stdout",
     "output_type": "stream",
     "text": [
      "FrozenTrial(number=170, state=1, values=[0.6857115978023632], datetime_start=datetime.datetime(2024, 3, 30, 3, 3, 8, 359298), datetime_complete=datetime.datetime(2024, 3, 30, 3, 6, 55, 497894), params={'pagerank_cutoff': 0.7364866158968766, 'despike': True, 'baseline_correct': True, 'smoothing': False, 'scaling': True, 'despike_ma': 100, 'despike_threshold': 9.5, 'lam': 100000000000, 'p': 0.064, 'scaling_type': 'svn', 'classifier': 'RandomForest', 'rf_n_estimators': 79, 'rf_max_depth': 24, 'rf_criterion': 'entropy'}, user_attrs={}, system_attrs={}, intermediate_values={}, distributions={'pagerank_cutoff': FloatDistribution(high=1.5, log=False, low=0.0, step=None), 'despike': CategoricalDistribution(choices=(True, False)), 'baseline_correct': CategoricalDistribution(choices=(True, False)), 'smoothing': CategoricalDistribution(choices=(True, False)), 'scaling': CategoricalDistribution(choices=(True, False)), 'despike_ma': IntDistribution(high=100, log=False, low=5, step=1), 'despike_threshold': FloatDistribution(high=10.0, log=False, low=3.0, step=0.25), 'lam': CategoricalDistribution(choices=(100, 1000, 10000, 100000, 1000000, 10000000, 100000000, 1000000000, 10000000000, 100000000000)), 'p': FloatDistribution(high=0.1, log=False, low=0.001, step=0.001), 'scaling_type': CategoricalDistribution(choices=('normal', 'vector', 'svn')), 'classifier': CategoricalDistribution(choices=('ExtraTrees', 'RandomForest', 'SVC')), 'rf_n_estimators': IntDistribution(high=100, log=False, low=10, step=1), 'rf_max_depth': IntDistribution(high=32, log=True, low=2, step=1), 'rf_criterion': CategoricalDistribution(choices=('gini', 'entropy', 'log_loss'))}, trial_id=170, value=None)\n"
     ]
    }
   ],
   "source": [
    "print(study.best_trial)"
   ]
  },
  {
   "cell_type": "code",
   "execution_count": null,
   "metadata": {},
   "outputs": [
    {
     "data": {
      "application/vnd.plotly.v1+json": {
       "config": {
        "plotlyServerURL": "https://plot.ly"
       },
       "data": [
        {
         "mode": "markers",
         "name": "Objective Value",
         "type": "scatter",
         "x": [
          0,
          1,
          2,
          3,
          4,
          5,
          6,
          7,
          8,
          9,
          10,
          11,
          12,
          13,
          14,
          15,
          16,
          17,
          18,
          19,
          20,
          21,
          22,
          23,
          24,
          25,
          26,
          27,
          28,
          29,
          30,
          31,
          32,
          33,
          34,
          35,
          36,
          37,
          38,
          39,
          40,
          41,
          42,
          43,
          44,
          45,
          46,
          47,
          48,
          49,
          50,
          51,
          52,
          53,
          54,
          55,
          56,
          57,
          58,
          59,
          60,
          61,
          62,
          63,
          64,
          65,
          66,
          67,
          68,
          69,
          70,
          71,
          72,
          73,
          74,
          75,
          76,
          77,
          78,
          79,
          80,
          81,
          82,
          83,
          84,
          85,
          86,
          87,
          88,
          89,
          90,
          91,
          92,
          93,
          94,
          95,
          96,
          97,
          98,
          99,
          100,
          101,
          102,
          103,
          104,
          105,
          106,
          107,
          108,
          109,
          110,
          111,
          112,
          113,
          114,
          115,
          116,
          117,
          118,
          119,
          120,
          121,
          122,
          123,
          124,
          125,
          126,
          127,
          128,
          129,
          130,
          131,
          132,
          133,
          134,
          135,
          136,
          137,
          138,
          139,
          140,
          141,
          142,
          143,
          144,
          145,
          146,
          147,
          148,
          149,
          150,
          151,
          152,
          153,
          154,
          155,
          156,
          157,
          158,
          159,
          160,
          161,
          162,
          163,
          164,
          165,
          166,
          167,
          168,
          169,
          170,
          171,
          172,
          173,
          174,
          175,
          176,
          177,
          178,
          179,
          180,
          181,
          182,
          183,
          184,
          185,
          186,
          187,
          188,
          189,
          190,
          191,
          192,
          193,
          194,
          195,
          196,
          197,
          198,
          199,
          200,
          201,
          202,
          203,
          204,
          205,
          206,
          207,
          208,
          209,
          210,
          211,
          212,
          213,
          214,
          215,
          216,
          217,
          218,
          219,
          220,
          221,
          222,
          223,
          224,
          225,
          226,
          227,
          228,
          229,
          230,
          231,
          232,
          233,
          234,
          235,
          236,
          237,
          238,
          239,
          240,
          241,
          242,
          243,
          244,
          245,
          246,
          247,
          248,
          249,
          250,
          251,
          252,
          253,
          254,
          255,
          256,
          257,
          258,
          259,
          260,
          261,
          262,
          263,
          264,
          265,
          266,
          267,
          268,
          269,
          270,
          271,
          272,
          273,
          274,
          275,
          276,
          277,
          278,
          279,
          280,
          281,
          282,
          283,
          284,
          285,
          286,
          287,
          288,
          289,
          290,
          291,
          292,
          293,
          294,
          295,
          296,
          297,
          298,
          299,
          300,
          301,
          302,
          303,
          304,
          305,
          306,
          307,
          308,
          309,
          310,
          311,
          312,
          313,
          314,
          315,
          316,
          317,
          318,
          319,
          320,
          321,
          322,
          323,
          324,
          325,
          326,
          327,
          328,
          329,
          330,
          331,
          332,
          333,
          334,
          335,
          336,
          337,
          338,
          339,
          340,
          341,
          342,
          343,
          344,
          345,
          346,
          347,
          348,
          349,
          350,
          351,
          352,
          353,
          354,
          355,
          356,
          357,
          358,
          359,
          360,
          361,
          362,
          363,
          364,
          365,
          366,
          367,
          368,
          369,
          370,
          371,
          372,
          373,
          374,
          375,
          376,
          377,
          378,
          379,
          380,
          381,
          382,
          383,
          384,
          385,
          386,
          387,
          388,
          389,
          390,
          391,
          392,
          393,
          394,
          395,
          396,
          397,
          398,
          399,
          400,
          401,
          402,
          403,
          404,
          405,
          406,
          407,
          408,
          409,
          410,
          411,
          412,
          413,
          414,
          415,
          416,
          417,
          418,
          419,
          420,
          421,
          422,
          423,
          424,
          425,
          426,
          427,
          428,
          429,
          430,
          431,
          432,
          433,
          434,
          435,
          436,
          437,
          438,
          439,
          440,
          441,
          442,
          443,
          444,
          445,
          446,
          447,
          448,
          449,
          450,
          451,
          452,
          453,
          454,
          455,
          456,
          457,
          458,
          459,
          460,
          461,
          462,
          463,
          464,
          465,
          466,
          467,
          468,
          469,
          470,
          471,
          472,
          473,
          474,
          475,
          476,
          477,
          478,
          479,
          480,
          481,
          482,
          483,
          484,
          485,
          486,
          487,
          488,
          489,
          490,
          491,
          492,
          493,
          494,
          495,
          496,
          497,
          498,
          499,
          500,
          501,
          502,
          503,
          504,
          505,
          506,
          507,
          508,
          509,
          510,
          511,
          512,
          513,
          514,
          515,
          516,
          517,
          518,
          519,
          520,
          521,
          522,
          523,
          524,
          525,
          526,
          527,
          528,
          529,
          530,
          531,
          532,
          533,
          534,
          535,
          536,
          537,
          538,
          539,
          540,
          541,
          542,
          543,
          544,
          545,
          546,
          547,
          548,
          549,
          550,
          551,
          552,
          553,
          554,
          555,
          556,
          557,
          558,
          559,
          560,
          561,
          562,
          563,
          564,
          565,
          566,
          567,
          568,
          569,
          570,
          571,
          572,
          573,
          574,
          575,
          576,
          577,
          578,
          579,
          580,
          581,
          582,
          583,
          584,
          585,
          586,
          587,
          588,
          589,
          590,
          591,
          592,
          593,
          594,
          595,
          596,
          597,
          598,
          599
         ],
         "y": [
          0.15118310553771422,
          0.543566628436912,
          0.5121592212894645,
          0.45706665771535915,
          0.536031746031746,
          0.2448490577799911,
          0.3876556201437264,
          0.19568490869455785,
          0.5264833921030865,
          0.5888004875217078,
          0.4500153621997107,
          0.585875351693955,
          0.5074515782629521,
          0.4345261348871417,
          0.49890476190476185,
          0.31592080031543934,
          0.41332220219679916,
          0.219315261297496,
          0.40087357785484024,
          0.4876625683782317,
          0.5497742319044475,
          0.39217479674796746,
          0.4825555555555555,
          0.5670952380952382,
          0.5194199336640961,
          0.4933546778221176,
          0.5092098005193552,
          0.41496892161666554,
          0.4826585592748809,
          0.49727976285258124,
          0.50200056064602,
          0.49205198721628207,
          0.4766452091832454,
          0.5083139106672825,
          0.5406190349673812,
          0.5525263334013729,
          0.564303819922663,
          0.5330606763096352,
          0.5642657242528377,
          0.5067388971790336,
          0.5016983175922227,
          0.5070658676362,
          0.48354551035475934,
          0.5194825134663821,
          0.4988645810754043,
          0.5598968671914506,
          0.4918442853915522,
          0.6102266825163194,
          0.5753277041592721,
          0.4724247772350837,
          0.5042269976728919,
          0.554599154276096,
          0.5717919022562759,
          0.5819440718846592,
          0.5874903395057991,
          0.5570167513700323,
          0.5482269259002364,
          0.42353539237533483,
          0.44248598060078714,
          0.5520461719674075,
          0.596016699912055,
          0.5762394156673999,
          0.616231255208599,
          0.5920318412675832,
          0.6278255938233428,
          0.6332961370116392,
          0.5332413793840524,
          0.5161272170022608,
          0.5121826373617566,
          0.5024843710837376,
          0.4617025052970482,
          0.4256983023768816,
          0.5283282477456638,
          0.5362692744920063,
          0.4808355721766088,
          0.5904398873878914,
          0.625300137026216,
          0.5675269204998836,
          0.590666864681294,
          0.5490217711190043,
          0.5510594145331502,
          0.497788665736549,
          0.31915527768301477,
          0.6315706714991941,
          0.28627389703557277,
          0.3403669487901422,
          0.341574088039508,
          0.3494486485594119,
          0.34909760949779267,
          0.6101821314615895,
          0.4046204160417342,
          0.3178608329195625,
          0.6194372501023299,
          0.6286873399337938,
          0.2030740168239777,
          0.2656168517237056,
          0.22583675237576725,
          0.2330451406792263,
          0.22525956407344375,
          0.2500424269500061,
          0.22539313216281295,
          0.20634943624358654,
          0.6258660353582678,
          0.6050087639292386,
          0.4212942463833146,
          0.45781455124677084,
          0.4397702599658123,
          0.32163895238804785,
          0.43753461322276266,
          0.44906442601893193,
          0.4508237775163414,
          0.451288656068757,
          0.36882433022495487,
          0.4853087010464569,
          0.35713994745290023,
          0.3079379631728031,
          0.3438527994992746,
          0.38103097094339594,
          0.3568600989653622,
          0.2533322361892327,
          0.28692837076271294,
          0.38441723618380286,
          0.3691724368324288,
          0.3886599449278093,
          0.5457319889503822,
          0.519050916444542,
          0.5274710485956687,
          0.41027842454083635,
          0.40953510871209736,
          0.4344510002579831,
          0.6077082682804822,
          0.40983751223314535,
          0.5597765994646372,
          0.6697121779249139,
          0.6571262218189886,
          0.6756877119248998,
          0.6580206112881435,
          0.5565551191887883,
          0.6502521400001313,
          0.6249227234509387,
          0.6477262671425766,
          0.6171694337507838,
          0.6540402817659137,
          0.653428882863771,
          0.6232493734265637,
          0.6138967467972518,
          0.6366113255915266,
          0.6576965771718484,
          0.6561880828991665,
          0.6549154791200418,
          0.6344218212418998,
          0.6659286879715104,
          0.6290819986885642,
          0.6797709007063372,
          0.6768589791463634,
          0.6726107802199472,
          0.6781766290818669,
          0.6703595256385724,
          0.6605796615093633,
          0.64010385824648,
          0.6694361202311941,
          0.6507519080939401,
          0.6496151057838997,
          0.6433412156641704,
          0.6691422134672937,
          0.6459338331296666,
          0.670250553112239,
          0.6607254437806948,
          0.6653022122162746,
          0.6571320782309361,
          0.6857115978023632,
          0.6308490150460725,
          0.6671217575987696,
          0.6600904447346942,
          0.6562366801441175,
          0.5069320421163366,
          0.5116523198417184,
          0.6404199742354401,
          0.47942108737224876,
          0.5297681159508969,
          0.5404046096322205,
          0.6285323394682666,
          0.6413302192846235,
          0.663263569990131,
          0.6637745639532417,
          0.6267912939177572,
          0.6641131354964609,
          0.6576225573502306,
          0.656902422771989,
          0.6644776339757444,
          0.6605843298088719,
          0.6409264221971014,
          0.6603717930316257,
          0.6577869852685697,
          0.6139636797923845,
          0.6409274736216557,
          0.6453559418640319,
          0.6637684049941742,
          0.63963249942702,
          0.6608089955526293,
          0.5756369861349493,
          0.5528514422629454,
          0.5561144459177784,
          0.5494803908720921,
          0.608413409219986,
          0.5635073591238916,
          0.6056737178750262,
          0.545397777598092,
          0.5761025488234948,
          0.5580975403731788,
          0.569683815811344,
          0.5472849590748188,
          0.6483797887907476,
          0.6408599453877628,
          0.6407301820962463,
          0.6291991957208622,
          0.6560257891989671,
          0.6205703230716257,
          0.6123360924527217,
          0.6001439101439102,
          0.6104852284251018,
          0.6003907687937445,
          0.6009164154369635,
          0.6417805851345793,
          0.6214902303975066,
          0.6452168903893043,
          0.6134028382278829,
          0.6489994581270698,
          0.641034195211332,
          0.6677725374041164,
          0.6652279058526106,
          0.6471647524274143,
          0.6539042483702043,
          0.6262342059371668,
          0.6351252583620741,
          0.6481137163850741,
          0.669647222356111,
          0.6365589280031887,
          0.6578646878823255,
          0.6317870348042762,
          0.6292788536522925,
          0.6510552959660785,
          0.673279311359623,
          0.6461747419477198,
          0.6425307573913808,
          0.6211708372940793,
          0.6474266372415606,
          0.6016211431003291,
          0.6173147309930099,
          0.6248798031327611,
          0.6155846944574896,
          0.6250931723353682,
          0.594976689550976,
          0.590060491799296,
          0.5947967613345402,
          0.6351599557984432,
          0.6642950931103473,
          0.6192303771313584,
          0.6307484770802592,
          0.635897791001823,
          0.6632314605049533,
          0.6659266827687019,
          0.6566094282502237,
          0.6406095878117345,
          0.6796343986770735,
          0.6598348615178351,
          0.6800057834648561,
          0.6709007431077069,
          0.6489030406666098,
          0.6331717383340748,
          0.5495802830142675,
          0.5697898305960989,
          0.5672603143352284,
          0.5702891000606554,
          0.5683322048567705,
          0.6433359717233117,
          0.599211945679961,
          0.6385500020274437,
          0.3918125889918687,
          0.6640488777906886,
          0.39914902125608315,
          0.6393433995181257,
          0.6442131180731323,
          0.6825762110058188,
          0.6729252198206773,
          0.3862184852590086,
          0.3966419380569621,
          0.6700203803840032,
          0.681017388207924,
          0.3879947608484837,
          0.4052558930105873,
          0.4183161284048632,
          0.41075663321401706,
          0.6315255902478695,
          0.4259871568056976,
          0.4258922112238378,
          0.6876423879189154,
          0.6834088686613125,
          0.3837048755403746,
          0.4103460276111279,
          0.6561884039702421,
          0.24516491214655386,
          0.5940390898268204,
          0.6736042608901008,
          0.2500424269500061,
          0.65950683045667,
          0.26891219582929987,
          0.2500424269500061,
          0.2486383869703928,
          0.6677464593496534,
          0.20533241921728992,
          0.652142809005801,
          0.3756233336624864,
          0.6596202005541382,
          0.6637856487166215,
          0.6636853869181021,
          0.6677351806134649,
          0.6478272487355932,
          0.6738247787837366,
          0.6282239492847939,
          0.675527971518987,
          0.4726054326096373,
          0.6159468832089281,
          0.6360305737437284,
          0.4629818887976881,
          0.47902974918122954,
          0.45733186298407463,
          0.43174182302495884,
          0.46998810403428404,
          0.4369236092013546,
          0.4700477134392364,
          0.5133439920740779,
          0.4607559283196189,
          0.5266027259785564,
          0.5297998151945521,
          0.6508760889659617,
          0.6116874598843011,
          0.5636563813582224,
          0.5597511147877974,
          0.5279637805034062,
          0.5105793163716428,
          0.6545760815892951,
          0.6702832256312722,
          0.6683238967895906,
          0.6635929400189888,
          0.6743600374255642,
          0.664985858642264,
          0.6511896782717846,
          0.6392747593423792,
          0.6392747593423792,
          0.6536498506920372,
          0.6353146665116005,
          0.6419047452865424,
          0.6662867858715448,
          0.6732552472675962,
          0.6386060578464338,
          0.6513819928787405,
          0.3660863909326527,
          0.4341401994038442,
          0.39723756665663956,
          0.6506248815639214,
          0.6565945617502315,
          0.34027042889667747,
          0.6242373961724691,
          0.27463971965176354,
          0.31307224185440835,
          0.6526066629968181,
          0.6221359479965163,
          0.696570597495554,
          0.6895558802189276,
          0.6441176020207562,
          0.5916150313179867,
          0.6401070740225441,
          0.6831335618424084,
          0.5828550291725377,
          0.6432907208709043,
          0.6690826266249137,
          0.37614054916044976,
          0.5803837222935788,
          0.5943941409958458,
          0.5552864034831481,
          0.6522434633362444,
          0.6820500017118214,
          0.5915722061860188,
          0.5651792114695341,
          0.6601924709277649,
          0.5888208498491916,
          0.6051059743492884,
          0.6073458604792259,
          0.5736638056024724,
          0.5921235695487359,
          0.6116975521346185,
          0.6441683130452421,
          0.6640568604010249,
          0.6562298990036342,
          0.6435491957440308,
          0.537711068841922,
          0.5281010599335924,
          0.5944606931529837,
          0.6415550755548322,
          0.6197867360050241,
          0.5795159044227925,
          0.6282746626319462,
          0.6335808580765139,
          0.6647303646361575,
          0.6482632407296018,
          0.6389965643047759,
          0.6388114958644792,
          0.68384921769421,
          0.6283750494382982,
          0.6107789426949267,
          0.6344693243845225,
          0.6573283843908849,
          0.6344063049902025,
          0.6490169539407418,
          0.6239798466307236,
          0.6356249826285537,
          0.6119188242583803,
          0.579534769982665,
          0.3767612027724988,
          0.480816806964193,
          0.39889644232769955,
          0.5742262240321501,
          0.6216731215468796,
          0.4120270089631449,
          0.5740988286140245,
          0.6586312444323774,
          0.42236278801838656,
          0.5502511318086366,
          0.4581338177906439,
          0.5050909726538387,
          0.5511994364454654,
          0.6562399318217913,
          0.5753637438912379,
          0.6714475027543273,
          0.5424720990146076,
          0.6592451319394861,
          0.5013595666265782,
          0.6371250074193141,
          0.6617393469455104,
          0.6707710030176154,
          0.6694630004870026,
          0.6558740456836467,
          0.6608976691763925,
          0.6628834979930489,
          0.574399756789318,
          0.6534063689990693,
          0.6382331111065654,
          0.5979047619047618,
          0.6484677261415552,
          0.6566699156136799,
          0.6040793650793651,
          0.6087799959784772,
          0.6448638621211582,
          0.6146935937576854,
          0.5970952380952381,
          0.6302764775702536,
          0.6401522013001295,
          0.6265179008227266,
          0.6551164088991811,
          0.6550318692248568,
          0.6495350063423159,
          0.6587803393057705,
          0.6825831741690533,
          0.6661152580822504,
          0.6605867041693502,
          0.6510071408043011,
          0.6683871867527096,
          0.6545565584061822,
          0.6560239938786492,
          0.6629904113704856,
          0.6694913089986227,
          0.6343481976342504,
          0.6573303719324769,
          0.6528172260433219,
          0.640192991791705,
          0.653937731083271,
          0.629945250120387,
          0.6544378090868493,
          0.6325090851116517,
          0.41177110482502977,
          0.6564682846962115,
          0.6549971237217942,
          0.6389333993520241,
          0.677685591020815,
          0.6395741220070634,
          0.39145194852910475,
          0.6811865768666469,
          0.6753170564811419,
          0.6745369245293867,
          0.4238700058459767,
          0.6213798734103226,
          0.3523981234065609,
          0.6490333463872366,
          0.379954747991109,
          0.6085493533275057,
          0.6383955849219007,
          0.6526086192666034,
          0.6667552063113485,
          0.6471034706577135,
          0.45186420726677656,
          0.6737569002695643,
          0.4672978545438918,
          0.5997373798749539,
          0.534259074511908,
          0.5041360764471736,
          0.48535819999875063,
          0.46238515746519415,
          0.6621789244013738,
          0.5600496963404968,
          0.5789428146299896,
          0.5710473759654932,
          0.5826096529324392,
          0.6393994762871108,
          0.6319732714370121,
          0.5575117253186118,
          0.4452619066923531,
          0.42072189422522654,
          0.4112121422709915,
          0.5415954150219354,
          0.37592099070665114,
          0.4515191499003725,
          0.4256513429461206,
          0.6339614265086002,
          0.418811821642558,
          0.4838506901730676,
          0.6631066631011341,
          0.6849514006757661,
          0.6676015457359389,
          0.6737287003147883,
          0.644614194478099,
          0.6546442572272555,
          0.6493107911901579,
          0.6822629549975401,
          0.5794309828383716,
          0.58712266370001,
          0.6213168692020025,
          0.5760558088234012,
          0.6444943994791207,
          0.6450613359857151,
          0.6149299075147819,
          0.627189560267777,
          0.6188184012938455,
          0.571124623471147,
          0.6219930357474449,
          0.6905579935173087,
          0.6638908388405127,
          0.6752814302048634,
          0.6695841356852122,
          0.6672483884554472,
          0.6069487470173238,
          0.6596591189586596,
          0.6513507619184222,
          0.6504972147868199,
          0.3575448961932957,
          0.6462138085810415,
          0.4544747164159412,
          0.26916805373761943,
          0.6610247623484797,
          0.6376177834266563,
          0.13160197105289204,
          0.6637624381719758,
          0.5663021074014678,
          0.6552033108585892,
          0.5534497622861493,
          0.36392318751026387,
          0.6722663702206991,
          0.666998235746936,
          0.6320908277463715,
          0.6669640432447781,
          0.6400365572504005,
          0.6724639199935425,
          0.6411372966590706,
          0.6694861395914027,
          0.6464063219757851,
          0.652312939712236,
          0.5525459297676246,
          0.48775775919560865,
          0.5556750114385214,
          0.6833126380760959,
          0.6649221803980916,
          0.4884368053849676,
          0.6748178220571353,
          0.4998292729900471,
          0.44685341350540114,
          0.4493943626570826,
          0.5022856463431317,
          0.4769414888861652,
          0.6612117304762442,
          0.6394093835643206,
          0.6538892508862635,
          0.6658211144662515,
          0.6450339181695479,
          0.6213455842636878,
          0.6269106395540966,
          0.6436447832700087,
          0.6711199634695577,
          0.6648665034184009,
          0.653637847532566,
          0.6610171385715141
         ]
        },
        {
         "mode": "lines",
         "name": "Best Value",
         "type": "scatter",
         "x": [
          0,
          1,
          2,
          3,
          4,
          5,
          6,
          7,
          8,
          9,
          10,
          11,
          12,
          13,
          14,
          15,
          16,
          17,
          18,
          19,
          20,
          21,
          22,
          23,
          24,
          25,
          26,
          27,
          28,
          29,
          30,
          31,
          32,
          33,
          34,
          35,
          36,
          37,
          38,
          39,
          40,
          41,
          42,
          43,
          44,
          45,
          46,
          47,
          48,
          49,
          50,
          51,
          52,
          53,
          54,
          55,
          56,
          57,
          58,
          59,
          60,
          61,
          62,
          63,
          64,
          65,
          66,
          67,
          68,
          69,
          70,
          71,
          72,
          73,
          74,
          75,
          76,
          77,
          78,
          79,
          80,
          81,
          82,
          83,
          84,
          85,
          86,
          87,
          88,
          89,
          90,
          91,
          92,
          93,
          94,
          95,
          96,
          97,
          98,
          99,
          100,
          101,
          102,
          103,
          104,
          105,
          106,
          107,
          108,
          109,
          110,
          111,
          112,
          113,
          114,
          115,
          116,
          117,
          118,
          119,
          120,
          121,
          122,
          123,
          124,
          125,
          126,
          127,
          128,
          129,
          130,
          131,
          132,
          133,
          134,
          135,
          136,
          137,
          138,
          139,
          140,
          141,
          142,
          143,
          144,
          145,
          146,
          147,
          148,
          149,
          150,
          151,
          152,
          153,
          154,
          155,
          156,
          157,
          158,
          159,
          160,
          161,
          162,
          163,
          164,
          165,
          166,
          167,
          168,
          169,
          170,
          171,
          172,
          173,
          174,
          175,
          176,
          177,
          178,
          179,
          180,
          181,
          182,
          183,
          184,
          185,
          186,
          187,
          188,
          189,
          190,
          191,
          192,
          193,
          194,
          195,
          196,
          197,
          198,
          199,
          200,
          201,
          202,
          203,
          204,
          205,
          206,
          207,
          208,
          209,
          210,
          211,
          212,
          213,
          214,
          215,
          216,
          217,
          218,
          219,
          220,
          221,
          222,
          223,
          224,
          225,
          226,
          227,
          228,
          229,
          230,
          231,
          232,
          233,
          234,
          235,
          236,
          237,
          238,
          239,
          240,
          241,
          242,
          243,
          244,
          245,
          246,
          247,
          248,
          249,
          250,
          251,
          252,
          253,
          254,
          255,
          256,
          257,
          258,
          259,
          260,
          261,
          262,
          263,
          264,
          265,
          266,
          267,
          268,
          269,
          270,
          271,
          272,
          273,
          274,
          275,
          276,
          277,
          278,
          279,
          280,
          281,
          282,
          283,
          284,
          285,
          286,
          287,
          288,
          289,
          290,
          291,
          292,
          293,
          294,
          295,
          296,
          297,
          298,
          299,
          300,
          301,
          302,
          303,
          304,
          305,
          306,
          307,
          308,
          309,
          310,
          311,
          312,
          313,
          314,
          315,
          316,
          317,
          318,
          319,
          320,
          321,
          322,
          323,
          324,
          325,
          326,
          327,
          328,
          329,
          330,
          331,
          332,
          333,
          334,
          335,
          336,
          337,
          338,
          339,
          340,
          341,
          342,
          343,
          344,
          345,
          346,
          347,
          348,
          349,
          350,
          351,
          352,
          353,
          354,
          355,
          356,
          357,
          358,
          359,
          360,
          361,
          362,
          363,
          364,
          365,
          366,
          367,
          368,
          369,
          370,
          371,
          372,
          373,
          374,
          375,
          376,
          377,
          378,
          379,
          380,
          381,
          382,
          383,
          384,
          385,
          386,
          387,
          388,
          389,
          390,
          391,
          392,
          393,
          394,
          395,
          396,
          397,
          398,
          399,
          400,
          401,
          402,
          403,
          404,
          405,
          406,
          407,
          408,
          409,
          410,
          411,
          412,
          413,
          414,
          415,
          416,
          417,
          418,
          419,
          420,
          421,
          422,
          423,
          424,
          425,
          426,
          427,
          428,
          429,
          430,
          431,
          432,
          433,
          434,
          435,
          436,
          437,
          438,
          439,
          440,
          441,
          442,
          443,
          444,
          445,
          446,
          447,
          448,
          449,
          450,
          451,
          452,
          453,
          454,
          455,
          456,
          457,
          458,
          459,
          460,
          461,
          462,
          463,
          464,
          465,
          466,
          467,
          468,
          469,
          470,
          471,
          472,
          473,
          474,
          475,
          476,
          477,
          478,
          479,
          480,
          481,
          482,
          483,
          484,
          485,
          486,
          487,
          488,
          489,
          490,
          491,
          492,
          493,
          494,
          495,
          496,
          497,
          498,
          499,
          500,
          501,
          502,
          503,
          504,
          505,
          506,
          507,
          508,
          509,
          510,
          511,
          512,
          513,
          514,
          515,
          516,
          517,
          518,
          519,
          520,
          521,
          522,
          523,
          524,
          525,
          526,
          527,
          528,
          529,
          530,
          531,
          532,
          533,
          534,
          535,
          536,
          537,
          538,
          539,
          540,
          541,
          542,
          543,
          544,
          545,
          546,
          547,
          548,
          549,
          550,
          551,
          552,
          553,
          554,
          555,
          556,
          557,
          558,
          559,
          560,
          561,
          562,
          563,
          564,
          565,
          566,
          567,
          568,
          569,
          570,
          571,
          572,
          573,
          574,
          575,
          576,
          577,
          578,
          579,
          580,
          581,
          582,
          583,
          584,
          585,
          586,
          587,
          588,
          589,
          590,
          591,
          592,
          593,
          594,
          595,
          596,
          597,
          598,
          599
         ],
         "y": [
          0.15118310553771422,
          0.543566628436912,
          0.543566628436912,
          0.543566628436912,
          0.543566628436912,
          0.543566628436912,
          0.543566628436912,
          0.543566628436912,
          0.543566628436912,
          0.5888004875217078,
          0.5888004875217078,
          0.5888004875217078,
          0.5888004875217078,
          0.5888004875217078,
          0.5888004875217078,
          0.5888004875217078,
          0.5888004875217078,
          0.5888004875217078,
          0.5888004875217078,
          0.5888004875217078,
          0.5888004875217078,
          0.5888004875217078,
          0.5888004875217078,
          0.5888004875217078,
          0.5888004875217078,
          0.5888004875217078,
          0.5888004875217078,
          0.5888004875217078,
          0.5888004875217078,
          0.5888004875217078,
          0.5888004875217078,
          0.5888004875217078,
          0.5888004875217078,
          0.5888004875217078,
          0.5888004875217078,
          0.5888004875217078,
          0.5888004875217078,
          0.5888004875217078,
          0.5888004875217078,
          0.5888004875217078,
          0.5888004875217078,
          0.5888004875217078,
          0.5888004875217078,
          0.5888004875217078,
          0.5888004875217078,
          0.5888004875217078,
          0.5888004875217078,
          0.6102266825163194,
          0.6102266825163194,
          0.6102266825163194,
          0.6102266825163194,
          0.6102266825163194,
          0.6102266825163194,
          0.6102266825163194,
          0.6102266825163194,
          0.6102266825163194,
          0.6102266825163194,
          0.6102266825163194,
          0.6102266825163194,
          0.6102266825163194,
          0.6102266825163194,
          0.6102266825163194,
          0.616231255208599,
          0.616231255208599,
          0.6278255938233428,
          0.6332961370116392,
          0.6332961370116392,
          0.6332961370116392,
          0.6332961370116392,
          0.6332961370116392,
          0.6332961370116392,
          0.6332961370116392,
          0.6332961370116392,
          0.6332961370116392,
          0.6332961370116392,
          0.6332961370116392,
          0.6332961370116392,
          0.6332961370116392,
          0.6332961370116392,
          0.6332961370116392,
          0.6332961370116392,
          0.6332961370116392,
          0.6332961370116392,
          0.6332961370116392,
          0.6332961370116392,
          0.6332961370116392,
          0.6332961370116392,
          0.6332961370116392,
          0.6332961370116392,
          0.6332961370116392,
          0.6332961370116392,
          0.6332961370116392,
          0.6332961370116392,
          0.6332961370116392,
          0.6332961370116392,
          0.6332961370116392,
          0.6332961370116392,
          0.6332961370116392,
          0.6332961370116392,
          0.6332961370116392,
          0.6332961370116392,
          0.6332961370116392,
          0.6332961370116392,
          0.6332961370116392,
          0.6332961370116392,
          0.6332961370116392,
          0.6332961370116392,
          0.6332961370116392,
          0.6332961370116392,
          0.6332961370116392,
          0.6332961370116392,
          0.6332961370116392,
          0.6332961370116392,
          0.6332961370116392,
          0.6332961370116392,
          0.6332961370116392,
          0.6332961370116392,
          0.6332961370116392,
          0.6332961370116392,
          0.6332961370116392,
          0.6332961370116392,
          0.6332961370116392,
          0.6332961370116392,
          0.6332961370116392,
          0.6332961370116392,
          0.6332961370116392,
          0.6332961370116392,
          0.6332961370116392,
          0.6332961370116392,
          0.6332961370116392,
          0.6332961370116392,
          0.6332961370116392,
          0.6332961370116392,
          0.6697121779249139,
          0.6697121779249139,
          0.6756877119248998,
          0.6756877119248998,
          0.6756877119248998,
          0.6756877119248998,
          0.6756877119248998,
          0.6756877119248998,
          0.6756877119248998,
          0.6756877119248998,
          0.6756877119248998,
          0.6756877119248998,
          0.6756877119248998,
          0.6756877119248998,
          0.6756877119248998,
          0.6756877119248998,
          0.6756877119248998,
          0.6756877119248998,
          0.6756877119248998,
          0.6756877119248998,
          0.6797709007063372,
          0.6797709007063372,
          0.6797709007063372,
          0.6797709007063372,
          0.6797709007063372,
          0.6797709007063372,
          0.6797709007063372,
          0.6797709007063372,
          0.6797709007063372,
          0.6797709007063372,
          0.6797709007063372,
          0.6797709007063372,
          0.6797709007063372,
          0.6797709007063372,
          0.6797709007063372,
          0.6797709007063372,
          0.6797709007063372,
          0.6857115978023632,
          0.6857115978023632,
          0.6857115978023632,
          0.6857115978023632,
          0.6857115978023632,
          0.6857115978023632,
          0.6857115978023632,
          0.6857115978023632,
          0.6857115978023632,
          0.6857115978023632,
          0.6857115978023632,
          0.6857115978023632,
          0.6857115978023632,
          0.6857115978023632,
          0.6857115978023632,
          0.6857115978023632,
          0.6857115978023632,
          0.6857115978023632,
          0.6857115978023632,
          0.6857115978023632,
          0.6857115978023632,
          0.6857115978023632,
          0.6857115978023632,
          0.6857115978023632,
          0.6857115978023632,
          0.6857115978023632,
          0.6857115978023632,
          0.6857115978023632,
          0.6857115978023632,
          0.6857115978023632,
          0.6857115978023632,
          0.6857115978023632,
          0.6857115978023632,
          0.6857115978023632,
          0.6857115978023632,
          0.6857115978023632,
          0.6857115978023632,
          0.6857115978023632,
          0.6857115978023632,
          0.6857115978023632,
          0.6857115978023632,
          0.6857115978023632,
          0.6857115978023632,
          0.6857115978023632,
          0.6857115978023632,
          0.6857115978023632,
          0.6857115978023632,
          0.6857115978023632,
          0.6857115978023632,
          0.6857115978023632,
          0.6857115978023632,
          0.6857115978023632,
          0.6857115978023632,
          0.6857115978023632,
          0.6857115978023632,
          0.6857115978023632,
          0.6857115978023632,
          0.6857115978023632,
          0.6857115978023632,
          0.6857115978023632,
          0.6857115978023632,
          0.6857115978023632,
          0.6857115978023632,
          0.6857115978023632,
          0.6857115978023632,
          0.6857115978023632,
          0.6857115978023632,
          0.6857115978023632,
          0.6857115978023632,
          0.6857115978023632,
          0.6857115978023632,
          0.6857115978023632,
          0.6857115978023632,
          0.6857115978023632,
          0.6857115978023632,
          0.6857115978023632,
          0.6857115978023632,
          0.6857115978023632,
          0.6857115978023632,
          0.6857115978023632,
          0.6857115978023632,
          0.6857115978023632,
          0.6857115978023632,
          0.6857115978023632,
          0.6857115978023632,
          0.6857115978023632,
          0.6857115978023632,
          0.6857115978023632,
          0.6857115978023632,
          0.6857115978023632,
          0.6857115978023632,
          0.6857115978023632,
          0.6857115978023632,
          0.6857115978023632,
          0.6857115978023632,
          0.6857115978023632,
          0.6857115978023632,
          0.6857115978023632,
          0.6857115978023632,
          0.6857115978023632,
          0.6857115978023632,
          0.6857115978023632,
          0.6857115978023632,
          0.6857115978023632,
          0.6857115978023632,
          0.6857115978023632,
          0.6857115978023632,
          0.6857115978023632,
          0.6857115978023632,
          0.6857115978023632,
          0.6857115978023632,
          0.6857115978023632,
          0.6857115978023632,
          0.6857115978023632,
          0.6857115978023632,
          0.6857115978023632,
          0.6857115978023632,
          0.6857115978023632,
          0.6857115978023632,
          0.6857115978023632,
          0.6857115978023632,
          0.6857115978023632,
          0.6857115978023632,
          0.6857115978023632,
          0.6857115978023632,
          0.6857115978023632,
          0.6876423879189154,
          0.6876423879189154,
          0.6876423879189154,
          0.6876423879189154,
          0.6876423879189154,
          0.6876423879189154,
          0.6876423879189154,
          0.6876423879189154,
          0.6876423879189154,
          0.6876423879189154,
          0.6876423879189154,
          0.6876423879189154,
          0.6876423879189154,
          0.6876423879189154,
          0.6876423879189154,
          0.6876423879189154,
          0.6876423879189154,
          0.6876423879189154,
          0.6876423879189154,
          0.6876423879189154,
          0.6876423879189154,
          0.6876423879189154,
          0.6876423879189154,
          0.6876423879189154,
          0.6876423879189154,
          0.6876423879189154,
          0.6876423879189154,
          0.6876423879189154,
          0.6876423879189154,
          0.6876423879189154,
          0.6876423879189154,
          0.6876423879189154,
          0.6876423879189154,
          0.6876423879189154,
          0.6876423879189154,
          0.6876423879189154,
          0.6876423879189154,
          0.6876423879189154,
          0.6876423879189154,
          0.6876423879189154,
          0.6876423879189154,
          0.6876423879189154,
          0.6876423879189154,
          0.6876423879189154,
          0.6876423879189154,
          0.6876423879189154,
          0.6876423879189154,
          0.6876423879189154,
          0.6876423879189154,
          0.6876423879189154,
          0.6876423879189154,
          0.6876423879189154,
          0.6876423879189154,
          0.6876423879189154,
          0.6876423879189154,
          0.6876423879189154,
          0.6876423879189154,
          0.6876423879189154,
          0.6876423879189154,
          0.6876423879189154,
          0.6876423879189154,
          0.6876423879189154,
          0.6876423879189154,
          0.6876423879189154,
          0.6876423879189154,
          0.6876423879189154,
          0.6876423879189154,
          0.6876423879189154,
          0.6876423879189154,
          0.6876423879189154,
          0.6876423879189154,
          0.6876423879189154,
          0.696570597495554,
          0.696570597495554,
          0.696570597495554,
          0.696570597495554,
          0.696570597495554,
          0.696570597495554,
          0.696570597495554,
          0.696570597495554,
          0.696570597495554,
          0.696570597495554,
          0.696570597495554,
          0.696570597495554,
          0.696570597495554,
          0.696570597495554,
          0.696570597495554,
          0.696570597495554,
          0.696570597495554,
          0.696570597495554,
          0.696570597495554,
          0.696570597495554,
          0.696570597495554,
          0.696570597495554,
          0.696570597495554,
          0.696570597495554,
          0.696570597495554,
          0.696570597495554,
          0.696570597495554,
          0.696570597495554,
          0.696570597495554,
          0.696570597495554,
          0.696570597495554,
          0.696570597495554,
          0.696570597495554,
          0.696570597495554,
          0.696570597495554,
          0.696570597495554,
          0.696570597495554,
          0.696570597495554,
          0.696570597495554,
          0.696570597495554,
          0.696570597495554,
          0.696570597495554,
          0.696570597495554,
          0.696570597495554,
          0.696570597495554,
          0.696570597495554,
          0.696570597495554,
          0.696570597495554,
          0.696570597495554,
          0.696570597495554,
          0.696570597495554,
          0.696570597495554,
          0.696570597495554,
          0.696570597495554,
          0.696570597495554,
          0.696570597495554,
          0.696570597495554,
          0.696570597495554,
          0.696570597495554,
          0.696570597495554,
          0.696570597495554,
          0.696570597495554,
          0.696570597495554,
          0.696570597495554,
          0.696570597495554,
          0.696570597495554,
          0.696570597495554,
          0.696570597495554,
          0.696570597495554,
          0.696570597495554,
          0.696570597495554,
          0.696570597495554,
          0.696570597495554,
          0.696570597495554,
          0.696570597495554,
          0.696570597495554,
          0.696570597495554,
          0.696570597495554,
          0.696570597495554,
          0.696570597495554,
          0.696570597495554,
          0.696570597495554,
          0.696570597495554,
          0.696570597495554,
          0.696570597495554,
          0.696570597495554,
          0.696570597495554,
          0.696570597495554,
          0.696570597495554,
          0.696570597495554,
          0.696570597495554,
          0.696570597495554,
          0.696570597495554,
          0.696570597495554,
          0.696570597495554,
          0.696570597495554,
          0.696570597495554,
          0.696570597495554,
          0.696570597495554,
          0.696570597495554,
          0.696570597495554,
          0.696570597495554,
          0.696570597495554,
          0.696570597495554,
          0.696570597495554,
          0.696570597495554,
          0.696570597495554,
          0.696570597495554,
          0.696570597495554,
          0.696570597495554,
          0.696570597495554,
          0.696570597495554,
          0.696570597495554,
          0.696570597495554,
          0.696570597495554,
          0.696570597495554,
          0.696570597495554,
          0.696570597495554,
          0.696570597495554,
          0.696570597495554,
          0.696570597495554,
          0.696570597495554,
          0.696570597495554,
          0.696570597495554,
          0.696570597495554,
          0.696570597495554,
          0.696570597495554,
          0.696570597495554,
          0.696570597495554,
          0.696570597495554,
          0.696570597495554,
          0.696570597495554,
          0.696570597495554,
          0.696570597495554,
          0.696570597495554,
          0.696570597495554,
          0.696570597495554,
          0.696570597495554,
          0.696570597495554,
          0.696570597495554,
          0.696570597495554,
          0.696570597495554,
          0.696570597495554,
          0.696570597495554,
          0.696570597495554,
          0.696570597495554,
          0.696570597495554,
          0.696570597495554,
          0.696570597495554,
          0.696570597495554,
          0.696570597495554,
          0.696570597495554,
          0.696570597495554,
          0.696570597495554,
          0.696570597495554,
          0.696570597495554,
          0.696570597495554,
          0.696570597495554,
          0.696570597495554,
          0.696570597495554,
          0.696570597495554,
          0.696570597495554,
          0.696570597495554,
          0.696570597495554,
          0.696570597495554,
          0.696570597495554,
          0.696570597495554,
          0.696570597495554,
          0.696570597495554,
          0.696570597495554,
          0.696570597495554,
          0.696570597495554,
          0.696570597495554,
          0.696570597495554,
          0.696570597495554,
          0.696570597495554,
          0.696570597495554,
          0.696570597495554,
          0.696570597495554,
          0.696570597495554,
          0.696570597495554,
          0.696570597495554,
          0.696570597495554,
          0.696570597495554,
          0.696570597495554,
          0.696570597495554,
          0.696570597495554,
          0.696570597495554,
          0.696570597495554,
          0.696570597495554,
          0.696570597495554,
          0.696570597495554,
          0.696570597495554,
          0.696570597495554,
          0.696570597495554,
          0.696570597495554,
          0.696570597495554,
          0.696570597495554,
          0.696570597495554,
          0.696570597495554,
          0.696570597495554,
          0.696570597495554,
          0.696570597495554,
          0.696570597495554,
          0.696570597495554,
          0.696570597495554,
          0.696570597495554,
          0.696570597495554,
          0.696570597495554,
          0.696570597495554,
          0.696570597495554,
          0.696570597495554,
          0.696570597495554,
          0.696570597495554,
          0.696570597495554,
          0.696570597495554,
          0.696570597495554,
          0.696570597495554,
          0.696570597495554,
          0.696570597495554,
          0.696570597495554,
          0.696570597495554,
          0.696570597495554,
          0.696570597495554,
          0.696570597495554,
          0.696570597495554,
          0.696570597495554,
          0.696570597495554,
          0.696570597495554,
          0.696570597495554,
          0.696570597495554,
          0.696570597495554
         ]
        },
        {
         "marker": {
          "color": "#cccccc"
         },
         "mode": "markers",
         "name": "Infeasible Trial",
         "showlegend": false,
         "type": "scatter",
         "x": [],
         "y": []
        }
       ],
       "layout": {
        "template": {
         "data": {
          "bar": [
           {
            "error_x": {
             "color": "#2a3f5f"
            },
            "error_y": {
             "color": "#2a3f5f"
            },
            "marker": {
             "line": {
              "color": "#E5ECF6",
              "width": 0.5
             },
             "pattern": {
              "fillmode": "overlay",
              "size": 10,
              "solidity": 0.2
             }
            },
            "type": "bar"
           }
          ],
          "barpolar": [
           {
            "marker": {
             "line": {
              "color": "#E5ECF6",
              "width": 0.5
             },
             "pattern": {
              "fillmode": "overlay",
              "size": 10,
              "solidity": 0.2
             }
            },
            "type": "barpolar"
           }
          ],
          "carpet": [
           {
            "aaxis": {
             "endlinecolor": "#2a3f5f",
             "gridcolor": "white",
             "linecolor": "white",
             "minorgridcolor": "white",
             "startlinecolor": "#2a3f5f"
            },
            "baxis": {
             "endlinecolor": "#2a3f5f",
             "gridcolor": "white",
             "linecolor": "white",
             "minorgridcolor": "white",
             "startlinecolor": "#2a3f5f"
            },
            "type": "carpet"
           }
          ],
          "choropleth": [
           {
            "colorbar": {
             "outlinewidth": 0,
             "ticks": ""
            },
            "type": "choropleth"
           }
          ],
          "contour": [
           {
            "colorbar": {
             "outlinewidth": 0,
             "ticks": ""
            },
            "colorscale": [
             [
              0,
              "#0d0887"
             ],
             [
              0.1111111111111111,
              "#46039f"
             ],
             [
              0.2222222222222222,
              "#7201a8"
             ],
             [
              0.3333333333333333,
              "#9c179e"
             ],
             [
              0.4444444444444444,
              "#bd3786"
             ],
             [
              0.5555555555555556,
              "#d8576b"
             ],
             [
              0.6666666666666666,
              "#ed7953"
             ],
             [
              0.7777777777777778,
              "#fb9f3a"
             ],
             [
              0.8888888888888888,
              "#fdca26"
             ],
             [
              1,
              "#f0f921"
             ]
            ],
            "type": "contour"
           }
          ],
          "contourcarpet": [
           {
            "colorbar": {
             "outlinewidth": 0,
             "ticks": ""
            },
            "type": "contourcarpet"
           }
          ],
          "heatmap": [
           {
            "colorbar": {
             "outlinewidth": 0,
             "ticks": ""
            },
            "colorscale": [
             [
              0,
              "#0d0887"
             ],
             [
              0.1111111111111111,
              "#46039f"
             ],
             [
              0.2222222222222222,
              "#7201a8"
             ],
             [
              0.3333333333333333,
              "#9c179e"
             ],
             [
              0.4444444444444444,
              "#bd3786"
             ],
             [
              0.5555555555555556,
              "#d8576b"
             ],
             [
              0.6666666666666666,
              "#ed7953"
             ],
             [
              0.7777777777777778,
              "#fb9f3a"
             ],
             [
              0.8888888888888888,
              "#fdca26"
             ],
             [
              1,
              "#f0f921"
             ]
            ],
            "type": "heatmap"
           }
          ],
          "heatmapgl": [
           {
            "colorbar": {
             "outlinewidth": 0,
             "ticks": ""
            },
            "colorscale": [
             [
              0,
              "#0d0887"
             ],
             [
              0.1111111111111111,
              "#46039f"
             ],
             [
              0.2222222222222222,
              "#7201a8"
             ],
             [
              0.3333333333333333,
              "#9c179e"
             ],
             [
              0.4444444444444444,
              "#bd3786"
             ],
             [
              0.5555555555555556,
              "#d8576b"
             ],
             [
              0.6666666666666666,
              "#ed7953"
             ],
             [
              0.7777777777777778,
              "#fb9f3a"
             ],
             [
              0.8888888888888888,
              "#fdca26"
             ],
             [
              1,
              "#f0f921"
             ]
            ],
            "type": "heatmapgl"
           }
          ],
          "histogram": [
           {
            "marker": {
             "pattern": {
              "fillmode": "overlay",
              "size": 10,
              "solidity": 0.2
             }
            },
            "type": "histogram"
           }
          ],
          "histogram2d": [
           {
            "colorbar": {
             "outlinewidth": 0,
             "ticks": ""
            },
            "colorscale": [
             [
              0,
              "#0d0887"
             ],
             [
              0.1111111111111111,
              "#46039f"
             ],
             [
              0.2222222222222222,
              "#7201a8"
             ],
             [
              0.3333333333333333,
              "#9c179e"
             ],
             [
              0.4444444444444444,
              "#bd3786"
             ],
             [
              0.5555555555555556,
              "#d8576b"
             ],
             [
              0.6666666666666666,
              "#ed7953"
             ],
             [
              0.7777777777777778,
              "#fb9f3a"
             ],
             [
              0.8888888888888888,
              "#fdca26"
             ],
             [
              1,
              "#f0f921"
             ]
            ],
            "type": "histogram2d"
           }
          ],
          "histogram2dcontour": [
           {
            "colorbar": {
             "outlinewidth": 0,
             "ticks": ""
            },
            "colorscale": [
             [
              0,
              "#0d0887"
             ],
             [
              0.1111111111111111,
              "#46039f"
             ],
             [
              0.2222222222222222,
              "#7201a8"
             ],
             [
              0.3333333333333333,
              "#9c179e"
             ],
             [
              0.4444444444444444,
              "#bd3786"
             ],
             [
              0.5555555555555556,
              "#d8576b"
             ],
             [
              0.6666666666666666,
              "#ed7953"
             ],
             [
              0.7777777777777778,
              "#fb9f3a"
             ],
             [
              0.8888888888888888,
              "#fdca26"
             ],
             [
              1,
              "#f0f921"
             ]
            ],
            "type": "histogram2dcontour"
           }
          ],
          "mesh3d": [
           {
            "colorbar": {
             "outlinewidth": 0,
             "ticks": ""
            },
            "type": "mesh3d"
           }
          ],
          "parcoords": [
           {
            "line": {
             "colorbar": {
              "outlinewidth": 0,
              "ticks": ""
             }
            },
            "type": "parcoords"
           }
          ],
          "pie": [
           {
            "automargin": true,
            "type": "pie"
           }
          ],
          "scatter": [
           {
            "fillpattern": {
             "fillmode": "overlay",
             "size": 10,
             "solidity": 0.2
            },
            "type": "scatter"
           }
          ],
          "scatter3d": [
           {
            "line": {
             "colorbar": {
              "outlinewidth": 0,
              "ticks": ""
             }
            },
            "marker": {
             "colorbar": {
              "outlinewidth": 0,
              "ticks": ""
             }
            },
            "type": "scatter3d"
           }
          ],
          "scattercarpet": [
           {
            "marker": {
             "colorbar": {
              "outlinewidth": 0,
              "ticks": ""
             }
            },
            "type": "scattercarpet"
           }
          ],
          "scattergeo": [
           {
            "marker": {
             "colorbar": {
              "outlinewidth": 0,
              "ticks": ""
             }
            },
            "type": "scattergeo"
           }
          ],
          "scattergl": [
           {
            "marker": {
             "colorbar": {
              "outlinewidth": 0,
              "ticks": ""
             }
            },
            "type": "scattergl"
           }
          ],
          "scattermapbox": [
           {
            "marker": {
             "colorbar": {
              "outlinewidth": 0,
              "ticks": ""
             }
            },
            "type": "scattermapbox"
           }
          ],
          "scatterpolar": [
           {
            "marker": {
             "colorbar": {
              "outlinewidth": 0,
              "ticks": ""
             }
            },
            "type": "scatterpolar"
           }
          ],
          "scatterpolargl": [
           {
            "marker": {
             "colorbar": {
              "outlinewidth": 0,
              "ticks": ""
             }
            },
            "type": "scatterpolargl"
           }
          ],
          "scatterternary": [
           {
            "marker": {
             "colorbar": {
              "outlinewidth": 0,
              "ticks": ""
             }
            },
            "type": "scatterternary"
           }
          ],
          "surface": [
           {
            "colorbar": {
             "outlinewidth": 0,
             "ticks": ""
            },
            "colorscale": [
             [
              0,
              "#0d0887"
             ],
             [
              0.1111111111111111,
              "#46039f"
             ],
             [
              0.2222222222222222,
              "#7201a8"
             ],
             [
              0.3333333333333333,
              "#9c179e"
             ],
             [
              0.4444444444444444,
              "#bd3786"
             ],
             [
              0.5555555555555556,
              "#d8576b"
             ],
             [
              0.6666666666666666,
              "#ed7953"
             ],
             [
              0.7777777777777778,
              "#fb9f3a"
             ],
             [
              0.8888888888888888,
              "#fdca26"
             ],
             [
              1,
              "#f0f921"
             ]
            ],
            "type": "surface"
           }
          ],
          "table": [
           {
            "cells": {
             "fill": {
              "color": "#EBF0F8"
             },
             "line": {
              "color": "white"
             }
            },
            "header": {
             "fill": {
              "color": "#C8D4E3"
             },
             "line": {
              "color": "white"
             }
            },
            "type": "table"
           }
          ]
         },
         "layout": {
          "annotationdefaults": {
           "arrowcolor": "#2a3f5f",
           "arrowhead": 0,
           "arrowwidth": 1
          },
          "autotypenumbers": "strict",
          "coloraxis": {
           "colorbar": {
            "outlinewidth": 0,
            "ticks": ""
           }
          },
          "colorscale": {
           "diverging": [
            [
             0,
             "#8e0152"
            ],
            [
             0.1,
             "#c51b7d"
            ],
            [
             0.2,
             "#de77ae"
            ],
            [
             0.3,
             "#f1b6da"
            ],
            [
             0.4,
             "#fde0ef"
            ],
            [
             0.5,
             "#f7f7f7"
            ],
            [
             0.6,
             "#e6f5d0"
            ],
            [
             0.7,
             "#b8e186"
            ],
            [
             0.8,
             "#7fbc41"
            ],
            [
             0.9,
             "#4d9221"
            ],
            [
             1,
             "#276419"
            ]
           ],
           "sequential": [
            [
             0,
             "#0d0887"
            ],
            [
             0.1111111111111111,
             "#46039f"
            ],
            [
             0.2222222222222222,
             "#7201a8"
            ],
            [
             0.3333333333333333,
             "#9c179e"
            ],
            [
             0.4444444444444444,
             "#bd3786"
            ],
            [
             0.5555555555555556,
             "#d8576b"
            ],
            [
             0.6666666666666666,
             "#ed7953"
            ],
            [
             0.7777777777777778,
             "#fb9f3a"
            ],
            [
             0.8888888888888888,
             "#fdca26"
            ],
            [
             1,
             "#f0f921"
            ]
           ],
           "sequentialminus": [
            [
             0,
             "#0d0887"
            ],
            [
             0.1111111111111111,
             "#46039f"
            ],
            [
             0.2222222222222222,
             "#7201a8"
            ],
            [
             0.3333333333333333,
             "#9c179e"
            ],
            [
             0.4444444444444444,
             "#bd3786"
            ],
            [
             0.5555555555555556,
             "#d8576b"
            ],
            [
             0.6666666666666666,
             "#ed7953"
            ],
            [
             0.7777777777777778,
             "#fb9f3a"
            ],
            [
             0.8888888888888888,
             "#fdca26"
            ],
            [
             1,
             "#f0f921"
            ]
           ]
          },
          "colorway": [
           "#636efa",
           "#EF553B",
           "#00cc96",
           "#ab63fa",
           "#FFA15A",
           "#19d3f3",
           "#FF6692",
           "#B6E880",
           "#FF97FF",
           "#FECB52"
          ],
          "font": {
           "color": "#2a3f5f"
          },
          "geo": {
           "bgcolor": "white",
           "lakecolor": "white",
           "landcolor": "#E5ECF6",
           "showlakes": true,
           "showland": true,
           "subunitcolor": "white"
          },
          "hoverlabel": {
           "align": "left"
          },
          "hovermode": "closest",
          "mapbox": {
           "style": "light"
          },
          "paper_bgcolor": "white",
          "plot_bgcolor": "#E5ECF6",
          "polar": {
           "angularaxis": {
            "gridcolor": "white",
            "linecolor": "white",
            "ticks": ""
           },
           "bgcolor": "#E5ECF6",
           "radialaxis": {
            "gridcolor": "white",
            "linecolor": "white",
            "ticks": ""
           }
          },
          "scene": {
           "xaxis": {
            "backgroundcolor": "#E5ECF6",
            "gridcolor": "white",
            "gridwidth": 2,
            "linecolor": "white",
            "showbackground": true,
            "ticks": "",
            "zerolinecolor": "white"
           },
           "yaxis": {
            "backgroundcolor": "#E5ECF6",
            "gridcolor": "white",
            "gridwidth": 2,
            "linecolor": "white",
            "showbackground": true,
            "ticks": "",
            "zerolinecolor": "white"
           },
           "zaxis": {
            "backgroundcolor": "#E5ECF6",
            "gridcolor": "white",
            "gridwidth": 2,
            "linecolor": "white",
            "showbackground": true,
            "ticks": "",
            "zerolinecolor": "white"
           }
          },
          "shapedefaults": {
           "line": {
            "color": "#2a3f5f"
           }
          },
          "ternary": {
           "aaxis": {
            "gridcolor": "white",
            "linecolor": "white",
            "ticks": ""
           },
           "baxis": {
            "gridcolor": "white",
            "linecolor": "white",
            "ticks": ""
           },
           "bgcolor": "#E5ECF6",
           "caxis": {
            "gridcolor": "white",
            "linecolor": "white",
            "ticks": ""
           }
          },
          "title": {
           "x": 0.05
          },
          "xaxis": {
           "automargin": true,
           "gridcolor": "white",
           "linecolor": "white",
           "ticks": "",
           "title": {
            "standoff": 15
           },
           "zerolinecolor": "white",
           "zerolinewidth": 2
          },
          "yaxis": {
           "automargin": true,
           "gridcolor": "white",
           "linecolor": "white",
           "ticks": "",
           "title": {
            "standoff": 15
           },
           "zerolinecolor": "white",
           "zerolinewidth": 2
          }
         }
        },
        "title": {
         "text": "Optimization History Plot"
        },
        "xaxis": {
         "title": {
          "text": "Trial"
         }
        },
        "yaxis": {
         "title": {
          "text": "Objective Value"
         }
        }
       }
      }
     },
     "metadata": {},
     "output_type": "display_data"
    }
   ],
   "source": [
    "from optuna.visualization import plot_optimization_history, plot_slice\n",
    "\n",
    "plot_optimization_history(study)"
   ]
  },
  {
   "cell_type": "code",
   "execution_count": null,
   "metadata": {},
   "outputs": [
    {
     "data": {
      "application/vnd.plotly.v1+json": {
       "config": {
        "plotlyServerURL": "https://plot.ly"
       },
       "data": [
        {
         "cliponaxis": false,
         "hovertemplate": [
          "smoothing (CategoricalDistribution): 0.011008181515277276<extra></extra>",
          "scaling (CategoricalDistribution): 0.023179462092345997<extra></extra>",
          "despike (CategoricalDistribution): 0.02753143133968963<extra></extra>",
          "baseline_correct (CategoricalDistribution): 0.06573023649271814<extra></extra>",
          "pagerank_cutoff (FloatDistribution): 0.26201631145378024<extra></extra>",
          "classifier (CategoricalDistribution): 0.6105343771061887<extra></extra>"
         ],
         "name": "Objective Value",
         "orientation": "h",
         "text": [
          "0.01",
          "0.02",
          "0.03",
          "0.07",
          "0.26",
          "0.61"
         ],
         "textposition": "outside",
         "type": "bar",
         "x": [
          0.011008181515277276,
          0.023179462092345997,
          0.02753143133968963,
          0.06573023649271814,
          0.26201631145378024,
          0.6105343771061887
         ],
         "y": [
          "smoothing",
          "scaling",
          "despike",
          "baseline_correct",
          "pagerank_cutoff",
          "classifier"
         ]
        }
       ],
       "layout": {
        "template": {
         "data": {
          "bar": [
           {
            "error_x": {
             "color": "#2a3f5f"
            },
            "error_y": {
             "color": "#2a3f5f"
            },
            "marker": {
             "line": {
              "color": "#E5ECF6",
              "width": 0.5
             },
             "pattern": {
              "fillmode": "overlay",
              "size": 10,
              "solidity": 0.2
             }
            },
            "type": "bar"
           }
          ],
          "barpolar": [
           {
            "marker": {
             "line": {
              "color": "#E5ECF6",
              "width": 0.5
             },
             "pattern": {
              "fillmode": "overlay",
              "size": 10,
              "solidity": 0.2
             }
            },
            "type": "barpolar"
           }
          ],
          "carpet": [
           {
            "aaxis": {
             "endlinecolor": "#2a3f5f",
             "gridcolor": "white",
             "linecolor": "white",
             "minorgridcolor": "white",
             "startlinecolor": "#2a3f5f"
            },
            "baxis": {
             "endlinecolor": "#2a3f5f",
             "gridcolor": "white",
             "linecolor": "white",
             "minorgridcolor": "white",
             "startlinecolor": "#2a3f5f"
            },
            "type": "carpet"
           }
          ],
          "choropleth": [
           {
            "colorbar": {
             "outlinewidth": 0,
             "ticks": ""
            },
            "type": "choropleth"
           }
          ],
          "contour": [
           {
            "colorbar": {
             "outlinewidth": 0,
             "ticks": ""
            },
            "colorscale": [
             [
              0,
              "#0d0887"
             ],
             [
              0.1111111111111111,
              "#46039f"
             ],
             [
              0.2222222222222222,
              "#7201a8"
             ],
             [
              0.3333333333333333,
              "#9c179e"
             ],
             [
              0.4444444444444444,
              "#bd3786"
             ],
             [
              0.5555555555555556,
              "#d8576b"
             ],
             [
              0.6666666666666666,
              "#ed7953"
             ],
             [
              0.7777777777777778,
              "#fb9f3a"
             ],
             [
              0.8888888888888888,
              "#fdca26"
             ],
             [
              1,
              "#f0f921"
             ]
            ],
            "type": "contour"
           }
          ],
          "contourcarpet": [
           {
            "colorbar": {
             "outlinewidth": 0,
             "ticks": ""
            },
            "type": "contourcarpet"
           }
          ],
          "heatmap": [
           {
            "colorbar": {
             "outlinewidth": 0,
             "ticks": ""
            },
            "colorscale": [
             [
              0,
              "#0d0887"
             ],
             [
              0.1111111111111111,
              "#46039f"
             ],
             [
              0.2222222222222222,
              "#7201a8"
             ],
             [
              0.3333333333333333,
              "#9c179e"
             ],
             [
              0.4444444444444444,
              "#bd3786"
             ],
             [
              0.5555555555555556,
              "#d8576b"
             ],
             [
              0.6666666666666666,
              "#ed7953"
             ],
             [
              0.7777777777777778,
              "#fb9f3a"
             ],
             [
              0.8888888888888888,
              "#fdca26"
             ],
             [
              1,
              "#f0f921"
             ]
            ],
            "type": "heatmap"
           }
          ],
          "heatmapgl": [
           {
            "colorbar": {
             "outlinewidth": 0,
             "ticks": ""
            },
            "colorscale": [
             [
              0,
              "#0d0887"
             ],
             [
              0.1111111111111111,
              "#46039f"
             ],
             [
              0.2222222222222222,
              "#7201a8"
             ],
             [
              0.3333333333333333,
              "#9c179e"
             ],
             [
              0.4444444444444444,
              "#bd3786"
             ],
             [
              0.5555555555555556,
              "#d8576b"
             ],
             [
              0.6666666666666666,
              "#ed7953"
             ],
             [
              0.7777777777777778,
              "#fb9f3a"
             ],
             [
              0.8888888888888888,
              "#fdca26"
             ],
             [
              1,
              "#f0f921"
             ]
            ],
            "type": "heatmapgl"
           }
          ],
          "histogram": [
           {
            "marker": {
             "pattern": {
              "fillmode": "overlay",
              "size": 10,
              "solidity": 0.2
             }
            },
            "type": "histogram"
           }
          ],
          "histogram2d": [
           {
            "colorbar": {
             "outlinewidth": 0,
             "ticks": ""
            },
            "colorscale": [
             [
              0,
              "#0d0887"
             ],
             [
              0.1111111111111111,
              "#46039f"
             ],
             [
              0.2222222222222222,
              "#7201a8"
             ],
             [
              0.3333333333333333,
              "#9c179e"
             ],
             [
              0.4444444444444444,
              "#bd3786"
             ],
             [
              0.5555555555555556,
              "#d8576b"
             ],
             [
              0.6666666666666666,
              "#ed7953"
             ],
             [
              0.7777777777777778,
              "#fb9f3a"
             ],
             [
              0.8888888888888888,
              "#fdca26"
             ],
             [
              1,
              "#f0f921"
             ]
            ],
            "type": "histogram2d"
           }
          ],
          "histogram2dcontour": [
           {
            "colorbar": {
             "outlinewidth": 0,
             "ticks": ""
            },
            "colorscale": [
             [
              0,
              "#0d0887"
             ],
             [
              0.1111111111111111,
              "#46039f"
             ],
             [
              0.2222222222222222,
              "#7201a8"
             ],
             [
              0.3333333333333333,
              "#9c179e"
             ],
             [
              0.4444444444444444,
              "#bd3786"
             ],
             [
              0.5555555555555556,
              "#d8576b"
             ],
             [
              0.6666666666666666,
              "#ed7953"
             ],
             [
              0.7777777777777778,
              "#fb9f3a"
             ],
             [
              0.8888888888888888,
              "#fdca26"
             ],
             [
              1,
              "#f0f921"
             ]
            ],
            "type": "histogram2dcontour"
           }
          ],
          "mesh3d": [
           {
            "colorbar": {
             "outlinewidth": 0,
             "ticks": ""
            },
            "type": "mesh3d"
           }
          ],
          "parcoords": [
           {
            "line": {
             "colorbar": {
              "outlinewidth": 0,
              "ticks": ""
             }
            },
            "type": "parcoords"
           }
          ],
          "pie": [
           {
            "automargin": true,
            "type": "pie"
           }
          ],
          "scatter": [
           {
            "fillpattern": {
             "fillmode": "overlay",
             "size": 10,
             "solidity": 0.2
            },
            "type": "scatter"
           }
          ],
          "scatter3d": [
           {
            "line": {
             "colorbar": {
              "outlinewidth": 0,
              "ticks": ""
             }
            },
            "marker": {
             "colorbar": {
              "outlinewidth": 0,
              "ticks": ""
             }
            },
            "type": "scatter3d"
           }
          ],
          "scattercarpet": [
           {
            "marker": {
             "colorbar": {
              "outlinewidth": 0,
              "ticks": ""
             }
            },
            "type": "scattercarpet"
           }
          ],
          "scattergeo": [
           {
            "marker": {
             "colorbar": {
              "outlinewidth": 0,
              "ticks": ""
             }
            },
            "type": "scattergeo"
           }
          ],
          "scattergl": [
           {
            "marker": {
             "colorbar": {
              "outlinewidth": 0,
              "ticks": ""
             }
            },
            "type": "scattergl"
           }
          ],
          "scattermapbox": [
           {
            "marker": {
             "colorbar": {
              "outlinewidth": 0,
              "ticks": ""
             }
            },
            "type": "scattermapbox"
           }
          ],
          "scatterpolar": [
           {
            "marker": {
             "colorbar": {
              "outlinewidth": 0,
              "ticks": ""
             }
            },
            "type": "scatterpolar"
           }
          ],
          "scatterpolargl": [
           {
            "marker": {
             "colorbar": {
              "outlinewidth": 0,
              "ticks": ""
             }
            },
            "type": "scatterpolargl"
           }
          ],
          "scatterternary": [
           {
            "marker": {
             "colorbar": {
              "outlinewidth": 0,
              "ticks": ""
             }
            },
            "type": "scatterternary"
           }
          ],
          "surface": [
           {
            "colorbar": {
             "outlinewidth": 0,
             "ticks": ""
            },
            "colorscale": [
             [
              0,
              "#0d0887"
             ],
             [
              0.1111111111111111,
              "#46039f"
             ],
             [
              0.2222222222222222,
              "#7201a8"
             ],
             [
              0.3333333333333333,
              "#9c179e"
             ],
             [
              0.4444444444444444,
              "#bd3786"
             ],
             [
              0.5555555555555556,
              "#d8576b"
             ],
             [
              0.6666666666666666,
              "#ed7953"
             ],
             [
              0.7777777777777778,
              "#fb9f3a"
             ],
             [
              0.8888888888888888,
              "#fdca26"
             ],
             [
              1,
              "#f0f921"
             ]
            ],
            "type": "surface"
           }
          ],
          "table": [
           {
            "cells": {
             "fill": {
              "color": "#EBF0F8"
             },
             "line": {
              "color": "white"
             }
            },
            "header": {
             "fill": {
              "color": "#C8D4E3"
             },
             "line": {
              "color": "white"
             }
            },
            "type": "table"
           }
          ]
         },
         "layout": {
          "annotationdefaults": {
           "arrowcolor": "#2a3f5f",
           "arrowhead": 0,
           "arrowwidth": 1
          },
          "autotypenumbers": "strict",
          "coloraxis": {
           "colorbar": {
            "outlinewidth": 0,
            "ticks": ""
           }
          },
          "colorscale": {
           "diverging": [
            [
             0,
             "#8e0152"
            ],
            [
             0.1,
             "#c51b7d"
            ],
            [
             0.2,
             "#de77ae"
            ],
            [
             0.3,
             "#f1b6da"
            ],
            [
             0.4,
             "#fde0ef"
            ],
            [
             0.5,
             "#f7f7f7"
            ],
            [
             0.6,
             "#e6f5d0"
            ],
            [
             0.7,
             "#b8e186"
            ],
            [
             0.8,
             "#7fbc41"
            ],
            [
             0.9,
             "#4d9221"
            ],
            [
             1,
             "#276419"
            ]
           ],
           "sequential": [
            [
             0,
             "#0d0887"
            ],
            [
             0.1111111111111111,
             "#46039f"
            ],
            [
             0.2222222222222222,
             "#7201a8"
            ],
            [
             0.3333333333333333,
             "#9c179e"
            ],
            [
             0.4444444444444444,
             "#bd3786"
            ],
            [
             0.5555555555555556,
             "#d8576b"
            ],
            [
             0.6666666666666666,
             "#ed7953"
            ],
            [
             0.7777777777777778,
             "#fb9f3a"
            ],
            [
             0.8888888888888888,
             "#fdca26"
            ],
            [
             1,
             "#f0f921"
            ]
           ],
           "sequentialminus": [
            [
             0,
             "#0d0887"
            ],
            [
             0.1111111111111111,
             "#46039f"
            ],
            [
             0.2222222222222222,
             "#7201a8"
            ],
            [
             0.3333333333333333,
             "#9c179e"
            ],
            [
             0.4444444444444444,
             "#bd3786"
            ],
            [
             0.5555555555555556,
             "#d8576b"
            ],
            [
             0.6666666666666666,
             "#ed7953"
            ],
            [
             0.7777777777777778,
             "#fb9f3a"
            ],
            [
             0.8888888888888888,
             "#fdca26"
            ],
            [
             1,
             "#f0f921"
            ]
           ]
          },
          "colorway": [
           "#636efa",
           "#EF553B",
           "#00cc96",
           "#ab63fa",
           "#FFA15A",
           "#19d3f3",
           "#FF6692",
           "#B6E880",
           "#FF97FF",
           "#FECB52"
          ],
          "font": {
           "color": "#2a3f5f"
          },
          "geo": {
           "bgcolor": "white",
           "lakecolor": "white",
           "landcolor": "#E5ECF6",
           "showlakes": true,
           "showland": true,
           "subunitcolor": "white"
          },
          "hoverlabel": {
           "align": "left"
          },
          "hovermode": "closest",
          "mapbox": {
           "style": "light"
          },
          "paper_bgcolor": "white",
          "plot_bgcolor": "#E5ECF6",
          "polar": {
           "angularaxis": {
            "gridcolor": "white",
            "linecolor": "white",
            "ticks": ""
           },
           "bgcolor": "#E5ECF6",
           "radialaxis": {
            "gridcolor": "white",
            "linecolor": "white",
            "ticks": ""
           }
          },
          "scene": {
           "xaxis": {
            "backgroundcolor": "#E5ECF6",
            "gridcolor": "white",
            "gridwidth": 2,
            "linecolor": "white",
            "showbackground": true,
            "ticks": "",
            "zerolinecolor": "white"
           },
           "yaxis": {
            "backgroundcolor": "#E5ECF6",
            "gridcolor": "white",
            "gridwidth": 2,
            "linecolor": "white",
            "showbackground": true,
            "ticks": "",
            "zerolinecolor": "white"
           },
           "zaxis": {
            "backgroundcolor": "#E5ECF6",
            "gridcolor": "white",
            "gridwidth": 2,
            "linecolor": "white",
            "showbackground": true,
            "ticks": "",
            "zerolinecolor": "white"
           }
          },
          "shapedefaults": {
           "line": {
            "color": "#2a3f5f"
           }
          },
          "ternary": {
           "aaxis": {
            "gridcolor": "white",
            "linecolor": "white",
            "ticks": ""
           },
           "baxis": {
            "gridcolor": "white",
            "linecolor": "white",
            "ticks": ""
           },
           "bgcolor": "#E5ECF6",
           "caxis": {
            "gridcolor": "white",
            "linecolor": "white",
            "ticks": ""
           }
          },
          "title": {
           "x": 0.05
          },
          "xaxis": {
           "automargin": true,
           "gridcolor": "white",
           "linecolor": "white",
           "ticks": "",
           "title": {
            "standoff": 15
           },
           "zerolinecolor": "white",
           "zerolinewidth": 2
          },
          "yaxis": {
           "automargin": true,
           "gridcolor": "white",
           "linecolor": "white",
           "ticks": "",
           "title": {
            "standoff": 15
           },
           "zerolinecolor": "white",
           "zerolinewidth": 2
          }
         }
        },
        "title": {
         "text": "Hyperparameter Importances"
        },
        "xaxis": {
         "title": {
          "text": "Hyperparameter Importance"
         }
        },
        "yaxis": {
         "title": {
          "text": "Hyperparameter"
         }
        }
       }
      }
     },
     "metadata": {},
     "output_type": "display_data"
    }
   ],
   "source": [
    "optuna.visualization.plot_param_importances(study)"
   ]
  },
  {
   "cell_type": "markdown",
   "metadata": {},
   "source": [
    "Continue the study."
   ]
  },
  {
   "cell_type": "code",
   "execution_count": null,
   "metadata": {},
   "outputs": [
    {
     "name": "stderr",
     "output_type": "stream",
     "text": [
      "[I 2024-03-30 15:32:31,901] Trial 601 finished with value: 0.6585061847919336 and parameters: {'pagerank_cutoff': 0.8470475220581012, 'despike': True, 'baseline_correct': True, 'smoothing': False, 'scaling': True, 'despike_ma': 76, 'despike_threshold': 9.5, 'lam': 100000000000, 'p': 0.07200000000000001, 'scaling_type': 'svn', 'classifier': 'RandomForest', 'rf_n_estimators': 57, 'rf_max_depth': 17, 'rf_criterion': 'entropy'}. Best is trial 368 with value: 0.696570597495554.\n",
      "[I 2024-03-30 15:32:46,176] Trial 604 finished with value: 0.665312122352278 and parameters: {'pagerank_cutoff': 0.8498500260768722, 'despike': True, 'baseline_correct': True, 'smoothing': False, 'scaling': True, 'despike_ma': 100, 'despike_threshold': 9.5, 'lam': 100000000000, 'p': 0.07200000000000001, 'scaling_type': 'svn', 'classifier': 'RandomForest', 'rf_n_estimators': 66, 'rf_max_depth': 17, 'rf_criterion': 'entropy'}. Best is trial 368 with value: 0.696570597495554.\n",
      "[I 2024-03-30 15:32:46,625] Trial 609 finished with value: 0.6677920808776264 and parameters: {'pagerank_cutoff': 0.8509496607710381, 'despike': True, 'baseline_correct': True, 'smoothing': False, 'scaling': True, 'despike_ma': 98, 'despike_threshold': 9.5, 'lam': 100000000000, 'p': 0.07100000000000001, 'scaling_type': 'svn', 'classifier': 'RandomForest', 'rf_n_estimators': 67, 'rf_max_depth': 17, 'rf_criterion': 'entropy'}. Best is trial 368 with value: 0.696570597495554.\n",
      "[I 2024-03-30 15:32:56,596] Trial 603 finished with value: 0.5239424528739423 and parameters: {'pagerank_cutoff': 0.9615708539818147, 'despike': True, 'baseline_correct': True, 'smoothing': False, 'scaling': True, 'despike_ma': 76, 'despike_threshold': 9.5, 'lam': 10000000, 'p': 0.07200000000000001, 'scaling_type': 'svn', 'classifier': 'RandomForest', 'rf_n_estimators': 81, 'rf_max_depth': 17, 'rf_criterion': 'entropy'}. Best is trial 368 with value: 0.696570597495554.\n",
      "[I 2024-03-30 15:33:05,032] Trial 605 finished with value: 0.5520530195692988 and parameters: {'pagerank_cutoff': 0.8576376932067249, 'despike': True, 'baseline_correct': True, 'smoothing': False, 'scaling': True, 'despike_ma': 58, 'despike_threshold': 9.5, 'lam': 10000000, 'p': 0.07200000000000001, 'scaling_type': 'svn', 'classifier': 'RandomForest', 'rf_n_estimators': 68, 'rf_max_depth': 17, 'rf_criterion': 'entropy'}. Best is trial 368 with value: 0.696570597495554.\n",
      "[I 2024-03-30 15:33:21,097] Trial 606 finished with value: 0.6559232330964031 and parameters: {'pagerank_cutoff': 0.8590123726076342, 'despike': True, 'baseline_correct': True, 'smoothing': False, 'scaling': True, 'despike_ma': 100, 'despike_threshold': 9.5, 'lam': 100000000000, 'p': 0.07200000000000001, 'scaling_type': 'svn', 'classifier': 'RandomForest', 'rf_n_estimators': 82, 'rf_max_depth': 19, 'rf_criterion': 'entropy'}. Best is trial 368 with value: 0.696570597495554.\n",
      "[I 2024-03-30 15:33:23,242] Trial 607 finished with value: 0.6610333566572509 and parameters: {'pagerank_cutoff': 0.8524304241470566, 'despike': True, 'baseline_correct': True, 'smoothing': False, 'scaling': True, 'despike_ma': 100, 'despike_threshold': 9.5, 'lam': 100000000000, 'p': 0.07200000000000001, 'scaling_type': 'svn', 'classifier': 'RandomForest', 'rf_n_estimators': 82, 'rf_max_depth': 17, 'rf_criterion': 'entropy'}. Best is trial 368 with value: 0.696570597495554.\n",
      "[I 2024-03-30 15:33:24,941] Trial 600 finished with value: 0.6615488205747767 and parameters: {'pagerank_cutoff': 0.8515600799202477, 'despike': True, 'baseline_correct': True, 'smoothing': False, 'scaling': True, 'despike_ma': 100, 'despike_threshold': 9.5, 'lam': 100000000000, 'p': 0.07200000000000001, 'scaling_type': 'svn', 'classifier': 'RandomForest', 'rf_n_estimators': 82, 'rf_max_depth': 19, 'rf_criterion': 'entropy'}. Best is trial 368 with value: 0.696570597495554.\n",
      "[I 2024-03-30 15:33:25,558] Trial 611 finished with value: 0.6616796246782288 and parameters: {'pagerank_cutoff': 0.8465052501906637, 'despike': True, 'baseline_correct': True, 'smoothing': False, 'scaling': True, 'despike_ma': 100, 'despike_threshold': 9.5, 'lam': 100000000000, 'p': 0.07200000000000001, 'scaling_type': 'svn', 'classifier': 'RandomForest', 'rf_n_estimators': 82, 'rf_max_depth': 17, 'rf_criterion': 'entropy'}. Best is trial 368 with value: 0.696570597495554.\n",
      "[I 2024-03-30 15:33:33,445] Trial 610 finished with value: 0.6428090799022754 and parameters: {'pagerank_cutoff': 0.8560625311943654, 'despike': True, 'baseline_correct': True, 'smoothing': False, 'scaling': True, 'despike_ma': 84, 'despike_threshold': 9.5, 'lam': 100000000000, 'p': 0.065, 'scaling_type': 'svn', 'classifier': 'RandomForest', 'rf_n_estimators': 87, 'rf_max_depth': 17, 'rf_criterion': 'entropy'}. Best is trial 368 with value: 0.696570597495554.\n",
      "[I 2024-03-30 15:33:37,557] Trial 602 finished with value: 0.5312740747366941 and parameters: {'pagerank_cutoff': 0.8554622882246368, 'despike': True, 'baseline_correct': True, 'smoothing': False, 'scaling': True, 'despike_ma': 76, 'despike_threshold': 9.5, 'lam': 10000000, 'p': 0.07200000000000001, 'scaling_type': 'svn', 'classifier': 'RandomForest', 'rf_n_estimators': 82, 'rf_max_depth': 17, 'rf_criterion': 'entropy'}. Best is trial 368 with value: 0.696570597495554.\n",
      "[I 2024-03-30 15:33:38,342] Trial 608 finished with value: 0.5644226020359859 and parameters: {'pagerank_cutoff': 0.8498640936060975, 'despike': True, 'baseline_correct': True, 'smoothing': False, 'scaling': True, 'despike_ma': 100, 'despike_threshold': 9.5, 'lam': 10000000, 'p': 0.07100000000000001, 'scaling_type': 'svn', 'classifier': 'RandomForest', 'rf_n_estimators': 82, 'rf_max_depth': 17, 'rf_criterion': 'entropy'}. Best is trial 368 with value: 0.696570597495554.\n",
      "[I 2024-03-30 15:35:07,968] Trial 620 finished with value: 0.5832182520862967 and parameters: {'pagerank_cutoff': 0.8836490771646572, 'despike': False, 'baseline_correct': False, 'smoothing': False, 'scaling': True, 'scaling_type': 'vector', 'classifier': 'RandomForest', 'rf_n_estimators': 84, 'rf_max_depth': 22, 'rf_criterion': 'entropy'}. Best is trial 368 with value: 0.696570597495554.\n",
      "[I 2024-03-30 15:35:19,671] Trial 619 finished with value: 0.5783695861006588 and parameters: {'pagerank_cutoff': 0.8821555385117179, 'despike': False, 'baseline_correct': False, 'smoothing': False, 'scaling': True, 'scaling_type': 'vector', 'classifier': 'RandomForest', 'rf_n_estimators': 95, 'rf_max_depth': 22, 'rf_criterion': 'entropy'}. Best is trial 368 with value: 0.696570597495554.\n",
      "[I 2024-03-30 15:35:30,459] Trial 621 finished with value: 0.5766156642212584 and parameters: {'pagerank_cutoff': 0.6916285626810209, 'despike': False, 'baseline_correct': False, 'smoothing': False, 'scaling': True, 'scaling_type': 'vector', 'classifier': 'RandomForest', 'rf_n_estimators': 79, 'rf_max_depth': 22, 'rf_criterion': 'entropy'}. Best is trial 368 with value: 0.696570597495554.\n",
      "[I 2024-03-30 15:35:48,621] Trial 623 finished with value: 0.5697509815613817 and parameters: {'pagerank_cutoff': 0.7573553410498305, 'despike': False, 'baseline_correct': False, 'smoothing': False, 'scaling': True, 'scaling_type': 'vector', 'classifier': 'RandomForest', 'rf_n_estimators': 95, 'rf_max_depth': 22, 'rf_criterion': 'entropy'}. Best is trial 368 with value: 0.696570597495554.\n",
      "[I 2024-03-30 15:35:49,025] Trial 614 finished with value: 0.5613231135272285 and parameters: {'pagerank_cutoff': 0.9635636346279679, 'despike': True, 'baseline_correct': True, 'smoothing': False, 'scaling': True, 'despike_ma': 58, 'despike_threshold': 9.75, 'lam': 10000000, 'p': 0.077, 'scaling_type': 'vector', 'classifier': 'RandomForest', 'rf_n_estimators': 82, 'rf_max_depth': 19, 'rf_criterion': 'entropy'}. Best is trial 368 with value: 0.696570597495554.\n",
      "[I 2024-03-30 15:36:03,587] Trial 618 finished with value: 0.5128532819057349 and parameters: {'pagerank_cutoff': 0.4565042416388456, 'despike': False, 'baseline_correct': False, 'smoothing': False, 'scaling': True, 'scaling_type': 'vector', 'classifier': 'RandomForest', 'rf_n_estimators': 87, 'rf_max_depth': 19, 'rf_criterion': 'entropy'}. Best is trial 368 with value: 0.696570597495554.\n",
      "[I 2024-03-30 15:36:06,672] Trial 613 finished with value: 0.5411468597685741 and parameters: {'pagerank_cutoff': 0.9534643376422365, 'despike': True, 'baseline_correct': True, 'smoothing': False, 'scaling': True, 'despike_ma': 58, 'despike_threshold': 9.5, 'lam': 10000000, 'p': 0.07100000000000001, 'scaling_type': 'vector', 'classifier': 'RandomForest', 'rf_n_estimators': 87, 'rf_max_depth': 20, 'rf_criterion': 'entropy'}. Best is trial 368 with value: 0.696570597495554.\n",
      "[I 2024-03-30 15:36:18,251] Trial 616 finished with value: 0.6665745365480149 and parameters: {'pagerank_cutoff': 0.8769747412294465, 'despike': True, 'baseline_correct': True, 'smoothing': False, 'scaling': True, 'despike_ma': 98, 'despike_threshold': 9.75, 'lam': 100000000000, 'p': 0.065, 'scaling_type': 'vector', 'classifier': 'RandomForest', 'rf_n_estimators': 82, 'rf_max_depth': 19, 'rf_criterion': 'entropy'}. Best is trial 368 with value: 0.696570597495554.\n",
      "[I 2024-03-30 15:36:40,003] Trial 615 finished with value: 0.6628160873327955 and parameters: {'pagerank_cutoff': 0.8667151616034706, 'despike': True, 'baseline_correct': True, 'smoothing': False, 'scaling': True, 'despike_ma': 57, 'despike_threshold': 9.75, 'lam': 100000000000, 'p': 0.064, 'scaling_type': 'vector', 'classifier': 'RandomForest', 'rf_n_estimators': 95, 'rf_max_depth': 19, 'rf_criterion': 'entropy'}. Best is trial 368 with value: 0.696570597495554.\n",
      "[I 2024-03-30 15:36:50,072] Trial 612 finished with value: 0.650588432068717 and parameters: {'pagerank_cutoff': 0.6837542254548623, 'despike': True, 'baseline_correct': True, 'smoothing': False, 'scaling': True, 'despike_ma': 100, 'despike_threshold': 9.5, 'lam': 100000000000, 'p': 0.07200000000000001, 'scaling_type': 'svn', 'classifier': 'RandomForest', 'rf_n_estimators': 87, 'rf_max_depth': 22, 'rf_criterion': 'entropy'}. Best is trial 368 with value: 0.696570597495554.\n",
      "[I 2024-03-30 15:36:51,767] Trial 617 finished with value: 0.6577971469949968 and parameters: {'pagerank_cutoff': 0.6891872710183957, 'despike': True, 'baseline_correct': True, 'smoothing': False, 'scaling': True, 'despike_ma': 96, 'despike_threshold': 9.75, 'lam': 100000000000, 'p': 0.064, 'scaling_type': 'vector', 'classifier': 'RandomForest', 'rf_n_estimators': 85, 'rf_max_depth': 22, 'rf_criterion': 'entropy'}. Best is trial 368 with value: 0.696570597495554.\n",
      "[I 2024-03-30 15:36:57,117] Trial 622 finished with value: 0.610820707976166 and parameters: {'pagerank_cutoff': 0.4529497945882299, 'despike': False, 'baseline_correct': True, 'smoothing': False, 'scaling': True, 'lam': 100000000000, 'p': 0.065, 'scaling_type': 'vector', 'classifier': 'RandomForest', 'rf_n_estimators': 79, 'rf_max_depth': 20, 'rf_criterion': 'entropy'}. Best is trial 368 with value: 0.696570597495554.\n",
      "[I 2024-03-30 15:37:31,697] Trial 624 finished with value: 0.6492558278451703 and parameters: {'pagerank_cutoff': 0.9621179052215301, 'despike': False, 'baseline_correct': True, 'smoothing': False, 'scaling': True, 'lam': 100000000000, 'p': 0.064, 'scaling_type': 'vector', 'classifier': 'RandomForest', 'rf_n_estimators': 95, 'rf_max_depth': 20, 'rf_criterion': 'entropy'}. Best is trial 368 with value: 0.696570597495554.\n",
      "[I 2024-03-30 15:39:07,081] Trial 625 finished with value: 0.6471041070385677 and parameters: {'pagerank_cutoff': 0.952582832328881, 'despike': True, 'baseline_correct': True, 'smoothing': False, 'scaling': True, 'despike_ma': 95, 'despike_threshold': 9.75, 'lam': 100000000000, 'p': 0.065, 'scaling_type': 'vector', 'classifier': 'RandomForest', 'rf_n_estimators': 78, 'rf_max_depth': 9, 'rf_criterion': 'entropy'}. Best is trial 368 with value: 0.696570597495554.\n",
      "[I 2024-03-30 15:39:13,453] Trial 630 finished with value: 0.6327636827333795 and parameters: {'pagerank_cutoff': 0.9232398001638679, 'despike': True, 'baseline_correct': True, 'smoothing': False, 'scaling': True, 'despike_ma': 96, 'despike_threshold': 9.75, 'lam': 100000000000, 'p': 0.065, 'scaling_type': 'vector', 'classifier': 'RandomForest', 'rf_n_estimators': 85, 'rf_max_depth': 5, 'rf_criterion': 'entropy'}. Best is trial 368 with value: 0.696570597495554.\n",
      "[I 2024-03-30 15:39:37,064] Trial 627 finished with value: 0.6635978551647214 and parameters: {'pagerank_cutoff': 0.9584335613191673, 'despike': True, 'baseline_correct': True, 'smoothing': False, 'scaling': True, 'despike_ma': 95, 'despike_threshold': 9.75, 'lam': 100000000000, 'p': 0.076, 'scaling_type': 'vector', 'classifier': 'RandomForest', 'rf_n_estimators': 87, 'rf_max_depth': 20, 'rf_criterion': 'entropy'}. Best is trial 368 with value: 0.696570597495554.\n",
      "[I 2024-03-30 15:39:48,237] Trial 628 finished with value: 0.6612255119909266 and parameters: {'pagerank_cutoff': 0.9289389807167623, 'despike': True, 'baseline_correct': True, 'smoothing': False, 'scaling': True, 'despike_ma': 95, 'despike_threshold': 6.5, 'lam': 100000000000, 'p': 0.065, 'scaling_type': 'vector', 'classifier': 'RandomForest', 'rf_n_estimators': 85, 'rf_max_depth': 21, 'rf_criterion': 'entropy'}. Best is trial 368 with value: 0.696570597495554.\n",
      "[I 2024-03-30 15:39:49,768] Trial 632 finished with value: 0.6774545960841292 and parameters: {'pagerank_cutoff': 0.9303861155313172, 'despike': True, 'baseline_correct': True, 'smoothing': False, 'scaling': True, 'despike_ma': 95, 'despike_threshold': 9.75, 'lam': 100000000000, 'p': 0.075, 'scaling_type': 'vector', 'classifier': 'RandomForest', 'rf_n_estimators': 78, 'rf_max_depth': 21, 'rf_criterion': 'entropy'}. Best is trial 368 with value: 0.696570597495554.\n",
      "[I 2024-03-30 15:39:51,443] Trial 631 finished with value: 0.6447203289072589 and parameters: {'pagerank_cutoff': 0.9280402037007033, 'despike': True, 'baseline_correct': True, 'smoothing': False, 'scaling': True, 'despike_ma': 95, 'despike_threshold': 9.75, 'lam': 100000000000, 'p': 0.006, 'scaling_type': 'vector', 'classifier': 'RandomForest', 'rf_n_estimators': 73, 'rf_max_depth': 21, 'rf_criterion': 'entropy'}. Best is trial 368 with value: 0.696570597495554.\n",
      "[I 2024-03-30 15:39:51,882] Trial 629 finished with value: 0.6647983786090944 and parameters: {'pagerank_cutoff': 0.9278002458655017, 'despike': True, 'baseline_correct': True, 'smoothing': False, 'scaling': True, 'despike_ma': 95, 'despike_threshold': 9.75, 'lam': 100000000000, 'p': 0.064, 'scaling_type': 'vector', 'classifier': 'RandomForest', 'rf_n_estimators': 85, 'rf_max_depth': 20, 'rf_criterion': 'entropy'}. Best is trial 368 with value: 0.696570597495554.\n",
      "[I 2024-03-30 15:39:59,919] Trial 635 finished with value: 0.6579090116556756 and parameters: {'pagerank_cutoff': 0.9252272947119804, 'despike': True, 'baseline_correct': True, 'smoothing': False, 'scaling': True, 'despike_ma': 94, 'despike_threshold': 10.0, 'lam': 100000000000, 'p': 0.075, 'scaling_type': 'vector', 'classifier': 'RandomForest', 'rf_n_estimators': 76, 'rf_max_depth': 15, 'rf_criterion': 'entropy'}. Best is trial 368 with value: 0.696570597495554.\n",
      "[I 2024-03-30 15:40:04,241] Trial 636 finished with value: 0.665267787838183 and parameters: {'pagerank_cutoff': 0.9202435573513013, 'despike': True, 'baseline_correct': True, 'smoothing': False, 'scaling': True, 'despike_ma': 95, 'despike_threshold': 10.0, 'lam': 100000000000, 'p': 0.038, 'scaling_type': 'vector', 'classifier': 'RandomForest', 'rf_n_estimators': 73, 'rf_max_depth': 15, 'rf_criterion': 'entropy'}. Best is trial 368 with value: 0.696570597495554.\n",
      "[I 2024-03-30 15:40:06,880] Trial 633 finished with value: 0.6757218880368351 and parameters: {'pagerank_cutoff': 0.922123705343941, 'despike': True, 'baseline_correct': True, 'smoothing': False, 'scaling': True, 'despike_ma': 95, 'despike_threshold': 5.5, 'lam': 100000000000, 'p': 0.075, 'scaling_type': 'vector', 'classifier': 'RandomForest', 'rf_n_estimators': 78, 'rf_max_depth': 20, 'rf_criterion': 'entropy'}. Best is trial 368 with value: 0.696570597495554.\n",
      "[I 2024-03-30 15:40:07,809] Trial 634 finished with value: 0.6551478993889102 and parameters: {'pagerank_cutoff': 0.924346344479694, 'despike': True, 'baseline_correct': True, 'smoothing': False, 'scaling': True, 'despike_ma': 95, 'despike_threshold': 5.5, 'lam': 100000000000, 'p': 0.075, 'scaling_type': 'vector', 'classifier': 'RandomForest', 'rf_n_estimators': 78, 'rf_max_depth': 15, 'rf_criterion': 'entropy'}. Best is trial 368 with value: 0.696570597495554.\n",
      "[I 2024-03-30 15:40:57,978] Trial 626 finished with value: 0.6606365086487207 and parameters: {'pagerank_cutoff': 0.7428311090866682, 'despike': True, 'baseline_correct': True, 'smoothing': False, 'scaling': True, 'despike_ma': 95, 'despike_threshold': 6.5, 'lam': 100000000000, 'p': 0.065, 'scaling_type': 'vector', 'classifier': 'RandomForest', 'rf_n_estimators': 85, 'rf_max_depth': 20, 'rf_criterion': 'entropy'}. Best is trial 368 with value: 0.696570597495554.\n",
      "[I 2024-03-30 15:42:29,316] Trial 648 finished with value: 0.4222802009358769 and parameters: {'pagerank_cutoff': 1.0176419083163952, 'despike': True, 'baseline_correct': True, 'smoothing': True, 'scaling': True, 'despike_ma': 91, 'despike_threshold': 5.75, 'lam': 1000000000, 'p': 0.078, 'window_size': 6, 'poly_order': 3, 'scaling_type': 'vector', 'classifier': 'ExtraTrees', 'et_n_estimators': 10, 'et_max_depth': 2, 'et_criterion': 'gini'}. Best is trial 368 with value: 0.696570597495554.\n",
      "[I 2024-03-30 15:42:39,101] Trial 645 finished with value: 0.29349306832215627 and parameters: {'pagerank_cutoff': 0.7716616709103576, 'despike': True, 'baseline_correct': True, 'smoothing': False, 'scaling': True, 'despike_ma': 92, 'despike_threshold': 10.0, 'lam': 100, 'p': 0.078, 'scaling_type': 'vector', 'classifier': 'ExtraTrees', 'et_n_estimators': 13, 'et_max_depth': 2, 'et_criterion': 'gini'}. Best is trial 368 with value: 0.696570597495554.\n",
      "[I 2024-03-30 15:42:40,922] Trial 646 finished with value: 0.23299255623198642 and parameters: {'pagerank_cutoff': 0.9134547640123557, 'despike': True, 'baseline_correct': True, 'smoothing': True, 'scaling': True, 'despike_ma': 92, 'despike_threshold': 4.25, 'lam': 100, 'p': 0.078, 'window_size': 5, 'poly_order': 3, 'scaling_type': 'vector', 'classifier': 'ExtraTrees', 'et_n_estimators': 15, 'et_max_depth': 2, 'et_criterion': 'gini'}. Best is trial 368 with value: 0.696570597495554.\n",
      "[I 2024-03-30 15:42:45,655] Trial 642 finished with value: 0.5580874489391416 and parameters: {'pagerank_cutoff': 0.7755757497244468, 'despike': True, 'baseline_correct': True, 'smoothing': False, 'scaling': True, 'despike_ma': 93, 'despike_threshold': 10.0, 'lam': 1000000000, 'p': 0.074, 'scaling_type': 'vector', 'classifier': 'ExtraTrees', 'et_n_estimators': 11, 'et_max_depth': 13, 'et_criterion': 'gini'}. Best is trial 368 with value: 0.696570597495554.\n",
      "[I 2024-03-30 15:43:10,714] Trial 637 finished with value: 0.6727272538163782 and parameters: {'pagerank_cutoff': 0.9272521793814934, 'despike': True, 'baseline_correct': True, 'smoothing': False, 'scaling': True, 'despike_ma': 95, 'despike_threshold': 5.5, 'lam': 100000000000, 'p': 0.075, 'scaling_type': 'vector', 'classifier': 'RandomForest', 'rf_n_estimators': 68, 'rf_max_depth': 16, 'rf_criterion': 'entropy'}. Best is trial 368 with value: 0.696570597495554.\n",
      "[I 2024-03-30 15:43:34,364] Trial 643 finished with value: 0.4761170031689478 and parameters: {'pagerank_cutoff': 0.7785349178330842, 'despike': True, 'baseline_correct': True, 'smoothing': True, 'scaling': True, 'despike_ma': 92, 'despike_threshold': 5.5, 'lam': 100, 'p': 0.076, 'window_size': 152, 'poly_order': 3, 'scaling_type': 'vector', 'classifier': 'ExtraTrees', 'et_n_estimators': 24, 'et_max_depth': 13, 'et_criterion': 'gini'}. Best is trial 368 with value: 0.696570597495554.\n",
      "[I 2024-03-30 15:43:35,602] Trial 639 finished with value: 0.663939296747402 and parameters: {'pagerank_cutoff': 0.7693414062406029, 'despike': True, 'baseline_correct': True, 'smoothing': True, 'scaling': True, 'despike_ma': 52, 'despike_threshold': 10.0, 'lam': 100000000000, 'p': 0.068, 'window_size': 35, 'poly_order': 3, 'scaling_type': 'vector', 'classifier': 'RandomForest', 'rf_n_estimators': 26, 'rf_max_depth': 15, 'rf_criterion': 'entropy'}. Best is trial 368 with value: 0.696570597495554.\n",
      "[I 2024-03-30 15:44:02,281] Trial 647 finished with value: 0.4647353924361817 and parameters: {'pagerank_cutoff': 0.8878522486637205, 'despike': True, 'baseline_correct': True, 'smoothing': True, 'scaling': True, 'despike_ma': 92, 'despike_threshold': 4.5, 'lam': 100, 'p': 0.078, 'window_size': 152, 'poly_order': 3, 'scaling_type': 'vector', 'classifier': 'RandomForest', 'rf_n_estimators': 40, 'rf_max_depth': 21, 'rf_criterion': 'gini'}. Best is trial 368 with value: 0.696570597495554.\n",
      "[I 2024-03-30 15:44:15,178] Trial 638 finished with value: 0.42926106495833005 and parameters: {'pagerank_cutoff': 0.771742626163986, 'despike': True, 'baseline_correct': True, 'smoothing': False, 'scaling': True, 'despike_ma': 53, 'despike_threshold': 10.0, 'lam': 100, 'p': 0.038, 'scaling_type': 'vector', 'classifier': 'RandomForest', 'rf_n_estimators': 73, 'rf_max_depth': 21, 'rf_criterion': 'entropy'}. Best is trial 368 with value: 0.696570597495554.\n",
      "[I 2024-03-30 15:44:40,387] Trial 641 finished with value: 0.592664165096962 and parameters: {'pagerank_cutoff': 0.7621010110203748, 'despike': True, 'baseline_correct': True, 'smoothing': False, 'scaling': True, 'despike_ma': 92, 'despike_threshold': 5.75, 'lam': 1000000000, 'p': 0.075, 'scaling_type': 'vector', 'classifier': 'RandomForest', 'rf_n_estimators': 77, 'rf_max_depth': 15, 'rf_criterion': 'entropy'}. Best is trial 368 with value: 0.696570597495554.\n",
      "[I 2024-03-30 15:44:50,007] Trial 644 finished with value: 0.5643489309636711 and parameters: {'pagerank_cutoff': 0.7408672184567282, 'despike': True, 'baseline_correct': True, 'smoothing': False, 'scaling': True, 'despike_ma': 52, 'despike_threshold': 10.0, 'lam': 100000000, 'p': 0.077, 'scaling_type': 'vector', 'classifier': 'RandomForest', 'rf_n_estimators': 80, 'rf_max_depth': 15, 'rf_criterion': 'entropy'}. Best is trial 368 with value: 0.696570597495554.\n",
      "[I 2024-03-30 15:45:06,888] Trial 640 finished with value: 0.6626883406500909 and parameters: {'pagerank_cutoff': 0.7694606337993859, 'despike': True, 'baseline_correct': True, 'smoothing': True, 'scaling': True, 'despike_ma': 61, 'despike_threshold': 10.0, 'lam': 100000000000, 'p': 0.069, 'window_size': 147, 'poly_order': 3, 'scaling_type': 'vector', 'classifier': 'RandomForest', 'rf_n_estimators': 73, 'rf_max_depth': 15, 'rf_criterion': 'entropy'}. Best is trial 368 with value: 0.696570597495554.\n",
      "[I 2024-03-30 15:46:03,207] Trial 651 finished with value: 0.5875969214943163 and parameters: {'pagerank_cutoff': 0.9014300191303369, 'despike': True, 'baseline_correct': True, 'smoothing': False, 'scaling': True, 'despike_ma': 98, 'despike_threshold': 6.25, 'lam': 100000000, 'p': 0.076, 'scaling_type': 'vector', 'classifier': 'RandomForest', 'rf_n_estimators': 80, 'rf_max_depth': 21, 'rf_criterion': 'gini'}. Best is trial 368 with value: 0.696570597495554.\n",
      "[I 2024-03-30 15:46:06,571] Trial 649 finished with value: 0.40637101818853116 and parameters: {'pagerank_cutoff': 0.8964760192175669, 'despike': True, 'baseline_correct': True, 'smoothing': False, 'scaling': True, 'despike_ma': 93, 'despike_threshold': 4.25, 'lam': 100, 'p': 0.077, 'scaling_type': 'vector', 'classifier': 'RandomForest', 'rf_n_estimators': 79, 'rf_max_depth': 21, 'rf_criterion': 'gini'}. Best is trial 368 with value: 0.696570597495554.\n",
      "[I 2024-03-30 15:46:15,232] Trial 653 finished with value: 0.56889938410929 and parameters: {'pagerank_cutoff': 0.8898823645104494, 'despike': True, 'baseline_correct': True, 'smoothing': False, 'scaling': True, 'despike_ma': 98, 'despike_threshold': 4.0, 'lam': 100000000, 'p': 0.077, 'scaling_type': 'vector', 'classifier': 'RandomForest', 'rf_n_estimators': 79, 'rf_max_depth': 21, 'rf_criterion': 'gini'}. Best is trial 368 with value: 0.696570597495554.\n",
      "[I 2024-03-30 15:46:24,612] Trial 650 finished with value: 0.6422606608008575 and parameters: {'pagerank_cutoff': 0.8940832728581609, 'despike': True, 'baseline_correct': True, 'smoothing': False, 'scaling': True, 'despike_ma': 98, 'despike_threshold': 5.0, 'lam': 100000000000, 'p': 0.075, 'scaling_type': 'vector', 'classifier': 'RandomForest', 'rf_n_estimators': 80, 'rf_max_depth': 21, 'rf_criterion': 'log_loss'}. Best is trial 368 with value: 0.696570597495554.\n",
      "[I 2024-03-30 15:46:26,040] Trial 654 finished with value: 0.548489878974035 and parameters: {'pagerank_cutoff': 0.9072046130437956, 'despike': True, 'baseline_correct': True, 'smoothing': False, 'scaling': True, 'despike_ma': 98, 'despike_threshold': 4.0, 'lam': 100000000, 'p': 0.077, 'scaling_type': 'normal', 'classifier': 'RandomForest', 'rf_n_estimators': 79, 'rf_max_depth': 21, 'rf_criterion': 'gini'}. Best is trial 368 with value: 0.696570597495554.\n",
      "[I 2024-03-30 15:46:28,489] Trial 652 finished with value: 0.6353031324175433 and parameters: {'pagerank_cutoff': 0.8887365594305535, 'despike': True, 'baseline_correct': True, 'smoothing': False, 'scaling': True, 'despike_ma': 98, 'despike_threshold': 3.5, 'lam': 100000000000, 'p': 0.076, 'scaling_type': 'vector', 'classifier': 'RandomForest', 'rf_n_estimators': 80, 'rf_max_depth': 20, 'rf_criterion': 'log_loss'}. Best is trial 368 with value: 0.696570597495554.\n",
      "[I 2024-03-30 15:46:48,086] Trial 655 finished with value: 0.5296501770058482 and parameters: {'pagerank_cutoff': 0.8849148395403547, 'despike': True, 'baseline_correct': True, 'smoothing': False, 'scaling': True, 'despike_ma': 97, 'despike_threshold': 6.25, 'lam': 100000000, 'p': 0.077, 'scaling_type': 'normal', 'classifier': 'RandomForest', 'rf_n_estimators': 80, 'rf_max_depth': 21, 'rf_criterion': 'log_loss'}. Best is trial 368 with value: 0.696570597495554.\n",
      "[I 2024-03-30 15:46:58,874] Trial 662 finished with value: 0.5536844820765143 and parameters: {'pagerank_cutoff': 0.8876879868088702, 'despike': False, 'baseline_correct': True, 'smoothing': False, 'scaling': False, 'lam': 100000000000, 'p': 0.074, 'classifier': 'SVC', 'svc_c': 35475501.08645309, 'svc_kernel': 'linear', 'svc_gamma': 'auto'}. Best is trial 368 with value: 0.696570597495554.\n",
      "[I 2024-03-30 15:47:04,674] Trial 663 finished with value: 0.5366302478562123 and parameters: {'pagerank_cutoff': 0.8110198298110419, 'despike': False, 'baseline_correct': True, 'smoothing': False, 'scaling': True, 'lam': 100000000000, 'p': 0.074, 'scaling_type': 'vector', 'classifier': 'SVC', 'svc_c': 211599621.51068363, 'svc_kernel': 'linear', 'svc_gamma': 'auto'}. Best is trial 368 with value: 0.696570597495554.\n",
      "[I 2024-03-30 15:47:08,152] Trial 656 finished with value: 0.6313417733534802 and parameters: {'pagerank_cutoff': 0.8907407380484761, 'despike': True, 'baseline_correct': True, 'smoothing': False, 'scaling': True, 'despike_ma': 97, 'despike_threshold': 4.0, 'lam': 100000000000, 'p': 0.076, 'scaling_type': 'normal', 'classifier': 'RandomForest', 'rf_n_estimators': 80, 'rf_max_depth': 19, 'rf_criterion': 'log_loss'}. Best is trial 368 with value: 0.696570597495554.\n",
      "[I 2024-03-30 15:47:18,519] Trial 660 finished with value: 0.6061218616934864 and parameters: {'pagerank_cutoff': 0.901450225407949, 'despike': True, 'baseline_correct': True, 'smoothing': False, 'scaling': False, 'despike_ma': 97, 'despike_threshold': 4.0, 'lam': 100000000000, 'p': 0.074, 'classifier': 'RandomForest', 'rf_n_estimators': 79, 'rf_max_depth': 19, 'rf_criterion': 'log_loss'}. Best is trial 368 with value: 0.696570597495554.\n",
      "[I 2024-03-30 15:47:25,167] Trial 659 finished with value: 0.6094732783959628 and parameters: {'pagerank_cutoff': 0.8857528912777536, 'despike': True, 'baseline_correct': True, 'smoothing': False, 'scaling': False, 'despike_ma': 98, 'despike_threshold': 3.5, 'lam': 100000000000, 'p': 0.074, 'classifier': 'RandomForest', 'rf_n_estimators': 81, 'rf_max_depth': 26, 'rf_criterion': 'log_loss'}. Best is trial 368 with value: 0.696570597495554.\n",
      "[I 2024-03-30 15:47:26,866] Trial 664 finished with value: 0.5579301565230214 and parameters: {'pagerank_cutoff': 0.8096773441629004, 'despike': False, 'baseline_correct': True, 'smoothing': False, 'scaling': False, 'lam': 100000000000, 'p': 0.074, 'classifier': 'SVC', 'svc_c': 784028.3773103089, 'svc_kernel': 'linear', 'svc_gamma': 'auto'}. Best is trial 368 with value: 0.696570597495554.\n",
      "[I 2024-03-30 15:47:27,237] Trial 666 finished with value: 0.576875344795433 and parameters: {'pagerank_cutoff': 0.8270240460454887, 'despike': False, 'baseline_correct': True, 'smoothing': False, 'scaling': False, 'lam': 100000000000, 'p': 0.074, 'classifier': 'SVC', 'svc_c': 387295.6898959807, 'svc_kernel': 'linear', 'svc_gamma': 'auto'}. Best is trial 368 with value: 0.696570597495554.\n",
      "[I 2024-03-30 15:47:28,203] Trial 665 finished with value: 0.5555172863696592 and parameters: {'pagerank_cutoff': 0.8213259173302371, 'despike': False, 'baseline_correct': True, 'smoothing': False, 'scaling': False, 'lam': 100000000000, 'p': 0.060000000000000005, 'classifier': 'SVC', 'svc_c': 7787851.824780931, 'svc_kernel': 'linear', 'svc_gamma': 'auto'}. Best is trial 368 with value: 0.696570597495554.\n",
      "[I 2024-03-30 15:47:31,078] Trial 657 finished with value: 0.5278810562632383 and parameters: {'pagerank_cutoff': 0.8945613694748479, 'despike': True, 'baseline_correct': True, 'smoothing': False, 'scaling': True, 'despike_ma': 98, 'despike_threshold': 3.5, 'lam': 100000000, 'p': 0.076, 'scaling_type': 'normal', 'classifier': 'RandomForest', 'rf_n_estimators': 79, 'rf_max_depth': 19, 'rf_criterion': 'log_loss'}. Best is trial 368 with value: 0.696570597495554.\n",
      "[I 2024-03-30 15:47:40,078] Trial 658 finished with value: 0.5235221979175471 and parameters: {'pagerank_cutoff': 0.8939982397142175, 'despike': True, 'baseline_correct': True, 'smoothing': False, 'scaling': True, 'despike_ma': 98, 'despike_threshold': 5.0, 'lam': 100000000, 'p': 0.076, 'scaling_type': 'normal', 'classifier': 'RandomForest', 'rf_n_estimators': 80, 'rf_max_depth': 26, 'rf_criterion': 'log_loss'}. Best is trial 368 with value: 0.696570597495554.\n",
      "[I 2024-03-30 15:48:59,836] Trial 661 finished with value: 0.6011966109406425 and parameters: {'pagerank_cutoff': 0.8898930743999685, 'despike': True, 'baseline_correct': True, 'smoothing': False, 'scaling': False, 'despike_ma': 98, 'despike_threshold': 4.25, 'lam': 100000000000, 'p': 0.074, 'classifier': 'RandomForest', 'rf_n_estimators': 80, 'rf_max_depth': 19, 'rf_criterion': 'log_loss'}. Best is trial 368 with value: 0.696570597495554.\n",
      "[I 2024-03-30 15:49:47,702] Trial 678 finished with value: 0.6165594190077905 and parameters: {'pagerank_cutoff': 0.9670238319920885, 'despike': True, 'baseline_correct': True, 'smoothing': False, 'scaling': True, 'despike_ma': 89, 'despike_threshold': 3.75, 'lam': 100000000000, 'p': 0.069, 'scaling_type': 'vector', 'classifier': 'RandomForest', 'rf_n_estimators': 10, 'rf_max_depth': 25, 'rf_criterion': 'entropy'}. Best is trial 368 with value: 0.696570597495554.\n",
      "[I 2024-03-30 15:50:13,080] Trial 668 finished with value: 0.6660613944417227 and parameters: {'pagerank_cutoff': 0.8125153339981527, 'despike': False, 'baseline_correct': True, 'smoothing': False, 'scaling': True, 'lam': 100000000000, 'p': 0.08, 'scaling_type': 'vector', 'classifier': 'RandomForest', 'rf_n_estimators': 76, 'rf_max_depth': 10, 'rf_criterion': 'entropy'}. Best is trial 368 with value: 0.696570597495554.\n",
      "[I 2024-03-30 15:50:17,772] Trial 667 finished with value: 0.5788006771696305 and parameters: {'pagerank_cutoff': 0.32848573590399227, 'despike': False, 'baseline_correct': True, 'smoothing': False, 'scaling': False, 'lam': 100000000000, 'p': 0.060000000000000005, 'classifier': 'RandomForest', 'rf_n_estimators': 92, 'rf_max_depth': 26, 'rf_criterion': 'entropy'}. Best is trial 368 with value: 0.696570597495554.\n",
      "[I 2024-03-30 15:50:43,477] Trial 675 finished with value: 0.6320960992574135 and parameters: {'pagerank_cutoff': 0.9484166155452336, 'despike': True, 'baseline_correct': True, 'smoothing': False, 'scaling': True, 'despike_ma': 89, 'despike_threshold': 3.75, 'lam': 100000000000, 'p': 0.042, 'scaling_type': 'vector', 'classifier': 'RandomForest', 'rf_n_estimators': 76, 'rf_max_depth': 6, 'rf_criterion': 'entropy'}. Best is trial 368 with value: 0.696570597495554.\n",
      "[I 2024-03-30 15:50:50,349] Trial 672 finished with value: 0.6437498297021564 and parameters: {'pagerank_cutoff': 0.9799308451132545, 'despike': True, 'baseline_correct': True, 'smoothing': False, 'scaling': True, 'despike_ma': 90, 'despike_threshold': 9.75, 'lam': 100000000000, 'p': 0.057, 'scaling_type': 'vector', 'classifier': 'RandomForest', 'rf_n_estimators': 76, 'rf_max_depth': 10, 'rf_criterion': 'entropy'}. Best is trial 368 with value: 0.696570597495554.\n",
      "[I 2024-03-30 15:50:53,001] Trial 670 finished with value: 0.6752353797143831 and parameters: {'pagerank_cutoff': 0.975828883179743, 'despike': True, 'baseline_correct': True, 'smoothing': False, 'scaling': True, 'despike_ma': 90, 'despike_threshold': 3.75, 'lam': 100000000000, 'p': 0.08, 'scaling_type': 'vector', 'classifier': 'RandomForest', 'rf_n_estimators': 77, 'rf_max_depth': 26, 'rf_criterion': 'entropy'}. Best is trial 368 with value: 0.696570597495554.\n",
      "[I 2024-03-30 15:50:59,440] Trial 674 finished with value: 0.6522411014095402 and parameters: {'pagerank_cutoff': 0.9687377435100897, 'despike': True, 'baseline_correct': True, 'smoothing': False, 'scaling': True, 'despike_ma': 31, 'despike_threshold': 3.75, 'lam': 100000000000, 'p': 0.060000000000000005, 'scaling_type': 'vector', 'classifier': 'RandomForest', 'rf_n_estimators': 76, 'rf_max_depth': 23, 'rf_criterion': 'entropy'}. Best is trial 368 with value: 0.696570597495554.\n",
      "[I 2024-03-30 15:50:59,655] Trial 676 finished with value: 0.6136739579629953 and parameters: {'pagerank_cutoff': 0.9717472836496093, 'despike': True, 'baseline_correct': True, 'smoothing': False, 'scaling': True, 'despike_ma': 85, 'despike_threshold': 5.25, 'lam': 100000000000, 'p': 0.08, 'scaling_type': 'vector', 'classifier': 'RandomForest', 'rf_n_estimators': 77, 'rf_max_depth': 25, 'rf_criterion': 'entropy'}. Best is trial 368 with value: 0.696570597495554.\n",
      "[I 2024-03-30 15:50:59,858] Trial 677 finished with value: 0.659598862487016 and parameters: {'pagerank_cutoff': 0.9694259230482772, 'despike': True, 'baseline_correct': True, 'smoothing': False, 'scaling': True, 'despike_ma': 94, 'despike_threshold': 3.75, 'lam': 100000000000, 'p': 0.08, 'scaling_type': 'vector', 'classifier': 'RandomForest', 'rf_n_estimators': 76, 'rf_max_depth': 23, 'rf_criterion': 'entropy'}. Best is trial 368 with value: 0.696570597495554.\n",
      "[I 2024-03-30 15:51:02,474] Trial 673 finished with value: 0.6452048237937377 and parameters: {'pagerank_cutoff': 0.9701069166432413, 'despike': True, 'baseline_correct': True, 'smoothing': False, 'scaling': True, 'despike_ma': 94, 'despike_threshold': 3.75, 'lam': 100000000000, 'p': 0.057, 'scaling_type': 'vector', 'classifier': 'RandomForest', 'rf_n_estimators': 77, 'rf_max_depth': 25, 'rf_criterion': 'entropy'}. Best is trial 368 with value: 0.696570597495554.\n",
      "[I 2024-03-30 15:51:48,048] Trial 671 finished with value: 0.6726188076576914 and parameters: {'pagerank_cutoff': 0.821798081444813, 'despike': True, 'baseline_correct': True, 'smoothing': False, 'scaling': True, 'despike_ma': 89, 'despike_threshold': 3.75, 'lam': 100000000000, 'p': 0.081, 'scaling_type': 'vector', 'classifier': 'RandomForest', 'rf_n_estimators': 76, 'rf_max_depth': 23, 'rf_criterion': 'entropy'}. Best is trial 368 with value: 0.696570597495554.\n",
      "[I 2024-03-30 15:51:49,445] Trial 669 finished with value: 0.6498609308469707 and parameters: {'pagerank_cutoff': 0.8170138552469478, 'despike': True, 'baseline_correct': True, 'smoothing': False, 'scaling': True, 'despike_ma': 97, 'despike_threshold': 3.75, 'lam': 100000000000, 'p': 0.069, 'scaling_type': 'vector', 'classifier': 'RandomForest', 'rf_n_estimators': 77, 'rf_max_depth': 26, 'rf_criterion': 'entropy'}. Best is trial 368 with value: 0.696570597495554.\n",
      "[I 2024-03-30 15:52:16,232] Trial 679 finished with value: 0.6254580853103707 and parameters: {'pagerank_cutoff': 0.9579862610885306, 'despike': True, 'baseline_correct': True, 'smoothing': False, 'scaling': True, 'despike_ma': 31, 'despike_threshold': 9.75, 'lam': 100000000000, 'p': 0.057, 'scaling_type': 'vector', 'classifier': 'RandomForest', 'rf_n_estimators': 77, 'rf_max_depth': 23, 'rf_criterion': 'entropy'}. Best is trial 368 with value: 0.696570597495554.\n",
      "[I 2024-03-30 15:53:20,726] Trial 681 finished with value: 0.6690724021297461 and parameters: {'pagerank_cutoff': 0.9546187555172299, 'despike': True, 'baseline_correct': True, 'smoothing': False, 'scaling': True, 'despike_ma': 90, 'despike_threshold': 7.5, 'lam': 100000000000, 'p': 0.069, 'scaling_type': 'vector', 'classifier': 'RandomForest', 'rf_n_estimators': 77, 'rf_max_depth': 27, 'rf_criterion': 'entropy'}. Best is trial 368 with value: 0.696570597495554.\n",
      "[I 2024-03-30 15:53:52,670] Trial 680 finished with value: 0.6548293899744422 and parameters: {'pagerank_cutoff': 0.9492626620539524, 'despike': True, 'baseline_correct': True, 'smoothing': False, 'scaling': True, 'despike_ma': 90, 'despike_threshold': 3.75, 'lam': 100000000000, 'p': 0.082, 'scaling_type': 'vector', 'classifier': 'RandomForest', 'rf_n_estimators': 92, 'rf_max_depth': 23, 'rf_criterion': 'entropy'}. Best is trial 368 with value: 0.696570597495554.\n",
      "[I 2024-03-30 15:54:17,055] Trial 683 finished with value: 0.6303199671181997 and parameters: {'pagerank_cutoff': 1.0123925284130824, 'despike': True, 'baseline_correct': True, 'smoothing': False, 'scaling': True, 'despike_ma': 34, 'despike_threshold': 4.75, 'lam': 100000000000, 'p': 0.068, 'scaling_type': 'vector', 'classifier': 'RandomForest', 'rf_n_estimators': 77, 'rf_max_depth': 22, 'rf_criterion': 'entropy'}. Best is trial 368 with value: 0.696570597495554.\n",
      "[I 2024-03-30 15:54:25,892] Trial 686 finished with value: 0.6554111870333305 and parameters: {'pagerank_cutoff': 1.020288418404393, 'despike': True, 'baseline_correct': True, 'smoothing': False, 'scaling': True, 'despike_ma': 39, 'despike_threshold': 10.0, 'lam': 100000000000, 'p': 0.069, 'scaling_type': 'vector', 'classifier': 'RandomForest', 'rf_n_estimators': 84, 'rf_max_depth': 22, 'rf_criterion': 'entropy'}. Best is trial 368 with value: 0.696570597495554.\n",
      "[I 2024-03-30 15:54:47,418] Trial 682 finished with value: 0.6706177444185859 and parameters: {'pagerank_cutoff': 0.9737711922905459, 'despike': True, 'baseline_correct': True, 'smoothing': False, 'scaling': True, 'despike_ma': 65, 'despike_threshold': 10.0, 'lam': 100000000000, 'p': 0.07, 'scaling_type': 'vector', 'classifier': 'RandomForest', 'rf_n_estimators': 89, 'rf_max_depth': 23, 'rf_criterion': 'entropy'}. Best is trial 368 with value: 0.696570597495554.\n",
      "[I 2024-03-30 15:55:16,494] Trial 688 finished with value: 0.6693517112917496 and parameters: {'pagerank_cutoff': 0.8442447381439697, 'despike': True, 'baseline_correct': True, 'smoothing': False, 'scaling': True, 'despike_ma': 64, 'despike_threshold': 8.75, 'lam': 100000000000, 'p': 0.069, 'scaling_type': 'vector', 'classifier': 'RandomForest', 'rf_n_estimators': 83, 'rf_max_depth': 22, 'rf_criterion': 'entropy'}. Best is trial 368 with value: 0.696570597495554.\n",
      "[I 2024-03-30 15:55:17,637] Trial 687 finished with value: 0.6529589598379985 and parameters: {'pagerank_cutoff': 0.8349138011304885, 'despike': True, 'baseline_correct': True, 'smoothing': False, 'scaling': True, 'despike_ma': 93, 'despike_threshold': 10.0, 'lam': 100000000000, 'p': 0.069, 'scaling_type': 'vector', 'classifier': 'RandomForest', 'rf_n_estimators': 84, 'rf_max_depth': 22, 'rf_criterion': 'entropy'}. Best is trial 368 with value: 0.696570597495554.\n",
      "[I 2024-03-30 15:55:18,464] Trial 690 finished with value: 0.6740010666115859 and parameters: {'pagerank_cutoff': 0.8444591829632537, 'despike': True, 'baseline_correct': True, 'smoothing': False, 'scaling': True, 'despike_ma': 62, 'despike_threshold': 10.0, 'lam': 100000000000, 'p': 0.07, 'scaling_type': 'vector', 'classifier': 'RandomForest', 'rf_n_estimators': 83, 'rf_max_depth': 16, 'rf_criterion': 'entropy'}. Best is trial 368 with value: 0.696570597495554.\n",
      "[I 2024-03-30 15:55:19,033] Trial 684 finished with value: 0.6573642079002106 and parameters: {'pagerank_cutoff': 0.8410011252739452, 'despike': True, 'baseline_correct': True, 'smoothing': False, 'scaling': True, 'despike_ma': 93, 'despike_threshold': 4.75, 'lam': 100000000000, 'p': 0.02, 'scaling_type': 'vector', 'classifier': 'RandomForest', 'rf_n_estimators': 84, 'rf_max_depth': 22, 'rf_criterion': 'entropy'}. Best is trial 368 with value: 0.696570597495554.\n",
      "[I 2024-03-30 15:55:21,505] Trial 689 finished with value: 0.6550386224679535 and parameters: {'pagerank_cutoff': 0.8408836251913556, 'despike': True, 'baseline_correct': True, 'smoothing': False, 'scaling': True, 'despike_ma': 64, 'despike_threshold': 10.0, 'lam': 100000000000, 'p': 0.016, 'scaling_type': 'vector', 'classifier': 'RandomForest', 'rf_n_estimators': 83, 'rf_max_depth': 22, 'rf_criterion': 'entropy'}. Best is trial 368 with value: 0.696570597495554.\n",
      "[I 2024-03-30 15:55:32,995] Trial 685 finished with value: 0.661700643626636 and parameters: {'pagerank_cutoff': 0.8375740324416183, 'despike': True, 'baseline_correct': True, 'smoothing': False, 'scaling': True, 'despike_ma': 85, 'despike_threshold': 10.0, 'lam': 100000000000, 'p': 0.069, 'scaling_type': 'vector', 'classifier': 'RandomForest', 'rf_n_estimators': 90, 'rf_max_depth': 23, 'rf_criterion': 'entropy'}. Best is trial 368 with value: 0.696570597495554.\n",
      "[I 2024-03-30 15:55:33,255] Trial 691 finished with value: 0.659169062812578 and parameters: {'pagerank_cutoff': 0.8493732505067143, 'despike': True, 'baseline_correct': True, 'smoothing': False, 'scaling': True, 'despike_ma': 62, 'despike_threshold': 10.0, 'lam': 100000000000, 'p': 0.068, 'scaling_type': 'vector', 'classifier': 'RandomForest', 'rf_n_estimators': 89, 'rf_max_depth': 16, 'rf_criterion': 'entropy'}. Best is trial 368 with value: 0.696570597495554.\n",
      "[I 2024-03-30 15:55:48,322] Trial 695 finished with value: 0.45163697547868376 and parameters: {'pagerank_cutoff': 1.2416224239807814, 'despike': True, 'baseline_correct': True, 'smoothing': False, 'scaling': True, 'despike_ma': 61, 'despike_threshold': 10.0, 'lam': 100000000000, 'p': 0.07, 'scaling_type': 'vector', 'classifier': 'RandomForest', 'rf_n_estimators': 90, 'rf_max_depth': 16, 'rf_criterion': 'entropy'}. Best is trial 368 with value: 0.696570597495554.\n",
      "[I 2024-03-30 15:55:59,407] Trial 692 finished with value: 0.6309540096348933 and parameters: {'pagerank_cutoff': 0.8421207523645762, 'despike': True, 'baseline_correct': True, 'smoothing': False, 'scaling': True, 'despike_ma': 65, 'despike_threshold': 4.75, 'lam': 100000000000, 'p': 0.07, 'scaling_type': 'vector', 'classifier': 'RandomForest', 'rf_n_estimators': 89, 'rf_max_depth': 16, 'rf_criterion': 'entropy'}. Best is trial 368 with value: 0.696570597495554.\n",
      "[I 2024-03-30 15:56:17,982] Trial 699 finished with value: 0.5740401440979593 and parameters: {'pagerank_cutoff': 1.2542373765155832, 'despike': True, 'baseline_correct': True, 'smoothing': False, 'scaling': True, 'despike_ma': 96, 'despike_threshold': 9.25, 'lam': 10000000000, 'p': 0.067, 'scaling_type': 'svn', 'classifier': 'RandomForest', 'rf_n_estimators': 98, 'rf_max_depth': 19, 'rf_criterion': 'entropy'}. Best is trial 368 with value: 0.696570597495554.\n",
      "[I 2024-03-30 15:56:19,738] Trial 693 finished with value: 0.5295310118880303 and parameters: {'pagerank_cutoff': 0.847695374598774, 'despike': True, 'baseline_correct': True, 'smoothing': False, 'scaling': True, 'despike_ma': 61, 'despike_threshold': 10.0, 'lam': 1000000, 'p': 0.07, 'scaling_type': 'vector', 'classifier': 'RandomForest', 'rf_n_estimators': 83, 'rf_max_depth': 16, 'rf_criterion': 'entropy'}. Best is trial 368 with value: 0.696570597495554.\n",
      "[I 2024-03-30 15:56:39,460] Trial 694 finished with value: 0.5267673170624643 and parameters: {'pagerank_cutoff': 0.7201299667146278, 'despike': True, 'baseline_correct': True, 'smoothing': False, 'scaling': True, 'despike_ma': 62, 'despike_threshold': 10.0, 'lam': 1000000, 'p': 0.029, 'scaling_type': 'vector', 'classifier': 'RandomForest', 'rf_n_estimators': 83, 'rf_max_depth': 16, 'rf_criterion': 'entropy'}. Best is trial 368 with value: 0.696570597495554.\n",
      "[I 2024-03-30 15:56:40,153] Trial 696 finished with value: 0.49627864941999444 and parameters: {'pagerank_cutoff': 0.8420642808333764, 'despike': True, 'baseline_correct': True, 'smoothing': False, 'scaling': True, 'despike_ma': 61, 'despike_threshold': 9.75, 'lam': 1000000, 'p': 0.016, 'scaling_type': 'vector', 'classifier': 'RandomForest', 'rf_n_estimators': 83, 'rf_max_depth': 16, 'rf_criterion': 'entropy'}. Best is trial 368 with value: 0.696570597495554.\n",
      "[I 2024-03-30 15:57:05,505] Trial 697 finished with value: 0.6265054121988822 and parameters: {'pagerank_cutoff': 0.7185220000836839, 'despike': True, 'baseline_correct': True, 'smoothing': False, 'scaling': True, 'despike_ma': 62, 'despike_threshold': 9.75, 'lam': 100000000000, 'p': 0.019000000000000003, 'scaling_type': 'vector', 'classifier': 'RandomForest', 'rf_n_estimators': 82, 'rf_max_depth': 16, 'rf_criterion': 'entropy'}. Best is trial 368 with value: 0.696570597495554.\n",
      "[I 2024-03-30 15:57:12,724] Trial 698 finished with value: 0.6696697823717906 and parameters: {'pagerank_cutoff': 0.7369283317052281, 'despike': True, 'baseline_correct': True, 'smoothing': False, 'scaling': True, 'despike_ma': 96, 'despike_threshold': 9.25, 'lam': 100000000000, 'p': 0.07300000000000001, 'scaling_type': 'svn', 'classifier': 'RandomForest', 'rf_n_estimators': 96, 'rf_max_depth': 16, 'rf_criterion': 'entropy'}. Best is trial 368 with value: 0.696570597495554.\n"
     ]
    },
    {
     "name": "stdout",
     "output_type": "stream",
     "text": [
      "FrozenTrial(number=368, state=1, values=[0.696570597495554], datetime_start=datetime.datetime(2024, 3, 30, 14, 22, 59, 573958), datetime_complete=datetime.datetime(2024, 3, 30, 14, 25, 27, 868326), params={'pagerank_cutoff': 0.9024609991689507, 'despike': True, 'baseline_correct': True, 'smoothing': False, 'scaling': True, 'despike_ma': 57, 'despike_threshold': 3.75, 'lam': 100000000000, 'p': 0.074, 'scaling_type': 'vector', 'classifier': 'RandomForest', 'rf_n_estimators': 78, 'rf_max_depth': 23, 'rf_criterion': 'entropy'}, user_attrs={}, system_attrs={}, intermediate_values={}, distributions={'pagerank_cutoff': FloatDistribution(high=1.5, log=False, low=0.0, step=None), 'despike': CategoricalDistribution(choices=(True, False)), 'baseline_correct': CategoricalDistribution(choices=(True, False)), 'smoothing': CategoricalDistribution(choices=(True, False)), 'scaling': CategoricalDistribution(choices=(True, False)), 'despike_ma': IntDistribution(high=100, log=False, low=5, step=1), 'despike_threshold': FloatDistribution(high=10.0, log=False, low=3.0, step=0.25), 'lam': CategoricalDistribution(choices=(100, 1000, 10000, 100000, 1000000, 10000000, 100000000, 1000000000, 10000000000, 100000000000)), 'p': FloatDistribution(high=0.1, log=False, low=0.001, step=0.001), 'scaling_type': CategoricalDistribution(choices=('normal', 'vector', 'svn')), 'classifier': CategoricalDistribution(choices=('ExtraTrees', 'RandomForest', 'SVC')), 'rf_n_estimators': IntDistribution(high=100, log=False, low=10, step=1), 'rf_max_depth': IntDistribution(high=32, log=True, low=2, step=1), 'rf_criterion': CategoricalDistribution(choices=('gini', 'entropy', 'log_loss'))}, trial_id=368, value=None)\n"
     ]
    }
   ],
   "source": [
    "study.optimize(objective, n_trials=400, n_jobs=-1)\n",
    "\n",
    "print(study.best_trial)"
   ]
  }
 ],
 "metadata": {
  "kernelspec": {
   "display_name": "Python 3",
   "language": "python",
   "name": "python3"
  },
  "language_info": {
   "codemirror_mode": {
    "name": "ipython",
    "version": 3
   },
   "file_extension": ".py",
   "mimetype": "text/x-python",
   "name": "python",
   "nbconvert_exporter": "python",
   "pygments_lexer": "ipython3",
   "version": "3.11.1"
  }
 },
 "nbformat": 4,
 "nbformat_minor": 2
}
