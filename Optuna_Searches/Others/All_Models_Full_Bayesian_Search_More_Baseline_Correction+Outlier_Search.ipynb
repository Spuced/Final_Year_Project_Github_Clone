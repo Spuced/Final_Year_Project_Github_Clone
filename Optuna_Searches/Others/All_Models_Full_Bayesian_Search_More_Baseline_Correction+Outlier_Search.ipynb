{
 "cells": [
  {
   "cell_type": "markdown",
   "metadata": {},
   "source": [
    "### **This Notebook Performs a Parameters Search on Every Possible Cleaning and Model Parameter.**"
   ]
  },
  {
   "cell_type": "markdown",
   "metadata": {},
   "source": [
    "Lets test different spectral cleaning parameters by building a model pipeline."
   ]
  },
  {
   "cell_type": "markdown",
   "metadata": {},
   "source": [
    "Import Libraries"
   ]
  },
  {
   "cell_type": "code",
   "execution_count": 1,
   "metadata": {},
   "outputs": [],
   "source": [
    "import pandas as pd\n",
    "import numpy as np\n",
    "from scipy.signal import savgol_filter\n",
    "from sklearn.ensemble import RandomForestClassifier\n",
    "from sklearn.ensemble import ExtraTreesClassifier\n",
    "from sklearn.svm import SVC\n",
    "from sklearn.model_selection import cross_validate, GroupKFold, cross_val_score\n",
    "from Spectra_Preparation_Functions import *\n",
    "from sklearn.base import BaseEstimator, TransformerMixin\n",
    "from sklearn.pipeline import Pipeline\n",
    "import optuna"
   ]
  },
  {
   "cell_type": "markdown",
   "metadata": {},
   "source": [
    "Read the spectral data"
   ]
  },
  {
   "cell_type": "code",
   "execution_count": 2,
   "metadata": {},
   "outputs": [],
   "source": [
    "#df = pd.read_csv(\"../../data/exosomes.raw_spectrum_1.csv\")\n",
    "# df = pd.read_csv(\"../../data/raw_df_outliers_removed.csv\")\n",
    "df = pd.read_csv(\"../../data/400-1800_with_raw_scaled_surface_pagerank.csv\")"
   ]
  },
  {
   "cell_type": "code",
   "execution_count": 3,
   "metadata": {},
   "outputs": [
    {
     "data": {
      "text/html": [
       "<div>\n",
       "<style scoped>\n",
       "    .dataframe tbody tr th:only-of-type {\n",
       "        vertical-align: middle;\n",
       "    }\n",
       "\n",
       "    .dataframe tbody tr th {\n",
       "        vertical-align: top;\n",
       "    }\n",
       "\n",
       "    .dataframe thead th {\n",
       "        text-align: right;\n",
       "    }\n",
       "</style>\n",
       "<table border=\"1\" class=\"dataframe\">\n",
       "  <thead>\n",
       "    <tr style=\"text-align: right;\">\n",
       "      <th></th>\n",
       "      <th>SpecID</th>\n",
       "      <th>Seq</th>\n",
       "      <th>WaveNumber</th>\n",
       "      <th>Absorbance</th>\n",
       "      <th>SurID</th>\n",
       "      <th>Status</th>\n",
       "      <th>PageRank</th>\n",
       "    </tr>\n",
       "  </thead>\n",
       "  <tbody>\n",
       "    <tr>\n",
       "      <th>0</th>\n",
       "      <td>201210-1-00</td>\n",
       "      <td>293</td>\n",
       "      <td>400.22778</td>\n",
       "      <td>1765.6628</td>\n",
       "      <td>201210-1</td>\n",
       "      <td>Normal</td>\n",
       "      <td>0.610024</td>\n",
       "    </tr>\n",
       "    <tr>\n",
       "      <th>1</th>\n",
       "      <td>201210-1-00</td>\n",
       "      <td>294</td>\n",
       "      <td>400.91116</td>\n",
       "      <td>1774.7809</td>\n",
       "      <td>201210-1</td>\n",
       "      <td>Normal</td>\n",
       "      <td>0.610024</td>\n",
       "    </tr>\n",
       "    <tr>\n",
       "      <th>2</th>\n",
       "      <td>201210-1-00</td>\n",
       "      <td>295</td>\n",
       "      <td>401.59454</td>\n",
       "      <td>1769.0302</td>\n",
       "      <td>201210-1</td>\n",
       "      <td>Normal</td>\n",
       "      <td>0.610024</td>\n",
       "    </tr>\n",
       "    <tr>\n",
       "      <th>3</th>\n",
       "      <td>201210-1-00</td>\n",
       "      <td>296</td>\n",
       "      <td>402.27789</td>\n",
       "      <td>1756.4220</td>\n",
       "      <td>201210-1</td>\n",
       "      <td>Normal</td>\n",
       "      <td>0.610024</td>\n",
       "    </tr>\n",
       "    <tr>\n",
       "      <th>4</th>\n",
       "      <td>201210-1-00</td>\n",
       "      <td>297</td>\n",
       "      <td>402.96127</td>\n",
       "      <td>1758.8690</td>\n",
       "      <td>201210-1</td>\n",
       "      <td>Normal</td>\n",
       "      <td>0.610024</td>\n",
       "    </tr>\n",
       "    <tr>\n",
       "      <th>...</th>\n",
       "      <td>...</td>\n",
       "      <td>...</td>\n",
       "      <td>...</td>\n",
       "      <td>...</td>\n",
       "      <td>...</td>\n",
       "      <td>...</td>\n",
       "      <td>...</td>\n",
       "    </tr>\n",
       "    <tr>\n",
       "      <th>6239200</th>\n",
       "      <td>210526-3-09</td>\n",
       "      <td>2337</td>\n",
       "      <td>1797.03870</td>\n",
       "      <td>1617.3926</td>\n",
       "      <td>210526-3</td>\n",
       "      <td>Hyperglycemia</td>\n",
       "      <td>1.201164</td>\n",
       "    </tr>\n",
       "    <tr>\n",
       "      <th>6239201</th>\n",
       "      <td>210526-3-09</td>\n",
       "      <td>2338</td>\n",
       "      <td>1797.72200</td>\n",
       "      <td>1633.0911</td>\n",
       "      <td>210526-3</td>\n",
       "      <td>Hyperglycemia</td>\n",
       "      <td>1.201164</td>\n",
       "    </tr>\n",
       "    <tr>\n",
       "      <th>6239202</th>\n",
       "      <td>210526-3-09</td>\n",
       "      <td>2339</td>\n",
       "      <td>1798.40550</td>\n",
       "      <td>1633.3076</td>\n",
       "      <td>210526-3</td>\n",
       "      <td>Hyperglycemia</td>\n",
       "      <td>1.201164</td>\n",
       "    </tr>\n",
       "    <tr>\n",
       "      <th>6239203</th>\n",
       "      <td>210526-3-09</td>\n",
       "      <td>2340</td>\n",
       "      <td>1799.08890</td>\n",
       "      <td>1641.8665</td>\n",
       "      <td>210526-3</td>\n",
       "      <td>Hyperglycemia</td>\n",
       "      <td>1.201164</td>\n",
       "    </tr>\n",
       "    <tr>\n",
       "      <th>6239204</th>\n",
       "      <td>210526-3-09</td>\n",
       "      <td>2341</td>\n",
       "      <td>1799.77220</td>\n",
       "      <td>1618.2405</td>\n",
       "      <td>210526-3</td>\n",
       "      <td>Hyperglycemia</td>\n",
       "      <td>1.201164</td>\n",
       "    </tr>\n",
       "  </tbody>\n",
       "</table>\n",
       "<p>6239205 rows × 7 columns</p>\n",
       "</div>"
      ],
      "text/plain": [
       "              SpecID   Seq  WaveNumber  Absorbance     SurID         Status  \\\n",
       "0        201210-1-00   293   400.22778   1765.6628  201210-1         Normal   \n",
       "1        201210-1-00   294   400.91116   1774.7809  201210-1         Normal   \n",
       "2        201210-1-00   295   401.59454   1769.0302  201210-1         Normal   \n",
       "3        201210-1-00   296   402.27789   1756.4220  201210-1         Normal   \n",
       "4        201210-1-00   297   402.96127   1758.8690  201210-1         Normal   \n",
       "...              ...   ...         ...         ...       ...            ...   \n",
       "6239200  210526-3-09  2337  1797.03870   1617.3926  210526-3  Hyperglycemia   \n",
       "6239201  210526-3-09  2338  1797.72200   1633.0911  210526-3  Hyperglycemia   \n",
       "6239202  210526-3-09  2339  1798.40550   1633.3076  210526-3  Hyperglycemia   \n",
       "6239203  210526-3-09  2340  1799.08890   1641.8665  210526-3  Hyperglycemia   \n",
       "6239204  210526-3-09  2341  1799.77220   1618.2405  210526-3  Hyperglycemia   \n",
       "\n",
       "         PageRank  \n",
       "0        0.610024  \n",
       "1        0.610024  \n",
       "2        0.610024  \n",
       "3        0.610024  \n",
       "4        0.610024  \n",
       "...           ...  \n",
       "6239200  1.201164  \n",
       "6239201  1.201164  \n",
       "6239202  1.201164  \n",
       "6239203  1.201164  \n",
       "6239204  1.201164  \n",
       "\n",
       "[6239205 rows x 7 columns]"
      ]
     },
     "execution_count": 3,
     "metadata": {},
     "output_type": "execute_result"
    }
   ],
   "source": [
    "df"
   ]
  },
  {
   "cell_type": "code",
   "execution_count": 4,
   "metadata": {},
   "outputs": [
    {
     "data": {
      "text/html": [
       "<div>\n",
       "<style scoped>\n",
       "    .dataframe tbody tr th:only-of-type {\n",
       "        vertical-align: middle;\n",
       "    }\n",
       "\n",
       "    .dataframe tbody tr th {\n",
       "        vertical-align: top;\n",
       "    }\n",
       "\n",
       "    .dataframe thead th {\n",
       "        text-align: right;\n",
       "    }\n",
       "</style>\n",
       "<table border=\"1\" class=\"dataframe\">\n",
       "  <thead>\n",
       "    <tr style=\"text-align: right;\">\n",
       "      <th></th>\n",
       "      <th>400.22778</th>\n",
       "      <th>400.91116</th>\n",
       "      <th>401.59454</th>\n",
       "      <th>402.27789</th>\n",
       "      <th>402.96127</th>\n",
       "      <th>403.64465</th>\n",
       "      <th>404.32803</th>\n",
       "      <th>405.01138</th>\n",
       "      <th>405.69476</th>\n",
       "      <th>406.37814</th>\n",
       "      <th>...</th>\n",
       "      <th>1794.9886</th>\n",
       "      <th>1795.672</th>\n",
       "      <th>1796.3553</th>\n",
       "      <th>1797.0387</th>\n",
       "      <th>1797.722</th>\n",
       "      <th>1798.4055</th>\n",
       "      <th>1799.0889</th>\n",
       "      <th>1799.7722</th>\n",
       "      <th>SurID</th>\n",
       "      <th>Status</th>\n",
       "    </tr>\n",
       "    <tr>\n",
       "      <th>SpecID</th>\n",
       "      <th></th>\n",
       "      <th></th>\n",
       "      <th></th>\n",
       "      <th></th>\n",
       "      <th></th>\n",
       "      <th></th>\n",
       "      <th></th>\n",
       "      <th></th>\n",
       "      <th></th>\n",
       "      <th></th>\n",
       "      <th></th>\n",
       "      <th></th>\n",
       "      <th></th>\n",
       "      <th></th>\n",
       "      <th></th>\n",
       "      <th></th>\n",
       "      <th></th>\n",
       "      <th></th>\n",
       "      <th></th>\n",
       "      <th></th>\n",
       "      <th></th>\n",
       "    </tr>\n",
       "  </thead>\n",
       "  <tbody>\n",
       "    <tr>\n",
       "      <th>201210-1-00</th>\n",
       "      <td>1765.6628</td>\n",
       "      <td>1774.7809</td>\n",
       "      <td>1769.0302</td>\n",
       "      <td>1756.4220</td>\n",
       "      <td>1758.8690</td>\n",
       "      <td>1763.2300</td>\n",
       "      <td>1745.2285</td>\n",
       "      <td>1773.3534</td>\n",
       "      <td>1774.7166</td>\n",
       "      <td>1753.3281</td>\n",
       "      <td>...</td>\n",
       "      <td>1210.4993</td>\n",
       "      <td>1213.9619</td>\n",
       "      <td>1225.2153</td>\n",
       "      <td>1210.0010</td>\n",
       "      <td>1210.6858</td>\n",
       "      <td>1194.4679</td>\n",
       "      <td>1195.1451</td>\n",
       "      <td>1189.8683</td>\n",
       "      <td>201210-1</td>\n",
       "      <td>Normal</td>\n",
       "    </tr>\n",
       "    <tr>\n",
       "      <th>201210-1-01</th>\n",
       "      <td>1966.9930</td>\n",
       "      <td>1962.4237</td>\n",
       "      <td>1954.5616</td>\n",
       "      <td>1954.3228</td>\n",
       "      <td>1963.0917</td>\n",
       "      <td>1975.0807</td>\n",
       "      <td>1979.3162</td>\n",
       "      <td>1963.4561</td>\n",
       "      <td>1968.4587</td>\n",
       "      <td>1964.0000</td>\n",
       "      <td>...</td>\n",
       "      <td>1382.6973</td>\n",
       "      <td>1363.7004</td>\n",
       "      <td>1360.6210</td>\n",
       "      <td>1354.0477</td>\n",
       "      <td>1353.0381</td>\n",
       "      <td>1353.9978</td>\n",
       "      <td>1361.2426</td>\n",
       "      <td>1370.2874</td>\n",
       "      <td>201210-1</td>\n",
       "      <td>Normal</td>\n",
       "    </tr>\n",
       "    <tr>\n",
       "      <th>201210-1-02</th>\n",
       "      <td>2182.6694</td>\n",
       "      <td>2149.6565</td>\n",
       "      <td>2146.0227</td>\n",
       "      <td>2159.3459</td>\n",
       "      <td>2167.2910</td>\n",
       "      <td>2160.9861</td>\n",
       "      <td>2145.6575</td>\n",
       "      <td>2134.2004</td>\n",
       "      <td>2142.8303</td>\n",
       "      <td>2138.6309</td>\n",
       "      <td>...</td>\n",
       "      <td>1976.2070</td>\n",
       "      <td>1989.0183</td>\n",
       "      <td>1996.2838</td>\n",
       "      <td>1979.3507</td>\n",
       "      <td>1976.2002</td>\n",
       "      <td>1994.9839</td>\n",
       "      <td>1974.2030</td>\n",
       "      <td>1971.1880</td>\n",
       "      <td>201210-1</td>\n",
       "      <td>Normal</td>\n",
       "    </tr>\n",
       "    <tr>\n",
       "      <th>201210-1-03</th>\n",
       "      <td>2445.0837</td>\n",
       "      <td>2430.4973</td>\n",
       "      <td>2422.7927</td>\n",
       "      <td>2434.3433</td>\n",
       "      <td>2454.9700</td>\n",
       "      <td>2462.8245</td>\n",
       "      <td>2454.7007</td>\n",
       "      <td>2467.7329</td>\n",
       "      <td>2449.5161</td>\n",
       "      <td>2421.3474</td>\n",
       "      <td>...</td>\n",
       "      <td>1992.3817</td>\n",
       "      <td>2022.6331</td>\n",
       "      <td>2001.8311</td>\n",
       "      <td>2010.0946</td>\n",
       "      <td>2006.4933</td>\n",
       "      <td>2017.2891</td>\n",
       "      <td>2038.1699</td>\n",
       "      <td>2000.6475</td>\n",
       "      <td>201210-1</td>\n",
       "      <td>Normal</td>\n",
       "    </tr>\n",
       "    <tr>\n",
       "      <th>201210-1-04</th>\n",
       "      <td>2250.4536</td>\n",
       "      <td>2248.6235</td>\n",
       "      <td>2245.0984</td>\n",
       "      <td>2242.7173</td>\n",
       "      <td>2235.2803</td>\n",
       "      <td>2228.9585</td>\n",
       "      <td>2236.0095</td>\n",
       "      <td>2229.6091</td>\n",
       "      <td>2225.9231</td>\n",
       "      <td>2211.0359</td>\n",
       "      <td>...</td>\n",
       "      <td>2009.0385</td>\n",
       "      <td>1953.3303</td>\n",
       "      <td>1963.5698</td>\n",
       "      <td>1964.5299</td>\n",
       "      <td>1969.5634</td>\n",
       "      <td>1986.6266</td>\n",
       "      <td>1970.1484</td>\n",
       "      <td>2007.0848</td>\n",
       "      <td>201210-1</td>\n",
       "      <td>Normal</td>\n",
       "    </tr>\n",
       "  </tbody>\n",
       "</table>\n",
       "<p>5 rows × 2051 columns</p>\n",
       "</div>"
      ],
      "text/plain": [
       "             400.22778  400.91116  401.59454  402.27789  402.96127  403.64465  \\\n",
       "SpecID                                                                          \n",
       "201210-1-00  1765.6628  1774.7809  1769.0302  1756.4220  1758.8690  1763.2300   \n",
       "201210-1-01  1966.9930  1962.4237  1954.5616  1954.3228  1963.0917  1975.0807   \n",
       "201210-1-02  2182.6694  2149.6565  2146.0227  2159.3459  2167.2910  2160.9861   \n",
       "201210-1-03  2445.0837  2430.4973  2422.7927  2434.3433  2454.9700  2462.8245   \n",
       "201210-1-04  2250.4536  2248.6235  2245.0984  2242.7173  2235.2803  2228.9585   \n",
       "\n",
       "             404.32803  405.01138  405.69476  406.37814  ...  1794.9886  \\\n",
       "SpecID                                                   ...              \n",
       "201210-1-00  1745.2285  1773.3534  1774.7166  1753.3281  ...  1210.4993   \n",
       "201210-1-01  1979.3162  1963.4561  1968.4587  1964.0000  ...  1382.6973   \n",
       "201210-1-02  2145.6575  2134.2004  2142.8303  2138.6309  ...  1976.2070   \n",
       "201210-1-03  2454.7007  2467.7329  2449.5161  2421.3474  ...  1992.3817   \n",
       "201210-1-04  2236.0095  2229.6091  2225.9231  2211.0359  ...  2009.0385   \n",
       "\n",
       "              1795.672  1796.3553  1797.0387   1797.722  1798.4055  1799.0889  \\\n",
       "SpecID                                                                          \n",
       "201210-1-00  1213.9619  1225.2153  1210.0010  1210.6858  1194.4679  1195.1451   \n",
       "201210-1-01  1363.7004  1360.6210  1354.0477  1353.0381  1353.9978  1361.2426   \n",
       "201210-1-02  1989.0183  1996.2838  1979.3507  1976.2002  1994.9839  1974.2030   \n",
       "201210-1-03  2022.6331  2001.8311  2010.0946  2006.4933  2017.2891  2038.1699   \n",
       "201210-1-04  1953.3303  1963.5698  1964.5299  1969.5634  1986.6266  1970.1484   \n",
       "\n",
       "             1799.7722     SurID  Status  \n",
       "SpecID                                    \n",
       "201210-1-00  1189.8683  201210-1  Normal  \n",
       "201210-1-01  1370.2874  201210-1  Normal  \n",
       "201210-1-02  1971.1880  201210-1  Normal  \n",
       "201210-1-03  2000.6475  201210-1  Normal  \n",
       "201210-1-04  2007.0848  201210-1  Normal  \n",
       "\n",
       "[5 rows x 2051 columns]"
      ]
     },
     "execution_count": 4,
     "metadata": {},
     "output_type": "execute_result"
    }
   ],
   "source": [
    "wavelength_df = prepare_wavelength_df(df, 'Absorbance')\n",
    "wavelength_df.head()"
   ]
  },
  {
   "cell_type": "markdown",
   "metadata": {},
   "source": [
    ">#### **Use Optuna to Find the Best Cleaning Parameter**"
   ]
  },
  {
   "cell_type": "code",
   "execution_count": 5,
   "metadata": {},
   "outputs": [
    {
     "data": {
      "text/html": [
       "<div>\n",
       "<style scoped>\n",
       "    .dataframe tbody tr th:only-of-type {\n",
       "        vertical-align: middle;\n",
       "    }\n",
       "\n",
       "    .dataframe tbody tr th {\n",
       "        vertical-align: top;\n",
       "    }\n",
       "\n",
       "    .dataframe thead th {\n",
       "        text-align: right;\n",
       "    }\n",
       "</style>\n",
       "<table border=\"1\" class=\"dataframe\">\n",
       "  <thead>\n",
       "    <tr style=\"text-align: right;\">\n",
       "      <th></th>\n",
       "      <th>SpecID</th>\n",
       "      <th>Seq</th>\n",
       "      <th>WaveNumber</th>\n",
       "      <th>Absorbance</th>\n",
       "      <th>SurID</th>\n",
       "      <th>Status</th>\n",
       "      <th>PageRank</th>\n",
       "    </tr>\n",
       "  </thead>\n",
       "  <tbody>\n",
       "    <tr>\n",
       "      <th>0</th>\n",
       "      <td>201210-1-00</td>\n",
       "      <td>293</td>\n",
       "      <td>400.22778</td>\n",
       "      <td>1765.6628</td>\n",
       "      <td>201210-1</td>\n",
       "      <td>Normal</td>\n",
       "      <td>0.610024</td>\n",
       "    </tr>\n",
       "    <tr>\n",
       "      <th>1</th>\n",
       "      <td>201210-1-00</td>\n",
       "      <td>294</td>\n",
       "      <td>400.91116</td>\n",
       "      <td>1774.7809</td>\n",
       "      <td>201210-1</td>\n",
       "      <td>Normal</td>\n",
       "      <td>0.610024</td>\n",
       "    </tr>\n",
       "    <tr>\n",
       "      <th>2</th>\n",
       "      <td>201210-1-00</td>\n",
       "      <td>295</td>\n",
       "      <td>401.59454</td>\n",
       "      <td>1769.0302</td>\n",
       "      <td>201210-1</td>\n",
       "      <td>Normal</td>\n",
       "      <td>0.610024</td>\n",
       "    </tr>\n",
       "    <tr>\n",
       "      <th>3</th>\n",
       "      <td>201210-1-00</td>\n",
       "      <td>296</td>\n",
       "      <td>402.27789</td>\n",
       "      <td>1756.4220</td>\n",
       "      <td>201210-1</td>\n",
       "      <td>Normal</td>\n",
       "      <td>0.610024</td>\n",
       "    </tr>\n",
       "    <tr>\n",
       "      <th>4</th>\n",
       "      <td>201210-1-00</td>\n",
       "      <td>297</td>\n",
       "      <td>402.96127</td>\n",
       "      <td>1758.8690</td>\n",
       "      <td>201210-1</td>\n",
       "      <td>Normal</td>\n",
       "      <td>0.610024</td>\n",
       "    </tr>\n",
       "    <tr>\n",
       "      <th>...</th>\n",
       "      <td>...</td>\n",
       "      <td>...</td>\n",
       "      <td>...</td>\n",
       "      <td>...</td>\n",
       "      <td>...</td>\n",
       "      <td>...</td>\n",
       "      <td>...</td>\n",
       "    </tr>\n",
       "    <tr>\n",
       "      <th>6239200</th>\n",
       "      <td>210526-3-09</td>\n",
       "      <td>2337</td>\n",
       "      <td>1797.03870</td>\n",
       "      <td>1617.3926</td>\n",
       "      <td>210526-3</td>\n",
       "      <td>Hyperglycemia</td>\n",
       "      <td>1.201164</td>\n",
       "    </tr>\n",
       "    <tr>\n",
       "      <th>6239201</th>\n",
       "      <td>210526-3-09</td>\n",
       "      <td>2338</td>\n",
       "      <td>1797.72200</td>\n",
       "      <td>1633.0911</td>\n",
       "      <td>210526-3</td>\n",
       "      <td>Hyperglycemia</td>\n",
       "      <td>1.201164</td>\n",
       "    </tr>\n",
       "    <tr>\n",
       "      <th>6239202</th>\n",
       "      <td>210526-3-09</td>\n",
       "      <td>2339</td>\n",
       "      <td>1798.40550</td>\n",
       "      <td>1633.3076</td>\n",
       "      <td>210526-3</td>\n",
       "      <td>Hyperglycemia</td>\n",
       "      <td>1.201164</td>\n",
       "    </tr>\n",
       "    <tr>\n",
       "      <th>6239203</th>\n",
       "      <td>210526-3-09</td>\n",
       "      <td>2340</td>\n",
       "      <td>1799.08890</td>\n",
       "      <td>1641.8665</td>\n",
       "      <td>210526-3</td>\n",
       "      <td>Hyperglycemia</td>\n",
       "      <td>1.201164</td>\n",
       "    </tr>\n",
       "    <tr>\n",
       "      <th>6239204</th>\n",
       "      <td>210526-3-09</td>\n",
       "      <td>2341</td>\n",
       "      <td>1799.77220</td>\n",
       "      <td>1618.2405</td>\n",
       "      <td>210526-3</td>\n",
       "      <td>Hyperglycemia</td>\n",
       "      <td>1.201164</td>\n",
       "    </tr>\n",
       "  </tbody>\n",
       "</table>\n",
       "<p>6239205 rows × 7 columns</p>\n",
       "</div>"
      ],
      "text/plain": [
       "              SpecID   Seq  WaveNumber  Absorbance     SurID         Status  \\\n",
       "0        201210-1-00   293   400.22778   1765.6628  201210-1         Normal   \n",
       "1        201210-1-00   294   400.91116   1774.7809  201210-1         Normal   \n",
       "2        201210-1-00   295   401.59454   1769.0302  201210-1         Normal   \n",
       "3        201210-1-00   296   402.27789   1756.4220  201210-1         Normal   \n",
       "4        201210-1-00   297   402.96127   1758.8690  201210-1         Normal   \n",
       "...              ...   ...         ...         ...       ...            ...   \n",
       "6239200  210526-3-09  2337  1797.03870   1617.3926  210526-3  Hyperglycemia   \n",
       "6239201  210526-3-09  2338  1797.72200   1633.0911  210526-3  Hyperglycemia   \n",
       "6239202  210526-3-09  2339  1798.40550   1633.3076  210526-3  Hyperglycemia   \n",
       "6239203  210526-3-09  2340  1799.08890   1641.8665  210526-3  Hyperglycemia   \n",
       "6239204  210526-3-09  2341  1799.77220   1618.2405  210526-3  Hyperglycemia   \n",
       "\n",
       "         PageRank  \n",
       "0        0.610024  \n",
       "1        0.610024  \n",
       "2        0.610024  \n",
       "3        0.610024  \n",
       "4        0.610024  \n",
       "...           ...  \n",
       "6239200  1.201164  \n",
       "6239201  1.201164  \n",
       "6239202  1.201164  \n",
       "6239203  1.201164  \n",
       "6239204  1.201164  \n",
       "\n",
       "[6239205 rows x 7 columns]"
      ]
     },
     "execution_count": 5,
     "metadata": {},
     "output_type": "execute_result"
    }
   ],
   "source": [
    "df"
   ]
  },
  {
   "cell_type": "code",
   "execution_count": 6,
   "metadata": {},
   "outputs": [
    {
     "name": "stderr",
     "output_type": "stream",
     "text": [
      "[I 2024-04-13 17:24:23,534] A new study created in memory with name: no-name-66c0aa7d-27a1-4d12-9284-0fa6920e2b4d\n",
      "[I 2024-04-13 17:24:59,243] Trial 5 finished with value: 0.5202411536833353 and parameters: {'pagerank_cutoff': 1.1226370695294459, 'despike': False, 'baseline_correct': False, 'smoothing': False, 'scaling': True, 'scaling_type': 'svn', 'classifier': 'ExtraTrees', 'et_n_estimators': 68, 'et_max_depth': 18, 'et_criterion': 'gini'}. Best is trial 5 with value: 0.5202411536833353.\n",
      "[I 2024-04-13 17:25:10,326] Trial 6 finished with value: 0.519710471845078 and parameters: {'pagerank_cutoff': 1.0054962763542021, 'despike': True, 'baseline_correct': False, 'smoothing': False, 'scaling': False, 'despike_ma': 79, 'despike_threshold': 9.25, 'classifier': 'ExtraTrees', 'et_n_estimators': 128, 'et_max_depth': 14, 'et_criterion': 'log_loss'}. Best is trial 5 with value: 0.5202411536833353.\n",
      "[I 2024-04-13 17:25:18,785] Trial 10 finished with value: 0.42118679534131076 and parameters: {'pagerank_cutoff': 1.11958819753004, 'despike': True, 'baseline_correct': False, 'smoothing': True, 'scaling': False, 'despike_ma': 24, 'despike_threshold': 8.0, 'window_size': 40, 'smoothing_poly_order': 4, 'classifier': 'RandomForest', 'rf_n_estimators': 89, 'rf_max_depth': 2, 'rf_criterion': 'gini'}. Best is trial 5 with value: 0.5202411536833353.\n",
      "[I 2024-04-13 17:25:41,858] Trial 12 finished with value: 0.451573747852626 and parameters: {'pagerank_cutoff': 1.0524591346493153, 'despike': False, 'baseline_correct': False, 'smoothing': True, 'scaling': False, 'window_size': 108, 'smoothing_poly_order': 4, 'classifier': 'ExtraTrees', 'et_n_estimators': 95, 'et_max_depth': 12, 'et_criterion': 'gini'}. Best is trial 5 with value: 0.5202411536833353.\n",
      "[I 2024-04-13 17:25:45,829] Trial 15 finished with value: 0.45546031746031757 and parameters: {'pagerank_cutoff': 0.05493578938701353, 'despike': False, 'baseline_correct': False, 'smoothing': False, 'scaling': False, 'classifier': 'RandomForest', 'rf_n_estimators': 10, 'rf_max_depth': 2, 'rf_criterion': 'entropy'}. Best is trial 5 with value: 0.5202411536833353.\n",
      "[I 2024-04-13 17:26:10,422] Trial 14 finished with value: 0.4878314312301364 and parameters: {'pagerank_cutoff': 0.5616952005774817, 'despike': True, 'baseline_correct': False, 'smoothing': False, 'scaling': False, 'despike_ma': 36, 'despike_threshold': 8.75, 'classifier': 'RandomForest', 'rf_n_estimators': 159, 'rf_max_depth': 2, 'rf_criterion': 'log_loss'}. Best is trial 5 with value: 0.5202411536833353.\n",
      "[I 2024-04-13 17:26:30,783] Trial 17 finished with value: 0.49945821817618635 and parameters: {'pagerank_cutoff': 0.4831898002629731, 'despike': False, 'baseline_correct': False, 'smoothing': False, 'scaling': False, 'classifier': 'RandomForest', 'rf_n_estimators': 146, 'rf_max_depth': 11, 'rf_criterion': 'entropy'}. Best is trial 5 with value: 0.5202411536833353.\n",
      "[I 2024-04-13 17:27:17,092] Trial 2 finished with value: 0.4928306540447004 and parameters: {'pagerank_cutoff': 0.3506991963513069, 'despike': False, 'baseline_correct': True, 'smoothing': False, 'scaling': False, 'baseline_correction_type': 'asls', 'asls_lam': 10000, 'asls_p': 0.046, 'classifier': 'ExtraTrees', 'et_n_estimators': 95, 'et_max_depth': 20, 'et_criterion': 'log_loss'}. Best is trial 5 with value: 0.5202411536833353.\n",
      "[I 2024-04-13 17:27:27,977] Trial 0 finished with value: 0.4491450014775366 and parameters: {'pagerank_cutoff': 0.9001085422452582, 'despike': False, 'baseline_correct': True, 'smoothing': True, 'scaling': False, 'baseline_correction_type': 'asls', 'asls_lam': 100, 'asls_p': 0.098, 'window_size': 226, 'smoothing_poly_order': 5, 'classifier': 'ExtraTrees', 'et_n_estimators': 139, 'et_max_depth': 15, 'et_criterion': 'entropy'}. Best is trial 5 with value: 0.5202411536833353.\n",
      "[I 2024-04-13 17:29:14,004] Trial 20 finished with value: 0.5382016154070318 and parameters: {'pagerank_cutoff': 0.293472144781458, 'despike': False, 'baseline_correct': False, 'smoothing': False, 'scaling': False, 'classifier': 'RandomForest', 'rf_n_estimators': 193, 'rf_max_depth': 21, 'rf_criterion': 'gini'}. Best is trial 20 with value: 0.5382016154070318.\n",
      "[I 2024-04-13 17:29:43,379] Trial 3 finished with value: 0.530968253968254 and parameters: {'pagerank_cutoff': 0.09118289702012747, 'despike': False, 'baseline_correct': True, 'smoothing': True, 'scaling': False, 'baseline_correction_type': 'airpls', 'airpls_lam': 10000, 'window_size': 16, 'smoothing_poly_order': 3, 'classifier': 'RandomForest', 'rf_n_estimators': 31, 'rf_max_depth': 21, 'rf_criterion': 'log_loss'}. Best is trial 20 with value: 0.5382016154070318.\n",
      "[I 2024-04-13 17:30:40,893] Trial 9 finished with value: 0.5610025117818206 and parameters: {'pagerank_cutoff': 0.5230338497051388, 'despike': True, 'baseline_correct': True, 'smoothing': True, 'scaling': False, 'despike_ma': 66, 'despike_threshold': 4.25, 'baseline_correction_type': 'airpls', 'airpls_lam': 100000, 'window_size': 47, 'smoothing_poly_order': 5, 'classifier': 'RandomForest', 'rf_n_estimators': 178, 'rf_max_depth': 7, 'rf_criterion': 'gini'}. Best is trial 9 with value: 0.5610025117818206.\n",
      "[I 2024-04-13 17:32:03,764] Trial 8 finished with value: 0.5543506865163017 and parameters: {'pagerank_cutoff': 0.4270472354406919, 'despike': True, 'baseline_correct': True, 'smoothing': False, 'scaling': False, 'despike_ma': 78, 'despike_threshold': 7.25, 'baseline_correction_type': 'iasls', 'iasls_lam': 100000, 'iasls_p': 0.082, 'iasls_lam_1': 1e-05, 'classifier': 'RandomForest', 'rf_n_estimators': 136, 'rf_max_depth': 7, 'rf_criterion': 'log_loss'}. Best is trial 9 with value: 0.5610025117818206.\n",
      "[I 2024-04-13 17:32:12,488] Trial 16 finished with value: 0.39588315092656456 and parameters: {'pagerank_cutoff': 0.8392734567617721, 'despike': True, 'baseline_correct': True, 'smoothing': False, 'scaling': True, 'despike_ma': 72, 'despike_threshold': 9.0, 'baseline_correction_type': 'iasls', 'iasls_lam': 100000, 'iasls_p': 0.081, 'iasls_lam_1': 0.001, 'scaling_type': 'vector', 'classifier': 'RandomForest', 'rf_n_estimators': 159, 'rf_max_depth': 2, 'rf_criterion': 'log_loss'}. Best is trial 9 with value: 0.5610025117818206.\n",
      "[I 2024-04-13 17:32:13,513] Trial 4 finished with value: 0.08181837483842698 and parameters: {'pagerank_cutoff': 1.1696016634963833, 'despike': False, 'baseline_correct': True, 'smoothing': True, 'scaling': False, 'baseline_correction_type': 'psalsa', 'psalsa_lam': 100000, 'psalsa_p': 0.25, 'window_size': 53, 'smoothing_poly_order': 3, 'classifier': 'SVC', 'svc_c': 8.008664653647126e-09, 'svc_kernel': 'rbf', 'svc_gamma': 'scale'}. Best is trial 9 with value: 0.5610025117818206.\n",
      "[I 2024-04-13 17:35:58,432] Trial 7 finished with value: 0.3823809523809524 and parameters: {'pagerank_cutoff': 0.1393496874557633, 'despike': False, 'baseline_correct': True, 'smoothing': True, 'scaling': True, 'baseline_correction_type': 'iasls', 'iasls_lam': 100000000, 'iasls_p': 0.058, 'iasls_lam_1': 0.0001, 'window_size': 55, 'smoothing_poly_order': 1, 'scaling_type': 'normal', 'classifier': 'ExtraTrees', 'et_n_estimators': 63, 'et_max_depth': 2, 'et_criterion': 'log_loss'}. Best is trial 9 with value: 0.5610025117818206.\n",
      "[I 2024-04-13 17:36:02,223] Trial 1 finished with value: 0.46736445285098005 and parameters: {'pagerank_cutoff': 1.1324505806016416, 'despike': False, 'baseline_correct': True, 'smoothing': True, 'scaling': True, 'baseline_correction_type': 'psalsa', 'psalsa_lam': 10000000, 'psalsa_p': 0.85, 'window_size': 49, 'smoothing_poly_order': 2, 'scaling_type': 'normal', 'classifier': 'ExtraTrees', 'et_n_estimators': 50, 'et_max_depth': 13, 'et_criterion': 'log_loss'}. Best is trial 9 with value: 0.5610025117818206.\n",
      "[I 2024-04-13 17:36:42,972] Trial 11 finished with value: 0.5545873015873016 and parameters: {'pagerank_cutoff': 0.109289258885737, 'despike': True, 'baseline_correct': True, 'smoothing': True, 'scaling': True, 'despike_ma': 45, 'despike_threshold': 3.25, 'baseline_correction_type': 'iasls', 'iasls_lam': 1000000000, 'iasls_p': 0.036000000000000004, 'iasls_lam_1': 1e-05, 'window_size': 41, 'smoothing_poly_order': 2, 'scaling_type': 'vector', 'classifier': 'RandomForest', 'rf_n_estimators': 28, 'rf_max_depth': 24, 'rf_criterion': 'gini'}. Best is trial 9 with value: 0.5610025117818206.\n",
      "[I 2024-04-13 17:36:55,657] Trial 19 finished with value: 0.4299512146103662 and parameters: {'pagerank_cutoff': 0.9411296798219089, 'despike': True, 'baseline_correct': True, 'smoothing': True, 'scaling': False, 'despike_ma': 32, 'despike_threshold': 4.5, 'baseline_correction_type': 'psalsa', 'psalsa_lam': 10000, 'psalsa_p': 0.5, 'window_size': 29, 'smoothing_poly_order': 5, 'classifier': 'RandomForest', 'rf_n_estimators': 50, 'rf_max_depth': 2, 'rf_criterion': 'entropy'}. Best is trial 9 with value: 0.5610025117818206.\n",
      "[I 2024-04-13 17:37:06,504] Trial 13 finished with value: 0.5694428846059021 and parameters: {'pagerank_cutoff': 0.4368709093599113, 'despike': False, 'baseline_correct': False, 'smoothing': True, 'scaling': True, 'window_size': 157, 'smoothing_poly_order': 4, 'scaling_type': 'vector', 'classifier': 'SVC', 'svc_c': 494940575.53063136, 'svc_kernel': 'linear', 'svc_gamma': 'auto'}. Best is trial 13 with value: 0.5694428846059021.\n",
      "[I 2024-04-13 17:37:53,102] Trial 22 finished with value: 0.2581269841269841 and parameters: {'pagerank_cutoff': 0.036956074192924286, 'despike': False, 'baseline_correct': True, 'smoothing': True, 'scaling': True, 'baseline_correction_type': 'airpls', 'airpls_lam': 10000, 'window_size': 11, 'smoothing_poly_order': 1, 'scaling_type': 'vector', 'classifier': 'SVC', 'svc_c': 3.69082759174852e-08, 'svc_kernel': 'poly', 'svc_gamma': 'scale'}. Best is trial 13 with value: 0.5694428846059021.\n",
      "[I 2024-04-13 17:38:41,944] Trial 21 finished with value: 0.5392698412698413 and parameters: {'pagerank_cutoff': 0.10128924581683191, 'despike': True, 'baseline_correct': True, 'smoothing': True, 'scaling': True, 'despike_ma': 100, 'despike_threshold': 3.0, 'baseline_correction_type': 'iasls', 'iasls_lam': 10000000, 'iasls_p': 0.061, 'iasls_lam_1': 0.001, 'window_size': 250, 'smoothing_poly_order': 1, 'scaling_type': 'normal', 'classifier': 'SVC', 'svc_c': 2.2656071979731984, 'svc_kernel': 'linear', 'svc_gamma': 'scale'}. Best is trial 13 with value: 0.5694428846059021.\n",
      "[I 2024-04-13 17:39:23,733] Trial 23 finished with value: 0.22964521638621074 and parameters: {'pagerank_cutoff': 0.3149904964530303, 'despike': True, 'baseline_correct': True, 'smoothing': True, 'scaling': True, 'despike_ma': 79, 'despike_threshold': 3.5, 'baseline_correction_type': 'airpls', 'airpls_lam': 100000, 'window_size': 111, 'smoothing_poly_order': 1, 'scaling_type': 'vector', 'classifier': 'SVC', 'svc_c': 0.10696188288609076, 'svc_kernel': 'sigmoid', 'svc_gamma': 'auto'}. Best is trial 13 with value: 0.5694428846059021.\n",
      "[I 2024-04-13 17:39:47,249] Trial 25 finished with value: 0.22834121311625558 and parameters: {'pagerank_cutoff': 0.7224805676561464, 'despike': True, 'baseline_correct': True, 'smoothing': True, 'scaling': True, 'despike_ma': 100, 'despike_threshold': 3.75, 'baseline_correction_type': 'airpls', 'airpls_lam': 100000, 'window_size': 111, 'smoothing_poly_order': 1, 'scaling_type': 'normal', 'classifier': 'SVC', 'svc_c': 4.7241992413799684e-07, 'svc_kernel': 'rbf', 'svc_gamma': 'scale'}. Best is trial 13 with value: 0.5694428846059021.\n",
      "[I 2024-04-13 17:39:54,792] Trial 24 finished with value: 0.4656383922930183 and parameters: {'pagerank_cutoff': 0.772471907174972, 'despike': True, 'baseline_correct': True, 'smoothing': True, 'scaling': True, 'despike_ma': 77, 'despike_threshold': 3.75, 'baseline_correction_type': 'iasls', 'iasls_lam': 100000, 'iasls_p': 0.08700000000000001, 'iasls_lam_1': 1e-05, 'window_size': 109, 'smoothing_poly_order': 1, 'scaling_type': 'normal', 'classifier': 'SVC', 'svc_c': 1976030.5019150807, 'svc_kernel': 'sigmoid', 'svc_gamma': 'auto'}. Best is trial 13 with value: 0.5694428846059021.\n",
      "[I 2024-04-13 17:40:41,705] Trial 26 finished with value: 0.4910740481651037 and parameters: {'pagerank_cutoff': 0.7137976865849632, 'despike': True, 'baseline_correct': True, 'smoothing': True, 'scaling': True, 'despike_ma': 96, 'despike_threshold': 4.0, 'baseline_correction_type': 'iasls', 'iasls_lam': 1000, 'iasls_p': 0.094, 'iasls_lam_1': 1e-05, 'window_size': 148, 'smoothing_poly_order': 1, 'scaling_type': 'normal', 'classifier': 'SVC', 'svc_c': 3640549398.5119, 'svc_kernel': 'poly', 'svc_gamma': 'auto'}. Best is trial 13 with value: 0.5694428846059021.\n",
      "[I 2024-04-13 17:40:47,383] Trial 27 finished with value: 0.6139006717088908 and parameters: {'pagerank_cutoff': 0.7132339465089574, 'despike': True, 'baseline_correct': True, 'smoothing': True, 'scaling': True, 'despike_ma': 97, 'despike_threshold': 4.0, 'baseline_correction_type': 'poly', 'polyfit_poly_order': 1, 'window_size': 161, 'smoothing_poly_order': 5, 'scaling_type': 'svn', 'classifier': 'SVC', 'svc_c': 3704235784.251013, 'svc_kernel': 'poly', 'svc_gamma': 'auto'}. Best is trial 27 with value: 0.6139006717088908.\n",
      "[I 2024-04-13 17:48:31,089] Trial 18 finished with value: 0.5251550591383572 and parameters: {'pagerank_cutoff': 0.7528641256778098, 'despike': True, 'baseline_correct': True, 'smoothing': True, 'scaling': False, 'despike_ma': 93, 'despike_threshold': 3.75, 'baseline_correction_type': 'asls', 'asls_lam': 100000000, 'asls_p': 0.013000000000000001, 'window_size': 100, 'smoothing_poly_order': 3, 'classifier': 'SVC', 'svc_c': 0.12027194070180194, 'svc_kernel': 'linear', 'svc_gamma': 'scale'}. Best is trial 27 with value: 0.6139006717088908.\n",
      "[I 2024-04-13 17:50:45,941] Trial 28 finished with value: 0.2297028197028197 and parameters: {'pagerank_cutoff': 0.7111564782730087, 'despike': True, 'baseline_correct': True, 'smoothing': True, 'scaling': False, 'despike_ma': 100, 'despike_threshold': 4.25, 'baseline_correction_type': 'airpls', 'airpls_lam': 100000, 'window_size': 147, 'smoothing_poly_order': 5, 'classifier': 'SVC', 'svc_c': 2188077117.781403, 'svc_kernel': 'sigmoid', 'svc_gamma': 'auto'}. Best is trial 27 with value: 0.6139006717088908.\n",
      "[I 2024-04-13 17:52:51,149] Trial 30 finished with value: 0.48433031120045306 and parameters: {'pagerank_cutoff': 0.7397999665127409, 'despike': True, 'baseline_correct': True, 'smoothing': True, 'scaling': True, 'despike_ma': 55, 'despike_threshold': 3.0, 'baseline_correction_type': 'airpls', 'airpls_lam': 100000, 'window_size': 120, 'smoothing_poly_order': 1, 'scaling_type': 'vector', 'classifier': 'SVC', 'svc_c': 1364327024.279512, 'svc_kernel': 'linear', 'svc_gamma': 'auto'}. Best is trial 27 with value: 0.6139006717088908.\n",
      "[I 2024-04-13 17:53:06,409] Trial 29 finished with value: 0.5134130626736855 and parameters: {'pagerank_cutoff': 0.7199629284928382, 'despike': True, 'baseline_correct': True, 'smoothing': True, 'scaling': True, 'despike_ma': 51, 'despike_threshold': 3.25, 'baseline_correction_type': 'poly', 'polyfit_poly_order': 4, 'window_size': 115, 'smoothing_poly_order': 1, 'scaling_type': 'vector', 'classifier': 'SVC', 'svc_c': 2997427046.011703, 'svc_kernel': 'sigmoid', 'svc_gamma': 'auto'}. Best is trial 27 with value: 0.6139006717088908.\n",
      "[I 2024-04-13 17:53:19,357] Trial 31 finished with value: 0.5882159144529292 and parameters: {'pagerank_cutoff': 0.6767712957900508, 'despike': True, 'baseline_correct': False, 'smoothing': True, 'scaling': True, 'despike_ma': 9, 'despike_threshold': 5.5, 'window_size': 170, 'smoothing_poly_order': 4, 'scaling_type': 'vector', 'classifier': 'SVC', 'svc_c': 9061185894.704237, 'svc_kernel': 'linear', 'svc_gamma': 'auto'}. Best is trial 27 with value: 0.6139006717088908.\n",
      "[I 2024-04-13 18:01:47,835] Trial 33 finished with value: 0.5300473754175449 and parameters: {'pagerank_cutoff': 0.739768225552256, 'despike': True, 'baseline_correct': True, 'smoothing': True, 'scaling': True, 'despike_ma': 55, 'despike_threshold': 5.0, 'baseline_correction_type': 'poly', 'polyfit_poly_order': 3, 'window_size': 162, 'smoothing_poly_order': 4, 'scaling_type': 'vector', 'classifier': 'SVC', 'svc_c': 1522556683.987911, 'svc_kernel': 'linear', 'svc_gamma': 'auto'}. Best is trial 27 with value: 0.6139006717088908.\n",
      "[I 2024-04-13 18:02:48,039] Trial 34 finished with value: 0.5536470536497115 and parameters: {'pagerank_cutoff': 0.6124512242943174, 'despike': True, 'baseline_correct': False, 'smoothing': True, 'scaling': True, 'despike_ma': 58, 'despike_threshold': 5.5, 'window_size': 159, 'smoothing_poly_order': 4, 'scaling_type': 'vector', 'classifier': 'SVC', 'svc_c': 8629497789.527073, 'svc_kernel': 'linear', 'svc_gamma': 'auto'}. Best is trial 27 with value: 0.6139006717088908.\n",
      "[I 2024-04-13 18:05:18,064] Trial 35 finished with value: 0.5917038532828793 and parameters: {'pagerank_cutoff': 0.6955585667349937, 'despike': True, 'baseline_correct': False, 'smoothing': True, 'scaling': True, 'despike_ma': 51, 'despike_threshold': 5.0, 'window_size': 176, 'smoothing_poly_order': 4, 'scaling_type': 'vector', 'classifier': 'SVC', 'svc_c': 826505983.067256, 'svc_kernel': 'linear', 'svc_gamma': 'auto'}. Best is trial 27 with value: 0.6139006717088908.\n",
      "[I 2024-04-13 18:05:26,252] Trial 36 finished with value: 0.5339311948227621 and parameters: {'pagerank_cutoff': 0.6758010764274104, 'despike': True, 'baseline_correct': False, 'smoothing': True, 'scaling': True, 'despike_ma': 51, 'despike_threshold': 5.25, 'window_size': 170, 'smoothing_poly_order': 4, 'scaling_type': 'vector', 'classifier': 'RandomForest', 'rf_n_estimators': 88, 'rf_max_depth': 32, 'rf_criterion': 'gini'}. Best is trial 27 with value: 0.6139006717088908.\n",
      "[I 2024-04-13 18:06:45,973] Trial 32 finished with value: 0.49060250477704026 and parameters: {'pagerank_cutoff': 0.7238726340984818, 'despike': True, 'baseline_correct': True, 'smoothing': True, 'scaling': True, 'despike_ma': 57, 'despike_threshold': 3.0, 'baseline_correction_type': 'poly', 'polyfit_poly_order': 5, 'window_size': 166, 'smoothing_poly_order': 4, 'scaling_type': 'vector', 'classifier': 'SVC', 'svc_c': 7055208852.306353, 'svc_kernel': 'linear', 'svc_gamma': 'auto'}. Best is trial 27 with value: 0.6139006717088908.\n",
      "[I 2024-04-13 18:07:26,903] Trial 37 finished with value: 0.5149016220940625 and parameters: {'pagerank_cutoff': 0.23220696883613667, 'despike': True, 'baseline_correct': False, 'smoothing': True, 'scaling': True, 'despike_ma': 53, 'despike_threshold': 5.75, 'window_size': 169, 'smoothing_poly_order': 4, 'scaling_type': 'vector', 'classifier': 'RandomForest', 'rf_n_estimators': 89, 'rf_max_depth': 30, 'rf_criterion': 'gini'}. Best is trial 27 with value: 0.6139006717088908.\n"
     ]
    }
   ],
   "source": [
    "def objective(trial):\n",
    "\n",
    "    # Decide which cleaning steps to implement\n",
    "    pagerank_cutoff = trial.suggest_float('pagerank_cutoff', 0, 1.2)\n",
    "    despike = trial.suggest_categorical('despike', [True, False])\n",
    "    baseline_correct = trial.suggest_categorical('baseline_correct', [True, False])\n",
    "    smoothing = trial.suggest_categorical('smoothing', [True, False])\n",
    "    scaling = trial.suggest_categorical('scaling', [True, False])\n",
    "\n",
    "    df_copy = df.copy()\n",
    "\n",
    "    # Filter less central spectra in each surface\n",
    "    df_copy = df_copy[df_copy['PageRank'] > pagerank_cutoff]\n",
    "\n",
    "    # Apply preprocessing based on suggested parameters\n",
    "    if despike:\n",
    "        despike_ma = trial.suggest_int('despike_ma', 5, 100)\n",
    "        despike_threshold = trial.suggest_float('despike_threshold', 3, 10, step=0.25)\n",
    "        df_copy['Absorbance'] = df_copy.groupby('SpecID')['Absorbance'].transform(lambda x: despike_group(x, ma=despike_ma, threshold = despike_threshold))\n",
    "\n",
    "    if baseline_correct:\n",
    "\n",
    "        # Trial a different number of baseline correction\n",
    "        baseline_correction_type = trial.suggest_categorical('baseline_correction_type', ['asls', 'iasls', 'airpls', 'poly', 'psalsa'])\n",
    "        #baseline_correction_type = trial.suggest_categorical('baseline_correction_type', ['asls', 'iasls', 'airpls', 'poly'])\n",
    "        if baseline_correction_type == 'asls': \n",
    "            lam = trial.suggest_categorical('asls_lam', [10**2, 10**3, 10**4, 10**5, 10**6, 10**7, 10**8, 10**9])\n",
    "            p = trial.suggest_float('asls_p', 0.001, 0.1, step=0.001)\n",
    "            df_copy['Baseline'] = df_copy.groupby('SpecID')['Absorbance'].transform(lambda x: asls_baseline_correction(x, lam=lam, p=p))\n",
    "            df_copy['Absorbance'] = df_copy['Absorbance'] - df_copy['Baseline']\n",
    "        \n",
    "        elif baseline_correction_type == 'iasls':\n",
    "            lam = trial.suggest_categorical('iasls_lam', [10**2, 10**3, 10**4, 10**5, 10**6, 10**7, 10**8, 10**9])\n",
    "            p = trial.suggest_float('iasls_p', 0.001, 0.1, step=0.001)\n",
    "            lam_1 = trial.suggest_categorical('iasls_lam_1', [10**-3, 10**-4, 10**-5])\n",
    "            df_copy['Baseline'] = df_copy.groupby('SpecID')['Absorbance'].transform(lambda x: iasls_baseline_correction(x, lam=lam, p=p, lam_1=lam_1))\n",
    "            df_copy['Absorbance'] = df_copy['Absorbance'] - df_copy['Baseline']\n",
    "\n",
    "        elif baseline_correction_type == 'airpls':\n",
    "            lam = trial.suggest_categorical('airpls_lam', [10**2, 10**3, 10**4, 10**5, 10**6, 10**7, 10**8, 10**9])\n",
    "            df_copy['Baseline'] = df_copy.groupby('SpecID')['Absorbance'].transform(lambda x: airpls_baseline_correction(x, lam=lam))\n",
    "            df_copy['Absorbance'] = df_copy['Absorbance'] - df_copy['Baseline']\n",
    "\n",
    "        elif baseline_correction_type == 'poly':\n",
    "        #else:\n",
    "            poly_order = trial.suggest_int('polyfit_poly_order', 1, 5)\n",
    "            df_copy['Baseline'] = df_copy.groupby('SpecID')['Absorbance'].transform(lambda x: poly_baseline_correction(x, poly_order=poly_order))\n",
    "            df_copy['Absorbance'] = df_copy['Absorbance'] - df_copy['Baseline']\n",
    "\n",
    "        else:\n",
    "            lam = trial.suggest_categorical('psalsa_lam', [10**2, 10**3, 10**4, 10**5, 10**6, 10**7, 10**8, 10**9, 10**10, 10**11])\n",
    "            p = trial.suggest_float('psalsa_p', 0.1, 0.9, step=0.05)\n",
    "            df_copy['Baseline'] = df_copy.groupby('SpecID')['Absorbance'].transform(lambda x: psalsa_baseline_correction(x, lam=lam, p=p))\n",
    "            df_copy['Absorbance'] = df_copy['Absorbance'] - df_copy['Baseline']\n",
    "\n",
    "    if smoothing:\n",
    "        window_size = trial.suggest_int('window_size', 6, 251)\n",
    "        poly_order = trial.suggest_int('smoothing_poly_order', 1, 5)\n",
    "        df_copy['Absorbance'] = df_copy.groupby('SpecID')['Absorbance'].transform(lambda x: savgol_filter(x, window_size, poly_order, deriv=0))\n",
    "\n",
    "    if scaling:\n",
    "        scaling_type = trial.suggest_categorical('scaling_type', ['normal', 'vector', 'svn'])\n",
    "        if scaling_type == 'normal':\n",
    "            df_copy['Absorbance'] = df_copy.groupby('SpecID')['Absorbance'].transform(lambda x: normalise(x))\n",
    "        elif scaling_type == 'vector':\n",
    "            df_copy['Absorbance'] = df_copy.groupby('SpecID')['Absorbance'].transform(lambda x: vector_normalise(x))\n",
    "        else:\n",
    "            df_copy['Absorbance'] = df_copy.groupby('SpecID')['Absorbance'].transform(lambda x: svn_normalise(x))\n",
    "\n",
    "    # Prepare data for ML\n",
    "    wavelength_df = prepare_wavelength_df(df_copy, 'Absorbance')\n",
    "    X = wavelength_df.drop(['Status', 'SurID'], axis=1)\n",
    "    y = wavelength_df['Status']\n",
    "    groups = wavelength_df['SurID']\n",
    "\n",
    "    # Suggest classifier type\n",
    "    classifier_name = trial.suggest_categorical(\"classifier\", [\"ExtraTrees\", \"RandomForest\", \"SVC\"])\n",
    "\n",
    "    if classifier_name == \"ExtraTrees\":\n",
    "        classifier = ExtraTreesClassifier(\n",
    "            n_estimators=trial.suggest_int(\"et_n_estimators\", 10, 200),\n",
    "            max_depth=trial.suggest_int(\"et_max_depth\", 2, 32, log=True),\n",
    "            criterion=trial.suggest_categorical(\"et_criterion\", [\"gini\", \"entropy\", \"log_loss\"]),\n",
    "            random_state=1234,\n",
    "        )\n",
    "\n",
    "    elif classifier_name == \"RandomForest\":\n",
    "        classifier = RandomForestClassifier(\n",
    "            n_estimators=trial.suggest_int(\"rf_n_estimators\", 10, 200),\n",
    "            max_depth=trial.suggest_int(\"rf_max_depth\", 2, 32, log=True),\n",
    "            criterion=trial.suggest_categorical(\"rf_criterion\", [\"gini\", \"entropy\", \"log_loss\"]),\n",
    "            random_state=1234,\n",
    "        )\n",
    "        \n",
    "    else: # SVC\n",
    "        classifier = SVC(\n",
    "            C=trial.suggest_float(\"svc_c\", 1e-10, 1e10, log=True),\n",
    "            kernel=trial.suggest_categorical(\"svc_kernel\", [\"linear\", \"poly\", \"rbf\", \"sigmoid\"]),\n",
    "            gamma=trial.suggest_categorical(\"svc_gamma\", [\"scale\", \"auto\"]),\n",
    "            random_state=1234,\n",
    "        )\n",
    "\n",
    "    cv = GroupKFold(n_splits=10)\n",
    "\n",
    "    # Perform cross-validation\n",
    "    scores = cross_validate(classifier, X, y, groups=groups, cv=cv, scoring='accuracy', n_jobs=-1)\n",
    "\n",
    "    # Return the average accuracy across all folds\n",
    "    return np.mean(scores['test_score'])\n",
    "\n",
    "\n",
    "# sampler = TPESampler(seed=10)  # Make the sampler behave in a deterministic way.\n",
    "# study = optuna.create_study(direction='maximise', sampler=sampler)\n",
    "\n",
    "study = optuna.create_study(direction=\"maximize\")\n",
    "# study.optimize(objective, n_trials=100, n_jobs=-1)\n",
    "study.optimize(objective, n_trials=200, n_jobs=-1)\n",
    "\n",
    "print(study.best_trial)"
   ]
  },
  {
   "cell_type": "code",
   "execution_count": null,
   "metadata": {},
   "outputs": [],
   "source": [
    "results_df = study.trials_dataframe(attrs=(\"number\", \"value\", \"params\", \"state\"))\n",
    "results_df.to_csv(\"../../data/studies/all_models_extra_baseline+outliers.csv\")"
   ]
  },
  {
   "cell_type": "code",
   "execution_count": null,
   "metadata": {},
   "outputs": [
    {
     "data": {
      "text/plain": [
       "['../../data/studies/all_models_extra_baseline+outliers.pkl']"
      ]
     },
     "execution_count": 8,
     "metadata": {},
     "output_type": "execute_result"
    }
   ],
   "source": [
    "import joblib\n",
    "\n",
    "joblib.dump(study, \"../../data/studies/all_models_extra_baseline+outliers.pkl\")"
   ]
  },
  {
   "cell_type": "code",
   "execution_count": null,
   "metadata": {},
   "outputs": [],
   "source": [
    "# loaded_study = joblib.load(\"../../data/studies/cleaning_study.pkl\")\n",
    "# print(\"Best trial until now:\")\n",
    "# print(\" Value: \", loaded_study.best_trial.value)\n",
    "# print(\" Params: \")\n",
    "# for key, value in loaded_study.best_trial.params.items():\n",
    "#     print(f\"    {key}: {value}\")"
   ]
  },
  {
   "cell_type": "code",
   "execution_count": null,
   "metadata": {},
   "outputs": [
    {
     "name": "stdout",
     "output_type": "stream",
     "text": [
      "FrozenTrial(number=2, state=1, values=[0.5295238095238095], datetime_start=datetime.datetime(2024, 4, 13, 15, 12, 5, 739176), datetime_complete=datetime.datetime(2024, 4, 13, 15, 17, 18, 149787), params={'pagerank_cutoff': 0.18498972578605988, 'despike': False, 'baseline_correct': True, 'smoothing': True, 'scaling': False, 'baseline_correction_type': 'psalsa', 'psalsa_lam': 10000, 'psalsa_p': 0.55, 'window_size': 78, 'smoothing_poly_order': 5, 'classifier': 'RandomForest', 'rf_n_estimators': 64, 'rf_max_depth': 6, 'rf_criterion': 'log_loss'}, user_attrs={}, system_attrs={}, intermediate_values={}, distributions={'pagerank_cutoff': FloatDistribution(high=1.1, log=False, low=0.0, step=None), 'despike': CategoricalDistribution(choices=(True, False)), 'baseline_correct': CategoricalDistribution(choices=(True, False)), 'smoothing': CategoricalDistribution(choices=(True, False)), 'scaling': CategoricalDistribution(choices=(True, False)), 'baseline_correction_type': CategoricalDistribution(choices=('asls', 'iasls', 'airpls', 'poly', 'psalsa')), 'psalsa_lam': CategoricalDistribution(choices=(100, 1000, 10000, 100000, 1000000, 10000000, 100000000, 1000000000, 10000000000, 100000000000)), 'psalsa_p': FloatDistribution(high=0.9, log=False, low=0.1, step=0.05), 'window_size': IntDistribution(high=251, log=False, low=6, step=1), 'smoothing_poly_order': IntDistribution(high=5, log=False, low=1, step=1), 'classifier': CategoricalDistribution(choices=('ExtraTrees', 'RandomForest', 'SVC')), 'rf_n_estimators': IntDistribution(high=200, log=False, low=10, step=1), 'rf_max_depth': IntDistribution(high=32, log=True, low=2, step=1), 'rf_criterion': CategoricalDistribution(choices=('gini', 'entropy', 'log_loss'))}, trial_id=2, value=None)\n"
     ]
    }
   ],
   "source": [
    "print(study.best_trial)"
   ]
  },
  {
   "cell_type": "code",
   "execution_count": null,
   "metadata": {},
   "outputs": [
    {
     "data": {
      "application/vnd.plotly.v1+json": {
       "config": {
        "plotlyServerURL": "https://plot.ly"
       },
       "data": [
        {
         "mode": "markers",
         "name": "Objective Value",
         "type": "scatter",
         "x": [
          0,
          1,
          2,
          3,
          4,
          5,
          6,
          7,
          8,
          9,
          10,
          11,
          12
         ],
         "y": [
          0.24652733256388643,
          0.4708172235247913,
          0.5295238095238095,
          0.4882391692540719,
          0.37103303503462964,
          0.3100035871680932,
          0.46896104870079824,
          0.48523795193765873,
          0.5244626920539046,
          0.522893458584214,
          0.38943083078693974,
          0.4699999999999999,
          0.4739278229104718
         ]
        },
        {
         "mode": "lines",
         "name": "Best Value",
         "type": "scatter",
         "x": [
          0,
          1,
          2,
          3,
          4,
          5,
          6,
          7,
          8,
          9,
          10,
          11,
          12
         ],
         "y": [
          0.24652733256388643,
          0.4708172235247913,
          0.5295238095238095,
          0.5295238095238095,
          0.5295238095238095,
          0.5295238095238095,
          0.5295238095238095,
          0.5295238095238095,
          0.5295238095238095,
          0.5295238095238095,
          0.5295238095238095,
          0.5295238095238095,
          0.5295238095238095
         ]
        },
        {
         "marker": {
          "color": "#cccccc"
         },
         "mode": "markers",
         "name": "Infeasible Trial",
         "showlegend": false,
         "type": "scatter",
         "x": [],
         "y": []
        }
       ],
       "layout": {
        "template": {
         "data": {
          "bar": [
           {
            "error_x": {
             "color": "#2a3f5f"
            },
            "error_y": {
             "color": "#2a3f5f"
            },
            "marker": {
             "line": {
              "color": "#E5ECF6",
              "width": 0.5
             },
             "pattern": {
              "fillmode": "overlay",
              "size": 10,
              "solidity": 0.2
             }
            },
            "type": "bar"
           }
          ],
          "barpolar": [
           {
            "marker": {
             "line": {
              "color": "#E5ECF6",
              "width": 0.5
             },
             "pattern": {
              "fillmode": "overlay",
              "size": 10,
              "solidity": 0.2
             }
            },
            "type": "barpolar"
           }
          ],
          "carpet": [
           {
            "aaxis": {
             "endlinecolor": "#2a3f5f",
             "gridcolor": "white",
             "linecolor": "white",
             "minorgridcolor": "white",
             "startlinecolor": "#2a3f5f"
            },
            "baxis": {
             "endlinecolor": "#2a3f5f",
             "gridcolor": "white",
             "linecolor": "white",
             "minorgridcolor": "white",
             "startlinecolor": "#2a3f5f"
            },
            "type": "carpet"
           }
          ],
          "choropleth": [
           {
            "colorbar": {
             "outlinewidth": 0,
             "ticks": ""
            },
            "type": "choropleth"
           }
          ],
          "contour": [
           {
            "colorbar": {
             "outlinewidth": 0,
             "ticks": ""
            },
            "colorscale": [
             [
              0,
              "#0d0887"
             ],
             [
              0.1111111111111111,
              "#46039f"
             ],
             [
              0.2222222222222222,
              "#7201a8"
             ],
             [
              0.3333333333333333,
              "#9c179e"
             ],
             [
              0.4444444444444444,
              "#bd3786"
             ],
             [
              0.5555555555555556,
              "#d8576b"
             ],
             [
              0.6666666666666666,
              "#ed7953"
             ],
             [
              0.7777777777777778,
              "#fb9f3a"
             ],
             [
              0.8888888888888888,
              "#fdca26"
             ],
             [
              1,
              "#f0f921"
             ]
            ],
            "type": "contour"
           }
          ],
          "contourcarpet": [
           {
            "colorbar": {
             "outlinewidth": 0,
             "ticks": ""
            },
            "type": "contourcarpet"
           }
          ],
          "heatmap": [
           {
            "colorbar": {
             "outlinewidth": 0,
             "ticks": ""
            },
            "colorscale": [
             [
              0,
              "#0d0887"
             ],
             [
              0.1111111111111111,
              "#46039f"
             ],
             [
              0.2222222222222222,
              "#7201a8"
             ],
             [
              0.3333333333333333,
              "#9c179e"
             ],
             [
              0.4444444444444444,
              "#bd3786"
             ],
             [
              0.5555555555555556,
              "#d8576b"
             ],
             [
              0.6666666666666666,
              "#ed7953"
             ],
             [
              0.7777777777777778,
              "#fb9f3a"
             ],
             [
              0.8888888888888888,
              "#fdca26"
             ],
             [
              1,
              "#f0f921"
             ]
            ],
            "type": "heatmap"
           }
          ],
          "heatmapgl": [
           {
            "colorbar": {
             "outlinewidth": 0,
             "ticks": ""
            },
            "colorscale": [
             [
              0,
              "#0d0887"
             ],
             [
              0.1111111111111111,
              "#46039f"
             ],
             [
              0.2222222222222222,
              "#7201a8"
             ],
             [
              0.3333333333333333,
              "#9c179e"
             ],
             [
              0.4444444444444444,
              "#bd3786"
             ],
             [
              0.5555555555555556,
              "#d8576b"
             ],
             [
              0.6666666666666666,
              "#ed7953"
             ],
             [
              0.7777777777777778,
              "#fb9f3a"
             ],
             [
              0.8888888888888888,
              "#fdca26"
             ],
             [
              1,
              "#f0f921"
             ]
            ],
            "type": "heatmapgl"
           }
          ],
          "histogram": [
           {
            "marker": {
             "pattern": {
              "fillmode": "overlay",
              "size": 10,
              "solidity": 0.2
             }
            },
            "type": "histogram"
           }
          ],
          "histogram2d": [
           {
            "colorbar": {
             "outlinewidth": 0,
             "ticks": ""
            },
            "colorscale": [
             [
              0,
              "#0d0887"
             ],
             [
              0.1111111111111111,
              "#46039f"
             ],
             [
              0.2222222222222222,
              "#7201a8"
             ],
             [
              0.3333333333333333,
              "#9c179e"
             ],
             [
              0.4444444444444444,
              "#bd3786"
             ],
             [
              0.5555555555555556,
              "#d8576b"
             ],
             [
              0.6666666666666666,
              "#ed7953"
             ],
             [
              0.7777777777777778,
              "#fb9f3a"
             ],
             [
              0.8888888888888888,
              "#fdca26"
             ],
             [
              1,
              "#f0f921"
             ]
            ],
            "type": "histogram2d"
           }
          ],
          "histogram2dcontour": [
           {
            "colorbar": {
             "outlinewidth": 0,
             "ticks": ""
            },
            "colorscale": [
             [
              0,
              "#0d0887"
             ],
             [
              0.1111111111111111,
              "#46039f"
             ],
             [
              0.2222222222222222,
              "#7201a8"
             ],
             [
              0.3333333333333333,
              "#9c179e"
             ],
             [
              0.4444444444444444,
              "#bd3786"
             ],
             [
              0.5555555555555556,
              "#d8576b"
             ],
             [
              0.6666666666666666,
              "#ed7953"
             ],
             [
              0.7777777777777778,
              "#fb9f3a"
             ],
             [
              0.8888888888888888,
              "#fdca26"
             ],
             [
              1,
              "#f0f921"
             ]
            ],
            "type": "histogram2dcontour"
           }
          ],
          "mesh3d": [
           {
            "colorbar": {
             "outlinewidth": 0,
             "ticks": ""
            },
            "type": "mesh3d"
           }
          ],
          "parcoords": [
           {
            "line": {
             "colorbar": {
              "outlinewidth": 0,
              "ticks": ""
             }
            },
            "type": "parcoords"
           }
          ],
          "pie": [
           {
            "automargin": true,
            "type": "pie"
           }
          ],
          "scatter": [
           {
            "fillpattern": {
             "fillmode": "overlay",
             "size": 10,
             "solidity": 0.2
            },
            "type": "scatter"
           }
          ],
          "scatter3d": [
           {
            "line": {
             "colorbar": {
              "outlinewidth": 0,
              "ticks": ""
             }
            },
            "marker": {
             "colorbar": {
              "outlinewidth": 0,
              "ticks": ""
             }
            },
            "type": "scatter3d"
           }
          ],
          "scattercarpet": [
           {
            "marker": {
             "colorbar": {
              "outlinewidth": 0,
              "ticks": ""
             }
            },
            "type": "scattercarpet"
           }
          ],
          "scattergeo": [
           {
            "marker": {
             "colorbar": {
              "outlinewidth": 0,
              "ticks": ""
             }
            },
            "type": "scattergeo"
           }
          ],
          "scattergl": [
           {
            "marker": {
             "colorbar": {
              "outlinewidth": 0,
              "ticks": ""
             }
            },
            "type": "scattergl"
           }
          ],
          "scattermapbox": [
           {
            "marker": {
             "colorbar": {
              "outlinewidth": 0,
              "ticks": ""
             }
            },
            "type": "scattermapbox"
           }
          ],
          "scatterpolar": [
           {
            "marker": {
             "colorbar": {
              "outlinewidth": 0,
              "ticks": ""
             }
            },
            "type": "scatterpolar"
           }
          ],
          "scatterpolargl": [
           {
            "marker": {
             "colorbar": {
              "outlinewidth": 0,
              "ticks": ""
             }
            },
            "type": "scatterpolargl"
           }
          ],
          "scatterternary": [
           {
            "marker": {
             "colorbar": {
              "outlinewidth": 0,
              "ticks": ""
             }
            },
            "type": "scatterternary"
           }
          ],
          "surface": [
           {
            "colorbar": {
             "outlinewidth": 0,
             "ticks": ""
            },
            "colorscale": [
             [
              0,
              "#0d0887"
             ],
             [
              0.1111111111111111,
              "#46039f"
             ],
             [
              0.2222222222222222,
              "#7201a8"
             ],
             [
              0.3333333333333333,
              "#9c179e"
             ],
             [
              0.4444444444444444,
              "#bd3786"
             ],
             [
              0.5555555555555556,
              "#d8576b"
             ],
             [
              0.6666666666666666,
              "#ed7953"
             ],
             [
              0.7777777777777778,
              "#fb9f3a"
             ],
             [
              0.8888888888888888,
              "#fdca26"
             ],
             [
              1,
              "#f0f921"
             ]
            ],
            "type": "surface"
           }
          ],
          "table": [
           {
            "cells": {
             "fill": {
              "color": "#EBF0F8"
             },
             "line": {
              "color": "white"
             }
            },
            "header": {
             "fill": {
              "color": "#C8D4E3"
             },
             "line": {
              "color": "white"
             }
            },
            "type": "table"
           }
          ]
         },
         "layout": {
          "annotationdefaults": {
           "arrowcolor": "#2a3f5f",
           "arrowhead": 0,
           "arrowwidth": 1
          },
          "autotypenumbers": "strict",
          "coloraxis": {
           "colorbar": {
            "outlinewidth": 0,
            "ticks": ""
           }
          },
          "colorscale": {
           "diverging": [
            [
             0,
             "#8e0152"
            ],
            [
             0.1,
             "#c51b7d"
            ],
            [
             0.2,
             "#de77ae"
            ],
            [
             0.3,
             "#f1b6da"
            ],
            [
             0.4,
             "#fde0ef"
            ],
            [
             0.5,
             "#f7f7f7"
            ],
            [
             0.6,
             "#e6f5d0"
            ],
            [
             0.7,
             "#b8e186"
            ],
            [
             0.8,
             "#7fbc41"
            ],
            [
             0.9,
             "#4d9221"
            ],
            [
             1,
             "#276419"
            ]
           ],
           "sequential": [
            [
             0,
             "#0d0887"
            ],
            [
             0.1111111111111111,
             "#46039f"
            ],
            [
             0.2222222222222222,
             "#7201a8"
            ],
            [
             0.3333333333333333,
             "#9c179e"
            ],
            [
             0.4444444444444444,
             "#bd3786"
            ],
            [
             0.5555555555555556,
             "#d8576b"
            ],
            [
             0.6666666666666666,
             "#ed7953"
            ],
            [
             0.7777777777777778,
             "#fb9f3a"
            ],
            [
             0.8888888888888888,
             "#fdca26"
            ],
            [
             1,
             "#f0f921"
            ]
           ],
           "sequentialminus": [
            [
             0,
             "#0d0887"
            ],
            [
             0.1111111111111111,
             "#46039f"
            ],
            [
             0.2222222222222222,
             "#7201a8"
            ],
            [
             0.3333333333333333,
             "#9c179e"
            ],
            [
             0.4444444444444444,
             "#bd3786"
            ],
            [
             0.5555555555555556,
             "#d8576b"
            ],
            [
             0.6666666666666666,
             "#ed7953"
            ],
            [
             0.7777777777777778,
             "#fb9f3a"
            ],
            [
             0.8888888888888888,
             "#fdca26"
            ],
            [
             1,
             "#f0f921"
            ]
           ]
          },
          "colorway": [
           "#636efa",
           "#EF553B",
           "#00cc96",
           "#ab63fa",
           "#FFA15A",
           "#19d3f3",
           "#FF6692",
           "#B6E880",
           "#FF97FF",
           "#FECB52"
          ],
          "font": {
           "color": "#2a3f5f"
          },
          "geo": {
           "bgcolor": "white",
           "lakecolor": "white",
           "landcolor": "#E5ECF6",
           "showlakes": true,
           "showland": true,
           "subunitcolor": "white"
          },
          "hoverlabel": {
           "align": "left"
          },
          "hovermode": "closest",
          "mapbox": {
           "style": "light"
          },
          "paper_bgcolor": "white",
          "plot_bgcolor": "#E5ECF6",
          "polar": {
           "angularaxis": {
            "gridcolor": "white",
            "linecolor": "white",
            "ticks": ""
           },
           "bgcolor": "#E5ECF6",
           "radialaxis": {
            "gridcolor": "white",
            "linecolor": "white",
            "ticks": ""
           }
          },
          "scene": {
           "xaxis": {
            "backgroundcolor": "#E5ECF6",
            "gridcolor": "white",
            "gridwidth": 2,
            "linecolor": "white",
            "showbackground": true,
            "ticks": "",
            "zerolinecolor": "white"
           },
           "yaxis": {
            "backgroundcolor": "#E5ECF6",
            "gridcolor": "white",
            "gridwidth": 2,
            "linecolor": "white",
            "showbackground": true,
            "ticks": "",
            "zerolinecolor": "white"
           },
           "zaxis": {
            "backgroundcolor": "#E5ECF6",
            "gridcolor": "white",
            "gridwidth": 2,
            "linecolor": "white",
            "showbackground": true,
            "ticks": "",
            "zerolinecolor": "white"
           }
          },
          "shapedefaults": {
           "line": {
            "color": "#2a3f5f"
           }
          },
          "ternary": {
           "aaxis": {
            "gridcolor": "white",
            "linecolor": "white",
            "ticks": ""
           },
           "baxis": {
            "gridcolor": "white",
            "linecolor": "white",
            "ticks": ""
           },
           "bgcolor": "#E5ECF6",
           "caxis": {
            "gridcolor": "white",
            "linecolor": "white",
            "ticks": ""
           }
          },
          "title": {
           "x": 0.05
          },
          "xaxis": {
           "automargin": true,
           "gridcolor": "white",
           "linecolor": "white",
           "ticks": "",
           "title": {
            "standoff": 15
           },
           "zerolinecolor": "white",
           "zerolinewidth": 2
          },
          "yaxis": {
           "automargin": true,
           "gridcolor": "white",
           "linecolor": "white",
           "ticks": "",
           "title": {
            "standoff": 15
           },
           "zerolinecolor": "white",
           "zerolinewidth": 2
          }
         }
        },
        "title": {
         "text": "Optimization History Plot"
        },
        "xaxis": {
         "title": {
          "text": "Trial"
         }
        },
        "yaxis": {
         "title": {
          "text": "Objective Value"
         }
        }
       }
      }
     },
     "metadata": {},
     "output_type": "display_data"
    }
   ],
   "source": [
    "from optuna.visualization import plot_optimization_history, plot_slice\n",
    "\n",
    "plot_optimization_history(study)"
   ]
  },
  {
   "cell_type": "code",
   "execution_count": null,
   "metadata": {},
   "outputs": [
    {
     "data": {
      "application/vnd.plotly.v1+json": {
       "config": {
        "plotlyServerURL": "https://plot.ly"
       },
       "data": [
        {
         "marker": {
          "color": [
           9
          ],
          "colorbar": {
           "title": {
            "text": "Trial"
           },
           "x": 1,
           "xpad": 40
          },
          "colorscale": [
           [
            0,
            "rgb(247,251,255)"
           ],
           [
            0.125,
            "rgb(222,235,247)"
           ],
           [
            0.25,
            "rgb(198,219,239)"
           ],
           [
            0.375,
            "rgb(158,202,225)"
           ],
           [
            0.5,
            "rgb(107,174,214)"
           ],
           [
            0.625,
            "rgb(66,146,198)"
           ],
           [
            0.75,
            "rgb(33,113,181)"
           ],
           [
            0.875,
            "rgb(8,81,156)"
           ],
           [
            1,
            "rgb(8,48,107)"
           ]
          ],
          "line": {
           "color": "Grey",
           "width": 0.5
          },
          "showscale": true
         },
         "mode": "markers",
         "name": "Feasible Trial",
         "showlegend": false,
         "type": "scatter",
         "x": [
          100000000
         ],
         "xaxis": "x",
         "y": [
          0.522893458584214
         ],
         "yaxis": "y"
        },
        {
         "marker": {
          "color": [
           3,
           4
          ],
          "colorbar": {
           "title": {
            "text": "Trial"
           },
           "x": 1,
           "xpad": 40
          },
          "colorscale": [
           [
            0,
            "rgb(247,251,255)"
           ],
           [
            0.125,
            "rgb(222,235,247)"
           ],
           [
            0.25,
            "rgb(198,219,239)"
           ],
           [
            0.375,
            "rgb(158,202,225)"
           ],
           [
            0.5,
            "rgb(107,174,214)"
           ],
           [
            0.625,
            "rgb(66,146,198)"
           ],
           [
            0.75,
            "rgb(33,113,181)"
           ],
           [
            0.875,
            "rgb(8,81,156)"
           ],
           [
            1,
            "rgb(8,48,107)"
           ]
          ],
          "line": {
           "color": "Grey",
           "width": 0.5
          },
          "showscale": false
         },
         "mode": "markers",
         "name": "Feasible Trial",
         "showlegend": false,
         "type": "scatter",
         "x": [
          10000000,
          1000000
         ],
         "xaxis": "x2",
         "y": [
          0.4882391692540719,
          0.37103303503462964
         ],
         "yaxis": "y2"
        },
        {
         "marker": {
          "color": [
           3,
           4
          ],
          "colorbar": {
           "title": {
            "text": "Trial"
           },
           "x": 1,
           "xpad": 40
          },
          "colorscale": [
           [
            0,
            "rgb(247,251,255)"
           ],
           [
            0.125,
            "rgb(222,235,247)"
           ],
           [
            0.25,
            "rgb(198,219,239)"
           ],
           [
            0.375,
            "rgb(158,202,225)"
           ],
           [
            0.5,
            "rgb(107,174,214)"
           ],
           [
            0.625,
            "rgb(66,146,198)"
           ],
           [
            0.75,
            "rgb(33,113,181)"
           ],
           [
            0.875,
            "rgb(8,81,156)"
           ],
           [
            1,
            "rgb(8,48,107)"
           ]
          ],
          "line": {
           "color": "Grey",
           "width": 0.5
          },
          "showscale": false
         },
         "mode": "markers",
         "name": "Feasible Trial",
         "showlegend": false,
         "type": "scatter",
         "x": [
          0.037000000000000005,
          0.048
         ],
         "xaxis": "x3",
         "y": [
          0.4882391692540719,
          0.37103303503462964
         ],
         "yaxis": "y3"
        },
        {
         "marker": {
          "color": [
           0,
           1,
           2,
           3,
           4,
           5,
           6,
           7,
           8,
           9,
           10,
           11,
           12
          ],
          "colorbar": {
           "title": {
            "text": "Trial"
           },
           "x": 1,
           "xpad": 40
          },
          "colorscale": [
           [
            0,
            "rgb(247,251,255)"
           ],
           [
            0.125,
            "rgb(222,235,247)"
           ],
           [
            0.25,
            "rgb(198,219,239)"
           ],
           [
            0.375,
            "rgb(158,202,225)"
           ],
           [
            0.5,
            "rgb(107,174,214)"
           ],
           [
            0.625,
            "rgb(66,146,198)"
           ],
           [
            0.75,
            "rgb(33,113,181)"
           ],
           [
            0.875,
            "rgb(8,81,156)"
           ],
           [
            1,
            "rgb(8,48,107)"
           ]
          ],
          "line": {
           "color": "Grey",
           "width": 0.5
          },
          "showscale": false
         },
         "mode": "markers",
         "name": "Feasible Trial",
         "showlegend": false,
         "type": "scatter",
         "x": [
          false,
          false,
          true,
          true,
          true,
          false,
          false,
          true,
          true,
          true,
          true,
          false,
          true
         ],
         "xaxis": "x4",
         "y": [
          0.24652733256388643,
          0.4708172235247913,
          0.5295238095238095,
          0.4882391692540719,
          0.37103303503462964,
          0.3100035871680932,
          0.46896104870079824,
          0.48523795193765873,
          0.5244626920539046,
          0.522893458584214,
          0.38943083078693974,
          0.4699999999999999,
          0.4739278229104718
         ],
         "yaxis": "y4"
        },
        {
         "marker": {
          "color": [
           2,
           3,
           4,
           7,
           8,
           9,
           10,
           12
          ],
          "colorbar": {
           "title": {
            "text": "Trial"
           },
           "x": 1,
           "xpad": 40
          },
          "colorscale": [
           [
            0,
            "rgb(247,251,255)"
           ],
           [
            0.125,
            "rgb(222,235,247)"
           ],
           [
            0.25,
            "rgb(198,219,239)"
           ],
           [
            0.375,
            "rgb(158,202,225)"
           ],
           [
            0.5,
            "rgb(107,174,214)"
           ],
           [
            0.625,
            "rgb(66,146,198)"
           ],
           [
            0.75,
            "rgb(33,113,181)"
           ],
           [
            0.875,
            "rgb(8,81,156)"
           ],
           [
            1,
            "rgb(8,48,107)"
           ]
          ],
          "line": {
           "color": "Grey",
           "width": 0.5
          },
          "showscale": false
         },
         "mode": "markers",
         "name": "Feasible Trial",
         "showlegend": false,
         "type": "scatter",
         "x": [
          "psalsa",
          "asls",
          "asls",
          "psalsa",
          "psalsa",
          "airpls",
          "psalsa",
          "psalsa"
         ],
         "xaxis": "x5",
         "y": [
          0.5295238095238095,
          0.4882391692540719,
          0.37103303503462964,
          0.48523795193765873,
          0.5244626920539046,
          0.522893458584214,
          0.38943083078693974,
          0.4739278229104718
         ],
         "yaxis": "y5"
        },
        {
         "marker": {
          "color": [
           0,
           1,
           2,
           3,
           4,
           5,
           6,
           7,
           8,
           9,
           10,
           11,
           12
          ],
          "colorbar": {
           "title": {
            "text": "Trial"
           },
           "x": 1,
           "xpad": 40
          },
          "colorscale": [
           [
            0,
            "rgb(247,251,255)"
           ],
           [
            0.125,
            "rgb(222,235,247)"
           ],
           [
            0.25,
            "rgb(198,219,239)"
           ],
           [
            0.375,
            "rgb(158,202,225)"
           ],
           [
            0.5,
            "rgb(107,174,214)"
           ],
           [
            0.625,
            "rgb(66,146,198)"
           ],
           [
            0.75,
            "rgb(33,113,181)"
           ],
           [
            0.875,
            "rgb(8,81,156)"
           ],
           [
            1,
            "rgb(8,48,107)"
           ]
          ],
          "line": {
           "color": "Grey",
           "width": 0.5
          },
          "showscale": false
         },
         "mode": "markers",
         "name": "Feasible Trial",
         "showlegend": false,
         "type": "scatter",
         "x": [
          "SVC",
          "SVC",
          "RandomForest",
          "RandomForest",
          "SVC",
          "RandomForest",
          "ExtraTrees",
          "RandomForest",
          "SVC",
          "RandomForest",
          "RandomForest",
          "ExtraTrees",
          "RandomForest"
         ],
         "xaxis": "x6",
         "y": [
          0.24652733256388643,
          0.4708172235247913,
          0.5295238095238095,
          0.4882391692540719,
          0.37103303503462964,
          0.3100035871680932,
          0.46896104870079824,
          0.48523795193765873,
          0.5244626920539046,
          0.522893458584214,
          0.38943083078693974,
          0.4699999999999999,
          0.4739278229104718
         ],
         "yaxis": "y6"
        },
        {
         "marker": {
          "color": [
           0,
           1,
           2,
           3,
           4,
           5,
           6,
           7,
           8,
           9,
           10,
           11,
           12
          ],
          "colorbar": {
           "title": {
            "text": "Trial"
           },
           "x": 1,
           "xpad": 40
          },
          "colorscale": [
           [
            0,
            "rgb(247,251,255)"
           ],
           [
            0.125,
            "rgb(222,235,247)"
           ],
           [
            0.25,
            "rgb(198,219,239)"
           ],
           [
            0.375,
            "rgb(158,202,225)"
           ],
           [
            0.5,
            "rgb(107,174,214)"
           ],
           [
            0.625,
            "rgb(66,146,198)"
           ],
           [
            0.75,
            "rgb(33,113,181)"
           ],
           [
            0.875,
            "rgb(8,81,156)"
           ],
           [
            1,
            "rgb(8,48,107)"
           ]
          ],
          "line": {
           "color": "Grey",
           "width": 0.5
          },
          "showscale": false
         },
         "mode": "markers",
         "name": "Feasible Trial",
         "showlegend": false,
         "type": "scatter",
         "x": [
          true,
          false,
          false,
          true,
          false,
          true,
          true,
          false,
          true,
          true,
          true,
          false,
          false
         ],
         "xaxis": "x7",
         "y": [
          0.24652733256388643,
          0.4708172235247913,
          0.5295238095238095,
          0.4882391692540719,
          0.37103303503462964,
          0.3100035871680932,
          0.46896104870079824,
          0.48523795193765873,
          0.5244626920539046,
          0.522893458584214,
          0.38943083078693974,
          0.4699999999999999,
          0.4739278229104718
         ],
         "yaxis": "y7"
        },
        {
         "marker": {
          "color": [
           0,
           3,
           5,
           6,
           8,
           9,
           10
          ],
          "colorbar": {
           "title": {
            "text": "Trial"
           },
           "x": 1,
           "xpad": 40
          },
          "colorscale": [
           [
            0,
            "rgb(247,251,255)"
           ],
           [
            0.125,
            "rgb(222,235,247)"
           ],
           [
            0.25,
            "rgb(198,219,239)"
           ],
           [
            0.375,
            "rgb(158,202,225)"
           ],
           [
            0.5,
            "rgb(107,174,214)"
           ],
           [
            0.625,
            "rgb(66,146,198)"
           ],
           [
            0.75,
            "rgb(33,113,181)"
           ],
           [
            0.875,
            "rgb(8,81,156)"
           ],
           [
            1,
            "rgb(8,48,107)"
           ]
          ],
          "line": {
           "color": "Grey",
           "width": 0.5
          },
          "showscale": false
         },
         "mode": "markers",
         "name": "Feasible Trial",
         "showlegend": false,
         "type": "scatter",
         "x": [
          72,
          98,
          61,
          83,
          89,
          53,
          94
         ],
         "xaxis": "x8",
         "y": [
          0.24652733256388643,
          0.4882391692540719,
          0.3100035871680932,
          0.46896104870079824,
          0.5244626920539046,
          0.522893458584214,
          0.38943083078693974
         ],
         "yaxis": "y8"
        },
        {
         "marker": {
          "color": [
           0,
           3,
           5,
           6,
           8,
           9,
           10
          ],
          "colorbar": {
           "title": {
            "text": "Trial"
           },
           "x": 1,
           "xpad": 40
          },
          "colorscale": [
           [
            0,
            "rgb(247,251,255)"
           ],
           [
            0.125,
            "rgb(222,235,247)"
           ],
           [
            0.25,
            "rgb(198,219,239)"
           ],
           [
            0.375,
            "rgb(158,202,225)"
           ],
           [
            0.5,
            "rgb(107,174,214)"
           ],
           [
            0.625,
            "rgb(66,146,198)"
           ],
           [
            0.75,
            "rgb(33,113,181)"
           ],
           [
            0.875,
            "rgb(8,81,156)"
           ],
           [
            1,
            "rgb(8,48,107)"
           ]
          ],
          "line": {
           "color": "Grey",
           "width": 0.5
          },
          "showscale": false
         },
         "mode": "markers",
         "name": "Feasible Trial",
         "showlegend": false,
         "type": "scatter",
         "x": [
          7,
          7.5,
          8.75,
          6.75,
          9.5,
          5,
          3.75
         ],
         "xaxis": "x9",
         "y": [
          0.24652733256388643,
          0.4882391692540719,
          0.3100035871680932,
          0.46896104870079824,
          0.5244626920539046,
          0.522893458584214,
          0.38943083078693974
         ],
         "yaxis": "y9"
        },
        {
         "marker": {
          "color": [
           6,
           11
          ],
          "colorbar": {
           "title": {
            "text": "Trial"
           },
           "x": 1,
           "xpad": 40
          },
          "colorscale": [
           [
            0,
            "rgb(247,251,255)"
           ],
           [
            0.125,
            "rgb(222,235,247)"
           ],
           [
            0.25,
            "rgb(198,219,239)"
           ],
           [
            0.375,
            "rgb(158,202,225)"
           ],
           [
            0.5,
            "rgb(107,174,214)"
           ],
           [
            0.625,
            "rgb(66,146,198)"
           ],
           [
            0.75,
            "rgb(33,113,181)"
           ],
           [
            0.875,
            "rgb(8,81,156)"
           ],
           [
            1,
            "rgb(8,48,107)"
           ]
          ],
          "line": {
           "color": "Grey",
           "width": 0.5
          },
          "showscale": false
         },
         "mode": "markers",
         "name": "Feasible Trial",
         "showlegend": false,
         "type": "scatter",
         "x": [
          "entropy",
          "entropy"
         ],
         "xaxis": "x10",
         "y": [
          0.46896104870079824,
          0.4699999999999999
         ],
         "yaxis": "y10"
        },
        {
         "marker": {
          "color": [
           6,
           11
          ],
          "colorbar": {
           "title": {
            "text": "Trial"
           },
           "x": 1,
           "xpad": 40
          },
          "colorscale": [
           [
            0,
            "rgb(247,251,255)"
           ],
           [
            0.125,
            "rgb(222,235,247)"
           ],
           [
            0.25,
            "rgb(198,219,239)"
           ],
           [
            0.375,
            "rgb(158,202,225)"
           ],
           [
            0.5,
            "rgb(107,174,214)"
           ],
           [
            0.625,
            "rgb(66,146,198)"
           ],
           [
            0.75,
            "rgb(33,113,181)"
           ],
           [
            0.875,
            "rgb(8,81,156)"
           ],
           [
            1,
            "rgb(8,48,107)"
           ]
          ],
          "line": {
           "color": "Grey",
           "width": 0.5
          },
          "showscale": false
         },
         "mode": "markers",
         "name": "Feasible Trial",
         "showlegend": false,
         "type": "scatter",
         "x": [
          2,
          2
         ],
         "xaxis": "x11",
         "y": [
          0.46896104870079824,
          0.4699999999999999
         ],
         "yaxis": "y11"
        },
        {
         "marker": {
          "color": [
           6,
           11
          ],
          "colorbar": {
           "title": {
            "text": "Trial"
           },
           "x": 1,
           "xpad": 40
          },
          "colorscale": [
           [
            0,
            "rgb(247,251,255)"
           ],
           [
            0.125,
            "rgb(222,235,247)"
           ],
           [
            0.25,
            "rgb(198,219,239)"
           ],
           [
            0.375,
            "rgb(158,202,225)"
           ],
           [
            0.5,
            "rgb(107,174,214)"
           ],
           [
            0.625,
            "rgb(66,146,198)"
           ],
           [
            0.75,
            "rgb(33,113,181)"
           ],
           [
            0.875,
            "rgb(8,81,156)"
           ],
           [
            1,
            "rgb(8,48,107)"
           ]
          ],
          "line": {
           "color": "Grey",
           "width": 0.5
          },
          "showscale": false
         },
         "mode": "markers",
         "name": "Feasible Trial",
         "showlegend": false,
         "type": "scatter",
         "x": [
          88,
          33
         ],
         "xaxis": "x12",
         "y": [
          0.46896104870079824,
          0.4699999999999999
         ],
         "yaxis": "y12"
        },
        {
         "marker": {
          "color": [
           0,
           1,
           2,
           3,
           4,
           5,
           6,
           7,
           8,
           9,
           10,
           11,
           12
          ],
          "colorbar": {
           "title": {
            "text": "Trial"
           },
           "x": 1,
           "xpad": 40
          },
          "colorscale": [
           [
            0,
            "rgb(247,251,255)"
           ],
           [
            0.125,
            "rgb(222,235,247)"
           ],
           [
            0.25,
            "rgb(198,219,239)"
           ],
           [
            0.375,
            "rgb(158,202,225)"
           ],
           [
            0.5,
            "rgb(107,174,214)"
           ],
           [
            0.625,
            "rgb(66,146,198)"
           ],
           [
            0.75,
            "rgb(33,113,181)"
           ],
           [
            0.875,
            "rgb(8,81,156)"
           ],
           [
            1,
            "rgb(8,48,107)"
           ]
          ],
          "line": {
           "color": "Grey",
           "width": 0.5
          },
          "showscale": false
         },
         "mode": "markers",
         "name": "Feasible Trial",
         "showlegend": false,
         "type": "scatter",
         "x": [
          0.473679121098526,
          0.6785502980975909,
          0.18498972578605988,
          0.6160428827996113,
          1.0493205944716955,
          0.9927830566443498,
          0.7392468587656932,
          0.8886170349534325,
          0.46431865321369165,
          0.660862267814611,
          0.3628614296832678,
          0.1729499751043109,
          0.7469984932855396
         ],
         "xaxis": "x13",
         "y": [
          0.24652733256388643,
          0.4708172235247913,
          0.5295238095238095,
          0.4882391692540719,
          0.37103303503462964,
          0.3100035871680932,
          0.46896104870079824,
          0.48523795193765873,
          0.5244626920539046,
          0.522893458584214,
          0.38943083078693974,
          0.4699999999999999,
          0.4739278229104718
         ],
         "yaxis": "y13"
        },
        {
         "marker": {
          "color": [
           2,
           7,
           8,
           10,
           12
          ],
          "colorbar": {
           "title": {
            "text": "Trial"
           },
           "x": 1,
           "xpad": 40
          },
          "colorscale": [
           [
            0,
            "rgb(247,251,255)"
           ],
           [
            0.125,
            "rgb(222,235,247)"
           ],
           [
            0.25,
            "rgb(198,219,239)"
           ],
           [
            0.375,
            "rgb(158,202,225)"
           ],
           [
            0.5,
            "rgb(107,174,214)"
           ],
           [
            0.625,
            "rgb(66,146,198)"
           ],
           [
            0.75,
            "rgb(33,113,181)"
           ],
           [
            0.875,
            "rgb(8,81,156)"
           ],
           [
            1,
            "rgb(8,48,107)"
           ]
          ],
          "line": {
           "color": "Grey",
           "width": 0.5
          },
          "showscale": false
         },
         "mode": "markers",
         "name": "Feasible Trial",
         "showlegend": false,
         "type": "scatter",
         "x": [
          10000,
          1000000000,
          10000000000,
          10000,
          1000000
         ],
         "xaxis": "x14",
         "y": [
          0.5295238095238095,
          0.48523795193765873,
          0.5244626920539046,
          0.38943083078693974,
          0.4739278229104718
         ],
         "yaxis": "y14"
        },
        {
         "marker": {
          "color": [
           2,
           7,
           8,
           10,
           12
          ],
          "colorbar": {
           "title": {
            "text": "Trial"
           },
           "x": 1,
           "xpad": 40
          },
          "colorscale": [
           [
            0,
            "rgb(247,251,255)"
           ],
           [
            0.125,
            "rgb(222,235,247)"
           ],
           [
            0.25,
            "rgb(198,219,239)"
           ],
           [
            0.375,
            "rgb(158,202,225)"
           ],
           [
            0.5,
            "rgb(107,174,214)"
           ],
           [
            0.625,
            "rgb(66,146,198)"
           ],
           [
            0.75,
            "rgb(33,113,181)"
           ],
           [
            0.875,
            "rgb(8,81,156)"
           ],
           [
            1,
            "rgb(8,48,107)"
           ]
          ],
          "line": {
           "color": "Grey",
           "width": 0.5
          },
          "showscale": false
         },
         "mode": "markers",
         "name": "Feasible Trial",
         "showlegend": false,
         "type": "scatter",
         "x": [
          0.55,
          0.35,
          0.85,
          0.25,
          0.85
         ],
         "xaxis": "x15",
         "y": [
          0.5295238095238095,
          0.48523795193765873,
          0.5244626920539046,
          0.38943083078693974,
          0.4739278229104718
         ],
         "yaxis": "y15"
        },
        {
         "marker": {
          "color": [
           2,
           3,
           5,
           7,
           9,
           10,
           12
          ],
          "colorbar": {
           "title": {
            "text": "Trial"
           },
           "x": 1,
           "xpad": 40
          },
          "colorscale": [
           [
            0,
            "rgb(247,251,255)"
           ],
           [
            0.125,
            "rgb(222,235,247)"
           ],
           [
            0.25,
            "rgb(198,219,239)"
           ],
           [
            0.375,
            "rgb(158,202,225)"
           ],
           [
            0.5,
            "rgb(107,174,214)"
           ],
           [
            0.625,
            "rgb(66,146,198)"
           ],
           [
            0.75,
            "rgb(33,113,181)"
           ],
           [
            0.875,
            "rgb(8,81,156)"
           ],
           [
            1,
            "rgb(8,48,107)"
           ]
          ],
          "line": {
           "color": "Grey",
           "width": 0.5
          },
          "showscale": false
         },
         "mode": "markers",
         "name": "Feasible Trial",
         "showlegend": false,
         "type": "scatter",
         "x": [
          "log_loss",
          "log_loss",
          "gini",
          "entropy",
          "entropy",
          "gini",
          "log_loss"
         ],
         "xaxis": "x16",
         "y": [
          0.5295238095238095,
          0.4882391692540719,
          0.3100035871680932,
          0.48523795193765873,
          0.522893458584214,
          0.38943083078693974,
          0.4739278229104718
         ],
         "yaxis": "y16"
        },
        {
         "marker": {
          "color": [
           2,
           3,
           5,
           7,
           9,
           10,
           12
          ],
          "colorbar": {
           "title": {
            "text": "Trial"
           },
           "x": 1,
           "xpad": 40
          },
          "colorscale": [
           [
            0,
            "rgb(247,251,255)"
           ],
           [
            0.125,
            "rgb(222,235,247)"
           ],
           [
            0.25,
            "rgb(198,219,239)"
           ],
           [
            0.375,
            "rgb(158,202,225)"
           ],
           [
            0.5,
            "rgb(107,174,214)"
           ],
           [
            0.625,
            "rgb(66,146,198)"
           ],
           [
            0.75,
            "rgb(33,113,181)"
           ],
           [
            0.875,
            "rgb(8,81,156)"
           ],
           [
            1,
            "rgb(8,48,107)"
           ]
          ],
          "line": {
           "color": "Grey",
           "width": 0.5
          },
          "showscale": false
         },
         "mode": "markers",
         "name": "Feasible Trial",
         "showlegend": false,
         "type": "scatter",
         "x": [
          6,
          3,
          2,
          2,
          22,
          4,
          10
         ],
         "xaxis": "x17",
         "y": [
          0.5295238095238095,
          0.4882391692540719,
          0.3100035871680932,
          0.48523795193765873,
          0.522893458584214,
          0.38943083078693974,
          0.4739278229104718
         ],
         "yaxis": "y17"
        },
        {
         "marker": {
          "color": [
           2,
           3,
           5,
           7,
           9,
           10,
           12
          ],
          "colorbar": {
           "title": {
            "text": "Trial"
           },
           "x": 1,
           "xpad": 40
          },
          "colorscale": [
           [
            0,
            "rgb(247,251,255)"
           ],
           [
            0.125,
            "rgb(222,235,247)"
           ],
           [
            0.25,
            "rgb(198,219,239)"
           ],
           [
            0.375,
            "rgb(158,202,225)"
           ],
           [
            0.5,
            "rgb(107,174,214)"
           ],
           [
            0.625,
            "rgb(66,146,198)"
           ],
           [
            0.75,
            "rgb(33,113,181)"
           ],
           [
            0.875,
            "rgb(8,81,156)"
           ],
           [
            1,
            "rgb(8,48,107)"
           ]
          ],
          "line": {
           "color": "Grey",
           "width": 0.5
          },
          "showscale": false
         },
         "mode": "markers",
         "name": "Feasible Trial",
         "showlegend": false,
         "type": "scatter",
         "x": [
          64,
          116,
          80,
          160,
          157,
          141,
          23
         ],
         "xaxis": "x18",
         "y": [
          0.5295238095238095,
          0.4882391692540719,
          0.3100035871680932,
          0.48523795193765873,
          0.522893458584214,
          0.38943083078693974,
          0.4739278229104718
         ],
         "yaxis": "y18"
        },
        {
         "marker": {
          "color": [
           0,
           1,
           2,
           3,
           4,
           5,
           6,
           7,
           8,
           9,
           10,
           11,
           12
          ],
          "colorbar": {
           "title": {
            "text": "Trial"
           },
           "x": 1,
           "xpad": 40
          },
          "colorscale": [
           [
            0,
            "rgb(247,251,255)"
           ],
           [
            0.125,
            "rgb(222,235,247)"
           ],
           [
            0.25,
            "rgb(198,219,239)"
           ],
           [
            0.375,
            "rgb(158,202,225)"
           ],
           [
            0.5,
            "rgb(107,174,214)"
           ],
           [
            0.625,
            "rgb(66,146,198)"
           ],
           [
            0.75,
            "rgb(33,113,181)"
           ],
           [
            0.875,
            "rgb(8,81,156)"
           ],
           [
            1,
            "rgb(8,48,107)"
           ]
          ],
          "line": {
           "color": "Grey",
           "width": 0.5
          },
          "showscale": false
         },
         "mode": "markers",
         "name": "Feasible Trial",
         "showlegend": false,
         "type": "scatter",
         "x": [
          false,
          false,
          false,
          false,
          false,
          true,
          false,
          true,
          true,
          true,
          true,
          false,
          false
         ],
         "xaxis": "x19",
         "y": [
          0.24652733256388643,
          0.4708172235247913,
          0.5295238095238095,
          0.4882391692540719,
          0.37103303503462964,
          0.3100035871680932,
          0.46896104870079824,
          0.48523795193765873,
          0.5244626920539046,
          0.522893458584214,
          0.38943083078693974,
          0.4699999999999999,
          0.4739278229104718
         ],
         "yaxis": "y19"
        },
        {
         "marker": {
          "color": [
           5,
           7,
           8,
           9,
           10
          ],
          "colorbar": {
           "title": {
            "text": "Trial"
           },
           "x": 1,
           "xpad": 40
          },
          "colorscale": [
           [
            0,
            "rgb(247,251,255)"
           ],
           [
            0.125,
            "rgb(222,235,247)"
           ],
           [
            0.25,
            "rgb(198,219,239)"
           ],
           [
            0.375,
            "rgb(158,202,225)"
           ],
           [
            0.5,
            "rgb(107,174,214)"
           ],
           [
            0.625,
            "rgb(66,146,198)"
           ],
           [
            0.75,
            "rgb(33,113,181)"
           ],
           [
            0.875,
            "rgb(8,81,156)"
           ],
           [
            1,
            "rgb(8,48,107)"
           ]
          ],
          "line": {
           "color": "Grey",
           "width": 0.5
          },
          "showscale": false
         },
         "mode": "markers",
         "name": "Feasible Trial",
         "showlegend": false,
         "type": "scatter",
         "x": [
          "vector",
          "normal",
          "vector",
          "normal",
          "normal"
         ],
         "xaxis": "x20",
         "y": [
          0.3100035871680932,
          0.48523795193765873,
          0.5244626920539046,
          0.522893458584214,
          0.38943083078693974
         ],
         "yaxis": "y20"
        },
        {
         "marker": {
          "color": [
           0,
           1,
           2,
           3,
           4,
           5,
           6,
           7,
           8,
           9,
           10,
           11,
           12
          ],
          "colorbar": {
           "title": {
            "text": "Trial"
           },
           "x": 1,
           "xpad": 40
          },
          "colorscale": [
           [
            0,
            "rgb(247,251,255)"
           ],
           [
            0.125,
            "rgb(222,235,247)"
           ],
           [
            0.25,
            "rgb(198,219,239)"
           ],
           [
            0.375,
            "rgb(158,202,225)"
           ],
           [
            0.5,
            "rgb(107,174,214)"
           ],
           [
            0.625,
            "rgb(66,146,198)"
           ],
           [
            0.75,
            "rgb(33,113,181)"
           ],
           [
            0.875,
            "rgb(8,81,156)"
           ],
           [
            1,
            "rgb(8,48,107)"
           ]
          ],
          "line": {
           "color": "Grey",
           "width": 0.5
          },
          "showscale": false
         },
         "mode": "markers",
         "name": "Feasible Trial",
         "showlegend": false,
         "type": "scatter",
         "x": [
          true,
          true,
          true,
          true,
          true,
          true,
          false,
          true,
          true,
          false,
          true,
          false,
          false
         ],
         "xaxis": "x21",
         "y": [
          0.24652733256388643,
          0.4708172235247913,
          0.5295238095238095,
          0.4882391692540719,
          0.37103303503462964,
          0.3100035871680932,
          0.46896104870079824,
          0.48523795193765873,
          0.5244626920539046,
          0.522893458584214,
          0.38943083078693974,
          0.4699999999999999,
          0.4739278229104718
         ],
         "yaxis": "y21"
        },
        {
         "marker": {
          "color": [
           0,
           1,
           2,
           3,
           4,
           5,
           7,
           8,
           10
          ],
          "colorbar": {
           "title": {
            "text": "Trial"
           },
           "x": 1,
           "xpad": 40
          },
          "colorscale": [
           [
            0,
            "rgb(247,251,255)"
           ],
           [
            0.125,
            "rgb(222,235,247)"
           ],
           [
            0.25,
            "rgb(198,219,239)"
           ],
           [
            0.375,
            "rgb(158,202,225)"
           ],
           [
            0.5,
            "rgb(107,174,214)"
           ],
           [
            0.625,
            "rgb(66,146,198)"
           ],
           [
            0.75,
            "rgb(33,113,181)"
           ],
           [
            0.875,
            "rgb(8,81,156)"
           ],
           [
            1,
            "rgb(8,48,107)"
           ]
          ],
          "line": {
           "color": "Grey",
           "width": 0.5
          },
          "showscale": false
         },
         "mode": "markers",
         "name": "Feasible Trial",
         "showlegend": false,
         "type": "scatter",
         "x": [
          4,
          1,
          5,
          4,
          5,
          5,
          4,
          3,
          1
         ],
         "xaxis": "x22",
         "y": [
          0.24652733256388643,
          0.4708172235247913,
          0.5295238095238095,
          0.4882391692540719,
          0.37103303503462964,
          0.3100035871680932,
          0.48523795193765873,
          0.5244626920539046,
          0.38943083078693974
         ],
         "yaxis": "y22"
        },
        {
         "marker": {
          "color": [
           0,
           1,
           4,
           8
          ],
          "colorbar": {
           "title": {
            "text": "Trial"
           },
           "x": 1,
           "xpad": 40
          },
          "colorscale": [
           [
            0,
            "rgb(247,251,255)"
           ],
           [
            0.125,
            "rgb(222,235,247)"
           ],
           [
            0.25,
            "rgb(198,219,239)"
           ],
           [
            0.375,
            "rgb(158,202,225)"
           ],
           [
            0.5,
            "rgb(107,174,214)"
           ],
           [
            0.625,
            "rgb(66,146,198)"
           ],
           [
            0.75,
            "rgb(33,113,181)"
           ],
           [
            0.875,
            "rgb(8,81,156)"
           ],
           [
            1,
            "rgb(8,48,107)"
           ]
          ],
          "line": {
           "color": "Grey",
           "width": 0.5
          },
          "showscale": false
         },
         "mode": "markers",
         "name": "Feasible Trial",
         "showlegend": false,
         "type": "scatter",
         "x": [
          2.880749319730053e-7,
          1.0562628189486863e-8,
          2971966.665051722,
          276.30424251837985
         ],
         "xaxis": "x23",
         "y": [
          0.24652733256388643,
          0.4708172235247913,
          0.37103303503462964,
          0.5244626920539046
         ],
         "yaxis": "y23"
        },
        {
         "marker": {
          "color": [
           0,
           1,
           4,
           8
          ],
          "colorbar": {
           "title": {
            "text": "Trial"
           },
           "x": 1,
           "xpad": 40
          },
          "colorscale": [
           [
            0,
            "rgb(247,251,255)"
           ],
           [
            0.125,
            "rgb(222,235,247)"
           ],
           [
            0.25,
            "rgb(198,219,239)"
           ],
           [
            0.375,
            "rgb(158,202,225)"
           ],
           [
            0.5,
            "rgb(107,174,214)"
           ],
           [
            0.625,
            "rgb(66,146,198)"
           ],
           [
            0.75,
            "rgb(33,113,181)"
           ],
           [
            0.875,
            "rgb(8,81,156)"
           ],
           [
            1,
            "rgb(8,48,107)"
           ]
          ],
          "line": {
           "color": "Grey",
           "width": 0.5
          },
          "showscale": false
         },
         "mode": "markers",
         "name": "Feasible Trial",
         "showlegend": false,
         "type": "scatter",
         "x": [
          "scale",
          "auto",
          "scale",
          "scale"
         ],
         "xaxis": "x24",
         "y": [
          0.24652733256388643,
          0.4708172235247913,
          0.37103303503462964,
          0.5244626920539046
         ],
         "yaxis": "y24"
        },
        {
         "marker": {
          "color": [
           0,
           1,
           4,
           8
          ],
          "colorbar": {
           "title": {
            "text": "Trial"
           },
           "x": 1,
           "xpad": 40
          },
          "colorscale": [
           [
            0,
            "rgb(247,251,255)"
           ],
           [
            0.125,
            "rgb(222,235,247)"
           ],
           [
            0.25,
            "rgb(198,219,239)"
           ],
           [
            0.375,
            "rgb(158,202,225)"
           ],
           [
            0.5,
            "rgb(107,174,214)"
           ],
           [
            0.625,
            "rgb(66,146,198)"
           ],
           [
            0.75,
            "rgb(33,113,181)"
           ],
           [
            0.875,
            "rgb(8,81,156)"
           ],
           [
            1,
            "rgb(8,48,107)"
           ]
          ],
          "line": {
           "color": "Grey",
           "width": 0.5
          },
          "showscale": false
         },
         "mode": "markers",
         "name": "Feasible Trial",
         "showlegend": false,
         "type": "scatter",
         "x": [
          "poly",
          "linear",
          "sigmoid",
          "poly"
         ],
         "xaxis": "x25",
         "y": [
          0.24652733256388643,
          0.4708172235247913,
          0.37103303503462964,
          0.5244626920539046
         ],
         "yaxis": "y25"
        },
        {
         "marker": {
          "color": [
           0,
           1,
           2,
           3,
           4,
           5,
           7,
           8,
           10
          ],
          "colorbar": {
           "title": {
            "text": "Trial"
           },
           "x": 1,
           "xpad": 40
          },
          "colorscale": [
           [
            0,
            "rgb(247,251,255)"
           ],
           [
            0.125,
            "rgb(222,235,247)"
           ],
           [
            0.25,
            "rgb(198,219,239)"
           ],
           [
            0.375,
            "rgb(158,202,225)"
           ],
           [
            0.5,
            "rgb(107,174,214)"
           ],
           [
            0.625,
            "rgb(66,146,198)"
           ],
           [
            0.75,
            "rgb(33,113,181)"
           ],
           [
            0.875,
            "rgb(8,81,156)"
           ],
           [
            1,
            "rgb(8,48,107)"
           ]
          ],
          "line": {
           "color": "Grey",
           "width": 0.5
          },
          "showscale": false
         },
         "mode": "markers",
         "name": "Feasible Trial",
         "showlegend": false,
         "type": "scatter",
         "x": [
          174,
          244,
          78,
          42,
          37,
          169,
          225,
          188,
          49
         ],
         "xaxis": "x26",
         "y": [
          0.24652733256388643,
          0.4708172235247913,
          0.5295238095238095,
          0.4882391692540719,
          0.37103303503462964,
          0.3100035871680932,
          0.48523795193765873,
          0.5244626920539046,
          0.38943083078693974
         ],
         "yaxis": "y26"
        }
       ],
       "layout": {
        "template": {
         "data": {
          "bar": [
           {
            "error_x": {
             "color": "#2a3f5f"
            },
            "error_y": {
             "color": "#2a3f5f"
            },
            "marker": {
             "line": {
              "color": "#E5ECF6",
              "width": 0.5
             },
             "pattern": {
              "fillmode": "overlay",
              "size": 10,
              "solidity": 0.2
             }
            },
            "type": "bar"
           }
          ],
          "barpolar": [
           {
            "marker": {
             "line": {
              "color": "#E5ECF6",
              "width": 0.5
             },
             "pattern": {
              "fillmode": "overlay",
              "size": 10,
              "solidity": 0.2
             }
            },
            "type": "barpolar"
           }
          ],
          "carpet": [
           {
            "aaxis": {
             "endlinecolor": "#2a3f5f",
             "gridcolor": "white",
             "linecolor": "white",
             "minorgridcolor": "white",
             "startlinecolor": "#2a3f5f"
            },
            "baxis": {
             "endlinecolor": "#2a3f5f",
             "gridcolor": "white",
             "linecolor": "white",
             "minorgridcolor": "white",
             "startlinecolor": "#2a3f5f"
            },
            "type": "carpet"
           }
          ],
          "choropleth": [
           {
            "colorbar": {
             "outlinewidth": 0,
             "ticks": ""
            },
            "type": "choropleth"
           }
          ],
          "contour": [
           {
            "colorbar": {
             "outlinewidth": 0,
             "ticks": ""
            },
            "colorscale": [
             [
              0,
              "#0d0887"
             ],
             [
              0.1111111111111111,
              "#46039f"
             ],
             [
              0.2222222222222222,
              "#7201a8"
             ],
             [
              0.3333333333333333,
              "#9c179e"
             ],
             [
              0.4444444444444444,
              "#bd3786"
             ],
             [
              0.5555555555555556,
              "#d8576b"
             ],
             [
              0.6666666666666666,
              "#ed7953"
             ],
             [
              0.7777777777777778,
              "#fb9f3a"
             ],
             [
              0.8888888888888888,
              "#fdca26"
             ],
             [
              1,
              "#f0f921"
             ]
            ],
            "type": "contour"
           }
          ],
          "contourcarpet": [
           {
            "colorbar": {
             "outlinewidth": 0,
             "ticks": ""
            },
            "type": "contourcarpet"
           }
          ],
          "heatmap": [
           {
            "colorbar": {
             "outlinewidth": 0,
             "ticks": ""
            },
            "colorscale": [
             [
              0,
              "#0d0887"
             ],
             [
              0.1111111111111111,
              "#46039f"
             ],
             [
              0.2222222222222222,
              "#7201a8"
             ],
             [
              0.3333333333333333,
              "#9c179e"
             ],
             [
              0.4444444444444444,
              "#bd3786"
             ],
             [
              0.5555555555555556,
              "#d8576b"
             ],
             [
              0.6666666666666666,
              "#ed7953"
             ],
             [
              0.7777777777777778,
              "#fb9f3a"
             ],
             [
              0.8888888888888888,
              "#fdca26"
             ],
             [
              1,
              "#f0f921"
             ]
            ],
            "type": "heatmap"
           }
          ],
          "heatmapgl": [
           {
            "colorbar": {
             "outlinewidth": 0,
             "ticks": ""
            },
            "colorscale": [
             [
              0,
              "#0d0887"
             ],
             [
              0.1111111111111111,
              "#46039f"
             ],
             [
              0.2222222222222222,
              "#7201a8"
             ],
             [
              0.3333333333333333,
              "#9c179e"
             ],
             [
              0.4444444444444444,
              "#bd3786"
             ],
             [
              0.5555555555555556,
              "#d8576b"
             ],
             [
              0.6666666666666666,
              "#ed7953"
             ],
             [
              0.7777777777777778,
              "#fb9f3a"
             ],
             [
              0.8888888888888888,
              "#fdca26"
             ],
             [
              1,
              "#f0f921"
             ]
            ],
            "type": "heatmapgl"
           }
          ],
          "histogram": [
           {
            "marker": {
             "pattern": {
              "fillmode": "overlay",
              "size": 10,
              "solidity": 0.2
             }
            },
            "type": "histogram"
           }
          ],
          "histogram2d": [
           {
            "colorbar": {
             "outlinewidth": 0,
             "ticks": ""
            },
            "colorscale": [
             [
              0,
              "#0d0887"
             ],
             [
              0.1111111111111111,
              "#46039f"
             ],
             [
              0.2222222222222222,
              "#7201a8"
             ],
             [
              0.3333333333333333,
              "#9c179e"
             ],
             [
              0.4444444444444444,
              "#bd3786"
             ],
             [
              0.5555555555555556,
              "#d8576b"
             ],
             [
              0.6666666666666666,
              "#ed7953"
             ],
             [
              0.7777777777777778,
              "#fb9f3a"
             ],
             [
              0.8888888888888888,
              "#fdca26"
             ],
             [
              1,
              "#f0f921"
             ]
            ],
            "type": "histogram2d"
           }
          ],
          "histogram2dcontour": [
           {
            "colorbar": {
             "outlinewidth": 0,
             "ticks": ""
            },
            "colorscale": [
             [
              0,
              "#0d0887"
             ],
             [
              0.1111111111111111,
              "#46039f"
             ],
             [
              0.2222222222222222,
              "#7201a8"
             ],
             [
              0.3333333333333333,
              "#9c179e"
             ],
             [
              0.4444444444444444,
              "#bd3786"
             ],
             [
              0.5555555555555556,
              "#d8576b"
             ],
             [
              0.6666666666666666,
              "#ed7953"
             ],
             [
              0.7777777777777778,
              "#fb9f3a"
             ],
             [
              0.8888888888888888,
              "#fdca26"
             ],
             [
              1,
              "#f0f921"
             ]
            ],
            "type": "histogram2dcontour"
           }
          ],
          "mesh3d": [
           {
            "colorbar": {
             "outlinewidth": 0,
             "ticks": ""
            },
            "type": "mesh3d"
           }
          ],
          "parcoords": [
           {
            "line": {
             "colorbar": {
              "outlinewidth": 0,
              "ticks": ""
             }
            },
            "type": "parcoords"
           }
          ],
          "pie": [
           {
            "automargin": true,
            "type": "pie"
           }
          ],
          "scatter": [
           {
            "fillpattern": {
             "fillmode": "overlay",
             "size": 10,
             "solidity": 0.2
            },
            "type": "scatter"
           }
          ],
          "scatter3d": [
           {
            "line": {
             "colorbar": {
              "outlinewidth": 0,
              "ticks": ""
             }
            },
            "marker": {
             "colorbar": {
              "outlinewidth": 0,
              "ticks": ""
             }
            },
            "type": "scatter3d"
           }
          ],
          "scattercarpet": [
           {
            "marker": {
             "colorbar": {
              "outlinewidth": 0,
              "ticks": ""
             }
            },
            "type": "scattercarpet"
           }
          ],
          "scattergeo": [
           {
            "marker": {
             "colorbar": {
              "outlinewidth": 0,
              "ticks": ""
             }
            },
            "type": "scattergeo"
           }
          ],
          "scattergl": [
           {
            "marker": {
             "colorbar": {
              "outlinewidth": 0,
              "ticks": ""
             }
            },
            "type": "scattergl"
           }
          ],
          "scattermapbox": [
           {
            "marker": {
             "colorbar": {
              "outlinewidth": 0,
              "ticks": ""
             }
            },
            "type": "scattermapbox"
           }
          ],
          "scatterpolar": [
           {
            "marker": {
             "colorbar": {
              "outlinewidth": 0,
              "ticks": ""
             }
            },
            "type": "scatterpolar"
           }
          ],
          "scatterpolargl": [
           {
            "marker": {
             "colorbar": {
              "outlinewidth": 0,
              "ticks": ""
             }
            },
            "type": "scatterpolargl"
           }
          ],
          "scatterternary": [
           {
            "marker": {
             "colorbar": {
              "outlinewidth": 0,
              "ticks": ""
             }
            },
            "type": "scatterternary"
           }
          ],
          "surface": [
           {
            "colorbar": {
             "outlinewidth": 0,
             "ticks": ""
            },
            "colorscale": [
             [
              0,
              "#0d0887"
             ],
             [
              0.1111111111111111,
              "#46039f"
             ],
             [
              0.2222222222222222,
              "#7201a8"
             ],
             [
              0.3333333333333333,
              "#9c179e"
             ],
             [
              0.4444444444444444,
              "#bd3786"
             ],
             [
              0.5555555555555556,
              "#d8576b"
             ],
             [
              0.6666666666666666,
              "#ed7953"
             ],
             [
              0.7777777777777778,
              "#fb9f3a"
             ],
             [
              0.8888888888888888,
              "#fdca26"
             ],
             [
              1,
              "#f0f921"
             ]
            ],
            "type": "surface"
           }
          ],
          "table": [
           {
            "cells": {
             "fill": {
              "color": "#EBF0F8"
             },
             "line": {
              "color": "white"
             }
            },
            "header": {
             "fill": {
              "color": "#C8D4E3"
             },
             "line": {
              "color": "white"
             }
            },
            "type": "table"
           }
          ]
         },
         "layout": {
          "annotationdefaults": {
           "arrowcolor": "#2a3f5f",
           "arrowhead": 0,
           "arrowwidth": 1
          },
          "autotypenumbers": "strict",
          "coloraxis": {
           "colorbar": {
            "outlinewidth": 0,
            "ticks": ""
           }
          },
          "colorscale": {
           "diverging": [
            [
             0,
             "#8e0152"
            ],
            [
             0.1,
             "#c51b7d"
            ],
            [
             0.2,
             "#de77ae"
            ],
            [
             0.3,
             "#f1b6da"
            ],
            [
             0.4,
             "#fde0ef"
            ],
            [
             0.5,
             "#f7f7f7"
            ],
            [
             0.6,
             "#e6f5d0"
            ],
            [
             0.7,
             "#b8e186"
            ],
            [
             0.8,
             "#7fbc41"
            ],
            [
             0.9,
             "#4d9221"
            ],
            [
             1,
             "#276419"
            ]
           ],
           "sequential": [
            [
             0,
             "#0d0887"
            ],
            [
             0.1111111111111111,
             "#46039f"
            ],
            [
             0.2222222222222222,
             "#7201a8"
            ],
            [
             0.3333333333333333,
             "#9c179e"
            ],
            [
             0.4444444444444444,
             "#bd3786"
            ],
            [
             0.5555555555555556,
             "#d8576b"
            ],
            [
             0.6666666666666666,
             "#ed7953"
            ],
            [
             0.7777777777777778,
             "#fb9f3a"
            ],
            [
             0.8888888888888888,
             "#fdca26"
            ],
            [
             1,
             "#f0f921"
            ]
           ],
           "sequentialminus": [
            [
             0,
             "#0d0887"
            ],
            [
             0.1111111111111111,
             "#46039f"
            ],
            [
             0.2222222222222222,
             "#7201a8"
            ],
            [
             0.3333333333333333,
             "#9c179e"
            ],
            [
             0.4444444444444444,
             "#bd3786"
            ],
            [
             0.5555555555555556,
             "#d8576b"
            ],
            [
             0.6666666666666666,
             "#ed7953"
            ],
            [
             0.7777777777777778,
             "#fb9f3a"
            ],
            [
             0.8888888888888888,
             "#fdca26"
            ],
            [
             1,
             "#f0f921"
            ]
           ]
          },
          "colorway": [
           "#636efa",
           "#EF553B",
           "#00cc96",
           "#ab63fa",
           "#FFA15A",
           "#19d3f3",
           "#FF6692",
           "#B6E880",
           "#FF97FF",
           "#FECB52"
          ],
          "font": {
           "color": "#2a3f5f"
          },
          "geo": {
           "bgcolor": "white",
           "lakecolor": "white",
           "landcolor": "#E5ECF6",
           "showlakes": true,
           "showland": true,
           "subunitcolor": "white"
          },
          "hoverlabel": {
           "align": "left"
          },
          "hovermode": "closest",
          "mapbox": {
           "style": "light"
          },
          "paper_bgcolor": "white",
          "plot_bgcolor": "#E5ECF6",
          "polar": {
           "angularaxis": {
            "gridcolor": "white",
            "linecolor": "white",
            "ticks": ""
           },
           "bgcolor": "#E5ECF6",
           "radialaxis": {
            "gridcolor": "white",
            "linecolor": "white",
            "ticks": ""
           }
          },
          "scene": {
           "xaxis": {
            "backgroundcolor": "#E5ECF6",
            "gridcolor": "white",
            "gridwidth": 2,
            "linecolor": "white",
            "showbackground": true,
            "ticks": "",
            "zerolinecolor": "white"
           },
           "yaxis": {
            "backgroundcolor": "#E5ECF6",
            "gridcolor": "white",
            "gridwidth": 2,
            "linecolor": "white",
            "showbackground": true,
            "ticks": "",
            "zerolinecolor": "white"
           },
           "zaxis": {
            "backgroundcolor": "#E5ECF6",
            "gridcolor": "white",
            "gridwidth": 2,
            "linecolor": "white",
            "showbackground": true,
            "ticks": "",
            "zerolinecolor": "white"
           }
          },
          "shapedefaults": {
           "line": {
            "color": "#2a3f5f"
           }
          },
          "ternary": {
           "aaxis": {
            "gridcolor": "white",
            "linecolor": "white",
            "ticks": ""
           },
           "baxis": {
            "gridcolor": "white",
            "linecolor": "white",
            "ticks": ""
           },
           "bgcolor": "#E5ECF6",
           "caxis": {
            "gridcolor": "white",
            "linecolor": "white",
            "ticks": ""
           }
          },
          "title": {
           "x": 0.05
          },
          "xaxis": {
           "automargin": true,
           "gridcolor": "white",
           "linecolor": "white",
           "ticks": "",
           "title": {
            "standoff": 15
           },
           "zerolinecolor": "white",
           "zerolinewidth": 2
          },
          "yaxis": {
           "automargin": true,
           "gridcolor": "white",
           "linecolor": "white",
           "ticks": "",
           "title": {
            "standoff": 15
           },
           "zerolinecolor": "white",
           "zerolinewidth": 2
          }
         }
        },
        "title": {
         "text": "Slice Plot"
        },
        "width": 7800,
        "xaxis": {
         "anchor": "y",
         "categoryarray": [
          100,
          1000,
          10000,
          100000,
          1000000,
          10000000,
          100000000,
          1000000000
         ],
         "categoryorder": "array",
         "domain": [
          0,
          0.03106508875739645
         ],
         "title": {
          "text": "airpls_lam"
         },
         "type": "category"
        },
        "xaxis10": {
         "anchor": "y10",
         "categoryarray": [
          "gini",
          "entropy",
          "log_loss"
         ],
         "categoryorder": "array",
         "domain": [
          0.3488165680473373,
          0.37988165680473374
         ],
         "title": {
          "text": "et_criterion"
         },
         "type": "category"
        },
        "xaxis11": {
         "anchor": "y11",
         "domain": [
          0.3875739644970414,
          0.41863905325443784
         ],
         "title": {
          "text": "et_max_depth"
         },
         "type": "log"
        },
        "xaxis12": {
         "anchor": "y12",
         "domain": [
          0.4263313609467455,
          0.45739644970414195
         ],
         "title": {
          "text": "et_n_estimators"
         }
        },
        "xaxis13": {
         "anchor": "y13",
         "domain": [
          0.46508875739644967,
          0.4961538461538461
         ],
         "title": {
          "text": "pagerank_cutoff"
         }
        },
        "xaxis14": {
         "anchor": "y14",
         "categoryarray": [
          100,
          1000,
          10000,
          100000,
          1000000,
          10000000,
          100000000,
          1000000000,
          10000000000,
          100000000000
         ],
         "categoryorder": "array",
         "domain": [
          0.5038461538461538,
          0.5349112426035503
         ],
         "title": {
          "text": "psalsa_lam"
         },
         "type": "category"
        },
        "xaxis15": {
         "anchor": "y15",
         "domain": [
          0.5426035502958579,
          0.5736686390532544
         ],
         "title": {
          "text": "psalsa_p"
         }
        },
        "xaxis16": {
         "anchor": "y16",
         "categoryarray": [
          "gini",
          "entropy",
          "log_loss"
         ],
         "categoryorder": "array",
         "domain": [
          0.581360946745562,
          0.6124260355029585
         ],
         "title": {
          "text": "rf_criterion"
         },
         "type": "category"
        },
        "xaxis17": {
         "anchor": "y17",
         "domain": [
          0.6201183431952662,
          0.6511834319526626
         ],
         "title": {
          "text": "rf_max_depth"
         },
         "type": "log"
        },
        "xaxis18": {
         "anchor": "y18",
         "domain": [
          0.6588757396449704,
          0.6899408284023668
         ],
         "title": {
          "text": "rf_n_estimators"
         }
        },
        "xaxis19": {
         "anchor": "y19",
         "categoryarray": [
          true,
          false
         ],
         "categoryorder": "array",
         "domain": [
          0.6976331360946746,
          0.728698224852071
         ],
         "title": {
          "text": "scaling"
         },
         "type": "category"
        },
        "xaxis2": {
         "anchor": "y2",
         "categoryarray": [
          100,
          1000,
          10000,
          100000,
          1000000,
          10000000,
          100000000,
          1000000000
         ],
         "categoryorder": "array",
         "domain": [
          0.03875739644970414,
          0.06982248520710059
         ],
         "title": {
          "text": "asls_lam"
         },
         "type": "category"
        },
        "xaxis20": {
         "anchor": "y20",
         "categoryarray": [
          "normal",
          "vector",
          "svn"
         ],
         "categoryorder": "array",
         "domain": [
          0.7363905325443787,
          0.7674556213017751
         ],
         "title": {
          "text": "scaling_type"
         },
         "type": "category"
        },
        "xaxis21": {
         "anchor": "y21",
         "categoryarray": [
          true,
          false
         ],
         "categoryorder": "array",
         "domain": [
          0.7751479289940828,
          0.8062130177514792
         ],
         "title": {
          "text": "smoothing"
         },
         "type": "category"
        },
        "xaxis22": {
         "anchor": "y22",
         "domain": [
          0.8139053254437869,
          0.8449704142011834
         ],
         "title": {
          "text": "smoothing_poly_order"
         }
        },
        "xaxis23": {
         "anchor": "y23",
         "domain": [
          0.852662721893491,
          0.8837278106508875
         ],
         "title": {
          "text": "svc_c"
         },
         "type": "log"
        },
        "xaxis24": {
         "anchor": "y24",
         "categoryarray": [
          "scale",
          "auto"
         ],
         "categoryorder": "array",
         "domain": [
          0.8914201183431952,
          0.9224852071005917
         ],
         "title": {
          "text": "svc_gamma"
         },
         "type": "category"
        },
        "xaxis25": {
         "anchor": "y25",
         "categoryarray": [
          "linear",
          "poly",
          "rbf",
          "sigmoid"
         ],
         "categoryorder": "array",
         "domain": [
          0.9301775147928993,
          0.9612426035502958
         ],
         "title": {
          "text": "svc_kernel"
         },
         "type": "category"
        },
        "xaxis26": {
         "anchor": "y26",
         "domain": [
          0.9689349112426034,
          0.9999999999999999
         ],
         "title": {
          "text": "window_size"
         }
        },
        "xaxis3": {
         "anchor": "y3",
         "domain": [
          0.07751479289940828,
          0.10857988165680474
         ],
         "title": {
          "text": "asls_p"
         }
        },
        "xaxis4": {
         "anchor": "y4",
         "categoryarray": [
          true,
          false
         ],
         "categoryorder": "array",
         "domain": [
          0.11627218934911243,
          0.14733727810650887
         ],
         "title": {
          "text": "baseline_correct"
         },
         "type": "category"
        },
        "xaxis5": {
         "anchor": "y5",
         "categoryarray": [
          "asls",
          "iasls",
          "airpls",
          "poly",
          "psalsa"
         ],
         "categoryorder": "array",
         "domain": [
          0.15502958579881657,
          0.186094674556213
         ],
         "title": {
          "text": "baseline_correction_type"
         },
         "type": "category"
        },
        "xaxis6": {
         "anchor": "y6",
         "categoryarray": [
          "ExtraTrees",
          "RandomForest",
          "SVC"
         ],
         "categoryorder": "array",
         "domain": [
          0.1937869822485207,
          0.22485207100591714
         ],
         "title": {
          "text": "classifier"
         },
         "type": "category"
        },
        "xaxis7": {
         "anchor": "y7",
         "categoryarray": [
          true,
          false
         ],
         "categoryorder": "array",
         "domain": [
          0.23254437869822484,
          0.2636094674556213
         ],
         "title": {
          "text": "despike"
         },
         "type": "category"
        },
        "xaxis8": {
         "anchor": "y8",
         "domain": [
          0.27130177514792897,
          0.3023668639053254
         ],
         "title": {
          "text": "despike_ma"
         }
        },
        "xaxis9": {
         "anchor": "y9",
         "domain": [
          0.3100591715976331,
          0.3411242603550295
         ],
         "title": {
          "text": "despike_threshold"
         }
        },
        "yaxis": {
         "anchor": "x",
         "domain": [
          0,
          1
         ],
         "title": {
          "text": "Objective Value"
         }
        },
        "yaxis10": {
         "anchor": "x10",
         "domain": [
          0,
          1
         ],
         "matches": "y",
         "showticklabels": false
        },
        "yaxis11": {
         "anchor": "x11",
         "domain": [
          0,
          1
         ],
         "matches": "y",
         "showticklabels": false
        },
        "yaxis12": {
         "anchor": "x12",
         "domain": [
          0,
          1
         ],
         "matches": "y",
         "showticklabels": false
        },
        "yaxis13": {
         "anchor": "x13",
         "domain": [
          0,
          1
         ],
         "matches": "y",
         "showticklabels": false
        },
        "yaxis14": {
         "anchor": "x14",
         "domain": [
          0,
          1
         ],
         "matches": "y",
         "showticklabels": false
        },
        "yaxis15": {
         "anchor": "x15",
         "domain": [
          0,
          1
         ],
         "matches": "y",
         "showticklabels": false
        },
        "yaxis16": {
         "anchor": "x16",
         "domain": [
          0,
          1
         ],
         "matches": "y",
         "showticklabels": false
        },
        "yaxis17": {
         "anchor": "x17",
         "domain": [
          0,
          1
         ],
         "matches": "y",
         "showticklabels": false
        },
        "yaxis18": {
         "anchor": "x18",
         "domain": [
          0,
          1
         ],
         "matches": "y",
         "showticklabels": false
        },
        "yaxis19": {
         "anchor": "x19",
         "domain": [
          0,
          1
         ],
         "matches": "y",
         "showticklabels": false
        },
        "yaxis2": {
         "anchor": "x2",
         "domain": [
          0,
          1
         ],
         "matches": "y",
         "showticklabels": false
        },
        "yaxis20": {
         "anchor": "x20",
         "domain": [
          0,
          1
         ],
         "matches": "y",
         "showticklabels": false
        },
        "yaxis21": {
         "anchor": "x21",
         "domain": [
          0,
          1
         ],
         "matches": "y",
         "showticklabels": false
        },
        "yaxis22": {
         "anchor": "x22",
         "domain": [
          0,
          1
         ],
         "matches": "y",
         "showticklabels": false
        },
        "yaxis23": {
         "anchor": "x23",
         "domain": [
          0,
          1
         ],
         "matches": "y",
         "showticklabels": false
        },
        "yaxis24": {
         "anchor": "x24",
         "domain": [
          0,
          1
         ],
         "matches": "y",
         "showticklabels": false
        },
        "yaxis25": {
         "anchor": "x25",
         "domain": [
          0,
          1
         ],
         "matches": "y",
         "showticklabels": false
        },
        "yaxis26": {
         "anchor": "x26",
         "domain": [
          0,
          1
         ],
         "matches": "y",
         "showticklabels": false
        },
        "yaxis3": {
         "anchor": "x3",
         "domain": [
          0,
          1
         ],
         "matches": "y",
         "showticklabels": false
        },
        "yaxis4": {
         "anchor": "x4",
         "domain": [
          0,
          1
         ],
         "matches": "y",
         "showticklabels": false
        },
        "yaxis5": {
         "anchor": "x5",
         "domain": [
          0,
          1
         ],
         "matches": "y",
         "showticklabels": false
        },
        "yaxis6": {
         "anchor": "x6",
         "domain": [
          0,
          1
         ],
         "matches": "y",
         "showticklabels": false
        },
        "yaxis7": {
         "anchor": "x7",
         "domain": [
          0,
          1
         ],
         "matches": "y",
         "showticklabels": false
        },
        "yaxis8": {
         "anchor": "x8",
         "domain": [
          0,
          1
         ],
         "matches": "y",
         "showticklabels": false
        },
        "yaxis9": {
         "anchor": "x9",
         "domain": [
          0,
          1
         ],
         "matches": "y",
         "showticklabels": false
        }
       }
      }
     },
     "metadata": {},
     "output_type": "display_data"
    }
   ],
   "source": [
    "plot_slice(study)"
   ]
  },
  {
   "cell_type": "code",
   "execution_count": null,
   "metadata": {},
   "outputs": [
    {
     "data": {
      "application/vnd.plotly.v1+json": {
       "config": {
        "plotlyServerURL": "https://plot.ly"
       },
       "data": [
        {
         "cliponaxis": false,
         "hovertemplate": [
          "scaling (CategoricalDistribution): 0.04179084571562586<extra></extra>",
          "smoothing (CategoricalDistribution): 0.0702436541247219<extra></extra>",
          "despike (CategoricalDistribution): 0.098339878516902<extra></extra>",
          "baseline_correct (CategoricalDistribution): 0.13075172677832675<extra></extra>",
          "classifier (CategoricalDistribution): 0.13398459951759034<extra></extra>",
          "pagerank_cutoff (FloatDistribution): 0.5248892953468333<extra></extra>"
         ],
         "name": "Objective Value",
         "orientation": "h",
         "text": [
          "0.04",
          "0.07",
          "0.10",
          "0.13",
          "0.13",
          "0.52"
         ],
         "textposition": "outside",
         "type": "bar",
         "x": [
          0.04179084571562586,
          0.0702436541247219,
          0.098339878516902,
          0.13075172677832675,
          0.13398459951759034,
          0.5248892953468333
         ],
         "y": [
          "scaling",
          "smoothing",
          "despike",
          "baseline_correct",
          "classifier",
          "pagerank_cutoff"
         ]
        }
       ],
       "layout": {
        "template": {
         "data": {
          "bar": [
           {
            "error_x": {
             "color": "#2a3f5f"
            },
            "error_y": {
             "color": "#2a3f5f"
            },
            "marker": {
             "line": {
              "color": "#E5ECF6",
              "width": 0.5
             },
             "pattern": {
              "fillmode": "overlay",
              "size": 10,
              "solidity": 0.2
             }
            },
            "type": "bar"
           }
          ],
          "barpolar": [
           {
            "marker": {
             "line": {
              "color": "#E5ECF6",
              "width": 0.5
             },
             "pattern": {
              "fillmode": "overlay",
              "size": 10,
              "solidity": 0.2
             }
            },
            "type": "barpolar"
           }
          ],
          "carpet": [
           {
            "aaxis": {
             "endlinecolor": "#2a3f5f",
             "gridcolor": "white",
             "linecolor": "white",
             "minorgridcolor": "white",
             "startlinecolor": "#2a3f5f"
            },
            "baxis": {
             "endlinecolor": "#2a3f5f",
             "gridcolor": "white",
             "linecolor": "white",
             "minorgridcolor": "white",
             "startlinecolor": "#2a3f5f"
            },
            "type": "carpet"
           }
          ],
          "choropleth": [
           {
            "colorbar": {
             "outlinewidth": 0,
             "ticks": ""
            },
            "type": "choropleth"
           }
          ],
          "contour": [
           {
            "colorbar": {
             "outlinewidth": 0,
             "ticks": ""
            },
            "colorscale": [
             [
              0,
              "#0d0887"
             ],
             [
              0.1111111111111111,
              "#46039f"
             ],
             [
              0.2222222222222222,
              "#7201a8"
             ],
             [
              0.3333333333333333,
              "#9c179e"
             ],
             [
              0.4444444444444444,
              "#bd3786"
             ],
             [
              0.5555555555555556,
              "#d8576b"
             ],
             [
              0.6666666666666666,
              "#ed7953"
             ],
             [
              0.7777777777777778,
              "#fb9f3a"
             ],
             [
              0.8888888888888888,
              "#fdca26"
             ],
             [
              1,
              "#f0f921"
             ]
            ],
            "type": "contour"
           }
          ],
          "contourcarpet": [
           {
            "colorbar": {
             "outlinewidth": 0,
             "ticks": ""
            },
            "type": "contourcarpet"
           }
          ],
          "heatmap": [
           {
            "colorbar": {
             "outlinewidth": 0,
             "ticks": ""
            },
            "colorscale": [
             [
              0,
              "#0d0887"
             ],
             [
              0.1111111111111111,
              "#46039f"
             ],
             [
              0.2222222222222222,
              "#7201a8"
             ],
             [
              0.3333333333333333,
              "#9c179e"
             ],
             [
              0.4444444444444444,
              "#bd3786"
             ],
             [
              0.5555555555555556,
              "#d8576b"
             ],
             [
              0.6666666666666666,
              "#ed7953"
             ],
             [
              0.7777777777777778,
              "#fb9f3a"
             ],
             [
              0.8888888888888888,
              "#fdca26"
             ],
             [
              1,
              "#f0f921"
             ]
            ],
            "type": "heatmap"
           }
          ],
          "heatmapgl": [
           {
            "colorbar": {
             "outlinewidth": 0,
             "ticks": ""
            },
            "colorscale": [
             [
              0,
              "#0d0887"
             ],
             [
              0.1111111111111111,
              "#46039f"
             ],
             [
              0.2222222222222222,
              "#7201a8"
             ],
             [
              0.3333333333333333,
              "#9c179e"
             ],
             [
              0.4444444444444444,
              "#bd3786"
             ],
             [
              0.5555555555555556,
              "#d8576b"
             ],
             [
              0.6666666666666666,
              "#ed7953"
             ],
             [
              0.7777777777777778,
              "#fb9f3a"
             ],
             [
              0.8888888888888888,
              "#fdca26"
             ],
             [
              1,
              "#f0f921"
             ]
            ],
            "type": "heatmapgl"
           }
          ],
          "histogram": [
           {
            "marker": {
             "pattern": {
              "fillmode": "overlay",
              "size": 10,
              "solidity": 0.2
             }
            },
            "type": "histogram"
           }
          ],
          "histogram2d": [
           {
            "colorbar": {
             "outlinewidth": 0,
             "ticks": ""
            },
            "colorscale": [
             [
              0,
              "#0d0887"
             ],
             [
              0.1111111111111111,
              "#46039f"
             ],
             [
              0.2222222222222222,
              "#7201a8"
             ],
             [
              0.3333333333333333,
              "#9c179e"
             ],
             [
              0.4444444444444444,
              "#bd3786"
             ],
             [
              0.5555555555555556,
              "#d8576b"
             ],
             [
              0.6666666666666666,
              "#ed7953"
             ],
             [
              0.7777777777777778,
              "#fb9f3a"
             ],
             [
              0.8888888888888888,
              "#fdca26"
             ],
             [
              1,
              "#f0f921"
             ]
            ],
            "type": "histogram2d"
           }
          ],
          "histogram2dcontour": [
           {
            "colorbar": {
             "outlinewidth": 0,
             "ticks": ""
            },
            "colorscale": [
             [
              0,
              "#0d0887"
             ],
             [
              0.1111111111111111,
              "#46039f"
             ],
             [
              0.2222222222222222,
              "#7201a8"
             ],
             [
              0.3333333333333333,
              "#9c179e"
             ],
             [
              0.4444444444444444,
              "#bd3786"
             ],
             [
              0.5555555555555556,
              "#d8576b"
             ],
             [
              0.6666666666666666,
              "#ed7953"
             ],
             [
              0.7777777777777778,
              "#fb9f3a"
             ],
             [
              0.8888888888888888,
              "#fdca26"
             ],
             [
              1,
              "#f0f921"
             ]
            ],
            "type": "histogram2dcontour"
           }
          ],
          "mesh3d": [
           {
            "colorbar": {
             "outlinewidth": 0,
             "ticks": ""
            },
            "type": "mesh3d"
           }
          ],
          "parcoords": [
           {
            "line": {
             "colorbar": {
              "outlinewidth": 0,
              "ticks": ""
             }
            },
            "type": "parcoords"
           }
          ],
          "pie": [
           {
            "automargin": true,
            "type": "pie"
           }
          ],
          "scatter": [
           {
            "fillpattern": {
             "fillmode": "overlay",
             "size": 10,
             "solidity": 0.2
            },
            "type": "scatter"
           }
          ],
          "scatter3d": [
           {
            "line": {
             "colorbar": {
              "outlinewidth": 0,
              "ticks": ""
             }
            },
            "marker": {
             "colorbar": {
              "outlinewidth": 0,
              "ticks": ""
             }
            },
            "type": "scatter3d"
           }
          ],
          "scattercarpet": [
           {
            "marker": {
             "colorbar": {
              "outlinewidth": 0,
              "ticks": ""
             }
            },
            "type": "scattercarpet"
           }
          ],
          "scattergeo": [
           {
            "marker": {
             "colorbar": {
              "outlinewidth": 0,
              "ticks": ""
             }
            },
            "type": "scattergeo"
           }
          ],
          "scattergl": [
           {
            "marker": {
             "colorbar": {
              "outlinewidth": 0,
              "ticks": ""
             }
            },
            "type": "scattergl"
           }
          ],
          "scattermapbox": [
           {
            "marker": {
             "colorbar": {
              "outlinewidth": 0,
              "ticks": ""
             }
            },
            "type": "scattermapbox"
           }
          ],
          "scatterpolar": [
           {
            "marker": {
             "colorbar": {
              "outlinewidth": 0,
              "ticks": ""
             }
            },
            "type": "scatterpolar"
           }
          ],
          "scatterpolargl": [
           {
            "marker": {
             "colorbar": {
              "outlinewidth": 0,
              "ticks": ""
             }
            },
            "type": "scatterpolargl"
           }
          ],
          "scatterternary": [
           {
            "marker": {
             "colorbar": {
              "outlinewidth": 0,
              "ticks": ""
             }
            },
            "type": "scatterternary"
           }
          ],
          "surface": [
           {
            "colorbar": {
             "outlinewidth": 0,
             "ticks": ""
            },
            "colorscale": [
             [
              0,
              "#0d0887"
             ],
             [
              0.1111111111111111,
              "#46039f"
             ],
             [
              0.2222222222222222,
              "#7201a8"
             ],
             [
              0.3333333333333333,
              "#9c179e"
             ],
             [
              0.4444444444444444,
              "#bd3786"
             ],
             [
              0.5555555555555556,
              "#d8576b"
             ],
             [
              0.6666666666666666,
              "#ed7953"
             ],
             [
              0.7777777777777778,
              "#fb9f3a"
             ],
             [
              0.8888888888888888,
              "#fdca26"
             ],
             [
              1,
              "#f0f921"
             ]
            ],
            "type": "surface"
           }
          ],
          "table": [
           {
            "cells": {
             "fill": {
              "color": "#EBF0F8"
             },
             "line": {
              "color": "white"
             }
            },
            "header": {
             "fill": {
              "color": "#C8D4E3"
             },
             "line": {
              "color": "white"
             }
            },
            "type": "table"
           }
          ]
         },
         "layout": {
          "annotationdefaults": {
           "arrowcolor": "#2a3f5f",
           "arrowhead": 0,
           "arrowwidth": 1
          },
          "autotypenumbers": "strict",
          "coloraxis": {
           "colorbar": {
            "outlinewidth": 0,
            "ticks": ""
           }
          },
          "colorscale": {
           "diverging": [
            [
             0,
             "#8e0152"
            ],
            [
             0.1,
             "#c51b7d"
            ],
            [
             0.2,
             "#de77ae"
            ],
            [
             0.3,
             "#f1b6da"
            ],
            [
             0.4,
             "#fde0ef"
            ],
            [
             0.5,
             "#f7f7f7"
            ],
            [
             0.6,
             "#e6f5d0"
            ],
            [
             0.7,
             "#b8e186"
            ],
            [
             0.8,
             "#7fbc41"
            ],
            [
             0.9,
             "#4d9221"
            ],
            [
             1,
             "#276419"
            ]
           ],
           "sequential": [
            [
             0,
             "#0d0887"
            ],
            [
             0.1111111111111111,
             "#46039f"
            ],
            [
             0.2222222222222222,
             "#7201a8"
            ],
            [
             0.3333333333333333,
             "#9c179e"
            ],
            [
             0.4444444444444444,
             "#bd3786"
            ],
            [
             0.5555555555555556,
             "#d8576b"
            ],
            [
             0.6666666666666666,
             "#ed7953"
            ],
            [
             0.7777777777777778,
             "#fb9f3a"
            ],
            [
             0.8888888888888888,
             "#fdca26"
            ],
            [
             1,
             "#f0f921"
            ]
           ],
           "sequentialminus": [
            [
             0,
             "#0d0887"
            ],
            [
             0.1111111111111111,
             "#46039f"
            ],
            [
             0.2222222222222222,
             "#7201a8"
            ],
            [
             0.3333333333333333,
             "#9c179e"
            ],
            [
             0.4444444444444444,
             "#bd3786"
            ],
            [
             0.5555555555555556,
             "#d8576b"
            ],
            [
             0.6666666666666666,
             "#ed7953"
            ],
            [
             0.7777777777777778,
             "#fb9f3a"
            ],
            [
             0.8888888888888888,
             "#fdca26"
            ],
            [
             1,
             "#f0f921"
            ]
           ]
          },
          "colorway": [
           "#636efa",
           "#EF553B",
           "#00cc96",
           "#ab63fa",
           "#FFA15A",
           "#19d3f3",
           "#FF6692",
           "#B6E880",
           "#FF97FF",
           "#FECB52"
          ],
          "font": {
           "color": "#2a3f5f"
          },
          "geo": {
           "bgcolor": "white",
           "lakecolor": "white",
           "landcolor": "#E5ECF6",
           "showlakes": true,
           "showland": true,
           "subunitcolor": "white"
          },
          "hoverlabel": {
           "align": "left"
          },
          "hovermode": "closest",
          "mapbox": {
           "style": "light"
          },
          "paper_bgcolor": "white",
          "plot_bgcolor": "#E5ECF6",
          "polar": {
           "angularaxis": {
            "gridcolor": "white",
            "linecolor": "white",
            "ticks": ""
           },
           "bgcolor": "#E5ECF6",
           "radialaxis": {
            "gridcolor": "white",
            "linecolor": "white",
            "ticks": ""
           }
          },
          "scene": {
           "xaxis": {
            "backgroundcolor": "#E5ECF6",
            "gridcolor": "white",
            "gridwidth": 2,
            "linecolor": "white",
            "showbackground": true,
            "ticks": "",
            "zerolinecolor": "white"
           },
           "yaxis": {
            "backgroundcolor": "#E5ECF6",
            "gridcolor": "white",
            "gridwidth": 2,
            "linecolor": "white",
            "showbackground": true,
            "ticks": "",
            "zerolinecolor": "white"
           },
           "zaxis": {
            "backgroundcolor": "#E5ECF6",
            "gridcolor": "white",
            "gridwidth": 2,
            "linecolor": "white",
            "showbackground": true,
            "ticks": "",
            "zerolinecolor": "white"
           }
          },
          "shapedefaults": {
           "line": {
            "color": "#2a3f5f"
           }
          },
          "ternary": {
           "aaxis": {
            "gridcolor": "white",
            "linecolor": "white",
            "ticks": ""
           },
           "baxis": {
            "gridcolor": "white",
            "linecolor": "white",
            "ticks": ""
           },
           "bgcolor": "#E5ECF6",
           "caxis": {
            "gridcolor": "white",
            "linecolor": "white",
            "ticks": ""
           }
          },
          "title": {
           "x": 0.05
          },
          "xaxis": {
           "automargin": true,
           "gridcolor": "white",
           "linecolor": "white",
           "ticks": "",
           "title": {
            "standoff": 15
           },
           "zerolinecolor": "white",
           "zerolinewidth": 2
          },
          "yaxis": {
           "automargin": true,
           "gridcolor": "white",
           "linecolor": "white",
           "ticks": "",
           "title": {
            "standoff": 15
           },
           "zerolinecolor": "white",
           "zerolinewidth": 2
          }
         }
        },
        "title": {
         "text": "Hyperparameter Importances"
        },
        "xaxis": {
         "title": {
          "text": "Hyperparameter Importance"
         }
        },
        "yaxis": {
         "title": {
          "text": "Hyperparameter"
         }
        }
       }
      }
     },
     "metadata": {},
     "output_type": "display_data"
    }
   ],
   "source": [
    "optuna.visualization.plot_param_importances(study)"
   ]
  },
  {
   "cell_type": "markdown",
   "metadata": {},
   "source": [
    "Continue the study."
   ]
  },
  {
   "cell_type": "code",
   "execution_count": null,
   "metadata": {},
   "outputs": [],
   "source": [
    "study.optimize(objective, n_trials=250, n_jobs=-1)\n",
    "\n",
    "print(study.best_trial)"
   ]
  },
  {
   "cell_type": "code",
   "execution_count": null,
   "metadata": {},
   "outputs": [],
   "source": [
    "results_df = study.trials_dataframe(attrs=(\"number\", \"value\", \"params\", \"state\"))\n",
    "results_df.to_csv(\"../../data/studies/all_models_extra_baseline+outliers.csv\")"
   ]
  },
  {
   "cell_type": "code",
   "execution_count": null,
   "metadata": {},
   "outputs": [
    {
     "data": {
      "text/plain": [
       "['../../data/studies/all_models_extra_baseline+outliers.pkl']"
      ]
     },
     "execution_count": 16,
     "metadata": {},
     "output_type": "execute_result"
    }
   ],
   "source": [
    "import joblib\n",
    "\n",
    "joblib.dump(study, \"../../data/studies/all_models_extra_baseline+outliers.pkl\")"
   ]
  }
 ],
 "metadata": {
  "kernelspec": {
   "display_name": "Python 3",
   "language": "python",
   "name": "python3"
  },
  "language_info": {
   "codemirror_mode": {
    "name": "ipython",
    "version": 3
   },
   "file_extension": ".py",
   "mimetype": "text/x-python",
   "name": "python",
   "nbconvert_exporter": "python",
   "pygments_lexer": "ipython3",
   "version": "3.11.1"
  }
 },
 "nbformat": 4,
 "nbformat_minor": 2
}
