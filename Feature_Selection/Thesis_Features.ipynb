{
 "cells": [
  {
   "cell_type": "markdown",
   "metadata": {},
   "source": [
    "#### **This Notebook Limits the dataset to the Spectral Regions of Importance outlined in the Thesis**"
   ]
  },
  {
   "cell_type": "markdown",
   "metadata": {},
   "source": [
    "The thesis by John O'Sullivan can be found [here](https://doras.dcu.ie/27239/1/ethesis_O%27Sullivan_John_2022.pdf), with the ranges outlined on pages 129 to 136."
   ]
  },
  {
   "cell_type": "code",
   "execution_count": 1,
   "metadata": {},
   "outputs": [],
   "source": [
    "import pandas as pd\n",
    "from sklearn.ensemble import ExtraTreesClassifier\n",
    "from sklearn.model_selection import StratifiedKFold, KFold, GroupKFold, cross_val_score\n",
    "import numpy as np\n",
    "import seaborn as sns\n",
    "import matplotlib.pyplot as plt\n",
    "import sys\n",
    "sys.path.append('..')\n",
    "from Cleaning_and_Evaluation import *"
   ]
  },
  {
   "cell_type": "code",
   "execution_count": 2,
   "metadata": {},
   "outputs": [],
   "source": [
    "#df = pd.read_csv(\"../data/exosomes.raw_spectrum_1.csv\")\n",
    "#df = pd.read_csv(\"../data/exosomes.raw_spectrum_380-1800.csv\")\n",
    "#df = pd.read_csv(\"../data/exosomes.raw_spectrum_400-1800.csv\")\n",
    "df = pd.read_csv(\"../data/current_clean_spectrum.csv\")"
   ]
  },
  {
   "cell_type": "code",
   "execution_count": 3,
   "metadata": {},
   "outputs": [
    {
     "data": {
      "text/html": [
       "<div>\n",
       "<style scoped>\n",
       "    .dataframe tbody tr th:only-of-type {\n",
       "        vertical-align: middle;\n",
       "    }\n",
       "\n",
       "    .dataframe tbody tr th {\n",
       "        vertical-align: top;\n",
       "    }\n",
       "\n",
       "    .dataframe thead th {\n",
       "        text-align: right;\n",
       "    }\n",
       "</style>\n",
       "<table border=\"1\" class=\"dataframe\">\n",
       "  <thead>\n",
       "    <tr style=\"text-align: right;\">\n",
       "      <th></th>\n",
       "      <th>SpecID</th>\n",
       "      <th>Seq</th>\n",
       "      <th>WaveNumber</th>\n",
       "      <th>Absorbance</th>\n",
       "      <th>SurID</th>\n",
       "      <th>Status</th>\n",
       "    </tr>\n",
       "  </thead>\n",
       "  <tbody>\n",
       "    <tr>\n",
       "      <th>0</th>\n",
       "      <td>201210-1-00</td>\n",
       "      <td>0</td>\n",
       "      <td>200.00000</td>\n",
       "      <td>2.443895</td>\n",
       "      <td>201210-1</td>\n",
       "      <td>Normal</td>\n",
       "    </tr>\n",
       "    <tr>\n",
       "      <th>1</th>\n",
       "      <td>201210-1-00</td>\n",
       "      <td>1</td>\n",
       "      <td>200.68336</td>\n",
       "      <td>2.340851</td>\n",
       "      <td>201210-1</td>\n",
       "      <td>Normal</td>\n",
       "    </tr>\n",
       "    <tr>\n",
       "      <th>2</th>\n",
       "      <td>201210-1-00</td>\n",
       "      <td>2</td>\n",
       "      <td>201.36674</td>\n",
       "      <td>2.246252</td>\n",
       "      <td>201210-1</td>\n",
       "      <td>Normal</td>\n",
       "    </tr>\n",
       "    <tr>\n",
       "      <th>3</th>\n",
       "      <td>201210-1-00</td>\n",
       "      <td>3</td>\n",
       "      <td>202.05011</td>\n",
       "      <td>2.159808</td>\n",
       "      <td>201210-1</td>\n",
       "      <td>Normal</td>\n",
       "    </tr>\n",
       "    <tr>\n",
       "      <th>4</th>\n",
       "      <td>201210-1-00</td>\n",
       "      <td>4</td>\n",
       "      <td>202.73349</td>\n",
       "      <td>2.081228</td>\n",
       "      <td>201210-1</td>\n",
       "      <td>Normal</td>\n",
       "    </tr>\n",
       "    <tr>\n",
       "      <th>...</th>\n",
       "      <td>...</td>\n",
       "      <td>...</td>\n",
       "      <td>...</td>\n",
       "      <td>...</td>\n",
       "      <td>...</td>\n",
       "      <td>...</td>\n",
       "    </tr>\n",
       "    <tr>\n",
       "      <th>8023570</th>\n",
       "      <td>210526-3-09</td>\n",
       "      <td>2630</td>\n",
       "      <td>1997.26650</td>\n",
       "      <td>-0.306283</td>\n",
       "      <td>210526-3</td>\n",
       "      <td>Hyperglycemia</td>\n",
       "    </tr>\n",
       "    <tr>\n",
       "      <th>8023571</th>\n",
       "      <td>210526-3-09</td>\n",
       "      <td>2631</td>\n",
       "      <td>1997.94980</td>\n",
       "      <td>-0.285098</td>\n",
       "      <td>210526-3</td>\n",
       "      <td>Hyperglycemia</td>\n",
       "    </tr>\n",
       "    <tr>\n",
       "      <th>8023572</th>\n",
       "      <td>210526-3-09</td>\n",
       "      <td>2632</td>\n",
       "      <td>1998.63330</td>\n",
       "      <td>-0.261904</td>\n",
       "      <td>210526-3</td>\n",
       "      <td>Hyperglycemia</td>\n",
       "    </tr>\n",
       "    <tr>\n",
       "      <th>8023573</th>\n",
       "      <td>210526-3-09</td>\n",
       "      <td>2633</td>\n",
       "      <td>1999.31670</td>\n",
       "      <td>-0.236634</td>\n",
       "      <td>210526-3</td>\n",
       "      <td>Hyperglycemia</td>\n",
       "    </tr>\n",
       "    <tr>\n",
       "      <th>8023574</th>\n",
       "      <td>210526-3-09</td>\n",
       "      <td>2634</td>\n",
       "      <td>2000.00000</td>\n",
       "      <td>-0.209225</td>\n",
       "      <td>210526-3</td>\n",
       "      <td>Hyperglycemia</td>\n",
       "    </tr>\n",
       "  </tbody>\n",
       "</table>\n",
       "<p>8023575 rows × 6 columns</p>\n",
       "</div>"
      ],
      "text/plain": [
       "              SpecID   Seq  WaveNumber  Absorbance     SurID         Status\n",
       "0        201210-1-00     0   200.00000    2.443895  201210-1         Normal\n",
       "1        201210-1-00     1   200.68336    2.340851  201210-1         Normal\n",
       "2        201210-1-00     2   201.36674    2.246252  201210-1         Normal\n",
       "3        201210-1-00     3   202.05011    2.159808  201210-1         Normal\n",
       "4        201210-1-00     4   202.73349    2.081228  201210-1         Normal\n",
       "...              ...   ...         ...         ...       ...            ...\n",
       "8023570  210526-3-09  2630  1997.26650   -0.306283  210526-3  Hyperglycemia\n",
       "8023571  210526-3-09  2631  1997.94980   -0.285098  210526-3  Hyperglycemia\n",
       "8023572  210526-3-09  2632  1998.63330   -0.261904  210526-3  Hyperglycemia\n",
       "8023573  210526-3-09  2633  1999.31670   -0.236634  210526-3  Hyperglycemia\n",
       "8023574  210526-3-09  2634  2000.00000   -0.209225  210526-3  Hyperglycemia\n",
       "\n",
       "[8023575 rows x 6 columns]"
      ]
     },
     "execution_count": 3,
     "metadata": {},
     "output_type": "execute_result"
    }
   ],
   "source": [
    "df"
   ]
  },
  {
   "cell_type": "code",
   "execution_count": 4,
   "metadata": {},
   "outputs": [
    {
     "data": {
      "text/html": [
       "<div>\n",
       "<style scoped>\n",
       "    .dataframe tbody tr th:only-of-type {\n",
       "        vertical-align: middle;\n",
       "    }\n",
       "\n",
       "    .dataframe tbody tr th {\n",
       "        vertical-align: top;\n",
       "    }\n",
       "\n",
       "    .dataframe thead th {\n",
       "        text-align: right;\n",
       "    }\n",
       "</style>\n",
       "<table border=\"1\" class=\"dataframe\">\n",
       "  <thead>\n",
       "    <tr style=\"text-align: right;\">\n",
       "      <th></th>\n",
       "      <th>200.0</th>\n",
       "      <th>200.68336</th>\n",
       "      <th>201.36674</th>\n",
       "      <th>202.05011</th>\n",
       "      <th>202.73349</th>\n",
       "      <th>203.41685</th>\n",
       "      <th>204.10023</th>\n",
       "      <th>204.7836</th>\n",
       "      <th>205.46696</th>\n",
       "      <th>206.15034</th>\n",
       "      <th>...</th>\n",
       "      <th>1995.2164</th>\n",
       "      <th>1995.8998</th>\n",
       "      <th>1996.5831</th>\n",
       "      <th>1997.2665</th>\n",
       "      <th>1997.9498</th>\n",
       "      <th>1998.6333</th>\n",
       "      <th>1999.3167</th>\n",
       "      <th>2000.0</th>\n",
       "      <th>SurID</th>\n",
       "      <th>Status</th>\n",
       "    </tr>\n",
       "    <tr>\n",
       "      <th>SpecID</th>\n",
       "      <th></th>\n",
       "      <th></th>\n",
       "      <th></th>\n",
       "      <th></th>\n",
       "      <th></th>\n",
       "      <th></th>\n",
       "      <th></th>\n",
       "      <th></th>\n",
       "      <th></th>\n",
       "      <th></th>\n",
       "      <th></th>\n",
       "      <th></th>\n",
       "      <th></th>\n",
       "      <th></th>\n",
       "      <th></th>\n",
       "      <th></th>\n",
       "      <th></th>\n",
       "      <th></th>\n",
       "      <th></th>\n",
       "      <th></th>\n",
       "      <th></th>\n",
       "    </tr>\n",
       "  </thead>\n",
       "  <tbody>\n",
       "    <tr>\n",
       "      <th>201210-1-00</th>\n",
       "      <td>2.443895</td>\n",
       "      <td>2.340851</td>\n",
       "      <td>2.246252</td>\n",
       "      <td>2.159808</td>\n",
       "      <td>2.081228</td>\n",
       "      <td>2.010222</td>\n",
       "      <td>1.946500</td>\n",
       "      <td>1.889771</td>\n",
       "      <td>1.839746</td>\n",
       "      <td>1.796132</td>\n",
       "      <td>...</td>\n",
       "      <td>-0.219738</td>\n",
       "      <td>-0.218255</td>\n",
       "      <td>-0.216545</td>\n",
       "      <td>-0.214591</td>\n",
       "      <td>-0.212375</td>\n",
       "      <td>-0.209878</td>\n",
       "      <td>-0.207084</td>\n",
       "      <td>-0.203975</td>\n",
       "      <td>201210-1</td>\n",
       "      <td>Normal</td>\n",
       "    </tr>\n",
       "    <tr>\n",
       "      <th>201210-1-01</th>\n",
       "      <td>2.987729</td>\n",
       "      <td>2.877140</td>\n",
       "      <td>2.771600</td>\n",
       "      <td>2.671053</td>\n",
       "      <td>2.575446</td>\n",
       "      <td>2.484723</td>\n",
       "      <td>2.398830</td>\n",
       "      <td>2.317713</td>\n",
       "      <td>2.241317</td>\n",
       "      <td>2.169588</td>\n",
       "      <td>...</td>\n",
       "      <td>0.139463</td>\n",
       "      <td>0.158756</td>\n",
       "      <td>0.178290</td>\n",
       "      <td>0.198040</td>\n",
       "      <td>0.217982</td>\n",
       "      <td>0.238089</td>\n",
       "      <td>0.258338</td>\n",
       "      <td>0.278702</td>\n",
       "      <td>201210-1</td>\n",
       "      <td>Normal</td>\n",
       "    </tr>\n",
       "    <tr>\n",
       "      <th>201210-1-02</th>\n",
       "      <td>1.367590</td>\n",
       "      <td>1.338989</td>\n",
       "      <td>1.309418</td>\n",
       "      <td>1.278995</td>\n",
       "      <td>1.247839</td>\n",
       "      <td>1.216070</td>\n",
       "      <td>1.183807</td>\n",
       "      <td>1.151170</td>\n",
       "      <td>1.118277</td>\n",
       "      <td>1.085248</td>\n",
       "      <td>...</td>\n",
       "      <td>0.993536</td>\n",
       "      <td>1.009665</td>\n",
       "      <td>1.021793</td>\n",
       "      <td>1.029665</td>\n",
       "      <td>1.033029</td>\n",
       "      <td>1.031629</td>\n",
       "      <td>1.025214</td>\n",
       "      <td>1.013529</td>\n",
       "      <td>201210-1</td>\n",
       "      <td>Normal</td>\n",
       "    </tr>\n",
       "    <tr>\n",
       "      <th>201210-1-03</th>\n",
       "      <td>4.494705</td>\n",
       "      <td>4.659871</td>\n",
       "      <td>4.799524</td>\n",
       "      <td>4.914824</td>\n",
       "      <td>5.006931</td>\n",
       "      <td>5.077004</td>\n",
       "      <td>5.126202</td>\n",
       "      <td>5.155685</td>\n",
       "      <td>5.166612</td>\n",
       "      <td>5.160143</td>\n",
       "      <td>...</td>\n",
       "      <td>-0.483049</td>\n",
       "      <td>-0.484923</td>\n",
       "      <td>-0.487230</td>\n",
       "      <td>-0.489997</td>\n",
       "      <td>-0.493249</td>\n",
       "      <td>-0.497011</td>\n",
       "      <td>-0.501307</td>\n",
       "      <td>-0.506165</td>\n",
       "      <td>201210-1</td>\n",
       "      <td>Normal</td>\n",
       "    </tr>\n",
       "    <tr>\n",
       "      <th>201210-1-04</th>\n",
       "      <td>1.399465</td>\n",
       "      <td>1.357917</td>\n",
       "      <td>1.318500</td>\n",
       "      <td>1.281168</td>\n",
       "      <td>1.245880</td>\n",
       "      <td>1.212592</td>\n",
       "      <td>1.181260</td>\n",
       "      <td>1.151841</td>\n",
       "      <td>1.124292</td>\n",
       "      <td>1.098568</td>\n",
       "      <td>...</td>\n",
       "      <td>-0.376922</td>\n",
       "      <td>-0.365798</td>\n",
       "      <td>-0.353721</td>\n",
       "      <td>-0.340652</td>\n",
       "      <td>-0.326552</td>\n",
       "      <td>-0.311383</td>\n",
       "      <td>-0.295106</td>\n",
       "      <td>-0.277681</td>\n",
       "      <td>201210-1</td>\n",
       "      <td>Normal</td>\n",
       "    </tr>\n",
       "  </tbody>\n",
       "</table>\n",
       "<p>5 rows × 2637 columns</p>\n",
       "</div>"
      ],
      "text/plain": [
       "                200.0  200.68336  201.36674  202.05011  202.73349  203.41685  \\\n",
       "SpecID                                                                         \n",
       "201210-1-00  2.443895   2.340851   2.246252   2.159808   2.081228   2.010222   \n",
       "201210-1-01  2.987729   2.877140   2.771600   2.671053   2.575446   2.484723   \n",
       "201210-1-02  1.367590   1.338989   1.309418   1.278995   1.247839   1.216070   \n",
       "201210-1-03  4.494705   4.659871   4.799524   4.914824   5.006931   5.077004   \n",
       "201210-1-04  1.399465   1.357917   1.318500   1.281168   1.245880   1.212592   \n",
       "\n",
       "             204.10023  204.7836  205.46696  206.15034  ...  1995.2164  \\\n",
       "SpecID                                                  ...              \n",
       "201210-1-00   1.946500  1.889771   1.839746   1.796132  ...  -0.219738   \n",
       "201210-1-01   2.398830  2.317713   2.241317   2.169588  ...   0.139463   \n",
       "201210-1-02   1.183807  1.151170   1.118277   1.085248  ...   0.993536   \n",
       "201210-1-03   5.126202  5.155685   5.166612   5.160143  ...  -0.483049   \n",
       "201210-1-04   1.181260  1.151841   1.124292   1.098568  ...  -0.376922   \n",
       "\n",
       "             1995.8998  1996.5831  1997.2665  1997.9498  1998.6333  1999.3167  \\\n",
       "SpecID                                                                          \n",
       "201210-1-00  -0.218255  -0.216545  -0.214591  -0.212375  -0.209878  -0.207084   \n",
       "201210-1-01   0.158756   0.178290   0.198040   0.217982   0.238089   0.258338   \n",
       "201210-1-02   1.009665   1.021793   1.029665   1.033029   1.031629   1.025214   \n",
       "201210-1-03  -0.484923  -0.487230  -0.489997  -0.493249  -0.497011  -0.501307   \n",
       "201210-1-04  -0.365798  -0.353721  -0.340652  -0.326552  -0.311383  -0.295106   \n",
       "\n",
       "               2000.0     SurID  Status  \n",
       "SpecID                                   \n",
       "201210-1-00 -0.203975  201210-1  Normal  \n",
       "201210-1-01  0.278702  201210-1  Normal  \n",
       "201210-1-02  1.013529  201210-1  Normal  \n",
       "201210-1-03 -0.506165  201210-1  Normal  \n",
       "201210-1-04 -0.277681  201210-1  Normal  \n",
       "\n",
       "[5 rows x 2637 columns]"
      ]
     },
     "execution_count": 4,
     "metadata": {},
     "output_type": "execute_result"
    }
   ],
   "source": [
    "wavelength_df = prepare_wavelength_df(df, 'Absorbance')\n",
    "wavelength_df.head()"
   ]
  },
  {
   "cell_type": "markdown",
   "metadata": {},
   "source": [
    "Show the performance of the current approach."
   ]
  },
  {
   "cell_type": "code",
   "execution_count": 5,
   "metadata": {},
   "outputs": [
    {
     "name": "stderr",
     "output_type": "stream",
     "text": [
      "/home/eddie/.local/lib/python3.10/site-packages/sklearn/metrics/_classification.py:1509: UndefinedMetricWarning: Recall is ill-defined and being set to 0.0 in labels with no true samples. Use `zero_division` parameter to control this behavior.\n",
      "  _warn_prf(average, modifier, f\"{metric.capitalize()} is\", len(result))\n"
     ]
    },
    {
     "name": "stdout",
     "output_type": "stream",
     "text": [
      "ExtraTreesClassifier Cross-Validation Accuracy: 0.6191 +/- 0.1216\n",
      "ExtraTreesClassifier Cross-Validation Precision: 0.6317 +/- 0.1340\n",
      "ExtraTreesClassifier Cross-Validation Recall: 0.6358 +/- 0.1626\n",
      "ExtraTreesClassifier Cross-Validation F1-Score: 0.5968 +/- 0.1424\n"
     ]
    }
   ],
   "source": [
    "et = ExtraTreesClassifier(random_state=1234)\n",
    "evaluate_model(wavelength_df, et)"
   ]
  },
  {
   "cell_type": "markdown",
   "metadata": {},
   "source": [
    "#### **Filtering the spectra to only look at the regions from the thesis**"
   ]
  },
  {
   "cell_type": "markdown",
   "metadata": {},
   "source": [
    "Each of these regions indentify specifc exosome biomarkers."
   ]
  },
  {
   "cell_type": "markdown",
   "metadata": {},
   "source": [
    "> ##### **Normal Peaks**"
   ]
  },
  {
   "cell_type": "code",
   "execution_count": 6,
   "metadata": {},
   "outputs": [],
   "source": [
    "# Wavenumber ranges from the thesis\n",
    "ranges = [\n",
    "    (407, 495), (453, 454), (516, 537), (519, 519), (603, 738),\n",
    "    (620, 624), (821, 839), (886, 887), (972, 972), (1000, 1003),\n",
    "    (1030, 1036), (1060, 1078), (1132, 1152), (1170, 1170),\n",
    "    (1188, 1196), (1212, 1294), (1427, 1446), (1448, 1450),\n",
    "    (1520, 1533), (1542, 1594), (1611, 1653), (1668, 1668)\n",
    "]"
   ]
  },
  {
   "cell_type": "code",
   "execution_count": 7,
   "metadata": {},
   "outputs": [
    {
     "data": {
      "text/html": [
       "<div>\n",
       "<style scoped>\n",
       "    .dataframe tbody tr th:only-of-type {\n",
       "        vertical-align: middle;\n",
       "    }\n",
       "\n",
       "    .dataframe tbody tr th {\n",
       "        vertical-align: top;\n",
       "    }\n",
       "\n",
       "    .dataframe thead th {\n",
       "        text-align: right;\n",
       "    }\n",
       "</style>\n",
       "<table border=\"1\" class=\"dataframe\">\n",
       "  <thead>\n",
       "    <tr style=\"text-align: right;\">\n",
       "      <th></th>\n",
       "      <th>SpecID</th>\n",
       "      <th>Seq</th>\n",
       "      <th>WaveNumber</th>\n",
       "      <th>Absorbance</th>\n",
       "      <th>SurID</th>\n",
       "      <th>Status</th>\n",
       "    </tr>\n",
       "  </thead>\n",
       "  <tbody>\n",
       "    <tr>\n",
       "      <th>303</th>\n",
       "      <td>201210-1-00</td>\n",
       "      <td>303</td>\n",
       "      <td>407.06149</td>\n",
       "      <td>-0.707765</td>\n",
       "      <td>201210-1</td>\n",
       "      <td>Normal</td>\n",
       "    </tr>\n",
       "    <tr>\n",
       "      <th>304</th>\n",
       "      <td>201210-1-00</td>\n",
       "      <td>304</td>\n",
       "      <td>407.74487</td>\n",
       "      <td>-0.691733</td>\n",
       "      <td>201210-1</td>\n",
       "      <td>Normal</td>\n",
       "    </tr>\n",
       "    <tr>\n",
       "      <th>305</th>\n",
       "      <td>201210-1-00</td>\n",
       "      <td>305</td>\n",
       "      <td>408.42825</td>\n",
       "      <td>-0.683411</td>\n",
       "      <td>201210-1</td>\n",
       "      <td>Normal</td>\n",
       "    </tr>\n",
       "    <tr>\n",
       "      <th>306</th>\n",
       "      <td>201210-1-00</td>\n",
       "      <td>306</td>\n",
       "      <td>409.11160</td>\n",
       "      <td>-0.670134</td>\n",
       "      <td>201210-1</td>\n",
       "      <td>Normal</td>\n",
       "    </tr>\n",
       "    <tr>\n",
       "      <th>307</th>\n",
       "      <td>201210-1-00</td>\n",
       "      <td>307</td>\n",
       "      <td>409.79498</td>\n",
       "      <td>-0.648311</td>\n",
       "      <td>201210-1</td>\n",
       "      <td>Normal</td>\n",
       "    </tr>\n",
       "    <tr>\n",
       "      <th>...</th>\n",
       "      <td>...</td>\n",
       "      <td>...</td>\n",
       "      <td>...</td>\n",
       "      <td>...</td>\n",
       "      <td>...</td>\n",
       "      <td>...</td>\n",
       "    </tr>\n",
       "    <tr>\n",
       "      <th>8023062</th>\n",
       "      <td>210526-3-09</td>\n",
       "      <td>2122</td>\n",
       "      <td>1650.11390</td>\n",
       "      <td>-0.692690</td>\n",
       "      <td>210526-3</td>\n",
       "      <td>Hyperglycemia</td>\n",
       "    </tr>\n",
       "    <tr>\n",
       "      <th>8023063</th>\n",
       "      <td>210526-3-09</td>\n",
       "      <td>2123</td>\n",
       "      <td>1650.79720</td>\n",
       "      <td>-0.677543</td>\n",
       "      <td>210526-3</td>\n",
       "      <td>Hyperglycemia</td>\n",
       "    </tr>\n",
       "    <tr>\n",
       "      <th>8023064</th>\n",
       "      <td>210526-3-09</td>\n",
       "      <td>2124</td>\n",
       "      <td>1651.48060</td>\n",
       "      <td>-0.658122</td>\n",
       "      <td>210526-3</td>\n",
       "      <td>Hyperglycemia</td>\n",
       "    </tr>\n",
       "    <tr>\n",
       "      <th>8023065</th>\n",
       "      <td>210526-3-09</td>\n",
       "      <td>2125</td>\n",
       "      <td>1652.16410</td>\n",
       "      <td>-0.640630</td>\n",
       "      <td>210526-3</td>\n",
       "      <td>Hyperglycemia</td>\n",
       "    </tr>\n",
       "    <tr>\n",
       "      <th>8023066</th>\n",
       "      <td>210526-3-09</td>\n",
       "      <td>2126</td>\n",
       "      <td>1652.84740</td>\n",
       "      <td>-0.634646</td>\n",
       "      <td>210526-3</td>\n",
       "      <td>Hyperglycemia</td>\n",
       "    </tr>\n",
       "  </tbody>\n",
       "</table>\n",
       "<p>2365965 rows × 6 columns</p>\n",
       "</div>"
      ],
      "text/plain": [
       "              SpecID   Seq  WaveNumber  Absorbance     SurID         Status\n",
       "303      201210-1-00   303   407.06149   -0.707765  201210-1         Normal\n",
       "304      201210-1-00   304   407.74487   -0.691733  201210-1         Normal\n",
       "305      201210-1-00   305   408.42825   -0.683411  201210-1         Normal\n",
       "306      201210-1-00   306   409.11160   -0.670134  201210-1         Normal\n",
       "307      201210-1-00   307   409.79498   -0.648311  201210-1         Normal\n",
       "...              ...   ...         ...         ...       ...            ...\n",
       "8023062  210526-3-09  2122  1650.11390   -0.692690  210526-3  Hyperglycemia\n",
       "8023063  210526-3-09  2123  1650.79720   -0.677543  210526-3  Hyperglycemia\n",
       "8023064  210526-3-09  2124  1651.48060   -0.658122  210526-3  Hyperglycemia\n",
       "8023065  210526-3-09  2125  1652.16410   -0.640630  210526-3  Hyperglycemia\n",
       "8023066  210526-3-09  2126  1652.84740   -0.634646  210526-3  Hyperglycemia\n",
       "\n",
       "[2365965 rows x 6 columns]"
      ]
     },
     "execution_count": 7,
     "metadata": {},
     "output_type": "execute_result"
    }
   ],
   "source": [
    "main_peak_areas = df[df['WaveNumber'].apply(lambda x: any(start <= x <= end for start, end in ranges))]\n",
    "main_peak_areas"
   ]
  },
  {
   "cell_type": "code",
   "execution_count": 8,
   "metadata": {},
   "outputs": [
    {
     "name": "stdout",
     "output_type": "stream",
     "text": [
      "(3045, 779)\n"
     ]
    },
    {
     "name": "stderr",
     "output_type": "stream",
     "text": [
      "/home/eddie/.local/lib/python3.10/site-packages/sklearn/metrics/_classification.py:1509: UndefinedMetricWarning: Recall is ill-defined and being set to 0.0 in labels with no true samples. Use `zero_division` parameter to control this behavior.\n",
      "  _warn_prf(average, modifier, f\"{metric.capitalize()} is\", len(result))\n"
     ]
    },
    {
     "name": "stdout",
     "output_type": "stream",
     "text": [
      "ExtraTreesClassifier Cross-Validation Accuracy: 0.5140 +/- 0.0996\n",
      "ExtraTreesClassifier Cross-Validation Precision: 0.5333 +/- 0.0969\n",
      "ExtraTreesClassifier Cross-Validation Recall: 0.5314 +/- 0.1286\n",
      "ExtraTreesClassifier Cross-Validation F1-Score: 0.4953 +/- 0.1062\n"
     ]
    }
   ],
   "source": [
    "wavelength_df = prepare_wavelength_df(main_peak_areas, 'Absorbance')\n",
    "print(wavelength_df.shape)\n",
    "evaluate_model(wavelength_df, et)"
   ]
  },
  {
   "cell_type": "code",
   "execution_count": 9,
   "metadata": {},
   "outputs": [
    {
     "name": "stdout",
     "output_type": "stream",
     "text": [
      "(3045, 24)\n",
      "ExtraTreesClassifier Cross-Validation Accuracy: 0.5377 +/- 0.1017\n",
      "ExtraTreesClassifier Cross-Validation Precision: 0.5500 +/- 0.1002\n",
      "ExtraTreesClassifier Cross-Validation Recall: 0.5556 +/- 0.1349\n",
      "ExtraTreesClassifier Cross-Validation F1-Score: 0.5164 +/- 0.1122\n"
     ]
    },
    {
     "name": "stderr",
     "output_type": "stream",
     "text": [
      "/home/eddie/.local/lib/python3.10/site-packages/sklearn/metrics/_classification.py:1509: UndefinedMetricWarning: Recall is ill-defined and being set to 0.0 in labels with no true samples. Use `zero_division` parameter to control this behavior.\n",
      "  _warn_prf(average, modifier, f\"{metric.capitalize()} is\", len(result))\n"
     ]
    }
   ],
   "source": [
    "midpoints = [(start + end) / 2 for start, end in ranges]\n",
    "central_areas = df[df['WaveNumber'].apply(lambda x: any(midpoint - 0.34165 <= x <= midpoint + 0.34165 for midpoint in midpoints))]\n",
    "#central_areas = df[df['WaveNumber'].apply(lambda x: any(midpoint - 1 <= x <= midpoint + 1 for midpoint in midpoints))]\n",
    "\n",
    "central_areas\n",
    "wavelength_df = prepare_wavelength_df(central_areas, 'Absorbance')\n",
    "print(wavelength_df.shape)\n",
    "evaluate_model(wavelength_df, et)"
   ]
  },
  {
   "cell_type": "markdown",
   "metadata": {},
   "source": [
    "> ##### **Hyperglycemic Peaks**"
   ]
  },
  {
   "cell_type": "code",
   "execution_count": 10,
   "metadata": {},
   "outputs": [],
   "source": [
    "ranges = [\n",
    "    (402, 562), (510, 550), (618, 624), (634, 795), (808, 812), \n",
    "    (844, 861), (1001, 1006),(1067, 1068),(1062, 1077), (1129, 1132), \n",
    "    (1110, 1159), (1150, 1157), (1163, 1172), (1231, 1282), (1250, 1259), \n",
    "    (1357, 1364), (1429, 1480), (1484, 1492), (1528, 1533), (1544, 1594),\n",
    "    (1582, 1602),(1625, 1643)\n",
    "]"
   ]
  },
  {
   "cell_type": "code",
   "execution_count": 11,
   "metadata": {},
   "outputs": [],
   "source": [
    "main_peak_areas = df[df['WaveNumber'].apply(lambda x: any(start <= x <= end for start, end in ranges))]"
   ]
  },
  {
   "cell_type": "code",
   "execution_count": 12,
   "metadata": {},
   "outputs": [
    {
     "data": {
      "text/html": [
       "<div>\n",
       "<style scoped>\n",
       "    .dataframe tbody tr th:only-of-type {\n",
       "        vertical-align: middle;\n",
       "    }\n",
       "\n",
       "    .dataframe tbody tr th {\n",
       "        vertical-align: top;\n",
       "    }\n",
       "\n",
       "    .dataframe thead th {\n",
       "        text-align: right;\n",
       "    }\n",
       "</style>\n",
       "<table border=\"1\" class=\"dataframe\">\n",
       "  <thead>\n",
       "    <tr style=\"text-align: right;\">\n",
       "      <th></th>\n",
       "      <th>SpecID</th>\n",
       "      <th>Seq</th>\n",
       "      <th>WaveNumber</th>\n",
       "      <th>Absorbance</th>\n",
       "      <th>SurID</th>\n",
       "      <th>Status</th>\n",
       "    </tr>\n",
       "  </thead>\n",
       "  <tbody>\n",
       "    <tr>\n",
       "      <th>296</th>\n",
       "      <td>201210-1-00</td>\n",
       "      <td>296</td>\n",
       "      <td>402.27789</td>\n",
       "      <td>-0.706814</td>\n",
       "      <td>201210-1</td>\n",
       "      <td>Normal</td>\n",
       "    </tr>\n",
       "    <tr>\n",
       "      <th>297</th>\n",
       "      <td>201210-1-00</td>\n",
       "      <td>297</td>\n",
       "      <td>402.96127</td>\n",
       "      <td>-0.716041</td>\n",
       "      <td>201210-1</td>\n",
       "      <td>Normal</td>\n",
       "    </tr>\n",
       "    <tr>\n",
       "      <th>298</th>\n",
       "      <td>201210-1-00</td>\n",
       "      <td>298</td>\n",
       "      <td>403.64465</td>\n",
       "      <td>-0.717182</td>\n",
       "      <td>201210-1</td>\n",
       "      <td>Normal</td>\n",
       "    </tr>\n",
       "    <tr>\n",
       "      <th>299</th>\n",
       "      <td>201210-1-00</td>\n",
       "      <td>299</td>\n",
       "      <td>404.32803</td>\n",
       "      <td>-0.723550</td>\n",
       "      <td>201210-1</td>\n",
       "      <td>Normal</td>\n",
       "    </tr>\n",
       "    <tr>\n",
       "      <th>300</th>\n",
       "      <td>201210-1-00</td>\n",
       "      <td>300</td>\n",
       "      <td>405.01138</td>\n",
       "      <td>-0.711185</td>\n",
       "      <td>201210-1</td>\n",
       "      <td>Normal</td>\n",
       "    </tr>\n",
       "    <tr>\n",
       "      <th>...</th>\n",
       "      <td>...</td>\n",
       "      <td>...</td>\n",
       "      <td>...</td>\n",
       "      <td>...</td>\n",
       "      <td>...</td>\n",
       "      <td>...</td>\n",
       "    </tr>\n",
       "    <tr>\n",
       "      <th>8023047</th>\n",
       "      <td>210526-3-09</td>\n",
       "      <td>2107</td>\n",
       "      <td>1639.86330</td>\n",
       "      <td>-0.702838</td>\n",
       "      <td>210526-3</td>\n",
       "      <td>Hyperglycemia</td>\n",
       "    </tr>\n",
       "    <tr>\n",
       "      <th>8023048</th>\n",
       "      <td>210526-3-09</td>\n",
       "      <td>2108</td>\n",
       "      <td>1640.54680</td>\n",
       "      <td>-0.710691</td>\n",
       "      <td>210526-3</td>\n",
       "      <td>Hyperglycemia</td>\n",
       "    </tr>\n",
       "    <tr>\n",
       "      <th>8023049</th>\n",
       "      <td>210526-3-09</td>\n",
       "      <td>2109</td>\n",
       "      <td>1641.23010</td>\n",
       "      <td>-0.706832</td>\n",
       "      <td>210526-3</td>\n",
       "      <td>Hyperglycemia</td>\n",
       "    </tr>\n",
       "    <tr>\n",
       "      <th>8023050</th>\n",
       "      <td>210526-3-09</td>\n",
       "      <td>2110</td>\n",
       "      <td>1641.91350</td>\n",
       "      <td>-0.713591</td>\n",
       "      <td>210526-3</td>\n",
       "      <td>Hyperglycemia</td>\n",
       "    </tr>\n",
       "    <tr>\n",
       "      <th>8023051</th>\n",
       "      <td>210526-3-09</td>\n",
       "      <td>2111</td>\n",
       "      <td>1642.59680</td>\n",
       "      <td>-0.703127</td>\n",
       "      <td>210526-3</td>\n",
       "      <td>Hyperglycemia</td>\n",
       "    </tr>\n",
       "  </tbody>\n",
       "</table>\n",
       "<p>2780085 rows × 6 columns</p>\n",
       "</div>"
      ],
      "text/plain": [
       "              SpecID   Seq  WaveNumber  Absorbance     SurID         Status\n",
       "296      201210-1-00   296   402.27789   -0.706814  201210-1         Normal\n",
       "297      201210-1-00   297   402.96127   -0.716041  201210-1         Normal\n",
       "298      201210-1-00   298   403.64465   -0.717182  201210-1         Normal\n",
       "299      201210-1-00   299   404.32803   -0.723550  201210-1         Normal\n",
       "300      201210-1-00   300   405.01138   -0.711185  201210-1         Normal\n",
       "...              ...   ...         ...         ...       ...            ...\n",
       "8023047  210526-3-09  2107  1639.86330   -0.702838  210526-3  Hyperglycemia\n",
       "8023048  210526-3-09  2108  1640.54680   -0.710691  210526-3  Hyperglycemia\n",
       "8023049  210526-3-09  2109  1641.23010   -0.706832  210526-3  Hyperglycemia\n",
       "8023050  210526-3-09  2110  1641.91350   -0.713591  210526-3  Hyperglycemia\n",
       "8023051  210526-3-09  2111  1642.59680   -0.703127  210526-3  Hyperglycemia\n",
       "\n",
       "[2780085 rows x 6 columns]"
      ]
     },
     "execution_count": 12,
     "metadata": {},
     "output_type": "execute_result"
    }
   ],
   "source": [
    "main_peak_areas"
   ]
  },
  {
   "cell_type": "code",
   "execution_count": 13,
   "metadata": {},
   "outputs": [
    {
     "name": "stderr",
     "output_type": "stream",
     "text": [
      "/home/eddie/.local/lib/python3.10/site-packages/sklearn/metrics/_classification.py:1509: UndefinedMetricWarning: Recall is ill-defined and being set to 0.0 in labels with no true samples. Use `zero_division` parameter to control this behavior.\n",
      "  _warn_prf(average, modifier, f\"{metric.capitalize()} is\", len(result))\n"
     ]
    },
    {
     "name": "stdout",
     "output_type": "stream",
     "text": [
      "ExtraTreesClassifier Cross-Validation Accuracy: 0.5319 +/- 0.1131\n",
      "ExtraTreesClassifier Cross-Validation Precision: 0.5485 +/- 0.1055\n",
      "ExtraTreesClassifier Cross-Validation Recall: 0.5515 +/- 0.1474\n",
      "ExtraTreesClassifier Cross-Validation F1-Score: 0.5141 +/- 0.1217\n"
     ]
    }
   ],
   "source": [
    "wavelength_df = prepare_wavelength_df(main_peak_areas, 'Absorbance')\n",
    "wavelength_df.shape\n",
    "evaluate_model(wavelength_df, et)"
   ]
  },
  {
   "cell_type": "code",
   "execution_count": 14,
   "metadata": {},
   "outputs": [
    {
     "name": "stdout",
     "output_type": "stream",
     "text": [
      "(3045, 24)\n",
      "ExtraTreesClassifier Cross-Validation Accuracy: 0.4899 +/- 0.1169\n",
      "ExtraTreesClassifier Cross-Validation Precision: 0.4963 +/- 0.1089\n",
      "ExtraTreesClassifier Cross-Validation Recall: 0.5186 +/- 0.1532\n",
      "ExtraTreesClassifier Cross-Validation F1-Score: 0.4736 +/- 0.1251\n"
     ]
    },
    {
     "name": "stderr",
     "output_type": "stream",
     "text": [
      "/home/eddie/.local/lib/python3.10/site-packages/sklearn/metrics/_classification.py:1509: UndefinedMetricWarning: Recall is ill-defined and being set to 0.0 in labels with no true samples. Use `zero_division` parameter to control this behavior.\n",
      "  _warn_prf(average, modifier, f\"{metric.capitalize()} is\", len(result))\n"
     ]
    }
   ],
   "source": [
    "midpoints = [(start + end) / 2 for start, end in ranges]\n",
    "central_areas = df[df['WaveNumber'].apply(lambda x: any(midpoint - 0.34165 <= x <= midpoint + 0.34165 for midpoint in midpoints))]\n",
    "#central_areas = df[df['WaveNumber'].apply(lambda x: any(midpoint - 1 <= x <= midpoint + 1 for midpoint in midpoints))]\n",
    "\n",
    "central_areas\n",
    "wavelength_df = prepare_wavelength_df(central_areas, 'Absorbance')\n",
    "print(wavelength_df.shape)\n",
    "evaluate_model(wavelength_df, et)"
   ]
  },
  {
   "cell_type": "markdown",
   "metadata": {},
   "source": [
    "> ##### **Hypoglycemic Peaks**"
   ]
  },
  {
   "cell_type": "code",
   "execution_count": 15,
   "metadata": {},
   "outputs": [],
   "source": [
    "ranges = [\n",
    "    (406, 599),(447, 453),(508, 546),(604, 777),(803, 808),\n",
    "    (816, 818),(841, 845),(916, 917),(918, 920),(909, 947),\n",
    "    (1001, 1004),(1032, 1034),(1075, 1078),(1114, 1200),(1162, 1166),\n",
    "    (1202, 1338),(1250, 1253),(1287, 1292),(1436, 1442),(1438, 1438),\n",
    "    (1540, 1595),(1623, 1639)\n",
    "]"
   ]
  },
  {
   "cell_type": "code",
   "execution_count": 16,
   "metadata": {},
   "outputs": [
    {
     "name": "stdout",
     "output_type": "stream",
     "text": [
      "(3045, 1058)\n",
      "ExtraTreesClassifier Cross-Validation Accuracy: 0.5147 +/- 0.1063\n",
      "ExtraTreesClassifier Cross-Validation Precision: 0.5330 +/- 0.1009\n",
      "ExtraTreesClassifier Cross-Validation Recall: 0.5316 +/- 0.1363\n",
      "ExtraTreesClassifier Cross-Validation F1-Score: 0.4942 +/- 0.1132\n"
     ]
    },
    {
     "name": "stderr",
     "output_type": "stream",
     "text": [
      "/home/eddie/.local/lib/python3.10/site-packages/sklearn/metrics/_classification.py:1509: UndefinedMetricWarning: Recall is ill-defined and being set to 0.0 in labels with no true samples. Use `zero_division` parameter to control this behavior.\n",
      "  _warn_prf(average, modifier, f\"{metric.capitalize()} is\", len(result))\n"
     ]
    }
   ],
   "source": [
    "main_peak_areas = df[df['WaveNumber'].apply(lambda x: any(start <= x <= end for start, end in ranges))]\n",
    "main_peak_areas\n",
    "wavelength_df = prepare_wavelength_df(main_peak_areas, 'Absorbance')\n",
    "print(wavelength_df.shape)\n",
    "evaluate_model(wavelength_df, et)"
   ]
  },
  {
   "cell_type": "code",
   "execution_count": 17,
   "metadata": {},
   "outputs": [
    {
     "name": "stdout",
     "output_type": "stream",
     "text": [
      "(3045, 24)\n",
      "ExtraTreesClassifier Cross-Validation Accuracy: 0.5210 +/- 0.1120\n",
      "ExtraTreesClassifier Cross-Validation Precision: 0.5234 +/- 0.1099\n",
      "ExtraTreesClassifier Cross-Validation Recall: 0.5346 +/- 0.1393\n",
      "ExtraTreesClassifier Cross-Validation F1-Score: 0.5014 +/- 0.1223\n"
     ]
    },
    {
     "name": "stderr",
     "output_type": "stream",
     "text": [
      "/home/eddie/.local/lib/python3.10/site-packages/sklearn/metrics/_classification.py:1509: UndefinedMetricWarning: Recall is ill-defined and being set to 0.0 in labels with no true samples. Use `zero_division` parameter to control this behavior.\n",
      "  _warn_prf(average, modifier, f\"{metric.capitalize()} is\", len(result))\n"
     ]
    }
   ],
   "source": [
    "midpoints = [(start + end) / 2 for start, end in ranges]\n",
    "central_areas = df[df['WaveNumber'].apply(lambda x: any(midpoint - 0.34165 <= x <= midpoint + 0.34165 for midpoint in midpoints))]\n",
    "#central_areas = df[df['WaveNumber'].apply(lambda x: any(midpoint - 1 <= x <= midpoint + 1 for midpoint in midpoints))]\n",
    "\n",
    "central_areas\n",
    "wavelength_df = prepare_wavelength_df(central_areas, 'Absorbance')\n",
    "print(wavelength_df.shape)\n",
    "evaluate_model(wavelength_df, et)"
   ]
  },
  {
   "cell_type": "markdown",
   "metadata": {},
   "source": [
    "> ##### **All Important Ranges**"
   ]
  },
  {
   "cell_type": "code",
   "execution_count": 18,
   "metadata": {},
   "outputs": [],
   "source": [
    "# Wavenumber ranges from the thesis\n",
    "ranges = [\n",
    "    (407, 495), (453, 454), (516, 537), (519, 519), (603, 738),\n",
    "    (620, 624), (821, 839), (886, 887), (972, 972), (1000, 1003),\n",
    "    (1030, 1036), (1060, 1078), (1132, 1152), (1170, 1170),\n",
    "    (1188, 1196), (1212, 1294), (1427, 1446), (1448, 1450),\n",
    "    (1520, 1533), (1542, 1594), (1611, 1653), (1668, 1668),\n",
    "    (402, 562), (510, 550), (618, 624), (634, 795), (808, 812), \n",
    "    (844, 861), (1001, 1006), (1067, 1068),(1062, 1077), (1129, 1132), \n",
    "    (1110, 1159), (1150, 1157), (1163, 1172), (1231, 1282), (1250, 1259), \n",
    "    (1357, 1364), (1429, 1480), (1484, 1492), (1528, 1533), (1544, 1594),\n",
    "    (1582, 1602),(1625, 1643),\n",
    "    (406, 599),(447, 453),(508, 546),(604, 777),(803, 808),\n",
    "    (816, 818),(841, 845),(916, 917),(918, 920),(909, 947),\n",
    "    (1001, 1004),(1032, 1034),(1075, 1078),(1114, 1200),(1162, 1166),\n",
    "    (1202, 1338),(1250, 1253),(1287, 1292),(1436, 1442),(1438, 1438),\n",
    "    (1540, 1595),(1623, 1639)\n",
    "]"
   ]
  },
  {
   "cell_type": "code",
   "execution_count": 19,
   "metadata": {},
   "outputs": [
    {
     "name": "stdout",
     "output_type": "stream",
     "text": [
      "(3045, 1349)\n",
      "ExtraTreesClassifier Cross-Validation Accuracy: 0.5448 +/- 0.1077\n",
      "ExtraTreesClassifier Cross-Validation Precision: 0.5559 +/- 0.1064\n",
      "ExtraTreesClassifier Cross-Validation Recall: 0.5631 +/- 0.1441\n",
      "ExtraTreesClassifier Cross-Validation F1-Score: 0.5262 +/- 0.1188\n"
     ]
    },
    {
     "name": "stderr",
     "output_type": "stream",
     "text": [
      "/home/eddie/.local/lib/python3.10/site-packages/sklearn/metrics/_classification.py:1509: UndefinedMetricWarning: Recall is ill-defined and being set to 0.0 in labels with no true samples. Use `zero_division` parameter to control this behavior.\n",
      "  _warn_prf(average, modifier, f\"{metric.capitalize()} is\", len(result))\n"
     ]
    }
   ],
   "source": [
    "main_peak_areas = df[df['WaveNumber'].apply(lambda x: any(start <= x <= end for start, end in ranges))]\n",
    "main_peak_areas\n",
    "wavelength_df = prepare_wavelength_df(main_peak_areas, 'Absorbance')\n",
    "print(wavelength_df.shape)\n",
    "evaluate_model(wavelength_df, et)"
   ]
  },
  {
   "cell_type": "markdown",
   "metadata": {},
   "source": [
    "**Extract the Wavenumbers of significance for later use**"
   ]
  },
  {
   "cell_type": "code",
   "execution_count": 28,
   "metadata": {},
   "outputs": [],
   "source": [
    "thesis_wavenumbers = main_peak_areas['WaveNumber'].drop_duplicates()\n",
    "thesis_wavenumbers.to_csv(\"../data\")"
   ]
  },
  {
   "cell_type": "code",
   "execution_count": 30,
   "metadata": {},
   "outputs": [
    {
     "name": "stdout",
     "output_type": "stream",
     "text": [
      "(3045, 66)\n",
      "ExtraTreesClassifier Cross-Validation Accuracy: 0.5339 +/- 0.0981\n",
      "ExtraTreesClassifier Cross-Validation Precision: 0.5431 +/- 0.1035\n",
      "ExtraTreesClassifier Cross-Validation Recall: 0.5540 +/- 0.1358\n",
      "ExtraTreesClassifier Cross-Validation F1-Score: 0.5126 +/- 0.1112\n"
     ]
    },
    {
     "name": "stderr",
     "output_type": "stream",
     "text": [
      "/home/eddie/.local/lib/python3.10/site-packages/sklearn/metrics/_classification.py:1509: UndefinedMetricWarning: Recall is ill-defined and being set to 0.0 in labels with no true samples. Use `zero_division` parameter to control this behavior.\n",
      "  _warn_prf(average, modifier, f\"{metric.capitalize()} is\", len(result))\n"
     ]
    }
   ],
   "source": [
    "midpoints = [(start + end) / 2 for start, end in ranges]\n",
    "central_areas = df[df['WaveNumber'].apply(lambda x: any(midpoint - 0.34165 <= x <= midpoint + 0.34165 for midpoint in midpoints))]\n",
    "#central_areas = df[df['WaveNumber'].apply(lambda x: any(midpoint - 1 <= x <= midpoint + 1 for midpoint in midpoints))]\n",
    "\n",
    "central_areas\n",
    "wavelength_df = prepare_wavelength_df(central_areas, 'Absorbance')\n",
    "print(wavelength_df.shape)\n",
    "evaluate_model(wavelength_df, et)"
   ]
  }
 ],
 "metadata": {
  "kernelspec": {
   "display_name": "Python 3",
   "language": "python",
   "name": "python3"
  },
  "language_info": {
   "codemirror_mode": {
    "name": "ipython",
    "version": 3
   },
   "file_extension": ".py",
   "mimetype": "text/x-python",
   "name": "python",
   "nbconvert_exporter": "python",
   "pygments_lexer": "ipython3",
   "version": "3.10.12"
  }
 },
 "nbformat": 4,
 "nbformat_minor": 2
}
