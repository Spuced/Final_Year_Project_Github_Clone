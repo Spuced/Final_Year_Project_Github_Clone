{
 "cells": [
  {
   "cell_type": "markdown",
   "metadata": {},
   "source": [
    "#### **This Notebook Evaluates the Optimum Cleaning and Model Parameters.**"
   ]
  },
  {
   "cell_type": "markdown",
   "metadata": {},
   "source": [
    "The parameters were tuned using Optuna to maximise **accuracy**."
   ]
  },
  {
   "cell_type": "markdown",
   "metadata": {},
   "source": [
    "Import Libraries"
   ]
  },
  {
   "cell_type": "code",
   "execution_count": 1,
   "metadata": {},
   "outputs": [],
   "source": [
    "import sys\n",
    "sys.path.append('..')  # Adds the parent directory to the path so Python can find the `Cleaning_and_Evaluation` package\n",
    "from Cleaning_and_Evaluation import *\n",
    "import pandas as pd\n",
    "import numpy as np\n",
    "from sklearn.ensemble import ExtraTreesClassifier\n",
    "from sklearn.ensemble import RandomForestClassifier\n",
    "from sklearn.svm import SVC\n",
    "from sklearn.model_selection import cross_val_score\n",
    "from sklearn.model_selection import GroupKFold, cross_validate\n",
    "import seaborn as sns\n",
    "import matplotlib.pyplot as plt\n",
    "from sklearn.metrics import accuracy_score, precision_recall_fscore_support\n",
    "from sklearn.metrics import classification_report"
   ]
  },
  {
   "cell_type": "markdown",
   "metadata": {},
   "source": [
    "Read the spectral data"
   ]
  },
  {
   "cell_type": "markdown",
   "metadata": {},
   "source": [
    "You will need to run [PageRank_Filter_Before_Clean.ipynb](../Outlier_Detection/PageRank_Filter_Before_Clean.ipynb) if you haven't already to create this file."
   ]
  },
  {
   "cell_type": "code",
   "execution_count": 2,
   "metadata": {},
   "outputs": [
    {
     "data": {
      "text/html": [
       "<div>\n",
       "<style scoped>\n",
       "    .dataframe tbody tr th:only-of-type {\n",
       "        vertical-align: middle;\n",
       "    }\n",
       "\n",
       "    .dataframe tbody tr th {\n",
       "        vertical-align: top;\n",
       "    }\n",
       "\n",
       "    .dataframe thead th {\n",
       "        text-align: right;\n",
       "    }\n",
       "</style>\n",
       "<table border=\"1\" class=\"dataframe\">\n",
       "  <thead>\n",
       "    <tr style=\"text-align: right;\">\n",
       "      <th></th>\n",
       "      <th>SpecID</th>\n",
       "      <th>Seq</th>\n",
       "      <th>WaveNumber</th>\n",
       "      <th>Absorbance</th>\n",
       "      <th>SurID</th>\n",
       "      <th>Status</th>\n",
       "      <th>PageRank</th>\n",
       "    </tr>\n",
       "  </thead>\n",
       "  <tbody>\n",
       "    <tr>\n",
       "      <th>0</th>\n",
       "      <td>201210-1-00</td>\n",
       "      <td>293</td>\n",
       "      <td>400.22778</td>\n",
       "      <td>1765.6628</td>\n",
       "      <td>201210-1</td>\n",
       "      <td>Normal</td>\n",
       "      <td>0.610024</td>\n",
       "    </tr>\n",
       "    <tr>\n",
       "      <th>1</th>\n",
       "      <td>201210-1-00</td>\n",
       "      <td>294</td>\n",
       "      <td>400.91116</td>\n",
       "      <td>1774.7809</td>\n",
       "      <td>201210-1</td>\n",
       "      <td>Normal</td>\n",
       "      <td>0.610024</td>\n",
       "    </tr>\n",
       "    <tr>\n",
       "      <th>2</th>\n",
       "      <td>201210-1-00</td>\n",
       "      <td>295</td>\n",
       "      <td>401.59454</td>\n",
       "      <td>1769.0302</td>\n",
       "      <td>201210-1</td>\n",
       "      <td>Normal</td>\n",
       "      <td>0.610024</td>\n",
       "    </tr>\n",
       "    <tr>\n",
       "      <th>3</th>\n",
       "      <td>201210-1-00</td>\n",
       "      <td>296</td>\n",
       "      <td>402.27789</td>\n",
       "      <td>1756.4220</td>\n",
       "      <td>201210-1</td>\n",
       "      <td>Normal</td>\n",
       "      <td>0.610024</td>\n",
       "    </tr>\n",
       "    <tr>\n",
       "      <th>4</th>\n",
       "      <td>201210-1-00</td>\n",
       "      <td>297</td>\n",
       "      <td>402.96127</td>\n",
       "      <td>1758.8690</td>\n",
       "      <td>201210-1</td>\n",
       "      <td>Normal</td>\n",
       "      <td>0.610024</td>\n",
       "    </tr>\n",
       "    <tr>\n",
       "      <th>...</th>\n",
       "      <td>...</td>\n",
       "      <td>...</td>\n",
       "      <td>...</td>\n",
       "      <td>...</td>\n",
       "      <td>...</td>\n",
       "      <td>...</td>\n",
       "      <td>...</td>\n",
       "    </tr>\n",
       "    <tr>\n",
       "      <th>6239200</th>\n",
       "      <td>210526-3-09</td>\n",
       "      <td>2337</td>\n",
       "      <td>1797.03870</td>\n",
       "      <td>1617.3926</td>\n",
       "      <td>210526-3</td>\n",
       "      <td>Hyperglycemia</td>\n",
       "      <td>1.201164</td>\n",
       "    </tr>\n",
       "    <tr>\n",
       "      <th>6239201</th>\n",
       "      <td>210526-3-09</td>\n",
       "      <td>2338</td>\n",
       "      <td>1797.72200</td>\n",
       "      <td>1633.0911</td>\n",
       "      <td>210526-3</td>\n",
       "      <td>Hyperglycemia</td>\n",
       "      <td>1.201164</td>\n",
       "    </tr>\n",
       "    <tr>\n",
       "      <th>6239202</th>\n",
       "      <td>210526-3-09</td>\n",
       "      <td>2339</td>\n",
       "      <td>1798.40550</td>\n",
       "      <td>1633.3076</td>\n",
       "      <td>210526-3</td>\n",
       "      <td>Hyperglycemia</td>\n",
       "      <td>1.201164</td>\n",
       "    </tr>\n",
       "    <tr>\n",
       "      <th>6239203</th>\n",
       "      <td>210526-3-09</td>\n",
       "      <td>2340</td>\n",
       "      <td>1799.08890</td>\n",
       "      <td>1641.8665</td>\n",
       "      <td>210526-3</td>\n",
       "      <td>Hyperglycemia</td>\n",
       "      <td>1.201164</td>\n",
       "    </tr>\n",
       "    <tr>\n",
       "      <th>6239204</th>\n",
       "      <td>210526-3-09</td>\n",
       "      <td>2341</td>\n",
       "      <td>1799.77220</td>\n",
       "      <td>1618.2405</td>\n",
       "      <td>210526-3</td>\n",
       "      <td>Hyperglycemia</td>\n",
       "      <td>1.201164</td>\n",
       "    </tr>\n",
       "  </tbody>\n",
       "</table>\n",
       "<p>6239205 rows × 7 columns</p>\n",
       "</div>"
      ],
      "text/plain": [
       "              SpecID   Seq  WaveNumber  Absorbance     SurID         Status  \\\n",
       "0        201210-1-00   293   400.22778   1765.6628  201210-1         Normal   \n",
       "1        201210-1-00   294   400.91116   1774.7809  201210-1         Normal   \n",
       "2        201210-1-00   295   401.59454   1769.0302  201210-1         Normal   \n",
       "3        201210-1-00   296   402.27789   1756.4220  201210-1         Normal   \n",
       "4        201210-1-00   297   402.96127   1758.8690  201210-1         Normal   \n",
       "...              ...   ...         ...         ...       ...            ...   \n",
       "6239200  210526-3-09  2337  1797.03870   1617.3926  210526-3  Hyperglycemia   \n",
       "6239201  210526-3-09  2338  1797.72200   1633.0911  210526-3  Hyperglycemia   \n",
       "6239202  210526-3-09  2339  1798.40550   1633.3076  210526-3  Hyperglycemia   \n",
       "6239203  210526-3-09  2340  1799.08890   1641.8665  210526-3  Hyperglycemia   \n",
       "6239204  210526-3-09  2341  1799.77220   1618.2405  210526-3  Hyperglycemia   \n",
       "\n",
       "         PageRank  \n",
       "0        0.610024  \n",
       "1        0.610024  \n",
       "2        0.610024  \n",
       "3        0.610024  \n",
       "4        0.610024  \n",
       "...           ...  \n",
       "6239200  1.201164  \n",
       "6239201  1.201164  \n",
       "6239202  1.201164  \n",
       "6239203  1.201164  \n",
       "6239204  1.201164  \n",
       "\n",
       "[6239205 rows x 7 columns]"
      ]
     },
     "execution_count": 2,
     "metadata": {},
     "output_type": "execute_result"
    }
   ],
   "source": [
    "df = pd.read_csv(\"../data/400-1800_with_raw_scaled_surface_pagerank.csv\")\n",
    "df"
   ]
  },
  {
   "cell_type": "markdown",
   "metadata": {},
   "source": [
    ">##### **Select the parameters found by Optuna then clean the spectra**"
   ]
  },
  {
   "cell_type": "markdown",
   "metadata": {},
   "source": [
    "The spectra before cleaning."
   ]
  },
  {
   "cell_type": "code",
   "execution_count": 3,
   "metadata": {},
   "outputs": [
    {
     "data": {
      "text/plain": [
       "<Axes: xlabel='WaveNumber', ylabel='Absorbance'>"
      ]
     },
     "execution_count": 3,
     "metadata": {},
     "output_type": "execute_result"
    },
    {
     "data": {
      "image/png": "[encoded data removed]",
      "text/plain": [
       "<Figure size 640x480 with 1 Axes>"
      ]
     },
     "metadata": {},
     "output_type": "display_data"
    }
   ],
   "source": [
    "sample = df[df['SpecID'] == \"201210-2-08\"]\n",
    "sns.set_style('whitegrid')\n",
    "sns.lineplot(x=\"WaveNumber\", y=\"Absorbance\", data=sample)"
   ]
  },
  {
   "cell_type": "code",
   "execution_count": 4,
   "metadata": {},
   "outputs": [
    {
     "data": {
      "text/html": [
       "<div>\n",
       "<style scoped>\n",
       "    .dataframe tbody tr th:only-of-type {\n",
       "        vertical-align: middle;\n",
       "    }\n",
       "\n",
       "    .dataframe tbody tr th {\n",
       "        vertical-align: top;\n",
       "    }\n",
       "\n",
       "    .dataframe thead th {\n",
       "        text-align: right;\n",
       "    }\n",
       "</style>\n",
       "<table border=\"1\" class=\"dataframe\">\n",
       "  <thead>\n",
       "    <tr style=\"text-align: right;\">\n",
       "      <th></th>\n",
       "      <th>SpecID</th>\n",
       "      <th>Seq</th>\n",
       "      <th>WaveNumber</th>\n",
       "      <th>Absorbance</th>\n",
       "      <th>SurID</th>\n",
       "      <th>Status</th>\n",
       "      <th>PageRank</th>\n",
       "    </tr>\n",
       "  </thead>\n",
       "  <tbody>\n",
       "    <tr>\n",
       "      <th>0</th>\n",
       "      <td>201210-1-00</td>\n",
       "      <td>293</td>\n",
       "      <td>400.22778</td>\n",
       "      <td>36.490339</td>\n",
       "      <td>201210-1</td>\n",
       "      <td>Normal</td>\n",
       "      <td>0.610024</td>\n",
       "    </tr>\n",
       "    <tr>\n",
       "      <th>1</th>\n",
       "      <td>201210-1-00</td>\n",
       "      <td>294</td>\n",
       "      <td>400.91116</td>\n",
       "      <td>35.119014</td>\n",
       "      <td>201210-1</td>\n",
       "      <td>Normal</td>\n",
       "      <td>0.610024</td>\n",
       "    </tr>\n",
       "    <tr>\n",
       "      <th>2</th>\n",
       "      <td>201210-1-00</td>\n",
       "      <td>295</td>\n",
       "      <td>401.59454</td>\n",
       "      <td>33.947854</td>\n",
       "      <td>201210-1</td>\n",
       "      <td>Normal</td>\n",
       "      <td>0.610024</td>\n",
       "    </tr>\n",
       "    <tr>\n",
       "      <th>3</th>\n",
       "      <td>201210-1-00</td>\n",
       "      <td>296</td>\n",
       "      <td>402.27789</td>\n",
       "      <td>32.961051</td>\n",
       "      <td>201210-1</td>\n",
       "      <td>Normal</td>\n",
       "      <td>0.610024</td>\n",
       "    </tr>\n",
       "    <tr>\n",
       "      <th>4</th>\n",
       "      <td>201210-1-00</td>\n",
       "      <td>297</td>\n",
       "      <td>402.96127</td>\n",
       "      <td>32.143334</td>\n",
       "      <td>201210-1</td>\n",
       "      <td>Normal</td>\n",
       "      <td>0.610024</td>\n",
       "    </tr>\n",
       "    <tr>\n",
       "      <th>...</th>\n",
       "      <td>...</td>\n",
       "      <td>...</td>\n",
       "      <td>...</td>\n",
       "      <td>...</td>\n",
       "      <td>...</td>\n",
       "      <td>...</td>\n",
       "      <td>...</td>\n",
       "    </tr>\n",
       "    <tr>\n",
       "      <th>6239200</th>\n",
       "      <td>210526-3-09</td>\n",
       "      <td>2337</td>\n",
       "      <td>1797.03870</td>\n",
       "      <td>-17.038161</td>\n",
       "      <td>210526-3</td>\n",
       "      <td>Hyperglycemia</td>\n",
       "      <td>1.201164</td>\n",
       "    </tr>\n",
       "    <tr>\n",
       "      <th>6239201</th>\n",
       "      <td>210526-3-09</td>\n",
       "      <td>2338</td>\n",
       "      <td>1797.72200</td>\n",
       "      <td>-16.500093</td>\n",
       "      <td>210526-3</td>\n",
       "      <td>Hyperglycemia</td>\n",
       "      <td>1.201164</td>\n",
       "    </tr>\n",
       "    <tr>\n",
       "      <th>6239202</th>\n",
       "      <td>210526-3-09</td>\n",
       "      <td>2339</td>\n",
       "      <td>1798.40550</td>\n",
       "      <td>-15.983615</td>\n",
       "      <td>210526-3</td>\n",
       "      <td>Hyperglycemia</td>\n",
       "      <td>1.201164</td>\n",
       "    </tr>\n",
       "    <tr>\n",
       "      <th>6239203</th>\n",
       "      <td>210526-3-09</td>\n",
       "      <td>2340</td>\n",
       "      <td>1799.08890</td>\n",
       "      <td>-15.494236</td>\n",
       "      <td>210526-3</td>\n",
       "      <td>Hyperglycemia</td>\n",
       "      <td>1.201164</td>\n",
       "    </tr>\n",
       "    <tr>\n",
       "      <th>6239204</th>\n",
       "      <td>210526-3-09</td>\n",
       "      <td>2341</td>\n",
       "      <td>1799.77220</td>\n",
       "      <td>-15.037687</td>\n",
       "      <td>210526-3</td>\n",
       "      <td>Hyperglycemia</td>\n",
       "      <td>1.201164</td>\n",
       "    </tr>\n",
       "  </tbody>\n",
       "</table>\n",
       "<p>6239205 rows × 7 columns</p>\n",
       "</div>"
      ],
      "text/plain": [
       "              SpecID   Seq  WaveNumber  Absorbance     SurID         Status  \\\n",
       "0        201210-1-00   293   400.22778   36.490339  201210-1         Normal   \n",
       "1        201210-1-00   294   400.91116   35.119014  201210-1         Normal   \n",
       "2        201210-1-00   295   401.59454   33.947854  201210-1         Normal   \n",
       "3        201210-1-00   296   402.27789   32.961051  201210-1         Normal   \n",
       "4        201210-1-00   297   402.96127   32.143334  201210-1         Normal   \n",
       "...              ...   ...         ...         ...       ...            ...   \n",
       "6239200  210526-3-09  2337  1797.03870  -17.038161  210526-3  Hyperglycemia   \n",
       "6239201  210526-3-09  2338  1797.72200  -16.500093  210526-3  Hyperglycemia   \n",
       "6239202  210526-3-09  2339  1798.40550  -15.983615  210526-3  Hyperglycemia   \n",
       "6239203  210526-3-09  2340  1799.08890  -15.494236  210526-3  Hyperglycemia   \n",
       "6239204  210526-3-09  2341  1799.77220  -15.037687  210526-3  Hyperglycemia   \n",
       "\n",
       "         PageRank  \n",
       "0        0.610024  \n",
       "1        0.610024  \n",
       "2        0.610024  \n",
       "3        0.610024  \n",
       "4        0.610024  \n",
       "...           ...  \n",
       "6239200  1.201164  \n",
       "6239201  1.201164  \n",
       "6239202  1.201164  \n",
       "6239203  1.201164  \n",
       "6239204  1.201164  \n",
       "\n",
       "[6239205 rows x 7 columns]"
      ]
     },
     "execution_count": 4,
     "metadata": {},
     "output_type": "execute_result"
    }
   ],
   "source": [
    "# Optuna parameters\n",
    "\n",
    "cleaning_params = {\n",
    "    'despike': True,\n",
    "    'baseline_correct': True,\n",
    "    'smoothing': True,\n",
    "    'scaling': False,\n",
    "    'despike_ma': 31,\n",
    "    'despike_threshold': 9.9,\n",
    "    'lam': 10**9,\n",
    "    'p': 0.045,\n",
    "    'window_size': 70,\n",
    "    'poly_order': 4\n",
    "}\n",
    "\n",
    "# Model Parameters\n",
    "model = RandomForestClassifier(random_state=1234, criterion='gini', max_depth=27, n_estimators=91)\n",
    "\n",
    "spectra_cleaning(df, **cleaning_params)\n",
    "\n",
    "df"
   ]
  },
  {
   "cell_type": "markdown",
   "metadata": {},
   "source": [
    "The spectra after cleaning."
   ]
  },
  {
   "cell_type": "code",
   "execution_count": 5,
   "metadata": {},
   "outputs": [
    {
     "data": {
      "text/plain": [
       "<Axes: xlabel='WaveNumber', ylabel='Absorbance'>"
      ]
     },
     "execution_count": 5,
     "metadata": {},
     "output_type": "execute_result"
    },
    {
     "data": {
      "image/png": "[encoded data removed]",
      "text/plain": [
       "<Figure size 640x480 with 1 Axes>"
      ]
     },
     "metadata": {},
     "output_type": "display_data"
    }
   ],
   "source": [
    "sample = df[df['SpecID'] == \"201210-2-08\"]\n",
    "sns.set_style('whitegrid')\n",
    "sns.lineplot(x=\"WaveNumber\", y=\"Absorbance\", data=sample)"
   ]
  },
  {
   "cell_type": "markdown",
   "metadata": {},
   "source": [
    "---"
   ]
  },
  {
   "cell_type": "markdown",
   "metadata": {},
   "source": [
    ">##### **Dataset Description**"
   ]
  },
  {
   "cell_type": "code",
   "execution_count": 6,
   "metadata": {},
   "outputs": [
    {
     "name": "stdout",
     "output_type": "stream",
     "text": [
      "Number of Samples: 3045\n"
     ]
    }
   ],
   "source": [
    "print(f\"Number of Samples: {len(df.groupby('SpecID'))}\")"
   ]
  },
  {
   "cell_type": "code",
   "execution_count": 7,
   "metadata": {},
   "outputs": [
    {
     "name": "stdout",
     "output_type": "stream",
     "text": [
      "Number of Samples by Status\n"
     ]
    },
    {
     "data": {
      "text/plain": [
       "Status\n",
       "Hyperglycemia     915\n",
       "Hypoglycemia     1065\n",
       "Normal           1065\n",
       "Name: SpecID, dtype: int64"
      ]
     },
     "execution_count": 7,
     "metadata": {},
     "output_type": "execute_result"
    }
   ],
   "source": [
    "print(\"Number of Samples by Status\")\n",
    "df.groupby('Status')['SpecID'].nunique()"
   ]
  },
  {
   "cell_type": "code",
   "execution_count": 8,
   "metadata": {},
   "outputs": [
    {
     "name": "stdout",
     "output_type": "stream",
     "text": [
      "Number of Surfaces by Status\n"
     ]
    },
    {
     "data": {
      "text/plain": [
       "Status\n",
       "Hyperglycemia    19\n",
       "Hypoglycemia     22\n",
       "Normal           22\n",
       "Name: SurID, dtype: int64"
      ]
     },
     "execution_count": 8,
     "metadata": {},
     "output_type": "execute_result"
    }
   ],
   "source": [
    "print(\"Number of Surfaces by Status\")\n",
    "df.groupby('Status')['SurID'].nunique()"
   ]
  },
  {
   "cell_type": "markdown",
   "metadata": {},
   "source": [
    "---"
   ]
  },
  {
   "cell_type": "markdown",
   "metadata": {},
   "source": [
    ">##### **Evaluate the Model**"
   ]
  },
  {
   "cell_type": "code",
   "execution_count": 9,
   "metadata": {},
   "outputs": [],
   "source": [
    "def evaluate_model(df, model):\n",
    "\n",
    "    # Set the Surfaces as groups\n",
    "    groups = df['SurID']\n",
    "    X = df.drop(['Status', 'SurID'], axis=1)\n",
    "    y = df['Status']\n",
    "    \n",
    "    # Using GroupKFold for classification tasks\n",
    "    cv = GroupKFold(n_splits=10)\n",
    "\n",
    "    # Cross Validate\n",
    "    scores = cross_validate(model, X, y, groups=groups, cv=cv, scoring=['accuracy', 'precision_macro', 'recall_macro', 'f1_macro'], n_jobs=-1)\n",
    "\n",
    "    # Displaying the results\n",
    "    print(f\"{model.__class__.__name__} Cross-Validation Accuracy: {np.mean(scores['test_accuracy']):.4f} +/- {np.std(scores['test_accuracy']):.4f}\")\n",
    "    print(f\"{model.__class__.__name__} Cross-Validation Precision: {np.mean(scores['test_precision_macro']):.4f} +/- {np.std(scores['test_precision_macro']):.4f}\")\n",
    "    print(f\"{model.__class__.__name__} Cross-Validation Recall: {np.mean(scores['test_recall_macro']):.4f} +/- {np.std(scores['test_recall_macro']):.4f}\")\n",
    "    print(f\"{model.__class__.__name__} Cross-Validation F1-Score: {np.mean(scores['test_f1_macro']):.4f} +/- {np.std(scores['test_f1_macro']):.4f}\")"
   ]
  },
  {
   "cell_type": "code",
   "execution_count": 10,
   "metadata": {},
   "outputs": [
    {
     "name": "stderr",
     "output_type": "stream",
     "text": [
      "/home/eddie/.local/lib/python3.10/site-packages/sklearn/metrics/_classification.py:1509: UndefinedMetricWarning: Recall is ill-defined and being set to 0.0 in labels with no true samples. Use `zero_division` parameter to control this behavior.\n",
      "  _warn_prf(average, modifier, f\"{metric.capitalize()} is\", len(result))\n"
     ]
    },
    {
     "name": "stdout",
     "output_type": "stream",
     "text": [
      "RandomForestClassifier Cross-Validation Accuracy: 0.6352 +/- 0.1029\n",
      "RandomForestClassifier Cross-Validation Precision: 0.6410 +/- 0.0951\n",
      "RandomForestClassifier Cross-Validation Recall: 0.6481 +/- 0.1324\n",
      "RandomForestClassifier Cross-Validation F1-Score: 0.6207 +/- 0.1167\n"
     ]
    }
   ],
   "source": [
    "wavelength_df = prepare_wavelength_df(df, 'Absorbance')\n",
    "\n",
    "evaluate_model(wavelength_df, model)"
   ]
  },
  {
   "cell_type": "markdown",
   "metadata": {},
   "source": [
    "---"
   ]
  },
  {
   "cell_type": "markdown",
   "metadata": {},
   "source": [
    ">##### **Evaluate the Model by Class**"
   ]
  },
  {
   "cell_type": "code",
   "execution_count": 11,
   "metadata": {},
   "outputs": [],
   "source": [
    "def evaluate_model_by_class(df, model):\n",
    "    groups = df['SurID']\n",
    "    X = df.drop(['Status', 'SurID'], axis=1)\n",
    "    y = df['Status']\n",
    "    \n",
    "    # Get unique class names\n",
    "    class_names = y.unique()\n",
    "    \n",
    "    cv = GroupKFold(n_splits=10)\n",
    "\n",
    "    # Lists to store the metrics by class\n",
    "    accuracies = []\n",
    "    precisions = [[] for _ in class_names]\n",
    "    recalls = [[] for _ in class_names]\n",
    "    f1_scores = [[] for _ in class_names]\n",
    "\n",
    "    # Iterate over the splits\n",
    "    for train_idx, test_idx in cv.split(X, y, groups):\n",
    "        X_train, X_test = X.iloc[train_idx], X.iloc[test_idx]\n",
    "        y_train, y_test = y.iloc[train_idx], y.iloc[test_idx]\n",
    "        \n",
    "        model.fit(X_train, y_train)\n",
    "        y_pred = model.predict(X_test)\n",
    "\n",
    "        accuracies.append(accuracy_score(y_test, y_pred))\n",
    "        precision, recall, f1, _ = precision_recall_fscore_support(y_test, y_pred, zero_division=0, labels=class_names)\n",
    "        for i, (p, r, f) in enumerate(zip(precision, recall, f1)):\n",
    "            precisions[i].append(p)\n",
    "            recalls[i].append(r)\n",
    "            f1_scores[i].append(f)\n",
    "\n",
    "    print(f\"{model.__class__.__name__} Cross-Validation Accuracy: {np.mean(accuracies):.4f} +/- {np.std(accuracies):.4f}\\n\")\n",
    "    for i, class_name in enumerate(class_names):\n",
    "        print(f\"{class_name} Precision: {np.mean(precisions[i]):.4f} +/- {np.std(precisions[i]):.4f}\")\n",
    "        print(f\"{class_name} Recall: {np.mean(recalls[i]):.4f} +/- {np.std(recalls[i]):.4f}\")\n",
    "        print(f\"{class_name} F1-Score: {np.mean(f1_scores[i]):.4f} +/- {np.std(f1_scores[i]):.4f}\\n\")"
   ]
  },
  {
   "cell_type": "code",
   "execution_count": 12,
   "metadata": {},
   "outputs": [
    {
     "name": "stdout",
     "output_type": "stream",
     "text": [
      "RandomForestClassifier Cross-Validation Accuracy: 0.6352 +/- 0.1029\n",
      "\n",
      "Normal Precision: 0.6061 +/- 0.2590\n",
      "Normal Recall: 0.5979 +/- 0.2508\n",
      "Normal F1-Score: 0.5771 +/- 0.2250\n",
      "\n",
      "Hyperglycemia Precision: 0.6288 +/- 0.1562\n",
      "Hyperglycemia Recall: 0.6476 +/- 0.1470\n",
      "Hyperglycemia F1-Score: 0.6192 +/- 0.1202\n",
      "\n",
      "Hypoglycemia Precision: 0.6881 +/- 0.1558\n",
      "Hypoglycemia Recall: 0.6989 +/- 0.1644\n",
      "Hypoglycemia F1-Score: 0.6659 +/- 0.0966\n",
      "\n"
     ]
    }
   ],
   "source": [
    "evaluate_model_by_class(wavelength_df, model)"
   ]
  },
  {
   "cell_type": "markdown",
   "metadata": {},
   "source": [
    "---"
   ]
  },
  {
   "cell_type": "markdown",
   "metadata": {},
   "source": [
    ">##### **Use Spectra Predictions to Predict the Surface**"
   ]
  },
  {
   "cell_type": "markdown",
   "metadata": {},
   "source": [
    "A Surface is classified as the most predicted status of its samples."
   ]
  },
  {
   "cell_type": "code",
   "execution_count": 13,
   "metadata": {},
   "outputs": [],
   "source": [
    "def evaluate_and_predict_surface_status(df, model):\n",
    "    \n",
    "    # Set the Surfaces as groups\n",
    "    groups = df['SurID']\n",
    "    X = df.drop(['Status', 'SurID'], axis=1)\n",
    "    y = df['Status']\n",
    "    \n",
    "    # Using GroupKFold for classification tasks\n",
    "    cv = GroupKFold(n_splits=10)\n",
    "    \n",
    "    # DataFrame to store the actual and predicted status for each spectrum\n",
    "    predictions_df = pd.DataFrame(columns=['SurID', 'ActualStatus', 'PredictedStatus'])\n",
    "\n",
    "    # Iterating over each fold\n",
    "    for train_index, test_index in cv.split(X, y, groups=groups):\n",
    "        # Splitting the dataset into the current train and test set\n",
    "        X_train, X_test = X.iloc[train_index], X.iloc[test_index]\n",
    "        y_train, y_test = y.iloc[train_index], y.iloc[test_index]\n",
    "        groups_test = groups.iloc[test_index]\n",
    "        \n",
    "        # Fitting the model on the training set\n",
    "        model.fit(X_train, y_train)\n",
    "\n",
    "        # Predicting the status for the test set\n",
    "        y_pred = model.predict(X_test)\n",
    "\n",
    "        # Appending the SurID, actual, and predicted status to the predictions DataFrame\n",
    "        fold_predictions = pd.DataFrame({\n",
    "            'SurID': groups_test.values,\n",
    "            'ActualStatus': y_test.values,\n",
    "            'PredictedStatus': y_pred\n",
    "        })\n",
    "        predictions_df = pd.concat([predictions_df, fold_predictions], ignore_index=True)\n",
    "\n",
    "    # Return the most common prediction of each spectra within the surface\n",
    "    return predictions_df.groupby('SurID').agg(lambda x: x.mode()[0]).reset_index()"
   ]
  },
  {
   "cell_type": "code",
   "execution_count": 14,
   "metadata": {},
   "outputs": [
    {
     "data": {
      "text/html": [
       "<div>\n",
       "<style scoped>\n",
       "    .dataframe tbody tr th:only-of-type {\n",
       "        vertical-align: middle;\n",
       "    }\n",
       "\n",
       "    .dataframe tbody tr th {\n",
       "        vertical-align: top;\n",
       "    }\n",
       "\n",
       "    .dataframe thead th {\n",
       "        text-align: right;\n",
       "    }\n",
       "</style>\n",
       "<table border=\"1\" class=\"dataframe\">\n",
       "  <thead>\n",
       "    <tr style=\"text-align: right;\">\n",
       "      <th></th>\n",
       "      <th>SurID</th>\n",
       "      <th>ActualStatus</th>\n",
       "      <th>PredictedStatus</th>\n",
       "    </tr>\n",
       "  </thead>\n",
       "  <tbody>\n",
       "    <tr>\n",
       "      <th>0</th>\n",
       "      <td>201210-1</td>\n",
       "      <td>Normal</td>\n",
       "      <td>Hypoglycemia</td>\n",
       "    </tr>\n",
       "    <tr>\n",
       "      <th>1</th>\n",
       "      <td>201210-2</td>\n",
       "      <td>Normal</td>\n",
       "      <td>Hyperglycemia</td>\n",
       "    </tr>\n",
       "    <tr>\n",
       "      <th>2</th>\n",
       "      <td>210114-1</td>\n",
       "      <td>Normal</td>\n",
       "      <td>Normal</td>\n",
       "    </tr>\n",
       "    <tr>\n",
       "      <th>3</th>\n",
       "      <td>210114-2</td>\n",
       "      <td>Normal</td>\n",
       "      <td>Normal</td>\n",
       "    </tr>\n",
       "    <tr>\n",
       "      <th>4</th>\n",
       "      <td>210120-1</td>\n",
       "      <td>Hyperglycemia</td>\n",
       "      <td>Normal</td>\n",
       "    </tr>\n",
       "    <tr>\n",
       "      <th>...</th>\n",
       "      <td>...</td>\n",
       "      <td>...</td>\n",
       "      <td>...</td>\n",
       "    </tr>\n",
       "    <tr>\n",
       "      <th>58</th>\n",
       "      <td>210519-3</td>\n",
       "      <td>Hyperglycemia</td>\n",
       "      <td>Hyperglycemia</td>\n",
       "    </tr>\n",
       "    <tr>\n",
       "      <th>59</th>\n",
       "      <td>210524-1</td>\n",
       "      <td>Hypoglycemia</td>\n",
       "      <td>Hyperglycemia</td>\n",
       "    </tr>\n",
       "    <tr>\n",
       "      <th>60</th>\n",
       "      <td>210526-1</td>\n",
       "      <td>Hyperglycemia</td>\n",
       "      <td>Normal</td>\n",
       "    </tr>\n",
       "    <tr>\n",
       "      <th>61</th>\n",
       "      <td>210526-2</td>\n",
       "      <td>Hyperglycemia</td>\n",
       "      <td>Hyperglycemia</td>\n",
       "    </tr>\n",
       "    <tr>\n",
       "      <th>62</th>\n",
       "      <td>210526-3</td>\n",
       "      <td>Hyperglycemia</td>\n",
       "      <td>Hyperglycemia</td>\n",
       "    </tr>\n",
       "  </tbody>\n",
       "</table>\n",
       "<p>63 rows × 3 columns</p>\n",
       "</div>"
      ],
      "text/plain": [
       "       SurID   ActualStatus PredictedStatus\n",
       "0   201210-1         Normal    Hypoglycemia\n",
       "1   201210-2         Normal   Hyperglycemia\n",
       "2   210114-1         Normal          Normal\n",
       "3   210114-2         Normal          Normal\n",
       "4   210120-1  Hyperglycemia          Normal\n",
       "..       ...            ...             ...\n",
       "58  210519-3  Hyperglycemia   Hyperglycemia\n",
       "59  210524-1   Hypoglycemia   Hyperglycemia\n",
       "60  210526-1  Hyperglycemia          Normal\n",
       "61  210526-2  Hyperglycemia   Hyperglycemia\n",
       "62  210526-3  Hyperglycemia   Hyperglycemia\n",
       "\n",
       "[63 rows x 3 columns]"
      ]
     },
     "execution_count": 14,
     "metadata": {},
     "output_type": "execute_result"
    }
   ],
   "source": [
    "surface_predictions = evaluate_and_predict_surface_status(wavelength_df, model)\n",
    "surface_predictions"
   ]
  },
  {
   "cell_type": "code",
   "execution_count": 15,
   "metadata": {},
   "outputs": [
    {
     "name": "stdout",
     "output_type": "stream",
     "text": [
      "               precision    recall  f1-score   support\n",
      "\n",
      "Hyperglycemia       0.70      0.74      0.72        19\n",
      " Hypoglycemia       0.82      0.64      0.72        22\n",
      "       Normal       0.58      0.68      0.62        22\n",
      "\n",
      "     accuracy                           0.68        63\n",
      "    macro avg       0.70      0.69      0.69        63\n",
      " weighted avg       0.70      0.68      0.69        63\n",
      "\n"
     ]
    }
   ],
   "source": [
    "print(classification_report(surface_predictions['ActualStatus'], surface_predictions['PredictedStatus']))"
   ]
  }
 ],
 "metadata": {
  "kernelspec": {
   "display_name": "Python 3",
   "language": "python",
   "name": "python3"
  },
  "language_info": {
   "codemirror_mode": {
    "name": "ipython",
    "version": 3
   },
   "file_extension": ".py",
   "mimetype": "text/x-python",
   "name": "python",
   "nbconvert_exporter": "python",
   "pygments_lexer": "ipython3",
   "version": "3.10.12"
  }
 },
 "nbformat": 4,
 "nbformat_minor": 2
}
